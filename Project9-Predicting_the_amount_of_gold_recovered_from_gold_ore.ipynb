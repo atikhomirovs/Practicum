{
 "cells": [
  {
   "cell_type": "markdown",
   "metadata": {},
   "source": [
    "# Predicting the amount of gold recovered from gold ore"
   ]
  },
  {
   "cell_type": "markdown",
   "metadata": {},
   "source": [
    "In this project, we will use machine learning algorithms to develop a model that would predict the amount of gold recovered from gold ore."
   ]
  },
  {
   "cell_type": "markdown",
   "metadata": {},
   "source": [
    "# Contents\n",
    "\n",
    "* [Preparing the data]()\n",
    "* [Analysing the data]()    \n",
    "* [Building the model]()\n",
    "* [General Conclusion]()"
   ]
  },
  {
   "cell_type": "markdown",
   "metadata": {},
   "source": [
    "# Preparing the data"
   ]
  },
  {
   "cell_type": "markdown",
   "metadata": {},
   "source": [
    "First of all, will load the data and the libraries that we will use in this project."
   ]
  },
  {
   "cell_type": "code",
   "execution_count": 1,
   "metadata": {},
   "outputs": [],
   "source": [
    "# Loading all required libraries\n",
    "import pandas as pd\n",
    "import numpy as np\n",
    "from sklearn.linear_model import LinearRegression\n",
    "from sklearn.tree import DecisionTreeRegressor\n",
    "from sklearn.ensemble import RandomForestRegressor\n",
    "from sklearn.metrics import mean_absolute_error\n",
    "import matplotlib.pyplot as plt \n",
    "from sklearn.model_selection import cross_val_score\n",
    "from sklearn.metrics import make_scorer\n",
    "from sklearn.dummy import DummyRegressor"
   ]
  },
  {
   "cell_type": "code",
   "execution_count": 2,
   "metadata": {},
   "outputs": [],
   "source": [
    "# Loading the data files into DataFrame\n",
    "df_train=pd.read_csv('/datasets/gold_recovery_train.csv')\n",
    "df_test=pd.read_csv('/datasets/gold_recovery_test.csv')\n",
    "df_full=pd.read_csv('/datasets/gold_recovery_full.csv')"
   ]
  },
  {
   "cell_type": "markdown",
   "metadata": {},
   "source": [
    "We will display general data info and a sample of the data."
   ]
  },
  {
   "cell_type": "code",
   "execution_count": 3,
   "metadata": {},
   "outputs": [
    {
     "name": "stdout",
     "output_type": "stream",
     "text": [
      "<class 'pandas.core.frame.DataFrame'>\n",
      "RangeIndex: 16860 entries, 0 to 16859\n",
      "Data columns (total 87 columns):\n",
      " #   Column                                              Non-Null Count  Dtype  \n",
      "---  ------                                              --------------  -----  \n",
      " 0   date                                                16860 non-null  object \n",
      " 1   final.output.concentrate_ag                         16788 non-null  float64\n",
      " 2   final.output.concentrate_pb                         16788 non-null  float64\n",
      " 3   final.output.concentrate_sol                        16490 non-null  float64\n",
      " 4   final.output.concentrate_au                         16789 non-null  float64\n",
      " 5   final.output.recovery                               15339 non-null  float64\n",
      " 6   final.output.tail_ag                                16794 non-null  float64\n",
      " 7   final.output.tail_pb                                16677 non-null  float64\n",
      " 8   final.output.tail_sol                               16715 non-null  float64\n",
      " 9   final.output.tail_au                                16794 non-null  float64\n",
      " 10  primary_cleaner.input.sulfate                       15553 non-null  float64\n",
      " 11  primary_cleaner.input.depressant                    15598 non-null  float64\n",
      " 12  primary_cleaner.input.feed_size                     16860 non-null  float64\n",
      " 13  primary_cleaner.input.xanthate                      15875 non-null  float64\n",
      " 14  primary_cleaner.output.concentrate_ag               16778 non-null  float64\n",
      " 15  primary_cleaner.output.concentrate_pb               16502 non-null  float64\n",
      " 16  primary_cleaner.output.concentrate_sol              16224 non-null  float64\n",
      " 17  primary_cleaner.output.concentrate_au               16778 non-null  float64\n",
      " 18  primary_cleaner.output.tail_ag                      16777 non-null  float64\n",
      " 19  primary_cleaner.output.tail_pb                      16761 non-null  float64\n",
      " 20  primary_cleaner.output.tail_sol                     16579 non-null  float64\n",
      " 21  primary_cleaner.output.tail_au                      16777 non-null  float64\n",
      " 22  primary_cleaner.state.floatbank8_a_air              16820 non-null  float64\n",
      " 23  primary_cleaner.state.floatbank8_a_level            16827 non-null  float64\n",
      " 24  primary_cleaner.state.floatbank8_b_air              16820 non-null  float64\n",
      " 25  primary_cleaner.state.floatbank8_b_level            16833 non-null  float64\n",
      " 26  primary_cleaner.state.floatbank8_c_air              16822 non-null  float64\n",
      " 27  primary_cleaner.state.floatbank8_c_level            16833 non-null  float64\n",
      " 28  primary_cleaner.state.floatbank8_d_air              16821 non-null  float64\n",
      " 29  primary_cleaner.state.floatbank8_d_level            16833 non-null  float64\n",
      " 30  rougher.calculation.sulfate_to_au_concentrate       16833 non-null  float64\n",
      " 31  rougher.calculation.floatbank10_sulfate_to_au_feed  16833 non-null  float64\n",
      " 32  rougher.calculation.floatbank11_sulfate_to_au_feed  16833 non-null  float64\n",
      " 33  rougher.calculation.au_pb_ratio                     15618 non-null  float64\n",
      " 34  rougher.input.feed_ag                               16778 non-null  float64\n",
      " 35  rougher.input.feed_pb                               16632 non-null  float64\n",
      " 36  rougher.input.feed_rate                             16347 non-null  float64\n",
      " 37  rougher.input.feed_size                             16443 non-null  float64\n",
      " 38  rougher.input.feed_sol                              16568 non-null  float64\n",
      " 39  rougher.input.feed_au                               16777 non-null  float64\n",
      " 40  rougher.input.floatbank10_sulfate                   15816 non-null  float64\n",
      " 41  rougher.input.floatbank10_xanthate                  16514 non-null  float64\n",
      " 42  rougher.input.floatbank11_sulfate                   16237 non-null  float64\n",
      " 43  rougher.input.floatbank11_xanthate                  14956 non-null  float64\n",
      " 44  rougher.output.concentrate_ag                       16778 non-null  float64\n",
      " 45  rougher.output.concentrate_pb                       16778 non-null  float64\n",
      " 46  rougher.output.concentrate_sol                      16698 non-null  float64\n",
      " 47  rougher.output.concentrate_au                       16778 non-null  float64\n",
      " 48  rougher.output.recovery                             14287 non-null  float64\n",
      " 49  rougher.output.tail_ag                              14610 non-null  float64\n",
      " 50  rougher.output.tail_pb                              16778 non-null  float64\n",
      " 51  rougher.output.tail_sol                             14611 non-null  float64\n",
      " 52  rougher.output.tail_au                              14611 non-null  float64\n",
      " 53  rougher.state.floatbank10_a_air                     16807 non-null  float64\n",
      " 54  rougher.state.floatbank10_a_level                   16807 non-null  float64\n",
      " 55  rougher.state.floatbank10_b_air                     16807 non-null  float64\n",
      " 56  rougher.state.floatbank10_b_level                   16807 non-null  float64\n",
      " 57  rougher.state.floatbank10_c_air                     16807 non-null  float64\n",
      " 58  rougher.state.floatbank10_c_level                   16814 non-null  float64\n",
      " 59  rougher.state.floatbank10_d_air                     16802 non-null  float64\n",
      " 60  rougher.state.floatbank10_d_level                   16809 non-null  float64\n",
      " 61  rougher.state.floatbank10_e_air                     16257 non-null  float64\n",
      " 62  rougher.state.floatbank10_e_level                   16809 non-null  float64\n",
      " 63  rougher.state.floatbank10_f_air                     16802 non-null  float64\n",
      " 64  rougher.state.floatbank10_f_level                   16802 non-null  float64\n",
      " 65  secondary_cleaner.output.tail_ag                    16776 non-null  float64\n",
      " 66  secondary_cleaner.output.tail_pb                    16764 non-null  float64\n",
      " 67  secondary_cleaner.output.tail_sol                   14874 non-null  float64\n",
      " 68  secondary_cleaner.output.tail_au                    16778 non-null  float64\n",
      " 69  secondary_cleaner.state.floatbank2_a_air            16497 non-null  float64\n",
      " 70  secondary_cleaner.state.floatbank2_a_level          16751 non-null  float64\n",
      " 71  secondary_cleaner.state.floatbank2_b_air            16705 non-null  float64\n",
      " 72  secondary_cleaner.state.floatbank2_b_level          16748 non-null  float64\n",
      " 73  secondary_cleaner.state.floatbank3_a_air            16763 non-null  float64\n",
      " 74  secondary_cleaner.state.floatbank3_a_level          16747 non-null  float64\n",
      " 75  secondary_cleaner.state.floatbank3_b_air            16752 non-null  float64\n",
      " 76  secondary_cleaner.state.floatbank3_b_level          16750 non-null  float64\n",
      " 77  secondary_cleaner.state.floatbank4_a_air            16731 non-null  float64\n",
      " 78  secondary_cleaner.state.floatbank4_a_level          16747 non-null  float64\n",
      " 79  secondary_cleaner.state.floatbank4_b_air            16768 non-null  float64\n",
      " 80  secondary_cleaner.state.floatbank4_b_level          16767 non-null  float64\n",
      " 81  secondary_cleaner.state.floatbank5_a_air            16775 non-null  float64\n",
      " 82  secondary_cleaner.state.floatbank5_a_level          16775 non-null  float64\n",
      " 83  secondary_cleaner.state.floatbank5_b_air            16775 non-null  float64\n",
      " 84  secondary_cleaner.state.floatbank5_b_level          16776 non-null  float64\n",
      " 85  secondary_cleaner.state.floatbank6_a_air            16757 non-null  float64\n",
      " 86  secondary_cleaner.state.floatbank6_a_level          16775 non-null  float64\n",
      "dtypes: float64(86), object(1)\n",
      "memory usage: 11.2+ MB\n"
     ]
    }
   ],
   "source": [
    "# printing the general/summary information about df_train\n",
    "df_train.info()"
   ]
  },
  {
   "cell_type": "code",
   "execution_count": 4,
   "metadata": {},
   "outputs": [
    {
     "data": {
      "text/html": [
       "<div>\n",
       "<style scoped>\n",
       "    .dataframe tbody tr th:only-of-type {\n",
       "        vertical-align: middle;\n",
       "    }\n",
       "\n",
       "    .dataframe tbody tr th {\n",
       "        vertical-align: top;\n",
       "    }\n",
       "\n",
       "    .dataframe thead th {\n",
       "        text-align: right;\n",
       "    }\n",
       "</style>\n",
       "<table border=\"1\" class=\"dataframe\">\n",
       "  <thead>\n",
       "    <tr style=\"text-align: right;\">\n",
       "      <th></th>\n",
       "      <th>date</th>\n",
       "      <th>final.output.concentrate_ag</th>\n",
       "      <th>final.output.concentrate_pb</th>\n",
       "      <th>final.output.concentrate_sol</th>\n",
       "      <th>final.output.concentrate_au</th>\n",
       "      <th>final.output.recovery</th>\n",
       "      <th>final.output.tail_ag</th>\n",
       "      <th>final.output.tail_pb</th>\n",
       "      <th>final.output.tail_sol</th>\n",
       "      <th>final.output.tail_au</th>\n",
       "      <th>...</th>\n",
       "      <th>secondary_cleaner.state.floatbank4_a_air</th>\n",
       "      <th>secondary_cleaner.state.floatbank4_a_level</th>\n",
       "      <th>secondary_cleaner.state.floatbank4_b_air</th>\n",
       "      <th>secondary_cleaner.state.floatbank4_b_level</th>\n",
       "      <th>secondary_cleaner.state.floatbank5_a_air</th>\n",
       "      <th>secondary_cleaner.state.floatbank5_a_level</th>\n",
       "      <th>secondary_cleaner.state.floatbank5_b_air</th>\n",
       "      <th>secondary_cleaner.state.floatbank5_b_level</th>\n",
       "      <th>secondary_cleaner.state.floatbank6_a_air</th>\n",
       "      <th>secondary_cleaner.state.floatbank6_a_level</th>\n",
       "    </tr>\n",
       "  </thead>\n",
       "  <tbody>\n",
       "    <tr>\n",
       "      <th>0</th>\n",
       "      <td>2016-01-15 00:00:00</td>\n",
       "      <td>6.055403</td>\n",
       "      <td>9.889648</td>\n",
       "      <td>5.507324</td>\n",
       "      <td>42.192020</td>\n",
       "      <td>70.541216</td>\n",
       "      <td>10.411962</td>\n",
       "      <td>0.895447</td>\n",
       "      <td>16.904297</td>\n",
       "      <td>2.143149</td>\n",
       "      <td>...</td>\n",
       "      <td>14.016835</td>\n",
       "      <td>-502.488007</td>\n",
       "      <td>12.099931</td>\n",
       "      <td>-504.715942</td>\n",
       "      <td>9.925633</td>\n",
       "      <td>-498.310211</td>\n",
       "      <td>8.079666</td>\n",
       "      <td>-500.470978</td>\n",
       "      <td>14.151341</td>\n",
       "      <td>-605.841980</td>\n",
       "    </tr>\n",
       "    <tr>\n",
       "      <th>1</th>\n",
       "      <td>2016-01-15 01:00:00</td>\n",
       "      <td>6.029369</td>\n",
       "      <td>9.968944</td>\n",
       "      <td>5.257781</td>\n",
       "      <td>42.701629</td>\n",
       "      <td>69.266198</td>\n",
       "      <td>10.462676</td>\n",
       "      <td>0.927452</td>\n",
       "      <td>16.634514</td>\n",
       "      <td>2.224930</td>\n",
       "      <td>...</td>\n",
       "      <td>13.992281</td>\n",
       "      <td>-505.503262</td>\n",
       "      <td>11.950531</td>\n",
       "      <td>-501.331529</td>\n",
       "      <td>10.039245</td>\n",
       "      <td>-500.169983</td>\n",
       "      <td>7.984757</td>\n",
       "      <td>-500.582168</td>\n",
       "      <td>13.998353</td>\n",
       "      <td>-599.787184</td>\n",
       "    </tr>\n",
       "    <tr>\n",
       "      <th>2</th>\n",
       "      <td>2016-01-15 02:00:00</td>\n",
       "      <td>6.055926</td>\n",
       "      <td>10.213995</td>\n",
       "      <td>5.383759</td>\n",
       "      <td>42.657501</td>\n",
       "      <td>68.116445</td>\n",
       "      <td>10.507046</td>\n",
       "      <td>0.953716</td>\n",
       "      <td>16.208849</td>\n",
       "      <td>2.257889</td>\n",
       "      <td>...</td>\n",
       "      <td>14.015015</td>\n",
       "      <td>-502.520901</td>\n",
       "      <td>11.912783</td>\n",
       "      <td>-501.133383</td>\n",
       "      <td>10.070913</td>\n",
       "      <td>-500.129135</td>\n",
       "      <td>8.013877</td>\n",
       "      <td>-500.517572</td>\n",
       "      <td>14.028663</td>\n",
       "      <td>-601.427363</td>\n",
       "    </tr>\n",
       "    <tr>\n",
       "      <th>3</th>\n",
       "      <td>2016-01-15 03:00:00</td>\n",
       "      <td>6.047977</td>\n",
       "      <td>9.977019</td>\n",
       "      <td>4.858634</td>\n",
       "      <td>42.689819</td>\n",
       "      <td>68.347543</td>\n",
       "      <td>10.422762</td>\n",
       "      <td>0.883763</td>\n",
       "      <td>16.532835</td>\n",
       "      <td>2.146849</td>\n",
       "      <td>...</td>\n",
       "      <td>14.036510</td>\n",
       "      <td>-500.857308</td>\n",
       "      <td>11.999550</td>\n",
       "      <td>-501.193686</td>\n",
       "      <td>9.970366</td>\n",
       "      <td>-499.201640</td>\n",
       "      <td>7.977324</td>\n",
       "      <td>-500.255908</td>\n",
       "      <td>14.005551</td>\n",
       "      <td>-599.996129</td>\n",
       "    </tr>\n",
       "    <tr>\n",
       "      <th>4</th>\n",
       "      <td>2016-01-15 04:00:00</td>\n",
       "      <td>6.148599</td>\n",
       "      <td>10.142511</td>\n",
       "      <td>4.939416</td>\n",
       "      <td>42.774141</td>\n",
       "      <td>66.927016</td>\n",
       "      <td>10.360302</td>\n",
       "      <td>0.792826</td>\n",
       "      <td>16.525686</td>\n",
       "      <td>2.055292</td>\n",
       "      <td>...</td>\n",
       "      <td>14.027298</td>\n",
       "      <td>-499.838632</td>\n",
       "      <td>11.953070</td>\n",
       "      <td>-501.053894</td>\n",
       "      <td>9.925709</td>\n",
       "      <td>-501.686727</td>\n",
       "      <td>7.894242</td>\n",
       "      <td>-500.356035</td>\n",
       "      <td>13.996647</td>\n",
       "      <td>-601.496691</td>\n",
       "    </tr>\n",
       "    <tr>\n",
       "      <th>5</th>\n",
       "      <td>2016-01-15 05:00:00</td>\n",
       "      <td>6.482968</td>\n",
       "      <td>10.049416</td>\n",
       "      <td>5.480257</td>\n",
       "      <td>41.633678</td>\n",
       "      <td>69.465816</td>\n",
       "      <td>10.182708</td>\n",
       "      <td>0.664118</td>\n",
       "      <td>16.999638</td>\n",
       "      <td>1.918586</td>\n",
       "      <td>...</td>\n",
       "      <td>13.938497</td>\n",
       "      <td>-500.970168</td>\n",
       "      <td>11.883350</td>\n",
       "      <td>-500.395298</td>\n",
       "      <td>10.054147</td>\n",
       "      <td>-496.374715</td>\n",
       "      <td>7.965083</td>\n",
       "      <td>-499.364752</td>\n",
       "      <td>14.017067</td>\n",
       "      <td>-599.707915</td>\n",
       "    </tr>\n",
       "    <tr>\n",
       "      <th>6</th>\n",
       "      <td>2016-01-15 06:00:00</td>\n",
       "      <td>6.533849</td>\n",
       "      <td>10.058141</td>\n",
       "      <td>4.569100</td>\n",
       "      <td>41.995316</td>\n",
       "      <td>69.300835</td>\n",
       "      <td>10.304598</td>\n",
       "      <td>0.807342</td>\n",
       "      <td>16.723575</td>\n",
       "      <td>2.058913</td>\n",
       "      <td>...</td>\n",
       "      <td>14.046819</td>\n",
       "      <td>-500.971133</td>\n",
       "      <td>12.091543</td>\n",
       "      <td>-500.501426</td>\n",
       "      <td>10.003247</td>\n",
       "      <td>-497.083180</td>\n",
       "      <td>8.010890</td>\n",
       "      <td>-500.002423</td>\n",
       "      <td>14.029649</td>\n",
       "      <td>-600.905470</td>\n",
       "    </tr>\n",
       "    <tr>\n",
       "      <th>7</th>\n",
       "      <td>2016-01-15 07:00:00</td>\n",
       "      <td>6.130823</td>\n",
       "      <td>9.935481</td>\n",
       "      <td>4.389813</td>\n",
       "      <td>42.452727</td>\n",
       "      <td>70.230976</td>\n",
       "      <td>10.443288</td>\n",
       "      <td>0.949346</td>\n",
       "      <td>16.689959</td>\n",
       "      <td>2.143437</td>\n",
       "      <td>...</td>\n",
       "      <td>13.974691</td>\n",
       "      <td>-501.819696</td>\n",
       "      <td>12.101324</td>\n",
       "      <td>-500.583446</td>\n",
       "      <td>9.873169</td>\n",
       "      <td>-499.171928</td>\n",
       "      <td>7.993381</td>\n",
       "      <td>-499.794518</td>\n",
       "      <td>13.984498</td>\n",
       "      <td>-600.411070</td>\n",
       "    </tr>\n",
       "    <tr>\n",
       "      <th>8</th>\n",
       "      <td>2016-01-15 08:00:00</td>\n",
       "      <td>5.834140</td>\n",
       "      <td>10.071156</td>\n",
       "      <td>4.876389</td>\n",
       "      <td>43.404078</td>\n",
       "      <td>69.688595</td>\n",
       "      <td>10.420140</td>\n",
       "      <td>1.065453</td>\n",
       "      <td>17.201948</td>\n",
       "      <td>2.209881</td>\n",
       "      <td>...</td>\n",
       "      <td>13.964030</td>\n",
       "      <td>-504.252450</td>\n",
       "      <td>12.060738</td>\n",
       "      <td>-501.174549</td>\n",
       "      <td>10.033838</td>\n",
       "      <td>-501.178133</td>\n",
       "      <td>7.881604</td>\n",
       "      <td>-499.729434</td>\n",
       "      <td>13.967135</td>\n",
       "      <td>-599.061188</td>\n",
       "    </tr>\n",
       "    <tr>\n",
       "      <th>9</th>\n",
       "      <td>2016-01-15 09:00:00</td>\n",
       "      <td>5.687063</td>\n",
       "      <td>9.980404</td>\n",
       "      <td>5.282514</td>\n",
       "      <td>43.235220</td>\n",
       "      <td>70.279619</td>\n",
       "      <td>10.487013</td>\n",
       "      <td>1.159805</td>\n",
       "      <td>17.483979</td>\n",
       "      <td>2.209593</td>\n",
       "      <td>...</td>\n",
       "      <td>13.989632</td>\n",
       "      <td>-503.195299</td>\n",
       "      <td>12.052233</td>\n",
       "      <td>-500.928547</td>\n",
       "      <td>9.962574</td>\n",
       "      <td>-502.986357</td>\n",
       "      <td>7.979219</td>\n",
       "      <td>-500.146835</td>\n",
       "      <td>13.981614</td>\n",
       "      <td>-598.070855</td>\n",
       "    </tr>\n",
       "  </tbody>\n",
       "</table>\n",
       "<p>10 rows × 87 columns</p>\n",
       "</div>"
      ],
      "text/plain": [
       "                  date  final.output.concentrate_ag  \\\n",
       "0  2016-01-15 00:00:00                     6.055403   \n",
       "1  2016-01-15 01:00:00                     6.029369   \n",
       "2  2016-01-15 02:00:00                     6.055926   \n",
       "3  2016-01-15 03:00:00                     6.047977   \n",
       "4  2016-01-15 04:00:00                     6.148599   \n",
       "5  2016-01-15 05:00:00                     6.482968   \n",
       "6  2016-01-15 06:00:00                     6.533849   \n",
       "7  2016-01-15 07:00:00                     6.130823   \n",
       "8  2016-01-15 08:00:00                     5.834140   \n",
       "9  2016-01-15 09:00:00                     5.687063   \n",
       "\n",
       "   final.output.concentrate_pb  final.output.concentrate_sol  \\\n",
       "0                     9.889648                      5.507324   \n",
       "1                     9.968944                      5.257781   \n",
       "2                    10.213995                      5.383759   \n",
       "3                     9.977019                      4.858634   \n",
       "4                    10.142511                      4.939416   \n",
       "5                    10.049416                      5.480257   \n",
       "6                    10.058141                      4.569100   \n",
       "7                     9.935481                      4.389813   \n",
       "8                    10.071156                      4.876389   \n",
       "9                     9.980404                      5.282514   \n",
       "\n",
       "   final.output.concentrate_au  final.output.recovery  final.output.tail_ag  \\\n",
       "0                    42.192020              70.541216             10.411962   \n",
       "1                    42.701629              69.266198             10.462676   \n",
       "2                    42.657501              68.116445             10.507046   \n",
       "3                    42.689819              68.347543             10.422762   \n",
       "4                    42.774141              66.927016             10.360302   \n",
       "5                    41.633678              69.465816             10.182708   \n",
       "6                    41.995316              69.300835             10.304598   \n",
       "7                    42.452727              70.230976             10.443288   \n",
       "8                    43.404078              69.688595             10.420140   \n",
       "9                    43.235220              70.279619             10.487013   \n",
       "\n",
       "   final.output.tail_pb  final.output.tail_sol  final.output.tail_au  ...  \\\n",
       "0              0.895447              16.904297              2.143149  ...   \n",
       "1              0.927452              16.634514              2.224930  ...   \n",
       "2              0.953716              16.208849              2.257889  ...   \n",
       "3              0.883763              16.532835              2.146849  ...   \n",
       "4              0.792826              16.525686              2.055292  ...   \n",
       "5              0.664118              16.999638              1.918586  ...   \n",
       "6              0.807342              16.723575              2.058913  ...   \n",
       "7              0.949346              16.689959              2.143437  ...   \n",
       "8              1.065453              17.201948              2.209881  ...   \n",
       "9              1.159805              17.483979              2.209593  ...   \n",
       "\n",
       "   secondary_cleaner.state.floatbank4_a_air  \\\n",
       "0                                 14.016835   \n",
       "1                                 13.992281   \n",
       "2                                 14.015015   \n",
       "3                                 14.036510   \n",
       "4                                 14.027298   \n",
       "5                                 13.938497   \n",
       "6                                 14.046819   \n",
       "7                                 13.974691   \n",
       "8                                 13.964030   \n",
       "9                                 13.989632   \n",
       "\n",
       "   secondary_cleaner.state.floatbank4_a_level  \\\n",
       "0                                 -502.488007   \n",
       "1                                 -505.503262   \n",
       "2                                 -502.520901   \n",
       "3                                 -500.857308   \n",
       "4                                 -499.838632   \n",
       "5                                 -500.970168   \n",
       "6                                 -500.971133   \n",
       "7                                 -501.819696   \n",
       "8                                 -504.252450   \n",
       "9                                 -503.195299   \n",
       "\n",
       "   secondary_cleaner.state.floatbank4_b_air  \\\n",
       "0                                 12.099931   \n",
       "1                                 11.950531   \n",
       "2                                 11.912783   \n",
       "3                                 11.999550   \n",
       "4                                 11.953070   \n",
       "5                                 11.883350   \n",
       "6                                 12.091543   \n",
       "7                                 12.101324   \n",
       "8                                 12.060738   \n",
       "9                                 12.052233   \n",
       "\n",
       "   secondary_cleaner.state.floatbank4_b_level  \\\n",
       "0                                 -504.715942   \n",
       "1                                 -501.331529   \n",
       "2                                 -501.133383   \n",
       "3                                 -501.193686   \n",
       "4                                 -501.053894   \n",
       "5                                 -500.395298   \n",
       "6                                 -500.501426   \n",
       "7                                 -500.583446   \n",
       "8                                 -501.174549   \n",
       "9                                 -500.928547   \n",
       "\n",
       "   secondary_cleaner.state.floatbank5_a_air  \\\n",
       "0                                  9.925633   \n",
       "1                                 10.039245   \n",
       "2                                 10.070913   \n",
       "3                                  9.970366   \n",
       "4                                  9.925709   \n",
       "5                                 10.054147   \n",
       "6                                 10.003247   \n",
       "7                                  9.873169   \n",
       "8                                 10.033838   \n",
       "9                                  9.962574   \n",
       "\n",
       "   secondary_cleaner.state.floatbank5_a_level  \\\n",
       "0                                 -498.310211   \n",
       "1                                 -500.169983   \n",
       "2                                 -500.129135   \n",
       "3                                 -499.201640   \n",
       "4                                 -501.686727   \n",
       "5                                 -496.374715   \n",
       "6                                 -497.083180   \n",
       "7                                 -499.171928   \n",
       "8                                 -501.178133   \n",
       "9                                 -502.986357   \n",
       "\n",
       "   secondary_cleaner.state.floatbank5_b_air  \\\n",
       "0                                  8.079666   \n",
       "1                                  7.984757   \n",
       "2                                  8.013877   \n",
       "3                                  7.977324   \n",
       "4                                  7.894242   \n",
       "5                                  7.965083   \n",
       "6                                  8.010890   \n",
       "7                                  7.993381   \n",
       "8                                  7.881604   \n",
       "9                                  7.979219   \n",
       "\n",
       "   secondary_cleaner.state.floatbank5_b_level  \\\n",
       "0                                 -500.470978   \n",
       "1                                 -500.582168   \n",
       "2                                 -500.517572   \n",
       "3                                 -500.255908   \n",
       "4                                 -500.356035   \n",
       "5                                 -499.364752   \n",
       "6                                 -500.002423   \n",
       "7                                 -499.794518   \n",
       "8                                 -499.729434   \n",
       "9                                 -500.146835   \n",
       "\n",
       "   secondary_cleaner.state.floatbank6_a_air  \\\n",
       "0                                 14.151341   \n",
       "1                                 13.998353   \n",
       "2                                 14.028663   \n",
       "3                                 14.005551   \n",
       "4                                 13.996647   \n",
       "5                                 14.017067   \n",
       "6                                 14.029649   \n",
       "7                                 13.984498   \n",
       "8                                 13.967135   \n",
       "9                                 13.981614   \n",
       "\n",
       "   secondary_cleaner.state.floatbank6_a_level  \n",
       "0                                 -605.841980  \n",
       "1                                 -599.787184  \n",
       "2                                 -601.427363  \n",
       "3                                 -599.996129  \n",
       "4                                 -601.496691  \n",
       "5                                 -599.707915  \n",
       "6                                 -600.905470  \n",
       "7                                 -600.411070  \n",
       "8                                 -599.061188  \n",
       "9                                 -598.070855  \n",
       "\n",
       "[10 rows x 87 columns]"
      ]
     },
     "execution_count": 4,
     "metadata": {},
     "output_type": "execute_result"
    }
   ],
   "source": [
    "# printing a sample of data in df_train\n",
    "df_train.head(10)"
   ]
  },
  {
   "cell_type": "code",
   "execution_count": 5,
   "metadata": {},
   "outputs": [
    {
     "name": "stdout",
     "output_type": "stream",
     "text": [
      "<class 'pandas.core.frame.DataFrame'>\n",
      "RangeIndex: 5856 entries, 0 to 5855\n",
      "Data columns (total 53 columns):\n",
      " #   Column                                      Non-Null Count  Dtype  \n",
      "---  ------                                      --------------  -----  \n",
      " 0   date                                        5856 non-null   object \n",
      " 1   primary_cleaner.input.sulfate               5554 non-null   float64\n",
      " 2   primary_cleaner.input.depressant            5572 non-null   float64\n",
      " 3   primary_cleaner.input.feed_size             5856 non-null   float64\n",
      " 4   primary_cleaner.input.xanthate              5690 non-null   float64\n",
      " 5   primary_cleaner.state.floatbank8_a_air      5840 non-null   float64\n",
      " 6   primary_cleaner.state.floatbank8_a_level    5840 non-null   float64\n",
      " 7   primary_cleaner.state.floatbank8_b_air      5840 non-null   float64\n",
      " 8   primary_cleaner.state.floatbank8_b_level    5840 non-null   float64\n",
      " 9   primary_cleaner.state.floatbank8_c_air      5840 non-null   float64\n",
      " 10  primary_cleaner.state.floatbank8_c_level    5840 non-null   float64\n",
      " 11  primary_cleaner.state.floatbank8_d_air      5840 non-null   float64\n",
      " 12  primary_cleaner.state.floatbank8_d_level    5840 non-null   float64\n",
      " 13  rougher.input.feed_ag                       5840 non-null   float64\n",
      " 14  rougher.input.feed_pb                       5840 non-null   float64\n",
      " 15  rougher.input.feed_rate                     5816 non-null   float64\n",
      " 16  rougher.input.feed_size                     5834 non-null   float64\n",
      " 17  rougher.input.feed_sol                      5789 non-null   float64\n",
      " 18  rougher.input.feed_au                       5840 non-null   float64\n",
      " 19  rougher.input.floatbank10_sulfate           5599 non-null   float64\n",
      " 20  rougher.input.floatbank10_xanthate          5733 non-null   float64\n",
      " 21  rougher.input.floatbank11_sulfate           5801 non-null   float64\n",
      " 22  rougher.input.floatbank11_xanthate          5503 non-null   float64\n",
      " 23  rougher.state.floatbank10_a_air             5839 non-null   float64\n",
      " 24  rougher.state.floatbank10_a_level           5840 non-null   float64\n",
      " 25  rougher.state.floatbank10_b_air             5839 non-null   float64\n",
      " 26  rougher.state.floatbank10_b_level           5840 non-null   float64\n",
      " 27  rougher.state.floatbank10_c_air             5839 non-null   float64\n",
      " 28  rougher.state.floatbank10_c_level           5840 non-null   float64\n",
      " 29  rougher.state.floatbank10_d_air             5839 non-null   float64\n",
      " 30  rougher.state.floatbank10_d_level           5840 non-null   float64\n",
      " 31  rougher.state.floatbank10_e_air             5839 non-null   float64\n",
      " 32  rougher.state.floatbank10_e_level           5840 non-null   float64\n",
      " 33  rougher.state.floatbank10_f_air             5839 non-null   float64\n",
      " 34  rougher.state.floatbank10_f_level           5840 non-null   float64\n",
      " 35  secondary_cleaner.state.floatbank2_a_air    5836 non-null   float64\n",
      " 36  secondary_cleaner.state.floatbank2_a_level  5840 non-null   float64\n",
      " 37  secondary_cleaner.state.floatbank2_b_air    5833 non-null   float64\n",
      " 38  secondary_cleaner.state.floatbank2_b_level  5840 non-null   float64\n",
      " 39  secondary_cleaner.state.floatbank3_a_air    5822 non-null   float64\n",
      " 40  secondary_cleaner.state.floatbank3_a_level  5840 non-null   float64\n",
      " 41  secondary_cleaner.state.floatbank3_b_air    5840 non-null   float64\n",
      " 42  secondary_cleaner.state.floatbank3_b_level  5840 non-null   float64\n",
      " 43  secondary_cleaner.state.floatbank4_a_air    5840 non-null   float64\n",
      " 44  secondary_cleaner.state.floatbank4_a_level  5840 non-null   float64\n",
      " 45  secondary_cleaner.state.floatbank4_b_air    5840 non-null   float64\n",
      " 46  secondary_cleaner.state.floatbank4_b_level  5840 non-null   float64\n",
      " 47  secondary_cleaner.state.floatbank5_a_air    5840 non-null   float64\n",
      " 48  secondary_cleaner.state.floatbank5_a_level  5840 non-null   float64\n",
      " 49  secondary_cleaner.state.floatbank5_b_air    5840 non-null   float64\n",
      " 50  secondary_cleaner.state.floatbank5_b_level  5840 non-null   float64\n",
      " 51  secondary_cleaner.state.floatbank6_a_air    5840 non-null   float64\n",
      " 52  secondary_cleaner.state.floatbank6_a_level  5840 non-null   float64\n",
      "dtypes: float64(52), object(1)\n",
      "memory usage: 2.4+ MB\n"
     ]
    }
   ],
   "source": [
    "# printing the general/summary information about df_test\n",
    "df_test.info()"
   ]
  },
  {
   "cell_type": "code",
   "execution_count": 6,
   "metadata": {},
   "outputs": [
    {
     "data": {
      "text/html": [
       "<div>\n",
       "<style scoped>\n",
       "    .dataframe tbody tr th:only-of-type {\n",
       "        vertical-align: middle;\n",
       "    }\n",
       "\n",
       "    .dataframe tbody tr th {\n",
       "        vertical-align: top;\n",
       "    }\n",
       "\n",
       "    .dataframe thead th {\n",
       "        text-align: right;\n",
       "    }\n",
       "</style>\n",
       "<table border=\"1\" class=\"dataframe\">\n",
       "  <thead>\n",
       "    <tr style=\"text-align: right;\">\n",
       "      <th></th>\n",
       "      <th>date</th>\n",
       "      <th>primary_cleaner.input.sulfate</th>\n",
       "      <th>primary_cleaner.input.depressant</th>\n",
       "      <th>primary_cleaner.input.feed_size</th>\n",
       "      <th>primary_cleaner.input.xanthate</th>\n",
       "      <th>primary_cleaner.state.floatbank8_a_air</th>\n",
       "      <th>primary_cleaner.state.floatbank8_a_level</th>\n",
       "      <th>primary_cleaner.state.floatbank8_b_air</th>\n",
       "      <th>primary_cleaner.state.floatbank8_b_level</th>\n",
       "      <th>primary_cleaner.state.floatbank8_c_air</th>\n",
       "      <th>...</th>\n",
       "      <th>secondary_cleaner.state.floatbank4_a_air</th>\n",
       "      <th>secondary_cleaner.state.floatbank4_a_level</th>\n",
       "      <th>secondary_cleaner.state.floatbank4_b_air</th>\n",
       "      <th>secondary_cleaner.state.floatbank4_b_level</th>\n",
       "      <th>secondary_cleaner.state.floatbank5_a_air</th>\n",
       "      <th>secondary_cleaner.state.floatbank5_a_level</th>\n",
       "      <th>secondary_cleaner.state.floatbank5_b_air</th>\n",
       "      <th>secondary_cleaner.state.floatbank5_b_level</th>\n",
       "      <th>secondary_cleaner.state.floatbank6_a_air</th>\n",
       "      <th>secondary_cleaner.state.floatbank6_a_level</th>\n",
       "    </tr>\n",
       "  </thead>\n",
       "  <tbody>\n",
       "    <tr>\n",
       "      <th>0</th>\n",
       "      <td>2016-09-01 00:59:59</td>\n",
       "      <td>210.800909</td>\n",
       "      <td>14.993118</td>\n",
       "      <td>8.080000</td>\n",
       "      <td>1.005021</td>\n",
       "      <td>1398.981301</td>\n",
       "      <td>-500.225577</td>\n",
       "      <td>1399.144926</td>\n",
       "      <td>-499.919735</td>\n",
       "      <td>1400.102998</td>\n",
       "      <td>...</td>\n",
       "      <td>12.023554</td>\n",
       "      <td>-497.795834</td>\n",
       "      <td>8.016656</td>\n",
       "      <td>-501.289139</td>\n",
       "      <td>7.946562</td>\n",
       "      <td>-432.317850</td>\n",
       "      <td>4.872511</td>\n",
       "      <td>-500.037437</td>\n",
       "      <td>26.705889</td>\n",
       "      <td>-499.709414</td>\n",
       "    </tr>\n",
       "    <tr>\n",
       "      <th>1</th>\n",
       "      <td>2016-09-01 01:59:59</td>\n",
       "      <td>215.392455</td>\n",
       "      <td>14.987471</td>\n",
       "      <td>8.080000</td>\n",
       "      <td>0.990469</td>\n",
       "      <td>1398.777912</td>\n",
       "      <td>-500.057435</td>\n",
       "      <td>1398.055362</td>\n",
       "      <td>-499.778182</td>\n",
       "      <td>1396.151033</td>\n",
       "      <td>...</td>\n",
       "      <td>12.058140</td>\n",
       "      <td>-498.695773</td>\n",
       "      <td>8.130979</td>\n",
       "      <td>-499.634209</td>\n",
       "      <td>7.958270</td>\n",
       "      <td>-525.839648</td>\n",
       "      <td>4.878850</td>\n",
       "      <td>-500.162375</td>\n",
       "      <td>25.019940</td>\n",
       "      <td>-499.819438</td>\n",
       "    </tr>\n",
       "    <tr>\n",
       "      <th>2</th>\n",
       "      <td>2016-09-01 02:59:59</td>\n",
       "      <td>215.259946</td>\n",
       "      <td>12.884934</td>\n",
       "      <td>7.786667</td>\n",
       "      <td>0.996043</td>\n",
       "      <td>1398.493666</td>\n",
       "      <td>-500.868360</td>\n",
       "      <td>1398.860436</td>\n",
       "      <td>-499.764529</td>\n",
       "      <td>1398.075709</td>\n",
       "      <td>...</td>\n",
       "      <td>11.962366</td>\n",
       "      <td>-498.767484</td>\n",
       "      <td>8.096893</td>\n",
       "      <td>-500.827423</td>\n",
       "      <td>8.071056</td>\n",
       "      <td>-500.801673</td>\n",
       "      <td>4.905125</td>\n",
       "      <td>-499.828510</td>\n",
       "      <td>24.994862</td>\n",
       "      <td>-500.622559</td>\n",
       "    </tr>\n",
       "    <tr>\n",
       "      <th>3</th>\n",
       "      <td>2016-09-01 03:59:59</td>\n",
       "      <td>215.336236</td>\n",
       "      <td>12.006805</td>\n",
       "      <td>7.640000</td>\n",
       "      <td>0.863514</td>\n",
       "      <td>1399.618111</td>\n",
       "      <td>-498.863574</td>\n",
       "      <td>1397.440120</td>\n",
       "      <td>-499.211024</td>\n",
       "      <td>1400.129303</td>\n",
       "      <td>...</td>\n",
       "      <td>12.033091</td>\n",
       "      <td>-498.350935</td>\n",
       "      <td>8.074946</td>\n",
       "      <td>-499.474407</td>\n",
       "      <td>7.897085</td>\n",
       "      <td>-500.868509</td>\n",
       "      <td>4.931400</td>\n",
       "      <td>-499.963623</td>\n",
       "      <td>24.948919</td>\n",
       "      <td>-498.709987</td>\n",
       "    </tr>\n",
       "    <tr>\n",
       "      <th>4</th>\n",
       "      <td>2016-09-01 04:59:59</td>\n",
       "      <td>199.099327</td>\n",
       "      <td>10.682530</td>\n",
       "      <td>7.530000</td>\n",
       "      <td>0.805575</td>\n",
       "      <td>1401.268123</td>\n",
       "      <td>-500.808305</td>\n",
       "      <td>1398.128818</td>\n",
       "      <td>-499.504543</td>\n",
       "      <td>1402.172226</td>\n",
       "      <td>...</td>\n",
       "      <td>12.025367</td>\n",
       "      <td>-500.786497</td>\n",
       "      <td>8.054678</td>\n",
       "      <td>-500.397500</td>\n",
       "      <td>8.107890</td>\n",
       "      <td>-509.526725</td>\n",
       "      <td>4.957674</td>\n",
       "      <td>-500.360026</td>\n",
       "      <td>25.003331</td>\n",
       "      <td>-500.856333</td>\n",
       "    </tr>\n",
       "    <tr>\n",
       "      <th>5</th>\n",
       "      <td>2016-09-01 05:59:59</td>\n",
       "      <td>168.485085</td>\n",
       "      <td>8.817007</td>\n",
       "      <td>7.420000</td>\n",
       "      <td>0.791191</td>\n",
       "      <td>1402.826803</td>\n",
       "      <td>-499.299521</td>\n",
       "      <td>1401.511119</td>\n",
       "      <td>-499.205357</td>\n",
       "      <td>1404.088107</td>\n",
       "      <td>...</td>\n",
       "      <td>12.029797</td>\n",
       "      <td>-499.814895</td>\n",
       "      <td>8.036586</td>\n",
       "      <td>-500.371492</td>\n",
       "      <td>8.041446</td>\n",
       "      <td>-510.037054</td>\n",
       "      <td>4.983949</td>\n",
       "      <td>-499.990990</td>\n",
       "      <td>24.978973</td>\n",
       "      <td>-500.475640</td>\n",
       "    </tr>\n",
       "    <tr>\n",
       "      <th>6</th>\n",
       "      <td>2016-09-01 06:59:59</td>\n",
       "      <td>144.133440</td>\n",
       "      <td>7.924610</td>\n",
       "      <td>7.420000</td>\n",
       "      <td>0.788838</td>\n",
       "      <td>1398.252401</td>\n",
       "      <td>-499.748672</td>\n",
       "      <td>1393.255503</td>\n",
       "      <td>-499.195380</td>\n",
       "      <td>1396.738566</td>\n",
       "      <td>...</td>\n",
       "      <td>12.026296</td>\n",
       "      <td>-499.473127</td>\n",
       "      <td>8.027984</td>\n",
       "      <td>-500.983079</td>\n",
       "      <td>7.907340</td>\n",
       "      <td>-507.964971</td>\n",
       "      <td>5.010224</td>\n",
       "      <td>-500.043697</td>\n",
       "      <td>25.040709</td>\n",
       "      <td>-499.501984</td>\n",
       "    </tr>\n",
       "    <tr>\n",
       "      <th>7</th>\n",
       "      <td>2016-09-01 07:59:59</td>\n",
       "      <td>133.513396</td>\n",
       "      <td>8.055252</td>\n",
       "      <td>6.988000</td>\n",
       "      <td>0.801871</td>\n",
       "      <td>1401.669677</td>\n",
       "      <td>-501.777839</td>\n",
       "      <td>1400.754446</td>\n",
       "      <td>-502.514024</td>\n",
       "      <td>1400.465244</td>\n",
       "      <td>...</td>\n",
       "      <td>12.040911</td>\n",
       "      <td>-501.293852</td>\n",
       "      <td>8.020490</td>\n",
       "      <td>-499.185229</td>\n",
       "      <td>8.116897</td>\n",
       "      <td>-511.927561</td>\n",
       "      <td>5.036498</td>\n",
       "      <td>-500.149615</td>\n",
       "      <td>25.032580</td>\n",
       "      <td>-503.970657</td>\n",
       "    </tr>\n",
       "    <tr>\n",
       "      <th>8</th>\n",
       "      <td>2016-09-01 08:59:59</td>\n",
       "      <td>133.735356</td>\n",
       "      <td>7.999618</td>\n",
       "      <td>6.935000</td>\n",
       "      <td>0.789329</td>\n",
       "      <td>1402.358981</td>\n",
       "      <td>-499.981597</td>\n",
       "      <td>1400.985954</td>\n",
       "      <td>-496.802968</td>\n",
       "      <td>1401.168584</td>\n",
       "      <td>...</td>\n",
       "      <td>11.998184</td>\n",
       "      <td>-499.481608</td>\n",
       "      <td>8.012610</td>\n",
       "      <td>-500.896783</td>\n",
       "      <td>7.974422</td>\n",
       "      <td>-521.199104</td>\n",
       "      <td>5.061599</td>\n",
       "      <td>-499.791519</td>\n",
       "      <td>25.005063</td>\n",
       "      <td>-497.613716</td>\n",
       "    </tr>\n",
       "    <tr>\n",
       "      <th>9</th>\n",
       "      <td>2016-09-01 09:59:59</td>\n",
       "      <td>126.961069</td>\n",
       "      <td>8.017856</td>\n",
       "      <td>7.030000</td>\n",
       "      <td>0.805298</td>\n",
       "      <td>1400.816120</td>\n",
       "      <td>-499.014158</td>\n",
       "      <td>1399.975401</td>\n",
       "      <td>-499.570552</td>\n",
       "      <td>1401.871924</td>\n",
       "      <td>...</td>\n",
       "      <td>12.040725</td>\n",
       "      <td>-499.987743</td>\n",
       "      <td>7.989503</td>\n",
       "      <td>-499.750625</td>\n",
       "      <td>7.989710</td>\n",
       "      <td>-509.946737</td>\n",
       "      <td>5.068811</td>\n",
       "      <td>-499.293900</td>\n",
       "      <td>24.992741</td>\n",
       "      <td>-499.272255</td>\n",
       "    </tr>\n",
       "  </tbody>\n",
       "</table>\n",
       "<p>10 rows × 53 columns</p>\n",
       "</div>"
      ],
      "text/plain": [
       "                  date  primary_cleaner.input.sulfate  \\\n",
       "0  2016-09-01 00:59:59                     210.800909   \n",
       "1  2016-09-01 01:59:59                     215.392455   \n",
       "2  2016-09-01 02:59:59                     215.259946   \n",
       "3  2016-09-01 03:59:59                     215.336236   \n",
       "4  2016-09-01 04:59:59                     199.099327   \n",
       "5  2016-09-01 05:59:59                     168.485085   \n",
       "6  2016-09-01 06:59:59                     144.133440   \n",
       "7  2016-09-01 07:59:59                     133.513396   \n",
       "8  2016-09-01 08:59:59                     133.735356   \n",
       "9  2016-09-01 09:59:59                     126.961069   \n",
       "\n",
       "   primary_cleaner.input.depressant  primary_cleaner.input.feed_size  \\\n",
       "0                         14.993118                         8.080000   \n",
       "1                         14.987471                         8.080000   \n",
       "2                         12.884934                         7.786667   \n",
       "3                         12.006805                         7.640000   \n",
       "4                         10.682530                         7.530000   \n",
       "5                          8.817007                         7.420000   \n",
       "6                          7.924610                         7.420000   \n",
       "7                          8.055252                         6.988000   \n",
       "8                          7.999618                         6.935000   \n",
       "9                          8.017856                         7.030000   \n",
       "\n",
       "   primary_cleaner.input.xanthate  primary_cleaner.state.floatbank8_a_air  \\\n",
       "0                        1.005021                             1398.981301   \n",
       "1                        0.990469                             1398.777912   \n",
       "2                        0.996043                             1398.493666   \n",
       "3                        0.863514                             1399.618111   \n",
       "4                        0.805575                             1401.268123   \n",
       "5                        0.791191                             1402.826803   \n",
       "6                        0.788838                             1398.252401   \n",
       "7                        0.801871                             1401.669677   \n",
       "8                        0.789329                             1402.358981   \n",
       "9                        0.805298                             1400.816120   \n",
       "\n",
       "   primary_cleaner.state.floatbank8_a_level  \\\n",
       "0                               -500.225577   \n",
       "1                               -500.057435   \n",
       "2                               -500.868360   \n",
       "3                               -498.863574   \n",
       "4                               -500.808305   \n",
       "5                               -499.299521   \n",
       "6                               -499.748672   \n",
       "7                               -501.777839   \n",
       "8                               -499.981597   \n",
       "9                               -499.014158   \n",
       "\n",
       "   primary_cleaner.state.floatbank8_b_air  \\\n",
       "0                             1399.144926   \n",
       "1                             1398.055362   \n",
       "2                             1398.860436   \n",
       "3                             1397.440120   \n",
       "4                             1398.128818   \n",
       "5                             1401.511119   \n",
       "6                             1393.255503   \n",
       "7                             1400.754446   \n",
       "8                             1400.985954   \n",
       "9                             1399.975401   \n",
       "\n",
       "   primary_cleaner.state.floatbank8_b_level  \\\n",
       "0                               -499.919735   \n",
       "1                               -499.778182   \n",
       "2                               -499.764529   \n",
       "3                               -499.211024   \n",
       "4                               -499.504543   \n",
       "5                               -499.205357   \n",
       "6                               -499.195380   \n",
       "7                               -502.514024   \n",
       "8                               -496.802968   \n",
       "9                               -499.570552   \n",
       "\n",
       "   primary_cleaner.state.floatbank8_c_air  ...  \\\n",
       "0                             1400.102998  ...   \n",
       "1                             1396.151033  ...   \n",
       "2                             1398.075709  ...   \n",
       "3                             1400.129303  ...   \n",
       "4                             1402.172226  ...   \n",
       "5                             1404.088107  ...   \n",
       "6                             1396.738566  ...   \n",
       "7                             1400.465244  ...   \n",
       "8                             1401.168584  ...   \n",
       "9                             1401.871924  ...   \n",
       "\n",
       "   secondary_cleaner.state.floatbank4_a_air  \\\n",
       "0                                 12.023554   \n",
       "1                                 12.058140   \n",
       "2                                 11.962366   \n",
       "3                                 12.033091   \n",
       "4                                 12.025367   \n",
       "5                                 12.029797   \n",
       "6                                 12.026296   \n",
       "7                                 12.040911   \n",
       "8                                 11.998184   \n",
       "9                                 12.040725   \n",
       "\n",
       "   secondary_cleaner.state.floatbank4_a_level  \\\n",
       "0                                 -497.795834   \n",
       "1                                 -498.695773   \n",
       "2                                 -498.767484   \n",
       "3                                 -498.350935   \n",
       "4                                 -500.786497   \n",
       "5                                 -499.814895   \n",
       "6                                 -499.473127   \n",
       "7                                 -501.293852   \n",
       "8                                 -499.481608   \n",
       "9                                 -499.987743   \n",
       "\n",
       "   secondary_cleaner.state.floatbank4_b_air  \\\n",
       "0                                  8.016656   \n",
       "1                                  8.130979   \n",
       "2                                  8.096893   \n",
       "3                                  8.074946   \n",
       "4                                  8.054678   \n",
       "5                                  8.036586   \n",
       "6                                  8.027984   \n",
       "7                                  8.020490   \n",
       "8                                  8.012610   \n",
       "9                                  7.989503   \n",
       "\n",
       "   secondary_cleaner.state.floatbank4_b_level  \\\n",
       "0                                 -501.289139   \n",
       "1                                 -499.634209   \n",
       "2                                 -500.827423   \n",
       "3                                 -499.474407   \n",
       "4                                 -500.397500   \n",
       "5                                 -500.371492   \n",
       "6                                 -500.983079   \n",
       "7                                 -499.185229   \n",
       "8                                 -500.896783   \n",
       "9                                 -499.750625   \n",
       "\n",
       "   secondary_cleaner.state.floatbank5_a_air  \\\n",
       "0                                  7.946562   \n",
       "1                                  7.958270   \n",
       "2                                  8.071056   \n",
       "3                                  7.897085   \n",
       "4                                  8.107890   \n",
       "5                                  8.041446   \n",
       "6                                  7.907340   \n",
       "7                                  8.116897   \n",
       "8                                  7.974422   \n",
       "9                                  7.989710   \n",
       "\n",
       "   secondary_cleaner.state.floatbank5_a_level  \\\n",
       "0                                 -432.317850   \n",
       "1                                 -525.839648   \n",
       "2                                 -500.801673   \n",
       "3                                 -500.868509   \n",
       "4                                 -509.526725   \n",
       "5                                 -510.037054   \n",
       "6                                 -507.964971   \n",
       "7                                 -511.927561   \n",
       "8                                 -521.199104   \n",
       "9                                 -509.946737   \n",
       "\n",
       "   secondary_cleaner.state.floatbank5_b_air  \\\n",
       "0                                  4.872511   \n",
       "1                                  4.878850   \n",
       "2                                  4.905125   \n",
       "3                                  4.931400   \n",
       "4                                  4.957674   \n",
       "5                                  4.983949   \n",
       "6                                  5.010224   \n",
       "7                                  5.036498   \n",
       "8                                  5.061599   \n",
       "9                                  5.068811   \n",
       "\n",
       "   secondary_cleaner.state.floatbank5_b_level  \\\n",
       "0                                 -500.037437   \n",
       "1                                 -500.162375   \n",
       "2                                 -499.828510   \n",
       "3                                 -499.963623   \n",
       "4                                 -500.360026   \n",
       "5                                 -499.990990   \n",
       "6                                 -500.043697   \n",
       "7                                 -500.149615   \n",
       "8                                 -499.791519   \n",
       "9                                 -499.293900   \n",
       "\n",
       "   secondary_cleaner.state.floatbank6_a_air  \\\n",
       "0                                 26.705889   \n",
       "1                                 25.019940   \n",
       "2                                 24.994862   \n",
       "3                                 24.948919   \n",
       "4                                 25.003331   \n",
       "5                                 24.978973   \n",
       "6                                 25.040709   \n",
       "7                                 25.032580   \n",
       "8                                 25.005063   \n",
       "9                                 24.992741   \n",
       "\n",
       "   secondary_cleaner.state.floatbank6_a_level  \n",
       "0                                 -499.709414  \n",
       "1                                 -499.819438  \n",
       "2                                 -500.622559  \n",
       "3                                 -498.709987  \n",
       "4                                 -500.856333  \n",
       "5                                 -500.475640  \n",
       "6                                 -499.501984  \n",
       "7                                 -503.970657  \n",
       "8                                 -497.613716  \n",
       "9                                 -499.272255  \n",
       "\n",
       "[10 rows x 53 columns]"
      ]
     },
     "execution_count": 6,
     "metadata": {},
     "output_type": "execute_result"
    }
   ],
   "source": [
    "# printing a sample of data in df_test\n",
    "df_test.head(10)"
   ]
  },
  {
   "cell_type": "code",
   "execution_count": 7,
   "metadata": {},
   "outputs": [
    {
     "name": "stdout",
     "output_type": "stream",
     "text": [
      "<class 'pandas.core.frame.DataFrame'>\n",
      "RangeIndex: 22716 entries, 0 to 22715\n",
      "Data columns (total 87 columns):\n",
      " #   Column                                              Non-Null Count  Dtype  \n",
      "---  ------                                              --------------  -----  \n",
      " 0   date                                                22716 non-null  object \n",
      " 1   final.output.concentrate_ag                         22627 non-null  float64\n",
      " 2   final.output.concentrate_pb                         22629 non-null  float64\n",
      " 3   final.output.concentrate_sol                        22331 non-null  float64\n",
      " 4   final.output.concentrate_au                         22630 non-null  float64\n",
      " 5   final.output.recovery                               20753 non-null  float64\n",
      " 6   final.output.tail_ag                                22633 non-null  float64\n",
      " 7   final.output.tail_pb                                22516 non-null  float64\n",
      " 8   final.output.tail_sol                               22445 non-null  float64\n",
      " 9   final.output.tail_au                                22635 non-null  float64\n",
      " 10  primary_cleaner.input.sulfate                       21107 non-null  float64\n",
      " 11  primary_cleaner.input.depressant                    21170 non-null  float64\n",
      " 12  primary_cleaner.input.feed_size                     22716 non-null  float64\n",
      " 13  primary_cleaner.input.xanthate                      21565 non-null  float64\n",
      " 14  primary_cleaner.output.concentrate_ag               22618 non-null  float64\n",
      " 15  primary_cleaner.output.concentrate_pb               22268 non-null  float64\n",
      " 16  primary_cleaner.output.concentrate_sol              21918 non-null  float64\n",
      " 17  primary_cleaner.output.concentrate_au               22618 non-null  float64\n",
      " 18  primary_cleaner.output.tail_ag                      22614 non-null  float64\n",
      " 19  primary_cleaner.output.tail_pb                      22594 non-null  float64\n",
      " 20  primary_cleaner.output.tail_sol                     22365 non-null  float64\n",
      " 21  primary_cleaner.output.tail_au                      22617 non-null  float64\n",
      " 22  primary_cleaner.state.floatbank8_a_air              22660 non-null  float64\n",
      " 23  primary_cleaner.state.floatbank8_a_level            22667 non-null  float64\n",
      " 24  primary_cleaner.state.floatbank8_b_air              22660 non-null  float64\n",
      " 25  primary_cleaner.state.floatbank8_b_level            22673 non-null  float64\n",
      " 26  primary_cleaner.state.floatbank8_c_air              22662 non-null  float64\n",
      " 27  primary_cleaner.state.floatbank8_c_level            22673 non-null  float64\n",
      " 28  primary_cleaner.state.floatbank8_d_air              22661 non-null  float64\n",
      " 29  primary_cleaner.state.floatbank8_d_level            22673 non-null  float64\n",
      " 30  rougher.calculation.sulfate_to_au_concentrate       22672 non-null  float64\n",
      " 31  rougher.calculation.floatbank10_sulfate_to_au_feed  22672 non-null  float64\n",
      " 32  rougher.calculation.floatbank11_sulfate_to_au_feed  22672 non-null  float64\n",
      " 33  rougher.calculation.au_pb_ratio                     21089 non-null  float64\n",
      " 34  rougher.input.feed_ag                               22618 non-null  float64\n",
      " 35  rougher.input.feed_pb                               22472 non-null  float64\n",
      " 36  rougher.input.feed_rate                             22163 non-null  float64\n",
      " 37  rougher.input.feed_size                             22277 non-null  float64\n",
      " 38  rougher.input.feed_sol                              22357 non-null  float64\n",
      " 39  rougher.input.feed_au                               22617 non-null  float64\n",
      " 40  rougher.input.floatbank10_sulfate                   21415 non-null  float64\n",
      " 41  rougher.input.floatbank10_xanthate                  22247 non-null  float64\n",
      " 42  rougher.input.floatbank11_sulfate                   22038 non-null  float64\n",
      " 43  rougher.input.floatbank11_xanthate                  20459 non-null  float64\n",
      " 44  rougher.output.concentrate_ag                       22618 non-null  float64\n",
      " 45  rougher.output.concentrate_pb                       22618 non-null  float64\n",
      " 46  rougher.output.concentrate_sol                      22526 non-null  float64\n",
      " 47  rougher.output.concentrate_au                       22618 non-null  float64\n",
      " 48  rougher.output.recovery                             19597 non-null  float64\n",
      " 49  rougher.output.tail_ag                              19979 non-null  float64\n",
      " 50  rougher.output.tail_pb                              22618 non-null  float64\n",
      " 51  rougher.output.tail_sol                             19980 non-null  float64\n",
      " 52  rougher.output.tail_au                              19980 non-null  float64\n",
      " 53  rougher.state.floatbank10_a_air                     22646 non-null  float64\n",
      " 54  rougher.state.floatbank10_a_level                   22647 non-null  float64\n",
      " 55  rougher.state.floatbank10_b_air                     22646 non-null  float64\n",
      " 56  rougher.state.floatbank10_b_level                   22647 non-null  float64\n",
      " 57  rougher.state.floatbank10_c_air                     22646 non-null  float64\n",
      " 58  rougher.state.floatbank10_c_level                   22654 non-null  float64\n",
      " 59  rougher.state.floatbank10_d_air                     22641 non-null  float64\n",
      " 60  rougher.state.floatbank10_d_level                   22649 non-null  float64\n",
      " 61  rougher.state.floatbank10_e_air                     22096 non-null  float64\n",
      " 62  rougher.state.floatbank10_e_level                   22649 non-null  float64\n",
      " 63  rougher.state.floatbank10_f_air                     22641 non-null  float64\n",
      " 64  rougher.state.floatbank10_f_level                   22642 non-null  float64\n",
      " 65  secondary_cleaner.output.tail_ag                    22616 non-null  float64\n",
      " 66  secondary_cleaner.output.tail_pb                    22600 non-null  float64\n",
      " 67  secondary_cleaner.output.tail_sol                   20501 non-null  float64\n",
      " 68  secondary_cleaner.output.tail_au                    22618 non-null  float64\n",
      " 69  secondary_cleaner.state.floatbank2_a_air            22333 non-null  float64\n",
      " 70  secondary_cleaner.state.floatbank2_a_level          22591 non-null  float64\n",
      " 71  secondary_cleaner.state.floatbank2_b_air            22538 non-null  float64\n",
      " 72  secondary_cleaner.state.floatbank2_b_level          22588 non-null  float64\n",
      " 73  secondary_cleaner.state.floatbank3_a_air            22585 non-null  float64\n",
      " 74  secondary_cleaner.state.floatbank3_a_level          22587 non-null  float64\n",
      " 75  secondary_cleaner.state.floatbank3_b_air            22592 non-null  float64\n",
      " 76  secondary_cleaner.state.floatbank3_b_level          22590 non-null  float64\n",
      " 77  secondary_cleaner.state.floatbank4_a_air            22571 non-null  float64\n",
      " 78  secondary_cleaner.state.floatbank4_a_level          22587 non-null  float64\n",
      " 79  secondary_cleaner.state.floatbank4_b_air            22608 non-null  float64\n",
      " 80  secondary_cleaner.state.floatbank4_b_level          22607 non-null  float64\n",
      " 81  secondary_cleaner.state.floatbank5_a_air            22615 non-null  float64\n",
      " 82  secondary_cleaner.state.floatbank5_a_level          22615 non-null  float64\n",
      " 83  secondary_cleaner.state.floatbank5_b_air            22615 non-null  float64\n",
      " 84  secondary_cleaner.state.floatbank5_b_level          22616 non-null  float64\n",
      " 85  secondary_cleaner.state.floatbank6_a_air            22597 non-null  float64\n",
      " 86  secondary_cleaner.state.floatbank6_a_level          22615 non-null  float64\n",
      "dtypes: float64(86), object(1)\n",
      "memory usage: 15.1+ MB\n"
     ]
    }
   ],
   "source": [
    "# printing the general/summary information about df_full\n",
    "df_full.info()"
   ]
  },
  {
   "cell_type": "code",
   "execution_count": 8,
   "metadata": {},
   "outputs": [
    {
     "data": {
      "text/html": [
       "<div>\n",
       "<style scoped>\n",
       "    .dataframe tbody tr th:only-of-type {\n",
       "        vertical-align: middle;\n",
       "    }\n",
       "\n",
       "    .dataframe tbody tr th {\n",
       "        vertical-align: top;\n",
       "    }\n",
       "\n",
       "    .dataframe thead th {\n",
       "        text-align: right;\n",
       "    }\n",
       "</style>\n",
       "<table border=\"1\" class=\"dataframe\">\n",
       "  <thead>\n",
       "    <tr style=\"text-align: right;\">\n",
       "      <th></th>\n",
       "      <th>date</th>\n",
       "      <th>final.output.concentrate_ag</th>\n",
       "      <th>final.output.concentrate_pb</th>\n",
       "      <th>final.output.concentrate_sol</th>\n",
       "      <th>final.output.concentrate_au</th>\n",
       "      <th>final.output.recovery</th>\n",
       "      <th>final.output.tail_ag</th>\n",
       "      <th>final.output.tail_pb</th>\n",
       "      <th>final.output.tail_sol</th>\n",
       "      <th>final.output.tail_au</th>\n",
       "      <th>...</th>\n",
       "      <th>secondary_cleaner.state.floatbank4_a_air</th>\n",
       "      <th>secondary_cleaner.state.floatbank4_a_level</th>\n",
       "      <th>secondary_cleaner.state.floatbank4_b_air</th>\n",
       "      <th>secondary_cleaner.state.floatbank4_b_level</th>\n",
       "      <th>secondary_cleaner.state.floatbank5_a_air</th>\n",
       "      <th>secondary_cleaner.state.floatbank5_a_level</th>\n",
       "      <th>secondary_cleaner.state.floatbank5_b_air</th>\n",
       "      <th>secondary_cleaner.state.floatbank5_b_level</th>\n",
       "      <th>secondary_cleaner.state.floatbank6_a_air</th>\n",
       "      <th>secondary_cleaner.state.floatbank6_a_level</th>\n",
       "    </tr>\n",
       "  </thead>\n",
       "  <tbody>\n",
       "    <tr>\n",
       "      <th>0</th>\n",
       "      <td>2016-01-15 00:00:00</td>\n",
       "      <td>6.055403</td>\n",
       "      <td>9.889648</td>\n",
       "      <td>5.507324</td>\n",
       "      <td>42.192020</td>\n",
       "      <td>70.541216</td>\n",
       "      <td>10.411962</td>\n",
       "      <td>0.895447</td>\n",
       "      <td>16.904297</td>\n",
       "      <td>2.143149</td>\n",
       "      <td>...</td>\n",
       "      <td>14.016835</td>\n",
       "      <td>-502.488007</td>\n",
       "      <td>12.099931</td>\n",
       "      <td>-504.715942</td>\n",
       "      <td>9.925633</td>\n",
       "      <td>-498.310211</td>\n",
       "      <td>8.079666</td>\n",
       "      <td>-500.470978</td>\n",
       "      <td>14.151341</td>\n",
       "      <td>-605.841980</td>\n",
       "    </tr>\n",
       "    <tr>\n",
       "      <th>1</th>\n",
       "      <td>2016-01-15 01:00:00</td>\n",
       "      <td>6.029369</td>\n",
       "      <td>9.968944</td>\n",
       "      <td>5.257781</td>\n",
       "      <td>42.701629</td>\n",
       "      <td>69.266198</td>\n",
       "      <td>10.462676</td>\n",
       "      <td>0.927452</td>\n",
       "      <td>16.634514</td>\n",
       "      <td>2.224930</td>\n",
       "      <td>...</td>\n",
       "      <td>13.992281</td>\n",
       "      <td>-505.503262</td>\n",
       "      <td>11.950531</td>\n",
       "      <td>-501.331529</td>\n",
       "      <td>10.039245</td>\n",
       "      <td>-500.169983</td>\n",
       "      <td>7.984757</td>\n",
       "      <td>-500.582168</td>\n",
       "      <td>13.998353</td>\n",
       "      <td>-599.787184</td>\n",
       "    </tr>\n",
       "    <tr>\n",
       "      <th>2</th>\n",
       "      <td>2016-01-15 02:00:00</td>\n",
       "      <td>6.055926</td>\n",
       "      <td>10.213995</td>\n",
       "      <td>5.383759</td>\n",
       "      <td>42.657501</td>\n",
       "      <td>68.116445</td>\n",
       "      <td>10.507046</td>\n",
       "      <td>0.953716</td>\n",
       "      <td>16.208849</td>\n",
       "      <td>2.257889</td>\n",
       "      <td>...</td>\n",
       "      <td>14.015015</td>\n",
       "      <td>-502.520901</td>\n",
       "      <td>11.912783</td>\n",
       "      <td>-501.133383</td>\n",
       "      <td>10.070913</td>\n",
       "      <td>-500.129135</td>\n",
       "      <td>8.013877</td>\n",
       "      <td>-500.517572</td>\n",
       "      <td>14.028663</td>\n",
       "      <td>-601.427363</td>\n",
       "    </tr>\n",
       "    <tr>\n",
       "      <th>3</th>\n",
       "      <td>2016-01-15 03:00:00</td>\n",
       "      <td>6.047977</td>\n",
       "      <td>9.977019</td>\n",
       "      <td>4.858634</td>\n",
       "      <td>42.689819</td>\n",
       "      <td>68.347543</td>\n",
       "      <td>10.422762</td>\n",
       "      <td>0.883763</td>\n",
       "      <td>16.532835</td>\n",
       "      <td>2.146849</td>\n",
       "      <td>...</td>\n",
       "      <td>14.036510</td>\n",
       "      <td>-500.857308</td>\n",
       "      <td>11.999550</td>\n",
       "      <td>-501.193686</td>\n",
       "      <td>9.970366</td>\n",
       "      <td>-499.201640</td>\n",
       "      <td>7.977324</td>\n",
       "      <td>-500.255908</td>\n",
       "      <td>14.005551</td>\n",
       "      <td>-599.996129</td>\n",
       "    </tr>\n",
       "    <tr>\n",
       "      <th>4</th>\n",
       "      <td>2016-01-15 04:00:00</td>\n",
       "      <td>6.148599</td>\n",
       "      <td>10.142511</td>\n",
       "      <td>4.939416</td>\n",
       "      <td>42.774141</td>\n",
       "      <td>66.927016</td>\n",
       "      <td>10.360302</td>\n",
       "      <td>0.792826</td>\n",
       "      <td>16.525686</td>\n",
       "      <td>2.055292</td>\n",
       "      <td>...</td>\n",
       "      <td>14.027298</td>\n",
       "      <td>-499.838632</td>\n",
       "      <td>11.953070</td>\n",
       "      <td>-501.053894</td>\n",
       "      <td>9.925709</td>\n",
       "      <td>-501.686727</td>\n",
       "      <td>7.894242</td>\n",
       "      <td>-500.356035</td>\n",
       "      <td>13.996647</td>\n",
       "      <td>-601.496691</td>\n",
       "    </tr>\n",
       "    <tr>\n",
       "      <th>5</th>\n",
       "      <td>2016-01-15 05:00:00</td>\n",
       "      <td>6.482968</td>\n",
       "      <td>10.049416</td>\n",
       "      <td>5.480257</td>\n",
       "      <td>41.633678</td>\n",
       "      <td>69.465816</td>\n",
       "      <td>10.182708</td>\n",
       "      <td>0.664118</td>\n",
       "      <td>16.999638</td>\n",
       "      <td>1.918586</td>\n",
       "      <td>...</td>\n",
       "      <td>13.938497</td>\n",
       "      <td>-500.970168</td>\n",
       "      <td>11.883350</td>\n",
       "      <td>-500.395298</td>\n",
       "      <td>10.054147</td>\n",
       "      <td>-496.374715</td>\n",
       "      <td>7.965083</td>\n",
       "      <td>-499.364752</td>\n",
       "      <td>14.017067</td>\n",
       "      <td>-599.707915</td>\n",
       "    </tr>\n",
       "    <tr>\n",
       "      <th>6</th>\n",
       "      <td>2016-01-15 06:00:00</td>\n",
       "      <td>6.533849</td>\n",
       "      <td>10.058141</td>\n",
       "      <td>4.569100</td>\n",
       "      <td>41.995316</td>\n",
       "      <td>69.300835</td>\n",
       "      <td>10.304598</td>\n",
       "      <td>0.807342</td>\n",
       "      <td>16.723575</td>\n",
       "      <td>2.058913</td>\n",
       "      <td>...</td>\n",
       "      <td>14.046819</td>\n",
       "      <td>-500.971133</td>\n",
       "      <td>12.091543</td>\n",
       "      <td>-500.501426</td>\n",
       "      <td>10.003247</td>\n",
       "      <td>-497.083180</td>\n",
       "      <td>8.010890</td>\n",
       "      <td>-500.002423</td>\n",
       "      <td>14.029649</td>\n",
       "      <td>-600.905470</td>\n",
       "    </tr>\n",
       "    <tr>\n",
       "      <th>7</th>\n",
       "      <td>2016-01-15 07:00:00</td>\n",
       "      <td>6.130823</td>\n",
       "      <td>9.935481</td>\n",
       "      <td>4.389813</td>\n",
       "      <td>42.452727</td>\n",
       "      <td>70.230976</td>\n",
       "      <td>10.443288</td>\n",
       "      <td>0.949346</td>\n",
       "      <td>16.689959</td>\n",
       "      <td>2.143437</td>\n",
       "      <td>...</td>\n",
       "      <td>13.974691</td>\n",
       "      <td>-501.819696</td>\n",
       "      <td>12.101324</td>\n",
       "      <td>-500.583446</td>\n",
       "      <td>9.873169</td>\n",
       "      <td>-499.171928</td>\n",
       "      <td>7.993381</td>\n",
       "      <td>-499.794518</td>\n",
       "      <td>13.984498</td>\n",
       "      <td>-600.411070</td>\n",
       "    </tr>\n",
       "    <tr>\n",
       "      <th>8</th>\n",
       "      <td>2016-01-15 08:00:00</td>\n",
       "      <td>5.834140</td>\n",
       "      <td>10.071156</td>\n",
       "      <td>4.876389</td>\n",
       "      <td>43.404078</td>\n",
       "      <td>69.688595</td>\n",
       "      <td>10.420140</td>\n",
       "      <td>1.065453</td>\n",
       "      <td>17.201948</td>\n",
       "      <td>2.209881</td>\n",
       "      <td>...</td>\n",
       "      <td>13.964030</td>\n",
       "      <td>-504.252450</td>\n",
       "      <td>12.060738</td>\n",
       "      <td>-501.174549</td>\n",
       "      <td>10.033838</td>\n",
       "      <td>-501.178133</td>\n",
       "      <td>7.881604</td>\n",
       "      <td>-499.729434</td>\n",
       "      <td>13.967135</td>\n",
       "      <td>-599.061188</td>\n",
       "    </tr>\n",
       "    <tr>\n",
       "      <th>9</th>\n",
       "      <td>2016-01-15 09:00:00</td>\n",
       "      <td>5.687063</td>\n",
       "      <td>9.980404</td>\n",
       "      <td>5.282514</td>\n",
       "      <td>43.235220</td>\n",
       "      <td>70.279619</td>\n",
       "      <td>10.487013</td>\n",
       "      <td>1.159805</td>\n",
       "      <td>17.483979</td>\n",
       "      <td>2.209593</td>\n",
       "      <td>...</td>\n",
       "      <td>13.989632</td>\n",
       "      <td>-503.195299</td>\n",
       "      <td>12.052233</td>\n",
       "      <td>-500.928547</td>\n",
       "      <td>9.962574</td>\n",
       "      <td>-502.986357</td>\n",
       "      <td>7.979219</td>\n",
       "      <td>-500.146835</td>\n",
       "      <td>13.981614</td>\n",
       "      <td>-598.070855</td>\n",
       "    </tr>\n",
       "  </tbody>\n",
       "</table>\n",
       "<p>10 rows × 87 columns</p>\n",
       "</div>"
      ],
      "text/plain": [
       "                  date  final.output.concentrate_ag  \\\n",
       "0  2016-01-15 00:00:00                     6.055403   \n",
       "1  2016-01-15 01:00:00                     6.029369   \n",
       "2  2016-01-15 02:00:00                     6.055926   \n",
       "3  2016-01-15 03:00:00                     6.047977   \n",
       "4  2016-01-15 04:00:00                     6.148599   \n",
       "5  2016-01-15 05:00:00                     6.482968   \n",
       "6  2016-01-15 06:00:00                     6.533849   \n",
       "7  2016-01-15 07:00:00                     6.130823   \n",
       "8  2016-01-15 08:00:00                     5.834140   \n",
       "9  2016-01-15 09:00:00                     5.687063   \n",
       "\n",
       "   final.output.concentrate_pb  final.output.concentrate_sol  \\\n",
       "0                     9.889648                      5.507324   \n",
       "1                     9.968944                      5.257781   \n",
       "2                    10.213995                      5.383759   \n",
       "3                     9.977019                      4.858634   \n",
       "4                    10.142511                      4.939416   \n",
       "5                    10.049416                      5.480257   \n",
       "6                    10.058141                      4.569100   \n",
       "7                     9.935481                      4.389813   \n",
       "8                    10.071156                      4.876389   \n",
       "9                     9.980404                      5.282514   \n",
       "\n",
       "   final.output.concentrate_au  final.output.recovery  final.output.tail_ag  \\\n",
       "0                    42.192020              70.541216             10.411962   \n",
       "1                    42.701629              69.266198             10.462676   \n",
       "2                    42.657501              68.116445             10.507046   \n",
       "3                    42.689819              68.347543             10.422762   \n",
       "4                    42.774141              66.927016             10.360302   \n",
       "5                    41.633678              69.465816             10.182708   \n",
       "6                    41.995316              69.300835             10.304598   \n",
       "7                    42.452727              70.230976             10.443288   \n",
       "8                    43.404078              69.688595             10.420140   \n",
       "9                    43.235220              70.279619             10.487013   \n",
       "\n",
       "   final.output.tail_pb  final.output.tail_sol  final.output.tail_au  ...  \\\n",
       "0              0.895447              16.904297              2.143149  ...   \n",
       "1              0.927452              16.634514              2.224930  ...   \n",
       "2              0.953716              16.208849              2.257889  ...   \n",
       "3              0.883763              16.532835              2.146849  ...   \n",
       "4              0.792826              16.525686              2.055292  ...   \n",
       "5              0.664118              16.999638              1.918586  ...   \n",
       "6              0.807342              16.723575              2.058913  ...   \n",
       "7              0.949346              16.689959              2.143437  ...   \n",
       "8              1.065453              17.201948              2.209881  ...   \n",
       "9              1.159805              17.483979              2.209593  ...   \n",
       "\n",
       "   secondary_cleaner.state.floatbank4_a_air  \\\n",
       "0                                 14.016835   \n",
       "1                                 13.992281   \n",
       "2                                 14.015015   \n",
       "3                                 14.036510   \n",
       "4                                 14.027298   \n",
       "5                                 13.938497   \n",
       "6                                 14.046819   \n",
       "7                                 13.974691   \n",
       "8                                 13.964030   \n",
       "9                                 13.989632   \n",
       "\n",
       "   secondary_cleaner.state.floatbank4_a_level  \\\n",
       "0                                 -502.488007   \n",
       "1                                 -505.503262   \n",
       "2                                 -502.520901   \n",
       "3                                 -500.857308   \n",
       "4                                 -499.838632   \n",
       "5                                 -500.970168   \n",
       "6                                 -500.971133   \n",
       "7                                 -501.819696   \n",
       "8                                 -504.252450   \n",
       "9                                 -503.195299   \n",
       "\n",
       "   secondary_cleaner.state.floatbank4_b_air  \\\n",
       "0                                 12.099931   \n",
       "1                                 11.950531   \n",
       "2                                 11.912783   \n",
       "3                                 11.999550   \n",
       "4                                 11.953070   \n",
       "5                                 11.883350   \n",
       "6                                 12.091543   \n",
       "7                                 12.101324   \n",
       "8                                 12.060738   \n",
       "9                                 12.052233   \n",
       "\n",
       "   secondary_cleaner.state.floatbank4_b_level  \\\n",
       "0                                 -504.715942   \n",
       "1                                 -501.331529   \n",
       "2                                 -501.133383   \n",
       "3                                 -501.193686   \n",
       "4                                 -501.053894   \n",
       "5                                 -500.395298   \n",
       "6                                 -500.501426   \n",
       "7                                 -500.583446   \n",
       "8                                 -501.174549   \n",
       "9                                 -500.928547   \n",
       "\n",
       "   secondary_cleaner.state.floatbank5_a_air  \\\n",
       "0                                  9.925633   \n",
       "1                                 10.039245   \n",
       "2                                 10.070913   \n",
       "3                                  9.970366   \n",
       "4                                  9.925709   \n",
       "5                                 10.054147   \n",
       "6                                 10.003247   \n",
       "7                                  9.873169   \n",
       "8                                 10.033838   \n",
       "9                                  9.962574   \n",
       "\n",
       "   secondary_cleaner.state.floatbank5_a_level  \\\n",
       "0                                 -498.310211   \n",
       "1                                 -500.169983   \n",
       "2                                 -500.129135   \n",
       "3                                 -499.201640   \n",
       "4                                 -501.686727   \n",
       "5                                 -496.374715   \n",
       "6                                 -497.083180   \n",
       "7                                 -499.171928   \n",
       "8                                 -501.178133   \n",
       "9                                 -502.986357   \n",
       "\n",
       "   secondary_cleaner.state.floatbank5_b_air  \\\n",
       "0                                  8.079666   \n",
       "1                                  7.984757   \n",
       "2                                  8.013877   \n",
       "3                                  7.977324   \n",
       "4                                  7.894242   \n",
       "5                                  7.965083   \n",
       "6                                  8.010890   \n",
       "7                                  7.993381   \n",
       "8                                  7.881604   \n",
       "9                                  7.979219   \n",
       "\n",
       "   secondary_cleaner.state.floatbank5_b_level  \\\n",
       "0                                 -500.470978   \n",
       "1                                 -500.582168   \n",
       "2                                 -500.517572   \n",
       "3                                 -500.255908   \n",
       "4                                 -500.356035   \n",
       "5                                 -499.364752   \n",
       "6                                 -500.002423   \n",
       "7                                 -499.794518   \n",
       "8                                 -499.729434   \n",
       "9                                 -500.146835   \n",
       "\n",
       "   secondary_cleaner.state.floatbank6_a_air  \\\n",
       "0                                 14.151341   \n",
       "1                                 13.998353   \n",
       "2                                 14.028663   \n",
       "3                                 14.005551   \n",
       "4                                 13.996647   \n",
       "5                                 14.017067   \n",
       "6                                 14.029649   \n",
       "7                                 13.984498   \n",
       "8                                 13.967135   \n",
       "9                                 13.981614   \n",
       "\n",
       "   secondary_cleaner.state.floatbank6_a_level  \n",
       "0                                 -605.841980  \n",
       "1                                 -599.787184  \n",
       "2                                 -601.427363  \n",
       "3                                 -599.996129  \n",
       "4                                 -601.496691  \n",
       "5                                 -599.707915  \n",
       "6                                 -600.905470  \n",
       "7                                 -600.411070  \n",
       "8                                 -599.061188  \n",
       "9                                 -598.070855  \n",
       "\n",
       "[10 rows x 87 columns]"
      ]
     },
     "execution_count": 8,
     "metadata": {},
     "output_type": "execute_result"
    }
   ],
   "source": [
    "# printing a sample of data in df_full\n",
    "df_full.head(10)"
   ]
  },
  {
   "cell_type": "markdown",
   "metadata": {},
   "source": [
    "All columns in all datasets seem to be of correct types, but all datasets have missing values. So, we would need to address missing values, but before doing that we will check that recovery is calculated correctly. To do this, using the training set, we will calculate recovery for the rougher.output.recovery feature. Then we will find the MAE between our calculations and the feature values.\n",
    "\n",
    "We will calculate recovery only for rows that do not have missing values. For that, we will create a temp dataset without missing values."
   ]
  },
  {
   "cell_type": "code",
   "execution_count": 9,
   "metadata": {},
   "outputs": [],
   "source": [
    "#creating a temp dataset without missing values\n",
    "temp_df_train=df_train.dropna()"
   ]
  },
  {
   "cell_type": "code",
   "execution_count": 10,
   "metadata": {},
   "outputs": [
    {
     "data": {
      "text/plain": [
       "9.460144184559453e-15"
      ]
     },
     "execution_count": 10,
     "metadata": {},
     "output_type": "execute_result"
    }
   ],
   "source": [
    "#calculating recovery\n",
    "C = temp_df_train['rougher.output.concentrate_au']\n",
    "F = temp_df_train['rougher.input.feed_au']\n",
    "T = temp_df_train['rougher.output.tail_au']\n",
    "recovery_calculated = ((C * (F - T)) / ((F * (C - T)))) * 100\n",
    "\n",
    "#finding the MAE between our calculations and the feature values.\n",
    "mae=mean_absolute_error(temp_df_train['rougher.output.recovery'],recovery_calculated )\n",
    "mae"
   ]
  },
  {
   "cell_type": "markdown",
   "metadata": {},
   "source": [
    "As can be seen, the MAE is close to 0. Thus, we can conclude that recovery is calculated correctly."
   ]
  },
  {
   "cell_type": "markdown",
   "metadata": {},
   "source": [
    "In addition, we observed that in comparison with the train dataset test dataset misses a lot of features. Let's check which features are missing."
   ]
  },
  {
   "cell_type": "code",
   "execution_count": 11,
   "metadata": {},
   "outputs": [
    {
     "data": {
      "text/plain": [
       "['final.output.concentrate_ag',\n",
       " 'final.output.concentrate_pb',\n",
       " 'final.output.concentrate_sol',\n",
       " 'final.output.concentrate_au',\n",
       " 'final.output.recovery',\n",
       " 'final.output.tail_ag',\n",
       " 'final.output.tail_pb',\n",
       " 'final.output.tail_sol',\n",
       " 'final.output.tail_au',\n",
       " 'primary_cleaner.output.concentrate_ag',\n",
       " 'primary_cleaner.output.concentrate_pb',\n",
       " 'primary_cleaner.output.concentrate_sol',\n",
       " 'primary_cleaner.output.concentrate_au',\n",
       " 'primary_cleaner.output.tail_ag',\n",
       " 'primary_cleaner.output.tail_pb',\n",
       " 'primary_cleaner.output.tail_sol',\n",
       " 'primary_cleaner.output.tail_au',\n",
       " 'rougher.calculation.sulfate_to_au_concentrate',\n",
       " 'rougher.calculation.floatbank10_sulfate_to_au_feed',\n",
       " 'rougher.calculation.floatbank11_sulfate_to_au_feed',\n",
       " 'rougher.calculation.au_pb_ratio',\n",
       " 'rougher.output.concentrate_ag',\n",
       " 'rougher.output.concentrate_pb',\n",
       " 'rougher.output.concentrate_sol',\n",
       " 'rougher.output.concentrate_au',\n",
       " 'rougher.output.recovery',\n",
       " 'rougher.output.tail_ag',\n",
       " 'rougher.output.tail_pb',\n",
       " 'rougher.output.tail_sol',\n",
       " 'rougher.output.tail_au',\n",
       " 'secondary_cleaner.output.tail_ag',\n",
       " 'secondary_cleaner.output.tail_pb',\n",
       " 'secondary_cleaner.output.tail_sol',\n",
       " 'secondary_cleaner.output.tail_au']"
      ]
     },
     "execution_count": 11,
     "metadata": {},
     "output_type": "execute_result"
    }
   ],
   "source": [
    "#finding which features not available in the test set\n",
    "col=(col for col in df_train.columns.tolist() if col not in df_test.columns.tolist())\n",
    "list(col)"
   ]
  },
  {
   "cell_type": "markdown",
   "metadata": {},
   "source": [
    "As can be seen, the features that are not available are output features, and the features are calculated based on other features. Therefore, these features are not needed for the model building and can be excluded from the training dataset as well.\n",
    "\n",
    "Now we are ready to preprocess the data and address the missing values. From the documentation, we know that parameters that are next to each other in terms of time are often similar. Therefore, we will use the forward filling method for missing values and will propagate the last valid observation forward to the next valid backfill."
   ]
  },
  {
   "cell_type": "code",
   "execution_count": 12,
   "metadata": {},
   "outputs": [],
   "source": [
    "#using forward filling method to fill the missing values\n",
    "df_train=df_train.fillna(method='ffill', axis=0)\n",
    "df_test=df_test.fillna(method='ffill', axis=0)\n",
    "df_full=df_full.fillna(method='ffill', axis=0)"
   ]
  },
  {
   "cell_type": "markdown",
   "metadata": {},
   "source": [
    "Now we are ready to move to the data analysis."
   ]
  },
  {
   "cell_type": "markdown",
   "metadata": {},
   "source": [
    "# Analyzing the data"
   ]
  },
  {
   "cell_type": "markdown",
   "metadata": {},
   "source": [
    "Firstly, we will check how the concentrations of metals (Au, Ag, Pb) change depending on the purification stage. To do that, we will calculate the mean for each metal for each stage."
   ]
  },
  {
   "cell_type": "code",
   "execution_count": 13,
   "metadata": {},
   "outputs": [
    {
     "data": {
      "text/html": [
       "<div>\n",
       "<style scoped>\n",
       "    .dataframe tbody tr th:only-of-type {\n",
       "        vertical-align: middle;\n",
       "    }\n",
       "\n",
       "    .dataframe tbody tr th {\n",
       "        vertical-align: top;\n",
       "    }\n",
       "\n",
       "    .dataframe thead th {\n",
       "        text-align: right;\n",
       "    }\n",
       "</style>\n",
       "<table border=\"1\" class=\"dataframe\">\n",
       "  <thead>\n",
       "    <tr style=\"text-align: right;\">\n",
       "      <th></th>\n",
       "      <th>Input</th>\n",
       "      <th>Rougher</th>\n",
       "      <th>Primary</th>\n",
       "      <th>Final</th>\n",
       "    </tr>\n",
       "  </thead>\n",
       "  <tbody>\n",
       "    <tr>\n",
       "      <th>au</th>\n",
       "      <td>7.545861</td>\n",
       "      <td>17.831509</td>\n",
       "      <td>29.119967</td>\n",
       "      <td>39.891718</td>\n",
       "    </tr>\n",
       "    <tr>\n",
       "      <th>ag</th>\n",
       "      <td>8.044237</td>\n",
       "      <td>10.845609</td>\n",
       "      <td>7.666972</td>\n",
       "      <td>4.768013</td>\n",
       "    </tr>\n",
       "    <tr>\n",
       "      <th>pb</th>\n",
       "      <td>3.282945</td>\n",
       "      <td>6.886869</td>\n",
       "      <td>8.809217</td>\n",
       "      <td>9.071366</td>\n",
       "    </tr>\n",
       "  </tbody>\n",
       "</table>\n",
       "</div>"
      ],
      "text/plain": [
       "       Input    Rougher    Primary      Final\n",
       "au  7.545861  17.831509  29.119967  39.891718\n",
       "ag  8.044237  10.845609   7.666972   4.768013\n",
       "pb  3.282945   6.886869   8.809217   9.071366"
      ]
     },
     "execution_count": 13,
     "metadata": {},
     "output_type": "execute_result"
    }
   ],
   "source": [
    "# calculating mean for each metal for each stage\n",
    "concentrations = pd.DataFrame(np.array([[df_full['rougher.input.feed_au'].mean(), df_full['rougher.output.concentrate_au'].mean(), df_full['primary_cleaner.output.concentrate_au'].mean(),df_full['final.output.concentrate_au'].mean()],\n",
    "                                       [df_full['rougher.input.feed_ag'].mean(), df_full['rougher.output.concentrate_ag'].mean(), df_full['primary_cleaner.output.concentrate_ag'].mean(),df_full['final.output.concentrate_ag'].mean()],\n",
    "                                       [df_full['rougher.input.feed_pb'].mean(), df_full['rougher.output.concentrate_pb'].mean(), df_full['primary_cleaner.output.concentrate_pb'].mean(),df_full['final.output.concentrate_pb'].mean()]]),\n",
    "                             columns=['Input', 'Rougher', 'Primary','Final'],\n",
    "                             index=['au','ag','pb'])\n",
    "#displaying the result\n",
    "concentrations"
   ]
  },
  {
   "cell_type": "markdown",
   "metadata": {},
   "source": [
    "It makes sense that the concentration of gold is growing from stage to stage. In the final stage concentration of the gold is more than 5 times higher than at the beginning of the process. The concentration of silver in the rougher stage is higher than what we had in the input. But in the later purification stages, the concentration of silver decreases. As well as the concentration of gold, the concentration of lead is growing from stage to stage."
   ]
  },
  {
   "cell_type": "markdown",
   "metadata": {},
   "source": [
    "Next, we will compare the feed particle size distributions in the training set and in the test set to ensure that the model evaluation will be incorrect."
   ]
  },
  {
   "cell_type": "code",
   "execution_count": 14,
   "metadata": {},
   "outputs": [
    {
     "data": {
      "image/png": "[encoded data removed]",
      "text/plain": [
       "<Figure size 432x288 with 1 Axes>"
      ]
     },
     "metadata": {
      "needs_background": "light"
     },
     "output_type": "display_data"
    }
   ],
   "source": [
    "#plotting destribution of feed particle size in test and training datasets\n",
    "plt.hist(df_train['rougher.input.feed_size'], bins=50, alpha=0.8, label='Train')\n",
    "plt.hist(df_test['rougher.input.feed_size'], bins=50, alpha=0.8, label='Test')\n",
    "plt.title('Destribution of feed particle size in test and training datasets')\n",
    "plt.legend(loc='upper right')\n",
    "plt.show()"
   ]
  },
  {
   "cell_type": "markdown",
   "metadata": {},
   "source": [
    "As can be seen, the distribution of feed particle size in test and training datasets are quite similar, therefore we can assume that model evaluation will be incorrect."
   ]
  },
  {
   "cell_type": "markdown",
   "metadata": {},
   "source": [
    "Finally, before building the model. we will check the total concentrations of all substances at different stages: raw feed, rougher concentrate, and final concentrate."
   ]
  },
  {
   "cell_type": "code",
   "execution_count": 15,
   "metadata": {},
   "outputs": [],
   "source": [
    "#calculating total concentrations of all substances at different stages in full dataset\n",
    "input_total=df_full['rougher.input.feed_au']+df_full['rougher.input.feed_ag']+df_full['rougher.input.feed_pb']+df_full['rougher.input.feed_sol']\n",
    "rougher_total=df_full['rougher.output.concentrate_au']+df_full['rougher.output.concentrate_ag']+df_full['rougher.output.concentrate_pb']+df_full['rougher.output.concentrate_sol']\n",
    "final_total=df_full['final.output.concentrate_au']+df_full['final.output.concentrate_ag']+df_full['final.output.concentrate_pb']+df_full['final.output.concentrate_sol']"
   ]
  },
  {
   "cell_type": "markdown",
   "metadata": {},
   "source": [
    "Let's plot the total concentrations."
   ]
  },
  {
   "cell_type": "code",
   "execution_count": 16,
   "metadata": {},
   "outputs": [
    {
     "data": {
      "image/png": "[encoded data removed]",
      "text/plain": [
       "<Figure size 720x288 with 1 Axes>"
      ]
     },
     "metadata": {
      "needs_background": "light"
     },
     "output_type": "display_data"
    },
    {
     "data": {
      "image/png": "[encoded data removed]",
      "text/plain": [
       "<Figure size 720x288 with 1 Axes>"
      ]
     },
     "metadata": {
      "needs_background": "light"
     },
     "output_type": "display_data"
    },
    {
     "data": {
      "image/png": "[encoded data removed]",
      "text/plain": [
       "<Figure size 720x288 with 1 Axes>"
      ]
     },
     "metadata": {
      "needs_background": "light"
     },
     "output_type": "display_data"
    }
   ],
   "source": [
    "#plotting the total concentrations\n",
    "input_total.plot(kind='hist',bins=40, figsize=(10, 4),title='Input concentrations',grid=True)\n",
    "plt.show()\n",
    "rougher_total.plot(kind='hist',bins=40, figsize=(10, 4),title='Input concentrations',grid=True)\n",
    "plt.show()\n",
    "final_total.plot(kind='hist',bins=40, figsize=(10, 4),title='Input concentrations',grid=True)\n",
    "plt.show()"
   ]
  },
  {
   "cell_type": "markdown",
   "metadata": {},
   "source": [
    "There are a lot of anomalies where concentrations of all substances are 0. This cannot be true, so we will drop such observations. \n",
    "\n",
    "We will start with the training dataset."
   ]
  },
  {
   "cell_type": "code",
   "execution_count": 17,
   "metadata": {},
   "outputs": [],
   "source": [
    "#for train dataset dropping rows there total concentrations of all substances are 0\n",
    "df_train=df_train[(df_train['rougher.input.feed_au']+df_train['rougher.input.feed_ag']+df_train['rougher.input.feed_pb']+df_train['rougher.input.feed_sol'])>0]\n",
    "df_train=df_train[(df_train['rougher.output.concentrate_au']+df_train['rougher.output.concentrate_ag']+df_train['rougher.output.concentrate_pb']+df_train['rougher.output.concentrate_sol'])>0]\n",
    "df_train=df_train[(df_train['final.output.concentrate_au']+df_train['final.output.concentrate_ag']+df_train['final.output.concentrate_pb']+df_train['final.output.concentrate_sol'])>0]"
   ]
  },
  {
   "cell_type": "markdown",
   "metadata": {},
   "source": [
    "Next, we will split the training dataset into targets and features subsets. As we sow from the comparison with the test dataset, the training dataset contains a lot of features that are not needed for the model building and can be excluded from the training dataset. Therefore, we will use the same set of features that are available in the test dataset. The only feature we don't need is the date, as it is unique for each observation."
   ]
  },
  {
   "cell_type": "code",
   "execution_count": 18,
   "metadata": {},
   "outputs": [],
   "source": [
    "#creating targets sebset for training dataset\n",
    "train_targets = df_train[['rougher.output.recovery', 'final.output.recovery']]\n",
    "\n",
    "#creating features sebset for training dataset\n",
    "train_features = df_train.loc[:, list(df_test.columns)]\n",
    "train_features=train_features.drop('date', axis=1)"
   ]
  },
  {
   "cell_type": "markdown",
   "metadata": {},
   "source": [
    "Now, we will do the same for the test dataset. But since the test set does not have output features, we do not know which anomaly rows we need to drop. Therefore, before dropping the rows, we will merge the output data from the full dataset."
   ]
  },
  {
   "cell_type": "code",
   "execution_count": 19,
   "metadata": {},
   "outputs": [],
   "source": [
    "#setting date as temp index for full and test datasets\n",
    "df_test.set_index('date', inplace=True)\n",
    "df_full.set_index('date', inplace=True)\n",
    "\n",
    "#from the full dataset, getting the subset of output features\n",
    "df_full_outputs=df_full.loc[:, ['rougher.output.recovery', 'final.output.recovery', 'rougher.output.concentrate_au', \n",
    "                                'rougher.output.concentrate_ag', 'rougher.output.concentrate_pb', 'rougher.output.concentrate_sol',\n",
    "                                'final.output.concentrate_au', 'final.output.concentrate_ag', 'final.output.concentrate_pb',\n",
    "                                'final.output.concentrate_sol']]\n",
    "\n",
    "#merging test dataset with the output sebset\n",
    "df_test = df_test.merge(df_full_outputs, on = 'date')"
   ]
  },
  {
   "cell_type": "markdown",
   "metadata": {},
   "source": [
    "Now, when we have output features in the test subset, we can drop anomaly observations."
   ]
  },
  {
   "cell_type": "code",
   "execution_count": 20,
   "metadata": {},
   "outputs": [],
   "source": [
    "#for test dataset dropping rows there total concentrations of all substances are 0\n",
    "df_test=df_test[(df_test['rougher.input.feed_au']+df_test['rougher.input.feed_ag']+df_test['rougher.input.feed_pb']+df_test['rougher.input.feed_sol'])>0]\n",
    "df_test=df_test[(df_test['rougher.output.concentrate_au']+df_test['rougher.output.concentrate_ag']+df_test['rougher.output.concentrate_pb']+df_test['rougher.output.concentrate_sol'])>0]\n",
    "df_test=df_test[(df_test['final.output.concentrate_au']+df_test['final.output.concentrate_ag']+df_test['final.output.concentrate_pb']+df_test['final.output.concentrate_sol'])>0]"
   ]
  },
  {
   "cell_type": "markdown",
   "metadata": {},
   "source": [
    "Next, we will split the test dataset into targets and features subsets."
   ]
  },
  {
   "cell_type": "code",
   "execution_count": 21,
   "metadata": {},
   "outputs": [],
   "source": [
    "#creating targets sebset for testing dataset\n",
    "test_targets = df_test[['rougher.output.recovery', 'final.output.recovery']]\n",
    "test_targets.reset_index(inplace=True,drop=True)\n",
    "\n",
    "#creating features sebset for training dataset\n",
    "test_features = df_test.loc[:, list(train_features.columns)]\n",
    "test_features.reset_index(inplace=True,drop=True)"
   ]
  },
  {
   "cell_type": "markdown",
   "metadata": {},
   "source": [
    "Let’s ensure that test and train feature sets have the same number of columns."
   ]
  },
  {
   "cell_type": "code",
   "execution_count": 22,
   "metadata": {},
   "outputs": [
    {
     "name": "stdout",
     "output_type": "stream",
     "text": [
      "52\n",
      "52\n"
     ]
    }
   ],
   "source": [
    "#printing number of features in test and train feature sets\n",
    "print(test_features.shape[1])\n",
    "print(train_features.shape[1])"
   ]
  },
  {
   "cell_type": "markdown",
   "metadata": {},
   "source": [
    "Test and train features and targets sets are prepared, so we can move to the building of the model."
   ]
  },
  {
   "cell_type": "markdown",
   "metadata": {},
   "source": [
    "# Building the model"
   ]
  },
  {
   "attachments": {
    "image.png": {
     "image/png": "[encoded data removed]"
    }
   },
   "cell_type": "markdown",
   "metadata": {},
   "source": [
    "Before we train our models, we need a scorer to evaluate the model’s performance. We will use the sMAPE metric for our models evaluation. sMAPE is calculated as follows. ![image.png](attachment:image.png)"
   ]
  },
  {
   "cell_type": "code",
   "execution_count": 23,
   "metadata": {},
   "outputs": [],
   "source": [
    "# writing a function to calculate the final sMAPE value\n",
    "def smape(target, predicted):\n",
    "    rougher=(np.mean((np.abs(target.iloc[:,0] - predicted[:, 0]) /((np.abs(target.iloc[:,0]) + np.abs(predicted[:,0])) / 2))) * 100)\n",
    "    final=(np.mean((np.abs(target.iloc[:,1] - predicted[:, 1]) /((np.abs(target.iloc[:,1]) + np.abs(predicted[:,1])) / 2))) * 100)\n",
    "    return rougher*0.25+final*0.75"
   ]
  },
  {
   "cell_type": "code",
   "execution_count": 24,
   "metadata": {},
   "outputs": [],
   "source": [
    "# creating a scorer based on sMAPE metric\n",
    "score = make_scorer(smape)"
   ]
  },
  {
   "cell_type": "markdown",
   "metadata": {},
   "source": [
    "Next, we will build different regression models (LinearRegression, DecisionTree and RandomForest) and will evaluate them using cross-validation with sMAPE as a scorer. Also, for DecisionTree and RandomForest we will find the models with the best parameters. Since sMAPE evaluates model error, the lower sMAPE is better.\n",
    "\n",
    "Firstly, we will build LinearRegression model."
   ]
  },
  {
   "cell_type": "code",
   "execution_count": 25,
   "metadata": {},
   "outputs": [
    {
     "name": "stdout",
     "output_type": "stream",
     "text": [
      "sMAPE: 12.111588335267543\n"
     ]
    }
   ],
   "source": [
    "#training LinearRegression model\n",
    "model = LinearRegression()\n",
    "\n",
    "#evaluating the model\n",
    "model_score = cross_val_score(model, train_features, train_targets, scoring=score, cv=5)\n",
    "print(f'sMAPE: {model_score.mean()}')"
   ]
  },
  {
   "cell_type": "markdown",
   "metadata": {},
   "source": [
    "Next, we will build DecisionTreeRegressor models with maximum depths in the range from 2 to 20 and will select the model with the best maximum depths."
   ]
  },
  {
   "cell_type": "code",
   "execution_count": 26,
   "metadata": {},
   "outputs": [
    {
     "name": "stdout",
     "output_type": "stream",
     "text": [
      "Best sMAPE 10.447466864833737 is achived with max_depth=4\n"
     ]
    }
   ],
   "source": [
    "#declaring variables for storing best max_depth and best sMAPE\n",
    "best_max_depth=0\n",
    "best_sMAPE=100\n",
    "\n",
    "#training models with different maximum depths in range from 2 to 20\n",
    "for i in range(2,20):\n",
    "    model = DecisionTreeRegressor(max_depth=i, random_state=12345)\n",
    "    \n",
    "#evaluating the model\n",
    "    model_score = cross_val_score(model, train_features, train_targets, scoring=score, cv=5)\n",
    "\n",
    "#if sMAPE of the model is lower than previus best sMAPE, updating best max_depth and best sMAPE variables\n",
    "    if model_score.mean()<best_sMAPE:\n",
    "        best_max_depth=i\n",
    "        best_sMAPE=model_score.mean()\n",
    "\n",
    "#printing best sMAPE and max_depth with which this sMAPE is achieved\n",
    "print(f'Best sMAPE {best_sMAPE} is achived with max_depth={best_max_depth}')    "
   ]
  },
  {
   "cell_type": "markdown",
   "metadata": {},
   "source": [
    "Finally, we will build RandomForestRegressor models with a different number of estimators and will select the model with the best n_estimators. We will use max_depth=4 since it was the best max_depth for the DecisonTree model trained before."
   ]
  },
  {
   "cell_type": "code",
   "execution_count": 27,
   "metadata": {},
   "outputs": [
    {
     "name": "stdout",
     "output_type": "stream",
     "text": [
      "Best sMAPE 10.123406567885608 is achived with n_estimators=25\n"
     ]
    }
   ],
   "source": [
    "#declaring variables for storing best n_estimators and best sMAPE\n",
    "best_n_estimators=0\n",
    "best_sMAPE=100\n",
    "\n",
    "#training models with different number of estimators\n",
    "for i in range(5,30,5):\n",
    "    model = RandomForestRegressor(n_estimators=i, max_depth=4, random_state = 12345)\n",
    "    \n",
    "#evaluating the model\n",
    "    model_score = cross_val_score(model, train_features, train_targets, scoring=score, cv=5)\n",
    "\n",
    "#if sMAPE of the model is lower than previus best sMAPE, updating best n_estimators and best sMAPE variables\n",
    "    if model_score.mean()<best_sMAPE:\n",
    "        best_n_estimators=i\n",
    "        best_sMAPE=model_score.mean()\n",
    "\n",
    "#printing best sMAPE and n_estimators with which this sMAPE is achieved\n",
    "print(f'Best sMAPE {best_sMAPE} is achived with n_estimators={best_n_estimators}')"
   ]
  },
  {
   "cell_type": "markdown",
   "metadata": {},
   "source": [
    "As can be seen, the best model is RandomForestRegressor with max_depth=4 and n_estimators=25. Let's compare our best model with a simple baseline. To do this with will use DummyRegressor with a mean strategy."
   ]
  },
  {
   "cell_type": "code",
   "execution_count": 28,
   "metadata": {},
   "outputs": [
    {
     "data": {
      "text/plain": [
       "11.290758749504944"
      ]
     },
     "execution_count": 28,
     "metadata": {},
     "output_type": "execute_result"
    }
   ],
   "source": [
    "#creating a model\n",
    "model = DummyRegressor(strategy=\"mean\")\n",
    "\n",
    "#evaluating the model\n",
    "model_score = cross_val_score(model, train_features, train_targets, scoring=score, cv=5)\n",
    "model_score.mean()"
   ]
  },
  {
   "cell_type": "markdown",
   "metadata": {},
   "source": [
    "As can be seen, our best model performs better than a simple baseline.\n",
    "\n",
    "Funally, we will use this model and perform the final test on the test sample."
   ]
  },
  {
   "cell_type": "code",
   "execution_count": 29,
   "metadata": {},
   "outputs": [
    {
     "name": "stdout",
     "output_type": "stream",
     "text": [
      "sMAPE: 7.707979783916249\n"
     ]
    }
   ],
   "source": [
    "#training the model\n",
    "model = RandomForestRegressor(n_estimators=25, max_depth=4, random_state = 12345)\n",
    "model.fit(train_features, train_targets)\n",
    "\n",
    "#predicting targets for test dataset\n",
    "predicted = model.predict(test_features)\n",
    "\n",
    "#calculating sMAPE\n",
    "print(f'sMAPE: {smape(test_targets, predicted)}')"
   ]
  },
  {
   "cell_type": "markdown",
   "metadata": {},
   "source": [
    "On the test dataset, our best model performs even better."
   ]
  },
  {
   "cell_type": "markdown",
   "metadata": {},
   "source": [
    "# General conclusion\n",
    "\n",
    "In this project, we used machine learning algorithms to develop a model that predicted the amount of gold recovered from gold ore.\n",
    "\n",
    "First, we observed the data and found that all datasets had missing values. Before addressing the missing values, we ensured that recovery is calculated correctly. Since we knew from the documentation that parameters that are next to each other in terms of time are often similar, we used the forward filling method for missing values.\n",
    "\n",
    "In the next stage, we analyzed the data. We checked how the concentrations of metals (Au, Ag, Pb) change depending on the purification stage. We found that the concentration of gold is growing from stage to stage. In the final stage concentration of the gold is more than 5 times higher than at the beginning of the process. The concentration of silver in the rougher stage is higher than what we had in the input, but in the later purification stages, the concentration of silver decreases. As well as the concentration of gold, the concentration of lead is growing from stage to stage. Also, we compared the feed particle size distributions in the training set and in the test set and found that distributions are quite similar, therefore we assumed that model evaluation will be incorrect. In addition, we checked the total concentrations of all substances at different stages: raw feed, rougher concentrate, and final concentrate. It appeared that there were a lot of anomalies where concentrations of all substances are 0. This cannot be true, so we dropped such observations. After that, we split the train and test datasets into targets and features subsets. As we sow from the comparison with the test dataset, the training dataset contained a lot of features that are not needed for the model building so we excluded those features from the training dataset. \n",
    "\n",
    "At the final stage, we built different regression models (LinearRegression, DecisionTree and RandomForest) and evaluated them using cross-validation with sMAPE as a scorer. The best sMAPE was achieved by RandomForestRegressor with max_depth=4 and n_estimators=25. We confirmed that our best model performs better than a simple baseline. Then, used this model and performed the final test on the test sample and it showed an even better result."
   ]
  }
 ],
 "metadata": {
  "ExecuteTimeLog": [
   {
    "duration": 1282,
    "start_time": "2022-03-24T05:14:13.182Z"
   },
   {
    "duration": 717,
    "start_time": "2022-03-24T05:15:32.116Z"
   },
   {
    "duration": 38,
    "start_time": "2022-03-24T05:16:47.105Z"
   },
   {
    "duration": 42,
    "start_time": "2022-03-25T04:45:16.845Z"
   },
   {
    "duration": 1097,
    "start_time": "2022-03-25T04:45:20.216Z"
   },
   {
    "duration": 715,
    "start_time": "2022-03-25T04:45:21.879Z"
   },
   {
    "duration": 17,
    "start_time": "2022-03-25T04:45:24.221Z"
   },
   {
    "duration": 13,
    "start_time": "2022-03-25T04:46:16.786Z"
   },
   {
    "duration": 27,
    "start_time": "2022-03-25T04:46:29.436Z"
   },
   {
    "duration": 12,
    "start_time": "2022-03-25T04:47:29.606Z"
   },
   {
    "duration": 21,
    "start_time": "2022-03-25T04:48:58.166Z"
   },
   {
    "duration": 20,
    "start_time": "2022-03-25T04:49:17.682Z"
   },
   {
    "duration": 13,
    "start_time": "2022-03-25T04:50:25.546Z"
   },
   {
    "duration": 19,
    "start_time": "2022-03-25T04:50:54.236Z"
   },
   {
    "duration": 7,
    "start_time": "2022-03-25T04:55:45.442Z"
   },
   {
    "duration": 57,
    "start_time": "2022-03-25T05:00:13.108Z"
   },
   {
    "duration": 3,
    "start_time": "2022-03-25T05:00:29.173Z"
   },
   {
    "duration": 14,
    "start_time": "2022-03-25T05:00:37.581Z"
   },
   {
    "duration": 12,
    "start_time": "2022-03-25T05:01:47.369Z"
   },
   {
    "duration": 9,
    "start_time": "2022-03-25T05:02:14.369Z"
   },
   {
    "duration": 5,
    "start_time": "2022-03-25T05:02:29.629Z"
   },
   {
    "duration": 8,
    "start_time": "2022-03-25T05:02:35.977Z"
   },
   {
    "duration": 7,
    "start_time": "2022-03-25T05:06:28.618Z"
   },
   {
    "duration": 191,
    "start_time": "2022-03-25T05:11:39.272Z"
   },
   {
    "duration": 18,
    "start_time": "2022-03-25T05:11:47.693Z"
   },
   {
    "duration": 8,
    "start_time": "2022-03-25T05:12:36.834Z"
   },
   {
    "duration": 7,
    "start_time": "2022-03-25T05:13:16.269Z"
   },
   {
    "duration": 3,
    "start_time": "2022-03-25T05:14:52.846Z"
   },
   {
    "duration": 5,
    "start_time": "2022-03-25T05:14:56.302Z"
   },
   {
    "duration": 10,
    "start_time": "2022-03-25T05:15:10.939Z"
   },
   {
    "duration": 4,
    "start_time": "2022-03-25T05:15:21.881Z"
   },
   {
    "duration": 5,
    "start_time": "2022-03-25T05:17:39.956Z"
   },
   {
    "duration": 12,
    "start_time": "2022-03-25T05:31:28.605Z"
   },
   {
    "duration": 24,
    "start_time": "2022-03-25T05:31:57.089Z"
   },
   {
    "duration": 25,
    "start_time": "2022-03-25T05:32:31.853Z"
   },
   {
    "duration": 1263,
    "start_time": "2022-03-30T04:34:41.008Z"
   },
   {
    "duration": 781,
    "start_time": "2022-03-30T04:34:42.273Z"
   },
   {
    "duration": 19,
    "start_time": "2022-03-30T04:34:43.056Z"
   },
   {
    "duration": 46,
    "start_time": "2022-03-30T04:34:43.077Z"
   },
   {
    "duration": 13,
    "start_time": "2022-03-30T04:34:43.126Z"
   },
   {
    "duration": 24,
    "start_time": "2022-03-30T04:34:43.141Z"
   },
   {
    "duration": 45,
    "start_time": "2022-03-30T04:34:43.167Z"
   },
   {
    "duration": 24,
    "start_time": "2022-03-30T04:34:43.215Z"
   },
   {
    "duration": 19,
    "start_time": "2022-03-30T04:34:43.241Z"
   },
   {
    "duration": 40,
    "start_time": "2022-03-30T04:34:43.262Z"
   },
   {
    "duration": 5,
    "start_time": "2022-03-30T04:34:43.305Z"
   },
   {
    "duration": 27,
    "start_time": "2022-03-30T04:34:43.311Z"
   },
   {
    "duration": 107,
    "start_time": "2022-03-30T04:51:49.094Z"
   },
   {
    "duration": 4,
    "start_time": "2022-03-30T04:52:35.838Z"
   },
   {
    "duration": 11,
    "start_time": "2022-03-30T04:52:45.062Z"
   },
   {
    "duration": 11,
    "start_time": "2022-03-30T04:53:03.534Z"
   },
   {
    "duration": 14,
    "start_time": "2022-03-30T04:56:33.327Z"
   },
   {
    "duration": 14,
    "start_time": "2022-03-30T04:57:21.930Z"
   },
   {
    "duration": 14,
    "start_time": "2022-03-30T04:58:41.065Z"
   },
   {
    "duration": 13,
    "start_time": "2022-03-30T05:12:37.660Z"
   },
   {
    "duration": 689,
    "start_time": "2022-03-30T05:16:21.669Z"
   },
   {
    "duration": 111,
    "start_time": "2022-03-30T05:16:45.776Z"
   },
   {
    "duration": 133,
    "start_time": "2022-03-30T05:17:58.248Z"
   },
   {
    "duration": 170,
    "start_time": "2022-03-30T05:18:10.117Z"
   },
   {
    "duration": 3,
    "start_time": "2022-03-30T05:18:55.944Z"
   },
   {
    "duration": 129,
    "start_time": "2022-03-30T05:19:04.460Z"
   },
   {
    "duration": 3,
    "start_time": "2022-03-30T05:22:15.444Z"
   },
   {
    "duration": 219,
    "start_time": "2022-03-30T05:22:29.647Z"
   },
   {
    "duration": 114,
    "start_time": "2022-03-30T05:23:05.146Z"
   },
   {
    "duration": 107,
    "start_time": "2022-03-30T05:24:22.130Z"
   },
   {
    "duration": 96,
    "start_time": "2022-03-30T05:24:54.525Z"
   },
   {
    "duration": 104,
    "start_time": "2022-03-30T05:25:09.846Z"
   },
   {
    "duration": 106,
    "start_time": "2022-03-30T05:26:02.080Z"
   },
   {
    "duration": 116,
    "start_time": "2022-03-30T05:26:38.704Z"
   },
   {
    "duration": 98,
    "start_time": "2022-03-30T05:27:38.216Z"
   },
   {
    "duration": 106,
    "start_time": "2022-03-30T05:27:55.065Z"
   },
   {
    "duration": 113,
    "start_time": "2022-03-30T05:28:00.888Z"
   },
   {
    "duration": 103,
    "start_time": "2022-03-30T05:30:42.009Z"
   },
   {
    "duration": 99,
    "start_time": "2022-03-30T05:31:59.613Z"
   },
   {
    "duration": 116,
    "start_time": "2022-03-30T05:32:10.005Z"
   },
   {
    "duration": 100,
    "start_time": "2022-03-30T05:32:20.316Z"
   },
   {
    "duration": 5,
    "start_time": "2022-03-30T05:39:53.717Z"
   },
   {
    "duration": 7,
    "start_time": "2022-03-30T05:43:57.205Z"
   },
   {
    "duration": 723,
    "start_time": "2022-03-30T05:47:47.466Z"
   },
   {
    "duration": 516,
    "start_time": "2022-03-30T05:49:39.644Z"
   },
   {
    "duration": 505,
    "start_time": "2022-03-30T05:49:48.912Z"
   },
   {
    "duration": 187,
    "start_time": "2022-03-30T05:51:21.845Z"
   },
   {
    "duration": 187,
    "start_time": "2022-03-30T06:00:12.427Z"
   },
   {
    "duration": 184,
    "start_time": "2022-03-30T06:01:28.663Z"
   },
   {
    "duration": 185,
    "start_time": "2022-03-30T06:01:41.215Z"
   },
   {
    "duration": 311,
    "start_time": "2022-03-30T06:01:52.021Z"
   },
   {
    "duration": 196,
    "start_time": "2022-03-30T06:02:20.312Z"
   },
   {
    "duration": 292,
    "start_time": "2022-03-30T06:02:41.972Z"
   },
   {
    "duration": 524,
    "start_time": "2022-03-30T06:02:55.473Z"
   },
   {
    "duration": 29,
    "start_time": "2022-03-30T06:09:33.913Z"
   },
   {
    "duration": 4,
    "start_time": "2022-03-30T06:09:49.832Z"
   },
   {
    "duration": 10,
    "start_time": "2022-03-30T06:10:00.176Z"
   },
   {
    "duration": 4,
    "start_time": "2022-03-30T06:10:03.218Z"
   },
   {
    "duration": 18,
    "start_time": "2022-03-30T06:11:02.246Z"
   },
   {
    "duration": 4,
    "start_time": "2022-03-30T06:11:08.344Z"
   },
   {
    "duration": 2474,
    "start_time": "2022-03-30T06:13:01.179Z"
   },
   {
    "duration": 8,
    "start_time": "2022-03-30T06:15:41.581Z"
   },
   {
    "duration": 5,
    "start_time": "2022-03-30T06:15:46.023Z"
   },
   {
    "duration": 4,
    "start_time": "2022-03-30T06:15:52.481Z"
   },
   {
    "duration": 6,
    "start_time": "2022-03-30T06:32:46.500Z"
   },
   {
    "duration": 784,
    "start_time": "2022-03-30T06:32:46.508Z"
   },
   {
    "duration": 21,
    "start_time": "2022-03-30T06:32:47.293Z"
   },
   {
    "duration": 27,
    "start_time": "2022-03-30T06:32:47.316Z"
   },
   {
    "duration": 16,
    "start_time": "2022-03-30T06:32:47.346Z"
   },
   {
    "duration": 58,
    "start_time": "2022-03-30T06:32:47.364Z"
   },
   {
    "duration": 23,
    "start_time": "2022-03-30T06:32:47.424Z"
   },
   {
    "duration": 25,
    "start_time": "2022-03-30T06:32:47.449Z"
   },
   {
    "duration": 36,
    "start_time": "2022-03-30T06:32:47.476Z"
   },
   {
    "duration": 10,
    "start_time": "2022-03-30T06:32:47.514Z"
   },
   {
    "duration": 6,
    "start_time": "2022-03-30T06:32:47.525Z"
   },
   {
    "duration": 28,
    "start_time": "2022-03-30T06:32:47.533Z"
   },
   {
    "duration": 44,
    "start_time": "2022-03-30T06:32:47.564Z"
   },
   {
    "duration": 128,
    "start_time": "2022-03-30T06:32:47.612Z"
   },
   {
    "duration": 8,
    "start_time": "2022-03-30T06:32:47.742Z"
   },
   {
    "duration": 563,
    "start_time": "2022-03-30T06:32:47.751Z"
   },
   {
    "duration": 21,
    "start_time": "2022-03-30T06:32:48.316Z"
   },
   {
    "duration": 7,
    "start_time": "2022-03-30T06:32:48.338Z"
   },
   {
    "duration": 8,
    "start_time": "2022-03-30T06:32:48.347Z"
   },
   {
    "duration": 2356,
    "start_time": "2022-03-31T05:31:40.709Z"
   },
   {
    "duration": 1007,
    "start_time": "2022-03-31T05:31:43.069Z"
   },
   {
    "duration": 29,
    "start_time": "2022-03-31T05:31:44.083Z"
   },
   {
    "duration": 42,
    "start_time": "2022-03-31T05:31:44.116Z"
   },
   {
    "duration": 27,
    "start_time": "2022-03-31T05:31:44.188Z"
   },
   {
    "duration": 36,
    "start_time": "2022-03-31T05:31:44.217Z"
   },
   {
    "duration": 62,
    "start_time": "2022-03-31T05:31:44.255Z"
   },
   {
    "duration": 35,
    "start_time": "2022-03-31T05:31:44.319Z"
   },
   {
    "duration": 23,
    "start_time": "2022-03-31T05:31:44.385Z"
   },
   {
    "duration": 11,
    "start_time": "2022-03-31T05:31:44.411Z"
   },
   {
    "duration": 8,
    "start_time": "2022-03-31T05:31:44.425Z"
   },
   {
    "duration": 70,
    "start_time": "2022-03-31T05:31:44.435Z"
   },
   {
    "duration": 20,
    "start_time": "2022-03-31T05:31:44.508Z"
   },
   {
    "duration": 294,
    "start_time": "2022-03-31T05:31:44.531Z"
   },
   {
    "duration": 9,
    "start_time": "2022-03-31T05:31:44.827Z"
   },
   {
    "duration": 1130,
    "start_time": "2022-03-31T05:31:44.838Z"
   },
   {
    "duration": 46,
    "start_time": "2022-03-31T05:31:45.970Z"
   },
   {
    "duration": 8,
    "start_time": "2022-03-31T05:31:46.018Z"
   },
   {
    "duration": 10,
    "start_time": "2022-03-31T05:31:46.028Z"
   },
   {
    "duration": 1911,
    "start_time": "2022-03-31T05:37:55.927Z"
   },
   {
    "duration": 10,
    "start_time": "2022-03-31T05:38:22.548Z"
   },
   {
    "duration": 12,
    "start_time": "2022-03-31T05:38:25.448Z"
   },
   {
    "duration": 7,
    "start_time": "2022-03-31T05:42:58.552Z"
   },
   {
    "duration": 24,
    "start_time": "2022-03-31T05:45:38.749Z"
   },
   {
    "duration": 19,
    "start_time": "2022-03-31T05:47:28.648Z"
   },
   {
    "duration": 7,
    "start_time": "2022-03-31T05:47:56.097Z"
   },
   {
    "duration": 21,
    "start_time": "2022-03-31T05:48:10.181Z"
   },
   {
    "duration": 22,
    "start_time": "2022-03-31T05:48:20.183Z"
   },
   {
    "duration": 23,
    "start_time": "2022-03-31T05:48:37.084Z"
   },
   {
    "duration": 33,
    "start_time": "2022-03-31T05:48:43.765Z"
   },
   {
    "duration": 22,
    "start_time": "2022-03-31T05:51:10.055Z"
   },
   {
    "duration": 8,
    "start_time": "2022-03-31T05:53:12.695Z"
   },
   {
    "duration": 5,
    "start_time": "2022-03-31T05:53:32.120Z"
   },
   {
    "duration": 6,
    "start_time": "2022-03-31T05:53:59.118Z"
   },
   {
    "duration": 120,
    "start_time": "2022-03-31T06:13:04.476Z"
   },
   {
    "duration": 110,
    "start_time": "2022-03-31T06:18:53.234Z"
   },
   {
    "duration": 5,
    "start_time": "2022-03-31T06:20:41.938Z"
   },
   {
    "duration": 5,
    "start_time": "2022-03-31T06:20:53.480Z"
   },
   {
    "duration": 6,
    "start_time": "2022-03-31T06:21:51.710Z"
   },
   {
    "duration": 5,
    "start_time": "2022-03-31T06:23:08.948Z"
   },
   {
    "duration": 5,
    "start_time": "2022-03-31T06:27:05.192Z"
   },
   {
    "duration": 4,
    "start_time": "2022-03-31T06:27:13.200Z"
   },
   {
    "duration": 5,
    "start_time": "2022-03-31T06:36:11.844Z"
   },
   {
    "duration": 14,
    "start_time": "2022-03-31T06:40:37.207Z"
   },
   {
    "duration": 5,
    "start_time": "2022-03-31T06:41:58.785Z"
   },
   {
    "duration": 13,
    "start_time": "2022-03-31T06:43:13.499Z"
   },
   {
    "duration": 4,
    "start_time": "2022-03-31T06:43:23.296Z"
   },
   {
    "duration": 307,
    "start_time": "2022-03-31T06:43:26.351Z"
   },
   {
    "duration": 2593,
    "start_time": "2022-03-31T06:45:20.003Z"
   },
   {
    "duration": 2127,
    "start_time": "2022-04-01T04:00:29.156Z"
   },
   {
    "duration": 1719,
    "start_time": "2022-04-01T04:00:31.287Z"
   },
   {
    "duration": 27,
    "start_time": "2022-04-01T04:00:33.008Z"
   },
   {
    "duration": 62,
    "start_time": "2022-04-01T04:00:33.037Z"
   },
   {
    "duration": 20,
    "start_time": "2022-04-01T04:00:33.103Z"
   },
   {
    "duration": 74,
    "start_time": "2022-04-01T04:00:33.125Z"
   },
   {
    "duration": 27,
    "start_time": "2022-04-01T04:00:33.201Z"
   },
   {
    "duration": 34,
    "start_time": "2022-04-01T04:00:33.230Z"
   },
   {
    "duration": 38,
    "start_time": "2022-04-01T04:00:33.266Z"
   },
   {
    "duration": 10,
    "start_time": "2022-04-01T04:00:33.306Z"
   },
   {
    "duration": 9,
    "start_time": "2022-04-01T04:00:33.319Z"
   },
   {
    "duration": 64,
    "start_time": "2022-04-01T04:00:33.330Z"
   },
   {
    "duration": 18,
    "start_time": "2022-04-01T04:00:33.398Z"
   },
   {
    "duration": 183,
    "start_time": "2022-04-01T04:00:33.420Z"
   },
   {
    "duration": 8,
    "start_time": "2022-04-01T04:00:33.605Z"
   },
   {
    "duration": 927,
    "start_time": "2022-04-01T04:00:33.615Z"
   },
   {
    "duration": 48,
    "start_time": "2022-04-01T04:00:34.544Z"
   },
   {
    "duration": 8,
    "start_time": "2022-04-01T04:00:34.595Z"
   },
   {
    "duration": 10,
    "start_time": "2022-04-01T04:00:34.606Z"
   },
   {
    "duration": 6,
    "start_time": "2022-04-01T04:00:34.618Z"
   },
   {
    "duration": 6,
    "start_time": "2022-04-01T04:00:34.626Z"
   },
   {
    "duration": 56,
    "start_time": "2022-04-01T04:00:34.634Z"
   },
   {
    "duration": 29,
    "start_time": "2022-04-01T04:00:34.693Z"
   },
   {
    "duration": 19,
    "start_time": "2022-04-01T04:00:34.724Z"
   },
   {
    "duration": 6,
    "start_time": "2022-04-01T04:00:34.745Z"
   },
   {
    "duration": 50,
    "start_time": "2022-04-01T04:00:34.753Z"
   },
   {
    "duration": 8,
    "start_time": "2022-04-01T04:00:34.805Z"
   },
   {
    "duration": 7,
    "start_time": "2022-04-01T04:00:34.815Z"
   },
   {
    "duration": 1392,
    "start_time": "2022-04-01T04:01:08.086Z"
   },
   {
    "duration": 6,
    "start_time": "2022-04-01T04:02:35.665Z"
   },
   {
    "duration": 1266,
    "start_time": "2022-04-01T04:02:39.180Z"
   },
   {
    "duration": 11,
    "start_time": "2022-04-01T04:03:09.122Z"
   },
   {
    "duration": 178,
    "start_time": "2022-04-01T04:04:55.496Z"
   },
   {
    "duration": 190,
    "start_time": "2022-04-01T04:05:20.083Z"
   },
   {
    "duration": 228,
    "start_time": "2022-04-01T04:05:48.879Z"
   },
   {
    "duration": 5,
    "start_time": "2022-04-01T04:06:18.448Z"
   },
   {
    "duration": 1316,
    "start_time": "2022-04-01T04:06:28.119Z"
   },
   {
    "duration": 12,
    "start_time": "2022-04-01T04:09:15.513Z"
   },
   {
    "duration": 8,
    "start_time": "2022-04-01T04:09:26.464Z"
   },
   {
    "duration": 7,
    "start_time": "2022-04-01T04:09:37.128Z"
   },
   {
    "duration": 4,
    "start_time": "2022-04-01T04:10:32.716Z"
   },
   {
    "duration": 7,
    "start_time": "2022-04-01T04:10:37.149Z"
   },
   {
    "duration": 6,
    "start_time": "2022-04-01T04:11:47.533Z"
   },
   {
    "duration": 11,
    "start_time": "2022-04-01T04:11:52.107Z"
   },
   {
    "duration": 3,
    "start_time": "2022-04-01T04:11:57.208Z"
   },
   {
    "duration": 262,
    "start_time": "2022-04-01T04:12:02.177Z"
   },
   {
    "duration": 257,
    "start_time": "2022-04-01T04:12:32.556Z"
   },
   {
    "duration": 73,
    "start_time": "2022-04-01T04:13:13.425Z"
   },
   {
    "duration": 27,
    "start_time": "2022-04-01T04:15:29.566Z"
   },
   {
    "duration": 14,
    "start_time": "2022-04-01T04:15:54.669Z"
   },
   {
    "duration": 5,
    "start_time": "2022-04-01T04:15:58.100Z"
   },
   {
    "duration": 12,
    "start_time": "2022-04-01T04:16:05.598Z"
   },
   {
    "duration": 5,
    "start_time": "2022-04-01T04:16:15.833Z"
   },
   {
    "duration": 5,
    "start_time": "2022-04-01T04:16:33.955Z"
   },
   {
    "duration": 903,
    "start_time": "2022-04-01T04:16:33.963Z"
   },
   {
    "duration": 34,
    "start_time": "2022-04-01T04:16:34.868Z"
   },
   {
    "duration": 33,
    "start_time": "2022-04-01T04:16:34.905Z"
   },
   {
    "duration": 51,
    "start_time": "2022-04-01T04:16:34.940Z"
   },
   {
    "duration": 34,
    "start_time": "2022-04-01T04:16:34.994Z"
   },
   {
    "duration": 31,
    "start_time": "2022-04-01T04:16:35.030Z"
   },
   {
    "duration": 60,
    "start_time": "2022-04-01T04:16:35.063Z"
   },
   {
    "duration": 16,
    "start_time": "2022-04-01T04:16:35.125Z"
   },
   {
    "duration": 10,
    "start_time": "2022-04-01T04:16:35.145Z"
   },
   {
    "duration": 27,
    "start_time": "2022-04-01T04:16:35.158Z"
   },
   {
    "duration": 34,
    "start_time": "2022-04-01T04:16:35.191Z"
   },
   {
    "duration": 21,
    "start_time": "2022-04-01T04:16:35.227Z"
   },
   {
    "duration": 185,
    "start_time": "2022-04-01T04:16:35.250Z"
   },
   {
    "duration": 9,
    "start_time": "2022-04-01T04:16:35.437Z"
   },
   {
    "duration": 840,
    "start_time": "2022-04-01T04:16:35.448Z"
   },
   {
    "duration": 35,
    "start_time": "2022-04-01T04:16:36.290Z"
   },
   {
    "duration": 8,
    "start_time": "2022-04-01T04:16:36.327Z"
   },
   {
    "duration": 14,
    "start_time": "2022-04-01T04:16:36.337Z"
   },
   {
    "duration": 36,
    "start_time": "2022-04-01T04:16:36.354Z"
   },
   {
    "duration": 9,
    "start_time": "2022-04-01T04:16:36.392Z"
   },
   {
    "duration": 23,
    "start_time": "2022-04-01T04:16:36.404Z"
   },
   {
    "duration": 29,
    "start_time": "2022-04-01T04:16:36.429Z"
   },
   {
    "duration": 19,
    "start_time": "2022-04-01T04:16:36.487Z"
   },
   {
    "duration": 9,
    "start_time": "2022-04-01T04:16:36.508Z"
   },
   {
    "duration": 10,
    "start_time": "2022-04-01T04:16:36.519Z"
   },
   {
    "duration": 6,
    "start_time": "2022-04-01T04:16:36.531Z"
   },
   {
    "duration": 4,
    "start_time": "2022-04-01T04:16:36.541Z"
   },
   {
    "duration": 11,
    "start_time": "2022-04-01T04:16:38.738Z"
   },
   {
    "duration": 165,
    "start_time": "2022-04-01T04:16:47.528Z"
   },
   {
    "duration": 2142,
    "start_time": "2022-04-01T04:17:06.543Z"
   },
   {
    "duration": 2178,
    "start_time": "2022-04-01T04:17:27.923Z"
   },
   {
    "duration": 450,
    "start_time": "2022-04-01T04:18:19.434Z"
   },
   {
    "duration": 364,
    "start_time": "2022-04-01T04:18:41.224Z"
   },
   {
    "duration": 6,
    "start_time": "2022-04-01T04:19:46.263Z"
   },
   {
    "duration": 6,
    "start_time": "2022-04-01T04:19:48.342Z"
   },
   {
    "duration": 408,
    "start_time": "2022-04-01T04:19:54.595Z"
   },
   {
    "duration": 3511,
    "start_time": "2022-04-01T04:20:26.878Z"
   },
   {
    "duration": 1331,
    "start_time": "2022-04-01T04:20:53.774Z"
   },
   {
    "duration": 1512,
    "start_time": "2022-04-01T04:37:04.491Z"
   },
   {
    "duration": 1431,
    "start_time": "2022-04-01T04:37:18.555Z"
   },
   {
    "duration": 2236,
    "start_time": "2022-04-01T04:39:48.362Z"
   },
   {
    "duration": 6,
    "start_time": "2022-04-01T04:50:13.596Z"
   },
   {
    "duration": 1713,
    "start_time": "2022-04-01T04:50:17.134Z"
   },
   {
    "duration": 5,
    "start_time": "2022-04-01T04:56:09.967Z"
   },
   {
    "duration": 873,
    "start_time": "2022-04-01T04:56:09.975Z"
   },
   {
    "duration": 43,
    "start_time": "2022-04-01T04:56:10.851Z"
   },
   {
    "duration": 33,
    "start_time": "2022-04-01T04:56:10.897Z"
   },
   {
    "duration": 19,
    "start_time": "2022-04-01T04:56:10.932Z"
   },
   {
    "duration": 58,
    "start_time": "2022-04-01T04:56:10.953Z"
   },
   {
    "duration": 24,
    "start_time": "2022-04-01T04:56:11.013Z"
   },
   {
    "duration": 57,
    "start_time": "2022-04-01T04:56:11.039Z"
   },
   {
    "duration": 16,
    "start_time": "2022-04-01T04:56:11.100Z"
   },
   {
    "duration": 11,
    "start_time": "2022-04-01T04:56:11.118Z"
   },
   {
    "duration": 10,
    "start_time": "2022-04-01T04:56:11.131Z"
   },
   {
    "duration": 61,
    "start_time": "2022-04-01T04:56:11.143Z"
   },
   {
    "duration": 21,
    "start_time": "2022-04-01T04:56:11.206Z"
   },
   {
    "duration": 181,
    "start_time": "2022-04-01T04:56:11.229Z"
   },
   {
    "duration": 9,
    "start_time": "2022-04-01T04:56:11.413Z"
   },
   {
    "duration": 850,
    "start_time": "2022-04-01T04:56:11.424Z"
   },
   {
    "duration": 35,
    "start_time": "2022-04-01T04:56:12.276Z"
   },
   {
    "duration": 8,
    "start_time": "2022-04-01T04:56:12.314Z"
   },
   {
    "duration": 18,
    "start_time": "2022-04-01T04:56:35.980Z"
   },
   {
    "duration": 14,
    "start_time": "2022-04-01T04:56:44.410Z"
   },
   {
    "duration": 32,
    "start_time": "2022-04-01T04:58:22.417Z"
   },
   {
    "duration": 31,
    "start_time": "2022-04-01T04:59:02.312Z"
   },
   {
    "duration": 5,
    "start_time": "2022-04-01T04:59:11.612Z"
   },
   {
    "duration": 875,
    "start_time": "2022-04-01T04:59:11.620Z"
   },
   {
    "duration": 145,
    "start_time": "2022-04-01T04:59:12.497Z"
   },
   {
    "duration": 41,
    "start_time": "2022-04-01T04:59:12.644Z"
   },
   {
    "duration": 24,
    "start_time": "2022-04-01T04:59:12.688Z"
   },
   {
    "duration": 33,
    "start_time": "2022-04-01T04:59:12.715Z"
   },
   {
    "duration": 64,
    "start_time": "2022-04-01T04:59:12.750Z"
   },
   {
    "duration": 33,
    "start_time": "2022-04-01T04:59:12.816Z"
   },
   {
    "duration": 37,
    "start_time": "2022-04-01T04:59:12.851Z"
   },
   {
    "duration": 12,
    "start_time": "2022-04-01T04:59:12.891Z"
   },
   {
    "duration": 9,
    "start_time": "2022-04-01T04:59:12.905Z"
   },
   {
    "duration": 28,
    "start_time": "2022-04-01T04:59:12.916Z"
   },
   {
    "duration": 55,
    "start_time": "2022-04-01T04:59:12.948Z"
   },
   {
    "duration": 180,
    "start_time": "2022-04-01T04:59:13.006Z"
   },
   {
    "duration": 9,
    "start_time": "2022-04-01T04:59:13.189Z"
   },
   {
    "duration": 861,
    "start_time": "2022-04-01T04:59:13.200Z"
   },
   {
    "duration": 46,
    "start_time": "2022-04-01T04:59:14.064Z"
   },
   {
    "duration": 7,
    "start_time": "2022-04-01T04:59:14.113Z"
   },
   {
    "duration": 33,
    "start_time": "2022-04-01T04:59:20.018Z"
   },
   {
    "duration": 8,
    "start_time": "2022-04-01T04:59:30.169Z"
   },
   {
    "duration": 35,
    "start_time": "2022-04-01T04:59:39.379Z"
   },
   {
    "duration": 8,
    "start_time": "2022-04-01T04:59:49.636Z"
   },
   {
    "duration": 22,
    "start_time": "2022-04-01T04:59:56.946Z"
   },
   {
    "duration": 7,
    "start_time": "2022-04-01T05:00:10.495Z"
   },
   {
    "duration": 24,
    "start_time": "2022-04-01T05:00:23.873Z"
   },
   {
    "duration": 30,
    "start_time": "2022-04-01T05:00:26.729Z"
   },
   {
    "duration": 18,
    "start_time": "2022-04-01T05:00:35.051Z"
   },
   {
    "duration": 7,
    "start_time": "2022-04-01T05:00:39.542Z"
   },
   {
    "duration": 6,
    "start_time": "2022-04-01T05:00:45.154Z"
   },
   {
    "duration": 7,
    "start_time": "2022-04-01T05:01:01.774Z"
   },
   {
    "duration": 1516,
    "start_time": "2022-04-01T05:01:05.243Z"
   },
   {
    "duration": 4,
    "start_time": "2022-04-01T05:01:11.047Z"
   },
   {
    "duration": 2109,
    "start_time": "2022-04-01T05:01:18.818Z"
   },
   {
    "duration": 6,
    "start_time": "2022-04-01T05:01:59.964Z"
   },
   {
    "duration": 1210,
    "start_time": "2022-04-01T05:02:02.095Z"
   },
   {
    "duration": 278,
    "start_time": "2022-04-01T05:02:31.120Z"
   },
   {
    "duration": 2677,
    "start_time": "2022-04-01T05:02:35.295Z"
   },
   {
    "duration": 251,
    "start_time": "2022-04-01T05:04:47.938Z"
   },
   {
    "duration": 35,
    "start_time": "2022-04-01T05:06:29.478Z"
   },
   {
    "duration": 10,
    "start_time": "2022-04-01T05:06:44.114Z"
   },
   {
    "duration": 8,
    "start_time": "2022-04-01T05:07:20.552Z"
   },
   {
    "duration": 234,
    "start_time": "2022-04-01T05:07:25.636Z"
   },
   {
    "duration": 6,
    "start_time": "2022-04-01T05:08:29.872Z"
   },
   {
    "duration": 236,
    "start_time": "2022-04-01T05:08:36.723Z"
   },
   {
    "duration": 233,
    "start_time": "2022-04-01T05:09:24.774Z"
   },
   {
    "duration": 10,
    "start_time": "2022-04-01T05:12:23.020Z"
   },
   {
    "duration": 45,
    "start_time": "2022-04-01T05:14:15.702Z"
   },
   {
    "duration": 6,
    "start_time": "2022-04-01T05:14:30.896Z"
   },
   {
    "duration": 926,
    "start_time": "2022-04-01T05:14:30.904Z"
   },
   {
    "duration": 27,
    "start_time": "2022-04-01T05:14:31.832Z"
   },
   {
    "duration": 43,
    "start_time": "2022-04-01T05:14:31.882Z"
   },
   {
    "duration": 20,
    "start_time": "2022-04-01T05:14:31.928Z"
   },
   {
    "duration": 57,
    "start_time": "2022-04-01T05:14:31.951Z"
   },
   {
    "duration": 27,
    "start_time": "2022-04-01T05:14:32.010Z"
   },
   {
    "duration": 62,
    "start_time": "2022-04-01T05:14:32.039Z"
   },
   {
    "duration": 19,
    "start_time": "2022-04-01T05:14:32.104Z"
   },
   {
    "duration": 12,
    "start_time": "2022-04-01T05:14:32.128Z"
   },
   {
    "duration": 45,
    "start_time": "2022-04-01T05:14:32.143Z"
   },
   {
    "duration": 38,
    "start_time": "2022-04-01T05:14:32.191Z"
   },
   {
    "duration": 20,
    "start_time": "2022-04-01T05:14:32.231Z"
   },
   {
    "duration": 175,
    "start_time": "2022-04-01T05:14:32.253Z"
   },
   {
    "duration": 9,
    "start_time": "2022-04-01T05:14:32.430Z"
   },
   {
    "duration": 815,
    "start_time": "2022-04-01T05:14:32.441Z"
   },
   {
    "duration": 46,
    "start_time": "2022-04-01T05:14:33.259Z"
   },
   {
    "duration": 8,
    "start_time": "2022-04-01T05:14:33.307Z"
   },
   {
    "duration": 11,
    "start_time": "2022-04-01T05:14:33.317Z"
   },
   {
    "duration": 13,
    "start_time": "2022-04-01T05:14:33.330Z"
   },
   {
    "duration": 12,
    "start_time": "2022-04-01T05:14:33.345Z"
   },
   {
    "duration": 8,
    "start_time": "2022-04-01T05:14:33.382Z"
   },
   {
    "duration": 33,
    "start_time": "2022-04-01T05:14:33.392Z"
   },
   {
    "duration": 31,
    "start_time": "2022-04-01T05:14:33.427Z"
   },
   {
    "duration": 30,
    "start_time": "2022-04-01T05:14:33.460Z"
   },
   {
    "duration": 20,
    "start_time": "2022-04-01T05:14:33.492Z"
   },
   {
    "duration": 10,
    "start_time": "2022-04-01T05:14:33.515Z"
   },
   {
    "duration": 6,
    "start_time": "2022-04-01T05:14:33.530Z"
   },
   {
    "duration": 5,
    "start_time": "2022-04-01T05:14:33.539Z"
   },
   {
    "duration": 1421,
    "start_time": "2022-04-01T05:14:33.547Z"
   },
   {
    "duration": 0,
    "start_time": "2022-04-01T05:14:34.970Z"
   },
   {
    "duration": 42,
    "start_time": "2022-04-01T05:15:03.311Z"
   },
   {
    "duration": 11,
    "start_time": "2022-04-01T05:15:16.036Z"
   },
   {
    "duration": 47,
    "start_time": "2022-04-01T05:15:48.349Z"
   },
   {
    "duration": 4,
    "start_time": "2022-04-01T05:16:14.101Z"
   },
   {
    "duration": 895,
    "start_time": "2022-04-01T05:16:14.109Z"
   },
   {
    "duration": 25,
    "start_time": "2022-04-01T05:16:15.006Z"
   },
   {
    "duration": 56,
    "start_time": "2022-04-01T05:16:15.033Z"
   },
   {
    "duration": 21,
    "start_time": "2022-04-01T05:16:15.092Z"
   },
   {
    "duration": 32,
    "start_time": "2022-04-01T05:16:15.115Z"
   },
   {
    "duration": 54,
    "start_time": "2022-04-01T05:16:15.149Z"
   },
   {
    "duration": 32,
    "start_time": "2022-04-01T05:16:15.206Z"
   },
   {
    "duration": 21,
    "start_time": "2022-04-01T05:16:15.240Z"
   },
   {
    "duration": 35,
    "start_time": "2022-04-01T05:16:15.263Z"
   },
   {
    "duration": 10,
    "start_time": "2022-04-01T05:16:15.300Z"
   },
   {
    "duration": 27,
    "start_time": "2022-04-01T05:16:15.312Z"
   },
   {
    "duration": 52,
    "start_time": "2022-04-01T05:16:15.342Z"
   },
   {
    "duration": 153,
    "start_time": "2022-04-01T05:16:15.401Z"
   },
   {
    "duration": 9,
    "start_time": "2022-04-01T05:16:15.556Z"
   },
   {
    "duration": 931,
    "start_time": "2022-04-01T05:16:15.567Z"
   },
   {
    "duration": 31,
    "start_time": "2022-04-01T05:16:16.500Z"
   },
   {
    "duration": 9,
    "start_time": "2022-04-01T05:16:16.533Z"
   },
   {
    "duration": 42,
    "start_time": "2022-04-01T05:16:16.544Z"
   },
   {
    "duration": 20,
    "start_time": "2022-04-01T05:16:16.589Z"
   },
   {
    "duration": 9,
    "start_time": "2022-04-01T05:16:16.611Z"
   },
   {
    "duration": 9,
    "start_time": "2022-04-01T05:16:16.622Z"
   },
   {
    "duration": 23,
    "start_time": "2022-04-01T05:16:16.634Z"
   },
   {
    "duration": 58,
    "start_time": "2022-04-01T05:16:16.659Z"
   },
   {
    "duration": 17,
    "start_time": "2022-04-01T05:16:16.719Z"
   },
   {
    "duration": 7,
    "start_time": "2022-04-01T05:16:16.739Z"
   },
   {
    "duration": 34,
    "start_time": "2022-04-01T05:16:16.749Z"
   },
   {
    "duration": 7,
    "start_time": "2022-04-01T05:16:16.785Z"
   },
   {
    "duration": 9,
    "start_time": "2022-04-01T05:16:16.795Z"
   },
   {
    "duration": 6,
    "start_time": "2022-04-01T05:16:16.806Z"
   },
   {
    "duration": 10,
    "start_time": "2022-04-01T05:16:33.664Z"
   },
   {
    "duration": 12,
    "start_time": "2022-04-01T05:17:05.065Z"
   },
   {
    "duration": 9,
    "start_time": "2022-04-01T05:17:07.557Z"
   },
   {
    "duration": 2000,
    "start_time": "2022-04-01T05:17:14.986Z"
   },
   {
    "duration": 6,
    "start_time": "2022-04-01T05:18:07.111Z"
   },
   {
    "duration": 4,
    "start_time": "2022-04-01T05:18:10.904Z"
   },
   {
    "duration": 2508,
    "start_time": "2022-04-01T05:18:16.893Z"
   },
   {
    "duration": 3031,
    "start_time": "2022-04-01T05:19:02.163Z"
   },
   {
    "duration": 6,
    "start_time": "2022-04-01T05:22:27.103Z"
   },
   {
    "duration": 4,
    "start_time": "2022-04-01T05:22:29.073Z"
   },
   {
    "duration": 2274,
    "start_time": "2022-04-01T05:22:36.717Z"
   },
   {
    "duration": 6,
    "start_time": "2022-04-01T05:25:38.770Z"
   },
   {
    "duration": 4,
    "start_time": "2022-04-01T05:25:41.203Z"
   },
   {
    "duration": 2097,
    "start_time": "2022-04-01T05:25:53.197Z"
   },
   {
    "duration": 2128,
    "start_time": "2022-04-01T05:26:47.071Z"
   },
   {
    "duration": 6,
    "start_time": "2022-04-01T05:27:17.088Z"
   },
   {
    "duration": 2494,
    "start_time": "2022-04-01T05:27:23.805Z"
   },
   {
    "duration": 1758,
    "start_time": "2022-04-01T05:27:47.645Z"
   },
   {
    "duration": 64251,
    "start_time": "2022-04-01T05:36:35.396Z"
   },
   {
    "duration": 63701,
    "start_time": "2022-04-01T05:38:10.283Z"
   },
   {
    "duration": 15,
    "start_time": "2022-04-01T05:47:55.230Z"
   },
   {
    "duration": 101174,
    "start_time": "2022-04-01T05:48:04.950Z"
   },
   {
    "duration": 76061,
    "start_time": "2022-04-01T05:50:30.196Z"
   },
   {
    "duration": 6546,
    "start_time": "2022-04-01T05:52:38.283Z"
   },
   {
    "duration": 1856,
    "start_time": "2022-04-01T05:54:36.994Z"
   },
   {
    "duration": 889,
    "start_time": "2022-04-01T05:54:38.852Z"
   },
   {
    "duration": 43,
    "start_time": "2022-04-01T05:54:39.743Z"
   },
   {
    "duration": 39,
    "start_time": "2022-04-01T05:54:39.788Z"
   },
   {
    "duration": 19,
    "start_time": "2022-04-01T05:54:39.830Z"
   },
   {
    "duration": 66,
    "start_time": "2022-04-01T05:54:39.851Z"
   },
   {
    "duration": 26,
    "start_time": "2022-04-01T05:54:39.919Z"
   },
   {
    "duration": 55,
    "start_time": "2022-04-01T05:54:39.947Z"
   },
   {
    "duration": 23,
    "start_time": "2022-04-01T05:54:40.005Z"
   },
   {
    "duration": 11,
    "start_time": "2022-04-01T05:54:40.031Z"
   },
   {
    "duration": 41,
    "start_time": "2022-04-01T05:54:40.045Z"
   },
   {
    "duration": 30,
    "start_time": "2022-04-01T05:54:40.095Z"
   },
   {
    "duration": 19,
    "start_time": "2022-04-01T05:54:40.127Z"
   },
   {
    "duration": 192,
    "start_time": "2022-04-01T05:54:40.150Z"
   },
   {
    "duration": 8,
    "start_time": "2022-04-01T05:54:40.345Z"
   },
   {
    "duration": 947,
    "start_time": "2022-04-01T05:54:40.355Z"
   },
   {
    "duration": 33,
    "start_time": "2022-04-01T05:54:41.304Z"
   },
   {
    "duration": 8,
    "start_time": "2022-04-01T05:54:41.339Z"
   },
   {
    "duration": 14,
    "start_time": "2022-04-01T05:54:41.350Z"
   },
   {
    "duration": 10,
    "start_time": "2022-04-01T05:54:41.391Z"
   },
   {
    "duration": 8,
    "start_time": "2022-04-01T05:54:41.404Z"
   },
   {
    "duration": 6,
    "start_time": "2022-04-01T05:54:41.414Z"
   },
   {
    "duration": 22,
    "start_time": "2022-04-01T05:54:41.423Z"
   },
   {
    "duration": 58,
    "start_time": "2022-04-01T05:54:41.447Z"
   },
   {
    "duration": 111,
    "start_time": "2022-04-01T05:54:41.507Z"
   },
   {
    "duration": 6,
    "start_time": "2022-04-01T05:54:41.620Z"
   },
   {
    "duration": 11,
    "start_time": "2022-04-01T05:54:41.629Z"
   },
   {
    "duration": 16,
    "start_time": "2022-04-01T05:54:41.642Z"
   },
   {
    "duration": 7,
    "start_time": "2022-04-01T05:54:41.660Z"
   },
   {
    "duration": 12,
    "start_time": "2022-04-01T05:54:41.682Z"
   },
   {
    "duration": 497,
    "start_time": "2022-04-01T05:54:41.696Z"
   },
   {
    "duration": 11,
    "start_time": "2022-04-01T05:54:42.195Z"
   },
   {
    "duration": 13,
    "start_time": "2022-04-01T05:54:42.208Z"
   },
   {
    "duration": 1876,
    "start_time": "2022-04-01T05:54:42.223Z"
   },
   {
    "duration": 63953,
    "start_time": "2022-04-01T05:54:44.190Z"
   },
   {
    "duration": 74104,
    "start_time": "2022-04-01T05:55:48.146Z"
   },
   {
    "duration": 6293,
    "start_time": "2022-04-01T05:57:02.253Z"
   },
   {
    "duration": 1603,
    "start_time": "2022-04-05T04:28:06.378Z"
   },
   {
    "duration": 706,
    "start_time": "2022-04-05T04:28:12.544Z"
   },
   {
    "duration": 13,
    "start_time": "2022-04-05T04:38:08.825Z"
   },
   {
    "duration": 9,
    "start_time": "2022-04-05T04:38:55.423Z"
   },
   {
    "duration": 5,
    "start_time": "2022-04-05T04:43:08.903Z"
   },
   {
    "duration": 24,
    "start_time": "2022-04-05T04:52:46.480Z"
   },
   {
    "duration": 16,
    "start_time": "2022-04-05T04:57:02.491Z"
   },
   {
    "duration": 122,
    "start_time": "2022-04-05T05:10:15.942Z"
   },
   {
    "duration": 93,
    "start_time": "2022-04-05T05:11:21.673Z"
   },
   {
    "duration": 5,
    "start_time": "2022-04-05T05:14:26.711Z"
   },
   {
    "duration": 518,
    "start_time": "2022-04-05T05:16:06.395Z"
   },
   {
    "duration": 21,
    "start_time": "2022-04-05T05:21:40.394Z"
   },
   {
    "duration": 16,
    "start_time": "2022-04-05T05:22:25.117Z"
   },
   {
    "duration": 5,
    "start_time": "2022-04-05T05:26:43.346Z"
   },
   {
    "duration": 7,
    "start_time": "2022-04-05T05:26:49.941Z"
   },
   {
    "duration": 4,
    "start_time": "2022-04-05T05:26:52.547Z"
   },
   {
    "duration": 4,
    "start_time": "2022-04-05T05:27:27.589Z"
   },
   {
    "duration": 15,
    "start_time": "2022-04-05T05:27:36.961Z"
   },
   {
    "duration": 20,
    "start_time": "2022-04-05T05:27:39.553Z"
   },
   {
    "duration": 14,
    "start_time": "2022-04-05T05:27:46.638Z"
   },
   {
    "duration": 5,
    "start_time": "2022-04-05T05:27:52.798Z"
   },
   {
    "duration": 4,
    "start_time": "2022-04-05T05:27:55.962Z"
   },
   {
    "duration": 4,
    "start_time": "2022-04-05T05:28:03.243Z"
   },
   {
    "duration": 2,
    "start_time": "2022-04-05T05:28:05.834Z"
   },
   {
    "duration": 3,
    "start_time": "2022-04-05T05:29:05.023Z"
   },
   {
    "duration": 8,
    "start_time": "2022-04-05T05:29:11.011Z"
   },
   {
    "duration": 1484,
    "start_time": "2022-04-05T05:30:10.845Z"
   },
   {
    "duration": 743,
    "start_time": "2022-04-05T05:30:12.331Z"
   },
   {
    "duration": 21,
    "start_time": "2022-04-05T05:30:13.076Z"
   },
   {
    "duration": 24,
    "start_time": "2022-04-05T05:30:13.099Z"
   },
   {
    "duration": 12,
    "start_time": "2022-04-05T05:30:13.125Z"
   },
   {
    "duration": 44,
    "start_time": "2022-04-05T05:30:13.138Z"
   },
   {
    "duration": 17,
    "start_time": "2022-04-05T05:30:13.184Z"
   },
   {
    "duration": 19,
    "start_time": "2022-04-05T05:30:13.203Z"
   },
   {
    "duration": 15,
    "start_time": "2022-04-05T05:30:13.224Z"
   },
   {
    "duration": 6,
    "start_time": "2022-04-05T05:30:13.241Z"
   },
   {
    "duration": 34,
    "start_time": "2022-04-05T05:30:13.248Z"
   },
   {
    "duration": 27,
    "start_time": "2022-04-05T05:30:13.283Z"
   },
   {
    "duration": 13,
    "start_time": "2022-04-05T05:30:13.312Z"
   },
   {
    "duration": 127,
    "start_time": "2022-04-05T05:30:13.328Z"
   },
   {
    "duration": 7,
    "start_time": "2022-04-05T05:30:13.456Z"
   },
   {
    "duration": 482,
    "start_time": "2022-04-05T05:30:13.464Z"
   },
   {
    "duration": 33,
    "start_time": "2022-04-05T05:30:13.948Z"
   },
   {
    "duration": 5,
    "start_time": "2022-04-05T05:30:13.982Z"
   },
   {
    "duration": 10,
    "start_time": "2022-04-05T05:30:13.989Z"
   },
   {
    "duration": 6,
    "start_time": "2022-04-05T05:30:14.001Z"
   },
   {
    "duration": 11,
    "start_time": "2022-04-05T05:30:14.009Z"
   },
   {
    "duration": 19,
    "start_time": "2022-04-05T05:30:14.022Z"
   },
   {
    "duration": 19,
    "start_time": "2022-04-05T05:30:14.042Z"
   },
   {
    "duration": 25,
    "start_time": "2022-04-05T05:30:14.063Z"
   },
   {
    "duration": 5,
    "start_time": "2022-04-05T05:30:14.090Z"
   },
   {
    "duration": 7,
    "start_time": "2022-04-05T05:30:14.097Z"
   },
   {
    "duration": 87,
    "start_time": "2022-04-05T05:30:14.106Z"
   },
   {
    "duration": 7,
    "start_time": "2022-04-05T05:30:14.195Z"
   },
   {
    "duration": 5,
    "start_time": "2022-04-05T05:30:14.203Z"
   },
   {
    "duration": 273,
    "start_time": "2022-04-05T05:30:14.209Z"
   },
   {
    "duration": 4,
    "start_time": "2022-04-05T05:30:14.484Z"
   },
   {
    "duration": 4,
    "start_time": "2022-04-05T05:30:20.834Z"
   },
   {
    "duration": 8,
    "start_time": "2022-04-05T05:30:22.746Z"
   },
   {
    "duration": 43,
    "start_time": "2022-04-05T05:31:09.934Z"
   },
   {
    "duration": 1474,
    "start_time": "2022-04-05T05:31:20.854Z"
   },
   {
    "duration": 738,
    "start_time": "2022-04-05T05:31:22.330Z"
   },
   {
    "duration": 22,
    "start_time": "2022-04-05T05:31:23.069Z"
   },
   {
    "duration": 23,
    "start_time": "2022-04-05T05:31:23.092Z"
   },
   {
    "duration": 12,
    "start_time": "2022-04-05T05:31:23.118Z"
   },
   {
    "duration": 21,
    "start_time": "2022-04-05T05:31:23.131Z"
   },
   {
    "duration": 19,
    "start_time": "2022-04-05T05:31:23.180Z"
   },
   {
    "duration": 21,
    "start_time": "2022-04-05T05:31:23.200Z"
   },
   {
    "duration": 13,
    "start_time": "2022-04-05T05:31:23.222Z"
   },
   {
    "duration": 8,
    "start_time": "2022-04-05T05:31:23.236Z"
   },
   {
    "duration": 35,
    "start_time": "2022-04-05T05:31:23.246Z"
   },
   {
    "duration": 27,
    "start_time": "2022-04-05T05:31:23.283Z"
   },
   {
    "duration": 15,
    "start_time": "2022-04-05T05:31:23.311Z"
   },
   {
    "duration": 136,
    "start_time": "2022-04-05T05:31:23.330Z"
   },
   {
    "duration": 14,
    "start_time": "2022-04-05T05:31:23.468Z"
   },
   {
    "duration": 467,
    "start_time": "2022-04-05T05:31:23.484Z"
   },
   {
    "duration": 32,
    "start_time": "2022-04-05T05:31:23.953Z"
   },
   {
    "duration": 5,
    "start_time": "2022-04-05T05:31:23.986Z"
   },
   {
    "duration": 8,
    "start_time": "2022-04-05T05:31:23.993Z"
   },
   {
    "duration": 5,
    "start_time": "2022-04-05T05:31:24.003Z"
   },
   {
    "duration": 8,
    "start_time": "2022-04-05T05:31:24.009Z"
   },
   {
    "duration": 16,
    "start_time": "2022-04-05T05:31:24.018Z"
   },
   {
    "duration": 18,
    "start_time": "2022-04-05T05:31:24.036Z"
   },
   {
    "duration": 33,
    "start_time": "2022-04-05T05:31:24.056Z"
   },
   {
    "duration": 4,
    "start_time": "2022-04-05T05:31:24.091Z"
   },
   {
    "duration": 6,
    "start_time": "2022-04-05T05:31:24.097Z"
   },
   {
    "duration": 82,
    "start_time": "2022-04-05T05:31:24.104Z"
   },
   {
    "duration": 5,
    "start_time": "2022-04-05T05:31:24.187Z"
   },
   {
    "duration": 6,
    "start_time": "2022-04-05T05:31:24.193Z"
   },
   {
    "duration": 281,
    "start_time": "2022-04-05T05:31:24.201Z"
   },
   {
    "duration": 5,
    "start_time": "2022-04-05T05:31:24.483Z"
   },
   {
    "duration": 8,
    "start_time": "2022-04-05T05:31:29.364Z"
   },
   {
    "duration": 1475,
    "start_time": "2022-04-05T05:33:37.224Z"
   },
   {
    "duration": 1415,
    "start_time": "2022-04-05T05:33:38.701Z"
   },
   {
    "duration": 16,
    "start_time": "2022-04-05T05:33:40.118Z"
   },
   {
    "duration": 26,
    "start_time": "2022-04-05T05:33:40.137Z"
   },
   {
    "duration": 13,
    "start_time": "2022-04-05T05:33:40.181Z"
   },
   {
    "duration": 20,
    "start_time": "2022-04-05T05:33:40.196Z"
   },
   {
    "duration": 18,
    "start_time": "2022-04-05T05:33:40.217Z"
   },
   {
    "duration": 19,
    "start_time": "2022-04-05T05:33:40.237Z"
   },
   {
    "duration": 12,
    "start_time": "2022-04-05T05:33:40.281Z"
   },
   {
    "duration": 7,
    "start_time": "2022-04-05T05:33:40.295Z"
   },
   {
    "duration": 5,
    "start_time": "2022-04-05T05:33:40.303Z"
   },
   {
    "duration": 24,
    "start_time": "2022-04-05T05:33:40.309Z"
   },
   {
    "duration": 12,
    "start_time": "2022-04-05T05:33:40.335Z"
   },
   {
    "duration": 139,
    "start_time": "2022-04-05T05:33:40.350Z"
   },
   {
    "duration": 7,
    "start_time": "2022-04-05T05:33:40.490Z"
   },
   {
    "duration": 489,
    "start_time": "2022-04-05T05:33:40.498Z"
   },
   {
    "duration": 24,
    "start_time": "2022-04-05T05:33:40.989Z"
   },
   {
    "duration": 5,
    "start_time": "2022-04-05T05:33:41.014Z"
   },
   {
    "duration": 10,
    "start_time": "2022-04-05T05:33:41.021Z"
   },
   {
    "duration": 7,
    "start_time": "2022-04-05T05:33:41.032Z"
   },
   {
    "duration": 5,
    "start_time": "2022-04-05T05:33:41.040Z"
   },
   {
    "duration": 34,
    "start_time": "2022-04-05T05:33:41.047Z"
   },
   {
    "duration": 19,
    "start_time": "2022-04-05T05:33:41.082Z"
   },
   {
    "duration": 14,
    "start_time": "2022-04-05T05:33:41.103Z"
   },
   {
    "duration": 4,
    "start_time": "2022-04-05T05:33:41.119Z"
   },
   {
    "duration": 5,
    "start_time": "2022-04-05T05:33:41.125Z"
   },
   {
    "duration": 101,
    "start_time": "2022-04-05T05:33:41.131Z"
   },
   {
    "duration": 5,
    "start_time": "2022-04-05T05:33:41.234Z"
   },
   {
    "duration": 4,
    "start_time": "2022-04-05T05:33:41.240Z"
   },
   {
    "duration": 237,
    "start_time": "2022-04-05T05:33:41.246Z"
   },
   {
    "duration": 7,
    "start_time": "2022-04-05T05:33:44.740Z"
   },
   {
    "duration": 1291,
    "start_time": "2022-04-05T05:33:54.592Z"
   },
   {
    "duration": 50868,
    "start_time": "2022-04-05T05:34:16.278Z"
   },
   {
    "duration": 7,
    "start_time": "2022-04-05T05:42:56.710Z"
   },
   {
    "duration": 1395,
    "start_time": "2022-04-05T05:44:25.114Z"
   },
   {
    "duration": 729,
    "start_time": "2022-04-05T05:44:26.511Z"
   },
   {
    "duration": 17,
    "start_time": "2022-04-05T05:44:27.241Z"
   },
   {
    "duration": 35,
    "start_time": "2022-04-05T05:44:27.260Z"
   },
   {
    "duration": 11,
    "start_time": "2022-04-05T05:44:27.298Z"
   },
   {
    "duration": 21,
    "start_time": "2022-04-05T05:44:27.311Z"
   },
   {
    "duration": 19,
    "start_time": "2022-04-05T05:44:27.334Z"
   },
   {
    "duration": 46,
    "start_time": "2022-04-05T05:44:27.354Z"
   },
   {
    "duration": 14,
    "start_time": "2022-04-05T05:44:27.401Z"
   },
   {
    "duration": 6,
    "start_time": "2022-04-05T05:44:27.417Z"
   },
   {
    "duration": 5,
    "start_time": "2022-04-05T05:44:27.424Z"
   },
   {
    "duration": 34,
    "start_time": "2022-04-05T05:44:27.431Z"
   },
   {
    "duration": 22,
    "start_time": "2022-04-05T05:44:27.467Z"
   },
   {
    "duration": 111,
    "start_time": "2022-04-05T05:44:27.491Z"
   },
   {
    "duration": 6,
    "start_time": "2022-04-05T05:44:27.603Z"
   },
   {
    "duration": 465,
    "start_time": "2022-04-05T05:44:27.610Z"
   },
   {
    "duration": 22,
    "start_time": "2022-04-05T05:44:28.080Z"
   },
   {
    "duration": 5,
    "start_time": "2022-04-05T05:44:28.104Z"
   },
   {
    "duration": 4,
    "start_time": "2022-04-05T05:44:30.694Z"
   },
   {
    "duration": 1471,
    "start_time": "2022-04-05T05:46:45.453Z"
   },
   {
    "duration": 725,
    "start_time": "2022-04-05T05:46:46.925Z"
   },
   {
    "duration": 16,
    "start_time": "2022-04-05T05:46:47.652Z"
   },
   {
    "duration": 32,
    "start_time": "2022-04-05T05:46:47.670Z"
   },
   {
    "duration": 11,
    "start_time": "2022-04-05T05:46:47.704Z"
   },
   {
    "duration": 20,
    "start_time": "2022-04-05T05:46:47.717Z"
   },
   {
    "duration": 21,
    "start_time": "2022-04-05T05:46:47.738Z"
   },
   {
    "duration": 19,
    "start_time": "2022-04-05T05:46:47.781Z"
   },
   {
    "duration": 15,
    "start_time": "2022-04-05T05:46:47.802Z"
   },
   {
    "duration": 7,
    "start_time": "2022-04-05T05:46:47.819Z"
   },
   {
    "duration": 8,
    "start_time": "2022-04-05T05:46:47.827Z"
   },
   {
    "duration": 46,
    "start_time": "2022-04-05T05:46:47.836Z"
   },
   {
    "duration": 12,
    "start_time": "2022-04-05T05:46:47.884Z"
   },
   {
    "duration": 110,
    "start_time": "2022-04-05T05:46:47.897Z"
   },
   {
    "duration": 6,
    "start_time": "2022-04-05T05:46:48.009Z"
   },
   {
    "duration": 494,
    "start_time": "2022-04-05T05:46:48.016Z"
   },
   {
    "duration": 23,
    "start_time": "2022-04-05T05:46:48.512Z"
   },
   {
    "duration": 12,
    "start_time": "2022-04-05T05:46:48.537Z"
   },
   {
    "duration": 4,
    "start_time": "2022-04-05T05:47:24.476Z"
   },
   {
    "duration": 18,
    "start_time": "2022-04-05T05:55:14.549Z"
   },
   {
    "duration": 3189,
    "start_time": "2022-04-05T05:56:42.282Z"
   },
   {
    "duration": 16,
    "start_time": "2022-04-05T05:56:56.882Z"
   },
   {
    "duration": 13,
    "start_time": "2022-04-05T05:56:59.412Z"
   },
   {
    "duration": 5,
    "start_time": "2022-04-05T05:59:41.241Z"
   },
   {
    "duration": 1540,
    "start_time": "2022-04-05T05:59:57.392Z"
   },
   {
    "duration": 738,
    "start_time": "2022-04-05T05:59:58.934Z"
   },
   {
    "duration": 17,
    "start_time": "2022-04-05T05:59:59.674Z"
   },
   {
    "duration": 27,
    "start_time": "2022-04-05T05:59:59.694Z"
   },
   {
    "duration": 12,
    "start_time": "2022-04-05T05:59:59.723Z"
   },
   {
    "duration": 20,
    "start_time": "2022-04-05T05:59:59.736Z"
   },
   {
    "duration": 36,
    "start_time": "2022-04-05T05:59:59.758Z"
   },
   {
    "duration": 21,
    "start_time": "2022-04-05T05:59:59.795Z"
   },
   {
    "duration": 12,
    "start_time": "2022-04-05T05:59:59.818Z"
   },
   {
    "duration": 7,
    "start_time": "2022-04-05T05:59:59.833Z"
   },
   {
    "duration": 7,
    "start_time": "2022-04-05T05:59:59.841Z"
   },
   {
    "duration": 55,
    "start_time": "2022-04-05T05:59:59.849Z"
   },
   {
    "duration": 14,
    "start_time": "2022-04-05T05:59:59.906Z"
   },
   {
    "duration": 133,
    "start_time": "2022-04-05T05:59:59.922Z"
   },
   {
    "duration": 7,
    "start_time": "2022-04-05T06:00:00.057Z"
   },
   {
    "duration": 622,
    "start_time": "2022-04-05T06:00:00.066Z"
   },
   {
    "duration": 21,
    "start_time": "2022-04-05T06:00:00.690Z"
   },
   {
    "duration": 9,
    "start_time": "2022-04-05T06:00:00.712Z"
   },
   {
    "duration": 29,
    "start_time": "2022-04-05T06:00:00.722Z"
   },
   {
    "duration": 16,
    "start_time": "2022-04-05T06:00:00.753Z"
   },
   {
    "duration": 14,
    "start_time": "2022-04-05T06:00:00.770Z"
   },
   {
    "duration": 4,
    "start_time": "2022-04-05T06:00:04.222Z"
   },
   {
    "duration": 6,
    "start_time": "2022-04-05T06:00:19.768Z"
   },
   {
    "duration": 17,
    "start_time": "2022-04-05T06:00:37.079Z"
   },
   {
    "duration": 5,
    "start_time": "2022-04-05T06:01:54.328Z"
   },
   {
    "duration": 4,
    "start_time": "2022-04-05T06:01:58.619Z"
   },
   {
    "duration": 18,
    "start_time": "2022-04-05T06:02:01.570Z"
   },
   {
    "duration": 8,
    "start_time": "2022-04-05T06:02:17.662Z"
   },
   {
    "duration": 8,
    "start_time": "2022-04-05T06:02:30.701Z"
   },
   {
    "duration": 4,
    "start_time": "2022-04-05T06:04:11.740Z"
   },
   {
    "duration": 3,
    "start_time": "2022-04-05T06:04:31.513Z"
   },
   {
    "duration": 6,
    "start_time": "2022-04-05T06:04:40.484Z"
   },
   {
    "duration": 1456,
    "start_time": "2022-04-05T06:06:22.840Z"
   },
   {
    "duration": 698,
    "start_time": "2022-04-05T06:06:24.298Z"
   },
   {
    "duration": 15,
    "start_time": "2022-04-05T06:06:24.998Z"
   },
   {
    "duration": 23,
    "start_time": "2022-04-05T06:06:25.015Z"
   },
   {
    "duration": 12,
    "start_time": "2022-04-05T06:06:25.039Z"
   },
   {
    "duration": 43,
    "start_time": "2022-04-05T06:06:25.053Z"
   },
   {
    "duration": 28,
    "start_time": "2022-04-05T06:06:25.098Z"
   },
   {
    "duration": 21,
    "start_time": "2022-04-05T06:06:25.127Z"
   },
   {
    "duration": 24,
    "start_time": "2022-04-05T06:06:25.149Z"
   },
   {
    "duration": 15,
    "start_time": "2022-04-05T06:06:25.175Z"
   },
   {
    "duration": 7,
    "start_time": "2022-04-05T06:06:25.192Z"
   },
   {
    "duration": 37,
    "start_time": "2022-04-05T06:06:25.201Z"
   },
   {
    "duration": 13,
    "start_time": "2022-04-05T06:06:25.239Z"
   },
   {
    "duration": 109,
    "start_time": "2022-04-05T06:06:25.254Z"
   },
   {
    "duration": 7,
    "start_time": "2022-04-05T06:06:25.365Z"
   },
   {
    "duration": 461,
    "start_time": "2022-04-05T06:06:25.381Z"
   },
   {
    "duration": 20,
    "start_time": "2022-04-05T06:06:25.844Z"
   },
   {
    "duration": 20,
    "start_time": "2022-04-05T06:06:25.866Z"
   },
   {
    "duration": 33,
    "start_time": "2022-04-05T06:06:25.888Z"
   },
   {
    "duration": 16,
    "start_time": "2022-04-05T06:06:25.922Z"
   },
   {
    "duration": 30,
    "start_time": "2022-04-05T06:06:25.940Z"
   },
   {
    "duration": 17,
    "start_time": "2022-04-05T06:06:25.972Z"
   },
   {
    "duration": 5,
    "start_time": "2022-04-05T06:06:31.369Z"
   },
   {
    "duration": 2,
    "start_time": "2022-04-05T06:06:33.364Z"
   },
   {
    "duration": 195,
    "start_time": "2022-04-05T06:06:39.797Z"
   },
   {
    "duration": 1341,
    "start_time": "2022-04-05T06:07:22.144Z"
   },
   {
    "duration": 4,
    "start_time": "2022-04-05T06:11:25.961Z"
   },
   {
    "duration": 3,
    "start_time": "2022-04-05T06:13:48.637Z"
   },
   {
    "duration": 163,
    "start_time": "2022-04-05T06:20:19.224Z"
   },
   {
    "duration": 1537,
    "start_time": "2022-04-05T06:21:10.251Z"
   },
   {
    "duration": 1389,
    "start_time": "2022-04-05T06:21:56.693Z"
   },
   {
    "duration": 50914,
    "start_time": "2022-04-05T06:26:54.853Z"
   },
   {
    "duration": 74696,
    "start_time": "2022-04-05T06:35:01.990Z"
   },
   {
    "duration": 4994,
    "start_time": "2022-04-05T06:37:02.783Z"
   },
   {
    "duration": 1608,
    "start_time": "2022-04-06T05:12:52.516Z"
   },
   {
    "duration": 750,
    "start_time": "2022-04-06T05:12:54.126Z"
   },
   {
    "duration": 17,
    "start_time": "2022-04-06T05:12:54.881Z"
   },
   {
    "duration": 23,
    "start_time": "2022-04-06T05:12:54.900Z"
   },
   {
    "duration": 11,
    "start_time": "2022-04-06T05:12:54.925Z"
   },
   {
    "duration": 44,
    "start_time": "2022-04-06T05:12:54.938Z"
   },
   {
    "duration": 19,
    "start_time": "2022-04-06T05:12:54.983Z"
   },
   {
    "duration": 19,
    "start_time": "2022-04-06T05:12:55.004Z"
   },
   {
    "duration": 14,
    "start_time": "2022-04-06T05:12:55.025Z"
   },
   {
    "duration": 7,
    "start_time": "2022-04-06T05:12:55.040Z"
   },
   {
    "duration": 32,
    "start_time": "2022-04-06T05:12:55.049Z"
   },
   {
    "duration": 25,
    "start_time": "2022-04-06T05:12:55.082Z"
   },
   {
    "duration": 12,
    "start_time": "2022-04-06T05:12:55.109Z"
   },
   {
    "duration": 115,
    "start_time": "2022-04-06T05:12:55.124Z"
   },
   {
    "duration": 6,
    "start_time": "2022-04-06T05:12:55.241Z"
   },
   {
    "duration": 534,
    "start_time": "2022-04-06T05:12:55.249Z"
   },
   {
    "duration": 23,
    "start_time": "2022-04-06T05:12:55.784Z"
   },
   {
    "duration": 10,
    "start_time": "2022-04-06T05:12:55.808Z"
   },
   {
    "duration": 18,
    "start_time": "2022-04-06T05:12:55.820Z"
   },
   {
    "duration": 12,
    "start_time": "2022-04-06T05:12:55.839Z"
   },
   {
    "duration": 28,
    "start_time": "2022-04-06T05:12:55.853Z"
   },
   {
    "duration": 3,
    "start_time": "2022-04-06T05:12:55.883Z"
   },
   {
    "duration": 6,
    "start_time": "2022-04-06T05:12:55.887Z"
   },
   {
    "duration": 6,
    "start_time": "2022-04-06T05:12:55.894Z"
   },
   {
    "duration": 1384,
    "start_time": "2022-04-06T05:12:55.901Z"
   },
   {
    "duration": 50088,
    "start_time": "2022-04-06T05:12:57.288Z"
   },
   {
    "duration": 56929,
    "start_time": "2022-04-06T05:13:47.378Z"
   },
   {
    "duration": 5172,
    "start_time": "2022-04-06T05:14:44.309Z"
   },
   {
    "duration": 1786,
    "start_time": "2022-04-07T04:31:07.893Z"
   },
   {
    "duration": 789,
    "start_time": "2022-04-07T04:31:09.682Z"
   },
   {
    "duration": 29,
    "start_time": "2022-04-07T04:31:10.472Z"
   },
   {
    "duration": 29,
    "start_time": "2022-04-07T04:31:10.503Z"
   },
   {
    "duration": 15,
    "start_time": "2022-04-07T04:31:10.535Z"
   },
   {
    "duration": 50,
    "start_time": "2022-04-07T04:31:10.552Z"
   },
   {
    "duration": 19,
    "start_time": "2022-04-07T04:31:10.605Z"
   },
   {
    "duration": 24,
    "start_time": "2022-04-07T04:31:10.626Z"
   },
   {
    "duration": 21,
    "start_time": "2022-04-07T04:31:10.652Z"
   },
   {
    "duration": 30,
    "start_time": "2022-04-07T04:31:10.675Z"
   },
   {
    "duration": 5,
    "start_time": "2022-04-07T04:31:10.706Z"
   },
   {
    "duration": 32,
    "start_time": "2022-04-07T04:31:10.714Z"
   },
   {
    "duration": 15,
    "start_time": "2022-04-07T04:31:10.748Z"
   },
   {
    "duration": 361,
    "start_time": "2022-04-07T04:38:28.190Z"
   },
   {
    "duration": 151,
    "start_time": "2022-04-07T04:38:43.644Z"
   },
   {
    "duration": 318,
    "start_time": "2022-04-07T04:38:57.698Z"
   },
   {
    "duration": 226,
    "start_time": "2022-04-07T04:39:04.388Z"
   },
   {
    "duration": 222,
    "start_time": "2022-04-07T04:39:10.753Z"
   },
   {
    "duration": 220,
    "start_time": "2022-04-07T04:39:21.152Z"
   },
   {
    "duration": 233,
    "start_time": "2022-04-07T04:39:29.484Z"
   },
   {
    "duration": 424,
    "start_time": "2022-04-07T04:40:30.119Z"
   },
   {
    "duration": 216,
    "start_time": "2022-04-07T04:41:13.718Z"
   },
   {
    "duration": 244,
    "start_time": "2022-04-07T04:41:21.475Z"
   },
   {
    "duration": 221,
    "start_time": "2022-04-07T04:41:29.820Z"
   },
   {
    "duration": 173,
    "start_time": "2022-04-07T04:41:52.292Z"
   },
   {
    "duration": 228,
    "start_time": "2022-04-07T04:42:07.512Z"
   },
   {
    "duration": 4,
    "start_time": "2022-04-07T04:45:19.764Z"
   },
   {
    "duration": 860,
    "start_time": "2022-04-07T04:45:19.771Z"
   },
   {
    "duration": 19,
    "start_time": "2022-04-07T04:45:20.633Z"
   },
   {
    "duration": 46,
    "start_time": "2022-04-07T04:45:20.655Z"
   },
   {
    "duration": 14,
    "start_time": "2022-04-07T04:45:20.704Z"
   },
   {
    "duration": 30,
    "start_time": "2022-04-07T04:45:20.720Z"
   },
   {
    "duration": 50,
    "start_time": "2022-04-07T04:45:20.752Z"
   },
   {
    "duration": 28,
    "start_time": "2022-04-07T04:45:20.804Z"
   },
   {
    "duration": 12,
    "start_time": "2022-04-07T04:45:20.835Z"
   },
   {
    "duration": 8,
    "start_time": "2022-04-07T04:45:20.849Z"
   },
   {
    "duration": 11,
    "start_time": "2022-04-07T04:45:20.859Z"
   },
   {
    "duration": 29,
    "start_time": "2022-04-07T04:45:20.901Z"
   },
   {
    "duration": 16,
    "start_time": "2022-04-07T04:45:20.931Z"
   },
   {
    "duration": 366,
    "start_time": "2022-04-07T04:45:20.949Z"
   },
   {
    "duration": 8,
    "start_time": "2022-04-07T04:45:21.317Z"
   },
   {
    "duration": 683,
    "start_time": "2022-04-07T04:45:21.326Z"
   },
   {
    "duration": 21,
    "start_time": "2022-04-07T04:45:22.011Z"
   },
   {
    "duration": 13,
    "start_time": "2022-04-07T04:45:22.034Z"
   },
   {
    "duration": 23,
    "start_time": "2022-04-07T04:45:22.049Z"
   },
   {
    "duration": 35,
    "start_time": "2022-04-07T04:45:22.074Z"
   },
   {
    "duration": 7,
    "start_time": "2022-04-07T04:45:22.111Z"
   },
   {
    "duration": 7,
    "start_time": "2022-04-07T04:45:22.120Z"
   },
   {
    "duration": 5,
    "start_time": "2022-04-07T04:45:22.129Z"
   },
   {
    "duration": 8,
    "start_time": "2022-04-07T04:45:22.137Z"
   },
   {
    "duration": 43,
    "start_time": "2022-04-07T04:47:25.065Z"
   },
   {
    "duration": 41,
    "start_time": "2022-04-07T04:52:47.559Z"
   },
   {
    "duration": 1507,
    "start_time": "2022-04-07T04:59:37.151Z"
   },
   {
    "duration": 798,
    "start_time": "2022-04-07T04:59:38.660Z"
   },
   {
    "duration": 24,
    "start_time": "2022-04-07T04:59:39.461Z"
   },
   {
    "duration": 38,
    "start_time": "2022-04-07T04:59:39.487Z"
   },
   {
    "duration": 14,
    "start_time": "2022-04-07T04:59:39.527Z"
   },
   {
    "duration": 26,
    "start_time": "2022-04-07T04:59:39.542Z"
   },
   {
    "duration": 48,
    "start_time": "2022-04-07T04:59:39.570Z"
   },
   {
    "duration": 24,
    "start_time": "2022-04-07T04:59:39.620Z"
   },
   {
    "duration": 22,
    "start_time": "2022-04-07T04:59:39.646Z"
   },
   {
    "duration": 32,
    "start_time": "2022-04-07T04:59:39.671Z"
   },
   {
    "duration": 6,
    "start_time": "2022-04-07T04:59:39.705Z"
   },
   {
    "duration": 38,
    "start_time": "2022-04-07T04:59:39.712Z"
   },
   {
    "duration": 17,
    "start_time": "2022-04-07T04:59:39.752Z"
   },
   {
    "duration": 266,
    "start_time": "2022-04-07T04:59:39.771Z"
   },
   {
    "duration": 7,
    "start_time": "2022-04-07T04:59:40.039Z"
   },
   {
    "duration": 666,
    "start_time": "2022-04-07T04:59:40.048Z"
   },
   {
    "duration": 29,
    "start_time": "2022-04-07T04:59:40.715Z"
   },
   {
    "duration": 11,
    "start_time": "2022-04-07T04:59:40.746Z"
   },
   {
    "duration": 41,
    "start_time": "2022-04-07T04:59:40.760Z"
   },
   {
    "duration": 15,
    "start_time": "2022-04-07T04:59:40.803Z"
   },
   {
    "duration": 7,
    "start_time": "2022-04-07T04:59:40.820Z"
   },
   {
    "duration": 9,
    "start_time": "2022-04-07T04:59:40.828Z"
   },
   {
    "duration": 8,
    "start_time": "2022-04-07T04:59:40.839Z"
   },
   {
    "duration": 6,
    "start_time": "2022-04-07T04:59:40.849Z"
   },
   {
    "duration": 1254,
    "start_time": "2022-04-07T04:59:40.856Z"
   },
   {
    "duration": 56919,
    "start_time": "2022-04-07T04:59:42.202Z"
   },
   {
    "duration": 64517,
    "start_time": "2022-04-07T05:00:39.123Z"
   },
   {
    "duration": 39,
    "start_time": "2022-04-07T05:01:43.644Z"
   },
   {
    "duration": 5579,
    "start_time": "2022-04-07T05:01:43.685Z"
   },
   {
    "duration": 240,
    "start_time": "2022-04-07T05:02:12.842Z"
   },
   {
    "duration": 1816,
    "start_time": "2022-04-07T05:02:37.152Z"
   },
   {
    "duration": 825,
    "start_time": "2022-04-07T05:02:38.970Z"
   },
   {
    "duration": 21,
    "start_time": "2022-04-07T05:02:39.800Z"
   },
   {
    "duration": 27,
    "start_time": "2022-04-07T05:02:39.824Z"
   },
   {
    "duration": 14,
    "start_time": "2022-04-07T05:02:39.853Z"
   },
   {
    "duration": 53,
    "start_time": "2022-04-07T05:02:39.869Z"
   },
   {
    "duration": 20,
    "start_time": "2022-04-07T05:02:39.924Z"
   },
   {
    "duration": 25,
    "start_time": "2022-04-07T05:02:39.945Z"
   },
   {
    "duration": 40,
    "start_time": "2022-04-07T05:02:39.972Z"
   },
   {
    "duration": 9,
    "start_time": "2022-04-07T05:02:40.015Z"
   },
   {
    "duration": 9,
    "start_time": "2022-04-07T05:02:40.026Z"
   },
   {
    "duration": 46,
    "start_time": "2022-04-07T05:02:40.037Z"
   },
   {
    "duration": 26,
    "start_time": "2022-04-07T05:02:40.085Z"
   },
   {
    "duration": 273,
    "start_time": "2022-04-07T05:02:40.114Z"
   },
   {
    "duration": 14,
    "start_time": "2022-04-07T05:02:40.389Z"
   },
   {
    "duration": 643,
    "start_time": "2022-04-07T05:02:40.405Z"
   },
   {
    "duration": 27,
    "start_time": "2022-04-07T05:02:41.050Z"
   },
   {
    "duration": 25,
    "start_time": "2022-04-07T05:02:41.079Z"
   },
   {
    "duration": 26,
    "start_time": "2022-04-07T05:02:41.105Z"
   },
   {
    "duration": 15,
    "start_time": "2022-04-07T05:02:41.133Z"
   },
   {
    "duration": 7,
    "start_time": "2022-04-07T05:02:41.150Z"
   },
   {
    "duration": 9,
    "start_time": "2022-04-07T05:02:41.158Z"
   },
   {
    "duration": 32,
    "start_time": "2022-04-07T05:02:41.169Z"
   },
   {
    "duration": 8,
    "start_time": "2022-04-07T05:02:41.203Z"
   },
   {
    "duration": 1396,
    "start_time": "2022-04-07T05:02:41.213Z"
   },
   {
    "duration": 56756,
    "start_time": "2022-04-07T05:02:42.611Z"
   },
   {
    "duration": 64222,
    "start_time": "2022-04-07T05:03:39.370Z"
   },
   {
    "duration": 40,
    "start_time": "2022-04-07T05:04:43.600Z"
   },
   {
    "duration": 5503,
    "start_time": "2022-04-07T05:04:43.642Z"
   }
  ],
  "kernelspec": {
   "display_name": "Python 3 (ipykernel)",
   "language": "python",
   "name": "python3"
  },
  "language_info": {
   "codemirror_mode": {
    "name": "ipython",
    "version": 3
   },
   "file_extension": ".py",
   "mimetype": "text/x-python",
   "name": "python",
   "nbconvert_exporter": "python",
   "pygments_lexer": "ipython3",
   "version": "3.9.7"
  },
  "toc": {
   "base_numbering": 1,
   "nav_menu": {},
   "number_sections": true,
   "sideBar": true,
   "skip_h1_title": true,
   "title_cell": "Table of Contents",
   "title_sidebar": "Contents",
   "toc_cell": false,
   "toc_position": {},
   "toc_section_display": true,
   "toc_window_display": false
  }
 },
 "nbformat": 4,
 "nbformat_minor": 2
}
