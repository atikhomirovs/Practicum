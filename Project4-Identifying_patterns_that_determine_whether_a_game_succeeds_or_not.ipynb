{
 "cells": [
  {
   "cell_type": "markdown",
   "metadata": {},
   "source": [
    "# Identifying patterns that determine whether a game succeeds or not"
   ]
  },
  {
   "cell_type": "markdown",
   "metadata": {},
   "source": [
    "# Contents <a id='back'></a>\n",
    "\n",
    "* [Introduction](#intro)\n",
    "* [Stage 1. Data overview](#data_review)    \n",
    "* [Stage 2. Data preparation](#data_preprocessing)\n",
    "* [Stage 3. Analyzing the data](#data_analysis)\n",
    "* [Stage 4. Creating a user profile for each region](#user_profiles)\n",
    "* [Stage 5. Testing hypotheses](#data_test)\n",
    "* [General Conclusion](#conclusion)"
   ]
  },
  {
   "cell_type": "markdown",
   "metadata": {},
   "source": [
    "# Introduction <a id='intro'></a>\n",
    "In this project, we will analyze historical data on game sales and identify patterns that determine whether a game succeeds or not.\n",
    "\n",
    "### Stages \n",
    "We do not have information about the quality of the data, therefore, we would need to examine and preprocess the data before conducting the research. \n",
    "\n",
    "Firstly, we will evaluate the quality of the data and identify if there are any significant issues that need to be addressed. Secondly, we will preprocess the data: fill in/remove missing values and enrich the data by adding additional columns that will help us to work with the data. Then, we will analyze the data and create a user profile for each region. Finally, we will test statistical hypotheses about games ratings.\n",
    " \n",
    "The project will consist of four stages:\n",
    " 1. Data overview\n",
    " 2. Data preparation\n",
    " 3. Data analysis\n",
    " 4. Regional user profiles creation\n",
    " 5. Statistical hypotheses testing"
   ]
  },
  {
   "cell_type": "markdown",
   "metadata": {},
   "source": [
    "# Stage 1. Data overview <a id='data_review'></a>"
   ]
  },
  {
   "cell_type": "markdown",
   "metadata": {},
   "source": [
    "First of all, will load the data and the libraries that we will use in this project."
   ]
  },
  {
   "cell_type": "code",
   "execution_count": 1,
   "metadata": {},
   "outputs": [],
   "source": [
    "# Loading all required libraries\n",
    "import pandas as pd\n",
    "from scipy import stats as st\n",
    "import numpy as np\n",
    "import matplotlib.pyplot as plt\n",
    "import sys\n",
    "import warnings\n",
    "if not sys.warnoptions:\n",
    "    warnings.simplefilter(\"ignore\")"
   ]
  },
  {
   "cell_type": "code",
   "execution_count": 2,
   "metadata": {},
   "outputs": [],
   "source": [
    "# Loading the data into DataFrame\n",
    "data=pd.read_csv('/datasets/games.csv')"
   ]
  },
  {
   "cell_type": "markdown",
   "metadata": {},
   "source": [
    "We will display general data info and a sample of the data."
   ]
  },
  {
   "cell_type": "code",
   "execution_count": 3,
   "metadata": {},
   "outputs": [
    {
     "name": "stdout",
     "output_type": "stream",
     "text": [
      "<class 'pandas.core.frame.DataFrame'>\n",
      "RangeIndex: 16715 entries, 0 to 16714\n",
      "Data columns (total 11 columns):\n",
      "Name               16713 non-null object\n",
      "Platform           16715 non-null object\n",
      "Year_of_Release    16446 non-null float64\n",
      "Genre              16713 non-null object\n",
      "NA_sales           16715 non-null float64\n",
      "EU_sales           16715 non-null float64\n",
      "JP_sales           16715 non-null float64\n",
      "Other_sales        16715 non-null float64\n",
      "Critic_Score       8137 non-null float64\n",
      "User_Score         10014 non-null object\n",
      "Rating             9949 non-null object\n",
      "dtypes: float64(6), object(5)\n",
      "memory usage: 1.4+ MB\n"
     ]
    }
   ],
   "source": [
    "# printing the general/summary information about the DataFrame\n",
    "data.info()"
   ]
  },
  {
   "cell_type": "code",
   "execution_count": 4,
   "metadata": {},
   "outputs": [
    {
     "data": {
      "text/html": [
       "<div>\n",
       "<style scoped>\n",
       "    .dataframe tbody tr th:only-of-type {\n",
       "        vertical-align: middle;\n",
       "    }\n",
       "\n",
       "    .dataframe tbody tr th {\n",
       "        vertical-align: top;\n",
       "    }\n",
       "\n",
       "    .dataframe thead th {\n",
       "        text-align: right;\n",
       "    }\n",
       "</style>\n",
       "<table border=\"1\" class=\"dataframe\">\n",
       "  <thead>\n",
       "    <tr style=\"text-align: right;\">\n",
       "      <th></th>\n",
       "      <th>Name</th>\n",
       "      <th>Platform</th>\n",
       "      <th>Year_of_Release</th>\n",
       "      <th>Genre</th>\n",
       "      <th>NA_sales</th>\n",
       "      <th>EU_sales</th>\n",
       "      <th>JP_sales</th>\n",
       "      <th>Other_sales</th>\n",
       "      <th>Critic_Score</th>\n",
       "      <th>User_Score</th>\n",
       "      <th>Rating</th>\n",
       "    </tr>\n",
       "  </thead>\n",
       "  <tbody>\n",
       "    <tr>\n",
       "      <td>0</td>\n",
       "      <td>Wii Sports</td>\n",
       "      <td>Wii</td>\n",
       "      <td>2006.0</td>\n",
       "      <td>Sports</td>\n",
       "      <td>41.36</td>\n",
       "      <td>28.96</td>\n",
       "      <td>3.77</td>\n",
       "      <td>8.45</td>\n",
       "      <td>76.0</td>\n",
       "      <td>8</td>\n",
       "      <td>E</td>\n",
       "    </tr>\n",
       "    <tr>\n",
       "      <td>1</td>\n",
       "      <td>Super Mario Bros.</td>\n",
       "      <td>NES</td>\n",
       "      <td>1985.0</td>\n",
       "      <td>Platform</td>\n",
       "      <td>29.08</td>\n",
       "      <td>3.58</td>\n",
       "      <td>6.81</td>\n",
       "      <td>0.77</td>\n",
       "      <td>NaN</td>\n",
       "      <td>NaN</td>\n",
       "      <td>NaN</td>\n",
       "    </tr>\n",
       "    <tr>\n",
       "      <td>2</td>\n",
       "      <td>Mario Kart Wii</td>\n",
       "      <td>Wii</td>\n",
       "      <td>2008.0</td>\n",
       "      <td>Racing</td>\n",
       "      <td>15.68</td>\n",
       "      <td>12.76</td>\n",
       "      <td>3.79</td>\n",
       "      <td>3.29</td>\n",
       "      <td>82.0</td>\n",
       "      <td>8.3</td>\n",
       "      <td>E</td>\n",
       "    </tr>\n",
       "    <tr>\n",
       "      <td>3</td>\n",
       "      <td>Wii Sports Resort</td>\n",
       "      <td>Wii</td>\n",
       "      <td>2009.0</td>\n",
       "      <td>Sports</td>\n",
       "      <td>15.61</td>\n",
       "      <td>10.93</td>\n",
       "      <td>3.28</td>\n",
       "      <td>2.95</td>\n",
       "      <td>80.0</td>\n",
       "      <td>8</td>\n",
       "      <td>E</td>\n",
       "    </tr>\n",
       "    <tr>\n",
       "      <td>4</td>\n",
       "      <td>Pokemon Red/Pokemon Blue</td>\n",
       "      <td>GB</td>\n",
       "      <td>1996.0</td>\n",
       "      <td>Role-Playing</td>\n",
       "      <td>11.27</td>\n",
       "      <td>8.89</td>\n",
       "      <td>10.22</td>\n",
       "      <td>1.00</td>\n",
       "      <td>NaN</td>\n",
       "      <td>NaN</td>\n",
       "      <td>NaN</td>\n",
       "    </tr>\n",
       "    <tr>\n",
       "      <td>5</td>\n",
       "      <td>Tetris</td>\n",
       "      <td>GB</td>\n",
       "      <td>1989.0</td>\n",
       "      <td>Puzzle</td>\n",
       "      <td>23.20</td>\n",
       "      <td>2.26</td>\n",
       "      <td>4.22</td>\n",
       "      <td>0.58</td>\n",
       "      <td>NaN</td>\n",
       "      <td>NaN</td>\n",
       "      <td>NaN</td>\n",
       "    </tr>\n",
       "    <tr>\n",
       "      <td>6</td>\n",
       "      <td>New Super Mario Bros.</td>\n",
       "      <td>DS</td>\n",
       "      <td>2006.0</td>\n",
       "      <td>Platform</td>\n",
       "      <td>11.28</td>\n",
       "      <td>9.14</td>\n",
       "      <td>6.50</td>\n",
       "      <td>2.88</td>\n",
       "      <td>89.0</td>\n",
       "      <td>8.5</td>\n",
       "      <td>E</td>\n",
       "    </tr>\n",
       "    <tr>\n",
       "      <td>7</td>\n",
       "      <td>Wii Play</td>\n",
       "      <td>Wii</td>\n",
       "      <td>2006.0</td>\n",
       "      <td>Misc</td>\n",
       "      <td>13.96</td>\n",
       "      <td>9.18</td>\n",
       "      <td>2.93</td>\n",
       "      <td>2.84</td>\n",
       "      <td>58.0</td>\n",
       "      <td>6.6</td>\n",
       "      <td>E</td>\n",
       "    </tr>\n",
       "    <tr>\n",
       "      <td>8</td>\n",
       "      <td>New Super Mario Bros. Wii</td>\n",
       "      <td>Wii</td>\n",
       "      <td>2009.0</td>\n",
       "      <td>Platform</td>\n",
       "      <td>14.44</td>\n",
       "      <td>6.94</td>\n",
       "      <td>4.70</td>\n",
       "      <td>2.24</td>\n",
       "      <td>87.0</td>\n",
       "      <td>8.4</td>\n",
       "      <td>E</td>\n",
       "    </tr>\n",
       "    <tr>\n",
       "      <td>9</td>\n",
       "      <td>Duck Hunt</td>\n",
       "      <td>NES</td>\n",
       "      <td>1984.0</td>\n",
       "      <td>Shooter</td>\n",
       "      <td>26.93</td>\n",
       "      <td>0.63</td>\n",
       "      <td>0.28</td>\n",
       "      <td>0.47</td>\n",
       "      <td>NaN</td>\n",
       "      <td>NaN</td>\n",
       "      <td>NaN</td>\n",
       "    </tr>\n",
       "  </tbody>\n",
       "</table>\n",
       "</div>"
      ],
      "text/plain": [
       "                        Name Platform  Year_of_Release         Genre  \\\n",
       "0                 Wii Sports      Wii           2006.0        Sports   \n",
       "1          Super Mario Bros.      NES           1985.0      Platform   \n",
       "2             Mario Kart Wii      Wii           2008.0        Racing   \n",
       "3          Wii Sports Resort      Wii           2009.0        Sports   \n",
       "4   Pokemon Red/Pokemon Blue       GB           1996.0  Role-Playing   \n",
       "5                     Tetris       GB           1989.0        Puzzle   \n",
       "6      New Super Mario Bros.       DS           2006.0      Platform   \n",
       "7                   Wii Play      Wii           2006.0          Misc   \n",
       "8  New Super Mario Bros. Wii      Wii           2009.0      Platform   \n",
       "9                  Duck Hunt      NES           1984.0       Shooter   \n",
       "\n",
       "   NA_sales  EU_sales  JP_sales  Other_sales  Critic_Score User_Score Rating  \n",
       "0     41.36     28.96      3.77         8.45          76.0          8      E  \n",
       "1     29.08      3.58      6.81         0.77           NaN        NaN    NaN  \n",
       "2     15.68     12.76      3.79         3.29          82.0        8.3      E  \n",
       "3     15.61     10.93      3.28         2.95          80.0          8      E  \n",
       "4     11.27      8.89     10.22         1.00           NaN        NaN    NaN  \n",
       "5     23.20      2.26      4.22         0.58           NaN        NaN    NaN  \n",
       "6     11.28      9.14      6.50         2.88          89.0        8.5      E  \n",
       "7     13.96      9.18      2.93         2.84          58.0        6.6      E  \n",
       "8     14.44      6.94      4.70         2.24          87.0        8.4      E  \n",
       "9     26.93      0.63      0.28         0.47           NaN        NaN    NaN  "
      ]
     },
     "execution_count": 4,
     "metadata": {},
     "output_type": "execute_result"
    }
   ],
   "source": [
    "# printing a sample of data\n",
    "data.head(10)"
   ]
  },
  {
   "cell_type": "markdown",
   "metadata": {},
   "source": [
    "As can be seen, a lot of values are missing particularly in scores and rating columns. Before starting data analysis, we will address the issues with the data. Firstly, we will make column names lowercase and check how many values are missing."
   ]
  },
  {
   "cell_type": "code",
   "execution_count": 5,
   "metadata": {},
   "outputs": [],
   "source": [
    "#making colunm names lowercase\n",
    "data.columns=data.columns.str.lower()"
   ]
  },
  {
   "cell_type": "code",
   "execution_count": 6,
   "metadata": {},
   "outputs": [
    {
     "data": {
      "text/plain": [
       "name                0.011965\n",
       "platform            0.000000\n",
       "year_of_release     1.609333\n",
       "genre               0.011965\n",
       "na_sales            0.000000\n",
       "eu_sales            0.000000\n",
       "jp_sales            0.000000\n",
       "other_sales         0.000000\n",
       "critic_score       51.319174\n",
       "user_score         40.089740\n",
       "rating             40.478612\n",
       "dtype: float64"
      ]
     },
     "execution_count": 6,
     "metadata": {},
     "output_type": "execute_result"
    }
   ],
   "source": [
    "#checking how many values are missing\n",
    "data.isnull().sum()*100/len(data)"
   ]
  },
  {
   "cell_type": "markdown",
   "metadata": {},
   "source": [
    "As can be seen, critic_score, user_score, and rating columns have 51, 40, and 40 percent of missing values correspondingly. This is a lot, so we will need to decide what to do with missing values on these columns. Year_of_release, genre, and name columns also have some data missing, which needs to be addressed.\n",
    "\n",
    "Next will prepare the data for further analysis. We will go through each column one by one analyzing them and correcting incorrect and missing data."
   ]
  },
  {
   "cell_type": "markdown",
   "metadata": {},
   "source": [
    "# Stage 2. Data preparation  <a id='data_preprocessing'></a>"
   ]
  },
  {
   "cell_type": "markdown",
   "metadata": {},
   "source": [
    "## Name"
   ]
  },
  {
   "cell_type": "markdown",
   "metadata": {},
   "source": [
    "Displaying data where values in the name column are missing."
   ]
  },
  {
   "cell_type": "code",
   "execution_count": 7,
   "metadata": {},
   "outputs": [
    {
     "data": {
      "text/html": [
       "<div>\n",
       "<style scoped>\n",
       "    .dataframe tbody tr th:only-of-type {\n",
       "        vertical-align: middle;\n",
       "    }\n",
       "\n",
       "    .dataframe tbody tr th {\n",
       "        vertical-align: top;\n",
       "    }\n",
       "\n",
       "    .dataframe thead th {\n",
       "        text-align: right;\n",
       "    }\n",
       "</style>\n",
       "<table border=\"1\" class=\"dataframe\">\n",
       "  <thead>\n",
       "    <tr style=\"text-align: right;\">\n",
       "      <th></th>\n",
       "      <th>name</th>\n",
       "      <th>platform</th>\n",
       "      <th>year_of_release</th>\n",
       "      <th>genre</th>\n",
       "      <th>na_sales</th>\n",
       "      <th>eu_sales</th>\n",
       "      <th>jp_sales</th>\n",
       "      <th>other_sales</th>\n",
       "      <th>critic_score</th>\n",
       "      <th>user_score</th>\n",
       "      <th>rating</th>\n",
       "    </tr>\n",
       "  </thead>\n",
       "  <tbody>\n",
       "    <tr>\n",
       "      <td>659</td>\n",
       "      <td>NaN</td>\n",
       "      <td>GEN</td>\n",
       "      <td>1993.0</td>\n",
       "      <td>NaN</td>\n",
       "      <td>1.78</td>\n",
       "      <td>0.53</td>\n",
       "      <td>0.00</td>\n",
       "      <td>0.08</td>\n",
       "      <td>NaN</td>\n",
       "      <td>NaN</td>\n",
       "      <td>NaN</td>\n",
       "    </tr>\n",
       "    <tr>\n",
       "      <td>14244</td>\n",
       "      <td>NaN</td>\n",
       "      <td>GEN</td>\n",
       "      <td>1993.0</td>\n",
       "      <td>NaN</td>\n",
       "      <td>0.00</td>\n",
       "      <td>0.00</td>\n",
       "      <td>0.03</td>\n",
       "      <td>0.00</td>\n",
       "      <td>NaN</td>\n",
       "      <td>NaN</td>\n",
       "      <td>NaN</td>\n",
       "    </tr>\n",
       "  </tbody>\n",
       "</table>\n",
       "</div>"
      ],
      "text/plain": [
       "      name platform  year_of_release genre  na_sales  eu_sales  jp_sales  \\\n",
       "659    NaN      GEN           1993.0   NaN      1.78      0.53      0.00   \n",
       "14244  NaN      GEN           1993.0   NaN      0.00      0.00      0.03   \n",
       "\n",
       "       other_sales  critic_score user_score rating  \n",
       "659           0.08           NaN        NaN    NaN  \n",
       "14244         0.00           NaN        NaN    NaN  "
      ]
     },
     "execution_count": 7,
     "metadata": {},
     "output_type": "execute_result"
    }
   ],
   "source": [
    "#printing data where values in nama column are missing\n",
    "data[data['name'].isna()]"
   ]
  },
  {
   "cell_type": "markdown",
   "metadata": {},
   "source": [
    "As can be seen, only 2 names are missing. In addition, these rows miss a lot of other information - genres, scores, and rating. Since it is only 2 rows, we will simply drop them."
   ]
  },
  {
   "cell_type": "code",
   "execution_count": 8,
   "metadata": {},
   "outputs": [],
   "source": [
    "#dropping rows with missing values in name column\n",
    "data=data.dropna(subset = ['name'])"
   ]
  },
  {
   "cell_type": "markdown",
   "metadata": {},
   "source": [
    "## Platform"
   ]
  },
  {
   "cell_type": "markdown",
   "metadata": {},
   "source": [
    "According to the initial review, there is no missing data in this column. Therefore, we will just confirm that there are no duplicate values."
   ]
  },
  {
   "cell_type": "code",
   "execution_count": 9,
   "metadata": {},
   "outputs": [
    {
     "data": {
      "text/plain": [
       "array(['Wii', 'NES', 'GB', 'DS', 'X360', 'PS3', 'PS2', 'SNES', 'GBA',\n",
       "       'PS4', '3DS', 'N64', 'PS', 'XB', 'PC', '2600', 'PSP', 'XOne',\n",
       "       'WiiU', 'GC', 'GEN', 'DC', 'PSV', 'SAT', 'SCD', 'WS', 'NG', 'TG16',\n",
       "       '3DO', 'GG', 'PCFX'], dtype=object)"
      ]
     },
     "execution_count": 9,
     "metadata": {},
     "output_type": "execute_result"
    }
   ],
   "source": [
    "#printing unique values in platform column\n",
    "data['platform'].unique()"
   ]
  },
  {
   "cell_type": "markdown",
   "metadata": {},
   "source": [
    "It looks like there are no duplicate platform names, so we will leave this column as it is."
   ]
  },
  {
   "cell_type": "markdown",
   "metadata": {},
   "source": [
    "## Year_of_release"
   ]
  },
  {
   "cell_type": "markdown",
   "metadata": {},
   "source": [
    "Displaying sample of the data where values in this column are missing."
   ]
  },
  {
   "cell_type": "code",
   "execution_count": 10,
   "metadata": {},
   "outputs": [
    {
     "data": {
      "text/html": [
       "<div>\n",
       "<style scoped>\n",
       "    .dataframe tbody tr th:only-of-type {\n",
       "        vertical-align: middle;\n",
       "    }\n",
       "\n",
       "    .dataframe tbody tr th {\n",
       "        vertical-align: top;\n",
       "    }\n",
       "\n",
       "    .dataframe thead th {\n",
       "        text-align: right;\n",
       "    }\n",
       "</style>\n",
       "<table border=\"1\" class=\"dataframe\">\n",
       "  <thead>\n",
       "    <tr style=\"text-align: right;\">\n",
       "      <th></th>\n",
       "      <th>name</th>\n",
       "      <th>platform</th>\n",
       "      <th>year_of_release</th>\n",
       "      <th>genre</th>\n",
       "      <th>na_sales</th>\n",
       "      <th>eu_sales</th>\n",
       "      <th>jp_sales</th>\n",
       "      <th>other_sales</th>\n",
       "      <th>critic_score</th>\n",
       "      <th>user_score</th>\n",
       "      <th>rating</th>\n",
       "    </tr>\n",
       "  </thead>\n",
       "  <tbody>\n",
       "    <tr>\n",
       "      <td>183</td>\n",
       "      <td>Madden NFL 2004</td>\n",
       "      <td>PS2</td>\n",
       "      <td>NaN</td>\n",
       "      <td>Sports</td>\n",
       "      <td>4.26</td>\n",
       "      <td>0.26</td>\n",
       "      <td>0.01</td>\n",
       "      <td>0.71</td>\n",
       "      <td>94.0</td>\n",
       "      <td>8.5</td>\n",
       "      <td>E</td>\n",
       "    </tr>\n",
       "    <tr>\n",
       "      <td>377</td>\n",
       "      <td>FIFA Soccer 2004</td>\n",
       "      <td>PS2</td>\n",
       "      <td>NaN</td>\n",
       "      <td>Sports</td>\n",
       "      <td>0.59</td>\n",
       "      <td>2.36</td>\n",
       "      <td>0.04</td>\n",
       "      <td>0.51</td>\n",
       "      <td>84.0</td>\n",
       "      <td>6.4</td>\n",
       "      <td>E</td>\n",
       "    </tr>\n",
       "    <tr>\n",
       "      <td>456</td>\n",
       "      <td>LEGO Batman: The Videogame</td>\n",
       "      <td>Wii</td>\n",
       "      <td>NaN</td>\n",
       "      <td>Action</td>\n",
       "      <td>1.80</td>\n",
       "      <td>0.97</td>\n",
       "      <td>0.00</td>\n",
       "      <td>0.29</td>\n",
       "      <td>74.0</td>\n",
       "      <td>7.9</td>\n",
       "      <td>E10+</td>\n",
       "    </tr>\n",
       "    <tr>\n",
       "      <td>475</td>\n",
       "      <td>wwe Smackdown vs. Raw 2006</td>\n",
       "      <td>PS2</td>\n",
       "      <td>NaN</td>\n",
       "      <td>Fighting</td>\n",
       "      <td>1.57</td>\n",
       "      <td>1.02</td>\n",
       "      <td>0.00</td>\n",
       "      <td>0.41</td>\n",
       "      <td>NaN</td>\n",
       "      <td>NaN</td>\n",
       "      <td>NaN</td>\n",
       "    </tr>\n",
       "    <tr>\n",
       "      <td>609</td>\n",
       "      <td>Space Invaders</td>\n",
       "      <td>2600</td>\n",
       "      <td>NaN</td>\n",
       "      <td>Shooter</td>\n",
       "      <td>2.36</td>\n",
       "      <td>0.14</td>\n",
       "      <td>0.00</td>\n",
       "      <td>0.03</td>\n",
       "      <td>NaN</td>\n",
       "      <td>NaN</td>\n",
       "      <td>NaN</td>\n",
       "    </tr>\n",
       "    <tr>\n",
       "      <td>...</td>\n",
       "      <td>...</td>\n",
       "      <td>...</td>\n",
       "      <td>...</td>\n",
       "      <td>...</td>\n",
       "      <td>...</td>\n",
       "      <td>...</td>\n",
       "      <td>...</td>\n",
       "      <td>...</td>\n",
       "      <td>...</td>\n",
       "      <td>...</td>\n",
       "      <td>...</td>\n",
       "    </tr>\n",
       "    <tr>\n",
       "      <td>16373</td>\n",
       "      <td>PDC World Championship Darts 2008</td>\n",
       "      <td>PSP</td>\n",
       "      <td>NaN</td>\n",
       "      <td>Sports</td>\n",
       "      <td>0.01</td>\n",
       "      <td>0.00</td>\n",
       "      <td>0.00</td>\n",
       "      <td>0.00</td>\n",
       "      <td>43.0</td>\n",
       "      <td>tbd</td>\n",
       "      <td>E10+</td>\n",
       "    </tr>\n",
       "    <tr>\n",
       "      <td>16405</td>\n",
       "      <td>Freaky Flyers</td>\n",
       "      <td>GC</td>\n",
       "      <td>NaN</td>\n",
       "      <td>Racing</td>\n",
       "      <td>0.01</td>\n",
       "      <td>0.00</td>\n",
       "      <td>0.00</td>\n",
       "      <td>0.00</td>\n",
       "      <td>69.0</td>\n",
       "      <td>6.5</td>\n",
       "      <td>T</td>\n",
       "    </tr>\n",
       "    <tr>\n",
       "      <td>16448</td>\n",
       "      <td>Inversion</td>\n",
       "      <td>PC</td>\n",
       "      <td>NaN</td>\n",
       "      <td>Shooter</td>\n",
       "      <td>0.01</td>\n",
       "      <td>0.00</td>\n",
       "      <td>0.00</td>\n",
       "      <td>0.00</td>\n",
       "      <td>59.0</td>\n",
       "      <td>6.7</td>\n",
       "      <td>M</td>\n",
       "    </tr>\n",
       "    <tr>\n",
       "      <td>16458</td>\n",
       "      <td>Hakuouki: Shinsengumi Kitan</td>\n",
       "      <td>PS3</td>\n",
       "      <td>NaN</td>\n",
       "      <td>Adventure</td>\n",
       "      <td>0.01</td>\n",
       "      <td>0.00</td>\n",
       "      <td>0.00</td>\n",
       "      <td>0.00</td>\n",
       "      <td>NaN</td>\n",
       "      <td>NaN</td>\n",
       "      <td>NaN</td>\n",
       "    </tr>\n",
       "    <tr>\n",
       "      <td>16522</td>\n",
       "      <td>Virtua Quest</td>\n",
       "      <td>GC</td>\n",
       "      <td>NaN</td>\n",
       "      <td>Role-Playing</td>\n",
       "      <td>0.01</td>\n",
       "      <td>0.00</td>\n",
       "      <td>0.00</td>\n",
       "      <td>0.00</td>\n",
       "      <td>55.0</td>\n",
       "      <td>5.5</td>\n",
       "      <td>T</td>\n",
       "    </tr>\n",
       "  </tbody>\n",
       "</table>\n",
       "<p>269 rows × 11 columns</p>\n",
       "</div>"
      ],
      "text/plain": [
       "                                    name platform  year_of_release  \\\n",
       "183                      Madden NFL 2004      PS2              NaN   \n",
       "377                     FIFA Soccer 2004      PS2              NaN   \n",
       "456           LEGO Batman: The Videogame      Wii              NaN   \n",
       "475           wwe Smackdown vs. Raw 2006      PS2              NaN   \n",
       "609                       Space Invaders     2600              NaN   \n",
       "...                                  ...      ...              ...   \n",
       "16373  PDC World Championship Darts 2008      PSP              NaN   \n",
       "16405                      Freaky Flyers       GC              NaN   \n",
       "16448                          Inversion       PC              NaN   \n",
       "16458        Hakuouki: Shinsengumi Kitan      PS3              NaN   \n",
       "16522                       Virtua Quest       GC              NaN   \n",
       "\n",
       "              genre  na_sales  eu_sales  jp_sales  other_sales  critic_score  \\\n",
       "183          Sports      4.26      0.26      0.01         0.71          94.0   \n",
       "377          Sports      0.59      2.36      0.04         0.51          84.0   \n",
       "456          Action      1.80      0.97      0.00         0.29          74.0   \n",
       "475        Fighting      1.57      1.02      0.00         0.41           NaN   \n",
       "609         Shooter      2.36      0.14      0.00         0.03           NaN   \n",
       "...             ...       ...       ...       ...          ...           ...   \n",
       "16373        Sports      0.01      0.00      0.00         0.00          43.0   \n",
       "16405        Racing      0.01      0.00      0.00         0.00          69.0   \n",
       "16448       Shooter      0.01      0.00      0.00         0.00          59.0   \n",
       "16458     Adventure      0.01      0.00      0.00         0.00           NaN   \n",
       "16522  Role-Playing      0.01      0.00      0.00         0.00          55.0   \n",
       "\n",
       "      user_score rating  \n",
       "183          8.5      E  \n",
       "377          6.4      E  \n",
       "456          7.9   E10+  \n",
       "475          NaN    NaN  \n",
       "609          NaN    NaN  \n",
       "...          ...    ...  \n",
       "16373        tbd   E10+  \n",
       "16405        6.5      T  \n",
       "16448        6.7      M  \n",
       "16458        NaN    NaN  \n",
       "16522        5.5      T  \n",
       "\n",
       "[269 rows x 11 columns]"
      ]
     },
     "execution_count": 10,
     "metadata": {},
     "output_type": "execute_result"
    }
   ],
   "source": [
    "data[data['year_of_release'].isna()]"
   ]
  },
  {
   "cell_type": "markdown",
   "metadata": {},
   "source": [
    "There does not seem to be a correlation between missing values in this column and any other column as release year is missing for different platforms, and genres. We will fill the missing values in that column with median values. But since the time span of the whole dataset is too large, we will use median values for platforms. The median values for platforms will be closer to the correct values than the median for the whole dataset."
   ]
  },
  {
   "cell_type": "code",
   "execution_count": 11,
   "metadata": {},
   "outputs": [],
   "source": [
    "#calculating median years for platforms and storing them into a variable\n",
    "platform_median=data.pivot_table(index='platform', values='year_of_release',aggfunc='median')"
   ]
  },
  {
   "cell_type": "code",
   "execution_count": 12,
   "metadata": {},
   "outputs": [],
   "source": [
    "#filling missing release values with platforms median values\n",
    "data['year_of_release']=data.apply(lambda row:platform_median[platform_median.index==row['platform']]['year_of_release'] \n",
    "                                   if np.isnan(row['year_of_release']) else row['year_of_release'],axis=1)"
   ]
  },
  {
   "cell_type": "markdown",
   "metadata": {},
   "source": [
    "In addition, the year_of_release column has an incorrect type - float, we will change it to int."
   ]
  },
  {
   "cell_type": "code",
   "execution_count": 13,
   "metadata": {},
   "outputs": [],
   "source": [
    "#changing the column type to int\n",
    "data['year_of_release']=data['year_of_release'].astype('int')"
   ]
  },
  {
   "cell_type": "markdown",
   "metadata": {},
   "source": [
    "## Genre"
   ]
  },
  {
   "cell_type": "markdown",
   "metadata": {},
   "source": [
    "Displaying sample of the data where values in this column are missing."
   ]
  },
  {
   "cell_type": "code",
   "execution_count": 14,
   "metadata": {},
   "outputs": [
    {
     "data": {
      "text/html": [
       "<div>\n",
       "<style scoped>\n",
       "    .dataframe tbody tr th:only-of-type {\n",
       "        vertical-align: middle;\n",
       "    }\n",
       "\n",
       "    .dataframe tbody tr th {\n",
       "        vertical-align: top;\n",
       "    }\n",
       "\n",
       "    .dataframe thead th {\n",
       "        text-align: right;\n",
       "    }\n",
       "</style>\n",
       "<table border=\"1\" class=\"dataframe\">\n",
       "  <thead>\n",
       "    <tr style=\"text-align: right;\">\n",
       "      <th></th>\n",
       "      <th>name</th>\n",
       "      <th>platform</th>\n",
       "      <th>year_of_release</th>\n",
       "      <th>genre</th>\n",
       "      <th>na_sales</th>\n",
       "      <th>eu_sales</th>\n",
       "      <th>jp_sales</th>\n",
       "      <th>other_sales</th>\n",
       "      <th>critic_score</th>\n",
       "      <th>user_score</th>\n",
       "      <th>rating</th>\n",
       "    </tr>\n",
       "  </thead>\n",
       "  <tbody>\n",
       "  </tbody>\n",
       "</table>\n",
       "</div>"
      ],
      "text/plain": [
       "Empty DataFrame\n",
       "Columns: [name, platform, year_of_release, genre, na_sales, eu_sales, jp_sales, other_sales, critic_score, user_score, rating]\n",
       "Index: []"
      ]
     },
     "execution_count": 14,
     "metadata": {},
     "output_type": "execute_result"
    }
   ],
   "source": [
    "data[data['genre'].isna()]"
   ]
  },
  {
   "cell_type": "markdown",
   "metadata": {},
   "source": [
    "There were no missing data in this column. Therefore, we will just confirm that there are no duplicate values."
   ]
  },
  {
   "cell_type": "code",
   "execution_count": 15,
   "metadata": {},
   "outputs": [
    {
     "data": {
      "text/plain": [
       "array(['Sports', 'Platform', 'Racing', 'Role-Playing', 'Puzzle', 'Misc',\n",
       "       'Shooter', 'Simulation', 'Action', 'Fighting', 'Adventure',\n",
       "       'Strategy'], dtype=object)"
      ]
     },
     "execution_count": 15,
     "metadata": {},
     "output_type": "execute_result"
    }
   ],
   "source": [
    "data['genre'].unique()"
   ]
  },
  {
   "cell_type": "markdown",
   "metadata": {},
   "source": [
    "It looks like there are no duplicate platform names, so we will leave this column as it is."
   ]
  },
  {
   "cell_type": "markdown",
   "metadata": {},
   "source": [
    "## Critic_score"
   ]
  },
  {
   "cell_type": "markdown",
   "metadata": {},
   "source": [
    "More than half of the values in this column are missing. Most likely critics just did not score those games. It is likely that scores range can vary from genre to genre, therefore we will use median for a genre to fill missing values."
   ]
  },
  {
   "cell_type": "code",
   "execution_count": 16,
   "metadata": {},
   "outputs": [],
   "source": [
    "#calculating median critic score for genre and storing them into a variable\n",
    "genre_critic_score=data.pivot_table(index='genre', values='critic_score',aggfunc='median')"
   ]
  },
  {
   "cell_type": "code",
   "execution_count": 17,
   "metadata": {},
   "outputs": [],
   "source": [
    "#filling missing critic_score values with genre median critic_score values\n",
    "data['critic_score']=data.apply(lambda row:genre_critic_score[genre_critic_score.index==row['genre']]['critic_score'] \n",
    "                                if np.isnan(row['critic_score']) else row['critic_score'],axis=1)"
   ]
  },
  {
   "cell_type": "markdown",
   "metadata": {},
   "source": [
    "In addition, this column has an incorrect type - float, we will change it to int."
   ]
  },
  {
   "cell_type": "code",
   "execution_count": 18,
   "metadata": {},
   "outputs": [],
   "source": [
    "#changing the column type to int\n",
    "data['critic_score']=data['critic_score'].astype('int')"
   ]
  },
  {
   "cell_type": "markdown",
   "metadata": {},
   "source": [
    "## User_score"
   ]
  },
  {
   "cell_type": "markdown",
   "metadata": {},
   "source": [
    "This column has object type meaning that there can be non-numerical values. Let's check it by counting unique values."
   ]
  },
  {
   "cell_type": "code",
   "execution_count": 19,
   "metadata": {},
   "outputs": [
    {
     "data": {
      "text/plain": [
       "tbd    2424\n",
       "7.8     324\n",
       "8       290\n",
       "8.2     282\n",
       "8.3     254\n",
       "       ... \n",
       "1.9       2\n",
       "1.5       2\n",
       "2.3       2\n",
       "0         1\n",
       "9.7       1\n",
       "Name: user_score, Length: 96, dtype: int64"
      ]
     },
     "execution_count": 19,
     "metadata": {},
     "output_type": "execute_result"
    }
   ],
   "source": [
    "# counting unique values in user_score column\n",
    "data['user_score'].value_counts()"
   ]
  },
  {
   "cell_type": "markdown",
   "metadata": {},
   "source": [
    "As can be seen, there are 2424 cells that have ‘tbd’ values. TBD means to be decided. In other words, they are not determined yet, so we will treat them as missing and will replace them with NaN."
   ]
  },
  {
   "cell_type": "code",
   "execution_count": 20,
   "metadata": {},
   "outputs": [],
   "source": [
    "#replacing 'tbd' values with NaN\n",
    "data['user_score']=data['user_score'].replace('tbd', np.nan)"
   ]
  },
  {
   "cell_type": "markdown",
   "metadata": {},
   "source": [
    "Now we will convert this column to float type."
   ]
  },
  {
   "cell_type": "code",
   "execution_count": 21,
   "metadata": {},
   "outputs": [],
   "source": [
    "#changing the column type to float\n",
    "data['user_score']=data['user_score'].astype('float')"
   ]
  },
  {
   "cell_type": "markdown",
   "metadata": {},
   "source": [
    "Similarly to critic_score and for the same reasons we will use median for a genre to fill missing values in this column."
   ]
  },
  {
   "cell_type": "code",
   "execution_count": 22,
   "metadata": {},
   "outputs": [],
   "source": [
    "#calculating median user score for genre and storing them into a variable\n",
    "genre_user_score=data.pivot_table(index='genre', values='user_score',aggfunc='median')"
   ]
  },
  {
   "cell_type": "code",
   "execution_count": 23,
   "metadata": {},
   "outputs": [],
   "source": [
    "#filling missing user_score values with genre median user_score values\n",
    "data['user_score']=data.apply(lambda row:genre_user_score[genre_user_score.index==row['genre']]['user_score'] \n",
    "                                if np.isnan(row['user_score']) else row['user_score'],axis=1)\n",
    "data['user_score']=data['user_score'].astype('float')"
   ]
  },
  {
   "cell_type": "markdown",
   "metadata": {},
   "source": [
    "## Rating\n",
    "\n",
    "Firstly, we will check all unique values in this column."
   ]
  },
  {
   "cell_type": "code",
   "execution_count": 24,
   "metadata": {},
   "outputs": [
    {
     "data": {
      "text/plain": [
       "array(['E', nan, 'M', 'T', 'E10+', 'K-A', 'AO', 'EC', 'RP'], dtype=object)"
      ]
     },
     "execution_count": 24,
     "metadata": {},
     "output_type": "execute_result"
    }
   ],
   "source": [
    "#printing unique values in rating column\n",
    "data['rating'].unique()"
   ]
  },
  {
   "cell_type": "markdown",
   "metadata": {},
   "source": [
    "As can be seen this column has categorical values. Therefore, we cannot use mean or median to fill missing values. Instead, we can use the most popular rating for the genre to fill it. To find the most popular rating for a genre we will group the data by genre and aggregate rating column using Series.mode function where mode - the value that appears most often. For simplicity of use, we will convert the result to a dictionary."
   ]
  },
  {
   "cell_type": "code",
   "execution_count": 25,
   "metadata": {},
   "outputs": [],
   "source": [
    "#getting the most popular rating for each genre\n",
    "pop_ratings = data.groupby('genre')['rating'].agg(pd.Series.mode).to_dict()"
   ]
  },
  {
   "cell_type": "code",
   "execution_count": 26,
   "metadata": {},
   "outputs": [],
   "source": [
    "#filling missing rating values with the most popular value for a genre\n",
    "data['rating']=data.apply(lambda row:pop_ratings[row['genre']]\n",
    "                                if pd.isna(row['rating']) else row['rating'],axis=1)"
   ]
  },
  {
   "cell_type": "markdown",
   "metadata": {},
   "source": [
    "Columns na_sales, eu_sales, jp_sales, and other_sales are in the correct numerical type (float) and do not have missing values, therefore, we will leave them as they are.\n",
    "\n",
    "Let's confirm that all missing values were addressed."
   ]
  },
  {
   "cell_type": "code",
   "execution_count": 27,
   "metadata": {},
   "outputs": [
    {
     "name": "stdout",
     "output_type": "stream",
     "text": [
      "<class 'pandas.core.frame.DataFrame'>\n",
      "Int64Index: 16713 entries, 0 to 16714\n",
      "Data columns (total 11 columns):\n",
      "name               16713 non-null object\n",
      "platform           16713 non-null object\n",
      "year_of_release    16713 non-null int64\n",
      "genre              16713 non-null object\n",
      "na_sales           16713 non-null float64\n",
      "eu_sales           16713 non-null float64\n",
      "jp_sales           16713 non-null float64\n",
      "other_sales        16713 non-null float64\n",
      "critic_score       16713 non-null int64\n",
      "user_score         16713 non-null float64\n",
      "rating             16713 non-null object\n",
      "dtypes: float64(5), int64(2), object(4)\n",
      "memory usage: 1.5+ MB\n"
     ]
    }
   ],
   "source": [
    "#displaying info about data\n",
    "data.info()"
   ]
  },
  {
   "cell_type": "markdown",
   "metadata": {},
   "source": [
    "There are no missing values left."
   ]
  },
  {
   "cell_type": "markdown",
   "metadata": {},
   "source": [
    "## Calculatin the total sales \n",
    "\n",
    "During analysis, we will use total sales for all region values. To simplify the analysis we will calculate the sum of sales in all regions for each game and put these values in a separate column."
   ]
  },
  {
   "cell_type": "code",
   "execution_count": 28,
   "metadata": {},
   "outputs": [],
   "source": [
    "#culculating sum of sales in all regions for each game and putting these values in a separate column.\n",
    "data['total_sales']=data['na_sales']+data['eu_sales']+data['jp_sales']+data['other_sales']"
   ]
  },
  {
   "cell_type": "markdown",
   "metadata": {},
   "source": [
    "Let's confirm that the column was added correctly."
   ]
  },
  {
   "cell_type": "code",
   "execution_count": 29,
   "metadata": {},
   "outputs": [
    {
     "data": {
      "text/html": [
       "<div>\n",
       "<style scoped>\n",
       "    .dataframe tbody tr th:only-of-type {\n",
       "        vertical-align: middle;\n",
       "    }\n",
       "\n",
       "    .dataframe tbody tr th {\n",
       "        vertical-align: top;\n",
       "    }\n",
       "\n",
       "    .dataframe thead th {\n",
       "        text-align: right;\n",
       "    }\n",
       "</style>\n",
       "<table border=\"1\" class=\"dataframe\">\n",
       "  <thead>\n",
       "    <tr style=\"text-align: right;\">\n",
       "      <th></th>\n",
       "      <th>name</th>\n",
       "      <th>platform</th>\n",
       "      <th>year_of_release</th>\n",
       "      <th>genre</th>\n",
       "      <th>na_sales</th>\n",
       "      <th>eu_sales</th>\n",
       "      <th>jp_sales</th>\n",
       "      <th>other_sales</th>\n",
       "      <th>critic_score</th>\n",
       "      <th>user_score</th>\n",
       "      <th>rating</th>\n",
       "      <th>total_sales</th>\n",
       "    </tr>\n",
       "  </thead>\n",
       "  <tbody>\n",
       "    <tr>\n",
       "      <td>0</td>\n",
       "      <td>Wii Sports</td>\n",
       "      <td>Wii</td>\n",
       "      <td>2006</td>\n",
       "      <td>Sports</td>\n",
       "      <td>41.36</td>\n",
       "      <td>28.96</td>\n",
       "      <td>3.77</td>\n",
       "      <td>8.45</td>\n",
       "      <td>76</td>\n",
       "      <td>8.0</td>\n",
       "      <td>E</td>\n",
       "      <td>82.54</td>\n",
       "    </tr>\n",
       "    <tr>\n",
       "      <td>1</td>\n",
       "      <td>Super Mario Bros.</td>\n",
       "      <td>NES</td>\n",
       "      <td>1985</td>\n",
       "      <td>Platform</td>\n",
       "      <td>29.08</td>\n",
       "      <td>3.58</td>\n",
       "      <td>6.81</td>\n",
       "      <td>0.77</td>\n",
       "      <td>69</td>\n",
       "      <td>7.7</td>\n",
       "      <td>E</td>\n",
       "      <td>40.24</td>\n",
       "    </tr>\n",
       "    <tr>\n",
       "      <td>2</td>\n",
       "      <td>Mario Kart Wii</td>\n",
       "      <td>Wii</td>\n",
       "      <td>2008</td>\n",
       "      <td>Racing</td>\n",
       "      <td>15.68</td>\n",
       "      <td>12.76</td>\n",
       "      <td>3.79</td>\n",
       "      <td>3.29</td>\n",
       "      <td>82</td>\n",
       "      <td>8.3</td>\n",
       "      <td>E</td>\n",
       "      <td>35.52</td>\n",
       "    </tr>\n",
       "    <tr>\n",
       "      <td>3</td>\n",
       "      <td>Wii Sports Resort</td>\n",
       "      <td>Wii</td>\n",
       "      <td>2009</td>\n",
       "      <td>Sports</td>\n",
       "      <td>15.61</td>\n",
       "      <td>10.93</td>\n",
       "      <td>3.28</td>\n",
       "      <td>2.95</td>\n",
       "      <td>80</td>\n",
       "      <td>8.0</td>\n",
       "      <td>E</td>\n",
       "      <td>32.77</td>\n",
       "    </tr>\n",
       "    <tr>\n",
       "      <td>4</td>\n",
       "      <td>Pokemon Red/Pokemon Blue</td>\n",
       "      <td>GB</td>\n",
       "      <td>1996</td>\n",
       "      <td>Role-Playing</td>\n",
       "      <td>11.27</td>\n",
       "      <td>8.89</td>\n",
       "      <td>10.22</td>\n",
       "      <td>1.00</td>\n",
       "      <td>74</td>\n",
       "      <td>7.8</td>\n",
       "      <td>T</td>\n",
       "      <td>31.38</td>\n",
       "    </tr>\n",
       "  </tbody>\n",
       "</table>\n",
       "</div>"
      ],
      "text/plain": [
       "                       name platform  year_of_release         genre  na_sales  \\\n",
       "0                Wii Sports      Wii             2006        Sports     41.36   \n",
       "1         Super Mario Bros.      NES             1985      Platform     29.08   \n",
       "2            Mario Kart Wii      Wii             2008        Racing     15.68   \n",
       "3         Wii Sports Resort      Wii             2009        Sports     15.61   \n",
       "4  Pokemon Red/Pokemon Blue       GB             1996  Role-Playing     11.27   \n",
       "\n",
       "   eu_sales  jp_sales  other_sales  critic_score  user_score rating  \\\n",
       "0     28.96      3.77         8.45            76         8.0      E   \n",
       "1      3.58      6.81         0.77            69         7.7      E   \n",
       "2     12.76      3.79         3.29            82         8.3      E   \n",
       "3     10.93      3.28         2.95            80         8.0      E   \n",
       "4      8.89     10.22         1.00            74         7.8      T   \n",
       "\n",
       "   total_sales  \n",
       "0        82.54  \n",
       "1        40.24  \n",
       "2        35.52  \n",
       "3        32.77  \n",
       "4        31.38  "
      ]
     },
     "execution_count": 29,
     "metadata": {},
     "output_type": "execute_result"
    }
   ],
   "source": [
    "#printing a sample of the data\n",
    "data.head()"
   ]
  },
  {
   "cell_type": "markdown",
   "metadata": {},
   "source": [
    "We evaluated the quality of the data, identified and addressed the issues with the data, and enriched the data. Next, we will analyze the data."
   ]
  },
  {
   "cell_type": "markdown",
   "metadata": {},
   "source": [
    "# Stage 3 Analyzing the data<a id='data_analysis'></a>"
   ]
  },
  {
   "cell_type": "markdown",
   "metadata": {},
   "source": [
    "At this stage, we will analyze the data and identify patterns that determine whether a game succeeds or not.\n",
    "\n",
    "First of all, we will look at how many games were released in different years and will decide if the data for every period is significant. To do this, we will group the data by year_of_release and will put it on the plot."
   ]
  },
  {
   "cell_type": "code",
   "execution_count": 30,
   "metadata": {},
   "outputs": [],
   "source": [
    "#groupping data by year_of_release\n",
    "games_per_years=data.groupby('year_of_release')['year_of_release'].count()"
   ]
  },
  {
   "cell_type": "code",
   "execution_count": 31,
   "metadata": {},
   "outputs": [
    {
     "data": {
      "image/png": "[encoded data removed]",
      "text/plain": [
       "<Figure size 1080x360 with 1 Axes>"
      ]
     },
     "metadata": {
      "needs_background": "light"
     },
     "output_type": "display_data"
    }
   ],
   "source": [
    "#plotting the data\n",
    "games_per_years.plot(kind='bar', figsize=(15,5), title='Number of games released per year')\n",
    "plt.show()"
   ]
  },
  {
   "cell_type": "markdown",
   "metadata": {},
   "source": [
    "As can be seen, just a few games were released every year before 1991. Starting from 1991 number of games released per year constantly grew and peaked in 2008-2009."
   ]
  },
  {
   "cell_type": "markdown",
   "metadata": {},
   "source": [
    "Secondly, we will check how sales varied from platform to platform."
   ]
  },
  {
   "cell_type": "code",
   "execution_count": 32,
   "metadata": {},
   "outputs": [
    {
     "data": {
      "text/plain": [
       "platform\n",
       "PS2     1255.77\n",
       "X360     971.42\n",
       "PS3      939.65\n",
       "Wii      907.51\n",
       "DS       806.12\n",
       "PS       730.86\n",
       "GBA      317.85\n",
       "PS4      314.14\n",
       "PSP      294.05\n",
       "PC       259.52\n",
       "3DS      259.00\n",
       "XB       257.74\n",
       "GB       255.46\n",
       "NES      251.05\n",
       "N64      218.68\n",
       "SNES     200.04\n",
       "GC       198.93\n",
       "XOne     159.32\n",
       "2600      96.98\n",
       "WiiU      82.19\n",
       "PSV       54.07\n",
       "SAT       33.59\n",
       "GEN       28.35\n",
       "DC        15.95\n",
       "SCD        1.86\n",
       "NG         1.44\n",
       "WS         1.42\n",
       "TG16       0.16\n",
       "3DO        0.10\n",
       "GG         0.04\n",
       "PCFX       0.03\n",
       "Name: total_sales, dtype: float64"
      ]
     },
     "execution_count": 32,
     "metadata": {},
     "output_type": "execute_result"
    }
   ],
   "source": [
    "#culculation tatal sales per platform\n",
    "data.groupby('platform')['total_sales'].sum().sort_values(ascending=False)"
   ]
  },
  {
   "cell_type": "markdown",
   "metadata": {},
   "source": [
    "As can be seen, PS2 has the largest total sales over the platform lifetime, followed by X360 and then PS3. We will use sales data for these 3 platforms and will build a distribution based on data for each year. Based on the distribution we will determine the typical lifecycle of a platform."
   ]
  },
  {
   "cell_type": "code",
   "execution_count": 33,
   "metadata": {},
   "outputs": [
    {
     "data": {
      "image/png": "[encoded data removed]",
      "text/plain": [
       "<Figure size 1080x360 with 1 Axes>"
      ]
     },
     "metadata": {
      "needs_background": "light"
     },
     "output_type": "display_data"
    },
    {
     "data": {
      "image/png": "[encoded data removed]",
      "text/plain": [
       "<Figure size 1080x360 with 1 Axes>"
      ]
     },
     "metadata": {
      "needs_background": "light"
     },
     "output_type": "display_data"
    },
    {
     "data": {
      "image/png": "[encoded data removed]",
      "text/plain": [
       "<Figure size 1080x360 with 1 Axes>"
      ]
     },
     "metadata": {
      "needs_background": "light"
     },
     "output_type": "display_data"
    }
   ],
   "source": [
    "#plotting the sales by year data for top 3 platforms\n",
    "for platform in ['PS2', 'X360', 'PS3']:\n",
    "    data[data['platform']==platform].groupby('year_of_release')['total_sales'].sum().plot(kind='bar', \n",
    "                                                                                      figsize=(15,5), \n",
    "                                                                                      title=platform+' sales per year')\n",
    "    plt.ylabel('Total sales')                                                                            \n",
    "    plt.show()"
   ]
  },
  {
   "cell_type": "markdown",
   "metadata": {},
   "source": [
    "As can be seen, a typical lifecycle of a platform spans over 11 years. In the begging sales amount for the platform is constantly growing and peaking on 5-6 years after the platform release. Then, sales amount for the platform is constantly declining. As the relevance of the game falls according to the plots on average for 3-5 years, for further analysys we will use data the last 4 years to exclude the irrelevant data."
   ]
  },
  {
   "cell_type": "code",
   "execution_count": 34,
   "metadata": {},
   "outputs": [],
   "source": [
    "#dropping the date that is older than 11 years\n",
    "data=data.query('year_of_release>2012')"
   ]
  },
  {
   "cell_type": "markdown",
   "metadata": {},
   "source": [
    "Next, for the selected data, we will find out which platforms are leading in sales and which ones are growing or shrinking. To do this, firstly, we will calculate total sales for each platform. Then, for each platform, we will build a distribution based on data for each year."
   ]
  },
  {
   "cell_type": "code",
   "execution_count": 35,
   "metadata": {},
   "outputs": [
    {
     "data": {
      "text/plain": [
       "platform\n",
       "PS4     314.14\n",
       "PS3     181.43\n",
       "XOne    159.32\n",
       "3DS     144.44\n",
       "X360    136.80\n",
       "WiiU     64.63\n",
       "PC       39.43\n",
       "PSV      33.25\n",
       "Wii      13.66\n",
       "PSP       3.50\n",
       "DS        1.54\n",
       "Name: total_sales, dtype: float64"
      ]
     },
     "execution_count": 35,
     "metadata": {},
     "output_type": "execute_result"
    }
   ],
   "source": [
    "#culculating total sales for each platform and saving the result to a variable\n",
    "platforms_by_total_sales=data.groupby('platform')['total_sales'].sum().sort_values(ascending=False)\n",
    "\n",
    "#printing platforms_by_total_sales\n",
    "platforms_by_total_sales"
   ]
  },
  {
   "cell_type": "code",
   "execution_count": 36,
   "metadata": {
    "scrolled": false
   },
   "outputs": [
    {
     "data": {
      "image/png": "[encoded data removed]",
      "text/plain": [
       "<Figure size 1080x360 with 1 Axes>"
      ]
     },
     "metadata": {
      "needs_background": "light"
     },
     "output_type": "display_data"
    },
    {
     "data": {
      "image/png": "[encoded data removed]",
      "text/plain": [
       "<Figure size 1080x360 with 1 Axes>"
      ]
     },
     "metadata": {
      "needs_background": "light"
     },
     "output_type": "display_data"
    },
    {
     "data": {
      "image/png": "[encoded data removed]",
      "text/plain": [
       "<Figure size 1080x360 with 1 Axes>"
      ]
     },
     "metadata": {
      "needs_background": "light"
     },
     "output_type": "display_data"
    },
    {
     "data": {
      "image/png": "[encoded data removed]",
      "text/plain": [
       "<Figure size 1080x360 with 1 Axes>"
      ]
     },
     "metadata": {
      "needs_background": "light"
     },
     "output_type": "display_data"
    },
    {
     "data": {
      "image/png": "[encoded data removed]",
      "text/plain": [
       "<Figure size 1080x360 with 1 Axes>"
      ]
     },
     "metadata": {
      "needs_background": "light"
     },
     "output_type": "display_data"
    },
    {
     "data": {
      "image/png": "[encoded data removed]",
      "text/plain": [
       "<Figure size 1080x360 with 1 Axes>"
      ]
     },
     "metadata": {
      "needs_background": "light"
     },
     "output_type": "display_data"
    },
    {
     "data": {
      "image/png": "[encoded data removed]",
      "text/plain": [
       "<Figure size 1080x360 with 1 Axes>"
      ]
     },
     "metadata": {
      "needs_background": "light"
     },
     "output_type": "display_data"
    },
    {
     "data": {
      "image/png": "[encoded data removed]",
      "text/plain": [
       "<Figure size 1080x360 with 1 Axes>"
      ]
     },
     "metadata": {
      "needs_background": "light"
     },
     "output_type": "display_data"
    },
    {
     "data": {
      "image/png": "[encoded data removed]",
      "text/plain": [
       "<Figure size 1080x360 with 1 Axes>"
      ]
     },
     "metadata": {
      "needs_background": "light"
     },
     "output_type": "display_data"
    },
    {
     "data": {
      "image/png": "[encoded data removed]",
      "text/plain": [
       "<Figure size 1080x360 with 1 Axes>"
      ]
     },
     "metadata": {
      "needs_background": "light"
     },
     "output_type": "display_data"
    },
    {
     "data": {
      "image/png": "[encoded data removed]",
      "text/plain": [
       "<Figure size 1080x360 with 1 Axes>"
      ]
     },
     "metadata": {
      "needs_background": "light"
     },
     "output_type": "display_data"
    }
   ],
   "source": [
    "for platform in platforms_by_total_sales.index:\n",
    "    data[data['platform']==platform].groupby('year_of_release')['total_sales'].sum().plot(kind='bar', figsize=(15,5))\n",
    "    plt.title(platform)\n",
    "    plt.ylabel('Total sales')\n",
    "    plt.show()"
   ]
  },
  {
   "cell_type": "markdown",
   "metadata": {},
   "source": [
    "PS4, PS3, and XONE platforms are leading in total sales, but it looks like PS3 platform is at the end of typical platform lifecycle.\n",
    "PS4 and XONE platforms look promising. They were released just a few years ago and sales for them were constantly growing. Although the sales for them in 2016 are lower than in 2015, it may be because the sales data for the current year is incomplete. According to the platform’s typical lifecycle, sales for PS4 and XONE may peak in an upcoming couple of years."
   ]
  },
  {
   "cell_type": "markdown",
   "metadata": {},
   "source": [
    "Next, we will build a box plot for the global sales of all games, broken down by platform. This will help us to find out how the global sales for the games for the two promising platforms stand against sales for other platforms."
   ]
  },
  {
   "cell_type": "code",
   "execution_count": 37,
   "metadata": {},
   "outputs": [
    {
     "data": {
      "image/png": "[encoded data removed]",
      "text/plain": [
       "<Figure size 1080x720 with 1 Axes>"
      ]
     },
     "metadata": {
      "needs_background": "light"
     },
     "output_type": "display_data"
    }
   ],
   "source": [
    "#creating a boxplot for the global sales of all games, broken down by platform\n",
    "data.boxplot('total_sales', by='platform', figsize=(15,10))\n",
    "plt.show()"
   ]
  },
  {
   "cell_type": "markdown",
   "metadata": {},
   "source": [
    "Due to large outliers, it is difficult to see the medians and quantiles for sales. We will rebuild the plot limiting values on the y-axis."
   ]
  },
  {
   "cell_type": "code",
   "execution_count": 38,
   "metadata": {},
   "outputs": [
    {
     "data": {
      "image/png": "[encoded data removed]",
      "text/plain": [
       "<Figure size 1080x720 with 1 Axes>"
      ]
     },
     "metadata": {
      "needs_background": "light"
     },
     "output_type": "display_data"
    }
   ],
   "source": [
    "#creating a boxplot for the global sales of all games, broken down by platform with limited y axis\n",
    "data.boxplot('total_sales', by='platform', figsize=(15,10))\n",
    "plt.ylim(0,3)\n",
    "plt.show()"
   ]
  },
  {
   "cell_type": "markdown",
   "metadata": {},
   "source": [
    "X360 has the largest median game global sales, but median sales for the selected platforms are not significantly lower. This confirms that selected PS4 and XONE platforms are good candidates.\n",
    "\n",
    "To help us to select the correct games for sale for the selected platforms, we will take a look at how user and professional reviews affect sales for the PS4 platform. We will build scatter plots and calculate the correlation between reviews and sales."
   ]
  },
  {
   "cell_type": "code",
   "execution_count": 39,
   "metadata": {},
   "outputs": [
    {
     "data": {
      "image/png": "[encoded data removed]",
      "text/plain": [
       "<Figure size 432x288 with 1 Axes>"
      ]
     },
     "metadata": {
      "needs_background": "light"
     },
     "output_type": "display_data"
    }
   ],
   "source": [
    "#taking a slice of data for PS4 platform\n",
    "data_ps4=data[data['platform']=='PS4']\n",
    "\n",
    "#building a scatter plot for PS4 data between critic reviews and sales\n",
    "data_ps4.plot(x='critic_score', y='total_sales', kind='scatter')\n",
    "plt.show()"
   ]
  },
  {
   "cell_type": "code",
   "execution_count": 40,
   "metadata": {},
   "outputs": [
    {
     "data": {
      "text/plain": [
       "0.35140802447758474"
      ]
     },
     "execution_count": 40,
     "metadata": {},
     "output_type": "execute_result"
    }
   ],
   "source": [
    "# culculating correlation between critic reviews and sales\n",
    "data_ps4['critic_score'].corr(data_ps4['total_sales'])"
   ]
  },
  {
   "cell_type": "code",
   "execution_count": 41,
   "metadata": {},
   "outputs": [
    {
     "data": {
      "image/png": "[encoded data removed]",
      "text/plain": [
       "<Figure size 432x288 with 1 Axes>"
      ]
     },
     "metadata": {
      "needs_background": "light"
     },
     "output_type": "display_data"
    }
   ],
   "source": [
    "#building a scatter plot for PS4 data between user reviews and sales\n",
    "data_ps4.plot(x='user_score', y='total_sales', kind='scatter')\n",
    "plt.show()"
   ]
  },
  {
   "cell_type": "code",
   "execution_count": 42,
   "metadata": {},
   "outputs": [
    {
     "data": {
      "text/plain": [
       "-0.0654819507758568"
      ]
     },
     "execution_count": 42,
     "metadata": {},
     "output_type": "execute_result"
    }
   ],
   "source": [
    "# culculating correlation between user reviews and sales\n",
    "data_ps4['user_score'].corr(data_ps4['total_sales'])"
   ]
  },
  {
   "cell_type": "markdown",
   "metadata": {},
   "source": [
    "As can be seen, there is a weak positive linear correlation between sales and critic reviews and a weak negative linear correlation between sales and user reviews. From scatter plots the correlation between sales and reviews is also not visible.\n",
    "\n",
    "Next, we will take a look at how user and professional reviews affect sales for XONE and PS3 platforms and will compare the result with the result for the PS4 platform."
   ]
  },
  {
   "cell_type": "code",
   "execution_count": 43,
   "metadata": {},
   "outputs": [
    {
     "data": {
      "image/png": "[encoded data removed]",
      "text/plain": [
       "<Figure size 432x288 with 1 Axes>"
      ]
     },
     "metadata": {
      "needs_background": "light"
     },
     "output_type": "display_data"
    }
   ],
   "source": [
    "#taking a slice of data for XONE platform\n",
    "data_xone=data[data['platform']=='XOne']\n",
    "\n",
    "#building a scatter plot for XONE data between critic reviews and sales\n",
    "data_xone.plot(x='critic_score', y='total_sales', kind='scatter')\n",
    "plt.show()"
   ]
  },
  {
   "cell_type": "code",
   "execution_count": 44,
   "metadata": {},
   "outputs": [
    {
     "data": {
      "text/plain": [
       "0.3786581617346427"
      ]
     },
     "execution_count": 44,
     "metadata": {},
     "output_type": "execute_result"
    }
   ],
   "source": [
    "# culculating correlation between critic reviews and sales\n",
    "data_xone['critic_score'].corr(data_xone['total_sales'])"
   ]
  },
  {
   "cell_type": "code",
   "execution_count": 45,
   "metadata": {},
   "outputs": [
    {
     "data": {
      "image/png": "[encoded data removed]",
      "text/plain": [
       "<Figure size 432x288 with 1 Axes>"
      ]
     },
     "metadata": {
      "needs_background": "light"
     },
     "output_type": "display_data"
    }
   ],
   "source": [
    "#building a scatter plot for XONE data between user reviews and sales\n",
    "data_xone.plot(x='user_score', y='total_sales', kind='scatter')\n",
    "plt.show()"
   ]
  },
  {
   "cell_type": "code",
   "execution_count": 46,
   "metadata": {},
   "outputs": [
    {
     "data": {
      "text/plain": [
       "-0.10515664470960723"
      ]
     },
     "execution_count": 46,
     "metadata": {},
     "output_type": "execute_result"
    }
   ],
   "source": [
    "#culculating correlation between user reviews and sales\n",
    "data_xone['user_score'].corr(data_xone['total_sales'])"
   ]
  },
  {
   "cell_type": "code",
   "execution_count": 47,
   "metadata": {},
   "outputs": [
    {
     "data": {
      "image/png": "[encoded data removed]",
      "text/plain": [
       "<Figure size 432x288 with 1 Axes>"
      ]
     },
     "metadata": {
      "needs_background": "light"
     },
     "output_type": "display_data"
    }
   ],
   "source": [
    "#taking a slice of data for PS3 platform\n",
    "data_ps3=data[data['platform']=='PS3']\n",
    "\n",
    "#building a scatter plot for PS3 data between critic reviews and sales\n",
    "data_ps3.plot(x='critic_score', y='total_sales', kind='scatter')\n",
    "plt.show()"
   ]
  },
  {
   "cell_type": "code",
   "execution_count": 48,
   "metadata": {},
   "outputs": [
    {
     "data": {
      "text/plain": [
       "0.3071457786092334"
      ]
     },
     "execution_count": 48,
     "metadata": {},
     "output_type": "execute_result"
    }
   ],
   "source": [
    "# culculating correlation between critic reviews and sales\n",
    "data_ps3['critic_score'].corr(data_ps3['total_sales'])"
   ]
  },
  {
   "cell_type": "code",
   "execution_count": 49,
   "metadata": {},
   "outputs": [
    {
     "data": {
      "image/png": "[encoded data removed]",
      "text/plain": [
       "<Figure size 432x288 with 1 Axes>"
      ]
     },
     "metadata": {
      "needs_background": "light"
     },
     "output_type": "display_data"
    }
   ],
   "source": [
    "#building a scatter plot for PS3 data between user reviews and sales\n",
    "data_ps3.plot(x='user_score', y='total_sales', kind='scatter')\n",
    "plt.show()"
   ]
  },
  {
   "cell_type": "code",
   "execution_count": 50,
   "metadata": {},
   "outputs": [
    {
     "data": {
      "text/plain": [
       "-0.08598425479117175"
      ]
     },
     "execution_count": 50,
     "metadata": {},
     "output_type": "execute_result"
    }
   ],
   "source": [
    "#culculating correlation between user reviews and sales\n",
    "data_ps3['user_score'].corr(data_ps3['total_sales'])"
   ]
  },
  {
   "cell_type": "markdown",
   "metadata": {},
   "source": [
    "The correlation between reviews and sales for XONE and PS3 platforms looks similar to the correlation for PS4 platform. XONE has the strongest positive linear correlation between critic reviews and sales, but still, it is relatively weak to say that sales are strongly dependent on critic reviews. Therefore, when selecting games for sales in 2017 it is not recommended to rely on reviews."
   ]
  },
  {
   "cell_type": "markdown",
   "metadata": {},
   "source": [
    "Also, we will look at the general distribution of games by genre and find the most profitable genres. To do this, firstly, we will count the number of games in each genre. Then, we will count total sales for each genre. And finally, for each genre, we will divide total sales by the number of games to find the average profit for a game of a particular genre."
   ]
  },
  {
   "cell_type": "code",
   "execution_count": 51,
   "metadata": {},
   "outputs": [
    {
     "data": {
      "text/plain": [
       "genre\n",
       "Action          767\n",
       "Role-Playing    294\n",
       "Adventure       246\n",
       "Sports          215\n",
       "Shooter         188\n",
       "Misc            155\n",
       "Racing           86\n",
       "Fighting         80\n",
       "Platform         74\n",
       "Simulation       64\n",
       "Strategy         56\n",
       "Puzzle           17\n",
       "Name: name, dtype: int64"
      ]
     },
     "execution_count": 51,
     "metadata": {},
     "output_type": "execute_result"
    }
   ],
   "source": [
    "#culculating number of games in each genre\n",
    "data.groupby('genre')['name'].count().sort_values(ascending=False)"
   ]
  },
  {
   "cell_type": "code",
   "execution_count": 52,
   "metadata": {},
   "outputs": [
    {
     "data": {
      "text/plain": [
       "genre\n",
       "Action          322.27\n",
       "Shooter         233.05\n",
       "Sports          150.67\n",
       "Role-Playing    146.18\n",
       "Misc             62.82\n",
       "Platform         42.63\n",
       "Racing           39.98\n",
       "Fighting         35.31\n",
       "Adventure        23.73\n",
       "Simulation       22.25\n",
       "Strategy         10.08\n",
       "Puzzle            3.17\n",
       "Name: total_sales, dtype: float64"
      ]
     },
     "execution_count": 52,
     "metadata": {},
     "output_type": "execute_result"
    }
   ],
   "source": [
    "#culculating total sales in each genre\n",
    "data.groupby('genre')['total_sales'].sum().sort_values(ascending=False)"
   ]
  },
  {
   "cell_type": "code",
   "execution_count": 53,
   "metadata": {},
   "outputs": [
    {
     "data": {
      "text/plain": [
       "genre\n",
       "Shooter         1.239628\n",
       "Sports          0.700791\n",
       "Platform        0.576081\n",
       "Role-Playing    0.497211\n",
       "Racing          0.464884\n",
       "Fighting        0.441375\n",
       "Action          0.420169\n",
       "Misc            0.405290\n",
       "Simulation      0.347656\n",
       "Puzzle          0.186471\n",
       "Strategy        0.180000\n",
       "Adventure       0.096463\n",
       "dtype: float64"
      ]
     },
     "execution_count": 53,
     "metadata": {},
     "output_type": "execute_result"
    }
   ],
   "source": [
    "#calculating average profit for a game of a particular genre.\n",
    "(data.groupby('genre')['total_sales'].sum()/data.groupby('genre')['name'].count()).sort_values(ascending=False)"
   ]
  },
  {
   "cell_type": "markdown",
   "metadata": {},
   "source": [
    "As can be seen, although Actions are leading in total sales, they are just in 7th place by profitability. Shooters are in second place by total sales, but they are the most profitable type of game. In fact, they are 3 time profitable as actions. Sports are in third place by total sales and in second by profit. Therefore, we would recommend considering Shooters and Sports when choosing games for sale for the next year."
   ]
  },
  {
   "cell_type": "markdown",
   "metadata": {},
   "source": [
    "# Stage 4 Creating a user profile for each region<a id='user_profiles'></a>"
   ]
  },
  {
   "cell_type": "markdown",
   "metadata": {},
   "source": [
    "At this stage for each region (NA, EU, JP) we will determine the top five platforms, the top five genres, and top 5 ESRB ratings. Then we will describe variations in their market shares from region to region."
   ]
  },
  {
   "cell_type": "markdown",
   "metadata": {},
   "source": [
    "Finding the top five platforms, the top five genres, and top 5 ESRB ratings for NA region."
   ]
  },
  {
   "cell_type": "code",
   "execution_count": 54,
   "metadata": {},
   "outputs": [
    {
     "name": "stdout",
     "output_type": "stream",
     "text": [
      "platform\n",
      "PS4     108.74\n",
      "XOne     93.12\n",
      "X360     81.66\n",
      "PS3      63.50\n",
      "3DS      39.04\n",
      "Name: na_sales, dtype: float64\n"
     ]
    },
    {
     "data": {
      "image/png": "[encoded data removed]",
      "text/plain": [
       "<Figure size 1080x360 with 1 Axes>"
      ]
     },
     "metadata": {},
     "output_type": "display_data"
    },
    {
     "name": "stdout",
     "output_type": "stream",
     "text": [
      "genre\n",
      "Action          126.23\n",
      "Shooter         109.78\n",
      "Sports           65.27\n",
      "Role-Playing     46.51\n",
      "Misc             27.49\n",
      "Name: na_sales, dtype: float64\n"
     ]
    },
    {
     "data": {
      "image/png": "[encoded data removed]",
      "text/plain": [
       "<Figure size 1080x360 with 1 Axes>"
      ]
     },
     "metadata": {},
     "output_type": "display_data"
    },
    {
     "name": "stdout",
     "output_type": "stream",
     "text": [
      "rating\n",
      "M       184.77\n",
      "E       102.49\n",
      "T        96.90\n",
      "E10+     54.50\n",
      "Name: na_sales, dtype: float64\n"
     ]
    },
    {
     "data": {
      "image/png": "[encoded data removed]",
      "text/plain": [
       "<Figure size 1080x360 with 1 Axes>"
      ]
     },
     "metadata": {},
     "output_type": "display_data"
    }
   ],
   "source": [
    "#loopping throgh platform, genre, and rating in the region. \n",
    "#Finding, printing and plotting top 5 elements leading by sales.\n",
    "for colunm in ['platform', 'genre', 'rating']:    \n",
    "    region_data=data.groupby(colunm)['na_sales'].sum().sort_values(ascending=False).head()\n",
    "    print(region_data)\n",
    "    region_data.plot(kind='pie',figsize=(15,5))\n",
    "    plt.show()"
   ]
  },
  {
   "cell_type": "markdown",
   "metadata": {},
   "source": [
    "Finding the top five platforms, the top five genres, and top 5 ESRB ratings for EU region."
   ]
  },
  {
   "cell_type": "code",
   "execution_count": 55,
   "metadata": {},
   "outputs": [
    {
     "name": "stdout",
     "output_type": "stream",
     "text": [
      "platform\n",
      "PS4     141.09\n",
      "PS3      67.81\n",
      "XOne     51.59\n",
      "X360     42.52\n",
      "3DS      31.17\n",
      "Name: eu_sales, dtype: float64\n"
     ]
    },
    {
     "data": {
      "image/png": "[encoded data removed]",
      "text/plain": [
       "<Figure size 1080x360 with 1 Axes>"
      ]
     },
     "metadata": {},
     "output_type": "display_data"
    },
    {
     "name": "stdout",
     "output_type": "stream",
     "text": [
      "genre\n",
      "Action          118.32\n",
      "Shooter          87.88\n",
      "Sports           60.52\n",
      "Role-Playing     37.02\n",
      "Racing           20.19\n",
      "Name: eu_sales, dtype: float64\n"
     ]
    },
    {
     "data": {
      "image/png": "[encoded data removed]",
      "text/plain": [
       "<Figure size 1080x360 with 1 Axes>"
      ]
     },
     "metadata": {},
     "output_type": "display_data"
    },
    {
     "name": "stdout",
     "output_type": "stream",
     "text": [
      "rating\n",
      "M       162.21\n",
      "E       108.39\n",
      "T        79.01\n",
      "E10+     42.88\n",
      "Name: eu_sales, dtype: float64\n"
     ]
    },
    {
     "data": {
      "image/png": "[encoded data removed]",
      "text/plain": [
       "<Figure size 1080x360 with 1 Axes>"
      ]
     },
     "metadata": {},
     "output_type": "display_data"
    }
   ],
   "source": [
    "#loopping throgh platform, genre, and rating in the region. \n",
    "#Finding, printing and plotting top 5 elements leading by sales.\n",
    "for colunm in ['platform', 'genre', 'rating']:\n",
    "    region_data=data.groupby(colunm)['eu_sales'].sum().sort_values(ascending=False).head()\n",
    "    print(region_data)\n",
    "    region_data.plot(kind='pie',figsize=(15,5))\n",
    "    plt.show()"
   ]
  },
  {
   "cell_type": "markdown",
   "metadata": {},
   "source": [
    "Finding the top five platforms, the top five genres, and top 5 ESRB ratings for JP region."
   ]
  },
  {
   "cell_type": "code",
   "execution_count": 56,
   "metadata": {},
   "outputs": [
    {
     "name": "stdout",
     "output_type": "stream",
     "text": [
      "platform\n",
      "3DS     67.86\n",
      "PS3     23.35\n",
      "PSV     18.66\n",
      "PS4     15.96\n",
      "WiiU    10.88\n",
      "Name: jp_sales, dtype: float64\n"
     ]
    },
    {
     "data": {
      "image/png": "[encoded data removed]",
      "text/plain": [
       "<Figure size 1080x360 with 1 Axes>"
      ]
     },
     "metadata": {},
     "output_type": "display_data"
    },
    {
     "name": "stdout",
     "output_type": "stream",
     "text": [
      "genre\n",
      "Role-Playing    51.14\n",
      "Action          40.49\n",
      "Misc             9.20\n",
      "Fighting         7.65\n",
      "Shooter          6.61\n",
      "Name: jp_sales, dtype: float64\n"
     ]
    },
    {
     "data": {
      "image/png": "[encoded data removed]",
      "text/plain": [
       "<Figure size 1080x360 with 1 Axes>"
      ]
     },
     "metadata": {},
     "output_type": "display_data"
    },
    {
     "name": "stdout",
     "output_type": "stream",
     "text": [
      "rating\n",
      "T       86.72\n",
      "E       33.37\n",
      "M       14.92\n",
      "E10+     5.89\n",
      "Name: jp_sales, dtype: float64\n"
     ]
    },
    {
     "data": {
      "image/png": "[encoded data removed]",
      "text/plain": [
       "<Figure size 1080x360 with 1 Axes>"
      ]
     },
     "metadata": {},
     "output_type": "display_data"
    }
   ],
   "source": [
    "#loopping throgh platform, genre, and rating in the region. \n",
    "#Finding, printing and plotting top 5 elements leading by sales.\n",
    "for colunm in ['platform', 'genre', 'rating']:\n",
    "    region_data=data.groupby(colunm)['jp_sales'].sum().sort_values(ascending=False).head()\n",
    "    print(region_data)\n",
    "    region_data.plot(kind='pie',figsize=(15,5))\n",
    "    plt.show()"
   ]
  },
  {
   "cell_type": "markdown",
   "metadata": {},
   "source": [
    "As can be seen, the EU and NA regions are quite similar. In both regions Actions are leading in total sales followed by Shooters and Sports. The games with M rating also lead the sale followed by E and T ratings. But although PS4 platform is leading by sales in both regions, X paltform is also popular in the NA region. \n",
    "\n",
    "JP region profile differs from two other regions. The most popular platform there is 3DS, and the most popular genre is Role-Playing. The vast majority of games sold there have T and E ratings."
   ]
  },
  {
   "cell_type": "markdown",
   "metadata": {},
   "source": [
    "# Stage 5 Testing hypotheses <a id='data_test'></a>\n",
    "\n",
    "In this final stage, we will test two statistical hypotheses regarding the rating for different platforms and genres. In both cases, we will test hypotheses that the means of the two statistical populations are equally based on samples taken from them. To do this we will apply the method scipy.stats.ttest_ind. In both cases, we will use a critical statistical significance level - alpha = 0.05. We will compare the p-value returned by scipy.stats.ttest_ind will be with alpha. If the p-value will be less than alpha, we will reject the hypothesis, otherwise, we will keep the hypothesis."
   ]
  },
  {
   "cell_type": "markdown",
   "metadata": {},
   "source": [
    "## Average user ratings of the Xbox One and PC platforms are the same\n",
    "\n",
    "For this hypothesis, we will formulate null hypotheses as \"Average user ratings of the Xbox One and PC platforms are the same\". The alternative hypothesis will be \"Average user ratings of the Xbox One and PC platforms are different\". Before testing the hypothesis, we will compare the variances of the samples in order to understand with which equal_var parameter to use the ttest_ind test method. For this, we will use Levene's statistic test. The Center parameter in Levene's test depends on data distribution. So, we will check the data distribution first in order to determine which value for this parameter we should use."
   ]
  },
  {
   "cell_type": "code",
   "execution_count": 57,
   "metadata": {},
   "outputs": [],
   "source": [
    "#taking slices of user_scores data for Xbox One and PC platforms\n",
    "xbox_user_rating=data.query('platform==\"XOne\"')['user_score']\n",
    "pc_user_rating=data.query('platform==\"PC\"')['user_score']"
   ]
  },
  {
   "cell_type": "code",
   "execution_count": 58,
   "metadata": {},
   "outputs": [
    {
     "data": {
      "image/png": "[encoded data removed]",
      "text/plain": [
       "<Figure size 432x288 with 1 Axes>"
      ]
     },
     "metadata": {
      "needs_background": "light"
     },
     "output_type": "display_data"
    }
   ],
   "source": [
    "#plotting histograms for the selected data for Xbox One\n",
    "xbox_user_rating.hist()\n",
    "plt.show()"
   ]
  },
  {
   "cell_type": "code",
   "execution_count": 59,
   "metadata": {},
   "outputs": [
    {
     "data": {
      "image/png": "[encoded data removed]",
      "text/plain": [
       "<Figure size 432x288 with 1 Axes>"
      ]
     },
     "metadata": {
      "needs_background": "light"
     },
     "output_type": "display_data"
    }
   ],
   "source": [
    "#plotting histograms for the selected data for PC\n",
    "pc_user_rating.hist()\n",
    "plt.show()"
   ]
  },
  {
   "cell_type": "markdown",
   "metadata": {},
   "source": [
    "Data is skewed, so we will use the median as a value for the center parameter in Levene's test."
   ]
  },
  {
   "cell_type": "code",
   "execution_count": 60,
   "metadata": {},
   "outputs": [
    {
     "data": {
      "text/plain": [
       "0.001802066124442326"
      ]
     },
     "execution_count": 60,
     "metadata": {},
     "output_type": "execute_result"
    }
   ],
   "source": [
    "#performing Levene's test\n",
    "stat, p = st.levene(xbox_user_rating, pc_user_rating, center='median')\n",
    "p"
   ]
  },
  {
   "cell_type": "markdown",
   "metadata": {},
   "source": [
    "The small p-value suggests that the populations do not have equal variances. Therefore, we will use equal_var=False."
   ]
  },
  {
   "cell_type": "code",
   "execution_count": 61,
   "metadata": {},
   "outputs": [
    {
     "name": "stdout",
     "output_type": "stream",
     "text": [
      "p-value:  0.05355232069397892\n"
     ]
    }
   ],
   "source": [
    "#Testing the hypothesis\n",
    "results = st.ttest_ind(xbox_user_rating, pc_user_rating, equal_var=False)\n",
    "\n",
    "#printing p-value received in the test\n",
    "print('p-value: ', results.pvalue)"
   ]
  },
  {
   "cell_type": "markdown",
   "metadata": {},
   "source": [
    "As can be seen, the p-value is higher than alpha. It tells us that there is a probability of randomly getting a user rating difference that size or larger. In other words, the difference in user ratings can be a result of random. Therefore, we will keep the null hypothesis."
   ]
  },
  {
   "cell_type": "markdown",
   "metadata": {},
   "source": [
    "## Average user ratings for the Action and Sports genres are different\n",
    "\n",
    "For this hypothesis, we will formulate null hypotheses as \"Average user ratings for the Action and Sports genres are the same\". The alternative hypothesis will be \"Average user ratings for the Action and Sports genres are different\". Similar to the first hypothesis, before testing, we will compare the variances of the samples in order to understand with which equal_var parameter to use the ttest_ind test method."
   ]
  },
  {
   "cell_type": "code",
   "execution_count": 62,
   "metadata": {},
   "outputs": [],
   "source": [
    "#taking slices of user_scores data for Actions and Sports genres\n",
    "action_user_rating=data.query('genre==\"Action\"')['user_score']\n",
    "sports_user_rating=data.query('genre==\"Sports\"')['user_score']"
   ]
  },
  {
   "cell_type": "code",
   "execution_count": 63,
   "metadata": {},
   "outputs": [
    {
     "data": {
      "image/png": "[encoded data removed]",
      "text/plain": [
       "<Figure size 432x288 with 1 Axes>"
      ]
     },
     "metadata": {
      "needs_background": "light"
     },
     "output_type": "display_data"
    }
   ],
   "source": [
    "#plotting histograms for the selected data for Actions\n",
    "action_user_rating.hist()\n",
    "plt.show()"
   ]
  },
  {
   "cell_type": "code",
   "execution_count": 64,
   "metadata": {},
   "outputs": [
    {
     "data": {
      "image/png": "[encoded data removed]",
      "text/plain": [
       "<Figure size 432x288 with 1 Axes>"
      ]
     },
     "metadata": {
      "needs_background": "light"
     },
     "output_type": "display_data"
    }
   ],
   "source": [
    "#plotting histograms for the selected data for Sports\n",
    "sports_user_rating.hist()\n",
    "plt.show()"
   ]
  },
  {
   "cell_type": "markdown",
   "metadata": {},
   "source": [
    "Data is skewed, so we will use the median as a value for the Center parameter in Levene's test."
   ]
  },
  {
   "cell_type": "code",
   "execution_count": 65,
   "metadata": {},
   "outputs": [
    {
     "data": {
      "text/plain": [
       "1.1016145701015452e-36"
      ]
     },
     "execution_count": 65,
     "metadata": {},
     "output_type": "execute_result"
    }
   ],
   "source": [
    "#performing Levene's test\n",
    "stat, p = st.levene(action_user_rating, sports_user_rating, center='median')\n",
    "p"
   ]
  },
  {
   "cell_type": "markdown",
   "metadata": {},
   "source": [
    "The small p-value suggests that the populations do not have equal variances. Therefore, we will use equal_var=False."
   ]
  },
  {
   "cell_type": "code",
   "execution_count": 66,
   "metadata": {},
   "outputs": [
    {
     "name": "stdout",
     "output_type": "stream",
     "text": [
      "p-value:  4.8469372746133194e-21\n"
     ]
    }
   ],
   "source": [
    "#Testing the hypothesis\n",
    "results = st.ttest_ind(action_user_rating, sports_user_rating, equal_var=False)\n",
    "\n",
    "#printing p-value received in the test\n",
    "print('p-value: ', results.pvalue)"
   ]
  },
  {
   "cell_type": "markdown",
   "metadata": {},
   "source": [
    "As can be seen, the p-value is much lower than the alpha. Such a small p-value tells us that there is an extremely low probability of randomly getting a user rating difference that size or larger. In other words, the difference in user rating between the Actions and Sports genres is not random. Therefore, we are rejecting the null hypothesis."
   ]
  },
  {
   "cell_type": "markdown",
   "metadata": {},
   "source": [
    "# General conclusion <a id='conclusion'></a>\n",
    "\n",
    "In this project, we analyzed historical data on game sales and identify patterns that determine whether a game succeeds or not.\n",
    "\n",
    "Firstly, we evaluate the quality of the data and identified that critic_score, user_score, and rating columns had 51, 40, and 40 percent of missing values correspondingly. We filled the missing in critic_score, user_score columns with median values for genres, and with the most popular rating in the rating column. Year_of_release, genre, and name columns also had some missing data, which also was addressed. In addition, since we needed total sales values for all games, we calculated the sum of sales in all regions for each game and put these values in a separate column.\n",
    "\n",
    "Secondly, we analyzed the data. We found that a typical lifecycle of a platform spans over 11 years. In the begging sales amount for the platform is constantly growing and peaking on 5-6 years after the platform release. Then, sales amount for the platform is constantly declining. As the relevance of the game falls according to the plots on average for 3-5 years, for further analysys we used data the last 4 years to exclude the irrelevant data. Based on that data we found that PS4 and XONE platforms look promising. They were released just a few years ago and sales for them were constantly growing. According to the platform’s typical lifecycle, sales for PS4 and XONE may peak in the upcoming couple of years. Also, it appears that median game sales for the selected platform are not significantly lower than the highest median game sales. This confirms that selected PS4 and XONE platforms are good candidates. In addition, it was found that there is a relatively weak linear correlation between reviews and sales to say that sales are dependable on reviews. As well, we revealed that although Actions leading in total sales, they are just in 7th place by profitability. Shooters are in second place by total sales, but they are the most profitable type of game. In fact, they are 3 times profitable as actions. Sports are in third place total sales and in second by profit.\n",
    "\n",
    "Next, for each region (NA, EU, JP) we determined the top platforms, genres, and ESRB ratings. It appeared that the EU and NA regions are quite similar. In both regions Actions are leading in total sales followed by Shooters and Sports. The games with M rating also lead the sale followed by E and T ratings. But although PS4 platform is leading by sales in both regions, X paltform is also popular in the NA region. JP region profile differs from two other regions. The most popular platform there is 3DS, and the most popular genre is Role-Playing. The vast majority of games sold there have T and E ratings.\n",
    "\n",
    "Finally, we tested two statistical hypotheses regarding the rating for different platforms and genres. Based on the tests we kept hypothesis formulated as \"Average user ratings of the Xbox One and PC platforms are the same\" and rejected the one formulated as \"Average user ratings for the Action and Sports genres are the same\".\n",
    "\n",
    "Based on the findings, we would recommend the following strategy for 2017:\n",
    "1. For EU and NA regions focus on Shooters and Sports games with M, E, and T ratings. Since PS4 platform leading in sales in both regions, focus on PS4 in both regions and in addition on X platform in the NA region as it is popular there is well.\n",
    "2. In the JP region focus on Role-Playing games with T and E ratings. Since 3DS platform looks to be at the end of its lifecycle and taking into consideration that the PS platform is also quite popular in the region, we would recommend focus on the PS4 platform there."
   ]
  }
 ],
 "metadata": {
  "ExecuteTimeLog": [
   {
    "duration": 105,
    "start_time": "2022-01-19T04:32:51.319Z"
   },
   {
    "duration": 87,
    "start_time": "2022-01-19T04:33:23.840Z"
   },
   {
    "duration": 1095,
    "start_time": "2022-01-19T04:38:06.805Z"
   },
   {
    "duration": 40,
    "start_time": "2022-01-19T04:39:14.599Z"
   },
   {
    "duration": 39,
    "start_time": "2022-01-19T04:39:38.533Z"
   },
   {
    "duration": 10,
    "start_time": "2022-01-19T04:40:22.213Z"
   },
   {
    "duration": 17,
    "start_time": "2022-01-19T04:41:10.633Z"
   },
   {
    "duration": 321,
    "start_time": "2022-01-19T04:43:14.679Z"
   },
   {
    "duration": 5720,
    "start_time": "2022-01-19T04:43:35.654Z"
   },
   {
    "duration": 6,
    "start_time": "2022-01-19T04:43:50.340Z"
   },
   {
    "duration": 13,
    "start_time": "2022-01-19T04:44:08.069Z"
   },
   {
    "duration": 231,
    "start_time": "2022-01-19T04:45:10.317Z"
   },
   {
    "duration": 6,
    "start_time": "2022-01-19T04:45:23.708Z"
   },
   {
    "duration": 230,
    "start_time": "2022-01-19T04:45:51.083Z"
   },
   {
    "duration": 235,
    "start_time": "2022-01-19T04:46:02.324Z"
   },
   {
    "duration": 6,
    "start_time": "2022-01-19T04:46:07.517Z"
   },
   {
    "duration": 237,
    "start_time": "2022-01-19T05:51:42.616Z"
   },
   {
    "duration": 225,
    "start_time": "2022-01-19T05:51:46.715Z"
   },
   {
    "duration": 6,
    "start_time": "2022-01-19T05:52:12.108Z"
   },
   {
    "duration": 288,
    "start_time": "2022-01-19T05:52:23.395Z"
   },
   {
    "duration": 6,
    "start_time": "2022-01-19T05:53:21.059Z"
   },
   {
    "duration": 6194,
    "start_time": "2022-01-19T05:53:47.126Z"
   },
   {
    "duration": 4,
    "start_time": "2022-01-19T05:53:56.201Z"
   },
   {
    "duration": 5,
    "start_time": "2022-01-19T05:54:05.767Z"
   },
   {
    "duration": 5,
    "start_time": "2022-01-19T05:55:17.267Z"
   },
   {
    "duration": 18,
    "start_time": "2022-01-19T05:57:36.784Z"
   },
   {
    "duration": 5,
    "start_time": "2022-01-19T06:01:05.701Z"
   },
   {
    "duration": 371,
    "start_time": "2022-01-19T06:06:15.332Z"
   },
   {
    "duration": 236,
    "start_time": "2022-01-19T06:06:24.158Z"
   },
   {
    "duration": 4,
    "start_time": "2022-01-19T06:08:37.272Z"
   },
   {
    "duration": 4,
    "start_time": "2022-01-19T06:08:48.869Z"
   },
   {
    "duration": 4,
    "start_time": "2022-01-19T06:14:24.193Z"
   },
   {
    "duration": 13,
    "start_time": "2022-01-19T06:15:32.012Z"
   },
   {
    "duration": 13,
    "start_time": "2022-01-19T06:20:07.393Z"
   },
   {
    "duration": 22,
    "start_time": "2022-01-19T06:21:01.468Z"
   },
   {
    "duration": 5,
    "start_time": "2022-01-19T06:23:22.284Z"
   },
   {
    "duration": 19,
    "start_time": "2022-01-19T06:23:29.520Z"
   },
   {
    "duration": 9,
    "start_time": "2022-01-19T06:23:38.625Z"
   },
   {
    "duration": 5,
    "start_time": "2022-01-19T06:24:35.515Z"
   },
   {
    "duration": 9,
    "start_time": "2022-01-19T06:27:14.402Z"
   },
   {
    "duration": 5,
    "start_time": "2022-01-19T06:27:52.008Z"
   },
   {
    "duration": 5,
    "start_time": "2022-01-19T06:28:17.058Z"
   },
   {
    "duration": 5,
    "start_time": "2022-01-19T06:32:35.718Z"
   },
   {
    "duration": 19,
    "start_time": "2022-01-19T06:32:45.790Z"
   },
   {
    "duration": 6,
    "start_time": "2022-01-19T06:33:31.978Z"
   },
   {
    "duration": 18,
    "start_time": "2022-01-19T06:33:55.481Z"
   },
   {
    "duration": 7,
    "start_time": "2022-01-19T06:36:25.094Z"
   },
   {
    "duration": 492,
    "start_time": "2022-01-19T06:41:11.080Z"
   },
   {
    "duration": 20,
    "start_time": "2022-01-19T06:41:29.826Z"
   },
   {
    "duration": 84,
    "start_time": "2022-01-19T06:43:12.095Z"
   },
   {
    "duration": 1064,
    "start_time": "2022-01-19T06:45:13.837Z"
   },
   {
    "duration": 39,
    "start_time": "2022-01-19T06:45:14.903Z"
   },
   {
    "duration": 9,
    "start_time": "2022-01-19T06:45:14.944Z"
   },
   {
    "duration": 16,
    "start_time": "2022-01-19T06:45:14.955Z"
   },
   {
    "duration": 18,
    "start_time": "2022-01-19T06:45:14.972Z"
   },
   {
    "duration": 7,
    "start_time": "2022-01-19T06:45:14.992Z"
   },
   {
    "duration": 15,
    "start_time": "2022-01-19T06:45:15.001Z"
   },
   {
    "duration": 30,
    "start_time": "2022-01-19T06:45:15.019Z"
   },
   {
    "duration": 12,
    "start_time": "2022-01-19T06:45:15.051Z"
   },
   {
    "duration": 8,
    "start_time": "2022-01-19T06:45:15.064Z"
   },
   {
    "duration": 29,
    "start_time": "2022-01-19T06:45:15.074Z"
   },
   {
    "duration": 51,
    "start_time": "2022-01-19T06:45:15.105Z"
   },
   {
    "duration": 6,
    "start_time": "2022-01-19T06:45:15.158Z"
   },
   {
    "duration": 8,
    "start_time": "2022-01-19T06:45:34.283Z"
   },
   {
    "duration": 786,
    "start_time": "2022-01-19T06:45:36.304Z"
   },
   {
    "duration": 969,
    "start_time": "2022-01-19T06:51:20.026Z"
   },
   {
    "duration": 459,
    "start_time": "2022-01-19T06:51:56.974Z"
   },
   {
    "duration": 740,
    "start_time": "2022-01-19T06:53:50.709Z"
   },
   {
    "duration": 9,
    "start_time": "2022-01-19T06:53:54.182Z"
   },
   {
    "duration": 17,
    "start_time": "2022-01-19T06:54:03.230Z"
   },
   {
    "duration": 8,
    "start_time": "2022-01-19T06:54:43.659Z"
   },
   {
    "duration": 4,
    "start_time": "2022-01-19T06:55:51.442Z"
   },
   {
    "duration": 11,
    "start_time": "2022-01-19T06:56:03.008Z"
   },
   {
    "duration": 15,
    "start_time": "2022-01-19T06:57:08.761Z"
   },
   {
    "duration": 5,
    "start_time": "2022-01-19T07:00:48.342Z"
   },
   {
    "duration": 6,
    "start_time": "2022-01-19T07:00:55.424Z"
   },
   {
    "duration": 1065,
    "start_time": "2022-01-19T07:01:54.020Z"
   },
   {
    "duration": 37,
    "start_time": "2022-01-19T07:01:55.087Z"
   },
   {
    "duration": 9,
    "start_time": "2022-01-19T07:01:55.126Z"
   },
   {
    "duration": 16,
    "start_time": "2022-01-19T07:01:55.140Z"
   },
   {
    "duration": 19,
    "start_time": "2022-01-19T07:01:55.157Z"
   },
   {
    "duration": 4,
    "start_time": "2022-01-19T07:01:55.177Z"
   },
   {
    "duration": 4,
    "start_time": "2022-01-19T07:01:55.182Z"
   },
   {
    "duration": 14,
    "start_time": "2022-01-19T07:01:55.188Z"
   },
   {
    "duration": 10,
    "start_time": "2022-01-19T07:01:55.203Z"
   },
   {
    "duration": 10,
    "start_time": "2022-01-19T07:01:55.215Z"
   },
   {
    "duration": 306,
    "start_time": "2022-01-19T07:02:11.771Z"
   },
   {
    "duration": 332,
    "start_time": "2022-01-19T07:03:17.622Z"
   },
   {
    "duration": 5,
    "start_time": "2022-01-19T07:04:07.142Z"
   },
   {
    "duration": 1133,
    "start_time": "2022-01-19T07:04:36.238Z"
   },
   {
    "duration": 41,
    "start_time": "2022-01-19T07:04:37.373Z"
   },
   {
    "duration": 9,
    "start_time": "2022-01-19T07:04:37.416Z"
   },
   {
    "duration": 33,
    "start_time": "2022-01-19T07:04:37.428Z"
   },
   {
    "duration": 38,
    "start_time": "2022-01-19T07:04:37.463Z"
   },
   {
    "duration": 8,
    "start_time": "2022-01-19T07:04:37.503Z"
   },
   {
    "duration": 21,
    "start_time": "2022-01-19T07:04:37.512Z"
   },
   {
    "duration": 44,
    "start_time": "2022-01-19T07:04:37.535Z"
   },
   {
    "duration": 16,
    "start_time": "2022-01-19T07:04:37.581Z"
   },
   {
    "duration": 18,
    "start_time": "2022-01-19T07:04:41.369Z"
   },
   {
    "duration": 8,
    "start_time": "2022-01-19T07:04:45.302Z"
   },
   {
    "duration": 19,
    "start_time": "2022-01-19T07:04:47.301Z"
   },
   {
    "duration": 5,
    "start_time": "2022-01-19T07:05:24.766Z"
   },
   {
    "duration": 20,
    "start_time": "2022-01-19T07:05:28.772Z"
   },
   {
    "duration": 8,
    "start_time": "2022-01-19T07:05:35.254Z"
   },
   {
    "duration": 764,
    "start_time": "2022-01-19T07:05:38.817Z"
   },
   {
    "duration": 9,
    "start_time": "2022-01-19T07:05:58.382Z"
   },
   {
    "duration": 4,
    "start_time": "2022-01-19T07:06:01.750Z"
   },
   {
    "duration": 13,
    "start_time": "2022-01-19T07:06:13.224Z"
   },
   {
    "duration": 9,
    "start_time": "2022-01-19T07:06:20.146Z"
   },
   {
    "duration": 6,
    "start_time": "2022-01-19T07:07:29.993Z"
   },
   {
    "duration": 333,
    "start_time": "2022-01-19T07:09:41.953Z"
   },
   {
    "duration": 6,
    "start_time": "2022-01-19T07:09:55.428Z"
   },
   {
    "duration": 19,
    "start_time": "2022-01-19T07:10:04.185Z"
   },
   {
    "duration": 1444,
    "start_time": "2022-01-20T05:59:59.584Z"
   },
   {
    "duration": 49,
    "start_time": "2022-01-20T06:00:01.031Z"
   },
   {
    "duration": 14,
    "start_time": "2022-01-20T06:00:01.083Z"
   },
   {
    "duration": 42,
    "start_time": "2022-01-20T06:00:01.100Z"
   },
   {
    "duration": 30,
    "start_time": "2022-01-20T06:00:01.145Z"
   },
   {
    "duration": 6,
    "start_time": "2022-01-20T06:00:01.177Z"
   },
   {
    "duration": 12,
    "start_time": "2022-01-20T06:00:01.186Z"
   },
   {
    "duration": 34,
    "start_time": "2022-01-20T06:00:01.201Z"
   },
   {
    "duration": 25,
    "start_time": "2022-01-20T06:00:01.238Z"
   },
   {
    "duration": 18,
    "start_time": "2022-01-20T06:00:01.265Z"
   },
   {
    "duration": 40,
    "start_time": "2022-01-20T06:00:01.285Z"
   },
   {
    "duration": 32,
    "start_time": "2022-01-20T06:00:01.327Z"
   },
   {
    "duration": 1214,
    "start_time": "2022-01-20T06:00:01.361Z"
   },
   {
    "duration": 12,
    "start_time": "2022-01-20T06:00:02.577Z"
   },
   {
    "duration": 10,
    "start_time": "2022-01-20T06:00:02.591Z"
   },
   {
    "duration": 31,
    "start_time": "2022-01-20T06:00:02.604Z"
   },
   {
    "duration": 19,
    "start_time": "2022-01-20T06:00:02.638Z"
   },
   {
    "duration": 8,
    "start_time": "2022-01-20T06:00:02.659Z"
   },
   {
    "duration": 27,
    "start_time": "2022-01-20T06:00:12.110Z"
   },
   {
    "duration": 23118,
    "start_time": "2022-01-20T06:06:51.655Z"
   },
   {
    "duration": 7,
    "start_time": "2022-01-20T06:07:30.491Z"
   },
   {
    "duration": 12,
    "start_time": "2022-01-20T06:08:17.790Z"
   },
   {
    "duration": 1025,
    "start_time": "2022-01-20T06:10:44.792Z"
   },
   {
    "duration": 10,
    "start_time": "2022-01-20T06:10:57.787Z"
   },
   {
    "duration": 7,
    "start_time": "2022-01-20T06:16:58.153Z"
   },
   {
    "duration": 10,
    "start_time": "2022-01-20T06:17:06.157Z"
   },
   {
    "duration": 8,
    "start_time": "2022-01-20T06:19:18.647Z"
   },
   {
    "duration": 43,
    "start_time": "2022-01-20T06:19:39.611Z"
   },
   {
    "duration": 540,
    "start_time": "2022-01-20T06:21:04.336Z"
   },
   {
    "duration": 9,
    "start_time": "2022-01-20T06:22:13.336Z"
   },
   {
    "duration": 36997,
    "start_time": "2022-01-20T06:22:16.221Z"
   },
   {
    "duration": 295,
    "start_time": "2022-01-20T06:24:33.408Z"
   },
   {
    "duration": 7,
    "start_time": "2022-01-20T06:24:49.559Z"
   },
   {
    "duration": 565,
    "start_time": "2022-01-20T06:29:30.311Z"
   },
   {
    "duration": 67,
    "start_time": "2022-01-20T06:29:52.772Z"
   },
   {
    "duration": 36,
    "start_time": "2022-01-20T06:30:39.627Z"
   },
   {
    "duration": 12,
    "start_time": "2022-01-20T06:33:20.720Z"
   },
   {
    "duration": 467,
    "start_time": "2022-01-20T06:33:36.550Z"
   },
   {
    "duration": 455,
    "start_time": "2022-01-20T06:35:17.990Z"
   },
   {
    "duration": 359,
    "start_time": "2022-01-20T06:35:27.527Z"
   },
   {
    "duration": 1117,
    "start_time": "2022-01-20T06:36:34.209Z"
   },
   {
    "duration": 353,
    "start_time": "2022-01-20T06:36:38.503Z"
   },
   {
    "duration": 783,
    "start_time": "2022-01-20T06:37:55.496Z"
   },
   {
    "duration": 300,
    "start_time": "2022-01-20T06:41:56.944Z"
   },
   {
    "duration": 11,
    "start_time": "2022-01-20T06:42:03.913Z"
   },
   {
    "duration": 11,
    "start_time": "2022-01-20T06:42:06.310Z"
   },
   {
    "duration": 32,
    "start_time": "2022-01-20T06:42:51.364Z"
   },
   {
    "duration": 17,
    "start_time": "2022-01-20T06:43:33.153Z"
   },
   {
    "duration": 326,
    "start_time": "2022-01-20T06:44:21.927Z"
   },
   {
    "duration": 15,
    "start_time": "2022-01-20T06:44:38.599Z"
   },
   {
    "duration": 15,
    "start_time": "2022-01-20T06:44:59.066Z"
   },
   {
    "duration": 314,
    "start_time": "2022-01-20T06:45:23.669Z"
   },
   {
    "duration": 17,
    "start_time": "2022-01-20T06:46:15.496Z"
   },
   {
    "duration": 17,
    "start_time": "2022-01-20T06:46:29.188Z"
   },
   {
    "duration": 311,
    "start_time": "2022-01-20T06:47:27.228Z"
   },
   {
    "duration": 13,
    "start_time": "2022-01-20T06:47:38.393Z"
   },
   {
    "duration": 13,
    "start_time": "2022-01-20T06:48:39.942Z"
   },
   {
    "duration": 12,
    "start_time": "2022-01-20T06:48:52.265Z"
   },
   {
    "duration": 17,
    "start_time": "2022-01-20T06:49:06.187Z"
   },
   {
    "duration": 336,
    "start_time": "2022-01-20T06:49:27.508Z"
   },
   {
    "duration": 17,
    "start_time": "2022-01-20T06:49:50.142Z"
   },
   {
    "duration": 17,
    "start_time": "2022-01-20T06:50:01.049Z"
   },
   {
    "duration": 298,
    "start_time": "2022-01-20T06:50:17.297Z"
   },
   {
    "duration": 335,
    "start_time": "2022-01-20T06:50:22.976Z"
   },
   {
    "duration": 294,
    "start_time": "2022-01-20T06:51:02.434Z"
   },
   {
    "duration": 18,
    "start_time": "2022-01-20T06:51:08.113Z"
   },
   {
    "duration": 15,
    "start_time": "2022-01-20T06:51:16.697Z"
   },
   {
    "duration": 339,
    "start_time": "2022-01-20T06:51:36.579Z"
   },
   {
    "duration": 14,
    "start_time": "2022-01-20T06:51:53.519Z"
   },
   {
    "duration": 14,
    "start_time": "2022-01-20T06:51:56.776Z"
   },
   {
    "duration": 7,
    "start_time": "2022-01-20T06:54:47.735Z"
   },
   {
    "duration": 17,
    "start_time": "2022-01-20T06:54:52.047Z"
   },
   {
    "duration": 15,
    "start_time": "2022-01-20T07:01:12.880Z"
   },
   {
    "duration": 6,
    "start_time": "2022-01-20T07:01:23.175Z"
   },
   {
    "duration": 500,
    "start_time": "2022-01-20T07:02:53.663Z"
   },
   {
    "duration": 18,
    "start_time": "2022-01-20T07:04:16.284Z"
   },
   {
    "duration": 6,
    "start_time": "2022-01-20T07:04:31.416Z"
   },
   {
    "duration": 571,
    "start_time": "2022-01-20T07:05:11.782Z"
   },
   {
    "duration": 468,
    "start_time": "2022-01-20T07:06:10.837Z"
   },
   {
    "duration": 13,
    "start_time": "2022-01-20T07:06:22.178Z"
   },
   {
    "duration": 37,
    "start_time": "2022-01-20T07:06:43.178Z"
   },
   {
    "duration": 9,
    "start_time": "2022-01-20T07:07:08.719Z"
   },
   {
    "duration": 6,
    "start_time": "2022-01-20T07:07:15.899Z"
   },
   {
    "duration": 7,
    "start_time": "2022-01-20T07:09:32.974Z"
   },
   {
    "duration": 28,
    "start_time": "2022-01-20T07:09:41.165Z"
   },
   {
    "duration": 7,
    "start_time": "2022-01-20T07:11:57.463Z"
   },
   {
    "duration": 8,
    "start_time": "2022-01-20T07:12:21.261Z"
   },
   {
    "duration": 6,
    "start_time": "2022-01-20T07:13:11.141Z"
   },
   {
    "duration": 6,
    "start_time": "2022-01-20T07:13:15.086Z"
   },
   {
    "duration": 8,
    "start_time": "2022-01-20T07:13:24.694Z"
   },
   {
    "duration": 282,
    "start_time": "2022-01-20T07:13:38.608Z"
   },
   {
    "duration": 506,
    "start_time": "2022-01-20T07:13:58.119Z"
   },
   {
    "duration": 100,
    "start_time": "2022-01-20T07:14:23.214Z"
   },
   {
    "duration": 762,
    "start_time": "2022-01-20T07:14:27.585Z"
   },
   {
    "duration": 675,
    "start_time": "2022-01-20T07:14:38.286Z"
   },
   {
    "duration": 629,
    "start_time": "2022-01-20T07:14:48.447Z"
   },
   {
    "duration": 6,
    "start_time": "2022-01-20T07:18:14.023Z"
   },
   {
    "duration": 10,
    "start_time": "2022-01-20T07:18:22.379Z"
   },
   {
    "duration": 11,
    "start_time": "2022-01-20T07:18:47.085Z"
   },
   {
    "duration": 563,
    "start_time": "2022-01-20T07:23:03.611Z"
   },
   {
    "duration": 384,
    "start_time": "2022-01-20T07:23:10.979Z"
   },
   {
    "duration": 363,
    "start_time": "2022-01-20T07:23:56.054Z"
   },
   {
    "duration": 378,
    "start_time": "2022-01-20T07:24:21.649Z"
   },
   {
    "duration": 9,
    "start_time": "2022-01-20T07:29:33.247Z"
   },
   {
    "duration": 12,
    "start_time": "2022-01-20T07:29:44.373Z"
   },
   {
    "duration": 7953,
    "start_time": "2022-01-20T07:32:10.967Z"
   },
   {
    "duration": 9,
    "start_time": "2022-01-20T07:32:23.776Z"
   },
   {
    "duration": 4,
    "start_time": "2022-01-20T07:35:28.124Z"
   },
   {
    "duration": 5344,
    "start_time": "2022-01-20T07:36:19.716Z"
   },
   {
    "duration": 5375,
    "start_time": "2022-01-20T07:36:40.907Z"
   },
   {
    "duration": 992,
    "start_time": "2022-01-21T05:01:14.912Z"
   },
   {
    "duration": 36,
    "start_time": "2022-01-21T05:01:15.906Z"
   },
   {
    "duration": 9,
    "start_time": "2022-01-21T05:01:15.944Z"
   },
   {
    "duration": 18,
    "start_time": "2022-01-21T05:01:15.955Z"
   },
   {
    "duration": 18,
    "start_time": "2022-01-21T05:01:15.975Z"
   },
   {
    "duration": 4,
    "start_time": "2022-01-21T05:01:15.995Z"
   },
   {
    "duration": 3,
    "start_time": "2022-01-21T05:01:16.000Z"
   },
   {
    "duration": 11,
    "start_time": "2022-01-21T05:01:16.006Z"
   },
   {
    "duration": 11,
    "start_time": "2022-01-21T05:01:16.019Z"
   },
   {
    "duration": 8,
    "start_time": "2022-01-21T05:01:16.031Z"
   },
   {
    "duration": 5,
    "start_time": "2022-01-21T05:01:16.071Z"
   },
   {
    "duration": 19,
    "start_time": "2022-01-21T05:01:16.078Z"
   },
   {
    "duration": 727,
    "start_time": "2022-01-21T05:01:16.099Z"
   },
   {
    "duration": 8,
    "start_time": "2022-01-21T05:01:16.827Z"
   },
   {
    "duration": 5,
    "start_time": "2022-01-21T05:01:16.837Z"
   },
   {
    "duration": 13,
    "start_time": "2022-01-21T05:01:16.843Z"
   },
   {
    "duration": 8,
    "start_time": "2022-01-21T05:01:16.872Z"
   },
   {
    "duration": 6,
    "start_time": "2022-01-21T05:01:16.881Z"
   },
   {
    "duration": 17,
    "start_time": "2022-01-21T05:01:16.888Z"
   },
   {
    "duration": 15313,
    "start_time": "2022-01-21T05:01:16.906Z"
   },
   {
    "duration": 4,
    "start_time": "2022-01-21T05:01:32.220Z"
   },
   {
    "duration": 8,
    "start_time": "2022-01-21T05:01:32.225Z"
   },
   {
    "duration": 4,
    "start_time": "2022-01-21T05:01:32.236Z"
   },
   {
    "duration": 6,
    "start_time": "2022-01-21T05:01:32.242Z"
   },
   {
    "duration": 23,
    "start_time": "2022-01-21T05:01:32.250Z"
   },
   {
    "duration": 16292,
    "start_time": "2022-01-21T05:01:32.275Z"
   },
   {
    "duration": 4,
    "start_time": "2022-01-21T05:01:48.571Z"
   },
   {
    "duration": 12,
    "start_time": "2022-01-21T05:01:48.577Z"
   },
   {
    "duration": 4,
    "start_time": "2022-01-21T05:01:48.591Z"
   },
   {
    "duration": 286,
    "start_time": "2022-01-21T05:01:48.597Z"
   },
   {
    "duration": 10,
    "start_time": "2022-01-21T05:01:48.885Z"
   },
   {
    "duration": 19,
    "start_time": "2022-01-21T05:01:48.897Z"
   },
   {
    "duration": 6,
    "start_time": "2022-01-21T05:01:48.917Z"
   },
   {
    "duration": 12,
    "start_time": "2022-01-21T05:01:48.925Z"
   },
   {
    "duration": 38,
    "start_time": "2022-01-21T05:01:48.939Z"
   },
   {
    "duration": 349,
    "start_time": "2022-01-21T05:01:48.979Z"
   },
   {
    "duration": 6,
    "start_time": "2022-01-21T05:01:49.330Z"
   },
   {
    "duration": 225,
    "start_time": "2022-01-21T05:01:49.338Z"
   },
   {
    "duration": 214,
    "start_time": "2022-01-21T05:01:49.566Z"
   },
   {
    "duration": 228,
    "start_time": "2022-01-21T05:01:49.782Z"
   },
   {
    "duration": 6,
    "start_time": "2022-01-21T05:01:50.012Z"
   },
   {
    "duration": 35,
    "start_time": "2022-01-21T05:01:50.019Z"
   },
   {
    "duration": 7,
    "start_time": "2022-01-21T05:01:50.056Z"
   },
   {
    "duration": 3194,
    "start_time": "2022-01-21T05:01:50.064Z"
   },
   {
    "duration": 375,
    "start_time": "2022-01-21T05:06:28.700Z"
   },
   {
    "duration": 7,
    "start_time": "2022-01-21T05:06:43.533Z"
   },
   {
    "duration": 476,
    "start_time": "2022-01-21T05:10:34.956Z"
   },
   {
    "duration": 458,
    "start_time": "2022-01-21T05:11:54.509Z"
   },
   {
    "duration": 127,
    "start_time": "2022-01-21T05:12:20.082Z"
   },
   {
    "duration": 434,
    "start_time": "2022-01-21T05:12:38.649Z"
   },
   {
    "duration": 353,
    "start_time": "2022-01-21T05:14:17.852Z"
   },
   {
    "duration": 355,
    "start_time": "2022-01-21T05:14:28.606Z"
   },
   {
    "duration": 444,
    "start_time": "2022-01-21T05:15:17.645Z"
   },
   {
    "duration": 472,
    "start_time": "2022-01-21T05:15:33.086Z"
   },
   {
    "duration": 484,
    "start_time": "2022-01-21T05:18:46.739Z"
   },
   {
    "duration": 484,
    "start_time": "2022-01-21T05:27:32.919Z"
   },
   {
    "duration": 291,
    "start_time": "2022-01-21T05:38:50.659Z"
   },
   {
    "duration": 258,
    "start_time": "2022-01-21T05:38:57.700Z"
   },
   {
    "duration": 272,
    "start_time": "2022-01-21T05:40:40.127Z"
   },
   {
    "duration": 5,
    "start_time": "2022-01-21T05:41:21.741Z"
   },
   {
    "duration": 269,
    "start_time": "2022-01-21T05:41:47.532Z"
   },
   {
    "duration": 5,
    "start_time": "2022-01-21T05:42:10.845Z"
   },
   {
    "duration": 324,
    "start_time": "2022-01-21T05:46:40.361Z"
   },
   {
    "duration": 4,
    "start_time": "2022-01-21T05:47:20.577Z"
   },
   {
    "duration": 9,
    "start_time": "2022-01-21T05:47:26.978Z"
   },
   {
    "duration": 19,
    "start_time": "2022-01-21T05:47:38.990Z"
   },
   {
    "duration": 255,
    "start_time": "2022-01-21T05:48:03.007Z"
   },
   {
    "duration": 5,
    "start_time": "2022-01-21T05:48:35.404Z"
   },
   {
    "duration": 5,
    "start_time": "2022-01-21T05:48:46.563Z"
   },
   {
    "duration": 284,
    "start_time": "2022-01-21T05:48:59.159Z"
   },
   {
    "duration": 344,
    "start_time": "2022-01-21T05:49:06.135Z"
   },
   {
    "duration": 5,
    "start_time": "2022-01-21T05:49:23.971Z"
   },
   {
    "duration": 247,
    "start_time": "2022-01-21T05:50:36.391Z"
   },
   {
    "duration": 5,
    "start_time": "2022-01-21T05:51:01.919Z"
   },
   {
    "duration": 5,
    "start_time": "2022-01-21T05:51:07.575Z"
   },
   {
    "duration": 314,
    "start_time": "2022-01-21T05:51:32.444Z"
   },
   {
    "duration": 5,
    "start_time": "2022-01-21T05:51:51.136Z"
   },
   {
    "duration": 312,
    "start_time": "2022-01-21T05:54:24.689Z"
   },
   {
    "duration": 298,
    "start_time": "2022-01-21T05:54:30.935Z"
   },
   {
    "duration": 8,
    "start_time": "2022-01-21T05:54:55.462Z"
   },
   {
    "duration": 7,
    "start_time": "2022-01-21T05:55:42.962Z"
   },
   {
    "duration": 8,
    "start_time": "2022-01-21T05:55:50.724Z"
   },
   {
    "duration": 9,
    "start_time": "2022-01-21T05:58:21.144Z"
   },
   {
    "duration": 9,
    "start_time": "2022-01-21T05:59:01.444Z"
   },
   {
    "duration": 9,
    "start_time": "2022-01-21T05:59:21.660Z"
   },
   {
    "duration": 110,
    "start_time": "2022-01-21T06:10:00.188Z"
   },
   {
    "duration": 294,
    "start_time": "2022-01-21T06:13:31.486Z"
   },
   {
    "duration": 8,
    "start_time": "2022-01-21T06:14:04.794Z"
   },
   {
    "duration": 7,
    "start_time": "2022-01-21T06:14:10.401Z"
   },
   {
    "duration": 11,
    "start_time": "2022-01-21T06:14:24.622Z"
   },
   {
    "duration": 11,
    "start_time": "2022-01-21T06:14:55.692Z"
   },
   {
    "duration": 316,
    "start_time": "2022-01-21T06:16:31.359Z"
   },
   {
    "duration": 319,
    "start_time": "2022-01-21T06:17:39.383Z"
   },
   {
    "duration": 438,
    "start_time": "2022-01-21T06:17:50.313Z"
   },
   {
    "duration": 460,
    "start_time": "2022-01-21T06:18:12.376Z"
   },
   {
    "duration": 476,
    "start_time": "2022-01-21T06:18:33.477Z"
   },
   {
    "duration": 475,
    "start_time": "2022-01-21T06:18:44.636Z"
   },
   {
    "duration": 426,
    "start_time": "2022-01-21T06:20:00.228Z"
   },
   {
    "duration": 407,
    "start_time": "2022-01-21T06:21:37.354Z"
   },
   {
    "duration": 307,
    "start_time": "2022-01-21T06:30:40.534Z"
   },
   {
    "duration": 8,
    "start_time": "2022-01-21T06:32:05.112Z"
   },
   {
    "duration": 6,
    "start_time": "2022-01-21T06:32:15.744Z"
   },
   {
    "duration": 8,
    "start_time": "2022-01-21T06:32:19.820Z"
   },
   {
    "duration": 7,
    "start_time": "2022-01-21T06:38:22.337Z"
   },
   {
    "duration": 363,
    "start_time": "2022-01-21T06:38:32.550Z"
   },
   {
    "duration": 8,
    "start_time": "2022-01-21T06:39:43.440Z"
   },
   {
    "duration": 8094,
    "start_time": "2022-01-21T06:40:11.859Z"
   },
   {
    "duration": 8,
    "start_time": "2022-01-21T06:40:48.795Z"
   },
   {
    "duration": 6,
    "start_time": "2022-01-21T06:40:51.752Z"
   },
   {
    "duration": 6,
    "start_time": "2022-01-21T06:41:52.798Z"
   },
   {
    "duration": 162,
    "start_time": "2022-01-21T06:43:40.217Z"
   },
   {
    "duration": 160,
    "start_time": "2022-01-21T06:44:02.122Z"
   },
   {
    "duration": 161,
    "start_time": "2022-01-21T06:44:12.879Z"
   },
   {
    "duration": 5,
    "start_time": "2022-01-21T06:44:53.270Z"
   },
   {
    "duration": 111,
    "start_time": "2022-01-21T06:45:25.848Z"
   },
   {
    "duration": 5,
    "start_time": "2022-01-21T06:47:18.994Z"
   },
   {
    "duration": 9,
    "start_time": "2022-01-21T06:49:51.753Z"
   },
   {
    "duration": 173,
    "start_time": "2022-01-21T06:50:22.579Z"
   },
   {
    "duration": 5,
    "start_time": "2022-01-21T06:50:34.800Z"
   },
   {
    "duration": 227,
    "start_time": "2022-01-21T06:50:40.371Z"
   },
   {
    "duration": 95,
    "start_time": "2022-01-21T06:51:06.770Z"
   },
   {
    "duration": 5,
    "start_time": "2022-01-21T06:52:10.231Z"
   },
   {
    "duration": 5,
    "start_time": "2022-01-21T06:54:11.213Z"
   },
   {
    "duration": 1311,
    "start_time": "2022-01-25T01:30:14.115Z"
   },
   {
    "duration": 50,
    "start_time": "2022-01-25T01:30:27.936Z"
   },
   {
    "duration": 15,
    "start_time": "2022-01-25T01:30:38.172Z"
   },
   {
    "duration": 25,
    "start_time": "2022-01-25T01:30:49.820Z"
   },
   {
    "duration": 31,
    "start_time": "2022-01-25T01:32:33.790Z"
   },
   {
    "duration": 4,
    "start_time": "2022-01-25T01:35:32.573Z"
   },
   {
    "duration": 20,
    "start_time": "2022-01-25T01:35:34.713Z"
   },
   {
    "duration": 19,
    "start_time": "2022-01-25T01:36:54.508Z"
   },
   {
    "duration": 12,
    "start_time": "2022-01-25T01:37:12.840Z"
   },
   {
    "duration": 13,
    "start_time": "2022-01-25T01:38:19.289Z"
   },
   {
    "duration": 7,
    "start_time": "2022-01-25T01:39:06.204Z"
   },
   {
    "duration": 1204,
    "start_time": "2022-01-25T04:42:20.067Z"
   },
   {
    "duration": 42,
    "start_time": "2022-01-25T04:42:24.995Z"
   },
   {
    "duration": 14,
    "start_time": "2022-01-25T04:42:29.654Z"
   },
   {
    "duration": 24,
    "start_time": "2022-01-25T04:42:31.262Z"
   },
   {
    "duration": 13,
    "start_time": "2022-01-25T04:42:32.589Z"
   },
   {
    "duration": 18,
    "start_time": "2022-01-25T04:42:33.853Z"
   },
   {
    "duration": 4,
    "start_time": "2022-01-25T04:42:37.176Z"
   },
   {
    "duration": 16,
    "start_time": "2022-01-25T04:42:46.068Z"
   },
   {
    "duration": 19,
    "start_time": "2022-01-25T04:43:33.356Z"
   },
   {
    "duration": 10,
    "start_time": "2022-01-25T04:43:36.150Z"
   },
   {
    "duration": 6,
    "start_time": "2022-01-25T04:43:51.370Z"
   },
   {
    "duration": 29,
    "start_time": "2022-01-25T04:44:24.935Z"
   },
   {
    "duration": 399,
    "start_time": "2022-01-25T04:54:37.531Z"
   },
   {
    "duration": 273,
    "start_time": "2022-01-25T04:54:42.595Z"
   },
   {
    "duration": 277,
    "start_time": "2022-01-25T04:54:53.222Z"
   },
   {
    "duration": 16,
    "start_time": "2022-01-25T04:55:01.989Z"
   },
   {
    "duration": 10,
    "start_time": "2022-01-25T04:55:13.121Z"
   },
   {
    "duration": 10,
    "start_time": "2022-01-25T04:55:36.007Z"
   },
   {
    "duration": 279,
    "start_time": "2022-01-25T05:01:10.222Z"
   },
   {
    "duration": 290,
    "start_time": "2022-01-25T05:01:30.337Z"
   },
   {
    "duration": 245,
    "start_time": "2022-01-25T05:02:11.621Z"
   },
   {
    "duration": 11,
    "start_time": "2022-01-25T05:02:51.577Z"
   },
   {
    "duration": 9,
    "start_time": "2022-01-25T05:03:04.179Z"
   },
   {
    "duration": 90,
    "start_time": "2022-01-25T05:08:32.688Z"
   },
   {
    "duration": 3,
    "start_time": "2022-01-25T05:08:37.117Z"
   },
   {
    "duration": 4,
    "start_time": "2022-01-25T05:08:42.933Z"
   },
   {
    "duration": 5,
    "start_time": "2022-01-25T05:08:51.181Z"
   },
   {
    "duration": 105,
    "start_time": "2022-01-25T05:10:02.488Z"
   },
   {
    "duration": 7,
    "start_time": "2022-01-25T05:10:07.677Z"
   },
   {
    "duration": 100,
    "start_time": "2022-01-25T05:11:15.087Z"
   },
   {
    "duration": 498,
    "start_time": "2022-01-25T05:12:55.656Z"
   },
   {
    "duration": 595,
    "start_time": "2022-01-25T05:15:23.062Z"
   },
   {
    "duration": 15,
    "start_time": "2022-01-25T05:15:26.459Z"
   },
   {
    "duration": 9,
    "start_time": "2022-01-25T05:15:56.701Z"
   },
   {
    "duration": 340,
    "start_time": "2022-01-25T05:16:46.791Z"
   },
   {
    "duration": 306,
    "start_time": "2022-01-25T05:17:21.554Z"
   },
   {
    "duration": 10,
    "start_time": "2022-01-25T05:17:33.703Z"
   },
   {
    "duration": 456,
    "start_time": "2022-01-25T05:18:26.760Z"
   },
   {
    "duration": 9,
    "start_time": "2022-01-25T05:18:37.161Z"
   },
   {
    "duration": 1248,
    "start_time": "2022-01-25T05:19:10.110Z"
   },
   {
    "duration": 42,
    "start_time": "2022-01-25T05:19:11.361Z"
   },
   {
    "duration": 18,
    "start_time": "2022-01-25T05:19:11.406Z"
   },
   {
    "duration": 23,
    "start_time": "2022-01-25T05:19:11.426Z"
   },
   {
    "duration": 4,
    "start_time": "2022-01-25T05:19:11.451Z"
   },
   {
    "duration": 13,
    "start_time": "2022-01-25T05:19:11.458Z"
   },
   {
    "duration": 50,
    "start_time": "2022-01-25T05:19:11.473Z"
   },
   {
    "duration": 10,
    "start_time": "2022-01-25T05:19:11.526Z"
   },
   {
    "duration": 19,
    "start_time": "2022-01-25T05:19:11.538Z"
   },
   {
    "duration": 29,
    "start_time": "2022-01-25T05:19:11.560Z"
   },
   {
    "duration": 38,
    "start_time": "2022-01-25T05:19:11.591Z"
   },
   {
    "duration": 606,
    "start_time": "2022-01-25T05:19:11.631Z"
   },
   {
    "duration": 466,
    "start_time": "2022-01-25T05:19:29.606Z"
   },
   {
    "duration": 7,
    "start_time": "2022-01-25T05:20:39.312Z"
   },
   {
    "duration": 12,
    "start_time": "2022-01-25T05:21:13.368Z"
   },
   {
    "duration": 6,
    "start_time": "2022-01-25T05:21:22.326Z"
   },
   {
    "duration": 29,
    "start_time": "2022-01-25T05:23:09.412Z"
   },
   {
    "duration": 5,
    "start_time": "2022-01-25T05:28:20.618Z"
   },
   {
    "duration": 281,
    "start_time": "2022-01-25T05:28:23.635Z"
   },
   {
    "duration": 273,
    "start_time": "2022-01-25T05:28:31.060Z"
   },
   {
    "duration": 14,
    "start_time": "2022-01-25T05:31:37.360Z"
   },
   {
    "duration": 4446,
    "start_time": "2022-01-25T05:35:27.396Z"
   },
   {
    "duration": 13,
    "start_time": "2022-01-25T05:36:47.571Z"
   },
   {
    "duration": 10,
    "start_time": "2022-01-25T05:37:57.603Z"
   },
   {
    "duration": 5,
    "start_time": "2022-01-25T05:39:47.964Z"
   },
   {
    "duration": 6,
    "start_time": "2022-01-25T05:40:56.664Z"
   },
   {
    "duration": 16,
    "start_time": "2022-01-25T05:42:13.556Z"
   },
   {
    "duration": 4604,
    "start_time": "2022-01-25T05:43:28.185Z"
   },
   {
    "duration": 7,
    "start_time": "2022-01-25T05:44:43.670Z"
   },
   {
    "duration": 18,
    "start_time": "2022-01-25T05:47:20.084Z"
   },
   {
    "duration": 411,
    "start_time": "2022-01-25T05:49:34.208Z"
   },
   {
    "duration": 15,
    "start_time": "2022-01-25T05:51:48.141Z"
   },
   {
    "duration": 6,
    "start_time": "2022-01-25T05:55:42.752Z"
   },
   {
    "duration": 5,
    "start_time": "2022-01-25T05:57:33.852Z"
   },
   {
    "duration": 22,
    "start_time": "2022-01-25T05:57:36.247Z"
   },
   {
    "duration": 21,
    "start_time": "2022-01-25T05:57:43.228Z"
   },
   {
    "duration": 21,
    "start_time": "2022-01-25T05:57:47.982Z"
   },
   {
    "duration": 19,
    "start_time": "2022-01-25T05:58:33.366Z"
   },
   {
    "duration": 6,
    "start_time": "2022-01-25T06:04:43.424Z"
   },
   {
    "duration": 5,
    "start_time": "2022-01-25T06:05:23.320Z"
   },
   {
    "duration": 526,
    "start_time": "2022-01-25T06:06:11.403Z"
   },
   {
    "duration": 7,
    "start_time": "2022-01-25T06:14:31.288Z"
   },
   {
    "duration": 10,
    "start_time": "2022-01-25T06:15:22.134Z"
   },
   {
    "duration": 96,
    "start_time": "2022-01-25T06:23:58.738Z"
   },
   {
    "duration": 1095,
    "start_time": "2022-01-25T06:24:04.959Z"
   },
   {
    "duration": 1006,
    "start_time": "2022-01-25T06:24:12.421Z"
   },
   {
    "duration": 1017,
    "start_time": "2022-01-25T06:24:29.954Z"
   },
   {
    "duration": 1049,
    "start_time": "2022-01-25T06:25:59.486Z"
   },
   {
    "duration": 1106,
    "start_time": "2022-01-25T06:27:08.901Z"
   },
   {
    "duration": 330,
    "start_time": "2022-01-25T06:28:12.181Z"
   },
   {
    "duration": 9,
    "start_time": "2022-01-25T06:33:46.014Z"
   },
   {
    "duration": 15,
    "start_time": "2022-01-25T06:34:00.857Z"
   },
   {
    "duration": 10,
    "start_time": "2022-01-25T06:35:04.655Z"
   },
   {
    "duration": 11,
    "start_time": "2022-01-25T06:43:18.883Z"
   },
   {
    "duration": 4802,
    "start_time": "2022-01-25T06:43:59.047Z"
   },
   {
    "duration": 751,
    "start_time": "2022-01-25T06:59:57.073Z"
   },
   {
    "duration": 858,
    "start_time": "2022-01-25T07:02:21.921Z"
   },
   {
    "duration": 379,
    "start_time": "2022-01-25T07:10:49.519Z"
   },
   {
    "duration": 7,
    "start_time": "2022-01-25T07:12:10.102Z"
   },
   {
    "duration": 371,
    "start_time": "2022-01-25T07:12:34.856Z"
   },
   {
    "duration": 404,
    "start_time": "2022-01-25T07:12:55.843Z"
   },
   {
    "duration": 279,
    "start_time": "2022-01-25T07:13:19.659Z"
   },
   {
    "duration": 918,
    "start_time": "2022-01-25T07:13:44.761Z"
   },
   {
    "duration": 864,
    "start_time": "2022-01-25T07:14:21.265Z"
   },
   {
    "duration": 1322,
    "start_time": "2022-01-26T01:20:22.456Z"
   },
   {
    "duration": 38,
    "start_time": "2022-01-26T01:20:23.779Z"
   },
   {
    "duration": 10,
    "start_time": "2022-01-26T01:20:23.819Z"
   },
   {
    "duration": 17,
    "start_time": "2022-01-26T01:20:23.831Z"
   },
   {
    "duration": 3,
    "start_time": "2022-01-26T01:20:23.849Z"
   },
   {
    "duration": 15,
    "start_time": "2022-01-26T01:20:23.853Z"
   },
   {
    "duration": 31,
    "start_time": "2022-01-26T01:20:23.869Z"
   },
   {
    "duration": 7,
    "start_time": "2022-01-26T01:20:23.902Z"
   },
   {
    "duration": 5,
    "start_time": "2022-01-26T01:20:23.911Z"
   },
   {
    "duration": 19,
    "start_time": "2022-01-26T01:20:23.917Z"
   },
   {
    "duration": 9,
    "start_time": "2022-01-26T01:20:23.938Z"
   },
   {
    "duration": 436,
    "start_time": "2022-01-26T01:20:23.949Z"
   },
   {
    "duration": 4,
    "start_time": "2022-01-26T01:20:24.387Z"
   },
   {
    "duration": 12,
    "start_time": "2022-01-26T01:20:24.393Z"
   },
   {
    "duration": 8,
    "start_time": "2022-01-26T01:20:24.407Z"
   },
   {
    "duration": 11,
    "start_time": "2022-01-26T01:20:24.416Z"
   },
   {
    "duration": 2739,
    "start_time": "2022-01-26T01:20:24.428Z"
   },
   {
    "duration": 10,
    "start_time": "2022-01-26T01:20:27.169Z"
   },
   {
    "duration": 26,
    "start_time": "2022-01-26T01:20:27.180Z"
   },
   {
    "duration": 7,
    "start_time": "2022-01-26T01:20:27.207Z"
   },
   {
    "duration": 6,
    "start_time": "2022-01-26T01:20:27.216Z"
   },
   {
    "duration": 12,
    "start_time": "2022-01-26T01:20:27.223Z"
   },
   {
    "duration": 2743,
    "start_time": "2022-01-26T01:20:27.238Z"
   },
   {
    "duration": 4,
    "start_time": "2022-01-26T01:20:29.983Z"
   },
   {
    "duration": 18,
    "start_time": "2022-01-26T01:20:29.989Z"
   },
   {
    "duration": 275,
    "start_time": "2022-01-26T01:20:30.009Z"
   },
   {
    "duration": 13,
    "start_time": "2022-01-26T01:20:30.286Z"
   },
   {
    "duration": 4,
    "start_time": "2022-01-26T01:20:30.301Z"
   },
   {
    "duration": 16,
    "start_time": "2022-01-26T01:20:30.307Z"
   },
   {
    "duration": 4,
    "start_time": "2022-01-26T01:20:30.325Z"
   },
   {
    "duration": 573,
    "start_time": "2022-01-26T01:20:30.330Z"
   },
   {
    "duration": -769,
    "start_time": "2022-01-26T01:20:31.674Z"
   },
   {
    "duration": -773,
    "start_time": "2022-01-26T01:20:31.678Z"
   },
   {
    "duration": -944,
    "start_time": "2022-01-26T01:20:31.850Z"
   },
   {
    "duration": -954,
    "start_time": "2022-01-26T01:20:31.861Z"
   },
   {
    "duration": -956,
    "start_time": "2022-01-26T01:20:31.864Z"
   },
   {
    "duration": -958,
    "start_time": "2022-01-26T01:20:31.867Z"
   },
   {
    "duration": -960,
    "start_time": "2022-01-26T01:20:31.870Z"
   },
   {
    "duration": 317,
    "start_time": "2022-01-26T01:20:33.684Z"
   },
   {
    "duration": 4,
    "start_time": "2022-01-26T01:20:36.367Z"
   },
   {
    "duration": 273,
    "start_time": "2022-01-26T01:20:42.256Z"
   },
   {
    "duration": 382,
    "start_time": "2022-01-26T01:21:49.791Z"
   },
   {
    "duration": 8,
    "start_time": "2022-01-26T01:21:56.577Z"
   },
   {
    "duration": 766,
    "start_time": "2022-01-26T01:22:01.589Z"
   },
   {
    "duration": 6,
    "start_time": "2022-01-26T01:22:08.712Z"
   },
   {
    "duration": 7,
    "start_time": "2022-01-26T01:22:11.987Z"
   },
   {
    "duration": 3418,
    "start_time": "2022-01-26T01:22:16.562Z"
   },
   {
    "duration": 594,
    "start_time": "2022-01-26T01:22:27.369Z"
   },
   {
    "duration": 578,
    "start_time": "2022-01-26T01:22:31.915Z"
   },
   {
    "duration": 311,
    "start_time": "2022-01-26T01:22:37.296Z"
   },
   {
    "duration": 4,
    "start_time": "2022-01-26T01:22:41.797Z"
   },
   {
    "duration": 265,
    "start_time": "2022-01-26T01:22:43.552Z"
   },
   {
    "duration": 7,
    "start_time": "2022-01-26T01:23:09.531Z"
   },
   {
    "duration": 10,
    "start_time": "2022-01-26T01:24:12.382Z"
   },
   {
    "duration": 1046,
    "start_time": "2022-01-26T01:24:44.708Z"
   },
   {
    "duration": 37,
    "start_time": "2022-01-26T01:24:45.756Z"
   },
   {
    "duration": 10,
    "start_time": "2022-01-26T01:24:45.795Z"
   },
   {
    "duration": 17,
    "start_time": "2022-01-26T01:24:45.807Z"
   },
   {
    "duration": 5,
    "start_time": "2022-01-26T01:24:45.826Z"
   },
   {
    "duration": 17,
    "start_time": "2022-01-26T01:24:45.832Z"
   },
   {
    "duration": 13,
    "start_time": "2022-01-26T01:24:45.850Z"
   },
   {
    "duration": 7,
    "start_time": "2022-01-26T01:24:45.866Z"
   },
   {
    "duration": 26,
    "start_time": "2022-01-26T01:24:45.875Z"
   },
   {
    "duration": 21,
    "start_time": "2022-01-26T01:24:45.903Z"
   },
   {
    "duration": 9,
    "start_time": "2022-01-26T01:24:45.926Z"
   },
   {
    "duration": 435,
    "start_time": "2022-01-26T01:24:45.937Z"
   },
   {
    "duration": 4,
    "start_time": "2022-01-26T01:24:46.374Z"
   },
   {
    "duration": 20,
    "start_time": "2022-01-26T01:24:46.380Z"
   },
   {
    "duration": 8,
    "start_time": "2022-01-26T01:24:46.402Z"
   },
   {
    "duration": 10,
    "start_time": "2022-01-26T01:24:46.411Z"
   },
   {
    "duration": 2576,
    "start_time": "2022-01-26T01:24:46.423Z"
   },
   {
    "duration": 9,
    "start_time": "2022-01-26T01:24:49.001Z"
   },
   {
    "duration": 9,
    "start_time": "2022-01-26T01:24:49.012Z"
   },
   {
    "duration": 4,
    "start_time": "2022-01-26T01:24:49.023Z"
   },
   {
    "duration": 6,
    "start_time": "2022-01-26T01:24:49.029Z"
   },
   {
    "duration": 10,
    "start_time": "2022-01-26T01:24:49.036Z"
   },
   {
    "duration": 2712,
    "start_time": "2022-01-26T01:24:49.049Z"
   },
   {
    "duration": 11,
    "start_time": "2022-01-26T01:25:00.935Z"
   },
   {
    "duration": 12,
    "start_time": "2022-01-26T01:25:32.852Z"
   },
   {
    "duration": 11,
    "start_time": "2022-01-26T01:25:35.895Z"
   },
   {
    "duration": 3,
    "start_time": "2022-01-26T01:27:05.929Z"
   },
   {
    "duration": 3,
    "start_time": "2022-01-26T01:27:43.323Z"
   },
   {
    "duration": 38,
    "start_time": "2022-01-26T01:27:43.328Z"
   },
   {
    "duration": 9,
    "start_time": "2022-01-26T01:27:43.368Z"
   },
   {
    "duration": 21,
    "start_time": "2022-01-26T01:27:43.379Z"
   },
   {
    "duration": 19,
    "start_time": "2022-01-26T01:27:43.402Z"
   },
   {
    "duration": 18,
    "start_time": "2022-01-26T01:27:43.422Z"
   },
   {
    "duration": 32,
    "start_time": "2022-01-26T01:27:43.442Z"
   },
   {
    "duration": 11,
    "start_time": "2022-01-26T01:27:43.477Z"
   },
   {
    "duration": 10,
    "start_time": "2022-01-26T01:27:43.490Z"
   },
   {
    "duration": 37,
    "start_time": "2022-01-26T01:27:43.502Z"
   },
   {
    "duration": 9,
    "start_time": "2022-01-26T01:27:43.541Z"
   },
   {
    "duration": 392,
    "start_time": "2022-01-26T01:27:43.551Z"
   },
   {
    "duration": 4,
    "start_time": "2022-01-26T01:27:43.945Z"
   },
   {
    "duration": 11,
    "start_time": "2022-01-26T01:27:43.950Z"
   },
   {
    "duration": 6,
    "start_time": "2022-01-26T01:27:43.962Z"
   },
   {
    "duration": 11,
    "start_time": "2022-01-26T01:27:43.969Z"
   },
   {
    "duration": 2575,
    "start_time": "2022-01-26T01:27:43.981Z"
   },
   {
    "duration": 10,
    "start_time": "2022-01-26T01:27:46.557Z"
   },
   {
    "duration": 9,
    "start_time": "2022-01-26T01:27:46.569Z"
   },
   {
    "duration": 6,
    "start_time": "2022-01-26T01:27:46.579Z"
   },
   {
    "duration": 363,
    "start_time": "2022-01-26T01:27:46.586Z"
   },
   {
    "duration": -978,
    "start_time": "2022-01-26T01:27:47.929Z"
   },
   {
    "duration": -983,
    "start_time": "2022-01-26T01:27:47.935Z"
   },
   {
    "duration": -985,
    "start_time": "2022-01-26T01:27:47.938Z"
   },
   {
    "duration": -988,
    "start_time": "2022-01-26T01:27:47.942Z"
   },
   {
    "duration": -992,
    "start_time": "2022-01-26T01:27:47.946Z"
   },
   {
    "duration": -995,
    "start_time": "2022-01-26T01:27:47.950Z"
   },
   {
    "duration": -998,
    "start_time": "2022-01-26T01:27:47.954Z"
   },
   {
    "duration": -1001,
    "start_time": "2022-01-26T01:27:47.958Z"
   },
   {
    "duration": -1003,
    "start_time": "2022-01-26T01:27:47.961Z"
   },
   {
    "duration": -1160,
    "start_time": "2022-01-26T01:27:48.119Z"
   },
   {
    "duration": -1169,
    "start_time": "2022-01-26T01:27:48.129Z"
   },
   {
    "duration": -1172,
    "start_time": "2022-01-26T01:27:48.133Z"
   },
   {
    "duration": -1175,
    "start_time": "2022-01-26T01:27:48.137Z"
   },
   {
    "duration": -1176,
    "start_time": "2022-01-26T01:27:48.140Z"
   },
   {
    "duration": -1178,
    "start_time": "2022-01-26T01:27:48.143Z"
   },
   {
    "duration": -1181,
    "start_time": "2022-01-26T01:27:48.146Z"
   },
   {
    "duration": -1183,
    "start_time": "2022-01-26T01:27:48.149Z"
   },
   {
    "duration": -1185,
    "start_time": "2022-01-26T01:27:48.152Z"
   },
   {
    "duration": -1187,
    "start_time": "2022-01-26T01:27:48.155Z"
   },
   {
    "duration": 260,
    "start_time": "2022-01-26T01:27:56.666Z"
   },
   {
    "duration": 4,
    "start_time": "2022-01-26T01:29:35.643Z"
   },
   {
    "duration": 4,
    "start_time": "2022-01-26T01:30:34.813Z"
   },
   {
    "duration": 10,
    "start_time": "2022-01-26T01:30:39.251Z"
   },
   {
    "duration": 2723,
    "start_time": "2022-01-26T01:30:49.039Z"
   },
   {
    "duration": 14,
    "start_time": "2022-01-26T01:31:01.714Z"
   },
   {
    "duration": 10,
    "start_time": "2022-01-26T01:31:12.037Z"
   },
   {
    "duration": 11,
    "start_time": "2022-01-26T01:31:14.315Z"
   },
   {
    "duration": 31,
    "start_time": "2022-01-26T01:32:10.440Z"
   },
   {
    "duration": 4,
    "start_time": "2022-01-26T01:34:40.899Z"
   },
   {
    "duration": 1173,
    "start_time": "2022-01-26T01:35:24.000Z"
   },
   {
    "duration": 43,
    "start_time": "2022-01-26T01:35:25.175Z"
   },
   {
    "duration": 13,
    "start_time": "2022-01-26T01:35:25.220Z"
   },
   {
    "duration": 25,
    "start_time": "2022-01-26T01:35:25.235Z"
   },
   {
    "duration": 3,
    "start_time": "2022-01-26T01:35:25.262Z"
   },
   {
    "duration": 14,
    "start_time": "2022-01-26T01:35:25.266Z"
   },
   {
    "duration": 28,
    "start_time": "2022-01-26T01:35:25.282Z"
   },
   {
    "duration": 7,
    "start_time": "2022-01-26T01:35:25.313Z"
   },
   {
    "duration": 8,
    "start_time": "2022-01-26T01:35:25.322Z"
   },
   {
    "duration": 20,
    "start_time": "2022-01-26T01:35:25.332Z"
   },
   {
    "duration": 9,
    "start_time": "2022-01-26T01:35:25.354Z"
   },
   {
    "duration": 429,
    "start_time": "2022-01-26T01:35:25.365Z"
   },
   {
    "duration": 5,
    "start_time": "2022-01-26T01:35:25.795Z"
   },
   {
    "duration": 11,
    "start_time": "2022-01-26T01:35:25.802Z"
   },
   {
    "duration": 6,
    "start_time": "2022-01-26T01:35:25.814Z"
   },
   {
    "duration": 10,
    "start_time": "2022-01-26T01:35:25.822Z"
   },
   {
    "duration": 2758,
    "start_time": "2022-01-26T01:35:25.834Z"
   },
   {
    "duration": 11,
    "start_time": "2022-01-26T01:35:28.594Z"
   },
   {
    "duration": 11,
    "start_time": "2022-01-26T01:35:28.607Z"
   },
   {
    "duration": 7,
    "start_time": "2022-01-26T01:35:28.620Z"
   },
   {
    "duration": 9,
    "start_time": "2022-01-26T01:35:28.628Z"
   },
   {
    "duration": 14,
    "start_time": "2022-01-26T01:35:28.639Z"
   },
   {
    "duration": 2842,
    "start_time": "2022-01-26T01:35:28.656Z"
   },
   {
    "duration": 4,
    "start_time": "2022-01-26T01:35:31.500Z"
   },
   {
    "duration": 14,
    "start_time": "2022-01-26T01:35:31.506Z"
   },
   {
    "duration": 277,
    "start_time": "2022-01-26T01:35:31.522Z"
   },
   {
    "duration": 9,
    "start_time": "2022-01-26T01:35:31.801Z"
   },
   {
    "duration": 11,
    "start_time": "2022-01-26T01:35:31.811Z"
   },
   {
    "duration": 31,
    "start_time": "2022-01-26T01:35:31.824Z"
   },
   {
    "duration": 12,
    "start_time": "2022-01-26T01:35:31.857Z"
   },
   {
    "duration": 403,
    "start_time": "2022-01-26T01:35:31.871Z"
   },
   {
    "duration": 8,
    "start_time": "2022-01-26T01:35:32.276Z"
   },
   {
    "duration": 762,
    "start_time": "2022-01-26T01:35:32.285Z"
   },
   {
    "duration": 7,
    "start_time": "2022-01-26T01:35:33.049Z"
   },
   {
    "duration": 15,
    "start_time": "2022-01-26T01:35:33.057Z"
   },
   {
    "duration": 3564,
    "start_time": "2022-01-26T01:35:33.073Z"
   },
   {
    "duration": 579,
    "start_time": "2022-01-26T01:35:36.638Z"
   },
   {
    "duration": 593,
    "start_time": "2022-01-26T01:35:37.218Z"
   },
   {
    "duration": 318,
    "start_time": "2022-01-26T01:35:37.813Z"
   },
   {
    "duration": 5,
    "start_time": "2022-01-26T01:35:38.132Z"
   },
   {
    "duration": 291,
    "start_time": "2022-01-26T01:35:38.138Z"
   },
   {
    "duration": 5,
    "start_time": "2022-01-26T01:35:38.430Z"
   },
   {
    "duration": 279,
    "start_time": "2022-01-26T01:35:38.436Z"
   },
   {
    "duration": 5,
    "start_time": "2022-01-26T01:35:38.716Z"
   },
   {
    "duration": 4,
    "start_time": "2022-01-26T01:35:41.646Z"
   },
   {
    "duration": 344,
    "start_time": "2022-01-26T01:35:43.461Z"
   },
   {
    "duration": 5,
    "start_time": "2022-01-26T01:35:51.587Z"
   },
   {
    "duration": 294,
    "start_time": "2022-01-26T01:35:58.088Z"
   },
   {
    "duration": 5,
    "start_time": "2022-01-26T01:36:03.595Z"
   },
   {
    "duration": 298,
    "start_time": "2022-01-26T01:36:05.687Z"
   },
   {
    "duration": 5,
    "start_time": "2022-01-26T01:36:13.642Z"
   },
   {
    "duration": 263,
    "start_time": "2022-01-26T01:43:40.942Z"
   },
   {
    "duration": 5,
    "start_time": "2022-01-26T01:44:29.032Z"
   },
   {
    "duration": 264,
    "start_time": "2022-01-26T01:45:04.436Z"
   },
   {
    "duration": 5,
    "start_time": "2022-01-26T01:45:38.557Z"
   },
   {
    "duration": 264,
    "start_time": "2022-01-26T01:47:01.936Z"
   },
   {
    "duration": 304,
    "start_time": "2022-01-26T01:47:34.298Z"
   },
   {
    "duration": 273,
    "start_time": "2022-01-26T01:47:38.860Z"
   },
   {
    "duration": 5,
    "start_time": "2022-01-26T01:48:03.466Z"
   },
   {
    "duration": 292,
    "start_time": "2022-01-26T01:48:20.420Z"
   },
   {
    "duration": 277,
    "start_time": "2022-01-26T01:48:42.765Z"
   },
   {
    "duration": 5,
    "start_time": "2022-01-26T01:49:18.836Z"
   },
   {
    "duration": 5,
    "start_time": "2022-01-26T01:49:27.457Z"
   },
   {
    "duration": 1065,
    "start_time": "2022-01-26T05:36:16.612Z"
   },
   {
    "duration": 41,
    "start_time": "2022-01-26T05:36:17.679Z"
   },
   {
    "duration": 12,
    "start_time": "2022-01-26T05:36:17.722Z"
   },
   {
    "duration": 20,
    "start_time": "2022-01-26T05:36:17.736Z"
   },
   {
    "duration": 26,
    "start_time": "2022-01-26T05:36:17.757Z"
   },
   {
    "duration": 45,
    "start_time": "2022-01-26T05:36:17.784Z"
   },
   {
    "duration": 19,
    "start_time": "2022-01-26T05:36:17.831Z"
   },
   {
    "duration": 11,
    "start_time": "2022-01-26T05:36:17.853Z"
   },
   {
    "duration": 7,
    "start_time": "2022-01-26T05:36:17.866Z"
   },
   {
    "duration": 29,
    "start_time": "2022-01-26T05:36:17.875Z"
   },
   {
    "duration": 11,
    "start_time": "2022-01-26T05:36:17.906Z"
   },
   {
    "duration": 512,
    "start_time": "2022-01-26T05:36:17.919Z"
   },
   {
    "duration": 5,
    "start_time": "2022-01-26T05:36:18.433Z"
   },
   {
    "duration": 34,
    "start_time": "2022-01-26T05:36:18.439Z"
   },
   {
    "duration": 25,
    "start_time": "2022-01-26T05:36:18.476Z"
   },
   {
    "duration": 15,
    "start_time": "2022-01-26T05:36:18.503Z"
   },
   {
    "duration": 2850,
    "start_time": "2022-01-26T05:36:18.520Z"
   },
   {
    "duration": 11,
    "start_time": "2022-01-26T05:36:21.372Z"
   },
   {
    "duration": 27,
    "start_time": "2022-01-26T05:36:21.385Z"
   },
   {
    "duration": 26,
    "start_time": "2022-01-26T05:36:21.413Z"
   },
   {
    "duration": 17,
    "start_time": "2022-01-26T05:36:21.441Z"
   },
   {
    "duration": 28,
    "start_time": "2022-01-26T05:36:21.460Z"
   },
   {
    "duration": 3028,
    "start_time": "2022-01-26T05:36:21.492Z"
   },
   {
    "duration": 5,
    "start_time": "2022-01-26T05:36:24.522Z"
   },
   {
    "duration": 17,
    "start_time": "2022-01-26T05:36:24.529Z"
   },
   {
    "duration": 290,
    "start_time": "2022-01-26T05:36:24.548Z"
   },
   {
    "duration": 9,
    "start_time": "2022-01-26T05:36:24.840Z"
   },
   {
    "duration": 5,
    "start_time": "2022-01-26T05:36:24.850Z"
   },
   {
    "duration": 15,
    "start_time": "2022-01-26T05:36:24.856Z"
   },
   {
    "duration": 8,
    "start_time": "2022-01-26T05:36:24.872Z"
   },
   {
    "duration": 392,
    "start_time": "2022-01-26T05:36:24.881Z"
   },
   {
    "duration": 9,
    "start_time": "2022-01-26T05:36:25.274Z"
   },
   {
    "duration": 740,
    "start_time": "2022-01-26T05:36:25.284Z"
   },
   {
    "duration": 7,
    "start_time": "2022-01-26T05:36:26.026Z"
   },
   {
    "duration": 12,
    "start_time": "2022-01-26T05:36:26.035Z"
   },
   {
    "duration": 3545,
    "start_time": "2022-01-26T05:36:26.049Z"
   },
   {
    "duration": 554,
    "start_time": "2022-01-26T05:36:29.596Z"
   },
   {
    "duration": 566,
    "start_time": "2022-01-26T05:36:30.152Z"
   },
   {
    "duration": 325,
    "start_time": "2022-01-26T05:36:30.720Z"
   },
   {
    "duration": 5,
    "start_time": "2022-01-26T05:36:31.047Z"
   },
   {
    "duration": 340,
    "start_time": "2022-01-26T05:36:31.054Z"
   },
   {
    "duration": 5,
    "start_time": "2022-01-26T05:36:31.396Z"
   },
   {
    "duration": 336,
    "start_time": "2022-01-26T05:36:31.407Z"
   },
   {
    "duration": 5,
    "start_time": "2022-01-26T05:36:31.745Z"
   },
   {
    "duration": 409,
    "start_time": "2022-01-26T05:36:31.751Z"
   },
   {
    "duration": 4,
    "start_time": "2022-01-26T05:36:32.162Z"
   },
   {
    "duration": 353,
    "start_time": "2022-01-26T05:36:32.168Z"
   },
   {
    "duration": 5,
    "start_time": "2022-01-26T05:36:32.523Z"
   },
   {
    "duration": 305,
    "start_time": "2022-01-26T05:36:32.529Z"
   },
   {
    "duration": 5,
    "start_time": "2022-01-26T05:36:32.836Z"
   },
   {
    "duration": 5,
    "start_time": "2022-01-26T05:36:44.030Z"
   },
   {
    "duration": 8,
    "start_time": "2022-01-26T05:47:03.962Z"
   },
   {
    "duration": 8,
    "start_time": "2022-01-26T05:47:19.390Z"
   },
   {
    "duration": 10,
    "start_time": "2022-01-26T05:48:24.613Z"
   },
   {
    "duration": 509,
    "start_time": "2022-01-26T06:08:01.174Z"
   },
   {
    "duration": 569,
    "start_time": "2022-01-26T06:08:25.958Z"
   },
   {
    "duration": 666,
    "start_time": "2022-01-26T06:08:41.645Z"
   },
   {
    "duration": 9,
    "start_time": "2022-01-26T06:35:39.824Z"
   },
   {
    "duration": 194,
    "start_time": "2022-01-26T06:36:20.877Z"
   },
   {
    "duration": 190,
    "start_time": "2022-01-26T06:36:37.664Z"
   },
   {
    "duration": 196,
    "start_time": "2022-01-26T06:36:54.150Z"
   },
   {
    "duration": 7,
    "start_time": "2022-01-26T06:39:46.881Z"
   },
   {
    "duration": 5,
    "start_time": "2022-01-26T06:43:31.759Z"
   },
   {
    "duration": 9,
    "start_time": "2022-01-26T06:49:14.029Z"
   },
   {
    "duration": 176,
    "start_time": "2022-01-26T06:49:45.740Z"
   },
   {
    "duration": 182,
    "start_time": "2022-01-26T06:49:59.527Z"
   },
   {
    "duration": 8,
    "start_time": "2022-01-26T06:50:49.369Z"
   },
   {
    "duration": 6,
    "start_time": "2022-01-26T06:51:51.109Z"
   },
   {
    "duration": 1112,
    "start_time": "2022-01-26T06:55:41.788Z"
   },
   {
    "duration": 44,
    "start_time": "2022-01-26T06:55:42.902Z"
   },
   {
    "duration": 12,
    "start_time": "2022-01-26T06:55:42.948Z"
   },
   {
    "duration": 23,
    "start_time": "2022-01-26T06:55:42.962Z"
   },
   {
    "duration": 7,
    "start_time": "2022-01-26T06:55:42.988Z"
   },
   {
    "duration": 24,
    "start_time": "2022-01-26T06:55:43.007Z"
   },
   {
    "duration": 15,
    "start_time": "2022-01-26T06:55:43.033Z"
   },
   {
    "duration": 10,
    "start_time": "2022-01-26T06:55:43.052Z"
   },
   {
    "duration": 5,
    "start_time": "2022-01-26T06:55:43.065Z"
   },
   {
    "duration": 52,
    "start_time": "2022-01-26T06:55:43.072Z"
   },
   {
    "duration": 11,
    "start_time": "2022-01-26T06:55:43.126Z"
   },
   {
    "duration": 437,
    "start_time": "2022-01-26T06:55:43.140Z"
   },
   {
    "duration": 6,
    "start_time": "2022-01-26T06:55:43.579Z"
   },
   {
    "duration": 24,
    "start_time": "2022-01-26T06:55:43.587Z"
   },
   {
    "duration": 12,
    "start_time": "2022-01-26T06:55:43.613Z"
   },
   {
    "duration": 11,
    "start_time": "2022-01-26T06:55:43.627Z"
   },
   {
    "duration": 2943,
    "start_time": "2022-01-26T06:55:43.640Z"
   },
   {
    "duration": 12,
    "start_time": "2022-01-26T06:55:46.585Z"
   },
   {
    "duration": 7,
    "start_time": "2022-01-26T06:55:46.608Z"
   },
   {
    "duration": 10,
    "start_time": "2022-01-26T06:55:46.617Z"
   },
   {
    "duration": 6,
    "start_time": "2022-01-26T06:55:46.629Z"
   },
   {
    "duration": 15,
    "start_time": "2022-01-26T06:55:46.637Z"
   },
   {
    "duration": 3171,
    "start_time": "2022-01-26T06:55:46.656Z"
   },
   {
    "duration": 5,
    "start_time": "2022-01-26T06:55:49.830Z"
   },
   {
    "duration": 14,
    "start_time": "2022-01-26T06:55:49.837Z"
   },
   {
    "duration": 311,
    "start_time": "2022-01-26T06:55:49.853Z"
   },
   {
    "duration": 10,
    "start_time": "2022-01-26T06:55:50.165Z"
   },
   {
    "duration": 8,
    "start_time": "2022-01-26T06:55:50.177Z"
   },
   {
    "duration": 27,
    "start_time": "2022-01-26T06:55:50.186Z"
   },
   {
    "duration": 10,
    "start_time": "2022-01-26T06:55:50.215Z"
   },
   {
    "duration": 395,
    "start_time": "2022-01-26T06:55:50.227Z"
   },
   {
    "duration": 8,
    "start_time": "2022-01-26T06:55:50.624Z"
   },
   {
    "duration": 781,
    "start_time": "2022-01-26T06:55:50.634Z"
   },
   {
    "duration": 8,
    "start_time": "2022-01-26T06:55:51.417Z"
   },
   {
    "duration": 13,
    "start_time": "2022-01-26T06:55:51.426Z"
   },
   {
    "duration": 3595,
    "start_time": "2022-01-26T06:55:51.441Z"
   },
   {
    "duration": 547,
    "start_time": "2022-01-26T06:55:55.039Z"
   },
   {
    "duration": 567,
    "start_time": "2022-01-26T06:55:55.588Z"
   },
   {
    "duration": 303,
    "start_time": "2022-01-26T06:55:56.157Z"
   },
   {
    "duration": 6,
    "start_time": "2022-01-26T06:55:56.462Z"
   },
   {
    "duration": 373,
    "start_time": "2022-01-26T06:55:56.469Z"
   },
   {
    "duration": 5,
    "start_time": "2022-01-26T06:55:56.845Z"
   },
   {
    "duration": 317,
    "start_time": "2022-01-26T06:55:56.852Z"
   },
   {
    "duration": 6,
    "start_time": "2022-01-26T06:55:57.171Z"
   },
   {
    "duration": 428,
    "start_time": "2022-01-26T06:55:57.179Z"
   },
   {
    "duration": 6,
    "start_time": "2022-01-26T06:55:57.609Z"
   },
   {
    "duration": 312,
    "start_time": "2022-01-26T06:55:57.617Z"
   },
   {
    "duration": 5,
    "start_time": "2022-01-26T06:55:57.931Z"
   },
   {
    "duration": 286,
    "start_time": "2022-01-26T06:55:57.938Z"
   },
   {
    "duration": 5,
    "start_time": "2022-01-26T06:55:58.226Z"
   },
   {
    "duration": 10,
    "start_time": "2022-01-26T06:55:58.233Z"
   },
   {
    "duration": 7,
    "start_time": "2022-01-26T06:55:58.245Z"
   },
   {
    "duration": 10,
    "start_time": "2022-01-26T06:55:58.254Z"
   },
   {
    "duration": 531,
    "start_time": "2022-01-26T06:55:58.266Z"
   },
   {
    "duration": 528,
    "start_time": "2022-01-26T06:55:58.798Z"
   },
   {
    "duration": 577,
    "start_time": "2022-01-26T06:55:59.328Z"
   },
   {
    "duration": 9,
    "start_time": "2022-01-26T06:55:59.908Z"
   },
   {
    "duration": 215,
    "start_time": "2022-01-26T06:55:59.919Z"
   },
   {
    "duration": 207,
    "start_time": "2022-01-26T06:56:00.136Z"
   },
   {
    "duration": 6,
    "start_time": "2022-01-26T06:56:00.345Z"
   },
   {
    "duration": 9,
    "start_time": "2022-01-26T06:56:00.353Z"
   },
   {
    "duration": 21,
    "start_time": "2022-01-26T06:56:00.363Z"
   },
   {
    "duration": 201,
    "start_time": "2022-01-26T06:56:00.386Z"
   },
   {
    "duration": 196,
    "start_time": "2022-01-26T06:56:00.589Z"
   },
   {
    "duration": 20,
    "start_time": "2022-01-26T06:56:00.787Z"
   },
   {
    "duration": 10,
    "start_time": "2022-01-26T06:56:00.809Z"
   },
   {
    "duration": 9,
    "start_time": "2022-01-26T06:56:55.808Z"
   },
   {
    "duration": 10,
    "start_time": "2022-01-26T06:57:01.282Z"
   },
   {
    "duration": 5,
    "start_time": "2022-01-26T06:57:12.960Z"
   },
   {
    "duration": 5,
    "start_time": "2022-01-26T06:57:20.613Z"
   },
   {
    "duration": 5,
    "start_time": "2022-01-26T06:57:27.180Z"
   },
   {
    "duration": 351,
    "start_time": "2022-01-26T06:57:36.491Z"
   },
   {
    "duration": 9,
    "start_time": "2022-01-26T06:57:51.963Z"
   },
   {
    "duration": 4,
    "start_time": "2022-01-26T06:57:59.527Z"
   },
   {
    "duration": 5,
    "start_time": "2022-01-26T06:58:11.214Z"
   },
   {
    "duration": 838,
    "start_time": "2022-01-27T06:32:31.056Z"
   },
   {
    "duration": 1048,
    "start_time": "2022-01-27T07:08:27.817Z"
   },
   {
    "duration": 35,
    "start_time": "2022-01-27T07:08:28.867Z"
   },
   {
    "duration": 13,
    "start_time": "2022-01-27T07:08:28.904Z"
   },
   {
    "duration": 19,
    "start_time": "2022-01-27T07:08:28.919Z"
   },
   {
    "duration": 4,
    "start_time": "2022-01-27T07:08:28.939Z"
   },
   {
    "duration": 14,
    "start_time": "2022-01-27T07:08:28.945Z"
   },
   {
    "duration": 13,
    "start_time": "2022-01-27T07:08:28.960Z"
   },
   {
    "duration": 9,
    "start_time": "2022-01-27T07:08:28.975Z"
   },
   {
    "duration": 5,
    "start_time": "2022-01-27T07:08:29.011Z"
   },
   {
    "duration": 21,
    "start_time": "2022-01-27T07:08:29.018Z"
   },
   {
    "duration": 10,
    "start_time": "2022-01-27T07:08:29.040Z"
   },
   {
    "duration": 410,
    "start_time": "2022-01-27T07:08:29.052Z"
   },
   {
    "duration": 4,
    "start_time": "2022-01-27T07:08:29.464Z"
   },
   {
    "duration": 15,
    "start_time": "2022-01-27T07:08:29.470Z"
   },
   {
    "duration": 7,
    "start_time": "2022-01-27T07:08:29.487Z"
   },
   {
    "duration": 22,
    "start_time": "2022-01-27T07:08:29.496Z"
   },
   {
    "duration": 2595,
    "start_time": "2022-01-27T07:08:29.520Z"
   },
   {
    "duration": 10,
    "start_time": "2022-01-27T07:08:32.116Z"
   },
   {
    "duration": 11,
    "start_time": "2022-01-27T07:08:32.128Z"
   },
   {
    "duration": 10,
    "start_time": "2022-01-27T07:08:32.140Z"
   },
   {
    "duration": 7,
    "start_time": "2022-01-27T07:08:32.151Z"
   },
   {
    "duration": 13,
    "start_time": "2022-01-27T07:08:32.160Z"
   },
   {
    "duration": 2600,
    "start_time": "2022-01-27T07:08:32.175Z"
   },
   {
    "duration": 4,
    "start_time": "2022-01-27T07:08:34.776Z"
   },
   {
    "duration": 14,
    "start_time": "2022-01-27T07:08:34.782Z"
   },
   {
    "duration": 257,
    "start_time": "2022-01-27T07:08:34.797Z"
   },
   {
    "duration": 9,
    "start_time": "2022-01-27T07:08:35.057Z"
   },
   {
    "duration": 5,
    "start_time": "2022-01-27T07:08:35.069Z"
   },
   {
    "duration": 19,
    "start_time": "2022-01-27T07:08:35.076Z"
   },
   {
    "duration": 17,
    "start_time": "2022-01-27T07:08:35.097Z"
   },
   {
    "duration": 357,
    "start_time": "2022-01-27T07:08:35.115Z"
   },
   {
    "duration": 8,
    "start_time": "2022-01-27T07:08:35.473Z"
   },
   {
    "duration": 692,
    "start_time": "2022-01-27T07:08:35.482Z"
   },
   {
    "duration": 6,
    "start_time": "2022-01-27T07:08:36.176Z"
   },
   {
    "duration": 9,
    "start_time": "2022-01-27T07:08:36.184Z"
   },
   {
    "duration": 3203,
    "start_time": "2022-01-27T07:08:36.194Z"
   },
   {
    "duration": 498,
    "start_time": "2022-01-27T07:08:39.399Z"
   },
   {
    "duration": 501,
    "start_time": "2022-01-27T07:08:39.899Z"
   },
   {
    "duration": 311,
    "start_time": "2022-01-27T07:08:40.402Z"
   },
   {
    "duration": 6,
    "start_time": "2022-01-27T07:08:40.714Z"
   },
   {
    "duration": 284,
    "start_time": "2022-01-27T07:08:40.721Z"
   },
   {
    "duration": 4,
    "start_time": "2022-01-27T07:08:41.012Z"
   },
   {
    "duration": 288,
    "start_time": "2022-01-27T07:08:41.018Z"
   },
   {
    "duration": 8,
    "start_time": "2022-01-27T07:08:41.307Z"
   },
   {
    "duration": 373,
    "start_time": "2022-01-27T07:08:41.317Z"
   },
   {
    "duration": 4,
    "start_time": "2022-01-27T07:08:41.691Z"
   },
   {
    "duration": 292,
    "start_time": "2022-01-27T07:08:41.697Z"
   },
   {
    "duration": 5,
    "start_time": "2022-01-27T07:08:41.990Z"
   },
   {
    "duration": 288,
    "start_time": "2022-01-27T07:08:41.996Z"
   },
   {
    "duration": 4,
    "start_time": "2022-01-27T07:08:42.286Z"
   },
   {
    "duration": 22,
    "start_time": "2022-01-27T07:08:42.291Z"
   },
   {
    "duration": 6,
    "start_time": "2022-01-27T07:08:42.314Z"
   },
   {
    "duration": 7,
    "start_time": "2022-01-27T07:08:42.321Z"
   },
   {
    "duration": 449,
    "start_time": "2022-01-27T07:08:42.330Z"
   },
   {
    "duration": 463,
    "start_time": "2022-01-27T07:08:42.781Z"
   },
   {
    "duration": 523,
    "start_time": "2022-01-27T07:08:43.245Z"
   },
   {
    "duration": 8,
    "start_time": "2022-01-27T07:08:43.770Z"
   },
   {
    "duration": 178,
    "start_time": "2022-01-27T07:08:43.780Z"
   },
   {
    "duration": 182,
    "start_time": "2022-01-27T07:08:43.960Z"
   },
   {
    "duration": 6,
    "start_time": "2022-01-27T07:08:44.144Z"
   },
   {
    "duration": 9,
    "start_time": "2022-01-27T07:08:44.152Z"
   },
   {
    "duration": 8,
    "start_time": "2022-01-27T07:08:44.163Z"
   },
   {
    "duration": 182,
    "start_time": "2022-01-27T07:08:44.172Z"
   },
   {
    "duration": 174,
    "start_time": "2022-01-27T07:08:44.356Z"
   },
   {
    "duration": 6,
    "start_time": "2022-01-27T07:08:44.532Z"
   },
   {
    "duration": 4,
    "start_time": "2022-01-27T07:08:44.540Z"
   },
   {
    "duration": 974,
    "start_time": "2022-01-29T04:55:56.015Z"
   },
   {
    "duration": 34,
    "start_time": "2022-01-29T04:55:56.991Z"
   },
   {
    "duration": 8,
    "start_time": "2022-01-29T04:55:57.027Z"
   },
   {
    "duration": 14,
    "start_time": "2022-01-29T04:55:57.036Z"
   },
   {
    "duration": 3,
    "start_time": "2022-01-29T04:55:57.051Z"
   },
   {
    "duration": 19,
    "start_time": "2022-01-29T04:55:57.055Z"
   },
   {
    "duration": 10,
    "start_time": "2022-01-29T04:55:57.075Z"
   },
   {
    "duration": 5,
    "start_time": "2022-01-29T04:55:57.087Z"
   },
   {
    "duration": 3,
    "start_time": "2022-01-29T04:55:57.094Z"
   },
   {
    "duration": 15,
    "start_time": "2022-01-29T04:55:57.099Z"
   },
   {
    "duration": 10,
    "start_time": "2022-01-29T04:55:57.115Z"
   },
   {
    "duration": 397,
    "start_time": "2022-01-29T04:55:57.126Z"
   },
   {
    "duration": 4,
    "start_time": "2022-01-29T04:55:57.525Z"
   },
   {
    "duration": 10,
    "start_time": "2022-01-29T04:55:57.530Z"
   },
   {
    "duration": 5,
    "start_time": "2022-01-29T04:55:57.541Z"
   },
   {
    "duration": 25,
    "start_time": "2022-01-29T04:55:57.547Z"
   },
   {
    "duration": 2547,
    "start_time": "2022-01-29T04:55:57.573Z"
   },
   {
    "duration": 9,
    "start_time": "2022-01-29T04:56:00.121Z"
   },
   {
    "duration": 14,
    "start_time": "2022-01-29T04:56:00.131Z"
   },
   {
    "duration": 14,
    "start_time": "2022-01-29T04:56:00.146Z"
   },
   {
    "duration": 10,
    "start_time": "2022-01-29T04:56:00.161Z"
   },
   {
    "duration": 9,
    "start_time": "2022-01-29T04:56:00.173Z"
   },
   {
    "duration": 3107,
    "start_time": "2022-01-29T04:56:00.185Z"
   },
   {
    "duration": 4,
    "start_time": "2022-01-29T04:56:03.294Z"
   },
   {
    "duration": 9,
    "start_time": "2022-01-29T04:56:03.300Z"
   },
   {
    "duration": 261,
    "start_time": "2022-01-29T04:56:03.310Z"
   },
   {
    "duration": 8,
    "start_time": "2022-01-29T04:56:03.573Z"
   },
   {
    "duration": 3,
    "start_time": "2022-01-29T04:56:03.582Z"
   },
   {
    "duration": 12,
    "start_time": "2022-01-29T04:56:03.587Z"
   },
   {
    "duration": 4,
    "start_time": "2022-01-29T04:56:03.601Z"
   },
   {
    "duration": 340,
    "start_time": "2022-01-29T04:56:03.606Z"
   },
   {
    "duration": 7,
    "start_time": "2022-01-29T04:56:03.948Z"
   },
   {
    "duration": 630,
    "start_time": "2022-01-29T04:56:03.956Z"
   },
   {
    "duration": 6,
    "start_time": "2022-01-29T04:56:36.960Z"
   },
   {
    "duration": 2,
    "start_time": "2022-01-29T04:58:19.231Z"
   },
   {
    "duration": 37,
    "start_time": "2022-01-29T04:58:19.235Z"
   },
   {
    "duration": 8,
    "start_time": "2022-01-29T04:58:19.274Z"
   },
   {
    "duration": 11,
    "start_time": "2022-01-29T04:58:19.284Z"
   },
   {
    "duration": 3,
    "start_time": "2022-01-29T04:58:19.296Z"
   },
   {
    "duration": 8,
    "start_time": "2022-01-29T04:58:19.301Z"
   },
   {
    "duration": 11,
    "start_time": "2022-01-29T04:58:19.311Z"
   },
   {
    "duration": 6,
    "start_time": "2022-01-29T04:58:19.323Z"
   },
   {
    "duration": 4,
    "start_time": "2022-01-29T04:58:19.331Z"
   },
   {
    "duration": 49,
    "start_time": "2022-01-29T04:58:19.336Z"
   },
   {
    "duration": 7,
    "start_time": "2022-01-29T04:58:19.387Z"
   },
   {
    "duration": 370,
    "start_time": "2022-01-29T04:58:19.396Z"
   },
   {
    "duration": 4,
    "start_time": "2022-01-29T04:58:19.768Z"
   },
   {
    "duration": 10,
    "start_time": "2022-01-29T04:58:19.773Z"
   },
   {
    "duration": 5,
    "start_time": "2022-01-29T04:58:19.784Z"
   },
   {
    "duration": 13,
    "start_time": "2022-01-29T04:58:19.790Z"
   },
   {
    "duration": 2564,
    "start_time": "2022-01-29T04:58:19.804Z"
   },
   {
    "duration": 9,
    "start_time": "2022-01-29T04:58:22.369Z"
   },
   {
    "duration": 8,
    "start_time": "2022-01-29T04:58:22.381Z"
   },
   {
    "duration": 4,
    "start_time": "2022-01-29T04:58:22.391Z"
   },
   {
    "duration": 6,
    "start_time": "2022-01-29T04:58:22.397Z"
   },
   {
    "duration": 10,
    "start_time": "2022-01-29T04:58:22.404Z"
   },
   {
    "duration": 2946,
    "start_time": "2022-01-29T04:58:22.415Z"
   },
   {
    "duration": 9,
    "start_time": "2022-01-29T04:58:25.363Z"
   },
   {
    "duration": 10,
    "start_time": "2022-01-29T04:58:25.373Z"
   },
   {
    "duration": 298,
    "start_time": "2022-01-29T04:58:25.385Z"
   },
   {
    "duration": 9,
    "start_time": "2022-01-29T04:58:25.684Z"
   },
   {
    "duration": 3,
    "start_time": "2022-01-29T04:58:25.695Z"
   },
   {
    "duration": 12,
    "start_time": "2022-01-29T04:58:25.700Z"
   },
   {
    "duration": 4,
    "start_time": "2022-01-29T04:58:25.713Z"
   },
   {
    "duration": 375,
    "start_time": "2022-01-29T04:58:25.718Z"
   },
   {
    "duration": 7,
    "start_time": "2022-01-29T04:58:26.094Z"
   },
   {
    "duration": 683,
    "start_time": "2022-01-29T04:58:26.103Z"
   },
   {
    "duration": 6,
    "start_time": "2022-01-29T04:58:40.903Z"
   },
   {
    "duration": 5,
    "start_time": "2022-01-29T04:58:51.353Z"
   },
   {
    "duration": 7,
    "start_time": "2022-01-29T04:58:55.400Z"
   },
   {
    "duration": 1884,
    "start_time": "2022-01-29T04:59:05.862Z"
   },
   {
    "duration": 113,
    "start_time": "2022-01-29T05:01:23.997Z"
   },
   {
    "duration": 3,
    "start_time": "2022-01-29T05:01:29.676Z"
   },
   {
    "duration": 378,
    "start_time": "2022-01-29T05:02:08.663Z"
   },
   {
    "duration": 431,
    "start_time": "2022-01-29T05:02:24.083Z"
   },
   {
    "duration": 301,
    "start_time": "2022-01-29T05:03:27.657Z"
   },
   {
    "duration": 5,
    "start_time": "2022-01-29T05:03:32.493Z"
   },
   {
    "duration": 248,
    "start_time": "2022-01-29T05:03:36.992Z"
   },
   {
    "duration": 332,
    "start_time": "2022-01-29T05:03:52.002Z"
   },
   {
    "duration": 5,
    "start_time": "2022-01-29T05:03:57.901Z"
   },
   {
    "duration": 5,
    "start_time": "2022-01-29T05:04:18.321Z"
   },
   {
    "duration": 267,
    "start_time": "2022-01-29T05:04:33.840Z"
   },
   {
    "duration": 4,
    "start_time": "2022-01-29T05:04:46.573Z"
   },
   {
    "duration": 254,
    "start_time": "2022-01-29T05:04:48.885Z"
   },
   {
    "duration": 5,
    "start_time": "2022-01-29T05:04:54.044Z"
   },
   {
    "duration": 287,
    "start_time": "2022-01-29T05:04:56.354Z"
   },
   {
    "duration": 5,
    "start_time": "2022-01-29T05:05:03.030Z"
   },
   {
    "duration": 245,
    "start_time": "2022-01-29T05:05:04.880Z"
   },
   {
    "duration": 4,
    "start_time": "2022-01-29T05:05:09.691Z"
   },
   {
    "duration": 7,
    "start_time": "2022-01-29T05:06:15.095Z"
   },
   {
    "duration": 6,
    "start_time": "2022-01-29T05:06:17.415Z"
   },
   {
    "duration": 8,
    "start_time": "2022-01-29T05:06:21.564Z"
   },
   {
    "duration": 277,
    "start_time": "2022-01-29T05:52:00.485Z"
   },
   {
    "duration": 268,
    "start_time": "2022-01-29T05:52:21.225Z"
   },
   {
    "duration": 345,
    "start_time": "2022-01-29T05:52:51.417Z"
   },
   {
    "duration": 7,
    "start_time": "2022-01-29T05:57:32.131Z"
   },
   {
    "duration": 145,
    "start_time": "2022-01-29T05:57:34.884Z"
   },
   {
    "duration": 161,
    "start_time": "2022-01-29T05:57:42.259Z"
   },
   {
    "duration": 4,
    "start_time": "2022-01-29T05:57:51.900Z"
   },
   {
    "duration": 6,
    "start_time": "2022-01-29T05:58:25.204Z"
   },
   {
    "duration": 6,
    "start_time": "2022-01-29T06:00:33.482Z"
   },
   {
    "duration": 149,
    "start_time": "2022-01-29T06:00:42.994Z"
   },
   {
    "duration": 154,
    "start_time": "2022-01-29T06:00:53.715Z"
   },
   {
    "duration": 154,
    "start_time": "2022-01-29T06:01:04.666Z"
   },
   {
    "duration": 146,
    "start_time": "2022-01-29T06:01:10.497Z"
   },
   {
    "duration": 5,
    "start_time": "2022-01-29T06:01:16.390Z"
   },
   {
    "duration": 4,
    "start_time": "2022-01-29T06:01:22.794Z"
   },
   {
    "duration": 1041,
    "start_time": "2022-01-29T06:12:00.455Z"
   },
   {
    "duration": 37,
    "start_time": "2022-01-29T06:12:01.497Z"
   },
   {
    "duration": 8,
    "start_time": "2022-01-29T06:12:01.536Z"
   },
   {
    "duration": 14,
    "start_time": "2022-01-29T06:12:01.546Z"
   },
   {
    "duration": 11,
    "start_time": "2022-01-29T06:12:01.561Z"
   },
   {
    "duration": 14,
    "start_time": "2022-01-29T06:12:01.573Z"
   },
   {
    "duration": 11,
    "start_time": "2022-01-29T06:12:01.588Z"
   },
   {
    "duration": 6,
    "start_time": "2022-01-29T06:12:01.601Z"
   },
   {
    "duration": 4,
    "start_time": "2022-01-29T06:12:01.609Z"
   },
   {
    "duration": 16,
    "start_time": "2022-01-29T06:12:01.615Z"
   },
   {
    "duration": 14,
    "start_time": "2022-01-29T06:12:01.632Z"
   },
   {
    "duration": 369,
    "start_time": "2022-01-29T06:12:01.647Z"
   },
   {
    "duration": 4,
    "start_time": "2022-01-29T06:12:02.018Z"
   },
   {
    "duration": 9,
    "start_time": "2022-01-29T06:12:02.023Z"
   },
   {
    "duration": 5,
    "start_time": "2022-01-29T06:12:02.034Z"
   },
   {
    "duration": 8,
    "start_time": "2022-01-29T06:12:02.041Z"
   },
   {
    "duration": 2492,
    "start_time": "2022-01-29T06:12:02.050Z"
   },
   {
    "duration": 8,
    "start_time": "2022-01-29T06:12:04.544Z"
   },
   {
    "duration": 9,
    "start_time": "2022-01-29T06:12:04.554Z"
   },
   {
    "duration": 9,
    "start_time": "2022-01-29T06:12:04.564Z"
   },
   {
    "duration": 5,
    "start_time": "2022-01-29T06:12:04.574Z"
   },
   {
    "duration": 9,
    "start_time": "2022-01-29T06:12:04.580Z"
   },
   {
    "duration": 2514,
    "start_time": "2022-01-29T06:12:04.592Z"
   },
   {
    "duration": 4,
    "start_time": "2022-01-29T06:12:07.108Z"
   },
   {
    "duration": 9,
    "start_time": "2022-01-29T06:12:07.113Z"
   },
   {
    "duration": 264,
    "start_time": "2022-01-29T06:12:07.123Z"
   },
   {
    "duration": 8,
    "start_time": "2022-01-29T06:12:07.388Z"
   },
   {
    "duration": 4,
    "start_time": "2022-01-29T06:12:07.397Z"
   },
   {
    "duration": 12,
    "start_time": "2022-01-29T06:12:07.402Z"
   },
   {
    "duration": 5,
    "start_time": "2022-01-29T06:12:07.416Z"
   },
   {
    "duration": 326,
    "start_time": "2022-01-29T06:12:07.423Z"
   },
   {
    "duration": 6,
    "start_time": "2022-01-29T06:12:07.751Z"
   },
   {
    "duration": 619,
    "start_time": "2022-01-29T06:12:07.759Z"
   },
   {
    "duration": 5,
    "start_time": "2022-01-29T06:12:08.380Z"
   },
   {
    "duration": 7,
    "start_time": "2022-01-29T06:12:08.387Z"
   },
   {
    "duration": 1898,
    "start_time": "2022-01-29T06:12:08.395Z"
   },
   {
    "duration": 454,
    "start_time": "2022-01-29T06:12:10.294Z"
   },
   {
    "duration": 386,
    "start_time": "2022-01-29T06:12:10.750Z"
   },
   {
    "duration": 280,
    "start_time": "2022-01-29T06:12:11.138Z"
   },
   {
    "duration": 4,
    "start_time": "2022-01-29T06:12:11.419Z"
   },
   {
    "duration": 277,
    "start_time": "2022-01-29T06:12:11.425Z"
   },
   {
    "duration": 4,
    "start_time": "2022-01-29T06:12:11.704Z"
   },
   {
    "duration": 250,
    "start_time": "2022-01-29T06:12:11.709Z"
   },
   {
    "duration": 11,
    "start_time": "2022-01-29T06:12:11.960Z"
   },
   {
    "duration": 268,
    "start_time": "2022-01-29T06:12:11.972Z"
   },
   {
    "duration": 4,
    "start_time": "2022-01-29T06:12:12.242Z"
   },
   {
    "duration": 274,
    "start_time": "2022-01-29T06:12:12.248Z"
   },
   {
    "duration": 5,
    "start_time": "2022-01-29T06:12:12.523Z"
   },
   {
    "duration": 250,
    "start_time": "2022-01-29T06:12:12.530Z"
   },
   {
    "duration": 4,
    "start_time": "2022-01-29T06:12:12.782Z"
   },
   {
    "duration": 7,
    "start_time": "2022-01-29T06:12:12.787Z"
   },
   {
    "duration": 5,
    "start_time": "2022-01-29T06:12:12.796Z"
   },
   {
    "duration": 6,
    "start_time": "2022-01-29T06:12:12.803Z"
   },
   {
    "duration": 362,
    "start_time": "2022-01-29T06:12:12.811Z"
   },
   {
    "duration": 281,
    "start_time": "2022-01-29T06:12:13.174Z"
   },
   {
    "duration": 291,
    "start_time": "2022-01-29T06:12:13.457Z"
   },
   {
    "duration": 6,
    "start_time": "2022-01-29T06:12:13.749Z"
   },
   {
    "duration": 155,
    "start_time": "2022-01-29T06:12:13.756Z"
   },
   {
    "duration": 159,
    "start_time": "2022-01-29T06:12:13.912Z"
   },
   {
    "duration": 4,
    "start_time": "2022-01-29T06:12:14.073Z"
   },
   {
    "duration": 15,
    "start_time": "2022-01-29T06:12:14.079Z"
   },
   {
    "duration": 14,
    "start_time": "2022-01-29T06:12:14.096Z"
   },
   {
    "duration": 156,
    "start_time": "2022-01-29T06:12:14.111Z"
   },
   {
    "duration": 147,
    "start_time": "2022-01-29T06:12:14.269Z"
   },
   {
    "duration": 4,
    "start_time": "2022-01-29T06:12:14.417Z"
   },
   {
    "duration": 4,
    "start_time": "2022-01-29T06:12:14.423Z"
   }
  ],
  "kernelspec": {
   "display_name": "Python 3 (ipykernel)",
   "language": "python",
   "name": "python3"
  },
  "language_info": {
   "codemirror_mode": {
    "name": "ipython",
    "version": 3
   },
   "file_extension": ".py",
   "mimetype": "text/x-python",
   "name": "python",
   "nbconvert_exporter": "python",
   "pygments_lexer": "ipython3",
   "version": "3.9.7"
  },
  "toc": {
   "base_numbering": 1,
   "nav_menu": {},
   "number_sections": false,
   "sideBar": true,
   "skip_h1_title": false,
   "title_cell": "Table of Contents",
   "title_sidebar": "Contents",
   "toc_cell": false,
   "toc_position": {
    "height": "calc(100% - 180px)",
    "left": "10px",
    "top": "150px",
    "width": "165px"
   },
   "toc_section_display": true,
   "toc_window_display": false
  }
 },
 "nbformat": 4,
 "nbformat_minor": 2
}
