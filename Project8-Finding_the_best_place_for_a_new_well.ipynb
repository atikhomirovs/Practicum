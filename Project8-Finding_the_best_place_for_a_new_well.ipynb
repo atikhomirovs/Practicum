{
 "cells": [
  {
   "cell_type": "markdown",
   "metadata": {},
   "source": [
    "#  Finding the best place for a new well"
   ]
  },
  {
   "cell_type": "markdown",
   "metadata": {},
   "source": [
    "In this project, we will use machine learning algorithms to develop a model that would analyze oil well parameters in three regions and will help to select a region with the highest profit."
   ]
  },
  {
   "cell_type": "markdown",
   "metadata": {},
   "source": [
    "# Contents\n",
    "\n",
    "* [Data loading and preparation]()\n",
    "* [Model training and testing]()    \n",
    "* [Preparation for profit calculation]()\n",
    "* [Profit calculation]()\n",
    "* [Calculating risks and profit for each region]()\n",
    "* [General Conclusion]()"
   ]
  },
  {
   "cell_type": "markdown",
   "metadata": {},
   "source": [
    "# Data loading and preparation"
   ]
  },
  {
   "cell_type": "markdown",
   "metadata": {},
   "source": [
    "First of all, will load the data and the libraries that we will use in this project."
   ]
  },
  {
   "cell_type": "code",
   "execution_count": 1,
   "metadata": {},
   "outputs": [],
   "source": [
    "# Loading all required libraries\n",
    "import pandas as pd\n",
    "from sklearn.linear_model import LinearRegression\n",
    "from sklearn.model_selection import train_test_split \n",
    "from sklearn.metrics import mean_squared_error \n",
    "from numpy.random import RandomState"
   ]
  },
  {
   "cell_type": "code",
   "execution_count": 2,
   "metadata": {},
   "outputs": [],
   "source": [
    "# Loading the data files into DataFrames\n",
    "region0=pd.read_csv('/datasets/geo_data_0.csv')\n",
    "region1=pd.read_csv('/datasets/geo_data_1.csv')\n",
    "region2=pd.read_csv('/datasets/geo_data_2.csv')"
   ]
  },
  {
   "cell_type": "markdown",
   "metadata": {},
   "source": [
    "We will display general data info the data."
   ]
  },
  {
   "cell_type": "code",
   "execution_count": 3,
   "metadata": {},
   "outputs": [
    {
     "name": "stdout",
     "output_type": "stream",
     "text": [
      "<class 'pandas.core.frame.DataFrame'>\n",
      "RangeIndex: 100000 entries, 0 to 99999\n",
      "Data columns (total 5 columns):\n",
      " #   Column   Non-Null Count   Dtype  \n",
      "---  ------   --------------   -----  \n",
      " 0   id       100000 non-null  object \n",
      " 1   f0       100000 non-null  float64\n",
      " 2   f1       100000 non-null  float64\n",
      " 3   f2       100000 non-null  float64\n",
      " 4   product  100000 non-null  float64\n",
      "dtypes: float64(4), object(1)\n",
      "memory usage: 3.8+ MB\n",
      "None\n",
      "<class 'pandas.core.frame.DataFrame'>\n",
      "RangeIndex: 100000 entries, 0 to 99999\n",
      "Data columns (total 5 columns):\n",
      " #   Column   Non-Null Count   Dtype  \n",
      "---  ------   --------------   -----  \n",
      " 0   id       100000 non-null  object \n",
      " 1   f0       100000 non-null  float64\n",
      " 2   f1       100000 non-null  float64\n",
      " 3   f2       100000 non-null  float64\n",
      " 4   product  100000 non-null  float64\n",
      "dtypes: float64(4), object(1)\n",
      "memory usage: 3.8+ MB\n",
      "None\n",
      "<class 'pandas.core.frame.DataFrame'>\n",
      "RangeIndex: 100000 entries, 0 to 99999\n",
      "Data columns (total 5 columns):\n",
      " #   Column   Non-Null Count   Dtype  \n",
      "---  ------   --------------   -----  \n",
      " 0   id       100000 non-null  object \n",
      " 1   f0       100000 non-null  float64\n",
      " 2   f1       100000 non-null  float64\n",
      " 3   f2       100000 non-null  float64\n",
      " 4   product  100000 non-null  float64\n",
      "dtypes: float64(4), object(1)\n",
      "memory usage: 3.8+ MB\n"
     ]
    }
   ],
   "source": [
    "# printing the general/summary information about the region0 DataFrame\n",
    "print(region0.info())\n",
    "\n",
    "# printing the general/summary information about the region1 DataFrame\n",
    "print(region1.info())\n",
    "\n",
    "# printing the general/summary information about the region2 DataFrame\n",
    "region2.info()"
   ]
  },
  {
   "cell_type": "markdown",
   "metadata": {},
   "source": [
    "All columns in all data sets have the correct type and there are no missing values. So, we can start to build our model."
   ]
  },
  {
   "cell_type": "markdown",
   "metadata": {},
   "source": [
    "# Model training and testing"
   ]
  },
  {
   "cell_type": "markdown",
   "metadata": {},
   "source": [
    "At this stage, we will train and test the model for each region. For each region, we will split the data into target and features. Then we will divide target and features into a training set and validation set at a ratio of 75:25. Next, we will train the model on the training set and make predictions for the validation set. And finally, we will calculate the average volume of predicted reserves and model RMSE."
   ]
  },
  {
   "cell_type": "markdown",
   "metadata": {},
   "source": [
    "## Region 0"
   ]
  },
  {
   "cell_type": "code",
   "execution_count": 4,
   "metadata": {},
   "outputs": [
    {
     "name": "stdout",
     "output_type": "stream",
     "text": [
      "Average volume of predicted reserves: 92.59256778438035\n",
      "Model RMSE: 37.5794217150813\n"
     ]
    }
   ],
   "source": [
    "# spliting the data into target and features\n",
    "r0_target=region0['product']\n",
    "r0_features=region0[['f0','f1','f2']]\n",
    "\n",
    "#dividing target and features into a training set and validation set at a ratio of 75:25\n",
    "r0_target_train, r0_target_valid,r0_features_train, r0_features_valid  = train_test_split(r0_target, r0_features, test_size=0.25, random_state=12345) \n",
    "\n",
    "#training model\n",
    "model = LinearRegression()\n",
    "model.fit(r0_features_train, r0_target_train)\n",
    "\n",
    "#making predictions for the validation set\n",
    "r0_predicted_valid = model.predict(r0_features_valid)\n",
    "\n",
    "#calculating average volume of predicted reserves and model RMSE\n",
    "average=r0_predicted_valid.mean()\n",
    "mse = mean_squared_error(r0_target_valid, r0_predicted_valid)\n",
    "rmse=mse**0.5\n",
    "print(f'Average volume of predicted reserves: {average}')\n",
    "print(f'Model RMSE: {rmse}')"
   ]
  },
  {
   "cell_type": "markdown",
   "metadata": {},
   "source": [
    "## Region 1"
   ]
  },
  {
   "cell_type": "code",
   "execution_count": 5,
   "metadata": {},
   "outputs": [
    {
     "name": "stdout",
     "output_type": "stream",
     "text": [
      "Average volume of predicted reserves:68.728546895446\n",
      "Model RMSE:0.893099286775617\n"
     ]
    }
   ],
   "source": [
    "# spliting the data into target and features\n",
    "r1_target=region1['product']\n",
    "r1_features=region1[['f0','f1','f2']]\n",
    "\n",
    "#dividing target and features into a training set and validation set at a ratio of 75:25\n",
    "r1_target_train, r1_target_valid,r1_features_train, r1_features_valid  = train_test_split(r1_target, r1_features, test_size=0.25, random_state=12345) \n",
    "\n",
    "#training model\n",
    "model = LinearRegression()\n",
    "model.fit(r1_features_train, r1_target_train)\n",
    "\n",
    "#making predictions for the validation set\n",
    "r1_predicted_valid = model.predict(r1_features_valid)\n",
    "\n",
    "#calculating average volume of predicted reserves and model RMSE\n",
    "average=r1_predicted_valid.mean()\n",
    "mse = mean_squared_error(r1_target_valid, r1_predicted_valid)\n",
    "rmse=mse**0.5\n",
    "print(f'Average volume of predicted reserves:{average}')\n",
    "print(f'Model RMSE:{rmse}')"
   ]
  },
  {
   "cell_type": "markdown",
   "metadata": {},
   "source": [
    "## Region 2"
   ]
  },
  {
   "cell_type": "code",
   "execution_count": 6,
   "metadata": {},
   "outputs": [
    {
     "name": "stdout",
     "output_type": "stream",
     "text": [
      "Average volume of predicted reserves:94.96504596800489\n",
      "Model RMSE:40.02970873393434\n"
     ]
    }
   ],
   "source": [
    "# spliting the data into target and features\n",
    "r2_target=region2['product']\n",
    "r2_features=region2[['f0','f1','f2']]\n",
    "\n",
    "#dividing target and features into a training set and validation set at a ratio of 75:25\n",
    "r2_target_train, r2_target_valid,r2_features_train, r2_features_valid  = train_test_split(r2_target, r2_features, test_size=0.25, random_state=12345) \n",
    "\n",
    "#training model\n",
    "model = LinearRegression()\n",
    "model.fit(r2_features_train, r2_target_train)\n",
    "\n",
    "#making predictions for the validation set\n",
    "r2_predicted_valid = model.predict(r2_features_valid)\n",
    "\n",
    "#calculating average volume of predicted reserves and model RMSE\n",
    "average=r2_predicted_valid.mean()\n",
    "mse = mean_squared_error(r2_target_valid, r2_predicted_valid)\n",
    "rmse=mse**0.5\n",
    "print(f'Average volume of predicted reserves:{average}')\n",
    "print(f'Model RMSE:{rmse}')"
   ]
  },
  {
   "cell_type": "markdown",
   "metadata": {},
   "source": [
    "As can be seen, regions 0 and 2 have a quite similar average volume of predicted reserves and RMSE. While region 1 average volume of predicted reserves is much lower, the model for this region is way more accurate than for two other regions."
   ]
  },
  {
   "cell_type": "markdown",
   "metadata": {},
   "source": [
    "# Preparation for profit calculation\n",
    "\n",
    "Here we will make preparation for profit calculation. We will define variables to store all key values for calculations. Then we will calculate the volume of reserves sufficient for developing a new well without losses. And finally, we will compare the obtained value with the average volume of reserves in each region.\n",
    "\n",
    "When exploring the region, a study of 500 points is carried out with picking the best 200 points for the profit calculation. The budget for the development of 200 oil wells is 100 USD million. One barrel of raw materials brings 4.5 USD of revenue The revenue from one unit of product is 4,500 dollars (volume of reserves is in thousand barrels)."
   ]
  },
  {
   "cell_type": "code",
   "execution_count": 7,
   "metadata": {},
   "outputs": [
    {
     "data": {
      "text/plain": [
       "111.11111111111111"
      ]
     },
     "execution_count": 7,
     "metadata": {},
     "output_type": "execute_result"
    }
   ],
   "source": [
    "#defining variables to store all key values for calculations\n",
    "budget=100000000\n",
    "points=500\n",
    "wells_number=200\n",
    "unit_revenue=4500\n",
    "\n",
    "#calculation budget for 1 well\n",
    "well_budget=budget/200\n",
    "\n",
    "#calculating the volume of reserves sufficient for developing a new well without losses\n",
    "desired_units_number=well_budget/unit_revenue\n",
    "desired_units_number\n"
   ]
  },
  {
   "cell_type": "markdown",
   "metadata": {},
   "source": [
    "So, a well should contain more than 111 thousand barrels for developing without losses."
   ]
  },
  {
   "cell_type": "code",
   "execution_count": 8,
   "metadata": {},
   "outputs": [
    {
     "name": "stdout",
     "output_type": "stream",
     "text": [
      "Average volume of reserves in region 0: 92.50000000000001\n",
      "Average volume of reserves in region 1: 68.82500000000002\n",
      "Average volume of reserves in region 2: 95.00000000000004\n"
     ]
    }
   ],
   "source": [
    "#calculating average volume of reserves in each region\n",
    "print(f'Average volume of reserves in region 0: {r0_target.mean()}')\n",
    "print(f'Average volume of reserves in region 1: {r1_target.mean()}')\n",
    "print(f'Average volume of reserves in region 2: {r2_target.mean()}')"
   ]
  },
  {
   "cell_type": "markdown",
   "metadata": {},
   "source": [
    "As can be seen, the average volume of reserves in all regions is lower than the calculated volume of reserves sufficient for developing a new well without losses. But each region has 10000 points and we only need to develop 200 well."
   ]
  },
  {
   "cell_type": "markdown",
   "metadata": {},
   "source": [
    "# Profit calculation\n",
    "\n",
    "At this step, we will write a function to calculate profit from a set of selected oil wells and model predictions. The function will pick 200 wells with the highest values of predictions. For these 200 wells, the function will summarize the actual target volume of reserves and subtract the budget required for 200 well development."
   ]
  },
  {
   "cell_type": "code",
   "execution_count": 9,
   "metadata": {},
   "outputs": [],
   "source": [
    "# writing a function to calculate profit from a set of selected oil wells\n",
    "def profit(target, predicted):\n",
    "    \n",
    "#convirting predicted values to Series \n",
    "    predicted = pd.Series(predicted)   \n",
    "    \n",
    "#resetting index for target, so it matches the index for prediction\n",
    "    target = target.reset_index(drop=True)\n",
    "\n",
    "#getting indices of predicted values Series sorted in descending order\n",
    "    indices = predicted.sort_values(ascending=False).index \n",
    "    \n",
    "#culculating profit for 200 wells with highest values of predictions \n",
    "    return target.loc[indices][:200].sum()*unit_revenue-budget\n",
    "    "
   ]
  },
  {
   "cell_type": "markdown",
   "metadata": {},
   "source": [
    "We will test the function on the whole validation sets."
   ]
  },
  {
   "cell_type": "code",
   "execution_count": 10,
   "metadata": {},
   "outputs": [
    {
     "name": "stdout",
     "output_type": "stream",
     "text": [
      "33208260.43139851\n",
      "24150866.966815114\n",
      "27103499.635998324\n"
     ]
    }
   ],
   "source": [
    "# testing the function on the whole validation sets\n",
    "print(profit(r0_target_valid, r0_predicted_valid))\n",
    "print(profit(r1_target_valid, r1_predicted_valid))\n",
    "print(profit(r2_target_valid, r2_predicted_valid))"
   ]
  },
  {
   "cell_type": "markdown",
   "metadata": {},
   "source": [
    "So, if we study 2500 points and select only 200 of them, region 0 can give as more than 33 million dollars profit. But a study of only 500 points should be carried on when exploring the region. So, we need to be confident that we are selecting the region with the highest profitability when studying only 500 points."
   ]
  },
  {
   "cell_type": "markdown",
   "metadata": {},
   "source": [
    "# Calculating risks and profit for each region\n",
    "\n",
    "In this final stage, we will use the bootstrapping technique with 1000 samples to find the distribution of profit. We will calculate average profit, 95% confidence interval, and risk of losses for each region. To calculate the risk of losses, we will divide the number of samples in which profit is negative by the total number of samples."
   ]
  },
  {
   "cell_type": "markdown",
   "metadata": {},
   "source": [
    "## Region 0"
   ]
  },
  {
   "cell_type": "code",
   "execution_count": 11,
   "metadata": {},
   "outputs": [
    {
     "name": "stdout",
     "output_type": "stream",
     "text": [
      "Average profit: 3961649.8480237117\n",
      "95% confidence interval: -1112155.4589049604, 9097669.41553423\n",
      "Risk of losses: 6.9%\n"
     ]
    }
   ],
   "source": [
    "#defining randon state\n",
    "state = RandomState(12345)\n",
    "\n",
    "#resetting index for target, so it matches the index for prediction\n",
    "r0_target_valid = r0_target_valid.reset_index(drop=True)\n",
    "\n",
    "#defining empty list to store profits for samples\n",
    "values = []\n",
    "\n",
    "#calculating profit for each of 1000 samples and appending it to the values list\n",
    "for i in range(1000):   \n",
    "    target_subsample = r0_target_valid.sample(n=points, replace=True, random_state=state)\n",
    "    probs_subsample = r0_predicted_valid[target_subsample.index]     \n",
    "    subsample_revenue=profit(target_subsample, probs_subsample)\n",
    "    values.append(subsample_revenue)\n",
    "    \n",
    "#converting values to Series for calculation simplicity\n",
    "values = pd.Series(values)\n",
    "\n",
    "#calculating and printing average profit, 95% confidence interval, and risk of losses for region 0\n",
    "print(f'Average profit: {values.mean()}')\n",
    "print(f'95% confidence interval: {values.quantile(0.025)}, {values.quantile(0.975)}')\n",
    "print(f'Risk of losses: {(len(values[values < 0]) /1000)*100}%')"
   ]
  },
  {
   "cell_type": "markdown",
   "metadata": {},
   "source": [
    "## Region 1"
   ]
  },
  {
   "cell_type": "code",
   "execution_count": 12,
   "metadata": {},
   "outputs": [
    {
     "name": "stdout",
     "output_type": "stream",
     "text": [
      "Average profit: 4560451.057866608\n",
      "95% confidence interval: 338205.0939898458, 8522894.538660347\n",
      "Risk of losses: 1.5%\n"
     ]
    }
   ],
   "source": [
    "#defining randon state\n",
    "state = RandomState(12345)\n",
    "\n",
    "#resetting index for target, so it matches the index for prediction\n",
    "r1_target_valid = r1_target_valid.reset_index(drop=True)\n",
    "\n",
    "#defining empty list to store profits for samples\n",
    "values = []\n",
    "\n",
    "\n",
    "#calculating profit for each of 1000 samples and appending it to the values list\n",
    "for i in range(1000):   \n",
    "    target_subsample = r1_target_valid.sample(n=points, replace=True, random_state=state)\n",
    "    probs_subsample = r1_predicted_valid[target_subsample.index]     \n",
    "    subsample_revenue=profit(target_subsample, probs_subsample)\n",
    "    values.append(subsample_revenue)\n",
    "\n",
    "#converting values to Series for calculation simplicity\n",
    "values = pd.Series(values)\n",
    "\n",
    "#calculating and printing average profit, 95% confidence interval, and risk of losses for region 1\n",
    "print(f'Average profit: {values.mean()}')\n",
    "print(f'95% confidence interval: {values.quantile(0.025)}, {values.quantile(0.975)}')\n",
    "print(f'Risk of losses: {(len(values[values < 0]) /1000)*100}%')"
   ]
  },
  {
   "cell_type": "markdown",
   "metadata": {},
   "source": [
    "## Region 2"
   ]
  },
  {
   "cell_type": "code",
   "execution_count": 13,
   "metadata": {},
   "outputs": [
    {
     "name": "stdout",
     "output_type": "stream",
     "text": [
      "Average profit: 4044038.665683568\n",
      "95% confidence interval: -1633504.1339559986, 9503595.749237997\n",
      "Risk of losses: 7.6%\n"
     ]
    }
   ],
   "source": [
    "#defining randon state\n",
    "state = RandomState(12345)\n",
    "\n",
    "#resetting index for target, so it matches the index for prediction\n",
    "r2_target_valid = r2_target_valid.reset_index(drop=True)\n",
    "\n",
    "#defining empty list to store profits for samples\n",
    "values = []\n",
    "\n",
    "#calculating profit for each of 1000 samples and appending it to the values list\n",
    "for i in range(1000):   \n",
    "    target_subsample = r2_target_valid.sample(n=points, replace=True, random_state=state)\n",
    "    probs_subsample = r2_predicted_valid[target_subsample.index]     \n",
    "    subsample_revenue=profit(target_subsample, probs_subsample)\n",
    "    values.append(subsample_revenue)\n",
    "\n",
    "#converting values to Series for calculation simplicity\n",
    "values = pd.Series(values)\n",
    "\n",
    "#calculating and printing average profit, 95% confidence interval, and risk of losses for region 2\n",
    "print(f'Average profit: {values.mean()}')\n",
    "print(f'95% confidence interval: {values.quantile(0.025)}, {values.quantile(0.975)}')\n",
    "print(f'Risk of losses: {(len(values[values < 0]) /1000)*100}%')"
   ]
  },
  {
   "cell_type": "markdown",
   "metadata": {},
   "source": [
    "As can be seen, region 1 has the highest average profit. Moreover, it is the only region that has the risk of losses lower than 2.5% and where 95% confidence interval has no negative profit. Therefore, we will recommend this region for new wells development."
   ]
  },
  {
   "cell_type": "markdown",
   "metadata": {},
   "source": [
    "# General conclusion\n",
    "\n",
    "In this project, we used machine learning algorithms to develop a model that analyzed oil well parameters in three regions and helped to select a region with the highest profit.\n",
    "\n",
    "First, we observed the data and ensured that all columns have correct type and that there are no missing values. Then, for each region, we split the data into target and features. Next, we trained the model on the training set and make predictions for the validation set. Then, we calculated the average volume of predicted reserves and model RMSE. We found that regions 0 and 2 have a quite similar average volume of predicted reserves and RMSE. While region 1 average volume of predicted reserves is much lower, the model for this region is way more accurate than for two other regions.\n",
    "\n",
    "\n",
    "Then, we calculated the volume of reserves sufficient for developing a new well without losses. We found that the average volume of reserves in all regions is lower than the calculated volume of reserves sufficient for developing a new well without losses (111). But each region has 10000 points and we only need to develop 200 well.\n",
    "\n",
    "Finally, we wrote a function to calculate profit from a set of selected oil wells and model predictions. With that function, we used the bootstrapping technique with 1000 samples to find the distribution of profit. We calculated average profit, 95% confidence interval, and risk of losses for each region. It appeared that region 1 has the highest average profit (4560451). Moreover, it is the only region that has the risk of losses lower than 2.5% and where 95% confidence interval has no negative profit. Therefore, we recommend this region for new wells development."
   ]
  }
 ],
 "metadata": {
  "ExecuteTimeLog": [
   {
    "duration": 1361,
    "start_time": "2022-03-17T05:38:08.894Z"
   },
   {
    "duration": 449,
    "start_time": "2022-03-17T05:39:48.399Z"
   },
   {
    "duration": 18,
    "start_time": "2022-03-17T05:40:45.016Z"
   },
   {
    "duration": 35,
    "start_time": "2022-03-17T05:41:55.820Z"
   },
   {
    "duration": 7567,
    "start_time": "2022-03-17T05:46:37.855Z"
   },
   {
    "duration": 332,
    "start_time": "2022-03-17T05:47:21.369Z"
   },
   {
    "duration": 7,
    "start_time": "2022-03-17T05:47:39.911Z"
   },
   {
    "duration": 23,
    "start_time": "2022-03-17T05:47:52.550Z"
   },
   {
    "duration": 16,
    "start_time": "2022-03-17T05:48:00.537Z"
   },
   {
    "duration": 20,
    "start_time": "2022-03-17T05:50:29.365Z"
   },
   {
    "duration": 7,
    "start_time": "2022-03-17T05:50:35.673Z"
   },
   {
    "duration": 19,
    "start_time": "2022-03-17T05:51:37.849Z"
   },
   {
    "duration": 7,
    "start_time": "2022-03-17T05:51:42.428Z"
   },
   {
    "duration": 7,
    "start_time": "2022-03-17T05:51:50.190Z"
   },
   {
    "duration": 14,
    "start_time": "2022-03-17T05:51:59.411Z"
   },
   {
    "duration": 14,
    "start_time": "2022-03-17T05:52:08.327Z"
   },
   {
    "duration": 7,
    "start_time": "2022-03-17T05:52:28.496Z"
   },
   {
    "duration": 415,
    "start_time": "2022-03-17T05:59:07.840Z"
   },
   {
    "duration": 402,
    "start_time": "2022-03-17T05:59:48.650Z"
   },
   {
    "duration": 20,
    "start_time": "2022-03-17T05:59:58.332Z"
   },
   {
    "duration": 97,
    "start_time": "2022-03-17T06:01:16.945Z"
   },
   {
    "duration": 21,
    "start_time": "2022-03-17T06:01:34.247Z"
   },
   {
    "duration": 3,
    "start_time": "2022-03-17T06:01:55.829Z"
   },
   {
    "duration": 7,
    "start_time": "2022-03-17T06:02:28.535Z"
   },
   {
    "duration": 19,
    "start_time": "2022-03-17T06:03:04.439Z"
   },
   {
    "duration": 21,
    "start_time": "2022-03-17T06:04:03.559Z"
   },
   {
    "duration": 7,
    "start_time": "2022-03-17T06:05:24.929Z"
   },
   {
    "duration": 19,
    "start_time": "2022-03-17T06:05:56.129Z"
   },
   {
    "duration": 21,
    "start_time": "2022-03-17T06:06:58.465Z"
   },
   {
    "duration": 1083,
    "start_time": "2022-03-18T04:45:37.324Z"
   },
   {
    "duration": 368,
    "start_time": "2022-03-18T04:45:38.409Z"
   },
   {
    "duration": 35,
    "start_time": "2022-03-18T04:45:38.779Z"
   },
   {
    "duration": 4,
    "start_time": "2022-03-18T04:45:38.816Z"
   },
   {
    "duration": 16,
    "start_time": "2022-03-18T04:45:38.822Z"
   },
   {
    "duration": 72,
    "start_time": "2022-03-18T04:45:38.839Z"
   },
   {
    "duration": 98,
    "start_time": "2022-03-18T04:45:38.913Z"
   },
   {
    "duration": 16,
    "start_time": "2022-03-18T04:45:39.012Z"
   },
   {
    "duration": 18,
    "start_time": "2022-03-18T04:45:39.029Z"
   },
   {
    "duration": 99,
    "start_time": "2022-03-18T04:45:39.110Z"
   },
   {
    "duration": 16,
    "start_time": "2022-03-18T04:45:39.211Z"
   },
   {
    "duration": 15,
    "start_time": "2022-03-18T04:45:43.003Z"
   },
   {
    "duration": 14,
    "start_time": "2022-03-18T04:45:45.347Z"
   },
   {
    "duration": 7,
    "start_time": "2022-03-18T04:55:47.644Z"
   },
   {
    "duration": 94,
    "start_time": "2022-03-18T05:03:27.782Z"
   },
   {
    "duration": 3,
    "start_time": "2022-03-18T05:06:35.819Z"
   },
   {
    "duration": 365,
    "start_time": "2022-03-18T05:06:35.824Z"
   },
   {
    "duration": 39,
    "start_time": "2022-03-18T05:06:36.191Z"
   },
   {
    "duration": 4,
    "start_time": "2022-03-18T05:06:36.232Z"
   },
   {
    "duration": 14,
    "start_time": "2022-03-18T05:06:36.238Z"
   },
   {
    "duration": 62,
    "start_time": "2022-03-18T05:06:36.254Z"
   },
   {
    "duration": 93,
    "start_time": "2022-03-18T05:06:36.318Z"
   },
   {
    "duration": 16,
    "start_time": "2022-03-18T05:06:36.413Z"
   },
   {
    "duration": 15,
    "start_time": "2022-03-18T05:06:36.431Z"
   },
   {
    "duration": 64,
    "start_time": "2022-03-18T05:06:36.448Z"
   },
   {
    "duration": 105,
    "start_time": "2022-03-18T05:06:36.514Z"
   },
   {
    "duration": 14,
    "start_time": "2022-03-18T05:06:36.621Z"
   },
   {
    "duration": 78,
    "start_time": "2022-03-18T05:06:36.637Z"
   },
   {
    "duration": 5,
    "start_time": "2022-03-18T05:08:54.711Z"
   },
   {
    "duration": 5,
    "start_time": "2022-03-18T05:09:08.399Z"
   },
   {
    "duration": 3,
    "start_time": "2022-03-18T05:15:29.099Z"
   },
   {
    "duration": 2,
    "start_time": "2022-03-18T05:18:59.260Z"
   },
   {
    "duration": 3,
    "start_time": "2022-03-18T05:28:29.552Z"
   },
   {
    "duration": 20,
    "start_time": "2022-03-18T05:29:13.292Z"
   },
   {
    "duration": 4,
    "start_time": "2022-03-18T05:29:57.436Z"
   },
   {
    "duration": 9,
    "start_time": "2022-03-18T05:29:59.662Z"
   },
   {
    "duration": 3,
    "start_time": "2022-03-18T05:30:51.040Z"
   },
   {
    "duration": 9,
    "start_time": "2022-03-18T05:30:53.393Z"
   },
   {
    "duration": 4,
    "start_time": "2022-03-18T05:31:06.275Z"
   },
   {
    "duration": 11,
    "start_time": "2022-03-18T05:31:07.902Z"
   },
   {
    "duration": 3,
    "start_time": "2022-03-18T05:31:47.772Z"
   },
   {
    "duration": 11,
    "start_time": "2022-03-18T05:31:50.174Z"
   },
   {
    "duration": 4,
    "start_time": "2022-03-18T05:32:20.379Z"
   },
   {
    "duration": 11,
    "start_time": "2022-03-18T05:32:22.654Z"
   },
   {
    "duration": 4,
    "start_time": "2022-03-18T05:33:01.312Z"
   },
   {
    "duration": 10,
    "start_time": "2022-03-18T05:33:03.353Z"
   },
   {
    "duration": 4,
    "start_time": "2022-03-18T05:34:15.248Z"
   },
   {
    "duration": 21,
    "start_time": "2022-03-18T05:34:17.692Z"
   },
   {
    "duration": 3,
    "start_time": "2022-03-18T05:36:45.221Z"
   },
   {
    "duration": 19,
    "start_time": "2022-03-18T05:36:51.798Z"
   },
   {
    "duration": 3,
    "start_time": "2022-03-18T05:37:06.060Z"
   },
   {
    "duration": 19,
    "start_time": "2022-03-18T05:37:09.096Z"
   },
   {
    "duration": 4,
    "start_time": "2022-03-18T05:37:24.184Z"
   },
   {
    "duration": 4,
    "start_time": "2022-03-18T05:37:25.379Z"
   },
   {
    "duration": 22,
    "start_time": "2022-03-18T05:37:27.813Z"
   },
   {
    "duration": 3,
    "start_time": "2022-03-18T05:40:25.679Z"
   },
   {
    "duration": 10,
    "start_time": "2022-03-18T05:40:27.842Z"
   },
   {
    "duration": 11,
    "start_time": "2022-03-18T05:40:51.508Z"
   },
   {
    "duration": 4,
    "start_time": "2022-03-18T05:41:24.278Z"
   },
   {
    "duration": 13,
    "start_time": "2022-03-18T05:41:26.525Z"
   },
   {
    "duration": 3,
    "start_time": "2022-03-18T05:42:23.009Z"
   },
   {
    "duration": 12,
    "start_time": "2022-03-18T05:42:24.822Z"
   },
   {
    "duration": 3,
    "start_time": "2022-03-18T05:42:39.897Z"
   },
   {
    "duration": 14,
    "start_time": "2022-03-18T05:42:51.704Z"
   },
   {
    "duration": 3,
    "start_time": "2022-03-18T05:43:13.467Z"
   },
   {
    "duration": 9,
    "start_time": "2022-03-18T05:43:20.467Z"
   },
   {
    "duration": 9,
    "start_time": "2022-03-18T05:43:30.005Z"
   },
   {
    "duration": 19,
    "start_time": "2022-03-18T05:43:58.141Z"
   },
   {
    "duration": 1316,
    "start_time": "2022-03-22T04:32:15.999Z"
   },
   {
    "duration": 391,
    "start_time": "2022-03-22T04:32:17.317Z"
   },
   {
    "duration": 41,
    "start_time": "2022-03-22T04:32:17.710Z"
   },
   {
    "duration": 5,
    "start_time": "2022-03-22T04:32:17.754Z"
   },
   {
    "duration": 41,
    "start_time": "2022-03-22T04:32:17.760Z"
   },
   {
    "duration": 22,
    "start_time": "2022-03-22T04:32:17.803Z"
   },
   {
    "duration": 99,
    "start_time": "2022-03-22T04:32:17.902Z"
   },
   {
    "duration": 20,
    "start_time": "2022-03-22T04:32:18.003Z"
   },
   {
    "duration": 75,
    "start_time": "2022-03-22T04:32:18.026Z"
   },
   {
    "duration": 97,
    "start_time": "2022-03-22T04:32:18.105Z"
   },
   {
    "duration": 18,
    "start_time": "2022-03-22T04:32:18.204Z"
   },
   {
    "duration": 18,
    "start_time": "2022-03-22T04:32:18.224Z"
   },
   {
    "duration": 100,
    "start_time": "2022-03-22T04:32:18.301Z"
   },
   {
    "duration": 8,
    "start_time": "2022-03-22T04:32:18.403Z"
   },
   {
    "duration": 5,
    "start_time": "2022-03-22T04:32:18.414Z"
   },
   {
    "duration": 6,
    "start_time": "2022-03-22T04:32:18.422Z"
   },
   {
    "duration": 25,
    "start_time": "2022-03-22T04:32:18.429Z"
   },
   {
    "duration": 3,
    "start_time": "2022-03-22T04:35:54.033Z"
   },
   {
    "duration": 5,
    "start_time": "2022-03-22T04:48:08.386Z"
   },
   {
    "duration": 107,
    "start_time": "2022-03-22T04:51:18.728Z"
   },
   {
    "duration": 13,
    "start_time": "2022-03-22T04:53:18.362Z"
   },
   {
    "duration": 910,
    "start_time": "2022-03-22T04:53:33.046Z"
   },
   {
    "duration": 832,
    "start_time": "2022-03-22T04:59:55.035Z"
   },
   {
    "duration": 831,
    "start_time": "2022-03-22T05:01:53.104Z"
   },
   {
    "duration": 145,
    "start_time": "2022-03-22T05:04:37.875Z"
   },
   {
    "duration": 853,
    "start_time": "2022-03-22T05:04:49.733Z"
   },
   {
    "duration": 880,
    "start_time": "2022-03-22T05:05:00.352Z"
   },
   {
    "duration": 830,
    "start_time": "2022-03-22T05:05:58.547Z"
   },
   {
    "duration": 839,
    "start_time": "2022-03-22T05:07:28.550Z"
   },
   {
    "duration": 3,
    "start_time": "2022-03-22T05:26:37.533Z"
   },
   {
    "duration": 399,
    "start_time": "2022-03-22T05:26:49.621Z"
   },
   {
    "duration": 40,
    "start_time": "2022-03-22T05:27:14.433Z"
   },
   {
    "duration": 7,
    "start_time": "2022-03-22T05:36:05.677Z"
   },
   {
    "duration": 28,
    "start_time": "2022-03-22T05:36:21.218Z"
   },
   {
    "duration": 31,
    "start_time": "2022-03-22T05:39:05.002Z"
   },
   {
    "duration": 6,
    "start_time": "2022-03-22T05:39:44.156Z"
   },
   {
    "duration": 28,
    "start_time": "2022-03-22T05:41:09.463Z"
   },
   {
    "duration": 29,
    "start_time": "2022-03-22T05:43:25.763Z"
   },
   {
    "duration": 6,
    "start_time": "2022-03-22T05:57:34.615Z"
   },
   {
    "duration": 4,
    "start_time": "2022-03-22T06:06:42.118Z"
   },
   {
    "duration": 4,
    "start_time": "2022-03-22T06:12:02.326Z"
   },
   {
    "duration": 20,
    "start_time": "2022-03-22T06:14:25.859Z"
   },
   {
    "duration": 95895,
    "start_time": "2022-03-23T05:38:20.289Z"
   },
   {
    "duration": 1507,
    "start_time": "2022-03-23T05:51:51.715Z"
   },
   {
    "duration": 487,
    "start_time": "2022-03-23T05:51:53.225Z"
   },
   {
    "duration": 88,
    "start_time": "2022-03-23T05:51:53.715Z"
   },
   {
    "duration": 82,
    "start_time": "2022-03-23T05:51:53.806Z"
   },
   {
    "duration": 192,
    "start_time": "2022-03-23T05:51:53.892Z"
   },
   {
    "duration": 197,
    "start_time": "2022-03-23T05:51:54.087Z"
   },
   {
    "duration": 105,
    "start_time": "2022-03-23T05:51:54.287Z"
   },
   {
    "duration": 8,
    "start_time": "2022-03-23T05:51:54.394Z"
   },
   {
    "duration": 7,
    "start_time": "2022-03-23T05:51:54.405Z"
   },
   {
    "duration": 67,
    "start_time": "2022-03-23T05:51:54.418Z"
   },
   {
    "duration": 1444,
    "start_time": "2022-03-23T05:51:54.487Z"
   },
   {
    "duration": 1415,
    "start_time": "2022-03-23T05:51:55.933Z"
   },
   {
    "duration": 1340,
    "start_time": "2022-03-23T05:51:57.351Z"
   }
  ],
  "kernelspec": {
   "display_name": "Python 3 (ipykernel)",
   "language": "python",
   "name": "python3"
  },
  "language_info": {
   "codemirror_mode": {
    "name": "ipython",
    "version": 3
   },
   "file_extension": ".py",
   "mimetype": "text/x-python",
   "name": "python",
   "nbconvert_exporter": "python",
   "pygments_lexer": "ipython3",
   "version": "3.9.7"
  },
  "toc": {
   "base_numbering": 1,
   "nav_menu": {},
   "number_sections": false,
   "sideBar": true,
   "skip_h1_title": true,
   "title_cell": "Table of Contents",
   "title_sidebar": "Contents",
   "toc_cell": false,
   "toc_position": {},
   "toc_section_display": true,
   "toc_window_display": false
  }
 },
 "nbformat": 4,
 "nbformat_minor": 2
}
