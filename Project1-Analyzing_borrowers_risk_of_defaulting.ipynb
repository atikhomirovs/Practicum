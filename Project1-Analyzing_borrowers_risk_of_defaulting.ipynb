{
 "cells": [
  {
   "cell_type": "markdown",
   "metadata": {},
   "source": [
    "# Analyzing borrowers’ risk of defaulting\n",
    "\n",
    "# Contents <a id='back'></a>\n",
    "\n",
    "* [Introduction](#intro)\n",
    "* [Stage 1. Data overview](#data_review)    \n",
    "* [Stage 2. Data preprocessing](#data_preprocessing)\n",
    "    * [2.1 Missing values](#missing_values)\n",
    "    * [2.2 Data transformation](#data_transformation)\n",
    "    * [2.3 Duplicates](#duplicates)\n",
    "    * [2.4 Data categorization](#data_categorization)\n",
    "* [Stage 3. Answering the questions](#questions)\n",
    "* [General Conclusion](#conclusion)"
   ]
  },
  {
   "cell_type": "markdown",
   "metadata": {},
   "source": [
    "# Introduction <a id='intro'></a>\n",
    "In this project, we will analyze stored by the bank data on customers’ creditworthiness. We will identify if a customer’s marital status,  income level, loan purpose, and a number of children have an impact on whether they will default on a loan. The project findings later can be used for building a credit score for potential customers to evaluate their ability to repay their loans.\n",
    "\n",
    "### Goal: \n",
    "The goal of the the projet is to answer the following questions:\n",
    "1. Is there a connection between having kids and repaying a loan on time?\n",
    "2. Is there a connection between marital status and repaying a loan on time?\n",
    "3. Is there a connection between income level and repaying a loan on time?\n",
    "4. How do different loan purposes affect on-time loan repayment?\n",
    "\n",
    "### Stages \n",
    "We do not have information about the quality of the data, therefore, we would need to examine and preprocess the data before answering the above-mentioned questions. \n",
    "\n",
    "Firstly, we will evaluate the quality of the data and identify if any significant issues need to be addressed. Secondly, we will preprocess the data: fill in/remove missing values, delete duplicate data and categorize the data. And finally, we will answer the questions raised in this project.\n",
    " \n",
    "The project will consist of three stages:\n",
    " 1. Data overview\n",
    " 2. Data preprocessing\n",
    " 3. Answering the questions\n",
    " \n",
    "[Back to Contents](#back)"
   ]
  },
  {
   "cell_type": "markdown",
   "metadata": {},
   "source": [
    "# Stage 1. Data overview <a id='data_review'></a>\n",
    "\n",
    "Firstly, we will open the data and explore it."
   ]
  },
  {
   "cell_type": "markdown",
   "metadata": {},
   "source": [
    "According to the documentation the table has 12 columns\n",
    "- `children` - the number of children in the family\n",
    "- `days_employed` - work experience in days\n",
    "- `dob_years` - client's age in years\n",
    "- `education` - client's education\n",
    "- `education_id` - education identifier\n",
    "- `family_status` - marital status\n",
    "- `family_status_id` - marital status identifier\n",
    "- `gender` - gender of the client\n",
    "- `income_type` - type of employment\n",
    "- `debt` - was there any debt on loan repayment\n",
    "- `total_income` - monthly income\n",
    "- `purpose` - the purpose of obtaining a loan\n",
    "\n",
    "Loading data:"
   ]
  },
  {
   "cell_type": "code",
   "execution_count": 1,
   "metadata": {},
   "outputs": [],
   "source": [
    "# Loading libraries\n",
    "import pandas as pd\n",
    "\n",
    "# Loading the data\n",
    "data=pd.read_csv('/datasets/credit_scoring_eng.csv')"
   ]
  },
  {
   "cell_type": "markdown",
   "metadata": {},
   "source": [
    "Checking how many rows and columns the dataset has:"
   ]
  },
  {
   "cell_type": "code",
   "execution_count": 2,
   "metadata": {},
   "outputs": [
    {
     "data": {
      "text/plain": [
       "(21525, 12)"
      ]
     },
     "execution_count": 2,
     "metadata": {},
     "output_type": "execute_result"
    }
   ],
   "source": [
    "# obtaining data shape\n",
    "data_shape_original=data.shape\n",
    "data_shape_original"
   ]
  },
  {
   "cell_type": "markdown",
   "metadata": {},
   "source": [
    "Printing the first 10 table rows:"
   ]
  },
  {
   "cell_type": "code",
   "execution_count": 3,
   "metadata": {
    "scrolled": false
   },
   "outputs": [
    {
     "data": {
      "text/html": [
       "<div>\n",
       "<style scoped>\n",
       "    .dataframe tbody tr th:only-of-type {\n",
       "        vertical-align: middle;\n",
       "    }\n",
       "\n",
       "    .dataframe tbody tr th {\n",
       "        vertical-align: top;\n",
       "    }\n",
       "\n",
       "    .dataframe thead th {\n",
       "        text-align: right;\n",
       "    }\n",
       "</style>\n",
       "<table border=\"1\" class=\"dataframe\">\n",
       "  <thead>\n",
       "    <tr style=\"text-align: right;\">\n",
       "      <th></th>\n",
       "      <th>children</th>\n",
       "      <th>days_employed</th>\n",
       "      <th>dob_years</th>\n",
       "      <th>education</th>\n",
       "      <th>education_id</th>\n",
       "      <th>family_status</th>\n",
       "      <th>family_status_id</th>\n",
       "      <th>gender</th>\n",
       "      <th>income_type</th>\n",
       "      <th>debt</th>\n",
       "      <th>total_income</th>\n",
       "      <th>purpose</th>\n",
       "    </tr>\n",
       "  </thead>\n",
       "  <tbody>\n",
       "    <tr>\n",
       "      <td>0</td>\n",
       "      <td>1</td>\n",
       "      <td>-8437.673028</td>\n",
       "      <td>42</td>\n",
       "      <td>bachelor's degree</td>\n",
       "      <td>0</td>\n",
       "      <td>married</td>\n",
       "      <td>0</td>\n",
       "      <td>F</td>\n",
       "      <td>employee</td>\n",
       "      <td>0</td>\n",
       "      <td>40620.102</td>\n",
       "      <td>purchase of the house</td>\n",
       "    </tr>\n",
       "    <tr>\n",
       "      <td>1</td>\n",
       "      <td>1</td>\n",
       "      <td>-4024.803754</td>\n",
       "      <td>36</td>\n",
       "      <td>secondary education</td>\n",
       "      <td>1</td>\n",
       "      <td>married</td>\n",
       "      <td>0</td>\n",
       "      <td>F</td>\n",
       "      <td>employee</td>\n",
       "      <td>0</td>\n",
       "      <td>17932.802</td>\n",
       "      <td>car purchase</td>\n",
       "    </tr>\n",
       "    <tr>\n",
       "      <td>2</td>\n",
       "      <td>0</td>\n",
       "      <td>-5623.422610</td>\n",
       "      <td>33</td>\n",
       "      <td>Secondary Education</td>\n",
       "      <td>1</td>\n",
       "      <td>married</td>\n",
       "      <td>0</td>\n",
       "      <td>M</td>\n",
       "      <td>employee</td>\n",
       "      <td>0</td>\n",
       "      <td>23341.752</td>\n",
       "      <td>purchase of the house</td>\n",
       "    </tr>\n",
       "    <tr>\n",
       "      <td>3</td>\n",
       "      <td>3</td>\n",
       "      <td>-4124.747207</td>\n",
       "      <td>32</td>\n",
       "      <td>secondary education</td>\n",
       "      <td>1</td>\n",
       "      <td>married</td>\n",
       "      <td>0</td>\n",
       "      <td>M</td>\n",
       "      <td>employee</td>\n",
       "      <td>0</td>\n",
       "      <td>42820.568</td>\n",
       "      <td>supplementary education</td>\n",
       "    </tr>\n",
       "    <tr>\n",
       "      <td>4</td>\n",
       "      <td>0</td>\n",
       "      <td>340266.072047</td>\n",
       "      <td>53</td>\n",
       "      <td>secondary education</td>\n",
       "      <td>1</td>\n",
       "      <td>civil partnership</td>\n",
       "      <td>1</td>\n",
       "      <td>F</td>\n",
       "      <td>retiree</td>\n",
       "      <td>0</td>\n",
       "      <td>25378.572</td>\n",
       "      <td>to have a wedding</td>\n",
       "    </tr>\n",
       "    <tr>\n",
       "      <td>5</td>\n",
       "      <td>0</td>\n",
       "      <td>-926.185831</td>\n",
       "      <td>27</td>\n",
       "      <td>bachelor's degree</td>\n",
       "      <td>0</td>\n",
       "      <td>civil partnership</td>\n",
       "      <td>1</td>\n",
       "      <td>M</td>\n",
       "      <td>business</td>\n",
       "      <td>0</td>\n",
       "      <td>40922.170</td>\n",
       "      <td>purchase of the house</td>\n",
       "    </tr>\n",
       "    <tr>\n",
       "      <td>6</td>\n",
       "      <td>0</td>\n",
       "      <td>-2879.202052</td>\n",
       "      <td>43</td>\n",
       "      <td>bachelor's degree</td>\n",
       "      <td>0</td>\n",
       "      <td>married</td>\n",
       "      <td>0</td>\n",
       "      <td>F</td>\n",
       "      <td>business</td>\n",
       "      <td>0</td>\n",
       "      <td>38484.156</td>\n",
       "      <td>housing transactions</td>\n",
       "    </tr>\n",
       "    <tr>\n",
       "      <td>7</td>\n",
       "      <td>0</td>\n",
       "      <td>-152.779569</td>\n",
       "      <td>50</td>\n",
       "      <td>SECONDARY EDUCATION</td>\n",
       "      <td>1</td>\n",
       "      <td>married</td>\n",
       "      <td>0</td>\n",
       "      <td>M</td>\n",
       "      <td>employee</td>\n",
       "      <td>0</td>\n",
       "      <td>21731.829</td>\n",
       "      <td>education</td>\n",
       "    </tr>\n",
       "    <tr>\n",
       "      <td>8</td>\n",
       "      <td>2</td>\n",
       "      <td>-6929.865299</td>\n",
       "      <td>35</td>\n",
       "      <td>BACHELOR'S DEGREE</td>\n",
       "      <td>0</td>\n",
       "      <td>civil partnership</td>\n",
       "      <td>1</td>\n",
       "      <td>F</td>\n",
       "      <td>employee</td>\n",
       "      <td>0</td>\n",
       "      <td>15337.093</td>\n",
       "      <td>having a wedding</td>\n",
       "    </tr>\n",
       "    <tr>\n",
       "      <td>9</td>\n",
       "      <td>0</td>\n",
       "      <td>-2188.756445</td>\n",
       "      <td>41</td>\n",
       "      <td>secondary education</td>\n",
       "      <td>1</td>\n",
       "      <td>married</td>\n",
       "      <td>0</td>\n",
       "      <td>M</td>\n",
       "      <td>employee</td>\n",
       "      <td>0</td>\n",
       "      <td>23108.150</td>\n",
       "      <td>purchase of the house for my family</td>\n",
       "    </tr>\n",
       "  </tbody>\n",
       "</table>\n",
       "</div>"
      ],
      "text/plain": [
       "   children  days_employed  dob_years            education  education_id  \\\n",
       "0         1   -8437.673028         42    bachelor's degree             0   \n",
       "1         1   -4024.803754         36  secondary education             1   \n",
       "2         0   -5623.422610         33  Secondary Education             1   \n",
       "3         3   -4124.747207         32  secondary education             1   \n",
       "4         0  340266.072047         53  secondary education             1   \n",
       "5         0    -926.185831         27    bachelor's degree             0   \n",
       "6         0   -2879.202052         43    bachelor's degree             0   \n",
       "7         0    -152.779569         50  SECONDARY EDUCATION             1   \n",
       "8         2   -6929.865299         35    BACHELOR'S DEGREE             0   \n",
       "9         0   -2188.756445         41  secondary education             1   \n",
       "\n",
       "       family_status  family_status_id gender income_type  debt  total_income  \\\n",
       "0            married                 0      F    employee     0     40620.102   \n",
       "1            married                 0      F    employee     0     17932.802   \n",
       "2            married                 0      M    employee     0     23341.752   \n",
       "3            married                 0      M    employee     0     42820.568   \n",
       "4  civil partnership                 1      F     retiree     0     25378.572   \n",
       "5  civil partnership                 1      M    business     0     40922.170   \n",
       "6            married                 0      F    business     0     38484.156   \n",
       "7            married                 0      M    employee     0     21731.829   \n",
       "8  civil partnership                 1      F    employee     0     15337.093   \n",
       "9            married                 0      M    employee     0     23108.150   \n",
       "\n",
       "                               purpose  \n",
       "0                purchase of the house  \n",
       "1                         car purchase  \n",
       "2                purchase of the house  \n",
       "3              supplementary education  \n",
       "4                    to have a wedding  \n",
       "5                purchase of the house  \n",
       "6                 housing transactions  \n",
       "7                            education  \n",
       "8                     having a wedding  \n",
       "9  purchase of the house for my family  "
      ]
     },
     "execution_count": 3,
     "metadata": {},
     "output_type": "execute_result"
    }
   ],
   "source": [
    "# obtaining first 10 rows\n",
    "data.head(10)"
   ]
  },
  {
   "cell_type": "markdown",
   "metadata": {},
   "source": [
    "Printing general information about the table:"
   ]
  },
  {
   "cell_type": "code",
   "execution_count": 4,
   "metadata": {
    "scrolled": false
   },
   "outputs": [
    {
     "name": "stdout",
     "output_type": "stream",
     "text": [
      "<class 'pandas.core.frame.DataFrame'>\n",
      "RangeIndex: 21525 entries, 0 to 21524\n",
      "Data columns (total 12 columns):\n",
      "children            21525 non-null int64\n",
      "days_employed       19351 non-null float64\n",
      "dob_years           21525 non-null int64\n",
      "education           21525 non-null object\n",
      "education_id        21525 non-null int64\n",
      "family_status       21525 non-null object\n",
      "family_status_id    21525 non-null int64\n",
      "gender              21525 non-null object\n",
      "income_type         21525 non-null object\n",
      "debt                21525 non-null int64\n",
      "total_income        19351 non-null float64\n",
      "purpose             21525 non-null object\n",
      "dtypes: float64(2), int64(5), object(5)\n",
      "memory usage: 2.0+ MB\n"
     ]
    }
   ],
   "source": [
    "# getting info on data\n",
    "data.info()"
   ]
  },
  {
   "cell_type": "markdown",
   "metadata": {},
   "source": [
    "**Conclusions**\n",
    "\n",
    "As can be seen, there are 21525 rows and 12 columns in the table. Each row contains information about individual customers including the number of children they have, work experience in days, age, education, family status, gender, employment status, income level, and purpose of the loan. Also, there is information about if the customer had any debt on loan repayment in the past. \n",
    "\n",
    "It can be seen that the `days_employed` column has two issues: some values there are negative, the positive value looks unrealistic as it is impossible to work 340266 days (929 years). The education column has duplicate education levels written in a different register. As well, the purpose column has similar purposes written in different words. In addition, `days_employed` and `total_income` columns have missing values. \n",
    "\n",
    "This issue should be addressed before we start answering the raised-above questions."
   ]
  },
  {
   "cell_type": "markdown",
   "metadata": {},
   "source": [
    "[Back to Contents](#back)"
   ]
  },
  {
   "cell_type": "markdown",
   "metadata": {},
   "source": [
    "# Stage 2. Data preprocessing <a id='data_preprocessing'></a>\n",
    "\n",
    "Before answering the raised-above questions we will preprocess the data: address missing values, transform data, remove duplicates and categorize the data."
   ]
  },
  {
   "cell_type": "markdown",
   "metadata": {},
   "source": [
    "## Missing values <a id='missing_values'></a>\n",
    "\n",
    "First of all, we will check how many missing values the table has."
   ]
  },
  {
   "cell_type": "code",
   "execution_count": 5,
   "metadata": {},
   "outputs": [
    {
     "data": {
      "text/plain": [
       "children               0\n",
       "days_employed       2174\n",
       "dob_years              0\n",
       "education              0\n",
       "education_id           0\n",
       "family_status          0\n",
       "family_status_id       0\n",
       "gender                 0\n",
       "income_type            0\n",
       "debt                   0\n",
       "total_income        2174\n",
       "purpose                0\n",
       "dtype: int64"
      ]
     },
     "execution_count": 5,
     "metadata": {},
     "output_type": "execute_result"
    }
   ],
   "source": [
    "#getting the number of missing values in each column\n",
    "data.isna().sum()"
   ]
  },
  {
   "cell_type": "markdown",
   "metadata": {},
   "source": [
    "As can be seen, `days_employed` and `total_income` columns have equal numbers of missing values. Let's display rows there data is missed in `days_employed` column:"
   ]
  },
  {
   "cell_type": "code",
   "execution_count": 6,
   "metadata": {
    "scrolled": false
   },
   "outputs": [
    {
     "data": {
      "text/html": [
       "<div>\n",
       "<style scoped>\n",
       "    .dataframe tbody tr th:only-of-type {\n",
       "        vertical-align: middle;\n",
       "    }\n",
       "\n",
       "    .dataframe tbody tr th {\n",
       "        vertical-align: top;\n",
       "    }\n",
       "\n",
       "    .dataframe thead th {\n",
       "        text-align: right;\n",
       "    }\n",
       "</style>\n",
       "<table border=\"1\" class=\"dataframe\">\n",
       "  <thead>\n",
       "    <tr style=\"text-align: right;\">\n",
       "      <th></th>\n",
       "      <th>children</th>\n",
       "      <th>days_employed</th>\n",
       "      <th>dob_years</th>\n",
       "      <th>education</th>\n",
       "      <th>education_id</th>\n",
       "      <th>family_status</th>\n",
       "      <th>family_status_id</th>\n",
       "      <th>gender</th>\n",
       "      <th>income_type</th>\n",
       "      <th>debt</th>\n",
       "      <th>total_income</th>\n",
       "      <th>purpose</th>\n",
       "    </tr>\n",
       "  </thead>\n",
       "  <tbody>\n",
       "    <tr>\n",
       "      <td>12</td>\n",
       "      <td>0</td>\n",
       "      <td>NaN</td>\n",
       "      <td>65</td>\n",
       "      <td>secondary education</td>\n",
       "      <td>1</td>\n",
       "      <td>civil partnership</td>\n",
       "      <td>1</td>\n",
       "      <td>M</td>\n",
       "      <td>retiree</td>\n",
       "      <td>0</td>\n",
       "      <td>NaN</td>\n",
       "      <td>to have a wedding</td>\n",
       "    </tr>\n",
       "    <tr>\n",
       "      <td>26</td>\n",
       "      <td>0</td>\n",
       "      <td>NaN</td>\n",
       "      <td>41</td>\n",
       "      <td>secondary education</td>\n",
       "      <td>1</td>\n",
       "      <td>married</td>\n",
       "      <td>0</td>\n",
       "      <td>M</td>\n",
       "      <td>civil servant</td>\n",
       "      <td>0</td>\n",
       "      <td>NaN</td>\n",
       "      <td>education</td>\n",
       "    </tr>\n",
       "    <tr>\n",
       "      <td>29</td>\n",
       "      <td>0</td>\n",
       "      <td>NaN</td>\n",
       "      <td>63</td>\n",
       "      <td>secondary education</td>\n",
       "      <td>1</td>\n",
       "      <td>unmarried</td>\n",
       "      <td>4</td>\n",
       "      <td>F</td>\n",
       "      <td>retiree</td>\n",
       "      <td>0</td>\n",
       "      <td>NaN</td>\n",
       "      <td>building a real estate</td>\n",
       "    </tr>\n",
       "    <tr>\n",
       "      <td>41</td>\n",
       "      <td>0</td>\n",
       "      <td>NaN</td>\n",
       "      <td>50</td>\n",
       "      <td>secondary education</td>\n",
       "      <td>1</td>\n",
       "      <td>married</td>\n",
       "      <td>0</td>\n",
       "      <td>F</td>\n",
       "      <td>civil servant</td>\n",
       "      <td>0</td>\n",
       "      <td>NaN</td>\n",
       "      <td>second-hand car purchase</td>\n",
       "    </tr>\n",
       "    <tr>\n",
       "      <td>55</td>\n",
       "      <td>0</td>\n",
       "      <td>NaN</td>\n",
       "      <td>54</td>\n",
       "      <td>secondary education</td>\n",
       "      <td>1</td>\n",
       "      <td>civil partnership</td>\n",
       "      <td>1</td>\n",
       "      <td>F</td>\n",
       "      <td>retiree</td>\n",
       "      <td>1</td>\n",
       "      <td>NaN</td>\n",
       "      <td>to have a wedding</td>\n",
       "    </tr>\n",
       "    <tr>\n",
       "      <td>...</td>\n",
       "      <td>...</td>\n",
       "      <td>...</td>\n",
       "      <td>...</td>\n",
       "      <td>...</td>\n",
       "      <td>...</td>\n",
       "      <td>...</td>\n",
       "      <td>...</td>\n",
       "      <td>...</td>\n",
       "      <td>...</td>\n",
       "      <td>...</td>\n",
       "      <td>...</td>\n",
       "      <td>...</td>\n",
       "    </tr>\n",
       "    <tr>\n",
       "      <td>21489</td>\n",
       "      <td>2</td>\n",
       "      <td>NaN</td>\n",
       "      <td>47</td>\n",
       "      <td>Secondary Education</td>\n",
       "      <td>1</td>\n",
       "      <td>married</td>\n",
       "      <td>0</td>\n",
       "      <td>M</td>\n",
       "      <td>business</td>\n",
       "      <td>0</td>\n",
       "      <td>NaN</td>\n",
       "      <td>purchase of a car</td>\n",
       "    </tr>\n",
       "    <tr>\n",
       "      <td>21495</td>\n",
       "      <td>1</td>\n",
       "      <td>NaN</td>\n",
       "      <td>50</td>\n",
       "      <td>secondary education</td>\n",
       "      <td>1</td>\n",
       "      <td>civil partnership</td>\n",
       "      <td>1</td>\n",
       "      <td>F</td>\n",
       "      <td>employee</td>\n",
       "      <td>0</td>\n",
       "      <td>NaN</td>\n",
       "      <td>wedding ceremony</td>\n",
       "    </tr>\n",
       "    <tr>\n",
       "      <td>21497</td>\n",
       "      <td>0</td>\n",
       "      <td>NaN</td>\n",
       "      <td>48</td>\n",
       "      <td>BACHELOR'S DEGREE</td>\n",
       "      <td>0</td>\n",
       "      <td>married</td>\n",
       "      <td>0</td>\n",
       "      <td>F</td>\n",
       "      <td>business</td>\n",
       "      <td>0</td>\n",
       "      <td>NaN</td>\n",
       "      <td>building a property</td>\n",
       "    </tr>\n",
       "    <tr>\n",
       "      <td>21502</td>\n",
       "      <td>1</td>\n",
       "      <td>NaN</td>\n",
       "      <td>42</td>\n",
       "      <td>secondary education</td>\n",
       "      <td>1</td>\n",
       "      <td>married</td>\n",
       "      <td>0</td>\n",
       "      <td>F</td>\n",
       "      <td>employee</td>\n",
       "      <td>0</td>\n",
       "      <td>NaN</td>\n",
       "      <td>building a real estate</td>\n",
       "    </tr>\n",
       "    <tr>\n",
       "      <td>21510</td>\n",
       "      <td>2</td>\n",
       "      <td>NaN</td>\n",
       "      <td>28</td>\n",
       "      <td>secondary education</td>\n",
       "      <td>1</td>\n",
       "      <td>married</td>\n",
       "      <td>0</td>\n",
       "      <td>F</td>\n",
       "      <td>employee</td>\n",
       "      <td>0</td>\n",
       "      <td>NaN</td>\n",
       "      <td>car purchase</td>\n",
       "    </tr>\n",
       "  </tbody>\n",
       "</table>\n",
       "<p>2174 rows × 12 columns</p>\n",
       "</div>"
      ],
      "text/plain": [
       "       children  days_employed  dob_years            education  education_id  \\\n",
       "12            0            NaN         65  secondary education             1   \n",
       "26            0            NaN         41  secondary education             1   \n",
       "29            0            NaN         63  secondary education             1   \n",
       "41            0            NaN         50  secondary education             1   \n",
       "55            0            NaN         54  secondary education             1   \n",
       "...         ...            ...        ...                  ...           ...   \n",
       "21489         2            NaN         47  Secondary Education             1   \n",
       "21495         1            NaN         50  secondary education             1   \n",
       "21497         0            NaN         48    BACHELOR'S DEGREE             0   \n",
       "21502         1            NaN         42  secondary education             1   \n",
       "21510         2            NaN         28  secondary education             1   \n",
       "\n",
       "           family_status  family_status_id gender    income_type  debt  \\\n",
       "12     civil partnership                 1      M        retiree     0   \n",
       "26               married                 0      M  civil servant     0   \n",
       "29             unmarried                 4      F        retiree     0   \n",
       "41               married                 0      F  civil servant     0   \n",
       "55     civil partnership                 1      F        retiree     1   \n",
       "...                  ...               ...    ...            ...   ...   \n",
       "21489            married                 0      M       business     0   \n",
       "21495  civil partnership                 1      F       employee     0   \n",
       "21497            married                 0      F       business     0   \n",
       "21502            married                 0      F       employee     0   \n",
       "21510            married                 0      F       employee     0   \n",
       "\n",
       "       total_income                   purpose  \n",
       "12              NaN         to have a wedding  \n",
       "26              NaN                 education  \n",
       "29              NaN    building a real estate  \n",
       "41              NaN  second-hand car purchase  \n",
       "55              NaN         to have a wedding  \n",
       "...             ...                       ...  \n",
       "21489           NaN         purchase of a car  \n",
       "21495           NaN          wedding ceremony  \n",
       "21497           NaN       building a property  \n",
       "21502           NaN    building a real estate  \n",
       "21510           NaN              car purchase  \n",
       "\n",
       "[2174 rows x 12 columns]"
      ]
     },
     "execution_count": 6,
     "metadata": {},
     "output_type": "execute_result"
    }
   ],
   "source": [
    "# displaying rows with missing values in the the days_employed column\n",
    "data[data['days_employed'].isna()]"
   ]
  },
  {
   "cell_type": "markdown",
   "metadata": {},
   "source": [
    "There are 2174 rows with missing values in `days_employed` column. Also, missing values in `days_employed` and `income_type` columns look symmetric: in every case where the value in `days_employed` column is missing, the value in `income_type` column is missing as well. To confirm this assumption, we will filter the data by displaying all rows where values are missed in both `days_employed` and `income_type` columns."
   ]
  },
  {
   "cell_type": "code",
   "execution_count": 7,
   "metadata": {},
   "outputs": [
    {
     "data": {
      "text/html": [
       "<div>\n",
       "<style scoped>\n",
       "    .dataframe tbody tr th:only-of-type {\n",
       "        vertical-align: middle;\n",
       "    }\n",
       "\n",
       "    .dataframe tbody tr th {\n",
       "        vertical-align: top;\n",
       "    }\n",
       "\n",
       "    .dataframe thead th {\n",
       "        text-align: right;\n",
       "    }\n",
       "</style>\n",
       "<table border=\"1\" class=\"dataframe\">\n",
       "  <thead>\n",
       "    <tr style=\"text-align: right;\">\n",
       "      <th></th>\n",
       "      <th>children</th>\n",
       "      <th>days_employed</th>\n",
       "      <th>dob_years</th>\n",
       "      <th>education</th>\n",
       "      <th>education_id</th>\n",
       "      <th>family_status</th>\n",
       "      <th>family_status_id</th>\n",
       "      <th>gender</th>\n",
       "      <th>income_type</th>\n",
       "      <th>debt</th>\n",
       "      <th>total_income</th>\n",
       "      <th>purpose</th>\n",
       "    </tr>\n",
       "  </thead>\n",
       "  <tbody>\n",
       "    <tr>\n",
       "      <td>12</td>\n",
       "      <td>0</td>\n",
       "      <td>NaN</td>\n",
       "      <td>65</td>\n",
       "      <td>secondary education</td>\n",
       "      <td>1</td>\n",
       "      <td>civil partnership</td>\n",
       "      <td>1</td>\n",
       "      <td>M</td>\n",
       "      <td>retiree</td>\n",
       "      <td>0</td>\n",
       "      <td>NaN</td>\n",
       "      <td>to have a wedding</td>\n",
       "    </tr>\n",
       "    <tr>\n",
       "      <td>26</td>\n",
       "      <td>0</td>\n",
       "      <td>NaN</td>\n",
       "      <td>41</td>\n",
       "      <td>secondary education</td>\n",
       "      <td>1</td>\n",
       "      <td>married</td>\n",
       "      <td>0</td>\n",
       "      <td>M</td>\n",
       "      <td>civil servant</td>\n",
       "      <td>0</td>\n",
       "      <td>NaN</td>\n",
       "      <td>education</td>\n",
       "    </tr>\n",
       "    <tr>\n",
       "      <td>29</td>\n",
       "      <td>0</td>\n",
       "      <td>NaN</td>\n",
       "      <td>63</td>\n",
       "      <td>secondary education</td>\n",
       "      <td>1</td>\n",
       "      <td>unmarried</td>\n",
       "      <td>4</td>\n",
       "      <td>F</td>\n",
       "      <td>retiree</td>\n",
       "      <td>0</td>\n",
       "      <td>NaN</td>\n",
       "      <td>building a real estate</td>\n",
       "    </tr>\n",
       "    <tr>\n",
       "      <td>41</td>\n",
       "      <td>0</td>\n",
       "      <td>NaN</td>\n",
       "      <td>50</td>\n",
       "      <td>secondary education</td>\n",
       "      <td>1</td>\n",
       "      <td>married</td>\n",
       "      <td>0</td>\n",
       "      <td>F</td>\n",
       "      <td>civil servant</td>\n",
       "      <td>0</td>\n",
       "      <td>NaN</td>\n",
       "      <td>second-hand car purchase</td>\n",
       "    </tr>\n",
       "    <tr>\n",
       "      <td>55</td>\n",
       "      <td>0</td>\n",
       "      <td>NaN</td>\n",
       "      <td>54</td>\n",
       "      <td>secondary education</td>\n",
       "      <td>1</td>\n",
       "      <td>civil partnership</td>\n",
       "      <td>1</td>\n",
       "      <td>F</td>\n",
       "      <td>retiree</td>\n",
       "      <td>1</td>\n",
       "      <td>NaN</td>\n",
       "      <td>to have a wedding</td>\n",
       "    </tr>\n",
       "    <tr>\n",
       "      <td>...</td>\n",
       "      <td>...</td>\n",
       "      <td>...</td>\n",
       "      <td>...</td>\n",
       "      <td>...</td>\n",
       "      <td>...</td>\n",
       "      <td>...</td>\n",
       "      <td>...</td>\n",
       "      <td>...</td>\n",
       "      <td>...</td>\n",
       "      <td>...</td>\n",
       "      <td>...</td>\n",
       "      <td>...</td>\n",
       "    </tr>\n",
       "    <tr>\n",
       "      <td>21489</td>\n",
       "      <td>2</td>\n",
       "      <td>NaN</td>\n",
       "      <td>47</td>\n",
       "      <td>Secondary Education</td>\n",
       "      <td>1</td>\n",
       "      <td>married</td>\n",
       "      <td>0</td>\n",
       "      <td>M</td>\n",
       "      <td>business</td>\n",
       "      <td>0</td>\n",
       "      <td>NaN</td>\n",
       "      <td>purchase of a car</td>\n",
       "    </tr>\n",
       "    <tr>\n",
       "      <td>21495</td>\n",
       "      <td>1</td>\n",
       "      <td>NaN</td>\n",
       "      <td>50</td>\n",
       "      <td>secondary education</td>\n",
       "      <td>1</td>\n",
       "      <td>civil partnership</td>\n",
       "      <td>1</td>\n",
       "      <td>F</td>\n",
       "      <td>employee</td>\n",
       "      <td>0</td>\n",
       "      <td>NaN</td>\n",
       "      <td>wedding ceremony</td>\n",
       "    </tr>\n",
       "    <tr>\n",
       "      <td>21497</td>\n",
       "      <td>0</td>\n",
       "      <td>NaN</td>\n",
       "      <td>48</td>\n",
       "      <td>BACHELOR'S DEGREE</td>\n",
       "      <td>0</td>\n",
       "      <td>married</td>\n",
       "      <td>0</td>\n",
       "      <td>F</td>\n",
       "      <td>business</td>\n",
       "      <td>0</td>\n",
       "      <td>NaN</td>\n",
       "      <td>building a property</td>\n",
       "    </tr>\n",
       "    <tr>\n",
       "      <td>21502</td>\n",
       "      <td>1</td>\n",
       "      <td>NaN</td>\n",
       "      <td>42</td>\n",
       "      <td>secondary education</td>\n",
       "      <td>1</td>\n",
       "      <td>married</td>\n",
       "      <td>0</td>\n",
       "      <td>F</td>\n",
       "      <td>employee</td>\n",
       "      <td>0</td>\n",
       "      <td>NaN</td>\n",
       "      <td>building a real estate</td>\n",
       "    </tr>\n",
       "    <tr>\n",
       "      <td>21510</td>\n",
       "      <td>2</td>\n",
       "      <td>NaN</td>\n",
       "      <td>28</td>\n",
       "      <td>secondary education</td>\n",
       "      <td>1</td>\n",
       "      <td>married</td>\n",
       "      <td>0</td>\n",
       "      <td>F</td>\n",
       "      <td>employee</td>\n",
       "      <td>0</td>\n",
       "      <td>NaN</td>\n",
       "      <td>car purchase</td>\n",
       "    </tr>\n",
       "  </tbody>\n",
       "</table>\n",
       "<p>2174 rows × 12 columns</p>\n",
       "</div>"
      ],
      "text/plain": [
       "       children  days_employed  dob_years            education  education_id  \\\n",
       "12            0            NaN         65  secondary education             1   \n",
       "26            0            NaN         41  secondary education             1   \n",
       "29            0            NaN         63  secondary education             1   \n",
       "41            0            NaN         50  secondary education             1   \n",
       "55            0            NaN         54  secondary education             1   \n",
       "...         ...            ...        ...                  ...           ...   \n",
       "21489         2            NaN         47  Secondary Education             1   \n",
       "21495         1            NaN         50  secondary education             1   \n",
       "21497         0            NaN         48    BACHELOR'S DEGREE             0   \n",
       "21502         1            NaN         42  secondary education             1   \n",
       "21510         2            NaN         28  secondary education             1   \n",
       "\n",
       "           family_status  family_status_id gender    income_type  debt  \\\n",
       "12     civil partnership                 1      M        retiree     0   \n",
       "26               married                 0      M  civil servant     0   \n",
       "29             unmarried                 4      F        retiree     0   \n",
       "41               married                 0      F  civil servant     0   \n",
       "55     civil partnership                 1      F        retiree     1   \n",
       "...                  ...               ...    ...            ...   ...   \n",
       "21489            married                 0      M       business     0   \n",
       "21495  civil partnership                 1      F       employee     0   \n",
       "21497            married                 0      F       business     0   \n",
       "21502            married                 0      F       employee     0   \n",
       "21510            married                 0      F       employee     0   \n",
       "\n",
       "       total_income                   purpose  \n",
       "12              NaN         to have a wedding  \n",
       "26              NaN                 education  \n",
       "29              NaN    building a real estate  \n",
       "41              NaN  second-hand car purchase  \n",
       "55              NaN         to have a wedding  \n",
       "...             ...                       ...  \n",
       "21489           NaN         purchase of a car  \n",
       "21495           NaN          wedding ceremony  \n",
       "21497           NaN       building a property  \n",
       "21502           NaN    building a real estate  \n",
       "21510           NaN              car purchase  \n",
       "\n",
       "[2174 rows x 12 columns]"
      ]
     },
     "execution_count": 7,
     "metadata": {},
     "output_type": "execute_result"
    }
   ],
   "source": [
    "# applying multiple conditions for filtering data and looking at the number of rows in the filtered table.\n",
    "data[(data['days_employed'].isna()) & (data['total_income'].isna())]\n"
   ]
  },
  {
   "cell_type": "markdown",
   "metadata": {},
   "source": [
    "The filtered table also has 2174 rows, which proves our assumption that values in `days_employed` and `income_type` columns are missed symmetrically. So, probably these values were not filled intentionally. \n",
    "\n",
    "We will explore the data with missing values in `days_employed` and `income_type` columns to find out if the data could be missed due to the specific client characteristic and if there is any dependence missing values have on the value of other indicators. We will check if there is a correlation between missing data and `education`, `family_status`, and `income_type` characteristics. To do this we will compare the percentage of values in each of these characteristics in the rows with missing data with the percentage of values in each of these characteristics in the whole dataset.\n",
    "\n",
    "Checking correlation between missing data and `income_type`:"
   ]
  },
  {
   "cell_type": "code",
   "execution_count": 8,
   "metadata": {},
   "outputs": [
    {
     "data": {
      "text/html": [
       "<div>\n",
       "<style scoped>\n",
       "    .dataframe tbody tr th:only-of-type {\n",
       "        vertical-align: middle;\n",
       "    }\n",
       "\n",
       "    .dataframe tbody tr th {\n",
       "        vertical-align: top;\n",
       "    }\n",
       "\n",
       "    .dataframe thead th {\n",
       "        text-align: right;\n",
       "    }\n",
       "</style>\n",
       "<table border=\"1\" class=\"dataframe\">\n",
       "  <thead>\n",
       "    <tr style=\"text-align: right;\">\n",
       "      <th></th>\n",
       "      <th>income_type</th>\n",
       "    </tr>\n",
       "  </thead>\n",
       "  <tbody>\n",
       "    <tr>\n",
       "      <td>employee</td>\n",
       "      <td>51.66</td>\n",
       "    </tr>\n",
       "    <tr>\n",
       "      <td>business</td>\n",
       "      <td>23.62</td>\n",
       "    </tr>\n",
       "    <tr>\n",
       "      <td>retiree</td>\n",
       "      <td>17.91</td>\n",
       "    </tr>\n",
       "    <tr>\n",
       "      <td>civil servant</td>\n",
       "      <td>6.78</td>\n",
       "    </tr>\n",
       "    <tr>\n",
       "      <td>unemployed</td>\n",
       "      <td>0.01</td>\n",
       "    </tr>\n",
       "    <tr>\n",
       "      <td>entrepreneur</td>\n",
       "      <td>0.01</td>\n",
       "    </tr>\n",
       "    <tr>\n",
       "      <td>paternity / maternity leave</td>\n",
       "      <td>0.00</td>\n",
       "    </tr>\n",
       "    <tr>\n",
       "      <td>student</td>\n",
       "      <td>0.00</td>\n",
       "    </tr>\n",
       "  </tbody>\n",
       "</table>\n",
       "</div>"
      ],
      "text/plain": [
       "                             income_type\n",
       "employee                           51.66\n",
       "business                           23.62\n",
       "retiree                            17.91\n",
       "civil servant                       6.78\n",
       "unemployed                          0.01\n",
       "entrepreneur                        0.01\n",
       "paternity / maternity leave         0.00\n",
       "student                             0.00"
      ]
     },
     "metadata": {},
     "output_type": "display_data"
    },
    {
     "name": "stdout",
     "output_type": "stream",
     "text": [
      "\n"
     ]
    },
    {
     "data": {
      "text/html": [
       "<div>\n",
       "<style scoped>\n",
       "    .dataframe tbody tr th:only-of-type {\n",
       "        vertical-align: middle;\n",
       "    }\n",
       "\n",
       "    .dataframe tbody tr th {\n",
       "        vertical-align: top;\n",
       "    }\n",
       "\n",
       "    .dataframe thead th {\n",
       "        text-align: right;\n",
       "    }\n",
       "</style>\n",
       "<table border=\"1\" class=\"dataframe\">\n",
       "  <thead>\n",
       "    <tr style=\"text-align: right;\">\n",
       "      <th></th>\n",
       "      <th>income_type</th>\n",
       "    </tr>\n",
       "  </thead>\n",
       "  <tbody>\n",
       "    <tr>\n",
       "      <td>employee</td>\n",
       "      <td>50.83</td>\n",
       "    </tr>\n",
       "    <tr>\n",
       "      <td>business</td>\n",
       "      <td>23.37</td>\n",
       "    </tr>\n",
       "    <tr>\n",
       "      <td>retiree</td>\n",
       "      <td>19.00</td>\n",
       "    </tr>\n",
       "    <tr>\n",
       "      <td>civil servant</td>\n",
       "      <td>6.76</td>\n",
       "    </tr>\n",
       "    <tr>\n",
       "      <td>entrepreneur</td>\n",
       "      <td>0.05</td>\n",
       "    </tr>\n",
       "  </tbody>\n",
       "</table>\n",
       "</div>"
      ],
      "text/plain": [
       "               income_type\n",
       "employee             50.83\n",
       "business             23.37\n",
       "retiree              19.00\n",
       "civil servant         6.76\n",
       "entrepreneur          0.05"
      ]
     },
     "metadata": {},
     "output_type": "display_data"
    }
   ],
   "source": [
    "#obtaining value counts for income_type column for rows where data is missing\n",
    "income_types_with_missing_values=data[data['days_employed'].isna()]['income_type'].value_counts().to_frame()\n",
    "\n",
    "#calculating percentage of each income type in total number of rows where data is missing\n",
    "income_types_with_missing_values_percent=round((income_types_with_missing_values/income_types_with_missing_values.sum())*100,2)\n",
    "\n",
    "#obtaining value counts for income_type column for whole dataset\n",
    "income_types_values=data['income_type'].value_counts().to_frame()\n",
    "\n",
    "#calculating percentage of each income type in total number of rows in whole dataset\n",
    "income_types_values_percent=round((income_types_values/income_types_values.sum())*100,2)\n",
    "\n",
    "#displaying percentage of each income type in total number of rows where data is missing\n",
    "display(income_types_values_percent)\n",
    "print()\n",
    "\n",
    "#displaying percentage of each income type in total number of rows in whole dataset\n",
    "display(income_types_with_missing_values_percent)"
   ]
  },
  {
   "cell_type": "markdown",
   "metadata": {},
   "source": [
    "Checking correlation beteween missing data and `family_status`:"
   ]
  },
  {
   "cell_type": "code",
   "execution_count": 9,
   "metadata": {},
   "outputs": [
    {
     "data": {
      "text/html": [
       "<div>\n",
       "<style scoped>\n",
       "    .dataframe tbody tr th:only-of-type {\n",
       "        vertical-align: middle;\n",
       "    }\n",
       "\n",
       "    .dataframe tbody tr th {\n",
       "        vertical-align: top;\n",
       "    }\n",
       "\n",
       "    .dataframe thead th {\n",
       "        text-align: right;\n",
       "    }\n",
       "</style>\n",
       "<table border=\"1\" class=\"dataframe\">\n",
       "  <thead>\n",
       "    <tr style=\"text-align: right;\">\n",
       "      <th></th>\n",
       "      <th>family_status</th>\n",
       "    </tr>\n",
       "  </thead>\n",
       "  <tbody>\n",
       "    <tr>\n",
       "      <td>married</td>\n",
       "      <td>57.51</td>\n",
       "    </tr>\n",
       "    <tr>\n",
       "      <td>civil partnership</td>\n",
       "      <td>19.41</td>\n",
       "    </tr>\n",
       "    <tr>\n",
       "      <td>unmarried</td>\n",
       "      <td>13.07</td>\n",
       "    </tr>\n",
       "    <tr>\n",
       "      <td>divorced</td>\n",
       "      <td>5.55</td>\n",
       "    </tr>\n",
       "    <tr>\n",
       "      <td>widow / widower</td>\n",
       "      <td>4.46</td>\n",
       "    </tr>\n",
       "  </tbody>\n",
       "</table>\n",
       "</div>"
      ],
      "text/plain": [
       "                   family_status\n",
       "married                    57.51\n",
       "civil partnership          19.41\n",
       "unmarried                  13.07\n",
       "divorced                    5.55\n",
       "widow / widower             4.46"
      ]
     },
     "metadata": {},
     "output_type": "display_data"
    },
    {
     "name": "stdout",
     "output_type": "stream",
     "text": [
      "\n"
     ]
    },
    {
     "data": {
      "text/html": [
       "<div>\n",
       "<style scoped>\n",
       "    .dataframe tbody tr th:only-of-type {\n",
       "        vertical-align: middle;\n",
       "    }\n",
       "\n",
       "    .dataframe tbody tr th {\n",
       "        vertical-align: top;\n",
       "    }\n",
       "\n",
       "    .dataframe thead th {\n",
       "        text-align: right;\n",
       "    }\n",
       "</style>\n",
       "<table border=\"1\" class=\"dataframe\">\n",
       "  <thead>\n",
       "    <tr style=\"text-align: right;\">\n",
       "      <th></th>\n",
       "      <th>family_status</th>\n",
       "    </tr>\n",
       "  </thead>\n",
       "  <tbody>\n",
       "    <tr>\n",
       "      <td>married</td>\n",
       "      <td>56.90</td>\n",
       "    </tr>\n",
       "    <tr>\n",
       "      <td>civil partnership</td>\n",
       "      <td>20.33</td>\n",
       "    </tr>\n",
       "    <tr>\n",
       "      <td>unmarried</td>\n",
       "      <td>13.25</td>\n",
       "    </tr>\n",
       "    <tr>\n",
       "      <td>divorced</td>\n",
       "      <td>5.15</td>\n",
       "    </tr>\n",
       "    <tr>\n",
       "      <td>widow / widower</td>\n",
       "      <td>4.37</td>\n",
       "    </tr>\n",
       "  </tbody>\n",
       "</table>\n",
       "</div>"
      ],
      "text/plain": [
       "                   family_status\n",
       "married                    56.90\n",
       "civil partnership          20.33\n",
       "unmarried                  13.25\n",
       "divorced                    5.15\n",
       "widow / widower             4.37"
      ]
     },
     "metadata": {},
     "output_type": "display_data"
    }
   ],
   "source": [
    "#obtaining value counts for family status column for rows where data is missing\n",
    "family_status_with_missing_values=data[data['days_employed'].isna()]['family_status'].value_counts().to_frame()\n",
    "\n",
    "#calculating percentage of each family status in total number of rows where data is missing\n",
    "family_status_with_missing_values_percent=round((family_status_with_missing_values/family_status_with_missing_values.sum())*100,2)\n",
    "\n",
    "#obtaining value counts for family status column for whole dataset\n",
    "family_status_values=data['family_status'].value_counts().to_frame()\n",
    "\n",
    "#calculating percentage of each family status in total number of rows in whole dataset\n",
    "family_status_values_percent=round((family_status_values/family_status_values.sum())*100,2)\n",
    "\n",
    "#displaying percentage of each family status in total number of rows where data is missing\n",
    "display(family_status_values_percent)\n",
    "print()\n",
    "\n",
    "#displaying percentage of each family status in total number of rows in whole dataset\n",
    "display(family_status_with_missing_values_percent)"
   ]
  },
  {
   "cell_type": "markdown",
   "metadata": {},
   "source": [
    "Checking correlation beteween missing data and `education`:"
   ]
  },
  {
   "cell_type": "code",
   "execution_count": 10,
   "metadata": {},
   "outputs": [
    {
     "data": {
      "text/html": [
       "<div>\n",
       "<style scoped>\n",
       "    .dataframe tbody tr th:only-of-type {\n",
       "        vertical-align: middle;\n",
       "    }\n",
       "\n",
       "    .dataframe tbody tr th {\n",
       "        vertical-align: top;\n",
       "    }\n",
       "\n",
       "    .dataframe thead th {\n",
       "        text-align: right;\n",
       "    }\n",
       "</style>\n",
       "<table border=\"1\" class=\"dataframe\">\n",
       "  <thead>\n",
       "    <tr style=\"text-align: right;\">\n",
       "      <th></th>\n",
       "      <th>education</th>\n",
       "    </tr>\n",
       "  </thead>\n",
       "  <tbody>\n",
       "    <tr>\n",
       "      <td>secondary education</td>\n",
       "      <td>63.88</td>\n",
       "    </tr>\n",
       "    <tr>\n",
       "      <td>bachelor's degree</td>\n",
       "      <td>21.92</td>\n",
       "    </tr>\n",
       "    <tr>\n",
       "      <td>SECONDARY EDUCATION</td>\n",
       "      <td>3.59</td>\n",
       "    </tr>\n",
       "    <tr>\n",
       "      <td>Secondary Education</td>\n",
       "      <td>3.30</td>\n",
       "    </tr>\n",
       "    <tr>\n",
       "      <td>some college</td>\n",
       "      <td>3.10</td>\n",
       "    </tr>\n",
       "    <tr>\n",
       "      <td>BACHELOR'S DEGREE</td>\n",
       "      <td>1.27</td>\n",
       "    </tr>\n",
       "    <tr>\n",
       "      <td>Bachelor's Degree</td>\n",
       "      <td>1.25</td>\n",
       "    </tr>\n",
       "    <tr>\n",
       "      <td>primary education</td>\n",
       "      <td>1.16</td>\n",
       "    </tr>\n",
       "    <tr>\n",
       "      <td>Some College</td>\n",
       "      <td>0.22</td>\n",
       "    </tr>\n",
       "    <tr>\n",
       "      <td>SOME COLLEGE</td>\n",
       "      <td>0.13</td>\n",
       "    </tr>\n",
       "    <tr>\n",
       "      <td>PRIMARY EDUCATION</td>\n",
       "      <td>0.08</td>\n",
       "    </tr>\n",
       "    <tr>\n",
       "      <td>Primary Education</td>\n",
       "      <td>0.07</td>\n",
       "    </tr>\n",
       "    <tr>\n",
       "      <td>graduate degree</td>\n",
       "      <td>0.02</td>\n",
       "    </tr>\n",
       "    <tr>\n",
       "      <td>Graduate Degree</td>\n",
       "      <td>0.00</td>\n",
       "    </tr>\n",
       "    <tr>\n",
       "      <td>GRADUATE DEGREE</td>\n",
       "      <td>0.00</td>\n",
       "    </tr>\n",
       "  </tbody>\n",
       "</table>\n",
       "</div>"
      ],
      "text/plain": [
       "                     education\n",
       "secondary education      63.88\n",
       "bachelor's degree        21.92\n",
       "SECONDARY EDUCATION       3.59\n",
       "Secondary Education       3.30\n",
       "some college              3.10\n",
       "BACHELOR'S DEGREE         1.27\n",
       "Bachelor's Degree         1.25\n",
       "primary education         1.16\n",
       "Some College              0.22\n",
       "SOME COLLEGE              0.13\n",
       "PRIMARY EDUCATION         0.08\n",
       "Primary Education         0.07\n",
       "graduate degree           0.02\n",
       "Graduate Degree           0.00\n",
       "GRADUATE DEGREE           0.00"
      ]
     },
     "metadata": {},
     "output_type": "display_data"
    },
    {
     "name": "stdout",
     "output_type": "stream",
     "text": [
      "\n"
     ]
    },
    {
     "data": {
      "text/html": [
       "<div>\n",
       "<style scoped>\n",
       "    .dataframe tbody tr th:only-of-type {\n",
       "        vertical-align: middle;\n",
       "    }\n",
       "\n",
       "    .dataframe tbody tr th {\n",
       "        vertical-align: top;\n",
       "    }\n",
       "\n",
       "    .dataframe thead th {\n",
       "        text-align: right;\n",
       "    }\n",
       "</style>\n",
       "<table border=\"1\" class=\"dataframe\">\n",
       "  <thead>\n",
       "    <tr style=\"text-align: right;\">\n",
       "      <th></th>\n",
       "      <th>education</th>\n",
       "    </tr>\n",
       "  </thead>\n",
       "  <tbody>\n",
       "    <tr>\n",
       "      <td>secondary education</td>\n",
       "      <td>64.77</td>\n",
       "    </tr>\n",
       "    <tr>\n",
       "      <td>bachelor's degree</td>\n",
       "      <td>22.82</td>\n",
       "    </tr>\n",
       "    <tr>\n",
       "      <td>SECONDARY EDUCATION</td>\n",
       "      <td>3.08</td>\n",
       "    </tr>\n",
       "    <tr>\n",
       "      <td>Secondary Education</td>\n",
       "      <td>2.99</td>\n",
       "    </tr>\n",
       "    <tr>\n",
       "      <td>some college</td>\n",
       "      <td>2.53</td>\n",
       "    </tr>\n",
       "    <tr>\n",
       "      <td>Bachelor's Degree</td>\n",
       "      <td>1.15</td>\n",
       "    </tr>\n",
       "    <tr>\n",
       "      <td>BACHELOR'S DEGREE</td>\n",
       "      <td>1.06</td>\n",
       "    </tr>\n",
       "    <tr>\n",
       "      <td>primary education</td>\n",
       "      <td>0.87</td>\n",
       "    </tr>\n",
       "    <tr>\n",
       "      <td>Some College</td>\n",
       "      <td>0.32</td>\n",
       "    </tr>\n",
       "    <tr>\n",
       "      <td>SOME COLLEGE</td>\n",
       "      <td>0.32</td>\n",
       "    </tr>\n",
       "    <tr>\n",
       "      <td>Primary Education</td>\n",
       "      <td>0.05</td>\n",
       "    </tr>\n",
       "    <tr>\n",
       "      <td>PRIMARY EDUCATION</td>\n",
       "      <td>0.05</td>\n",
       "    </tr>\n",
       "  </tbody>\n",
       "</table>\n",
       "</div>"
      ],
      "text/plain": [
       "                     education\n",
       "secondary education      64.77\n",
       "bachelor's degree        22.82\n",
       "SECONDARY EDUCATION       3.08\n",
       "Secondary Education       2.99\n",
       "some college              2.53\n",
       "Bachelor's Degree         1.15\n",
       "BACHELOR'S DEGREE         1.06\n",
       "primary education         0.87\n",
       "Some College              0.32\n",
       "SOME COLLEGE              0.32\n",
       "Primary Education         0.05\n",
       "PRIMARY EDUCATION         0.05"
      ]
     },
     "metadata": {},
     "output_type": "display_data"
    }
   ],
   "source": [
    "#obtaining value counts for education column for rows where data is missing\n",
    "education_with_missing_values=data[data['days_employed'].isna()]['education'].value_counts().to_frame()\n",
    "\n",
    "#calculating percentage of each education type in total number of rows where data is missing\n",
    "education_with_missing_values_percent=round((education_with_missing_values/education_with_missing_values.sum())*100,2)\n",
    "\n",
    "#obtaining value counts for education column for whole dataset\n",
    "education_values=data['education'].value_counts().to_frame()\n",
    "\n",
    "#calculating percentage of each education type in total number of rows in whole dataset\n",
    "education_values_percent=round((education_values/education_values.sum())*100,2)\n",
    "\n",
    "#displaying percentage of each education type in total number of rows where data is missing\n",
    "display(education_values_percent)\n",
    "print()\n",
    "\n",
    "#displaying percentage of each education type in total number of rows in whole dataset\n",
    "display(education_with_missing_values_percent)"
   ]
  },
  {
   "cell_type": "markdown",
   "metadata": {},
   "source": [
    "There does not look to be a correlation between missing data and `education`, `family_status` and `income_type` characteristics. The percentage of values in each of these characteristics in the rows with missing data is similar to the percentage of values in each of these characteristics in the whole dataset.\n",
    "\n",
    "Next, we will check the percentage of the missing values compared to the whole dataset to decide how to proceed with the missing values."
   ]
  },
  {
   "cell_type": "code",
   "execution_count": 11,
   "metadata": {},
   "outputs": [
    {
     "data": {
      "text/plain": [
       "10.1"
      ]
     },
     "execution_count": 11,
     "metadata": {},
     "output_type": "execute_result"
    }
   ],
   "source": [
    "#Calculating the percentage of the missing values compared to the whole dataset\n",
    "round((data['days_employed'].isnull().sum()/data.shape[0])*100,2)"
   ]
  },
  {
   "cell_type": "markdown",
   "metadata": {},
   "source": [
    "The rows with missing values comprise 10.1% of the dataset. Since there is no correlation between missing values and data in other fields, and also taking into consideration the fact that the dataset is big enough, we will drop rows with missing values. This should not significantly affect the result.\n",
    "\n",
    "Dropping rows with missing values:"
   ]
  },
  {
   "cell_type": "code",
   "execution_count": 12,
   "metadata": {},
   "outputs": [
    {
     "name": "stdout",
     "output_type": "stream",
     "text": [
      "(19351, 12)\n",
      "\n",
      "<class 'pandas.core.frame.DataFrame'>\n",
      "Int64Index: 19351 entries, 0 to 21524\n",
      "Data columns (total 12 columns):\n",
      "children            19351 non-null int64\n",
      "days_employed       19351 non-null float64\n",
      "dob_years           19351 non-null int64\n",
      "education           19351 non-null object\n",
      "education_id        19351 non-null int64\n",
      "family_status       19351 non-null object\n",
      "family_status_id    19351 non-null int64\n",
      "gender              19351 non-null object\n",
      "income_type         19351 non-null object\n",
      "debt                19351 non-null int64\n",
      "total_income        19351 non-null float64\n",
      "purpose             19351 non-null object\n",
      "dtypes: float64(2), int64(5), object(5)\n",
      "memory usage: 1.9+ MB\n"
     ]
    }
   ],
   "source": [
    "#getting the index of rows with missing values\n",
    "index_total_income_na=data.loc[data['total_income'].isna()].index\n",
    "\n",
    "#dropping rows with missing values\n",
    "data=data.drop(index_total_income_na)\n",
    "\n",
    "#printing shape and info of the new table to ensure that missing dat was deleted\n",
    "print(data.shape)\n",
    "print()\n",
    "data.info()"
   ]
  },
  {
   "cell_type": "markdown",
   "metadata": {},
   "source": [
    "**Conclusions**\n",
    "\n",
    "We have not identified any pattern in missing data. Taking into consideration the percent of rows with missing values and the size of the dataset, we dropped rows with missing values."
   ]
  },
  {
   "cell_type": "markdown",
   "metadata": {},
   "source": [
    "## Data transformation <a id='data_transformation'></a>\n",
    "\n",
    "At the next step, we will have a deeper look at each other column one by one to identify and fix the issues they have with the data.\n",
    "\n",
    "**`education` column**\n",
    "\n",
    "Displaying all unique values in that column first:"
   ]
  },
  {
   "cell_type": "code",
   "execution_count": 13,
   "metadata": {},
   "outputs": [
    {
     "data": {
      "text/html": [
       "<div>\n",
       "<style scoped>\n",
       "    .dataframe tbody tr th:only-of-type {\n",
       "        vertical-align: middle;\n",
       "    }\n",
       "\n",
       "    .dataframe tbody tr th {\n",
       "        vertical-align: top;\n",
       "    }\n",
       "\n",
       "    .dataframe thead th {\n",
       "        text-align: right;\n",
       "    }\n",
       "</style>\n",
       "<table border=\"1\" class=\"dataframe\">\n",
       "  <thead>\n",
       "    <tr style=\"text-align: right;\">\n",
       "      <th></th>\n",
       "      <th>education</th>\n",
       "    </tr>\n",
       "  </thead>\n",
       "  <tbody>\n",
       "    <tr>\n",
       "      <td>secondary education</td>\n",
       "      <td>12342</td>\n",
       "    </tr>\n",
       "    <tr>\n",
       "      <td>bachelor's degree</td>\n",
       "      <td>4222</td>\n",
       "    </tr>\n",
       "    <tr>\n",
       "      <td>SECONDARY EDUCATION</td>\n",
       "      <td>705</td>\n",
       "    </tr>\n",
       "    <tr>\n",
       "      <td>Secondary Education</td>\n",
       "      <td>646</td>\n",
       "    </tr>\n",
       "    <tr>\n",
       "      <td>some college</td>\n",
       "      <td>613</td>\n",
       "    </tr>\n",
       "    <tr>\n",
       "      <td>BACHELOR'S DEGREE</td>\n",
       "      <td>251</td>\n",
       "    </tr>\n",
       "    <tr>\n",
       "      <td>Bachelor's Degree</td>\n",
       "      <td>243</td>\n",
       "    </tr>\n",
       "    <tr>\n",
       "      <td>primary education</td>\n",
       "      <td>231</td>\n",
       "    </tr>\n",
       "    <tr>\n",
       "      <td>Some College</td>\n",
       "      <td>40</td>\n",
       "    </tr>\n",
       "    <tr>\n",
       "      <td>SOME COLLEGE</td>\n",
       "      <td>22</td>\n",
       "    </tr>\n",
       "    <tr>\n",
       "      <td>PRIMARY EDUCATION</td>\n",
       "      <td>16</td>\n",
       "    </tr>\n",
       "    <tr>\n",
       "      <td>Primary Education</td>\n",
       "      <td>14</td>\n",
       "    </tr>\n",
       "    <tr>\n",
       "      <td>graduate degree</td>\n",
       "      <td>4</td>\n",
       "    </tr>\n",
       "    <tr>\n",
       "      <td>Graduate Degree</td>\n",
       "      <td>1</td>\n",
       "    </tr>\n",
       "    <tr>\n",
       "      <td>GRADUATE DEGREE</td>\n",
       "      <td>1</td>\n",
       "    </tr>\n",
       "  </tbody>\n",
       "</table>\n",
       "</div>"
      ],
      "text/plain": [
       "                     education\n",
       "secondary education      12342\n",
       "bachelor's degree         4222\n",
       "SECONDARY EDUCATION        705\n",
       "Secondary Education        646\n",
       "some college               613\n",
       "BACHELOR'S DEGREE          251\n",
       "Bachelor's Degree          243\n",
       "primary education          231\n",
       "Some College                40\n",
       "SOME COLLEGE                22\n",
       "PRIMARY EDUCATION           16\n",
       "Primary Education           14\n",
       "graduate degree              4\n",
       "Graduate Degree              1\n",
       "GRADUATE DEGREE              1"
      ]
     },
     "execution_count": 13,
     "metadata": {},
     "output_type": "execute_result"
    }
   ],
   "source": [
    "# obtaining all values in education column to check if and what spellings will need to be fixed\n",
    "data['education'].value_counts().to_frame()"
   ]
  },
  {
   "cell_type": "markdown",
   "metadata": {},
   "source": [
    "As can be seen, there are duplicate category types written in a different register. To fix it, we will cast all `education` column values to lower case."
   ]
  },
  {
   "cell_type": "code",
   "execution_count": 14,
   "metadata": {
    "scrolled": true
   },
   "outputs": [],
   "source": [
    "# fixing the registers\n",
    "data['education']=data['education'].str.lower()\n"
   ]
  },
  {
   "cell_type": "markdown",
   "metadata": {},
   "source": [
    "Checking all the values in the column to make sure we fixed them:"
   ]
  },
  {
   "cell_type": "code",
   "execution_count": 15,
   "metadata": {},
   "outputs": [
    {
     "data": {
      "text/html": [
       "<div>\n",
       "<style scoped>\n",
       "    .dataframe tbody tr th:only-of-type {\n",
       "        vertical-align: middle;\n",
       "    }\n",
       "\n",
       "    .dataframe tbody tr th {\n",
       "        vertical-align: top;\n",
       "    }\n",
       "\n",
       "    .dataframe thead th {\n",
       "        text-align: right;\n",
       "    }\n",
       "</style>\n",
       "<table border=\"1\" class=\"dataframe\">\n",
       "  <thead>\n",
       "    <tr style=\"text-align: right;\">\n",
       "      <th></th>\n",
       "      <th>education</th>\n",
       "    </tr>\n",
       "  </thead>\n",
       "  <tbody>\n",
       "    <tr>\n",
       "      <td>secondary education</td>\n",
       "      <td>13693</td>\n",
       "    </tr>\n",
       "    <tr>\n",
       "      <td>bachelor's degree</td>\n",
       "      <td>4716</td>\n",
       "    </tr>\n",
       "    <tr>\n",
       "      <td>some college</td>\n",
       "      <td>675</td>\n",
       "    </tr>\n",
       "    <tr>\n",
       "      <td>primary education</td>\n",
       "      <td>261</td>\n",
       "    </tr>\n",
       "    <tr>\n",
       "      <td>graduate degree</td>\n",
       "      <td>6</td>\n",
       "    </tr>\n",
       "  </tbody>\n",
       "</table>\n",
       "</div>"
      ],
      "text/plain": [
       "                     education\n",
       "secondary education      13693\n",
       "bachelor's degree         4716\n",
       "some college               675\n",
       "primary education          261\n",
       "graduate degree              6"
      ]
     },
     "execution_count": 15,
     "metadata": {},
     "output_type": "execute_result"
    }
   ],
   "source": [
    "# obtaining all values in education again after the fix\n",
    "data['education'].value_counts().to_frame()\n"
   ]
  },
  {
   "cell_type": "markdown",
   "metadata": {},
   "source": [
    "**`children` colunm**\n",
    "\n",
    "Displaying all unique values in that column:"
   ]
  },
  {
   "cell_type": "code",
   "execution_count": 16,
   "metadata": {},
   "outputs": [
    {
     "data": {
      "text/html": [
       "<div>\n",
       "<style scoped>\n",
       "    .dataframe tbody tr th:only-of-type {\n",
       "        vertical-align: middle;\n",
       "    }\n",
       "\n",
       "    .dataframe tbody tr th {\n",
       "        vertical-align: top;\n",
       "    }\n",
       "\n",
       "    .dataframe thead th {\n",
       "        text-align: right;\n",
       "    }\n",
       "</style>\n",
       "<table border=\"1\" class=\"dataframe\">\n",
       "  <thead>\n",
       "    <tr style=\"text-align: right;\">\n",
       "      <th></th>\n",
       "      <th>children</th>\n",
       "    </tr>\n",
       "  </thead>\n",
       "  <tbody>\n",
       "    <tr>\n",
       "      <td>0</td>\n",
       "      <td>12710</td>\n",
       "    </tr>\n",
       "    <tr>\n",
       "      <td>1</td>\n",
       "      <td>4343</td>\n",
       "    </tr>\n",
       "    <tr>\n",
       "      <td>2</td>\n",
       "      <td>1851</td>\n",
       "    </tr>\n",
       "    <tr>\n",
       "      <td>3</td>\n",
       "      <td>294</td>\n",
       "    </tr>\n",
       "    <tr>\n",
       "      <td>20</td>\n",
       "      <td>67</td>\n",
       "    </tr>\n",
       "    <tr>\n",
       "      <td>-1</td>\n",
       "      <td>44</td>\n",
       "    </tr>\n",
       "    <tr>\n",
       "      <td>4</td>\n",
       "      <td>34</td>\n",
       "    </tr>\n",
       "    <tr>\n",
       "      <td>5</td>\n",
       "      <td>8</td>\n",
       "    </tr>\n",
       "  </tbody>\n",
       "</table>\n",
       "</div>"
      ],
      "text/plain": [
       "     children\n",
       " 0      12710\n",
       " 1       4343\n",
       " 2       1851\n",
       " 3        294\n",
       " 20        67\n",
       "-1         44\n",
       " 4         34\n",
       " 5          8"
      ]
     },
     "execution_count": 16,
     "metadata": {},
     "output_type": "execute_result"
    }
   ],
   "source": [
    "# chcking the distribution of values in the `children` column\n",
    "data['children'].value_counts().to_frame()\n"
   ]
  },
  {
   "cell_type": "markdown",
   "metadata": {},
   "source": [
    "There are two problematic values in that column: '-1' and '20'. The number of children cannot be negative, and it is unlikely that someone can have 20 children. Since there are only two anomaly values, it is most likely a technical error. Value '-1' could be a value '1' accidentally preposed with '-' sign. For value '20' it is difficult to tell what the original is was, is it '0', '2' or everything greater than '5'. The number of children could correlate with income level or with age. We will calculate the mean income amount and age for each number of children to see if there is any pattern and if based on that pattern we can determine what is the actual value for value '20' should be.\n",
    "\n",
    "Checking if there is a correlation between income level and number of children:"
   ]
  },
  {
   "cell_type": "code",
   "execution_count": 17,
   "metadata": {},
   "outputs": [
    {
     "data": {
      "text/html": [
       "<div>\n",
       "<style scoped>\n",
       "    .dataframe tbody tr th:only-of-type {\n",
       "        vertical-align: middle;\n",
       "    }\n",
       "\n",
       "    .dataframe tbody tr th {\n",
       "        vertical-align: top;\n",
       "    }\n",
       "\n",
       "    .dataframe thead th {\n",
       "        text-align: right;\n",
       "    }\n",
       "</style>\n",
       "<table border=\"1\" class=\"dataframe\">\n",
       "  <thead>\n",
       "    <tr style=\"text-align: right;\">\n",
       "      <th></th>\n",
       "      <th>total_income</th>\n",
       "    </tr>\n",
       "    <tr>\n",
       "      <th>children</th>\n",
       "      <th></th>\n",
       "    </tr>\n",
       "  </thead>\n",
       "  <tbody>\n",
       "    <tr>\n",
       "      <td>-1</td>\n",
       "      <td>24618.108614</td>\n",
       "    </tr>\n",
       "    <tr>\n",
       "      <td>0</td>\n",
       "      <td>26422.404866</td>\n",
       "    </tr>\n",
       "    <tr>\n",
       "      <td>1</td>\n",
       "      <td>27396.494050</td>\n",
       "    </tr>\n",
       "    <tr>\n",
       "      <td>2</td>\n",
       "      <td>27496.357898</td>\n",
       "    </tr>\n",
       "    <tr>\n",
       "      <td>3</td>\n",
       "      <td>29322.623993</td>\n",
       "    </tr>\n",
       "    <tr>\n",
       "      <td>4</td>\n",
       "      <td>27289.829647</td>\n",
       "    </tr>\n",
       "    <tr>\n",
       "      <td>5</td>\n",
       "      <td>27268.847250</td>\n",
       "    </tr>\n",
       "    <tr>\n",
       "      <td>20</td>\n",
       "      <td>26995.284209</td>\n",
       "    </tr>\n",
       "  </tbody>\n",
       "</table>\n",
       "</div>"
      ],
      "text/plain": [
       "          total_income\n",
       "children              \n",
       "-1        24618.108614\n",
       " 0        26422.404866\n",
       " 1        27396.494050\n",
       " 2        27496.357898\n",
       " 3        29322.623993\n",
       " 4        27289.829647\n",
       " 5        27268.847250\n",
       " 20       26995.284209"
      ]
     },
     "execution_count": 17,
     "metadata": {},
     "output_type": "execute_result"
    }
   ],
   "source": [
    "#culculating mean income amount for each number of children\n",
    "data.groupby('children')['total_income'].mean().to_frame()"
   ]
  },
  {
   "cell_type": "markdown",
   "metadata": {},
   "source": [
    "Checking if there is correlation between age ond number of children:"
   ]
  },
  {
   "cell_type": "code",
   "execution_count": 18,
   "metadata": {},
   "outputs": [
    {
     "data": {
      "text/html": [
       "<div>\n",
       "<style scoped>\n",
       "    .dataframe tbody tr th:only-of-type {\n",
       "        vertical-align: middle;\n",
       "    }\n",
       "\n",
       "    .dataframe tbody tr th {\n",
       "        vertical-align: top;\n",
       "    }\n",
       "\n",
       "    .dataframe thead th {\n",
       "        text-align: right;\n",
       "    }\n",
       "</style>\n",
       "<table border=\"1\" class=\"dataframe\">\n",
       "  <thead>\n",
       "    <tr style=\"text-align: right;\">\n",
       "      <th></th>\n",
       "      <th>dob_years</th>\n",
       "    </tr>\n",
       "    <tr>\n",
       "      <th>children</th>\n",
       "      <th></th>\n",
       "    </tr>\n",
       "  </thead>\n",
       "  <tbody>\n",
       "    <tr>\n",
       "      <td>-1</td>\n",
       "      <td>42.431818</td>\n",
       "    </tr>\n",
       "    <tr>\n",
       "      <td>0</td>\n",
       "      <td>46.214083</td>\n",
       "    </tr>\n",
       "    <tr>\n",
       "      <td>1</td>\n",
       "      <td>38.394428</td>\n",
       "    </tr>\n",
       "    <tr>\n",
       "      <td>2</td>\n",
       "      <td>35.720151</td>\n",
       "    </tr>\n",
       "    <tr>\n",
       "      <td>3</td>\n",
       "      <td>36.261905</td>\n",
       "    </tr>\n",
       "    <tr>\n",
       "      <td>4</td>\n",
       "      <td>34.911765</td>\n",
       "    </tr>\n",
       "    <tr>\n",
       "      <td>5</td>\n",
       "      <td>38.375000</td>\n",
       "    </tr>\n",
       "    <tr>\n",
       "      <td>20</td>\n",
       "      <td>41.283582</td>\n",
       "    </tr>\n",
       "  </tbody>\n",
       "</table>\n",
       "</div>"
      ],
      "text/plain": [
       "          dob_years\n",
       "children           \n",
       "-1        42.431818\n",
       " 0        46.214083\n",
       " 1        38.394428\n",
       " 2        35.720151\n",
       " 3        36.261905\n",
       " 4        34.911765\n",
       " 5        38.375000\n",
       " 20       41.283582"
      ]
     },
     "execution_count": 18,
     "metadata": {},
     "output_type": "execute_result"
    }
   ],
   "source": [
    "#culculating mean age for each number of children\n",
    "data.groupby('children')['dob_years'].mean().to_frame()"
   ]
  },
  {
   "cell_type": "markdown",
   "metadata": {},
   "source": [
    "There does not seem to be a pattern in the number of children based on income level and age. Therefore, we cannot determine what the correct value for value '20' should be. Replacing this value with a mean or median value may add error when answering the question about the correlation between the number of children and the ability to repay a loan, therefore it would be better to drop rows that have this value to avoid the error. In addition, the number of rows that have 20 children in the children column is just 67 out of 19351 which is less than 0.5% of the total number of rows. So, it should not significantly impact the end result. For value '-1' we will be stuck to our assumption and replace it with '1'."
   ]
  },
  {
   "cell_type": "code",
   "execution_count": 19,
   "metadata": {},
   "outputs": [],
   "source": [
    "# replacing value '-1' in children column with '1'\n",
    "data.loc[data['children']==-1,'children']=1\n",
    "\n",
    "# obtaining index of rows that have value '20' in children column\n",
    "index_20_children=data.loc[data['children']==20].index\n",
    "\n",
    "# dropping rows that have value '20' in children column\n",
    "data=data.drop(index_20_children)\n"
   ]
  },
  {
   "cell_type": "markdown",
   "metadata": {},
   "source": [
    "Confirming that data in `children` column was fixed:"
   ]
  },
  {
   "cell_type": "code",
   "execution_count": 20,
   "metadata": {},
   "outputs": [
    {
     "data": {
      "text/html": [
       "<div>\n",
       "<style scoped>\n",
       "    .dataframe tbody tr th:only-of-type {\n",
       "        vertical-align: middle;\n",
       "    }\n",
       "\n",
       "    .dataframe tbody tr th {\n",
       "        vertical-align: top;\n",
       "    }\n",
       "\n",
       "    .dataframe thead th {\n",
       "        text-align: right;\n",
       "    }\n",
       "</style>\n",
       "<table border=\"1\" class=\"dataframe\">\n",
       "  <thead>\n",
       "    <tr style=\"text-align: right;\">\n",
       "      <th></th>\n",
       "      <th>children</th>\n",
       "    </tr>\n",
       "  </thead>\n",
       "  <tbody>\n",
       "    <tr>\n",
       "      <td>0</td>\n",
       "      <td>12710</td>\n",
       "    </tr>\n",
       "    <tr>\n",
       "      <td>1</td>\n",
       "      <td>4387</td>\n",
       "    </tr>\n",
       "    <tr>\n",
       "      <td>2</td>\n",
       "      <td>1851</td>\n",
       "    </tr>\n",
       "    <tr>\n",
       "      <td>3</td>\n",
       "      <td>294</td>\n",
       "    </tr>\n",
       "    <tr>\n",
       "      <td>4</td>\n",
       "      <td>34</td>\n",
       "    </tr>\n",
       "    <tr>\n",
       "      <td>5</td>\n",
       "      <td>8</td>\n",
       "    </tr>\n",
       "  </tbody>\n",
       "</table>\n",
       "</div>"
      ],
      "text/plain": [
       "   children\n",
       "0     12710\n",
       "1      4387\n",
       "2      1851\n",
       "3       294\n",
       "4        34\n",
       "5         8"
      ]
     },
     "metadata": {},
     "output_type": "display_data"
    },
    {
     "name": "stdout",
     "output_type": "stream",
     "text": [
      "Data shape: (19284, 12)\n"
     ]
    }
   ],
   "source": [
    "# displaying unique values in children column\n",
    "display(data['children'].value_counts().to_frame())\n",
    "\n",
    "#displaying new data shape\n",
    "print(f'Data shape: {data.shape}')"
   ]
  },
  {
   "cell_type": "markdown",
   "metadata": {},
   "source": [
    "**`days_employed` colunm**\n",
    "\n",
    "Displaying distribution of values in that column:"
   ]
  },
  {
   "cell_type": "code",
   "execution_count": 21,
   "metadata": {},
   "outputs": [
    {
     "data": {
      "text/html": [
       "<div>\n",
       "<style scoped>\n",
       "    .dataframe tbody tr th:only-of-type {\n",
       "        vertical-align: middle;\n",
       "    }\n",
       "\n",
       "    .dataframe tbody tr th {\n",
       "        vertical-align: top;\n",
       "    }\n",
       "\n",
       "    .dataframe thead th {\n",
       "        text-align: right;\n",
       "    }\n",
       "</style>\n",
       "<table border=\"1\" class=\"dataframe\">\n",
       "  <thead>\n",
       "    <tr style=\"text-align: right;\">\n",
       "      <th></th>\n",
       "      <th>days_employed</th>\n",
       "    </tr>\n",
       "  </thead>\n",
       "  <tbody>\n",
       "    <tr>\n",
       "      <td>count</td>\n",
       "      <td>19284.000000</td>\n",
       "    </tr>\n",
       "    <tr>\n",
       "      <td>mean</td>\n",
       "      <td>172.989681</td>\n",
       "    </tr>\n",
       "    <tr>\n",
       "      <td>std</td>\n",
       "      <td>386.055566</td>\n",
       "    </tr>\n",
       "    <tr>\n",
       "      <td>min</td>\n",
       "      <td>-50.380685</td>\n",
       "    </tr>\n",
       "    <tr>\n",
       "      <td>25%</td>\n",
       "      <td>-7.528429</td>\n",
       "    </tr>\n",
       "    <tr>\n",
       "      <td>50%</td>\n",
       "      <td>-3.299081</td>\n",
       "    </tr>\n",
       "    <tr>\n",
       "      <td>75%</td>\n",
       "      <td>-0.795086</td>\n",
       "    </tr>\n",
       "    <tr>\n",
       "      <td>max</td>\n",
       "      <td>1100.699727</td>\n",
       "    </tr>\n",
       "  </tbody>\n",
       "</table>\n",
       "</div>"
      ],
      "text/plain": [
       "       days_employed\n",
       "count   19284.000000\n",
       "mean      172.989681\n",
       "std       386.055566\n",
       "min       -50.380685\n",
       "25%        -7.528429\n",
       "50%        -3.299081\n",
       "75%        -0.795086\n",
       "max      1100.699727"
      ]
     },
     "execution_count": 21,
     "metadata": {},
     "output_type": "execute_result"
    }
   ],
   "source": [
    "#converting days in yeaers and describing data in days_employed column \n",
    "(data['days_employed']/365).describe().to_frame()"
   ]
  },
  {
   "cell_type": "markdown",
   "metadata": {},
   "source": [
    "As we mentioned previously there are several issues with data in this column: more than 75% of values are negative, max work experience is higher than 1000 years, and average work experience is 172 years. \n",
    "\n",
    "Negative values most likely are the result of incorrect calculation where a higher date was subtracted from a lower date. Therefore, we will make them positive to fix them. \n",
    "\n",
    "Regarding positive values in this column, even though 75% of values are negative, the average work experience is 172 years, which indicates that most of the positive values are unrealistic. We will check if there are some real positive values. We will assume that the real maximum possible work experience is 80 years (29200 days) even though it is too high."
   ]
  },
  {
   "cell_type": "code",
   "execution_count": 22,
   "metadata": {},
   "outputs": [
    {
     "data": {
      "text/plain": [
       "0"
      ]
     },
     "execution_count": 22,
     "metadata": {},
     "output_type": "execute_result"
    }
   ],
   "source": [
    "#obtaining number of rows there positive work experience is real (less than 29200 days)\n",
    "data[(data['days_employed']>0) & (data['days_employed']<29200)]['days_employed'].count()"
   ]
  },
  {
   "cell_type": "markdown",
   "metadata": {},
   "source": [
    "As can be seen all positive values in this column are unrealistic. Before deciding how to fix it we will check if there is any correlation between these positive values and other columns. Firstly, we will check if there is a correlation with income type."
   ]
  },
  {
   "cell_type": "code",
   "execution_count": 23,
   "metadata": {},
   "outputs": [
    {
     "data": {
      "text/html": [
       "<div>\n",
       "<style scoped>\n",
       "    .dataframe tbody tr th:only-of-type {\n",
       "        vertical-align: middle;\n",
       "    }\n",
       "\n",
       "    .dataframe tbody tr th {\n",
       "        vertical-align: top;\n",
       "    }\n",
       "\n",
       "    .dataframe thead th {\n",
       "        text-align: right;\n",
       "    }\n",
       "</style>\n",
       "<table border=\"1\" class=\"dataframe\">\n",
       "  <thead>\n",
       "    <tr style=\"text-align: right;\">\n",
       "      <th></th>\n",
       "      <th>income_type</th>\n",
       "    </tr>\n",
       "  </thead>\n",
       "  <tbody>\n",
       "    <tr>\n",
       "      <td>retiree</td>\n",
       "      <td>3436</td>\n",
       "    </tr>\n",
       "    <tr>\n",
       "      <td>unemployed</td>\n",
       "      <td>2</td>\n",
       "    </tr>\n",
       "  </tbody>\n",
       "</table>\n",
       "</div>"
      ],
      "text/plain": [
       "            income_type\n",
       "retiree            3436\n",
       "unemployed            2"
      ]
     },
     "metadata": {},
     "output_type": "display_data"
    },
    {
     "data": {
      "text/html": [
       "<div>\n",
       "<style scoped>\n",
       "    .dataframe tbody tr th:only-of-type {\n",
       "        vertical-align: middle;\n",
       "    }\n",
       "\n",
       "    .dataframe tbody tr th {\n",
       "        vertical-align: top;\n",
       "    }\n",
       "\n",
       "    .dataframe thead th {\n",
       "        text-align: right;\n",
       "    }\n",
       "</style>\n",
       "<table border=\"1\" class=\"dataframe\">\n",
       "  <thead>\n",
       "    <tr style=\"text-align: right;\">\n",
       "      <th></th>\n",
       "      <th>income_type</th>\n",
       "    </tr>\n",
       "  </thead>\n",
       "  <tbody>\n",
       "    <tr>\n",
       "      <td>employee</td>\n",
       "      <td>9974</td>\n",
       "    </tr>\n",
       "    <tr>\n",
       "      <td>business</td>\n",
       "      <td>4558</td>\n",
       "    </tr>\n",
       "    <tr>\n",
       "      <td>retiree</td>\n",
       "      <td>3436</td>\n",
       "    </tr>\n",
       "    <tr>\n",
       "      <td>civil servant</td>\n",
       "      <td>1311</td>\n",
       "    </tr>\n",
       "    <tr>\n",
       "      <td>unemployed</td>\n",
       "      <td>2</td>\n",
       "    </tr>\n",
       "    <tr>\n",
       "      <td>student</td>\n",
       "      <td>1</td>\n",
       "    </tr>\n",
       "    <tr>\n",
       "      <td>entrepreneur</td>\n",
       "      <td>1</td>\n",
       "    </tr>\n",
       "    <tr>\n",
       "      <td>paternity / maternity leave</td>\n",
       "      <td>1</td>\n",
       "    </tr>\n",
       "  </tbody>\n",
       "</table>\n",
       "</div>"
      ],
      "text/plain": [
       "                             income_type\n",
       "employee                            9974\n",
       "business                            4558\n",
       "retiree                             3436\n",
       "civil servant                       1311\n",
       "unemployed                             2\n",
       "student                                1\n",
       "entrepreneur                           1\n",
       "paternity / maternity leave            1"
      ]
     },
     "metadata": {},
     "output_type": "display_data"
    }
   ],
   "source": [
    "#obtaining income_type value counts for rows where work experience is unrealistic\n",
    "display(data[data.days_employed>0]['income_type'].value_counts().to_frame())\n",
    "\n",
    "#obtaining income_type value counts for whole dataset\n",
    "display(data['income_type'].value_counts().to_frame())"
   ]
  },
  {
   "cell_type": "markdown",
   "metadata": {},
   "source": [
    "It appears that all rows, where work experience is unrealistic, have retiree or unemployed income types. In addition, as can be seen from value counts comparison with the whole data set, all retirees and unemployed customers have unrealistic work experience. Probably because they are not employed work experience for them was filled with some incorrect data. To fix it, we will get a delta between average age and average work experience. We will use only real work experience to calculate the average. Then, for retirees, we will subtract the delta from the average retirement age (65 years for males and 63 years for females in the USA) to get average work experience for them. For unemployed we will put in average work experience."
   ]
  },
  {
   "cell_type": "code",
   "execution_count": 24,
   "metadata": {},
   "outputs": [
    {
     "data": {
      "text/html": [
       "<div>\n",
       "<style scoped>\n",
       "    .dataframe tbody tr th:only-of-type {\n",
       "        vertical-align: middle;\n",
       "    }\n",
       "\n",
       "    .dataframe tbody tr th {\n",
       "        vertical-align: top;\n",
       "    }\n",
       "\n",
       "    .dataframe thead th {\n",
       "        text-align: right;\n",
       "    }\n",
       "</style>\n",
       "<table border=\"1\" class=\"dataframe\">\n",
       "  <thead>\n",
       "    <tr style=\"text-align: right;\">\n",
       "      <th></th>\n",
       "      <th>Gender</th>\n",
       "      <th>average age</th>\n",
       "      <th>average work experience</th>\n",
       "      <th>delta</th>\n",
       "    </tr>\n",
       "  </thead>\n",
       "  <tbody>\n",
       "    <tr>\n",
       "      <td>0</td>\n",
       "      <td>Males</td>\n",
       "      <td>39.091491</td>\n",
       "      <td>5.690507</td>\n",
       "      <td>33.400984</td>\n",
       "    </tr>\n",
       "    <tr>\n",
       "      <td>1</td>\n",
       "      <td>Females</td>\n",
       "      <td>40.259031</td>\n",
       "      <td>6.902875</td>\n",
       "      <td>33.356156</td>\n",
       "    </tr>\n",
       "  </tbody>\n",
       "</table>\n",
       "</div>"
      ],
      "text/plain": [
       "    Gender  average age  average work experience      delta\n",
       "0    Males    39.091491                 5.690507  33.400984\n",
       "1  Females    40.259031                 6.902875  33.356156"
      ]
     },
     "execution_count": 24,
     "metadata": {},
     "output_type": "execute_result"
    }
   ],
   "source": [
    "#culculating average age for males\n",
    "average_age_males=data[(data['days_employed']<0)&(data['gender']=='M')]['dob_years'].mean()\n",
    "\n",
    "#culculating average age for females\n",
    "average_age_females=data[(data['days_employed']<0)&(data['gender']=='F')]['dob_years'].mean()\n",
    "\n",
    "#culculating average work experience for males in years \n",
    "average_work_experince_males=data[(data['days_employed']<0)&(data['gender']=='M')]['days_employed'].mean()/-365\n",
    "\n",
    "#culculating average work experience for females in years \n",
    "average_work_experince_females=data[(data['days_employed']<0)&(data['gender']=='F')]['days_employed'].mean()/-365\n",
    "\n",
    "#culculating delta for males\n",
    "delta_males=average_age_males-average_work_experince_males\n",
    "\n",
    "#culculating delta for females\n",
    "delta_females=average_age_females-average_work_experince_females\n",
    "\n",
    "#putting data to data frame for better visualisation\n",
    "columns_emp=['Gender','average age','average work experience','delta']\n",
    "data_emp=[['Males',average_age_males,average_work_experince_males,delta_males],\n",
    "          ['Females',average_age_females,average_work_experince_females,delta_females]]\n",
    "df_emp=pd.DataFrame(columns=columns_emp, data=data_emp)\n",
    "\n",
    "#displaying the data frame\n",
    "df_emp"
   ]
  },
  {
   "cell_type": "markdown",
   "metadata": {},
   "source": [
    "Getting average work experience for retired males and females:"
   ]
  },
  {
   "cell_type": "code",
   "execution_count": 25,
   "metadata": {},
   "outputs": [
    {
     "name": "stdout",
     "output_type": "stream",
     "text": [
      "Average work experience for retired males:11533.640869908699\n",
      "Average work experience for retired females:10820.002913505625\n"
     ]
    }
   ],
   "source": [
    "#calculating average work experience for retired males in days\n",
    "average_work_experince_males_r=(65-delta_males)*365\n",
    "\n",
    "#calculating average work experience for retired males\n",
    "average_work_experince_females_r=(63-delta_females)*365\n",
    "\n",
    "#displaying average work experience for retired males and femails\n",
    "print(f'Average work experience for retired males:{average_work_experince_males_r}')\n",
    "print(f'Average work experience for retired females:{average_work_experince_females_r}')\n"
   ]
  },
  {
   "cell_type": "markdown",
   "metadata": {},
   "source": [
    "There are only two unemployed customers, so we will replace work experience for them individually"
   ]
  },
  {
   "cell_type": "markdown",
   "metadata": {},
   "source": [
    "Displaying unemployed customers:"
   ]
  },
  {
   "cell_type": "code",
   "execution_count": 26,
   "metadata": {},
   "outputs": [
    {
     "data": {
      "text/html": [
       "<div>\n",
       "<style scoped>\n",
       "    .dataframe tbody tr th:only-of-type {\n",
       "        vertical-align: middle;\n",
       "    }\n",
       "\n",
       "    .dataframe tbody tr th {\n",
       "        vertical-align: top;\n",
       "    }\n",
       "\n",
       "    .dataframe thead th {\n",
       "        text-align: right;\n",
       "    }\n",
       "</style>\n",
       "<table border=\"1\" class=\"dataframe\">\n",
       "  <thead>\n",
       "    <tr style=\"text-align: right;\">\n",
       "      <th></th>\n",
       "      <th>children</th>\n",
       "      <th>days_employed</th>\n",
       "      <th>dob_years</th>\n",
       "      <th>education</th>\n",
       "      <th>education_id</th>\n",
       "      <th>family_status</th>\n",
       "      <th>family_status_id</th>\n",
       "      <th>gender</th>\n",
       "      <th>income_type</th>\n",
       "      <th>debt</th>\n",
       "      <th>total_income</th>\n",
       "      <th>purpose</th>\n",
       "    </tr>\n",
       "  </thead>\n",
       "  <tbody>\n",
       "    <tr>\n",
       "      <td>3133</td>\n",
       "      <td>1</td>\n",
       "      <td>337524.466835</td>\n",
       "      <td>31</td>\n",
       "      <td>secondary education</td>\n",
       "      <td>1</td>\n",
       "      <td>married</td>\n",
       "      <td>0</td>\n",
       "      <td>M</td>\n",
       "      <td>unemployed</td>\n",
       "      <td>1</td>\n",
       "      <td>9593.119</td>\n",
       "      <td>buying property for renting out</td>\n",
       "    </tr>\n",
       "    <tr>\n",
       "      <td>14798</td>\n",
       "      <td>0</td>\n",
       "      <td>395302.838654</td>\n",
       "      <td>45</td>\n",
       "      <td>bachelor's degree</td>\n",
       "      <td>0</td>\n",
       "      <td>civil partnership</td>\n",
       "      <td>1</td>\n",
       "      <td>F</td>\n",
       "      <td>unemployed</td>\n",
       "      <td>0</td>\n",
       "      <td>32435.602</td>\n",
       "      <td>housing renovation</td>\n",
       "    </tr>\n",
       "  </tbody>\n",
       "</table>\n",
       "</div>"
      ],
      "text/plain": [
       "       children  days_employed  dob_years            education  education_id  \\\n",
       "3133          1  337524.466835         31  secondary education             1   \n",
       "14798         0  395302.838654         45    bachelor's degree             0   \n",
       "\n",
       "           family_status  family_status_id gender income_type  debt  \\\n",
       "3133             married                 0      M  unemployed     1   \n",
       "14798  civil partnership                 1      F  unemployed     0   \n",
       "\n",
       "       total_income                          purpose  \n",
       "3133       9593.119  buying property for renting out  \n",
       "14798     32435.602               housing renovation  "
      ]
     },
     "execution_count": 26,
     "metadata": {},
     "output_type": "execute_result"
    }
   ],
   "source": [
    "#showing unemployed customers\n",
    "data[data['income_type']=='unemployed']"
   ]
  },
  {
   "cell_type": "markdown",
   "metadata": {},
   "source": [
    "Fixing the data in `days_employed` column:"
   ]
  },
  {
   "cell_type": "code",
   "execution_count": 27,
   "metadata": {},
   "outputs": [],
   "source": [
    "#fixing work experience values for retired males\n",
    "data.loc[(data['income_type']=='retiree')&(data['gender']=='M'),'days_employed']=average_work_experince_males_r\n",
    "         \n",
    "#fixing work experience values for retired females         \n",
    "data.loc[(data['income_type']=='retiree')&(data['gender']=='F'),'days_employed']=average_work_experince_females_r\n",
    "         \n",
    "#fixing work experience for enemployed customers        \n",
    "data.loc[3133,'days_employed']=average_work_experince_males         \n",
    "data.loc[14798,'days_employed']=average_work_experince_females\n",
    "         \n",
    "#fixing negative values\n",
    "data.loc[data['days_employed']<0,'days_employed']*=-1\n",
    "\n",
    "#converting days_employed type to integer\n",
    "data['days_employed']=data['days_employed'].astype('int')"
   ]
  },
  {
   "cell_type": "code",
   "execution_count": 28,
   "metadata": {},
   "outputs": [
    {
     "data": {
      "text/html": [
       "<div>\n",
       "<style scoped>\n",
       "    .dataframe tbody tr th:only-of-type {\n",
       "        vertical-align: middle;\n",
       "    }\n",
       "\n",
       "    .dataframe tbody tr th {\n",
       "        vertical-align: top;\n",
       "    }\n",
       "\n",
       "    .dataframe thead th {\n",
       "        text-align: right;\n",
       "    }\n",
       "</style>\n",
       "<table border=\"1\" class=\"dataframe\">\n",
       "  <thead>\n",
       "    <tr style=\"text-align: right;\">\n",
       "      <th></th>\n",
       "      <th>children</th>\n",
       "      <th>days_employed</th>\n",
       "      <th>dob_years</th>\n",
       "      <th>education</th>\n",
       "      <th>education_id</th>\n",
       "      <th>family_status</th>\n",
       "      <th>family_status_id</th>\n",
       "      <th>gender</th>\n",
       "      <th>income_type</th>\n",
       "      <th>debt</th>\n",
       "      <th>total_income</th>\n",
       "      <th>purpose</th>\n",
       "    </tr>\n",
       "  </thead>\n",
       "  <tbody>\n",
       "    <tr>\n",
       "      <td>0</td>\n",
       "      <td>1</td>\n",
       "      <td>8437</td>\n",
       "      <td>42</td>\n",
       "      <td>bachelor's degree</td>\n",
       "      <td>0</td>\n",
       "      <td>married</td>\n",
       "      <td>0</td>\n",
       "      <td>F</td>\n",
       "      <td>employee</td>\n",
       "      <td>0</td>\n",
       "      <td>40620.102</td>\n",
       "      <td>purchase of the house</td>\n",
       "    </tr>\n",
       "    <tr>\n",
       "      <td>1</td>\n",
       "      <td>1</td>\n",
       "      <td>4024</td>\n",
       "      <td>36</td>\n",
       "      <td>secondary education</td>\n",
       "      <td>1</td>\n",
       "      <td>married</td>\n",
       "      <td>0</td>\n",
       "      <td>F</td>\n",
       "      <td>employee</td>\n",
       "      <td>0</td>\n",
       "      <td>17932.802</td>\n",
       "      <td>car purchase</td>\n",
       "    </tr>\n",
       "    <tr>\n",
       "      <td>2</td>\n",
       "      <td>0</td>\n",
       "      <td>5623</td>\n",
       "      <td>33</td>\n",
       "      <td>secondary education</td>\n",
       "      <td>1</td>\n",
       "      <td>married</td>\n",
       "      <td>0</td>\n",
       "      <td>M</td>\n",
       "      <td>employee</td>\n",
       "      <td>0</td>\n",
       "      <td>23341.752</td>\n",
       "      <td>purchase of the house</td>\n",
       "    </tr>\n",
       "    <tr>\n",
       "      <td>3</td>\n",
       "      <td>3</td>\n",
       "      <td>4124</td>\n",
       "      <td>32</td>\n",
       "      <td>secondary education</td>\n",
       "      <td>1</td>\n",
       "      <td>married</td>\n",
       "      <td>0</td>\n",
       "      <td>M</td>\n",
       "      <td>employee</td>\n",
       "      <td>0</td>\n",
       "      <td>42820.568</td>\n",
       "      <td>supplementary education</td>\n",
       "    </tr>\n",
       "    <tr>\n",
       "      <td>4</td>\n",
       "      <td>0</td>\n",
       "      <td>10820</td>\n",
       "      <td>53</td>\n",
       "      <td>secondary education</td>\n",
       "      <td>1</td>\n",
       "      <td>civil partnership</td>\n",
       "      <td>1</td>\n",
       "      <td>F</td>\n",
       "      <td>retiree</td>\n",
       "      <td>0</td>\n",
       "      <td>25378.572</td>\n",
       "      <td>to have a wedding</td>\n",
       "    </tr>\n",
       "  </tbody>\n",
       "</table>\n",
       "</div>"
      ],
      "text/plain": [
       "   children  days_employed  dob_years            education  education_id  \\\n",
       "0         1           8437         42    bachelor's degree             0   \n",
       "1         1           4024         36  secondary education             1   \n",
       "2         0           5623         33  secondary education             1   \n",
       "3         3           4124         32  secondary education             1   \n",
       "4         0          10820         53  secondary education             1   \n",
       "\n",
       "       family_status  family_status_id gender income_type  debt  total_income  \\\n",
       "0            married                 0      F    employee     0     40620.102   \n",
       "1            married                 0      F    employee     0     17932.802   \n",
       "2            married                 0      M    employee     0     23341.752   \n",
       "3            married                 0      M    employee     0     42820.568   \n",
       "4  civil partnership                 1      F     retiree     0     25378.572   \n",
       "\n",
       "                   purpose  \n",
       "0    purchase of the house  \n",
       "1             car purchase  \n",
       "2    purchase of the house  \n",
       "3  supplementary education  \n",
       "4        to have a wedding  "
      ]
     },
     "metadata": {},
     "output_type": "display_data"
    },
    {
     "data": {
      "text/html": [
       "<div>\n",
       "<style scoped>\n",
       "    .dataframe tbody tr th:only-of-type {\n",
       "        vertical-align: middle;\n",
       "    }\n",
       "\n",
       "    .dataframe tbody tr th {\n",
       "        vertical-align: top;\n",
       "    }\n",
       "\n",
       "    .dataframe thead th {\n",
       "        text-align: right;\n",
       "    }\n",
       "</style>\n",
       "<table border=\"1\" class=\"dataframe\">\n",
       "  <thead>\n",
       "    <tr style=\"text-align: right;\">\n",
       "      <th></th>\n",
       "      <th>days_employed</th>\n",
       "    </tr>\n",
       "  </thead>\n",
       "  <tbody>\n",
       "    <tr>\n",
       "      <td>count</td>\n",
       "      <td>19284.000000</td>\n",
       "    </tr>\n",
       "    <tr>\n",
       "      <td>mean</td>\n",
       "      <td>3885.157851</td>\n",
       "    </tr>\n",
       "    <tr>\n",
       "      <td>std</td>\n",
       "      <td>3899.341020</td>\n",
       "    </tr>\n",
       "    <tr>\n",
       "      <td>min</td>\n",
       "      <td>5.000000</td>\n",
       "    </tr>\n",
       "    <tr>\n",
       "      <td>25%</td>\n",
       "      <td>927.000000</td>\n",
       "    </tr>\n",
       "    <tr>\n",
       "      <td>50%</td>\n",
       "      <td>2194.500000</td>\n",
       "    </tr>\n",
       "    <tr>\n",
       "      <td>75%</td>\n",
       "      <td>5547.750000</td>\n",
       "    </tr>\n",
       "    <tr>\n",
       "      <td>max</td>\n",
       "      <td>18388.000000</td>\n",
       "    </tr>\n",
       "  </tbody>\n",
       "</table>\n",
       "</div>"
      ],
      "text/plain": [
       "       days_employed\n",
       "count   19284.000000\n",
       "mean     3885.157851\n",
       "std      3899.341020\n",
       "min         5.000000\n",
       "25%       927.000000\n",
       "50%      2194.500000\n",
       "75%      5547.750000\n",
       "max     18388.000000"
      ]
     },
     "execution_count": 28,
     "metadata": {},
     "output_type": "execute_result"
    }
   ],
   "source": [
    "# chaking the result to make sure it's fixed\n",
    "display(data.head(5))\n",
    "data['days_employed'].describe().to_frame()"
   ]
  },
  {
   "cell_type": "markdown",
   "metadata": {},
   "source": [
    "**`dob_years` colunm**\n",
    "\n",
    "Displaying distribution of values in that column:"
   ]
  },
  {
   "cell_type": "code",
   "execution_count": 29,
   "metadata": {
    "scrolled": true
   },
   "outputs": [
    {
     "data": {
      "text/html": [
       "<div>\n",
       "<style scoped>\n",
       "    .dataframe tbody tr th:only-of-type {\n",
       "        vertical-align: middle;\n",
       "    }\n",
       "\n",
       "    .dataframe tbody tr th {\n",
       "        vertical-align: top;\n",
       "    }\n",
       "\n",
       "    .dataframe thead th {\n",
       "        text-align: right;\n",
       "    }\n",
       "</style>\n",
       "<table border=\"1\" class=\"dataframe\">\n",
       "  <thead>\n",
       "    <tr style=\"text-align: right;\">\n",
       "      <th></th>\n",
       "      <th>dob_years</th>\n",
       "    </tr>\n",
       "  </thead>\n",
       "  <tbody>\n",
       "    <tr>\n",
       "      <td>count</td>\n",
       "      <td>19284.000000</td>\n",
       "    </tr>\n",
       "    <tr>\n",
       "      <td>mean</td>\n",
       "      <td>43.262186</td>\n",
       "    </tr>\n",
       "    <tr>\n",
       "      <td>std</td>\n",
       "      <td>12.580911</td>\n",
       "    </tr>\n",
       "    <tr>\n",
       "      <td>min</td>\n",
       "      <td>0.000000</td>\n",
       "    </tr>\n",
       "    <tr>\n",
       "      <td>25%</td>\n",
       "      <td>33.000000</td>\n",
       "    </tr>\n",
       "    <tr>\n",
       "      <td>50%</td>\n",
       "      <td>42.000000</td>\n",
       "    </tr>\n",
       "    <tr>\n",
       "      <td>75%</td>\n",
       "      <td>53.000000</td>\n",
       "    </tr>\n",
       "    <tr>\n",
       "      <td>max</td>\n",
       "      <td>75.000000</td>\n",
       "    </tr>\n",
       "  </tbody>\n",
       "</table>\n",
       "</div>"
      ],
      "text/plain": [
       "          dob_years\n",
       "count  19284.000000\n",
       "mean      43.262186\n",
       "std       12.580911\n",
       "min        0.000000\n",
       "25%       33.000000\n",
       "50%       42.000000\n",
       "75%       53.000000\n",
       "max       75.000000"
      ]
     },
     "execution_count": 29,
     "metadata": {},
     "output_type": "execute_result"
    }
   ],
   "source": [
    "# describing data in dob_years column\n",
    "data['dob_years'].describe().to_frame()"
   ]
  },
  {
   "cell_type": "markdown",
   "metadata": {},
   "source": [
    "As can be seen, some customers have an age of 0. \n",
    "\n",
    "Counting persentage of problematic values:"
   ]
  },
  {
   "cell_type": "code",
   "execution_count": 30,
   "metadata": {},
   "outputs": [
    {
     "data": {
      "text/plain": [
       "0.4667081518357187"
      ]
     },
     "execution_count": 30,
     "metadata": {},
     "output_type": "execute_result"
    }
   ],
   "source": [
    "#calculating percentage of rows where age is 0\n",
    "(data[data['dob_years']==0]['dob_years'].count()/len(data.index))*100"
   ]
  },
  {
   "cell_type": "markdown",
   "metadata": {},
   "source": [
    "There are less than 0.5% of rows with problematic values. Age may have not been filled on purpose for some particular income types. We will check this:"
   ]
  },
  {
   "cell_type": "code",
   "execution_count": 31,
   "metadata": {},
   "outputs": [
    {
     "data": {
      "text/plain": [
       "employee         49\n",
       "business         18\n",
       "retiree          17\n",
       "civil servant     6\n",
       "Name: income_type, dtype: int64"
      ]
     },
     "execution_count": 31,
     "metadata": {},
     "output_type": "execute_result"
    }
   ],
   "source": [
    "#obtaining value counts for income types for rows where age is 0\n",
    "data[data['dob_years']==0]['income_type'].value_counts()"
   ]
  },
  {
   "cell_type": "markdown",
   "metadata": {},
   "source": [
    "As can be seen, age is 0 for different income types. It is also impossible to decide the age based on data in other columns. Therefore, we will use average age to replace zeroes. As retirees are generally older than working people, we will calculate the average for these groups separately."
   ]
  },
  {
   "cell_type": "code",
   "execution_count": 32,
   "metadata": {},
   "outputs": [
    {
     "name": "stdout",
     "output_type": "stream",
     "text": [
      "Retiree average age: 59.43053524422346\n",
      "Others average age: 40.00475435816165\n"
     ]
    }
   ],
   "source": [
    "#culculating avarage age for retirees\n",
    "retirees_average_age=data[(data['dob_years']!=0) & (data['income_type']=='retiree')]['dob_years'].mean()\n",
    "\n",
    "#culculating avarage age for other income types\n",
    "others_average_age=data[(data['dob_years']!=0) & (data['income_type']!='retiree')]['dob_years'].mean()\n",
    "\n",
    "#Displaing avarage ages\n",
    "print(f'Retiree average age: {retirees_average_age}')\n",
    "print(f'Others average age: {others_average_age}')"
   ]
  },
  {
   "cell_type": "markdown",
   "metadata": {},
   "source": [
    "Fixing values in `dob_years` column:"
   ]
  },
  {
   "cell_type": "code",
   "execution_count": 33,
   "metadata": {},
   "outputs": [],
   "source": [
    "#replacing zeros in dob_years column for retiree income type\n",
    "data.loc[(data['dob_years']==0) & (data['income_type']=='retiree'),'dob_years']=retirees_average_age.astype('int')\n",
    "\n",
    "#replacing zeros in dob_years column for other income types\n",
    "data.loc[(data['dob_years']==0) & (data['income_type']!='retiree'),'dob_years']=others_average_age.astype('int')"
   ]
  },
  {
   "cell_type": "markdown",
   "metadata": {},
   "source": [
    "Checking the result to ensure that it is fixed:"
   ]
  },
  {
   "cell_type": "code",
   "execution_count": 34,
   "metadata": {},
   "outputs": [
    {
     "data": {
      "text/html": [
       "<div>\n",
       "<style scoped>\n",
       "    .dataframe tbody tr th:only-of-type {\n",
       "        vertical-align: middle;\n",
       "    }\n",
       "\n",
       "    .dataframe tbody tr th {\n",
       "        vertical-align: top;\n",
       "    }\n",
       "\n",
       "    .dataframe thead th {\n",
       "        text-align: right;\n",
       "    }\n",
       "</style>\n",
       "<table border=\"1\" class=\"dataframe\">\n",
       "  <thead>\n",
       "    <tr style=\"text-align: right;\">\n",
       "      <th></th>\n",
       "      <th>dob_years</th>\n",
       "    </tr>\n",
       "  </thead>\n",
       "  <tbody>\n",
       "    <tr>\n",
       "      <td>count</td>\n",
       "      <td>19284.000000</td>\n",
       "    </tr>\n",
       "    <tr>\n",
       "      <td>mean</td>\n",
       "      <td>43.465619</td>\n",
       "    </tr>\n",
       "    <tr>\n",
       "      <td>std</td>\n",
       "      <td>12.237694</td>\n",
       "    </tr>\n",
       "    <tr>\n",
       "      <td>min</td>\n",
       "      <td>19.000000</td>\n",
       "    </tr>\n",
       "    <tr>\n",
       "      <td>25%</td>\n",
       "      <td>33.000000</td>\n",
       "    </tr>\n",
       "    <tr>\n",
       "      <td>50%</td>\n",
       "      <td>42.000000</td>\n",
       "    </tr>\n",
       "    <tr>\n",
       "      <td>75%</td>\n",
       "      <td>53.000000</td>\n",
       "    </tr>\n",
       "    <tr>\n",
       "      <td>max</td>\n",
       "      <td>75.000000</td>\n",
       "    </tr>\n",
       "  </tbody>\n",
       "</table>\n",
       "</div>"
      ],
      "text/plain": [
       "          dob_years\n",
       "count  19284.000000\n",
       "mean      43.465619\n",
       "std       12.237694\n",
       "min       19.000000\n",
       "25%       33.000000\n",
       "50%       42.000000\n",
       "75%       53.000000\n",
       "max       75.000000"
      ]
     },
     "execution_count": 34,
     "metadata": {},
     "output_type": "execute_result"
    }
   ],
   "source": [
    "# describing data in dob_years column\n",
    "data['dob_years'].describe().to_frame()"
   ]
  },
  {
   "cell_type": "markdown",
   "metadata": {},
   "source": [
    "**`family_status` column**\n",
    "\n",
    "Displaying value counts in that column:"
   ]
  },
  {
   "cell_type": "code",
   "execution_count": 35,
   "metadata": {},
   "outputs": [
    {
     "data": {
      "text/html": [
       "<div>\n",
       "<style scoped>\n",
       "    .dataframe tbody tr th:only-of-type {\n",
       "        vertical-align: middle;\n",
       "    }\n",
       "\n",
       "    .dataframe tbody tr th {\n",
       "        vertical-align: top;\n",
       "    }\n",
       "\n",
       "    .dataframe thead th {\n",
       "        text-align: right;\n",
       "    }\n",
       "</style>\n",
       "<table border=\"1\" class=\"dataframe\">\n",
       "  <thead>\n",
       "    <tr style=\"text-align: right;\">\n",
       "      <th></th>\n",
       "      <th>family_status</th>\n",
       "    </tr>\n",
       "  </thead>\n",
       "  <tbody>\n",
       "    <tr>\n",
       "      <td>married</td>\n",
       "      <td>11097</td>\n",
       "    </tr>\n",
       "    <tr>\n",
       "      <td>civil partnership</td>\n",
       "      <td>3724</td>\n",
       "    </tr>\n",
       "    <tr>\n",
       "      <td>unmarried</td>\n",
       "      <td>2519</td>\n",
       "    </tr>\n",
       "    <tr>\n",
       "      <td>divorced</td>\n",
       "      <td>1082</td>\n",
       "    </tr>\n",
       "    <tr>\n",
       "      <td>widow / widower</td>\n",
       "      <td>862</td>\n",
       "    </tr>\n",
       "  </tbody>\n",
       "</table>\n",
       "</div>"
      ],
      "text/plain": [
       "                   family_status\n",
       "married                    11097\n",
       "civil partnership           3724\n",
       "unmarried                   2519\n",
       "divorced                    1082\n",
       "widow / widower              862"
      ]
     },
     "execution_count": 35,
     "metadata": {},
     "output_type": "execute_result"
    }
   ],
   "source": [
    "# obtaining values for the column\n",
    "data['family_status'].value_counts().to_frame()"
   ]
  },
  {
   "cell_type": "markdown",
   "metadata": {},
   "source": [
    "There are no visible issues with values in that column. There are no duplicates or strange-looking values. We will leave values in that column as it is."
   ]
  },
  {
   "cell_type": "markdown",
   "metadata": {},
   "source": [
    "**`gender` column**\n",
    "\n",
    "Displaying value counts in that column:"
   ]
  },
  {
   "cell_type": "code",
   "execution_count": 36,
   "metadata": {},
   "outputs": [
    {
     "data": {
      "text/html": [
       "<div>\n",
       "<style scoped>\n",
       "    .dataframe tbody tr th:only-of-type {\n",
       "        vertical-align: middle;\n",
       "    }\n",
       "\n",
       "    .dataframe tbody tr th {\n",
       "        vertical-align: top;\n",
       "    }\n",
       "\n",
       "    .dataframe thead th {\n",
       "        text-align: right;\n",
       "    }\n",
       "</style>\n",
       "<table border=\"1\" class=\"dataframe\">\n",
       "  <thead>\n",
       "    <tr style=\"text-align: right;\">\n",
       "      <th></th>\n",
       "      <th>gender</th>\n",
       "    </tr>\n",
       "  </thead>\n",
       "  <tbody>\n",
       "    <tr>\n",
       "      <td>F</td>\n",
       "      <td>12711</td>\n",
       "    </tr>\n",
       "    <tr>\n",
       "      <td>M</td>\n",
       "      <td>6572</td>\n",
       "    </tr>\n",
       "    <tr>\n",
       "      <td>XNA</td>\n",
       "      <td>1</td>\n",
       "    </tr>\n",
       "  </tbody>\n",
       "</table>\n",
       "</div>"
      ],
      "text/plain": [
       "     gender\n",
       "F     12711\n",
       "M      6572\n",
       "XNA       1"
      ]
     },
     "execution_count": 36,
     "metadata": {},
     "output_type": "execute_result"
    }
   ],
   "source": [
    "# Obtaining values for the column\n",
    "data['gender'].value_counts().to_frame()"
   ]
  },
  {
   "cell_type": "markdown",
   "metadata": {},
   "source": [
    "There is 1 row where gender value is inaccurate. Since it is only one row and it is impossible to guess what 'XNA' stays for, we will drop that row.\n",
    "\n",
    "Dropping a row with 'XNA' value in `gender` column:"
   ]
  },
  {
   "cell_type": "code",
   "execution_count": 37,
   "metadata": {},
   "outputs": [],
   "source": [
    "# obtaining index of a row with 'XNA' value in gender column\n",
    "index=data[data['gender']=='XNA'].index\n",
    "\n",
    "#dropping the row\n",
    "data=data.drop(index)"
   ]
  },
  {
   "cell_type": "markdown",
   "metadata": {},
   "source": [
    "Checking the result to ensure that it is fixed:"
   ]
  },
  {
   "cell_type": "code",
   "execution_count": 38,
   "metadata": {},
   "outputs": [
    {
     "data": {
      "text/html": [
       "<div>\n",
       "<style scoped>\n",
       "    .dataframe tbody tr th:only-of-type {\n",
       "        vertical-align: middle;\n",
       "    }\n",
       "\n",
       "    .dataframe tbody tr th {\n",
       "        vertical-align: top;\n",
       "    }\n",
       "\n",
       "    .dataframe thead th {\n",
       "        text-align: right;\n",
       "    }\n",
       "</style>\n",
       "<table border=\"1\" class=\"dataframe\">\n",
       "  <thead>\n",
       "    <tr style=\"text-align: right;\">\n",
       "      <th></th>\n",
       "      <th>gender</th>\n",
       "    </tr>\n",
       "  </thead>\n",
       "  <tbody>\n",
       "    <tr>\n",
       "      <td>F</td>\n",
       "      <td>12711</td>\n",
       "    </tr>\n",
       "    <tr>\n",
       "      <td>M</td>\n",
       "      <td>6572</td>\n",
       "    </tr>\n",
       "  </tbody>\n",
       "</table>\n",
       "</div>"
      ],
      "text/plain": [
       "   gender\n",
       "F   12711\n",
       "M    6572"
      ]
     },
     "execution_count": 38,
     "metadata": {},
     "output_type": "execute_result"
    }
   ],
   "source": [
    "# Obtaining values for the column\n",
    "data['gender'].value_counts().to_frame()"
   ]
  },
  {
   "cell_type": "markdown",
   "metadata": {},
   "source": [
    "**`income_type` column**\n",
    "\n",
    "Displaying value counts in that column:"
   ]
  },
  {
   "cell_type": "code",
   "execution_count": 39,
   "metadata": {},
   "outputs": [
    {
     "data": {
      "text/html": [
       "<div>\n",
       "<style scoped>\n",
       "    .dataframe tbody tr th:only-of-type {\n",
       "        vertical-align: middle;\n",
       "    }\n",
       "\n",
       "    .dataframe tbody tr th {\n",
       "        vertical-align: top;\n",
       "    }\n",
       "\n",
       "    .dataframe thead th {\n",
       "        text-align: right;\n",
       "    }\n",
       "</style>\n",
       "<table border=\"1\" class=\"dataframe\">\n",
       "  <thead>\n",
       "    <tr style=\"text-align: right;\">\n",
       "      <th></th>\n",
       "      <th>income_type</th>\n",
       "    </tr>\n",
       "  </thead>\n",
       "  <tbody>\n",
       "    <tr>\n",
       "      <td>employee</td>\n",
       "      <td>9974</td>\n",
       "    </tr>\n",
       "    <tr>\n",
       "      <td>business</td>\n",
       "      <td>4557</td>\n",
       "    </tr>\n",
       "    <tr>\n",
       "      <td>retiree</td>\n",
       "      <td>3436</td>\n",
       "    </tr>\n",
       "    <tr>\n",
       "      <td>civil servant</td>\n",
       "      <td>1311</td>\n",
       "    </tr>\n",
       "    <tr>\n",
       "      <td>unemployed</td>\n",
       "      <td>2</td>\n",
       "    </tr>\n",
       "    <tr>\n",
       "      <td>student</td>\n",
       "      <td>1</td>\n",
       "    </tr>\n",
       "    <tr>\n",
       "      <td>entrepreneur</td>\n",
       "      <td>1</td>\n",
       "    </tr>\n",
       "    <tr>\n",
       "      <td>paternity / maternity leave</td>\n",
       "      <td>1</td>\n",
       "    </tr>\n",
       "  </tbody>\n",
       "</table>\n",
       "</div>"
      ],
      "text/plain": [
       "                             income_type\n",
       "employee                            9974\n",
       "business                            4557\n",
       "retiree                             3436\n",
       "civil servant                       1311\n",
       "unemployed                             2\n",
       "student                                1\n",
       "entrepreneur                           1\n",
       "paternity / maternity leave            1"
      ]
     },
     "execution_count": 39,
     "metadata": {},
     "output_type": "execute_result"
    }
   ],
   "source": [
    "# Obtaining values for the column\n",
    "data['income_type'].value_counts().to_frame()"
   ]
  },
  {
   "cell_type": "markdown",
   "metadata": {},
   "source": [
    "There are no visible issues with values in that column, but values ‘unemployed’, ‘student’, ‘entrepreneur’, and ‘paternity / maternity leave’ have counts of 1 and 2 only. When we answer the question raised at the beginning of this project, we can not rely on the result gotten based on a single value for a particular income type. Therefore, we will drop these lines to avoid unreliable conclusions.\n",
    "\n",
    "Dropping rows with ‘unemployed’, ‘student’, ‘entrepreneur’, and ‘paternity / maternity leave’ values in `income_type` column:"
   ]
  },
  {
   "cell_type": "code",
   "execution_count": 40,
   "metadata": {},
   "outputs": [],
   "source": [
    "# obtaining index of a rows with unemployed, student, entrepreneur, and paternity / maternity leave values in income_type column\n",
    "index=data[data['income_type'].isin(['unemployed', 'student', 'entrepreneur', 'paternity / maternity leave'])].index\n",
    "\n",
    "#dropping the rows\n",
    "data=data.drop(index)"
   ]
  },
  {
   "cell_type": "markdown",
   "metadata": {},
   "source": [
    "Checking the result to ensure that it is fixed:"
   ]
  },
  {
   "cell_type": "code",
   "execution_count": 41,
   "metadata": {},
   "outputs": [
    {
     "data": {
      "text/html": [
       "<div>\n",
       "<style scoped>\n",
       "    .dataframe tbody tr th:only-of-type {\n",
       "        vertical-align: middle;\n",
       "    }\n",
       "\n",
       "    .dataframe tbody tr th {\n",
       "        vertical-align: top;\n",
       "    }\n",
       "\n",
       "    .dataframe thead th {\n",
       "        text-align: right;\n",
       "    }\n",
       "</style>\n",
       "<table border=\"1\" class=\"dataframe\">\n",
       "  <thead>\n",
       "    <tr style=\"text-align: right;\">\n",
       "      <th></th>\n",
       "      <th>income_type</th>\n",
       "    </tr>\n",
       "  </thead>\n",
       "  <tbody>\n",
       "    <tr>\n",
       "      <td>employee</td>\n",
       "      <td>9974</td>\n",
       "    </tr>\n",
       "    <tr>\n",
       "      <td>business</td>\n",
       "      <td>4557</td>\n",
       "    </tr>\n",
       "    <tr>\n",
       "      <td>retiree</td>\n",
       "      <td>3436</td>\n",
       "    </tr>\n",
       "    <tr>\n",
       "      <td>civil servant</td>\n",
       "      <td>1311</td>\n",
       "    </tr>\n",
       "  </tbody>\n",
       "</table>\n",
       "</div>"
      ],
      "text/plain": [
       "               income_type\n",
       "employee              9974\n",
       "business              4557\n",
       "retiree               3436\n",
       "civil servant         1311"
      ]
     },
     "execution_count": 41,
     "metadata": {},
     "output_type": "execute_result"
    }
   ],
   "source": [
    "# Obtaining values for the column\n",
    "data['income_type'].value_counts().to_frame()"
   ]
  },
  {
   "cell_type": "markdown",
   "metadata": {},
   "source": [
    "**`total_income` column**\n",
    "\n",
    "Displaying distribution of values in that column:"
   ]
  },
  {
   "cell_type": "code",
   "execution_count": 42,
   "metadata": {},
   "outputs": [
    {
     "data": {
      "text/html": [
       "<div>\n",
       "<style scoped>\n",
       "    .dataframe tbody tr th:only-of-type {\n",
       "        vertical-align: middle;\n",
       "    }\n",
       "\n",
       "    .dataframe tbody tr th {\n",
       "        vertical-align: top;\n",
       "    }\n",
       "\n",
       "    .dataframe thead th {\n",
       "        text-align: right;\n",
       "    }\n",
       "</style>\n",
       "<table border=\"1\" class=\"dataframe\">\n",
       "  <thead>\n",
       "    <tr style=\"text-align: right;\">\n",
       "      <th></th>\n",
       "      <th>total_income</th>\n",
       "    </tr>\n",
       "  </thead>\n",
       "  <tbody>\n",
       "    <tr>\n",
       "      <td>count</td>\n",
       "      <td>19278.000000</td>\n",
       "    </tr>\n",
       "    <tr>\n",
       "      <td>mean</td>\n",
       "      <td>26785.906558</td>\n",
       "    </tr>\n",
       "    <tr>\n",
       "      <td>std</td>\n",
       "      <td>16483.533332</td>\n",
       "    </tr>\n",
       "    <tr>\n",
       "      <td>min</td>\n",
       "      <td>3306.762000</td>\n",
       "    </tr>\n",
       "    <tr>\n",
       "      <td>25%</td>\n",
       "      <td>16486.515250</td>\n",
       "    </tr>\n",
       "    <tr>\n",
       "      <td>50%</td>\n",
       "      <td>23203.328000</td>\n",
       "    </tr>\n",
       "    <tr>\n",
       "      <td>75%</td>\n",
       "      <td>32536.303500</td>\n",
       "    </tr>\n",
       "    <tr>\n",
       "      <td>max</td>\n",
       "      <td>362496.645000</td>\n",
       "    </tr>\n",
       "  </tbody>\n",
       "</table>\n",
       "</div>"
      ],
      "text/plain": [
       "        total_income\n",
       "count   19278.000000\n",
       "mean    26785.906558\n",
       "std     16483.533332\n",
       "min      3306.762000\n",
       "25%     16486.515250\n",
       "50%     23203.328000\n",
       "75%     32536.303500\n",
       "max    362496.645000"
      ]
     },
     "execution_count": 42,
     "metadata": {},
     "output_type": "execute_result"
    }
   ],
   "source": [
    "# describing data in dob_years column\n",
    "data['total_income'].describe().to_frame()"
   ]
  },
  {
   "cell_type": "markdown",
   "metadata": {},
   "source": [
    "There are no visible issues with values in that column. There are no negative values, and the highest income looks real. The only thing we will do with values in that column is to convert them to the integer type."
   ]
  },
  {
   "cell_type": "code",
   "execution_count": 43,
   "metadata": {},
   "outputs": [],
   "source": [
    "#converting total_income values type to integer\n",
    "data['total_income']=data['total_income'].astype('int')"
   ]
  },
  {
   "cell_type": "markdown",
   "metadata": {},
   "source": [
    "Cheking the result to ensure that it is fixed:"
   ]
  },
  {
   "cell_type": "code",
   "execution_count": 44,
   "metadata": {},
   "outputs": [
    {
     "data": {
      "text/html": [
       "<div>\n",
       "<style scoped>\n",
       "    .dataframe tbody tr th:only-of-type {\n",
       "        vertical-align: middle;\n",
       "    }\n",
       "\n",
       "    .dataframe tbody tr th {\n",
       "        vertical-align: top;\n",
       "    }\n",
       "\n",
       "    .dataframe thead th {\n",
       "        text-align: right;\n",
       "    }\n",
       "</style>\n",
       "<table border=\"1\" class=\"dataframe\">\n",
       "  <thead>\n",
       "    <tr style=\"text-align: right;\">\n",
       "      <th></th>\n",
       "      <th>children</th>\n",
       "      <th>days_employed</th>\n",
       "      <th>dob_years</th>\n",
       "      <th>education</th>\n",
       "      <th>education_id</th>\n",
       "      <th>family_status</th>\n",
       "      <th>family_status_id</th>\n",
       "      <th>gender</th>\n",
       "      <th>income_type</th>\n",
       "      <th>debt</th>\n",
       "      <th>total_income</th>\n",
       "      <th>purpose</th>\n",
       "    </tr>\n",
       "  </thead>\n",
       "  <tbody>\n",
       "    <tr>\n",
       "      <td>0</td>\n",
       "      <td>1</td>\n",
       "      <td>8437</td>\n",
       "      <td>42</td>\n",
       "      <td>bachelor's degree</td>\n",
       "      <td>0</td>\n",
       "      <td>married</td>\n",
       "      <td>0</td>\n",
       "      <td>F</td>\n",
       "      <td>employee</td>\n",
       "      <td>0</td>\n",
       "      <td>40620</td>\n",
       "      <td>purchase of the house</td>\n",
       "    </tr>\n",
       "    <tr>\n",
       "      <td>1</td>\n",
       "      <td>1</td>\n",
       "      <td>4024</td>\n",
       "      <td>36</td>\n",
       "      <td>secondary education</td>\n",
       "      <td>1</td>\n",
       "      <td>married</td>\n",
       "      <td>0</td>\n",
       "      <td>F</td>\n",
       "      <td>employee</td>\n",
       "      <td>0</td>\n",
       "      <td>17932</td>\n",
       "      <td>car purchase</td>\n",
       "    </tr>\n",
       "    <tr>\n",
       "      <td>2</td>\n",
       "      <td>0</td>\n",
       "      <td>5623</td>\n",
       "      <td>33</td>\n",
       "      <td>secondary education</td>\n",
       "      <td>1</td>\n",
       "      <td>married</td>\n",
       "      <td>0</td>\n",
       "      <td>M</td>\n",
       "      <td>employee</td>\n",
       "      <td>0</td>\n",
       "      <td>23341</td>\n",
       "      <td>purchase of the house</td>\n",
       "    </tr>\n",
       "    <tr>\n",
       "      <td>3</td>\n",
       "      <td>3</td>\n",
       "      <td>4124</td>\n",
       "      <td>32</td>\n",
       "      <td>secondary education</td>\n",
       "      <td>1</td>\n",
       "      <td>married</td>\n",
       "      <td>0</td>\n",
       "      <td>M</td>\n",
       "      <td>employee</td>\n",
       "      <td>0</td>\n",
       "      <td>42820</td>\n",
       "      <td>supplementary education</td>\n",
       "    </tr>\n",
       "    <tr>\n",
       "      <td>4</td>\n",
       "      <td>0</td>\n",
       "      <td>10820</td>\n",
       "      <td>53</td>\n",
       "      <td>secondary education</td>\n",
       "      <td>1</td>\n",
       "      <td>civil partnership</td>\n",
       "      <td>1</td>\n",
       "      <td>F</td>\n",
       "      <td>retiree</td>\n",
       "      <td>0</td>\n",
       "      <td>25378</td>\n",
       "      <td>to have a wedding</td>\n",
       "    </tr>\n",
       "  </tbody>\n",
       "</table>\n",
       "</div>"
      ],
      "text/plain": [
       "   children  days_employed  dob_years            education  education_id  \\\n",
       "0         1           8437         42    bachelor's degree             0   \n",
       "1         1           4024         36  secondary education             1   \n",
       "2         0           5623         33  secondary education             1   \n",
       "3         3           4124         32  secondary education             1   \n",
       "4         0          10820         53  secondary education             1   \n",
       "\n",
       "       family_status  family_status_id gender income_type  debt  total_income  \\\n",
       "0            married                 0      F    employee     0         40620   \n",
       "1            married                 0      F    employee     0         17932   \n",
       "2            married                 0      M    employee     0         23341   \n",
       "3            married                 0      M    employee     0         42820   \n",
       "4  civil partnership                 1      F     retiree     0         25378   \n",
       "\n",
       "                   purpose  \n",
       "0    purchase of the house  \n",
       "1             car purchase  \n",
       "2    purchase of the house  \n",
       "3  supplementary education  \n",
       "4        to have a wedding  "
      ]
     },
     "metadata": {},
     "output_type": "display_data"
    }
   ],
   "source": [
    "# displaying first five rows\n",
    "display(data.head())"
   ]
  },
  {
   "cell_type": "markdown",
   "metadata": {},
   "source": [
    "**`purpose` column**\n",
    "\n",
    "Displaying value counts in that column:"
   ]
  },
  {
   "cell_type": "code",
   "execution_count": 45,
   "metadata": {},
   "outputs": [
    {
     "data": {
      "text/html": [
       "<div>\n",
       "<style scoped>\n",
       "    .dataframe tbody tr th:only-of-type {\n",
       "        vertical-align: middle;\n",
       "    }\n",
       "\n",
       "    .dataframe tbody tr th {\n",
       "        vertical-align: top;\n",
       "    }\n",
       "\n",
       "    .dataframe thead th {\n",
       "        text-align: right;\n",
       "    }\n",
       "</style>\n",
       "<table border=\"1\" class=\"dataframe\">\n",
       "  <thead>\n",
       "    <tr style=\"text-align: right;\">\n",
       "      <th></th>\n",
       "      <th>purpose</th>\n",
       "    </tr>\n",
       "  </thead>\n",
       "  <tbody>\n",
       "    <tr>\n",
       "      <td>wedding ceremony</td>\n",
       "      <td>720</td>\n",
       "    </tr>\n",
       "    <tr>\n",
       "      <td>to have a wedding</td>\n",
       "      <td>690</td>\n",
       "    </tr>\n",
       "    <tr>\n",
       "      <td>having a wedding</td>\n",
       "      <td>680</td>\n",
       "    </tr>\n",
       "    <tr>\n",
       "      <td>real estate transactions</td>\n",
       "      <td>614</td>\n",
       "    </tr>\n",
       "    <tr>\n",
       "      <td>buy commercial real estate</td>\n",
       "      <td>595</td>\n",
       "    </tr>\n",
       "    <tr>\n",
       "      <td>purchase of the house</td>\n",
       "      <td>593</td>\n",
       "    </tr>\n",
       "    <tr>\n",
       "      <td>buying property for renting out</td>\n",
       "      <td>586</td>\n",
       "    </tr>\n",
       "    <tr>\n",
       "      <td>housing</td>\n",
       "      <td>584</td>\n",
       "    </tr>\n",
       "    <tr>\n",
       "      <td>building a real estate</td>\n",
       "      <td>579</td>\n",
       "    </tr>\n",
       "    <tr>\n",
       "      <td>transactions with commercial real estate</td>\n",
       "      <td>577</td>\n",
       "    </tr>\n",
       "    <tr>\n",
       "      <td>housing transactions</td>\n",
       "      <td>576</td>\n",
       "    </tr>\n",
       "    <tr>\n",
       "      <td>purchase of my own house</td>\n",
       "      <td>574</td>\n",
       "    </tr>\n",
       "    <tr>\n",
       "      <td>property</td>\n",
       "      <td>571</td>\n",
       "    </tr>\n",
       "    <tr>\n",
       "      <td>purchase of the house for my family</td>\n",
       "      <td>569</td>\n",
       "    </tr>\n",
       "    <tr>\n",
       "      <td>building a property</td>\n",
       "      <td>561</td>\n",
       "    </tr>\n",
       "    <tr>\n",
       "      <td>transactions with my real estate</td>\n",
       "      <td>558</td>\n",
       "    </tr>\n",
       "    <tr>\n",
       "      <td>construction of own property</td>\n",
       "      <td>553</td>\n",
       "    </tr>\n",
       "    <tr>\n",
       "      <td>buy real estate</td>\n",
       "      <td>550</td>\n",
       "    </tr>\n",
       "    <tr>\n",
       "      <td>buy residential real estate</td>\n",
       "      <td>545</td>\n",
       "    </tr>\n",
       "    <tr>\n",
       "      <td>housing renovation</td>\n",
       "      <td>539</td>\n",
       "    </tr>\n",
       "    <tr>\n",
       "      <td>car</td>\n",
       "      <td>452</td>\n",
       "    </tr>\n",
       "    <tr>\n",
       "      <td>buying my own car</td>\n",
       "      <td>452</td>\n",
       "    </tr>\n",
       "    <tr>\n",
       "      <td>to buy a car</td>\n",
       "      <td>441</td>\n",
       "    </tr>\n",
       "    <tr>\n",
       "      <td>going to university</td>\n",
       "      <td>440</td>\n",
       "    </tr>\n",
       "    <tr>\n",
       "      <td>second-hand car purchase</td>\n",
       "      <td>431</td>\n",
       "    </tr>\n",
       "    <tr>\n",
       "      <td>buying a second-hand car</td>\n",
       "      <td>431</td>\n",
       "    </tr>\n",
       "    <tr>\n",
       "      <td>to own a car</td>\n",
       "      <td>425</td>\n",
       "    </tr>\n",
       "    <tr>\n",
       "      <td>cars</td>\n",
       "      <td>420</td>\n",
       "    </tr>\n",
       "    <tr>\n",
       "      <td>car purchase</td>\n",
       "      <td>419</td>\n",
       "    </tr>\n",
       "    <tr>\n",
       "      <td>supplementary education</td>\n",
       "      <td>411</td>\n",
       "    </tr>\n",
       "    <tr>\n",
       "      <td>university education</td>\n",
       "      <td>409</td>\n",
       "    </tr>\n",
       "    <tr>\n",
       "      <td>purchase of a car</td>\n",
       "      <td>409</td>\n",
       "    </tr>\n",
       "    <tr>\n",
       "      <td>education</td>\n",
       "      <td>403</td>\n",
       "    </tr>\n",
       "    <tr>\n",
       "      <td>to get a supplementary education</td>\n",
       "      <td>395</td>\n",
       "    </tr>\n",
       "    <tr>\n",
       "      <td>getting an education</td>\n",
       "      <td>392</td>\n",
       "    </tr>\n",
       "    <tr>\n",
       "      <td>getting higher education</td>\n",
       "      <td>389</td>\n",
       "    </tr>\n",
       "    <tr>\n",
       "      <td>profile education</td>\n",
       "      <td>388</td>\n",
       "    </tr>\n",
       "    <tr>\n",
       "      <td>to become educated</td>\n",
       "      <td>357</td>\n",
       "    </tr>\n",
       "  </tbody>\n",
       "</table>\n",
       "</div>"
      ],
      "text/plain": [
       "                                          purpose\n",
       "wedding ceremony                              720\n",
       "to have a wedding                             690\n",
       "having a wedding                              680\n",
       "real estate transactions                      614\n",
       "buy commercial real estate                    595\n",
       "purchase of the house                         593\n",
       "buying property for renting out               586\n",
       "housing                                       584\n",
       "building a real estate                        579\n",
       "transactions with commercial real estate      577\n",
       "housing transactions                          576\n",
       "purchase of my own house                      574\n",
       "property                                      571\n",
       "purchase of the house for my family           569\n",
       "building a property                           561\n",
       "transactions with my real estate              558\n",
       "construction of own property                  553\n",
       "buy real estate                               550\n",
       "buy residential real estate                   545\n",
       "housing renovation                            539\n",
       "car                                           452\n",
       "buying my own car                             452\n",
       "to buy a car                                  441\n",
       "going to university                           440\n",
       "second-hand car purchase                      431\n",
       "buying a second-hand car                      431\n",
       "to own a car                                  425\n",
       "cars                                          420\n",
       "car purchase                                  419\n",
       "supplementary education                       411\n",
       "university education                          409\n",
       "purchase of a car                             409\n",
       "education                                     403\n",
       "to get a supplementary education              395\n",
       "getting an education                          392\n",
       "getting higher education                      389\n",
       "profile education                             388\n",
       "to become educated                            357"
      ]
     },
     "execution_count": 45,
     "metadata": {},
     "output_type": "execute_result"
    }
   ],
   "source": [
    "# obtaining values for the column\n",
    "data['purpose'].value_counts().to_frame()"
   ]
  },
  {
   "cell_type": "markdown",
   "metadata": {},
   "source": [
    "There are no visible issues with values in that column, but there are too many purposes. Therefore, we would need to combine them in a smaller number of categories later when we will categorize the data."
   ]
  },
  {
   "cell_type": "markdown",
   "metadata": {},
   "source": [
    "**Conclusions**\n",
    "\n",
    "We had a deeper look at each other column one-by-one and fix the issues with the data in several columns:\n",
    "1. In the `education` column we transformed all values to lower case to remove duplicate education types.\n",
    "2. For the `children` column we deleted rows that have a value ‘20’ in that column. We also replaced ‘-1’ values with ‘1’.\n",
    "3. For the `days_employed` column we replaced unrealistic values with average work experience, cast negative values to positive, and change column type to int.\n",
    "4. In the `dob_years` column we replaced ‘0’ values with an average age.\n",
    "5. For the `gender` column we dropped the row that had 'XNA' value.\n",
    "6. For the `income_type` column we removed rows that had an ‘unemployed’, ‘student’, ‘entrepreneur’, and ‘paternity / maternity leave’ values because these values had counts of 1 and 2 only. \n",
    "7. Fore `total_income` column we change the column type to int."
   ]
  },
  {
   "cell_type": "markdown",
   "metadata": {},
   "source": [
    "## Duplicates <a id='duplicates'></a>\n",
    "\n",
    "Cheking if there are any duplicates left:"
   ]
  },
  {
   "cell_type": "code",
   "execution_count": 46,
   "metadata": {},
   "outputs": [
    {
     "data": {
      "text/plain": [
       "0"
      ]
     },
     "execution_count": 46,
     "metadata": {},
     "output_type": "execute_result"
    }
   ],
   "source": [
    "# Checking for duplicates\n",
    "data[(data.duplicated())]['children'].sum()"
   ]
  },
  {
   "cell_type": "markdown",
   "metadata": {},
   "source": [
    "There are no duplicates in the data set. Let’s check the size of the dataset after all manipulation:"
   ]
  },
  {
   "cell_type": "code",
   "execution_count": 47,
   "metadata": {},
   "outputs": [
    {
     "name": "stdout",
     "output_type": "stream",
     "text": [
      "<class 'pandas.core.frame.DataFrame'>\n",
      "Int64Index: 19278 entries, 0 to 21524\n",
      "Data columns (total 12 columns):\n",
      "children            19278 non-null int64\n",
      "days_employed       19278 non-null int64\n",
      "dob_years           19278 non-null int64\n",
      "education           19278 non-null object\n",
      "education_id        19278 non-null int64\n",
      "family_status       19278 non-null object\n",
      "family_status_id    19278 non-null int64\n",
      "gender              19278 non-null object\n",
      "income_type         19278 non-null object\n",
      "debt                19278 non-null int64\n",
      "total_income        19278 non-null int64\n",
      "purpose             19278 non-null object\n",
      "dtypes: int64(7), object(5)\n",
      "memory usage: 1.9+ MB\n"
     ]
    }
   ],
   "source": [
    "# Check the size of the dataset after manipulations with it\n",
    "data.info()"
   ]
  },
  {
   "cell_type": "markdown",
   "metadata": {},
   "source": [
    "Calculating the percentage of changes:"
   ]
  },
  {
   "cell_type": "code",
   "execution_count": 48,
   "metadata": {},
   "outputs": [
    {
     "data": {
      "text/plain": [
       "10.44"
      ]
     },
     "execution_count": 48,
     "metadata": {},
     "output_type": "execute_result"
    }
   ],
   "source": [
    "#finding percentage of changes\n",
    "round(((data_shape_original[0]-data.shape[0])/data_shape_original[0])*100,2)"
   ]
  },
  {
   "cell_type": "markdown",
   "metadata": {},
   "source": [
    "**Conclusions**\n",
    "\n",
    "The size of the original dataset was reduced by 10.44 percent. After all manipulations, the dataset has 19278 rows which should be sufficient to answer the questions."
   ]
  },
  {
   "cell_type": "markdown",
   "metadata": {},
   "source": [
    "## Data categorization <a id='data_categorization'></a>\n",
    "\n",
    "It would be difficult to answer the question about if there is a connection between income level and repaying a loan on time because `total_income` column contains quantitative data with numerous values. Therefore, in order to answer that question, we will put data in that column into income categories. \n",
    "\n",
    "The `purpose` column has categorical values, but the number of purposes there is high and some of them look similar. So, we would combine purposes in a smaller number of purpose categories to answer the question about how different loan purposes affect on-time loan repayment. \n",
    "\n",
    "Also, in the current project, we do not study if there is a correlation between age category and on-time loan repayment, but for future studies, we will categorize data in the `dob_years` column as well."
   ]
  },
  {
   "cell_type": "markdown",
   "metadata": {},
   "source": [
    "**Categorizing data in `purpose` colunn**\n",
    "\n",
    "Displaying value counts for `purpose` column:"
   ]
  },
  {
   "cell_type": "code",
   "execution_count": 49,
   "metadata": {
    "scrolled": true
   },
   "outputs": [
    {
     "data": {
      "text/plain": [
       "wedding ceremony                            720\n",
       "to have a wedding                           690\n",
       "having a wedding                            680\n",
       "real estate transactions                    614\n",
       "buy commercial real estate                  595\n",
       "purchase of the house                       593\n",
       "buying property for renting out             586\n",
       "housing                                     584\n",
       "building a real estate                      579\n",
       "transactions with commercial real estate    577\n",
       "housing transactions                        576\n",
       "purchase of my own house                    574\n",
       "property                                    571\n",
       "purchase of the house for my family         569\n",
       "building a property                         561\n",
       "transactions with my real estate            558\n",
       "construction of own property                553\n",
       "buy real estate                             550\n",
       "buy residential real estate                 545\n",
       "housing renovation                          539\n",
       "car                                         452\n",
       "buying my own car                           452\n",
       "to buy a car                                441\n",
       "going to university                         440\n",
       "second-hand car purchase                    431\n",
       "buying a second-hand car                    431\n",
       "to own a car                                425\n",
       "cars                                        420\n",
       "car purchase                                419\n",
       "supplementary education                     411\n",
       "university education                        409\n",
       "purchase of a car                           409\n",
       "education                                   403\n",
       "to get a supplementary education            395\n",
       "getting an education                        392\n",
       "getting higher education                    389\n",
       "profile education                           388\n",
       "to become educated                          357\n",
       "Name: purpose, dtype: int64"
      ]
     },
     "execution_count": 49,
     "metadata": {},
     "output_type": "execute_result"
    }
   ],
   "source": [
    "# printing values for purpose column\n",
    "data['purpose'].value_counts()"
   ]
  },
  {
   "cell_type": "markdown",
   "metadata": {},
   "source": [
    "As can be seen, there are many different values. We will display all unique values in that column:"
   ]
  },
  {
   "cell_type": "code",
   "execution_count": 50,
   "metadata": {},
   "outputs": [
    {
     "data": {
      "text/plain": [
       "array(['purchase of the house', 'car purchase', 'supplementary education',\n",
       "       'to have a wedding', 'housing transactions', 'education',\n",
       "       'having a wedding', 'purchase of the house for my family',\n",
       "       'buy real estate', 'buy commercial real estate',\n",
       "       'buy residential real estate', 'construction of own property',\n",
       "       'property', 'building a property', 'buying a second-hand car',\n",
       "       'buying my own car', 'transactions with commercial real estate',\n",
       "       'housing', 'transactions with my real estate', 'cars',\n",
       "       'to become educated', 'getting an education',\n",
       "       'second-hand car purchase', 'car', 'wedding ceremony',\n",
       "       'to get a supplementary education', 'purchase of my own house',\n",
       "       'real estate transactions', 'getting higher education',\n",
       "       'to own a car', 'purchase of a car', 'profile education',\n",
       "       'university education', 'buying property for renting out',\n",
       "       'to buy a car', 'building a real estate', 'housing renovation',\n",
       "       'going to university'], dtype=object)"
      ]
     },
     "execution_count": 50,
     "metadata": {},
     "output_type": "execute_result"
    }
   ],
   "source": [
    "# checking the unique values in purpose column\n",
    "data['purpose'].unique()"
   ]
  },
  {
   "cell_type": "markdown",
   "metadata": {},
   "source": [
    "Although there are many different purposes some of them look similar. So, we would combine them into a smaller number of purpose categories. The purposes can be grouped into the following main categories: ‘private real estate’, ‘commercial real estate’, ‘vehicle purchase’, ‘education’, and  ‘wedding’.\n",
    "\n",
    "We will define the function to help to categorize the data in that column:"
   ]
  },
  {
   "cell_type": "code",
   "execution_count": 51,
   "metadata": {},
   "outputs": [],
   "source": [
    "# defining a function to categorize the data based on common topics\n",
    "def categorize_purpose(purpose):\n",
    "    if purpose in ['purchase of the house','housing transactions','purchase of the house for my family','buy real estate',\n",
    "                  'buy residential real estate','construction of own property','property','building a property','housing', \n",
    "                  'transactions with my real estate','purchase of my own house','real estate transactions',\n",
    "                  'building a real estate','housing renovation']:\n",
    "        return 'private real estate'\n",
    "    elif purpose in ['buy commercial real estate','transactions with commercial real estate','buying property for renting out']:\n",
    "        return 'commercial real estate'\n",
    "    elif purpose in ['car purchase','buying a second-hand car','buying my own car','cars','second-hand car purchase', 'car',\n",
    "                    'to own a car', 'purchase of a car','to buy a car']:\n",
    "        return 'vehicle purchase'\n",
    "    elif purpose in ['supplementary education','education','to become educated', 'getting an education', \n",
    "                     'to get a supplementary education','getting higher education','university education','profile education',\n",
    "                     'going to university']:\n",
    "        return 'education'\n",
    "    elif purpose in ['to have a wedding','having a wedding','wedding ceremony']:\n",
    "        return 'wedding'"
   ]
  },
  {
   "cell_type": "markdown",
   "metadata": {},
   "source": [
    "Applying the function to `purpose` colunm to add `purpose_type` column:"
   ]
  },
  {
   "cell_type": "code",
   "execution_count": 52,
   "metadata": {},
   "outputs": [],
   "source": [
    "# applying the function\n",
    "data['purpose_type']=data['purpose'].apply(categorize_purpose)"
   ]
  },
  {
   "cell_type": "markdown",
   "metadata": {},
   "source": [
    "Checking value counts in `purpose_type` column to ensure that the purposes were successfully categorized:"
   ]
  },
  {
   "cell_type": "code",
   "execution_count": 53,
   "metadata": {},
   "outputs": [
    {
     "data": {
      "text/plain": [
       "private real estate       7966\n",
       "vehicle purchase          3880\n",
       "education                 3584\n",
       "wedding                   2090\n",
       "commercial real estate    1758\n",
       "Name: purpose_type, dtype: int64"
      ]
     },
     "execution_count": 53,
     "metadata": {},
     "output_type": "execute_result"
    }
   ],
   "source": [
    "#printing value counts for purpose_type column\n",
    "data['purpose_type'].value_counts()"
   ]
  },
  {
   "cell_type": "markdown",
   "metadata": {},
   "source": [
    "**Categorizing data in `dob_year`s column**\n",
    "\n",
    "We will categorize data in that column by combining values in 10-year range groups. As the minimal age for applying for a loan is 19, we will put all ages below into one category. Also, as there are not too many applicants older than 70, we will put all ages higher than 69 into one category as well.\n",
    "\n",
    "We will define the function to help to categorize the data in that column:"
   ]
  },
  {
   "cell_type": "code",
   "execution_count": 54,
   "metadata": {},
   "outputs": [],
   "source": [
    "# defining a function to categorize the data based on age\n",
    "def age_category(age):\n",
    "    if age<20:\n",
    "        return 'under 20'\n",
    "    elif age<30:\n",
    "        return '20-29'\n",
    "    elif age<40:\n",
    "        return '30-39'\n",
    "    elif age<50:\n",
    "        return '40-49'\n",
    "    elif age<60:\n",
    "        return '50-59'\n",
    "    elif age<70:\n",
    "        return '60-69'\n",
    "    else:\n",
    "        return '70+'"
   ]
  },
  {
   "cell_type": "markdown",
   "metadata": {},
   "source": [
    "Testing the function:"
   ]
  },
  {
   "cell_type": "code",
   "execution_count": 55,
   "metadata": {},
   "outputs": [
    {
     "name": "stdout",
     "output_type": "stream",
     "text": [
      "under 20\n",
      "30-39\n",
      "70+\n"
     ]
    }
   ],
   "source": [
    "# testing if the function works properly\n",
    "print(age_category(5))\n",
    "print(age_category(32))\n",
    "print(age_category(81))"
   ]
  },
  {
   "cell_type": "markdown",
   "metadata": {},
   "source": [
    "Applying the function to `dob_years` colunm to add `age_category` column:"
   ]
  },
  {
   "cell_type": "code",
   "execution_count": 56,
   "metadata": {},
   "outputs": [],
   "source": [
    "# applying the function\n",
    "data['age_category']=data['dob_years'].apply(age_category)"
   ]
  },
  {
   "cell_type": "markdown",
   "metadata": {},
   "source": [
    "Checking `age_category` column to ensure that the ages were successfully categorized:"
   ]
  },
  {
   "cell_type": "code",
   "execution_count": 57,
   "metadata": {},
   "outputs": [
    {
     "data": {
      "text/html": [
       "<div>\n",
       "<style scoped>\n",
       "    .dataframe tbody tr th:only-of-type {\n",
       "        vertical-align: middle;\n",
       "    }\n",
       "\n",
       "    .dataframe tbody tr th {\n",
       "        vertical-align: top;\n",
       "    }\n",
       "\n",
       "    .dataframe thead th {\n",
       "        text-align: right;\n",
       "    }\n",
       "</style>\n",
       "<table border=\"1\" class=\"dataframe\">\n",
       "  <thead>\n",
       "    <tr style=\"text-align: right;\">\n",
       "      <th></th>\n",
       "      <th>children</th>\n",
       "      <th>days_employed</th>\n",
       "      <th>dob_years</th>\n",
       "      <th>education</th>\n",
       "      <th>education_id</th>\n",
       "      <th>family_status</th>\n",
       "      <th>family_status_id</th>\n",
       "      <th>gender</th>\n",
       "      <th>income_type</th>\n",
       "      <th>debt</th>\n",
       "      <th>total_income</th>\n",
       "      <th>purpose</th>\n",
       "      <th>purpose_type</th>\n",
       "      <th>age_category</th>\n",
       "    </tr>\n",
       "  </thead>\n",
       "  <tbody>\n",
       "    <tr>\n",
       "      <td>0</td>\n",
       "      <td>1</td>\n",
       "      <td>8437</td>\n",
       "      <td>42</td>\n",
       "      <td>bachelor's degree</td>\n",
       "      <td>0</td>\n",
       "      <td>married</td>\n",
       "      <td>0</td>\n",
       "      <td>F</td>\n",
       "      <td>employee</td>\n",
       "      <td>0</td>\n",
       "      <td>40620</td>\n",
       "      <td>purchase of the house</td>\n",
       "      <td>private real estate</td>\n",
       "      <td>40-49</td>\n",
       "    </tr>\n",
       "    <tr>\n",
       "      <td>1</td>\n",
       "      <td>1</td>\n",
       "      <td>4024</td>\n",
       "      <td>36</td>\n",
       "      <td>secondary education</td>\n",
       "      <td>1</td>\n",
       "      <td>married</td>\n",
       "      <td>0</td>\n",
       "      <td>F</td>\n",
       "      <td>employee</td>\n",
       "      <td>0</td>\n",
       "      <td>17932</td>\n",
       "      <td>car purchase</td>\n",
       "      <td>vehicle purchase</td>\n",
       "      <td>30-39</td>\n",
       "    </tr>\n",
       "    <tr>\n",
       "      <td>2</td>\n",
       "      <td>0</td>\n",
       "      <td>5623</td>\n",
       "      <td>33</td>\n",
       "      <td>secondary education</td>\n",
       "      <td>1</td>\n",
       "      <td>married</td>\n",
       "      <td>0</td>\n",
       "      <td>M</td>\n",
       "      <td>employee</td>\n",
       "      <td>0</td>\n",
       "      <td>23341</td>\n",
       "      <td>purchase of the house</td>\n",
       "      <td>private real estate</td>\n",
       "      <td>30-39</td>\n",
       "    </tr>\n",
       "    <tr>\n",
       "      <td>3</td>\n",
       "      <td>3</td>\n",
       "      <td>4124</td>\n",
       "      <td>32</td>\n",
       "      <td>secondary education</td>\n",
       "      <td>1</td>\n",
       "      <td>married</td>\n",
       "      <td>0</td>\n",
       "      <td>M</td>\n",
       "      <td>employee</td>\n",
       "      <td>0</td>\n",
       "      <td>42820</td>\n",
       "      <td>supplementary education</td>\n",
       "      <td>education</td>\n",
       "      <td>30-39</td>\n",
       "    </tr>\n",
       "    <tr>\n",
       "      <td>4</td>\n",
       "      <td>0</td>\n",
       "      <td>10820</td>\n",
       "      <td>53</td>\n",
       "      <td>secondary education</td>\n",
       "      <td>1</td>\n",
       "      <td>civil partnership</td>\n",
       "      <td>1</td>\n",
       "      <td>F</td>\n",
       "      <td>retiree</td>\n",
       "      <td>0</td>\n",
       "      <td>25378</td>\n",
       "      <td>to have a wedding</td>\n",
       "      <td>wedding</td>\n",
       "      <td>50-59</td>\n",
       "    </tr>\n",
       "    <tr>\n",
       "      <td>5</td>\n",
       "      <td>0</td>\n",
       "      <td>926</td>\n",
       "      <td>27</td>\n",
       "      <td>bachelor's degree</td>\n",
       "      <td>0</td>\n",
       "      <td>civil partnership</td>\n",
       "      <td>1</td>\n",
       "      <td>M</td>\n",
       "      <td>business</td>\n",
       "      <td>0</td>\n",
       "      <td>40922</td>\n",
       "      <td>purchase of the house</td>\n",
       "      <td>private real estate</td>\n",
       "      <td>20-29</td>\n",
       "    </tr>\n",
       "    <tr>\n",
       "      <td>6</td>\n",
       "      <td>0</td>\n",
       "      <td>2879</td>\n",
       "      <td>43</td>\n",
       "      <td>bachelor's degree</td>\n",
       "      <td>0</td>\n",
       "      <td>married</td>\n",
       "      <td>0</td>\n",
       "      <td>F</td>\n",
       "      <td>business</td>\n",
       "      <td>0</td>\n",
       "      <td>38484</td>\n",
       "      <td>housing transactions</td>\n",
       "      <td>private real estate</td>\n",
       "      <td>40-49</td>\n",
       "    </tr>\n",
       "    <tr>\n",
       "      <td>7</td>\n",
       "      <td>0</td>\n",
       "      <td>152</td>\n",
       "      <td>50</td>\n",
       "      <td>secondary education</td>\n",
       "      <td>1</td>\n",
       "      <td>married</td>\n",
       "      <td>0</td>\n",
       "      <td>M</td>\n",
       "      <td>employee</td>\n",
       "      <td>0</td>\n",
       "      <td>21731</td>\n",
       "      <td>education</td>\n",
       "      <td>education</td>\n",
       "      <td>50-59</td>\n",
       "    </tr>\n",
       "    <tr>\n",
       "      <td>8</td>\n",
       "      <td>2</td>\n",
       "      <td>6929</td>\n",
       "      <td>35</td>\n",
       "      <td>bachelor's degree</td>\n",
       "      <td>0</td>\n",
       "      <td>civil partnership</td>\n",
       "      <td>1</td>\n",
       "      <td>F</td>\n",
       "      <td>employee</td>\n",
       "      <td>0</td>\n",
       "      <td>15337</td>\n",
       "      <td>having a wedding</td>\n",
       "      <td>wedding</td>\n",
       "      <td>30-39</td>\n",
       "    </tr>\n",
       "    <tr>\n",
       "      <td>9</td>\n",
       "      <td>0</td>\n",
       "      <td>2188</td>\n",
       "      <td>41</td>\n",
       "      <td>secondary education</td>\n",
       "      <td>1</td>\n",
       "      <td>married</td>\n",
       "      <td>0</td>\n",
       "      <td>M</td>\n",
       "      <td>employee</td>\n",
       "      <td>0</td>\n",
       "      <td>23108</td>\n",
       "      <td>purchase of the house for my family</td>\n",
       "      <td>private real estate</td>\n",
       "      <td>40-49</td>\n",
       "    </tr>\n",
       "  </tbody>\n",
       "</table>\n",
       "</div>"
      ],
      "text/plain": [
       "   children  days_employed  dob_years            education  education_id  \\\n",
       "0         1           8437         42    bachelor's degree             0   \n",
       "1         1           4024         36  secondary education             1   \n",
       "2         0           5623         33  secondary education             1   \n",
       "3         3           4124         32  secondary education             1   \n",
       "4         0          10820         53  secondary education             1   \n",
       "5         0            926         27    bachelor's degree             0   \n",
       "6         0           2879         43    bachelor's degree             0   \n",
       "7         0            152         50  secondary education             1   \n",
       "8         2           6929         35    bachelor's degree             0   \n",
       "9         0           2188         41  secondary education             1   \n",
       "\n",
       "       family_status  family_status_id gender income_type  debt  total_income  \\\n",
       "0            married                 0      F    employee     0         40620   \n",
       "1            married                 0      F    employee     0         17932   \n",
       "2            married                 0      M    employee     0         23341   \n",
       "3            married                 0      M    employee     0         42820   \n",
       "4  civil partnership                 1      F     retiree     0         25378   \n",
       "5  civil partnership                 1      M    business     0         40922   \n",
       "6            married                 0      F    business     0         38484   \n",
       "7            married                 0      M    employee     0         21731   \n",
       "8  civil partnership                 1      F    employee     0         15337   \n",
       "9            married                 0      M    employee     0         23108   \n",
       "\n",
       "                               purpose         purpose_type age_category  \n",
       "0                purchase of the house  private real estate        40-49  \n",
       "1                         car purchase     vehicle purchase        30-39  \n",
       "2                purchase of the house  private real estate        30-39  \n",
       "3              supplementary education            education        30-39  \n",
       "4                    to have a wedding              wedding        50-59  \n",
       "5                purchase of the house  private real estate        20-29  \n",
       "6                 housing transactions  private real estate        40-49  \n",
       "7                            education            education        50-59  \n",
       "8                     having a wedding              wedding        30-39  \n",
       "9  purchase of the house for my family  private real estate        40-49  "
      ]
     },
     "metadata": {},
     "output_type": "display_data"
    },
    {
     "data": {
      "text/html": [
       "<div>\n",
       "<style scoped>\n",
       "    .dataframe tbody tr th:only-of-type {\n",
       "        vertical-align: middle;\n",
       "    }\n",
       "\n",
       "    .dataframe tbody tr th {\n",
       "        vertical-align: top;\n",
       "    }\n",
       "\n",
       "    .dataframe thead th {\n",
       "        text-align: right;\n",
       "    }\n",
       "</style>\n",
       "<table border=\"1\" class=\"dataframe\">\n",
       "  <thead>\n",
       "    <tr style=\"text-align: right;\">\n",
       "      <th></th>\n",
       "      <th>age_category</th>\n",
       "    </tr>\n",
       "  </thead>\n",
       "  <tbody>\n",
       "    <tr>\n",
       "      <td>30-39</td>\n",
       "      <td>5088</td>\n",
       "    </tr>\n",
       "    <tr>\n",
       "      <td>40-49</td>\n",
       "      <td>4883</td>\n",
       "    </tr>\n",
       "    <tr>\n",
       "      <td>50-59</td>\n",
       "      <td>4183</td>\n",
       "    </tr>\n",
       "    <tr>\n",
       "      <td>20-29</td>\n",
       "      <td>2860</td>\n",
       "    </tr>\n",
       "    <tr>\n",
       "      <td>60-69</td>\n",
       "      <td>2091</td>\n",
       "    </tr>\n",
       "    <tr>\n",
       "      <td>70+</td>\n",
       "      <td>160</td>\n",
       "    </tr>\n",
       "    <tr>\n",
       "      <td>under 20</td>\n",
       "      <td>13</td>\n",
       "    </tr>\n",
       "  </tbody>\n",
       "</table>\n",
       "</div>"
      ],
      "text/plain": [
       "          age_category\n",
       "30-39             5088\n",
       "40-49             4883\n",
       "50-59             4183\n",
       "20-29             2860\n",
       "60-69             2091\n",
       "70+                160\n",
       "under 20            13"
      ]
     },
     "execution_count": 57,
     "metadata": {},
     "output_type": "execute_result"
    }
   ],
   "source": [
    "# checking values in the new column\n",
    "display(data.head(10))\n",
    "\n",
    "#printing value counts for age_category column\n",
    "data['age_category'].value_counts().to_frame()"
   ]
  },
  {
   "cell_type": "markdown",
   "metadata": {},
   "source": [
    "**Categorizing data in `total_income` column**\n",
    "\n",
    "To categorize data in that column, we will check values distribution first."
   ]
  },
  {
   "cell_type": "code",
   "execution_count": 58,
   "metadata": {},
   "outputs": [
    {
     "data": {
      "text/plain": [
       "count     19278.000000\n",
       "mean      26785.409327\n",
       "std       16483.535109\n",
       "min        3306.000000\n",
       "25%       16486.000000\n",
       "50%       23202.500000\n",
       "75%       32535.750000\n",
       "max      362496.000000\n",
       "Name: total_income, dtype: float64"
      ]
     },
     "execution_count": 58,
     "metadata": {},
     "output_type": "execute_result"
    }
   ],
   "source": [
    "# showing value distribution in total_income column\n",
    "data['total_income'].describe()\n"
   ]
  },
  {
   "cell_type": "markdown",
   "metadata": {},
   "source": [
    "As can be seen, 75% of applicants have an income of less than 32535. Therefore, we will categorize data in that column by combining values in 10000 range groups. Also, we will put all incomes higher than 40000 into one category.\n",
    "\n",
    "We will define the function to help to categorize the data in that column:"
   ]
  },
  {
   "cell_type": "code",
   "execution_count": 59,
   "metadata": {},
   "outputs": [],
   "source": [
    "# creating the function:\n",
    "def income_category(income):\n",
    "    if income<10000:\n",
    "        return '10000-'\n",
    "    elif income<20000:\n",
    "        return '10000-19999'\n",
    "    elif income<30000:\n",
    "        return '20000-29999'\n",
    "    elif income<40000:\n",
    "        return '30000-39999'\n",
    "    else:\n",
    "        return '40000+'"
   ]
  },
  {
   "cell_type": "markdown",
   "metadata": {},
   "source": [
    "Testing the function:"
   ]
  },
  {
   "cell_type": "code",
   "execution_count": 60,
   "metadata": {},
   "outputs": [
    {
     "name": "stdout",
     "output_type": "stream",
     "text": [
      "10000-\n",
      "30000-39999\n",
      "40000+\n"
     ]
    }
   ],
   "source": [
    "# testing if the function works properly\n",
    "print(income_category(5000))\n",
    "print(income_category(32000))\n",
    "print(income_category(810000))"
   ]
  },
  {
   "cell_type": "markdown",
   "metadata": {},
   "source": [
    "Applying the function to `total_income` colunm to add `income_level` column:"
   ]
  },
  {
   "cell_type": "code",
   "execution_count": 61,
   "metadata": {},
   "outputs": [],
   "source": [
    "# applying the function\n",
    "data['income_level']=data['total_income'].apply(income_category)"
   ]
  },
  {
   "cell_type": "markdown",
   "metadata": {},
   "source": [
    "Checking `income_level` column to ensure that the ages were successfully categorized:"
   ]
  },
  {
   "cell_type": "code",
   "execution_count": 62,
   "metadata": {},
   "outputs": [
    {
     "data": {
      "text/html": [
       "<div>\n",
       "<style scoped>\n",
       "    .dataframe tbody tr th:only-of-type {\n",
       "        vertical-align: middle;\n",
       "    }\n",
       "\n",
       "    .dataframe tbody tr th {\n",
       "        vertical-align: top;\n",
       "    }\n",
       "\n",
       "    .dataframe thead th {\n",
       "        text-align: right;\n",
       "    }\n",
       "</style>\n",
       "<table border=\"1\" class=\"dataframe\">\n",
       "  <thead>\n",
       "    <tr style=\"text-align: right;\">\n",
       "      <th></th>\n",
       "      <th>children</th>\n",
       "      <th>days_employed</th>\n",
       "      <th>dob_years</th>\n",
       "      <th>education</th>\n",
       "      <th>education_id</th>\n",
       "      <th>family_status</th>\n",
       "      <th>family_status_id</th>\n",
       "      <th>gender</th>\n",
       "      <th>income_type</th>\n",
       "      <th>debt</th>\n",
       "      <th>total_income</th>\n",
       "      <th>purpose</th>\n",
       "      <th>purpose_type</th>\n",
       "      <th>age_category</th>\n",
       "      <th>income_level</th>\n",
       "    </tr>\n",
       "  </thead>\n",
       "  <tbody>\n",
       "    <tr>\n",
       "      <td>0</td>\n",
       "      <td>1</td>\n",
       "      <td>8437</td>\n",
       "      <td>42</td>\n",
       "      <td>bachelor's degree</td>\n",
       "      <td>0</td>\n",
       "      <td>married</td>\n",
       "      <td>0</td>\n",
       "      <td>F</td>\n",
       "      <td>employee</td>\n",
       "      <td>0</td>\n",
       "      <td>40620</td>\n",
       "      <td>purchase of the house</td>\n",
       "      <td>private real estate</td>\n",
       "      <td>40-49</td>\n",
       "      <td>40000+</td>\n",
       "    </tr>\n",
       "    <tr>\n",
       "      <td>1</td>\n",
       "      <td>1</td>\n",
       "      <td>4024</td>\n",
       "      <td>36</td>\n",
       "      <td>secondary education</td>\n",
       "      <td>1</td>\n",
       "      <td>married</td>\n",
       "      <td>0</td>\n",
       "      <td>F</td>\n",
       "      <td>employee</td>\n",
       "      <td>0</td>\n",
       "      <td>17932</td>\n",
       "      <td>car purchase</td>\n",
       "      <td>vehicle purchase</td>\n",
       "      <td>30-39</td>\n",
       "      <td>10000-19999</td>\n",
       "    </tr>\n",
       "    <tr>\n",
       "      <td>2</td>\n",
       "      <td>0</td>\n",
       "      <td>5623</td>\n",
       "      <td>33</td>\n",
       "      <td>secondary education</td>\n",
       "      <td>1</td>\n",
       "      <td>married</td>\n",
       "      <td>0</td>\n",
       "      <td>M</td>\n",
       "      <td>employee</td>\n",
       "      <td>0</td>\n",
       "      <td>23341</td>\n",
       "      <td>purchase of the house</td>\n",
       "      <td>private real estate</td>\n",
       "      <td>30-39</td>\n",
       "      <td>20000-29999</td>\n",
       "    </tr>\n",
       "    <tr>\n",
       "      <td>3</td>\n",
       "      <td>3</td>\n",
       "      <td>4124</td>\n",
       "      <td>32</td>\n",
       "      <td>secondary education</td>\n",
       "      <td>1</td>\n",
       "      <td>married</td>\n",
       "      <td>0</td>\n",
       "      <td>M</td>\n",
       "      <td>employee</td>\n",
       "      <td>0</td>\n",
       "      <td>42820</td>\n",
       "      <td>supplementary education</td>\n",
       "      <td>education</td>\n",
       "      <td>30-39</td>\n",
       "      <td>40000+</td>\n",
       "    </tr>\n",
       "    <tr>\n",
       "      <td>4</td>\n",
       "      <td>0</td>\n",
       "      <td>10820</td>\n",
       "      <td>53</td>\n",
       "      <td>secondary education</td>\n",
       "      <td>1</td>\n",
       "      <td>civil partnership</td>\n",
       "      <td>1</td>\n",
       "      <td>F</td>\n",
       "      <td>retiree</td>\n",
       "      <td>0</td>\n",
       "      <td>25378</td>\n",
       "      <td>to have a wedding</td>\n",
       "      <td>wedding</td>\n",
       "      <td>50-59</td>\n",
       "      <td>20000-29999</td>\n",
       "    </tr>\n",
       "    <tr>\n",
       "      <td>5</td>\n",
       "      <td>0</td>\n",
       "      <td>926</td>\n",
       "      <td>27</td>\n",
       "      <td>bachelor's degree</td>\n",
       "      <td>0</td>\n",
       "      <td>civil partnership</td>\n",
       "      <td>1</td>\n",
       "      <td>M</td>\n",
       "      <td>business</td>\n",
       "      <td>0</td>\n",
       "      <td>40922</td>\n",
       "      <td>purchase of the house</td>\n",
       "      <td>private real estate</td>\n",
       "      <td>20-29</td>\n",
       "      <td>40000+</td>\n",
       "    </tr>\n",
       "    <tr>\n",
       "      <td>6</td>\n",
       "      <td>0</td>\n",
       "      <td>2879</td>\n",
       "      <td>43</td>\n",
       "      <td>bachelor's degree</td>\n",
       "      <td>0</td>\n",
       "      <td>married</td>\n",
       "      <td>0</td>\n",
       "      <td>F</td>\n",
       "      <td>business</td>\n",
       "      <td>0</td>\n",
       "      <td>38484</td>\n",
       "      <td>housing transactions</td>\n",
       "      <td>private real estate</td>\n",
       "      <td>40-49</td>\n",
       "      <td>30000-39999</td>\n",
       "    </tr>\n",
       "    <tr>\n",
       "      <td>7</td>\n",
       "      <td>0</td>\n",
       "      <td>152</td>\n",
       "      <td>50</td>\n",
       "      <td>secondary education</td>\n",
       "      <td>1</td>\n",
       "      <td>married</td>\n",
       "      <td>0</td>\n",
       "      <td>M</td>\n",
       "      <td>employee</td>\n",
       "      <td>0</td>\n",
       "      <td>21731</td>\n",
       "      <td>education</td>\n",
       "      <td>education</td>\n",
       "      <td>50-59</td>\n",
       "      <td>20000-29999</td>\n",
       "    </tr>\n",
       "    <tr>\n",
       "      <td>8</td>\n",
       "      <td>2</td>\n",
       "      <td>6929</td>\n",
       "      <td>35</td>\n",
       "      <td>bachelor's degree</td>\n",
       "      <td>0</td>\n",
       "      <td>civil partnership</td>\n",
       "      <td>1</td>\n",
       "      <td>F</td>\n",
       "      <td>employee</td>\n",
       "      <td>0</td>\n",
       "      <td>15337</td>\n",
       "      <td>having a wedding</td>\n",
       "      <td>wedding</td>\n",
       "      <td>30-39</td>\n",
       "      <td>10000-19999</td>\n",
       "    </tr>\n",
       "    <tr>\n",
       "      <td>9</td>\n",
       "      <td>0</td>\n",
       "      <td>2188</td>\n",
       "      <td>41</td>\n",
       "      <td>secondary education</td>\n",
       "      <td>1</td>\n",
       "      <td>married</td>\n",
       "      <td>0</td>\n",
       "      <td>M</td>\n",
       "      <td>employee</td>\n",
       "      <td>0</td>\n",
       "      <td>23108</td>\n",
       "      <td>purchase of the house for my family</td>\n",
       "      <td>private real estate</td>\n",
       "      <td>40-49</td>\n",
       "      <td>20000-29999</td>\n",
       "    </tr>\n",
       "  </tbody>\n",
       "</table>\n",
       "</div>"
      ],
      "text/plain": [
       "   children  days_employed  dob_years            education  education_id  \\\n",
       "0         1           8437         42    bachelor's degree             0   \n",
       "1         1           4024         36  secondary education             1   \n",
       "2         0           5623         33  secondary education             1   \n",
       "3         3           4124         32  secondary education             1   \n",
       "4         0          10820         53  secondary education             1   \n",
       "5         0            926         27    bachelor's degree             0   \n",
       "6         0           2879         43    bachelor's degree             0   \n",
       "7         0            152         50  secondary education             1   \n",
       "8         2           6929         35    bachelor's degree             0   \n",
       "9         0           2188         41  secondary education             1   \n",
       "\n",
       "       family_status  family_status_id gender income_type  debt  total_income  \\\n",
       "0            married                 0      F    employee     0         40620   \n",
       "1            married                 0      F    employee     0         17932   \n",
       "2            married                 0      M    employee     0         23341   \n",
       "3            married                 0      M    employee     0         42820   \n",
       "4  civil partnership                 1      F     retiree     0         25378   \n",
       "5  civil partnership                 1      M    business     0         40922   \n",
       "6            married                 0      F    business     0         38484   \n",
       "7            married                 0      M    employee     0         21731   \n",
       "8  civil partnership                 1      F    employee     0         15337   \n",
       "9            married                 0      M    employee     0         23108   \n",
       "\n",
       "                               purpose         purpose_type age_category  \\\n",
       "0                purchase of the house  private real estate        40-49   \n",
       "1                         car purchase     vehicle purchase        30-39   \n",
       "2                purchase of the house  private real estate        30-39   \n",
       "3              supplementary education            education        30-39   \n",
       "4                    to have a wedding              wedding        50-59   \n",
       "5                purchase of the house  private real estate        20-29   \n",
       "6                 housing transactions  private real estate        40-49   \n",
       "7                            education            education        50-59   \n",
       "8                     having a wedding              wedding        30-39   \n",
       "9  purchase of the house for my family  private real estate        40-49   \n",
       "\n",
       "  income_level  \n",
       "0       40000+  \n",
       "1  10000-19999  \n",
       "2  20000-29999  \n",
       "3       40000+  \n",
       "4  20000-29999  \n",
       "5       40000+  \n",
       "6  30000-39999  \n",
       "7  20000-29999  \n",
       "8  10000-19999  \n",
       "9  20000-29999  "
      ]
     },
     "metadata": {},
     "output_type": "display_data"
    },
    {
     "data": {
      "text/html": [
       "<div>\n",
       "<style scoped>\n",
       "    .dataframe tbody tr th:only-of-type {\n",
       "        vertical-align: middle;\n",
       "    }\n",
       "\n",
       "    .dataframe tbody tr th {\n",
       "        vertical-align: top;\n",
       "    }\n",
       "\n",
       "    .dataframe thead th {\n",
       "        text-align: right;\n",
       "    }\n",
       "</style>\n",
       "<table border=\"1\" class=\"dataframe\">\n",
       "  <thead>\n",
       "    <tr style=\"text-align: right;\">\n",
       "      <th></th>\n",
       "      <th>income_level</th>\n",
       "    </tr>\n",
       "  </thead>\n",
       "  <tbody>\n",
       "    <tr>\n",
       "      <td>10000-19999</td>\n",
       "      <td>6423</td>\n",
       "    </tr>\n",
       "    <tr>\n",
       "      <td>20000-29999</td>\n",
       "      <td>6040</td>\n",
       "    </tr>\n",
       "    <tr>\n",
       "      <td>30000-39999</td>\n",
       "      <td>3093</td>\n",
       "    </tr>\n",
       "    <tr>\n",
       "      <td>40000+</td>\n",
       "      <td>2800</td>\n",
       "    </tr>\n",
       "    <tr>\n",
       "      <td>10000-</td>\n",
       "      <td>922</td>\n",
       "    </tr>\n",
       "  </tbody>\n",
       "</table>\n",
       "</div>"
      ],
      "text/plain": [
       "             income_level\n",
       "10000-19999          6423\n",
       "20000-29999          6040\n",
       "30000-39999          3093\n",
       "40000+               2800\n",
       "10000-                922"
      ]
     },
     "execution_count": 62,
     "metadata": {},
     "output_type": "execute_result"
    }
   ],
   "source": [
    "# checking values in the new column\n",
    "display(data.head(10))\n",
    "\n",
    "#printing value counts for income_level column\n",
    "data['income_level'].value_counts().to_frame()"
   ]
  },
  {
   "cell_type": "markdown",
   "metadata": {},
   "source": [
    "**Conclusions**\n",
    "\n",
    "We categorized data in `purpose`, `dob_years`, and `total_income` columns:\n",
    "1. For the `purpose` column we combined purposes in a smaller number of purpose categories.\n",
    "2. For the `dob_years` we combined values in 10-year range groups.\n",
    "3. For the `total_income` column we combined values in 10000 range groups."
   ]
  },
  {
   "cell_type": "markdown",
   "metadata": {},
   "source": [
    "[Back to Contents](#back)"
   ]
  },
  {
   "cell_type": "markdown",
   "metadata": {},
   "source": [
    "## Stage 3. Answering the questions <a id='questions'></a>\n"
   ]
  },
  {
   "cell_type": "markdown",
   "metadata": {},
   "source": [
    "**Is there a correlation between having children and paying back on time?**\n",
    "\n",
    "To answer this question we will use a pivot table and calculate the count, sum, and mean of debt for customers with a different number of children."
   ]
  },
  {
   "cell_type": "code",
   "execution_count": 63,
   "metadata": {},
   "outputs": [
    {
     "data": {
      "text/html": [
       "<div>\n",
       "<style scoped>\n",
       "    .dataframe tbody tr th:only-of-type {\n",
       "        vertical-align: middle;\n",
       "    }\n",
       "\n",
       "    .dataframe tbody tr th {\n",
       "        vertical-align: top;\n",
       "    }\n",
       "\n",
       "    .dataframe thead tr th {\n",
       "        text-align: left;\n",
       "    }\n",
       "\n",
       "    .dataframe thead tr:last-of-type th {\n",
       "        text-align: right;\n",
       "    }\n",
       "</style>\n",
       "<table border=\"1\" class=\"dataframe\">\n",
       "  <thead>\n",
       "    <tr>\n",
       "      <th></th>\n",
       "      <th>count</th>\n",
       "      <th>sum</th>\n",
       "      <th>mean</th>\n",
       "    </tr>\n",
       "    <tr>\n",
       "      <th></th>\n",
       "      <th>debt</th>\n",
       "      <th>debt</th>\n",
       "      <th>debt</th>\n",
       "    </tr>\n",
       "    <tr>\n",
       "      <th>children</th>\n",
       "      <th></th>\n",
       "      <th></th>\n",
       "      <th></th>\n",
       "    </tr>\n",
       "  </thead>\n",
       "  <tbody>\n",
       "    <tr>\n",
       "      <td>0</td>\n",
       "      <td>12706</td>\n",
       "      <td>952</td>\n",
       "      <td>0.074925</td>\n",
       "    </tr>\n",
       "    <tr>\n",
       "      <td>1</td>\n",
       "      <td>4386</td>\n",
       "      <td>408</td>\n",
       "      <td>0.093023</td>\n",
       "    </tr>\n",
       "    <tr>\n",
       "      <td>2</td>\n",
       "      <td>1850</td>\n",
       "      <td>176</td>\n",
       "      <td>0.095135</td>\n",
       "    </tr>\n",
       "    <tr>\n",
       "      <td>3</td>\n",
       "      <td>294</td>\n",
       "      <td>22</td>\n",
       "      <td>0.074830</td>\n",
       "    </tr>\n",
       "    <tr>\n",
       "      <td>4</td>\n",
       "      <td>34</td>\n",
       "      <td>3</td>\n",
       "      <td>0.088235</td>\n",
       "    </tr>\n",
       "    <tr>\n",
       "      <td>5</td>\n",
       "      <td>8</td>\n",
       "      <td>0</td>\n",
       "      <td>0.000000</td>\n",
       "    </tr>\n",
       "  </tbody>\n",
       "</table>\n",
       "</div>"
      ],
      "text/plain": [
       "          count  sum      mean\n",
       "           debt debt      debt\n",
       "children                      \n",
       "0         12706  952  0.074925\n",
       "1          4386  408  0.093023\n",
       "2          1850  176  0.095135\n",
       "3           294   22  0.074830\n",
       "4            34    3  0.088235\n",
       "5             8    0  0.000000"
      ]
     },
     "execution_count": 63,
     "metadata": {},
     "output_type": "execute_result"
    }
   ],
   "source": [
    "# check the children data and paying back on time\n",
    "data.pivot_table(index='children', values='debt', aggfunc=['count','sum','mean'])"
   ]
  },
  {
   "cell_type": "markdown",
   "metadata": {},
   "source": [
    "**Conclusion**\n",
    "\n",
    "It looks like there is no correlation between the number of children and paying back on time. People with 3 children pay loans as well as people who do not have children. At the same time, while the percentage of people with 4 children who pay back on time is lower than the percent of people with 3 children who pay back on time, it is higher than the percent of people with 1 and 2 children who pay back on time. Although all borrowers in the dataset who have 5 children do not have debts, there are only 8 of them. Therefore, we cannot rely on that result."
   ]
  },
  {
   "cell_type": "markdown",
   "metadata": {},
   "source": [
    "**Is there a correlation between family status and paying back on time?**\n",
    "\n",
    "To answer this question we will use a pivot table and calculate the count, sum, and mean of debt for customers with different family statuses."
   ]
  },
  {
   "cell_type": "code",
   "execution_count": 64,
   "metadata": {},
   "outputs": [
    {
     "data": {
      "text/html": [
       "<div>\n",
       "<style scoped>\n",
       "    .dataframe tbody tr th:only-of-type {\n",
       "        vertical-align: middle;\n",
       "    }\n",
       "\n",
       "    .dataframe tbody tr th {\n",
       "        vertical-align: top;\n",
       "    }\n",
       "\n",
       "    .dataframe thead tr th {\n",
       "        text-align: left;\n",
       "    }\n",
       "\n",
       "    .dataframe thead tr:last-of-type th {\n",
       "        text-align: right;\n",
       "    }\n",
       "</style>\n",
       "<table border=\"1\" class=\"dataframe\">\n",
       "  <thead>\n",
       "    <tr>\n",
       "      <th></th>\n",
       "      <th>count</th>\n",
       "      <th>sum</th>\n",
       "      <th>mean</th>\n",
       "    </tr>\n",
       "    <tr>\n",
       "      <th></th>\n",
       "      <th>debt</th>\n",
       "      <th>debt</th>\n",
       "      <th>debt</th>\n",
       "    </tr>\n",
       "    <tr>\n",
       "      <th>family_status</th>\n",
       "      <th></th>\n",
       "      <th></th>\n",
       "      <th></th>\n",
       "    </tr>\n",
       "  </thead>\n",
       "  <tbody>\n",
       "    <tr>\n",
       "      <td>civil partnership</td>\n",
       "      <td>3721</td>\n",
       "      <td>336</td>\n",
       "      <td>0.090298</td>\n",
       "    </tr>\n",
       "    <tr>\n",
       "      <td>divorced</td>\n",
       "      <td>1082</td>\n",
       "      <td>75</td>\n",
       "      <td>0.069316</td>\n",
       "    </tr>\n",
       "    <tr>\n",
       "      <td>married</td>\n",
       "      <td>11095</td>\n",
       "      <td>841</td>\n",
       "      <td>0.075800</td>\n",
       "    </tr>\n",
       "    <tr>\n",
       "      <td>unmarried</td>\n",
       "      <td>2518</td>\n",
       "      <td>253</td>\n",
       "      <td>0.100477</td>\n",
       "    </tr>\n",
       "    <tr>\n",
       "      <td>widow / widower</td>\n",
       "      <td>862</td>\n",
       "      <td>56</td>\n",
       "      <td>0.064965</td>\n",
       "    </tr>\n",
       "  </tbody>\n",
       "</table>\n",
       "</div>"
      ],
      "text/plain": [
       "                   count  sum      mean\n",
       "                    debt debt      debt\n",
       "family_status                          \n",
       "civil partnership   3721  336  0.090298\n",
       "divorced            1082   75  0.069316\n",
       "married            11095  841  0.075800\n",
       "unmarried           2518  253  0.100477\n",
       "widow / widower      862   56  0.064965"
      ]
     },
     "execution_count": 64,
     "metadata": {},
     "output_type": "execute_result"
    }
   ],
   "source": [
    "# checking the family status data and paying back on time\n",
    "data.pivot_table(index='family_status', values='debt', aggfunc=['count','sum','mean'])"
   ]
  },
  {
   "cell_type": "markdown",
   "metadata": {},
   "source": [
    "**Conclusion**\n",
    "\n",
    "There seems to be a correlation between family status and paying back on time. As can be seen, single people and unmarried couples have a higher debt rate than people who are married or were married. It could be because such people are more mature and can better plan their expenses."
   ]
  },
  {
   "cell_type": "markdown",
   "metadata": {},
   "source": [
    "**Is there a correlation between income level and paying back on time?**\n",
    "\n",
    "To answer this question we will use a pivot table and calculate the count, sum, and mean of debt for customers with different income levels."
   ]
  },
  {
   "cell_type": "code",
   "execution_count": 65,
   "metadata": {},
   "outputs": [
    {
     "data": {
      "text/html": [
       "<div>\n",
       "<style scoped>\n",
       "    .dataframe tbody tr th:only-of-type {\n",
       "        vertical-align: middle;\n",
       "    }\n",
       "\n",
       "    .dataframe tbody tr th {\n",
       "        vertical-align: top;\n",
       "    }\n",
       "\n",
       "    .dataframe thead tr th {\n",
       "        text-align: left;\n",
       "    }\n",
       "\n",
       "    .dataframe thead tr:last-of-type th {\n",
       "        text-align: right;\n",
       "    }\n",
       "</style>\n",
       "<table border=\"1\" class=\"dataframe\">\n",
       "  <thead>\n",
       "    <tr>\n",
       "      <th></th>\n",
       "      <th>count</th>\n",
       "      <th>sum</th>\n",
       "      <th>mean</th>\n",
       "    </tr>\n",
       "    <tr>\n",
       "      <th></th>\n",
       "      <th>debt</th>\n",
       "      <th>debt</th>\n",
       "      <th>debt</th>\n",
       "    </tr>\n",
       "    <tr>\n",
       "      <th>income_level</th>\n",
       "      <th></th>\n",
       "      <th></th>\n",
       "      <th></th>\n",
       "    </tr>\n",
       "  </thead>\n",
       "  <tbody>\n",
       "    <tr>\n",
       "      <td>10000-</td>\n",
       "      <td>922</td>\n",
       "      <td>56</td>\n",
       "      <td>0.060738</td>\n",
       "    </tr>\n",
       "    <tr>\n",
       "      <td>10000-19999</td>\n",
       "      <td>6423</td>\n",
       "      <td>549</td>\n",
       "      <td>0.085474</td>\n",
       "    </tr>\n",
       "    <tr>\n",
       "      <td>20000-29999</td>\n",
       "      <td>6040</td>\n",
       "      <td>522</td>\n",
       "      <td>0.086424</td>\n",
       "    </tr>\n",
       "    <tr>\n",
       "      <td>30000-39999</td>\n",
       "      <td>3093</td>\n",
       "      <td>240</td>\n",
       "      <td>0.077595</td>\n",
       "    </tr>\n",
       "    <tr>\n",
       "      <td>40000+</td>\n",
       "      <td>2800</td>\n",
       "      <td>194</td>\n",
       "      <td>0.069286</td>\n",
       "    </tr>\n",
       "  </tbody>\n",
       "</table>\n",
       "</div>"
      ],
      "text/plain": [
       "             count  sum      mean\n",
       "              debt debt      debt\n",
       "income_level                     \n",
       "10000-         922   56  0.060738\n",
       "10000-19999   6423  549  0.085474\n",
       "20000-29999   6040  522  0.086424\n",
       "30000-39999   3093  240  0.077595\n",
       "40000+        2800  194  0.069286"
      ]
     },
     "execution_count": 65,
     "metadata": {},
     "output_type": "execute_result"
    }
   ],
   "source": [
    "# checking the income level data and paying back on time\n",
    "data.pivot_table(index='income_level', values='debt', aggfunc=['count','sum','mean'])"
   ]
  },
  {
   "cell_type": "markdown",
   "metadata": {},
   "source": [
    "**Conclusion**\n",
    "\n",
    "Although people with higher income seems to have fewer debts, surprisingly, people with income level less than 10000 have the lowest debt rate. This phenomenon should be studied further."
   ]
  },
  {
   "cell_type": "markdown",
   "metadata": {},
   "source": [
    "**How does credit purpose affect the default rate?**\n",
    "\n",
    "To answer this question we will use a pivot table and calculate the count, sum, and mean of debt for different purpose types."
   ]
  },
  {
   "cell_type": "code",
   "execution_count": 66,
   "metadata": {},
   "outputs": [
    {
     "data": {
      "text/html": [
       "<div>\n",
       "<style scoped>\n",
       "    .dataframe tbody tr th:only-of-type {\n",
       "        vertical-align: middle;\n",
       "    }\n",
       "\n",
       "    .dataframe tbody tr th {\n",
       "        vertical-align: top;\n",
       "    }\n",
       "\n",
       "    .dataframe thead tr th {\n",
       "        text-align: left;\n",
       "    }\n",
       "\n",
       "    .dataframe thead tr:last-of-type th {\n",
       "        text-align: right;\n",
       "    }\n",
       "</style>\n",
       "<table border=\"1\" class=\"dataframe\">\n",
       "  <thead>\n",
       "    <tr>\n",
       "      <th></th>\n",
       "      <th>count</th>\n",
       "      <th>sum</th>\n",
       "      <th>mean</th>\n",
       "    </tr>\n",
       "    <tr>\n",
       "      <th></th>\n",
       "      <th>debt</th>\n",
       "      <th>debt</th>\n",
       "      <th>debt</th>\n",
       "    </tr>\n",
       "    <tr>\n",
       "      <th>purpose_type</th>\n",
       "      <th></th>\n",
       "      <th></th>\n",
       "      <th></th>\n",
       "    </tr>\n",
       "  </thead>\n",
       "  <tbody>\n",
       "    <tr>\n",
       "      <td>commercial real estate</td>\n",
       "      <td>1758</td>\n",
       "      <td>130</td>\n",
       "      <td>0.073948</td>\n",
       "    </tr>\n",
       "    <tr>\n",
       "      <td>education</td>\n",
       "      <td>3584</td>\n",
       "      <td>330</td>\n",
       "      <td>0.092076</td>\n",
       "    </tr>\n",
       "    <tr>\n",
       "      <td>private real estate</td>\n",
       "      <td>7966</td>\n",
       "      <td>582</td>\n",
       "      <td>0.073061</td>\n",
       "    </tr>\n",
       "    <tr>\n",
       "      <td>vehicle purchase</td>\n",
       "      <td>3880</td>\n",
       "      <td>364</td>\n",
       "      <td>0.093814</td>\n",
       "    </tr>\n",
       "    <tr>\n",
       "      <td>wedding</td>\n",
       "      <td>2090</td>\n",
       "      <td>155</td>\n",
       "      <td>0.074163</td>\n",
       "    </tr>\n",
       "  </tbody>\n",
       "</table>\n",
       "</div>"
      ],
      "text/plain": [
       "                       count  sum      mean\n",
       "                        debt debt      debt\n",
       "purpose_type                               \n",
       "commercial real estate  1758  130  0.073948\n",
       "education               3584  330  0.092076\n",
       "private real estate     7966  582  0.073061\n",
       "vehicle purchase        3880  364  0.093814\n",
       "wedding                 2090  155  0.074163"
      ]
     },
     "execution_count": 66,
     "metadata": {},
     "output_type": "execute_result"
    }
   ],
   "source": [
    "# checking the percentages for default rate for each credit purpose\n",
    "data.pivot_table(index='purpose_type', values='debt', aggfunc=['count','sum','mean'])"
   ]
  },
  {
   "cell_type": "markdown",
   "metadata": {},
   "source": [
    "**Conclusion**\n",
    "\n",
    "As can be seen, people who take a loan to buy a vehicle or for education fail to pay off the loan on time more often in comparison with people who borrow money to buy a property or for a wedding. For education higher debt rate can be explained by the inability to get enough money while studying. Finding a reason for the higher rate of debt for vehicle loans will require additional research."
   ]
  },
  {
   "cell_type": "markdown",
   "metadata": {},
   "source": [
    "[Back to Contents](#back)"
   ]
  },
  {
   "cell_type": "markdown",
   "metadata": {},
   "source": [
    "# General Conclusion <a id='conclusion'></a>\n",
    "\n",
    "In this project we addressed the following four questions:\n",
    "\n",
    "1. Is there a connection between having kids and repaying a loan on time?\n",
    "2. Is there a connection between marital status and repaying a loan on time?\n",
    "3. Is there a connection between income level and repaying a loan on time?\n",
    "4. How do different loan purposes affect on-time loan repayment?\n",
    "\n",
    "After analyzing the data, we concluded that:\n",
    "\n",
    "1. There is no correlation between having kids and paying back on time.\n",
    "\n",
    "2. Single people and unmarried couples have a higher debt rate than people who are married or were married.\n",
    "\n",
    "3. People with higher income seem to have fewer debts. But surprisingly, people with income less than 10000 have the lowest debt rate and this phenomenon should be studied further.\n",
    "\n",
    "4. People who take a loan to buy a vehicle or for education fail to pay off a loan on time more often in comparison with people who borrow money to buy a property or for a wedding. While a high debt rate can be easily explained for the education loan category, finding the reason for a higher rate of debt for vehicle loans will require additional research.\n"
   ]
  },
  {
   "cell_type": "markdown",
   "metadata": {},
   "source": [
    "[Back to Contents](#back)"
   ]
  }
 ],
 "metadata": {
  "ExecuteTimeLog": [
   {
    "duration": 2741,
    "start_time": "2021-10-21T01:08:49.480Z"
   },
   {
    "duration": 52,
    "start_time": "2021-10-21T01:08:53.315Z"
   },
   {
    "duration": 49,
    "start_time": "2021-10-21T01:08:57.432Z"
   },
   {
    "duration": 70,
    "start_time": "2021-10-21T01:09:07.706Z"
   },
   {
    "duration": 1217,
    "start_time": "2021-11-19T01:31:26.880Z"
   },
   {
    "duration": 138,
    "start_time": "2021-11-19T01:32:35.776Z"
   },
   {
    "duration": 11,
    "start_time": "2021-11-19T01:32:52.989Z"
   },
   {
    "duration": 40,
    "start_time": "2021-11-19T01:33:49.902Z"
   },
   {
    "duration": 27,
    "start_time": "2021-11-19T01:34:20.177Z"
   },
   {
    "duration": 10,
    "start_time": "2021-11-19T01:34:50.930Z"
   },
   {
    "duration": 4,
    "start_time": "2021-11-19T01:37:22.603Z"
   },
   {
    "duration": 4,
    "start_time": "2021-11-19T01:37:50.678Z"
   },
   {
    "duration": 3,
    "start_time": "2021-11-19T01:38:00.866Z"
   },
   {
    "duration": 12,
    "start_time": "2021-11-19T01:39:39.770Z"
   },
   {
    "duration": 11,
    "start_time": "2021-11-19T01:41:24.216Z"
   },
   {
    "duration": 27,
    "start_time": "2021-11-19T01:43:22.755Z"
   },
   {
    "duration": 9,
    "start_time": "2021-11-19T01:44:41.225Z"
   },
   {
    "duration": 20,
    "start_time": "2021-11-19T01:47:02.846Z"
   },
   {
    "duration": 18,
    "start_time": "2021-11-19T01:47:35.483Z"
   },
   {
    "duration": 20,
    "start_time": "2021-11-19T01:53:19.124Z"
   },
   {
    "duration": 358,
    "start_time": "2021-11-19T04:29:28.310Z"
   },
   {
    "duration": 812,
    "start_time": "2021-11-19T04:29:40.617Z"
   },
   {
    "duration": 13,
    "start_time": "2021-11-19T04:29:41.432Z"
   },
   {
    "duration": 42,
    "start_time": "2021-11-19T04:29:41.448Z"
   },
   {
    "duration": 16,
    "start_time": "2021-11-19T04:29:41.492Z"
   },
   {
    "duration": 32,
    "start_time": "2021-11-19T04:29:47.380Z"
   },
   {
    "duration": 22,
    "start_time": "2021-11-19T04:30:51.333Z"
   },
   {
    "duration": 31,
    "start_time": "2021-11-19T04:31:20.419Z"
   },
   {
    "duration": 11,
    "start_time": "2021-11-19T04:43:13.719Z"
   },
   {
    "duration": 10,
    "start_time": "2021-11-19T04:46:19.894Z"
   },
   {
    "duration": 20,
    "start_time": "2021-11-19T04:47:14.721Z"
   },
   {
    "duration": 10,
    "start_time": "2021-11-19T04:47:43.693Z"
   },
   {
    "duration": 10,
    "start_time": "2021-11-19T04:50:53.957Z"
   },
   {
    "duration": 337,
    "start_time": "2021-11-19T04:51:15.562Z"
   },
   {
    "duration": 99,
    "start_time": "2021-11-19T04:51:29.869Z"
   },
   {
    "duration": 11,
    "start_time": "2021-11-19T04:51:33.838Z"
   },
   {
    "duration": 14,
    "start_time": "2021-11-19T04:53:39.975Z"
   },
   {
    "duration": 21,
    "start_time": "2021-11-19T04:54:03.629Z"
   },
   {
    "duration": 13,
    "start_time": "2021-11-19T04:56:19.002Z"
   },
   {
    "duration": 5,
    "start_time": "2021-11-19T04:56:48.212Z"
   },
   {
    "duration": 278,
    "start_time": "2021-11-19T04:57:23.643Z"
   },
   {
    "duration": 285,
    "start_time": "2021-11-19T04:57:32.693Z"
   },
   {
    "duration": 12,
    "start_time": "2021-11-19T04:57:48.497Z"
   },
   {
    "duration": 6,
    "start_time": "2021-11-19T04:59:23.519Z"
   },
   {
    "duration": 5,
    "start_time": "2021-11-19T04:59:54.862Z"
   },
   {
    "duration": 8,
    "start_time": "2021-11-19T05:00:26.998Z"
   },
   {
    "duration": 91,
    "start_time": "2021-11-19T05:01:35.665Z"
   },
   {
    "duration": 92,
    "start_time": "2021-11-19T05:01:42.173Z"
   },
   {
    "duration": 109,
    "start_time": "2021-11-19T05:01:52.236Z"
   },
   {
    "duration": 98,
    "start_time": "2021-11-19T05:02:01.133Z"
   },
   {
    "duration": 115,
    "start_time": "2021-11-19T05:02:13.012Z"
   },
   {
    "duration": 8,
    "start_time": "2021-11-19T05:02:19.733Z"
   },
   {
    "duration": 102,
    "start_time": "2021-11-19T05:02:31.367Z"
   },
   {
    "duration": 8,
    "start_time": "2021-11-19T05:02:44.980Z"
   },
   {
    "duration": 8,
    "start_time": "2021-11-19T05:02:54.654Z"
   },
   {
    "duration": 287,
    "start_time": "2021-11-19T05:03:06.084Z"
   },
   {
    "duration": 8,
    "start_time": "2021-11-19T05:03:20.587Z"
   },
   {
    "duration": 8,
    "start_time": "2021-11-19T05:03:26.634Z"
   },
   {
    "duration": 9,
    "start_time": "2021-11-19T05:03:32.257Z"
   },
   {
    "duration": 7,
    "start_time": "2021-11-19T05:03:44.230Z"
   },
   {
    "duration": 8,
    "start_time": "2021-11-19T05:04:11.407Z"
   },
   {
    "duration": 94,
    "start_time": "2021-11-19T05:04:59.777Z"
   },
   {
    "duration": 8,
    "start_time": "2021-11-19T05:05:30.460Z"
   },
   {
    "duration": 122,
    "start_time": "2021-11-19T05:05:58.452Z"
   },
   {
    "duration": 8,
    "start_time": "2021-11-19T05:06:21.593Z"
   },
   {
    "duration": 8,
    "start_time": "2021-11-19T05:06:30.764Z"
   },
   {
    "duration": 6,
    "start_time": "2021-11-19T05:06:46.050Z"
   },
   {
    "duration": 296,
    "start_time": "2021-11-19T05:09:01.695Z"
   },
   {
    "duration": 9,
    "start_time": "2021-11-19T05:09:31.726Z"
   },
   {
    "duration": 8,
    "start_time": "2021-11-19T05:09:45.922Z"
   },
   {
    "duration": 7,
    "start_time": "2021-11-19T05:10:06.424Z"
   },
   {
    "duration": 7,
    "start_time": "2021-11-19T05:10:26.432Z"
   },
   {
    "duration": 21,
    "start_time": "2021-11-19T05:14:10.501Z"
   },
   {
    "duration": 13,
    "start_time": "2021-11-19T05:14:40.677Z"
   },
   {
    "duration": 12,
    "start_time": "2021-11-19T05:16:12.251Z"
   },
   {
    "duration": 11,
    "start_time": "2021-11-19T05:16:21.612Z"
   },
   {
    "duration": 12,
    "start_time": "2021-11-19T05:16:26.381Z"
   },
   {
    "duration": 22,
    "start_time": "2021-11-19T05:17:02.172Z"
   },
   {
    "duration": 13,
    "start_time": "2021-11-19T05:18:20.018Z"
   },
   {
    "duration": 14,
    "start_time": "2021-11-19T05:18:39.395Z"
   },
   {
    "duration": 13,
    "start_time": "2021-11-19T05:19:04.119Z"
   },
   {
    "duration": 13,
    "start_time": "2021-11-19T05:19:19.821Z"
   },
   {
    "duration": 14,
    "start_time": "2021-11-19T05:23:34.217Z"
   },
   {
    "duration": 14,
    "start_time": "2021-11-19T05:24:07.009Z"
   },
   {
    "duration": 13,
    "start_time": "2021-11-19T05:25:38.974Z"
   },
   {
    "duration": 12,
    "start_time": "2021-11-19T05:25:50.038Z"
   },
   {
    "duration": 3,
    "start_time": "2021-11-19T05:25:59.392Z"
   },
   {
    "duration": 13,
    "start_time": "2021-11-19T05:29:53.752Z"
   },
   {
    "duration": 687,
    "start_time": "2021-11-19T05:32:22.816Z"
   },
   {
    "duration": 15,
    "start_time": "2021-11-19T05:33:40.604Z"
   },
   {
    "duration": 15,
    "start_time": "2021-11-19T05:34:01.131Z"
   },
   {
    "duration": 10,
    "start_time": "2021-11-19T05:34:39.061Z"
   },
   {
    "duration": 36,
    "start_time": "2021-11-19T05:36:34.683Z"
   },
   {
    "duration": 25,
    "start_time": "2021-11-19T05:38:14.493Z"
   },
   {
    "duration": 34,
    "start_time": "2021-11-19T05:40:10.738Z"
   },
   {
    "duration": 17,
    "start_time": "2021-11-19T05:44:41.173Z"
   },
   {
    "duration": 10,
    "start_time": "2021-11-19T05:44:49.504Z"
   },
   {
    "duration": 29,
    "start_time": "2021-11-19T05:45:21.672Z"
   },
   {
    "duration": 28,
    "start_time": "2021-11-19T05:45:27.668Z"
   },
   {
    "duration": 12,
    "start_time": "2021-11-19T05:45:29.767Z"
   },
   {
    "duration": 112,
    "start_time": "2021-11-19T05:47:14.669Z"
   },
   {
    "duration": 34,
    "start_time": "2021-11-19T05:47:26.121Z"
   },
   {
    "duration": 12,
    "start_time": "2021-11-19T05:48:15.833Z"
   },
   {
    "duration": 35,
    "start_time": "2021-11-19T05:50:36.286Z"
   },
   {
    "duration": 7,
    "start_time": "2021-11-19T05:51:09.681Z"
   },
   {
    "duration": 10,
    "start_time": "2021-11-19T05:51:12.077Z"
   },
   {
    "duration": 9,
    "start_time": "2021-11-19T05:53:35.580Z"
   },
   {
    "duration": 11,
    "start_time": "2021-11-19T05:53:53.754Z"
   },
   {
    "duration": 7,
    "start_time": "2021-11-19T05:54:21.840Z"
   },
   {
    "duration": 16,
    "start_time": "2021-11-19T05:54:31.752Z"
   },
   {
    "duration": 8,
    "start_time": "2021-11-19T05:55:14.163Z"
   },
   {
    "duration": 17,
    "start_time": "2021-11-19T05:55:34.035Z"
   },
   {
    "duration": 8,
    "start_time": "2021-11-19T05:55:59.050Z"
   },
   {
    "duration": 52,
    "start_time": "2021-11-19T05:56:36.126Z"
   },
   {
    "duration": 6,
    "start_time": "2021-11-19T05:57:05.015Z"
   },
   {
    "duration": 54,
    "start_time": "2021-11-19T05:57:20.443Z"
   },
   {
    "duration": 5,
    "start_time": "2021-11-19T05:57:20.500Z"
   },
   {
    "duration": 35,
    "start_time": "2021-11-19T05:57:20.507Z"
   },
   {
    "duration": 17,
    "start_time": "2021-11-19T05:57:20.545Z"
   },
   {
    "duration": 34,
    "start_time": "2021-11-19T05:57:20.565Z"
   },
   {
    "duration": 34,
    "start_time": "2021-11-19T05:57:20.630Z"
   },
   {
    "duration": 7,
    "start_time": "2021-11-19T05:57:20.667Z"
   },
   {
    "duration": 19,
    "start_time": "2021-11-19T05:57:20.676Z"
   },
   {
    "duration": 42,
    "start_time": "2021-11-19T05:57:20.699Z"
   },
   {
    "duration": 25,
    "start_time": "2021-11-19T05:57:20.744Z"
   },
   {
    "duration": 7,
    "start_time": "2021-11-19T05:57:20.771Z"
   },
   {
    "duration": 6,
    "start_time": "2021-11-19T05:57:20.781Z"
   },
   {
    "duration": 9,
    "start_time": "2021-11-19T05:57:20.790Z"
   },
   {
    "duration": 39,
    "start_time": "2021-11-19T05:57:20.801Z"
   },
   {
    "duration": 22,
    "start_time": "2021-11-19T05:57:20.842Z"
   },
   {
    "duration": 18,
    "start_time": "2021-11-19T05:57:20.866Z"
   },
   {
    "duration": 15,
    "start_time": "2021-11-19T05:57:20.886Z"
   },
   {
    "duration": 11,
    "start_time": "2021-11-19T05:57:20.930Z"
   },
   {
    "duration": 21,
    "start_time": "2021-11-19T05:57:20.943Z"
   },
   {
    "duration": 13,
    "start_time": "2021-11-19T05:57:20.967Z"
   },
   {
    "duration": 9,
    "start_time": "2021-11-19T05:57:20.983Z"
   },
   {
    "duration": 103,
    "start_time": "2021-11-19T05:58:16.078Z"
   },
   {
    "duration": 7,
    "start_time": "2021-11-19T05:58:29.698Z"
   },
   {
    "duration": 32,
    "start_time": "2021-11-19T05:58:34.385Z"
   },
   {
    "duration": 12,
    "start_time": "2021-11-19T05:59:11.422Z"
   },
   {
    "duration": 33,
    "start_time": "2021-11-19T05:59:13.604Z"
   },
   {
    "duration": 10,
    "start_time": "2021-11-19T05:59:28.226Z"
   },
   {
    "duration": 32,
    "start_time": "2021-11-19T05:59:31.212Z"
   },
   {
    "duration": 12,
    "start_time": "2021-11-19T06:00:21.789Z"
   },
   {
    "duration": 65,
    "start_time": "2021-11-19T06:00:39.545Z"
   },
   {
    "duration": 6,
    "start_time": "2021-11-19T06:00:39.613Z"
   },
   {
    "duration": 20,
    "start_time": "2021-11-19T06:00:39.631Z"
   },
   {
    "duration": 22,
    "start_time": "2021-11-19T06:00:39.655Z"
   },
   {
    "duration": 74,
    "start_time": "2021-11-19T06:00:39.680Z"
   },
   {
    "duration": 50,
    "start_time": "2021-11-19T06:00:39.757Z"
   },
   {
    "duration": 9,
    "start_time": "2021-11-19T06:00:39.829Z"
   },
   {
    "duration": 13,
    "start_time": "2021-11-19T06:00:39.843Z"
   },
   {
    "duration": 23,
    "start_time": "2021-11-19T06:00:39.859Z"
   },
   {
    "duration": 47,
    "start_time": "2021-11-19T06:00:39.884Z"
   },
   {
    "duration": 6,
    "start_time": "2021-11-19T06:00:39.934Z"
   },
   {
    "duration": 8,
    "start_time": "2021-11-19T06:00:39.943Z"
   },
   {
    "duration": 5,
    "start_time": "2021-11-19T06:00:39.954Z"
   },
   {
    "duration": 16,
    "start_time": "2021-11-19T06:00:39.961Z"
   },
   {
    "duration": 53,
    "start_time": "2021-11-19T06:00:39.980Z"
   },
   {
    "duration": 15,
    "start_time": "2021-11-19T06:00:40.035Z"
   },
   {
    "duration": 15,
    "start_time": "2021-11-19T06:00:40.052Z"
   },
   {
    "duration": 12,
    "start_time": "2021-11-19T06:00:40.070Z"
   },
   {
    "duration": 45,
    "start_time": "2021-11-19T06:00:40.085Z"
   },
   {
    "duration": 9,
    "start_time": "2021-11-19T06:00:40.133Z"
   },
   {
    "duration": 15,
    "start_time": "2021-11-19T06:00:40.145Z"
   },
   {
    "duration": 37,
    "start_time": "2021-11-19T06:00:56.350Z"
   },
   {
    "duration": 55,
    "start_time": "2021-11-19T06:01:33.727Z"
   },
   {
    "duration": 5,
    "start_time": "2021-11-19T06:01:33.785Z"
   },
   {
    "duration": 43,
    "start_time": "2021-11-19T06:01:33.793Z"
   },
   {
    "duration": 19,
    "start_time": "2021-11-19T06:01:33.839Z"
   },
   {
    "duration": 42,
    "start_time": "2021-11-19T06:01:33.861Z"
   },
   {
    "duration": 51,
    "start_time": "2021-11-19T06:01:33.906Z"
   },
   {
    "duration": 7,
    "start_time": "2021-11-19T06:01:33.959Z"
   },
   {
    "duration": 16,
    "start_time": "2021-11-19T06:01:33.970Z"
   },
   {
    "duration": 42,
    "start_time": "2021-11-19T06:01:33.989Z"
   },
   {
    "duration": 31,
    "start_time": "2021-11-19T06:01:34.034Z"
   },
   {
    "duration": 17,
    "start_time": "2021-11-19T06:01:34.068Z"
   },
   {
    "duration": 17,
    "start_time": "2021-11-19T06:01:34.088Z"
   },
   {
    "duration": 19,
    "start_time": "2021-11-19T06:01:34.108Z"
   },
   {
    "duration": 32,
    "start_time": "2021-11-19T06:01:34.130Z"
   },
   {
    "duration": 22,
    "start_time": "2021-11-19T06:01:34.164Z"
   },
   {
    "duration": 29,
    "start_time": "2021-11-19T06:01:34.189Z"
   },
   {
    "duration": 32,
    "start_time": "2021-11-19T06:01:34.220Z"
   },
   {
    "duration": 13,
    "start_time": "2021-11-19T06:01:34.254Z"
   },
   {
    "duration": 21,
    "start_time": "2021-11-19T06:01:34.269Z"
   },
   {
    "duration": 26,
    "start_time": "2021-11-19T06:01:34.293Z"
   },
   {
    "duration": 24,
    "start_time": "2021-11-19T06:01:34.322Z"
   },
   {
    "duration": 12,
    "start_time": "2021-11-19T06:01:37.950Z"
   },
   {
    "duration": 34,
    "start_time": "2021-11-19T06:01:45.874Z"
   },
   {
    "duration": 62,
    "start_time": "2021-11-19T06:02:06.965Z"
   },
   {
    "duration": 6,
    "start_time": "2021-11-19T06:02:07.030Z"
   },
   {
    "duration": 45,
    "start_time": "2021-11-19T06:02:07.040Z"
   },
   {
    "duration": 47,
    "start_time": "2021-11-19T06:02:07.088Z"
   },
   {
    "duration": 49,
    "start_time": "2021-11-19T06:02:07.138Z"
   },
   {
    "duration": 37,
    "start_time": "2021-11-19T06:02:07.189Z"
   },
   {
    "duration": 18,
    "start_time": "2021-11-19T06:02:07.229Z"
   },
   {
    "duration": 45,
    "start_time": "2021-11-19T06:02:07.251Z"
   },
   {
    "duration": 32,
    "start_time": "2021-11-19T06:02:07.298Z"
   },
   {
    "duration": 40,
    "start_time": "2021-11-19T06:02:07.332Z"
   },
   {
    "duration": 27,
    "start_time": "2021-11-19T06:02:07.375Z"
   },
   {
    "duration": 35,
    "start_time": "2021-11-19T06:02:07.404Z"
   },
   {
    "duration": 35,
    "start_time": "2021-11-19T06:02:07.442Z"
   },
   {
    "duration": 52,
    "start_time": "2021-11-19T06:02:07.479Z"
   },
   {
    "duration": 45,
    "start_time": "2021-11-19T06:02:07.533Z"
   },
   {
    "duration": 35,
    "start_time": "2021-11-19T06:02:07.580Z"
   },
   {
    "duration": 40,
    "start_time": "2021-11-19T06:02:07.617Z"
   },
   {
    "duration": 35,
    "start_time": "2021-11-19T06:02:07.660Z"
   },
   {
    "duration": 40,
    "start_time": "2021-11-19T06:02:07.697Z"
   },
   {
    "duration": 21,
    "start_time": "2021-11-19T06:02:07.740Z"
   },
   {
    "duration": 26,
    "start_time": "2021-11-19T06:02:07.764Z"
   },
   {
    "duration": 33,
    "start_time": "2021-11-19T06:02:10.405Z"
   },
   {
    "duration": 23,
    "start_time": "2021-11-19T06:03:13.173Z"
   },
   {
    "duration": 28,
    "start_time": "2021-11-19T06:03:54.952Z"
   },
   {
    "duration": 34,
    "start_time": "2021-11-19T06:04:58.553Z"
   },
   {
    "duration": 33,
    "start_time": "2021-11-19T06:05:12.167Z"
   },
   {
    "duration": 36,
    "start_time": "2021-11-19T06:05:20.852Z"
   },
   {
    "duration": 670,
    "start_time": "2021-11-20T19:04:38.779Z"
   },
   {
    "duration": 7,
    "start_time": "2021-11-20T19:04:39.451Z"
   },
   {
    "duration": 22,
    "start_time": "2021-11-20T19:04:39.460Z"
   },
   {
    "duration": 23,
    "start_time": "2021-11-20T19:04:39.484Z"
   },
   {
    "duration": 33,
    "start_time": "2021-11-20T19:04:39.509Z"
   },
   {
    "duration": 23,
    "start_time": "2021-11-20T19:04:39.544Z"
   },
   {
    "duration": 5,
    "start_time": "2021-11-20T19:04:39.569Z"
   },
   {
    "duration": 23,
    "start_time": "2021-11-20T19:04:39.576Z"
   },
   {
    "duration": 18,
    "start_time": "2021-11-20T19:04:39.602Z"
   },
   {
    "duration": 24,
    "start_time": "2021-11-20T19:04:39.622Z"
   },
   {
    "duration": 15,
    "start_time": "2021-11-20T19:04:39.647Z"
   },
   {
    "duration": 15,
    "start_time": "2021-11-20T19:04:39.664Z"
   },
   {
    "duration": 26,
    "start_time": "2021-11-20T19:04:39.681Z"
   },
   {
    "duration": 24,
    "start_time": "2021-11-20T19:04:39.708Z"
   },
   {
    "duration": 27,
    "start_time": "2021-11-20T19:04:39.734Z"
   },
   {
    "duration": 15,
    "start_time": "2021-11-20T19:04:39.763Z"
   },
   {
    "duration": 8,
    "start_time": "2021-11-20T19:04:39.780Z"
   },
   {
    "duration": 7,
    "start_time": "2021-11-20T19:04:39.790Z"
   },
   {
    "duration": 10,
    "start_time": "2021-11-20T19:04:39.799Z"
   },
   {
    "duration": 10,
    "start_time": "2021-11-20T19:04:39.810Z"
   },
   {
    "duration": 3,
    "start_time": "2021-11-20T19:04:39.822Z"
   },
   {
    "duration": 22,
    "start_time": "2021-11-20T19:04:57.388Z"
   },
   {
    "duration": 21,
    "start_time": "2021-11-20T19:05:13.929Z"
   },
   {
    "duration": 17,
    "start_time": "2021-11-20T19:05:28.549Z"
   },
   {
    "duration": 303,
    "start_time": "2021-11-20T19:06:32.709Z"
   },
   {
    "duration": 108,
    "start_time": "2021-11-20T19:07:14.758Z"
   },
   {
    "duration": 10,
    "start_time": "2021-11-20T19:07:20.210Z"
   },
   {
    "duration": 9,
    "start_time": "2021-11-20T19:07:50.798Z"
   },
   {
    "duration": 12,
    "start_time": "2021-11-20T19:08:34.726Z"
   },
   {
    "duration": 11,
    "start_time": "2021-11-20T19:08:44.960Z"
   },
   {
    "duration": 25,
    "start_time": "2021-11-20T19:18:26.552Z"
   },
   {
    "duration": 21,
    "start_time": "2021-11-20T19:19:02.190Z"
   },
   {
    "duration": 15,
    "start_time": "2021-11-20T19:19:24.149Z"
   },
   {
    "duration": 8,
    "start_time": "2021-11-20T19:24:56.256Z"
   },
   {
    "duration": 12,
    "start_time": "2021-11-20T19:25:26.548Z"
   },
   {
    "duration": 79,
    "start_time": "2021-11-20T19:30:05.469Z"
   },
   {
    "duration": 7,
    "start_time": "2021-11-20T19:30:20.209Z"
   },
   {
    "duration": 10,
    "start_time": "2021-11-20T19:33:16.949Z"
   },
   {
    "duration": 9,
    "start_time": "2021-11-20T19:35:55.188Z"
   },
   {
    "duration": 11,
    "start_time": "2021-11-20T19:36:04.270Z"
   },
   {
    "duration": 9,
    "start_time": "2021-11-20T19:37:46.198Z"
   },
   {
    "duration": 7,
    "start_time": "2021-11-20T19:37:51.789Z"
   },
   {
    "duration": 10,
    "start_time": "2021-11-20T19:39:03.069Z"
   },
   {
    "duration": 8,
    "start_time": "2021-11-20T19:40:22.159Z"
   },
   {
    "duration": 6,
    "start_time": "2021-11-20T19:40:45.310Z"
   },
   {
    "duration": 19,
    "start_time": "2021-11-20T19:41:51.609Z"
   },
   {
    "duration": 38,
    "start_time": "2021-11-20T19:41:58.469Z"
   },
   {
    "duration": 257,
    "start_time": "2021-11-20T19:43:39.820Z"
   },
   {
    "duration": 18,
    "start_time": "2021-11-20T19:43:44.814Z"
   },
   {
    "duration": 10,
    "start_time": "2021-11-20T19:44:34.829Z"
   },
   {
    "duration": 13,
    "start_time": "2021-11-20T19:44:57.911Z"
   },
   {
    "duration": 8,
    "start_time": "2021-11-20T19:45:44.829Z"
   },
   {
    "duration": 7,
    "start_time": "2021-11-20T19:46:47.629Z"
   },
   {
    "duration": 14,
    "start_time": "2021-11-20T19:47:17.447Z"
   },
   {
    "duration": 9,
    "start_time": "2021-11-20T19:48:48.960Z"
   },
   {
    "duration": 9,
    "start_time": "2021-11-20T19:49:12.900Z"
   },
   {
    "duration": 6,
    "start_time": "2021-11-20T19:49:36.189Z"
   },
   {
    "duration": 6,
    "start_time": "2021-11-20T19:49:43.729Z"
   },
   {
    "duration": 6,
    "start_time": "2021-11-20T19:50:14.559Z"
   },
   {
    "duration": 9,
    "start_time": "2021-11-20T19:51:00.108Z"
   },
   {
    "duration": 18,
    "start_time": "2021-11-20T19:51:09.119Z"
   },
   {
    "duration": 9,
    "start_time": "2021-11-20T19:52:32.886Z"
   },
   {
    "duration": 828,
    "start_time": "2021-11-21T05:29:53.604Z"
   },
   {
    "duration": 12,
    "start_time": "2021-11-21T05:29:54.435Z"
   },
   {
    "duration": 22,
    "start_time": "2021-11-21T05:29:54.450Z"
   },
   {
    "duration": 15,
    "start_time": "2021-11-21T05:29:54.475Z"
   },
   {
    "duration": 63,
    "start_time": "2021-11-21T05:29:54.492Z"
   },
   {
    "duration": 23,
    "start_time": "2021-11-21T05:29:54.557Z"
   },
   {
    "duration": 8,
    "start_time": "2021-11-21T05:29:54.582Z"
   },
   {
    "duration": 48,
    "start_time": "2021-11-21T05:29:54.593Z"
   },
   {
    "duration": 13,
    "start_time": "2021-11-21T05:29:54.644Z"
   },
   {
    "duration": 20,
    "start_time": "2021-11-21T05:29:54.659Z"
   },
   {
    "duration": 2,
    "start_time": "2021-11-21T05:29:54.682Z"
   },
   {
    "duration": 5,
    "start_time": "2021-11-21T05:29:54.687Z"
   },
   {
    "duration": 3,
    "start_time": "2021-11-21T05:29:54.730Z"
   },
   {
    "duration": 19,
    "start_time": "2021-11-21T05:29:54.736Z"
   },
   {
    "duration": 15,
    "start_time": "2021-11-21T05:29:54.758Z"
   },
   {
    "duration": 15,
    "start_time": "2021-11-21T05:29:54.775Z"
   },
   {
    "duration": 42,
    "start_time": "2021-11-21T05:29:54.793Z"
   },
   {
    "duration": 12,
    "start_time": "2021-11-21T05:29:54.837Z"
   },
   {
    "duration": 22,
    "start_time": "2021-11-21T05:29:54.851Z"
   },
   {
    "duration": 16,
    "start_time": "2021-11-21T05:29:54.875Z"
   },
   {
    "duration": 42,
    "start_time": "2021-11-21T05:29:54.894Z"
   },
   {
    "duration": 15,
    "start_time": "2021-11-21T05:29:54.938Z"
   },
   {
    "duration": 9,
    "start_time": "2021-11-21T05:29:54.957Z"
   },
   {
    "duration": 17,
    "start_time": "2021-11-21T05:29:55.858Z"
   },
   {
    "duration": 20,
    "start_time": "2021-11-21T05:30:01.560Z"
   },
   {
    "duration": 16,
    "start_time": "2021-11-21T05:35:54.360Z"
   },
   {
    "duration": 9,
    "start_time": "2021-11-21T05:37:31.144Z"
   },
   {
    "duration": 8,
    "start_time": "2021-11-21T05:37:46.915Z"
   },
   {
    "duration": 28,
    "start_time": "2021-11-21T05:50:36.593Z"
   },
   {
    "duration": 29,
    "start_time": "2021-11-21T05:51:07.626Z"
   },
   {
    "duration": 400,
    "start_time": "2021-11-21T05:53:09.501Z"
   },
   {
    "duration": 28,
    "start_time": "2021-11-21T05:53:18.469Z"
   },
   {
    "duration": 28,
    "start_time": "2021-11-21T05:53:44.513Z"
   },
   {
    "duration": 31,
    "start_time": "2021-11-21T05:56:32.720Z"
   },
   {
    "duration": 17,
    "start_time": "2021-11-21T05:57:12.164Z"
   },
   {
    "duration": 13,
    "start_time": "2021-11-21T05:57:35.882Z"
   },
   {
    "duration": 8,
    "start_time": "2021-11-21T05:58:48.043Z"
   },
   {
    "duration": 10,
    "start_time": "2021-11-21T06:00:22.465Z"
   },
   {
    "duration": 303,
    "start_time": "2021-11-21T06:00:44.929Z"
   },
   {
    "duration": 13,
    "start_time": "2021-11-21T06:00:58.826Z"
   },
   {
    "duration": 270,
    "start_time": "2021-11-21T06:12:16.560Z"
   },
   {
    "duration": 10,
    "start_time": "2021-11-21T06:12:23.215Z"
   },
   {
    "duration": 13,
    "start_time": "2021-11-21T06:12:47.720Z"
   },
   {
    "duration": 14,
    "start_time": "2021-11-21T06:28:38.179Z"
   },
   {
    "duration": 9,
    "start_time": "2021-11-21T06:38:35.352Z"
   },
   {
    "duration": 340,
    "start_time": "2021-11-21T06:38:47.735Z"
   },
   {
    "duration": 8,
    "start_time": "2021-11-21T06:38:53.432Z"
   },
   {
    "duration": 10,
    "start_time": "2021-11-21T06:39:24.359Z"
   },
   {
    "duration": 267,
    "start_time": "2021-11-21T06:39:45.417Z"
   },
   {
    "duration": 4,
    "start_time": "2021-11-21T06:39:58.240Z"
   },
   {
    "duration": 13,
    "start_time": "2021-11-21T06:40:32.377Z"
   },
   {
    "duration": 24,
    "start_time": "2021-11-21T06:41:12.918Z"
   },
   {
    "duration": 287,
    "start_time": "2021-11-21T06:41:28.492Z"
   },
   {
    "duration": 47,
    "start_time": "2021-11-21T06:41:40.954Z"
   },
   {
    "duration": 46,
    "start_time": "2021-11-21T06:44:26.413Z"
   },
   {
    "duration": 47,
    "start_time": "2021-11-21T06:45:40.207Z"
   },
   {
    "duration": 353,
    "start_time": "2021-11-21T06:52:37.360Z"
   },
   {
    "duration": 24,
    "start_time": "2021-11-21T06:52:53.921Z"
   },
   {
    "duration": 31,
    "start_time": "2021-11-21T06:53:45.111Z"
   },
   {
    "duration": 23,
    "start_time": "2021-11-21T06:54:00.649Z"
   },
   {
    "duration": 313,
    "start_time": "2021-11-21T06:54:14.532Z"
   },
   {
    "duration": 5,
    "start_time": "2021-11-21T06:54:18.829Z"
   },
   {
    "duration": 15,
    "start_time": "2021-11-21T06:54:50.089Z"
   },
   {
    "duration": 286,
    "start_time": "2021-11-21T07:03:47.262Z"
   },
   {
    "duration": 5,
    "start_time": "2021-11-21T07:04:18.156Z"
   },
   {
    "duration": 5,
    "start_time": "2021-11-21T07:04:23.699Z"
   },
   {
    "duration": 5,
    "start_time": "2021-11-21T07:04:30.065Z"
   },
   {
    "duration": 7876,
    "start_time": "2021-11-21T07:05:18.597Z"
   },
   {
    "duration": 14,
    "start_time": "2021-11-21T07:06:29.915Z"
   },
   {
    "duration": 5,
    "start_time": "2021-11-21T07:09:21.307Z"
   },
   {
    "duration": 13,
    "start_time": "2021-11-21T07:09:28.539Z"
   },
   {
    "duration": 38,
    "start_time": "2021-11-21T07:13:01.962Z"
   },
   {
    "duration": 24,
    "start_time": "2021-11-21T07:13:24.721Z"
   },
   {
    "duration": 602,
    "start_time": "2021-11-22T00:44:00.681Z"
   },
   {
    "duration": 12,
    "start_time": "2021-11-22T00:45:01.518Z"
   },
   {
    "duration": 299,
    "start_time": "2021-11-22T00:45:38.783Z"
   },
   {
    "duration": 235,
    "start_time": "2021-11-22T00:46:04.242Z"
   },
   {
    "duration": 12,
    "start_time": "2021-11-22T00:46:30.221Z"
   },
   {
    "duration": 11,
    "start_time": "2021-11-22T00:48:39.875Z"
   },
   {
    "duration": 12,
    "start_time": "2021-11-22T00:48:55.823Z"
   },
   {
    "duration": 13,
    "start_time": "2021-11-22T00:49:27.205Z"
   },
   {
    "duration": 309,
    "start_time": "2021-11-23T04:32:16.734Z"
   },
   {
    "duration": 630,
    "start_time": "2021-11-23T04:32:22.711Z"
   },
   {
    "duration": 8,
    "start_time": "2021-11-23T04:32:23.342Z"
   },
   {
    "duration": 27,
    "start_time": "2021-11-23T04:32:23.352Z"
   },
   {
    "duration": 26,
    "start_time": "2021-11-23T04:32:23.381Z"
   },
   {
    "duration": 29,
    "start_time": "2021-11-23T04:32:23.408Z"
   },
   {
    "duration": 27,
    "start_time": "2021-11-23T04:32:29.381Z"
   },
   {
    "duration": 15,
    "start_time": "2021-11-23T04:35:58.151Z"
   },
   {
    "duration": 11,
    "start_time": "2021-11-23T04:36:24.214Z"
   },
   {
    "duration": 9,
    "start_time": "2021-11-23T04:36:32.955Z"
   },
   {
    "duration": 15,
    "start_time": "2021-11-23T04:40:11.041Z"
   },
   {
    "duration": 2,
    "start_time": "2021-11-23T04:41:27.748Z"
   },
   {
    "duration": 300,
    "start_time": "2021-11-23T04:45:08.069Z"
   },
   {
    "duration": 6,
    "start_time": "2021-11-23T04:46:23.226Z"
   },
   {
    "duration": 256,
    "start_time": "2021-11-23T04:48:46.869Z"
   },
   {
    "duration": 7,
    "start_time": "2021-11-23T04:48:55.304Z"
   },
   {
    "duration": 6,
    "start_time": "2021-11-23T04:50:04.977Z"
   },
   {
    "duration": 253,
    "start_time": "2021-11-23T04:52:55.272Z"
   },
   {
    "duration": 10,
    "start_time": "2021-11-23T04:53:19.427Z"
   },
   {
    "duration": 8,
    "start_time": "2021-11-23T04:53:33.029Z"
   },
   {
    "duration": 7,
    "start_time": "2021-11-23T04:53:49.383Z"
   },
   {
    "duration": 12,
    "start_time": "2021-11-23T04:54:37.119Z"
   },
   {
    "duration": 7,
    "start_time": "2021-11-23T04:56:44.585Z"
   },
   {
    "duration": 12,
    "start_time": "2021-11-23T04:57:05.025Z"
   },
   {
    "duration": 11,
    "start_time": "2021-11-23T04:57:11.507Z"
   },
   {
    "duration": 9,
    "start_time": "2021-11-23T05:00:31.353Z"
   },
   {
    "duration": 8,
    "start_time": "2021-11-23T05:00:34.851Z"
   },
   {
    "duration": 8,
    "start_time": "2021-11-23T05:00:41.132Z"
   },
   {
    "duration": 9,
    "start_time": "2021-11-23T05:01:38.114Z"
   },
   {
    "duration": 32,
    "start_time": "2021-11-23T05:02:29.905Z"
   },
   {
    "duration": 42,
    "start_time": "2021-11-23T05:03:41.905Z"
   },
   {
    "duration": 4,
    "start_time": "2021-11-23T05:03:41.949Z"
   },
   {
    "duration": 14,
    "start_time": "2021-11-23T05:03:41.955Z"
   },
   {
    "duration": 11,
    "start_time": "2021-11-23T05:03:41.971Z"
   },
   {
    "duration": 21,
    "start_time": "2021-11-23T05:03:41.984Z"
   },
   {
    "duration": 57,
    "start_time": "2021-11-23T05:03:42.007Z"
   },
   {
    "duration": 5,
    "start_time": "2021-11-23T05:03:42.066Z"
   },
   {
    "duration": 12,
    "start_time": "2021-11-23T05:03:42.073Z"
   },
   {
    "duration": 9,
    "start_time": "2021-11-23T05:03:42.087Z"
   },
   {
    "duration": 11,
    "start_time": "2021-11-23T05:03:42.098Z"
   },
   {
    "duration": 4,
    "start_time": "2021-11-23T05:03:42.110Z"
   },
   {
    "duration": 2,
    "start_time": "2021-11-23T05:03:42.144Z"
   },
   {
    "duration": 4,
    "start_time": "2021-11-23T05:03:42.148Z"
   },
   {
    "duration": 10,
    "start_time": "2021-11-23T05:03:42.154Z"
   },
   {
    "duration": 11,
    "start_time": "2021-11-23T05:03:42.166Z"
   },
   {
    "duration": 11,
    "start_time": "2021-11-23T05:03:42.178Z"
   },
   {
    "duration": 8,
    "start_time": "2021-11-23T05:03:42.191Z"
   },
   {
    "duration": 45,
    "start_time": "2021-11-23T05:03:42.200Z"
   },
   {
    "duration": 8,
    "start_time": "2021-11-23T05:03:42.247Z"
   },
   {
    "duration": 10,
    "start_time": "2021-11-23T05:03:42.256Z"
   },
   {
    "duration": 8,
    "start_time": "2021-11-23T05:03:42.267Z"
   },
   {
    "duration": 13,
    "start_time": "2021-11-23T05:03:42.277Z"
   },
   {
    "duration": 6,
    "start_time": "2021-11-23T05:03:42.295Z"
   },
   {
    "duration": 51,
    "start_time": "2021-11-23T05:03:42.304Z"
   },
   {
    "duration": 12,
    "start_time": "2021-11-23T05:03:42.357Z"
   },
   {
    "duration": 20,
    "start_time": "2021-11-23T05:03:42.371Z"
   },
   {
    "duration": 25,
    "start_time": "2021-11-23T05:03:42.392Z"
   },
   {
    "duration": 25,
    "start_time": "2021-11-23T05:03:42.418Z"
   },
   {
    "duration": 14,
    "start_time": "2021-11-23T05:03:42.445Z"
   },
   {
    "duration": 25,
    "start_time": "2021-11-23T05:03:42.460Z"
   },
   {
    "duration": 31,
    "start_time": "2021-11-23T05:03:42.486Z"
   },
   {
    "duration": 15,
    "start_time": "2021-11-23T05:03:42.519Z"
   },
   {
    "duration": 26,
    "start_time": "2021-11-23T05:03:42.535Z"
   },
   {
    "duration": 30,
    "start_time": "2021-11-23T05:03:42.562Z"
   },
   {
    "duration": 12,
    "start_time": "2021-11-23T05:03:42.594Z"
   },
   {
    "duration": 20,
    "start_time": "2021-11-23T05:03:42.607Z"
   },
   {
    "duration": 21,
    "start_time": "2021-11-23T05:03:42.628Z"
   },
   {
    "duration": 24,
    "start_time": "2021-11-23T05:03:42.650Z"
   },
   {
    "duration": 24,
    "start_time": "2021-11-23T05:03:42.675Z"
   },
   {
    "duration": 35,
    "start_time": "2021-11-23T05:03:42.700Z"
   },
   {
    "duration": 11,
    "start_time": "2021-11-23T05:03:42.737Z"
   },
   {
    "duration": 4,
    "start_time": "2021-11-23T05:03:42.750Z"
   },
   {
    "duration": 28,
    "start_time": "2021-11-23T05:04:08.622Z"
   },
   {
    "duration": 13,
    "start_time": "2021-11-23T05:05:03.669Z"
   },
   {
    "duration": 16,
    "start_time": "2021-11-23T05:05:05.839Z"
   },
   {
    "duration": 10,
    "start_time": "2021-11-23T05:05:12.315Z"
   },
   {
    "duration": 15,
    "start_time": "2021-11-23T05:07:53.125Z"
   },
   {
    "duration": 15,
    "start_time": "2021-11-23T05:07:58.910Z"
   },
   {
    "duration": 6,
    "start_time": "2021-11-23T05:08:27.426Z"
   },
   {
    "duration": 15,
    "start_time": "2021-11-23T05:09:41.207Z"
   },
   {
    "duration": 12,
    "start_time": "2021-11-23T05:09:54.370Z"
   },
   {
    "duration": 17,
    "start_time": "2021-11-23T05:12:06.124Z"
   },
   {
    "duration": 255,
    "start_time": "2021-11-23T05:13:02.373Z"
   },
   {
    "duration": 15,
    "start_time": "2021-11-23T05:13:06.485Z"
   },
   {
    "duration": 5,
    "start_time": "2021-11-23T05:13:36.346Z"
   },
   {
    "duration": 7,
    "start_time": "2021-11-23T05:15:35.866Z"
   },
   {
    "duration": 3,
    "start_time": "2021-11-23T05:15:42.963Z"
   },
   {
    "duration": 10,
    "start_time": "2021-11-23T05:16:14.544Z"
   },
   {
    "duration": 12,
    "start_time": "2021-11-23T05:16:25.845Z"
   },
   {
    "duration": 3,
    "start_time": "2021-11-23T05:17:16.580Z"
   },
   {
    "duration": 5,
    "start_time": "2021-11-23T05:18:16.998Z"
   },
   {
    "duration": 4,
    "start_time": "2021-11-23T05:18:20.193Z"
   },
   {
    "duration": 11,
    "start_time": "2021-11-23T05:18:22.102Z"
   },
   {
    "duration": 7,
    "start_time": "2021-11-23T05:22:26.514Z"
   },
   {
    "duration": 5,
    "start_time": "2021-11-23T05:23:33.786Z"
   },
   {
    "duration": 4,
    "start_time": "2021-11-23T05:23:43.736Z"
   },
   {
    "duration": 250,
    "start_time": "2021-11-23T05:53:46.557Z"
   },
   {
    "duration": 285,
    "start_time": "2021-11-23T05:53:54.042Z"
   },
   {
    "duration": 4,
    "start_time": "2021-11-23T05:55:02.292Z"
   },
   {
    "duration": 11,
    "start_time": "2021-11-23T05:55:07.987Z"
   },
   {
    "duration": 7,
    "start_time": "2021-11-23T05:55:27.659Z"
   },
   {
    "duration": 267,
    "start_time": "2021-11-23T05:56:46.560Z"
   },
   {
    "duration": 8,
    "start_time": "2021-11-23T05:56:54.858Z"
   },
   {
    "duration": 7,
    "start_time": "2021-11-23T06:03:27.496Z"
   },
   {
    "duration": 12,
    "start_time": "2021-11-23T06:03:51.652Z"
   },
   {
    "duration": 8,
    "start_time": "2021-11-23T06:04:12.394Z"
   },
   {
    "duration": 8,
    "start_time": "2021-11-23T06:04:26.614Z"
   },
   {
    "duration": 8,
    "start_time": "2021-11-23T06:04:39.932Z"
   },
   {
    "duration": 7,
    "start_time": "2021-11-23T06:04:49.763Z"
   },
   {
    "duration": 7,
    "start_time": "2021-11-23T06:04:54.714Z"
   },
   {
    "duration": 7,
    "start_time": "2021-11-23T06:05:03.326Z"
   },
   {
    "duration": 8,
    "start_time": "2021-11-23T06:05:09.583Z"
   },
   {
    "duration": 8,
    "start_time": "2021-11-23T06:05:14.182Z"
   },
   {
    "duration": 9,
    "start_time": "2021-11-23T06:05:29.987Z"
   },
   {
    "duration": 10,
    "start_time": "2021-11-23T06:05:36.310Z"
   },
   {
    "duration": 9,
    "start_time": "2021-11-23T06:05:59.850Z"
   },
   {
    "duration": 276,
    "start_time": "2021-11-23T06:12:00.814Z"
   },
   {
    "duration": 3,
    "start_time": "2021-11-23T06:12:06.558Z"
   },
   {
    "duration": 10,
    "start_time": "2021-11-23T06:12:09.400Z"
   },
   {
    "duration": 6,
    "start_time": "2021-11-23T06:13:06.504Z"
   },
   {
    "duration": 8,
    "start_time": "2021-11-23T06:13:29.753Z"
   },
   {
    "duration": 8,
    "start_time": "2021-11-23T06:15:18.094Z"
   },
   {
    "duration": 377,
    "start_time": "2021-11-23T06:25:38.384Z"
   },
   {
    "duration": 7,
    "start_time": "2021-11-23T06:26:55.555Z"
   },
   {
    "duration": 453,
    "start_time": "2021-11-23T06:28:55.804Z"
   },
   {
    "duration": 19,
    "start_time": "2021-11-23T06:30:24.322Z"
   },
   {
    "duration": 12,
    "start_time": "2021-11-23T06:32:11.812Z"
   },
   {
    "duration": 15,
    "start_time": "2021-11-23T06:32:21.404Z"
   },
   {
    "duration": 18,
    "start_time": "2021-11-23T06:32:40.482Z"
   },
   {
    "duration": 21,
    "start_time": "2021-11-23T06:34:25.270Z"
   },
   {
    "duration": 17,
    "start_time": "2021-11-23T06:36:04.715Z"
   },
   {
    "duration": 17,
    "start_time": "2021-11-23T06:37:55.768Z"
   },
   {
    "duration": 597,
    "start_time": "2021-11-24T01:59:22.998Z"
   },
   {
    "duration": 719,
    "start_time": "2021-11-24T05:30:20.347Z"
   },
   {
    "duration": 9,
    "start_time": "2021-11-24T05:32:08.809Z"
   },
   {
    "duration": 14,
    "start_time": "2021-11-24T05:33:12.356Z"
   },
   {
    "duration": 10,
    "start_time": "2021-11-24T05:34:31.478Z"
   },
   {
    "duration": 20,
    "start_time": "2021-11-24T05:59:44.674Z"
   },
   {
    "duration": 20,
    "start_time": "2021-11-24T06:06:02.684Z"
   },
   {
    "duration": 7,
    "start_time": "2021-11-24T06:34:23.456Z"
   },
   {
    "duration": 10,
    "start_time": "2021-11-24T06:34:34.449Z"
   },
   {
    "duration": 205,
    "start_time": "2021-11-24T06:36:08.385Z"
   },
   {
    "duration": 18,
    "start_time": "2021-11-24T06:36:21.754Z"
   },
   {
    "duration": 19,
    "start_time": "2021-11-24T06:38:29.909Z"
   },
   {
    "duration": 381,
    "start_time": "2021-11-24T06:39:47.158Z"
   },
   {
    "duration": 18,
    "start_time": "2021-11-24T06:40:09.169Z"
   },
   {
    "duration": 13,
    "start_time": "2021-11-24T06:40:22.385Z"
   },
   {
    "duration": 302,
    "start_time": "2021-11-24T06:41:08.896Z"
   },
   {
    "duration": 22,
    "start_time": "2021-11-24T06:41:40.621Z"
   },
   {
    "duration": 18,
    "start_time": "2021-11-24T06:42:56.855Z"
   },
   {
    "duration": 17,
    "start_time": "2021-11-24T06:43:16.963Z"
   },
   {
    "duration": 17,
    "start_time": "2021-11-24T06:44:00.096Z"
   },
   {
    "duration": 19,
    "start_time": "2021-11-24T06:49:23.010Z"
   },
   {
    "duration": 22,
    "start_time": "2021-11-24T06:49:30.248Z"
   },
   {
    "duration": 21,
    "start_time": "2021-11-24T06:50:52.959Z"
   },
   {
    "duration": 22,
    "start_time": "2021-11-24T06:54:56.960Z"
   },
   {
    "duration": 21,
    "start_time": "2021-11-24T07:03:28.776Z"
   },
   {
    "duration": 6,
    "start_time": "2021-11-24T07:11:18.604Z"
   },
   {
    "duration": 6,
    "start_time": "2021-11-24T07:12:25.119Z"
   },
   {
    "duration": 308,
    "start_time": "2021-11-25T01:20:28.957Z"
   },
   {
    "duration": 689,
    "start_time": "2021-11-25T01:22:54.193Z"
   },
   {
    "duration": 8,
    "start_time": "2021-11-25T01:22:54.884Z"
   },
   {
    "duration": 14,
    "start_time": "2021-11-25T01:22:54.894Z"
   },
   {
    "duration": 10,
    "start_time": "2021-11-25T01:22:54.910Z"
   },
   {
    "duration": 28,
    "start_time": "2021-11-25T01:22:54.921Z"
   },
   {
    "duration": 21,
    "start_time": "2021-11-25T01:22:54.950Z"
   },
   {
    "duration": 21,
    "start_time": "2021-11-25T01:22:54.973Z"
   },
   {
    "duration": 20,
    "start_time": "2021-11-25T01:22:54.996Z"
   },
   {
    "duration": 47,
    "start_time": "2021-11-25T01:22:55.018Z"
   },
   {
    "duration": 6,
    "start_time": "2021-11-25T01:22:55.066Z"
   },
   {
    "duration": 9,
    "start_time": "2021-11-25T01:22:56.794Z"
   },
   {
    "duration": 4,
    "start_time": "2021-11-25T01:23:46.027Z"
   },
   {
    "duration": 3,
    "start_time": "2021-11-25T01:23:47.521Z"
   },
   {
    "duration": 9,
    "start_time": "2021-11-25T01:25:43.603Z"
   },
   {
    "duration": 23,
    "start_time": "2021-11-25T01:27:24.498Z"
   },
   {
    "duration": 20,
    "start_time": "2021-11-25T01:27:46.020Z"
   },
   {
    "duration": 646,
    "start_time": "2021-11-25T01:29:25.133Z"
   },
   {
    "duration": 8,
    "start_time": "2021-11-25T01:29:25.781Z"
   },
   {
    "duration": 16,
    "start_time": "2021-11-25T01:29:25.790Z"
   },
   {
    "duration": 11,
    "start_time": "2021-11-25T01:29:25.808Z"
   },
   {
    "duration": 33,
    "start_time": "2021-11-25T01:29:25.820Z"
   },
   {
    "duration": 23,
    "start_time": "2021-11-25T01:29:25.855Z"
   },
   {
    "duration": 22,
    "start_time": "2021-11-25T01:29:25.879Z"
   },
   {
    "duration": 51,
    "start_time": "2021-11-25T01:29:25.904Z"
   },
   {
    "duration": 21,
    "start_time": "2021-11-25T01:29:25.957Z"
   },
   {
    "duration": 5,
    "start_time": "2021-11-25T01:29:25.980Z"
   },
   {
    "duration": 5,
    "start_time": "2021-11-25T01:29:25.987Z"
   },
   {
    "duration": 8,
    "start_time": "2021-11-25T01:29:28.991Z"
   },
   {
    "duration": 24,
    "start_time": "2021-11-25T01:29:31.344Z"
   },
   {
    "duration": 8,
    "start_time": "2021-11-25T01:30:08.386Z"
   },
   {
    "duration": 630,
    "start_time": "2021-11-25T01:31:48.077Z"
   },
   {
    "duration": 9,
    "start_time": "2021-11-25T01:31:48.709Z"
   },
   {
    "duration": 14,
    "start_time": "2021-11-25T01:31:48.720Z"
   },
   {
    "duration": 15,
    "start_time": "2021-11-25T01:31:48.736Z"
   },
   {
    "duration": 23,
    "start_time": "2021-11-25T01:31:48.752Z"
   },
   {
    "duration": 19,
    "start_time": "2021-11-25T01:31:48.776Z"
   },
   {
    "duration": 20,
    "start_time": "2021-11-25T01:31:48.797Z"
   },
   {
    "duration": 44,
    "start_time": "2021-11-25T01:31:48.819Z"
   },
   {
    "duration": 19,
    "start_time": "2021-11-25T01:31:48.865Z"
   },
   {
    "duration": 6,
    "start_time": "2021-11-25T01:31:50.047Z"
   },
   {
    "duration": 15,
    "start_time": "2021-11-25T01:34:39.506Z"
   },
   {
    "duration": 16,
    "start_time": "2021-11-25T01:34:49.963Z"
   },
   {
    "duration": 782,
    "start_time": "2021-11-25T05:42:29.793Z"
   },
   {
    "duration": 11,
    "start_time": "2021-11-25T05:42:30.578Z"
   },
   {
    "duration": 22,
    "start_time": "2021-11-25T05:42:30.592Z"
   },
   {
    "duration": 19,
    "start_time": "2021-11-25T05:42:30.616Z"
   },
   {
    "duration": 55,
    "start_time": "2021-11-25T05:42:30.637Z"
   },
   {
    "duration": 34,
    "start_time": "2021-11-25T05:42:30.694Z"
   },
   {
    "duration": 60,
    "start_time": "2021-11-25T05:42:30.730Z"
   },
   {
    "duration": 33,
    "start_time": "2021-11-25T05:42:30.793Z"
   },
   {
    "duration": 64,
    "start_time": "2021-11-25T05:42:30.829Z"
   },
   {
    "duration": 9,
    "start_time": "2021-11-25T05:42:30.895Z"
   },
   {
    "duration": 35,
    "start_time": "2021-11-25T05:42:30.906Z"
   },
   {
    "duration": 12,
    "start_time": "2021-11-25T05:42:30.944Z"
   },
   {
    "duration": 20,
    "start_time": "2021-11-25T05:44:17.209Z"
   },
   {
    "duration": 14,
    "start_time": "2021-11-25T05:45:56.562Z"
   },
   {
    "duration": 13,
    "start_time": "2021-11-25T05:48:07.884Z"
   },
   {
    "duration": 8,
    "start_time": "2021-11-25T05:50:45.961Z"
   },
   {
    "duration": 11,
    "start_time": "2021-11-25T05:51:38.595Z"
   },
   {
    "duration": 9,
    "start_time": "2021-11-25T05:52:43.403Z"
   },
   {
    "duration": 9,
    "start_time": "2021-11-25T05:52:54.555Z"
   },
   {
    "duration": 8,
    "start_time": "2021-11-25T06:13:50.277Z"
   },
   {
    "duration": 12,
    "start_time": "2021-11-25T06:13:58.353Z"
   },
   {
    "duration": 11,
    "start_time": "2021-11-25T06:15:17.899Z"
   },
   {
    "duration": 13,
    "start_time": "2021-11-25T06:15:47.994Z"
   },
   {
    "duration": 16,
    "start_time": "2021-11-25T06:32:35.410Z"
   },
   {
    "duration": 22,
    "start_time": "2021-11-25T06:33:41.384Z"
   },
   {
    "duration": 12,
    "start_time": "2021-11-25T06:35:27.672Z"
   },
   {
    "duration": 11,
    "start_time": "2021-11-25T06:35:54.303Z"
   },
   {
    "duration": 9,
    "start_time": "2021-11-25T06:44:33.882Z"
   },
   {
    "duration": 538,
    "start_time": "2021-11-25T06:45:01.267Z"
   },
   {
    "duration": 15,
    "start_time": "2021-11-25T06:45:05.066Z"
   },
   {
    "duration": 13,
    "start_time": "2021-11-25T06:45:45.382Z"
   },
   {
    "duration": 484,
    "start_time": "2021-11-25T06:46:37.217Z"
   },
   {
    "duration": 23,
    "start_time": "2021-11-25T06:46:51.121Z"
   },
   {
    "duration": 11,
    "start_time": "2021-11-25T06:47:41.772Z"
   },
   {
    "duration": 10,
    "start_time": "2021-11-25T06:48:05.658Z"
   },
   {
    "duration": 9,
    "start_time": "2021-11-25T06:48:16.234Z"
   },
   {
    "duration": 11,
    "start_time": "2021-11-25T06:50:44.193Z"
   },
   {
    "duration": 12,
    "start_time": "2021-11-25T06:52:22.885Z"
   },
   {
    "duration": 15,
    "start_time": "2021-11-25T06:53:28.500Z"
   },
   {
    "duration": 1174,
    "start_time": "2021-11-25T06:56:55.301Z"
   },
   {
    "duration": 326,
    "start_time": "2021-11-25T06:57:26.360Z"
   },
   {
    "duration": 19,
    "start_time": "2021-11-25T06:57:57.024Z"
   },
   {
    "duration": 25,
    "start_time": "2021-11-25T06:58:20.970Z"
   },
   {
    "duration": 100,
    "start_time": "2021-11-25T06:59:29.583Z"
   },
   {
    "duration": 27,
    "start_time": "2021-11-25T06:59:52.923Z"
   },
   {
    "duration": 41,
    "start_time": "2021-11-25T07:00:09.050Z"
   },
   {
    "duration": 32,
    "start_time": "2021-11-25T07:00:19.695Z"
   },
   {
    "duration": 559,
    "start_time": "2021-11-26T04:56:55.955Z"
   },
   {
    "duration": 8,
    "start_time": "2021-11-26T04:56:56.516Z"
   },
   {
    "duration": 17,
    "start_time": "2021-11-26T04:56:56.526Z"
   },
   {
    "duration": 11,
    "start_time": "2021-11-26T04:56:56.545Z"
   },
   {
    "duration": 35,
    "start_time": "2021-11-26T04:56:56.558Z"
   },
   {
    "duration": 19,
    "start_time": "2021-11-26T04:56:56.595Z"
   },
   {
    "duration": 20,
    "start_time": "2021-11-26T04:56:56.615Z"
   },
   {
    "duration": 20,
    "start_time": "2021-11-26T04:56:56.637Z"
   },
   {
    "duration": 21,
    "start_time": "2021-11-26T04:56:56.690Z"
   },
   {
    "duration": 5,
    "start_time": "2021-11-26T04:56:56.712Z"
   },
   {
    "duration": 17,
    "start_time": "2021-11-26T04:56:56.718Z"
   },
   {
    "duration": 7,
    "start_time": "2021-11-26T04:56:56.736Z"
   },
   {
    "duration": 10,
    "start_time": "2021-11-26T04:56:56.745Z"
   },
   {
    "duration": 36,
    "start_time": "2021-11-26T04:56:56.756Z"
   },
   {
    "duration": 8,
    "start_time": "2021-11-26T04:56:56.793Z"
   },
   {
    "duration": 11,
    "start_time": "2021-11-26T04:56:56.802Z"
   },
   {
    "duration": 8,
    "start_time": "2021-11-26T04:56:56.815Z"
   },
   {
    "duration": 11,
    "start_time": "2021-11-26T04:56:56.824Z"
   },
   {
    "duration": 7,
    "start_time": "2021-11-26T04:56:56.837Z"
   },
   {
    "duration": 9,
    "start_time": "2021-11-26T05:01:32.175Z"
   },
   {
    "duration": 62,
    "start_time": "2021-11-26T05:05:06.184Z"
   },
   {
    "duration": 9,
    "start_time": "2021-11-26T05:05:17.448Z"
   },
   {
    "duration": 8,
    "start_time": "2021-11-26T05:24:19.821Z"
   },
   {
    "duration": 7,
    "start_time": "2021-11-26T05:28:40.205Z"
   },
   {
    "duration": 12,
    "start_time": "2021-11-26T05:31:29.129Z"
   },
   {
    "duration": 16,
    "start_time": "2021-11-26T05:32:18.882Z"
   },
   {
    "duration": 7,
    "start_time": "2021-11-26T05:46:56.088Z"
   },
   {
    "duration": 70,
    "start_time": "2021-11-26T05:47:58.302Z"
   },
   {
    "duration": 20,
    "start_time": "2021-11-26T05:48:38.698Z"
   },
   {
    "duration": 10,
    "start_time": "2021-11-26T05:56:08.614Z"
   },
   {
    "duration": 18,
    "start_time": "2021-11-26T06:01:26.812Z"
   },
   {
    "duration": 4,
    "start_time": "2021-11-26T06:06:20.668Z"
   },
   {
    "duration": 55,
    "start_time": "2021-11-26T06:09:27.718Z"
   },
   {
    "duration": 12,
    "start_time": "2021-11-26T06:10:06.128Z"
   },
   {
    "duration": 4,
    "start_time": "2021-11-26T06:11:03.078Z"
   },
   {
    "duration": 254,
    "start_time": "2021-11-26T06:17:50.322Z"
   },
   {
    "duration": 20,
    "start_time": "2021-11-26T06:18:05.691Z"
   },
   {
    "duration": 27,
    "start_time": "2021-11-26T06:18:18.603Z"
   },
   {
    "duration": 54,
    "start_time": "2021-11-26T06:19:40.748Z"
   },
   {
    "duration": 23,
    "start_time": "2021-11-26T06:19:48.922Z"
   },
   {
    "duration": 69,
    "start_time": "2021-11-26T06:28:46.010Z"
   },
   {
    "duration": 141,
    "start_time": "2021-11-26T06:29:37.526Z"
   },
   {
    "duration": 66,
    "start_time": "2021-11-26T06:31:13.005Z"
   },
   {
    "duration": 184,
    "start_time": "2021-11-26T06:31:22.295Z"
   },
   {
    "duration": 17,
    "start_time": "2021-11-26T06:31:45.608Z"
   },
   {
    "duration": 13,
    "start_time": "2021-11-26T06:32:00.502Z"
   },
   {
    "duration": 16,
    "start_time": "2021-11-26T06:33:29.266Z"
   },
   {
    "duration": 12,
    "start_time": "2021-11-26T06:33:32.201Z"
   },
   {
    "duration": 12,
    "start_time": "2021-11-26T06:34:12.575Z"
   },
   {
    "duration": 19,
    "start_time": "2021-11-26T06:34:32.604Z"
   },
   {
    "duration": 12,
    "start_time": "2021-11-26T06:39:21.901Z"
   },
   {
    "duration": 8,
    "start_time": "2021-11-26T06:44:33.624Z"
   },
   {
    "duration": 5,
    "start_time": "2021-11-26T06:44:52.024Z"
   },
   {
    "duration": 7,
    "start_time": "2021-11-26T06:48:09.253Z"
   },
   {
    "duration": 63,
    "start_time": "2021-11-26T06:59:34.887Z"
   },
   {
    "duration": 198,
    "start_time": "2021-11-26T06:59:55.065Z"
   },
   {
    "duration": 12,
    "start_time": "2021-11-26T07:00:22.764Z"
   },
   {
    "duration": 12,
    "start_time": "2021-11-26T07:00:48.288Z"
   },
   {
    "duration": 14,
    "start_time": "2021-11-26T07:01:04.145Z"
   },
   {
    "duration": 10,
    "start_time": "2021-11-26T07:04:39.844Z"
   },
   {
    "duration": 9,
    "start_time": "2021-11-26T07:05:46.401Z"
   },
   {
    "duration": 188,
    "start_time": "2021-11-26T07:07:13.106Z"
   },
   {
    "duration": 9,
    "start_time": "2021-11-26T07:07:27.633Z"
   },
   {
    "duration": 10,
    "start_time": "2021-11-26T07:07:43.449Z"
   },
   {
    "duration": 822,
    "start_time": "2021-11-27T18:43:30.732Z"
   },
   {
    "duration": 13,
    "start_time": "2021-11-27T18:43:31.556Z"
   },
   {
    "duration": 26,
    "start_time": "2021-11-27T18:43:31.572Z"
   },
   {
    "duration": 38,
    "start_time": "2021-11-27T18:43:31.601Z"
   },
   {
    "duration": 34,
    "start_time": "2021-11-27T18:43:31.642Z"
   },
   {
    "duration": 71,
    "start_time": "2021-11-27T18:43:31.679Z"
   },
   {
    "duration": 37,
    "start_time": "2021-11-27T18:43:31.753Z"
   },
   {
    "duration": 60,
    "start_time": "2021-11-27T18:43:31.793Z"
   },
   {
    "duration": 35,
    "start_time": "2021-11-27T18:43:31.858Z"
   },
   {
    "duration": 40,
    "start_time": "2021-11-27T18:43:31.898Z"
   },
   {
    "duration": 24,
    "start_time": "2021-11-27T18:43:31.941Z"
   },
   {
    "duration": 13,
    "start_time": "2021-11-27T18:43:31.968Z"
   },
   {
    "duration": 56,
    "start_time": "2021-11-27T18:43:31.984Z"
   },
   {
    "duration": 17,
    "start_time": "2021-11-27T18:43:32.042Z"
   },
   {
    "duration": 13,
    "start_time": "2021-11-27T18:43:32.062Z"
   },
   {
    "duration": 11,
    "start_time": "2021-11-27T18:43:32.077Z"
   },
   {
    "duration": 44,
    "start_time": "2021-11-27T18:43:32.090Z"
   },
   {
    "duration": 17,
    "start_time": "2021-11-27T18:43:32.136Z"
   },
   {
    "duration": 11,
    "start_time": "2021-11-27T18:43:32.155Z"
   },
   {
    "duration": 16,
    "start_time": "2021-11-27T18:43:32.169Z"
   },
   {
    "duration": 44,
    "start_time": "2021-11-27T18:43:32.187Z"
   },
   {
    "duration": 24,
    "start_time": "2021-11-27T18:43:32.233Z"
   },
   {
    "duration": 35,
    "start_time": "2021-11-27T18:43:32.260Z"
   },
   {
    "duration": 5,
    "start_time": "2021-11-27T18:43:32.329Z"
   },
   {
    "duration": 25,
    "start_time": "2021-11-27T18:43:32.337Z"
   },
   {
    "duration": 28,
    "start_time": "2021-11-27T18:43:32.365Z"
   },
   {
    "duration": 54,
    "start_time": "2021-11-27T18:43:32.399Z"
   },
   {
    "duration": 15,
    "start_time": "2021-11-27T18:43:32.456Z"
   },
   {
    "duration": 10,
    "start_time": "2021-11-27T18:43:32.474Z"
   },
   {
    "duration": 62,
    "start_time": "2021-11-27T18:43:32.486Z"
   },
   {
    "duration": 21,
    "start_time": "2021-11-27T18:43:32.550Z"
   },
   {
    "duration": 31,
    "start_time": "2021-11-27T18:43:32.574Z"
   },
   {
    "duration": 14,
    "start_time": "2021-11-27T18:43:36.385Z"
   },
   {
    "duration": 12,
    "start_time": "2021-11-27T18:45:52.695Z"
   },
   {
    "duration": 601,
    "start_time": "2021-11-27T18:47:25.252Z"
   },
   {
    "duration": 21,
    "start_time": "2021-11-27T18:47:36.530Z"
   },
   {
    "duration": 12,
    "start_time": "2021-11-27T18:47:49.644Z"
   },
   {
    "duration": 3,
    "start_time": "2021-11-27T18:49:48.627Z"
   },
   {
    "duration": 13,
    "start_time": "2021-11-27T18:50:26.626Z"
   },
   {
    "duration": 12,
    "start_time": "2021-11-27T18:50:33.164Z"
   },
   {
    "duration": 12,
    "start_time": "2021-11-27T18:50:49.090Z"
   },
   {
    "duration": 11,
    "start_time": "2021-11-27T18:54:13.490Z"
   },
   {
    "duration": 13,
    "start_time": "2021-11-27T18:55:13.843Z"
   },
   {
    "duration": 12,
    "start_time": "2021-11-27T18:55:36.536Z"
   },
   {
    "duration": 12,
    "start_time": "2021-11-27T18:55:45.443Z"
   },
   {
    "duration": 13,
    "start_time": "2021-11-27T18:57:10.335Z"
   },
   {
    "duration": 101,
    "start_time": "2021-11-27T19:09:17.580Z"
   },
   {
    "duration": 86,
    "start_time": "2021-11-27T19:09:25.691Z"
   },
   {
    "duration": 89,
    "start_time": "2021-11-27T19:09:38.783Z"
   },
   {
    "duration": 79,
    "start_time": "2021-11-27T19:09:52.125Z"
   },
   {
    "duration": 82,
    "start_time": "2021-11-27T19:10:02.535Z"
   },
   {
    "duration": 92,
    "start_time": "2021-11-27T19:10:20.426Z"
   },
   {
    "duration": 115,
    "start_time": "2021-11-27T19:10:46.411Z"
   },
   {
    "duration": 132,
    "start_time": "2021-11-27T19:10:54.690Z"
   },
   {
    "duration": 618,
    "start_time": "2021-11-27T19:11:34.283Z"
   },
   {
    "duration": 433,
    "start_time": "2021-11-27T19:12:13.775Z"
   },
   {
    "duration": 530,
    "start_time": "2021-11-27T19:12:39.383Z"
   },
   {
    "duration": 22,
    "start_time": "2021-11-27T19:14:55.898Z"
   },
   {
    "duration": 11,
    "start_time": "2021-11-27T19:16:05.803Z"
   },
   {
    "duration": 12,
    "start_time": "2021-11-27T19:16:36.609Z"
   },
   {
    "duration": 12,
    "start_time": "2021-11-27T19:17:00.856Z"
   },
   {
    "duration": 14,
    "start_time": "2021-11-27T19:17:45.850Z"
   },
   {
    "duration": 13,
    "start_time": "2021-11-27T19:18:17.218Z"
   },
   {
    "duration": 14,
    "start_time": "2021-11-27T19:21:26.012Z"
   },
   {
    "duration": 6,
    "start_time": "2021-11-27T19:34:00.183Z"
   },
   {
    "duration": 17,
    "start_time": "2021-11-27T19:35:07.994Z"
   },
   {
    "duration": 17,
    "start_time": "2021-11-27T19:36:17.381Z"
   },
   {
    "duration": 27,
    "start_time": "2021-11-27T19:37:30.893Z"
   },
   {
    "duration": 23,
    "start_time": "2021-11-27T19:37:45.128Z"
   },
   {
    "duration": 84,
    "start_time": "2021-11-27T19:38:07.453Z"
   },
   {
    "duration": 81,
    "start_time": "2021-11-27T19:38:16.093Z"
   },
   {
    "duration": 20,
    "start_time": "2021-11-27T19:38:23.323Z"
   },
   {
    "duration": 4,
    "start_time": "2021-11-27T19:46:15.015Z"
   },
   {
    "duration": 251,
    "start_time": "2021-11-27T19:46:17.270Z"
   },
   {
    "duration": 4,
    "start_time": "2021-11-27T19:47:07.095Z"
   },
   {
    "duration": 255,
    "start_time": "2021-11-27T19:47:09.264Z"
   },
   {
    "duration": 5,
    "start_time": "2021-11-27T19:47:30.044Z"
   },
   {
    "duration": 5,
    "start_time": "2021-11-27T19:47:32.581Z"
   },
   {
    "duration": 261,
    "start_time": "2021-11-27T19:48:35.621Z"
   },
   {
    "duration": 5,
    "start_time": "2021-11-27T19:48:40.555Z"
   },
   {
    "duration": 5,
    "start_time": "2021-11-27T19:48:42.321Z"
   },
   {
    "duration": 4,
    "start_time": "2021-11-27T19:51:19.202Z"
   },
   {
    "duration": 4,
    "start_time": "2021-11-27T19:51:38.674Z"
   },
   {
    "duration": 27,
    "start_time": "2021-11-27T19:52:01.513Z"
   },
   {
    "duration": 24,
    "start_time": "2021-11-27T19:52:22.272Z"
   },
   {
    "duration": 791,
    "start_time": "2021-11-27T19:55:10.855Z"
   },
   {
    "duration": 14,
    "start_time": "2021-11-27T19:55:11.649Z"
   },
   {
    "duration": 24,
    "start_time": "2021-11-27T19:55:11.667Z"
   },
   {
    "duration": 43,
    "start_time": "2021-11-27T19:55:11.693Z"
   },
   {
    "duration": 34,
    "start_time": "2021-11-27T19:55:11.739Z"
   },
   {
    "duration": 66,
    "start_time": "2021-11-27T19:55:11.776Z"
   },
   {
    "duration": 35,
    "start_time": "2021-11-27T19:55:11.844Z"
   },
   {
    "duration": 62,
    "start_time": "2021-11-27T19:55:11.884Z"
   },
   {
    "duration": 32,
    "start_time": "2021-11-27T19:55:11.948Z"
   },
   {
    "duration": 12,
    "start_time": "2021-11-27T19:55:11.982Z"
   },
   {
    "duration": 50,
    "start_time": "2021-11-27T19:55:11.996Z"
   },
   {
    "duration": 13,
    "start_time": "2021-11-27T19:55:12.048Z"
   },
   {
    "duration": 18,
    "start_time": "2021-11-27T19:55:12.063Z"
   },
   {
    "duration": 15,
    "start_time": "2021-11-27T19:55:12.084Z"
   },
   {
    "duration": 11,
    "start_time": "2021-11-27T19:55:12.130Z"
   },
   {
    "duration": 17,
    "start_time": "2021-11-27T19:55:12.144Z"
   },
   {
    "duration": 11,
    "start_time": "2021-11-27T19:55:12.164Z"
   },
   {
    "duration": 51,
    "start_time": "2021-11-27T19:55:12.178Z"
   },
   {
    "duration": 11,
    "start_time": "2021-11-27T19:55:12.232Z"
   },
   {
    "duration": 15,
    "start_time": "2021-11-27T19:55:12.246Z"
   },
   {
    "duration": 9,
    "start_time": "2021-11-27T19:55:12.263Z"
   },
   {
    "duration": 64,
    "start_time": "2021-11-27T19:55:12.275Z"
   },
   {
    "duration": 36,
    "start_time": "2021-11-27T19:55:12.344Z"
   },
   {
    "duration": 5,
    "start_time": "2021-11-27T19:55:12.384Z"
   },
   {
    "duration": 53,
    "start_time": "2021-11-27T19:55:12.391Z"
   },
   {
    "duration": 26,
    "start_time": "2021-11-27T19:55:12.446Z"
   },
   {
    "duration": 27,
    "start_time": "2021-11-27T19:55:12.474Z"
   },
   {
    "duration": 16,
    "start_time": "2021-11-27T19:55:12.530Z"
   },
   {
    "duration": 12,
    "start_time": "2021-11-27T19:55:12.548Z"
   },
   {
    "duration": 10,
    "start_time": "2021-11-27T19:55:12.563Z"
   },
   {
    "duration": 67,
    "start_time": "2021-11-27T19:55:12.576Z"
   },
   {
    "duration": 17,
    "start_time": "2021-11-27T19:55:12.645Z"
   },
   {
    "duration": 15,
    "start_time": "2021-11-27T19:55:12.665Z"
   },
   {
    "duration": 48,
    "start_time": "2021-11-27T19:55:12.683Z"
   },
   {
    "duration": 17,
    "start_time": "2021-11-27T19:55:12.733Z"
   },
   {
    "duration": 11,
    "start_time": "2021-11-27T19:55:12.752Z"
   },
   {
    "duration": 12,
    "start_time": "2021-11-27T19:55:12.765Z"
   },
   {
    "duration": 17,
    "start_time": "2021-11-27T19:55:12.780Z"
   },
   {
    "duration": 9,
    "start_time": "2021-11-27T19:55:12.830Z"
   },
   {
    "duration": 13,
    "start_time": "2021-11-27T19:55:12.841Z"
   },
   {
    "duration": 19,
    "start_time": "2021-11-27T19:55:12.856Z"
   },
   {
    "duration": 5,
    "start_time": "2021-11-27T19:55:12.877Z"
   },
   {
    "duration": 18,
    "start_time": "2021-11-27T19:55:14.452Z"
   },
   {
    "duration": 4,
    "start_time": "2021-11-27T19:55:37.381Z"
   },
   {
    "duration": 5,
    "start_time": "2021-11-27T19:55:40.213Z"
   },
   {
    "duration": 30,
    "start_time": "2021-11-27T19:55:42.693Z"
   },
   {
    "duration": 24,
    "start_time": "2021-11-27T19:55:44.951Z"
   },
   {
    "duration": 20,
    "start_time": "2021-11-27T19:56:41.494Z"
   },
   {
    "duration": 1030,
    "start_time": "2021-11-30T05:24:27.100Z"
   },
   {
    "duration": 8,
    "start_time": "2021-11-30T05:24:28.131Z"
   },
   {
    "duration": 22,
    "start_time": "2021-11-30T05:24:28.141Z"
   },
   {
    "duration": 16,
    "start_time": "2021-11-30T05:24:28.165Z"
   },
   {
    "duration": 24,
    "start_time": "2021-11-30T05:24:28.183Z"
   },
   {
    "duration": 21,
    "start_time": "2021-11-30T05:24:28.209Z"
   },
   {
    "duration": 26,
    "start_time": "2021-11-30T05:24:28.232Z"
   },
   {
    "duration": 47,
    "start_time": "2021-11-30T05:24:28.261Z"
   },
   {
    "duration": 22,
    "start_time": "2021-11-30T05:24:28.310Z"
   },
   {
    "duration": 6,
    "start_time": "2021-11-30T05:24:28.334Z"
   },
   {
    "duration": 24,
    "start_time": "2021-11-30T05:24:28.341Z"
   },
   {
    "duration": 9,
    "start_time": "2021-11-30T05:24:28.367Z"
   },
   {
    "duration": 38,
    "start_time": "2021-11-30T05:24:28.377Z"
   },
   {
    "duration": 14,
    "start_time": "2021-11-30T05:24:28.417Z"
   },
   {
    "duration": 13,
    "start_time": "2021-11-30T05:24:28.433Z"
   },
   {
    "duration": 9,
    "start_time": "2021-11-30T05:24:28.447Z"
   },
   {
    "duration": 10,
    "start_time": "2021-11-30T05:24:28.458Z"
   },
   {
    "duration": 36,
    "start_time": "2021-11-30T05:24:28.470Z"
   },
   {
    "duration": 9,
    "start_time": "2021-11-30T05:24:28.508Z"
   },
   {
    "duration": 14,
    "start_time": "2021-11-30T05:24:28.519Z"
   },
   {
    "duration": 7,
    "start_time": "2021-11-30T05:24:28.534Z"
   },
   {
    "duration": 21,
    "start_time": "2021-11-30T05:24:28.542Z"
   },
   {
    "duration": 49,
    "start_time": "2021-11-30T05:24:28.566Z"
   },
   {
    "duration": 4,
    "start_time": "2021-11-30T05:24:28.617Z"
   },
   {
    "duration": 17,
    "start_time": "2021-11-30T05:24:28.622Z"
   },
   {
    "duration": 17,
    "start_time": "2021-11-30T05:24:28.641Z"
   },
   {
    "duration": 25,
    "start_time": "2021-11-30T05:24:28.660Z"
   },
   {
    "duration": 26,
    "start_time": "2021-11-30T05:24:28.686Z"
   },
   {
    "duration": 6,
    "start_time": "2021-11-30T05:24:28.713Z"
   },
   {
    "duration": 6,
    "start_time": "2021-11-30T05:24:28.721Z"
   },
   {
    "duration": 11,
    "start_time": "2021-11-30T05:24:28.729Z"
   },
   {
    "duration": 10,
    "start_time": "2021-11-30T05:24:28.742Z"
   },
   {
    "duration": 12,
    "start_time": "2021-11-30T05:24:28.754Z"
   },
   {
    "duration": 44,
    "start_time": "2021-11-30T05:24:28.767Z"
   },
   {
    "duration": 20,
    "start_time": "2021-11-30T05:24:28.813Z"
   },
   {
    "duration": 8,
    "start_time": "2021-11-30T05:24:28.834Z"
   },
   {
    "duration": 10,
    "start_time": "2021-11-30T05:24:28.843Z"
   },
   {
    "duration": 11,
    "start_time": "2021-11-30T05:24:28.855Z"
   },
   {
    "duration": 10,
    "start_time": "2021-11-30T05:24:28.868Z"
   },
   {
    "duration": 30,
    "start_time": "2021-11-30T05:24:28.880Z"
   },
   {
    "duration": 9,
    "start_time": "2021-11-30T05:24:28.912Z"
   },
   {
    "duration": 3,
    "start_time": "2021-11-30T05:24:28.923Z"
   },
   {
    "duration": 13,
    "start_time": "2021-11-30T05:24:28.928Z"
   },
   {
    "duration": 23,
    "start_time": "2021-11-30T05:24:28.943Z"
   },
   {
    "duration": 10,
    "start_time": "2021-11-30T05:24:34.130Z"
   },
   {
    "duration": 4,
    "start_time": "2021-11-30T05:57:07.974Z"
   },
   {
    "duration": 3,
    "start_time": "2021-11-30T05:57:10.035Z"
   },
   {
    "duration": 19,
    "start_time": "2021-11-30T05:57:17.539Z"
   },
   {
    "duration": 13,
    "start_time": "2021-11-30T05:57:20.942Z"
   },
   {
    "duration": 16,
    "start_time": "2021-11-30T05:57:52.718Z"
   },
   {
    "duration": 10,
    "start_time": "2021-11-30T05:58:16.333Z"
   },
   {
    "duration": 16,
    "start_time": "2021-11-30T05:58:18.988Z"
   },
   {
    "duration": 899,
    "start_time": "2021-11-30T05:59:00.031Z"
   },
   {
    "duration": 8,
    "start_time": "2021-11-30T05:59:00.932Z"
   },
   {
    "duration": 41,
    "start_time": "2021-11-30T05:59:00.942Z"
   },
   {
    "duration": 39,
    "start_time": "2021-11-30T05:59:00.985Z"
   },
   {
    "duration": 74,
    "start_time": "2021-11-30T05:59:01.026Z"
   },
   {
    "duration": 24,
    "start_time": "2021-11-30T05:59:01.101Z"
   },
   {
    "duration": 28,
    "start_time": "2021-11-30T05:59:01.127Z"
   },
   {
    "duration": 23,
    "start_time": "2021-11-30T05:59:01.158Z"
   },
   {
    "duration": 44,
    "start_time": "2021-11-30T05:59:01.183Z"
   },
   {
    "duration": 18,
    "start_time": "2021-11-30T05:59:01.229Z"
   },
   {
    "duration": 44,
    "start_time": "2021-11-30T05:59:01.249Z"
   },
   {
    "duration": 35,
    "start_time": "2021-11-30T05:59:01.295Z"
   },
   {
    "duration": 29,
    "start_time": "2021-11-30T05:59:01.332Z"
   },
   {
    "duration": 26,
    "start_time": "2021-11-30T05:59:01.363Z"
   },
   {
    "duration": 29,
    "start_time": "2021-11-30T05:59:01.391Z"
   },
   {
    "duration": 42,
    "start_time": "2021-11-30T05:59:01.422Z"
   },
   {
    "duration": 20,
    "start_time": "2021-11-30T05:59:01.466Z"
   },
   {
    "duration": 48,
    "start_time": "2021-11-30T05:59:01.488Z"
   },
   {
    "duration": 36,
    "start_time": "2021-11-30T05:59:01.538Z"
   },
   {
    "duration": 17,
    "start_time": "2021-11-30T05:59:01.576Z"
   },
   {
    "duration": 23,
    "start_time": "2021-11-30T05:59:01.595Z"
   },
   {
    "duration": 21,
    "start_time": "2021-11-30T05:59:01.620Z"
   },
   {
    "duration": 25,
    "start_time": "2021-11-30T05:59:01.645Z"
   },
   {
    "duration": 3,
    "start_time": "2021-11-30T05:59:01.672Z"
   },
   {
    "duration": 32,
    "start_time": "2021-11-30T05:59:01.677Z"
   },
   {
    "duration": 23,
    "start_time": "2021-11-30T05:59:01.711Z"
   },
   {
    "duration": 22,
    "start_time": "2021-11-30T05:59:01.736Z"
   },
   {
    "duration": 20,
    "start_time": "2021-11-30T05:59:01.759Z"
   },
   {
    "duration": 8,
    "start_time": "2021-11-30T05:59:01.781Z"
   },
   {
    "duration": 24,
    "start_time": "2021-11-30T05:59:01.791Z"
   },
   {
    "duration": 22,
    "start_time": "2021-11-30T05:59:01.816Z"
   },
   {
    "duration": 12,
    "start_time": "2021-11-30T05:59:01.840Z"
   },
   {
    "duration": 22,
    "start_time": "2021-11-30T05:59:01.853Z"
   },
   {
    "duration": 13,
    "start_time": "2021-11-30T05:59:01.877Z"
   },
   {
    "duration": 33,
    "start_time": "2021-11-30T05:59:01.892Z"
   },
   {
    "duration": 35,
    "start_time": "2021-11-30T05:59:01.926Z"
   },
   {
    "duration": 20,
    "start_time": "2021-11-30T05:59:01.963Z"
   },
   {
    "duration": 15,
    "start_time": "2021-11-30T05:59:01.984Z"
   },
   {
    "duration": 14,
    "start_time": "2021-11-30T05:59:02.001Z"
   },
   {
    "duration": 19,
    "start_time": "2021-11-30T05:59:02.017Z"
   },
   {
    "duration": 20,
    "start_time": "2021-11-30T05:59:02.038Z"
   },
   {
    "duration": 10,
    "start_time": "2021-11-30T05:59:02.060Z"
   },
   {
    "duration": 33,
    "start_time": "2021-11-30T05:59:02.072Z"
   },
   {
    "duration": 40,
    "start_time": "2021-11-30T05:59:02.107Z"
   },
   {
    "duration": 19,
    "start_time": "2021-11-30T05:59:04.967Z"
   },
   {
    "duration": 10,
    "start_time": "2021-11-30T05:59:09.027Z"
   },
   {
    "duration": 3,
    "start_time": "2021-11-30T05:59:19.684Z"
   },
   {
    "duration": 4,
    "start_time": "2021-11-30T05:59:21.553Z"
   },
   {
    "duration": 9,
    "start_time": "2021-11-30T05:59:26.828Z"
   },
   {
    "duration": 14,
    "start_time": "2021-11-30T05:59:28.674Z"
   },
   {
    "duration": 9,
    "start_time": "2021-11-30T06:07:53.520Z"
   },
   {
    "duration": 5,
    "start_time": "2021-11-30T06:07:58.835Z"
   },
   {
    "duration": 5,
    "start_time": "2021-11-30T06:08:06.750Z"
   },
   {
    "duration": 10,
    "start_time": "2021-11-30T06:08:17.872Z"
   },
   {
    "duration": 8,
    "start_time": "2021-11-30T06:08:20.570Z"
   },
   {
    "duration": 3,
    "start_time": "2021-11-30T06:08:26.896Z"
   },
   {
    "duration": 4,
    "start_time": "2021-11-30T06:08:29.683Z"
   },
   {
    "duration": 8,
    "start_time": "2021-11-30T06:08:36.945Z"
   },
   {
    "duration": 13,
    "start_time": "2021-11-30T06:08:40.237Z"
   },
   {
    "duration": 9,
    "start_time": "2021-11-30T06:09:06.734Z"
   },
   {
    "duration": 11,
    "start_time": "2021-11-30T06:09:10.925Z"
   },
   {
    "duration": 3,
    "start_time": "2021-11-30T06:09:23.599Z"
   },
   {
    "duration": 4,
    "start_time": "2021-11-30T06:09:25.609Z"
   },
   {
    "duration": 2265,
    "start_time": "2021-11-30T06:09:34.785Z"
   },
   {
    "duration": 1293,
    "start_time": "2021-11-30T06:09:35.759Z"
   },
   {
    "duration": 8,
    "start_time": "2021-11-30T06:10:04.712Z"
   },
   {
    "duration": 14,
    "start_time": "2021-11-30T06:10:28.097Z"
   },
   {
    "duration": 10,
    "start_time": "2021-11-30T06:10:40.559Z"
   },
   {
    "duration": 17,
    "start_time": "2021-11-30T06:15:53.202Z"
   },
   {
    "duration": 16,
    "start_time": "2021-11-30T06:16:04.793Z"
   },
   {
    "duration": 26,
    "start_time": "2021-11-30T06:17:55.514Z"
   },
   {
    "duration": 27,
    "start_time": "2021-11-30T06:18:38.234Z"
   },
   {
    "duration": 29,
    "start_time": "2021-11-30T06:18:58.855Z"
   },
   {
    "duration": 30,
    "start_time": "2021-11-30T06:19:48.943Z"
   },
   {
    "duration": 30,
    "start_time": "2021-11-30T06:21:05.834Z"
   },
   {
    "duration": 7,
    "start_time": "2021-11-30T06:38:11.659Z"
   },
   {
    "duration": 8,
    "start_time": "2021-11-30T06:38:20.649Z"
   },
   {
    "duration": 5,
    "start_time": "2021-11-30T06:40:12.428Z"
   },
   {
    "duration": 4,
    "start_time": "2021-11-30T06:47:13.900Z"
   },
   {
    "duration": 11,
    "start_time": "2021-11-30T06:48:47.014Z"
   },
   {
    "duration": 12,
    "start_time": "2021-11-30T06:48:53.646Z"
   },
   {
    "duration": 7,
    "start_time": "2021-11-30T06:50:30.561Z"
   },
   {
    "duration": 3,
    "start_time": "2021-11-30T06:59:08.381Z"
   },
   {
    "duration": 3,
    "start_time": "2021-11-30T06:59:14.651Z"
   },
   {
    "duration": 4,
    "start_time": "2021-11-30T06:59:46.179Z"
   },
   {
    "duration": 7,
    "start_time": "2021-11-30T07:01:10.286Z"
   },
   {
    "duration": 15,
    "start_time": "2021-11-30T07:03:37.302Z"
   },
   {
    "duration": 19,
    "start_time": "2021-11-30T07:04:18.154Z"
   },
   {
    "duration": 8,
    "start_time": "2021-11-30T07:07:19.468Z"
   },
   {
    "duration": 3,
    "start_time": "2021-11-30T07:12:57.075Z"
   },
   {
    "duration": 3,
    "start_time": "2021-11-30T07:13:30.856Z"
   },
   {
    "duration": 3,
    "start_time": "2021-11-30T07:13:38.445Z"
   },
   {
    "duration": 3,
    "start_time": "2021-11-30T07:14:01.981Z"
   },
   {
    "duration": 9,
    "start_time": "2021-11-30T07:15:04.656Z"
   },
   {
    "duration": 8,
    "start_time": "2021-11-30T07:15:40.313Z"
   },
   {
    "duration": 19,
    "start_time": "2021-11-30T07:16:55.126Z"
   },
   {
    "duration": 25,
    "start_time": "2021-11-30T07:17:27.474Z"
   },
   {
    "duration": 20,
    "start_time": "2021-11-30T07:17:46.575Z"
   },
   {
    "duration": 11,
    "start_time": "2021-11-30T07:19:55.409Z"
   },
   {
    "duration": 881,
    "start_time": "2021-12-01T06:42:11.288Z"
   },
   {
    "duration": 13,
    "start_time": "2021-12-01T06:42:12.171Z"
   },
   {
    "duration": 37,
    "start_time": "2021-12-01T06:42:12.188Z"
   },
   {
    "duration": 26,
    "start_time": "2021-12-01T06:42:12.228Z"
   },
   {
    "duration": 52,
    "start_time": "2021-12-01T06:42:12.257Z"
   },
   {
    "duration": 33,
    "start_time": "2021-12-01T06:42:12.311Z"
   },
   {
    "duration": 71,
    "start_time": "2021-12-01T06:42:12.347Z"
   },
   {
    "duration": 32,
    "start_time": "2021-12-01T06:42:12.422Z"
   },
   {
    "duration": 57,
    "start_time": "2021-12-01T06:42:12.457Z"
   },
   {
    "duration": 8,
    "start_time": "2021-12-01T06:42:12.516Z"
   },
   {
    "duration": 62,
    "start_time": "2021-12-01T06:42:12.526Z"
   },
   {
    "duration": 14,
    "start_time": "2021-12-01T06:42:12.592Z"
   },
   {
    "duration": 25,
    "start_time": "2021-12-01T06:42:12.608Z"
   },
   {
    "duration": 22,
    "start_time": "2021-12-01T06:42:12.635Z"
   },
   {
    "duration": 24,
    "start_time": "2021-12-01T06:42:12.660Z"
   },
   {
    "duration": 16,
    "start_time": "2021-12-01T06:42:12.687Z"
   },
   {
    "duration": 15,
    "start_time": "2021-12-01T06:42:12.705Z"
   },
   {
    "duration": 17,
    "start_time": "2021-12-01T06:42:12.722Z"
   },
   {
    "duration": 43,
    "start_time": "2021-12-01T06:42:12.741Z"
   },
   {
    "duration": 24,
    "start_time": "2021-12-01T06:42:12.787Z"
   },
   {
    "duration": 11,
    "start_time": "2021-12-01T06:42:12.813Z"
   },
   {
    "duration": 60,
    "start_time": "2021-12-01T06:42:12.826Z"
   },
   {
    "duration": 38,
    "start_time": "2021-12-01T06:42:12.893Z"
   },
   {
    "duration": 5,
    "start_time": "2021-12-01T06:42:12.935Z"
   },
   {
    "duration": 63,
    "start_time": "2021-12-01T06:42:12.943Z"
   },
   {
    "duration": 29,
    "start_time": "2021-12-01T06:42:13.008Z"
   },
   {
    "duration": 51,
    "start_time": "2021-12-01T06:42:13.039Z"
   },
   {
    "duration": 16,
    "start_time": "2021-12-01T06:42:13.093Z"
   },
   {
    "duration": 12,
    "start_time": "2021-12-01T06:42:13.111Z"
   },
   {
    "duration": 15,
    "start_time": "2021-12-01T06:42:13.126Z"
   },
   {
    "duration": 54,
    "start_time": "2021-12-01T06:42:13.144Z"
   },
   {
    "duration": 16,
    "start_time": "2021-12-01T06:42:13.201Z"
   },
   {
    "duration": 24,
    "start_time": "2021-12-01T06:42:13.220Z"
   },
   {
    "duration": 39,
    "start_time": "2021-12-01T06:42:13.247Z"
   },
   {
    "duration": 26,
    "start_time": "2021-12-01T06:42:13.289Z"
   },
   {
    "duration": 16,
    "start_time": "2021-12-01T06:42:13.317Z"
   },
   {
    "duration": 23,
    "start_time": "2021-12-01T06:42:13.335Z"
   },
   {
    "duration": 33,
    "start_time": "2021-12-01T06:42:13.360Z"
   },
   {
    "duration": 30,
    "start_time": "2021-12-01T06:42:13.396Z"
   },
   {
    "duration": 22,
    "start_time": "2021-12-01T06:42:13.429Z"
   },
   {
    "duration": 27,
    "start_time": "2021-12-01T06:42:13.453Z"
   },
   {
    "duration": 7,
    "start_time": "2021-12-01T06:42:13.490Z"
   },
   {
    "duration": 36,
    "start_time": "2021-12-01T06:42:13.499Z"
   },
   {
    "duration": 37,
    "start_time": "2021-12-01T06:42:13.538Z"
   },
   {
    "duration": 46,
    "start_time": "2021-12-01T06:42:13.578Z"
   },
   {
    "duration": 14,
    "start_time": "2021-12-01T06:42:13.627Z"
   },
   {
    "duration": 7,
    "start_time": "2021-12-01T06:42:13.643Z"
   },
   {
    "duration": 16,
    "start_time": "2021-12-01T06:42:13.652Z"
   },
   {
    "duration": 20,
    "start_time": "2021-12-01T06:42:13.671Z"
   },
   {
    "duration": 10,
    "start_time": "2021-12-01T06:42:13.693Z"
   },
   {
    "duration": 23,
    "start_time": "2021-12-01T06:42:13.706Z"
   },
   {
    "duration": 9,
    "start_time": "2021-12-01T06:42:13.732Z"
   },
   {
    "duration": 10,
    "start_time": "2021-12-01T06:42:13.743Z"
   },
   {
    "duration": 35,
    "start_time": "2021-12-01T06:42:13.756Z"
   },
   {
    "duration": 18,
    "start_time": "2021-12-01T06:42:13.796Z"
   },
   {
    "duration": 34,
    "start_time": "2021-12-01T06:42:13.816Z"
   },
   {
    "duration": 34,
    "start_time": "2021-12-01T06:42:13.853Z"
   },
   {
    "duration": 7,
    "start_time": "2021-12-01T06:42:13.890Z"
   },
   {
    "duration": 13,
    "start_time": "2021-12-01T06:42:13.901Z"
   },
   {
    "duration": 16,
    "start_time": "2021-12-01T06:42:13.917Z"
   },
   {
    "duration": 74,
    "start_time": "2021-12-01T06:42:13.936Z"
   },
   {
    "duration": 43,
    "start_time": "2021-12-01T06:42:16.728Z"
   },
   {
    "duration": 42,
    "start_time": "2021-12-01T06:48:24.156Z"
   },
   {
    "duration": 41,
    "start_time": "2021-12-01T06:58:54.487Z"
   },
   {
    "duration": 42,
    "start_time": "2021-12-01T07:04:57.806Z"
   },
   {
    "duration": 44,
    "start_time": "2021-12-01T07:08:30.485Z"
   },
   {
    "duration": 1287,
    "start_time": "2021-12-02T01:40:30.451Z"
   },
   {
    "duration": 13,
    "start_time": "2021-12-02T01:40:31.740Z"
   },
   {
    "duration": 21,
    "start_time": "2021-12-02T01:40:33.456Z"
   },
   {
    "duration": 19,
    "start_time": "2021-12-02T01:40:35.751Z"
   },
   {
    "duration": 13,
    "start_time": "2021-12-02T01:52:40.311Z"
   },
   {
    "duration": 13,
    "start_time": "2021-12-02T01:55:31.033Z"
   },
   {
    "duration": 33,
    "start_time": "2021-12-02T01:57:31.627Z"
   },
   {
    "duration": 37,
    "start_time": "2021-12-02T01:58:20.388Z"
   },
   {
    "duration": 9,
    "start_time": "2021-12-02T02:03:45.915Z"
   },
   {
    "duration": 488,
    "start_time": "2021-12-02T02:06:53.612Z"
   },
   {
    "duration": 396,
    "start_time": "2021-12-02T02:07:03.334Z"
   },
   {
    "duration": 396,
    "start_time": "2021-12-02T02:07:16.974Z"
   },
   {
    "duration": 10,
    "start_time": "2021-12-02T02:07:23.266Z"
   },
   {
    "duration": 12,
    "start_time": "2021-12-02T02:07:46.172Z"
   },
   {
    "duration": 10,
    "start_time": "2021-12-02T02:08:02.493Z"
   },
   {
    "duration": 6,
    "start_time": "2021-12-02T02:08:16.215Z"
   },
   {
    "duration": 23,
    "start_time": "2021-12-02T02:15:04.463Z"
   },
   {
    "duration": 222,
    "start_time": "2021-12-02T06:33:39.650Z"
   },
   {
    "duration": 773,
    "start_time": "2021-12-02T06:33:51.367Z"
   },
   {
    "duration": 14,
    "start_time": "2021-12-02T06:33:52.142Z"
   },
   {
    "duration": 15,
    "start_time": "2021-12-02T06:33:52.158Z"
   },
   {
    "duration": 10,
    "start_time": "2021-12-02T06:33:52.175Z"
   },
   {
    "duration": 10,
    "start_time": "2021-12-02T06:33:52.186Z"
   },
   {
    "duration": 23,
    "start_time": "2021-12-02T06:33:52.198Z"
   },
   {
    "duration": 23,
    "start_time": "2021-12-02T06:33:52.223Z"
   },
   {
    "duration": 57,
    "start_time": "2021-12-02T06:33:52.249Z"
   },
   {
    "duration": 32,
    "start_time": "2021-12-02T06:33:52.309Z"
   },
   {
    "duration": 50,
    "start_time": "2021-12-02T06:33:52.343Z"
   },
   {
    "duration": 6,
    "start_time": "2021-12-02T06:33:52.396Z"
   },
   {
    "duration": 26,
    "start_time": "2021-12-02T06:33:52.404Z"
   },
   {
    "duration": 13,
    "start_time": "2021-12-02T06:33:52.432Z"
   },
   {
    "duration": 47,
    "start_time": "2021-12-02T06:33:52.447Z"
   },
   {
    "duration": 14,
    "start_time": "2021-12-02T06:33:52.496Z"
   },
   {
    "duration": 12,
    "start_time": "2021-12-02T06:33:52.512Z"
   },
   {
    "duration": 12,
    "start_time": "2021-12-02T06:33:52.526Z"
   },
   {
    "duration": 8,
    "start_time": "2021-12-02T06:33:52.540Z"
   },
   {
    "duration": 49,
    "start_time": "2021-12-02T06:33:52.550Z"
   },
   {
    "duration": 11,
    "start_time": "2021-12-02T06:33:52.601Z"
   },
   {
    "duration": 12,
    "start_time": "2021-12-02T06:33:52.615Z"
   },
   {
    "duration": 9,
    "start_time": "2021-12-02T06:33:52.629Z"
   },
   {
    "duration": 51,
    "start_time": "2021-12-02T06:33:52.642Z"
   },
   {
    "duration": 42,
    "start_time": "2021-12-02T06:33:52.696Z"
   },
   {
    "duration": 5,
    "start_time": "2021-12-02T06:33:52.740Z"
   },
   {
    "duration": 14,
    "start_time": "2021-12-02T06:33:52.748Z"
   },
   {
    "duration": 52,
    "start_time": "2021-12-02T06:33:52.763Z"
   },
   {
    "duration": 23,
    "start_time": "2021-12-02T06:33:56.332Z"
   },
   {
    "duration": 14,
    "start_time": "2021-12-02T06:45:47.303Z"
   },
   {
    "duration": 4,
    "start_time": "2021-12-02T06:49:02.748Z"
   },
   {
    "duration": 5,
    "start_time": "2021-12-02T06:50:10.180Z"
   },
   {
    "duration": 555,
    "start_time": "2021-12-02T06:50:34.241Z"
   },
   {
    "duration": 7,
    "start_time": "2021-12-02T06:50:34.798Z"
   },
   {
    "duration": 23,
    "start_time": "2021-12-02T06:50:34.807Z"
   },
   {
    "duration": 20,
    "start_time": "2021-12-02T06:50:34.832Z"
   },
   {
    "duration": 28,
    "start_time": "2021-12-02T06:50:34.853Z"
   },
   {
    "duration": 39,
    "start_time": "2021-12-02T06:50:34.883Z"
   },
   {
    "duration": 32,
    "start_time": "2021-12-02T06:50:34.923Z"
   },
   {
    "duration": 22,
    "start_time": "2021-12-02T06:50:34.957Z"
   },
   {
    "duration": 19,
    "start_time": "2021-12-02T06:50:34.980Z"
   },
   {
    "duration": 26,
    "start_time": "2021-12-02T06:50:35.000Z"
   },
   {
    "duration": 13,
    "start_time": "2021-12-02T06:50:35.028Z"
   },
   {
    "duration": 40,
    "start_time": "2021-12-02T06:50:35.043Z"
   },
   {
    "duration": 23,
    "start_time": "2021-12-02T06:50:35.084Z"
   },
   {
    "duration": 22,
    "start_time": "2021-12-02T06:50:35.109Z"
   },
   {
    "duration": 26,
    "start_time": "2021-12-02T06:50:35.133Z"
   },
   {
    "duration": 28,
    "start_time": "2021-12-02T06:50:35.161Z"
   },
   {
    "duration": 19,
    "start_time": "2021-12-02T06:50:35.191Z"
   },
   {
    "duration": 28,
    "start_time": "2021-12-02T06:50:35.211Z"
   },
   {
    "duration": 28,
    "start_time": "2021-12-02T06:50:35.241Z"
   },
   {
    "duration": 23,
    "start_time": "2021-12-02T06:50:35.271Z"
   },
   {
    "duration": 22,
    "start_time": "2021-12-02T06:50:35.296Z"
   },
   {
    "duration": 24,
    "start_time": "2021-12-02T06:50:35.319Z"
   },
   {
    "duration": 35,
    "start_time": "2021-12-02T06:50:35.346Z"
   },
   {
    "duration": 37,
    "start_time": "2021-12-02T06:50:35.383Z"
   },
   {
    "duration": 4,
    "start_time": "2021-12-02T06:50:35.422Z"
   },
   {
    "duration": 19,
    "start_time": "2021-12-02T06:50:35.427Z"
   },
   {
    "duration": 39,
    "start_time": "2021-12-02T06:50:35.448Z"
   },
   {
    "duration": 36,
    "start_time": "2021-12-02T06:50:35.489Z"
   },
   {
    "duration": 20,
    "start_time": "2021-12-02T06:50:35.527Z"
   },
   {
    "duration": 26,
    "start_time": "2021-12-02T06:50:35.549Z"
   },
   {
    "duration": 19,
    "start_time": "2021-12-02T06:50:35.577Z"
   },
   {
    "duration": 20,
    "start_time": "2021-12-02T06:50:35.597Z"
   },
   {
    "duration": 25,
    "start_time": "2021-12-02T06:50:35.619Z"
   },
   {
    "duration": 24,
    "start_time": "2021-12-02T06:50:35.645Z"
   },
   {
    "duration": 29,
    "start_time": "2021-12-02T06:50:35.671Z"
   },
   {
    "duration": 33,
    "start_time": "2021-12-02T06:50:35.702Z"
   },
   {
    "duration": 20,
    "start_time": "2021-12-02T06:50:35.737Z"
   },
   {
    "duration": 25,
    "start_time": "2021-12-02T06:50:35.759Z"
   },
   {
    "duration": 29,
    "start_time": "2021-12-02T06:50:35.786Z"
   },
   {
    "duration": 26,
    "start_time": "2021-12-02T06:50:35.817Z"
   },
   {
    "duration": 27,
    "start_time": "2021-12-02T06:50:35.844Z"
   },
   {
    "duration": 16,
    "start_time": "2021-12-02T06:50:35.873Z"
   },
   {
    "duration": 13,
    "start_time": "2021-12-02T06:50:35.891Z"
   },
   {
    "duration": 16,
    "start_time": "2021-12-02T06:50:35.906Z"
   },
   {
    "duration": 24,
    "start_time": "2021-12-02T06:50:35.924Z"
   },
   {
    "duration": 25,
    "start_time": "2021-12-02T06:50:35.949Z"
   },
   {
    "duration": 18,
    "start_time": "2021-12-02T06:50:35.975Z"
   },
   {
    "duration": 5,
    "start_time": "2021-12-02T06:50:40.175Z"
   },
   {
    "duration": 3,
    "start_time": "2021-12-02T06:55:09.673Z"
   },
   {
    "duration": 5,
    "start_time": "2021-12-02T07:14:42.435Z"
   },
   {
    "duration": 4,
    "start_time": "2021-12-02T07:14:49.488Z"
   },
   {
    "duration": 223,
    "start_time": "2021-12-03T06:31:47.129Z"
   },
   {
    "duration": 865,
    "start_time": "2021-12-03T06:31:52.155Z"
   },
   {
    "duration": 9,
    "start_time": "2021-12-03T06:31:53.022Z"
   },
   {
    "duration": 15,
    "start_time": "2021-12-03T06:31:53.033Z"
   },
   {
    "duration": 12,
    "start_time": "2021-12-03T06:31:53.050Z"
   },
   {
    "duration": 14,
    "start_time": "2021-12-03T06:31:53.063Z"
   },
   {
    "duration": 36,
    "start_time": "2021-12-03T06:31:53.078Z"
   },
   {
    "duration": 22,
    "start_time": "2021-12-03T06:31:53.116Z"
   },
   {
    "duration": 52,
    "start_time": "2021-12-03T06:31:53.141Z"
   },
   {
    "duration": 22,
    "start_time": "2021-12-03T06:31:53.196Z"
   },
   {
    "duration": 21,
    "start_time": "2021-12-03T06:31:53.220Z"
   },
   {
    "duration": 4,
    "start_time": "2021-12-03T06:31:53.242Z"
   },
   {
    "duration": 47,
    "start_time": "2021-12-03T06:31:53.248Z"
   },
   {
    "duration": 8,
    "start_time": "2021-12-03T06:31:53.297Z"
   },
   {
    "duration": 11,
    "start_time": "2021-12-03T06:31:53.306Z"
   },
   {
    "duration": 14,
    "start_time": "2021-12-03T06:31:53.318Z"
   },
   {
    "duration": 8,
    "start_time": "2021-12-03T06:31:53.333Z"
   },
   {
    "duration": 8,
    "start_time": "2021-12-03T06:31:53.342Z"
   },
   {
    "duration": 7,
    "start_time": "2021-12-03T06:31:53.351Z"
   },
   {
    "duration": 39,
    "start_time": "2021-12-03T06:31:53.360Z"
   },
   {
    "duration": 7,
    "start_time": "2021-12-03T06:31:53.401Z"
   },
   {
    "duration": 10,
    "start_time": "2021-12-03T06:31:53.409Z"
   },
   {
    "duration": 6,
    "start_time": "2021-12-03T06:31:53.420Z"
   },
   {
    "duration": 13,
    "start_time": "2021-12-03T06:31:53.428Z"
   },
   {
    "duration": 56,
    "start_time": "2021-12-03T06:31:53.442Z"
   },
   {
    "duration": 3,
    "start_time": "2021-12-03T06:31:53.500Z"
   },
   {
    "duration": 15,
    "start_time": "2021-12-03T06:31:53.504Z"
   },
   {
    "duration": 16,
    "start_time": "2021-12-03T06:31:53.520Z"
   },
   {
    "duration": 15,
    "start_time": "2021-12-03T06:31:53.538Z"
   },
   {
    "duration": 38,
    "start_time": "2021-12-03T06:31:53.554Z"
   },
   {
    "duration": 9,
    "start_time": "2021-12-03T06:31:56.482Z"
   },
   {
    "duration": 65,
    "start_time": "2021-12-03T06:33:14.850Z"
   },
   {
    "duration": 7,
    "start_time": "2021-12-03T06:33:19.263Z"
   },
   {
    "duration": 8,
    "start_time": "2021-12-03T06:33:25.743Z"
   },
   {
    "duration": 16,
    "start_time": "2021-12-03T06:48:31.413Z"
   },
   {
    "duration": 569,
    "start_time": "2021-12-03T07:17:20.138Z"
   },
   {
    "duration": 8,
    "start_time": "2021-12-03T07:17:20.709Z"
   },
   {
    "duration": 38,
    "start_time": "2021-12-03T07:17:20.719Z"
   },
   {
    "duration": 27,
    "start_time": "2021-12-03T07:17:20.759Z"
   },
   {
    "duration": 34,
    "start_time": "2021-12-03T07:17:20.788Z"
   },
   {
    "duration": 27,
    "start_time": "2021-12-03T07:17:20.824Z"
   },
   {
    "duration": 36,
    "start_time": "2021-12-03T07:17:20.853Z"
   },
   {
    "duration": 37,
    "start_time": "2021-12-03T07:17:20.893Z"
   },
   {
    "duration": 25,
    "start_time": "2021-12-03T07:17:20.931Z"
   },
   {
    "duration": 39,
    "start_time": "2021-12-03T07:17:20.958Z"
   },
   {
    "duration": 5,
    "start_time": "2021-12-03T07:17:20.998Z"
   },
   {
    "duration": 38,
    "start_time": "2021-12-03T07:17:21.004Z"
   },
   {
    "duration": 12,
    "start_time": "2021-12-03T07:17:21.043Z"
   },
   {
    "duration": 34,
    "start_time": "2021-12-03T07:17:21.056Z"
   },
   {
    "duration": 20,
    "start_time": "2021-12-03T07:17:21.092Z"
   },
   {
    "duration": 23,
    "start_time": "2021-12-03T07:17:21.113Z"
   },
   {
    "duration": 31,
    "start_time": "2021-12-03T07:17:21.137Z"
   },
   {
    "duration": 23,
    "start_time": "2021-12-03T07:17:21.170Z"
   },
   {
    "duration": 36,
    "start_time": "2021-12-03T07:17:21.194Z"
   },
   {
    "duration": 20,
    "start_time": "2021-12-03T07:17:21.231Z"
   },
   {
    "duration": 37,
    "start_time": "2021-12-03T07:17:21.252Z"
   },
   {
    "duration": 20,
    "start_time": "2021-12-03T07:17:21.291Z"
   },
   {
    "duration": 29,
    "start_time": "2021-12-03T07:17:21.314Z"
   },
   {
    "duration": 47,
    "start_time": "2021-12-03T07:17:21.346Z"
   },
   {
    "duration": 7,
    "start_time": "2021-12-03T07:17:21.395Z"
   },
   {
    "duration": 38,
    "start_time": "2021-12-03T07:17:21.404Z"
   },
   {
    "duration": 41,
    "start_time": "2021-12-03T07:17:21.444Z"
   },
   {
    "duration": 41,
    "start_time": "2021-12-03T07:17:21.486Z"
   },
   {
    "duration": 27,
    "start_time": "2021-12-03T07:17:21.529Z"
   },
   {
    "duration": 25,
    "start_time": "2021-12-03T07:17:21.557Z"
   },
   {
    "duration": 31,
    "start_time": "2021-12-03T07:17:21.583Z"
   },
   {
    "duration": 37,
    "start_time": "2021-12-03T07:17:21.615Z"
   },
   {
    "duration": 20,
    "start_time": "2021-12-03T07:17:21.654Z"
   },
   {
    "duration": 26,
    "start_time": "2021-12-03T07:17:21.675Z"
   },
   {
    "duration": 32,
    "start_time": "2021-12-03T07:17:21.703Z"
   },
   {
    "duration": 33,
    "start_time": "2021-12-03T07:17:21.736Z"
   },
   {
    "duration": 23,
    "start_time": "2021-12-03T07:17:21.771Z"
   },
   {
    "duration": 23,
    "start_time": "2021-12-03T07:17:21.796Z"
   },
   {
    "duration": 31,
    "start_time": "2021-12-03T07:17:21.820Z"
   },
   {
    "duration": 31,
    "start_time": "2021-12-03T07:17:21.852Z"
   },
   {
    "duration": 16,
    "start_time": "2021-12-03T07:17:21.885Z"
   },
   {
    "duration": 19,
    "start_time": "2021-12-03T07:17:21.902Z"
   },
   {
    "duration": 23,
    "start_time": "2021-12-03T07:17:21.922Z"
   },
   {
    "duration": 22,
    "start_time": "2021-12-03T07:17:21.947Z"
   },
   {
    "duration": 22,
    "start_time": "2021-12-03T07:17:21.971Z"
   },
   {
    "duration": 32,
    "start_time": "2021-12-03T07:17:21.995Z"
   },
   {
    "duration": 15,
    "start_time": "2021-12-03T07:17:22.029Z"
   },
   {
    "duration": 12,
    "start_time": "2021-12-03T07:17:22.046Z"
   },
   {
    "duration": 19,
    "start_time": "2021-12-03T07:17:22.059Z"
   },
   {
    "duration": 16,
    "start_time": "2021-12-03T07:17:22.080Z"
   },
   {
    "duration": 23,
    "start_time": "2021-12-03T07:17:22.097Z"
   },
   {
    "duration": 46,
    "start_time": "2021-12-03T07:17:22.122Z"
   },
   {
    "duration": 17,
    "start_time": "2021-12-03T07:17:22.169Z"
   },
   {
    "duration": 24,
    "start_time": "2021-12-03T07:17:22.187Z"
   },
   {
    "duration": 8,
    "start_time": "2021-12-03T07:17:22.212Z"
   },
   {
    "duration": 22,
    "start_time": "2021-12-03T07:17:22.222Z"
   },
   {
    "duration": 50,
    "start_time": "2021-12-03T07:17:22.246Z"
   },
   {
    "duration": 12,
    "start_time": "2021-12-03T07:17:22.298Z"
   },
   {
    "duration": 12,
    "start_time": "2021-12-03T07:17:22.312Z"
   },
   {
    "duration": 22,
    "start_time": "2021-12-03T07:17:22.325Z"
   },
   {
    "duration": 24,
    "start_time": "2021-12-03T07:17:22.348Z"
   },
   {
    "duration": 49,
    "start_time": "2021-12-03T07:17:22.373Z"
   },
   {
    "duration": 30,
    "start_time": "2021-12-03T07:17:22.424Z"
   },
   {
    "duration": 27,
    "start_time": "2021-12-03T07:17:22.456Z"
   },
   {
    "duration": 32,
    "start_time": "2021-12-03T07:17:22.484Z"
   },
   {
    "duration": 27,
    "start_time": "2021-12-03T07:17:22.517Z"
   },
   {
    "duration": 67,
    "start_time": "2021-12-03T11:14:23.476Z"
   }
  ],
  "kernelspec": {
   "display_name": "Python 3 (ipykernel)",
   "language": "python",
   "name": "python3"
  },
  "language_info": {
   "codemirror_mode": {
    "name": "ipython",
    "version": 3
   },
   "file_extension": ".py",
   "mimetype": "text/x-python",
   "name": "python",
   "nbconvert_exporter": "python",
   "pygments_lexer": "ipython3",
   "version": "3.9.7"
  },
  "toc": {
   "base_numbering": 1,
   "nav_menu": {},
   "number_sections": false,
   "sideBar": true,
   "skip_h1_title": true,
   "title_cell": "Table of Contents",
   "title_sidebar": "Contents",
   "toc_cell": false,
   "toc_position": {
    "height": "calc(100% - 180px)",
    "left": "10px",
    "top": "150px",
    "width": "289.6px"
   },
   "toc_section_display": true,
   "toc_window_display": false
  }
 },
 "nbformat": 4,
 "nbformat_minor": 2
}
