{
 "cells": [
  {
   "cell_type": "markdown",
   "metadata": {},
   "source": [
    "# Choosing better prepaid plan"
   ]
  },
  {
   "cell_type": "markdown",
   "metadata": {},
   "source": [
    "# Contents\n",
    "\n",
    "* [Introduction](#intro)\n",
    "* [Stage 1. Data preparation](#data_prep)    \n",
    "* [Stage 2. Data aggregation](#data_aggr)\n",
    "* [Stage 3. Users' bavaviours studying](#data_stud)\n",
    "* [Stage 4. Statistical hypotheses testing](#data_test)\n",
    "* [General Conclusion](#conclusion)"
   ]
  },
  {
   "cell_type": "markdown",
   "metadata": {},
   "source": [
    "# Introduction <a id='intro'></a>\n",
    "In this project, we will carry out a preliminary analysis of the plans based on a relatively small client selection. The selection contains information about 500 clients including who the clients are, where they're from, which plan they use, and the number of calls they made and text messages they sent in 2018. We will analyze the clients' behavior and determine which prepaid plan brings in more revenue.\n",
    "\n",
    "### Stages \n",
    "We do not have information about the quality of the data, therefore, we would need to examine and prepare the data before conducting the research.\n",
    "Firstly, we will prepare the data by evaluating the quality of the data, identifying if there are any significant issues that need to be addressed, addressing the issues with the data, and enriching the data. Secondly, we will aggregate the data per user to ease further analysis. Then, we will study and compare the behaviors of the users of both plans. Finally, we will test statistical hypotheses about revenue driven by different plans and by different user categories.\n",
    "The project will consist of four stages:\n",
    "1.\tData preparation\n",
    "2.\tData aggregation\n",
    "3.\tUsers' behaviors studying\n",
    "4.\tStatistical hypotheses testing\n",
    "\n"
   ]
  },
  {
   "cell_type": "markdown",
   "metadata": {},
   "source": [
    "# Stage 1: Data preparation <a id='data_prep'></a>"
   ]
  },
  {
   "cell_type": "markdown",
   "metadata": {},
   "source": [
    "First of all, will load the data and the libraries that we will use in this project."
   ]
  },
  {
   "cell_type": "code",
   "execution_count": 1,
   "metadata": {},
   "outputs": [],
   "source": [
    "# Loading all required libraries\n",
    "import pandas as pd\n",
    "from scipy import stats as st\n",
    "import numpy as np\n",
    "import matplotlib.pyplot as plt"
   ]
  },
  {
   "cell_type": "code",
   "execution_count": 2,
   "metadata": {},
   "outputs": [],
   "source": [
    "# Loading the data files into different DataFrames\n",
    "calls=pd.read_csv('/datasets/megaline_calls.csv')\n",
    "internet=pd.read_csv('/datasets/megaline_internet.csv')\n",
    "messages=pd.read_csv('/datasets/megaline_messages.csv')\n",
    "plans=pd.read_csv('/datasets/megaline_plans.csv')\n",
    "users=pd.read_csv('/datasets/megaline_users.csv')\n"
   ]
  },
  {
   "cell_type": "markdown",
   "metadata": {},
   "source": [
    "Next, we will prepare the data table by table. We will evaluate the quality of the data in each table, identify if there are any significant issues that need to be addressed, address the issues with the data if there are any, and enrich the data."
   ]
  },
  {
   "cell_type": "markdown",
   "metadata": {},
   "source": [
    "## Plans\n",
    "\n",
    "We will display general data info and a sample of the data from the `plans` table."
   ]
  },
  {
   "cell_type": "code",
   "execution_count": 3,
   "metadata": {},
   "outputs": [
    {
     "name": "stdout",
     "output_type": "stream",
     "text": [
      "<class 'pandas.core.frame.DataFrame'>\n",
      "RangeIndex: 2 entries, 0 to 1\n",
      "Data columns (total 8 columns):\n",
      " #   Column                 Non-Null Count  Dtype  \n",
      "---  ------                 --------------  -----  \n",
      " 0   messages_included      2 non-null      int64  \n",
      " 1   mb_per_month_included  2 non-null      int64  \n",
      " 2   minutes_included       2 non-null      int64  \n",
      " 3   usd_monthly_pay        2 non-null      int64  \n",
      " 4   usd_per_gb             2 non-null      int64  \n",
      " 5   usd_per_message        2 non-null      float64\n",
      " 6   usd_per_minute         2 non-null      float64\n",
      " 7   plan_name              2 non-null      object \n",
      "dtypes: float64(2), int64(5), object(1)\n",
      "memory usage: 256.0+ bytes\n"
     ]
    }
   ],
   "source": [
    "# Printing the general/summary information about the plans' DataFrame\n",
    "plans.info()"
   ]
  },
  {
   "cell_type": "code",
   "execution_count": 4,
   "metadata": {},
   "outputs": [
    {
     "data": {
      "text/html": [
       "<div>\n",
       "<style scoped>\n",
       "    .dataframe tbody tr th:only-of-type {\n",
       "        vertical-align: middle;\n",
       "    }\n",
       "\n",
       "    .dataframe tbody tr th {\n",
       "        vertical-align: top;\n",
       "    }\n",
       "\n",
       "    .dataframe thead th {\n",
       "        text-align: right;\n",
       "    }\n",
       "</style>\n",
       "<table border=\"1\" class=\"dataframe\">\n",
       "  <thead>\n",
       "    <tr style=\"text-align: right;\">\n",
       "      <th></th>\n",
       "      <th>messages_included</th>\n",
       "      <th>mb_per_month_included</th>\n",
       "      <th>minutes_included</th>\n",
       "      <th>usd_monthly_pay</th>\n",
       "      <th>usd_per_gb</th>\n",
       "      <th>usd_per_message</th>\n",
       "      <th>usd_per_minute</th>\n",
       "      <th>plan_name</th>\n",
       "    </tr>\n",
       "  </thead>\n",
       "  <tbody>\n",
       "    <tr>\n",
       "      <th>0</th>\n",
       "      <td>50</td>\n",
       "      <td>15360</td>\n",
       "      <td>500</td>\n",
       "      <td>20</td>\n",
       "      <td>10</td>\n",
       "      <td>0.03</td>\n",
       "      <td>0.03</td>\n",
       "      <td>surf</td>\n",
       "    </tr>\n",
       "    <tr>\n",
       "      <th>1</th>\n",
       "      <td>1000</td>\n",
       "      <td>30720</td>\n",
       "      <td>3000</td>\n",
       "      <td>70</td>\n",
       "      <td>7</td>\n",
       "      <td>0.01</td>\n",
       "      <td>0.01</td>\n",
       "      <td>ultimate</td>\n",
       "    </tr>\n",
       "  </tbody>\n",
       "</table>\n",
       "</div>"
      ],
      "text/plain": [
       "   messages_included  mb_per_month_included  minutes_included  \\\n",
       "0                 50                  15360               500   \n",
       "1               1000                  30720              3000   \n",
       "\n",
       "   usd_monthly_pay  usd_per_gb  usd_per_message  usd_per_minute plan_name  \n",
       "0               20          10             0.03            0.03      surf  \n",
       "1               70           7             0.01            0.01  ultimate  "
      ]
     },
     "execution_count": 4,
     "metadata": {},
     "output_type": "execute_result"
    }
   ],
   "source": [
    "# Printing a sample of data for plans\n",
    "plans"
   ]
  },
  {
   "cell_type": "markdown",
   "metadata": {},
   "source": [
    "According to the documentation and as can be seen, the table contains information about two prepaid plans including plan name, monthly charge in US dollars, monthly minute allowance, monthly text allowance, data volume allowance (in megabytes), price per minute after exceeding the package limits, price per text after exceeding the package limits, and price per extra gigabyte of data after exceeding the package limits.\n",
    "\n",
    "There are no visible issues with the data in this table. All columns look to be in the correct format. We will leave it as it is."
   ]
  },
  {
   "cell_type": "markdown",
   "metadata": {},
   "source": [
    "## Users\n",
    "\n",
    "We will display general data info and a sample of the data from the `users` table."
   ]
  },
  {
   "cell_type": "code",
   "execution_count": 5,
   "metadata": {},
   "outputs": [
    {
     "name": "stdout",
     "output_type": "stream",
     "text": [
      "<class 'pandas.core.frame.DataFrame'>\n",
      "RangeIndex: 500 entries, 0 to 499\n",
      "Data columns (total 8 columns):\n",
      " #   Column      Non-Null Count  Dtype \n",
      "---  ------      --------------  ----- \n",
      " 0   user_id     500 non-null    int64 \n",
      " 1   first_name  500 non-null    object\n",
      " 2   last_name   500 non-null    object\n",
      " 3   age         500 non-null    int64 \n",
      " 4   city        500 non-null    object\n",
      " 5   reg_date    500 non-null    object\n",
      " 6   plan        500 non-null    object\n",
      " 7   churn_date  34 non-null     object\n",
      "dtypes: int64(2), object(6)\n",
      "memory usage: 31.4+ KB\n"
     ]
    }
   ],
   "source": [
    "# Printing the general/summary information about the users' DataFrame\n",
    "users.info()"
   ]
  },
  {
   "cell_type": "code",
   "execution_count": 6,
   "metadata": {},
   "outputs": [
    {
     "data": {
      "text/html": [
       "<div>\n",
       "<style scoped>\n",
       "    .dataframe tbody tr th:only-of-type {\n",
       "        vertical-align: middle;\n",
       "    }\n",
       "\n",
       "    .dataframe tbody tr th {\n",
       "        vertical-align: top;\n",
       "    }\n",
       "\n",
       "    .dataframe thead th {\n",
       "        text-align: right;\n",
       "    }\n",
       "</style>\n",
       "<table border=\"1\" class=\"dataframe\">\n",
       "  <thead>\n",
       "    <tr style=\"text-align: right;\">\n",
       "      <th></th>\n",
       "      <th>user_id</th>\n",
       "      <th>first_name</th>\n",
       "      <th>last_name</th>\n",
       "      <th>age</th>\n",
       "      <th>city</th>\n",
       "      <th>reg_date</th>\n",
       "      <th>plan</th>\n",
       "      <th>churn_date</th>\n",
       "    </tr>\n",
       "  </thead>\n",
       "  <tbody>\n",
       "    <tr>\n",
       "      <th>0</th>\n",
       "      <td>1000</td>\n",
       "      <td>Anamaria</td>\n",
       "      <td>Bauer</td>\n",
       "      <td>45</td>\n",
       "      <td>Atlanta-Sandy Springs-Roswell, GA MSA</td>\n",
       "      <td>2018-12-24</td>\n",
       "      <td>ultimate</td>\n",
       "      <td>NaN</td>\n",
       "    </tr>\n",
       "    <tr>\n",
       "      <th>1</th>\n",
       "      <td>1001</td>\n",
       "      <td>Mickey</td>\n",
       "      <td>Wilkerson</td>\n",
       "      <td>28</td>\n",
       "      <td>Seattle-Tacoma-Bellevue, WA MSA</td>\n",
       "      <td>2018-08-13</td>\n",
       "      <td>surf</td>\n",
       "      <td>NaN</td>\n",
       "    </tr>\n",
       "    <tr>\n",
       "      <th>2</th>\n",
       "      <td>1002</td>\n",
       "      <td>Carlee</td>\n",
       "      <td>Hoffman</td>\n",
       "      <td>36</td>\n",
       "      <td>Las Vegas-Henderson-Paradise, NV MSA</td>\n",
       "      <td>2018-10-21</td>\n",
       "      <td>surf</td>\n",
       "      <td>NaN</td>\n",
       "    </tr>\n",
       "    <tr>\n",
       "      <th>3</th>\n",
       "      <td>1003</td>\n",
       "      <td>Reynaldo</td>\n",
       "      <td>Jenkins</td>\n",
       "      <td>52</td>\n",
       "      <td>Tulsa, OK MSA</td>\n",
       "      <td>2018-01-28</td>\n",
       "      <td>surf</td>\n",
       "      <td>NaN</td>\n",
       "    </tr>\n",
       "    <tr>\n",
       "      <th>4</th>\n",
       "      <td>1004</td>\n",
       "      <td>Leonila</td>\n",
       "      <td>Thompson</td>\n",
       "      <td>40</td>\n",
       "      <td>Seattle-Tacoma-Bellevue, WA MSA</td>\n",
       "      <td>2018-05-23</td>\n",
       "      <td>surf</td>\n",
       "      <td>NaN</td>\n",
       "    </tr>\n",
       "    <tr>\n",
       "      <th>5</th>\n",
       "      <td>1005</td>\n",
       "      <td>Livia</td>\n",
       "      <td>Shields</td>\n",
       "      <td>31</td>\n",
       "      <td>Dallas-Fort Worth-Arlington, TX MSA</td>\n",
       "      <td>2018-11-29</td>\n",
       "      <td>surf</td>\n",
       "      <td>NaN</td>\n",
       "    </tr>\n",
       "    <tr>\n",
       "      <th>6</th>\n",
       "      <td>1006</td>\n",
       "      <td>Jesusa</td>\n",
       "      <td>Bradford</td>\n",
       "      <td>73</td>\n",
       "      <td>San Francisco-Oakland-Berkeley, CA MSA</td>\n",
       "      <td>2018-11-27</td>\n",
       "      <td>ultimate</td>\n",
       "      <td>2018-12-18</td>\n",
       "    </tr>\n",
       "    <tr>\n",
       "      <th>7</th>\n",
       "      <td>1007</td>\n",
       "      <td>Eusebio</td>\n",
       "      <td>Welch</td>\n",
       "      <td>42</td>\n",
       "      <td>Grand Rapids-Kentwood, MI MSA</td>\n",
       "      <td>2018-07-11</td>\n",
       "      <td>surf</td>\n",
       "      <td>NaN</td>\n",
       "    </tr>\n",
       "    <tr>\n",
       "      <th>8</th>\n",
       "      <td>1008</td>\n",
       "      <td>Emely</td>\n",
       "      <td>Hoffman</td>\n",
       "      <td>53</td>\n",
       "      <td>Orlando-Kissimmee-Sanford, FL MSA</td>\n",
       "      <td>2018-08-03</td>\n",
       "      <td>ultimate</td>\n",
       "      <td>NaN</td>\n",
       "    </tr>\n",
       "    <tr>\n",
       "      <th>9</th>\n",
       "      <td>1009</td>\n",
       "      <td>Gerry</td>\n",
       "      <td>Little</td>\n",
       "      <td>19</td>\n",
       "      <td>San Jose-Sunnyvale-Santa Clara, CA MSA</td>\n",
       "      <td>2018-04-22</td>\n",
       "      <td>surf</td>\n",
       "      <td>NaN</td>\n",
       "    </tr>\n",
       "  </tbody>\n",
       "</table>\n",
       "</div>"
      ],
      "text/plain": [
       "   user_id first_name  last_name  age                                    city  \\\n",
       "0     1000   Anamaria      Bauer   45   Atlanta-Sandy Springs-Roswell, GA MSA   \n",
       "1     1001     Mickey  Wilkerson   28         Seattle-Tacoma-Bellevue, WA MSA   \n",
       "2     1002     Carlee    Hoffman   36    Las Vegas-Henderson-Paradise, NV MSA   \n",
       "3     1003   Reynaldo    Jenkins   52                           Tulsa, OK MSA   \n",
       "4     1004    Leonila   Thompson   40         Seattle-Tacoma-Bellevue, WA MSA   \n",
       "5     1005      Livia    Shields   31     Dallas-Fort Worth-Arlington, TX MSA   \n",
       "6     1006     Jesusa   Bradford   73  San Francisco-Oakland-Berkeley, CA MSA   \n",
       "7     1007    Eusebio      Welch   42           Grand Rapids-Kentwood, MI MSA   \n",
       "8     1008      Emely    Hoffman   53       Orlando-Kissimmee-Sanford, FL MSA   \n",
       "9     1009      Gerry     Little   19  San Jose-Sunnyvale-Santa Clara, CA MSA   \n",
       "\n",
       "     reg_date      plan  churn_date  \n",
       "0  2018-12-24  ultimate         NaN  \n",
       "1  2018-08-13      surf         NaN  \n",
       "2  2018-10-21      surf         NaN  \n",
       "3  2018-01-28      surf         NaN  \n",
       "4  2018-05-23      surf         NaN  \n",
       "5  2018-11-29      surf         NaN  \n",
       "6  2018-11-27  ultimate  2018-12-18  \n",
       "7  2018-07-11      surf         NaN  \n",
       "8  2018-08-03  ultimate         NaN  \n",
       "9  2018-04-22      surf         NaN  "
      ]
     },
     "execution_count": 6,
     "metadata": {},
     "output_type": "execute_result"
    }
   ],
   "source": [
    "# Printing a sample of data for users\n",
    "users.head(10)"
   ]
  },
  {
   "cell_type": "markdown",
   "metadata": {},
   "source": [
    "According to the documentation and as can be seen, the table contains information about the users including a unique user identifier, user's name, user's last name, user's age in years, subscription date (in dd, mm, yy format), the date the user stopped using the service (if the value is missing, the calling plan was being used when this database was extracted), user's city of residence, and plan name they are subscribed for. \n",
    "\n",
    "As can be seen, `reg_date` and `churn_date` columns have incorrect types, so it needs to be fixed. Also, churn_date is populated only for 34 users as other users had been using the calling plans when this database was extracted. In our analysis, we will need to calculate the duration of how long the customers were using the plans. To make it simpler and take into consideration that the data was collected for the entire year 2018, we will fill missing values in the `churn_date` column with the last day of the year 2018. \n",
    "\n",
    "Then, to ease the further calculations we will add the mentioned above duration column. In addition, will add a column that will contain data about the users’ regions."
   ]
  },
  {
   "cell_type": "markdown",
   "metadata": {},
   "source": [
    " "
   ]
  },
  {
   "cell_type": "markdown",
   "metadata": {},
   "source": [
    "### Fixing the Data"
   ]
  },
  {
   "cell_type": "markdown",
   "metadata": {},
   "source": [
    "As stated above, we will fill missing values in churn_date column with the last day of the year 2018. Then we will fix the format for the `reg_date` and `churn_date` columns."
   ]
  },
  {
   "cell_type": "code",
   "execution_count": 7,
   "metadata": {},
   "outputs": [],
   "source": [
    "#filling missing values in churn_date column with the last day on year 2018\n",
    "users['churn_date']=users['churn_date'].fillna('2018-12-31')\n",
    "\n",
    "#fixing the format for we reg_date and churn_date columns\n",
    "users['reg_date']=pd.to_datetime(users['reg_date'], format='%Y-%m-%d') \n",
    "users['churn_date']=pd.to_datetime(users['churn_date'], format='%Y-%m-%d') "
   ]
  },
  {
   "cell_type": "markdown",
   "metadata": {},
   "source": [
    "Let's check that the issues were fixed."
   ]
  },
  {
   "cell_type": "code",
   "execution_count": 8,
   "metadata": {},
   "outputs": [
    {
     "name": "stdout",
     "output_type": "stream",
     "text": [
      "<class 'pandas.core.frame.DataFrame'>\n",
      "RangeIndex: 500 entries, 0 to 499\n",
      "Data columns (total 8 columns):\n",
      " #   Column      Non-Null Count  Dtype         \n",
      "---  ------      --------------  -----         \n",
      " 0   user_id     500 non-null    int64         \n",
      " 1   first_name  500 non-null    object        \n",
      " 2   last_name   500 non-null    object        \n",
      " 3   age         500 non-null    int64         \n",
      " 4   city        500 non-null    object        \n",
      " 5   reg_date    500 non-null    datetime64[ns]\n",
      " 6   plan        500 non-null    object        \n",
      " 7   churn_date  500 non-null    datetime64[ns]\n",
      "dtypes: datetime64[ns](2), int64(2), object(4)\n",
      "memory usage: 31.4+ KB\n",
      "None\n"
     ]
    },
    {
     "data": {
      "text/html": [
       "<div>\n",
       "<style scoped>\n",
       "    .dataframe tbody tr th:only-of-type {\n",
       "        vertical-align: middle;\n",
       "    }\n",
       "\n",
       "    .dataframe tbody tr th {\n",
       "        vertical-align: top;\n",
       "    }\n",
       "\n",
       "    .dataframe thead th {\n",
       "        text-align: right;\n",
       "    }\n",
       "</style>\n",
       "<table border=\"1\" class=\"dataframe\">\n",
       "  <thead>\n",
       "    <tr style=\"text-align: right;\">\n",
       "      <th></th>\n",
       "      <th>user_id</th>\n",
       "      <th>first_name</th>\n",
       "      <th>last_name</th>\n",
       "      <th>age</th>\n",
       "      <th>city</th>\n",
       "      <th>reg_date</th>\n",
       "      <th>plan</th>\n",
       "      <th>churn_date</th>\n",
       "    </tr>\n",
       "  </thead>\n",
       "  <tbody>\n",
       "    <tr>\n",
       "      <th>0</th>\n",
       "      <td>1000</td>\n",
       "      <td>Anamaria</td>\n",
       "      <td>Bauer</td>\n",
       "      <td>45</td>\n",
       "      <td>Atlanta-Sandy Springs-Roswell, GA MSA</td>\n",
       "      <td>2018-12-24</td>\n",
       "      <td>ultimate</td>\n",
       "      <td>2018-12-31</td>\n",
       "    </tr>\n",
       "    <tr>\n",
       "      <th>1</th>\n",
       "      <td>1001</td>\n",
       "      <td>Mickey</td>\n",
       "      <td>Wilkerson</td>\n",
       "      <td>28</td>\n",
       "      <td>Seattle-Tacoma-Bellevue, WA MSA</td>\n",
       "      <td>2018-08-13</td>\n",
       "      <td>surf</td>\n",
       "      <td>2018-12-31</td>\n",
       "    </tr>\n",
       "    <tr>\n",
       "      <th>2</th>\n",
       "      <td>1002</td>\n",
       "      <td>Carlee</td>\n",
       "      <td>Hoffman</td>\n",
       "      <td>36</td>\n",
       "      <td>Las Vegas-Henderson-Paradise, NV MSA</td>\n",
       "      <td>2018-10-21</td>\n",
       "      <td>surf</td>\n",
       "      <td>2018-12-31</td>\n",
       "    </tr>\n",
       "    <tr>\n",
       "      <th>3</th>\n",
       "      <td>1003</td>\n",
       "      <td>Reynaldo</td>\n",
       "      <td>Jenkins</td>\n",
       "      <td>52</td>\n",
       "      <td>Tulsa, OK MSA</td>\n",
       "      <td>2018-01-28</td>\n",
       "      <td>surf</td>\n",
       "      <td>2018-12-31</td>\n",
       "    </tr>\n",
       "    <tr>\n",
       "      <th>4</th>\n",
       "      <td>1004</td>\n",
       "      <td>Leonila</td>\n",
       "      <td>Thompson</td>\n",
       "      <td>40</td>\n",
       "      <td>Seattle-Tacoma-Bellevue, WA MSA</td>\n",
       "      <td>2018-05-23</td>\n",
       "      <td>surf</td>\n",
       "      <td>2018-12-31</td>\n",
       "    </tr>\n",
       "  </tbody>\n",
       "</table>\n",
       "</div>"
      ],
      "text/plain": [
       "   user_id first_name  last_name  age                                   city  \\\n",
       "0     1000   Anamaria      Bauer   45  Atlanta-Sandy Springs-Roswell, GA MSA   \n",
       "1     1001     Mickey  Wilkerson   28        Seattle-Tacoma-Bellevue, WA MSA   \n",
       "2     1002     Carlee    Hoffman   36   Las Vegas-Henderson-Paradise, NV MSA   \n",
       "3     1003   Reynaldo    Jenkins   52                          Tulsa, OK MSA   \n",
       "4     1004    Leonila   Thompson   40        Seattle-Tacoma-Bellevue, WA MSA   \n",
       "\n",
       "    reg_date      plan churn_date  \n",
       "0 2018-12-24  ultimate 2018-12-31  \n",
       "1 2018-08-13      surf 2018-12-31  \n",
       "2 2018-10-21      surf 2018-12-31  \n",
       "3 2018-01-28      surf 2018-12-31  \n",
       "4 2018-05-23      surf 2018-12-31  "
      ]
     },
     "execution_count": 8,
     "metadata": {},
     "output_type": "execute_result"
    }
   ],
   "source": [
    "# Printing the general/summary information about the users' DataFrame\n",
    "print(users.info())\n",
    "\n",
    "# Printing a sample of data for users\n",
    "users.head()"
   ]
  },
  {
   "cell_type": "markdown",
   "metadata": {},
   "source": [
    "The issue looks to be fixed. Next, we will enrich the data in the users table."
   ]
  },
  {
   "cell_type": "markdown",
   "metadata": {},
   "source": [
    "### Enriching Data"
   ]
  },
  {
   "cell_type": "markdown",
   "metadata": {},
   "source": [
    "To ease the further calculations, we will add the `duration` column. This column will contain information about how many months a customer used a plan. For simplicity, we will assume that the billing date for all users is the first calendar day of each month. When a user subscribes to a plan, we consider him to be a user of the plan for that whole month. A similar applies to the month when the user stopped using the service. Therefore, to calculate the duration we will subtract registration month from churn month and add 1 to it."
   ]
  },
  {
   "cell_type": "code",
   "execution_count": 9,
   "metadata": {},
   "outputs": [],
   "source": [
    "#adding duration column\n",
    "users['duration']=users['churn_date'].dt.month-users['reg_date'].dt.month+1"
   ]
  },
  {
   "cell_type": "markdown",
   "metadata": {},
   "source": [
    "Let's check that the column was added correctly."
   ]
  },
  {
   "cell_type": "code",
   "execution_count": 10,
   "metadata": {},
   "outputs": [
    {
     "data": {
      "text/html": [
       "<div>\n",
       "<style scoped>\n",
       "    .dataframe tbody tr th:only-of-type {\n",
       "        vertical-align: middle;\n",
       "    }\n",
       "\n",
       "    .dataframe tbody tr th {\n",
       "        vertical-align: top;\n",
       "    }\n",
       "\n",
       "    .dataframe thead th {\n",
       "        text-align: right;\n",
       "    }\n",
       "</style>\n",
       "<table border=\"1\" class=\"dataframe\">\n",
       "  <thead>\n",
       "    <tr style=\"text-align: right;\">\n",
       "      <th></th>\n",
       "      <th>user_id</th>\n",
       "      <th>first_name</th>\n",
       "      <th>last_name</th>\n",
       "      <th>age</th>\n",
       "      <th>city</th>\n",
       "      <th>reg_date</th>\n",
       "      <th>plan</th>\n",
       "      <th>churn_date</th>\n",
       "      <th>duration</th>\n",
       "    </tr>\n",
       "  </thead>\n",
       "  <tbody>\n",
       "    <tr>\n",
       "      <th>0</th>\n",
       "      <td>1000</td>\n",
       "      <td>Anamaria</td>\n",
       "      <td>Bauer</td>\n",
       "      <td>45</td>\n",
       "      <td>Atlanta-Sandy Springs-Roswell, GA MSA</td>\n",
       "      <td>2018-12-24</td>\n",
       "      <td>ultimate</td>\n",
       "      <td>2018-12-31</td>\n",
       "      <td>1</td>\n",
       "    </tr>\n",
       "    <tr>\n",
       "      <th>1</th>\n",
       "      <td>1001</td>\n",
       "      <td>Mickey</td>\n",
       "      <td>Wilkerson</td>\n",
       "      <td>28</td>\n",
       "      <td>Seattle-Tacoma-Bellevue, WA MSA</td>\n",
       "      <td>2018-08-13</td>\n",
       "      <td>surf</td>\n",
       "      <td>2018-12-31</td>\n",
       "      <td>5</td>\n",
       "    </tr>\n",
       "    <tr>\n",
       "      <th>2</th>\n",
       "      <td>1002</td>\n",
       "      <td>Carlee</td>\n",
       "      <td>Hoffman</td>\n",
       "      <td>36</td>\n",
       "      <td>Las Vegas-Henderson-Paradise, NV MSA</td>\n",
       "      <td>2018-10-21</td>\n",
       "      <td>surf</td>\n",
       "      <td>2018-12-31</td>\n",
       "      <td>3</td>\n",
       "    </tr>\n",
       "    <tr>\n",
       "      <th>3</th>\n",
       "      <td>1003</td>\n",
       "      <td>Reynaldo</td>\n",
       "      <td>Jenkins</td>\n",
       "      <td>52</td>\n",
       "      <td>Tulsa, OK MSA</td>\n",
       "      <td>2018-01-28</td>\n",
       "      <td>surf</td>\n",
       "      <td>2018-12-31</td>\n",
       "      <td>12</td>\n",
       "    </tr>\n",
       "    <tr>\n",
       "      <th>4</th>\n",
       "      <td>1004</td>\n",
       "      <td>Leonila</td>\n",
       "      <td>Thompson</td>\n",
       "      <td>40</td>\n",
       "      <td>Seattle-Tacoma-Bellevue, WA MSA</td>\n",
       "      <td>2018-05-23</td>\n",
       "      <td>surf</td>\n",
       "      <td>2018-12-31</td>\n",
       "      <td>8</td>\n",
       "    </tr>\n",
       "    <tr>\n",
       "      <th>5</th>\n",
       "      <td>1005</td>\n",
       "      <td>Livia</td>\n",
       "      <td>Shields</td>\n",
       "      <td>31</td>\n",
       "      <td>Dallas-Fort Worth-Arlington, TX MSA</td>\n",
       "      <td>2018-11-29</td>\n",
       "      <td>surf</td>\n",
       "      <td>2018-12-31</td>\n",
       "      <td>2</td>\n",
       "    </tr>\n",
       "    <tr>\n",
       "      <th>6</th>\n",
       "      <td>1006</td>\n",
       "      <td>Jesusa</td>\n",
       "      <td>Bradford</td>\n",
       "      <td>73</td>\n",
       "      <td>San Francisco-Oakland-Berkeley, CA MSA</td>\n",
       "      <td>2018-11-27</td>\n",
       "      <td>ultimate</td>\n",
       "      <td>2018-12-18</td>\n",
       "      <td>2</td>\n",
       "    </tr>\n",
       "    <tr>\n",
       "      <th>7</th>\n",
       "      <td>1007</td>\n",
       "      <td>Eusebio</td>\n",
       "      <td>Welch</td>\n",
       "      <td>42</td>\n",
       "      <td>Grand Rapids-Kentwood, MI MSA</td>\n",
       "      <td>2018-07-11</td>\n",
       "      <td>surf</td>\n",
       "      <td>2018-12-31</td>\n",
       "      <td>6</td>\n",
       "    </tr>\n",
       "    <tr>\n",
       "      <th>8</th>\n",
       "      <td>1008</td>\n",
       "      <td>Emely</td>\n",
       "      <td>Hoffman</td>\n",
       "      <td>53</td>\n",
       "      <td>Orlando-Kissimmee-Sanford, FL MSA</td>\n",
       "      <td>2018-08-03</td>\n",
       "      <td>ultimate</td>\n",
       "      <td>2018-12-31</td>\n",
       "      <td>5</td>\n",
       "    </tr>\n",
       "    <tr>\n",
       "      <th>9</th>\n",
       "      <td>1009</td>\n",
       "      <td>Gerry</td>\n",
       "      <td>Little</td>\n",
       "      <td>19</td>\n",
       "      <td>San Jose-Sunnyvale-Santa Clara, CA MSA</td>\n",
       "      <td>2018-04-22</td>\n",
       "      <td>surf</td>\n",
       "      <td>2018-12-31</td>\n",
       "      <td>9</td>\n",
       "    </tr>\n",
       "  </tbody>\n",
       "</table>\n",
       "</div>"
      ],
      "text/plain": [
       "   user_id first_name  last_name  age                                    city  \\\n",
       "0     1000   Anamaria      Bauer   45   Atlanta-Sandy Springs-Roswell, GA MSA   \n",
       "1     1001     Mickey  Wilkerson   28         Seattle-Tacoma-Bellevue, WA MSA   \n",
       "2     1002     Carlee    Hoffman   36    Las Vegas-Henderson-Paradise, NV MSA   \n",
       "3     1003   Reynaldo    Jenkins   52                           Tulsa, OK MSA   \n",
       "4     1004    Leonila   Thompson   40         Seattle-Tacoma-Bellevue, WA MSA   \n",
       "5     1005      Livia    Shields   31     Dallas-Fort Worth-Arlington, TX MSA   \n",
       "6     1006     Jesusa   Bradford   73  San Francisco-Oakland-Berkeley, CA MSA   \n",
       "7     1007    Eusebio      Welch   42           Grand Rapids-Kentwood, MI MSA   \n",
       "8     1008      Emely    Hoffman   53       Orlando-Kissimmee-Sanford, FL MSA   \n",
       "9     1009      Gerry     Little   19  San Jose-Sunnyvale-Santa Clara, CA MSA   \n",
       "\n",
       "    reg_date      plan churn_date  duration  \n",
       "0 2018-12-24  ultimate 2018-12-31         1  \n",
       "1 2018-08-13      surf 2018-12-31         5  \n",
       "2 2018-10-21      surf 2018-12-31         3  \n",
       "3 2018-01-28      surf 2018-12-31        12  \n",
       "4 2018-05-23      surf 2018-12-31         8  \n",
       "5 2018-11-29      surf 2018-12-31         2  \n",
       "6 2018-11-27  ultimate 2018-12-18         2  \n",
       "7 2018-07-11      surf 2018-12-31         6  \n",
       "8 2018-08-03  ultimate 2018-12-31         5  \n",
       "9 2018-04-22      surf 2018-12-31         9  "
      ]
     },
     "execution_count": 10,
     "metadata": {},
     "output_type": "execute_result"
    }
   ],
   "source": [
    "# Printing a sample of data for users\n",
    "users.head(10)"
   ]
  },
  {
   "cell_type": "markdown",
   "metadata": {},
   "source": [
    "In this project, we will test the hypothesis that the average revenue from users in the NY-NJ area is different from that of the users from other regions. To do this we need to be able to distinguish the users by region. So, we need to add the `region` column that will contain information about the region. For users in the NY-NJ area, the value in this column will be `NY-NJ`. For users from other regions, the value in this column will be `others`.\n",
    "\n",
    "To do this, let’s check if we can determine the users’ region by city."
   ]
  },
  {
   "cell_type": "code",
   "execution_count": 11,
   "metadata": {
    "scrolled": true
   },
   "outputs": [
    {
     "data": {
      "text/plain": [
       "array(['Atlanta-Sandy Springs-Roswell, GA MSA',\n",
       "       'Seattle-Tacoma-Bellevue, WA MSA',\n",
       "       'Las Vegas-Henderson-Paradise, NV MSA', 'Tulsa, OK MSA',\n",
       "       'Dallas-Fort Worth-Arlington, TX MSA',\n",
       "       'San Francisco-Oakland-Berkeley, CA MSA',\n",
       "       'Grand Rapids-Kentwood, MI MSA',\n",
       "       'Orlando-Kissimmee-Sanford, FL MSA',\n",
       "       'San Jose-Sunnyvale-Santa Clara, CA MSA',\n",
       "       'Cleveland-Elyria, OH MSA',\n",
       "       'Chicago-Naperville-Elgin, IL-IN-WI MSA', 'Knoxville, TN MSA',\n",
       "       'New York-Newark-Jersey City, NY-NJ-PA MSA', 'Pittsburgh, PA MSA',\n",
       "       'Fresno, CA MSA',\n",
       "       'Washington-Arlington-Alexandria, DC-VA-MD-WV MSA',\n",
       "       'Indianapolis-Carmel-Anderson, IN MSA', 'Jacksonville, FL MSA',\n",
       "       'Los Angeles-Long Beach-Anaheim, CA MSA',\n",
       "       'Omaha-Council Bluffs, NE-IA MSA',\n",
       "       'Houston-The Woodlands-Sugar Land, TX MSA',\n",
       "       'Philadelphia-Camden-Wilmington, PA-NJ-DE-MD MSA',\n",
       "       'Tampa-St. Petersburg-Clearwater, FL MSA',\n",
       "       'Birmingham-Hoover, AL MSA', 'Oklahoma City, OK MSA',\n",
       "       'Charlotte-Concord-Gastonia, NC-SC MSA',\n",
       "       'Denver-Aurora-Lakewood, CO MSA',\n",
       "       'Nashville-Davidson–Murfreesboro–Franklin, TN MSA',\n",
       "       'Columbus, OH MSA', 'Albuquerque, NM MSA',\n",
       "       'Boston-Cambridge-Newton, MA-NH MSA',\n",
       "       'Miami-Fort Lauderdale-West Palm Beach, FL MSA',\n",
       "       'San Diego-Chula Vista-Carlsbad, CA MSA',\n",
       "       'Phoenix-Mesa-Chandler, AZ MSA',\n",
       "       'Portland-Vancouver-Hillsboro, OR-WA MSA',\n",
       "       'Cincinnati, OH-KY-IN MSA', 'Columbia, SC MSA',\n",
       "       'San Antonio-New Braunfels, TX MSA', 'Buffalo-Cheektowaga, NY MSA',\n",
       "       'Memphis, TN-MS-AR MSA',\n",
       "       'Riverside-San Bernardino-Ontario, CA MSA',\n",
       "       'Louisville/Jefferson County, KY-IN MSA',\n",
       "       'Albany-Schenectady-Troy, NY MSA', 'Providence-Warwick, RI-MA MSA',\n",
       "       'Salt Lake City, UT MSA', 'Urban Honolulu, HI MSA',\n",
       "       'El Paso, TX MSA', 'New Haven-Milford, CT MSA',\n",
       "       'North Port-Sarasota-Bradenton, FL MSA', 'Baton Rouge, LA MSA',\n",
       "       'New Orleans-Metairie, LA MSA',\n",
       "       'Bridgeport-Stamford-Norwalk, CT MSA',\n",
       "       'Virginia Beach-Norfolk-Newport News, VA-NC MSA',\n",
       "       'Baltimore-Columbia-Towson, MD MSA', 'Milwaukee-Waukesha, WI MSA',\n",
       "       'Oxnard-Thousand Oaks-Ventura, CA MSA',\n",
       "       'Sacramento–Roseville–Folsom, CA MSA',\n",
       "       'Austin-Round Rock-Georgetown, TX MSA', 'Richmond, VA MSA',\n",
       "       'St. Louis, MO-IL MSA',\n",
       "       'Minneapolis-St. Paul-Bloomington, MN-WI MSA',\n",
       "       'Dayton-Kettering, OH MSA', 'Bakersfield, CA MSA',\n",
       "       'Detroit-Warren-Dearborn, MI MSA', 'Kansas City, MO-KS MSA',\n",
       "       'Charleston-North Charleston, SC MSA', 'Rochester, NY MSA',\n",
       "       'Raleigh-Cary, NC MSA', 'Colorado Springs, CO MSA',\n",
       "       'Greensboro-High Point, NC MSA', 'Tucson, AZ MSA',\n",
       "       'Stockton, CA MSA', 'Cape Coral-Fort Myers, FL MSA'], dtype=object)"
      ]
     },
     "execution_count": 11,
     "metadata": {},
     "output_type": "execute_result"
    }
   ],
   "source": [
    "users.city.unique()"
   ]
  },
  {
   "cell_type": "markdown",
   "metadata": {},
   "source": [
    "Looks like users in the NY-NJ area have the `New York-Newark-Jersey City, NY-NJ-PA MSA` value in the `city` column. We will use it as a criterion to distinguish the users from that region."
   ]
  },
  {
   "cell_type": "code",
   "execution_count": 12,
   "metadata": {},
   "outputs": [],
   "source": [
    "#adding region column\n",
    "users['region']= np.where(users['city'].str.contains('NY-NJ'), 'NY-NJ', 'Other')"
   ]
  },
  {
   "cell_type": "markdown",
   "metadata": {},
   "source": [
    "Lets check that the column was added correctly."
   ]
  },
  {
   "cell_type": "code",
   "execution_count": 13,
   "metadata": {},
   "outputs": [
    {
     "name": "stdout",
     "output_type": "stream",
     "text": [
      "Other    420\n",
      "NY-NJ     80\n",
      "Name: region, dtype: int64\n"
     ]
    },
    {
     "data": {
      "text/plain": [
       "New York-Newark-Jersey City, NY-NJ-PA MSA          80\n",
       "Los Angeles-Long Beach-Anaheim, CA MSA             29\n",
       "Dallas-Fort Worth-Arlington, TX MSA                21\n",
       "Chicago-Naperville-Elgin, IL-IN-WI MSA             19\n",
       "Philadelphia-Camden-Wilmington, PA-NJ-DE-MD MSA    17\n",
       "                                                   ..\n",
       "Raleigh-Cary, NC MSA                                1\n",
       "El Paso, TX MSA                                     1\n",
       "Greensboro-High Point, NC MSA                       1\n",
       "Stockton, CA MSA                                    1\n",
       "Cape Coral-Fort Myers, FL MSA                       1\n",
       "Name: city, Length: 73, dtype: int64"
      ]
     },
     "execution_count": 13,
     "metadata": {},
     "output_type": "execute_result"
    }
   ],
   "source": [
    "#printing unique values in region column\n",
    "print(users['region'].value_counts())\n",
    "\n",
    "#printing unique values in city column\n",
    "users['city'].value_counts()"
   ]
  },
  {
   "cell_type": "markdown",
   "metadata": {},
   "source": [
    "Value `NY-NJ` count in the `region` column matches value `New York-Newark-Jersey City, NY-NJ-PA MSA` count in the `city` column. Thus, the `region` column was added correctly."
   ]
  },
  {
   "cell_type": "markdown",
   "metadata": {},
   "source": [
    "## Calls\n",
    "\n",
    "We will display general data info and a sample of the data from the `calls` table."
   ]
  },
  {
   "cell_type": "code",
   "execution_count": 14,
   "metadata": {},
   "outputs": [
    {
     "name": "stdout",
     "output_type": "stream",
     "text": [
      "<class 'pandas.core.frame.DataFrame'>\n",
      "RangeIndex: 137735 entries, 0 to 137734\n",
      "Data columns (total 4 columns):\n",
      " #   Column     Non-Null Count   Dtype  \n",
      "---  ------     --------------   -----  \n",
      " 0   id         137735 non-null  object \n",
      " 1   user_id    137735 non-null  int64  \n",
      " 2   call_date  137735 non-null  object \n",
      " 3   duration   137735 non-null  float64\n",
      "dtypes: float64(1), int64(1), object(2)\n",
      "memory usage: 4.2+ MB\n"
     ]
    }
   ],
   "source": [
    "# Printing the general/summary information about the calls' DataFrame\n",
    "calls.info()"
   ]
  },
  {
   "cell_type": "code",
   "execution_count": 15,
   "metadata": {},
   "outputs": [
    {
     "data": {
      "text/html": [
       "<div>\n",
       "<style scoped>\n",
       "    .dataframe tbody tr th:only-of-type {\n",
       "        vertical-align: middle;\n",
       "    }\n",
       "\n",
       "    .dataframe tbody tr th {\n",
       "        vertical-align: top;\n",
       "    }\n",
       "\n",
       "    .dataframe thead th {\n",
       "        text-align: right;\n",
       "    }\n",
       "</style>\n",
       "<table border=\"1\" class=\"dataframe\">\n",
       "  <thead>\n",
       "    <tr style=\"text-align: right;\">\n",
       "      <th></th>\n",
       "      <th>id</th>\n",
       "      <th>user_id</th>\n",
       "      <th>call_date</th>\n",
       "      <th>duration</th>\n",
       "    </tr>\n",
       "  </thead>\n",
       "  <tbody>\n",
       "    <tr>\n",
       "      <th>0</th>\n",
       "      <td>1000_93</td>\n",
       "      <td>1000</td>\n",
       "      <td>2018-12-27</td>\n",
       "      <td>8.52</td>\n",
       "    </tr>\n",
       "    <tr>\n",
       "      <th>1</th>\n",
       "      <td>1000_145</td>\n",
       "      <td>1000</td>\n",
       "      <td>2018-12-27</td>\n",
       "      <td>13.66</td>\n",
       "    </tr>\n",
       "    <tr>\n",
       "      <th>2</th>\n",
       "      <td>1000_247</td>\n",
       "      <td>1000</td>\n",
       "      <td>2018-12-27</td>\n",
       "      <td>14.48</td>\n",
       "    </tr>\n",
       "    <tr>\n",
       "      <th>3</th>\n",
       "      <td>1000_309</td>\n",
       "      <td>1000</td>\n",
       "      <td>2018-12-28</td>\n",
       "      <td>5.76</td>\n",
       "    </tr>\n",
       "    <tr>\n",
       "      <th>4</th>\n",
       "      <td>1000_380</td>\n",
       "      <td>1000</td>\n",
       "      <td>2018-12-30</td>\n",
       "      <td>4.22</td>\n",
       "    </tr>\n",
       "    <tr>\n",
       "      <th>5</th>\n",
       "      <td>1000_388</td>\n",
       "      <td>1000</td>\n",
       "      <td>2018-12-31</td>\n",
       "      <td>2.20</td>\n",
       "    </tr>\n",
       "    <tr>\n",
       "      <th>6</th>\n",
       "      <td>1000_510</td>\n",
       "      <td>1000</td>\n",
       "      <td>2018-12-27</td>\n",
       "      <td>5.75</td>\n",
       "    </tr>\n",
       "    <tr>\n",
       "      <th>7</th>\n",
       "      <td>1000_521</td>\n",
       "      <td>1000</td>\n",
       "      <td>2018-12-28</td>\n",
       "      <td>14.18</td>\n",
       "    </tr>\n",
       "    <tr>\n",
       "      <th>8</th>\n",
       "      <td>1000_530</td>\n",
       "      <td>1000</td>\n",
       "      <td>2018-12-28</td>\n",
       "      <td>5.77</td>\n",
       "    </tr>\n",
       "    <tr>\n",
       "      <th>9</th>\n",
       "      <td>1000_544</td>\n",
       "      <td>1000</td>\n",
       "      <td>2018-12-26</td>\n",
       "      <td>4.40</td>\n",
       "    </tr>\n",
       "  </tbody>\n",
       "</table>\n",
       "</div>"
      ],
      "text/plain": [
       "         id  user_id   call_date  duration\n",
       "0   1000_93     1000  2018-12-27      8.52\n",
       "1  1000_145     1000  2018-12-27     13.66\n",
       "2  1000_247     1000  2018-12-27     14.48\n",
       "3  1000_309     1000  2018-12-28      5.76\n",
       "4  1000_380     1000  2018-12-30      4.22\n",
       "5  1000_388     1000  2018-12-31      2.20\n",
       "6  1000_510     1000  2018-12-27      5.75\n",
       "7  1000_521     1000  2018-12-28     14.18\n",
       "8  1000_530     1000  2018-12-28      5.77\n",
       "9  1000_544     1000  2018-12-26      4.40"
      ]
     },
     "execution_count": 15,
     "metadata": {},
     "output_type": "execute_result"
    }
   ],
   "source": [
    "# Printing a sample of data for calls\n",
    "calls.head(10)"
   ]
  },
  {
   "cell_type": "markdown",
   "metadata": {},
   "source": [
    "According to the documentation and as can be seen, the table contains information about calls including unique call identifier, call duration (in minutes), and the identifier of the user making the call.\n",
    "\n",
    "As can be seen, call_date has an incorrect type, so it needs to be fixed. Also, the duration column has float type, but according to documentation, for billing each individual call is rounded up: even if the call lasted just one second, it will be counted as one minute. Therefore, will change the type of that column to int rounding values there to the ceiling.\n",
    "\n",
    "Then, to ease the further calculations we will add the `month` column. This column will contain the number of the month when the call was made."
   ]
  },
  {
   "cell_type": "markdown",
   "metadata": {},
   "source": [
    "### Fixing data"
   ]
  },
  {
   "cell_type": "markdown",
   "metadata": {},
   "source": [
    "As stated above, we will round values in the `duration` column to the ceiling. Then we will fix the type for the `call_date` column."
   ]
  },
  {
   "cell_type": "code",
   "execution_count": 16,
   "metadata": {},
   "outputs": [],
   "source": [
    "#rounding values in duration column to the ceiling\n",
    "calls['duration']=np.ceil(calls['duration']).astype(int)"
   ]
  },
  {
   "cell_type": "code",
   "execution_count": 17,
   "metadata": {},
   "outputs": [],
   "source": [
    "#fixing the type for we call_date column\n",
    "calls['call_date']=pd.to_datetime(calls['call_date'], format='%Y-%m-%d') "
   ]
  },
  {
   "cell_type": "markdown",
   "metadata": {},
   "source": [
    "Let's check that the issues were fixed."
   ]
  },
  {
   "cell_type": "code",
   "execution_count": 18,
   "metadata": {},
   "outputs": [
    {
     "name": "stdout",
     "output_type": "stream",
     "text": [
      "<class 'pandas.core.frame.DataFrame'>\n",
      "RangeIndex: 137735 entries, 0 to 137734\n",
      "Data columns (total 4 columns):\n",
      " #   Column     Non-Null Count   Dtype         \n",
      "---  ------     --------------   -----         \n",
      " 0   id         137735 non-null  object        \n",
      " 1   user_id    137735 non-null  int64         \n",
      " 2   call_date  137735 non-null  datetime64[ns]\n",
      " 3   duration   137735 non-null  int64         \n",
      "dtypes: datetime64[ns](1), int64(2), object(1)\n",
      "memory usage: 4.2+ MB\n",
      "None\n"
     ]
    },
    {
     "data": {
      "text/html": [
       "<div>\n",
       "<style scoped>\n",
       "    .dataframe tbody tr th:only-of-type {\n",
       "        vertical-align: middle;\n",
       "    }\n",
       "\n",
       "    .dataframe tbody tr th {\n",
       "        vertical-align: top;\n",
       "    }\n",
       "\n",
       "    .dataframe thead th {\n",
       "        text-align: right;\n",
       "    }\n",
       "</style>\n",
       "<table border=\"1\" class=\"dataframe\">\n",
       "  <thead>\n",
       "    <tr style=\"text-align: right;\">\n",
       "      <th></th>\n",
       "      <th>id</th>\n",
       "      <th>user_id</th>\n",
       "      <th>call_date</th>\n",
       "      <th>duration</th>\n",
       "    </tr>\n",
       "  </thead>\n",
       "  <tbody>\n",
       "    <tr>\n",
       "      <th>0</th>\n",
       "      <td>1000_93</td>\n",
       "      <td>1000</td>\n",
       "      <td>2018-12-27</td>\n",
       "      <td>9</td>\n",
       "    </tr>\n",
       "    <tr>\n",
       "      <th>1</th>\n",
       "      <td>1000_145</td>\n",
       "      <td>1000</td>\n",
       "      <td>2018-12-27</td>\n",
       "      <td>14</td>\n",
       "    </tr>\n",
       "    <tr>\n",
       "      <th>2</th>\n",
       "      <td>1000_247</td>\n",
       "      <td>1000</td>\n",
       "      <td>2018-12-27</td>\n",
       "      <td>15</td>\n",
       "    </tr>\n",
       "    <tr>\n",
       "      <th>3</th>\n",
       "      <td>1000_309</td>\n",
       "      <td>1000</td>\n",
       "      <td>2018-12-28</td>\n",
       "      <td>6</td>\n",
       "    </tr>\n",
       "    <tr>\n",
       "      <th>4</th>\n",
       "      <td>1000_380</td>\n",
       "      <td>1000</td>\n",
       "      <td>2018-12-30</td>\n",
       "      <td>5</td>\n",
       "    </tr>\n",
       "    <tr>\n",
       "      <th>5</th>\n",
       "      <td>1000_388</td>\n",
       "      <td>1000</td>\n",
       "      <td>2018-12-31</td>\n",
       "      <td>3</td>\n",
       "    </tr>\n",
       "    <tr>\n",
       "      <th>6</th>\n",
       "      <td>1000_510</td>\n",
       "      <td>1000</td>\n",
       "      <td>2018-12-27</td>\n",
       "      <td>6</td>\n",
       "    </tr>\n",
       "    <tr>\n",
       "      <th>7</th>\n",
       "      <td>1000_521</td>\n",
       "      <td>1000</td>\n",
       "      <td>2018-12-28</td>\n",
       "      <td>15</td>\n",
       "    </tr>\n",
       "    <tr>\n",
       "      <th>8</th>\n",
       "      <td>1000_530</td>\n",
       "      <td>1000</td>\n",
       "      <td>2018-12-28</td>\n",
       "      <td>6</td>\n",
       "    </tr>\n",
       "    <tr>\n",
       "      <th>9</th>\n",
       "      <td>1000_544</td>\n",
       "      <td>1000</td>\n",
       "      <td>2018-12-26</td>\n",
       "      <td>5</td>\n",
       "    </tr>\n",
       "  </tbody>\n",
       "</table>\n",
       "</div>"
      ],
      "text/plain": [
       "         id  user_id  call_date  duration\n",
       "0   1000_93     1000 2018-12-27         9\n",
       "1  1000_145     1000 2018-12-27        14\n",
       "2  1000_247     1000 2018-12-27        15\n",
       "3  1000_309     1000 2018-12-28         6\n",
       "4  1000_380     1000 2018-12-30         5\n",
       "5  1000_388     1000 2018-12-31         3\n",
       "6  1000_510     1000 2018-12-27         6\n",
       "7  1000_521     1000 2018-12-28        15\n",
       "8  1000_530     1000 2018-12-28         6\n",
       "9  1000_544     1000 2018-12-26         5"
      ]
     },
     "execution_count": 18,
     "metadata": {},
     "output_type": "execute_result"
    }
   ],
   "source": [
    "# Printing the general/summary information about the calls' DataFrame\n",
    "print(calls.info())\n",
    "\n",
    "# Printing a sample of data for calls\n",
    "calls.head(10)"
   ]
  },
  {
   "cell_type": "markdown",
   "metadata": {},
   "source": [
    "The issue looks to be fixed. Next we will enrich the data in `calls` table."
   ]
  },
  {
   "cell_type": "markdown",
   "metadata": {},
   "source": [
    "### Enriching data"
   ]
  },
  {
   "cell_type": "markdown",
   "metadata": {},
   "source": [
    "To ease the further calculations, we will add the `month` column. This column will contain the number of the month when the call was made."
   ]
  },
  {
   "cell_type": "code",
   "execution_count": 19,
   "metadata": {},
   "outputs": [],
   "source": [
    "#adding month colunm\n",
    "calls['month']=calls['call_date'].dt.month"
   ]
  },
  {
   "cell_type": "markdown",
   "metadata": {},
   "source": [
    "Let's check that the column was added correctly."
   ]
  },
  {
   "cell_type": "code",
   "execution_count": 20,
   "metadata": {},
   "outputs": [
    {
     "data": {
      "text/html": [
       "<div>\n",
       "<style scoped>\n",
       "    .dataframe tbody tr th:only-of-type {\n",
       "        vertical-align: middle;\n",
       "    }\n",
       "\n",
       "    .dataframe tbody tr th {\n",
       "        vertical-align: top;\n",
       "    }\n",
       "\n",
       "    .dataframe thead th {\n",
       "        text-align: right;\n",
       "    }\n",
       "</style>\n",
       "<table border=\"1\" class=\"dataframe\">\n",
       "  <thead>\n",
       "    <tr style=\"text-align: right;\">\n",
       "      <th></th>\n",
       "      <th>id</th>\n",
       "      <th>user_id</th>\n",
       "      <th>call_date</th>\n",
       "      <th>duration</th>\n",
       "      <th>month</th>\n",
       "    </tr>\n",
       "  </thead>\n",
       "  <tbody>\n",
       "    <tr>\n",
       "      <th>0</th>\n",
       "      <td>1000_93</td>\n",
       "      <td>1000</td>\n",
       "      <td>2018-12-27</td>\n",
       "      <td>9</td>\n",
       "      <td>12</td>\n",
       "    </tr>\n",
       "    <tr>\n",
       "      <th>1</th>\n",
       "      <td>1000_145</td>\n",
       "      <td>1000</td>\n",
       "      <td>2018-12-27</td>\n",
       "      <td>14</td>\n",
       "      <td>12</td>\n",
       "    </tr>\n",
       "    <tr>\n",
       "      <th>2</th>\n",
       "      <td>1000_247</td>\n",
       "      <td>1000</td>\n",
       "      <td>2018-12-27</td>\n",
       "      <td>15</td>\n",
       "      <td>12</td>\n",
       "    </tr>\n",
       "    <tr>\n",
       "      <th>3</th>\n",
       "      <td>1000_309</td>\n",
       "      <td>1000</td>\n",
       "      <td>2018-12-28</td>\n",
       "      <td>6</td>\n",
       "      <td>12</td>\n",
       "    </tr>\n",
       "    <tr>\n",
       "      <th>4</th>\n",
       "      <td>1000_380</td>\n",
       "      <td>1000</td>\n",
       "      <td>2018-12-30</td>\n",
       "      <td>5</td>\n",
       "      <td>12</td>\n",
       "    </tr>\n",
       "    <tr>\n",
       "      <th>5</th>\n",
       "      <td>1000_388</td>\n",
       "      <td>1000</td>\n",
       "      <td>2018-12-31</td>\n",
       "      <td>3</td>\n",
       "      <td>12</td>\n",
       "    </tr>\n",
       "    <tr>\n",
       "      <th>6</th>\n",
       "      <td>1000_510</td>\n",
       "      <td>1000</td>\n",
       "      <td>2018-12-27</td>\n",
       "      <td>6</td>\n",
       "      <td>12</td>\n",
       "    </tr>\n",
       "    <tr>\n",
       "      <th>7</th>\n",
       "      <td>1000_521</td>\n",
       "      <td>1000</td>\n",
       "      <td>2018-12-28</td>\n",
       "      <td>15</td>\n",
       "      <td>12</td>\n",
       "    </tr>\n",
       "    <tr>\n",
       "      <th>8</th>\n",
       "      <td>1000_530</td>\n",
       "      <td>1000</td>\n",
       "      <td>2018-12-28</td>\n",
       "      <td>6</td>\n",
       "      <td>12</td>\n",
       "    </tr>\n",
       "    <tr>\n",
       "      <th>9</th>\n",
       "      <td>1000_544</td>\n",
       "      <td>1000</td>\n",
       "      <td>2018-12-26</td>\n",
       "      <td>5</td>\n",
       "      <td>12</td>\n",
       "    </tr>\n",
       "  </tbody>\n",
       "</table>\n",
       "</div>"
      ],
      "text/plain": [
       "         id  user_id  call_date  duration  month\n",
       "0   1000_93     1000 2018-12-27         9     12\n",
       "1  1000_145     1000 2018-12-27        14     12\n",
       "2  1000_247     1000 2018-12-27        15     12\n",
       "3  1000_309     1000 2018-12-28         6     12\n",
       "4  1000_380     1000 2018-12-30         5     12\n",
       "5  1000_388     1000 2018-12-31         3     12\n",
       "6  1000_510     1000 2018-12-27         6     12\n",
       "7  1000_521     1000 2018-12-28        15     12\n",
       "8  1000_530     1000 2018-12-28         6     12\n",
       "9  1000_544     1000 2018-12-26         5     12"
      ]
     },
     "execution_count": 20,
     "metadata": {},
     "output_type": "execute_result"
    }
   ],
   "source": [
    "#Printing a sample of data for calls\n",
    "calls.head(10)"
   ]
  },
  {
   "cell_type": "markdown",
   "metadata": {},
   "source": [
    "Values in `month` column looks correct."
   ]
  },
  {
   "cell_type": "markdown",
   "metadata": {},
   "source": [
    "## Messages\n",
    "\n",
    "We will display general data info and a sample of the data from the `messages` table."
   ]
  },
  {
   "cell_type": "code",
   "execution_count": 21,
   "metadata": {},
   "outputs": [
    {
     "name": "stdout",
     "output_type": "stream",
     "text": [
      "<class 'pandas.core.frame.DataFrame'>\n",
      "RangeIndex: 76051 entries, 0 to 76050\n",
      "Data columns (total 3 columns):\n",
      " #   Column        Non-Null Count  Dtype \n",
      "---  ------        --------------  ----- \n",
      " 0   id            76051 non-null  object\n",
      " 1   user_id       76051 non-null  int64 \n",
      " 2   message_date  76051 non-null  object\n",
      "dtypes: int64(1), object(2)\n",
      "memory usage: 1.7+ MB\n"
     ]
    }
   ],
   "source": [
    "# Printing the general/summary information about the messages' DataFrame\n",
    "messages.info()"
   ]
  },
  {
   "cell_type": "code",
   "execution_count": 22,
   "metadata": {},
   "outputs": [
    {
     "data": {
      "text/html": [
       "<div>\n",
       "<style scoped>\n",
       "    .dataframe tbody tr th:only-of-type {\n",
       "        vertical-align: middle;\n",
       "    }\n",
       "\n",
       "    .dataframe tbody tr th {\n",
       "        vertical-align: top;\n",
       "    }\n",
       "\n",
       "    .dataframe thead th {\n",
       "        text-align: right;\n",
       "    }\n",
       "</style>\n",
       "<table border=\"1\" class=\"dataframe\">\n",
       "  <thead>\n",
       "    <tr style=\"text-align: right;\">\n",
       "      <th></th>\n",
       "      <th>id</th>\n",
       "      <th>user_id</th>\n",
       "      <th>message_date</th>\n",
       "    </tr>\n",
       "  </thead>\n",
       "  <tbody>\n",
       "    <tr>\n",
       "      <th>0</th>\n",
       "      <td>1000_125</td>\n",
       "      <td>1000</td>\n",
       "      <td>2018-12-27</td>\n",
       "    </tr>\n",
       "    <tr>\n",
       "      <th>1</th>\n",
       "      <td>1000_160</td>\n",
       "      <td>1000</td>\n",
       "      <td>2018-12-31</td>\n",
       "    </tr>\n",
       "    <tr>\n",
       "      <th>2</th>\n",
       "      <td>1000_223</td>\n",
       "      <td>1000</td>\n",
       "      <td>2018-12-31</td>\n",
       "    </tr>\n",
       "    <tr>\n",
       "      <th>3</th>\n",
       "      <td>1000_251</td>\n",
       "      <td>1000</td>\n",
       "      <td>2018-12-27</td>\n",
       "    </tr>\n",
       "    <tr>\n",
       "      <th>4</th>\n",
       "      <td>1000_255</td>\n",
       "      <td>1000</td>\n",
       "      <td>2018-12-26</td>\n",
       "    </tr>\n",
       "    <tr>\n",
       "      <th>5</th>\n",
       "      <td>1000_346</td>\n",
       "      <td>1000</td>\n",
       "      <td>2018-12-29</td>\n",
       "    </tr>\n",
       "    <tr>\n",
       "      <th>6</th>\n",
       "      <td>1000_386</td>\n",
       "      <td>1000</td>\n",
       "      <td>2018-12-30</td>\n",
       "    </tr>\n",
       "    <tr>\n",
       "      <th>7</th>\n",
       "      <td>1000_413</td>\n",
       "      <td>1000</td>\n",
       "      <td>2018-12-31</td>\n",
       "    </tr>\n",
       "    <tr>\n",
       "      <th>8</th>\n",
       "      <td>1000_502</td>\n",
       "      <td>1000</td>\n",
       "      <td>2018-12-27</td>\n",
       "    </tr>\n",
       "    <tr>\n",
       "      <th>9</th>\n",
       "      <td>1000_525</td>\n",
       "      <td>1000</td>\n",
       "      <td>2018-12-28</td>\n",
       "    </tr>\n",
       "  </tbody>\n",
       "</table>\n",
       "</div>"
      ],
      "text/plain": [
       "         id  user_id message_date\n",
       "0  1000_125     1000   2018-12-27\n",
       "1  1000_160     1000   2018-12-31\n",
       "2  1000_223     1000   2018-12-31\n",
       "3  1000_251     1000   2018-12-27\n",
       "4  1000_255     1000   2018-12-26\n",
       "5  1000_346     1000   2018-12-29\n",
       "6  1000_386     1000   2018-12-30\n",
       "7  1000_413     1000   2018-12-31\n",
       "8  1000_502     1000   2018-12-27\n",
       "9  1000_525     1000   2018-12-28"
      ]
     },
     "execution_count": 22,
     "metadata": {},
     "output_type": "execute_result"
    }
   ],
   "source": [
    "# Printing a sample of data for messages\n",
    "messages.head(10)"
   ]
  },
  {
   "cell_type": "markdown",
   "metadata": {},
   "source": [
    "According to the documentation and as can be seen, the table contains information about messages including unique text message identifier, text message data, and the identifier of the user sending the text.\n",
    "\n",
    "As can be seen, the `message_date` column has an incorrect type, so it needs to be fixed. Also, to ease the further calculations we will add the `month` column. This column will contain the number of months when the message was sent."
   ]
  },
  {
   "cell_type": "markdown",
   "metadata": {},
   "source": [
    "### Fixing data"
   ]
  },
  {
   "cell_type": "markdown",
   "metadata": {},
   "source": [
    "As stated above, we will fix the type for the `message_date` column."
   ]
  },
  {
   "cell_type": "code",
   "execution_count": 23,
   "metadata": {},
   "outputs": [],
   "source": [
    "#fix the type for we message_date column\n",
    "messages['message_date']=pd.to_datetime(messages['message_date'], format='%Y-%m-%d') "
   ]
  },
  {
   "cell_type": "markdown",
   "metadata": {},
   "source": [
    "Let's check that the issues were fixed."
   ]
  },
  {
   "cell_type": "code",
   "execution_count": 24,
   "metadata": {},
   "outputs": [
    {
     "name": "stdout",
     "output_type": "stream",
     "text": [
      "<class 'pandas.core.frame.DataFrame'>\n",
      "RangeIndex: 76051 entries, 0 to 76050\n",
      "Data columns (total 3 columns):\n",
      " #   Column        Non-Null Count  Dtype         \n",
      "---  ------        --------------  -----         \n",
      " 0   id            76051 non-null  object        \n",
      " 1   user_id       76051 non-null  int64         \n",
      " 2   message_date  76051 non-null  datetime64[ns]\n",
      "dtypes: datetime64[ns](1), int64(1), object(1)\n",
      "memory usage: 1.7+ MB\n",
      "None\n"
     ]
    },
    {
     "data": {
      "text/html": [
       "<div>\n",
       "<style scoped>\n",
       "    .dataframe tbody tr th:only-of-type {\n",
       "        vertical-align: middle;\n",
       "    }\n",
       "\n",
       "    .dataframe tbody tr th {\n",
       "        vertical-align: top;\n",
       "    }\n",
       "\n",
       "    .dataframe thead th {\n",
       "        text-align: right;\n",
       "    }\n",
       "</style>\n",
       "<table border=\"1\" class=\"dataframe\">\n",
       "  <thead>\n",
       "    <tr style=\"text-align: right;\">\n",
       "      <th></th>\n",
       "      <th>id</th>\n",
       "      <th>user_id</th>\n",
       "      <th>message_date</th>\n",
       "    </tr>\n",
       "  </thead>\n",
       "  <tbody>\n",
       "    <tr>\n",
       "      <th>0</th>\n",
       "      <td>1000_125</td>\n",
       "      <td>1000</td>\n",
       "      <td>2018-12-27</td>\n",
       "    </tr>\n",
       "    <tr>\n",
       "      <th>1</th>\n",
       "      <td>1000_160</td>\n",
       "      <td>1000</td>\n",
       "      <td>2018-12-31</td>\n",
       "    </tr>\n",
       "    <tr>\n",
       "      <th>2</th>\n",
       "      <td>1000_223</td>\n",
       "      <td>1000</td>\n",
       "      <td>2018-12-31</td>\n",
       "    </tr>\n",
       "    <tr>\n",
       "      <th>3</th>\n",
       "      <td>1000_251</td>\n",
       "      <td>1000</td>\n",
       "      <td>2018-12-27</td>\n",
       "    </tr>\n",
       "    <tr>\n",
       "      <th>4</th>\n",
       "      <td>1000_255</td>\n",
       "      <td>1000</td>\n",
       "      <td>2018-12-26</td>\n",
       "    </tr>\n",
       "    <tr>\n",
       "      <th>5</th>\n",
       "      <td>1000_346</td>\n",
       "      <td>1000</td>\n",
       "      <td>2018-12-29</td>\n",
       "    </tr>\n",
       "    <tr>\n",
       "      <th>6</th>\n",
       "      <td>1000_386</td>\n",
       "      <td>1000</td>\n",
       "      <td>2018-12-30</td>\n",
       "    </tr>\n",
       "    <tr>\n",
       "      <th>7</th>\n",
       "      <td>1000_413</td>\n",
       "      <td>1000</td>\n",
       "      <td>2018-12-31</td>\n",
       "    </tr>\n",
       "    <tr>\n",
       "      <th>8</th>\n",
       "      <td>1000_502</td>\n",
       "      <td>1000</td>\n",
       "      <td>2018-12-27</td>\n",
       "    </tr>\n",
       "    <tr>\n",
       "      <th>9</th>\n",
       "      <td>1000_525</td>\n",
       "      <td>1000</td>\n",
       "      <td>2018-12-28</td>\n",
       "    </tr>\n",
       "  </tbody>\n",
       "</table>\n",
       "</div>"
      ],
      "text/plain": [
       "         id  user_id message_date\n",
       "0  1000_125     1000   2018-12-27\n",
       "1  1000_160     1000   2018-12-31\n",
       "2  1000_223     1000   2018-12-31\n",
       "3  1000_251     1000   2018-12-27\n",
       "4  1000_255     1000   2018-12-26\n",
       "5  1000_346     1000   2018-12-29\n",
       "6  1000_386     1000   2018-12-30\n",
       "7  1000_413     1000   2018-12-31\n",
       "8  1000_502     1000   2018-12-27\n",
       "9  1000_525     1000   2018-12-28"
      ]
     },
     "execution_count": 24,
     "metadata": {},
     "output_type": "execute_result"
    }
   ],
   "source": [
    "# Printing the general/summary information about the messages' DataFrame\n",
    "print(messages.info())\n",
    "\n",
    "# Printing a sample of data for messages\n",
    "messages.head(10)"
   ]
  },
  {
   "cell_type": "markdown",
   "metadata": {},
   "source": [
    "The issue looks to be fixed. Next we will enrich the data in message table."
   ]
  },
  {
   "cell_type": "markdown",
   "metadata": {},
   "source": [
    "### Enriching data"
   ]
  },
  {
   "cell_type": "markdown",
   "metadata": {},
   "source": [
    "To ease the further calculations, we will add the `month` column. This column will contain the number of months when the message was sent."
   ]
  },
  {
   "cell_type": "code",
   "execution_count": 25,
   "metadata": {},
   "outputs": [],
   "source": [
    "#adding month colunm\n",
    "messages['month']=messages['message_date'].dt.month"
   ]
  },
  {
   "cell_type": "markdown",
   "metadata": {},
   "source": [
    "Let's check that the column was added correctly."
   ]
  },
  {
   "cell_type": "code",
   "execution_count": 26,
   "metadata": {},
   "outputs": [
    {
     "data": {
      "text/html": [
       "<div>\n",
       "<style scoped>\n",
       "    .dataframe tbody tr th:only-of-type {\n",
       "        vertical-align: middle;\n",
       "    }\n",
       "\n",
       "    .dataframe tbody tr th {\n",
       "        vertical-align: top;\n",
       "    }\n",
       "\n",
       "    .dataframe thead th {\n",
       "        text-align: right;\n",
       "    }\n",
       "</style>\n",
       "<table border=\"1\" class=\"dataframe\">\n",
       "  <thead>\n",
       "    <tr style=\"text-align: right;\">\n",
       "      <th></th>\n",
       "      <th>id</th>\n",
       "      <th>user_id</th>\n",
       "      <th>message_date</th>\n",
       "      <th>month</th>\n",
       "    </tr>\n",
       "  </thead>\n",
       "  <tbody>\n",
       "    <tr>\n",
       "      <th>0</th>\n",
       "      <td>1000_125</td>\n",
       "      <td>1000</td>\n",
       "      <td>2018-12-27</td>\n",
       "      <td>12</td>\n",
       "    </tr>\n",
       "    <tr>\n",
       "      <th>1</th>\n",
       "      <td>1000_160</td>\n",
       "      <td>1000</td>\n",
       "      <td>2018-12-31</td>\n",
       "      <td>12</td>\n",
       "    </tr>\n",
       "    <tr>\n",
       "      <th>2</th>\n",
       "      <td>1000_223</td>\n",
       "      <td>1000</td>\n",
       "      <td>2018-12-31</td>\n",
       "      <td>12</td>\n",
       "    </tr>\n",
       "    <tr>\n",
       "      <th>3</th>\n",
       "      <td>1000_251</td>\n",
       "      <td>1000</td>\n",
       "      <td>2018-12-27</td>\n",
       "      <td>12</td>\n",
       "    </tr>\n",
       "    <tr>\n",
       "      <th>4</th>\n",
       "      <td>1000_255</td>\n",
       "      <td>1000</td>\n",
       "      <td>2018-12-26</td>\n",
       "      <td>12</td>\n",
       "    </tr>\n",
       "    <tr>\n",
       "      <th>5</th>\n",
       "      <td>1000_346</td>\n",
       "      <td>1000</td>\n",
       "      <td>2018-12-29</td>\n",
       "      <td>12</td>\n",
       "    </tr>\n",
       "    <tr>\n",
       "      <th>6</th>\n",
       "      <td>1000_386</td>\n",
       "      <td>1000</td>\n",
       "      <td>2018-12-30</td>\n",
       "      <td>12</td>\n",
       "    </tr>\n",
       "    <tr>\n",
       "      <th>7</th>\n",
       "      <td>1000_413</td>\n",
       "      <td>1000</td>\n",
       "      <td>2018-12-31</td>\n",
       "      <td>12</td>\n",
       "    </tr>\n",
       "    <tr>\n",
       "      <th>8</th>\n",
       "      <td>1000_502</td>\n",
       "      <td>1000</td>\n",
       "      <td>2018-12-27</td>\n",
       "      <td>12</td>\n",
       "    </tr>\n",
       "    <tr>\n",
       "      <th>9</th>\n",
       "      <td>1000_525</td>\n",
       "      <td>1000</td>\n",
       "      <td>2018-12-28</td>\n",
       "      <td>12</td>\n",
       "    </tr>\n",
       "  </tbody>\n",
       "</table>\n",
       "</div>"
      ],
      "text/plain": [
       "         id  user_id message_date  month\n",
       "0  1000_125     1000   2018-12-27     12\n",
       "1  1000_160     1000   2018-12-31     12\n",
       "2  1000_223     1000   2018-12-31     12\n",
       "3  1000_251     1000   2018-12-27     12\n",
       "4  1000_255     1000   2018-12-26     12\n",
       "5  1000_346     1000   2018-12-29     12\n",
       "6  1000_386     1000   2018-12-30     12\n",
       "7  1000_413     1000   2018-12-31     12\n",
       "8  1000_502     1000   2018-12-27     12\n",
       "9  1000_525     1000   2018-12-28     12"
      ]
     },
     "execution_count": 26,
     "metadata": {},
     "output_type": "execute_result"
    }
   ],
   "source": [
    "# Printing a sample of data for messages\n",
    "messages.head(10)"
   ]
  },
  {
   "cell_type": "markdown",
   "metadata": {},
   "source": [
    "Values in month column looks correct."
   ]
  },
  {
   "cell_type": "markdown",
   "metadata": {},
   "source": [
    "## Internet\n",
    "\n",
    "We will display general data info and a sample of the data from the `internet` table."
   ]
  },
  {
   "cell_type": "code",
   "execution_count": 27,
   "metadata": {},
   "outputs": [
    {
     "name": "stdout",
     "output_type": "stream",
     "text": [
      "<class 'pandas.core.frame.DataFrame'>\n",
      "RangeIndex: 104825 entries, 0 to 104824\n",
      "Data columns (total 4 columns):\n",
      " #   Column        Non-Null Count   Dtype  \n",
      "---  ------        --------------   -----  \n",
      " 0   id            104825 non-null  object \n",
      " 1   user_id       104825 non-null  int64  \n",
      " 2   session_date  104825 non-null  object \n",
      " 3   mb_used       104825 non-null  float64\n",
      "dtypes: float64(1), int64(1), object(2)\n",
      "memory usage: 3.2+ MB\n"
     ]
    }
   ],
   "source": [
    "# Printing the general/summary information about the internet DataFrame\n",
    "internet.info()"
   ]
  },
  {
   "cell_type": "code",
   "execution_count": 28,
   "metadata": {},
   "outputs": [
    {
     "data": {
      "text/html": [
       "<div>\n",
       "<style scoped>\n",
       "    .dataframe tbody tr th:only-of-type {\n",
       "        vertical-align: middle;\n",
       "    }\n",
       "\n",
       "    .dataframe tbody tr th {\n",
       "        vertical-align: top;\n",
       "    }\n",
       "\n",
       "    .dataframe thead th {\n",
       "        text-align: right;\n",
       "    }\n",
       "</style>\n",
       "<table border=\"1\" class=\"dataframe\">\n",
       "  <thead>\n",
       "    <tr style=\"text-align: right;\">\n",
       "      <th></th>\n",
       "      <th>id</th>\n",
       "      <th>user_id</th>\n",
       "      <th>session_date</th>\n",
       "      <th>mb_used</th>\n",
       "    </tr>\n",
       "  </thead>\n",
       "  <tbody>\n",
       "    <tr>\n",
       "      <th>0</th>\n",
       "      <td>1000_13</td>\n",
       "      <td>1000</td>\n",
       "      <td>2018-12-29</td>\n",
       "      <td>89.86</td>\n",
       "    </tr>\n",
       "    <tr>\n",
       "      <th>1</th>\n",
       "      <td>1000_204</td>\n",
       "      <td>1000</td>\n",
       "      <td>2018-12-31</td>\n",
       "      <td>0.00</td>\n",
       "    </tr>\n",
       "    <tr>\n",
       "      <th>2</th>\n",
       "      <td>1000_379</td>\n",
       "      <td>1000</td>\n",
       "      <td>2018-12-28</td>\n",
       "      <td>660.40</td>\n",
       "    </tr>\n",
       "    <tr>\n",
       "      <th>3</th>\n",
       "      <td>1000_413</td>\n",
       "      <td>1000</td>\n",
       "      <td>2018-12-26</td>\n",
       "      <td>270.99</td>\n",
       "    </tr>\n",
       "    <tr>\n",
       "      <th>4</th>\n",
       "      <td>1000_442</td>\n",
       "      <td>1000</td>\n",
       "      <td>2018-12-27</td>\n",
       "      <td>880.22</td>\n",
       "    </tr>\n",
       "    <tr>\n",
       "      <th>5</th>\n",
       "      <td>1001_0</td>\n",
       "      <td>1001</td>\n",
       "      <td>2018-08-24</td>\n",
       "      <td>284.68</td>\n",
       "    </tr>\n",
       "    <tr>\n",
       "      <th>6</th>\n",
       "      <td>1001_3</td>\n",
       "      <td>1001</td>\n",
       "      <td>2018-12-09</td>\n",
       "      <td>656.04</td>\n",
       "    </tr>\n",
       "    <tr>\n",
       "      <th>7</th>\n",
       "      <td>1001_4</td>\n",
       "      <td>1001</td>\n",
       "      <td>2018-11-04</td>\n",
       "      <td>16.97</td>\n",
       "    </tr>\n",
       "    <tr>\n",
       "      <th>8</th>\n",
       "      <td>1001_10</td>\n",
       "      <td>1001</td>\n",
       "      <td>2018-11-27</td>\n",
       "      <td>135.18</td>\n",
       "    </tr>\n",
       "    <tr>\n",
       "      <th>9</th>\n",
       "      <td>1001_15</td>\n",
       "      <td>1001</td>\n",
       "      <td>2018-12-13</td>\n",
       "      <td>761.92</td>\n",
       "    </tr>\n",
       "  </tbody>\n",
       "</table>\n",
       "</div>"
      ],
      "text/plain": [
       "         id  user_id session_date  mb_used\n",
       "0   1000_13     1000   2018-12-29    89.86\n",
       "1  1000_204     1000   2018-12-31     0.00\n",
       "2  1000_379     1000   2018-12-28   660.40\n",
       "3  1000_413     1000   2018-12-26   270.99\n",
       "4  1000_442     1000   2018-12-27   880.22\n",
       "5    1001_0     1001   2018-08-24   284.68\n",
       "6    1001_3     1001   2018-12-09   656.04\n",
       "7    1001_4     1001   2018-11-04    16.97\n",
       "8   1001_10     1001   2018-11-27   135.18\n",
       "9   1001_15     1001   2018-12-13   761.92"
      ]
     },
     "execution_count": 28,
     "metadata": {},
     "output_type": "execute_result"
    }
   ],
   "source": [
    "# Printing a sample of data for the internet traffic\n",
    "internet.head(10)"
   ]
  },
  {
   "cell_type": "markdown",
   "metadata": {},
   "source": [
    "According to the documentation and as can be seen, the table contains information about web sessions including unique session identifier, the volume of data spent during the session (in megabytes), web session date, and the user identifier.\n",
    "\n",
    "As can be seen, `session_date` has an incorrect type, so it needs to be fixed. Also, to ease the further calculations we will add `month` column. This column will contain the number of the month when the session took place."
   ]
  },
  {
   "cell_type": "markdown",
   "metadata": {},
   "source": [
    "### Fixing data"
   ]
  },
  {
   "cell_type": "markdown",
   "metadata": {},
   "source": [
    "As stated above, we will fix the type for the `session_date` column."
   ]
  },
  {
   "cell_type": "code",
   "execution_count": 29,
   "metadata": {},
   "outputs": [],
   "source": [
    "# fixing the type for the session_date column\n",
    "internet['session_date']=pd.to_datetime(internet['session_date'], format='%Y-%m-%d') "
   ]
  },
  {
   "cell_type": "markdown",
   "metadata": {},
   "source": [
    "Let's check that the issues were fixed."
   ]
  },
  {
   "cell_type": "code",
   "execution_count": 30,
   "metadata": {},
   "outputs": [
    {
     "name": "stdout",
     "output_type": "stream",
     "text": [
      "<class 'pandas.core.frame.DataFrame'>\n",
      "RangeIndex: 104825 entries, 0 to 104824\n",
      "Data columns (total 4 columns):\n",
      " #   Column        Non-Null Count   Dtype         \n",
      "---  ------        --------------   -----         \n",
      " 0   id            104825 non-null  object        \n",
      " 1   user_id       104825 non-null  int64         \n",
      " 2   session_date  104825 non-null  datetime64[ns]\n",
      " 3   mb_used       104825 non-null  float64       \n",
      "dtypes: datetime64[ns](1), float64(1), int64(1), object(1)\n",
      "memory usage: 3.2+ MB\n",
      "None\n"
     ]
    },
    {
     "data": {
      "text/html": [
       "<div>\n",
       "<style scoped>\n",
       "    .dataframe tbody tr th:only-of-type {\n",
       "        vertical-align: middle;\n",
       "    }\n",
       "\n",
       "    .dataframe tbody tr th {\n",
       "        vertical-align: top;\n",
       "    }\n",
       "\n",
       "    .dataframe thead th {\n",
       "        text-align: right;\n",
       "    }\n",
       "</style>\n",
       "<table border=\"1\" class=\"dataframe\">\n",
       "  <thead>\n",
       "    <tr style=\"text-align: right;\">\n",
       "      <th></th>\n",
       "      <th>id</th>\n",
       "      <th>user_id</th>\n",
       "      <th>session_date</th>\n",
       "      <th>mb_used</th>\n",
       "    </tr>\n",
       "  </thead>\n",
       "  <tbody>\n",
       "    <tr>\n",
       "      <th>0</th>\n",
       "      <td>1000_13</td>\n",
       "      <td>1000</td>\n",
       "      <td>2018-12-29</td>\n",
       "      <td>89.86</td>\n",
       "    </tr>\n",
       "    <tr>\n",
       "      <th>1</th>\n",
       "      <td>1000_204</td>\n",
       "      <td>1000</td>\n",
       "      <td>2018-12-31</td>\n",
       "      <td>0.00</td>\n",
       "    </tr>\n",
       "    <tr>\n",
       "      <th>2</th>\n",
       "      <td>1000_379</td>\n",
       "      <td>1000</td>\n",
       "      <td>2018-12-28</td>\n",
       "      <td>660.40</td>\n",
       "    </tr>\n",
       "    <tr>\n",
       "      <th>3</th>\n",
       "      <td>1000_413</td>\n",
       "      <td>1000</td>\n",
       "      <td>2018-12-26</td>\n",
       "      <td>270.99</td>\n",
       "    </tr>\n",
       "    <tr>\n",
       "      <th>4</th>\n",
       "      <td>1000_442</td>\n",
       "      <td>1000</td>\n",
       "      <td>2018-12-27</td>\n",
       "      <td>880.22</td>\n",
       "    </tr>\n",
       "    <tr>\n",
       "      <th>5</th>\n",
       "      <td>1001_0</td>\n",
       "      <td>1001</td>\n",
       "      <td>2018-08-24</td>\n",
       "      <td>284.68</td>\n",
       "    </tr>\n",
       "    <tr>\n",
       "      <th>6</th>\n",
       "      <td>1001_3</td>\n",
       "      <td>1001</td>\n",
       "      <td>2018-12-09</td>\n",
       "      <td>656.04</td>\n",
       "    </tr>\n",
       "    <tr>\n",
       "      <th>7</th>\n",
       "      <td>1001_4</td>\n",
       "      <td>1001</td>\n",
       "      <td>2018-11-04</td>\n",
       "      <td>16.97</td>\n",
       "    </tr>\n",
       "    <tr>\n",
       "      <th>8</th>\n",
       "      <td>1001_10</td>\n",
       "      <td>1001</td>\n",
       "      <td>2018-11-27</td>\n",
       "      <td>135.18</td>\n",
       "    </tr>\n",
       "    <tr>\n",
       "      <th>9</th>\n",
       "      <td>1001_15</td>\n",
       "      <td>1001</td>\n",
       "      <td>2018-12-13</td>\n",
       "      <td>761.92</td>\n",
       "    </tr>\n",
       "  </tbody>\n",
       "</table>\n",
       "</div>"
      ],
      "text/plain": [
       "         id  user_id session_date  mb_used\n",
       "0   1000_13     1000   2018-12-29    89.86\n",
       "1  1000_204     1000   2018-12-31     0.00\n",
       "2  1000_379     1000   2018-12-28   660.40\n",
       "3  1000_413     1000   2018-12-26   270.99\n",
       "4  1000_442     1000   2018-12-27   880.22\n",
       "5    1001_0     1001   2018-08-24   284.68\n",
       "6    1001_3     1001   2018-12-09   656.04\n",
       "7    1001_4     1001   2018-11-04    16.97\n",
       "8   1001_10     1001   2018-11-27   135.18\n",
       "9   1001_15     1001   2018-12-13   761.92"
      ]
     },
     "execution_count": 30,
     "metadata": {},
     "output_type": "execute_result"
    }
   ],
   "source": [
    "# Printing the general/summary information about the internet DataFrame\n",
    "print(internet.info())\n",
    "\n",
    "# Printing a sample of data for the internet traffic\n",
    "internet.head(10)"
   ]
  },
  {
   "cell_type": "markdown",
   "metadata": {},
   "source": [
    "The issue looks to be fixed. Next we will enrich the data in `internet` table."
   ]
  },
  {
   "cell_type": "markdown",
   "metadata": {},
   "source": [
    "### Enriching data"
   ]
  },
  {
   "cell_type": "markdown",
   "metadata": {},
   "source": [
    "To ease the further calculations, we will add the `month` column. This column will contain the number of the month when the session took place."
   ]
  },
  {
   "cell_type": "code",
   "execution_count": 31,
   "metadata": {},
   "outputs": [],
   "source": [
    "#adding month colunm\n",
    "internet['month']=internet['session_date'].dt.month"
   ]
  },
  {
   "cell_type": "markdown",
   "metadata": {},
   "source": [
    "Let's check that the column was added correctly."
   ]
  },
  {
   "cell_type": "code",
   "execution_count": 32,
   "metadata": {},
   "outputs": [
    {
     "data": {
      "text/html": [
       "<div>\n",
       "<style scoped>\n",
       "    .dataframe tbody tr th:only-of-type {\n",
       "        vertical-align: middle;\n",
       "    }\n",
       "\n",
       "    .dataframe tbody tr th {\n",
       "        vertical-align: top;\n",
       "    }\n",
       "\n",
       "    .dataframe thead th {\n",
       "        text-align: right;\n",
       "    }\n",
       "</style>\n",
       "<table border=\"1\" class=\"dataframe\">\n",
       "  <thead>\n",
       "    <tr style=\"text-align: right;\">\n",
       "      <th></th>\n",
       "      <th>id</th>\n",
       "      <th>user_id</th>\n",
       "      <th>session_date</th>\n",
       "      <th>mb_used</th>\n",
       "      <th>month</th>\n",
       "    </tr>\n",
       "  </thead>\n",
       "  <tbody>\n",
       "    <tr>\n",
       "      <th>0</th>\n",
       "      <td>1000_13</td>\n",
       "      <td>1000</td>\n",
       "      <td>2018-12-29</td>\n",
       "      <td>89.86</td>\n",
       "      <td>12</td>\n",
       "    </tr>\n",
       "    <tr>\n",
       "      <th>1</th>\n",
       "      <td>1000_204</td>\n",
       "      <td>1000</td>\n",
       "      <td>2018-12-31</td>\n",
       "      <td>0.00</td>\n",
       "      <td>12</td>\n",
       "    </tr>\n",
       "    <tr>\n",
       "      <th>2</th>\n",
       "      <td>1000_379</td>\n",
       "      <td>1000</td>\n",
       "      <td>2018-12-28</td>\n",
       "      <td>660.40</td>\n",
       "      <td>12</td>\n",
       "    </tr>\n",
       "    <tr>\n",
       "      <th>3</th>\n",
       "      <td>1000_413</td>\n",
       "      <td>1000</td>\n",
       "      <td>2018-12-26</td>\n",
       "      <td>270.99</td>\n",
       "      <td>12</td>\n",
       "    </tr>\n",
       "    <tr>\n",
       "      <th>4</th>\n",
       "      <td>1000_442</td>\n",
       "      <td>1000</td>\n",
       "      <td>2018-12-27</td>\n",
       "      <td>880.22</td>\n",
       "      <td>12</td>\n",
       "    </tr>\n",
       "    <tr>\n",
       "      <th>5</th>\n",
       "      <td>1001_0</td>\n",
       "      <td>1001</td>\n",
       "      <td>2018-08-24</td>\n",
       "      <td>284.68</td>\n",
       "      <td>8</td>\n",
       "    </tr>\n",
       "    <tr>\n",
       "      <th>6</th>\n",
       "      <td>1001_3</td>\n",
       "      <td>1001</td>\n",
       "      <td>2018-12-09</td>\n",
       "      <td>656.04</td>\n",
       "      <td>12</td>\n",
       "    </tr>\n",
       "    <tr>\n",
       "      <th>7</th>\n",
       "      <td>1001_4</td>\n",
       "      <td>1001</td>\n",
       "      <td>2018-11-04</td>\n",
       "      <td>16.97</td>\n",
       "      <td>11</td>\n",
       "    </tr>\n",
       "    <tr>\n",
       "      <th>8</th>\n",
       "      <td>1001_10</td>\n",
       "      <td>1001</td>\n",
       "      <td>2018-11-27</td>\n",
       "      <td>135.18</td>\n",
       "      <td>11</td>\n",
       "    </tr>\n",
       "    <tr>\n",
       "      <th>9</th>\n",
       "      <td>1001_15</td>\n",
       "      <td>1001</td>\n",
       "      <td>2018-12-13</td>\n",
       "      <td>761.92</td>\n",
       "      <td>12</td>\n",
       "    </tr>\n",
       "  </tbody>\n",
       "</table>\n",
       "</div>"
      ],
      "text/plain": [
       "         id  user_id session_date  mb_used  month\n",
       "0   1000_13     1000   2018-12-29    89.86     12\n",
       "1  1000_204     1000   2018-12-31     0.00     12\n",
       "2  1000_379     1000   2018-12-28   660.40     12\n",
       "3  1000_413     1000   2018-12-26   270.99     12\n",
       "4  1000_442     1000   2018-12-27   880.22     12\n",
       "5    1001_0     1001   2018-08-24   284.68      8\n",
       "6    1001_3     1001   2018-12-09   656.04     12\n",
       "7    1001_4     1001   2018-11-04    16.97     11\n",
       "8   1001_10     1001   2018-11-27   135.18     11\n",
       "9   1001_15     1001   2018-12-13   761.92     12"
      ]
     },
     "execution_count": 32,
     "metadata": {},
     "output_type": "execute_result"
    }
   ],
   "source": [
    "# Printing a sample of data for the internet traffic\n",
    "internet.head(10)"
   ]
  },
  {
   "cell_type": "markdown",
   "metadata": {},
   "source": [
    "Values in the month column look correct. \n",
    "\n",
    "We evaluated the quality of the data in each table, identified and addressed the issues with the data, and enriched the data. Next, we will aggregate the data per user to ease further analysis."
   ]
  },
  {
   "cell_type": "markdown",
   "metadata": {},
   "source": [
    "# Stage 2: Data aggregation <a id='data_aggr'></a>\n",
    "\n",
    "Now, when the data in the tables is prepared, we will aggregate data per user per period in order to have just one record per user per period. It should ease the further analysis.\n",
    "\n",
    "First, we will calculate the average number of calls per user per month and add this information to the `users` table. To do this we will group data in the `calls` table by `user_id`. We will count the number of entries in each group and merge this data to the `users` table. Some users may have no calls in some months, therefore we will use the 'left' method of merge and then fill missing values with 0. Then we will divide those values by `duration` the customer used the plan to get the average value."
   ]
  },
  {
   "cell_type": "code",
   "execution_count": 33,
   "metadata": {},
   "outputs": [
    {
     "data": {
      "text/html": [
       "<div>\n",
       "<style scoped>\n",
       "    .dataframe tbody tr th:only-of-type {\n",
       "        vertical-align: middle;\n",
       "    }\n",
       "\n",
       "    .dataframe tbody tr th {\n",
       "        vertical-align: top;\n",
       "    }\n",
       "\n",
       "    .dataframe thead th {\n",
       "        text-align: right;\n",
       "    }\n",
       "</style>\n",
       "<table border=\"1\" class=\"dataframe\">\n",
       "  <thead>\n",
       "    <tr style=\"text-align: right;\">\n",
       "      <th></th>\n",
       "      <th>user_id</th>\n",
       "      <th>first_name</th>\n",
       "      <th>last_name</th>\n",
       "      <th>age</th>\n",
       "      <th>city</th>\n",
       "      <th>reg_date</th>\n",
       "      <th>plan</th>\n",
       "      <th>churn_date</th>\n",
       "      <th>duration</th>\n",
       "      <th>region</th>\n",
       "      <th>avg_calls_monthly</th>\n",
       "    </tr>\n",
       "  </thead>\n",
       "  <tbody>\n",
       "    <tr>\n",
       "      <th>0</th>\n",
       "      <td>1000</td>\n",
       "      <td>Anamaria</td>\n",
       "      <td>Bauer</td>\n",
       "      <td>45</td>\n",
       "      <td>Atlanta-Sandy Springs-Roswell, GA MSA</td>\n",
       "      <td>2018-12-24</td>\n",
       "      <td>ultimate</td>\n",
       "      <td>2018-12-31</td>\n",
       "      <td>1</td>\n",
       "      <td>Other</td>\n",
       "      <td>16</td>\n",
       "    </tr>\n",
       "    <tr>\n",
       "      <th>1</th>\n",
       "      <td>1001</td>\n",
       "      <td>Mickey</td>\n",
       "      <td>Wilkerson</td>\n",
       "      <td>28</td>\n",
       "      <td>Seattle-Tacoma-Bellevue, WA MSA</td>\n",
       "      <td>2018-08-13</td>\n",
       "      <td>surf</td>\n",
       "      <td>2018-12-31</td>\n",
       "      <td>5</td>\n",
       "      <td>Other</td>\n",
       "      <td>52</td>\n",
       "    </tr>\n",
       "    <tr>\n",
       "      <th>2</th>\n",
       "      <td>1002</td>\n",
       "      <td>Carlee</td>\n",
       "      <td>Hoffman</td>\n",
       "      <td>36</td>\n",
       "      <td>Las Vegas-Henderson-Paradise, NV MSA</td>\n",
       "      <td>2018-10-21</td>\n",
       "      <td>surf</td>\n",
       "      <td>2018-12-31</td>\n",
       "      <td>3</td>\n",
       "      <td>Other</td>\n",
       "      <td>37</td>\n",
       "    </tr>\n",
       "    <tr>\n",
       "      <th>3</th>\n",
       "      <td>1003</td>\n",
       "      <td>Reynaldo</td>\n",
       "      <td>Jenkins</td>\n",
       "      <td>52</td>\n",
       "      <td>Tulsa, OK MSA</td>\n",
       "      <td>2018-01-28</td>\n",
       "      <td>surf</td>\n",
       "      <td>2018-12-31</td>\n",
       "      <td>12</td>\n",
       "      <td>Other</td>\n",
       "      <td>12</td>\n",
       "    </tr>\n",
       "    <tr>\n",
       "      <th>4</th>\n",
       "      <td>1004</td>\n",
       "      <td>Leonila</td>\n",
       "      <td>Thompson</td>\n",
       "      <td>40</td>\n",
       "      <td>Seattle-Tacoma-Bellevue, WA MSA</td>\n",
       "      <td>2018-05-23</td>\n",
       "      <td>surf</td>\n",
       "      <td>2018-12-31</td>\n",
       "      <td>8</td>\n",
       "      <td>Other</td>\n",
       "      <td>46</td>\n",
       "    </tr>\n",
       "  </tbody>\n",
       "</table>\n",
       "</div>"
      ],
      "text/plain": [
       "   user_id first_name  last_name  age                                   city  \\\n",
       "0     1000   Anamaria      Bauer   45  Atlanta-Sandy Springs-Roswell, GA MSA   \n",
       "1     1001     Mickey  Wilkerson   28        Seattle-Tacoma-Bellevue, WA MSA   \n",
       "2     1002     Carlee    Hoffman   36   Las Vegas-Henderson-Paradise, NV MSA   \n",
       "3     1003   Reynaldo    Jenkins   52                          Tulsa, OK MSA   \n",
       "4     1004    Leonila   Thompson   40        Seattle-Tacoma-Bellevue, WA MSA   \n",
       "\n",
       "    reg_date      plan churn_date  duration region  avg_calls_monthly  \n",
       "0 2018-12-24  ultimate 2018-12-31         1  Other                 16  \n",
       "1 2018-08-13      surf 2018-12-31         5  Other                 52  \n",
       "2 2018-10-21      surf 2018-12-31         3  Other                 37  \n",
       "3 2018-01-28      surf 2018-12-31        12  Other                 12  \n",
       "4 2018-05-23      surf 2018-12-31         8  Other                 46  "
      ]
     },
     "execution_count": 33,
     "metadata": {},
     "output_type": "execute_result"
    }
   ],
   "source": [
    "# grouping data in calls table by user_id and counting the number of entries in each group\n",
    "calls_per_user=calls.groupby('user_id')['duration'].count()\n",
    "\n",
    "#renaming the column that cantains the counts\n",
    "calls_per_user=calls_per_user.rename('avg_calls_monthly') \n",
    "\n",
    "#merging the calls count data to users table\n",
    "users=users.merge(calls_per_user, on='user_id', how='left')\n",
    "\n",
    "#filling missing values in 'avg_calls_monthly' column with 0\n",
    "users['avg_calls_monthly']=users['avg_calls_monthly'].fillna(0)\n",
    "\n",
    "#dividing values in 'avg_calls_monthly' column by `duration` the customer used the plan to get the average values\n",
    "users['avg_calls_monthly']=(users['avg_calls_monthly']/users['duration']).astype(int)\n",
    "\n",
    "#Printing a sample of data for the users to ensure that the data was added correctly\n",
    "users.head()"
   ]
  },
  {
   "cell_type": "markdown",
   "metadata": {},
   "source": [
    "Secondly, we will calculate the average number of minutes spent on calls per user per month and add this information to the users table. To do this we will group data in the calls table by user_id. We will sum up individual calls duration in each group and merge this data to the users table. Some users may have no calls in some months, therefore we will use the 'left' method of merge and then fill missing values with 0. Then we will divide those values by the duration the customer used the plan to get the average value."
   ]
  },
  {
   "cell_type": "code",
   "execution_count": 34,
   "metadata": {},
   "outputs": [
    {
     "data": {
      "text/html": [
       "<div>\n",
       "<style scoped>\n",
       "    .dataframe tbody tr th:only-of-type {\n",
       "        vertical-align: middle;\n",
       "    }\n",
       "\n",
       "    .dataframe tbody tr th {\n",
       "        vertical-align: top;\n",
       "    }\n",
       "\n",
       "    .dataframe thead th {\n",
       "        text-align: right;\n",
       "    }\n",
       "</style>\n",
       "<table border=\"1\" class=\"dataframe\">\n",
       "  <thead>\n",
       "    <tr style=\"text-align: right;\">\n",
       "      <th></th>\n",
       "      <th>user_id</th>\n",
       "      <th>first_name</th>\n",
       "      <th>last_name</th>\n",
       "      <th>age</th>\n",
       "      <th>city</th>\n",
       "      <th>reg_date</th>\n",
       "      <th>plan</th>\n",
       "      <th>churn_date</th>\n",
       "      <th>duration</th>\n",
       "      <th>region</th>\n",
       "      <th>avg_calls_monthly</th>\n",
       "      <th>avg_min_monthly</th>\n",
       "    </tr>\n",
       "  </thead>\n",
       "  <tbody>\n",
       "    <tr>\n",
       "      <th>0</th>\n",
       "      <td>1000</td>\n",
       "      <td>Anamaria</td>\n",
       "      <td>Bauer</td>\n",
       "      <td>45</td>\n",
       "      <td>Atlanta-Sandy Springs-Roswell, GA MSA</td>\n",
       "      <td>2018-12-24</td>\n",
       "      <td>ultimate</td>\n",
       "      <td>2018-12-31</td>\n",
       "      <td>1</td>\n",
       "      <td>Other</td>\n",
       "      <td>16</td>\n",
       "      <td>124</td>\n",
       "    </tr>\n",
       "    <tr>\n",
       "      <th>1</th>\n",
       "      <td>1001</td>\n",
       "      <td>Mickey</td>\n",
       "      <td>Wilkerson</td>\n",
       "      <td>28</td>\n",
       "      <td>Seattle-Tacoma-Bellevue, WA MSA</td>\n",
       "      <td>2018-08-13</td>\n",
       "      <td>surf</td>\n",
       "      <td>2018-12-31</td>\n",
       "      <td>5</td>\n",
       "      <td>Other</td>\n",
       "      <td>52</td>\n",
       "      <td>345</td>\n",
       "    </tr>\n",
       "    <tr>\n",
       "      <th>2</th>\n",
       "      <td>1002</td>\n",
       "      <td>Carlee</td>\n",
       "      <td>Hoffman</td>\n",
       "      <td>36</td>\n",
       "      <td>Las Vegas-Henderson-Paradise, NV MSA</td>\n",
       "      <td>2018-10-21</td>\n",
       "      <td>surf</td>\n",
       "      <td>2018-12-31</td>\n",
       "      <td>3</td>\n",
       "      <td>Other</td>\n",
       "      <td>37</td>\n",
       "      <td>276</td>\n",
       "    </tr>\n",
       "    <tr>\n",
       "      <th>3</th>\n",
       "      <td>1003</td>\n",
       "      <td>Reynaldo</td>\n",
       "      <td>Jenkins</td>\n",
       "      <td>52</td>\n",
       "      <td>Tulsa, OK MSA</td>\n",
       "      <td>2018-01-28</td>\n",
       "      <td>surf</td>\n",
       "      <td>2018-12-31</td>\n",
       "      <td>12</td>\n",
       "      <td>Other</td>\n",
       "      <td>12</td>\n",
       "      <td>92</td>\n",
       "    </tr>\n",
       "    <tr>\n",
       "      <th>4</th>\n",
       "      <td>1004</td>\n",
       "      <td>Leonila</td>\n",
       "      <td>Thompson</td>\n",
       "      <td>40</td>\n",
       "      <td>Seattle-Tacoma-Bellevue, WA MSA</td>\n",
       "      <td>2018-05-23</td>\n",
       "      <td>surf</td>\n",
       "      <td>2018-12-31</td>\n",
       "      <td>8</td>\n",
       "      <td>Other</td>\n",
       "      <td>46</td>\n",
       "      <td>346</td>\n",
       "    </tr>\n",
       "  </tbody>\n",
       "</table>\n",
       "</div>"
      ],
      "text/plain": [
       "   user_id first_name  last_name  age                                   city  \\\n",
       "0     1000   Anamaria      Bauer   45  Atlanta-Sandy Springs-Roswell, GA MSA   \n",
       "1     1001     Mickey  Wilkerson   28        Seattle-Tacoma-Bellevue, WA MSA   \n",
       "2     1002     Carlee    Hoffman   36   Las Vegas-Henderson-Paradise, NV MSA   \n",
       "3     1003   Reynaldo    Jenkins   52                          Tulsa, OK MSA   \n",
       "4     1004    Leonila   Thompson   40        Seattle-Tacoma-Bellevue, WA MSA   \n",
       "\n",
       "    reg_date      plan churn_date  duration region  avg_calls_monthly  \\\n",
       "0 2018-12-24  ultimate 2018-12-31         1  Other                 16   \n",
       "1 2018-08-13      surf 2018-12-31         5  Other                 52   \n",
       "2 2018-10-21      surf 2018-12-31         3  Other                 37   \n",
       "3 2018-01-28      surf 2018-12-31        12  Other                 12   \n",
       "4 2018-05-23      surf 2018-12-31         8  Other                 46   \n",
       "\n",
       "   avg_min_monthly  \n",
       "0              124  \n",
       "1              345  \n",
       "2              276  \n",
       "3               92  \n",
       "4              346  "
      ]
     },
     "execution_count": 34,
     "metadata": {},
     "output_type": "execute_result"
    }
   ],
   "source": [
    "# grouping data in calls table by user_id and summing up individual calls duration in each group\n",
    "min_per_user=calls.groupby('user_id')['duration'].sum()\n",
    "\n",
    "#renaming the column that cantains summed up calles duration\n",
    "min_per_user=min_per_user.rename('avg_min_monthly')\n",
    "\n",
    "#merging the data to users table\n",
    "users=users.merge(min_per_user, on='user_id', how='left')\n",
    "\n",
    "#filling missing values in 'avg_min_monthly' column with 0\n",
    "users['avg_min_monthly']=users['avg_min_monthly'].fillna(0)\n",
    "\n",
    "#dividing values in 'avg_min_monthly' column by `duration` the customer used the plan to get the average values\n",
    "users['avg_min_monthly']=(users['avg_min_monthly']/users['duration']).astype(int)\n",
    "\n",
    "#Printing a sample of data for the users to ensure that the data was added correctly\n",
    "users.head()"
   ]
  },
  {
   "cell_type": "markdown",
   "metadata": {},
   "source": [
    "Next, we will calculate the average number of messages per user per month and add this information to the users table. To do this we will group data in the `messages` table by `user_id`. We will count the number of messages in each group and merge this data to the users table. Some users may have no messages in some months, therefore we will use the 'left' method of merge and then fill missing values with 0. Then we will divide those values by the duration the customer used the plan to get the average value."
   ]
  },
  {
   "cell_type": "code",
   "execution_count": 35,
   "metadata": {},
   "outputs": [
    {
     "data": {
      "text/html": [
       "<div>\n",
       "<style scoped>\n",
       "    .dataframe tbody tr th:only-of-type {\n",
       "        vertical-align: middle;\n",
       "    }\n",
       "\n",
       "    .dataframe tbody tr th {\n",
       "        vertical-align: top;\n",
       "    }\n",
       "\n",
       "    .dataframe thead th {\n",
       "        text-align: right;\n",
       "    }\n",
       "</style>\n",
       "<table border=\"1\" class=\"dataframe\">\n",
       "  <thead>\n",
       "    <tr style=\"text-align: right;\">\n",
       "      <th></th>\n",
       "      <th>user_id</th>\n",
       "      <th>first_name</th>\n",
       "      <th>last_name</th>\n",
       "      <th>age</th>\n",
       "      <th>city</th>\n",
       "      <th>reg_date</th>\n",
       "      <th>plan</th>\n",
       "      <th>churn_date</th>\n",
       "      <th>duration</th>\n",
       "      <th>region</th>\n",
       "      <th>avg_calls_monthly</th>\n",
       "      <th>avg_min_monthly</th>\n",
       "      <th>avg_messages_monthly</th>\n",
       "    </tr>\n",
       "  </thead>\n",
       "  <tbody>\n",
       "    <tr>\n",
       "      <th>0</th>\n",
       "      <td>1000</td>\n",
       "      <td>Anamaria</td>\n",
       "      <td>Bauer</td>\n",
       "      <td>45</td>\n",
       "      <td>Atlanta-Sandy Springs-Roswell, GA MSA</td>\n",
       "      <td>2018-12-24</td>\n",
       "      <td>ultimate</td>\n",
       "      <td>2018-12-31</td>\n",
       "      <td>1</td>\n",
       "      <td>Other</td>\n",
       "      <td>16</td>\n",
       "      <td>124</td>\n",
       "      <td>11</td>\n",
       "    </tr>\n",
       "    <tr>\n",
       "      <th>1</th>\n",
       "      <td>1001</td>\n",
       "      <td>Mickey</td>\n",
       "      <td>Wilkerson</td>\n",
       "      <td>28</td>\n",
       "      <td>Seattle-Tacoma-Bellevue, WA MSA</td>\n",
       "      <td>2018-08-13</td>\n",
       "      <td>surf</td>\n",
       "      <td>2018-12-31</td>\n",
       "      <td>5</td>\n",
       "      <td>Other</td>\n",
       "      <td>52</td>\n",
       "      <td>345</td>\n",
       "      <td>41</td>\n",
       "    </tr>\n",
       "    <tr>\n",
       "      <th>2</th>\n",
       "      <td>1002</td>\n",
       "      <td>Carlee</td>\n",
       "      <td>Hoffman</td>\n",
       "      <td>36</td>\n",
       "      <td>Las Vegas-Henderson-Paradise, NV MSA</td>\n",
       "      <td>2018-10-21</td>\n",
       "      <td>surf</td>\n",
       "      <td>2018-12-31</td>\n",
       "      <td>3</td>\n",
       "      <td>Other</td>\n",
       "      <td>37</td>\n",
       "      <td>276</td>\n",
       "      <td>29</td>\n",
       "    </tr>\n",
       "    <tr>\n",
       "      <th>3</th>\n",
       "      <td>1003</td>\n",
       "      <td>Reynaldo</td>\n",
       "      <td>Jenkins</td>\n",
       "      <td>52</td>\n",
       "      <td>Tulsa, OK MSA</td>\n",
       "      <td>2018-01-28</td>\n",
       "      <td>surf</td>\n",
       "      <td>2018-12-31</td>\n",
       "      <td>12</td>\n",
       "      <td>Other</td>\n",
       "      <td>12</td>\n",
       "      <td>92</td>\n",
       "      <td>4</td>\n",
       "    </tr>\n",
       "    <tr>\n",
       "      <th>4</th>\n",
       "      <td>1004</td>\n",
       "      <td>Leonila</td>\n",
       "      <td>Thompson</td>\n",
       "      <td>40</td>\n",
       "      <td>Seattle-Tacoma-Bellevue, WA MSA</td>\n",
       "      <td>2018-05-23</td>\n",
       "      <td>surf</td>\n",
       "      <td>2018-12-31</td>\n",
       "      <td>8</td>\n",
       "      <td>Other</td>\n",
       "      <td>46</td>\n",
       "      <td>346</td>\n",
       "      <td>22</td>\n",
       "    </tr>\n",
       "  </tbody>\n",
       "</table>\n",
       "</div>"
      ],
      "text/plain": [
       "   user_id first_name  last_name  age                                   city  \\\n",
       "0     1000   Anamaria      Bauer   45  Atlanta-Sandy Springs-Roswell, GA MSA   \n",
       "1     1001     Mickey  Wilkerson   28        Seattle-Tacoma-Bellevue, WA MSA   \n",
       "2     1002     Carlee    Hoffman   36   Las Vegas-Henderson-Paradise, NV MSA   \n",
       "3     1003   Reynaldo    Jenkins   52                          Tulsa, OK MSA   \n",
       "4     1004    Leonila   Thompson   40        Seattle-Tacoma-Bellevue, WA MSA   \n",
       "\n",
       "    reg_date      plan churn_date  duration region  avg_calls_monthly  \\\n",
       "0 2018-12-24  ultimate 2018-12-31         1  Other                 16   \n",
       "1 2018-08-13      surf 2018-12-31         5  Other                 52   \n",
       "2 2018-10-21      surf 2018-12-31         3  Other                 37   \n",
       "3 2018-01-28      surf 2018-12-31        12  Other                 12   \n",
       "4 2018-05-23      surf 2018-12-31         8  Other                 46   \n",
       "\n",
       "   avg_min_monthly  avg_messages_monthly  \n",
       "0              124                    11  \n",
       "1              345                    41  \n",
       "2              276                    29  \n",
       "3               92                     4  \n",
       "4              346                    22  "
      ]
     },
     "execution_count": 35,
     "metadata": {},
     "output_type": "execute_result"
    }
   ],
   "source": [
    "#grouping data in messages table by user_id and counting the number of entries in each group\n",
    "messages_per_user=messages.groupby('user_id')['month'].count()\n",
    "\n",
    "#renaming the column that cantains the counts\n",
    "messages_per_user=messages_per_user.rename('avg_messages_monthly')\n",
    "\n",
    "#merging the messages count data to users table\n",
    "users=users.merge(messages_per_user, on='user_id', how='left')\n",
    "\n",
    "#filling missing values in 'avg_messages_monthly' column with 0\n",
    "users['avg_messages_monthly']=users['avg_messages_monthly'].fillna(0)\n",
    "\n",
    "#dividing values in 'avg_messages_monthly' column by `duration` the customer used the plan to get the average values\n",
    "users['avg_messages_monthly']=(users['avg_messages_monthly']/users['duration']).astype(int)\n",
    "\n",
    "#Printing a sample of data for the users to ensure that the data was added correctly\n",
    "users.head()"
   ]
  },
  {
   "cell_type": "markdown",
   "metadata": {},
   "source": [
    "Then, we will calculate the average traffic per user per month and add this information to the users table. To do this we will group data in the internet table by user_id. We will sum up individual sessions traffic in each group in each group and merge this data to the users table. Some users may not use internet traffic in some months, therefore we will use the 'left' method of merge and then fill missing values with 0. Then we will divide those values by the duration the customer used the plan to get the average value."
   ]
  },
  {
   "cell_type": "code",
   "execution_count": 36,
   "metadata": {},
   "outputs": [
    {
     "data": {
      "text/html": [
       "<div>\n",
       "<style scoped>\n",
       "    .dataframe tbody tr th:only-of-type {\n",
       "        vertical-align: middle;\n",
       "    }\n",
       "\n",
       "    .dataframe tbody tr th {\n",
       "        vertical-align: top;\n",
       "    }\n",
       "\n",
       "    .dataframe thead th {\n",
       "        text-align: right;\n",
       "    }\n",
       "</style>\n",
       "<table border=\"1\" class=\"dataframe\">\n",
       "  <thead>\n",
       "    <tr style=\"text-align: right;\">\n",
       "      <th></th>\n",
       "      <th>user_id</th>\n",
       "      <th>first_name</th>\n",
       "      <th>last_name</th>\n",
       "      <th>age</th>\n",
       "      <th>city</th>\n",
       "      <th>reg_date</th>\n",
       "      <th>plan</th>\n",
       "      <th>churn_date</th>\n",
       "      <th>duration</th>\n",
       "      <th>region</th>\n",
       "      <th>avg_calls_monthly</th>\n",
       "      <th>avg_min_monthly</th>\n",
       "      <th>avg_messages_monthly</th>\n",
       "      <th>avg_traffic_monthly</th>\n",
       "    </tr>\n",
       "  </thead>\n",
       "  <tbody>\n",
       "    <tr>\n",
       "      <th>0</th>\n",
       "      <td>1000</td>\n",
       "      <td>Anamaria</td>\n",
       "      <td>Bauer</td>\n",
       "      <td>45</td>\n",
       "      <td>Atlanta-Sandy Springs-Roswell, GA MSA</td>\n",
       "      <td>2018-12-24</td>\n",
       "      <td>ultimate</td>\n",
       "      <td>2018-12-31</td>\n",
       "      <td>1</td>\n",
       "      <td>Other</td>\n",
       "      <td>16</td>\n",
       "      <td>124</td>\n",
       "      <td>11</td>\n",
       "      <td>1901</td>\n",
       "    </tr>\n",
       "    <tr>\n",
       "      <th>1</th>\n",
       "      <td>1001</td>\n",
       "      <td>Mickey</td>\n",
       "      <td>Wilkerson</td>\n",
       "      <td>28</td>\n",
       "      <td>Seattle-Tacoma-Bellevue, WA MSA</td>\n",
       "      <td>2018-08-13</td>\n",
       "      <td>surf</td>\n",
       "      <td>2018-12-31</td>\n",
       "      <td>5</td>\n",
       "      <td>Other</td>\n",
       "      <td>52</td>\n",
       "      <td>345</td>\n",
       "      <td>41</td>\n",
       "      <td>16087</td>\n",
       "    </tr>\n",
       "    <tr>\n",
       "      <th>2</th>\n",
       "      <td>1002</td>\n",
       "      <td>Carlee</td>\n",
       "      <td>Hoffman</td>\n",
       "      <td>36</td>\n",
       "      <td>Las Vegas-Henderson-Paradise, NV MSA</td>\n",
       "      <td>2018-10-21</td>\n",
       "      <td>surf</td>\n",
       "      <td>2018-12-31</td>\n",
       "      <td>3</td>\n",
       "      <td>Other</td>\n",
       "      <td>37</td>\n",
       "      <td>276</td>\n",
       "      <td>29</td>\n",
       "      <td>13431</td>\n",
       "    </tr>\n",
       "    <tr>\n",
       "      <th>3</th>\n",
       "      <td>1003</td>\n",
       "      <td>Reynaldo</td>\n",
       "      <td>Jenkins</td>\n",
       "      <td>52</td>\n",
       "      <td>Tulsa, OK MSA</td>\n",
       "      <td>2018-01-28</td>\n",
       "      <td>surf</td>\n",
       "      <td>2018-12-31</td>\n",
       "      <td>12</td>\n",
       "      <td>Other</td>\n",
       "      <td>12</td>\n",
       "      <td>92</td>\n",
       "      <td>4</td>\n",
       "      <td>2253</td>\n",
       "    </tr>\n",
       "    <tr>\n",
       "      <th>4</th>\n",
       "      <td>1004</td>\n",
       "      <td>Leonila</td>\n",
       "      <td>Thompson</td>\n",
       "      <td>40</td>\n",
       "      <td>Seattle-Tacoma-Bellevue, WA MSA</td>\n",
       "      <td>2018-05-23</td>\n",
       "      <td>surf</td>\n",
       "      <td>2018-12-31</td>\n",
       "      <td>8</td>\n",
       "      <td>Other</td>\n",
       "      <td>46</td>\n",
       "      <td>346</td>\n",
       "      <td>22</td>\n",
       "      <td>19544</td>\n",
       "    </tr>\n",
       "  </tbody>\n",
       "</table>\n",
       "</div>"
      ],
      "text/plain": [
       "   user_id first_name  last_name  age                                   city  \\\n",
       "0     1000   Anamaria      Bauer   45  Atlanta-Sandy Springs-Roswell, GA MSA   \n",
       "1     1001     Mickey  Wilkerson   28        Seattle-Tacoma-Bellevue, WA MSA   \n",
       "2     1002     Carlee    Hoffman   36   Las Vegas-Henderson-Paradise, NV MSA   \n",
       "3     1003   Reynaldo    Jenkins   52                          Tulsa, OK MSA   \n",
       "4     1004    Leonila   Thompson   40        Seattle-Tacoma-Bellevue, WA MSA   \n",
       "\n",
       "    reg_date      plan churn_date  duration region  avg_calls_monthly  \\\n",
       "0 2018-12-24  ultimate 2018-12-31         1  Other                 16   \n",
       "1 2018-08-13      surf 2018-12-31         5  Other                 52   \n",
       "2 2018-10-21      surf 2018-12-31         3  Other                 37   \n",
       "3 2018-01-28      surf 2018-12-31        12  Other                 12   \n",
       "4 2018-05-23      surf 2018-12-31         8  Other                 46   \n",
       "\n",
       "   avg_min_monthly  avg_messages_monthly  avg_traffic_monthly  \n",
       "0              124                    11                 1901  \n",
       "1              345                    41                16087  \n",
       "2              276                    29                13431  \n",
       "3               92                     4                 2253  \n",
       "4              346                    22                19544  "
      ]
     },
     "execution_count": 36,
     "metadata": {},
     "output_type": "execute_result"
    }
   ],
   "source": [
    "#grouping data in internet table by user_id and summing up individual sessionss traffic in each group\n",
    "traffic_per_user=internet.groupby('user_id')['mb_used'].sum()\n",
    "\n",
    "#renaming the column that cantains the summed up traffic\n",
    "traffic_per_user=traffic_per_user.rename('avg_traffic_monthly')\n",
    "\n",
    "#merging the data to users table\n",
    "users=users.merge(traffic_per_user, on='user_id', how='left')\n",
    "\n",
    "#filling missing values in 'avg_traffic_monthly' column with 0\n",
    "users['avg_traffic_monthly']=users['avg_traffic_monthly'].fillna(0)\n",
    "\n",
    "#dividing values in 'avg_traffic_monthly' column by `duration` the customer used the plan to get the average values\n",
    "users['avg_traffic_monthly']=(users['avg_traffic_monthly']/users['duration']).astype(int)\n",
    "\n",
    "#Printing a sample of data for the users to ensure that the data was added correctly\n",
    "users.head()"
   ]
  },
  {
   "cell_type": "markdown",
   "metadata": {},
   "source": [
    "Finally, we will calculate the average revenue per user per month and add this information to the users table. We cannot calculate average monthly revenue using average minutes, messages, and traffic values calculated previously, because it will give an incorrect result. For example, if a user of surf plan used just 1 minute in one month and 999 minutes in the second month, the avarage number of minutes would be 500 which is within the prepaid limit. But in fact, in the second month, the user would be charged 499*0.03=$4.97 for the minutes used beyond the limit. \n",
    "\n",
    "To calculate average monthly revenue we will define a function that will take a row from users table as an input and will return the average monthly revenue for that user. For a given user the function will get a slice of the data for this user from `calls`, `messages` and `internet` tables and will aggregate these slices by months. For every month the function will calculate the number of minutes, messages, and traffic used beyond the limit and multiply them by coefficients provided in the plan table. Then, these values will be summed up, and plan monthly charges will be added. And then the get value will be divided by the number of months the customer used the plan."
   ]
  },
  {
   "cell_type": "code",
   "execution_count": 37,
   "metadata": {},
   "outputs": [],
   "source": [
    "# defining function to calculate monthly revenue for a user\n",
    "def revenue(user):\n",
    "\n",
    "#declaring revenue variable and setting it to 0\n",
    "    revenue=0    \n",
    "\n",
    "#getting user_id, plan and duration from the function input\n",
    "    user_id=user['user_id']\n",
    "    plan=user['plan']\n",
    "    duration=user['duration']   \n",
    "    \n",
    "#getting the number of minutes used by the user in each month\n",
    "    calls_duration=calls[calls['user_id']==user_id].pivot_table(index='month',values='duration',aggfunc='sum')\n",
    "    \n",
    "#getting the number of messages used by the user in each month\n",
    "    messages_count=messages[messages['user_id']==user_id].pivot_table(index='month',values='message_date',aggfunc='count')\n",
    "    \n",
    "#getting the amoiunt of traffic for the user in each month\n",
    "    traffic_count=internet[internet['user_id']==user_id].pivot_table(index='month',values='mb_used',aggfunc='sum')\n",
    "    \n",
    "#culculation total revenue for the user if hes plan is surf              \n",
    "    if plan=='surf':        \n",
    "#looping through the months in calls_duration table, calculating the amount of \n",
    "#minutes used beyond limit and multiplying them by coefficient provided in the plan table\n",
    "        for month in calls_duration.index:        \n",
    "            if calls_duration.loc[month,'duration']>500:\n",
    "                revenue+=(calls_duration.loc[month,'duration']-500)*0.03\n",
    "#looping through the months in messages_count table, calculating the amount of \n",
    "#messages used beyond limit and multiplying them by coefficient provided in the plan table\n",
    "        for month in messages_count.index: \n",
    "            if messages_count.loc[month,'message_date']>50:\n",
    "                revenue+=(messages_count.loc[month,'message_date']-50)*0.03                \n",
    "#looping through the months in traffic_count table, calculating the amount of \n",
    "#traffic used beyond limit and multiplying it by coefficient provided in the plan table\n",
    "        for month in traffic_count.index:\n",
    "            if traffic_count.loc[month,'mb_used']>15360:\n",
    "                revenue+=((traffic_count.loc[month,'mb_used']//1024)+1-15)*10\n",
    "#adding the plan monthly charges to total revenue\n",
    "        revenue+=duration*20\n",
    "        \n",
    "#culculation total revenue for the user if hes plan is ultimate                  \n",
    "    if plan=='ultimate':\n",
    "#looping through the months in calls_duration table, calculating the amount of \n",
    "#minutes used beyond limit and multiplying them by coefficient provided in the plan table\n",
    "        for month in calls_duration.index:\n",
    "            if calls_duration.loc[month,'duration']>3000:\n",
    "                revenue+=(calls_duration.loc[month,'duration']-3000)*0.01 \n",
    "#looping through the months in messages_count table, calculating the amount of \n",
    "#messages used beyond limit and multiplying them by coefficient provided in the plan table\n",
    "        for month in messages_count.index: \n",
    "            if messages_count.loc[month,'message_date']>1000:\n",
    "                revenue+=(messages_count.loc[month,'message_date']-1000)*0.01\n",
    "#looping through the months in traffic_count table, calculating the amount of \n",
    "#traffic used beyond limit and multiplying it by coefficient provided in the plan table\n",
    "        for month in traffic_count.index:\n",
    "            if traffic_count.loc[month,'mb_used']>30720:\n",
    "                revenue+=((traffic_count.loc[month,'mb_used']//1024)+1-30)*7\n",
    "#adding the plan monthly charges to total revenue\n",
    "        revenue+=duration*70\n",
    "\n",
    "#returning the average monthly revenue for the user (total revenue divided by the number of months the customer used the plan)\n",
    "    return int(revenue/duration)"
   ]
  },
  {
   "cell_type": "markdown",
   "metadata": {},
   "source": [
    "Next, we will apply the defined function to add average monthly revenue to the user table."
   ]
  },
  {
   "cell_type": "code",
   "execution_count": 38,
   "metadata": {},
   "outputs": [],
   "source": [
    "#applying the defined function to add average monthly revenue to the user table\n",
    "users['avg_revenue_monthly']=users.apply(revenue, axis=1)"
   ]
  },
  {
   "cell_type": "markdown",
   "metadata": {},
   "source": [
    "Lets check that the average revenue was added correctly."
   ]
  },
  {
   "cell_type": "code",
   "execution_count": 39,
   "metadata": {},
   "outputs": [
    {
     "data": {
      "text/html": [
       "<div>\n",
       "<style scoped>\n",
       "    .dataframe tbody tr th:only-of-type {\n",
       "        vertical-align: middle;\n",
       "    }\n",
       "\n",
       "    .dataframe tbody tr th {\n",
       "        vertical-align: top;\n",
       "    }\n",
       "\n",
       "    .dataframe thead th {\n",
       "        text-align: right;\n",
       "    }\n",
       "</style>\n",
       "<table border=\"1\" class=\"dataframe\">\n",
       "  <thead>\n",
       "    <tr style=\"text-align: right;\">\n",
       "      <th></th>\n",
       "      <th>user_id</th>\n",
       "      <th>first_name</th>\n",
       "      <th>last_name</th>\n",
       "      <th>age</th>\n",
       "      <th>city</th>\n",
       "      <th>reg_date</th>\n",
       "      <th>plan</th>\n",
       "      <th>churn_date</th>\n",
       "      <th>duration</th>\n",
       "      <th>region</th>\n",
       "      <th>avg_calls_monthly</th>\n",
       "      <th>avg_min_monthly</th>\n",
       "      <th>avg_messages_monthly</th>\n",
       "      <th>avg_traffic_monthly</th>\n",
       "      <th>avg_revenue_monthly</th>\n",
       "    </tr>\n",
       "  </thead>\n",
       "  <tbody>\n",
       "    <tr>\n",
       "      <th>0</th>\n",
       "      <td>1000</td>\n",
       "      <td>Anamaria</td>\n",
       "      <td>Bauer</td>\n",
       "      <td>45</td>\n",
       "      <td>Atlanta-Sandy Springs-Roswell, GA MSA</td>\n",
       "      <td>2018-12-24</td>\n",
       "      <td>ultimate</td>\n",
       "      <td>2018-12-31</td>\n",
       "      <td>1</td>\n",
       "      <td>Other</td>\n",
       "      <td>16</td>\n",
       "      <td>124</td>\n",
       "      <td>11</td>\n",
       "      <td>1901</td>\n",
       "      <td>70</td>\n",
       "    </tr>\n",
       "    <tr>\n",
       "      <th>1</th>\n",
       "      <td>1001</td>\n",
       "      <td>Mickey</td>\n",
       "      <td>Wilkerson</td>\n",
       "      <td>28</td>\n",
       "      <td>Seattle-Tacoma-Bellevue, WA MSA</td>\n",
       "      <td>2018-08-13</td>\n",
       "      <td>surf</td>\n",
       "      <td>2018-12-31</td>\n",
       "      <td>5</td>\n",
       "      <td>Other</td>\n",
       "      <td>52</td>\n",
       "      <td>345</td>\n",
       "      <td>41</td>\n",
       "      <td>16087</td>\n",
       "      <td>50</td>\n",
       "    </tr>\n",
       "    <tr>\n",
       "      <th>2</th>\n",
       "      <td>1002</td>\n",
       "      <td>Carlee</td>\n",
       "      <td>Hoffman</td>\n",
       "      <td>36</td>\n",
       "      <td>Las Vegas-Henderson-Paradise, NV MSA</td>\n",
       "      <td>2018-10-21</td>\n",
       "      <td>surf</td>\n",
       "      <td>2018-12-31</td>\n",
       "      <td>3</td>\n",
       "      <td>Other</td>\n",
       "      <td>37</td>\n",
       "      <td>276</td>\n",
       "      <td>29</td>\n",
       "      <td>13431</td>\n",
       "      <td>33</td>\n",
       "    </tr>\n",
       "    <tr>\n",
       "      <th>3</th>\n",
       "      <td>1003</td>\n",
       "      <td>Reynaldo</td>\n",
       "      <td>Jenkins</td>\n",
       "      <td>52</td>\n",
       "      <td>Tulsa, OK MSA</td>\n",
       "      <td>2018-01-28</td>\n",
       "      <td>surf</td>\n",
       "      <td>2018-12-31</td>\n",
       "      <td>12</td>\n",
       "      <td>Other</td>\n",
       "      <td>12</td>\n",
       "      <td>92</td>\n",
       "      <td>4</td>\n",
       "      <td>2253</td>\n",
       "      <td>31</td>\n",
       "    </tr>\n",
       "    <tr>\n",
       "      <th>4</th>\n",
       "      <td>1004</td>\n",
       "      <td>Leonila</td>\n",
       "      <td>Thompson</td>\n",
       "      <td>40</td>\n",
       "      <td>Seattle-Tacoma-Bellevue, WA MSA</td>\n",
       "      <td>2018-05-23</td>\n",
       "      <td>surf</td>\n",
       "      <td>2018-12-31</td>\n",
       "      <td>8</td>\n",
       "      <td>Other</td>\n",
       "      <td>46</td>\n",
       "      <td>346</td>\n",
       "      <td>22</td>\n",
       "      <td>19544</td>\n",
       "      <td>76</td>\n",
       "    </tr>\n",
       "  </tbody>\n",
       "</table>\n",
       "</div>"
      ],
      "text/plain": [
       "   user_id first_name  last_name  age                                   city  \\\n",
       "0     1000   Anamaria      Bauer   45  Atlanta-Sandy Springs-Roswell, GA MSA   \n",
       "1     1001     Mickey  Wilkerson   28        Seattle-Tacoma-Bellevue, WA MSA   \n",
       "2     1002     Carlee    Hoffman   36   Las Vegas-Henderson-Paradise, NV MSA   \n",
       "3     1003   Reynaldo    Jenkins   52                          Tulsa, OK MSA   \n",
       "4     1004    Leonila   Thompson   40        Seattle-Tacoma-Bellevue, WA MSA   \n",
       "\n",
       "    reg_date      plan churn_date  duration region  avg_calls_monthly  \\\n",
       "0 2018-12-24  ultimate 2018-12-31         1  Other                 16   \n",
       "1 2018-08-13      surf 2018-12-31         5  Other                 52   \n",
       "2 2018-10-21      surf 2018-12-31         3  Other                 37   \n",
       "3 2018-01-28      surf 2018-12-31        12  Other                 12   \n",
       "4 2018-05-23      surf 2018-12-31         8  Other                 46   \n",
       "\n",
       "   avg_min_monthly  avg_messages_monthly  avg_traffic_monthly  \\\n",
       "0              124                    11                 1901   \n",
       "1              345                    41                16087   \n",
       "2              276                    29                13431   \n",
       "3               92                     4                 2253   \n",
       "4              346                    22                19544   \n",
       "\n",
       "   avg_revenue_monthly  \n",
       "0                   70  \n",
       "1                   50  \n",
       "2                   33  \n",
       "3                   31  \n",
       "4                   76  "
      ]
     },
     "execution_count": 39,
     "metadata": {},
     "output_type": "execute_result"
    }
   ],
   "source": [
    "#Printing a sample of data for the users to ensure that the data was added correctly\n",
    "users.head()"
   ]
  },
  {
   "cell_type": "markdown",
   "metadata": {},
   "source": [
    "Although for further analysis we will use average minutes, messages, traffic, and revenue values, it also could be useful to have data for each user for each month. We will aggregate data for each user for each month in a separate data frame, so we can use it in the future. To do this, firstly, we will group data in calls, messages, and internet table by user and month."
   ]
  },
  {
   "cell_type": "code",
   "execution_count": 40,
   "metadata": {},
   "outputs": [],
   "source": [
    "#grouping data in calls table by user and month and culculation number of calls in each group\n",
    "calls_per_user_per_month=calls.pivot_table(index=['user_id', 'month'], values='duration',aggfunc='count').reset_index()\n",
    "\n",
    "#grouping data in calls table by user and month and culculation sum of calls duration in each group\n",
    "minutes_per_user_per_month=calls.pivot_table(index=['user_id', 'month'], values='duration',aggfunc='sum').reset_index()\n",
    "\n",
    "#grouping data in messages table by user and month and culculation number of messages in each group\n",
    "messages_per_user_per_month=messages.pivot_table(index=['user_id', 'month'], values='message_date',aggfunc='count').reset_index()\n",
    "\n",
    "#grouping data in internet table by user and month and culculation sum of traffic in each group\n",
    "trafic_per_user_per_month=internet.pivot_table(index=['user_id', 'month'], values='mb_used',aggfunc='sum').reset_index()"
   ]
  },
  {
   "cell_type": "markdown",
   "metadata": {},
   "source": [
    "Next, we will merge the grouped data together and add plan details. As some users may have no calls, messages, or internet data in some months we will use the outer type of merge."
   ]
  },
  {
   "cell_type": "code",
   "execution_count": 41,
   "metadata": {},
   "outputs": [],
   "source": [
    "#merging calls, messages and internet gpoupped data to data_per_user_per_month data frame\n",
    "data_per_user_per_month=calls_per_user_per_month.merge(minutes_per_user_per_month, on=['user_id', 'month'], how='outer')\n",
    "data_per_user_per_month=data_per_user_per_month.merge(messages_per_user_per_month, on=['user_id', 'month'], how='outer')\n",
    "data_per_user_per_month=data_per_user_per_month.merge(trafic_per_user_per_month, on=['user_id', 'month'], how='outer')\n",
    "\n",
    "#renaming columns in the new data frame\n",
    "data_per_user_per_month.columns=['user_id','month','calls','minutes','messages','mb_used']\n",
    "\n",
    "#adding plan information to the new data frame\n",
    "data_per_user_per_month=data_per_user_per_month.merge(users[['user_id','plan']], on=['user_id'])"
   ]
  },
  {
   "cell_type": "markdown",
   "metadata": {},
   "source": [
    "Lets check that the data was merged correctly."
   ]
  },
  {
   "cell_type": "code",
   "execution_count": 42,
   "metadata": {},
   "outputs": [
    {
     "data": {
      "text/html": [
       "<div>\n",
       "<style scoped>\n",
       "    .dataframe tbody tr th:only-of-type {\n",
       "        vertical-align: middle;\n",
       "    }\n",
       "\n",
       "    .dataframe tbody tr th {\n",
       "        vertical-align: top;\n",
       "    }\n",
       "\n",
       "    .dataframe thead th {\n",
       "        text-align: right;\n",
       "    }\n",
       "</style>\n",
       "<table border=\"1\" class=\"dataframe\">\n",
       "  <thead>\n",
       "    <tr style=\"text-align: right;\">\n",
       "      <th></th>\n",
       "      <th>user_id</th>\n",
       "      <th>month</th>\n",
       "      <th>calls</th>\n",
       "      <th>minutes</th>\n",
       "      <th>messages</th>\n",
       "      <th>mb_used</th>\n",
       "      <th>plan</th>\n",
       "    </tr>\n",
       "  </thead>\n",
       "  <tbody>\n",
       "    <tr>\n",
       "      <th>0</th>\n",
       "      <td>1000</td>\n",
       "      <td>12</td>\n",
       "      <td>16.0</td>\n",
       "      <td>124.0</td>\n",
       "      <td>11.0</td>\n",
       "      <td>1901.47</td>\n",
       "      <td>ultimate</td>\n",
       "    </tr>\n",
       "    <tr>\n",
       "      <th>1</th>\n",
       "      <td>1001</td>\n",
       "      <td>8</td>\n",
       "      <td>27.0</td>\n",
       "      <td>182.0</td>\n",
       "      <td>30.0</td>\n",
       "      <td>6919.15</td>\n",
       "      <td>surf</td>\n",
       "    </tr>\n",
       "    <tr>\n",
       "      <th>2</th>\n",
       "      <td>1001</td>\n",
       "      <td>9</td>\n",
       "      <td>49.0</td>\n",
       "      <td>315.0</td>\n",
       "      <td>44.0</td>\n",
       "      <td>13314.82</td>\n",
       "      <td>surf</td>\n",
       "    </tr>\n",
       "    <tr>\n",
       "      <th>3</th>\n",
       "      <td>1001</td>\n",
       "      <td>10</td>\n",
       "      <td>65.0</td>\n",
       "      <td>393.0</td>\n",
       "      <td>53.0</td>\n",
       "      <td>22330.49</td>\n",
       "      <td>surf</td>\n",
       "    </tr>\n",
       "    <tr>\n",
       "      <th>4</th>\n",
       "      <td>1001</td>\n",
       "      <td>11</td>\n",
       "      <td>64.0</td>\n",
       "      <td>426.0</td>\n",
       "      <td>36.0</td>\n",
       "      <td>18504.30</td>\n",
       "      <td>surf</td>\n",
       "    </tr>\n",
       "    <tr>\n",
       "      <th>...</th>\n",
       "      <td>...</td>\n",
       "      <td>...</td>\n",
       "      <td>...</td>\n",
       "      <td>...</td>\n",
       "      <td>...</td>\n",
       "      <td>...</td>\n",
       "      <td>...</td>\n",
       "    </tr>\n",
       "    <tr>\n",
       "      <th>2288</th>\n",
       "      <td>1204</td>\n",
       "      <td>12</td>\n",
       "      <td>NaN</td>\n",
       "      <td>NaN</td>\n",
       "      <td>78.0</td>\n",
       "      <td>36730.05</td>\n",
       "      <td>ultimate</td>\n",
       "    </tr>\n",
       "    <tr>\n",
       "      <th>2289</th>\n",
       "      <td>1349</td>\n",
       "      <td>10</td>\n",
       "      <td>NaN</td>\n",
       "      <td>NaN</td>\n",
       "      <td>76.0</td>\n",
       "      <td>13093.55</td>\n",
       "      <td>surf</td>\n",
       "    </tr>\n",
       "    <tr>\n",
       "      <th>2290</th>\n",
       "      <td>1349</td>\n",
       "      <td>11</td>\n",
       "      <td>NaN</td>\n",
       "      <td>NaN</td>\n",
       "      <td>72.0</td>\n",
       "      <td>17128.26</td>\n",
       "      <td>surf</td>\n",
       "    </tr>\n",
       "    <tr>\n",
       "      <th>2291</th>\n",
       "      <td>1349</td>\n",
       "      <td>12</td>\n",
       "      <td>NaN</td>\n",
       "      <td>NaN</td>\n",
       "      <td>61.0</td>\n",
       "      <td>13039.91</td>\n",
       "      <td>surf</td>\n",
       "    </tr>\n",
       "    <tr>\n",
       "      <th>2292</th>\n",
       "      <td>1108</td>\n",
       "      <td>12</td>\n",
       "      <td>NaN</td>\n",
       "      <td>NaN</td>\n",
       "      <td>NaN</td>\n",
       "      <td>233.17</td>\n",
       "      <td>ultimate</td>\n",
       "    </tr>\n",
       "  </tbody>\n",
       "</table>\n",
       "<p>2293 rows × 7 columns</p>\n",
       "</div>"
      ],
      "text/plain": [
       "      user_id  month  calls  minutes  messages   mb_used      plan\n",
       "0        1000     12   16.0    124.0      11.0   1901.47  ultimate\n",
       "1        1001      8   27.0    182.0      30.0   6919.15      surf\n",
       "2        1001      9   49.0    315.0      44.0  13314.82      surf\n",
       "3        1001     10   65.0    393.0      53.0  22330.49      surf\n",
       "4        1001     11   64.0    426.0      36.0  18504.30      surf\n",
       "...       ...    ...    ...      ...       ...       ...       ...\n",
       "2288     1204     12    NaN      NaN      78.0  36730.05  ultimate\n",
       "2289     1349     10    NaN      NaN      76.0  13093.55      surf\n",
       "2290     1349     11    NaN      NaN      72.0  17128.26      surf\n",
       "2291     1349     12    NaN      NaN      61.0  13039.91      surf\n",
       "2292     1108     12    NaN      NaN       NaN    233.17  ultimate\n",
       "\n",
       "[2293 rows x 7 columns]"
      ]
     },
     "execution_count": 42,
     "metadata": {},
     "output_type": "execute_result"
    }
   ],
   "source": [
    "#printing sample of data from data_per_user_per_month table\n",
    "data_per_user_per_month"
   ]
  },
  {
   "cell_type": "markdown",
   "metadata": {},
   "source": [
    "As can be seen, as we predicted, some users have no calls, messages, or internet data in some months. We will fill the missing values with 0."
   ]
  },
  {
   "cell_type": "code",
   "execution_count": 43,
   "metadata": {},
   "outputs": [],
   "source": [
    "data_per_user_per_month=data_per_user_per_month.fillna(0)"
   ]
  },
  {
   "cell_type": "markdown",
   "metadata": {},
   "source": [
    "Finally, we will calculate revenue for each user for each month and add this information to the table. We will build a function for revenue calculation."
   ]
  },
  {
   "cell_type": "code",
   "execution_count": 44,
   "metadata": {},
   "outputs": [],
   "source": [
    "# defining function to calculate monthly revenue for a user based on data per month\n",
    "def revenue1(user):\n",
    "\n",
    "#declaring revenue variable and setting it to 0\n",
    "    revenue=0    \n",
    "\n",
    "#getting plan\n",
    "    plan=user['plan']\n",
    "      \n",
    "    \n",
    "#culculation total revenue for the user if hes plan is surf              \n",
    "    if plan=='surf':        \n",
    "#calculating the amounts used beyond limit and multiplying them by coefficient provided in the plan table  \n",
    "    \n",
    "        if user['minutes']>500:\n",
    "            revenue+=(user['minutes']-500)*0.03\n",
    "        if user['messages']>50:\n",
    "            revenue+=(user['messages']-50)*0.03    \n",
    "        if user['mb_used']>15360:\n",
    "            revenue+=((user['mb_used']//1024)+1-15)*10\n",
    "#adding plan monthly charges\n",
    "        revenue+=20\n",
    "        \n",
    "#culculation total revenue for the user if hes plan is ultimate                  \n",
    "    if plan=='ultimate':\n",
    "#calculating the amounts used beyond limit and multiplying them by coefficient provided in the plan table  \n",
    "        if user['minutes']>3000:\n",
    "            revenue+=(user['minutes']-3000)*0.01\n",
    "        if user['messages']>1000:\n",
    "            revenue+=(user['messages']-1000)*0.01    \n",
    "        if user['mb_used']>30720:\n",
    "            revenue+=((user['mb_used']//1024)+1-30)*7 \n",
    "#adding plan monthly charges\n",
    "        revenue+=70\n",
    "\n",
    "#returning the revenue \n",
    "    return int(revenue)"
   ]
  },
  {
   "cell_type": "code",
   "execution_count": 45,
   "metadata": {},
   "outputs": [],
   "source": [
    "#using the function to add revenue to data_per_user_per_month table\n",
    "data_per_user_per_month['revenue']=data_per_user_per_month.apply(revenue1, axis=1)"
   ]
  },
  {
   "cell_type": "markdown",
   "metadata": {},
   "source": [
    "Lets check that the revenue was added correctly"
   ]
  },
  {
   "cell_type": "code",
   "execution_count": 46,
   "metadata": {},
   "outputs": [
    {
     "data": {
      "text/html": [
       "<div>\n",
       "<style scoped>\n",
       "    .dataframe tbody tr th:only-of-type {\n",
       "        vertical-align: middle;\n",
       "    }\n",
       "\n",
       "    .dataframe tbody tr th {\n",
       "        vertical-align: top;\n",
       "    }\n",
       "\n",
       "    .dataframe thead th {\n",
       "        text-align: right;\n",
       "    }\n",
       "</style>\n",
       "<table border=\"1\" class=\"dataframe\">\n",
       "  <thead>\n",
       "    <tr style=\"text-align: right;\">\n",
       "      <th></th>\n",
       "      <th>user_id</th>\n",
       "      <th>month</th>\n",
       "      <th>calls</th>\n",
       "      <th>minutes</th>\n",
       "      <th>messages</th>\n",
       "      <th>mb_used</th>\n",
       "      <th>plan</th>\n",
       "      <th>revenue</th>\n",
       "    </tr>\n",
       "  </thead>\n",
       "  <tbody>\n",
       "    <tr>\n",
       "      <th>0</th>\n",
       "      <td>1000</td>\n",
       "      <td>12</td>\n",
       "      <td>16.0</td>\n",
       "      <td>124.0</td>\n",
       "      <td>11.0</td>\n",
       "      <td>1901.47</td>\n",
       "      <td>ultimate</td>\n",
       "      <td>70</td>\n",
       "    </tr>\n",
       "    <tr>\n",
       "      <th>1</th>\n",
       "      <td>1001</td>\n",
       "      <td>8</td>\n",
       "      <td>27.0</td>\n",
       "      <td>182.0</td>\n",
       "      <td>30.0</td>\n",
       "      <td>6919.15</td>\n",
       "      <td>surf</td>\n",
       "      <td>20</td>\n",
       "    </tr>\n",
       "    <tr>\n",
       "      <th>2</th>\n",
       "      <td>1001</td>\n",
       "      <td>9</td>\n",
       "      <td>49.0</td>\n",
       "      <td>315.0</td>\n",
       "      <td>44.0</td>\n",
       "      <td>13314.82</td>\n",
       "      <td>surf</td>\n",
       "      <td>20</td>\n",
       "    </tr>\n",
       "    <tr>\n",
       "      <th>3</th>\n",
       "      <td>1001</td>\n",
       "      <td>10</td>\n",
       "      <td>65.0</td>\n",
       "      <td>393.0</td>\n",
       "      <td>53.0</td>\n",
       "      <td>22330.49</td>\n",
       "      <td>surf</td>\n",
       "      <td>90</td>\n",
       "    </tr>\n",
       "    <tr>\n",
       "      <th>4</th>\n",
       "      <td>1001</td>\n",
       "      <td>11</td>\n",
       "      <td>64.0</td>\n",
       "      <td>426.0</td>\n",
       "      <td>36.0</td>\n",
       "      <td>18504.30</td>\n",
       "      <td>surf</td>\n",
       "      <td>60</td>\n",
       "    </tr>\n",
       "    <tr>\n",
       "      <th>...</th>\n",
       "      <td>...</td>\n",
       "      <td>...</td>\n",
       "      <td>...</td>\n",
       "      <td>...</td>\n",
       "      <td>...</td>\n",
       "      <td>...</td>\n",
       "      <td>...</td>\n",
       "      <td>...</td>\n",
       "    </tr>\n",
       "    <tr>\n",
       "      <th>2288</th>\n",
       "      <td>1204</td>\n",
       "      <td>12</td>\n",
       "      <td>0.0</td>\n",
       "      <td>0.0</td>\n",
       "      <td>78.0</td>\n",
       "      <td>36730.05</td>\n",
       "      <td>ultimate</td>\n",
       "      <td>112</td>\n",
       "    </tr>\n",
       "    <tr>\n",
       "      <th>2289</th>\n",
       "      <td>1349</td>\n",
       "      <td>10</td>\n",
       "      <td>0.0</td>\n",
       "      <td>0.0</td>\n",
       "      <td>76.0</td>\n",
       "      <td>13093.55</td>\n",
       "      <td>surf</td>\n",
       "      <td>20</td>\n",
       "    </tr>\n",
       "    <tr>\n",
       "      <th>2290</th>\n",
       "      <td>1349</td>\n",
       "      <td>11</td>\n",
       "      <td>0.0</td>\n",
       "      <td>0.0</td>\n",
       "      <td>72.0</td>\n",
       "      <td>17128.26</td>\n",
       "      <td>surf</td>\n",
       "      <td>40</td>\n",
       "    </tr>\n",
       "    <tr>\n",
       "      <th>2291</th>\n",
       "      <td>1349</td>\n",
       "      <td>12</td>\n",
       "      <td>0.0</td>\n",
       "      <td>0.0</td>\n",
       "      <td>61.0</td>\n",
       "      <td>13039.91</td>\n",
       "      <td>surf</td>\n",
       "      <td>20</td>\n",
       "    </tr>\n",
       "    <tr>\n",
       "      <th>2292</th>\n",
       "      <td>1108</td>\n",
       "      <td>12</td>\n",
       "      <td>0.0</td>\n",
       "      <td>0.0</td>\n",
       "      <td>0.0</td>\n",
       "      <td>233.17</td>\n",
       "      <td>ultimate</td>\n",
       "      <td>70</td>\n",
       "    </tr>\n",
       "  </tbody>\n",
       "</table>\n",
       "<p>2293 rows × 8 columns</p>\n",
       "</div>"
      ],
      "text/plain": [
       "      user_id  month  calls  minutes  messages   mb_used      plan  revenue\n",
       "0        1000     12   16.0    124.0      11.0   1901.47  ultimate       70\n",
       "1        1001      8   27.0    182.0      30.0   6919.15      surf       20\n",
       "2        1001      9   49.0    315.0      44.0  13314.82      surf       20\n",
       "3        1001     10   65.0    393.0      53.0  22330.49      surf       90\n",
       "4        1001     11   64.0    426.0      36.0  18504.30      surf       60\n",
       "...       ...    ...    ...      ...       ...       ...       ...      ...\n",
       "2288     1204     12    0.0      0.0      78.0  36730.05  ultimate      112\n",
       "2289     1349     10    0.0      0.0      76.0  13093.55      surf       20\n",
       "2290     1349     11    0.0      0.0      72.0  17128.26      surf       40\n",
       "2291     1349     12    0.0      0.0      61.0  13039.91      surf       20\n",
       "2292     1108     12    0.0      0.0       0.0    233.17  ultimate       70\n",
       "\n",
       "[2293 rows x 8 columns]"
      ]
     },
     "execution_count": 46,
     "metadata": {},
     "output_type": "execute_result"
    }
   ],
   "source": [
    "data_per_user_per_month"
   ]
  },
  {
   "cell_type": "markdown",
   "metadata": {},
   "source": [
    "We aggregate the data per user to ease further analysis. Next, we will study and compare the behaviors of the users of both plans."
   ]
  },
  {
   "cell_type": "markdown",
   "metadata": {},
   "source": [
    "# Stage 3: Studying user behaviour <a id='data_stud'></a>"
   ]
  },
  {
   "cell_type": "markdown",
   "metadata": {},
   "source": [
    "At this stage, we will study and compare the behaviors of the users of both plans. We will Find the minutes, texts, and volume of data the users of each plan require per month. Also, we will calculate the mean, variance, and standard deviation, plot histograms, and describe the distributions.\n",
    "\n",
    "As we will study user behavior per plan we will get slices of data from the `users` table for each plan."
   ]
  },
  {
   "cell_type": "code",
   "execution_count": 47,
   "metadata": {},
   "outputs": [],
   "source": [
    "#getting slaces of data for users of surf plan.\n",
    "surf_users=users.loc[users['plan']=='surf',['user_id','region','avg_calls_monthly','avg_min_monthly','avg_messages_monthly','avg_traffic_monthly','avg_revenue_monthly']]\n",
    "\n",
    "#getting slaces of data for users of surf plan.\n",
    "ultimate_users=users.loc[users['plan']=='ultimate',['user_id','region','avg_calls_monthly','avg_min_monthly','avg_messages_monthly','avg_traffic_monthly','avg_revenue_monthly']]"
   ]
  },
  {
   "cell_type": "markdown",
   "metadata": {},
   "source": [
    "## Calls number\n",
    "\n",
    "Firstly, we will calculate the mean, variance, and standard deviation, plot histograms and describe the distributions for calls numbers for users of each plan."
   ]
  },
  {
   "cell_type": "code",
   "execution_count": 48,
   "metadata": {},
   "outputs": [
    {
     "data": {
      "text/plain": [
       "count    339.000000\n",
       "mean      43.038348\n",
       "std       28.253633\n",
       "min        0.000000\n",
       "25%       20.000000\n",
       "50%       41.000000\n",
       "75%       62.500000\n",
       "max      144.000000\n",
       "Name: avg_calls_monthly, dtype: float64"
      ]
     },
     "execution_count": 48,
     "metadata": {},
     "output_type": "execute_result"
    }
   ],
   "source": [
    "#using describe method to get mean, standard deviation, and other statistics for calls for users of surf plan\n",
    "surf_users['avg_calls_monthly'].describe()"
   ]
  },
  {
   "cell_type": "code",
   "execution_count": 49,
   "metadata": {},
   "outputs": [
    {
     "data": {
      "text/plain": [
       "count    161.000000\n",
       "mean      41.180124\n",
       "std       31.024363\n",
       "min        0.000000\n",
       "25%       17.000000\n",
       "50%       33.000000\n",
       "75%       65.000000\n",
       "max      146.000000\n",
       "Name: avg_calls_monthly, dtype: float64"
      ]
     },
     "execution_count": 49,
     "metadata": {},
     "output_type": "execute_result"
    }
   ],
   "source": [
    "#using describe method to get mean, standard deviation, and other statistics for calls for users of ultimate plan\n",
    "ultimate_users['avg_calls_monthly'].describe()"
   ]
  },
  {
   "cell_type": "code",
   "execution_count": 50,
   "metadata": {},
   "outputs": [
    {
     "name": "stdout",
     "output_type": "stream",
     "text": [
      "795.9129837018473\n"
     ]
    }
   ],
   "source": [
    "#calculating variance for calls for users of surf plan\n",
    "print(np.var(surf_users['avg_calls_monthly']))"
   ]
  },
  {
   "cell_type": "code",
   "execution_count": 51,
   "metadata": {},
   "outputs": [
    {
     "name": "stdout",
     "output_type": "stream",
     "text": [
      "956.5327726553758\n"
     ]
    }
   ],
   "source": [
    "#calculating variance for calls for users of ultimate plan\n",
    "print(np.var(ultimate_users['avg_calls_monthly']))"
   ]
  },
  {
   "cell_type": "code",
   "execution_count": 52,
   "metadata": {},
   "outputs": [
    {
     "data": {
      "image/png": "[encoded data removed]",
      "text/plain": [
       "<Figure size 432x288 with 1 Axes>"
      ]
     },
     "metadata": {
      "needs_background": "light"
     },
     "output_type": "display_data"
    }
   ],
   "source": [
    "#plotting histogram for calls for users of surf plan\n",
    "surf_users['avg_calls_monthly'].hist(bins=20)\n",
    "plt.title('Surf users - avarage number of calls per month')\n",
    "plt.show()"
   ]
  },
  {
   "cell_type": "code",
   "execution_count": 53,
   "metadata": {},
   "outputs": [
    {
     "data": {
      "image/png": "[encoded data removed]",
      "text/plain": [
       "<Figure size 432x288 with 1 Axes>"
      ]
     },
     "metadata": {
      "needs_background": "light"
     },
     "output_type": "display_data"
    }
   ],
   "source": [
    "#plotting histogram for calls for users of ultimate plan\n",
    "ultimate_users['avg_calls_monthly'].hist(bins=20)\n",
    "plt.title('Ultimate users - avarage number of calls per month')\n",
    "plt.show()"
   ]
  },
  {
   "cell_type": "markdown",
   "metadata": {},
   "source": [
    "As can be seen, on average users of both plans make quite the same number of calls (43 and 47) per month. But there is a greater variance in call numbers for ultimate plan users. The typical users of both plans make between 0 and 80 calls monthly, while outliers in both plans make more than 140 calls in a month."
   ]
  },
  {
   "cell_type": "markdown",
   "metadata": {},
   "source": [
    "## Calls duration\n",
    "\n",
    "Next, we will calculate the mean, variance, and standard deviation, plot histograms and describe the distributions for minutes used for users of each plan."
   ]
  },
  {
   "cell_type": "code",
   "execution_count": 54,
   "metadata": {},
   "outputs": [
    {
     "data": {
      "text/plain": [
       "count     339.000000\n",
       "mean      311.634218\n",
       "std       206.017913\n",
       "min         0.000000\n",
       "25%       138.500000\n",
       "50%       293.000000\n",
       "75%       452.000000\n",
       "max      1055.000000\n",
       "Name: avg_min_monthly, dtype: float64"
      ]
     },
     "execution_count": 54,
     "metadata": {},
     "output_type": "execute_result"
    }
   ],
   "source": [
    "#using describe method to get mean, standard deviation, and other statistics for minutes used for users of surf plan\n",
    "surf_users['avg_min_monthly'].describe()"
   ]
  },
  {
   "cell_type": "code",
   "execution_count": 55,
   "metadata": {},
   "outputs": [
    {
     "data": {
      "text/plain": [
       "count     161.000000\n",
       "mean      292.937888\n",
       "std       220.297177\n",
       "min         0.000000\n",
       "25%       123.000000\n",
       "50%       238.000000\n",
       "75%       444.000000\n",
       "max      1054.000000\n",
       "Name: avg_min_monthly, dtype: float64"
      ]
     },
     "execution_count": 55,
     "metadata": {},
     "output_type": "execute_result"
    }
   ],
   "source": [
    "#using describe method to get mean, standard deviation, and other statistics for minutes used for users of ultimate plan\n",
    "ultimate_users['avg_min_monthly'].describe()"
   ]
  },
  {
   "cell_type": "code",
   "execution_count": 56,
   "metadata": {},
   "outputs": [
    {
     "data": {
      "text/plain": [
       "42318.178888105744"
      ]
     },
     "execution_count": 56,
     "metadata": {},
     "output_type": "execute_result"
    }
   ],
   "source": [
    "#calculation variance for minutes used for users of surf plan\n",
    "np.var(surf_users['avg_min_monthly'])"
   ]
  },
  {
   "cell_type": "code",
   "execution_count": 57,
   "metadata": {},
   "outputs": [
    {
     "data": {
      "text/plain": [
       "48229.412291192464"
      ]
     },
     "execution_count": 57,
     "metadata": {},
     "output_type": "execute_result"
    }
   ],
   "source": [
    "#calculation variance for minutes used for users of ultimate plan\n",
    "np.var(ultimate_users['avg_min_monthly'])"
   ]
  },
  {
   "cell_type": "code",
   "execution_count": 58,
   "metadata": {},
   "outputs": [
    {
     "data": {
      "image/png": "[encoded data removed]",
      "text/plain": [
       "<Figure size 432x288 with 1 Axes>"
      ]
     },
     "metadata": {
      "needs_background": "light"
     },
     "output_type": "display_data"
    }
   ],
   "source": [
    "#plotting histogram for minutes used for users of surf plan\n",
    "surf_users['avg_min_monthly'].hist(bins=20)\n",
    "plt.title('Surf users - avarage number of minutes per month')\n",
    "plt.show()"
   ]
  },
  {
   "cell_type": "code",
   "execution_count": 59,
   "metadata": {},
   "outputs": [
    {
     "data": {
      "image/png": "[encoded data removed]",
      "text/plain": [
       "<Figure size 432x288 with 1 Axes>"
      ]
     },
     "metadata": {
      "needs_background": "light"
     },
     "output_type": "display_data"
    }
   ],
   "source": [
    "#plotting histogram for minutes used for users of ultimate plan\n",
    "ultimate_users['avg_min_monthly'].hist(bins=20)\n",
    "plt.title('Ultimate users - avarage number of minutes per month')\n",
    "plt.show()"
   ]
  },
  {
   "cell_type": "markdown",
   "metadata": {},
   "source": [
    "As can be seen, similar to the number of calls users of surf plan on average talk a bit more than users of ultimate plan (311 and 292 minutes correspondingly). But again, there is a greater variance in the number of minutes for ultimate plan users. The typical users in both plans use between 0 and 600 minutes monthly, while outliers in both plans spend more than 1000 minutes in calls monthly."
   ]
  },
  {
   "cell_type": "markdown",
   "metadata": {},
   "source": [
    "## Messages\n",
    "\n",
    "Next, we will calculate the mean, variance, and standard deviation, plot histograms and describe the distributions for messages for users of each plan."
   ]
  },
  {
   "cell_type": "code",
   "execution_count": 60,
   "metadata": {},
   "outputs": [
    {
     "data": {
      "text/plain": [
       "count    339.000000\n",
       "mean      23.663717\n",
       "std       26.058064\n",
       "min        0.000000\n",
       "25%        2.000000\n",
       "50%       18.000000\n",
       "75%       35.000000\n",
       "max      130.000000\n",
       "Name: avg_messages_monthly, dtype: float64"
      ]
     },
     "execution_count": 60,
     "metadata": {},
     "output_type": "execute_result"
    }
   ],
   "source": [
    "#using describe method to get mean, standard deviation, and other statistics for messages for users of surf plan\n",
    "surf_users['avg_messages_monthly'].describe()"
   ]
  },
  {
   "cell_type": "code",
   "execution_count": 61,
   "metadata": {},
   "outputs": [
    {
     "data": {
      "text/plain": [
       "count    161.000000\n",
       "mean      26.391304\n",
       "std       27.746210\n",
       "min        0.000000\n",
       "25%        3.000000\n",
       "50%       18.000000\n",
       "75%       45.000000\n",
       "max      143.000000\n",
       "Name: avg_messages_monthly, dtype: float64"
      ]
     },
     "execution_count": 61,
     "metadata": {},
     "output_type": "execute_result"
    }
   ],
   "source": [
    "#using describe method to get mean, standard deviation, and other statistics for messages for users of ultimate plan\n",
    "ultimate_users['avg_messages_monthly'].describe()"
   ]
  },
  {
   "cell_type": "code",
   "execution_count": 62,
   "metadata": {},
   "outputs": [
    {
     "data": {
      "text/plain": [
       "677.0196569817526"
      ]
     },
     "execution_count": 62,
     "metadata": {},
     "output_type": "execute_result"
    }
   ],
   "source": [
    "#calculation variance for messages for users of surf plan\n",
    "np.var(surf_users['avg_messages_monthly'])"
   ]
  },
  {
   "cell_type": "code",
   "execution_count": 63,
   "metadata": {},
   "outputs": [
    {
     "data": {
      "text/plain": [
       "765.0704833918444"
      ]
     },
     "execution_count": 63,
     "metadata": {},
     "output_type": "execute_result"
    }
   ],
   "source": [
    "#calculation variance for messages for users of ultimate plan\n",
    "np.var(ultimate_users['avg_messages_monthly'])"
   ]
  },
  {
   "cell_type": "code",
   "execution_count": 64,
   "metadata": {},
   "outputs": [
    {
     "data": {
      "image/png": "[encoded data removed]",
      "text/plain": [
       "<Figure size 432x288 with 1 Axes>"
      ]
     },
     "metadata": {
      "needs_background": "light"
     },
     "output_type": "display_data"
    }
   ],
   "source": [
    "#plotting histogram for messages for users of surf plan\n",
    "surf_users['avg_messages_monthly'].hist(bins=20)\n",
    "plt.title('Surf users - avarage number of messages per month')\n",
    "plt.show()"
   ]
  },
  {
   "cell_type": "code",
   "execution_count": 65,
   "metadata": {},
   "outputs": [
    {
     "data": {
      "image/png": "[encoded data removed]",
      "text/plain": [
       "<Figure size 432x288 with 1 Axes>"
      ]
     },
     "metadata": {
      "needs_background": "light"
     },
     "output_type": "display_data"
    }
   ],
   "source": [
    "#plotting histogram for messages for users of ultimate plan\n",
    "ultimate_users['avg_messages_monthly'].hist(bins=20)\n",
    "plt.title('Ultimate users - avarage number of messages per month')\n",
    "plt.show()"
   ]
  },
  {
   "cell_type": "markdown",
   "metadata": {},
   "source": [
    "As can be seen, users of the surf plan on average send a bit fewer messages than users of the ultimate plan (23 and 26 messages correspondingly). And there is a greater variance in the number of messages for ultimate plan users. Many users in both plans do not send messages at all. The typical surf plan user sends between 0 and 40 messages monthly, while the typical ultimate plan user sends between 0 and 50 messages. Outliers in surf plans send up to 130 messages, and outliers in ultimate plans send more than 140 messages."
   ]
  },
  {
   "cell_type": "markdown",
   "metadata": {},
   "source": [
    "## Internet\n",
    "\n",
    "Next, we will calculate the mean, variance, and standard deviation, plot histograms and describe the distributions for internet traffic for users of each plan."
   ]
  },
  {
   "cell_type": "code",
   "execution_count": 66,
   "metadata": {},
   "outputs": [
    {
     "data": {
      "text/plain": [
       "count      339.000000\n",
       "mean     11879.389381\n",
       "std       6839.016157\n",
       "min          0.000000\n",
       "25%       6564.500000\n",
       "50%      11931.000000\n",
       "75%      16545.000000\n",
       "max      33950.000000\n",
       "Name: avg_traffic_monthly, dtype: float64"
      ]
     },
     "execution_count": 66,
     "metadata": {},
     "output_type": "execute_result"
    }
   ],
   "source": [
    "#using describe method to get mean, standard deviation, and other statistics for internet traffic for users of surf plan\n",
    "surf_users['avg_traffic_monthly'].describe()"
   ]
  },
  {
   "cell_type": "code",
   "execution_count": 67,
   "metadata": {},
   "outputs": [
    {
     "data": {
      "text/plain": [
       "count      161.000000\n",
       "mean     11484.403727\n",
       "std       6934.599367\n",
       "min          0.000000\n",
       "25%       6177.000000\n",
       "50%      11428.000000\n",
       "75%      15908.000000\n",
       "max      35469.000000\n",
       "Name: avg_traffic_monthly, dtype: float64"
      ]
     },
     "execution_count": 67,
     "metadata": {},
     "output_type": "execute_result"
    }
   ],
   "source": [
    "#using describe method to get mean, standard deviation, and other statistics for internet traffic for users of ultimate plan\n",
    "ultimate_users['avg_traffic_monthly'].describe()"
   ]
  },
  {
   "cell_type": "code",
   "execution_count": 68,
   "metadata": {},
   "outputs": [
    {
     "data": {
      "text/plain": [
       "46634171.075521454"
      ]
     },
     "execution_count": 68,
     "metadata": {},
     "output_type": "execute_result"
    }
   ],
   "source": [
    "#calculating varience for internet traffic for users of surf plan\n",
    "np.var(surf_users['avg_traffic_monthly'])"
   ]
  },
  {
   "cell_type": "code",
   "execution_count": 69,
   "metadata": {},
   "outputs": [
    {
     "data": {
      "text/plain": [
       "47789980.99849543"
      ]
     },
     "execution_count": 69,
     "metadata": {},
     "output_type": "execute_result"
    }
   ],
   "source": [
    "#calculating varience for internet traffic for users of ultimate plan\n",
    "np.var(ultimate_users['avg_traffic_monthly'])"
   ]
  },
  {
   "cell_type": "code",
   "execution_count": 70,
   "metadata": {},
   "outputs": [
    {
     "data": {
      "image/png": "[encoded data removed]",
      "text/plain": [
       "<Figure size 432x288 with 1 Axes>"
      ]
     },
     "metadata": {
      "needs_background": "light"
     },
     "output_type": "display_data"
    }
   ],
   "source": [
    "#plotting histogram for internet traffic for users of surf plan\n",
    "surf_users['avg_traffic_monthly'].hist(bins=20)\n",
    "plt.title('Surf users - avarage traffic per month')\n",
    "plt.show()"
   ]
  },
  {
   "cell_type": "code",
   "execution_count": 71,
   "metadata": {},
   "outputs": [
    {
     "data": {
      "image/png": "[encoded data removed]",
      "text/plain": [
       "<Figure size 432x288 with 1 Axes>"
      ]
     },
     "metadata": {
      "needs_background": "light"
     },
     "output_type": "display_data"
    }
   ],
   "source": [
    "#plotting histogram for internet traffic for users of ultimate plan\n",
    "ultimate_users['avg_traffic_monthly'].hist(bins=20)\n",
    "plt.title('Ultimate users - avarage traffic per month')\n",
    "plt.show()"
   ]
  },
  {
   "cell_type": "markdown",
   "metadata": {},
   "source": [
    "As can be seen, surprisingly, even the users of the ultimate plan have a greater traffic limit, on average they use a bit fewer data than users of surf plan (11879 and 11484 Mb correspondingly for users of surf and ultimate plans). Again, there is a greater variance in traffic for ultimate plan users. The typical users of both plans use between 0 and 20 GB monthly, while outliers can use more than 35 GB."
   ]
  },
  {
   "cell_type": "markdown",
   "metadata": {},
   "source": [
    "## Revenue\n",
    "\n",
    "Finally, we will calculate the mean, variance, and standard deviation, plot histograms and describe the distributions for revenue for users of each plan."
   ]
  },
  {
   "cell_type": "code",
   "execution_count": 72,
   "metadata": {},
   "outputs": [
    {
     "data": {
      "text/plain": [
       "count    339.000000\n",
       "mean      47.545723\n",
       "std       32.579990\n",
       "min       20.000000\n",
       "25%       24.000000\n",
       "50%       37.000000\n",
       "75%       59.500000\n",
       "max      220.000000\n",
       "Name: avg_revenue_monthly, dtype: float64"
      ]
     },
     "execution_count": 72,
     "metadata": {},
     "output_type": "execute_result"
    }
   ],
   "source": [
    "#using describe method to get mean, standard deviation, and other statistics for revenue for users of surf plan\n",
    "surf_users['avg_revenue_monthly'].describe()"
   ]
  },
  {
   "cell_type": "code",
   "execution_count": 73,
   "metadata": {},
   "outputs": [
    {
     "data": {
      "text/plain": [
       "count    161.000000\n",
       "mean      71.167702\n",
       "std        5.185600\n",
       "min       70.000000\n",
       "25%       70.000000\n",
       "50%       70.000000\n",
       "75%       70.000000\n",
       "max      119.000000\n",
       "Name: avg_revenue_monthly, dtype: float64"
      ]
     },
     "execution_count": 73,
     "metadata": {},
     "output_type": "execute_result"
    }
   ],
   "source": [
    "#using describe method to get mean, standard deviation, and other statistics for revenue for users of ultimate plan\n",
    "ultimate_users['avg_revenue_monthly'].describe()"
   ]
  },
  {
   "cell_type": "code",
   "execution_count": 74,
   "metadata": {},
   "outputs": [
    {
     "data": {
      "text/plain": [
       "1058.3246055986288"
      ]
     },
     "execution_count": 74,
     "metadata": {},
     "output_type": "execute_result"
    }
   ],
   "source": [
    "#calculating variance for revenue for users of surf plan\n",
    "np.var(surf_users['avg_revenue_monthly'])"
   ]
  },
  {
   "cell_type": "code",
   "execution_count": 75,
   "metadata": {},
   "outputs": [
    {
     "data": {
      "text/plain": [
       "26.723428880058638"
      ]
     },
     "execution_count": 75,
     "metadata": {},
     "output_type": "execute_result"
    }
   ],
   "source": [
    "#calculating variance for revenue for users of ultimate plan\n",
    "np.var(ultimate_users['avg_revenue_monthly'])"
   ]
  },
  {
   "cell_type": "code",
   "execution_count": 76,
   "metadata": {},
   "outputs": [
    {
     "data": {
      "image/png": "[encoded data removed]",
      "text/plain": [
       "<Figure size 432x288 with 1 Axes>"
      ]
     },
     "metadata": {
      "needs_background": "light"
     },
     "output_type": "display_data"
    }
   ],
   "source": [
    "#plotting histogram for revenue for users of surf plan\n",
    "surf_users['avg_revenue_monthly'].hist(bins=20)\n",
    "plt.title('Surf users - avarage revenue per month')\n",
    "plt.show()"
   ]
  },
  {
   "cell_type": "code",
   "execution_count": 77,
   "metadata": {},
   "outputs": [
    {
     "data": {
      "image/png": "[encoded data removed]",
      "text/plain": [
       "<Figure size 432x288 with 1 Axes>"
      ]
     },
     "metadata": {
      "needs_background": "light"
     },
     "output_type": "display_data"
    }
   ],
   "source": [
    "#plotting histogram for revenue for users of ultimate plan\n",
    "ultimate_users['avg_revenue_monthly'].hist(bins=20)\n",
    "plt.title('Ultimate users - avarage revenue per month')\n",
    "plt.show()"
   ]
  },
  {
   "cell_type": "markdown",
   "metadata": {},
   "source": [
    "As can be seen, the majority of ultimate plan users stay within plan limits. On average they pay 71 monthly, while outliers may pay up to 120.\n",
    "\n",
    "Although a large number of surf plan users stay within the plan limits as well, there is a much greater variance in the amount paid monthly due to lower plan limits. An average surf plan users pay 37 monthly, while outliers may pay up to 225.\n",
    "\n",
    "We studied and compared the behaviors of the users of both plans. Next, we will test statistical hypotheses regarding the revenue brought by different user groups."
   ]
  },
  {
   "cell_type": "markdown",
   "metadata": {},
   "source": [
    "# Stage 4: Testing statistical hypotheses <a id='data_test'></a>"
   ]
  },
  {
   "cell_type": "markdown",
   "metadata": {},
   "source": [
    "In this final stage, we will test two statistical hypotheses regarding the revenue brought by different user groups. In both cases, we will test hypotheses that the means of the two statistical populations are equally based on samples taken from them. To do this we will apply the method scipy.stats.ttest_ind. In both cases, we will use a critical statistical significance level - alpha = 0.05. We will compare the p-value returned by scipy.stats.ttest_ind will be with alpha. If the p-value will be less than alpha, we will reject the hypothesis, otherwise, we will keep the hypothesis."
   ]
  },
  {
   "cell_type": "markdown",
   "metadata": {},
   "source": [
    "## Hypothesis 1 - The average revenue from users of Ultimate and Surf calling plans differs"
   ]
  },
  {
   "cell_type": "markdown",
   "metadata": {},
   "source": [
    "For this hypothesis, we will formulate null hypotheses as \"The average revenue from users of the Ultimate and Surf calling plans do not differ\". The alternative hypothesis will be \"The average revenue from users of Ultimate and Surf calling plans differs\". As we saw previously variance of these two populations is very different, therefore we use the equal_var=False parameter when testing the hypothesis."
   ]
  },
  {
   "cell_type": "code",
   "execution_count": 78,
   "metadata": {},
   "outputs": [
    {
     "name": "stdout",
     "output_type": "stream",
     "text": [
      "p-value:  3.7532882623993965e-32\n"
     ]
    }
   ],
   "source": [
    "#Testing the hypothesis\n",
    "results = st.ttest_ind(\n",
    "    surf_users['avg_revenue_monthly'], \n",
    "    ultimate_users['avg_revenue_monthly'],\n",
    "    equal_var=False)\n",
    "\n",
    "#printing p-value received in the test\n",
    "print('p-value: ', results.pvalue)"
   ]
  },
  {
   "cell_type": "markdown",
   "metadata": {},
   "source": [
    "As can be seen, the p-value is much lower than the alpha. Such a small p-value tells us that there is an extremely low probability of randomly getting a revenue difference that size or larger. In other words, the difference in revenue between users of Ultimate and Surf calling plans is not random. Therefore, we are rejecting the null hypothesis."
   ]
  },
  {
   "cell_type": "markdown",
   "metadata": {},
   "source": [
    "## Hypothesis 2 - The average revenue from users in NY-NJ area is different from that of the users from other regions"
   ]
  },
  {
   "cell_type": "markdown",
   "metadata": {},
   "source": [
    "For this hypothesis we will formulate null hypotheses as \"The average revenue from users in NY-NJ area is not different from that of the users from other regions\". The alternative hypothesis will be \"The average revenue from users in NY-NJ area is different from that of the users from other regions\". Before testing this hypothesis we need to get slices of data for these user groups from the user table."
   ]
  },
  {
   "cell_type": "code",
   "execution_count": 79,
   "metadata": {},
   "outputs": [],
   "source": [
    "#getting slice of date for users in NY-NJ area\n",
    "avg_revenue_monthly_NY_NJ=users[users['region']=='NY-NJ']['avg_revenue_monthly']\n",
    "\n",
    "#getting slice of date for users from other regions\n",
    "avg_revenue_monthly_others=users[users['region']=='Other']['avg_revenue_monthly']"
   ]
  },
  {
   "cell_type": "markdown",
   "metadata": {},
   "source": [
    "Also, let see how average revenue from users in NY-NJ area is different from that of the users from other regions for the given client selection."
   ]
  },
  {
   "cell_type": "code",
   "execution_count": 80,
   "metadata": {},
   "outputs": [
    {
     "data": {
      "text/plain": [
       "53.8125"
      ]
     },
     "execution_count": 80,
     "metadata": {},
     "output_type": "execute_result"
    }
   ],
   "source": [
    "#calculating average revenue from users in NY-NJ area\n",
    "avg_revenue_monthly_NY_NJ.mean()"
   ]
  },
  {
   "cell_type": "code",
   "execution_count": 81,
   "metadata": {},
   "outputs": [
    {
     "data": {
      "text/plain": [
       "55.40714285714286"
      ]
     },
     "execution_count": 81,
     "metadata": {},
     "output_type": "execute_result"
    }
   ],
   "source": [
    "#calculating average revenue for users from different regions\n",
    "avg_revenue_monthly_others.mean()"
   ]
  },
  {
   "cell_type": "markdown",
   "metadata": {},
   "source": [
    "The difference is not very big.\n",
    "\n",
    "In addition, before testing the hypothesis we need to know if the variance of these two populations is different to address it in the calculations."
   ]
  },
  {
   "cell_type": "code",
   "execution_count": 82,
   "metadata": {},
   "outputs": [
    {
     "data": {
      "text/plain": [
       "745.67734375"
      ]
     },
     "execution_count": 82,
     "metadata": {},
     "output_type": "execute_result"
    }
   ],
   "source": [
    "#calculating average revenue variance for users in NY-NJ area\n",
    "np.var(avg_revenue_monthly_NY_NJ)"
   ]
  },
  {
   "cell_type": "code",
   "execution_count": 83,
   "metadata": {},
   "outputs": [
    {
     "data": {
      "text/plain": [
       "867.0461394557824"
      ]
     },
     "execution_count": 83,
     "metadata": {},
     "output_type": "execute_result"
    }
   ],
   "source": [
    "#calculating average revenue variance for users from different regions\n",
    "np.var(avg_revenue_monthly_others)"
   ]
  },
  {
   "cell_type": "markdown",
   "metadata": {},
   "source": [
    "As can be seen, variance of these two populations is different, therefore we use equal_var=False parameter when testing the hypothesis."
   ]
  },
  {
   "cell_type": "code",
   "execution_count": 84,
   "metadata": {},
   "outputs": [
    {
     "name": "stdout",
     "output_type": "stream",
     "text": [
      "p-value:  0.6391879384349464\n"
     ]
    }
   ],
   "source": [
    "#Testing the hypothesis\n",
    "results = st.ttest_ind(\n",
    "    avg_revenue_monthly_NY_NJ, \n",
    "    avg_revenue_monthly_others,\n",
    "    equal_var=False)\n",
    "\n",
    "#printing p-value received in the test\n",
    "print('p-value: ', results.pvalue)"
   ]
  },
  {
   "cell_type": "markdown",
   "metadata": {},
   "source": [
    "As can be seen, the p-value is high above the alpha. P-value tells us that there is a 64% probability of randomly getting a revenue difference that size or larger. In other words, it is very likely that the difference in revenue between users in the NY-NJ area and the users from other regions is a result of random. Therefore, we cannot reject the null hypothesis."
   ]
  },
  {
   "cell_type": "markdown",
   "metadata": {},
   "source": [
    "# General conclusion <a id='conclusion'></a>\n",
    "\n",
    "In this project, we carried out a preliminary analysis of the plans based on a small client selection. Firstly, we prepare the data for the analysis. In the `users` table, we fixed types of `reg_date` and `churn_date` columns and filled missing values in the `churn_date` column with the last day of the year 2018. In addition, to ease the calculations we added `duration` and `region` columns. For `calls`, `messages`, and `internet` tables we fixed types of columns that contain dates. Also, to ease the calculations we added the `month` column to these three tables. In addition, in the `calls` table, we changed the type of `duration` column to int rounding values there to the ceiling.\n",
    "\n",
    "Secondly, we aggregated the data per user to ease the analysis. We calculated the average number of calls per user per month, the average number of minutes per user per month, the average number of messages per user per month, the average traffic per user per month, and the average revenue per user per month and added them to `users` table.\n",
    "\n",
    "Then, studied and compared the behaviors of the users of both plans. We found the minutes, texts, and volume of data the users of each plan require and the revenue they bring per month. We calculated the mean, variance, and standard deviation plotted histograms, and described the distributions. We found that the usage behavior of users of both plans for the given client selection is quite similar. But due to higher plan limits, the majority of ultimate plan users stay within plan limits while many surf users exceed the limit. On average ultimate plan users pay 71 monthly, while outliers may pay up to 120. An average surf plan users pay 37 monthly, while outliers may pay up to 225.\n",
    "\n",
    "Finally, we tested statistical hypotheses about revenue driven by different plans and by different user categories. Based on the tests we rejected null hypotheses formulated as \"The average revenue from users of the Ultimate and Surf calling plans do not differ\" and kept null hypotheses formulated as \"The average revenue from users in NY-NJ area is not different from that of the users from other regions\".\n",
    "\n",
    "Based on that we would recommend promoting the Ultimate plan in all regions as it brings revenue twice as much as revenue brought by Surf plan."
   ]
  }
 ],
 "metadata": {
  "ExecuteTimeLog": [
   {
    "duration": 828,
    "start_time": "2021-11-16T09:21:11.304Z"
   },
   {
    "duration": 893,
    "start_time": "2021-11-16T09:21:17.728Z"
   },
   {
    "duration": 1150,
    "start_time": "2021-11-16T09:21:29.568Z"
   },
   {
    "duration": 3,
    "start_time": "2021-11-16T09:24:14.495Z"
   },
   {
    "duration": 120,
    "start_time": "2021-11-16T09:24:46.630Z"
   },
   {
    "duration": 3,
    "start_time": "2021-11-16T09:28:27.882Z"
   },
   {
    "duration": 4,
    "start_time": "2021-11-16T09:29:54.281Z"
   },
   {
    "duration": 3,
    "start_time": "2021-11-16T09:30:45.936Z"
   },
   {
    "duration": 4,
    "start_time": "2021-11-16T09:31:06.300Z"
   },
   {
    "duration": 113,
    "start_time": "2021-11-16T09:31:37.208Z"
   },
   {
    "duration": 143,
    "start_time": "2021-11-16T09:31:48.656Z"
   },
   {
    "duration": 98,
    "start_time": "2021-11-16T09:31:55.678Z"
   },
   {
    "duration": 3,
    "start_time": "2021-11-16T09:32:08.535Z"
   },
   {
    "duration": 111,
    "start_time": "2021-11-16T09:32:10.120Z"
   },
   {
    "duration": 3,
    "start_time": "2021-11-16T09:32:15.732Z"
   },
   {
    "duration": 4,
    "start_time": "2021-11-16T09:32:29.423Z"
   },
   {
    "duration": 3,
    "start_time": "2021-11-16T10:03:03.074Z"
   },
   {
    "duration": 3,
    "start_time": "2021-11-16T10:10:01.288Z"
   },
   {
    "duration": 3,
    "start_time": "2021-11-16T10:10:46.923Z"
   },
   {
    "duration": 121,
    "start_time": "2021-11-16T10:37:46.494Z"
   },
   {
    "duration": 125,
    "start_time": "2021-11-16T10:38:20.632Z"
   },
   {
    "duration": 112,
    "start_time": "2021-11-16T10:46:53.001Z"
   },
   {
    "duration": 110,
    "start_time": "2021-11-16T10:48:25.775Z"
   },
   {
    "duration": 3,
    "start_time": "2021-11-16T10:50:18.720Z"
   },
   {
    "duration": 4,
    "start_time": "2021-11-16T10:50:37.649Z"
   },
   {
    "duration": 2,
    "start_time": "2021-11-16T10:50:51.884Z"
   },
   {
    "duration": 3,
    "start_time": "2021-11-16T10:51:56.237Z"
   },
   {
    "duration": 101,
    "start_time": "2021-11-16T10:53:13.791Z"
   },
   {
    "duration": 3,
    "start_time": "2021-11-16T10:55:59.186Z"
   },
   {
    "duration": 3,
    "start_time": "2021-11-16T10:56:10.751Z"
   },
   {
    "duration": 3,
    "start_time": "2021-11-16T10:56:49.038Z"
   },
   {
    "duration": 3,
    "start_time": "2021-11-16T10:56:49.174Z"
   },
   {
    "duration": 4,
    "start_time": "2021-11-16T10:56:49.414Z"
   },
   {
    "duration": 3,
    "start_time": "2021-11-16T10:56:49.680Z"
   },
   {
    "duration": 3,
    "start_time": "2021-11-16T10:56:50.370Z"
   },
   {
    "duration": 114,
    "start_time": "2021-11-16T10:59:34.518Z"
   },
   {
    "duration": 3,
    "start_time": "2021-11-16T11:01:41.201Z"
   },
   {
    "duration": 116,
    "start_time": "2021-11-16T11:01:48.754Z"
   },
   {
    "duration": 3,
    "start_time": "2021-11-16T11:02:16.685Z"
   },
   {
    "duration": 3,
    "start_time": "2021-11-16T11:02:19.479Z"
   },
   {
    "duration": 3,
    "start_time": "2021-11-16T11:02:47.067Z"
   },
   {
    "duration": 3,
    "start_time": "2021-11-16T11:02:49.353Z"
   },
   {
    "duration": 3,
    "start_time": "2021-11-16T11:03:07.835Z"
   },
   {
    "duration": 3,
    "start_time": "2021-11-16T11:03:07.953Z"
   },
   {
    "duration": 112,
    "start_time": "2021-11-16T11:07:52.072Z"
   },
   {
    "duration": 187,
    "start_time": "2021-11-16T11:09:23.468Z"
   },
   {
    "duration": 4,
    "start_time": "2021-11-16T11:10:01.455Z"
   },
   {
    "duration": 3,
    "start_time": "2021-11-16T11:10:05.069Z"
   },
   {
    "duration": 4,
    "start_time": "2021-11-16T11:10:13.376Z"
   },
   {
    "duration": 3,
    "start_time": "2021-11-16T11:10:14.434Z"
   },
   {
    "duration": 3,
    "start_time": "2021-11-16T11:10:22.853Z"
   },
   {
    "duration": 4,
    "start_time": "2021-11-16T11:27:29.279Z"
   },
   {
    "duration": 4,
    "start_time": "2021-11-16T11:29:08.919Z"
   },
   {
    "duration": 118,
    "start_time": "2021-11-16T11:29:46.703Z"
   },
   {
    "duration": 437,
    "start_time": "2021-11-16T11:36:02.181Z"
   },
   {
    "duration": 157,
    "start_time": "2021-11-16T11:36:14.388Z"
   },
   {
    "duration": 207,
    "start_time": "2021-11-16T11:47:15.898Z"
   },
   {
    "duration": 3,
    "start_time": "2021-11-16T11:53:52.092Z"
   },
   {
    "duration": 3,
    "start_time": "2021-11-16T11:53:52.236Z"
   },
   {
    "duration": 3,
    "start_time": "2021-11-16T11:59:12.005Z"
   },
   {
    "duration": 112,
    "start_time": "2021-11-16T12:00:33.446Z"
   },
   {
    "duration": 3,
    "start_time": "2021-11-16T12:02:14.453Z"
   },
   {
    "duration": 3,
    "start_time": "2021-11-16T12:02:39.512Z"
   },
   {
    "duration": 106,
    "start_time": "2021-11-16T12:03:03.460Z"
   },
   {
    "duration": 3,
    "start_time": "2021-11-17T20:37:21.139Z"
   },
   {
    "duration": 3,
    "start_time": "2021-11-17T20:37:22.229Z"
   },
   {
    "duration": 3,
    "start_time": "2021-11-17T20:38:38.806Z"
   },
   {
    "duration": 3,
    "start_time": "2021-11-17T20:38:41.958Z"
   },
   {
    "duration": 3,
    "start_time": "2021-11-17T20:43:46.551Z"
   },
   {
    "duration": 4,
    "start_time": "2021-11-17T20:58:21.835Z"
   },
   {
    "duration": 3,
    "start_time": "2021-11-17T20:59:21.872Z"
   },
   {
    "duration": 4,
    "start_time": "2021-11-17T20:59:45.352Z"
   },
   {
    "duration": 4,
    "start_time": "2021-11-17T20:59:49.646Z"
   },
   {
    "duration": 159,
    "start_time": "2021-11-17T21:02:26.949Z"
   },
   {
    "duration": 3,
    "start_time": "2021-11-17T21:03:53.461Z"
   },
   {
    "duration": 3,
    "start_time": "2021-11-17T21:03:53.694Z"
   },
   {
    "duration": 3,
    "start_time": "2021-11-17T21:05:28.145Z"
   },
   {
    "duration": 116,
    "start_time": "2021-11-17T21:05:57.787Z"
   },
   {
    "duration": 3,
    "start_time": "2021-11-17T21:06:37.993Z"
   },
   {
    "duration": 3,
    "start_time": "2021-11-17T21:06:38.261Z"
   },
   {
    "duration": 3,
    "start_time": "2021-11-17T21:11:54.358Z"
   },
   {
    "duration": 3,
    "start_time": "2021-11-17T21:12:43.846Z"
   },
   {
    "duration": 4,
    "start_time": "2021-11-17T21:13:08.773Z"
   },
   {
    "duration": 3,
    "start_time": "2021-11-17T21:14:44.441Z"
   },
   {
    "duration": 3,
    "start_time": "2021-11-17T21:15:42.059Z"
   },
   {
    "duration": 4,
    "start_time": "2021-11-17T21:15:51.995Z"
   },
   {
    "duration": 3,
    "start_time": "2021-11-17T21:15:53.923Z"
   },
   {
    "duration": 3,
    "start_time": "2021-11-17T21:15:55.282Z"
   },
   {
    "duration": 3,
    "start_time": "2021-11-17T21:16:28.492Z"
   },
   {
    "duration": 3,
    "start_time": "2021-11-17T21:16:32.603Z"
   },
   {
    "duration": 3,
    "start_time": "2021-11-17T21:17:06.941Z"
   },
   {
    "duration": 98,
    "start_time": "2021-11-17T21:18:05.733Z"
   },
   {
    "duration": 4,
    "start_time": "2021-11-17T21:21:35.255Z"
   },
   {
    "duration": 3,
    "start_time": "2021-11-17T21:21:37.804Z"
   },
   {
    "duration": 4,
    "start_time": "2021-11-17T21:23:06.071Z"
   },
   {
    "duration": 3,
    "start_time": "2021-11-17T21:23:24.799Z"
   },
   {
    "duration": 3,
    "start_time": "2021-11-17T21:23:32.591Z"
   },
   {
    "duration": 98,
    "start_time": "2021-11-17T21:28:31.559Z"
   },
   {
    "duration": 3,
    "start_time": "2021-11-17T21:28:45.448Z"
   },
   {
    "duration": 3,
    "start_time": "2021-11-17T21:29:17.303Z"
   },
   {
    "duration": 3,
    "start_time": "2021-11-17T21:29:29.617Z"
   },
   {
    "duration": 3,
    "start_time": "2021-11-17T21:29:32.681Z"
   },
   {
    "duration": 3,
    "start_time": "2021-11-17T21:36:11.474Z"
   },
   {
    "duration": 3,
    "start_time": "2021-11-17T21:36:14.791Z"
   },
   {
    "duration": 3,
    "start_time": "2021-11-17T21:36:53.943Z"
   },
   {
    "duration": 3,
    "start_time": "2021-11-17T21:36:56.165Z"
   },
   {
    "duration": 4,
    "start_time": "2021-11-17T21:37:16.590Z"
   },
   {
    "duration": 3,
    "start_time": "2021-11-17T21:37:22.702Z"
   },
   {
    "duration": 4,
    "start_time": "2021-11-17T21:38:03.479Z"
   },
   {
    "duration": 3,
    "start_time": "2021-11-17T21:38:08.601Z"
   },
   {
    "duration": 3,
    "start_time": "2021-11-17T21:38:12.928Z"
   },
   {
    "duration": 3,
    "start_time": "2021-11-17T21:38:48.896Z"
   },
   {
    "duration": 2,
    "start_time": "2021-11-17T21:38:49.171Z"
   },
   {
    "duration": 4,
    "start_time": "2021-11-17T21:39:57.889Z"
   },
   {
    "duration": 3,
    "start_time": "2021-11-17T21:39:58.057Z"
   },
   {
    "duration": 3,
    "start_time": "2021-11-17T21:41:20.108Z"
   },
   {
    "duration": 3,
    "start_time": "2021-11-17T21:41:20.629Z"
   },
   {
    "duration": 3,
    "start_time": "2021-11-17T21:42:49.136Z"
   },
   {
    "duration": 3,
    "start_time": "2021-11-17T21:43:15.137Z"
   },
   {
    "duration": 4,
    "start_time": "2021-11-17T21:43:16.766Z"
   },
   {
    "duration": 4,
    "start_time": "2021-11-17T21:43:31.711Z"
   },
   {
    "duration": 3,
    "start_time": "2021-11-17T21:43:36.312Z"
   },
   {
    "duration": 4,
    "start_time": "2021-11-17T21:45:08.825Z"
   },
   {
    "duration": 4,
    "start_time": "2021-11-17T21:45:10.119Z"
   },
   {
    "duration": 4,
    "start_time": "2021-11-17T21:45:13.748Z"
   },
   {
    "duration": 3,
    "start_time": "2021-11-17T21:45:22.219Z"
   },
   {
    "duration": 3,
    "start_time": "2021-11-17T21:45:33.412Z"
   },
   {
    "duration": 2,
    "start_time": "2021-11-17T21:46:01.885Z"
   },
   {
    "duration": 3,
    "start_time": "2021-11-17T21:46:03.628Z"
   },
   {
    "duration": 107,
    "start_time": "2021-11-17T21:47:32.512Z"
   },
   {
    "duration": 103,
    "start_time": "2021-11-17T21:50:36.243Z"
   },
   {
    "duration": 3,
    "start_time": "2021-11-18T06:28:31.440Z"
   },
   {
    "duration": 3,
    "start_time": "2021-11-18T06:29:00.168Z"
   },
   {
    "duration": 3,
    "start_time": "2021-11-18T06:31:27.008Z"
   },
   {
    "duration": 2,
    "start_time": "2021-11-18T06:35:34.288Z"
   },
   {
    "duration": 2,
    "start_time": "2021-11-18T06:38:04.527Z"
   },
   {
    "duration": 1255,
    "start_time": "2022-01-06T05:08:43.129Z"
   },
   {
    "duration": 396,
    "start_time": "2022-01-06T05:11:28.873Z"
   },
   {
    "duration": 18,
    "start_time": "2022-01-06T05:15:13.168Z"
   },
   {
    "duration": 10,
    "start_time": "2022-01-06T05:15:18.445Z"
   },
   {
    "duration": 14,
    "start_time": "2022-01-06T05:15:54.255Z"
   },
   {
    "duration": 13,
    "start_time": "2022-01-06T05:16:01.882Z"
   },
   {
    "duration": 9,
    "start_time": "2022-01-06T05:20:04.000Z"
   },
   {
    "duration": 16,
    "start_time": "2022-01-06T05:21:07.396Z"
   },
   {
    "duration": 6,
    "start_time": "2022-01-06T05:24:55.088Z"
   },
   {
    "duration": 5,
    "start_time": "2022-01-06T05:25:12.766Z"
   },
   {
    "duration": 396,
    "start_time": "2022-01-06T05:27:19.183Z"
   },
   {
    "duration": 291,
    "start_time": "2022-01-06T05:28:09.727Z"
   },
   {
    "duration": 293,
    "start_time": "2022-01-06T05:28:32.362Z"
   },
   {
    "duration": 26,
    "start_time": "2022-01-06T05:28:48.918Z"
   },
   {
    "duration": 5,
    "start_time": "2022-01-06T05:29:00.918Z"
   },
   {
    "duration": 14,
    "start_time": "2022-01-06T05:29:33.831Z"
   },
   {
    "duration": 7,
    "start_time": "2022-01-06T05:31:04.598Z"
   },
   {
    "duration": 5,
    "start_time": "2022-01-06T05:32:01.064Z"
   },
   {
    "duration": 109,
    "start_time": "2022-01-06T05:38:48.593Z"
   },
   {
    "duration": 101,
    "start_time": "2022-01-06T05:40:05.622Z"
   },
   {
    "duration": 1016,
    "start_time": "2022-01-06T05:43:37.312Z"
   },
   {
    "duration": 734,
    "start_time": "2022-01-06T05:44:16.480Z"
   },
   {
    "duration": 310,
    "start_time": "2022-01-06T05:44:37.450Z"
   },
   {
    "duration": 303,
    "start_time": "2022-01-06T05:46:16.810Z"
   },
   {
    "duration": 4,
    "start_time": "2022-01-06T05:46:37.694Z"
   },
   {
    "duration": 5,
    "start_time": "2022-01-06T05:46:48.351Z"
   },
   {
    "duration": 17,
    "start_time": "2022-01-06T05:47:17.710Z"
   },
   {
    "duration": 4,
    "start_time": "2022-01-06T05:47:55.685Z"
   },
   {
    "duration": 16,
    "start_time": "2022-01-06T05:47:58.174Z"
   },
   {
    "duration": 16,
    "start_time": "2022-01-06T05:48:28.258Z"
   },
   {
    "duration": 1206,
    "start_time": "2022-01-06T05:49:26.764Z"
   },
   {
    "duration": 399,
    "start_time": "2022-01-06T05:49:27.972Z"
   },
   {
    "duration": 11,
    "start_time": "2022-01-06T05:49:28.374Z"
   },
   {
    "duration": 26,
    "start_time": "2022-01-06T05:49:28.388Z"
   },
   {
    "duration": 10,
    "start_time": "2022-01-06T05:49:28.417Z"
   },
   {
    "duration": 47,
    "start_time": "2022-01-06T05:49:28.429Z"
   },
   {
    "duration": 7,
    "start_time": "2022-01-06T05:49:28.479Z"
   },
   {
    "duration": 7,
    "start_time": "2022-01-06T05:49:28.491Z"
   },
   {
    "duration": 61,
    "start_time": "2022-01-06T05:49:28.501Z"
   },
   {
    "duration": 7,
    "start_time": "2022-01-06T05:49:28.565Z"
   },
   {
    "duration": 6,
    "start_time": "2022-01-06T05:49:38.142Z"
   },
   {
    "duration": 17,
    "start_time": "2022-01-06T05:49:40.756Z"
   },
   {
    "duration": -882,
    "start_time": "2022-01-06T05:50:17.467Z"
   },
   {
    "duration": 296,
    "start_time": "2022-01-06T05:52:12.084Z"
   },
   {
    "duration": 26,
    "start_time": "2022-01-06T05:52:18.791Z"
   },
   {
    "duration": 11,
    "start_time": "2022-01-06T05:52:49.158Z"
   },
   {
    "duration": 8,
    "start_time": "2022-01-06T05:53:34.122Z"
   },
   {
    "duration": 6,
    "start_time": "2022-01-06T05:54:28.866Z"
   },
   {
    "duration": 7,
    "start_time": "2022-01-06T05:54:52.803Z"
   },
   {
    "duration": 22,
    "start_time": "2022-01-06T05:55:36.474Z"
   },
   {
    "duration": 12,
    "start_time": "2022-01-06T05:55:50.802Z"
   },
   {
    "duration": 385,
    "start_time": "2022-01-06T06:00:17.788Z"
   },
   {
    "duration": 348,
    "start_time": "2022-01-06T06:00:44.032Z"
   },
   {
    "duration": 4,
    "start_time": "2022-01-06T06:01:07.624Z"
   },
   {
    "duration": 291,
    "start_time": "2022-01-06T06:01:23.789Z"
   },
   {
    "duration": 303,
    "start_time": "2022-01-06T06:01:57.779Z"
   },
   {
    "duration": 8,
    "start_time": "2022-01-06T06:07:49.930Z"
   },
   {
    "duration": 12,
    "start_time": "2022-01-06T06:08:14.122Z"
   },
   {
    "duration": 407,
    "start_time": "2022-01-06T06:11:17.140Z"
   },
   {
    "duration": 30,
    "start_time": "2022-01-06T06:11:38.580Z"
   },
   {
    "duration": 28,
    "start_time": "2022-01-06T06:11:56.865Z"
   },
   {
    "duration": 15,
    "start_time": "2022-01-06T06:11:59.424Z"
   },
   {
    "duration": 29,
    "start_time": "2022-01-06T06:12:24.222Z"
   },
   {
    "duration": 15,
    "start_time": "2022-01-06T06:14:36.118Z"
   },
   {
    "duration": 11,
    "start_time": "2022-01-06T06:14:51.998Z"
   },
   {
    "duration": 23,
    "start_time": "2022-01-06T06:18:51.099Z"
   },
   {
    "duration": 13,
    "start_time": "2022-01-06T06:19:17.509Z"
   },
   {
    "duration": 12,
    "start_time": "2022-01-06T06:19:29.419Z"
   },
   {
    "duration": 14,
    "start_time": "2022-01-06T06:19:50.087Z"
   },
   {
    "duration": 21,
    "start_time": "2022-01-06T06:21:12.502Z"
   },
   {
    "duration": 14,
    "start_time": "2022-01-06T06:21:48.623Z"
   },
   {
    "duration": 38,
    "start_time": "2022-01-06T06:22:03.244Z"
   },
   {
    "duration": 15,
    "start_time": "2022-01-06T06:23:13.881Z"
   },
   {
    "duration": 12,
    "start_time": "2022-01-06T06:23:49.991Z"
   },
   {
    "duration": 13,
    "start_time": "2022-01-06T06:24:05.532Z"
   },
   {
    "duration": 19,
    "start_time": "2022-01-06T06:24:30.953Z"
   },
   {
    "duration": 12,
    "start_time": "2022-01-06T06:26:38.007Z"
   },
   {
    "duration": 25,
    "start_time": "2022-01-06T06:28:47.801Z"
   },
   {
    "duration": 16,
    "start_time": "2022-01-06T06:29:16.290Z"
   },
   {
    "duration": 26,
    "start_time": "2022-01-06T06:29:24.884Z"
   },
   {
    "duration": 19,
    "start_time": "2022-01-06T06:30:20.679Z"
   },
   {
    "duration": 15,
    "start_time": "2022-01-06T06:31:03.114Z"
   },
   {
    "duration": 457,
    "start_time": "2022-01-06T06:31:38.386Z"
   },
   {
    "duration": 12,
    "start_time": "2022-01-06T06:31:42.768Z"
   },
   {
    "duration": 22,
    "start_time": "2022-01-06T06:31:58.076Z"
   },
   {
    "duration": 19,
    "start_time": "2022-01-06T06:42:17.217Z"
   },
   {
    "duration": 297,
    "start_time": "2022-01-06T06:44:42.481Z"
   },
   {
    "duration": 32,
    "start_time": "2022-01-06T06:45:02.368Z"
   },
   {
    "duration": 13,
    "start_time": "2022-01-06T06:46:11.918Z"
   },
   {
    "duration": 31,
    "start_time": "2022-01-06T06:46:26.996Z"
   },
   {
    "duration": 19,
    "start_time": "2022-01-06T06:47:38.582Z"
   },
   {
    "duration": 12,
    "start_time": "2022-01-06T06:47:54.239Z"
   },
   {
    "duration": 12,
    "start_time": "2022-01-06T06:48:18.104Z"
   },
   {
    "duration": 13,
    "start_time": "2022-01-06T06:48:37.548Z"
   },
   {
    "duration": 14,
    "start_time": "2022-01-06T06:48:54.145Z"
   },
   {
    "duration": 96,
    "start_time": "2022-01-06T06:49:11.392Z"
   },
   {
    "duration": 13,
    "start_time": "2022-01-06T06:49:23.736Z"
   },
   {
    "duration": 34,
    "start_time": "2022-01-06T06:50:49.863Z"
   },
   {
    "duration": 35,
    "start_time": "2022-01-06T06:52:54.684Z"
   },
   {
    "duration": 10,
    "start_time": "2022-01-06T06:53:15.204Z"
   },
   {
    "duration": 13,
    "start_time": "2022-01-06T06:53:27.489Z"
   },
   {
    "duration": 13,
    "start_time": "2022-01-06T06:54:09.734Z"
   },
   {
    "duration": 36,
    "start_time": "2022-01-06T06:55:38.430Z"
   },
   {
    "duration": 34,
    "start_time": "2022-01-06T06:55:49.427Z"
   },
   {
    "duration": 14,
    "start_time": "2022-01-06T06:56:06.426Z"
   },
   {
    "duration": 15,
    "start_time": "2022-01-06T06:56:24.928Z"
   },
   {
    "duration": 304,
    "start_time": "2022-01-06T06:56:37.082Z"
   },
   {
    "duration": 36,
    "start_time": "2022-01-06T06:57:07.454Z"
   },
   {
    "duration": 14,
    "start_time": "2022-01-06T06:58:38.069Z"
   },
   {
    "duration": 37,
    "start_time": "2022-01-06T06:58:49.572Z"
   },
   {
    "duration": 34,
    "start_time": "2022-01-06T06:59:20.369Z"
   },
   {
    "duration": 36,
    "start_time": "2022-01-06T06:59:34.765Z"
   },
   {
    "duration": 37,
    "start_time": "2022-01-06T07:02:01.205Z"
   },
   {
    "duration": 1296,
    "start_time": "2022-01-06T07:02:41.579Z"
   },
   {
    "duration": 418,
    "start_time": "2022-01-06T07:02:42.878Z"
   },
   {
    "duration": 10,
    "start_time": "2022-01-06T07:02:43.299Z"
   },
   {
    "duration": 26,
    "start_time": "2022-01-06T07:02:43.312Z"
   },
   {
    "duration": 9,
    "start_time": "2022-01-06T07:02:43.341Z"
   },
   {
    "duration": 22,
    "start_time": "2022-01-06T07:02:43.353Z"
   },
   {
    "duration": 5,
    "start_time": "2022-01-06T07:02:43.377Z"
   },
   {
    "duration": 6,
    "start_time": "2022-01-06T07:02:43.386Z"
   },
   {
    "duration": 14,
    "start_time": "2022-01-06T07:02:43.395Z"
   },
   {
    "duration": 53,
    "start_time": "2022-01-06T07:02:43.411Z"
   },
   {
    "duration": 7,
    "start_time": "2022-01-06T07:02:43.467Z"
   },
   {
    "duration": 9,
    "start_time": "2022-01-06T07:02:43.476Z"
   },
   {
    "duration": 22,
    "start_time": "2022-01-06T07:02:43.487Z"
   },
   {
    "duration": 11,
    "start_time": "2022-01-06T07:02:43.512Z"
   },
   {
    "duration": 42,
    "start_time": "2022-01-06T07:02:43.525Z"
   },
   {
    "duration": 33,
    "start_time": "2022-01-06T07:02:43.569Z"
   },
   {
    "duration": 29,
    "start_time": "2022-01-06T07:02:43.604Z"
   },
   {
    "duration": 23,
    "start_time": "2022-01-06T07:02:43.664Z"
   },
   {
    "duration": 14,
    "start_time": "2022-01-06T07:02:43.689Z"
   },
   {
    "duration": 18,
    "start_time": "2022-01-06T07:02:43.705Z"
   },
   {
    "duration": 46,
    "start_time": "2022-01-06T07:02:43.726Z"
   },
   {
    "duration": 22,
    "start_time": "2022-01-06T07:02:43.774Z"
   },
   {
    "duration": 22,
    "start_time": "2022-01-06T07:02:43.800Z"
   },
   {
    "duration": 43,
    "start_time": "2022-01-06T07:02:43.825Z"
   },
   {
    "duration": 14,
    "start_time": "2022-01-06T07:02:43.870Z"
   },
   {
    "duration": 22,
    "start_time": "2022-01-06T07:02:43.887Z"
   },
   {
    "duration": 53,
    "start_time": "2022-01-06T07:02:43.911Z"
   },
   {
    "duration": 25,
    "start_time": "2022-01-06T07:02:43.967Z"
   },
   {
    "duration": 24,
    "start_time": "2022-01-06T07:02:43.994Z"
   },
   {
    "duration": 50,
    "start_time": "2022-01-06T07:02:44.020Z"
   },
   {
    "duration": 13,
    "start_time": "2022-01-06T07:02:44.073Z"
   },
   {
    "duration": 17,
    "start_time": "2022-01-06T07:02:44.088Z"
   },
   {
    "duration": 49,
    "start_time": "2022-01-06T07:02:53.058Z"
   },
   {
    "duration": 37,
    "start_time": "2022-01-06T07:08:39.401Z"
   },
   {
    "duration": 952,
    "start_time": "2022-01-07T05:57:44.188Z"
   },
   {
    "duration": 323,
    "start_time": "2022-01-07T05:57:45.141Z"
   },
   {
    "duration": 7,
    "start_time": "2022-01-07T05:57:45.466Z"
   },
   {
    "duration": 18,
    "start_time": "2022-01-07T05:57:45.474Z"
   },
   {
    "duration": 8,
    "start_time": "2022-01-07T05:57:45.493Z"
   },
   {
    "duration": 15,
    "start_time": "2022-01-07T05:57:45.503Z"
   },
   {
    "duration": 4,
    "start_time": "2022-01-07T05:57:52.345Z"
   },
   {
    "duration": 55,
    "start_time": "2022-01-07T05:59:53.137Z"
   },
   {
    "duration": 68,
    "start_time": "2022-01-07T06:00:01.696Z"
   },
   {
    "duration": 4,
    "start_time": "2022-01-07T06:00:06.209Z"
   },
   {
    "duration": 11,
    "start_time": "2022-01-07T06:00:12.584Z"
   },
   {
    "duration": 8,
    "start_time": "2022-01-07T06:02:23.073Z"
   },
   {
    "duration": 15,
    "start_time": "2022-01-07T06:02:37.514Z"
   },
   {
    "duration": 8,
    "start_time": "2022-01-07T06:09:27.826Z"
   },
   {
    "duration": 13,
    "start_time": "2022-01-07T06:10:11.610Z"
   },
   {
    "duration": 60,
    "start_time": "2022-01-07T06:13:33.010Z"
   },
   {
    "duration": 5,
    "start_time": "2022-01-07T06:13:40.036Z"
   },
   {
    "duration": 12,
    "start_time": "2022-01-07T06:13:42.247Z"
   },
   {
    "duration": 7,
    "start_time": "2022-01-07T06:14:04.497Z"
   },
   {
    "duration": 4,
    "start_time": "2022-01-07T06:14:08.449Z"
   },
   {
    "duration": 6,
    "start_time": "2022-01-07T06:14:10.523Z"
   },
   {
    "duration": 16,
    "start_time": "2022-01-07T06:14:23.928Z"
   },
   {
    "duration": 8,
    "start_time": "2022-01-07T06:14:27.940Z"
   },
   {
    "duration": 5,
    "start_time": "2022-01-07T06:14:41.754Z"
   },
   {
    "duration": 24,
    "start_time": "2022-01-07T06:14:43.478Z"
   },
   {
    "duration": 911,
    "start_time": "2022-01-07T06:15:45.315Z"
   },
   {
    "duration": 300,
    "start_time": "2022-01-07T06:15:46.228Z"
   },
   {
    "duration": 6,
    "start_time": "2022-01-07T06:15:46.530Z"
   },
   {
    "duration": 19,
    "start_time": "2022-01-07T06:15:46.538Z"
   },
   {
    "duration": 6,
    "start_time": "2022-01-07T06:15:46.558Z"
   },
   {
    "duration": 12,
    "start_time": "2022-01-07T06:15:46.565Z"
   },
   {
    "duration": 9,
    "start_time": "2022-01-07T06:15:46.578Z"
   },
   {
    "duration": 20,
    "start_time": "2022-01-07T06:15:46.589Z"
   },
   {
    "duration": 7,
    "start_time": "2022-01-07T06:15:46.612Z"
   },
   {
    "duration": 12,
    "start_time": "2022-01-07T06:15:46.620Z"
   },
   {
    "duration": 7,
    "start_time": "2022-01-07T06:15:46.633Z"
   },
   {
    "duration": 5,
    "start_time": "2022-01-07T06:15:46.642Z"
   },
   {
    "duration": 7,
    "start_time": "2022-01-07T06:15:46.648Z"
   },
   {
    "duration": 46,
    "start_time": "2022-01-07T06:15:46.657Z"
   },
   {
    "duration": 12,
    "start_time": "2022-01-07T06:15:46.705Z"
   },
   {
    "duration": 7,
    "start_time": "2022-01-07T06:15:46.718Z"
   },
   {
    "duration": 20,
    "start_time": "2022-01-07T06:15:46.727Z"
   },
   {
    "duration": 48,
    "start_time": "2022-01-07T06:15:46.749Z"
   },
   {
    "duration": 18,
    "start_time": "2022-01-07T06:15:46.799Z"
   },
   {
    "duration": 10,
    "start_time": "2022-01-07T06:15:46.819Z"
   },
   {
    "duration": 12,
    "start_time": "2022-01-07T06:15:46.831Z"
   },
   {
    "duration": 8,
    "start_time": "2022-01-07T06:15:46.844Z"
   },
   {
    "duration": 47,
    "start_time": "2022-01-07T06:15:46.856Z"
   },
   {
    "duration": 14,
    "start_time": "2022-01-07T06:15:46.906Z"
   },
   {
    "duration": 10,
    "start_time": "2022-01-07T06:15:46.922Z"
   },
   {
    "duration": 9,
    "start_time": "2022-01-07T06:15:46.933Z"
   },
   {
    "duration": 19,
    "start_time": "2022-01-07T06:15:46.943Z"
   },
   {
    "duration": 12,
    "start_time": "2022-01-07T06:15:46.992Z"
   },
   {
    "duration": 18,
    "start_time": "2022-01-07T06:15:47.007Z"
   },
   {
    "duration": 19,
    "start_time": "2022-01-07T06:15:47.027Z"
   },
   {
    "duration": 46,
    "start_time": "2022-01-07T06:15:47.047Z"
   },
   {
    "duration": 10,
    "start_time": "2022-01-07T06:15:47.095Z"
   },
   {
    "duration": 11,
    "start_time": "2022-01-07T06:15:47.107Z"
   },
   {
    "duration": 27,
    "start_time": "2022-01-07T06:17:12.097Z"
   },
   {
    "duration": 61,
    "start_time": "2022-01-07T06:19:10.740Z"
   },
   {
    "duration": 38,
    "start_time": "2022-01-07T06:19:47.095Z"
   },
   {
    "duration": 29,
    "start_time": "2022-01-07T06:21:59.945Z"
   },
   {
    "duration": 29,
    "start_time": "2022-01-07T06:26:43.425Z"
   },
   {
    "duration": 35,
    "start_time": "2022-01-07T06:31:32.991Z"
   },
   {
    "duration": 17,
    "start_time": "2022-01-07T06:31:46.034Z"
   },
   {
    "duration": 14,
    "start_time": "2022-01-07T06:32:01.084Z"
   },
   {
    "duration": 263,
    "start_time": "2022-01-07T06:32:18.000Z"
   },
   {
    "duration": 6,
    "start_time": "2022-01-07T06:32:26.140Z"
   },
   {
    "duration": 27,
    "start_time": "2022-01-07T06:34:01.941Z"
   },
   {
    "duration": 5465,
    "start_time": "2022-01-07T06:34:14.705Z"
   },
   {
    "duration": 893,
    "start_time": "2022-01-07T06:35:01.426Z"
   },
   {
    "duration": 296,
    "start_time": "2022-01-07T06:35:02.321Z"
   },
   {
    "duration": 6,
    "start_time": "2022-01-07T06:35:02.619Z"
   },
   {
    "duration": 16,
    "start_time": "2022-01-07T06:35:02.627Z"
   },
   {
    "duration": 5,
    "start_time": "2022-01-07T06:35:02.645Z"
   },
   {
    "duration": 20,
    "start_time": "2022-01-07T06:35:02.651Z"
   },
   {
    "duration": 8,
    "start_time": "2022-01-07T06:35:02.673Z"
   },
   {
    "duration": 22,
    "start_time": "2022-01-07T06:35:02.684Z"
   },
   {
    "duration": 8,
    "start_time": "2022-01-07T06:35:02.708Z"
   },
   {
    "duration": 16,
    "start_time": "2022-01-07T06:35:02.717Z"
   },
   {
    "duration": 6,
    "start_time": "2022-01-07T06:35:02.735Z"
   },
   {
    "duration": 9,
    "start_time": "2022-01-07T06:35:02.742Z"
   },
   {
    "duration": 8,
    "start_time": "2022-01-07T06:35:02.753Z"
   },
   {
    "duration": 36,
    "start_time": "2022-01-07T06:35:02.763Z"
   },
   {
    "duration": 9,
    "start_time": "2022-01-07T06:35:02.801Z"
   },
   {
    "duration": 9,
    "start_time": "2022-01-07T06:35:02.812Z"
   },
   {
    "duration": 22,
    "start_time": "2022-01-07T06:35:02.822Z"
   },
   {
    "duration": 20,
    "start_time": "2022-01-07T06:35:02.845Z"
   },
   {
    "duration": 43,
    "start_time": "2022-01-07T06:35:02.866Z"
   },
   {
    "duration": 10,
    "start_time": "2022-01-07T06:35:02.911Z"
   },
   {
    "duration": 13,
    "start_time": "2022-01-07T06:35:02.922Z"
   },
   {
    "duration": 7,
    "start_time": "2022-01-07T06:35:02.937Z"
   },
   {
    "duration": 12,
    "start_time": "2022-01-07T06:35:02.946Z"
   },
   {
    "duration": 42,
    "start_time": "2022-01-07T06:35:02.960Z"
   },
   {
    "duration": 12,
    "start_time": "2022-01-07T06:35:03.004Z"
   },
   {
    "duration": 9,
    "start_time": "2022-01-07T06:35:03.018Z"
   },
   {
    "duration": 15,
    "start_time": "2022-01-07T06:35:03.029Z"
   },
   {
    "duration": 8,
    "start_time": "2022-01-07T06:35:03.046Z"
   },
   {
    "duration": 60,
    "start_time": "2022-01-07T06:35:03.055Z"
   },
   {
    "duration": 20,
    "start_time": "2022-01-07T06:35:03.117Z"
   },
   {
    "duration": 13,
    "start_time": "2022-01-07T06:35:03.139Z"
   },
   {
    "duration": 9,
    "start_time": "2022-01-07T06:35:03.154Z"
   },
   {
    "duration": 11,
    "start_time": "2022-01-07T06:35:03.193Z"
   },
   {
    "duration": 36,
    "start_time": "2022-01-07T06:35:03.206Z"
   },
   {
    "duration": 20,
    "start_time": "2022-01-07T06:35:07.973Z"
   },
   {
    "duration": 28,
    "start_time": "2022-01-07T06:35:28.918Z"
   },
   {
    "duration": 962,
    "start_time": "2022-01-07T06:36:33.960Z"
   },
   {
    "duration": 329,
    "start_time": "2022-01-07T06:36:34.924Z"
   },
   {
    "duration": 6,
    "start_time": "2022-01-07T06:36:35.255Z"
   },
   {
    "duration": 17,
    "start_time": "2022-01-07T06:36:35.263Z"
   },
   {
    "duration": 8,
    "start_time": "2022-01-07T06:36:35.281Z"
   },
   {
    "duration": 16,
    "start_time": "2022-01-07T06:36:35.291Z"
   },
   {
    "duration": 8,
    "start_time": "2022-01-07T06:36:35.309Z"
   },
   {
    "duration": 15,
    "start_time": "2022-01-07T06:36:35.319Z"
   },
   {
    "duration": 6,
    "start_time": "2022-01-07T06:36:35.337Z"
   },
   {
    "duration": 11,
    "start_time": "2022-01-07T06:36:35.345Z"
   },
   {
    "duration": 38,
    "start_time": "2022-01-07T06:36:35.358Z"
   },
   {
    "duration": 5,
    "start_time": "2022-01-07T06:36:35.399Z"
   },
   {
    "duration": 11,
    "start_time": "2022-01-07T06:36:35.406Z"
   },
   {
    "duration": 15,
    "start_time": "2022-01-07T06:36:35.419Z"
   },
   {
    "duration": 8,
    "start_time": "2022-01-07T06:36:35.436Z"
   },
   {
    "duration": 7,
    "start_time": "2022-01-07T06:36:35.445Z"
   },
   {
    "duration": 64,
    "start_time": "2022-01-07T06:36:35.453Z"
   },
   {
    "duration": 21,
    "start_time": "2022-01-07T06:36:35.519Z"
   },
   {
    "duration": 16,
    "start_time": "2022-01-07T06:36:35.541Z"
   },
   {
    "duration": 8,
    "start_time": "2022-01-07T06:36:35.559Z"
   },
   {
    "duration": 18,
    "start_time": "2022-01-07T06:36:35.592Z"
   },
   {
    "duration": 8,
    "start_time": "2022-01-07T06:36:35.612Z"
   },
   {
    "duration": 17,
    "start_time": "2022-01-07T06:36:35.621Z"
   },
   {
    "duration": 14,
    "start_time": "2022-01-07T06:36:35.639Z"
   },
   {
    "duration": 39,
    "start_time": "2022-01-07T06:36:35.655Z"
   },
   {
    "duration": 10,
    "start_time": "2022-01-07T06:36:35.696Z"
   },
   {
    "duration": 14,
    "start_time": "2022-01-07T06:36:35.710Z"
   },
   {
    "duration": 7,
    "start_time": "2022-01-07T06:36:35.726Z"
   },
   {
    "duration": 19,
    "start_time": "2022-01-07T06:36:35.735Z"
   },
   {
    "duration": 49,
    "start_time": "2022-01-07T06:36:35.755Z"
   },
   {
    "duration": 15,
    "start_time": "2022-01-07T06:36:35.806Z"
   },
   {
    "duration": 11,
    "start_time": "2022-01-07T06:36:35.822Z"
   },
   {
    "duration": 9,
    "start_time": "2022-01-07T06:36:35.835Z"
   },
   {
    "duration": 73,
    "start_time": "2022-01-07T06:36:35.846Z"
   },
   {
    "duration": 20,
    "start_time": "2022-01-07T06:36:35.920Z"
   },
   {
    "duration": 22,
    "start_time": "2022-01-07T06:36:39.958Z"
   },
   {
    "duration": 13,
    "start_time": "2022-01-07T06:36:57.478Z"
   },
   {
    "duration": 22,
    "start_time": "2022-01-07T06:47:20.649Z"
   },
   {
    "duration": 57,
    "start_time": "2022-01-07T07:00:18.945Z"
   },
   {
    "duration": 3,
    "start_time": "2022-01-07T07:00:35.426Z"
   },
   {
    "duration": 631,
    "start_time": "2022-01-07T07:00:49.547Z"
   },
   {
    "duration": 3,
    "start_time": "2022-01-07T07:01:59.180Z"
   },
   {
    "duration": 618,
    "start_time": "2022-01-07T07:02:01.009Z"
   },
   {
    "duration": 3,
    "start_time": "2022-01-07T07:02:37.817Z"
   },
   {
    "duration": 3,
    "start_time": "2022-01-07T07:03:27.065Z"
   },
   {
    "duration": 376,
    "start_time": "2022-01-07T07:03:28.889Z"
   },
   {
    "duration": 62,
    "start_time": "2022-01-07T07:04:00.653Z"
   },
   {
    "duration": 4,
    "start_time": "2022-01-07T07:04:20.437Z"
   },
   {
    "duration": 522,
    "start_time": "2022-01-07T07:04:22.355Z"
   },
   {
    "duration": 4,
    "start_time": "2022-01-07T07:08:25.860Z"
   },
   {
    "duration": 366,
    "start_time": "2022-01-07T07:08:29.877Z"
   },
   {
    "duration": 4,
    "start_time": "2022-01-07T07:09:31.206Z"
   },
   {
    "duration": 5,
    "start_time": "2022-01-07T07:09:33.467Z"
   },
   {
    "duration": 3,
    "start_time": "2022-01-07T07:10:01.561Z"
   },
   {
    "duration": 481,
    "start_time": "2022-01-07T07:10:03.767Z"
   },
   {
    "duration": 3,
    "start_time": "2022-01-07T07:10:24.195Z"
   },
   {
    "duration": 5,
    "start_time": "2022-01-07T07:10:26.581Z"
   },
   {
    "duration": 3,
    "start_time": "2022-01-07T07:10:51.227Z"
   },
   {
    "duration": 6,
    "start_time": "2022-01-07T07:10:54.281Z"
   },
   {
    "duration": -160,
    "start_time": "2022-01-07T07:11:06.975Z"
   },
   {
    "duration": 3276,
    "start_time": "2022-01-07T07:11:15.146Z"
   },
   {
    "duration": 3,
    "start_time": "2022-01-07T07:11:59.288Z"
   },
   {
    "duration": 3681,
    "start_time": "2022-01-07T07:12:03.193Z"
   },
   {
    "duration": 360,
    "start_time": "2022-01-07T07:12:20.683Z"
   },
   {
    "duration": 4,
    "start_time": "2022-01-07T07:12:37.965Z"
   },
   {
    "duration": 6,
    "start_time": "2022-01-07T07:12:39.879Z"
   },
   {
    "duration": 3288,
    "start_time": "2022-01-07T07:12:44.462Z"
   },
   {
    "duration": 3682,
    "start_time": "2022-01-07T07:13:57.252Z"
   },
   {
    "duration": 3,
    "start_time": "2022-01-07T07:14:38.341Z"
   },
   {
    "duration": 3654,
    "start_time": "2022-01-07T07:14:41.358Z"
   },
   {
    "duration": 3,
    "start_time": "2022-01-07T07:15:31.415Z"
   },
   {
    "duration": 6,
    "start_time": "2022-01-07T07:15:33.557Z"
   },
   {
    "duration": 3,
    "start_time": "2022-01-07T07:24:47.029Z"
   },
   {
    "duration": 3,
    "start_time": "2022-01-07T07:25:02.419Z"
   },
   {
    "duration": 15,
    "start_time": "2022-01-07T07:25:05.326Z"
   },
   {
    "duration": 4,
    "start_time": "2022-01-07T07:26:06.529Z"
   },
   {
    "duration": 12,
    "start_time": "2022-01-07T07:26:08.966Z"
   },
   {
    "duration": 12,
    "start_time": "2022-01-07T07:26:35.193Z"
   },
   {
    "duration": 12,
    "start_time": "2022-01-07T07:26:51.433Z"
   },
   {
    "duration": 4,
    "start_time": "2022-01-07T07:29:13.508Z"
   },
   {
    "duration": 427,
    "start_time": "2022-01-07T07:29:15.640Z"
   },
   {
    "duration": 385,
    "start_time": "2022-01-07T07:29:51.550Z"
   },
   {
    "duration": 3,
    "start_time": "2022-01-07T07:31:13.967Z"
   },
   {
    "duration": 19,
    "start_time": "2022-01-07T07:31:16.449Z"
   },
   {
    "duration": 28,
    "start_time": "2022-01-07T07:31:29.174Z"
   },
   {
    "duration": 4,
    "start_time": "2022-01-07T07:32:55.099Z"
   },
   {
    "duration": 24,
    "start_time": "2022-01-07T07:32:57.278Z"
   },
   {
    "duration": 23,
    "start_time": "2022-01-07T07:33:58.431Z"
   },
   {
    "duration": 66,
    "start_time": "2022-01-07T07:35:14.902Z"
   },
   {
    "duration": 4,
    "start_time": "2022-01-07T07:35:38.318Z"
   },
   {
    "duration": 5094,
    "start_time": "2022-01-07T07:35:40.774Z"
   },
   {
    "duration": 4,
    "start_time": "2022-01-07T07:36:07.693Z"
   },
   {
    "duration": 24,
    "start_time": "2022-01-07T07:36:09.562Z"
   },
   {
    "duration": 5,
    "start_time": "2022-01-07T07:37:02.160Z"
   },
   {
    "duration": 24,
    "start_time": "2022-01-07T07:37:08.404Z"
   },
   {
    "duration": 9,
    "start_time": "2022-01-07T07:38:38.106Z"
   },
   {
    "duration": 5,
    "start_time": "2022-01-07T07:48:54.802Z"
   },
   {
    "duration": 5812,
    "start_time": "2022-01-07T07:49:01.436Z"
   },
   {
    "duration": 1338,
    "start_time": "2022-01-07T22:58:13.740Z"
   },
   {
    "duration": 420,
    "start_time": "2022-01-07T22:58:15.081Z"
   },
   {
    "duration": 10,
    "start_time": "2022-01-07T22:58:15.504Z"
   },
   {
    "duration": 32,
    "start_time": "2022-01-07T22:58:15.517Z"
   },
   {
    "duration": 11,
    "start_time": "2022-01-07T22:58:15.553Z"
   },
   {
    "duration": 24,
    "start_time": "2022-01-07T22:58:15.567Z"
   },
   {
    "duration": 12,
    "start_time": "2022-01-07T22:58:15.593Z"
   },
   {
    "duration": 29,
    "start_time": "2022-01-07T22:58:15.609Z"
   },
   {
    "duration": 31,
    "start_time": "2022-01-07T22:58:15.642Z"
   },
   {
    "duration": 22,
    "start_time": "2022-01-07T22:58:15.675Z"
   },
   {
    "duration": 12,
    "start_time": "2022-01-07T22:58:15.700Z"
   },
   {
    "duration": 10,
    "start_time": "2022-01-07T22:58:15.715Z"
   },
   {
    "duration": 8,
    "start_time": "2022-01-07T22:58:15.764Z"
   },
   {
    "duration": 27,
    "start_time": "2022-01-07T22:58:15.775Z"
   },
   {
    "duration": 13,
    "start_time": "2022-01-07T22:58:15.805Z"
   },
   {
    "duration": 45,
    "start_time": "2022-01-07T22:58:15.820Z"
   },
   {
    "duration": 31,
    "start_time": "2022-01-07T22:58:15.868Z"
   },
   {
    "duration": 29,
    "start_time": "2022-01-07T22:58:15.901Z"
   },
   {
    "duration": 52,
    "start_time": "2022-01-07T22:58:15.933Z"
   },
   {
    "duration": 13,
    "start_time": "2022-01-07T22:58:15.987Z"
   },
   {
    "duration": 19,
    "start_time": "2022-01-07T22:58:16.003Z"
   },
   {
    "duration": 10,
    "start_time": "2022-01-07T22:58:16.025Z"
   },
   {
    "duration": 19,
    "start_time": "2022-01-07T22:58:16.065Z"
   },
   {
    "duration": 21,
    "start_time": "2022-01-07T22:58:16.087Z"
   },
   {
    "duration": 16,
    "start_time": "2022-01-07T22:58:16.110Z"
   },
   {
    "duration": 13,
    "start_time": "2022-01-07T22:58:16.163Z"
   },
   {
    "duration": 20,
    "start_time": "2022-01-07T22:58:16.178Z"
   },
   {
    "duration": 14,
    "start_time": "2022-01-07T22:58:16.200Z"
   },
   {
    "duration": 69,
    "start_time": "2022-01-07T22:58:16.216Z"
   },
   {
    "duration": 25,
    "start_time": "2022-01-07T22:58:16.287Z"
   },
   {
    "duration": 19,
    "start_time": "2022-01-07T22:58:16.315Z"
   },
   {
    "duration": 38,
    "start_time": "2022-01-07T22:58:16.337Z"
   },
   {
    "duration": 14,
    "start_time": "2022-01-07T22:58:16.378Z"
   },
   {
    "duration": 70,
    "start_time": "2022-01-07T22:58:16.395Z"
   },
   {
    "duration": 33,
    "start_time": "2022-01-07T22:58:16.467Z"
   },
   {
    "duration": 33,
    "start_time": "2022-01-07T22:58:16.503Z"
   },
   {
    "duration": 36,
    "start_time": "2022-01-07T22:58:16.563Z"
   },
   {
    "duration": 3,
    "start_time": "2022-01-07T22:58:16.601Z"
   },
   {
    "duration": 6,
    "start_time": "2022-01-07T22:58:16.606Z"
   },
   {
    "duration": 14,
    "start_time": "2022-01-07T22:58:16.614Z"
   },
   {
    "duration": 9,
    "start_time": "2022-01-07T23:04:47.102Z"
   },
   {
    "duration": 8837,
    "start_time": "2022-01-07T23:04:52.788Z"
   },
   {
    "duration": 10,
    "start_time": "2022-01-07T23:05:36.999Z"
   },
   {
    "duration": 16,
    "start_time": "2022-01-07T23:06:05.571Z"
   },
   {
    "duration": 26,
    "start_time": "2022-01-07T23:06:28.452Z"
   },
   {
    "duration": 7273,
    "start_time": "2022-01-07T23:07:19.820Z"
   },
   {
    "duration": 9639,
    "start_time": "2022-01-07T23:07:34.048Z"
   },
   {
    "duration": 287,
    "start_time": "2022-01-07T23:07:58.951Z"
   },
   {
    "duration": 350,
    "start_time": "2022-01-07T23:08:25.901Z"
   },
   {
    "duration": 552,
    "start_time": "2022-01-07T23:08:45.666Z"
   },
   {
    "duration": 9859,
    "start_time": "2022-01-07T23:09:50.282Z"
   },
   {
    "duration": 5,
    "start_time": "2022-01-07T23:10:13.925Z"
   },
   {
    "duration": 8342,
    "start_time": "2022-01-07T23:10:23.704Z"
   },
   {
    "duration": 4,
    "start_time": "2022-01-07T23:10:43.269Z"
   },
   {
    "duration": 6087,
    "start_time": "2022-01-07T23:11:20.943Z"
   },
   {
    "duration": 5,
    "start_time": "2022-01-07T23:11:42.014Z"
   },
   {
    "duration": 9,
    "start_time": "2022-01-07T23:13:13.351Z"
   },
   {
    "duration": 6,
    "start_time": "2022-01-07T23:13:19.136Z"
   },
   {
    "duration": 40,
    "start_time": "2022-01-07T23:13:22.088Z"
   },
   {
    "duration": 41,
    "start_time": "2022-01-07T23:15:34.848Z"
   },
   {
    "duration": 911,
    "start_time": "2022-01-08T01:07:06.725Z"
   },
   {
    "duration": 327,
    "start_time": "2022-01-08T01:07:07.637Z"
   },
   {
    "duration": 6,
    "start_time": "2022-01-08T01:07:07.966Z"
   },
   {
    "duration": 18,
    "start_time": "2022-01-08T01:07:07.974Z"
   },
   {
    "duration": 7,
    "start_time": "2022-01-08T01:07:07.994Z"
   },
   {
    "duration": 13,
    "start_time": "2022-01-08T01:07:08.002Z"
   },
   {
    "duration": 10,
    "start_time": "2022-01-08T01:07:08.017Z"
   },
   {
    "duration": 15,
    "start_time": "2022-01-08T01:07:08.030Z"
   },
   {
    "duration": 6,
    "start_time": "2022-01-08T01:07:08.047Z"
   },
   {
    "duration": 38,
    "start_time": "2022-01-08T01:07:08.055Z"
   },
   {
    "duration": 7,
    "start_time": "2022-01-08T01:07:08.094Z"
   },
   {
    "duration": 6,
    "start_time": "2022-01-08T01:07:08.103Z"
   },
   {
    "duration": 8,
    "start_time": "2022-01-08T01:07:08.111Z"
   },
   {
    "duration": 24,
    "start_time": "2022-01-08T01:07:08.121Z"
   },
   {
    "duration": 10,
    "start_time": "2022-01-08T01:07:08.147Z"
   },
   {
    "duration": 32,
    "start_time": "2022-01-08T01:07:08.159Z"
   },
   {
    "duration": 21,
    "start_time": "2022-01-08T01:07:08.193Z"
   },
   {
    "duration": 21,
    "start_time": "2022-01-08T01:07:08.216Z"
   },
   {
    "duration": 16,
    "start_time": "2022-01-08T01:07:08.238Z"
   },
   {
    "duration": 37,
    "start_time": "2022-01-08T01:07:08.255Z"
   },
   {
    "duration": 11,
    "start_time": "2022-01-08T01:07:08.294Z"
   },
   {
    "duration": 7,
    "start_time": "2022-01-08T01:07:08.306Z"
   },
   {
    "duration": 13,
    "start_time": "2022-01-08T01:07:08.316Z"
   },
   {
    "duration": 14,
    "start_time": "2022-01-08T01:07:08.330Z"
   },
   {
    "duration": 45,
    "start_time": "2022-01-08T01:07:08.346Z"
   },
   {
    "duration": 9,
    "start_time": "2022-01-08T01:07:08.393Z"
   },
   {
    "duration": 15,
    "start_time": "2022-01-08T01:07:08.404Z"
   },
   {
    "duration": 7,
    "start_time": "2022-01-08T01:07:08.421Z"
   },
   {
    "duration": 20,
    "start_time": "2022-01-08T01:07:08.430Z"
   },
   {
    "duration": 16,
    "start_time": "2022-01-08T01:07:08.451Z"
   },
   {
    "duration": 13,
    "start_time": "2022-01-08T01:07:08.492Z"
   },
   {
    "duration": 10,
    "start_time": "2022-01-08T01:07:08.506Z"
   },
   {
    "duration": 9,
    "start_time": "2022-01-08T01:07:08.517Z"
   },
   {
    "duration": 27,
    "start_time": "2022-01-08T01:07:08.528Z"
   },
   {
    "duration": 48,
    "start_time": "2022-01-08T01:07:08.556Z"
   },
   {
    "duration": 20,
    "start_time": "2022-01-08T01:07:08.605Z"
   },
   {
    "duration": 22,
    "start_time": "2022-01-08T01:07:08.626Z"
   },
   {
    "duration": 2,
    "start_time": "2022-01-08T01:07:08.650Z"
   },
   {
    "duration": 6,
    "start_time": "2022-01-08T01:07:08.653Z"
   },
   {
    "duration": 35,
    "start_time": "2022-01-08T01:07:08.660Z"
   },
   {
    "duration": 6,
    "start_time": "2022-01-08T01:17:52.947Z"
   },
   {
    "duration": 414,
    "start_time": "2022-01-08T01:18:15.583Z"
   },
   {
    "duration": 6,
    "start_time": "2022-01-08T01:18:46.792Z"
   },
   {
    "duration": 24,
    "start_time": "2022-01-08T01:18:55.772Z"
   },
   {
    "duration": 27,
    "start_time": "2022-01-08T01:19:30.955Z"
   },
   {
    "duration": 7,
    "start_time": "2022-01-08T01:26:12.293Z"
   },
   {
    "duration": 26,
    "start_time": "2022-01-08T01:26:35.570Z"
   },
   {
    "duration": 25,
    "start_time": "2022-01-08T01:26:52.839Z"
   },
   {
    "duration": 25,
    "start_time": "2022-01-08T01:27:31.895Z"
   },
   {
    "duration": 25,
    "start_time": "2022-01-08T01:27:36.497Z"
   },
   {
    "duration": 7,
    "start_time": "2022-01-08T01:31:59.021Z"
   },
   {
    "duration": 25,
    "start_time": "2022-01-08T01:32:05.112Z"
   },
   {
    "duration": 59,
    "start_time": "2022-01-08T01:43:17.716Z"
   },
   {
    "duration": 9,
    "start_time": "2022-01-08T01:43:39.246Z"
   },
   {
    "duration": 26,
    "start_time": "2022-01-08T01:43:45.021Z"
   },
   {
    "duration": 26,
    "start_time": "2022-01-08T01:44:34.916Z"
   },
   {
    "duration": 25,
    "start_time": "2022-01-08T01:44:43.572Z"
   },
   {
    "duration": 10,
    "start_time": "2022-01-08T01:45:53.857Z"
   },
   {
    "duration": 25,
    "start_time": "2022-01-08T01:46:19.136Z"
   },
   {
    "duration": 24,
    "start_time": "2022-01-08T01:46:53.769Z"
   },
   {
    "duration": 27,
    "start_time": "2022-01-08T01:47:08.992Z"
   },
   {
    "duration": 24,
    "start_time": "2022-01-08T01:47:23.478Z"
   },
   {
    "duration": 9,
    "start_time": "2022-01-08T01:48:54.094Z"
   },
   {
    "duration": 4697,
    "start_time": "2022-01-08T01:51:29.063Z"
   },
   {
    "duration": 384,
    "start_time": "2022-01-08T01:51:55.900Z"
   },
   {
    "duration": 9,
    "start_time": "2022-01-08T01:52:30.183Z"
   },
   {
    "duration": 384,
    "start_time": "2022-01-08T01:52:32.245Z"
   },
   {
    "duration": 8,
    "start_time": "2022-01-08T01:53:28.849Z"
   },
   {
    "duration": 6045,
    "start_time": "2022-01-08T01:53:30.854Z"
   },
   {
    "duration": 14,
    "start_time": "2022-01-08T01:54:13.776Z"
   },
   {
    "duration": 12,
    "start_time": "2022-01-08T01:54:44.737Z"
   },
   {
    "duration": 117,
    "start_time": "2022-01-08T02:00:43.343Z"
   },
   {
    "duration": 3,
    "start_time": "2022-01-08T02:03:07.664Z"
   },
   {
    "duration": 1661,
    "start_time": "2022-01-08T02:06:39.899Z"
   },
   {
    "duration": 6,
    "start_time": "2022-01-08T02:07:02.902Z"
   },
   {
    "duration": 13,
    "start_time": "2022-01-08T02:07:13.813Z"
   },
   {
    "duration": 7,
    "start_time": "2022-01-08T02:07:55.876Z"
   },
   {
    "duration": 12,
    "start_time": "2022-01-08T02:08:11.851Z"
   },
   {
    "duration": 12,
    "start_time": "2022-01-08T02:08:43.961Z"
   },
   {
    "duration": 22,
    "start_time": "2022-01-08T02:08:53.414Z"
   },
   {
    "duration": 3,
    "start_time": "2022-01-08T02:09:38.804Z"
   },
   {
    "duration": 324,
    "start_time": "2022-01-08T02:09:38.811Z"
   },
   {
    "duration": 6,
    "start_time": "2022-01-08T02:09:39.137Z"
   },
   {
    "duration": 10,
    "start_time": "2022-01-08T02:09:39.145Z"
   },
   {
    "duration": 10,
    "start_time": "2022-01-08T02:09:39.157Z"
   },
   {
    "duration": 23,
    "start_time": "2022-01-08T02:09:39.169Z"
   },
   {
    "duration": 19,
    "start_time": "2022-01-08T02:09:39.194Z"
   },
   {
    "duration": 32,
    "start_time": "2022-01-08T02:09:39.214Z"
   },
   {
    "duration": 4,
    "start_time": "2022-01-08T02:09:39.249Z"
   },
   {
    "duration": 17,
    "start_time": "2022-01-08T02:09:39.255Z"
   },
   {
    "duration": 7,
    "start_time": "2022-01-08T02:09:39.273Z"
   },
   {
    "duration": 5,
    "start_time": "2022-01-08T02:09:39.282Z"
   },
   {
    "duration": 8,
    "start_time": "2022-01-08T02:09:39.289Z"
   },
   {
    "duration": 22,
    "start_time": "2022-01-08T02:09:39.299Z"
   },
   {
    "duration": 8,
    "start_time": "2022-01-08T02:09:39.323Z"
   },
   {
    "duration": 7,
    "start_time": "2022-01-08T02:09:39.333Z"
   },
   {
    "duration": 21,
    "start_time": "2022-01-08T02:09:39.341Z"
   },
   {
    "duration": 35,
    "start_time": "2022-01-08T02:09:39.363Z"
   },
   {
    "duration": 17,
    "start_time": "2022-01-08T02:09:39.400Z"
   },
   {
    "duration": 10,
    "start_time": "2022-01-08T02:09:39.419Z"
   },
   {
    "duration": 14,
    "start_time": "2022-01-08T02:09:39.431Z"
   },
   {
    "duration": 7,
    "start_time": "2022-01-08T02:09:39.446Z"
   },
   {
    "duration": 42,
    "start_time": "2022-01-08T02:09:39.455Z"
   },
   {
    "duration": 15,
    "start_time": "2022-01-08T02:09:39.500Z"
   },
   {
    "duration": 10,
    "start_time": "2022-01-08T02:09:39.518Z"
   },
   {
    "duration": 8,
    "start_time": "2022-01-08T02:09:39.530Z"
   },
   {
    "duration": 15,
    "start_time": "2022-01-08T02:09:39.540Z"
   },
   {
    "duration": 40,
    "start_time": "2022-01-08T02:09:39.556Z"
   },
   {
    "duration": 16,
    "start_time": "2022-01-08T02:09:39.598Z"
   },
   {
    "duration": 17,
    "start_time": "2022-01-08T02:09:39.616Z"
   },
   {
    "duration": 20,
    "start_time": "2022-01-08T02:09:39.634Z"
   },
   {
    "duration": 9,
    "start_time": "2022-01-08T02:09:39.656Z"
   },
   {
    "duration": 32,
    "start_time": "2022-01-08T02:09:39.667Z"
   },
   {
    "duration": 28,
    "start_time": "2022-01-08T02:09:39.700Z"
   },
   {
    "duration": 20,
    "start_time": "2022-01-08T02:09:39.730Z"
   },
   {
    "duration": 48,
    "start_time": "2022-01-08T02:09:39.751Z"
   },
   {
    "duration": 22,
    "start_time": "2022-01-08T02:09:39.800Z"
   },
   {
    "duration": 2,
    "start_time": "2022-01-08T02:09:39.824Z"
   },
   {
    "duration": 6,
    "start_time": "2022-01-08T02:09:39.827Z"
   },
   {
    "duration": 23,
    "start_time": "2022-01-08T02:09:47.956Z"
   },
   {
    "duration": 1456,
    "start_time": "2022-01-10T05:49:22.811Z"
   },
   {
    "duration": 707,
    "start_time": "2022-01-10T05:49:24.269Z"
   },
   {
    "duration": 9,
    "start_time": "2022-01-10T05:49:24.978Z"
   },
   {
    "duration": 18,
    "start_time": "2022-01-10T05:49:24.989Z"
   },
   {
    "duration": 9,
    "start_time": "2022-01-10T05:49:25.009Z"
   },
   {
    "duration": 15,
    "start_time": "2022-01-10T05:49:25.020Z"
   },
   {
    "duration": 10,
    "start_time": "2022-01-10T05:49:25.037Z"
   },
   {
    "duration": 21,
    "start_time": "2022-01-10T05:49:25.050Z"
   },
   {
    "duration": 12,
    "start_time": "2022-01-10T05:49:25.073Z"
   },
   {
    "duration": 50,
    "start_time": "2022-01-10T05:49:25.087Z"
   },
   {
    "duration": 10,
    "start_time": "2022-01-10T05:49:25.139Z"
   },
   {
    "duration": 7,
    "start_time": "2022-01-10T05:49:25.152Z"
   },
   {
    "duration": 8,
    "start_time": "2022-01-10T05:49:30.545Z"
   },
   {
    "duration": 25,
    "start_time": "2022-01-10T05:49:59.157Z"
   },
   {
    "duration": 23,
    "start_time": "2022-01-10T05:50:51.941Z"
   },
   {
    "duration": 406,
    "start_time": "2022-01-10T05:51:25.926Z"
   },
   {
    "duration": 172,
    "start_time": "2022-01-10T05:52:17.297Z"
   },
   {
    "duration": 136,
    "start_time": "2022-01-10T05:52:33.300Z"
   },
   {
    "duration": 175,
    "start_time": "2022-01-10T05:52:47.434Z"
   },
   {
    "duration": 20,
    "start_time": "2022-01-10T05:53:01.448Z"
   },
   {
    "duration": 1450,
    "start_time": "2022-01-10T05:54:46.619Z"
   },
   {
    "duration": 354,
    "start_time": "2022-01-10T05:54:48.072Z"
   },
   {
    "duration": 10,
    "start_time": "2022-01-10T05:54:48.429Z"
   },
   {
    "duration": 19,
    "start_time": "2022-01-10T05:54:48.442Z"
   },
   {
    "duration": 8,
    "start_time": "2022-01-10T05:54:48.463Z"
   },
   {
    "duration": 18,
    "start_time": "2022-01-10T05:54:48.473Z"
   },
   {
    "duration": 9,
    "start_time": "2022-01-10T05:54:48.523Z"
   },
   {
    "duration": 21,
    "start_time": "2022-01-10T05:54:48.536Z"
   },
   {
    "duration": 8,
    "start_time": "2022-01-10T05:54:48.559Z"
   },
   {
    "duration": 53,
    "start_time": "2022-01-10T05:54:48.570Z"
   },
   {
    "duration": 8,
    "start_time": "2022-01-10T05:54:48.625Z"
   },
   {
    "duration": 6,
    "start_time": "2022-01-10T05:54:48.635Z"
   },
   {
    "duration": 7,
    "start_time": "2022-01-10T05:54:48.643Z"
   },
   {
    "duration": 22,
    "start_time": "2022-01-10T05:54:48.653Z"
   },
   {
    "duration": 48,
    "start_time": "2022-01-10T05:54:48.677Z"
   },
   {
    "duration": 6,
    "start_time": "2022-01-10T05:54:48.728Z"
   },
   {
    "duration": 28,
    "start_time": "2022-01-10T05:54:48.737Z"
   },
   {
    "duration": 60,
    "start_time": "2022-01-10T05:54:48.768Z"
   },
   {
    "duration": 21,
    "start_time": "2022-01-10T05:54:48.831Z"
   },
   {
    "duration": 12,
    "start_time": "2022-01-10T05:54:48.855Z"
   },
   {
    "duration": 15,
    "start_time": "2022-01-10T05:54:48.869Z"
   },
   {
    "duration": 41,
    "start_time": "2022-01-10T05:54:48.887Z"
   },
   {
    "duration": 18,
    "start_time": "2022-01-10T05:54:48.933Z"
   },
   {
    "duration": 19,
    "start_time": "2022-01-10T05:54:48.953Z"
   },
   {
    "duration": 51,
    "start_time": "2022-01-10T05:54:48.974Z"
   },
   {
    "duration": 11,
    "start_time": "2022-01-10T05:54:49.028Z"
   },
   {
    "duration": 19,
    "start_time": "2022-01-10T05:54:49.041Z"
   },
   {
    "duration": 11,
    "start_time": "2022-01-10T05:54:49.062Z"
   },
   {
    "duration": 54,
    "start_time": "2022-01-10T05:54:49.075Z"
   },
   {
    "duration": 24,
    "start_time": "2022-01-10T05:54:49.131Z"
   },
   {
    "duration": 17,
    "start_time": "2022-01-10T05:54:49.158Z"
   },
   {
    "duration": 46,
    "start_time": "2022-01-10T05:54:49.178Z"
   },
   {
    "duration": 12,
    "start_time": "2022-01-10T05:54:49.226Z"
   },
   {
    "duration": 23,
    "start_time": "2022-01-10T05:55:08.245Z"
   },
   {
    "duration": 26,
    "start_time": "2022-01-10T05:55:43.425Z"
   },
   {
    "duration": 34,
    "start_time": "2022-01-10T05:55:59.719Z"
   },
   {
    "duration": 20,
    "start_time": "2022-01-10T05:56:08.655Z"
   },
   {
    "duration": 10,
    "start_time": "2022-01-10T05:56:15.676Z"
   },
   {
    "duration": 1342,
    "start_time": "2022-01-10T05:57:39.604Z"
   },
   {
    "duration": 371,
    "start_time": "2022-01-10T05:57:40.948Z"
   },
   {
    "duration": 10,
    "start_time": "2022-01-10T05:57:41.321Z"
   },
   {
    "duration": 19,
    "start_time": "2022-01-10T05:57:41.334Z"
   },
   {
    "duration": 9,
    "start_time": "2022-01-10T05:57:41.356Z"
   },
   {
    "duration": 60,
    "start_time": "2022-01-10T05:57:41.368Z"
   },
   {
    "duration": 12,
    "start_time": "2022-01-10T05:57:41.431Z"
   },
   {
    "duration": 21,
    "start_time": "2022-01-10T05:57:41.449Z"
   },
   {
    "duration": 54,
    "start_time": "2022-01-10T05:57:41.474Z"
   },
   {
    "duration": 20,
    "start_time": "2022-01-10T05:57:41.530Z"
   },
   {
    "duration": 11,
    "start_time": "2022-01-10T05:57:41.552Z"
   },
   {
    "duration": 6,
    "start_time": "2022-01-10T05:57:41.565Z"
   },
   {
    "duration": 9,
    "start_time": "2022-01-10T05:57:41.573Z"
   },
   {
    "duration": 23,
    "start_time": "2022-01-10T05:57:41.624Z"
   },
   {
    "duration": 12,
    "start_time": "2022-01-10T05:57:41.649Z"
   },
   {
    "duration": 5,
    "start_time": "2022-01-10T05:57:41.663Z"
   },
   {
    "duration": 61,
    "start_time": "2022-01-10T05:57:41.670Z"
   },
   {
    "duration": 27,
    "start_time": "2022-01-10T05:57:41.733Z"
   },
   {
    "duration": 22,
    "start_time": "2022-01-10T05:57:41.763Z"
   },
   {
    "duration": 38,
    "start_time": "2022-01-10T05:57:41.787Z"
   },
   {
    "duration": 15,
    "start_time": "2022-01-10T05:57:41.827Z"
   },
   {
    "duration": 10,
    "start_time": "2022-01-10T05:57:41.844Z"
   },
   {
    "duration": 18,
    "start_time": "2022-01-10T05:57:41.859Z"
   },
   {
    "duration": 58,
    "start_time": "2022-01-10T05:57:41.880Z"
   },
   {
    "duration": 16,
    "start_time": "2022-01-10T05:57:41.940Z"
   },
   {
    "duration": 12,
    "start_time": "2022-01-10T05:57:41.958Z"
   },
   {
    "duration": 54,
    "start_time": "2022-01-10T05:57:41.973Z"
   },
   {
    "duration": 12,
    "start_time": "2022-01-10T05:57:42.030Z"
   },
   {
    "duration": 29,
    "start_time": "2022-01-10T05:57:42.044Z"
   },
   {
    "duration": 49,
    "start_time": "2022-01-10T05:57:42.076Z"
   },
   {
    "duration": 18,
    "start_time": "2022-01-10T05:57:42.128Z"
   },
   {
    "duration": 13,
    "start_time": "2022-01-10T05:57:42.149Z"
   },
   {
    "duration": 13,
    "start_time": "2022-01-10T05:57:42.164Z"
   },
   {
    "duration": 22,
    "start_time": "2022-01-10T05:57:45.940Z"
   },
   {
    "duration": 528,
    "start_time": "2022-01-10T05:57:48.357Z"
   },
   {
    "duration": 1323,
    "start_time": "2022-01-10T05:58:22.563Z"
   },
   {
    "duration": 356,
    "start_time": "2022-01-10T05:58:23.889Z"
   },
   {
    "duration": 9,
    "start_time": "2022-01-10T05:58:24.248Z"
   },
   {
    "duration": 17,
    "start_time": "2022-01-10T05:58:24.260Z"
   },
   {
    "duration": 8,
    "start_time": "2022-01-10T05:58:24.279Z"
   },
   {
    "duration": 16,
    "start_time": "2022-01-10T05:58:24.289Z"
   },
   {
    "duration": 10,
    "start_time": "2022-01-10T05:58:24.324Z"
   },
   {
    "duration": 22,
    "start_time": "2022-01-10T05:58:24.337Z"
   },
   {
    "duration": 9,
    "start_time": "2022-01-10T05:58:24.363Z"
   },
   {
    "duration": 56,
    "start_time": "2022-01-10T05:58:24.375Z"
   },
   {
    "duration": 12,
    "start_time": "2022-01-10T05:58:24.434Z"
   },
   {
    "duration": 6,
    "start_time": "2022-01-10T05:58:24.449Z"
   },
   {
    "duration": 8,
    "start_time": "2022-01-10T05:58:24.457Z"
   },
   {
    "duration": 67,
    "start_time": "2022-01-10T05:58:24.468Z"
   },
   {
    "duration": 12,
    "start_time": "2022-01-10T05:58:24.537Z"
   },
   {
    "duration": 10,
    "start_time": "2022-01-10T05:58:24.551Z"
   },
   {
    "duration": 29,
    "start_time": "2022-01-10T05:58:24.564Z"
   },
   {
    "duration": 51,
    "start_time": "2022-01-10T05:58:24.596Z"
   },
   {
    "duration": 21,
    "start_time": "2022-01-10T05:58:24.650Z"
   },
   {
    "duration": 12,
    "start_time": "2022-01-10T05:58:24.673Z"
   },
   {
    "duration": 44,
    "start_time": "2022-01-10T05:58:24.688Z"
   },
   {
    "duration": 10,
    "start_time": "2022-01-10T05:58:24.734Z"
   },
   {
    "duration": 18,
    "start_time": "2022-01-10T05:58:24.749Z"
   },
   {
    "duration": 18,
    "start_time": "2022-01-10T05:58:24.770Z"
   },
   {
    "duration": 43,
    "start_time": "2022-01-10T05:58:24.790Z"
   },
   {
    "duration": 11,
    "start_time": "2022-01-10T05:58:24.835Z"
   },
   {
    "duration": 18,
    "start_time": "2022-01-10T05:58:24.848Z"
   },
   {
    "duration": 55,
    "start_time": "2022-01-10T05:58:24.868Z"
   },
   {
    "duration": 24,
    "start_time": "2022-01-10T05:58:24.925Z"
   },
   {
    "duration": 23,
    "start_time": "2022-01-10T05:58:24.951Z"
   },
   {
    "duration": 17,
    "start_time": "2022-01-10T05:58:24.976Z"
   },
   {
    "duration": 39,
    "start_time": "2022-01-10T05:58:24.995Z"
   },
   {
    "duration": 13,
    "start_time": "2022-01-10T05:58:25.036Z"
   },
   {
    "duration": 22,
    "start_time": "2022-01-10T05:58:28.923Z"
   },
   {
    "duration": 11,
    "start_time": "2022-01-10T05:58:31.084Z"
   },
   {
    "duration": 1243,
    "start_time": "2022-01-10T06:02:24.020Z"
   },
   {
    "duration": 344,
    "start_time": "2022-01-10T06:02:25.266Z"
   },
   {
    "duration": 10,
    "start_time": "2022-01-10T06:02:25.614Z"
   },
   {
    "duration": 19,
    "start_time": "2022-01-10T06:02:25.628Z"
   },
   {
    "duration": 13,
    "start_time": "2022-01-10T06:02:25.651Z"
   },
   {
    "duration": 16,
    "start_time": "2022-01-10T06:02:25.666Z"
   },
   {
    "duration": 42,
    "start_time": "2022-01-10T06:02:25.685Z"
   },
   {
    "duration": 21,
    "start_time": "2022-01-10T06:02:25.731Z"
   },
   {
    "duration": 8,
    "start_time": "2022-01-10T06:02:25.755Z"
   },
   {
    "duration": 18,
    "start_time": "2022-01-10T06:02:25.765Z"
   },
   {
    "duration": 10,
    "start_time": "2022-01-10T06:02:25.824Z"
   },
   {
    "duration": 10,
    "start_time": "2022-01-10T06:02:25.836Z"
   },
   {
    "duration": 18,
    "start_time": "2022-01-10T06:02:25.848Z"
   },
   {
    "duration": 24,
    "start_time": "2022-01-10T06:02:25.869Z"
   },
   {
    "duration": 35,
    "start_time": "2022-01-10T06:02:25.896Z"
   },
   {
    "duration": 5,
    "start_time": "2022-01-10T06:02:25.934Z"
   },
   {
    "duration": 31,
    "start_time": "2022-01-10T06:02:25.942Z"
   },
   {
    "duration": 51,
    "start_time": "2022-01-10T06:02:25.975Z"
   },
   {
    "duration": 23,
    "start_time": "2022-01-10T06:02:26.029Z"
   },
   {
    "duration": 14,
    "start_time": "2022-01-10T06:02:26.054Z"
   },
   {
    "duration": 21,
    "start_time": "2022-01-10T06:02:26.070Z"
   },
   {
    "duration": 37,
    "start_time": "2022-01-10T06:02:26.095Z"
   },
   {
    "duration": 19,
    "start_time": "2022-01-10T06:02:26.137Z"
   },
   {
    "duration": 20,
    "start_time": "2022-01-10T06:02:26.159Z"
   },
   {
    "duration": 47,
    "start_time": "2022-01-10T06:02:26.181Z"
   },
   {
    "duration": 12,
    "start_time": "2022-01-10T06:02:26.231Z"
   },
   {
    "duration": 22,
    "start_time": "2022-01-10T06:02:26.245Z"
   },
   {
    "duration": 10,
    "start_time": "2022-01-10T06:02:26.269Z"
   },
   {
    "duration": 57,
    "start_time": "2022-01-10T06:02:26.281Z"
   },
   {
    "duration": 22,
    "start_time": "2022-01-10T06:02:26.340Z"
   },
   {
    "duration": 18,
    "start_time": "2022-01-10T06:02:26.364Z"
   },
   {
    "duration": 42,
    "start_time": "2022-01-10T06:02:26.384Z"
   },
   {
    "duration": 14,
    "start_time": "2022-01-10T06:02:26.429Z"
   },
   {
    "duration": 35,
    "start_time": "2022-01-10T06:02:26.446Z"
   },
   {
    "duration": 57,
    "start_time": "2022-01-10T06:02:26.484Z"
   },
   {
    "duration": 30,
    "start_time": "2022-01-10T06:02:26.543Z"
   },
   {
    "duration": 61,
    "start_time": "2022-01-10T06:02:26.576Z"
   },
   {
    "duration": 3,
    "start_time": "2022-01-10T06:02:26.639Z"
   },
   {
    "duration": 5,
    "start_time": "2022-01-10T06:02:26.644Z"
   },
   {
    "duration": 14,
    "start_time": "2022-01-10T06:02:26.651Z"
   },
   {
    "duration": 11,
    "start_time": "2022-01-10T06:02:26.668Z"
   },
   {
    "duration": 12341,
    "start_time": "2022-01-10T06:02:26.682Z"
   },
   {
    "duration": 21,
    "start_time": "2022-01-10T06:02:39.025Z"
   },
   {
    "duration": 10,
    "start_time": "2022-01-10T06:02:47.963Z"
   },
   {
    "duration": 34,
    "start_time": "2022-01-10T06:02:51.301Z"
   },
   {
    "duration": 389,
    "start_time": "2022-01-10T06:04:22.971Z"
   },
   {
    "duration": 35,
    "start_time": "2022-01-10T06:04:27.201Z"
   },
   {
    "duration": 11,
    "start_time": "2022-01-10T06:12:17.259Z"
   },
   {
    "duration": 38,
    "start_time": "2022-01-10T06:12:22.685Z"
   },
   {
    "duration": 10,
    "start_time": "2022-01-10T06:17:19.307Z"
   },
   {
    "duration": 6,
    "start_time": "2022-01-10T06:18:37.714Z"
   },
   {
    "duration": 10,
    "start_time": "2022-01-10T06:18:53.280Z"
   },
   {
    "duration": 11,
    "start_time": "2022-01-10T06:19:08.739Z"
   },
   {
    "duration": 99,
    "start_time": "2022-01-10T06:20:16.061Z"
   },
   {
    "duration": 101,
    "start_time": "2022-01-10T06:20:23.197Z"
   },
   {
    "duration": 913,
    "start_time": "2022-01-10T06:21:00.149Z"
   },
   {
    "duration": 7,
    "start_time": "2022-01-10T06:21:21.145Z"
   },
   {
    "duration": 94,
    "start_time": "2022-01-10T06:21:42.643Z"
   },
   {
    "duration": 5,
    "start_time": "2022-01-10T06:22:14.339Z"
   },
   {
    "duration": 4,
    "start_time": "2022-01-10T06:22:32.800Z"
   },
   {
    "duration": 487,
    "start_time": "2022-01-10T06:23:14.455Z"
   },
   {
    "duration": 382,
    "start_time": "2022-01-10T06:23:23.080Z"
   },
   {
    "duration": 344,
    "start_time": "2022-01-10T06:24:12.016Z"
   },
   {
    "duration": 308,
    "start_time": "2022-01-10T06:25:41.645Z"
   },
   {
    "duration": 298,
    "start_time": "2022-01-10T06:25:45.774Z"
   },
   {
    "duration": 295,
    "start_time": "2022-01-10T06:25:53.399Z"
   },
   {
    "duration": 292,
    "start_time": "2022-01-10T06:26:17.462Z"
   },
   {
    "duration": 10,
    "start_time": "2022-01-10T06:27:19.498Z"
   },
   {
    "duration": 11,
    "start_time": "2022-01-10T06:27:27.622Z"
   },
   {
    "duration": 11,
    "start_time": "2022-01-10T06:27:46.820Z"
   },
   {
    "duration": 690,
    "start_time": "2022-01-10T06:28:36.246Z"
   },
   {
    "duration": 7,
    "start_time": "2022-01-10T06:28:39.447Z"
   },
   {
    "duration": 7,
    "start_time": "2022-01-10T06:28:53.557Z"
   },
   {
    "duration": 365,
    "start_time": "2022-01-10T06:30:12.158Z"
   },
   {
    "duration": 327,
    "start_time": "2022-01-10T06:30:31.560Z"
   },
   {
    "duration": 308,
    "start_time": "2022-01-10T06:31:36.321Z"
   },
   {
    "duration": 11,
    "start_time": "2022-01-10T06:33:55.671Z"
   },
   {
    "duration": 11,
    "start_time": "2022-01-10T06:34:12.213Z"
   },
   {
    "duration": 11,
    "start_time": "2022-01-10T06:34:22.442Z"
   },
   {
    "duration": 312,
    "start_time": "2022-01-10T06:34:50.032Z"
   },
   {
    "duration": 7,
    "start_time": "2022-01-10T06:35:27.933Z"
   },
   {
    "duration": 6,
    "start_time": "2022-01-10T06:35:44.061Z"
   },
   {
    "duration": 316,
    "start_time": "2022-01-10T06:37:01.428Z"
   },
   {
    "duration": 317,
    "start_time": "2022-01-10T06:37:44.226Z"
   },
   {
    "duration": 16,
    "start_time": "2022-01-10T06:39:13.198Z"
   },
   {
    "duration": 10,
    "start_time": "2022-01-10T06:39:45.292Z"
   },
   {
    "duration": 6,
    "start_time": "2022-01-10T06:40:31.421Z"
   },
   {
    "duration": 289,
    "start_time": "2022-01-10T06:40:50.384Z"
   },
   {
    "duration": 6,
    "start_time": "2022-01-10T06:41:00.357Z"
   },
   {
    "duration": 313,
    "start_time": "2022-01-10T06:41:42.523Z"
   },
   {
    "duration": 294,
    "start_time": "2022-01-10T06:42:25.163Z"
   },
   {
    "duration": 305,
    "start_time": "2022-01-10T06:42:28.353Z"
   },
   {
    "duration": 16,
    "start_time": "2022-01-10T06:43:33.630Z"
   },
   {
    "duration": 11,
    "start_time": "2022-01-10T06:43:50.380Z"
   },
   {
    "duration": 5,
    "start_time": "2022-01-10T06:52:11.698Z"
   },
   {
    "duration": 6,
    "start_time": "2022-01-10T06:52:28.940Z"
   },
   {
    "duration": 317,
    "start_time": "2022-01-10T06:53:32.672Z"
   },
   {
    "duration": 291,
    "start_time": "2022-01-10T06:54:19.600Z"
   },
   {
    "duration": 6,
    "start_time": "2022-01-10T06:59:37.716Z"
   },
   {
    "duration": 6,
    "start_time": "2022-01-10T07:07:43.802Z"
   },
   {
    "duration": 6,
    "start_time": "2022-01-10T07:07:59.753Z"
   },
   {
    "duration": 6,
    "start_time": "2022-01-10T07:08:09.363Z"
   },
   {
    "duration": 7,
    "start_time": "2022-01-10T07:11:54.406Z"
   },
   {
    "duration": 7,
    "start_time": "2022-01-10T07:12:17.572Z"
   },
   {
    "duration": 7,
    "start_time": "2022-01-10T07:12:39.619Z"
   },
   {
    "duration": 6,
    "start_time": "2022-01-10T07:12:52.928Z"
   },
   {
    "duration": 7,
    "start_time": "2022-01-10T07:13:03.185Z"
   },
   {
    "duration": 6,
    "start_time": "2022-01-10T07:13:22.514Z"
   },
   {
    "duration": 6,
    "start_time": "2022-01-10T07:13:30.245Z"
   },
   {
    "duration": 5,
    "start_time": "2022-01-10T07:13:51.687Z"
   },
   {
    "duration": 8,
    "start_time": "2022-01-10T07:14:08.241Z"
   },
   {
    "duration": 7,
    "start_time": "2022-01-10T07:14:46.364Z"
   },
   {
    "duration": 7,
    "start_time": "2022-01-10T07:14:50.993Z"
   },
   {
    "duration": 6,
    "start_time": "2022-01-10T07:15:24.751Z"
   },
   {
    "duration": 6,
    "start_time": "2022-01-10T07:15:34.911Z"
   },
   {
    "duration": 6,
    "start_time": "2022-01-10T07:16:32.242Z"
   },
   {
    "duration": 1646,
    "start_time": "2022-01-10T07:29:45.428Z"
   },
   {
    "duration": 360,
    "start_time": "2022-01-10T07:29:47.077Z"
   },
   {
    "duration": 9,
    "start_time": "2022-01-10T07:29:47.440Z"
   },
   {
    "duration": 19,
    "start_time": "2022-01-10T07:29:47.451Z"
   },
   {
    "duration": 9,
    "start_time": "2022-01-10T07:29:47.472Z"
   },
   {
    "duration": 16,
    "start_time": "2022-01-10T07:29:47.483Z"
   },
   {
    "duration": 9,
    "start_time": "2022-01-10T07:29:47.524Z"
   },
   {
    "duration": 23,
    "start_time": "2022-01-10T07:29:47.537Z"
   },
   {
    "duration": 11,
    "start_time": "2022-01-10T07:29:47.563Z"
   },
   {
    "duration": 50,
    "start_time": "2022-01-10T07:29:47.577Z"
   },
   {
    "duration": 9,
    "start_time": "2022-01-10T07:29:47.630Z"
   },
   {
    "duration": 8,
    "start_time": "2022-01-10T07:29:47.641Z"
   },
   {
    "duration": 12,
    "start_time": "2022-01-10T07:29:47.651Z"
   },
   {
    "duration": 58,
    "start_time": "2022-01-10T07:29:47.666Z"
   },
   {
    "duration": 12,
    "start_time": "2022-01-10T07:29:47.728Z"
   },
   {
    "duration": 7,
    "start_time": "2022-01-10T07:29:47.744Z"
   },
   {
    "duration": 29,
    "start_time": "2022-01-10T07:29:47.754Z"
   },
   {
    "duration": 65,
    "start_time": "2022-01-10T07:29:47.785Z"
   },
   {
    "duration": 23,
    "start_time": "2022-01-10T07:29:47.853Z"
   },
   {
    "duration": 47,
    "start_time": "2022-01-10T07:29:47.879Z"
   },
   {
    "duration": 16,
    "start_time": "2022-01-10T07:29:47.929Z"
   },
   {
    "duration": 11,
    "start_time": "2022-01-10T07:29:47.948Z"
   },
   {
    "duration": 58,
    "start_time": "2022-01-10T07:29:47.965Z"
   },
   {
    "duration": 21,
    "start_time": "2022-01-10T07:29:48.027Z"
   },
   {
    "duration": 14,
    "start_time": "2022-01-10T07:29:48.050Z"
   },
   {
    "duration": 12,
    "start_time": "2022-01-10T07:29:48.066Z"
   },
   {
    "duration": 55,
    "start_time": "2022-01-10T07:29:48.080Z"
   },
   {
    "duration": 12,
    "start_time": "2022-01-10T07:29:48.137Z"
   },
   {
    "duration": 30,
    "start_time": "2022-01-10T07:29:48.152Z"
   },
   {
    "duration": 59,
    "start_time": "2022-01-10T07:29:48.185Z"
   },
   {
    "duration": 20,
    "start_time": "2022-01-10T07:29:48.247Z"
   },
   {
    "duration": 15,
    "start_time": "2022-01-10T07:29:48.270Z"
   },
   {
    "duration": 40,
    "start_time": "2022-01-10T07:29:48.287Z"
   },
   {
    "duration": 45,
    "start_time": "2022-01-10T07:29:48.330Z"
   },
   {
    "duration": 69,
    "start_time": "2022-01-10T07:29:48.378Z"
   },
   {
    "duration": 44,
    "start_time": "2022-01-10T07:29:48.450Z"
   },
   {
    "duration": 58,
    "start_time": "2022-01-10T07:29:48.497Z"
   },
   {
    "duration": 3,
    "start_time": "2022-01-10T07:29:48.557Z"
   },
   {
    "duration": 7,
    "start_time": "2022-01-10T07:29:48.562Z"
   },
   {
    "duration": 13,
    "start_time": "2022-01-10T07:29:48.572Z"
   },
   {
    "duration": 41,
    "start_time": "2022-01-10T07:29:48.588Z"
   },
   {
    "duration": 12717,
    "start_time": "2022-01-10T07:29:48.632Z"
   },
   {
    "duration": 21,
    "start_time": "2022-01-10T07:30:01.352Z"
   },
   {
    "duration": 27,
    "start_time": "2022-01-10T07:30:01.375Z"
   },
   {
    "duration": 51,
    "start_time": "2022-01-10T07:30:01.405Z"
   },
   {
    "duration": 10,
    "start_time": "2022-01-10T07:30:01.459Z"
   },
   {
    "duration": 23,
    "start_time": "2022-01-10T07:30:01.471Z"
   },
   {
    "duration": 14,
    "start_time": "2022-01-10T07:30:01.496Z"
   },
   {
    "duration": 16,
    "start_time": "2022-01-10T07:30:01.513Z"
   },
   {
    "duration": 320,
    "start_time": "2022-01-10T07:30:01.531Z"
   },
   {
    "duration": 319,
    "start_time": "2022-01-10T07:30:01.854Z"
   },
   {
    "duration": 11,
    "start_time": "2022-01-10T07:30:02.175Z"
   },
   {
    "duration": 16,
    "start_time": "2022-01-10T07:30:02.188Z"
   },
   {
    "duration": 5,
    "start_time": "2022-01-10T07:30:02.223Z"
   },
   {
    "duration": 14,
    "start_time": "2022-01-10T07:30:02.231Z"
   },
   {
    "duration": 325,
    "start_time": "2022-01-10T07:30:02.248Z"
   },
   {
    "duration": 311,
    "start_time": "2022-01-10T07:30:02.575Z"
   },
   {
    "duration": 3,
    "start_time": "2022-01-10T07:30:02.889Z"
   },
   {
    "duration": 6,
    "start_time": "2022-01-10T07:30:02.894Z"
   },
   {
    "duration": 31,
    "start_time": "2022-01-10T07:30:02.902Z"
   },
   {
    "duration": 12,
    "start_time": "2022-01-10T07:30:02.935Z"
   },
   {
    "duration": 8,
    "start_time": "2022-01-10T07:30:02.949Z"
   },
   {
    "duration": 7,
    "start_time": "2022-01-10T07:30:02.959Z"
   },
   {
    "duration": 382,
    "start_time": "2022-01-10T07:30:02.969Z"
   },
   {
    "duration": 341,
    "start_time": "2022-01-10T07:30:03.355Z"
   },
   {
    "duration": 25,
    "start_time": "2022-01-10T07:30:03.699Z"
   },
   {
    "duration": 17,
    "start_time": "2022-01-10T07:30:03.727Z"
   },
   {
    "duration": 6,
    "start_time": "2022-01-10T07:30:03.752Z"
   },
   {
    "duration": 10,
    "start_time": "2022-01-10T07:30:03.761Z"
   },
   {
    "duration": 366,
    "start_time": "2022-01-10T07:30:03.773Z"
   },
   {
    "duration": 338,
    "start_time": "2022-01-10T07:30:04.142Z"
   },
   {
    "duration": 10,
    "start_time": "2022-01-10T07:30:04.483Z"
   },
   {
    "duration": 29,
    "start_time": "2022-01-10T07:30:04.495Z"
   },
   {
    "duration": 6,
    "start_time": "2022-01-10T07:30:04.526Z"
   },
   {
    "duration": 7,
    "start_time": "2022-01-10T07:30:04.535Z"
   },
   {
    "duration": 427,
    "start_time": "2022-01-10T07:30:04.545Z"
   },
   {
    "duration": 335,
    "start_time": "2022-01-10T07:30:04.975Z"
   },
   {
    "duration": 15,
    "start_time": "2022-01-10T07:30:05.314Z"
   },
   {
    "duration": 12,
    "start_time": "2022-01-10T07:30:05.332Z"
   },
   {
    "duration": 9,
    "start_time": "2022-01-10T07:30:05.347Z"
   },
   {
    "duration": 7,
    "start_time": "2022-01-10T07:30:05.358Z"
   },
   {
    "duration": 6,
    "start_time": "2022-01-10T07:30:05.368Z"
   },
   {
    "duration": 1413,
    "start_time": "2022-01-11T05:23:31.507Z"
   },
   {
    "duration": 936,
    "start_time": "2022-01-11T05:23:49.929Z"
   },
   {
    "duration": 10,
    "start_time": "2022-01-11T05:28:17.627Z"
   },
   {
    "duration": 9,
    "start_time": "2022-01-11T05:28:29.489Z"
   },
   {
    "duration": 16,
    "start_time": "2022-01-11T05:28:41.501Z"
   },
   {
    "duration": 9,
    "start_time": "2022-01-11T05:34:47.033Z"
   },
   {
    "duration": 16,
    "start_time": "2022-01-11T05:35:00.470Z"
   },
   {
    "duration": 10,
    "start_time": "2022-01-11T05:53:29.452Z"
   },
   {
    "duration": 22,
    "start_time": "2022-01-11T05:54:52.537Z"
   },
   {
    "duration": 11,
    "start_time": "2022-01-11T06:08:12.664Z"
   },
   {
    "duration": 18,
    "start_time": "2022-01-11T06:08:58.038Z"
   },
   {
    "duration": 7,
    "start_time": "2022-01-11T06:17:06.520Z"
   },
   {
    "duration": 7,
    "start_time": "2022-01-11T06:22:06.887Z"
   },
   {
    "duration": 84,
    "start_time": "2022-01-11T06:24:22.494Z"
   },
   {
    "duration": 12,
    "start_time": "2022-01-11T06:24:26.808Z"
   },
   {
    "duration": 27,
    "start_time": "2022-01-11T06:28:16.359Z"
   },
   {
    "duration": 12,
    "start_time": "2022-01-11T06:28:24.252Z"
   },
   {
    "duration": 7,
    "start_time": "2022-01-11T06:43:05.432Z"
   },
   {
    "duration": 32,
    "start_time": "2022-01-11T06:43:42.331Z"
   },
   {
    "duration": 29,
    "start_time": "2022-01-11T06:45:20.226Z"
   },
   {
    "duration": 25,
    "start_time": "2022-01-11T06:47:23.297Z"
   },
   {
    "duration": 16,
    "start_time": "2022-01-11T06:48:18.494Z"
   },
   {
    "duration": 15,
    "start_time": "2022-01-11T06:50:15.645Z"
   },
   {
    "duration": 11,
    "start_time": "2022-01-11T06:50:29.524Z"
   },
   {
    "duration": 19,
    "start_time": "2022-01-11T06:54:48.799Z"
   },
   {
    "duration": 21,
    "start_time": "2022-01-11T06:56:04.593Z"
   },
   {
    "duration": 16,
    "start_time": "2022-01-11T06:57:53.413Z"
   },
   {
    "duration": 13,
    "start_time": "2022-01-11T06:59:02.080Z"
   },
   {
    "duration": 18,
    "start_time": "2022-01-11T07:00:11.694Z"
   },
   {
    "duration": 13,
    "start_time": "2022-01-11T07:00:19.716Z"
   },
   {
    "duration": 25,
    "start_time": "2022-01-11T07:05:20.719Z"
   },
   {
    "duration": 27,
    "start_time": "2022-01-11T07:06:34.354Z"
   },
   {
    "duration": 20,
    "start_time": "2022-01-11T07:08:20.443Z"
   },
   {
    "duration": 15,
    "start_time": "2022-01-11T07:09:44.832Z"
   },
   {
    "duration": 43,
    "start_time": "2022-01-11T07:30:57.152Z"
   },
   {
    "duration": 1386,
    "start_time": "2022-01-12T06:03:01.239Z"
   },
   {
    "duration": 845,
    "start_time": "2022-01-12T06:03:02.628Z"
   },
   {
    "duration": 11,
    "start_time": "2022-01-12T06:03:03.477Z"
   },
   {
    "duration": 18,
    "start_time": "2022-01-12T06:03:03.491Z"
   },
   {
    "duration": 8,
    "start_time": "2022-01-12T06:03:03.511Z"
   },
   {
    "duration": 39,
    "start_time": "2022-01-12T06:03:03.522Z"
   },
   {
    "duration": 11,
    "start_time": "2022-01-12T06:03:03.563Z"
   },
   {
    "duration": 23,
    "start_time": "2022-01-12T06:03:03.576Z"
   },
   {
    "duration": 11,
    "start_time": "2022-01-12T06:03:03.603Z"
   },
   {
    "duration": 46,
    "start_time": "2022-01-12T06:03:03.616Z"
   },
   {
    "duration": 7,
    "start_time": "2022-01-12T06:03:03.664Z"
   },
   {
    "duration": 6,
    "start_time": "2022-01-12T06:03:03.673Z"
   },
   {
    "duration": 13,
    "start_time": "2022-01-12T06:03:03.681Z"
   },
   {
    "duration": 63,
    "start_time": "2022-01-12T06:03:03.696Z"
   },
   {
    "duration": 12,
    "start_time": "2022-01-12T06:03:03.762Z"
   },
   {
    "duration": 6,
    "start_time": "2022-01-12T06:03:03.777Z"
   },
   {
    "duration": 30,
    "start_time": "2022-01-12T06:03:03.785Z"
   },
   {
    "duration": 59,
    "start_time": "2022-01-12T06:03:03.817Z"
   },
   {
    "duration": 21,
    "start_time": "2022-01-12T06:03:03.879Z"
   },
   {
    "duration": 12,
    "start_time": "2022-01-12T06:03:03.902Z"
   },
   {
    "duration": 42,
    "start_time": "2022-01-12T06:03:03.917Z"
   },
   {
    "duration": 11,
    "start_time": "2022-01-12T06:03:03.961Z"
   },
   {
    "duration": 19,
    "start_time": "2022-01-12T06:03:03.975Z"
   },
   {
    "duration": 25,
    "start_time": "2022-01-12T06:03:03.996Z"
   },
   {
    "duration": 47,
    "start_time": "2022-01-12T06:03:04.023Z"
   },
   {
    "duration": 12,
    "start_time": "2022-01-12T06:03:04.072Z"
   },
   {
    "duration": 17,
    "start_time": "2022-01-12T06:03:04.089Z"
   },
   {
    "duration": 12,
    "start_time": "2022-01-12T06:03:04.109Z"
   },
   {
    "duration": 23,
    "start_time": "2022-01-12T06:03:04.159Z"
   },
   {
    "duration": 25,
    "start_time": "2022-01-12T06:03:04.185Z"
   },
   {
    "duration": 52,
    "start_time": "2022-01-12T06:03:04.212Z"
   },
   {
    "duration": 14,
    "start_time": "2022-01-12T06:03:04.266Z"
   },
   {
    "duration": 38,
    "start_time": "2022-01-12T06:03:10.728Z"
   },
   {
    "duration": 33,
    "start_time": "2022-01-12T06:08:29.862Z"
   },
   {
    "duration": 34,
    "start_time": "2022-01-12T06:13:16.585Z"
   },
   {
    "duration": 36,
    "start_time": "2022-01-12T06:20:59.152Z"
   },
   {
    "duration": 13,
    "start_time": "2022-01-12T07:05:55.899Z"
   },
   {
    "duration": 13077,
    "start_time": "2022-01-12T07:07:03.662Z"
   },
   {
    "duration": 22,
    "start_time": "2022-01-12T07:07:51.279Z"
   },
   {
    "duration": 20,
    "start_time": "2022-01-12T07:08:57.418Z"
   },
   {
    "duration": 11,
    "start_time": "2022-01-12T07:22:58.538Z"
   },
   {
    "duration": 36,
    "start_time": "2022-01-12T07:23:52.823Z"
   },
   {
    "duration": 11,
    "start_time": "2022-01-12T07:27:04.398Z"
   },
   {
    "duration": 11,
    "start_time": "2022-01-12T07:27:24.586Z"
   },
   {
    "duration": 5,
    "start_time": "2022-01-12T07:28:03.927Z"
   },
   {
    "duration": 5,
    "start_time": "2022-01-12T07:28:22.004Z"
   },
   {
    "duration": 478,
    "start_time": "2022-01-12T07:29:24.576Z"
   },
   {
    "duration": 335,
    "start_time": "2022-01-12T07:29:49.300Z"
   },
   {
    "duration": 13,
    "start_time": "2022-01-12T07:32:09.810Z"
   },
   {
    "duration": 11,
    "start_time": "2022-01-12T07:34:32.907Z"
   },
   {
    "duration": 11,
    "start_time": "2022-01-12T07:34:48.853Z"
   },
   {
    "duration": 6,
    "start_time": "2022-01-12T07:35:15.469Z"
   },
   {
    "duration": 6,
    "start_time": "2022-01-12T07:35:35.500Z"
   },
   {
    "duration": 321,
    "start_time": "2022-01-12T07:36:01.592Z"
   },
   {
    "duration": 290,
    "start_time": "2022-01-12T07:36:33.829Z"
   },
   {
    "duration": 299,
    "start_time": "2022-01-12T07:40:59.222Z"
   },
   {
    "duration": 329,
    "start_time": "2022-01-12T07:41:11.866Z"
   },
   {
    "duration": 1067,
    "start_time": "2022-01-13T05:42:42.716Z"
   },
   {
    "duration": 944,
    "start_time": "2022-01-13T05:42:43.784Z"
   },
   {
    "duration": 6,
    "start_time": "2022-01-13T05:42:44.730Z"
   },
   {
    "duration": 12,
    "start_time": "2022-01-13T05:42:44.738Z"
   },
   {
    "duration": 6,
    "start_time": "2022-01-13T05:42:44.751Z"
   },
   {
    "duration": 11,
    "start_time": "2022-01-13T05:42:44.758Z"
   },
   {
    "duration": 8,
    "start_time": "2022-01-13T05:42:44.770Z"
   },
   {
    "duration": 14,
    "start_time": "2022-01-13T05:42:44.780Z"
   },
   {
    "duration": 8,
    "start_time": "2022-01-13T05:42:44.796Z"
   },
   {
    "duration": 11,
    "start_time": "2022-01-13T05:42:44.805Z"
   },
   {
    "duration": 5,
    "start_time": "2022-01-13T05:42:44.841Z"
   },
   {
    "duration": 6,
    "start_time": "2022-01-13T05:42:44.847Z"
   },
   {
    "duration": 13,
    "start_time": "2022-01-13T05:42:44.854Z"
   },
   {
    "duration": 17,
    "start_time": "2022-01-13T05:42:44.869Z"
   },
   {
    "duration": 8,
    "start_time": "2022-01-13T05:42:44.887Z"
   },
   {
    "duration": 8,
    "start_time": "2022-01-13T05:42:44.896Z"
   },
   {
    "duration": 43,
    "start_time": "2022-01-13T05:42:44.905Z"
   },
   {
    "duration": 18,
    "start_time": "2022-01-13T05:42:44.950Z"
   },
   {
    "duration": 14,
    "start_time": "2022-01-13T05:42:44.969Z"
   },
   {
    "duration": 7,
    "start_time": "2022-01-13T05:42:44.985Z"
   },
   {
    "duration": 13,
    "start_time": "2022-01-13T05:42:44.994Z"
   },
   {
    "duration": 25,
    "start_time": "2022-01-13T05:42:45.008Z"
   },
   {
    "duration": 25,
    "start_time": "2022-01-13T05:42:45.040Z"
   },
   {
    "duration": 21,
    "start_time": "2022-01-13T05:42:45.067Z"
   },
   {
    "duration": 10,
    "start_time": "2022-01-13T05:42:45.089Z"
   },
   {
    "duration": 7,
    "start_time": "2022-01-13T05:42:45.100Z"
   },
   {
    "duration": 22,
    "start_time": "2022-01-13T05:42:45.109Z"
   },
   {
    "duration": 18,
    "start_time": "2022-01-13T05:42:45.133Z"
   },
   {
    "duration": 24,
    "start_time": "2022-01-13T05:42:45.153Z"
   },
   {
    "duration": 15,
    "start_time": "2022-01-13T05:42:45.179Z"
   },
   {
    "duration": 12,
    "start_time": "2022-01-13T05:42:45.195Z"
   },
   {
    "duration": 8,
    "start_time": "2022-01-13T05:42:45.208Z"
   },
   {
    "duration": 36,
    "start_time": "2022-01-13T05:42:45.218Z"
   },
   {
    "duration": 19,
    "start_time": "2022-01-13T05:42:45.255Z"
   },
   {
    "duration": 20,
    "start_time": "2022-01-13T05:42:45.276Z"
   },
   {
    "duration": 21,
    "start_time": "2022-01-13T05:42:45.297Z"
   },
   {
    "duration": 27,
    "start_time": "2022-01-13T05:42:45.319Z"
   },
   {
    "duration": 7,
    "start_time": "2022-01-13T05:42:45.348Z"
   },
   {
    "duration": 7004,
    "start_time": "2022-01-13T05:42:45.357Z"
   },
   {
    "duration": 12,
    "start_time": "2022-01-13T05:42:52.363Z"
   },
   {
    "duration": 9,
    "start_time": "2022-01-13T05:42:52.377Z"
   },
   {
    "duration": 15,
    "start_time": "2022-01-13T05:42:52.388Z"
   },
   {
    "duration": 10,
    "start_time": "2022-01-13T05:42:52.404Z"
   },
   {
    "duration": 5,
    "start_time": "2022-01-13T05:42:52.415Z"
   },
   {
    "duration": 19,
    "start_time": "2022-01-13T05:42:52.422Z"
   },
   {
    "duration": 174,
    "start_time": "2022-01-13T05:42:52.443Z"
   },
   {
    "duration": 183,
    "start_time": "2022-01-13T05:42:52.619Z"
   },
   {
    "duration": 6,
    "start_time": "2022-01-13T05:42:52.804Z"
   },
   {
    "duration": 11,
    "start_time": "2022-01-13T05:42:52.812Z"
   },
   {
    "duration": 4,
    "start_time": "2022-01-13T05:42:52.824Z"
   },
   {
    "duration": 4,
    "start_time": "2022-01-13T05:42:52.841Z"
   },
   {
    "duration": 203,
    "start_time": "2022-01-13T05:42:52.846Z"
   },
   {
    "duration": 171,
    "start_time": "2022-01-13T05:42:53.050Z"
   },
   {
    "duration": 7,
    "start_time": "2022-01-13T05:43:49.109Z"
   },
   {
    "duration": 7,
    "start_time": "2022-01-13T05:44:02.230Z"
   },
   {
    "duration": 4,
    "start_time": "2022-01-13T05:44:39.435Z"
   },
   {
    "duration": 4,
    "start_time": "2022-01-13T05:44:51.843Z"
   },
   {
    "duration": 4,
    "start_time": "2022-01-13T05:45:02.651Z"
   },
   {
    "duration": 184,
    "start_time": "2022-01-13T05:45:28.951Z"
   },
   {
    "duration": 188,
    "start_time": "2022-01-13T05:45:45.371Z"
   },
   {
    "duration": 8,
    "start_time": "2022-01-13T05:47:04.343Z"
   },
   {
    "duration": 8,
    "start_time": "2022-01-13T05:47:42.964Z"
   },
   {
    "duration": 4,
    "start_time": "2022-01-13T05:48:32.495Z"
   },
   {
    "duration": 3,
    "start_time": "2022-01-13T05:48:36.682Z"
   },
   {
    "duration": 4,
    "start_time": "2022-01-13T05:48:43.150Z"
   },
   {
    "duration": 183,
    "start_time": "2022-01-13T05:49:33.762Z"
   },
   {
    "duration": 170,
    "start_time": "2022-01-13T05:49:45.920Z"
   },
   {
    "duration": 7,
    "start_time": "2022-01-13T05:51:21.758Z"
   },
   {
    "duration": 7,
    "start_time": "2022-01-13T05:51:31.090Z"
   },
   {
    "duration": 5,
    "start_time": "2022-01-13T05:52:10.210Z"
   },
   {
    "duration": 4,
    "start_time": "2022-01-13T05:52:20.129Z"
   },
   {
    "duration": 250,
    "start_time": "2022-01-13T05:52:41.871Z"
   },
   {
    "duration": 174,
    "start_time": "2022-01-13T05:52:59.399Z"
   },
   {
    "duration": 4,
    "start_time": "2022-01-13T07:39:43.463Z"
   },
   {
    "duration": 6,
    "start_time": "2022-01-13T07:48:49.344Z"
   },
   {
    "duration": 8,
    "start_time": "2022-01-13T07:49:08.731Z"
   },
   {
    "duration": 8,
    "start_time": "2022-01-13T07:49:28.043Z"
   },
   {
    "duration": 4,
    "start_time": "2022-01-13T07:50:02.424Z"
   },
   {
    "duration": 4,
    "start_time": "2022-01-13T07:50:08.686Z"
   },
   {
    "duration": 5,
    "start_time": "2022-01-13T07:50:27.099Z"
   },
   {
    "duration": 1358,
    "start_time": "2022-01-14T05:12:40.535Z"
   },
   {
    "duration": 436,
    "start_time": "2022-01-14T05:12:41.896Z"
   },
   {
    "duration": 8,
    "start_time": "2022-01-14T05:12:42.335Z"
   },
   {
    "duration": 17,
    "start_time": "2022-01-14T05:12:42.346Z"
   },
   {
    "duration": 8,
    "start_time": "2022-01-14T05:12:42.365Z"
   },
   {
    "duration": 16,
    "start_time": "2022-01-14T05:12:42.376Z"
   },
   {
    "duration": 10,
    "start_time": "2022-01-14T05:12:42.417Z"
   },
   {
    "duration": 21,
    "start_time": "2022-01-14T05:12:42.431Z"
   },
   {
    "duration": 10,
    "start_time": "2022-01-14T05:12:42.455Z"
   },
   {
    "duration": 50,
    "start_time": "2022-01-14T05:12:42.467Z"
   },
   {
    "duration": 6,
    "start_time": "2022-01-14T05:12:42.519Z"
   },
   {
    "duration": 5,
    "start_time": "2022-01-14T05:12:42.528Z"
   },
   {
    "duration": 12,
    "start_time": "2022-01-14T05:12:42.535Z"
   },
   {
    "duration": 20,
    "start_time": "2022-01-14T05:12:42.549Z"
   },
   {
    "duration": 53,
    "start_time": "2022-01-14T05:12:42.571Z"
   },
   {
    "duration": 7,
    "start_time": "2022-01-14T05:12:42.626Z"
   },
   {
    "duration": 29,
    "start_time": "2022-01-14T05:12:42.635Z"
   },
   {
    "duration": 55,
    "start_time": "2022-01-14T05:12:42.667Z"
   },
   {
    "duration": 22,
    "start_time": "2022-01-14T05:12:42.725Z"
   },
   {
    "duration": 13,
    "start_time": "2022-01-14T05:12:42.749Z"
   },
   {
    "duration": 20,
    "start_time": "2022-01-14T05:12:42.764Z"
   },
   {
    "duration": 37,
    "start_time": "2022-01-14T05:12:42.786Z"
   },
   {
    "duration": 19,
    "start_time": "2022-01-14T05:12:42.828Z"
   },
   {
    "duration": 20,
    "start_time": "2022-01-14T05:12:42.851Z"
   },
   {
    "duration": 47,
    "start_time": "2022-01-14T05:12:42.874Z"
   },
   {
    "duration": 12,
    "start_time": "2022-01-14T05:12:42.923Z"
   },
   {
    "duration": 18,
    "start_time": "2022-01-14T05:12:42.938Z"
   },
   {
    "duration": 12,
    "start_time": "2022-01-14T05:12:42.959Z"
   },
   {
    "duration": 59,
    "start_time": "2022-01-14T05:12:42.974Z"
   },
   {
    "duration": 24,
    "start_time": "2022-01-14T05:12:43.035Z"
   },
   {
    "duration": 18,
    "start_time": "2022-01-14T05:12:43.062Z"
   },
   {
    "duration": 41,
    "start_time": "2022-01-14T05:12:43.083Z"
   },
   {
    "duration": 41,
    "start_time": "2022-01-14T05:12:43.127Z"
   },
   {
    "duration": 57,
    "start_time": "2022-01-14T05:12:43.170Z"
   },
   {
    "duration": 32,
    "start_time": "2022-01-14T05:12:43.230Z"
   },
   {
    "duration": 54,
    "start_time": "2022-01-14T05:12:43.264Z"
   },
   {
    "duration": 12,
    "start_time": "2022-01-14T05:12:43.321Z"
   },
   {
    "duration": 12,
    "start_time": "2022-01-14T05:12:43.336Z"
   },
   {
    "duration": 14199,
    "start_time": "2022-01-14T05:12:43.350Z"
   },
   {
    "duration": 21,
    "start_time": "2022-01-14T05:12:57.552Z"
   },
   {
    "duration": 12,
    "start_time": "2022-01-14T05:12:57.575Z"
   },
   {
    "duration": 32,
    "start_time": "2022-01-14T05:12:57.590Z"
   },
   {
    "duration": 11,
    "start_time": "2022-01-14T05:12:57.624Z"
   },
   {
    "duration": 7,
    "start_time": "2022-01-14T05:12:57.637Z"
   },
   {
    "duration": 6,
    "start_time": "2022-01-14T05:12:57.647Z"
   },
   {
    "duration": 371,
    "start_time": "2022-01-14T05:12:57.656Z"
   },
   {
    "duration": 334,
    "start_time": "2022-01-14T05:12:58.030Z"
   },
   {
    "duration": 11,
    "start_time": "2022-01-14T05:12:58.366Z"
   },
   {
    "duration": 13,
    "start_time": "2022-01-14T05:12:58.379Z"
   },
   {
    "duration": 26,
    "start_time": "2022-01-14T05:12:58.394Z"
   },
   {
    "duration": 7,
    "start_time": "2022-01-14T05:12:58.422Z"
   },
   {
    "duration": 341,
    "start_time": "2022-01-14T05:12:58.431Z"
   },
   {
    "duration": 326,
    "start_time": "2022-01-14T05:12:58.774Z"
   },
   {
    "duration": 20,
    "start_time": "2022-01-14T05:12:59.103Z"
   },
   {
    "duration": 10,
    "start_time": "2022-01-14T05:12:59.126Z"
   },
   {
    "duration": 5,
    "start_time": "2022-01-14T05:12:59.139Z"
   },
   {
    "duration": 6,
    "start_time": "2022-01-14T05:12:59.146Z"
   },
   {
    "duration": 373,
    "start_time": "2022-01-14T05:12:59.154Z"
   },
   {
    "duration": 341,
    "start_time": "2022-01-14T05:12:59.529Z"
   },
   {
    "duration": 10,
    "start_time": "2022-01-14T05:12:59.872Z"
   },
   {
    "duration": 11,
    "start_time": "2022-01-14T05:12:59.884Z"
   },
   {
    "duration": 24,
    "start_time": "2022-01-14T05:12:59.897Z"
   },
   {
    "duration": 7,
    "start_time": "2022-01-14T05:12:59.923Z"
   },
   {
    "duration": 361,
    "start_time": "2022-01-14T05:12:59.932Z"
   },
   {
    "duration": 341,
    "start_time": "2022-01-14T05:13:00.295Z"
   },
   {
    "duration": 11,
    "start_time": "2022-01-14T05:13:00.639Z"
   },
   {
    "duration": 17,
    "start_time": "2022-01-14T05:13:00.652Z"
   },
   {
    "duration": 6,
    "start_time": "2022-01-14T05:13:00.677Z"
   },
   {
    "duration": 36,
    "start_time": "2022-01-14T05:13:00.685Z"
   },
   {
    "duration": 424,
    "start_time": "2022-01-14T05:13:00.723Z"
   },
   {
    "duration": 341,
    "start_time": "2022-01-14T05:13:01.150Z"
   },
   {
    "duration": 7,
    "start_time": "2022-01-14T05:13:01.494Z"
   },
   {
    "duration": 15,
    "start_time": "2022-01-14T05:13:01.516Z"
   },
   {
    "duration": 8,
    "start_time": "2022-01-14T05:16:23.210Z"
   },
   {
    "duration": 5,
    "start_time": "2022-01-14T05:18:27.433Z"
   },
   {
    "duration": 6,
    "start_time": "2022-01-14T05:19:00.580Z"
   },
   {
    "duration": 6,
    "start_time": "2022-01-14T05:21:15.235Z"
   },
   {
    "duration": 6,
    "start_time": "2022-01-14T05:21:40.609Z"
   },
   {
    "duration": 5,
    "start_time": "2022-01-14T05:21:47.174Z"
   },
   {
    "duration": 6,
    "start_time": "2022-01-14T05:23:18.806Z"
   },
   {
    "duration": 1373,
    "start_time": "2022-01-14T06:18:05.908Z"
   },
   {
    "duration": 375,
    "start_time": "2022-01-14T06:18:07.283Z"
   },
   {
    "duration": 10,
    "start_time": "2022-01-14T06:18:07.661Z"
   },
   {
    "duration": 22,
    "start_time": "2022-01-14T06:18:07.674Z"
   },
   {
    "duration": 9,
    "start_time": "2022-01-14T06:18:07.698Z"
   },
   {
    "duration": 20,
    "start_time": "2022-01-14T06:18:07.710Z"
   },
   {
    "duration": 12,
    "start_time": "2022-01-14T06:18:07.733Z"
   },
   {
    "duration": 28,
    "start_time": "2022-01-14T06:18:07.747Z"
   },
   {
    "duration": 41,
    "start_time": "2022-01-14T06:18:07.781Z"
   },
   {
    "duration": 17,
    "start_time": "2022-01-14T06:18:07.826Z"
   },
   {
    "duration": 9,
    "start_time": "2022-01-14T06:18:07.846Z"
   },
   {
    "duration": 7,
    "start_time": "2022-01-14T06:18:07.858Z"
   },
   {
    "duration": 57,
    "start_time": "2022-01-14T06:18:07.868Z"
   },
   {
    "duration": 23,
    "start_time": "2022-01-14T06:18:07.927Z"
   },
   {
    "duration": 11,
    "start_time": "2022-01-14T06:18:07.952Z"
   },
   {
    "duration": 7,
    "start_time": "2022-01-14T06:18:07.965Z"
   },
   {
    "duration": 66,
    "start_time": "2022-01-14T06:18:07.974Z"
   },
   {
    "duration": 27,
    "start_time": "2022-01-14T06:18:08.042Z"
   },
   {
    "duration": 46,
    "start_time": "2022-01-14T06:18:08.072Z"
   },
   {
    "duration": 12,
    "start_time": "2022-01-14T06:18:08.121Z"
   },
   {
    "duration": 15,
    "start_time": "2022-01-14T06:18:08.136Z"
   },
   {
    "duration": 10,
    "start_time": "2022-01-14T06:18:08.153Z"
   },
   {
    "duration": 52,
    "start_time": "2022-01-14T06:18:08.166Z"
   },
   {
    "duration": 20,
    "start_time": "2022-01-14T06:18:08.220Z"
   },
   {
    "duration": 15,
    "start_time": "2022-01-14T06:18:08.242Z"
   },
   {
    "duration": 12,
    "start_time": "2022-01-14T06:18:08.260Z"
   },
   {
    "duration": 18,
    "start_time": "2022-01-14T06:18:08.316Z"
   },
   {
    "duration": 12,
    "start_time": "2022-01-14T06:18:08.338Z"
   },
   {
    "duration": 25,
    "start_time": "2022-01-14T06:18:08.353Z"
   },
   {
    "duration": 54,
    "start_time": "2022-01-14T06:18:08.380Z"
   },
   {
    "duration": 18,
    "start_time": "2022-01-14T06:18:08.436Z"
   },
   {
    "duration": 13,
    "start_time": "2022-01-14T06:18:08.456Z"
   },
   {
    "duration": 76,
    "start_time": "2022-01-14T06:18:08.472Z"
   },
   {
    "duration": 33,
    "start_time": "2022-01-14T06:18:08.550Z"
   },
   {
    "duration": 50,
    "start_time": "2022-01-14T06:18:08.585Z"
   },
   {
    "duration": 35,
    "start_time": "2022-01-14T06:18:08.637Z"
   },
   {
    "duration": 13,
    "start_time": "2022-01-14T06:18:08.674Z"
   },
   {
    "duration": 13,
    "start_time": "2022-01-14T06:18:08.717Z"
   },
   {
    "duration": 13363,
    "start_time": "2022-01-14T06:18:08.732Z"
   },
   {
    "duration": 27,
    "start_time": "2022-01-14T06:18:22.098Z"
   },
   {
    "duration": 15,
    "start_time": "2022-01-14T06:18:22.127Z"
   },
   {
    "duration": 13,
    "start_time": "2022-01-14T06:18:22.144Z"
   },
   {
    "duration": 12,
    "start_time": "2022-01-14T06:18:22.159Z"
   },
   {
    "duration": 6,
    "start_time": "2022-01-14T06:18:22.174Z"
   },
   {
    "duration": 5,
    "start_time": "2022-01-14T06:18:22.218Z"
   },
   {
    "duration": 341,
    "start_time": "2022-01-14T06:18:22.225Z"
   },
   {
    "duration": 455,
    "start_time": "2022-01-14T06:18:22.568Z"
   },
   {
    "duration": 11,
    "start_time": "2022-01-14T06:18:23.026Z"
   },
   {
    "duration": 13,
    "start_time": "2022-01-14T06:18:23.040Z"
   },
   {
    "duration": 10,
    "start_time": "2022-01-14T06:18:23.056Z"
   },
   {
    "duration": 9,
    "start_time": "2022-01-14T06:18:23.069Z"
   },
   {
    "duration": 353,
    "start_time": "2022-01-14T06:18:23.081Z"
   },
   {
    "duration": 321,
    "start_time": "2022-01-14T06:18:23.436Z"
   },
   {
    "duration": 10,
    "start_time": "2022-01-14T06:18:23.760Z"
   },
   {
    "duration": 10,
    "start_time": "2022-01-14T06:18:23.772Z"
   },
   {
    "duration": 34,
    "start_time": "2022-01-14T06:18:23.784Z"
   },
   {
    "duration": 8,
    "start_time": "2022-01-14T06:18:23.821Z"
   },
   {
    "duration": 340,
    "start_time": "2022-01-14T06:18:23.831Z"
   },
   {
    "duration": 347,
    "start_time": "2022-01-14T06:18:24.174Z"
   },
   {
    "duration": 10,
    "start_time": "2022-01-14T06:18:24.523Z"
   },
   {
    "duration": 14,
    "start_time": "2022-01-14T06:18:24.535Z"
   },
   {
    "duration": 12,
    "start_time": "2022-01-14T06:18:24.552Z"
   },
   {
    "duration": 14,
    "start_time": "2022-01-14T06:18:24.566Z"
   },
   {
    "duration": 370,
    "start_time": "2022-01-14T06:18:24.583Z"
   },
   {
    "duration": 342,
    "start_time": "2022-01-14T06:18:24.956Z"
   },
   {
    "duration": 18,
    "start_time": "2022-01-14T06:18:25.300Z"
   },
   {
    "duration": 9,
    "start_time": "2022-01-14T06:18:25.321Z"
   },
   {
    "duration": 8,
    "start_time": "2022-01-14T06:18:25.332Z"
   },
   {
    "duration": 7,
    "start_time": "2022-01-14T06:18:25.342Z"
   },
   {
    "duration": 444,
    "start_time": "2022-01-14T06:18:25.351Z"
   },
   {
    "duration": 340,
    "start_time": "2022-01-14T06:18:25.797Z"
   },
   {
    "duration": 6,
    "start_time": "2022-01-14T06:18:26.140Z"
   },
   {
    "duration": 8,
    "start_time": "2022-01-14T06:18:26.148Z"
   },
   {
    "duration": 9,
    "start_time": "2022-01-14T06:18:26.159Z"
   },
   {
    "duration": 6,
    "start_time": "2022-01-14T06:18:26.171Z"
   },
   {
    "duration": 40,
    "start_time": "2022-01-14T06:18:26.179Z"
   },
   {
    "duration": 6,
    "start_time": "2022-01-14T06:18:26.221Z"
   },
   {
    "duration": 7,
    "start_time": "2022-01-14T06:18:26.229Z"
   },
   {
    "duration": 1379,
    "start_time": "2022-01-14T07:06:13.514Z"
   },
   {
    "duration": 405,
    "start_time": "2022-01-14T07:06:14.895Z"
   },
   {
    "duration": 9,
    "start_time": "2022-01-14T07:06:15.303Z"
   },
   {
    "duration": 19,
    "start_time": "2022-01-14T07:06:15.315Z"
   },
   {
    "duration": 11,
    "start_time": "2022-01-14T07:06:15.337Z"
   },
   {
    "duration": 20,
    "start_time": "2022-01-14T07:06:15.351Z"
   },
   {
    "duration": 11,
    "start_time": "2022-01-14T07:06:15.373Z"
   },
   {
    "duration": 49,
    "start_time": "2022-01-14T07:06:15.388Z"
   },
   {
    "duration": 12,
    "start_time": "2022-01-14T07:06:15.440Z"
   },
   {
    "duration": 19,
    "start_time": "2022-01-14T07:06:15.455Z"
   },
   {
    "duration": 40,
    "start_time": "2022-01-14T07:06:15.477Z"
   },
   {
    "duration": 6,
    "start_time": "2022-01-14T07:06:15.519Z"
   },
   {
    "duration": 17,
    "start_time": "2022-01-14T07:06:15.528Z"
   },
   {
    "duration": 25,
    "start_time": "2022-01-14T07:06:15.547Z"
   },
   {
    "duration": 45,
    "start_time": "2022-01-14T07:06:15.575Z"
   },
   {
    "duration": 8,
    "start_time": "2022-01-14T07:06:15.623Z"
   },
   {
    "duration": 34,
    "start_time": "2022-01-14T07:06:15.633Z"
   },
   {
    "duration": 54,
    "start_time": "2022-01-14T07:06:15.669Z"
   },
   {
    "duration": 23,
    "start_time": "2022-01-14T07:06:15.726Z"
   },
   {
    "duration": 15,
    "start_time": "2022-01-14T07:06:15.752Z"
   },
   {
    "duration": 55,
    "start_time": "2022-01-14T07:06:15.770Z"
   },
   {
    "duration": 12,
    "start_time": "2022-01-14T07:06:15.828Z"
   },
   {
    "duration": 19,
    "start_time": "2022-01-14T07:06:15.846Z"
   },
   {
    "duration": 50,
    "start_time": "2022-01-14T07:06:15.869Z"
   },
   {
    "duration": 15,
    "start_time": "2022-01-14T07:06:15.921Z"
   },
   {
    "duration": 13,
    "start_time": "2022-01-14T07:06:15.938Z"
   },
   {
    "duration": 30,
    "start_time": "2022-01-14T07:06:15.954Z"
   },
   {
    "duration": 40,
    "start_time": "2022-01-14T07:06:15.986Z"
   },
   {
    "duration": 42,
    "start_time": "2022-01-14T07:06:16.029Z"
   },
   {
    "duration": 25,
    "start_time": "2022-01-14T07:06:16.074Z"
   },
   {
    "duration": 45,
    "start_time": "2022-01-14T07:06:16.101Z"
   },
   {
    "duration": 22,
    "start_time": "2022-01-14T07:06:16.148Z"
   },
   {
    "duration": 72,
    "start_time": "2022-01-14T07:06:16.172Z"
   },
   {
    "duration": 34,
    "start_time": "2022-01-14T07:06:16.247Z"
   },
   {
    "duration": 52,
    "start_time": "2022-01-14T07:06:16.284Z"
   },
   {
    "duration": 37,
    "start_time": "2022-01-14T07:06:16.339Z"
   },
   {
    "duration": 46,
    "start_time": "2022-01-14T07:06:16.380Z"
   },
   {
    "duration": 13572,
    "start_time": "2022-01-14T07:06:16.429Z"
   },
   {
    "duration": 23,
    "start_time": "2022-01-14T07:06:30.004Z"
   },
   {
    "duration": 17,
    "start_time": "2022-01-14T07:06:30.029Z"
   },
   {
    "duration": 11,
    "start_time": "2022-01-14T07:06:30.048Z"
   },
   {
    "duration": 18,
    "start_time": "2022-01-14T07:06:30.062Z"
   },
   {
    "duration": 7,
    "start_time": "2022-01-14T07:06:30.083Z"
   },
   {
    "duration": 5,
    "start_time": "2022-01-14T07:06:30.117Z"
   },
   {
    "duration": 341,
    "start_time": "2022-01-14T07:06:30.124Z"
   },
   {
    "duration": 324,
    "start_time": "2022-01-14T07:06:30.467Z"
   },
   {
    "duration": 11,
    "start_time": "2022-01-14T07:06:30.793Z"
   },
   {
    "duration": 16,
    "start_time": "2022-01-14T07:06:30.817Z"
   },
   {
    "duration": 34,
    "start_time": "2022-01-14T07:06:30.835Z"
   },
   {
    "duration": 27,
    "start_time": "2022-01-14T07:06:30.872Z"
   },
   {
    "duration": 334,
    "start_time": "2022-01-14T07:06:30.902Z"
   },
   {
    "duration": 319,
    "start_time": "2022-01-14T07:06:31.239Z"
   },
   {
    "duration": 11,
    "start_time": "2022-01-14T07:06:31.560Z"
   },
   {
    "duration": 30,
    "start_time": "2022-01-14T07:06:31.573Z"
   },
   {
    "duration": 17,
    "start_time": "2022-01-14T07:06:31.606Z"
   },
   {
    "duration": 10,
    "start_time": "2022-01-14T07:06:31.626Z"
   },
   {
    "duration": 330,
    "start_time": "2022-01-14T07:06:31.638Z"
   },
   {
    "duration": 330,
    "start_time": "2022-01-14T07:06:31.971Z"
   },
   {
    "duration": 15,
    "start_time": "2022-01-14T07:06:32.303Z"
   },
   {
    "duration": 15,
    "start_time": "2022-01-14T07:06:32.321Z"
   },
   {
    "duration": 13,
    "start_time": "2022-01-14T07:06:32.338Z"
   },
   {
    "duration": 17,
    "start_time": "2022-01-14T07:06:32.353Z"
   },
   {
    "duration": 347,
    "start_time": "2022-01-14T07:06:32.373Z"
   },
   {
    "duration": 326,
    "start_time": "2022-01-14T07:06:32.722Z"
   },
   {
    "duration": 9,
    "start_time": "2022-01-14T07:06:33.051Z"
   },
   {
    "duration": 12,
    "start_time": "2022-01-14T07:06:33.062Z"
   },
   {
    "duration": 7,
    "start_time": "2022-01-14T07:06:33.076Z"
   },
   {
    "duration": 6,
    "start_time": "2022-01-14T07:06:33.119Z"
   },
   {
    "duration": 414,
    "start_time": "2022-01-14T07:06:33.127Z"
   },
   {
    "duration": 329,
    "start_time": "2022-01-14T07:06:33.544Z"
   },
   {
    "duration": 6,
    "start_time": "2022-01-14T07:06:33.875Z"
   },
   {
    "duration": 9,
    "start_time": "2022-01-14T07:06:33.884Z"
   },
   {
    "duration": 7,
    "start_time": "2022-01-14T07:06:33.916Z"
   },
   {
    "duration": 9,
    "start_time": "2022-01-14T07:06:33.926Z"
   },
   {
    "duration": 7,
    "start_time": "2022-01-14T07:06:33.938Z"
   },
   {
    "duration": 8,
    "start_time": "2022-01-14T07:06:33.948Z"
   },
   {
    "duration": 6,
    "start_time": "2022-01-14T07:06:33.958Z"
   },
   {
    "duration": 1485,
    "start_time": "2022-01-14T10:38:45.171Z"
   },
   {
    "duration": 413,
    "start_time": "2022-01-14T10:38:46.659Z"
   },
   {
    "duration": 14,
    "start_time": "2022-01-14T10:38:47.075Z"
   },
   {
    "duration": 18,
    "start_time": "2022-01-14T10:38:47.092Z"
   },
   {
    "duration": 20,
    "start_time": "2022-01-14T10:38:47.112Z"
   },
   {
    "duration": 18,
    "start_time": "2022-01-14T10:38:47.135Z"
   },
   {
    "duration": 12,
    "start_time": "2022-01-14T10:38:47.157Z"
   },
   {
    "duration": 70,
    "start_time": "2022-01-14T10:38:47.176Z"
   },
   {
    "duration": 6,
    "start_time": "2022-01-14T10:38:47.249Z"
   },
   {
    "duration": 16,
    "start_time": "2022-01-14T10:38:47.258Z"
   },
   {
    "duration": 6,
    "start_time": "2022-01-14T10:38:47.276Z"
   },
   {
    "duration": 7,
    "start_time": "2022-01-14T10:38:47.324Z"
   },
   {
    "duration": 13,
    "start_time": "2022-01-14T10:38:47.333Z"
   },
   {
    "duration": 28,
    "start_time": "2022-01-14T10:38:47.348Z"
   },
   {
    "duration": 47,
    "start_time": "2022-01-14T10:38:47.378Z"
   },
   {
    "duration": 8,
    "start_time": "2022-01-14T10:38:47.428Z"
   },
   {
    "duration": 28,
    "start_time": "2022-01-14T10:38:47.438Z"
   },
   {
    "duration": 56,
    "start_time": "2022-01-14T10:38:47.469Z"
   },
   {
    "duration": 22,
    "start_time": "2022-01-14T10:38:47.527Z"
   },
   {
    "duration": 11,
    "start_time": "2022-01-14T10:38:47.551Z"
   },
   {
    "duration": 24,
    "start_time": "2022-01-14T10:38:47.564Z"
   },
   {
    "duration": 40,
    "start_time": "2022-01-14T10:38:47.591Z"
   },
   {
    "duration": 16,
    "start_time": "2022-01-14T10:38:47.638Z"
   },
   {
    "duration": 26,
    "start_time": "2022-01-14T10:38:47.658Z"
   },
   {
    "duration": 47,
    "start_time": "2022-01-14T10:38:47.687Z"
   },
   {
    "duration": 13,
    "start_time": "2022-01-14T10:38:47.737Z"
   },
   {
    "duration": 29,
    "start_time": "2022-01-14T10:38:47.752Z"
   },
   {
    "duration": 48,
    "start_time": "2022-01-14T10:38:47.783Z"
   },
   {
    "duration": 27,
    "start_time": "2022-01-14T10:38:47.835Z"
   },
   {
    "duration": 63,
    "start_time": "2022-01-14T10:38:47.865Z"
   },
   {
    "duration": 22,
    "start_time": "2022-01-14T10:38:47.931Z"
   },
   {
    "duration": 15,
    "start_time": "2022-01-14T10:38:47.956Z"
   },
   {
    "duration": 72,
    "start_time": "2022-01-14T10:38:47.973Z"
   },
   {
    "duration": 32,
    "start_time": "2022-01-14T10:38:48.047Z"
   },
   {
    "duration": 62,
    "start_time": "2022-01-14T10:38:48.081Z"
   },
   {
    "duration": 31,
    "start_time": "2022-01-14T10:38:48.146Z"
   },
   {
    "duration": 15,
    "start_time": "2022-01-14T10:38:48.180Z"
   },
   {
    "duration": 10961,
    "start_time": "2022-01-14T10:38:48.223Z"
   },
   {
    "duration": 40,
    "start_time": "2022-01-14T10:38:59.187Z"
   },
   {
    "duration": 12,
    "start_time": "2022-01-14T10:38:59.230Z"
   },
   {
    "duration": 14,
    "start_time": "2022-01-14T10:38:59.245Z"
   },
   {
    "duration": 13,
    "start_time": "2022-01-14T10:38:59.263Z"
   },
   {
    "duration": 47,
    "start_time": "2022-01-14T10:38:59.278Z"
   },
   {
    "duration": 5,
    "start_time": "2022-01-14T10:38:59.328Z"
   },
   {
    "duration": 5112,
    "start_time": "2022-01-14T10:38:59.336Z"
   },
   {
    "duration": 522,
    "start_time": "2022-01-14T10:39:04.452Z"
   },
   {
    "duration": 14,
    "start_time": "2022-01-14T10:39:04.977Z"
   },
   {
    "duration": 34,
    "start_time": "2022-01-14T10:39:04.994Z"
   },
   {
    "duration": 6,
    "start_time": "2022-01-14T10:39:05.031Z"
   },
   {
    "duration": 11,
    "start_time": "2022-01-14T10:39:05.039Z"
   },
   {
    "duration": 529,
    "start_time": "2022-01-14T10:39:05.053Z"
   },
   {
    "duration": 316,
    "start_time": "2022-01-14T10:39:05.584Z"
   },
   {
    "duration": 22,
    "start_time": "2022-01-14T10:39:05.903Z"
   },
   {
    "duration": 13,
    "start_time": "2022-01-14T10:39:05.928Z"
   },
   {
    "duration": 15,
    "start_time": "2022-01-14T10:39:05.944Z"
   },
   {
    "duration": 13,
    "start_time": "2022-01-14T10:39:05.961Z"
   },
   {
    "duration": 358,
    "start_time": "2022-01-14T10:39:05.977Z"
   },
   {
    "duration": 412,
    "start_time": "2022-01-14T10:39:06.338Z"
   },
   {
    "duration": 9,
    "start_time": "2022-01-14T10:39:06.753Z"
   },
   {
    "duration": 10,
    "start_time": "2022-01-14T10:39:06.764Z"
   },
   {
    "duration": 13,
    "start_time": "2022-01-14T10:39:06.777Z"
   },
   {
    "duration": 8,
    "start_time": "2022-01-14T10:39:06.793Z"
   },
   {
    "duration": 331,
    "start_time": "2022-01-14T10:39:06.803Z"
   },
   {
    "duration": 332,
    "start_time": "2022-01-14T10:39:07.136Z"
   },
   {
    "duration": 11,
    "start_time": "2022-01-14T10:39:07.471Z"
   },
   {
    "duration": 22,
    "start_time": "2022-01-14T10:39:07.485Z"
   },
   {
    "duration": 9,
    "start_time": "2022-01-14T10:39:07.509Z"
   },
   {
    "duration": 5,
    "start_time": "2022-01-14T10:39:07.526Z"
   },
   {
    "duration": 332,
    "start_time": "2022-01-14T10:39:07.534Z"
   },
   {
    "duration": 522,
    "start_time": "2022-01-14T10:39:07.868Z"
   },
   {
    "duration": 7,
    "start_time": "2022-01-14T10:39:08.423Z"
   },
   {
    "duration": 12,
    "start_time": "2022-01-14T10:39:08.432Z"
   },
   {
    "duration": 8,
    "start_time": "2022-01-14T10:39:08.446Z"
   },
   {
    "duration": 7,
    "start_time": "2022-01-14T10:39:08.457Z"
   },
   {
    "duration": 6,
    "start_time": "2022-01-14T10:39:08.466Z"
   },
   {
    "duration": 5,
    "start_time": "2022-01-14T10:39:08.475Z"
   },
   {
    "duration": 8,
    "start_time": "2022-01-14T10:39:08.482Z"
   },
   {
    "duration": 32,
    "start_time": "2022-01-14T15:51:05.928Z"
   },
   {
    "duration": 129,
    "start_time": "2022-01-14T15:51:38.470Z"
   },
   {
    "duration": 19,
    "start_time": "2022-01-14T15:51:41.982Z"
   },
   {
    "duration": 17,
    "start_time": "2022-01-14T15:56:48.587Z"
   },
   {
    "duration": 562,
    "start_time": "2022-01-14T15:56:57.975Z"
   },
   {
    "duration": 1394,
    "start_time": "2022-01-17T05:21:56.020Z"
   },
   {
    "duration": 389,
    "start_time": "2022-01-17T05:21:57.417Z"
   },
   {
    "duration": 9,
    "start_time": "2022-01-17T05:21:57.809Z"
   },
   {
    "duration": 22,
    "start_time": "2022-01-17T05:21:57.821Z"
   },
   {
    "duration": 14,
    "start_time": "2022-01-17T05:21:57.845Z"
   },
   {
    "duration": 19,
    "start_time": "2022-01-17T05:21:57.861Z"
   },
   {
    "duration": 14,
    "start_time": "2022-01-17T05:21:57.882Z"
   },
   {
    "duration": 24,
    "start_time": "2022-01-17T05:21:57.900Z"
   },
   {
    "duration": 7,
    "start_time": "2022-01-17T05:21:57.927Z"
   },
   {
    "duration": 19,
    "start_time": "2022-01-17T05:21:57.967Z"
   },
   {
    "duration": 11,
    "start_time": "2022-01-17T05:21:57.988Z"
   },
   {
    "duration": 8,
    "start_time": "2022-01-17T05:21:58.001Z"
   },
   {
    "duration": 16,
    "start_time": "2022-01-17T05:21:58.011Z"
   },
   {
    "duration": 53,
    "start_time": "2022-01-17T05:21:58.029Z"
   },
   {
    "duration": 12,
    "start_time": "2022-01-17T05:21:58.085Z"
   },
   {
    "duration": 12,
    "start_time": "2022-01-17T05:21:58.099Z"
   },
   {
    "duration": 65,
    "start_time": "2022-01-17T05:21:58.114Z"
   },
   {
    "duration": 30,
    "start_time": "2022-01-17T05:21:58.182Z"
   },
   {
    "duration": 23,
    "start_time": "2022-01-17T05:21:58.214Z"
   },
   {
    "duration": 39,
    "start_time": "2022-01-17T05:21:58.240Z"
   },
   {
    "duration": 16,
    "start_time": "2022-01-17T05:21:58.281Z"
   },
   {
    "duration": 13,
    "start_time": "2022-01-17T05:21:58.300Z"
   },
   {
    "duration": 52,
    "start_time": "2022-01-17T05:21:58.320Z"
   },
   {
    "duration": 20,
    "start_time": "2022-01-17T05:21:58.377Z"
   },
   {
    "duration": 21,
    "start_time": "2022-01-17T05:21:58.400Z"
   },
   {
    "duration": 43,
    "start_time": "2022-01-17T05:21:58.424Z"
   },
   {
    "duration": 20,
    "start_time": "2022-01-17T05:21:58.470Z"
   },
   {
    "duration": 14,
    "start_time": "2022-01-17T05:21:58.492Z"
   },
   {
    "duration": 31,
    "start_time": "2022-01-17T05:21:58.509Z"
   },
   {
    "duration": 27,
    "start_time": "2022-01-17T05:21:58.566Z"
   },
   {
    "duration": 21,
    "start_time": "2022-01-17T05:21:58.596Z"
   },
   {
    "duration": 49,
    "start_time": "2022-01-17T05:21:58.619Z"
   },
   {
    "duration": 41,
    "start_time": "2022-01-17T05:21:58.671Z"
   },
   {
    "duration": 61,
    "start_time": "2022-01-17T05:21:58.715Z"
   },
   {
    "duration": 33,
    "start_time": "2022-01-17T05:21:58.778Z"
   },
   {
    "duration": 61,
    "start_time": "2022-01-17T05:21:58.813Z"
   },
   {
    "duration": 13,
    "start_time": "2022-01-17T05:21:58.877Z"
   },
   {
    "duration": 13416,
    "start_time": "2022-01-17T05:21:58.893Z"
   },
   {
    "duration": 22,
    "start_time": "2022-01-17T05:22:12.311Z"
   },
   {
    "duration": 37,
    "start_time": "2022-01-17T05:22:12.335Z"
   },
   {
    "duration": 16,
    "start_time": "2022-01-17T05:22:12.374Z"
   },
   {
    "duration": 13,
    "start_time": "2022-01-17T05:22:12.393Z"
   },
   {
    "duration": 6,
    "start_time": "2022-01-17T05:22:12.409Z"
   },
   {
    "duration": 11,
    "start_time": "2022-01-17T05:22:12.417Z"
   },
   {
    "duration": 376,
    "start_time": "2022-01-17T05:22:12.430Z"
   },
   {
    "duration": 331,
    "start_time": "2022-01-17T05:22:12.808Z"
   },
   {
    "duration": 10,
    "start_time": "2022-01-17T05:22:13.142Z"
   },
   {
    "duration": 21,
    "start_time": "2022-01-17T05:22:13.154Z"
   },
   {
    "duration": 9,
    "start_time": "2022-01-17T05:22:13.177Z"
   },
   {
    "duration": 6,
    "start_time": "2022-01-17T05:22:13.188Z"
   },
   {
    "duration": 362,
    "start_time": "2022-01-17T05:22:13.196Z"
   },
   {
    "duration": 325,
    "start_time": "2022-01-17T05:22:13.561Z"
   },
   {
    "duration": 10,
    "start_time": "2022-01-17T05:22:13.888Z"
   },
   {
    "duration": 11,
    "start_time": "2022-01-17T05:22:13.900Z"
   },
   {
    "duration": 7,
    "start_time": "2022-01-17T05:22:13.913Z"
   },
   {
    "duration": 47,
    "start_time": "2022-01-17T05:22:13.922Z"
   },
   {
    "duration": 344,
    "start_time": "2022-01-17T05:22:13.971Z"
   },
   {
    "duration": 354,
    "start_time": "2022-01-17T05:22:14.317Z"
   },
   {
    "duration": 11,
    "start_time": "2022-01-17T05:22:14.674Z"
   },
   {
    "duration": 13,
    "start_time": "2022-01-17T05:22:14.689Z"
   },
   {
    "duration": 10,
    "start_time": "2022-01-17T05:22:14.705Z"
   },
   {
    "duration": 51,
    "start_time": "2022-01-17T05:22:14.718Z"
   },
   {
    "duration": 375,
    "start_time": "2022-01-17T05:22:14.772Z"
   },
   {
    "duration": 340,
    "start_time": "2022-01-17T05:22:15.149Z"
   },
   {
    "duration": 10,
    "start_time": "2022-01-17T05:22:15.492Z"
   },
   {
    "duration": 13,
    "start_time": "2022-01-17T05:22:15.506Z"
   },
   {
    "duration": 8,
    "start_time": "2022-01-17T05:22:15.521Z"
   },
   {
    "duration": 5,
    "start_time": "2022-01-17T05:22:15.569Z"
   },
   {
    "duration": 432,
    "start_time": "2022-01-17T05:22:15.577Z"
   },
   {
    "duration": 336,
    "start_time": "2022-01-17T05:22:16.011Z"
   },
   {
    "duration": 6,
    "start_time": "2022-01-17T05:22:16.349Z"
   },
   {
    "duration": 11,
    "start_time": "2022-01-17T05:22:16.367Z"
   },
   {
    "duration": 8,
    "start_time": "2022-01-17T05:22:16.381Z"
   },
   {
    "duration": 8,
    "start_time": "2022-01-17T05:22:16.392Z"
   },
   {
    "duration": 7,
    "start_time": "2022-01-17T05:22:16.403Z"
   },
   {
    "duration": 58,
    "start_time": "2022-01-17T05:22:16.413Z"
   },
   {
    "duration": 8,
    "start_time": "2022-01-17T05:22:16.474Z"
   },
   {
    "duration": 20,
    "start_time": "2022-01-17T05:23:56.589Z"
   },
   {
    "duration": 100,
    "start_time": "2022-01-17T05:29:05.332Z"
   },
   {
    "duration": 460,
    "start_time": "2022-01-17T05:29:17.568Z"
   },
   {
    "duration": 14,
    "start_time": "2022-01-17T05:31:07.682Z"
   },
   {
    "duration": 37,
    "start_time": "2022-01-17T05:32:10.083Z"
   },
   {
    "duration": 281,
    "start_time": "2022-01-17T05:32:27.378Z"
   },
   {
    "duration": 22,
    "start_time": "2022-01-17T05:32:43.024Z"
   },
   {
    "duration": 37,
    "start_time": "2022-01-17T05:33:14.911Z"
   },
   {
    "duration": 24,
    "start_time": "2022-01-17T05:33:16.986Z"
   },
   {
    "duration": 854,
    "start_time": "2022-01-17T05:37:29.816Z"
   },
   {
    "duration": 129,
    "start_time": "2022-01-17T05:40:06.567Z"
   },
   {
    "duration": 10,
    "start_time": "2022-01-17T05:43:21.343Z"
   },
   {
    "duration": 44,
    "start_time": "2022-01-17T05:43:24.090Z"
   },
   {
    "duration": 38,
    "start_time": "2022-01-17T05:43:44.804Z"
   },
   {
    "duration": 23,
    "start_time": "2022-01-17T05:47:18.463Z"
   },
   {
    "duration": 38,
    "start_time": "2022-01-17T05:47:22.195Z"
   },
   {
    "duration": 6,
    "start_time": "2022-01-17T05:48:10.108Z"
   },
   {
    "duration": 38,
    "start_time": "2022-01-17T05:48:22.504Z"
   },
   {
    "duration": 15,
    "start_time": "2022-01-17T05:50:07.856Z"
   },
   {
    "duration": 38,
    "start_time": "2022-01-17T05:50:09.989Z"
   },
   {
    "duration": 7,
    "start_time": "2022-01-17T05:50:20.635Z"
   },
   {
    "duration": 24,
    "start_time": "2022-01-17T05:51:40.229Z"
   },
   {
    "duration": 38,
    "start_time": "2022-01-17T05:51:42.312Z"
   },
   {
    "duration": 6,
    "start_time": "2022-01-17T05:51:51.273Z"
   },
   {
    "duration": 4,
    "start_time": "2022-01-17T05:54:34.329Z"
   },
   {
    "duration": 270,
    "start_time": "2022-01-17T05:56:36.261Z"
   },
   {
    "duration": 281,
    "start_time": "2022-01-17T05:57:11.003Z"
   },
   {
    "duration": 298,
    "start_time": "2022-01-17T05:57:15.942Z"
   },
   {
    "duration": 92,
    "start_time": "2022-01-17T05:57:41.432Z"
   },
   {
    "duration": 94,
    "start_time": "2022-01-17T05:57:55.107Z"
   },
   {
    "duration": 96,
    "start_time": "2022-01-17T05:58:13.406Z"
   },
   {
    "duration": 112,
    "start_time": "2022-01-17T05:58:20.091Z"
   },
   {
    "duration": 8,
    "start_time": "2022-01-17T05:58:33.181Z"
   },
   {
    "duration": 9,
    "start_time": "2022-01-17T05:59:04.041Z"
   },
   {
    "duration": 98,
    "start_time": "2022-01-17T06:09:48.877Z"
   },
   {
    "duration": 93,
    "start_time": "2022-01-17T06:11:23.859Z"
   },
   {
    "duration": 129,
    "start_time": "2022-01-17T06:12:05.628Z"
   },
   {
    "duration": 102,
    "start_time": "2022-01-17T06:12:41.911Z"
   },
   {
    "duration": 89,
    "start_time": "2022-01-17T06:12:43.750Z"
   },
   {
    "duration": 98,
    "start_time": "2022-01-17T06:13:05.561Z"
   },
   {
    "duration": 11,
    "start_time": "2022-01-17T06:13:16.884Z"
   },
   {
    "duration": 10,
    "start_time": "2022-01-17T06:17:11.748Z"
   },
   {
    "duration": 9437,
    "start_time": "2022-01-17T06:18:11.387Z"
   },
   {
    "duration": 13,
    "start_time": "2022-01-17T06:19:24.393Z"
   },
   {
    "duration": 582,
    "start_time": "2022-01-17T06:19:39.255Z"
   },
   {
    "duration": 10,
    "start_time": "2022-01-17T06:21:08.959Z"
   },
   {
    "duration": 630,
    "start_time": "2022-01-17T06:21:26.907Z"
   },
   {
    "duration": 14,
    "start_time": "2022-01-17T06:21:47.410Z"
   },
   {
    "duration": 9706,
    "start_time": "2022-01-17T06:21:54.157Z"
   },
   {
    "duration": 966,
    "start_time": "2022-01-17T20:52:57.311Z"
   },
   {
    "duration": 241,
    "start_time": "2022-01-17T20:52:58.279Z"
   },
   {
    "duration": 6,
    "start_time": "2022-01-17T20:52:58.522Z"
   },
   {
    "duration": 15,
    "start_time": "2022-01-17T20:52:58.529Z"
   },
   {
    "duration": 5,
    "start_time": "2022-01-17T20:52:58.545Z"
   },
   {
    "duration": 11,
    "start_time": "2022-01-17T20:52:58.551Z"
   },
   {
    "duration": 8,
    "start_time": "2022-01-17T20:52:58.563Z"
   },
   {
    "duration": 13,
    "start_time": "2022-01-17T20:52:58.573Z"
   },
   {
    "duration": 26,
    "start_time": "2022-01-17T20:52:58.588Z"
   },
   {
    "duration": 10,
    "start_time": "2022-01-17T20:52:58.616Z"
   },
   {
    "duration": 5,
    "start_time": "2022-01-17T20:52:58.628Z"
   },
   {
    "duration": 4,
    "start_time": "2022-01-17T20:52:58.634Z"
   },
   {
    "duration": 9,
    "start_time": "2022-01-17T20:52:58.640Z"
   },
   {
    "duration": 15,
    "start_time": "2022-01-17T20:52:58.651Z"
   },
   {
    "duration": 7,
    "start_time": "2022-01-17T20:52:58.667Z"
   },
   {
    "duration": 37,
    "start_time": "2022-01-17T20:52:58.675Z"
   },
   {
    "duration": 20,
    "start_time": "2022-01-17T20:52:58.714Z"
   },
   {
    "duration": 17,
    "start_time": "2022-01-17T20:52:58.735Z"
   },
   {
    "duration": 13,
    "start_time": "2022-01-17T20:52:58.754Z"
   },
   {
    "duration": 7,
    "start_time": "2022-01-17T20:52:58.768Z"
   },
   {
    "duration": 10,
    "start_time": "2022-01-17T20:52:58.812Z"
   },
   {
    "duration": 11,
    "start_time": "2022-01-17T20:52:58.823Z"
   },
   {
    "duration": 16,
    "start_time": "2022-01-17T20:52:58.837Z"
   },
   {
    "duration": 12,
    "start_time": "2022-01-17T20:52:58.854Z"
   },
   {
    "duration": 44,
    "start_time": "2022-01-17T20:52:58.868Z"
   },
   {
    "duration": 8,
    "start_time": "2022-01-17T20:52:58.913Z"
   },
   {
    "duration": 11,
    "start_time": "2022-01-17T20:52:58.922Z"
   },
   {
    "duration": 6,
    "start_time": "2022-01-17T20:52:58.935Z"
   },
   {
    "duration": 17,
    "start_time": "2022-01-17T20:52:58.942Z"
   },
   {
    "duration": 14,
    "start_time": "2022-01-17T20:52:58.960Z"
   },
   {
    "duration": 44,
    "start_time": "2022-01-17T20:52:58.975Z"
   },
   {
    "duration": 9,
    "start_time": "2022-01-17T20:52:59.020Z"
   },
   {
    "duration": 23,
    "start_time": "2022-01-17T20:52:59.030Z"
   },
   {
    "duration": 18,
    "start_time": "2022-01-17T20:52:59.054Z"
   },
   {
    "duration": 55,
    "start_time": "2022-01-17T20:52:59.073Z"
   },
   {
    "duration": 20,
    "start_time": "2022-01-17T20:52:59.129Z"
   },
   {
    "duration": 8,
    "start_time": "2022-01-17T20:52:59.150Z"
   },
   {
    "duration": 6792,
    "start_time": "2022-01-17T20:52:59.159Z"
   },
   {
    "duration": 11,
    "start_time": "2022-01-17T20:53:05.952Z"
   },
   {
    "duration": 8,
    "start_time": "2022-01-17T20:53:05.964Z"
   },
   {
    "duration": 91,
    "start_time": "2022-01-17T20:53:05.973Z"
   },
   {
    "duration": 13,
    "start_time": "2022-01-17T20:53:06.065Z"
   },
   {
    "duration": 16,
    "start_time": "2022-01-17T20:53:06.080Z"
   },
   {
    "duration": 34,
    "start_time": "2022-01-17T20:53:06.097Z"
   },
   {
    "duration": 4787,
    "start_time": "2022-01-17T20:53:37.178Z"
   },
   {
    "duration": 28,
    "start_time": "2022-01-17T20:54:05.583Z"
   },
   {
    "duration": 186,
    "start_time": "2022-01-17T20:54:16.731Z"
   },
   {
    "duration": 199,
    "start_time": "2022-01-17T20:54:23.350Z"
   },
   {
    "duration": 3,
    "start_time": "2022-01-17T20:54:59.753Z"
   },
   {
    "duration": 22,
    "start_time": "2022-01-17T20:55:02.462Z"
   },
   {
    "duration": 7,
    "start_time": "2022-01-17T20:55:29.185Z"
   },
   {
    "duration": 4,
    "start_time": "2022-01-17T20:56:17.996Z"
   },
   {
    "duration": 796,
    "start_time": "2022-01-17T20:56:19.677Z"
   },
   {
    "duration": 20,
    "start_time": "2022-01-17T20:57:28.666Z"
   },
   {
    "duration": 206,
    "start_time": "2022-01-17T21:01:16.749Z"
   },
   {
    "duration": 11,
    "start_time": "2022-01-17T21:01:51.441Z"
   },
   {
    "duration": 4,
    "start_time": "2022-01-17T21:02:08.236Z"
   },
   {
    "duration": 5,
    "start_time": "2022-01-17T21:02:27.609Z"
   },
   {
    "duration": 5,
    "start_time": "2022-01-17T21:02:34.132Z"
   },
   {
    "duration": 11,
    "start_time": "2022-01-17T21:02:38.426Z"
   },
   {
    "duration": 212,
    "start_time": "2022-01-17T21:02:51.859Z"
   },
   {
    "duration": 4,
    "start_time": "2022-01-17T21:03:15.655Z"
   },
   {
    "duration": 6,
    "start_time": "2022-01-17T21:03:30.348Z"
   },
   {
    "duration": 205,
    "start_time": "2022-01-17T21:03:50.397Z"
   },
   {
    "duration": 199,
    "start_time": "2022-01-17T21:03:55.106Z"
   },
   {
    "duration": 5,
    "start_time": "2022-01-17T21:04:16.386Z"
   },
   {
    "duration": 632,
    "start_time": "2022-01-18T04:40:10.633Z"
   },
   {
    "duration": 365,
    "start_time": "2022-01-18T04:41:00.983Z"
   },
   {
    "duration": 1065,
    "start_time": "2022-01-18T04:41:01.350Z"
   },
   {
    "duration": 5,
    "start_time": "2022-01-18T04:41:02.417Z"
   },
   {
    "duration": 12,
    "start_time": "2022-01-18T04:41:02.424Z"
   },
   {
    "duration": 5,
    "start_time": "2022-01-18T04:41:02.437Z"
   },
   {
    "duration": 9,
    "start_time": "2022-01-18T04:41:02.443Z"
   },
   {
    "duration": 6,
    "start_time": "2022-01-18T04:41:02.453Z"
   },
   {
    "duration": 12,
    "start_time": "2022-01-18T04:41:02.461Z"
   },
   {
    "duration": 6,
    "start_time": "2022-01-18T04:41:02.475Z"
   },
   {
    "duration": 9,
    "start_time": "2022-01-18T04:41:02.483Z"
   },
   {
    "duration": 5,
    "start_time": "2022-01-18T04:41:02.494Z"
   },
   {
    "duration": 8,
    "start_time": "2022-01-18T04:41:02.500Z"
   },
   {
    "duration": 13,
    "start_time": "2022-01-18T04:41:02.509Z"
   },
   {
    "duration": 16,
    "start_time": "2022-01-18T04:41:02.524Z"
   },
   {
    "duration": 8,
    "start_time": "2022-01-18T04:41:02.572Z"
   },
   {
    "duration": 5,
    "start_time": "2022-01-18T04:41:02.581Z"
   },
   {
    "duration": 21,
    "start_time": "2022-01-18T04:41:02.588Z"
   },
   {
    "duration": 17,
    "start_time": "2022-01-18T04:41:02.611Z"
   },
   {
    "duration": 42,
    "start_time": "2022-01-18T04:41:02.629Z"
   },
   {
    "duration": 7,
    "start_time": "2022-01-18T04:41:02.673Z"
   },
   {
    "duration": 11,
    "start_time": "2022-01-18T04:41:02.682Z"
   },
   {
    "duration": 6,
    "start_time": "2022-01-18T04:41:02.694Z"
   },
   {
    "duration": 12,
    "start_time": "2022-01-18T04:41:02.703Z"
   },
   {
    "duration": 12,
    "start_time": "2022-01-18T04:41:02.716Z"
   },
   {
    "duration": 10,
    "start_time": "2022-01-18T04:41:02.729Z"
   },
   {
    "duration": 35,
    "start_time": "2022-01-18T04:41:02.740Z"
   },
   {
    "duration": 12,
    "start_time": "2022-01-18T04:41:02.777Z"
   },
   {
    "duration": 6,
    "start_time": "2022-01-18T04:41:02.791Z"
   },
   {
    "duration": 17,
    "start_time": "2022-01-18T04:41:02.799Z"
   },
   {
    "duration": 13,
    "start_time": "2022-01-18T04:41:02.818Z"
   },
   {
    "duration": 11,
    "start_time": "2022-01-18T04:41:02.833Z"
   },
   {
    "duration": 33,
    "start_time": "2022-01-18T04:41:02.845Z"
   },
   {
    "duration": 24,
    "start_time": "2022-01-18T04:41:02.879Z"
   },
   {
    "duration": 18,
    "start_time": "2022-01-18T04:41:02.905Z"
   },
   {
    "duration": 19,
    "start_time": "2022-01-18T04:41:02.924Z"
   },
   {
    "duration": 63,
    "start_time": "2022-01-18T04:41:02.944Z"
   },
   {
    "duration": 12,
    "start_time": "2022-01-18T04:41:03.008Z"
   },
   {
    "duration": 6912,
    "start_time": "2022-01-18T04:41:03.022Z"
   },
   {
    "duration": 12,
    "start_time": "2022-01-18T04:41:09.935Z"
   },
   {
    "duration": 8,
    "start_time": "2022-01-18T04:41:20.221Z"
   },
   {
    "duration": 67,
    "start_time": "2022-01-18T04:42:46.634Z"
   },
   {
    "duration": 581,
    "start_time": "2022-01-18T04:44:51.028Z"
   },
   {
    "duration": 338,
    "start_time": "2022-01-18T04:44:55.894Z"
   },
   {
    "duration": 305,
    "start_time": "2022-01-18T04:45:12.854Z"
   },
   {
    "duration": 312,
    "start_time": "2022-01-18T04:45:48.091Z"
   },
   {
    "duration": 14,
    "start_time": "2022-01-18T04:45:55.478Z"
   },
   {
    "duration": 20,
    "start_time": "2022-01-18T04:45:57.846Z"
   },
   {
    "duration": 4,
    "start_time": "2022-01-18T04:46:05.146Z"
   },
   {
    "duration": 5,
    "start_time": "2022-01-18T04:46:35.342Z"
   },
   {
    "duration": 14,
    "start_time": "2022-01-18T04:51:02.268Z"
   },
   {
    "duration": 7,
    "start_time": "2022-01-18T04:52:09.235Z"
   },
   {
    "duration": 7,
    "start_time": "2022-01-18T04:52:29.312Z"
   },
   {
    "duration": 5,
    "start_time": "2022-01-18T04:52:45.076Z"
   },
   {
    "duration": 6,
    "start_time": "2022-01-18T04:52:53.197Z"
   },
   {
    "duration": 324,
    "start_time": "2022-01-18T04:53:21.624Z"
   },
   {
    "duration": 310,
    "start_time": "2022-01-18T04:53:31.870Z"
   },
   {
    "duration": 170,
    "start_time": "2022-01-18T04:54:23.274Z"
   },
   {
    "duration": 6,
    "start_time": "2022-01-18T04:54:31.162Z"
   },
   {
    "duration": 6,
    "start_time": "2022-01-18T04:54:44.813Z"
   },
   {
    "duration": 7,
    "start_time": "2022-01-18T04:54:52.965Z"
   },
   {
    "duration": 319,
    "start_time": "2022-01-18T04:56:59.856Z"
   },
   {
    "duration": 6,
    "start_time": "2022-01-18T04:57:06.985Z"
   },
   {
    "duration": 7,
    "start_time": "2022-01-18T05:00:07.519Z"
   },
   {
    "duration": 8718,
    "start_time": "2022-01-18T05:00:14.252Z"
   },
   {
    "duration": 7,
    "start_time": "2022-01-18T05:01:02.336Z"
   },
   {
    "duration": 10244,
    "start_time": "2022-01-18T05:02:36.420Z"
   },
   {
    "duration": 7,
    "start_time": "2022-01-18T05:03:30.237Z"
   },
   {
    "duration": 769,
    "start_time": "2022-01-18T05:03:36.523Z"
   },
   {
    "duration": 33,
    "start_time": "2022-01-18T05:04:36.454Z"
   },
   {
    "duration": 14,
    "start_time": "2022-01-18T05:04:46.343Z"
   },
   {
    "duration": 8412,
    "start_time": "2022-01-18T05:04:57.130Z"
   },
   {
    "duration": 7630,
    "start_time": "2022-01-18T05:07:05.988Z"
   },
   {
    "duration": 8368,
    "start_time": "2022-01-18T05:07:59.424Z"
   },
   {
    "duration": 17,
    "start_time": "2022-01-18T05:08:14.158Z"
   },
   {
    "duration": 5,
    "start_time": "2022-01-18T05:08:25.846Z"
   },
   {
    "duration": 18,
    "start_time": "2022-01-18T05:08:37.024Z"
   },
   {
    "duration": 1070,
    "start_time": "2022-01-18T05:08:44.387Z"
   },
   {
    "duration": 7,
    "start_time": "2022-01-18T05:09:25.003Z"
   },
   {
    "duration": 4,
    "start_time": "2022-01-18T05:09:37.835Z"
   },
   {
    "duration": 5,
    "start_time": "2022-01-18T05:12:40.268Z"
   },
   {
    "duration": 4,
    "start_time": "2022-01-18T05:13:09.796Z"
   },
   {
    "duration": 5,
    "start_time": "2022-01-18T05:13:13.412Z"
   },
   {
    "duration": 4,
    "start_time": "2022-01-18T05:13:17.622Z"
   },
   {
    "duration": 7,
    "start_time": "2022-01-18T05:14:37.518Z"
   },
   {
    "duration": 7,
    "start_time": "2022-01-18T05:14:46.599Z"
   },
   {
    "duration": 6,
    "start_time": "2022-01-18T05:17:31.099Z"
   },
   {
    "duration": 6,
    "start_time": "2022-01-18T05:17:39.224Z"
   },
   {
    "duration": 8318,
    "start_time": "2022-01-18T05:18:06.176Z"
   },
   {
    "duration": 5,
    "start_time": "2022-01-18T05:18:45.383Z"
   },
   {
    "duration": 8126,
    "start_time": "2022-01-18T05:18:47.948Z"
   },
   {
    "duration": 7892,
    "start_time": "2022-01-18T05:21:06.995Z"
   },
   {
    "duration": 5,
    "start_time": "2022-01-18T05:21:29.505Z"
   },
   {
    "duration": 12,
    "start_time": "2022-01-18T05:21:39.572Z"
   },
   {
    "duration": 326,
    "start_time": "2022-01-18T05:22:09.052Z"
   },
   {
    "duration": 333,
    "start_time": "2022-01-18T05:22:20.375Z"
   },
   {
    "duration": 5,
    "start_time": "2022-01-18T05:25:24.043Z"
   },
   {
    "duration": 7,
    "start_time": "2022-01-18T05:25:34.240Z"
   },
   {
    "duration": 7,
    "start_time": "2022-01-18T05:25:42.249Z"
   },
   {
    "duration": 6,
    "start_time": "2022-01-18T05:25:54.840Z"
   },
   {
    "duration": 6,
    "start_time": "2022-01-18T05:26:11.790Z"
   },
   {
    "duration": 6,
    "start_time": "2022-01-18T05:26:16.131Z"
   },
   {
    "duration": 7,
    "start_time": "2022-01-18T05:26:19.863Z"
   },
   {
    "duration": 4,
    "start_time": "2022-01-18T05:26:28.651Z"
   },
   {
    "duration": 8890,
    "start_time": "2022-01-18T05:26:32.704Z"
   },
   {
    "duration": 797,
    "start_time": "2022-01-18T05:28:35.645Z"
   },
   {
    "duration": 5,
    "start_time": "2022-01-18T05:28:50.138Z"
   },
   {
    "duration": 9,
    "start_time": "2022-01-18T05:38:32.016Z"
   },
   {
    "duration": 310,
    "start_time": "2022-01-18T05:41:18.150Z"
   },
   {
    "duration": 21,
    "start_time": "2022-01-18T05:42:14.297Z"
   },
   {
    "duration": 12,
    "start_time": "2022-01-18T05:42:24.175Z"
   },
   {
    "duration": 22,
    "start_time": "2022-01-18T05:42:55.366Z"
   },
   {
    "duration": 10,
    "start_time": "2022-01-18T05:42:57.635Z"
   },
   {
    "duration": 56,
    "start_time": "2022-01-18T05:44:37.650Z"
   },
   {
    "duration": 62,
    "start_time": "2022-01-18T05:45:22.110Z"
   },
   {
    "duration": 401,
    "start_time": "2022-01-18T05:49:05.120Z"
   },
   {
    "duration": 16,
    "start_time": "2022-01-18T05:50:29.263Z"
   },
   {
    "duration": 13,
    "start_time": "2022-01-18T05:50:37.252Z"
   },
   {
    "duration": 17,
    "start_time": "2022-01-18T05:53:52.381Z"
   },
   {
    "duration": 13,
    "start_time": "2022-01-18T05:53:54.549Z"
   },
   {
    "duration": 8,
    "start_time": "2022-01-18T05:54:31.528Z"
   },
   {
    "duration": 4,
    "start_time": "2022-01-18T05:55:25.573Z"
   },
   {
    "duration": 7,
    "start_time": "2022-01-18T05:55:30.480Z"
   },
   {
    "duration": 4,
    "start_time": "2022-01-18T05:55:37.999Z"
   },
   {
    "duration": 7,
    "start_time": "2022-01-18T05:55:42.981Z"
   },
   {
    "duration": 5,
    "start_time": "2022-01-18T06:02:10.894Z"
   },
   {
    "duration": 8924,
    "start_time": "2022-01-18T06:02:21.120Z"
   },
   {
    "duration": 5,
    "start_time": "2022-01-18T06:03:03.914Z"
   },
   {
    "duration": 3799,
    "start_time": "2022-01-18T06:03:08.605Z"
   },
   {
    "duration": 12,
    "start_time": "2022-01-18T06:03:20.001Z"
   },
   {
    "duration": 18,
    "start_time": "2022-01-18T06:06:09.652Z"
   },
   {
    "duration": 13,
    "start_time": "2022-01-18T06:06:12.368Z"
   },
   {
    "duration": 7,
    "start_time": "2022-01-18T06:06:39.692Z"
   },
   {
    "duration": 4,
    "start_time": "2022-01-18T06:06:43.962Z"
   },
   {
    "duration": 6,
    "start_time": "2022-01-18T06:06:45.800Z"
   },
   {
    "duration": 5,
    "start_time": "2022-01-18T06:07:18.811Z"
   },
   {
    "duration": 72,
    "start_time": "2022-01-18T06:07:37.397Z"
   },
   {
    "duration": 18,
    "start_time": "2022-01-18T06:07:39.233Z"
   },
   {
    "duration": 62,
    "start_time": "2022-01-18T06:23:12.258Z"
   },
   {
    "duration": 23,
    "start_time": "2022-01-18T06:28:19.500Z"
   },
   {
    "duration": 10,
    "start_time": "2022-01-18T06:28:55.195Z"
   },
   {
    "duration": 11,
    "start_time": "2022-01-18T06:29:22.511Z"
   },
   {
    "duration": 15,
    "start_time": "2022-01-18T06:29:40.085Z"
   },
   {
    "duration": 5,
    "start_time": "2022-01-18T06:31:19.583Z"
   },
   {
    "duration": 4,
    "start_time": "2022-01-18T06:31:34.249Z"
   },
   {
    "duration": 6,
    "start_time": "2022-01-18T06:35:30.716Z"
   },
   {
    "duration": 74,
    "start_time": "2022-01-18T06:36:42.019Z"
   },
   {
    "duration": 15,
    "start_time": "2022-01-18T06:36:50.471Z"
   },
   {
    "duration": 15,
    "start_time": "2022-01-18T06:37:20.372Z"
   },
   {
    "duration": 1057,
    "start_time": "2022-01-18T06:48:36.246Z"
   },
   {
    "duration": 294,
    "start_time": "2022-01-18T06:48:37.305Z"
   },
   {
    "duration": 5,
    "start_time": "2022-01-18T06:48:37.601Z"
   },
   {
    "duration": 32,
    "start_time": "2022-01-18T06:48:37.608Z"
   },
   {
    "duration": 13,
    "start_time": "2022-01-18T06:48:37.642Z"
   },
   {
    "duration": 25,
    "start_time": "2022-01-18T06:48:37.656Z"
   },
   {
    "duration": 8,
    "start_time": "2022-01-18T06:48:37.684Z"
   },
   {
    "duration": 24,
    "start_time": "2022-01-18T06:48:37.694Z"
   },
   {
    "duration": 10,
    "start_time": "2022-01-18T06:48:37.720Z"
   },
   {
    "duration": 26,
    "start_time": "2022-01-18T06:48:37.731Z"
   },
   {
    "duration": 30,
    "start_time": "2022-01-18T06:48:37.759Z"
   },
   {
    "duration": 22,
    "start_time": "2022-01-18T06:48:37.790Z"
   },
   {
    "duration": 23,
    "start_time": "2022-01-18T06:48:37.813Z"
   },
   {
    "duration": 29,
    "start_time": "2022-01-18T06:48:37.838Z"
   },
   {
    "duration": 16,
    "start_time": "2022-01-18T06:48:37.869Z"
   },
   {
    "duration": 21,
    "start_time": "2022-01-18T06:48:37.887Z"
   },
   {
    "duration": 35,
    "start_time": "2022-01-18T06:48:37.910Z"
   },
   {
    "duration": 19,
    "start_time": "2022-01-18T06:48:37.946Z"
   },
   {
    "duration": 18,
    "start_time": "2022-01-18T06:48:37.967Z"
   },
   {
    "duration": 14,
    "start_time": "2022-01-18T06:48:37.986Z"
   },
   {
    "duration": 30,
    "start_time": "2022-01-18T06:48:38.002Z"
   },
   {
    "duration": 15,
    "start_time": "2022-01-18T06:48:38.034Z"
   },
   {
    "duration": 42,
    "start_time": "2022-01-18T06:48:38.051Z"
   },
   {
    "duration": 22,
    "start_time": "2022-01-18T06:48:38.094Z"
   },
   {
    "duration": 10,
    "start_time": "2022-01-18T06:48:38.121Z"
   },
   {
    "duration": 11,
    "start_time": "2022-01-18T06:48:38.134Z"
   },
   {
    "duration": 28,
    "start_time": "2022-01-18T06:48:38.147Z"
   },
   {
    "duration": 22,
    "start_time": "2022-01-18T06:48:38.177Z"
   },
   {
    "duration": 30,
    "start_time": "2022-01-18T06:48:38.200Z"
   },
   {
    "duration": 16,
    "start_time": "2022-01-18T06:48:38.231Z"
   },
   {
    "duration": 17,
    "start_time": "2022-01-18T06:48:38.249Z"
   },
   {
    "duration": 9,
    "start_time": "2022-01-18T06:48:38.267Z"
   },
   {
    "duration": 26,
    "start_time": "2022-01-18T06:48:38.278Z"
   },
   {
    "duration": 19,
    "start_time": "2022-01-18T06:48:38.306Z"
   },
   {
    "duration": 26,
    "start_time": "2022-01-18T06:48:38.327Z"
   },
   {
    "duration": 35,
    "start_time": "2022-01-18T06:48:38.355Z"
   },
   {
    "duration": 11,
    "start_time": "2022-01-18T06:48:38.391Z"
   },
   {
    "duration": 7168,
    "start_time": "2022-01-18T06:48:38.404Z"
   },
   {
    "duration": 11,
    "start_time": "2022-01-18T06:48:45.574Z"
   },
   {
    "duration": 75,
    "start_time": "2022-01-18T06:48:45.587Z"
   },
   {
    "duration": 19,
    "start_time": "2022-01-18T06:48:45.664Z"
   },
   {
    "duration": 15,
    "start_time": "2022-01-18T06:48:45.685Z"
   },
   {
    "duration": 26,
    "start_time": "2022-01-18T06:48:45.702Z"
   },
   {
    "duration": 47,
    "start_time": "2022-01-18T06:48:45.730Z"
   },
   {
    "duration": 115,
    "start_time": "2022-01-18T06:48:45.778Z"
   },
   {
    "duration": 14,
    "start_time": "2022-01-18T06:48:45.895Z"
   },
   {
    "duration": 29,
    "start_time": "2022-01-18T06:48:45.911Z"
   },
   {
    "duration": 20,
    "start_time": "2022-01-18T06:48:45.941Z"
   },
   {
    "duration": 50,
    "start_time": "2022-01-18T06:48:45.963Z"
   },
   {
    "duration": 32,
    "start_time": "2022-01-18T06:48:46.014Z"
   },
   {
    "duration": 21,
    "start_time": "2022-01-18T06:48:46.047Z"
   },
   {
    "duration": 192,
    "start_time": "2022-01-18T06:48:46.069Z"
   },
   {
    "duration": 172,
    "start_time": "2022-01-18T06:48:46.263Z"
   },
   {
    "duration": 6,
    "start_time": "2022-01-18T06:48:46.437Z"
   },
   {
    "duration": 25,
    "start_time": "2022-01-18T06:48:46.444Z"
   },
   {
    "duration": 3,
    "start_time": "2022-01-18T06:48:46.471Z"
   },
   {
    "duration": 26,
    "start_time": "2022-01-18T06:48:46.476Z"
   },
   {
    "duration": 196,
    "start_time": "2022-01-18T06:48:46.503Z"
   },
   {
    "duration": 174,
    "start_time": "2022-01-18T06:48:46.700Z"
   },
   {
    "duration": 6,
    "start_time": "2022-01-18T06:48:46.875Z"
   },
   {
    "duration": 41,
    "start_time": "2022-01-18T06:48:46.882Z"
   },
   {
    "duration": 24,
    "start_time": "2022-01-18T06:48:46.924Z"
   },
   {
    "duration": 16,
    "start_time": "2022-01-18T06:48:46.949Z"
   },
   {
    "duration": 233,
    "start_time": "2022-01-18T06:48:46.967Z"
   },
   {
    "duration": 204,
    "start_time": "2022-01-18T06:48:47.202Z"
   },
   {
    "duration": 6,
    "start_time": "2022-01-18T06:48:47.407Z"
   },
   {
    "duration": 30,
    "start_time": "2022-01-18T06:48:47.415Z"
   },
   {
    "duration": 14,
    "start_time": "2022-01-18T06:48:47.446Z"
   },
   {
    "duration": 25,
    "start_time": "2022-01-18T06:48:47.462Z"
   },
   {
    "duration": 197,
    "start_time": "2022-01-18T06:48:47.488Z"
   },
   {
    "duration": 174,
    "start_time": "2022-01-18T06:48:47.687Z"
   },
   {
    "duration": 10,
    "start_time": "2022-01-18T06:48:47.863Z"
   },
   {
    "duration": 18,
    "start_time": "2022-01-18T06:48:47.875Z"
   },
   {
    "duration": 34,
    "start_time": "2022-01-18T06:48:47.894Z"
   },
   {
    "duration": 23,
    "start_time": "2022-01-18T06:48:47.930Z"
   },
   {
    "duration": 245,
    "start_time": "2022-01-18T06:48:47.955Z"
   },
   {
    "duration": 178,
    "start_time": "2022-01-18T06:48:48.202Z"
   },
   {
    "duration": 4,
    "start_time": "2022-01-18T06:48:48.382Z"
   },
   {
    "duration": 38,
    "start_time": "2022-01-18T06:48:48.390Z"
   },
   {
    "duration": 36,
    "start_time": "2022-01-18T06:48:48.430Z"
   },
   {
    "duration": 27,
    "start_time": "2022-01-18T06:48:48.468Z"
   },
   {
    "duration": 33,
    "start_time": "2022-01-18T06:48:48.496Z"
   },
   {
    "duration": 18,
    "start_time": "2022-01-18T06:48:48.531Z"
   },
   {
    "duration": 34,
    "start_time": "2022-01-18T06:48:48.550Z"
   },
   {
    "duration": 1460,
    "start_time": "2022-01-18T07:52:14.571Z"
   },
   {
    "duration": 1065,
    "start_time": "2022-01-18T07:52:16.033Z"
   },
   {
    "duration": 14,
    "start_time": "2022-01-18T07:52:17.101Z"
   },
   {
    "duration": 20,
    "start_time": "2022-01-18T07:52:17.118Z"
   },
   {
    "duration": 14,
    "start_time": "2022-01-18T07:52:17.141Z"
   },
   {
    "duration": 17,
    "start_time": "2022-01-18T07:52:17.157Z"
   },
   {
    "duration": 8,
    "start_time": "2022-01-18T07:52:17.177Z"
   },
   {
    "duration": 26,
    "start_time": "2022-01-18T07:52:17.188Z"
   },
   {
    "duration": 42,
    "start_time": "2022-01-18T07:52:17.218Z"
   },
   {
    "duration": 16,
    "start_time": "2022-01-18T07:52:17.263Z"
   },
   {
    "duration": 7,
    "start_time": "2022-01-18T07:52:17.282Z"
   },
   {
    "duration": 6,
    "start_time": "2022-01-18T07:52:17.291Z"
   },
   {
    "duration": 11,
    "start_time": "2022-01-18T07:52:17.299Z"
   },
   {
    "duration": 67,
    "start_time": "2022-01-18T07:52:17.312Z"
   },
   {
    "duration": 11,
    "start_time": "2022-01-18T07:52:17.381Z"
   },
   {
    "duration": 9,
    "start_time": "2022-01-18T07:52:17.395Z"
   },
   {
    "duration": 53,
    "start_time": "2022-01-18T07:52:17.406Z"
   },
   {
    "duration": 28,
    "start_time": "2022-01-18T07:52:17.462Z"
   },
   {
    "duration": 22,
    "start_time": "2022-01-18T07:52:17.493Z"
   },
   {
    "duration": 14,
    "start_time": "2022-01-18T07:52:17.517Z"
   },
   {
    "duration": 24,
    "start_time": "2022-01-18T07:52:17.561Z"
   },
   {
    "duration": 12,
    "start_time": "2022-01-18T07:52:17.588Z"
   },
   {
    "duration": 64,
    "start_time": "2022-01-18T07:52:17.602Z"
   },
   {
    "duration": 28,
    "start_time": "2022-01-18T07:52:17.668Z"
   },
   {
    "duration": 15,
    "start_time": "2022-01-18T07:52:17.699Z"
   },
   {
    "duration": 44,
    "start_time": "2022-01-18T07:52:17.717Z"
   },
   {
    "duration": 24,
    "start_time": "2022-01-18T07:52:17.769Z"
   },
   {
    "duration": 12,
    "start_time": "2022-01-18T07:52:17.797Z"
   },
   {
    "duration": 59,
    "start_time": "2022-01-18T07:52:17.811Z"
   },
   {
    "duration": 28,
    "start_time": "2022-01-18T07:52:17.872Z"
   },
   {
    "duration": 18,
    "start_time": "2022-01-18T07:52:17.903Z"
   },
   {
    "duration": 41,
    "start_time": "2022-01-18T07:52:17.924Z"
   },
   {
    "duration": 38,
    "start_time": "2022-01-18T07:52:17.968Z"
   },
   {
    "duration": 54,
    "start_time": "2022-01-18T07:52:18.008Z"
   },
   {
    "duration": 30,
    "start_time": "2022-01-18T07:52:18.064Z"
   },
   {
    "duration": 35,
    "start_time": "2022-01-18T07:52:18.096Z"
   },
   {
    "duration": 12,
    "start_time": "2022-01-18T07:52:18.160Z"
   },
   {
    "duration": 11018,
    "start_time": "2022-01-18T07:52:18.175Z"
   },
   {
    "duration": 19,
    "start_time": "2022-01-18T07:52:29.196Z"
   },
   {
    "duration": 119,
    "start_time": "2022-01-18T07:52:29.217Z"
   },
   {
    "duration": 37,
    "start_time": "2022-01-18T07:52:29.338Z"
   },
   {
    "duration": 21,
    "start_time": "2022-01-18T07:52:29.378Z"
   },
   {
    "duration": 5,
    "start_time": "2022-01-18T07:52:29.402Z"
   },
   {
    "duration": 8,
    "start_time": "2022-01-18T07:52:29.409Z"
   },
   {
    "duration": 115,
    "start_time": "2022-01-18T07:52:29.420Z"
   },
   {
    "duration": 30,
    "start_time": "2022-01-18T07:52:29.537Z"
   },
   {
    "duration": 10,
    "start_time": "2022-01-18T07:52:29.571Z"
   },
   {
    "duration": 12,
    "start_time": "2022-01-18T07:52:29.583Z"
   },
   {
    "duration": 12,
    "start_time": "2022-01-18T07:52:29.597Z"
   },
   {
    "duration": 10,
    "start_time": "2022-01-18T07:52:29.611Z"
   },
   {
    "duration": 39,
    "start_time": "2022-01-18T07:52:29.624Z"
   },
   {
    "duration": 1420,
    "start_time": "2022-01-18T07:52:29.665Z"
   },
   {
    "duration": 420,
    "start_time": "2022-01-18T07:52:31.088Z"
   },
   {
    "duration": 12,
    "start_time": "2022-01-18T07:52:31.511Z"
   },
   {
    "duration": 37,
    "start_time": "2022-01-18T07:52:31.526Z"
   },
   {
    "duration": 7,
    "start_time": "2022-01-18T07:52:31.565Z"
   },
   {
    "duration": 7,
    "start_time": "2022-01-18T07:52:31.575Z"
   },
   {
    "duration": 355,
    "start_time": "2022-01-18T07:52:31.584Z"
   },
   {
    "duration": 362,
    "start_time": "2022-01-18T07:52:31.942Z"
   },
   {
    "duration": 10,
    "start_time": "2022-01-18T07:52:32.307Z"
   },
   {
    "duration": 12,
    "start_time": "2022-01-18T07:52:32.320Z"
   },
   {
    "duration": 7,
    "start_time": "2022-01-18T07:52:32.360Z"
   },
   {
    "duration": 7,
    "start_time": "2022-01-18T07:52:32.370Z"
   },
   {
    "duration": 358,
    "start_time": "2022-01-18T07:52:32.380Z"
   },
   {
    "duration": 427,
    "start_time": "2022-01-18T07:52:32.741Z"
   },
   {
    "duration": 12,
    "start_time": "2022-01-18T07:52:33.171Z"
   },
   {
    "duration": 11,
    "start_time": "2022-01-18T07:52:33.186Z"
   },
   {
    "duration": 6,
    "start_time": "2022-01-18T07:52:33.200Z"
   },
   {
    "duration": 50,
    "start_time": "2022-01-18T07:52:33.209Z"
   },
   {
    "duration": 373,
    "start_time": "2022-01-18T07:52:33.262Z"
   },
   {
    "duration": 390,
    "start_time": "2022-01-18T07:52:33.638Z"
   },
   {
    "duration": 11,
    "start_time": "2022-01-18T07:52:34.031Z"
   },
   {
    "duration": 9,
    "start_time": "2022-01-18T07:52:34.060Z"
   },
   {
    "duration": 9,
    "start_time": "2022-01-18T07:52:34.071Z"
   },
   {
    "duration": 7,
    "start_time": "2022-01-18T07:52:34.082Z"
   },
   {
    "duration": 385,
    "start_time": "2022-01-18T07:52:34.092Z"
   },
   {
    "duration": 404,
    "start_time": "2022-01-18T07:52:34.479Z"
   },
   {
    "duration": 7,
    "start_time": "2022-01-18T07:52:34.886Z"
   },
   {
    "duration": 8,
    "start_time": "2022-01-18T07:52:34.896Z"
   },
   {
    "duration": 7,
    "start_time": "2022-01-18T07:52:34.906Z"
   },
   {
    "duration": 39,
    "start_time": "2022-01-18T07:52:34.922Z"
   },
   {
    "duration": 5,
    "start_time": "2022-01-18T07:52:34.964Z"
   },
   {
    "duration": 9,
    "start_time": "2022-01-18T07:52:34.971Z"
   },
   {
    "duration": 7,
    "start_time": "2022-01-18T07:52:34.982Z"
   },
   {
    "duration": 23,
    "start_time": "2022-01-18T07:53:29.939Z"
   }
  ],
  "kernelspec": {
   "display_name": "Python 3 (ipykernel)",
   "language": "python",
   "name": "python3"
  },
  "language_info": {
   "codemirror_mode": {
    "name": "ipython",
    "version": 3
   },
   "file_extension": ".py",
   "mimetype": "text/x-python",
   "name": "python",
   "nbconvert_exporter": "python",
   "pygments_lexer": "ipython3",
   "version": "3.9.7"
  },
  "toc": {
   "base_numbering": 1,
   "nav_menu": {},
   "number_sections": false,
   "sideBar": true,
   "skip_h1_title": false,
   "title_cell": "Table of Contents",
   "title_sidebar": "Contents",
   "toc_cell": false,
   "toc_position": {},
   "toc_section_display": true,
   "toc_window_display": false
  }
 },
 "nbformat": 4,
 "nbformat_minor": 2
}
