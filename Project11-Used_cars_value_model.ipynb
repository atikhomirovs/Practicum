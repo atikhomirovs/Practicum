{
 "cells": [
  {
   "cell_type": "markdown",
   "metadata": {},
   "source": [
    "# Used cars value model\n",
    "\n",
    "Rusty Bargain used car sales service is developing an app to attract new customers. In that app, you can quickly find out the market value of your car. You have access to historical data: technical specifications, trim versions, and prices. You need to build the model to determine the value. \n",
    "\n",
    "Rusty Bargain is interested in:\n",
    "\n",
    "- the quality of the prediction;\n",
    "- the speed of the prediction;\n",
    "- the time required for training"
   ]
  },
  {
   "cell_type": "markdown",
   "metadata": {},
   "source": [
    "## Data preparation"
   ]
  },
  {
   "cell_type": "markdown",
   "metadata": {},
   "source": [
    "First of all, will load the data and the libraries that we will use in this project."
   ]
  },
  {
   "cell_type": "code",
   "execution_count": 1,
   "metadata": {},
   "outputs": [],
   "source": [
    "# Loading all required libraries\n",
    "import pandas as pd\n",
    "from lightgbm import LGBMRegressor\n",
    "from catboost import CatBoostRegressor\n",
    "from sklearn.linear_model import LinearRegression\n",
    "from sklearn.ensemble import RandomForestRegressor\n",
    "from sklearn.model_selection import GridSearchCV\n",
    "from sklearn.model_selection import train_test_split \n",
    "from sklearn.preprocessing import OrdinalEncoder\n",
    "from sklearn.metrics import mean_squared_error\n",
    "from sklearn.model_selection import cross_val_score\n",
    "from sklearn.metrics import make_scorer\n",
    "import time"
   ]
  },
  {
   "cell_type": "code",
   "execution_count": 2,
   "metadata": {},
   "outputs": [],
   "source": [
    "# Loading the data files into DataFrame\n",
    "df=pd.read_csv('/datasets/car_data.csv')"
   ]
  },
  {
   "cell_type": "markdown",
   "metadata": {},
   "source": [
    "We will display general data info and a sample of the data."
   ]
  },
  {
   "cell_type": "code",
   "execution_count": 3,
   "metadata": {},
   "outputs": [
    {
     "name": "stdout",
     "output_type": "stream",
     "text": [
      "<class 'pandas.core.frame.DataFrame'>\n",
      "RangeIndex: 354369 entries, 0 to 354368\n",
      "Data columns (total 16 columns):\n",
      " #   Column             Non-Null Count   Dtype \n",
      "---  ------             --------------   ----- \n",
      " 0   DateCrawled        354369 non-null  object\n",
      " 1   Price              354369 non-null  int64 \n",
      " 2   VehicleType        316879 non-null  object\n",
      " 3   RegistrationYear   354369 non-null  int64 \n",
      " 4   Gearbox            334536 non-null  object\n",
      " 5   Power              354369 non-null  int64 \n",
      " 6   Model              334664 non-null  object\n",
      " 7   Mileage            354369 non-null  int64 \n",
      " 8   RegistrationMonth  354369 non-null  int64 \n",
      " 9   FuelType           321474 non-null  object\n",
      " 10  Brand              354369 non-null  object\n",
      " 11  NotRepaired        283215 non-null  object\n",
      " 12  DateCreated        354369 non-null  object\n",
      " 13  NumberOfPictures   354369 non-null  int64 \n",
      " 14  PostalCode         354369 non-null  int64 \n",
      " 15  LastSeen           354369 non-null  object\n",
      "dtypes: int64(7), object(9)\n",
      "memory usage: 43.3+ MB\n"
     ]
    }
   ],
   "source": [
    "# printing the general/summary information about the DataFrame\n",
    "df.info()"
   ]
  },
  {
   "cell_type": "code",
   "execution_count": 4,
   "metadata": {},
   "outputs": [
    {
     "data": {
      "text/html": [
       "<div>\n",
       "<style scoped>\n",
       "    .dataframe tbody tr th:only-of-type {\n",
       "        vertical-align: middle;\n",
       "    }\n",
       "\n",
       "    .dataframe tbody tr th {\n",
       "        vertical-align: top;\n",
       "    }\n",
       "\n",
       "    .dataframe thead th {\n",
       "        text-align: right;\n",
       "    }\n",
       "</style>\n",
       "<table border=\"1\" class=\"dataframe\">\n",
       "  <thead>\n",
       "    <tr style=\"text-align: right;\">\n",
       "      <th></th>\n",
       "      <th>DateCrawled</th>\n",
       "      <th>Price</th>\n",
       "      <th>VehicleType</th>\n",
       "      <th>RegistrationYear</th>\n",
       "      <th>Gearbox</th>\n",
       "      <th>Power</th>\n",
       "      <th>Model</th>\n",
       "      <th>Mileage</th>\n",
       "      <th>RegistrationMonth</th>\n",
       "      <th>FuelType</th>\n",
       "      <th>Brand</th>\n",
       "      <th>NotRepaired</th>\n",
       "      <th>DateCreated</th>\n",
       "      <th>NumberOfPictures</th>\n",
       "      <th>PostalCode</th>\n",
       "      <th>LastSeen</th>\n",
       "    </tr>\n",
       "  </thead>\n",
       "  <tbody>\n",
       "    <tr>\n",
       "      <th>0</th>\n",
       "      <td>24/03/2016 11:52</td>\n",
       "      <td>480</td>\n",
       "      <td>NaN</td>\n",
       "      <td>1993</td>\n",
       "      <td>manual</td>\n",
       "      <td>0</td>\n",
       "      <td>golf</td>\n",
       "      <td>150000</td>\n",
       "      <td>0</td>\n",
       "      <td>petrol</td>\n",
       "      <td>volkswagen</td>\n",
       "      <td>NaN</td>\n",
       "      <td>24/03/2016 00:00</td>\n",
       "      <td>0</td>\n",
       "      <td>70435</td>\n",
       "      <td>07/04/2016 03:16</td>\n",
       "    </tr>\n",
       "    <tr>\n",
       "      <th>1</th>\n",
       "      <td>24/03/2016 10:58</td>\n",
       "      <td>18300</td>\n",
       "      <td>coupe</td>\n",
       "      <td>2011</td>\n",
       "      <td>manual</td>\n",
       "      <td>190</td>\n",
       "      <td>NaN</td>\n",
       "      <td>125000</td>\n",
       "      <td>5</td>\n",
       "      <td>gasoline</td>\n",
       "      <td>audi</td>\n",
       "      <td>yes</td>\n",
       "      <td>24/03/2016 00:00</td>\n",
       "      <td>0</td>\n",
       "      <td>66954</td>\n",
       "      <td>07/04/2016 01:46</td>\n",
       "    </tr>\n",
       "    <tr>\n",
       "      <th>2</th>\n",
       "      <td>14/03/2016 12:52</td>\n",
       "      <td>9800</td>\n",
       "      <td>suv</td>\n",
       "      <td>2004</td>\n",
       "      <td>auto</td>\n",
       "      <td>163</td>\n",
       "      <td>grand</td>\n",
       "      <td>125000</td>\n",
       "      <td>8</td>\n",
       "      <td>gasoline</td>\n",
       "      <td>jeep</td>\n",
       "      <td>NaN</td>\n",
       "      <td>14/03/2016 00:00</td>\n",
       "      <td>0</td>\n",
       "      <td>90480</td>\n",
       "      <td>05/04/2016 12:47</td>\n",
       "    </tr>\n",
       "    <tr>\n",
       "      <th>3</th>\n",
       "      <td>17/03/2016 16:54</td>\n",
       "      <td>1500</td>\n",
       "      <td>small</td>\n",
       "      <td>2001</td>\n",
       "      <td>manual</td>\n",
       "      <td>75</td>\n",
       "      <td>golf</td>\n",
       "      <td>150000</td>\n",
       "      <td>6</td>\n",
       "      <td>petrol</td>\n",
       "      <td>volkswagen</td>\n",
       "      <td>no</td>\n",
       "      <td>17/03/2016 00:00</td>\n",
       "      <td>0</td>\n",
       "      <td>91074</td>\n",
       "      <td>17/03/2016 17:40</td>\n",
       "    </tr>\n",
       "    <tr>\n",
       "      <th>4</th>\n",
       "      <td>31/03/2016 17:25</td>\n",
       "      <td>3600</td>\n",
       "      <td>small</td>\n",
       "      <td>2008</td>\n",
       "      <td>manual</td>\n",
       "      <td>69</td>\n",
       "      <td>fabia</td>\n",
       "      <td>90000</td>\n",
       "      <td>7</td>\n",
       "      <td>gasoline</td>\n",
       "      <td>skoda</td>\n",
       "      <td>no</td>\n",
       "      <td>31/03/2016 00:00</td>\n",
       "      <td>0</td>\n",
       "      <td>60437</td>\n",
       "      <td>06/04/2016 10:17</td>\n",
       "    </tr>\n",
       "    <tr>\n",
       "      <th>5</th>\n",
       "      <td>04/04/2016 17:36</td>\n",
       "      <td>650</td>\n",
       "      <td>sedan</td>\n",
       "      <td>1995</td>\n",
       "      <td>manual</td>\n",
       "      <td>102</td>\n",
       "      <td>3er</td>\n",
       "      <td>150000</td>\n",
       "      <td>10</td>\n",
       "      <td>petrol</td>\n",
       "      <td>bmw</td>\n",
       "      <td>yes</td>\n",
       "      <td>04/04/2016 00:00</td>\n",
       "      <td>0</td>\n",
       "      <td>33775</td>\n",
       "      <td>06/04/2016 19:17</td>\n",
       "    </tr>\n",
       "    <tr>\n",
       "      <th>6</th>\n",
       "      <td>01/04/2016 20:48</td>\n",
       "      <td>2200</td>\n",
       "      <td>convertible</td>\n",
       "      <td>2004</td>\n",
       "      <td>manual</td>\n",
       "      <td>109</td>\n",
       "      <td>2_reihe</td>\n",
       "      <td>150000</td>\n",
       "      <td>8</td>\n",
       "      <td>petrol</td>\n",
       "      <td>peugeot</td>\n",
       "      <td>no</td>\n",
       "      <td>01/04/2016 00:00</td>\n",
       "      <td>0</td>\n",
       "      <td>67112</td>\n",
       "      <td>05/04/2016 18:18</td>\n",
       "    </tr>\n",
       "    <tr>\n",
       "      <th>7</th>\n",
       "      <td>21/03/2016 18:54</td>\n",
       "      <td>0</td>\n",
       "      <td>sedan</td>\n",
       "      <td>1980</td>\n",
       "      <td>manual</td>\n",
       "      <td>50</td>\n",
       "      <td>other</td>\n",
       "      <td>40000</td>\n",
       "      <td>7</td>\n",
       "      <td>petrol</td>\n",
       "      <td>volkswagen</td>\n",
       "      <td>no</td>\n",
       "      <td>21/03/2016 00:00</td>\n",
       "      <td>0</td>\n",
       "      <td>19348</td>\n",
       "      <td>25/03/2016 16:47</td>\n",
       "    </tr>\n",
       "    <tr>\n",
       "      <th>8</th>\n",
       "      <td>04/04/2016 23:42</td>\n",
       "      <td>14500</td>\n",
       "      <td>bus</td>\n",
       "      <td>2014</td>\n",
       "      <td>manual</td>\n",
       "      <td>125</td>\n",
       "      <td>c_max</td>\n",
       "      <td>30000</td>\n",
       "      <td>8</td>\n",
       "      <td>petrol</td>\n",
       "      <td>ford</td>\n",
       "      <td>NaN</td>\n",
       "      <td>04/04/2016 00:00</td>\n",
       "      <td>0</td>\n",
       "      <td>94505</td>\n",
       "      <td>04/04/2016 23:42</td>\n",
       "    </tr>\n",
       "    <tr>\n",
       "      <th>9</th>\n",
       "      <td>17/03/2016 10:53</td>\n",
       "      <td>999</td>\n",
       "      <td>small</td>\n",
       "      <td>1998</td>\n",
       "      <td>manual</td>\n",
       "      <td>101</td>\n",
       "      <td>golf</td>\n",
       "      <td>150000</td>\n",
       "      <td>0</td>\n",
       "      <td>NaN</td>\n",
       "      <td>volkswagen</td>\n",
       "      <td>NaN</td>\n",
       "      <td>17/03/2016 00:00</td>\n",
       "      <td>0</td>\n",
       "      <td>27472</td>\n",
       "      <td>31/03/2016 17:17</td>\n",
       "    </tr>\n",
       "  </tbody>\n",
       "</table>\n",
       "</div>"
      ],
      "text/plain": [
       "        DateCrawled  Price  VehicleType  RegistrationYear Gearbox  Power  \\\n",
       "0  24/03/2016 11:52    480          NaN              1993  manual      0   \n",
       "1  24/03/2016 10:58  18300        coupe              2011  manual    190   \n",
       "2  14/03/2016 12:52   9800          suv              2004    auto    163   \n",
       "3  17/03/2016 16:54   1500        small              2001  manual     75   \n",
       "4  31/03/2016 17:25   3600        small              2008  manual     69   \n",
       "5  04/04/2016 17:36    650        sedan              1995  manual    102   \n",
       "6  01/04/2016 20:48   2200  convertible              2004  manual    109   \n",
       "7  21/03/2016 18:54      0        sedan              1980  manual     50   \n",
       "8  04/04/2016 23:42  14500          bus              2014  manual    125   \n",
       "9  17/03/2016 10:53    999        small              1998  manual    101   \n",
       "\n",
       "     Model  Mileage  RegistrationMonth  FuelType       Brand NotRepaired  \\\n",
       "0     golf   150000                  0    petrol  volkswagen         NaN   \n",
       "1      NaN   125000                  5  gasoline        audi         yes   \n",
       "2    grand   125000                  8  gasoline        jeep         NaN   \n",
       "3     golf   150000                  6    petrol  volkswagen          no   \n",
       "4    fabia    90000                  7  gasoline       skoda          no   \n",
       "5      3er   150000                 10    petrol         bmw         yes   \n",
       "6  2_reihe   150000                  8    petrol     peugeot          no   \n",
       "7    other    40000                  7    petrol  volkswagen          no   \n",
       "8    c_max    30000                  8    petrol        ford         NaN   \n",
       "9     golf   150000                  0       NaN  volkswagen         NaN   \n",
       "\n",
       "        DateCreated  NumberOfPictures  PostalCode          LastSeen  \n",
       "0  24/03/2016 00:00                 0       70435  07/04/2016 03:16  \n",
       "1  24/03/2016 00:00                 0       66954  07/04/2016 01:46  \n",
       "2  14/03/2016 00:00                 0       90480  05/04/2016 12:47  \n",
       "3  17/03/2016 00:00                 0       91074  17/03/2016 17:40  \n",
       "4  31/03/2016 00:00                 0       60437  06/04/2016 10:17  \n",
       "5  04/04/2016 00:00                 0       33775  06/04/2016 19:17  \n",
       "6  01/04/2016 00:00                 0       67112  05/04/2016 18:18  \n",
       "7  21/03/2016 00:00                 0       19348  25/03/2016 16:47  \n",
       "8  04/04/2016 00:00                 0       94505  04/04/2016 23:42  \n",
       "9  17/03/2016 00:00                 0       27472  31/03/2016 17:17  "
      ]
     },
     "execution_count": 4,
     "metadata": {},
     "output_type": "execute_result"
    }
   ],
   "source": [
    "# printing a sample of data\n",
    "df.head(10)"
   ]
  },
  {
   "cell_type": "markdown",
   "metadata": {},
   "source": [
    "As can be seen, there are many missing values. Let's calculate the percentage of them."
   ]
  },
  {
   "cell_type": "code",
   "execution_count": 5,
   "metadata": {},
   "outputs": [
    {
     "data": {
      "text/plain": [
       "DateCrawled           0.000000\n",
       "Price                 0.000000\n",
       "VehicleType          10.579368\n",
       "RegistrationYear      0.000000\n",
       "Gearbox               5.596709\n",
       "Power                 0.000000\n",
       "Model                 5.560588\n",
       "Mileage               0.000000\n",
       "RegistrationMonth     0.000000\n",
       "FuelType              9.282697\n",
       "Brand                 0.000000\n",
       "NotRepaired          20.079070\n",
       "DateCreated           0.000000\n",
       "NumberOfPictures      0.000000\n",
       "PostalCode            0.000000\n",
       "LastSeen              0.000000\n",
       "dtype: float64"
      ]
     },
     "execution_count": 5,
     "metadata": {},
     "output_type": "execute_result"
    }
   ],
   "source": [
    "#calculating percent of missing values\n",
    "((df.isna().sum() / df.shape[0]))*100"
   ]
  },
  {
   "cell_type": "markdown",
   "metadata": {},
   "source": [
    "VehicleType, Gearbox,Model and FuelType columns miss 5 to 10 percent of values. The data set is big enough to drop missing values in these fields. We will only fill missing values for NotRepaired as it has 20% of missing values. Let’s check which values it has."
   ]
  },
  {
   "cell_type": "code",
   "execution_count": 6,
   "metadata": {},
   "outputs": [
    {
     "data": {
      "text/plain": [
       "no     247161\n",
       "yes     36054\n",
       "Name: NotRepaired, dtype: int64"
      ]
     },
     "execution_count": 6,
     "metadata": {},
     "output_type": "execute_result"
    }
   ],
   "source": [
    "#Displaying unique values in NotRepaired column\n",
    "df['NotRepaired'].value_counts()"
   ]
  },
  {
   "cell_type": "markdown",
   "metadata": {},
   "source": [
    "There are only yes and no values. We cannot determine what are the missing values, therefore with will replace them with the `unknown` category."
   ]
  },
  {
   "cell_type": "code",
   "execution_count": 7,
   "metadata": {},
   "outputs": [],
   "source": [
    "#filling missing values in NotRepaired column with unknown category\n",
    "df['NotRepaired']=df['NotRepaired'].fillna('unknown')"
   ]
  },
  {
   "cell_type": "code",
   "execution_count": 8,
   "metadata": {},
   "outputs": [
    {
     "data": {
      "text/plain": [
       "no         247161\n",
       "unknown     71154\n",
       "yes         36054\n",
       "Name: NotRepaired, dtype: int64"
      ]
     },
     "execution_count": 8,
     "metadata": {},
     "output_type": "execute_result"
    }
   ],
   "source": [
    "#confirming that the values were filled successfully\n",
    "df['NotRepaired'].value_counts()"
   ]
  },
  {
   "cell_type": "markdown",
   "metadata": {},
   "source": [
    "The values were filled. Next, we will drop null values in all other columns."
   ]
  },
  {
   "cell_type": "code",
   "execution_count": 9,
   "metadata": {},
   "outputs": [],
   "source": [
    "#dropping null values \n",
    "df=df.dropna()"
   ]
  },
  {
   "cell_type": "code",
   "execution_count": 10,
   "metadata": {},
   "outputs": [
    {
     "name": "stdout",
     "output_type": "stream",
     "text": [
      "<class 'pandas.core.frame.DataFrame'>\n",
      "Int64Index: 284126 entries, 2 to 354368\n",
      "Data columns (total 16 columns):\n",
      " #   Column             Non-Null Count   Dtype \n",
      "---  ------             --------------   ----- \n",
      " 0   DateCrawled        284126 non-null  object\n",
      " 1   Price              284126 non-null  int64 \n",
      " 2   VehicleType        284126 non-null  object\n",
      " 3   RegistrationYear   284126 non-null  int64 \n",
      " 4   Gearbox            284126 non-null  object\n",
      " 5   Power              284126 non-null  int64 \n",
      " 6   Model              284126 non-null  object\n",
      " 7   Mileage            284126 non-null  int64 \n",
      " 8   RegistrationMonth  284126 non-null  int64 \n",
      " 9   FuelType           284126 non-null  object\n",
      " 10  Brand              284126 non-null  object\n",
      " 11  NotRepaired        284126 non-null  object\n",
      " 12  DateCreated        284126 non-null  object\n",
      " 13  NumberOfPictures   284126 non-null  int64 \n",
      " 14  PostalCode         284126 non-null  int64 \n",
      " 15  LastSeen           284126 non-null  object\n",
      "dtypes: int64(7), object(9)\n",
      "memory usage: 36.9+ MB\n"
     ]
    }
   ],
   "source": [
    "#Confirming that no missing values left\n",
    "df.info()"
   ]
  },
  {
   "cell_type": "markdown",
   "metadata": {},
   "source": [
    "After dropping missing values, the dataset has 284126 rows which should be more than enough for our task.\n",
    "\n",
    "Also, based on the dataset description, 'DateCrawled', 'DateCreated', and 'LastSeen' are related to user profile and not related to the price of a car therefore we will drop these columns."
   ]
  },
  {
   "cell_type": "code",
   "execution_count": 11,
   "metadata": {},
   "outputs": [],
   "source": [
    "#dropping columns\n",
    "df=df.drop(['DateCrawled', 'DateCreated', 'LastSeen'], axis=1)\n",
    "#resetting index after the drop \n",
    "df=df.reset_index(drop=True)"
   ]
  },
  {
   "cell_type": "markdown",
   "metadata": {},
   "source": [
    "Next, we will prepare training and test features and target sets. Since LightGBM and CatBoost do not require encoding, we will create separate training and test features and target sets."
   ]
  },
  {
   "cell_type": "code",
   "execution_count": 12,
   "metadata": {},
   "outputs": [],
   "source": [
    "#prepare training and test features and target sets for LightGBM and CatBoost\n",
    "gb_features=df.drop('Price', axis=1)\n",
    "gb_target=df['Price']\n",
    "gb_features_train, gb_features_test, gb_target_train, gb_target_test=train_test_split(gb_features, gb_target, test_size=0.25,\n",
    "                                                                 random_state=12345)\n",
    "\n",
    "#defining fetures for encoding for other models\n",
    "features_to_encode=['VehicleType', 'RegistrationYear', 'Gearbox', 'Model', 'RegistrationMonth',\n",
    "         'FuelType', 'Brand', 'NotRepaired', 'PostalCode']\n",
    "\n",
    "#encoding features using ordinal encoder\n",
    "encoder=OrdinalEncoder() \n",
    "df[features_to_encode]=encoder.fit_transform(df[features_to_encode])\n",
    "\n",
    "#prepare training and test features and target sets for other models\n",
    "features=df.drop('Price', axis=1)\n",
    "target=df['Price']\n",
    "features_train, features_test, target_train, target_test=train_test_split(features, target, test_size=0.25,\n",
    "                                                                 random_state=12345)"
   ]
  },
  {
   "cell_type": "markdown",
   "metadata": {},
   "source": [
    "Now we are ready to build our models."
   ]
  },
  {
   "cell_type": "markdown",
   "metadata": {},
   "source": [
    "## Model training\n",
    "\n",
    "At this step, we will train different models with various hyperparameters. We will train Linear regression, Random Forest, CatBoost, and LightGBM models. We will use Linear regression as a base model to perform a sanity check of other methods."
   ]
  },
  {
   "cell_type": "markdown",
   "metadata": {},
   "source": [
    "## Linear Regression\n",
    "\n",
    "We will start with Linear Regression. We will train it on the training set, test it on the test set and calculate RMSE."
   ]
  },
  {
   "cell_type": "code",
   "execution_count": 13,
   "metadata": {},
   "outputs": [
    {
     "data": {
      "text/plain": [
       "0.08089590072631836"
      ]
     },
     "execution_count": 13,
     "metadata": {},
     "output_type": "execute_result"
    }
   ],
   "source": [
    "#training LinearRegression models and printing time that requires to train the model\n",
    "start_time=time.time()\n",
    "model=LinearRegression()\n",
    "model.fit(features_train, target_train)\n",
    "lr_tr_time=time.time() - start_time\n",
    "lr_tr_time"
   ]
  },
  {
   "cell_type": "code",
   "execution_count": 14,
   "metadata": {},
   "outputs": [
    {
     "data": {
      "text/plain": [
       "0.006867170333862305"
      ]
     },
     "execution_count": 14,
     "metadata": {},
     "output_type": "execute_result"
    }
   ],
   "source": [
    "#making predictions with LinearRegression model and printing time that requires to do this\n",
    "start_time=time.time()\n",
    "lr_predictions=model.predict(features_test)\n",
    "lr_pred_time=time.time() - start_time\n",
    "lr_pred_time"
   ]
  },
  {
   "cell_type": "code",
   "execution_count": 15,
   "metadata": {},
   "outputs": [
    {
     "data": {
      "text/plain": [
       "3344.1480561328963"
      ]
     },
     "execution_count": 15,
     "metadata": {},
     "output_type": "execute_result"
    }
   ],
   "source": [
    "#calculating RMSE for LinearRegression model\n",
    "lr_rmse=(mean_squared_error(target_test, lr_predictions))**0.5\n",
    "lr_rmse"
   ]
  },
  {
   "cell_type": "markdown",
   "metadata": {},
   "source": [
    "## Random Forest\n",
    "\n",
    "Next, we will build and tune the parameters of the Random Forest model. Since it takes too much time to train Random Forest on a dataset of such size, we will tune only the n_estimators parameter. Then we will test it on the test set with the best parameters and calculate RMSE."
   ]
  },
  {
   "cell_type": "code",
   "execution_count": 16,
   "metadata": {},
   "outputs": [
    {
     "name": "stdout",
     "output_type": "stream",
     "text": [
      "score -1944.7342575859823 n_estimators=3\n",
      "score -1776.008127416184 n_estimators=8\n",
      "score -1735.3234235906639 n_estimators=13\n",
      "score -1718.8204149734947 n_estimators=18\n",
      "score -1707.8453024888531 n_estimators=23\n",
      "score -1701.462508402991 n_estimators=28\n",
      "Best score -1701.462508402991 is achived with n_estimators=28\n"
     ]
    }
   ],
   "source": [
    "#training RandomForest models and tuning parametrs\n",
    "best_n_estimators=0\n",
    "best_score=-10000\n",
    "def rmse(target, predictions):\n",
    "    return (mean_squared_error(target, predictions))**0.5    \n",
    "scorer=make_scorer(rmse, greater_is_better=False) \n",
    "#training models with different numbers of estimators in range from 3 to 30.\n",
    "for i in range(3,30,5):\n",
    "    model = RandomForestRegressor(random_state=12345, n_estimators=i) \n",
    "    score=cross_val_score(model, features_train, target_train, scoring=scorer, cv=3)\n",
    "    print(f'score {score.mean()} n_estimators={i}')\n",
    "#if score of the model is greater than previus best score, updating best n_estimators and best score variables\n",
    "    if score.mean()>best_score:\n",
    "        best_n_estimators=i\n",
    "        best_score=score.mean()\n",
    "print(f'Best score {best_score} is achived with n_estimators={best_n_estimators}')"
   ]
  },
  {
   "cell_type": "code",
   "execution_count": 17,
   "metadata": {},
   "outputs": [
    {
     "data": {
      "text/plain": [
       "24.184314727783203"
      ]
     },
     "execution_count": 17,
     "metadata": {},
     "output_type": "execute_result"
    }
   ],
   "source": [
    "#training RandomForest model with best paramenters and printing time that requires to train the model\n",
    "model=RandomForestRegressor(random_state=12345, n_estimators=28) \n",
    "start_time=time.time()\n",
    "model.fit(features_train, target_train)\n",
    "rf_tr_time=time.time() - start_time\n",
    "rf_tr_time"
   ]
  },
  {
   "cell_type": "code",
   "execution_count": 18,
   "metadata": {},
   "outputs": [
    {
     "data": {
      "text/plain": [
       "0.9611546993255615"
      ]
     },
     "execution_count": 18,
     "metadata": {},
     "output_type": "execute_result"
    }
   ],
   "source": [
    "#making predictions with RandomForest model and printing time that requires to do this\n",
    "start_time=time.time()\n",
    "rf_predictions=model.predict(features_test)\n",
    "rf_pred_time=time.time() - start_time\n",
    "rf_pred_time"
   ]
  },
  {
   "cell_type": "code",
   "execution_count": 19,
   "metadata": {},
   "outputs": [
    {
     "data": {
      "text/plain": [
       "1642.698529268388"
      ]
     },
     "execution_count": 19,
     "metadata": {},
     "output_type": "execute_result"
    }
   ],
   "source": [
    "#calculating RMSE for RandomForest model\n",
    "rf_rmse=(mean_squared_error(target_test, rf_predictions))**0.5\n",
    "rf_rmse"
   ]
  },
  {
   "cell_type": "markdown",
   "metadata": {},
   "source": [
    "## CatBoost\n",
    "\n",
    "Next, we will build and tune the parameters of the CatBoost model. Since the training of a gradient boosting model can take a long time, we will tune only a few model parameters: depth and learning_rate. We will use the same n_estimators as we used for our best Random Forest model. To find the best parameters, we will use GridSearchCV. Then we will test it on the test set with the best parameters and calculate RMSE."
   ]
  },
  {
   "cell_type": "code",
   "execution_count": 20,
   "metadata": {},
   "outputs": [
    {
     "name": "stdout",
     "output_type": "stream",
     "text": [
      "0:\tlearn: 4612.2239555\ttotal: 113ms\tremaining: 3.04s\n",
      "1:\tlearn: 4580.4500115\ttotal: 165ms\tremaining: 2.15s\n",
      "2:\tlearn: 4548.9853788\ttotal: 206ms\tremaining: 1.72s\n",
      "3:\tlearn: 4518.3257534\ttotal: 247ms\tremaining: 1.48s\n",
      "4:\tlearn: 4488.0821517\ttotal: 291ms\tremaining: 1.34s\n",
      "5:\tlearn: 4458.0479338\ttotal: 334ms\tremaining: 1.23s\n",
      "6:\tlearn: 4428.3355268\ttotal: 377ms\tremaining: 1.13s\n",
      "7:\tlearn: 4398.7215303\ttotal: 425ms\tremaining: 1.06s\n",
      "8:\tlearn: 4369.7438259\ttotal: 465ms\tremaining: 983ms\n",
      "9:\tlearn: 4341.0804548\ttotal: 507ms\tremaining: 913ms\n",
      "10:\tlearn: 4312.6198325\ttotal: 551ms\tremaining: 851ms\n",
      "11:\tlearn: 4284.6043109\ttotal: 591ms\tremaining: 789ms\n",
      "12:\tlearn: 4256.7842946\ttotal: 636ms\tremaining: 734ms\n",
      "13:\tlearn: 4229.2615580\ttotal: 678ms\tremaining: 678ms\n",
      "14:\tlearn: 4202.2140859\ttotal: 718ms\tremaining: 623ms\n",
      "15:\tlearn: 4175.2519411\ttotal: 759ms\tremaining: 569ms\n",
      "16:\tlearn: 4148.5977603\ttotal: 800ms\tremaining: 517ms\n",
      "17:\tlearn: 4122.7139524\ttotal: 840ms\tremaining: 467ms\n",
      "18:\tlearn: 4096.6900800\ttotal: 881ms\tremaining: 417ms\n",
      "19:\tlearn: 4071.0688101\ttotal: 921ms\tremaining: 369ms\n",
      "20:\tlearn: 4045.7725053\ttotal: 963ms\tremaining: 321ms\n",
      "21:\tlearn: 4020.4893909\ttotal: 1s\tremaining: 274ms\n",
      "22:\tlearn: 3996.0069096\ttotal: 1.05s\tremaining: 227ms\n",
      "23:\tlearn: 3971.8008554\ttotal: 1.09s\tremaining: 181ms\n",
      "24:\tlearn: 3947.8887647\ttotal: 1.13s\tremaining: 136ms\n",
      "25:\tlearn: 3924.0494666\ttotal: 1.17s\tremaining: 90ms\n",
      "26:\tlearn: 3900.5759918\ttotal: 1.22s\tremaining: 45ms\n",
      "27:\tlearn: 3877.6617681\ttotal: 1.26s\tremaining: 0us\n",
      "0:\tlearn: 4589.7931596\ttotal: 59.3ms\tremaining: 1.6s\n",
      "1:\tlearn: 4558.3434904\ttotal: 113ms\tremaining: 1.47s\n",
      "2:\tlearn: 4527.6555799\ttotal: 156ms\tremaining: 1.3s\n",
      "3:\tlearn: 4497.4234616\ttotal: 200ms\tremaining: 1.2s\n",
      "4:\tlearn: 4467.0879072\ttotal: 249ms\tremaining: 1.14s\n",
      "5:\tlearn: 4437.1937667\ttotal: 290ms\tremaining: 1.06s\n",
      "6:\tlearn: 4407.9350096\ttotal: 331ms\tremaining: 993ms\n",
      "7:\tlearn: 4378.7856809\ttotal: 380ms\tremaining: 951ms\n",
      "8:\tlearn: 4350.8619342\ttotal: 424ms\tremaining: 896ms\n",
      "9:\tlearn: 4322.4705774\ttotal: 465ms\tremaining: 838ms\n",
      "10:\tlearn: 4294.6174744\ttotal: 507ms\tremaining: 784ms\n",
      "11:\tlearn: 4266.6648232\ttotal: 551ms\tremaining: 735ms\n",
      "12:\tlearn: 4239.0389946\ttotal: 592ms\tremaining: 683ms\n",
      "13:\tlearn: 4211.9373065\ttotal: 633ms\tremaining: 633ms\n",
      "14:\tlearn: 4185.1645488\ttotal: 674ms\tremaining: 584ms\n",
      "15:\tlearn: 4158.5522895\ttotal: 716ms\tremaining: 537ms\n",
      "16:\tlearn: 4132.0708730\ttotal: 759ms\tremaining: 491ms\n",
      "17:\tlearn: 4106.4126489\ttotal: 800ms\tremaining: 445ms\n",
      "18:\tlearn: 4080.9578436\ttotal: 841ms\tremaining: 398ms\n",
      "19:\tlearn: 4056.1113038\ttotal: 884ms\tremaining: 354ms\n",
      "20:\tlearn: 4031.3050387\ttotal: 926ms\tremaining: 309ms\n",
      "21:\tlearn: 4006.7385520\ttotal: 974ms\tremaining: 266ms\n",
      "22:\tlearn: 3982.7231044\ttotal: 1.01s\tremaining: 221ms\n",
      "23:\tlearn: 3959.0532941\ttotal: 1.05s\tremaining: 176ms\n",
      "24:\tlearn: 3935.5950764\ttotal: 1.1s\tremaining: 132ms\n",
      "25:\tlearn: 3912.0114137\ttotal: 1.14s\tremaining: 87.7ms\n",
      "26:\tlearn: 3888.8877613\ttotal: 1.18s\tremaining: 43.8ms\n",
      "27:\tlearn: 3866.3824716\ttotal: 1.23s\tremaining: 0us\n",
      "0:\tlearn: 4483.4878120\ttotal: 57.7ms\tremaining: 1.56s\n",
      "1:\tlearn: 4332.7525809\ttotal: 108ms\tremaining: 1.41s\n",
      "2:\tlearn: 4192.6647892\ttotal: 150ms\tremaining: 1.25s\n",
      "3:\tlearn: 4061.5178729\ttotal: 192ms\tremaining: 1.15s\n",
      "4:\tlearn: 3935.9188416\ttotal: 240ms\tremaining: 1.1s\n",
      "5:\tlearn: 3817.9688924\ttotal: 284ms\tremaining: 1.04s\n",
      "6:\tlearn: 3708.1627918\ttotal: 326ms\tremaining: 978ms\n",
      "7:\tlearn: 3606.9990978\ttotal: 368ms\tremaining: 921ms\n",
      "8:\tlearn: 3509.2908171\ttotal: 410ms\tremaining: 866ms\n",
      "9:\tlearn: 3416.7915086\ttotal: 452ms\tremaining: 814ms\n",
      "10:\tlearn: 3330.8328416\ttotal: 494ms\tremaining: 763ms\n",
      "11:\tlearn: 3246.0457882\ttotal: 535ms\tremaining: 714ms\n",
      "12:\tlearn: 3170.4610970\ttotal: 577ms\tremaining: 666ms\n",
      "13:\tlearn: 3098.5940098\ttotal: 618ms\tremaining: 618ms\n",
      "14:\tlearn: 3030.7708353\ttotal: 661ms\tremaining: 573ms\n",
      "15:\tlearn: 2965.7985226\ttotal: 704ms\tremaining: 528ms\n",
      "16:\tlearn: 2903.0623713\ttotal: 745ms\tremaining: 482ms\n",
      "17:\tlearn: 2847.2765951\ttotal: 792ms\tremaining: 440ms\n",
      "18:\tlearn: 2794.1462010\ttotal: 834ms\tremaining: 395ms\n",
      "19:\tlearn: 2744.7935827\ttotal: 874ms\tremaining: 350ms\n",
      "20:\tlearn: 2698.6709315\ttotal: 915ms\tremaining: 305ms\n",
      "21:\tlearn: 2654.3685649\ttotal: 957ms\tremaining: 261ms\n",
      "22:\tlearn: 2615.4554784\ttotal: 998ms\tremaining: 217ms\n",
      "23:\tlearn: 2576.9499852\ttotal: 1.04s\tremaining: 173ms\n",
      "24:\tlearn: 2539.7052719\ttotal: 1.08s\tremaining: 130ms\n",
      "25:\tlearn: 2504.6329439\ttotal: 1.12s\tremaining: 86.3ms\n",
      "26:\tlearn: 2471.9164504\ttotal: 1.16s\tremaining: 43.1ms\n",
      "27:\tlearn: 2440.8030596\ttotal: 1.21s\tremaining: 0us\n",
      "0:\tlearn: 4464.8685704\ttotal: 58.8ms\tremaining: 1.59s\n",
      "1:\tlearn: 4316.5744788\ttotal: 109ms\tremaining: 1.42s\n",
      "2:\tlearn: 4179.7447976\ttotal: 154ms\tremaining: 1.28s\n",
      "3:\tlearn: 4050.4361476\ttotal: 195ms\tremaining: 1.17s\n",
      "4:\tlearn: 3927.0359917\ttotal: 258ms\tremaining: 1.19s\n",
      "5:\tlearn: 3810.9300386\ttotal: 304ms\tremaining: 1.11s\n",
      "6:\tlearn: 3702.8625558\ttotal: 345ms\tremaining: 1.03s\n",
      "7:\tlearn: 3596.9245084\ttotal: 387ms\tremaining: 968ms\n",
      "8:\tlearn: 3501.6136614\ttotal: 436ms\tremaining: 920ms\n",
      "9:\tlearn: 3409.5745740\ttotal: 479ms\tremaining: 862ms\n",
      "10:\tlearn: 3322.3830143\ttotal: 521ms\tremaining: 806ms\n",
      "11:\tlearn: 3242.3868182\ttotal: 563ms\tremaining: 751ms\n",
      "12:\tlearn: 3164.3550017\ttotal: 605ms\tremaining: 698ms\n",
      "13:\tlearn: 3095.5128110\ttotal: 647ms\tremaining: 647ms\n",
      "14:\tlearn: 3027.1512519\ttotal: 691ms\tremaining: 599ms\n",
      "15:\tlearn: 2961.7750012\ttotal: 739ms\tremaining: 554ms\n",
      "16:\tlearn: 2902.9891982\ttotal: 790ms\tremaining: 511ms\n",
      "17:\tlearn: 2845.5492194\ttotal: 831ms\tremaining: 462ms\n",
      "18:\tlearn: 2793.2957519\ttotal: 875ms\tremaining: 414ms\n",
      "19:\tlearn: 2744.6175000\ttotal: 918ms\tremaining: 367ms\n",
      "20:\tlearn: 2700.1537697\ttotal: 963ms\tremaining: 321ms\n",
      "21:\tlearn: 2656.3329244\ttotal: 1s\tremaining: 274ms\n",
      "22:\tlearn: 2615.7554488\ttotal: 1.05s\tremaining: 228ms\n",
      "23:\tlearn: 2578.3120299\ttotal: 1.09s\tremaining: 182ms\n",
      "24:\tlearn: 2543.6974242\ttotal: 1.14s\tremaining: 136ms\n",
      "25:\tlearn: 2510.4852252\ttotal: 1.19s\tremaining: 91.7ms\n",
      "26:\tlearn: 2478.6918609\ttotal: 1.23s\tremaining: 45.7ms\n",
      "27:\tlearn: 2449.9702041\ttotal: 1.28s\tremaining: 0us\n",
      "0:\tlearn: 4325.0180686\ttotal: 59.3ms\tremaining: 1.6s\n",
      "1:\tlearn: 4045.7661732\ttotal: 110ms\tremaining: 1.43s\n",
      "2:\tlearn: 3803.0077830\ttotal: 152ms\tremaining: 1.27s\n",
      "3:\tlearn: 3587.3040376\ttotal: 194ms\tremaining: 1.16s\n",
      "4:\tlearn: 3397.4238955\ttotal: 235ms\tremaining: 1.08s\n",
      "5:\tlearn: 3226.7341501\ttotal: 279ms\tremaining: 1.02s\n",
      "6:\tlearn: 3075.4345435\ttotal: 321ms\tremaining: 964ms\n",
      "7:\tlearn: 2943.5228006\ttotal: 366ms\tremaining: 915ms\n",
      "8:\tlearn: 2823.5753451\ttotal: 418ms\tremaining: 883ms\n",
      "9:\tlearn: 2719.6649982\ttotal: 461ms\tremaining: 829ms\n",
      "10:\tlearn: 2628.7554938\ttotal: 502ms\tremaining: 776ms\n",
      "11:\tlearn: 2551.0964919\ttotal: 546ms\tremaining: 727ms\n",
      "12:\tlearn: 2483.4751512\ttotal: 586ms\tremaining: 676ms\n",
      "13:\tlearn: 2422.2486566\ttotal: 628ms\tremaining: 628ms\n",
      "14:\tlearn: 2368.5659985\ttotal: 678ms\tremaining: 587ms\n",
      "15:\tlearn: 2321.0693198\ttotal: 719ms\tremaining: 540ms\n",
      "16:\tlearn: 2280.8907592\ttotal: 761ms\tremaining: 493ms\n",
      "17:\tlearn: 2243.6691255\ttotal: 805ms\tremaining: 447ms\n",
      "18:\tlearn: 2209.6495249\ttotal: 848ms\tremaining: 402ms\n",
      "19:\tlearn: 2180.0599838\ttotal: 890ms\tremaining: 356ms\n",
      "20:\tlearn: 2153.4678298\ttotal: 931ms\tremaining: 310ms\n",
      "21:\tlearn: 2129.0255240\ttotal: 979ms\tremaining: 267ms\n",
      "22:\tlearn: 2107.9421012\ttotal: 1.02s\tremaining: 223ms\n",
      "23:\tlearn: 2089.4864674\ttotal: 1.07s\tremaining: 178ms\n",
      "24:\tlearn: 2072.5844214\ttotal: 1.11s\tremaining: 133ms\n",
      "25:\tlearn: 2057.6798877\ttotal: 1.15s\tremaining: 88.6ms\n",
      "26:\tlearn: 2043.2475733\ttotal: 1.19s\tremaining: 44.2ms\n",
      "27:\tlearn: 2031.6512651\ttotal: 1.26s\tremaining: 0us\n",
      "0:\tlearn: 4311.2162588\ttotal: 58.9ms\tremaining: 1.59s\n",
      "1:\tlearn: 4034.0160155\ttotal: 112ms\tremaining: 1.46s\n",
      "2:\tlearn: 3793.6947525\ttotal: 157ms\tremaining: 1.31s\n",
      "3:\tlearn: 3580.9135541\ttotal: 202ms\tremaining: 1.21s\n",
      "4:\tlearn: 3385.1471162\ttotal: 244ms\tremaining: 1.12s\n",
      "5:\tlearn: 3219.5577828\ttotal: 289ms\tremaining: 1.06s\n",
      "6:\tlearn: 3072.2409211\ttotal: 340ms\tremaining: 1.02s\n",
      "7:\tlearn: 2946.6057690\ttotal: 383ms\tremaining: 959ms\n",
      "8:\tlearn: 2830.1798643\ttotal: 430ms\tremaining: 908ms\n",
      "9:\tlearn: 2727.4343475\ttotal: 472ms\tremaining: 850ms\n",
      "10:\tlearn: 2639.0240716\ttotal: 518ms\tremaining: 801ms\n",
      "11:\tlearn: 2562.4038315\ttotal: 564ms\tremaining: 753ms\n",
      "12:\tlearn: 2494.6904665\ttotal: 606ms\tremaining: 700ms\n",
      "13:\tlearn: 2433.9420585\ttotal: 652ms\tremaining: 652ms\n",
      "14:\tlearn: 2379.4938346\ttotal: 697ms\tremaining: 604ms\n",
      "15:\tlearn: 2333.5886106\ttotal: 747ms\tremaining: 560ms\n",
      "16:\tlearn: 2292.0436966\ttotal: 790ms\tremaining: 511ms\n",
      "17:\tlearn: 2255.5750910\ttotal: 831ms\tremaining: 462ms\n",
      "18:\tlearn: 2222.1584355\ttotal: 874ms\tremaining: 414ms\n",
      "19:\tlearn: 2193.2890550\ttotal: 917ms\tremaining: 367ms\n",
      "20:\tlearn: 2167.5456879\ttotal: 960ms\tremaining: 320ms\n",
      "21:\tlearn: 2144.6666202\ttotal: 1s\tremaining: 274ms\n",
      "22:\tlearn: 2125.5472184\ttotal: 1.05s\tremaining: 229ms\n",
      "23:\tlearn: 2107.5437200\ttotal: 1.1s\tremaining: 183ms\n",
      "24:\tlearn: 2090.2211142\ttotal: 1.14s\tremaining: 137ms\n",
      "25:\tlearn: 2075.7926893\ttotal: 1.18s\tremaining: 91ms\n",
      "26:\tlearn: 2062.6829094\ttotal: 1.23s\tremaining: 45.6ms\n",
      "27:\tlearn: 2050.3828270\ttotal: 1.27s\tremaining: 0us\n",
      "0:\tlearn: 3201.6876211\ttotal: 57.6ms\tremaining: 1.55s\n",
      "1:\tlearn: 2573.8766371\ttotal: 109ms\tremaining: 1.42s\n",
      "2:\tlearn: 2284.5158364\ttotal: 156ms\tremaining: 1.3s\n",
      "3:\tlearn: 2141.4321522\ttotal: 202ms\tremaining: 1.21s\n",
      "4:\tlearn: 2068.8722700\ttotal: 247ms\tremaining: 1.14s\n",
      "5:\tlearn: 2008.8026007\ttotal: 289ms\tremaining: 1.06s\n",
      "6:\tlearn: 1987.6589434\ttotal: 330ms\tremaining: 990ms\n",
      "7:\tlearn: 1962.7241507\ttotal: 376ms\tremaining: 941ms\n",
      "8:\tlearn: 1950.4827996\ttotal: 419ms\tremaining: 885ms\n",
      "9:\tlearn: 1933.8886999\ttotal: 461ms\tremaining: 830ms\n",
      "10:\tlearn: 1915.5942675\ttotal: 503ms\tremaining: 778ms\n",
      "11:\tlearn: 1903.9570579\ttotal: 548ms\tremaining: 731ms\n",
      "12:\tlearn: 1892.4839815\ttotal: 593ms\tremaining: 684ms\n",
      "13:\tlearn: 1885.9926132\ttotal: 635ms\tremaining: 635ms\n",
      "14:\tlearn: 1876.6843022\ttotal: 680ms\tremaining: 589ms\n",
      "15:\tlearn: 1865.6336095\ttotal: 723ms\tremaining: 542ms\n",
      "16:\tlearn: 1853.7027935\ttotal: 765ms\tremaining: 495ms\n",
      "17:\tlearn: 1850.0334151\ttotal: 807ms\tremaining: 449ms\n",
      "18:\tlearn: 1841.8411757\ttotal: 850ms\tremaining: 403ms\n",
      "19:\tlearn: 1835.8176136\ttotal: 893ms\tremaining: 357ms\n",
      "20:\tlearn: 1827.6998756\ttotal: 936ms\tremaining: 312ms\n",
      "21:\tlearn: 1823.6260969\ttotal: 984ms\tremaining: 268ms\n",
      "22:\tlearn: 1819.1298558\ttotal: 1.03s\tremaining: 223ms\n",
      "23:\tlearn: 1813.7694490\ttotal: 1.07s\tremaining: 178ms\n",
      "24:\tlearn: 1808.3320780\ttotal: 1.11s\tremaining: 134ms\n",
      "25:\tlearn: 1803.0572918\ttotal: 1.16s\tremaining: 89ms\n",
      "26:\tlearn: 1797.2521243\ttotal: 1.21s\tremaining: 44.8ms\n",
      "27:\tlearn: 1793.3658446\ttotal: 1.25s\tremaining: 0us\n",
      "0:\tlearn: 3227.6501490\ttotal: 60.3ms\tremaining: 1.63s\n",
      "1:\tlearn: 2594.9046800\ttotal: 119ms\tremaining: 1.54s\n",
      "2:\tlearn: 2289.0256221\ttotal: 163ms\tremaining: 1.36s\n",
      "3:\tlearn: 2147.6750886\ttotal: 210ms\tremaining: 1.26s\n",
      "4:\tlearn: 2068.2592859\ttotal: 252ms\tremaining: 1.16s\n",
      "5:\tlearn: 2024.8706661\ttotal: 297ms\tremaining: 1.09s\n",
      "6:\tlearn: 2000.4690742\ttotal: 344ms\tremaining: 1.03s\n",
      "7:\tlearn: 1978.6609073\ttotal: 390ms\tremaining: 974ms\n",
      "8:\tlearn: 1959.0796304\ttotal: 431ms\tremaining: 910ms\n",
      "9:\tlearn: 1945.6116505\ttotal: 473ms\tremaining: 852ms\n",
      "10:\tlearn: 1934.0332290\ttotal: 517ms\tremaining: 799ms\n",
      "11:\tlearn: 1919.8032797\ttotal: 563ms\tremaining: 751ms\n",
      "12:\tlearn: 1906.2997772\ttotal: 606ms\tremaining: 699ms\n",
      "13:\tlearn: 1898.3104934\ttotal: 647ms\tremaining: 647ms\n",
      "14:\tlearn: 1890.8269168\ttotal: 690ms\tremaining: 598ms\n",
      "15:\tlearn: 1878.8031167\ttotal: 733ms\tremaining: 550ms\n",
      "16:\tlearn: 1870.8699502\ttotal: 775ms\tremaining: 501ms\n",
      "17:\tlearn: 1859.9960180\ttotal: 821ms\tremaining: 456ms\n",
      "18:\tlearn: 1855.5389535\ttotal: 864ms\tremaining: 409ms\n",
      "19:\tlearn: 1845.8004579\ttotal: 905ms\tremaining: 362ms\n",
      "20:\tlearn: 1840.3576818\ttotal: 951ms\tremaining: 317ms\n",
      "21:\tlearn: 1838.0037833\ttotal: 998ms\tremaining: 272ms\n",
      "22:\tlearn: 1832.8727321\ttotal: 1.04s\tremaining: 227ms\n",
      "23:\tlearn: 1830.4708198\ttotal: 1.09s\tremaining: 181ms\n",
      "24:\tlearn: 1823.5685550\ttotal: 1.13s\tremaining: 136ms\n",
      "25:\tlearn: 1818.0284900\ttotal: 1.18s\tremaining: 90.7ms\n",
      "26:\tlearn: 1810.4084481\ttotal: 1.23s\tremaining: 45.4ms\n",
      "27:\tlearn: 1807.3265774\ttotal: 1.27s\tremaining: 0us\n",
      "0:\tlearn: 4610.7032176\ttotal: 81.2ms\tremaining: 2.19s\n",
      "1:\tlearn: 4577.4571556\ttotal: 145ms\tremaining: 1.89s\n",
      "2:\tlearn: 4544.7615079\ttotal: 199ms\tremaining: 1.66s\n",
      "3:\tlearn: 4512.1563588\ttotal: 261ms\tremaining: 1.56s\n",
      "4:\tlearn: 4479.9866699\ttotal: 318ms\tremaining: 1.46s\n",
      "5:\tlearn: 4447.9924139\ttotal: 382ms\tremaining: 1.4s\n",
      "6:\tlearn: 4416.6594901\ttotal: 439ms\tremaining: 1.32s\n",
      "7:\tlearn: 4385.5988904\ttotal: 497ms\tremaining: 1.24s\n",
      "8:\tlearn: 4355.0277363\ttotal: 555ms\tremaining: 1.17s\n",
      "9:\tlearn: 4324.2971936\ttotal: 613ms\tremaining: 1.1s\n",
      "10:\tlearn: 4294.3334003\ttotal: 668ms\tremaining: 1.03s\n",
      "11:\tlearn: 4264.6924892\ttotal: 724ms\tremaining: 965ms\n",
      "12:\tlearn: 4235.5955391\ttotal: 781ms\tremaining: 901ms\n",
      "13:\tlearn: 4206.5639482\ttotal: 841ms\tremaining: 841ms\n",
      "14:\tlearn: 4177.9924590\ttotal: 898ms\tremaining: 778ms\n",
      "15:\tlearn: 4149.6009758\ttotal: 954ms\tremaining: 716ms\n",
      "16:\tlearn: 4121.9312081\ttotal: 1.01s\tremaining: 654ms\n",
      "17:\tlearn: 4094.3479471\ttotal: 1.07s\tremaining: 595ms\n",
      "18:\tlearn: 4067.0824674\ttotal: 1.13s\tremaining: 535ms\n",
      "19:\tlearn: 4040.0048455\ttotal: 1.19s\tremaining: 474ms\n",
      "20:\tlearn: 4013.6487942\ttotal: 1.25s\tremaining: 415ms\n",
      "21:\tlearn: 3987.3811292\ttotal: 1.3s\tremaining: 355ms\n",
      "22:\tlearn: 3961.3067214\ttotal: 1.36s\tremaining: 295ms\n",
      "23:\tlearn: 3935.7029554\ttotal: 1.42s\tremaining: 236ms\n",
      "24:\tlearn: 3910.2928318\ttotal: 1.47s\tremaining: 177ms\n",
      "25:\tlearn: 3885.3886087\ttotal: 1.53s\tremaining: 118ms\n",
      "26:\tlearn: 3860.7978434\ttotal: 1.59s\tremaining: 58.9ms\n",
      "27:\tlearn: 3836.2325773\ttotal: 1.65s\tremaining: 0us\n",
      "0:\tlearn: 4588.0915112\ttotal: 74.2ms\tremaining: 2s\n",
      "1:\tlearn: 4555.4931211\ttotal: 140ms\tremaining: 1.82s\n",
      "2:\tlearn: 4523.1036940\ttotal: 201ms\tremaining: 1.67s\n",
      "3:\tlearn: 4490.5576658\ttotal: 257ms\tremaining: 1.54s\n",
      "4:\tlearn: 4458.7558736\ttotal: 314ms\tremaining: 1.45s\n",
      "5:\tlearn: 4428.1286731\ttotal: 375ms\tremaining: 1.37s\n",
      "6:\tlearn: 4397.7114800\ttotal: 430ms\tremaining: 1.29s\n",
      "7:\tlearn: 4367.6805497\ttotal: 484ms\tremaining: 1.21s\n",
      "8:\tlearn: 4337.4374988\ttotal: 541ms\tremaining: 1.14s\n",
      "9:\tlearn: 4308.2685682\ttotal: 603ms\tremaining: 1.08s\n",
      "10:\tlearn: 4278.6116449\ttotal: 671ms\tremaining: 1.04s\n",
      "11:\tlearn: 4249.2502848\ttotal: 729ms\tremaining: 972ms\n",
      "12:\tlearn: 4220.4594125\ttotal: 793ms\tremaining: 915ms\n",
      "13:\tlearn: 4192.0829660\ttotal: 851ms\tremaining: 851ms\n",
      "14:\tlearn: 4163.9698719\ttotal: 909ms\tremaining: 788ms\n",
      "15:\tlearn: 4136.0535077\ttotal: 966ms\tremaining: 725ms\n",
      "16:\tlearn: 4108.2817979\ttotal: 1.02s\tremaining: 661ms\n",
      "17:\tlearn: 4081.0604757\ttotal: 1.08s\tremaining: 601ms\n",
      "18:\tlearn: 4054.0459045\ttotal: 1.14s\tremaining: 538ms\n",
      "19:\tlearn: 4027.8196690\ttotal: 1.19s\tremaining: 477ms\n",
      "20:\tlearn: 4002.3464517\ttotal: 1.25s\tremaining: 415ms\n",
      "21:\tlearn: 3976.2364239\ttotal: 1.3s\tremaining: 356ms\n",
      "22:\tlearn: 3951.2170476\ttotal: 1.36s\tremaining: 296ms\n",
      "23:\tlearn: 3926.3202786\ttotal: 1.42s\tremaining: 236ms\n",
      "24:\tlearn: 3901.5029730\ttotal: 1.48s\tremaining: 177ms\n",
      "25:\tlearn: 3876.9771919\ttotal: 1.53s\tremaining: 118ms\n",
      "26:\tlearn: 3852.3191578\ttotal: 1.6s\tremaining: 59.2ms\n",
      "27:\tlearn: 3827.7512370\ttotal: 1.66s\tremaining: 0us\n",
      "0:\tlearn: 4475.8061337\ttotal: 90ms\tremaining: 2.43s\n",
      "1:\tlearn: 4318.4768563\ttotal: 155ms\tremaining: 2.02s\n",
      "2:\tlearn: 4170.9449906\ttotal: 214ms\tremaining: 1.78s\n",
      "3:\tlearn: 4031.1618270\ttotal: 274ms\tremaining: 1.64s\n",
      "4:\tlearn: 3900.3635828\ttotal: 334ms\tremaining: 1.54s\n",
      "5:\tlearn: 3777.3261029\ttotal: 389ms\tremaining: 1.43s\n",
      "6:\tlearn: 3660.1158972\ttotal: 547ms\tremaining: 1.64s\n",
      "7:\tlearn: 3550.6556927\ttotal: 603ms\tremaining: 1.51s\n",
      "8:\tlearn: 3448.4726476\ttotal: 664ms\tremaining: 1.4s\n",
      "9:\tlearn: 3350.7554660\ttotal: 729ms\tremaining: 1.31s\n",
      "10:\tlearn: 3258.7725214\ttotal: 797ms\tremaining: 1.23s\n",
      "11:\tlearn: 3172.6694349\ttotal: 859ms\tremaining: 1.15s\n",
      "12:\tlearn: 3091.5954268\ttotal: 920ms\tremaining: 1.06s\n",
      "13:\tlearn: 3016.3061325\ttotal: 978ms\tremaining: 978ms\n",
      "14:\tlearn: 2944.0585547\ttotal: 1.04s\tremaining: 904ms\n",
      "15:\tlearn: 2876.3296566\ttotal: 1.1s\tremaining: 824ms\n",
      "16:\tlearn: 2814.0655459\ttotal: 1.15s\tremaining: 747ms\n",
      "17:\tlearn: 2755.2535669\ttotal: 1.21s\tremaining: 672ms\n",
      "18:\tlearn: 2698.9381875\ttotal: 1.27s\tremaining: 601ms\n",
      "19:\tlearn: 2644.9922499\ttotal: 1.33s\tremaining: 532ms\n",
      "20:\tlearn: 2594.3636110\ttotal: 1.39s\tremaining: 462ms\n",
      "21:\tlearn: 2547.4169277\ttotal: 1.44s\tremaining: 393ms\n",
      "22:\tlearn: 2504.2973102\ttotal: 1.5s\tremaining: 326ms\n",
      "23:\tlearn: 2464.7797856\ttotal: 1.56s\tremaining: 260ms\n",
      "24:\tlearn: 2427.9698371\ttotal: 1.62s\tremaining: 194ms\n",
      "25:\tlearn: 2392.2435741\ttotal: 1.68s\tremaining: 129ms\n",
      "26:\tlearn: 2359.9927549\ttotal: 1.75s\tremaining: 64.7ms\n",
      "27:\tlearn: 2329.4018416\ttotal: 1.82s\tremaining: 0us\n",
      "0:\tlearn: 4456.2765020\ttotal: 75.3ms\tremaining: 2.03s\n",
      "1:\tlearn: 4302.9695973\ttotal: 142ms\tremaining: 1.84s\n",
      "2:\tlearn: 4158.1947857\ttotal: 204ms\tremaining: 1.7s\n",
      "3:\tlearn: 4018.0712762\ttotal: 261ms\tremaining: 1.56s\n",
      "4:\tlearn: 3890.0873950\ttotal: 317ms\tremaining: 1.46s\n",
      "5:\tlearn: 3769.0406261\ttotal: 374ms\tremaining: 1.37s\n",
      "6:\tlearn: 3653.4722337\ttotal: 431ms\tremaining: 1.29s\n",
      "7:\tlearn: 3542.6574716\ttotal: 487ms\tremaining: 1.22s\n",
      "8:\tlearn: 3441.9333426\ttotal: 543ms\tremaining: 1.15s\n",
      "9:\tlearn: 3345.9295116\ttotal: 603ms\tremaining: 1.08s\n",
      "10:\tlearn: 3256.9369886\ttotal: 664ms\tremaining: 1.02s\n",
      "11:\tlearn: 3172.6257720\ttotal: 721ms\tremaining: 962ms\n",
      "12:\tlearn: 3092.0881369\ttotal: 779ms\tremaining: 899ms\n",
      "13:\tlearn: 3014.7441527\ttotal: 842ms\tremaining: 842ms\n",
      "14:\tlearn: 2944.1621859\ttotal: 903ms\tremaining: 782ms\n",
      "15:\tlearn: 2880.0125842\ttotal: 959ms\tremaining: 719ms\n",
      "16:\tlearn: 2816.9481091\ttotal: 1.01s\tremaining: 656ms\n",
      "17:\tlearn: 2758.4387361\ttotal: 1.07s\tremaining: 596ms\n",
      "18:\tlearn: 2703.7866789\ttotal: 1.13s\tremaining: 533ms\n",
      "19:\tlearn: 2650.8787211\ttotal: 1.18s\tremaining: 473ms\n",
      "20:\tlearn: 2601.4204640\ttotal: 1.24s\tremaining: 413ms\n",
      "21:\tlearn: 2556.8362138\ttotal: 1.3s\tremaining: 354ms\n",
      "22:\tlearn: 2513.6612848\ttotal: 1.35s\tremaining: 294ms\n",
      "23:\tlearn: 2472.8193960\ttotal: 1.41s\tremaining: 235ms\n",
      "24:\tlearn: 2436.0181598\ttotal: 1.47s\tremaining: 176ms\n",
      "25:\tlearn: 2400.6290914\ttotal: 1.53s\tremaining: 118ms\n",
      "26:\tlearn: 2368.1662604\ttotal: 1.58s\tremaining: 58.7ms\n",
      "27:\tlearn: 2338.0136852\ttotal: 1.64s\tremaining: 0us\n",
      "0:\tlearn: 4309.4548516\ttotal: 80.9ms\tremaining: 2.19s\n",
      "1:\tlearn: 4016.3525023\ttotal: 149ms\tremaining: 1.93s\n",
      "2:\tlearn: 3759.2635584\ttotal: 213ms\tremaining: 1.78s\n",
      "3:\tlearn: 3528.8841629\ttotal: 270ms\tremaining: 1.62s\n",
      "4:\tlearn: 3327.2341271\ttotal: 330ms\tremaining: 1.52s\n",
      "5:\tlearn: 3148.0739556\ttotal: 394ms\tremaining: 1.45s\n",
      "6:\tlearn: 2987.1956890\ttotal: 454ms\tremaining: 1.36s\n",
      "7:\tlearn: 2845.3057563\ttotal: 511ms\tremaining: 1.28s\n",
      "8:\tlearn: 2726.8074264\ttotal: 571ms\tremaining: 1.2s\n",
      "9:\tlearn: 2622.2989744\ttotal: 630ms\tremaining: 1.13s\n",
      "10:\tlearn: 2527.8878290\ttotal: 690ms\tremaining: 1.07s\n",
      "11:\tlearn: 2447.4105461\ttotal: 746ms\tremaining: 995ms\n",
      "12:\tlearn: 2377.5730488\ttotal: 803ms\tremaining: 926ms\n",
      "13:\tlearn: 2315.7909945\ttotal: 857ms\tremaining: 857ms\n",
      "14:\tlearn: 2261.9117883\ttotal: 922ms\tremaining: 799ms\n",
      "15:\tlearn: 2213.2112211\ttotal: 977ms\tremaining: 733ms\n",
      "16:\tlearn: 2169.9037862\ttotal: 1.03s\tremaining: 669ms\n",
      "17:\tlearn: 2133.1409213\ttotal: 1.1s\tremaining: 610ms\n",
      "18:\tlearn: 2100.4659446\ttotal: 1.16s\tremaining: 547ms\n",
      "19:\tlearn: 2072.1828898\ttotal: 1.21s\tremaining: 485ms\n",
      "20:\tlearn: 2046.4572006\ttotal: 1.27s\tremaining: 425ms\n",
      "21:\tlearn: 2024.4312065\ttotal: 1.33s\tremaining: 364ms\n",
      "22:\tlearn: 2006.4026551\ttotal: 1.39s\tremaining: 303ms\n",
      "23:\tlearn: 1990.7837285\ttotal: 1.45s\tremaining: 241ms\n",
      "24:\tlearn: 1974.2966110\ttotal: 1.5s\tremaining: 180ms\n",
      "25:\tlearn: 1960.2779507\ttotal: 1.57s\tremaining: 120ms\n",
      "26:\tlearn: 1947.5701794\ttotal: 1.63s\tremaining: 60.2ms\n",
      "27:\tlearn: 1935.8032477\ttotal: 1.68s\tremaining: 0us\n",
      "0:\tlearn: 4293.8182188\ttotal: 76ms\tremaining: 2.05s\n",
      "1:\tlearn: 4007.6877820\ttotal: 139ms\tremaining: 1.8s\n",
      "2:\tlearn: 3754.1016430\ttotal: 203ms\tremaining: 1.69s\n",
      "3:\tlearn: 3529.5353597\ttotal: 262ms\tremaining: 1.57s\n",
      "4:\tlearn: 3330.8762133\ttotal: 325ms\tremaining: 1.49s\n",
      "5:\tlearn: 3154.5581083\ttotal: 380ms\tremaining: 1.39s\n",
      "6:\tlearn: 2993.8500616\ttotal: 435ms\tremaining: 1.3s\n",
      "7:\tlearn: 2856.3828103\ttotal: 491ms\tremaining: 1.23s\n",
      "8:\tlearn: 2737.2686575\ttotal: 550ms\tremaining: 1.16s\n",
      "9:\tlearn: 2631.2760003\ttotal: 609ms\tremaining: 1.1s\n",
      "10:\tlearn: 2536.3455102\ttotal: 669ms\tremaining: 1.03s\n",
      "11:\tlearn: 2452.6696074\ttotal: 725ms\tremaining: 967ms\n",
      "12:\tlearn: 2383.8221250\ttotal: 781ms\tremaining: 901ms\n",
      "13:\tlearn: 2321.2002711\ttotal: 841ms\tremaining: 841ms\n",
      "14:\tlearn: 2268.7065297\ttotal: 897ms\tremaining: 778ms\n",
      "15:\tlearn: 2221.7266814\ttotal: 952ms\tremaining: 714ms\n",
      "16:\tlearn: 2180.3686551\ttotal: 1.01s\tremaining: 654ms\n",
      "17:\tlearn: 2145.6221851\ttotal: 1.06s\tremaining: 592ms\n",
      "18:\tlearn: 2114.7354762\ttotal: 1.12s\tremaining: 531ms\n",
      "19:\tlearn: 2087.3025794\ttotal: 1.18s\tremaining: 471ms\n",
      "20:\tlearn: 2064.2861884\ttotal: 1.24s\tremaining: 412ms\n",
      "21:\tlearn: 2041.2543146\ttotal: 1.29s\tremaining: 352ms\n",
      "22:\tlearn: 2021.8641119\ttotal: 1.35s\tremaining: 294ms\n",
      "23:\tlearn: 2003.4751680\ttotal: 1.41s\tremaining: 235ms\n",
      "24:\tlearn: 1988.5302718\ttotal: 1.47s\tremaining: 176ms\n",
      "25:\tlearn: 1974.6301754\ttotal: 1.52s\tremaining: 117ms\n",
      "26:\tlearn: 1961.7765230\ttotal: 1.58s\tremaining: 58.5ms\n",
      "27:\tlearn: 1950.2098509\ttotal: 1.64s\tremaining: 0us\n",
      "0:\tlearn: 3116.0052696\ttotal: 73.6ms\tremaining: 1.99s\n",
      "1:\tlearn: 2463.2390246\ttotal: 137ms\tremaining: 1.78s\n",
      "2:\tlearn: 2152.6948534\ttotal: 198ms\tremaining: 1.65s\n",
      "3:\tlearn: 2034.8317257\ttotal: 251ms\tremaining: 1.51s\n",
      "4:\tlearn: 1966.8883008\ttotal: 313ms\tremaining: 1.44s\n",
      "5:\tlearn: 1929.0436774\ttotal: 368ms\tremaining: 1.35s\n",
      "6:\tlearn: 1893.8918068\ttotal: 425ms\tremaining: 1.27s\n",
      "7:\tlearn: 1878.8973315\ttotal: 481ms\tremaining: 1.2s\n",
      "8:\tlearn: 1852.3994220\ttotal: 539ms\tremaining: 1.14s\n",
      "9:\tlearn: 1838.9403452\ttotal: 600ms\tremaining: 1.08s\n",
      "10:\tlearn: 1825.7194935\ttotal: 656ms\tremaining: 1.01s\n",
      "11:\tlearn: 1815.1422189\ttotal: 711ms\tremaining: 947ms\n",
      "12:\tlearn: 1803.5704917\ttotal: 767ms\tremaining: 885ms\n",
      "13:\tlearn: 1787.0162004\ttotal: 828ms\tremaining: 828ms\n",
      "14:\tlearn: 1780.7380920\ttotal: 884ms\tremaining: 766ms\n",
      "15:\tlearn: 1774.1043794\ttotal: 943ms\tremaining: 707ms\n",
      "16:\tlearn: 1769.9891394\ttotal: 999ms\tremaining: 646ms\n",
      "17:\tlearn: 1762.0723169\ttotal: 1.05s\tremaining: 586ms\n",
      "18:\tlearn: 1754.7407692\ttotal: 1.12s\tremaining: 529ms\n",
      "19:\tlearn: 1751.7142033\ttotal: 1.17s\tremaining: 468ms\n",
      "20:\tlearn: 1746.9620865\ttotal: 1.23s\tremaining: 409ms\n",
      "21:\tlearn: 1741.8022919\ttotal: 1.29s\tremaining: 351ms\n",
      "22:\tlearn: 1736.6633041\ttotal: 1.34s\tremaining: 291ms\n",
      "23:\tlearn: 1727.8172564\ttotal: 1.39s\tremaining: 232ms\n",
      "24:\tlearn: 1722.6000645\ttotal: 1.45s\tremaining: 174ms\n",
      "25:\tlearn: 1718.4272160\ttotal: 1.51s\tremaining: 116ms\n",
      "26:\tlearn: 1713.3876753\ttotal: 1.56s\tremaining: 58ms\n",
      "27:\tlearn: 1706.7392806\ttotal: 1.62s\tremaining: 0us\n",
      "0:\tlearn: 3132.5436192\ttotal: 74.8ms\tremaining: 2.02s\n",
      "1:\tlearn: 2459.7753592\ttotal: 140ms\tremaining: 1.82s\n",
      "2:\tlearn: 2155.5252777\ttotal: 202ms\tremaining: 1.69s\n",
      "3:\tlearn: 2036.0220268\ttotal: 260ms\tremaining: 1.56s\n",
      "4:\tlearn: 1967.1775460\ttotal: 320ms\tremaining: 1.47s\n",
      "5:\tlearn: 1933.2201010\ttotal: 376ms\tremaining: 1.38s\n",
      "6:\tlearn: 1904.7257511\ttotal: 433ms\tremaining: 1.3s\n",
      "7:\tlearn: 1880.4293765\ttotal: 489ms\tremaining: 1.22s\n",
      "8:\tlearn: 1864.7572909\ttotal: 544ms\tremaining: 1.15s\n",
      "9:\tlearn: 1850.2470609\ttotal: 603ms\tremaining: 1.08s\n",
      "10:\tlearn: 1838.0352399\ttotal: 656ms\tremaining: 1.01s\n",
      "11:\tlearn: 1829.6542155\ttotal: 710ms\tremaining: 947ms\n",
      "12:\tlearn: 1815.3715487\ttotal: 767ms\tremaining: 885ms\n",
      "13:\tlearn: 1807.8792978\ttotal: 824ms\tremaining: 824ms\n",
      "14:\tlearn: 1804.6288303\ttotal: 878ms\tremaining: 761ms\n",
      "15:\tlearn: 1788.9757216\ttotal: 936ms\tremaining: 702ms\n",
      "16:\tlearn: 1776.8315478\ttotal: 995ms\tremaining: 644ms\n",
      "17:\tlearn: 1771.7482406\ttotal: 1.05s\tremaining: 584ms\n",
      "18:\tlearn: 1766.6810071\ttotal: 1.11s\tremaining: 524ms\n",
      "19:\tlearn: 1758.4454618\ttotal: 1.16s\tremaining: 464ms\n",
      "20:\tlearn: 1752.9222927\ttotal: 1.21s\tremaining: 404ms\n",
      "21:\tlearn: 1745.7058030\ttotal: 1.27s\tremaining: 346ms\n",
      "22:\tlearn: 1742.3119893\ttotal: 1.32s\tremaining: 288ms\n",
      "23:\tlearn: 1736.0436409\ttotal: 1.38s\tremaining: 230ms\n",
      "24:\tlearn: 1727.7521074\ttotal: 1.43s\tremaining: 172ms\n",
      "25:\tlearn: 1722.5498873\ttotal: 1.49s\tremaining: 115ms\n",
      "26:\tlearn: 1717.8565423\ttotal: 1.54s\tremaining: 57.3ms\n",
      "27:\tlearn: 1711.5187953\ttotal: 1.6s\tremaining: 0us\n",
      "0:\tlearn: 4609.9239908\ttotal: 93.6ms\tremaining: 2.53s\n",
      "1:\tlearn: 4575.7041334\ttotal: 174ms\tremaining: 2.26s\n",
      "2:\tlearn: 4541.6817069\ttotal: 247ms\tremaining: 2.06s\n",
      "3:\tlearn: 4507.9490078\ttotal: 324ms\tremaining: 1.95s\n",
      "4:\tlearn: 4475.1353021\ttotal: 404ms\tremaining: 1.86s\n",
      "5:\tlearn: 4442.3206629\ttotal: 479ms\tremaining: 1.75s\n",
      "6:\tlearn: 4410.0244136\ttotal: 552ms\tremaining: 1.66s\n",
      "7:\tlearn: 4377.9705657\ttotal: 624ms\tremaining: 1.56s\n",
      "8:\tlearn: 4346.4087340\ttotal: 696ms\tremaining: 1.47s\n",
      "9:\tlearn: 4315.4771609\ttotal: 771ms\tremaining: 1.39s\n",
      "10:\tlearn: 4284.3415414\ttotal: 843ms\tremaining: 1.3s\n",
      "11:\tlearn: 4254.0855197\ttotal: 913ms\tremaining: 1.22s\n",
      "12:\tlearn: 4224.1033358\ttotal: 984ms\tremaining: 1.14s\n",
      "13:\tlearn: 4194.4324537\ttotal: 1.06s\tremaining: 1.06s\n",
      "14:\tlearn: 4164.7235621\ttotal: 1.13s\tremaining: 982ms\n",
      "15:\tlearn: 4135.6533317\ttotal: 1.21s\tremaining: 904ms\n",
      "16:\tlearn: 4106.6246359\ttotal: 1.28s\tremaining: 830ms\n",
      "17:\tlearn: 4078.3425456\ttotal: 1.35s\tremaining: 751ms\n",
      "18:\tlearn: 4050.2811382\ttotal: 1.43s\tremaining: 677ms\n",
      "19:\tlearn: 4022.3110055\ttotal: 1.5s\tremaining: 600ms\n",
      "20:\tlearn: 3995.0497231\ttotal: 1.57s\tremaining: 523ms\n",
      "21:\tlearn: 3967.8468149\ttotal: 1.64s\tremaining: 448ms\n",
      "22:\tlearn: 3940.7650840\ttotal: 1.71s\tremaining: 372ms\n",
      "23:\tlearn: 3914.2103943\ttotal: 1.78s\tremaining: 297ms\n",
      "24:\tlearn: 3887.8189805\ttotal: 1.86s\tremaining: 223ms\n",
      "25:\tlearn: 3861.6645112\ttotal: 1.93s\tremaining: 148ms\n",
      "26:\tlearn: 3835.8918963\ttotal: 2s\tremaining: 74.1ms\n",
      "27:\tlearn: 3810.9434334\ttotal: 2.07s\tremaining: 0us\n",
      "0:\tlearn: 4586.8719816\ttotal: 97ms\tremaining: 2.62s\n",
      "1:\tlearn: 4553.5136029\ttotal: 175ms\tremaining: 2.27s\n",
      "2:\tlearn: 4520.0547547\ttotal: 250ms\tremaining: 2.08s\n",
      "3:\tlearn: 4486.9087911\ttotal: 326ms\tremaining: 1.95s\n",
      "4:\tlearn: 4454.1903138\ttotal: 402ms\tremaining: 1.85s\n",
      "5:\tlearn: 4421.6405038\ttotal: 474ms\tremaining: 1.74s\n",
      "6:\tlearn: 4389.7790892\ttotal: 548ms\tremaining: 1.64s\n",
      "7:\tlearn: 4358.8137142\ttotal: 618ms\tremaining: 1.54s\n",
      "8:\tlearn: 4328.0571149\ttotal: 688ms\tremaining: 1.45s\n",
      "9:\tlearn: 4297.1300180\ttotal: 758ms\tremaining: 1.36s\n",
      "10:\tlearn: 4266.2297608\ttotal: 829ms\tremaining: 1.28s\n",
      "11:\tlearn: 4236.4779479\ttotal: 904ms\tremaining: 1.21s\n",
      "12:\tlearn: 4206.6408490\ttotal: 976ms\tremaining: 1.13s\n",
      "13:\tlearn: 4177.0491591\ttotal: 1.05s\tremaining: 1.05s\n",
      "14:\tlearn: 4147.7143719\ttotal: 1.12s\tremaining: 973ms\n",
      "15:\tlearn: 4119.0121746\ttotal: 1.19s\tremaining: 895ms\n",
      "16:\tlearn: 4090.4225248\ttotal: 1.27s\tremaining: 819ms\n",
      "17:\tlearn: 4062.4343856\ttotal: 1.34s\tremaining: 744ms\n",
      "18:\tlearn: 4034.7889789\ttotal: 1.41s\tremaining: 667ms\n",
      "19:\tlearn: 4007.2162350\ttotal: 1.48s\tremaining: 591ms\n",
      "20:\tlearn: 3980.0007995\ttotal: 1.55s\tremaining: 516ms\n",
      "21:\tlearn: 3953.4173676\ttotal: 1.62s\tremaining: 442ms\n",
      "22:\tlearn: 3926.8403672\ttotal: 1.7s\tremaining: 369ms\n",
      "23:\tlearn: 3900.5971604\ttotal: 1.76s\tremaining: 294ms\n",
      "24:\tlearn: 3874.9388828\ttotal: 1.84s\tremaining: 221ms\n",
      "25:\tlearn: 3849.1388658\ttotal: 1.91s\tremaining: 147ms\n",
      "26:\tlearn: 3824.3775725\ttotal: 1.98s\tremaining: 73.5ms\n",
      "27:\tlearn: 3799.1474550\ttotal: 2.06s\tremaining: 0us\n",
      "0:\tlearn: 4471.8442204\ttotal: 88.5ms\tremaining: 2.39s\n",
      "1:\tlearn: 4308.0256289\ttotal: 167ms\tremaining: 2.17s\n",
      "2:\tlearn: 4153.7437657\ttotal: 238ms\tremaining: 1.99s\n",
      "3:\tlearn: 4008.5414002\ttotal: 312ms\tremaining: 1.87s\n",
      "4:\tlearn: 3873.0316275\ttotal: 386ms\tremaining: 1.78s\n",
      "5:\tlearn: 3746.5251387\ttotal: 459ms\tremaining: 1.68s\n",
      "6:\tlearn: 3626.6031334\ttotal: 538ms\tremaining: 1.61s\n",
      "7:\tlearn: 3512.9526533\ttotal: 609ms\tremaining: 1.52s\n",
      "8:\tlearn: 3406.6230803\ttotal: 678ms\tremaining: 1.43s\n",
      "9:\tlearn: 3305.7136793\ttotal: 750ms\tremaining: 1.35s\n",
      "10:\tlearn: 3210.5386671\ttotal: 827ms\tremaining: 1.28s\n",
      "11:\tlearn: 3120.9767639\ttotal: 899ms\tremaining: 1.2s\n",
      "12:\tlearn: 3037.5749770\ttotal: 972ms\tremaining: 1.12s\n",
      "13:\tlearn: 2958.9063882\ttotal: 1.05s\tremaining: 1.05s\n",
      "14:\tlearn: 2883.3076550\ttotal: 1.12s\tremaining: 970ms\n",
      "15:\tlearn: 2813.7061138\ttotal: 1.19s\tremaining: 894ms\n",
      "16:\tlearn: 2750.4873332\ttotal: 1.27s\tremaining: 821ms\n",
      "17:\tlearn: 2688.4424812\ttotal: 1.34s\tremaining: 744ms\n",
      "18:\tlearn: 2631.5871751\ttotal: 1.41s\tremaining: 669ms\n",
      "19:\tlearn: 2576.6145236\ttotal: 1.48s\tremaining: 594ms\n",
      "20:\tlearn: 2526.2449957\ttotal: 1.56s\tremaining: 519ms\n",
      "21:\tlearn: 2477.7699014\ttotal: 1.63s\tremaining: 445ms\n",
      "22:\tlearn: 2433.3759578\ttotal: 1.7s\tremaining: 370ms\n",
      "23:\tlearn: 2392.2393066\ttotal: 1.78s\tremaining: 296ms\n",
      "24:\tlearn: 2351.8893182\ttotal: 1.85s\tremaining: 222ms\n",
      "25:\tlearn: 2314.9656551\ttotal: 1.92s\tremaining: 148ms\n",
      "26:\tlearn: 2280.7603949\ttotal: 1.99s\tremaining: 73.8ms\n",
      "27:\tlearn: 2248.0145431\ttotal: 2.06s\tremaining: 0us\n",
      "0:\tlearn: 4450.1006254\ttotal: 88.8ms\tremaining: 2.4s\n",
      "1:\tlearn: 4292.2613348\ttotal: 167ms\tremaining: 2.17s\n",
      "2:\tlearn: 4141.7836330\ttotal: 241ms\tremaining: 2.01s\n",
      "3:\tlearn: 3999.9160622\ttotal: 312ms\tremaining: 1.87s\n",
      "4:\tlearn: 3864.9204216\ttotal: 392ms\tremaining: 1.8s\n",
      "5:\tlearn: 3737.7167483\ttotal: 468ms\tremaining: 1.71s\n",
      "6:\tlearn: 3617.3173891\ttotal: 538ms\tremaining: 1.61s\n",
      "7:\tlearn: 3504.2728757\ttotal: 610ms\tremaining: 1.52s\n",
      "8:\tlearn: 3397.9494654\ttotal: 683ms\tremaining: 1.44s\n",
      "9:\tlearn: 3298.8038865\ttotal: 760ms\tremaining: 1.37s\n",
      "10:\tlearn: 3204.7286015\ttotal: 828ms\tremaining: 1.28s\n",
      "11:\tlearn: 3115.3256217\ttotal: 898ms\tremaining: 1.2s\n",
      "12:\tlearn: 3033.2068182\ttotal: 970ms\tremaining: 1.12s\n",
      "13:\tlearn: 2954.4268916\ttotal: 1.04s\tremaining: 1.04s\n",
      "14:\tlearn: 2880.6624019\ttotal: 1.11s\tremaining: 962ms\n",
      "15:\tlearn: 2813.6695615\ttotal: 1.19s\tremaining: 889ms\n",
      "16:\tlearn: 2750.2323782\ttotal: 1.26s\tremaining: 818ms\n",
      "17:\tlearn: 2687.7683791\ttotal: 1.33s\tremaining: 741ms\n",
      "18:\tlearn: 2629.2240681\ttotal: 1.41s\tremaining: 666ms\n",
      "19:\tlearn: 2575.5770780\ttotal: 1.48s\tremaining: 590ms\n",
      "20:\tlearn: 2525.8586581\ttotal: 1.55s\tremaining: 516ms\n",
      "21:\tlearn: 2479.4591146\ttotal: 1.62s\tremaining: 442ms\n",
      "22:\tlearn: 2435.8946228\ttotal: 1.69s\tremaining: 368ms\n",
      "23:\tlearn: 2393.9560622\ttotal: 1.76s\tremaining: 294ms\n",
      "24:\tlearn: 2355.1337397\ttotal: 1.84s\tremaining: 221ms\n",
      "25:\tlearn: 2319.4217369\ttotal: 1.91s\tremaining: 147ms\n",
      "26:\tlearn: 2285.8768047\ttotal: 1.98s\tremaining: 73.4ms\n",
      "27:\tlearn: 2256.1433211\ttotal: 2.05s\tremaining: 0us\n",
      "0:\tlearn: 4301.3589661\ttotal: 91.8ms\tremaining: 2.48s\n",
      "1:\tlearn: 3998.4039132\ttotal: 173ms\tremaining: 2.25s\n",
      "2:\tlearn: 3730.2081114\ttotal: 242ms\tremaining: 2.02s\n",
      "3:\tlearn: 3491.7472458\ttotal: 312ms\tremaining: 1.87s\n",
      "4:\tlearn: 3279.3965765\ttotal: 389ms\tremaining: 1.79s\n",
      "5:\tlearn: 3095.5250525\ttotal: 461ms\tremaining: 1.69s\n",
      "6:\tlearn: 2931.4166518\ttotal: 539ms\tremaining: 1.62s\n",
      "7:\tlearn: 2788.7426173\ttotal: 614ms\tremaining: 1.53s\n",
      "8:\tlearn: 2664.1594700\ttotal: 684ms\tremaining: 1.44s\n",
      "9:\tlearn: 2557.3867288\ttotal: 755ms\tremaining: 1.36s\n",
      "10:\tlearn: 2457.6550192\ttotal: 831ms\tremaining: 1.28s\n",
      "11:\tlearn: 2371.6621918\ttotal: 899ms\tremaining: 1.2s\n",
      "12:\tlearn: 2296.6286118\ttotal: 976ms\tremaining: 1.13s\n",
      "13:\tlearn: 2229.9502701\ttotal: 1.05s\tremaining: 1.05s\n",
      "14:\tlearn: 2173.9909568\ttotal: 1.12s\tremaining: 975ms\n",
      "15:\tlearn: 2125.7071041\ttotal: 1.2s\tremaining: 899ms\n",
      "16:\tlearn: 2083.0905404\ttotal: 1.27s\tremaining: 823ms\n",
      "17:\tlearn: 2045.7436010\ttotal: 1.34s\tremaining: 746ms\n",
      "18:\tlearn: 2010.4745231\ttotal: 1.41s\tremaining: 670ms\n",
      "19:\tlearn: 1981.9889479\ttotal: 1.49s\tremaining: 595ms\n",
      "20:\tlearn: 1959.1079244\ttotal: 1.56s\tremaining: 520ms\n",
      "21:\tlearn: 1938.2239654\ttotal: 1.63s\tremaining: 444ms\n",
      "22:\tlearn: 1919.7953348\ttotal: 1.7s\tremaining: 369ms\n",
      "23:\tlearn: 1901.5757292\ttotal: 1.77s\tremaining: 295ms\n",
      "24:\tlearn: 1886.3048057\ttotal: 1.84s\tremaining: 221ms\n",
      "25:\tlearn: 1869.4364037\ttotal: 1.91s\tremaining: 147ms\n",
      "26:\tlearn: 1856.6372718\ttotal: 1.98s\tremaining: 73.5ms\n",
      "27:\tlearn: 1844.0371372\ttotal: 2.06s\tremaining: 0us\n",
      "0:\tlearn: 4281.2636055\ttotal: 92ms\tremaining: 2.48s\n",
      "1:\tlearn: 3986.6821849\ttotal: 171ms\tremaining: 2.22s\n",
      "2:\tlearn: 3724.0883927\ttotal: 246ms\tremaining: 2.05s\n",
      "3:\tlearn: 3490.3990032\ttotal: 329ms\tremaining: 1.97s\n",
      "4:\tlearn: 3279.7590024\ttotal: 401ms\tremaining: 1.84s\n",
      "5:\tlearn: 3095.3835111\ttotal: 471ms\tremaining: 1.73s\n",
      "6:\tlearn: 2933.4838985\ttotal: 543ms\tremaining: 1.63s\n",
      "7:\tlearn: 2792.0206137\ttotal: 626ms\tremaining: 1.56s\n",
      "8:\tlearn: 2670.3420322\ttotal: 700ms\tremaining: 1.48s\n",
      "9:\tlearn: 2557.9539624\ttotal: 779ms\tremaining: 1.4s\n",
      "10:\tlearn: 2460.6891632\ttotal: 872ms\tremaining: 1.35s\n",
      "11:\tlearn: 2376.9164222\ttotal: 947ms\tremaining: 1.26s\n",
      "12:\tlearn: 2302.9915561\ttotal: 1.02s\tremaining: 1.18s\n",
      "13:\tlearn: 2237.2472026\ttotal: 1.1s\tremaining: 1.1s\n",
      "14:\tlearn: 2181.0592398\ttotal: 1.18s\tremaining: 1.02s\n",
      "15:\tlearn: 2130.1953842\ttotal: 1.25s\tremaining: 939ms\n",
      "16:\tlearn: 2089.8113341\ttotal: 1.33s\tremaining: 859ms\n",
      "17:\tlearn: 2054.4855898\ttotal: 1.4s\tremaining: 776ms\n",
      "18:\tlearn: 2019.9292305\ttotal: 1.47s\tremaining: 696ms\n",
      "19:\tlearn: 1991.7250876\ttotal: 1.54s\tremaining: 618ms\n",
      "20:\tlearn: 1967.8449880\ttotal: 1.62s\tremaining: 541ms\n",
      "21:\tlearn: 1946.6322808\ttotal: 1.7s\tremaining: 462ms\n",
      "22:\tlearn: 1927.5044236\ttotal: 1.77s\tremaining: 386ms\n",
      "23:\tlearn: 1911.1796868\ttotal: 1.84s\tremaining: 308ms\n",
      "24:\tlearn: 1897.2224740\ttotal: 1.92s\tremaining: 230ms\n",
      "25:\tlearn: 1883.7099496\ttotal: 1.99s\tremaining: 153ms\n",
      "26:\tlearn: 1871.7342084\ttotal: 2.06s\tremaining: 76.3ms\n",
      "27:\tlearn: 1859.8982637\ttotal: 2.13s\tremaining: 0us\n",
      "0:\tlearn: 3067.3158712\ttotal: 89.9ms\tremaining: 2.43s\n",
      "1:\tlearn: 2349.8963832\ttotal: 174ms\tremaining: 2.25s\n",
      "2:\tlearn: 2060.1932502\ttotal: 249ms\tremaining: 2.07s\n",
      "3:\tlearn: 1935.2317199\ttotal: 320ms\tremaining: 1.92s\n",
      "4:\tlearn: 1872.6195755\ttotal: 397ms\tremaining: 1.82s\n",
      "5:\tlearn: 1834.7764911\ttotal: 467ms\tremaining: 1.71s\n",
      "6:\tlearn: 1807.5170712\ttotal: 541ms\tremaining: 1.62s\n",
      "7:\tlearn: 1791.8947331\ttotal: 612ms\tremaining: 1.53s\n",
      "8:\tlearn: 1775.4349592\ttotal: 691ms\tremaining: 1.46s\n",
      "9:\tlearn: 1747.2515908\ttotal: 761ms\tremaining: 1.37s\n",
      "10:\tlearn: 1726.9205784\ttotal: 836ms\tremaining: 1.29s\n",
      "11:\tlearn: 1716.9574955\ttotal: 907ms\tremaining: 1.21s\n",
      "12:\tlearn: 1706.7349712\ttotal: 985ms\tremaining: 1.14s\n",
      "13:\tlearn: 1696.8276335\ttotal: 1.06s\tremaining: 1.06s\n",
      "14:\tlearn: 1691.6150425\ttotal: 1.13s\tremaining: 979ms\n",
      "15:\tlearn: 1683.8286469\ttotal: 1.2s\tremaining: 903ms\n",
      "16:\tlearn: 1676.3037874\ttotal: 1.28s\tremaining: 829ms\n",
      "17:\tlearn: 1669.9966450\ttotal: 1.36s\tremaining: 753ms\n",
      "18:\tlearn: 1659.5659793\ttotal: 1.43s\tremaining: 678ms\n",
      "19:\tlearn: 1650.4952616\ttotal: 1.5s\tremaining: 602ms\n",
      "20:\tlearn: 1643.9214948\ttotal: 1.58s\tremaining: 526ms\n",
      "21:\tlearn: 1637.6168477\ttotal: 1.65s\tremaining: 449ms\n",
      "22:\tlearn: 1637.6097140\ttotal: 1.67s\tremaining: 363ms\n",
      "23:\tlearn: 1631.6798674\ttotal: 1.75s\tremaining: 291ms\n",
      "24:\tlearn: 1626.6885463\ttotal: 1.82s\tremaining: 218ms\n",
      "25:\tlearn: 1621.2449755\ttotal: 1.89s\tremaining: 146ms\n",
      "26:\tlearn: 1617.6671277\ttotal: 1.96s\tremaining: 72.7ms\n",
      "27:\tlearn: 1609.4042650\ttotal: 2.04s\tremaining: 0us\n",
      "0:\tlearn: 3060.8245239\ttotal: 92.1ms\tremaining: 2.49s\n",
      "1:\tlearn: 2389.1485635\ttotal: 177ms\tremaining: 2.31s\n",
      "2:\tlearn: 2076.4921078\ttotal: 261ms\tremaining: 2.17s\n",
      "3:\tlearn: 1943.7568065\ttotal: 339ms\tremaining: 2.04s\n",
      "4:\tlearn: 1885.7019964\ttotal: 410ms\tremaining: 1.89s\n",
      "5:\tlearn: 1850.8583457\ttotal: 484ms\tremaining: 1.78s\n",
      "6:\tlearn: 1814.6156957\ttotal: 557ms\tremaining: 1.67s\n",
      "7:\tlearn: 1797.6686126\ttotal: 632ms\tremaining: 1.58s\n",
      "8:\tlearn: 1779.3873827\ttotal: 709ms\tremaining: 1.5s\n",
      "9:\tlearn: 1768.2509176\ttotal: 781ms\tremaining: 1.41s\n",
      "10:\tlearn: 1756.9394130\ttotal: 862ms\tremaining: 1.33s\n",
      "11:\tlearn: 1738.0345148\ttotal: 933ms\tremaining: 1.24s\n",
      "12:\tlearn: 1726.4397173\ttotal: 1.01s\tremaining: 1.16s\n",
      "13:\tlearn: 1717.8810816\ttotal: 1.08s\tremaining: 1.08s\n",
      "14:\tlearn: 1705.7549988\ttotal: 1.15s\tremaining: 998ms\n",
      "15:\tlearn: 1699.8785949\ttotal: 1.23s\tremaining: 920ms\n",
      "16:\tlearn: 1694.2980064\ttotal: 1.3s\tremaining: 845ms\n",
      "17:\tlearn: 1685.9512375\ttotal: 1.38s\tremaining: 765ms\n",
      "18:\tlearn: 1678.7568289\ttotal: 1.45s\tremaining: 687ms\n",
      "19:\tlearn: 1671.2971844\ttotal: 1.52s\tremaining: 609ms\n",
      "20:\tlearn: 1666.3392374\ttotal: 1.59s\tremaining: 531ms\n",
      "21:\tlearn: 1664.6312782\ttotal: 1.66s\tremaining: 453ms\n",
      "22:\tlearn: 1660.6288246\ttotal: 1.75s\tremaining: 380ms\n",
      "23:\tlearn: 1653.4869332\ttotal: 1.82s\tremaining: 303ms\n",
      "24:\tlearn: 1648.7280214\ttotal: 1.89s\tremaining: 227ms\n",
      "25:\tlearn: 1638.4850348\ttotal: 1.96s\tremaining: 151ms\n",
      "26:\tlearn: 1633.5778726\ttotal: 2.04s\tremaining: 75.5ms\n",
      "27:\tlearn: 1629.5264398\ttotal: 2.11s\tremaining: 0us\n",
      "0:\tlearn: 3043.0632080\ttotal: 177ms\tremaining: 4.78s\n",
      "1:\tlearn: 2348.5357451\ttotal: 322ms\tremaining: 4.18s\n",
      "2:\tlearn: 2069.1347489\ttotal: 477ms\tremaining: 3.97s\n",
      "3:\tlearn: 1955.4771179\ttotal: 612ms\tremaining: 3.67s\n",
      "4:\tlearn: 1893.5567168\ttotal: 747ms\tremaining: 3.43s\n",
      "5:\tlearn: 1860.4480761\ttotal: 876ms\tremaining: 3.21s\n",
      "6:\tlearn: 1828.4468718\ttotal: 1.02s\tremaining: 3.06s\n",
      "7:\tlearn: 1799.1940589\ttotal: 1.15s\tremaining: 2.87s\n",
      "8:\tlearn: 1783.5426369\ttotal: 1.28s\tremaining: 2.7s\n",
      "9:\tlearn: 1766.9914039\ttotal: 1.42s\tremaining: 2.56s\n",
      "10:\tlearn: 1757.4561050\ttotal: 1.55s\tremaining: 2.4s\n",
      "11:\tlearn: 1747.5615399\ttotal: 1.69s\tremaining: 2.25s\n",
      "12:\tlearn: 1738.7233674\ttotal: 1.82s\tremaining: 2.1s\n",
      "13:\tlearn: 1729.3024459\ttotal: 1.96s\tremaining: 1.96s\n",
      "14:\tlearn: 1719.3958468\ttotal: 2.09s\tremaining: 1.81s\n",
      "15:\tlearn: 1711.4208680\ttotal: 2.23s\tremaining: 1.67s\n",
      "16:\tlearn: 1703.5361663\ttotal: 2.36s\tremaining: 1.52s\n",
      "17:\tlearn: 1698.2538322\ttotal: 2.49s\tremaining: 1.38s\n",
      "18:\tlearn: 1694.3588085\ttotal: 2.63s\tremaining: 1.24s\n",
      "19:\tlearn: 1690.6412638\ttotal: 2.76s\tremaining: 1.1s\n",
      "20:\tlearn: 1683.1180286\ttotal: 2.9s\tremaining: 966ms\n",
      "21:\tlearn: 1680.8844702\ttotal: 3.02s\tremaining: 825ms\n",
      "22:\tlearn: 1674.7007557\ttotal: 3.16s\tremaining: 687ms\n",
      "23:\tlearn: 1667.8502347\ttotal: 3.3s\tremaining: 549ms\n",
      "24:\tlearn: 1660.9761213\ttotal: 3.43s\tremaining: 412ms\n",
      "25:\tlearn: 1654.4560096\ttotal: 3.56s\tremaining: 274ms\n",
      "26:\tlearn: 1648.4796352\ttotal: 3.71s\tremaining: 137ms\n",
      "27:\tlearn: 1642.5676910\ttotal: 3.85s\tremaining: 0us\n"
     ]
    }
   ],
   "source": [
    "#training CatBoost models and tuning parametrs\n",
    "model=CatBoostRegressor()\n",
    "\n",
    "#defining parameters for grid search\n",
    "param={ 'n_estimators': [28],\n",
    "        'depth' : [6,8,10],\n",
    "        'learning_rate': [0.01, 0.05, 0.1, 0.5],    \n",
    "        'loss_function': ['RMSE'],\n",
    "        'random_seed': [12345]}\n",
    "\n",
    "#finding the best parameters\n",
    "grid=GridSearchCV(estimator=model, param_grid=param, scoring=scorer, cv=2, n_jobs=-1, verbose=0)\n",
    "grid.fit(gb_features_train, gb_target_train, cat_features=features_to_encode)\n",
    "best_param=grid.best_params_"
   ]
  },
  {
   "cell_type": "code",
   "execution_count": 21,
   "metadata": {},
   "outputs": [
    {
     "data": {
      "text/plain": [
       "{'depth': 10,\n",
       " 'learning_rate': 0.5,\n",
       " 'loss_function': 'RMSE',\n",
       " 'n_estimators': 28,\n",
       " 'random_seed': 12345}"
      ]
     },
     "execution_count": 21,
     "metadata": {},
     "output_type": "execute_result"
    }
   ],
   "source": [
    "#printing the best parameters\n",
    "best_param"
   ]
  },
  {
   "cell_type": "code",
   "execution_count": 22,
   "metadata": {},
   "outputs": [
    {
     "name": "stdout",
     "output_type": "stream",
     "text": [
      "0:\tlearn: 3043.0632080\ttotal: 316ms\tremaining: 8.52s\n",
      "1:\tlearn: 2348.5357451\ttotal: 576ms\tremaining: 7.49s\n",
      "2:\tlearn: 2069.1347489\ttotal: 845ms\tremaining: 7.04s\n",
      "3:\tlearn: 1955.4771179\ttotal: 1.08s\tremaining: 6.5s\n",
      "4:\tlearn: 1893.5567168\ttotal: 1.33s\tremaining: 6.11s\n",
      "5:\tlearn: 1860.4480761\ttotal: 1.57s\tremaining: 5.76s\n",
      "6:\tlearn: 1828.4468718\ttotal: 1.82s\tremaining: 5.46s\n",
      "7:\tlearn: 1799.1940589\ttotal: 2.06s\tremaining: 5.14s\n",
      "8:\tlearn: 1783.5426369\ttotal: 2.29s\tremaining: 4.84s\n",
      "9:\tlearn: 1766.9914039\ttotal: 2.54s\tremaining: 4.57s\n",
      "10:\tlearn: 1757.4561050\ttotal: 2.77s\tremaining: 4.28s\n",
      "11:\tlearn: 1747.5615399\ttotal: 3.01s\tremaining: 4.01s\n",
      "12:\tlearn: 1738.7233674\ttotal: 3.25s\tremaining: 3.75s\n",
      "13:\tlearn: 1729.3024459\ttotal: 3.49s\tremaining: 3.49s\n",
      "14:\tlearn: 1719.3958468\ttotal: 3.73s\tremaining: 3.23s\n",
      "15:\tlearn: 1711.4208680\ttotal: 3.97s\tremaining: 2.98s\n",
      "16:\tlearn: 1703.5361663\ttotal: 4.21s\tremaining: 2.72s\n",
      "17:\tlearn: 1698.2538322\ttotal: 4.45s\tremaining: 2.47s\n",
      "18:\tlearn: 1694.3588085\ttotal: 4.69s\tremaining: 2.22s\n",
      "19:\tlearn: 1690.6412638\ttotal: 4.93s\tremaining: 1.97s\n",
      "20:\tlearn: 1683.1180286\ttotal: 5.17s\tremaining: 1.72s\n",
      "21:\tlearn: 1680.8844702\ttotal: 5.4s\tremaining: 1.47s\n",
      "22:\tlearn: 1674.7007557\ttotal: 5.64s\tremaining: 1.23s\n",
      "23:\tlearn: 1667.8502347\ttotal: 5.88s\tremaining: 981ms\n",
      "24:\tlearn: 1660.9761213\ttotal: 6.12s\tremaining: 735ms\n",
      "25:\tlearn: 1654.4560096\ttotal: 6.36s\tremaining: 489ms\n",
      "26:\tlearn: 1648.4796352\ttotal: 6.5s\tremaining: 241ms\n",
      "27:\tlearn: 1642.5676910\ttotal: 6.65s\tremaining: 0us\n"
     ]
    },
    {
     "data": {
      "text/plain": [
       "8.023786783218384"
      ]
     },
     "execution_count": 22,
     "metadata": {},
     "output_type": "execute_result"
    }
   ],
   "source": [
    "#training CatBoost model with best paramenters and printing time that requires to train the model\n",
    "model=CatBoostRegressor(n_estimators=28, depth=10, learning_rate=0.5, loss_function='RMSE', random_seed=12345) \n",
    "start_time=time.time()\n",
    "model.fit(gb_features_train, gb_target_train, cat_features=features_to_encode)\n",
    "cb_tr_time=time.time() - start_time\n",
    "cb_tr_time"
   ]
  },
  {
   "cell_type": "code",
   "execution_count": 23,
   "metadata": {},
   "outputs": [
    {
     "data": {
      "text/plain": [
       "0.1301732063293457"
      ]
     },
     "execution_count": 23,
     "metadata": {},
     "output_type": "execute_result"
    }
   ],
   "source": [
    "#making predictions with CatBoost model and printing time that requires to do this\n",
    "start_time=time.time()\n",
    "cb_predictions=model.predict(gb_features_test)\n",
    "cb_pred_time=time.time() - start_time\n",
    "cb_pred_time"
   ]
  },
  {
   "cell_type": "code",
   "execution_count": 24,
   "metadata": {},
   "outputs": [
    {
     "data": {
      "text/plain": [
       "1728.196429621239"
      ]
     },
     "execution_count": 24,
     "metadata": {},
     "output_type": "execute_result"
    }
   ],
   "source": [
    "#calculating RMSE for CatBoost model\n",
    "cb_rmse=(mean_squared_error(gb_target_test, cb_predictions))**0.5\n",
    "cb_rmse"
   ]
  },
  {
   "cell_type": "markdown",
   "metadata": {},
   "source": [
    "## LightGBM\n",
    "\n",
    "Finally, we will build and tune the parameters of the LightGBM model. Similarly to CatBoost model, we will tune only a few model parameters: max_depth and learning_rate. We will use the same n_estimators as we used for our best Random Forest model. To find the best parameters, we will use GridSearchCV. Also, for this model to use categorical features directly, we will change the data type of the features to category. Then we will test it on the test set with the best parameters and calculate RMSE."
   ]
  },
  {
   "cell_type": "code",
   "execution_count": 25,
   "metadata": {},
   "outputs": [
    {
     "name": "stderr",
     "output_type": "stream",
     "text": [
      "/tmp/ipykernel_90/3285429791.py:3: SettingWithCopyWarning: \n",
      "A value is trying to be set on a copy of a slice from a DataFrame.\n",
      "Try using .loc[row_indexer,col_indexer] = value instead\n",
      "\n",
      "See the caveats in the documentation: https://pandas.pydata.org/pandas-docs/stable/user_guide/indexing.html#returning-a-view-versus-a-copy\n",
      "  gb_features_train[cat] = gb_features_train[cat].astype('category')\n"
     ]
    }
   ],
   "source": [
    "#changing the data type of the features to category\n",
    "for cat in features_to_encode:\n",
    "    gb_features_train[cat] = gb_features_train[cat].astype('category')\n",
    "\n",
    "#training CatBoost models and tuning parametrs    \n",
    "model=LGBMRegressor()\n",
    "\n",
    "#defining parameters for grid search\n",
    "param={ 'n_estimators': [28],\n",
    "        'max_depth' : [6,8,10],\n",
    "        'learning_rate': [0.01, 0.05, 0.1, 0.5],    \n",
    "        'objective': ['RMSE'],\n",
    "        'random_seed': [12345]}\n",
    "\n",
    "#finding the best parameters\n",
    "grid=GridSearchCV(estimator=model, param_grid=param, scoring=scorer, cv=2, n_jobs=-1)\n",
    "grid.fit(gb_features_train, gb_target_train)\n",
    "best_param=grid.best_params_"
   ]
  },
  {
   "cell_type": "code",
   "execution_count": 26,
   "metadata": {},
   "outputs": [
    {
     "data": {
      "text/plain": [
       "{'learning_rate': 0.5,\n",
       " 'max_depth': 10,\n",
       " 'n_estimators': 28,\n",
       " 'objective': 'RMSE',\n",
       " 'random_seed': 12345}"
      ]
     },
     "execution_count": 26,
     "metadata": {},
     "output_type": "execute_result"
    }
   ],
   "source": [
    "#printing the best parameters\n",
    "best_param"
   ]
  },
  {
   "cell_type": "code",
   "execution_count": 27,
   "metadata": {},
   "outputs": [
    {
     "data": {
      "text/plain": [
       "4.1870410442352295"
      ]
     },
     "execution_count": 27,
     "metadata": {},
     "output_type": "execute_result"
    }
   ],
   "source": [
    "#training LightGBM model with best paramenters and printing time that requires to train the model\n",
    "model=LGBMRegressor(n_estimators=28, max_depth=10, learning_rate=0.5, objective='RMSE', random_seed=12345) \n",
    "start_time=time.time()\n",
    "model.fit(gb_features_train, gb_target_train)\n",
    "lg_tr_time=time.time() - start_time\n",
    "lg_tr_time"
   ]
  },
  {
   "cell_type": "code",
   "execution_count": 28,
   "metadata": {},
   "outputs": [
    {
     "name": "stderr",
     "output_type": "stream",
     "text": [
      "/tmp/ipykernel_90/2427071987.py:3: SettingWithCopyWarning: \n",
      "A value is trying to be set on a copy of a slice from a DataFrame.\n",
      "Try using .loc[row_indexer,col_indexer] = value instead\n",
      "\n",
      "See the caveats in the documentation: https://pandas.pydata.org/pandas-docs/stable/user_guide/indexing.html#returning-a-view-versus-a-copy\n",
      "  gb_features_test[cat] = gb_features_test[cat].astype('category')\n"
     ]
    }
   ],
   "source": [
    "#changing the data type of the features in test set to category\n",
    "for cat in features_to_encode:\n",
    "    gb_features_test[cat] = gb_features_test[cat].astype('category')"
   ]
  },
  {
   "cell_type": "code",
   "execution_count": 29,
   "metadata": {},
   "outputs": [
    {
     "data": {
      "text/plain": [
       "0.2529733180999756"
      ]
     },
     "execution_count": 29,
     "metadata": {},
     "output_type": "execute_result"
    }
   ],
   "source": [
    "#making predictions with LightGBM model and printing time that requires to do this\n",
    "start_time = time.time()\n",
    "lg_predictions=model.predict(gb_features_test)\n",
    "lg_pred_time=time.time() - start_time\n",
    "lg_pred_time"
   ]
  },
  {
   "cell_type": "code",
   "execution_count": 30,
   "metadata": {},
   "outputs": [
    {
     "data": {
      "text/plain": [
       "1745.3624810146844"
      ]
     },
     "execution_count": 30,
     "metadata": {},
     "output_type": "execute_result"
    }
   ],
   "source": [
    "#calculating RMSE for LightGBM model\n",
    "lg_rmse=(mean_squared_error(gb_target_test, lg_predictions))**0.5\n",
    "lg_rmse"
   ]
  },
  {
   "cell_type": "markdown",
   "metadata": {},
   "source": [
    "All models are built and tested. On the next step, we will analyze them."
   ]
  },
  {
   "cell_type": "markdown",
   "metadata": {},
   "source": [
    "## Model analysis\n",
    "\n",
    "In this final step, we will compare the speed and quality of the models. To make comparison easy, we will combine models’ speed and quality to a data frame."
   ]
  },
  {
   "cell_type": "code",
   "execution_count": 31,
   "metadata": {},
   "outputs": [
    {
     "data": {
      "text/html": [
       "<div>\n",
       "<style scoped>\n",
       "    .dataframe tbody tr th:only-of-type {\n",
       "        vertical-align: middle;\n",
       "    }\n",
       "\n",
       "    .dataframe tbody tr th {\n",
       "        vertical-align: top;\n",
       "    }\n",
       "\n",
       "    .dataframe thead th {\n",
       "        text-align: right;\n",
       "    }\n",
       "</style>\n",
       "<table border=\"1\" class=\"dataframe\">\n",
       "  <thead>\n",
       "    <tr style=\"text-align: right;\">\n",
       "      <th></th>\n",
       "      <th>training_time(sec)</th>\n",
       "      <th>prediction_time(sec)</th>\n",
       "      <th>RMSE</th>\n",
       "    </tr>\n",
       "  </thead>\n",
       "  <tbody>\n",
       "    <tr>\n",
       "      <th>LR</th>\n",
       "      <td>0.080896</td>\n",
       "      <td>0.006867</td>\n",
       "      <td>3344.148056</td>\n",
       "    </tr>\n",
       "    <tr>\n",
       "      <th>RF</th>\n",
       "      <td>24.184315</td>\n",
       "      <td>0.961155</td>\n",
       "      <td>1642.698529</td>\n",
       "    </tr>\n",
       "    <tr>\n",
       "      <th>CB</th>\n",
       "      <td>8.023787</td>\n",
       "      <td>0.130173</td>\n",
       "      <td>1728.196430</td>\n",
       "    </tr>\n",
       "    <tr>\n",
       "      <th>LG</th>\n",
       "      <td>4.187041</td>\n",
       "      <td>0.252973</td>\n",
       "      <td>1745.362481</td>\n",
       "    </tr>\n",
       "  </tbody>\n",
       "</table>\n",
       "</div>"
      ],
      "text/plain": [
       "    training_time(sec)  prediction_time(sec)         RMSE\n",
       "LR            0.080896              0.006867  3344.148056\n",
       "RF           24.184315              0.961155  1642.698529\n",
       "CB            8.023787              0.130173  1728.196430\n",
       "LG            4.187041              0.252973  1745.362481"
      ]
     },
     "execution_count": 31,
     "metadata": {},
     "output_type": "execute_result"
    }
   ],
   "source": [
    "#putting models speed and quality date to a data frame\n",
    "index=['LR', 'RF', 'CB', 'LG']\n",
    "columns=['training_time(sec)', 'prediction_time(sec)', 'RMSE']\n",
    "data=[[lr_tr_time, lr_pred_time, lr_rmse],\n",
    "     [rf_tr_time, rf_pred_time, rf_rmse],\n",
    "     [cb_tr_time, cb_pred_time, cb_rmse],\n",
    "     [lg_tr_time, lg_pred_time, lg_rmse]]\n",
    "result=pd.DataFrame(data=data, columns=columns, index=index)\n",
    "\n",
    "#printing the resulting data frame\n",
    "result"
   ]
  },
  {
   "cell_type": "markdown",
   "metadata": {},
   "source": [
    "We used Linear regression as a base model to perform a sanity check of other methods, and as can be seen, the quality of all other models is much better than the quality of Linear regression. So, we can conclude that the result that we received looks correct. \n",
    "\n",
    "As can be seen, the quality of the Random Forest model is a bit higher than the quality of CatBoost and LightGBM models. This could be due to the fact that we tuned only a few model parameters for gradient boosting models.\n",
    "\n",
    "At the same time, while the quality of Random Forest model is the highest, the time to train it and prediction time for it are several times higher than the time to train CatBoost and LightGBM models. It is also worth noting that although training time for CatBoost is higher than for LightGBM model, CatBoost makes predictions faster."
   ]
  },
  {
   "cell_type": "markdown",
   "metadata": {},
   "source": [
    "# Checklist"
   ]
  },
  {
   "cell_type": "markdown",
   "metadata": {},
   "source": [
    "Type 'x' to check. Then press Shift+Enter."
   ]
  },
  {
   "cell_type": "markdown",
   "metadata": {},
   "source": [
    "- [x]  Jupyter Notebook is open\n",
    "- [x]  Code is error free\n",
    "- [x]  The cells with the code have been arranged in order of execution\n",
    "- [x]  The data has been downloaded and prepared\n",
    "- [x]  The models have been trained\n",
    "- [x]  The analysis of speed and quality of the models has been performed"
   ]
  }
 ],
 "metadata": {
  "ExecuteTimeLog": [
   {
    "duration": 1145,
    "start_time": "2022-05-06T05:15:51.207Z"
   },
   {
    "duration": 13,
    "start_time": "2022-05-06T05:16:04.914Z"
   },
   {
    "duration": 3617,
    "start_time": "2022-05-06T05:16:28.872Z"
   },
   {
    "duration": 137,
    "start_time": "2022-05-06T05:17:08.682Z"
   },
   {
    "duration": 21,
    "start_time": "2022-05-06T05:18:48.876Z"
   },
   {
    "duration": 1624,
    "start_time": "2022-05-06T05:19:51.590Z"
   },
   {
    "duration": 36,
    "start_time": "2022-05-06T05:27:20.419Z"
   },
   {
    "duration": 4,
    "start_time": "2022-05-06T05:28:21.456Z"
   },
   {
    "duration": 4,
    "start_time": "2022-05-06T05:28:26.852Z"
   },
   {
    "duration": 52,
    "start_time": "2022-05-06T05:28:36.972Z"
   },
   {
    "duration": 48,
    "start_time": "2022-05-06T05:32:32.739Z"
   },
   {
    "duration": 150,
    "start_time": "2022-05-06T05:39:13.402Z"
   },
   {
    "duration": 144,
    "start_time": "2022-05-06T05:39:31.898Z"
   },
   {
    "duration": 32,
    "start_time": "2022-05-06T05:43:01.335Z"
   },
   {
    "duration": 22,
    "start_time": "2022-05-06T05:45:24.237Z"
   },
   {
    "duration": 28,
    "start_time": "2022-05-06T05:45:37.892Z"
   },
   {
    "duration": 35,
    "start_time": "2022-05-06T05:45:48.454Z"
   },
   {
    "duration": 34,
    "start_time": "2022-05-06T05:46:03.983Z"
   },
   {
    "duration": 175,
    "start_time": "2022-05-06T05:46:21.663Z"
   },
   {
    "duration": 107,
    "start_time": "2022-05-06T05:46:27.542Z"
   },
   {
    "duration": 1254,
    "start_time": "2022-05-11T04:50:31.922Z"
   },
   {
    "duration": 4847,
    "start_time": "2022-05-11T04:50:33.178Z"
   },
   {
    "duration": 143,
    "start_time": "2022-05-11T04:50:38.026Z"
   },
   {
    "duration": 23,
    "start_time": "2022-05-11T04:50:38.171Z"
   },
   {
    "duration": 151,
    "start_time": "2022-05-11T04:50:38.196Z"
   },
   {
    "duration": 35,
    "start_time": "2022-05-11T04:50:38.348Z"
   },
   {
    "duration": 31,
    "start_time": "2022-05-11T04:50:38.385Z"
   },
   {
    "duration": 47,
    "start_time": "2022-05-11T04:50:38.418Z"
   },
   {
    "duration": 184,
    "start_time": "2022-05-11T04:50:38.467Z"
   },
   {
    "duration": 110,
    "start_time": "2022-05-11T04:50:38.654Z"
   },
   {
    "duration": 63,
    "start_time": "2022-05-11T05:05:01.047Z"
   },
   {
    "duration": 99,
    "start_time": "2022-05-11T05:15:39.364Z"
   },
   {
    "duration": 4,
    "start_time": "2022-05-11T05:19:48.453Z"
   },
   {
    "duration": 1483,
    "start_time": "2022-05-11T05:21:53.966Z"
   },
   {
    "duration": 262,
    "start_time": "2022-05-11T05:23:36.648Z"
   },
   {
    "duration": 4,
    "start_time": "2022-05-11T05:26:00.165Z"
   },
   {
    "duration": 285,
    "start_time": "2022-05-11T05:31:34.102Z"
   },
   {
    "duration": 168,
    "start_time": "2022-05-11T05:31:40.964Z"
   },
   {
    "duration": 76,
    "start_time": "2022-05-11T05:32:15.470Z"
   },
   {
    "duration": 20,
    "start_time": "2022-05-11T05:39:30.357Z"
   },
   {
    "duration": 10,
    "start_time": "2022-05-11T05:41:34.727Z"
   },
   {
    "duration": 43,
    "start_time": "2022-05-11T05:41:53.894Z"
   },
   {
    "duration": 6,
    "start_time": "2022-05-11T05:42:18.907Z"
   },
   {
    "duration": 3,
    "start_time": "2022-05-11T05:47:39.674Z"
   },
   {
    "duration": 13,
    "start_time": "2022-05-11T05:59:58.808Z"
   },
   {
    "duration": 5,
    "start_time": "2022-05-11T06:00:25.925Z"
   },
   {
    "duration": 11,
    "start_time": "2022-05-11T06:00:32.685Z"
   },
   {
    "duration": 8077,
    "start_time": "2022-05-11T06:01:35.965Z"
   },
   {
    "duration": 1531,
    "start_time": "2022-05-11T06:12:28.263Z"
   },
   {
    "duration": 746,
    "start_time": "2022-05-11T06:12:29.796Z"
   },
   {
    "duration": 149,
    "start_time": "2022-05-11T06:12:30.544Z"
   },
   {
    "duration": 23,
    "start_time": "2022-05-11T06:12:30.695Z"
   },
   {
    "duration": 152,
    "start_time": "2022-05-11T06:12:30.719Z"
   },
   {
    "duration": 35,
    "start_time": "2022-05-11T06:12:30.873Z"
   },
   {
    "duration": 43,
    "start_time": "2022-05-11T06:12:30.910Z"
   },
   {
    "duration": 41,
    "start_time": "2022-05-11T06:12:30.955Z"
   },
   {
    "duration": 222,
    "start_time": "2022-05-11T06:12:30.999Z"
   },
   {
    "duration": 122,
    "start_time": "2022-05-11T06:12:31.224Z"
   },
   {
    "duration": 67,
    "start_time": "2022-05-11T06:12:31.347Z"
   },
   {
    "duration": 1571,
    "start_time": "2022-05-11T06:12:31.416Z"
   },
   {
    "duration": 148,
    "start_time": "2022-05-11T06:12:32.989Z"
   },
   {
    "duration": 96,
    "start_time": "2022-05-11T06:12:33.139Z"
   },
   {
    "duration": 98,
    "start_time": "2022-05-11T06:12:33.237Z"
   },
   {
    "duration": 547664,
    "start_time": "2022-05-11T06:12:33.337Z"
   },
   {
    "duration": 373066,
    "start_time": "2022-05-11T06:23:30.249Z"
   },
   {
    "duration": 110,
    "start_time": "2022-05-11T06:30:11.620Z"
   },
   {
    "duration": 369036,
    "start_time": "2022-05-11T06:35:16.494Z"
   },
   {
    "duration": 26530,
    "start_time": "2022-05-11T06:42:48.602Z"
   },
   {
    "duration": 1011,
    "start_time": "2022-05-11T06:43:27.224Z"
   },
   {
    "duration": 5,
    "start_time": "2022-05-11T06:43:35.707Z"
   },
   {
    "duration": 49,
    "start_time": "2022-05-12T04:54:38.838Z"
   },
   {
    "duration": 1543,
    "start_time": "2022-05-12T04:54:58.449Z"
   },
   {
    "duration": 1137,
    "start_time": "2022-05-12T04:54:59.994Z"
   },
   {
    "duration": 124,
    "start_time": "2022-05-12T04:55:01.133Z"
   },
   {
    "duration": 26,
    "start_time": "2022-05-12T04:55:01.259Z"
   },
   {
    "duration": 130,
    "start_time": "2022-05-12T04:55:01.287Z"
   },
   {
    "duration": 33,
    "start_time": "2022-05-12T04:55:01.419Z"
   },
   {
    "duration": 37,
    "start_time": "2022-05-12T04:55:01.453Z"
   },
   {
    "duration": 39,
    "start_time": "2022-05-12T04:55:01.492Z"
   },
   {
    "duration": 165,
    "start_time": "2022-05-12T04:55:01.532Z"
   },
   {
    "duration": 107,
    "start_time": "2022-05-12T04:55:01.700Z"
   },
   {
    "duration": 69,
    "start_time": "2022-05-12T04:55:01.808Z"
   },
   {
    "duration": 1440,
    "start_time": "2022-05-12T04:55:01.879Z"
   },
   {
    "duration": 76,
    "start_time": "2022-05-12T04:55:03.321Z"
   },
   {
    "duration": 75,
    "start_time": "2022-05-12T04:55:03.399Z"
   },
   {
    "duration": 196,
    "start_time": "2022-05-12T04:55:03.476Z"
   },
   {
    "duration": 5,
    "start_time": "2022-05-12T04:55:03.674Z"
   },
   {
    "duration": 24944,
    "start_time": "2022-05-12T04:55:03.680Z"
   },
   {
    "duration": 1012,
    "start_time": "2022-05-12T04:55:28.626Z"
   },
   {
    "duration": 6,
    "start_time": "2022-05-12T04:55:29.640Z"
   },
   {
    "duration": 84,
    "start_time": "2022-05-12T04:55:29.648Z"
   },
   {
    "duration": 1673,
    "start_time": "2022-05-12T04:56:26.679Z"
   },
   {
    "duration": 688,
    "start_time": "2022-05-12T04:56:28.354Z"
   },
   {
    "duration": 139,
    "start_time": "2022-05-12T04:56:29.044Z"
   },
   {
    "duration": 19,
    "start_time": "2022-05-12T04:56:29.185Z"
   },
   {
    "duration": 222,
    "start_time": "2022-05-12T04:56:29.206Z"
   },
   {
    "duration": 33,
    "start_time": "2022-05-12T04:56:29.430Z"
   },
   {
    "duration": 36,
    "start_time": "2022-05-12T04:56:29.464Z"
   },
   {
    "duration": 36,
    "start_time": "2022-05-12T04:56:29.502Z"
   },
   {
    "duration": 176,
    "start_time": "2022-05-12T04:56:29.540Z"
   },
   {
    "duration": 105,
    "start_time": "2022-05-12T04:56:29.719Z"
   },
   {
    "duration": 73,
    "start_time": "2022-05-12T04:56:29.826Z"
   },
   {
    "duration": 1601,
    "start_time": "2022-05-12T04:56:29.900Z"
   },
   {
    "duration": 96,
    "start_time": "2022-05-12T04:56:31.503Z"
   },
   {
    "duration": 106,
    "start_time": "2022-05-12T04:56:31.668Z"
   },
   {
    "duration": 92,
    "start_time": "2022-05-12T04:56:31.776Z"
   },
   {
    "duration": 6,
    "start_time": "2022-05-12T04:56:31.870Z"
   },
   {
    "duration": 26583,
    "start_time": "2022-05-12T04:56:31.877Z"
   },
   {
    "duration": 1046,
    "start_time": "2022-05-12T04:56:58.466Z"
   },
   {
    "duration": 6,
    "start_time": "2022-05-12T04:56:59.513Z"
   },
   {
    "duration": 123,
    "start_time": "2022-05-12T04:56:59.520Z"
   },
   {
    "duration": 1789,
    "start_time": "2022-05-12T04:58:05.992Z"
   },
   {
    "duration": 662,
    "start_time": "2022-05-12T04:58:07.783Z"
   },
   {
    "duration": 140,
    "start_time": "2022-05-12T04:58:08.447Z"
   },
   {
    "duration": 21,
    "start_time": "2022-05-12T04:58:08.589Z"
   },
   {
    "duration": 237,
    "start_time": "2022-05-12T04:58:08.612Z"
   },
   {
    "duration": 32,
    "start_time": "2022-05-12T04:58:08.850Z"
   },
   {
    "duration": 26,
    "start_time": "2022-05-12T04:58:08.884Z"
   },
   {
    "duration": 34,
    "start_time": "2022-05-12T04:58:08.912Z"
   },
   {
    "duration": 207,
    "start_time": "2022-05-12T04:58:08.948Z"
   },
   {
    "duration": 120,
    "start_time": "2022-05-12T04:58:09.158Z"
   },
   {
    "duration": 60,
    "start_time": "2022-05-12T04:58:09.280Z"
   },
   {
    "duration": 1714,
    "start_time": "2022-05-12T04:58:09.342Z"
   },
   {
    "duration": 114,
    "start_time": "2022-05-12T04:58:11.058Z"
   },
   {
    "duration": 98,
    "start_time": "2022-05-12T04:58:11.173Z"
   },
   {
    "duration": 94,
    "start_time": "2022-05-12T04:58:11.274Z"
   },
   {
    "duration": 5,
    "start_time": "2022-05-12T04:58:11.370Z"
   },
   {
    "duration": 25584,
    "start_time": "2022-05-12T04:58:11.377Z"
   },
   {
    "duration": 1064,
    "start_time": "2022-05-12T04:58:36.962Z"
   },
   {
    "duration": 5,
    "start_time": "2022-05-12T04:58:38.028Z"
   },
   {
    "duration": 86800,
    "start_time": "2022-05-12T04:58:38.035Z"
   },
   {
    "duration": 130,
    "start_time": "2022-05-12T05:02:58.259Z"
   },
   {
    "duration": 164,
    "start_time": "2022-05-12T05:03:05.083Z"
   },
   {
    "duration": 63961,
    "start_time": "2022-05-12T05:04:19.856Z"
   },
   {
    "duration": 4,
    "start_time": "2022-05-12T05:05:47.644Z"
   },
   {
    "duration": 2975,
    "start_time": "2022-05-12T05:07:01.883Z"
   },
   {
    "duration": 6,
    "start_time": "2022-05-12T05:08:59.588Z"
   },
   {
    "duration": 6,
    "start_time": "2022-05-12T05:10:13.673Z"
   },
   {
    "duration": 5733,
    "start_time": "2022-05-12T05:10:54.798Z"
   },
   {
    "duration": 138,
    "start_time": "2022-05-12T05:13:09.214Z"
   },
   {
    "duration": 5,
    "start_time": "2022-05-12T05:13:32.243Z"
   },
   {
    "duration": 60834,
    "start_time": "2022-05-12T05:19:29.145Z"
   },
   {
    "duration": 57862,
    "start_time": "2022-05-12T05:21:24.805Z"
   },
   {
    "duration": 3,
    "start_time": "2022-05-12T05:22:34.937Z"
   },
   {
    "duration": 5713,
    "start_time": "2022-05-12T05:24:56.060Z"
   },
   {
    "duration": 145,
    "start_time": "2022-05-12T05:25:54.446Z"
   },
   {
    "duration": 140,
    "start_time": "2022-05-12T05:26:25.583Z"
   },
   {
    "duration": 47,
    "start_time": "2022-05-12T05:27:00.861Z"
   },
   {
    "duration": 231,
    "start_time": "2022-05-12T05:27:18.262Z"
   },
   {
    "duration": 6,
    "start_time": "2022-05-12T05:28:17.046Z"
   },
   {
    "duration": 5,
    "start_time": "2022-05-12T05:32:32.721Z"
   },
   {
    "duration": 10,
    "start_time": "2022-05-12T05:32:38.759Z"
   },
   {
    "duration": 3,
    "start_time": "2022-05-12T05:34:47.741Z"
   },
   {
    "duration": 214,
    "start_time": "2022-05-12T05:34:58.266Z"
   },
   {
    "duration": 239,
    "start_time": "2022-05-12T05:37:44.651Z"
   },
   {
    "duration": 22958,
    "start_time": "2022-05-12T05:39:26.021Z"
   },
   {
    "duration": 239,
    "start_time": "2022-05-12T05:40:55.651Z"
   },
   {
    "duration": 5712,
    "start_time": "2022-05-12T05:41:48.776Z"
   },
   {
    "duration": 3755,
    "start_time": "2022-05-12T05:42:34.914Z"
   },
   {
    "duration": 25832,
    "start_time": "2022-05-12T05:44:09.831Z"
   },
   {
    "duration": 1075,
    "start_time": "2022-05-12T05:44:37.835Z"
   },
   {
    "duration": 95,
    "start_time": "2022-05-12T05:46:07.087Z"
   },
   {
    "duration": 92,
    "start_time": "2022-05-12T05:46:10.577Z"
   },
   {
    "duration": 10,
    "start_time": "2022-05-12T05:51:30.509Z"
   },
   {
    "duration": 16,
    "start_time": "2022-05-12T05:51:47.250Z"
   },
   {
    "duration": 10,
    "start_time": "2022-05-12T05:52:55.333Z"
   },
   {
    "duration": 18,
    "start_time": "2022-05-12T05:53:34.830Z"
   },
   {
    "duration": 10,
    "start_time": "2022-05-12T05:53:57.329Z"
   },
   {
    "duration": 15,
    "start_time": "2022-05-12T05:54:26.616Z"
   },
   {
    "duration": 1455,
    "start_time": "2022-05-12T05:59:35.889Z"
   },
   {
    "duration": 669,
    "start_time": "2022-05-12T05:59:37.346Z"
   },
   {
    "duration": 133,
    "start_time": "2022-05-12T05:59:38.017Z"
   },
   {
    "duration": 34,
    "start_time": "2022-05-12T05:59:38.152Z"
   },
   {
    "duration": 134,
    "start_time": "2022-05-12T05:59:38.188Z"
   },
   {
    "duration": 44,
    "start_time": "2022-05-12T05:59:38.323Z"
   },
   {
    "duration": 23,
    "start_time": "2022-05-12T05:59:38.368Z"
   },
   {
    "duration": 33,
    "start_time": "2022-05-12T05:59:38.393Z"
   },
   {
    "duration": 182,
    "start_time": "2022-05-12T05:59:38.427Z"
   },
   {
    "duration": 108,
    "start_time": "2022-05-12T05:59:38.612Z"
   },
   {
    "duration": 71,
    "start_time": "2022-05-12T05:59:38.721Z"
   },
   {
    "duration": 1505,
    "start_time": "2022-05-12T05:59:38.794Z"
   },
   {
    "duration": 84,
    "start_time": "2022-05-12T05:59:40.301Z"
   },
   {
    "duration": 92,
    "start_time": "2022-05-12T05:59:40.387Z"
   },
   {
    "duration": 9,
    "start_time": "2022-05-12T05:59:40.566Z"
   },
   {
    "duration": 188842,
    "start_time": "2022-05-12T05:59:40.577Z"
   },
   {
    "duration": 26305,
    "start_time": "2022-05-12T06:02:49.421Z"
   },
   {
    "duration": 1096,
    "start_time": "2022-05-12T06:03:15.727Z"
   },
   {
    "duration": 5,
    "start_time": "2022-05-12T06:03:16.825Z"
   },
   {
    "duration": 99297,
    "start_time": "2022-05-12T06:03:16.832Z"
   },
   {
    "duration": 4,
    "start_time": "2022-05-12T06:04:56.130Z"
   },
   {
    "duration": 6417,
    "start_time": "2022-05-12T06:04:56.136Z"
   },
   {
    "duration": 265,
    "start_time": "2022-05-12T06:05:02.555Z"
   },
   {
    "duration": 7,
    "start_time": "2022-05-12T06:05:02.822Z"
   },
   {
    "duration": 1236,
    "start_time": "2022-05-13T04:53:51.875Z"
   },
   {
    "duration": 903,
    "start_time": "2022-05-13T04:53:53.113Z"
   },
   {
    "duration": 115,
    "start_time": "2022-05-13T04:53:54.018Z"
   },
   {
    "duration": 18,
    "start_time": "2022-05-13T04:53:54.135Z"
   },
   {
    "duration": 130,
    "start_time": "2022-05-13T04:53:54.154Z"
   },
   {
    "duration": 29,
    "start_time": "2022-05-13T04:53:54.286Z"
   },
   {
    "duration": 23,
    "start_time": "2022-05-13T04:53:54.316Z"
   },
   {
    "duration": 47,
    "start_time": "2022-05-13T04:53:54.340Z"
   },
   {
    "duration": 150,
    "start_time": "2022-05-13T04:53:54.389Z"
   },
   {
    "duration": 97,
    "start_time": "2022-05-13T04:53:54.542Z"
   },
   {
    "duration": 66,
    "start_time": "2022-05-13T04:53:54.640Z"
   },
   {
    "duration": 1318,
    "start_time": "2022-05-13T04:53:54.707Z"
   },
   {
    "duration": 71,
    "start_time": "2022-05-13T04:53:56.027Z"
   },
   {
    "duration": 81,
    "start_time": "2022-05-13T04:53:56.099Z"
   },
   {
    "duration": 5,
    "start_time": "2022-05-13T04:53:56.271Z"
   },
   {
    "duration": 157054,
    "start_time": "2022-05-13T04:53:56.277Z"
   },
   {
    "duration": 23178,
    "start_time": "2022-05-13T04:56:33.332Z"
   },
   {
    "duration": 942,
    "start_time": "2022-05-13T04:56:56.511Z"
   },
   {
    "duration": 6,
    "start_time": "2022-05-13T04:56:57.455Z"
   },
   {
    "duration": 73192,
    "start_time": "2022-05-13T04:56:57.462Z"
   },
   {
    "duration": 4,
    "start_time": "2022-05-13T04:58:10.656Z"
   },
   {
    "duration": 5753,
    "start_time": "2022-05-13T04:58:10.661Z"
   },
   {
    "duration": 138,
    "start_time": "2022-05-13T04:58:16.416Z"
   },
   {
    "duration": 5,
    "start_time": "2022-05-13T04:58:16.555Z"
   },
   {
    "duration": 70307,
    "start_time": "2022-05-13T04:58:16.571Z"
   },
   {
    "duration": 4,
    "start_time": "2022-05-13T04:59:26.879Z"
   },
   {
    "duration": 4292,
    "start_time": "2022-05-13T04:59:26.884Z"
   },
   {
    "duration": 41,
    "start_time": "2022-05-13T04:59:31.179Z"
   },
   {
    "duration": 254,
    "start_time": "2022-05-13T04:59:31.221Z"
   },
   {
    "duration": 5,
    "start_time": "2022-05-13T04:59:31.477Z"
   },
   {
    "duration": 9,
    "start_time": "2022-05-13T04:59:31.484Z"
   },
   {
    "duration": 4071,
    "start_time": "2022-05-13T05:01:20.012Z"
   },
   {
    "duration": 6,
    "start_time": "2022-05-13T05:01:35.818Z"
   },
   {
    "duration": 28,
    "start_time": "2022-05-13T05:01:53.071Z"
   },
   {
    "duration": 20,
    "start_time": "2022-05-13T05:02:24.118Z"
   },
   {
    "duration": 198,
    "start_time": "2022-05-13T05:02:49.379Z"
   },
   {
    "duration": 5,
    "start_time": "2022-05-13T05:02:51.811Z"
   },
   {
    "duration": 10,
    "start_time": "2022-05-13T05:03:22.012Z"
   },
   {
    "duration": 11,
    "start_time": "2022-05-13T05:04:40.351Z"
   },
   {
    "duration": 3,
    "start_time": "2022-05-13T05:06:27.842Z"
   },
   {
    "duration": 557,
    "start_time": "2022-05-13T05:06:27.848Z"
   },
   {
    "duration": 118,
    "start_time": "2022-05-13T05:06:28.407Z"
   },
   {
    "duration": 13,
    "start_time": "2022-05-13T05:06:28.527Z"
   },
   {
    "duration": 129,
    "start_time": "2022-05-13T05:06:28.542Z"
   },
   {
    "duration": 29,
    "start_time": "2022-05-13T05:10:41.752Z"
   },
   {
    "duration": 20,
    "start_time": "2022-05-13T05:10:47.086Z"
   },
   {
    "duration": 30,
    "start_time": "2022-05-13T05:10:48.517Z"
   },
   {
    "duration": 31,
    "start_time": "2022-05-13T05:10:53.466Z"
   },
   {
    "duration": 115,
    "start_time": "2022-05-13T05:12:15.434Z"
   },
   {
    "duration": 145,
    "start_time": "2022-05-13T05:12:21.882Z"
   },
   {
    "duration": 112,
    "start_time": "2022-05-13T05:12:23.430Z"
   },
   {
    "duration": 107,
    "start_time": "2022-05-13T05:46:35.718Z"
   },
   {
    "duration": 1365,
    "start_time": "2022-05-13T06:14:39.572Z"
   },
   {
    "duration": 752,
    "start_time": "2022-05-13T06:14:40.939Z"
   },
   {
    "duration": 121,
    "start_time": "2022-05-13T06:14:41.693Z"
   },
   {
    "duration": 18,
    "start_time": "2022-05-13T06:14:41.816Z"
   },
   {
    "duration": 130,
    "start_time": "2022-05-13T06:14:41.835Z"
   },
   {
    "duration": 29,
    "start_time": "2022-05-13T06:14:41.971Z"
   },
   {
    "duration": 23,
    "start_time": "2022-05-13T06:14:42.002Z"
   },
   {
    "duration": 45,
    "start_time": "2022-05-13T06:14:42.027Z"
   },
   {
    "duration": 150,
    "start_time": "2022-05-13T06:14:42.073Z"
   },
   {
    "duration": 102,
    "start_time": "2022-05-13T06:14:42.225Z"
   },
   {
    "duration": 72,
    "start_time": "2022-05-13T06:14:42.329Z"
   },
   {
    "duration": 1493,
    "start_time": "2022-05-13T06:14:42.402Z"
   },
   {
    "duration": 86,
    "start_time": "2022-05-13T06:14:43.897Z"
   },
   {
    "duration": 87,
    "start_time": "2022-05-13T06:14:43.984Z"
   },
   {
    "duration": 99,
    "start_time": "2022-05-13T06:14:44.073Z"
   },
   {
    "duration": 157274,
    "start_time": "2022-05-13T06:14:44.174Z"
   },
   {
    "duration": 24188,
    "start_time": "2022-05-13T06:17:21.449Z"
   },
   {
    "duration": 964,
    "start_time": "2022-05-13T06:17:45.639Z"
   },
   {
    "duration": 4,
    "start_time": "2022-05-13T06:17:46.605Z"
   },
   {
    "duration": 75004,
    "start_time": "2022-05-13T06:17:46.611Z"
   },
   {
    "duration": 4,
    "start_time": "2022-05-13T06:19:01.616Z"
   },
   {
    "duration": 8031,
    "start_time": "2022-05-13T06:19:01.621Z"
   },
   {
    "duration": 133,
    "start_time": "2022-05-13T06:19:09.654Z"
   },
   {
    "duration": 4,
    "start_time": "2022-05-13T06:19:09.789Z"
   },
   {
    "duration": 203781,
    "start_time": "2022-05-13T06:19:09.794Z"
   },
   {
    "duration": 4,
    "start_time": "2022-05-13T06:22:33.576Z"
   },
   {
    "duration": 4195,
    "start_time": "2022-05-13T06:22:33.582Z"
   },
   {
    "duration": 39,
    "start_time": "2022-05-13T06:22:37.779Z"
   },
   {
    "duration": 257,
    "start_time": "2022-05-13T06:22:37.820Z"
   },
   {
    "duration": 5,
    "start_time": "2022-05-13T06:22:38.078Z"
   },
   {
    "duration": 11,
    "start_time": "2022-05-13T06:22:38.084Z"
   }
  ],
  "kernelspec": {
   "display_name": "Python 3 (ipykernel)",
   "language": "python",
   "name": "python3"
  },
  "language_info": {
   "codemirror_mode": {
    "name": "ipython",
    "version": 3
   },
   "file_extension": ".py",
   "mimetype": "text/x-python",
   "name": "python",
   "nbconvert_exporter": "python",
   "pygments_lexer": "ipython3",
   "version": "3.9.7"
  },
  "toc": {
   "base_numbering": 1,
   "nav_menu": {},
   "number_sections": false,
   "sideBar": true,
   "skip_h1_title": true,
   "title_cell": "Table of Contents",
   "title_sidebar": "Contents",
   "toc_cell": false,
   "toc_position": {},
   "toc_section_display": true,
   "toc_window_display": false
  }
 },
 "nbformat": 4,
 "nbformat_minor": 2
}
