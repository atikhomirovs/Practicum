{
 "cells": [
  {
   "cell_type": "markdown",
   "metadata": {},
   "source": [
    "# Selecting right mobile plan"
   ]
  },
  {
   "cell_type": "markdown",
   "metadata": {},
   "source": [
    "In this project, we will use machine learning algorithms to develop a model that would analyze subscribers' behavior and recommend one of Megaline's newer plans: Smart or Ultra."
   ]
  },
  {
   "cell_type": "markdown",
   "metadata": {},
   "source": [
    "First of all, will load the data and the libraries that we will use in this project."
   ]
  },
  {
   "cell_type": "code",
   "execution_count": 1,
   "metadata": {},
   "outputs": [],
   "source": [
    "# Loading all required libraries\n",
    "import pandas as pd\n",
    "from sklearn.tree import DecisionTreeClassifier\n",
    "from sklearn.ensemble import RandomForestClassifier \n",
    "from sklearn.linear_model import LogisticRegression \n",
    "from sklearn.model_selection import train_test_split \n",
    "from sklearn.metrics import accuracy_score "
   ]
  },
  {
   "cell_type": "code",
   "execution_count": 2,
   "metadata": {},
   "outputs": [],
   "source": [
    "# Loading the data files into DataFrame\n",
    "df=pd.read_csv('/datasets/users_behavior.csv')"
   ]
  },
  {
   "cell_type": "markdown",
   "metadata": {},
   "source": [
    "We will display general data info and a sample of the data."
   ]
  },
  {
   "cell_type": "code",
   "execution_count": 3,
   "metadata": {},
   "outputs": [
    {
     "name": "stdout",
     "output_type": "stream",
     "text": [
      "<class 'pandas.core.frame.DataFrame'>\n",
      "RangeIndex: 3214 entries, 0 to 3213\n",
      "Data columns (total 5 columns):\n",
      "calls       3214 non-null float64\n",
      "minutes     3214 non-null float64\n",
      "messages    3214 non-null float64\n",
      "mb_used     3214 non-null float64\n",
      "is_ultra    3214 non-null int64\n",
      "dtypes: float64(4), int64(1)\n",
      "memory usage: 125.7 KB\n"
     ]
    }
   ],
   "source": [
    "# printing the general/summary information about the DataFrame\n",
    "df.info()"
   ]
  },
  {
   "cell_type": "code",
   "execution_count": 4,
   "metadata": {},
   "outputs": [
    {
     "data": {
      "text/html": [
       "<div>\n",
       "<style scoped>\n",
       "    .dataframe tbody tr th:only-of-type {\n",
       "        vertical-align: middle;\n",
       "    }\n",
       "\n",
       "    .dataframe tbody tr th {\n",
       "        vertical-align: top;\n",
       "    }\n",
       "\n",
       "    .dataframe thead th {\n",
       "        text-align: right;\n",
       "    }\n",
       "</style>\n",
       "<table border=\"1\" class=\"dataframe\">\n",
       "  <thead>\n",
       "    <tr style=\"text-align: right;\">\n",
       "      <th></th>\n",
       "      <th>calls</th>\n",
       "      <th>minutes</th>\n",
       "      <th>messages</th>\n",
       "      <th>mb_used</th>\n",
       "      <th>is_ultra</th>\n",
       "    </tr>\n",
       "  </thead>\n",
       "  <tbody>\n",
       "    <tr>\n",
       "      <td>0</td>\n",
       "      <td>40.0</td>\n",
       "      <td>311.90</td>\n",
       "      <td>83.0</td>\n",
       "      <td>19915.42</td>\n",
       "      <td>0</td>\n",
       "    </tr>\n",
       "    <tr>\n",
       "      <td>1</td>\n",
       "      <td>85.0</td>\n",
       "      <td>516.75</td>\n",
       "      <td>56.0</td>\n",
       "      <td>22696.96</td>\n",
       "      <td>0</td>\n",
       "    </tr>\n",
       "    <tr>\n",
       "      <td>2</td>\n",
       "      <td>77.0</td>\n",
       "      <td>467.66</td>\n",
       "      <td>86.0</td>\n",
       "      <td>21060.45</td>\n",
       "      <td>0</td>\n",
       "    </tr>\n",
       "    <tr>\n",
       "      <td>3</td>\n",
       "      <td>106.0</td>\n",
       "      <td>745.53</td>\n",
       "      <td>81.0</td>\n",
       "      <td>8437.39</td>\n",
       "      <td>1</td>\n",
       "    </tr>\n",
       "    <tr>\n",
       "      <td>4</td>\n",
       "      <td>66.0</td>\n",
       "      <td>418.74</td>\n",
       "      <td>1.0</td>\n",
       "      <td>14502.75</td>\n",
       "      <td>0</td>\n",
       "    </tr>\n",
       "    <tr>\n",
       "      <td>5</td>\n",
       "      <td>58.0</td>\n",
       "      <td>344.56</td>\n",
       "      <td>21.0</td>\n",
       "      <td>15823.37</td>\n",
       "      <td>0</td>\n",
       "    </tr>\n",
       "    <tr>\n",
       "      <td>6</td>\n",
       "      <td>57.0</td>\n",
       "      <td>431.64</td>\n",
       "      <td>20.0</td>\n",
       "      <td>3738.90</td>\n",
       "      <td>1</td>\n",
       "    </tr>\n",
       "    <tr>\n",
       "      <td>7</td>\n",
       "      <td>15.0</td>\n",
       "      <td>132.40</td>\n",
       "      <td>6.0</td>\n",
       "      <td>21911.60</td>\n",
       "      <td>0</td>\n",
       "    </tr>\n",
       "    <tr>\n",
       "      <td>8</td>\n",
       "      <td>7.0</td>\n",
       "      <td>43.39</td>\n",
       "      <td>3.0</td>\n",
       "      <td>2538.67</td>\n",
       "      <td>1</td>\n",
       "    </tr>\n",
       "    <tr>\n",
       "      <td>9</td>\n",
       "      <td>90.0</td>\n",
       "      <td>665.41</td>\n",
       "      <td>38.0</td>\n",
       "      <td>17358.61</td>\n",
       "      <td>0</td>\n",
       "    </tr>\n",
       "  </tbody>\n",
       "</table>\n",
       "</div>"
      ],
      "text/plain": [
       "   calls  minutes  messages   mb_used  is_ultra\n",
       "0   40.0   311.90      83.0  19915.42         0\n",
       "1   85.0   516.75      56.0  22696.96         0\n",
       "2   77.0   467.66      86.0  21060.45         0\n",
       "3  106.0   745.53      81.0   8437.39         1\n",
       "4   66.0   418.74       1.0  14502.75         0\n",
       "5   58.0   344.56      21.0  15823.37         0\n",
       "6   57.0   431.64      20.0   3738.90         1\n",
       "7   15.0   132.40       6.0  21911.60         0\n",
       "8    7.0    43.39       3.0   2538.67         1\n",
       "9   90.0   665.41      38.0  17358.61         0"
      ]
     },
     "execution_count": 4,
     "metadata": {},
     "output_type": "execute_result"
    }
   ],
   "source": [
    "# printing a sample of data\n",
    "df.head(10)"
   ]
  },
  {
   "cell_type": "markdown",
   "metadata": {},
   "source": [
    "The data were preprocessed before, and as can be seen, all columns have the correct type and there are no missing values. So, we can start to build our models.\n",
    "\n",
    "Before, building the models, we will split the data into training, validation, and test sets. For the training data set, we will use 60% of the original data set. For validation and test data sets we will use 20% of the original data set for each."
   ]
  },
  {
   "cell_type": "code",
   "execution_count": 5,
   "metadata": {},
   "outputs": [],
   "source": [
    "# spliting data into training, validation and test sets\n",
    "df, df_test = train_test_split(df, test_size=0.2, random_state=12345) \n",
    "df_train, df_valid = train_test_split(df, test_size=0.25, random_state=12345) "
   ]
  },
  {
   "cell_type": "markdown",
   "metadata": {},
   "source": [
    "Let's print shapes for each data set to validate that the data was spent in correct proportions."
   ]
  },
  {
   "cell_type": "code",
   "execution_count": 6,
   "metadata": {},
   "outputs": [
    {
     "name": "stdout",
     "output_type": "stream",
     "text": [
      "(1928, 5)\n",
      "(643, 5)\n",
      "(643, 5)\n"
     ]
    }
   ],
   "source": [
    "print(df_train.shape)\n",
    "print(df_valid.shape)\n",
    "print(df_test.shape)"
   ]
  },
  {
   "cell_type": "markdown",
   "metadata": {},
   "source": [
    "Data sets have correct proportions.\n",
    "\n",
    "Next, for each of the sets, we will put features and targets into separate sets."
   ]
  },
  {
   "cell_type": "code",
   "execution_count": 7,
   "metadata": {},
   "outputs": [],
   "source": [
    "# putting features and target into separate sets\n",
    "train_features = df_train.drop(['is_ultra'], axis=1)\n",
    "train_target = df_train['is_ultra']\n",
    "valid_features = df_valid.drop(['is_ultra'], axis=1)\n",
    "valid_target = df_valid['is_ultra']\n",
    "test_features = df_test.drop(['is_ultra'], axis=1)\n",
    "test_target = df_test['is_ultra']"
   ]
  },
  {
   "cell_type": "markdown",
   "metadata": {},
   "source": [
    "As the next step, we will investigate the quality of different models by changing hyperparameters. We will start with the Decision Tree and will train the model with different maximum depths in the range from 2 to 100. We will investigate the quality of each model on the validation data set."
   ]
  },
  {
   "cell_type": "code",
   "execution_count": 8,
   "metadata": {},
   "outputs": [
    {
     "name": "stdout",
     "output_type": "stream",
     "text": [
      "Best accuracy 0.7744945567651633 is achived with max_depth=7\n"
     ]
    },
    {
     "data": {
      "text/plain": [
       "{'max_depth=2': 'accuracy - 0.7573872472783826',\n",
       " 'max_depth=3': 'accuracy - 0.7651632970451011',\n",
       " 'max_depth=4': 'accuracy - 0.7636080870917574',\n",
       " 'max_depth=5': 'accuracy - 0.7589424572317263',\n",
       " 'max_depth=6': 'accuracy - 0.7573872472783826',\n",
       " 'max_depth=7': 'accuracy - 0.7744945567651633',\n",
       " 'max_depth=8': 'accuracy - 0.7667185069984448',\n",
       " 'max_depth=9': 'accuracy - 0.7620528771384136',\n",
       " 'max_depth=10': 'accuracy - 0.7713841368584758',\n",
       " 'max_depth=11': 'accuracy - 0.7589424572317263',\n",
       " 'max_depth=12': 'accuracy - 0.7558320373250389',\n",
       " 'max_depth=13': 'accuracy - 0.749611197511664',\n",
       " 'max_depth=14': 'accuracy - 0.7573872472783826',\n",
       " 'max_depth=15': 'accuracy - 0.7527216174183515',\n",
       " 'max_depth=16': 'accuracy - 0.749611197511664',\n",
       " 'max_depth=17': 'accuracy - 0.7387247278382582',\n",
       " 'max_depth=18': 'accuracy - 0.7418351477449455',\n",
       " 'max_depth=19': 'accuracy - 0.7356143079315708',\n",
       " 'max_depth=20': 'accuracy - 0.7293934681181959',\n",
       " 'max_depth=21': 'accuracy - 0.7325038880248833',\n",
       " 'max_depth=22': 'accuracy - 0.71850699844479',\n",
       " 'max_depth=23': 'accuracy - 0.7293934681181959',\n",
       " 'max_depth=24': 'accuracy - 0.7262830482115086',\n",
       " 'max_depth=25': 'accuracy - 0.7293934681181959',\n",
       " 'max_depth=26': 'accuracy - 0.7231726283048211',\n",
       " 'max_depth=27': 'accuracy - 0.7231726283048211',\n",
       " 'max_depth=28': 'accuracy - 0.7122861586314152',\n",
       " 'max_depth=29': 'accuracy - 0.7122861586314152',\n",
       " 'max_depth=30': 'accuracy - 0.7122861586314152',\n",
       " 'max_depth=31': 'accuracy - 0.7122861586314152',\n",
       " 'max_depth=32': 'accuracy - 0.7122861586314152',\n",
       " 'max_depth=33': 'accuracy - 0.7122861586314152',\n",
       " 'max_depth=34': 'accuracy - 0.7122861586314152',\n",
       " 'max_depth=35': 'accuracy - 0.7122861586314152',\n",
       " 'max_depth=36': 'accuracy - 0.7122861586314152',\n",
       " 'max_depth=37': 'accuracy - 0.7122861586314152',\n",
       " 'max_depth=38': 'accuracy - 0.7122861586314152',\n",
       " 'max_depth=39': 'accuracy - 0.7122861586314152',\n",
       " 'max_depth=40': 'accuracy - 0.7122861586314152',\n",
       " 'max_depth=41': 'accuracy - 0.7122861586314152',\n",
       " 'max_depth=42': 'accuracy - 0.7122861586314152',\n",
       " 'max_depth=43': 'accuracy - 0.7122861586314152',\n",
       " 'max_depth=44': 'accuracy - 0.7122861586314152',\n",
       " 'max_depth=45': 'accuracy - 0.7122861586314152',\n",
       " 'max_depth=46': 'accuracy - 0.7122861586314152',\n",
       " 'max_depth=47': 'accuracy - 0.7122861586314152',\n",
       " 'max_depth=48': 'accuracy - 0.7122861586314152',\n",
       " 'max_depth=49': 'accuracy - 0.7122861586314152',\n",
       " 'max_depth=50': 'accuracy - 0.7122861586314152',\n",
       " 'max_depth=51': 'accuracy - 0.7122861586314152',\n",
       " 'max_depth=52': 'accuracy - 0.7122861586314152',\n",
       " 'max_depth=53': 'accuracy - 0.7122861586314152',\n",
       " 'max_depth=54': 'accuracy - 0.7122861586314152',\n",
       " 'max_depth=55': 'accuracy - 0.7122861586314152',\n",
       " 'max_depth=56': 'accuracy - 0.7122861586314152',\n",
       " 'max_depth=57': 'accuracy - 0.7122861586314152',\n",
       " 'max_depth=58': 'accuracy - 0.7122861586314152',\n",
       " 'max_depth=59': 'accuracy - 0.7122861586314152',\n",
       " 'max_depth=60': 'accuracy - 0.7122861586314152',\n",
       " 'max_depth=61': 'accuracy - 0.7122861586314152',\n",
       " 'max_depth=62': 'accuracy - 0.7122861586314152',\n",
       " 'max_depth=63': 'accuracy - 0.7122861586314152',\n",
       " 'max_depth=64': 'accuracy - 0.7122861586314152',\n",
       " 'max_depth=65': 'accuracy - 0.7122861586314152',\n",
       " 'max_depth=66': 'accuracy - 0.7122861586314152',\n",
       " 'max_depth=67': 'accuracy - 0.7122861586314152',\n",
       " 'max_depth=68': 'accuracy - 0.7122861586314152',\n",
       " 'max_depth=69': 'accuracy - 0.7122861586314152',\n",
       " 'max_depth=70': 'accuracy - 0.7122861586314152',\n",
       " 'max_depth=71': 'accuracy - 0.7122861586314152',\n",
       " 'max_depth=72': 'accuracy - 0.7122861586314152',\n",
       " 'max_depth=73': 'accuracy - 0.7122861586314152',\n",
       " 'max_depth=74': 'accuracy - 0.7122861586314152',\n",
       " 'max_depth=75': 'accuracy - 0.7122861586314152',\n",
       " 'max_depth=76': 'accuracy - 0.7122861586314152',\n",
       " 'max_depth=77': 'accuracy - 0.7122861586314152',\n",
       " 'max_depth=78': 'accuracy - 0.7122861586314152',\n",
       " 'max_depth=79': 'accuracy - 0.7122861586314152',\n",
       " 'max_depth=80': 'accuracy - 0.7122861586314152',\n",
       " 'max_depth=81': 'accuracy - 0.7122861586314152',\n",
       " 'max_depth=82': 'accuracy - 0.7122861586314152',\n",
       " 'max_depth=83': 'accuracy - 0.7122861586314152',\n",
       " 'max_depth=84': 'accuracy - 0.7122861586314152',\n",
       " 'max_depth=85': 'accuracy - 0.7122861586314152',\n",
       " 'max_depth=86': 'accuracy - 0.7122861586314152',\n",
       " 'max_depth=87': 'accuracy - 0.7122861586314152',\n",
       " 'max_depth=88': 'accuracy - 0.7122861586314152',\n",
       " 'max_depth=89': 'accuracy - 0.7122861586314152',\n",
       " 'max_depth=90': 'accuracy - 0.7122861586314152',\n",
       " 'max_depth=91': 'accuracy - 0.7122861586314152',\n",
       " 'max_depth=92': 'accuracy - 0.7122861586314152',\n",
       " 'max_depth=93': 'accuracy - 0.7122861586314152',\n",
       " 'max_depth=94': 'accuracy - 0.7122861586314152',\n",
       " 'max_depth=95': 'accuracy - 0.7122861586314152',\n",
       " 'max_depth=96': 'accuracy - 0.7122861586314152',\n",
       " 'max_depth=97': 'accuracy - 0.7122861586314152',\n",
       " 'max_depth=98': 'accuracy - 0.7122861586314152',\n",
       " 'max_depth=99': 'accuracy - 0.7122861586314152'}"
      ]
     },
     "execution_count": 8,
     "metadata": {},
     "output_type": "execute_result"
    }
   ],
   "source": [
    "#creating an empty dictionary for storing results of accuracy examination.\n",
    "decision_tree_quality={}\n",
    "\n",
    "#declaring variables for storing best max_depth and best accuracy\n",
    "\n",
    "best_max_depth=0\n",
    "best_accuracy=0\n",
    "\n",
    "#training models with different maximum depths in range from 2 to 100\n",
    "for i in range(2,100):\n",
    "    model = DecisionTreeClassifier(random_state=12345, max_depth=i)\n",
    "    model.fit(train_features, train_target) \n",
    "#calculating accuracy of the model on the validation data set    \n",
    "    predictions=model.predict(valid_features)\n",
    "    accuracy = accuracy_score(valid_target, predictions)\n",
    "#if accuracy of the model is greater than previus best accuracy, updating best max_depth and best accuracy variables\n",
    "    if accuracy>best_accuracy:\n",
    "        best_max_depth=i\n",
    "        best_accuracy=accuracy\n",
    "#adding model accuracy to dictionary that stores results of accuracy examination\n",
    "    decision_tree_quality['max_depth='+str(i)]='accuracy - '+str(accuracy)\n",
    "\n",
    "#printing best accuracy and accuracy of all models\n",
    "print(f'Best accuracy {best_accuracy} is achived with max_depth={best_max_depth}')\n",
    "decision_tree_quality"
   ]
  },
  {
   "cell_type": "markdown",
   "metadata": {},
   "source": [
    "As can be seen, the best accuracy of 0.7744945567651633 is achieved with max_depth=7.\n",
    "\n",
    "Next, we will train the Random Forest will different numbers of estimators in the range from 2 to 100. We will investigate the quality of each model on the validation data set."
   ]
  },
  {
   "cell_type": "code",
   "execution_count": 9,
   "metadata": {},
   "outputs": [
    {
     "name": "stdout",
     "output_type": "stream",
     "text": [
      "Best accuracy 0.7993779160186625 is achived with n_estimators=65\n"
     ]
    },
    {
     "data": {
      "text/plain": [
       "{'n_estimators=2': 'accuracy - 0.7573872472783826',\n",
       " 'n_estimators=3': 'accuracy - 0.744945567651633',\n",
       " 'n_estimators=4': 'accuracy - 0.7651632970451011',\n",
       " 'n_estimators=5': 'accuracy - 0.7620528771384136',\n",
       " 'n_estimators=6': 'accuracy - 0.7698289269051322',\n",
       " 'n_estimators=7': 'accuracy - 0.7713841368584758',\n",
       " 'n_estimators=8': 'accuracy - 0.7869362363919129',\n",
       " 'n_estimators=9': 'accuracy - 0.7838258164852255',\n",
       " 'n_estimators=10': 'accuracy - 0.7884914463452566',\n",
       " 'n_estimators=11': 'accuracy - 0.7807153965785381',\n",
       " 'n_estimators=12': 'accuracy - 0.7822706065318819',\n",
       " 'n_estimators=13': 'accuracy - 0.7776049766718507',\n",
       " 'n_estimators=14': 'accuracy - 0.7853810264385692',\n",
       " 'n_estimators=15': 'accuracy - 0.7838258164852255',\n",
       " 'n_estimators=16': 'accuracy - 0.7838258164852255',\n",
       " 'n_estimators=17': 'accuracy - 0.7776049766718507',\n",
       " 'n_estimators=18': 'accuracy - 0.7869362363919129',\n",
       " 'n_estimators=19': 'accuracy - 0.7869362363919129',\n",
       " 'n_estimators=20': 'accuracy - 0.7900466562986003',\n",
       " 'n_estimators=21': 'accuracy - 0.7884914463452566',\n",
       " 'n_estimators=22': 'accuracy - 0.7931570762052877',\n",
       " 'n_estimators=23': 'accuracy - 0.7884914463452566',\n",
       " 'n_estimators=24': 'accuracy - 0.7900466562986003',\n",
       " 'n_estimators=25': 'accuracy - 0.7884914463452566',\n",
       " 'n_estimators=26': 'accuracy - 0.7838258164852255',\n",
       " 'n_estimators=27': 'accuracy - 0.7822706065318819',\n",
       " 'n_estimators=28': 'accuracy - 0.7822706065318819',\n",
       " 'n_estimators=29': 'accuracy - 0.7853810264385692',\n",
       " 'n_estimators=30': 'accuracy - 0.7884914463452566',\n",
       " 'n_estimators=31': 'accuracy - 0.7869362363919129',\n",
       " 'n_estimators=32': 'accuracy - 0.7838258164852255',\n",
       " 'n_estimators=33': 'accuracy - 0.7869362363919129',\n",
       " 'n_estimators=34': 'accuracy - 0.7869362363919129',\n",
       " 'n_estimators=35': 'accuracy - 0.7853810264385692',\n",
       " 'n_estimators=36': 'accuracy - 0.7884914463452566',\n",
       " 'n_estimators=37': 'accuracy - 0.7900466562986003',\n",
       " 'n_estimators=38': 'accuracy - 0.7853810264385692',\n",
       " 'n_estimators=39': 'accuracy - 0.7822706065318819',\n",
       " 'n_estimators=40': 'accuracy - 0.7869362363919129',\n",
       " 'n_estimators=41': 'accuracy - 0.7869362363919129',\n",
       " 'n_estimators=42': 'accuracy - 0.7900466562986003',\n",
       " 'n_estimators=43': 'accuracy - 0.7916018662519441',\n",
       " 'n_estimators=44': 'accuracy - 0.7947122861586314',\n",
       " 'n_estimators=45': 'accuracy - 0.7931570762052877',\n",
       " 'n_estimators=46': 'accuracy - 0.7947122861586314',\n",
       " 'n_estimators=47': 'accuracy - 0.7900466562986003',\n",
       " 'n_estimators=48': 'accuracy - 0.7900466562986003',\n",
       " 'n_estimators=49': 'accuracy - 0.7931570762052877',\n",
       " 'n_estimators=50': 'accuracy - 0.7947122861586314',\n",
       " 'n_estimators=51': 'accuracy - 0.7916018662519441',\n",
       " 'n_estimators=52': 'accuracy - 0.7916018662519441',\n",
       " 'n_estimators=53': 'accuracy - 0.7931570762052877',\n",
       " 'n_estimators=54': 'accuracy - 0.7931570762052877',\n",
       " 'n_estimators=55': 'accuracy - 0.7962674961119751',\n",
       " 'n_estimators=56': 'accuracy - 0.7931570762052877',\n",
       " 'n_estimators=57': 'accuracy - 0.7931570762052877',\n",
       " 'n_estimators=58': 'accuracy - 0.7947122861586314',\n",
       " 'n_estimators=59': 'accuracy - 0.7931570762052877',\n",
       " 'n_estimators=60': 'accuracy - 0.7962674961119751',\n",
       " 'n_estimators=61': 'accuracy - 0.7931570762052877',\n",
       " 'n_estimators=62': 'accuracy - 0.7962674961119751',\n",
       " 'n_estimators=63': 'accuracy - 0.7947122861586314',\n",
       " 'n_estimators=64': 'accuracy - 0.7978227060653188',\n",
       " 'n_estimators=65': 'accuracy - 0.7993779160186625',\n",
       " 'n_estimators=66': 'accuracy - 0.7978227060653188',\n",
       " 'n_estimators=67': 'accuracy - 0.7978227060653188',\n",
       " 'n_estimators=68': 'accuracy - 0.7993779160186625',\n",
       " 'n_estimators=69': 'accuracy - 0.7993779160186625',\n",
       " 'n_estimators=70': 'accuracy - 0.7962674961119751',\n",
       " 'n_estimators=71': 'accuracy - 0.7962674961119751',\n",
       " 'n_estimators=72': 'accuracy - 0.7978227060653188',\n",
       " 'n_estimators=73': 'accuracy - 0.7978227060653188',\n",
       " 'n_estimators=74': 'accuracy - 0.7962674961119751',\n",
       " 'n_estimators=75': 'accuracy - 0.7978227060653188',\n",
       " 'n_estimators=76': 'accuracy - 0.7978227060653188',\n",
       " 'n_estimators=77': 'accuracy - 0.7993779160186625',\n",
       " 'n_estimators=78': 'accuracy - 0.7993779160186625',\n",
       " 'n_estimators=79': 'accuracy - 0.7962674961119751',\n",
       " 'n_estimators=80': 'accuracy - 0.7993779160186625',\n",
       " 'n_estimators=81': 'accuracy - 0.7962674961119751',\n",
       " 'n_estimators=82': 'accuracy - 0.7978227060653188',\n",
       " 'n_estimators=83': 'accuracy - 0.7962674961119751',\n",
       " 'n_estimators=84': 'accuracy - 0.7978227060653188',\n",
       " 'n_estimators=85': 'accuracy - 0.7978227060653188',\n",
       " 'n_estimators=86': 'accuracy - 0.7978227060653188',\n",
       " 'n_estimators=87': 'accuracy - 0.7962674961119751',\n",
       " 'n_estimators=88': 'accuracy - 0.7962674961119751',\n",
       " 'n_estimators=89': 'accuracy - 0.7947122861586314',\n",
       " 'n_estimators=90': 'accuracy - 0.7978227060653188',\n",
       " 'n_estimators=91': 'accuracy - 0.7947122861586314',\n",
       " 'n_estimators=92': 'accuracy - 0.7962674961119751',\n",
       " 'n_estimators=93': 'accuracy - 0.7931570762052877',\n",
       " 'n_estimators=94': 'accuracy - 0.7931570762052877',\n",
       " 'n_estimators=95': 'accuracy - 0.7931570762052877',\n",
       " 'n_estimators=96': 'accuracy - 0.7931570762052877',\n",
       " 'n_estimators=97': 'accuracy - 0.7947122861586314',\n",
       " 'n_estimators=98': 'accuracy - 0.7947122861586314',\n",
       " 'n_estimators=99': 'accuracy - 0.7947122861586314'}"
      ]
     },
     "execution_count": 9,
     "metadata": {},
     "output_type": "execute_result"
    }
   ],
   "source": [
    "#creating an empty dictionary for storing results of accuracy examination.\n",
    "random_forest_quality={}\n",
    "\n",
    "#declaring variables for storing best max_depth and best accuracy\n",
    "best_n_estimators=0\n",
    "best_accuracy=0\n",
    "\n",
    "#training models with different numbers of estimators in range from 2 to 100\n",
    "for i in range(2,100):\n",
    "    model = RandomForestClassifier(random_state=12345, n_estimators=i) \n",
    "    model.fit(train_features, train_target) \n",
    "#calculating accuracy of the model on the validation data set \n",
    "    predictions=model.predict(valid_features)\n",
    "    accuracy = accuracy_score(valid_target, predictions)\n",
    "#if accuracy of the model is greater than previus best accuracy, updating best max_depth and best accuracy variables\n",
    "    if accuracy>best_accuracy:\n",
    "        best_n_estimators=i\n",
    "        best_accuracy=accuracy\n",
    "#adding model accuracy to dictionary that stores results of accuracy examination\n",
    "    random_forest_quality['n_estimators='+str(i)]='accuracy - '+str(accuracy)\n",
    "#printing best accuracy and accuracy of all models\n",
    "print(f'Best accuracy {best_accuracy} is achived with n_estimators={best_n_estimators}')\n",
    "random_forest_quality"
   ]
  },
  {
   "cell_type": "markdown",
   "metadata": {},
   "source": [
    "As can be seen, the best accuracy 0.7993779160186625 is achieved with n_estimators=65.\n",
    "\n",
    "Finally, we will train the Logistic Regression will liblinear solver and will investigate the quality of the model on the validation data set."
   ]
  },
  {
   "cell_type": "code",
   "execution_count": 10,
   "metadata": {},
   "outputs": [
    {
     "data": {
      "text/plain": [
       "0.6967340590979783"
      ]
     },
     "execution_count": 10,
     "metadata": {},
     "output_type": "execute_result"
    }
   ],
   "source": [
    "#training the model\n",
    "model = LogisticRegression(random_state=12345, solver='liblinear') \n",
    "model.fit(train_features, train_target) \n",
    "\n",
    "#calculating accuracy of the model on the validation data set \n",
    "predictions=model.predict(valid_features)\n",
    "accuracy = accuracy_score(valid_target, predictions)\n",
    "\n",
    "#printing accuracy\n",
    "accuracy"
   ]
  },
  {
   "cell_type": "markdown",
   "metadata": {},
   "source": [
    "Based on the above calculations, our best model is Random Forest with 65 estimators, and the model with the least accuracy is Logistic Regression.\n",
    "\n",
    "In the next step, we will check the quality of our best model using the test set."
   ]
  },
  {
   "cell_type": "code",
   "execution_count": 11,
   "metadata": {},
   "outputs": [
    {
     "name": "stdout",
     "output_type": "stream",
     "text": [
      "Accuracy: 0.7900466562986003\n"
     ]
    }
   ],
   "source": [
    "#training the model\n",
    "model = RandomForestClassifier(random_state=12345, n_estimators=65) \n",
    "model.fit(train_features, train_target) \n",
    "\n",
    "#calculating accuracy of the model on the validation data set \n",
    "predictions=model.predict(test_features)\n",
    "accuracy = accuracy_score(test_target, predictions)\n",
    "\n",
    "#printing accuracy\n",
    "print(f'Accuracy: {accuracy}')"
   ]
  },
  {
   "cell_type": "markdown",
   "metadata": {},
   "source": [
    "As can be seen, the accuracy of our best model on the test data set is just a bit lower than on the validation data set which indicates that the model is well fitted."
   ]
  },
  {
   "cell_type": "markdown",
   "metadata": {},
   "source": [
    "As a final step, we will make a sanity check of the model to ensure that the accuracy of the model is better than chance. We will assume we have a model that assigns \"0\" or \"1\" randomly with a 50/50 chance. The accuracy of this random model will be calculated as: (number of 1) ⋅ (portion of correctly guessed 1) + (number of 0) ⋅ (portion of correctly guessed 0))/number of observations. The portion of correctly guessed 1 can be calculated as a chance of a correct value to be 1 which is the \"number of 1/number of observations\". The portion of correctly guessed o is calculated similarly."
   ]
  },
  {
   "cell_type": "code",
   "execution_count": 12,
   "metadata": {},
   "outputs": [
    {
     "name": "stdout",
     "output_type": "stream",
     "text": [
      "0.576189566306848\n"
     ]
    }
   ],
   "source": [
    "#getting the number of observation\n",
    "number_of_observation=len(df_test)\n",
    "\n",
    "#getting the number of 0s and 1s\n",
    "number_of_ultra=len(df_test[df_test['is_ultra']==1])\n",
    "number_of_smart=len(df_test[df_test['is_ultra']==0])\n",
    "\n",
    "#calculating accuracy of the random model\n",
    "print((number_of_ultra*(number_of_ultra/number_of_observation)+number_of_smart*(number_of_smart/number_of_observation))/number_of_observation)\n"
   ]
  },
  {
   "cell_type": "markdown",
   "metadata": {},
   "source": [
    "It is confirmed that the accuracy of our best model is better than chance."
   ]
  },
  {
   "cell_type": "markdown",
   "metadata": {},
   "source": [
    "# General conclusion\n",
    "\n",
    "In this project, we used machine learning algorithms to develop a model that analyzed subscribers' behavior and recommend one of Megaline's newer plans: Smart or Ultra.\n",
    "\n",
    "First of all, we observed the data and ensured that all columns have the correct type and that there are no missing values. Then, we split the data into training, validation, and test sets. For the training data set we used 60% of the original data set. For validation and test data sets we used 20% of the original data set for each.\n",
    "\n",
    "Using training and validation data sets, we investigated the quality of different models by changing hyperparameters. It appeared that in this case, the best model is Random Forest with 65 estimators, and the model with the least accuracy is Logistic Regression. Next, we checked the quality of our best model using the test set. The accuracy of our best model on the test data set was just a bit lower than on the validation data set which indicates that the model is well fitted.\n",
    "\n",
    "Finally, we made a sanity check of the best model and ensured that the accuracy of the model is better than chance."
   ]
  }
 ],
 "metadata": {
  "ExecuteTimeLog": [
   {
    "duration": 1396,
    "start_time": "2022-02-23T07:08:27.204Z"
   },
   {
    "duration": 496,
    "start_time": "2022-02-23T07:09:46.425Z"
   },
   {
    "duration": 2688,
    "start_time": "2022-02-23T07:09:52.886Z"
   },
   {
    "duration": 2923,
    "start_time": "2022-02-23T07:10:54.151Z"
   },
   {
    "duration": 23,
    "start_time": "2022-02-23T07:11:26.004Z"
   },
   {
    "duration": 344,
    "start_time": "2022-02-23T07:12:33.407Z"
   },
   {
    "duration": 10,
    "start_time": "2022-02-23T07:12:39.380Z"
   },
   {
    "duration": 412,
    "start_time": "2022-02-23T07:13:22.095Z"
   },
   {
    "duration": 27,
    "start_time": "2022-02-23T07:13:28.311Z"
   },
   {
    "duration": 658,
    "start_time": "2022-02-23T07:13:47.719Z"
   },
   {
    "duration": 9,
    "start_time": "2022-02-23T07:16:16.834Z"
   },
   {
    "duration": 19,
    "start_time": "2022-02-23T07:17:00.343Z"
   },
   {
    "duration": 1103,
    "start_time": "2022-02-24T05:47:18.354Z"
   },
   {
    "duration": 18,
    "start_time": "2022-02-24T05:47:19.459Z"
   },
   {
    "duration": 10,
    "start_time": "2022-02-24T05:47:19.479Z"
   },
   {
    "duration": 19,
    "start_time": "2022-02-24T05:47:19.491Z"
   },
   {
    "duration": 12,
    "start_time": "2022-02-24T05:47:19.511Z"
   },
   {
    "duration": 12,
    "start_time": "2022-02-24T05:47:19.525Z"
   },
   {
    "duration": 7,
    "start_time": "2022-02-24T05:51:52.387Z"
   },
   {
    "duration": 6,
    "start_time": "2022-02-24T05:51:55.988Z"
   },
   {
    "duration": 339,
    "start_time": "2022-02-24T05:58:07.601Z"
   },
   {
    "duration": 889,
    "start_time": "2022-02-24T05:58:18.256Z"
   },
   {
    "duration": 922,
    "start_time": "2022-02-24T05:59:59.200Z"
   },
   {
    "duration": 935,
    "start_time": "2022-02-24T06:00:34.503Z"
   },
   {
    "duration": 913,
    "start_time": "2022-02-24T06:04:13.269Z"
   },
   {
    "duration": 933,
    "start_time": "2022-02-24T06:04:48.669Z"
   },
   {
    "duration": 18581,
    "start_time": "2022-02-24T06:08:55.450Z"
   },
   {
    "duration": 13,
    "start_time": "2022-02-24T06:12:10.019Z"
   },
   {
    "duration": 108,
    "start_time": "2022-02-24T06:15:11.224Z"
   },
   {
    "duration": 11,
    "start_time": "2022-02-24T06:15:51.351Z"
   },
   {
    "duration": 27,
    "start_time": "2022-02-24T06:15:57.164Z"
   },
   {
    "duration": 30,
    "start_time": "2022-02-24T06:16:15.757Z"
   },
   {
    "duration": 28,
    "start_time": "2022-02-24T06:16:20.095Z"
   },
   {
    "duration": 11,
    "start_time": "2022-02-24T06:16:45.907Z"
   },
   {
    "duration": 12,
    "start_time": "2022-02-24T06:17:12.182Z"
   },
   {
    "duration": 12,
    "start_time": "2022-02-24T06:17:19.800Z"
   },
   {
    "duration": 11,
    "start_time": "2022-02-24T06:17:25.222Z"
   },
   {
    "duration": 13,
    "start_time": "2022-02-24T06:17:33.110Z"
   },
   {
    "duration": 11,
    "start_time": "2022-02-24T06:17:41.850Z"
   },
   {
    "duration": 11,
    "start_time": "2022-02-24T06:17:48.360Z"
   },
   {
    "duration": 13,
    "start_time": "2022-02-24T06:18:24.201Z"
   },
   {
    "duration": 12,
    "start_time": "2022-02-24T06:19:10.614Z"
   },
   {
    "duration": 288,
    "start_time": "2022-02-24T06:22:16.262Z"
   },
   {
    "duration": 344,
    "start_time": "2022-02-24T06:52:15.267Z"
   },
   {
    "duration": 3,
    "start_time": "2022-02-24T06:53:02.842Z"
   },
   {
    "duration": 4,
    "start_time": "2022-02-24T06:53:09.416Z"
   },
   {
    "duration": 6,
    "start_time": "2022-02-24T06:54:38.462Z"
   },
   {
    "duration": 7,
    "start_time": "2022-02-24T06:55:19.208Z"
   },
   {
    "duration": 712,
    "start_time": "2022-02-24T06:56:51.000Z"
   },
   {
    "duration": 262,
    "start_time": "2022-02-24T06:57:18.727Z"
   },
   {
    "duration": 7,
    "start_time": "2022-02-24T06:57:35.537Z"
   },
   {
    "duration": 4,
    "start_time": "2022-02-24T07:26:41.695Z"
   },
   {
    "duration": 7,
    "start_time": "2022-02-24T07:33:13.608Z"
   },
   {
    "duration": 7,
    "start_time": "2022-02-24T07:33:14.033Z"
   },
   {
    "duration": 1141,
    "start_time": "2022-02-25T05:57:33.843Z"
   },
   {
    "duration": 14,
    "start_time": "2022-02-25T05:57:34.987Z"
   },
   {
    "duration": 14,
    "start_time": "2022-02-25T05:57:35.004Z"
   },
   {
    "duration": 17,
    "start_time": "2022-02-25T05:57:35.021Z"
   },
   {
    "duration": 8,
    "start_time": "2022-02-25T05:57:35.041Z"
   },
   {
    "duration": 5,
    "start_time": "2022-02-25T05:57:35.050Z"
   },
   {
    "duration": 9,
    "start_time": "2022-02-25T05:57:35.057Z"
   },
   {
    "duration": 932,
    "start_time": "2022-02-25T05:57:42.086Z"
   },
   {
    "duration": 18857,
    "start_time": "2022-02-25T06:03:18.095Z"
   },
   {
    "duration": 251,
    "start_time": "2022-02-25T06:20:02.741Z"
   },
   {
    "duration": 7,
    "start_time": "2022-02-25T06:35:03.006Z"
   },
   {
    "duration": 1058,
    "start_time": "2022-02-25T06:54:37.316Z"
   },
   {
    "duration": 18,
    "start_time": "2022-02-25T06:54:38.376Z"
   },
   {
    "duration": 31,
    "start_time": "2022-02-25T06:54:38.396Z"
   },
   {
    "duration": 36,
    "start_time": "2022-02-25T06:54:38.429Z"
   },
   {
    "duration": 6,
    "start_time": "2022-02-25T06:54:38.468Z"
   },
   {
    "duration": 10,
    "start_time": "2022-02-25T06:54:38.476Z"
   },
   {
    "duration": 19,
    "start_time": "2022-02-25T06:54:38.488Z"
   },
   {
    "duration": 1064,
    "start_time": "2022-02-25T06:54:38.509Z"
   },
   {
    "duration": 19014,
    "start_time": "2022-02-25T06:54:39.575Z"
   },
   {
    "duration": 14,
    "start_time": "2022-02-25T06:54:58.591Z"
   },
   {
    "duration": 256,
    "start_time": "2022-02-25T06:54:58.619Z"
   },
   {
    "duration": 6,
    "start_time": "2022-02-25T06:54:58.877Z"
   }
  ],
  "kernelspec": {
   "display_name": "Python 3 (ipykernel)",
   "language": "python",
   "name": "python3"
  },
  "language_info": {
   "codemirror_mode": {
    "name": "ipython",
    "version": 3
   },
   "file_extension": ".py",
   "mimetype": "text/x-python",
   "name": "python",
   "nbconvert_exporter": "python",
   "pygments_lexer": "ipython3",
   "version": "3.9.7"
  },
  "toc": {
   "base_numbering": 1,
   "nav_menu": {},
   "number_sections": true,
   "sideBar": true,
   "skip_h1_title": true,
   "title_cell": "Table of Contents",
   "title_sidebar": "Contents",
   "toc_cell": false,
   "toc_position": {},
   "toc_section_display": true,
   "toc_window_display": false
  }
 },
 "nbformat": 4,
 "nbformat_minor": 2
}
