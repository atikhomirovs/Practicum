{
 "cells": [
  {
   "cell_type": "markdown",
   "metadata": {},
   "source": [
    "# Studying taxi rides data and the impact of external factors on rides"
   ]
  },
  {
   "cell_type": "markdown",
   "metadata": {},
   "source": [
    "# Introduction \n",
    "In this project, we will analyze how many rides each taxi company completed on November 15-16, 2017, and top neighborhoods by the number of drop-offs. In addition, we will test the statistical hypothesis regarding the dependency of trip duration on weather conditions."
   ]
  },
  {
   "cell_type": "markdown",
   "metadata": {},
   "source": [
    "# 1. Analyzing number of rides completed by taxi companies and top neighborhoods by number of dropoffs"
   ]
  },
  {
   "cell_type": "markdown",
   "metadata": {},
   "source": [
    "First of all, will load the data and the libraries that we will use in this project."
   ]
  },
  {
   "cell_type": "code",
   "execution_count": 1,
   "metadata": {},
   "outputs": [],
   "source": [
    "# Loading all required libraries\n",
    "import pandas as pd\n",
    "from scipy import stats as st\n",
    "import matplotlib.pyplot as plt"
   ]
  },
  {
   "cell_type": "code",
   "execution_count": 2,
   "metadata": {},
   "outputs": [],
   "source": [
    "# Loading the data files into different DataFrames\n",
    "companies=pd.read_csv('/datasets/project_sql_result_01.csv')\n",
    "trips=pd.read_csv('/datasets/project_sql_result_04.csv')"
   ]
  },
  {
   "cell_type": "markdown",
   "metadata": {},
   "source": [
    "We will display general data info and a sample of the data."
   ]
  },
  {
   "cell_type": "code",
   "execution_count": 3,
   "metadata": {},
   "outputs": [
    {
     "name": "stdout",
     "output_type": "stream",
     "text": [
      "<class 'pandas.core.frame.DataFrame'>\n",
      "RangeIndex: 64 entries, 0 to 63\n",
      "Data columns (total 2 columns):\n",
      "company_name    64 non-null object\n",
      "trips_amount    64 non-null int64\n",
      "dtypes: int64(1), object(1)\n",
      "memory usage: 1.1+ KB\n"
     ]
    }
   ],
   "source": [
    "# printing the general/summary information about the companies table\n",
    "companies.info()"
   ]
  },
  {
   "cell_type": "code",
   "execution_count": 4,
   "metadata": {},
   "outputs": [
    {
     "data": {
      "text/html": [
       "<div>\n",
       "<style scoped>\n",
       "    .dataframe tbody tr th:only-of-type {\n",
       "        vertical-align: middle;\n",
       "    }\n",
       "\n",
       "    .dataframe tbody tr th {\n",
       "        vertical-align: top;\n",
       "    }\n",
       "\n",
       "    .dataframe thead th {\n",
       "        text-align: right;\n",
       "    }\n",
       "</style>\n",
       "<table border=\"1\" class=\"dataframe\">\n",
       "  <thead>\n",
       "    <tr style=\"text-align: right;\">\n",
       "      <th></th>\n",
       "      <th>company_name</th>\n",
       "      <th>trips_amount</th>\n",
       "    </tr>\n",
       "  </thead>\n",
       "  <tbody>\n",
       "    <tr>\n",
       "      <td>0</td>\n",
       "      <td>Flash Cab</td>\n",
       "      <td>19558</td>\n",
       "    </tr>\n",
       "    <tr>\n",
       "      <td>1</td>\n",
       "      <td>Taxi Affiliation Services</td>\n",
       "      <td>11422</td>\n",
       "    </tr>\n",
       "    <tr>\n",
       "      <td>2</td>\n",
       "      <td>Medallion Leasing</td>\n",
       "      <td>10367</td>\n",
       "    </tr>\n",
       "    <tr>\n",
       "      <td>3</td>\n",
       "      <td>Yellow Cab</td>\n",
       "      <td>9888</td>\n",
       "    </tr>\n",
       "    <tr>\n",
       "      <td>4</td>\n",
       "      <td>Taxi Affiliation Service Yellow</td>\n",
       "      <td>9299</td>\n",
       "    </tr>\n",
       "  </tbody>\n",
       "</table>\n",
       "</div>"
      ],
      "text/plain": [
       "                      company_name  trips_amount\n",
       "0                        Flash Cab         19558\n",
       "1        Taxi Affiliation Services         11422\n",
       "2                Medallion Leasing         10367\n",
       "3                       Yellow Cab          9888\n",
       "4  Taxi Affiliation Service Yellow          9299"
      ]
     },
     "execution_count": 4,
     "metadata": {},
     "output_type": "execute_result"
    }
   ],
   "source": [
    "# printing a sample of data from companies table\n",
    "companies.head()"
   ]
  },
  {
   "cell_type": "code",
   "execution_count": 5,
   "metadata": {},
   "outputs": [
    {
     "name": "stdout",
     "output_type": "stream",
     "text": [
      "<class 'pandas.core.frame.DataFrame'>\n",
      "RangeIndex: 94 entries, 0 to 93\n",
      "Data columns (total 2 columns):\n",
      "dropoff_location_name    94 non-null object\n",
      "average_trips            94 non-null float64\n",
      "dtypes: float64(1), object(1)\n",
      "memory usage: 1.6+ KB\n"
     ]
    }
   ],
   "source": [
    "# printing the general/summary information about the trips table\n",
    "trips.info()"
   ]
  },
  {
   "cell_type": "code",
   "execution_count": 6,
   "metadata": {},
   "outputs": [
    {
     "data": {
      "text/html": [
       "<div>\n",
       "<style scoped>\n",
       "    .dataframe tbody tr th:only-of-type {\n",
       "        vertical-align: middle;\n",
       "    }\n",
       "\n",
       "    .dataframe tbody tr th {\n",
       "        vertical-align: top;\n",
       "    }\n",
       "\n",
       "    .dataframe thead th {\n",
       "        text-align: right;\n",
       "    }\n",
       "</style>\n",
       "<table border=\"1\" class=\"dataframe\">\n",
       "  <thead>\n",
       "    <tr style=\"text-align: right;\">\n",
       "      <th></th>\n",
       "      <th>dropoff_location_name</th>\n",
       "      <th>average_trips</th>\n",
       "    </tr>\n",
       "  </thead>\n",
       "  <tbody>\n",
       "    <tr>\n",
       "      <td>0</td>\n",
       "      <td>Loop</td>\n",
       "      <td>10727.466667</td>\n",
       "    </tr>\n",
       "    <tr>\n",
       "      <td>1</td>\n",
       "      <td>River North</td>\n",
       "      <td>9523.666667</td>\n",
       "    </tr>\n",
       "    <tr>\n",
       "      <td>2</td>\n",
       "      <td>Streeterville</td>\n",
       "      <td>6664.666667</td>\n",
       "    </tr>\n",
       "    <tr>\n",
       "      <td>3</td>\n",
       "      <td>West Loop</td>\n",
       "      <td>5163.666667</td>\n",
       "    </tr>\n",
       "    <tr>\n",
       "      <td>4</td>\n",
       "      <td>O'Hare</td>\n",
       "      <td>2546.900000</td>\n",
       "    </tr>\n",
       "  </tbody>\n",
       "</table>\n",
       "</div>"
      ],
      "text/plain": [
       "  dropoff_location_name  average_trips\n",
       "0                  Loop   10727.466667\n",
       "1           River North    9523.666667\n",
       "2         Streeterville    6664.666667\n",
       "3             West Loop    5163.666667\n",
       "4                O'Hare    2546.900000"
      ]
     },
     "execution_count": 6,
     "metadata": {},
     "output_type": "execute_result"
    }
   ],
   "source": [
    "# printing a sample of data from trips table\n",
    "trips.head()"
   ]
  },
  {
   "cell_type": "markdown",
   "metadata": {},
   "source": [
    "The columns look to be in the correct formats and no values are missing.\n",
    "\n",
    "Next, we will identify the top 10 neighborhoods in terms of drop-offs."
   ]
  },
  {
   "cell_type": "code",
   "execution_count": 7,
   "metadata": {},
   "outputs": [
    {
     "data": {
      "text/html": [
       "<div>\n",
       "<style scoped>\n",
       "    .dataframe tbody tr th:only-of-type {\n",
       "        vertical-align: middle;\n",
       "    }\n",
       "\n",
       "    .dataframe tbody tr th {\n",
       "        vertical-align: top;\n",
       "    }\n",
       "\n",
       "    .dataframe thead th {\n",
       "        text-align: right;\n",
       "    }\n",
       "</style>\n",
       "<table border=\"1\" class=\"dataframe\">\n",
       "  <thead>\n",
       "    <tr style=\"text-align: right;\">\n",
       "      <th></th>\n",
       "      <th>dropoff_location_name</th>\n",
       "      <th>average_trips</th>\n",
       "    </tr>\n",
       "  </thead>\n",
       "  <tbody>\n",
       "    <tr>\n",
       "      <td>0</td>\n",
       "      <td>Loop</td>\n",
       "      <td>10727.466667</td>\n",
       "    </tr>\n",
       "    <tr>\n",
       "      <td>1</td>\n",
       "      <td>River North</td>\n",
       "      <td>9523.666667</td>\n",
       "    </tr>\n",
       "    <tr>\n",
       "      <td>2</td>\n",
       "      <td>Streeterville</td>\n",
       "      <td>6664.666667</td>\n",
       "    </tr>\n",
       "    <tr>\n",
       "      <td>3</td>\n",
       "      <td>West Loop</td>\n",
       "      <td>5163.666667</td>\n",
       "    </tr>\n",
       "    <tr>\n",
       "      <td>4</td>\n",
       "      <td>O'Hare</td>\n",
       "      <td>2546.900000</td>\n",
       "    </tr>\n",
       "    <tr>\n",
       "      <td>5</td>\n",
       "      <td>Lake View</td>\n",
       "      <td>2420.966667</td>\n",
       "    </tr>\n",
       "    <tr>\n",
       "      <td>6</td>\n",
       "      <td>Grant Park</td>\n",
       "      <td>2068.533333</td>\n",
       "    </tr>\n",
       "    <tr>\n",
       "      <td>7</td>\n",
       "      <td>Museum Campus</td>\n",
       "      <td>1510.000000</td>\n",
       "    </tr>\n",
       "    <tr>\n",
       "      <td>8</td>\n",
       "      <td>Gold Coast</td>\n",
       "      <td>1364.233333</td>\n",
       "    </tr>\n",
       "    <tr>\n",
       "      <td>9</td>\n",
       "      <td>Sheffield &amp; DePaul</td>\n",
       "      <td>1259.766667</td>\n",
       "    </tr>\n",
       "  </tbody>\n",
       "</table>\n",
       "</div>"
      ],
      "text/plain": [
       "  dropoff_location_name  average_trips\n",
       "0                  Loop   10727.466667\n",
       "1           River North    9523.666667\n",
       "2         Streeterville    6664.666667\n",
       "3             West Loop    5163.666667\n",
       "4                O'Hare    2546.900000\n",
       "5             Lake View    2420.966667\n",
       "6            Grant Park    2068.533333\n",
       "7         Museum Campus    1510.000000\n",
       "8            Gold Coast    1364.233333\n",
       "9    Sheffield & DePaul    1259.766667"
      ]
     },
     "execution_count": 7,
     "metadata": {},
     "output_type": "execute_result"
    }
   ],
   "source": [
    "#printing top 10 neighborhoods in terms of drop-offs\n",
    "trips.sort_values('average_trips',ascending=False).head(10)"
   ]
  },
  {
   "cell_type": "markdown",
   "metadata": {},
   "source": [
    "In addition, we will plot graphs showing the number of rides completed by companies and the top 10 neighborhoods by the number of drop-offs."
   ]
  },
  {
   "cell_type": "code",
   "execution_count": 8,
   "metadata": {},
   "outputs": [
    {
     "data": {
      "image/png": "[encoded data removed]",
      "text/plain": [
       "<Figure size 1080x360 with 1 Axes>"
      ]
     },
     "metadata": {
      "needs_background": "light"
     },
     "output_type": "display_data"
    }
   ],
   "source": [
    "#plotting graphs showing number of rides completed by companies\n",
    "companies.sort_values('trips_amount',ascending=False).plot(kind='bar', x='company_name', figsize=(15,5), grid=True)\n",
    "plt.title('Number of rides for each taxi company on November 15-16, 2017')\n",
    "plt.ylabel('trips_amount')\n",
    "plt.show()"
   ]
  },
  {
   "cell_type": "code",
   "execution_count": 9,
   "metadata": {},
   "outputs": [
    {
     "data": {
      "image/png": "[encoded data removed]",
      "text/plain": [
       "<Figure size 1080x360 with 1 Axes>"
      ]
     },
     "metadata": {
      "needs_background": "light"
     },
     "output_type": "display_data"
    }
   ],
   "source": [
    "#plotting graphs showing top 10 neighborhoods by number of dropoffs\n",
    "trips.sort_values('average_trips',ascending=False).head(10).plot(kind='bar', x='dropoff_location_name', figsize=(15,5))\n",
    "plt.title('Chicago neighborhoods where rides ended')\n",
    "plt.ylabel('average_trips')\n",
    "plt.show()"
   ]
  },
  {
   "cell_type": "markdown",
   "metadata": {},
   "source": [
    "As can be seen, Flash Cab made a significantly larger number of trips than any other company (almost 20000). Eight companies made between 7500 and 12500 trips, and 5 companies made between 2500 and 7500 trips. The rest of the companies made less than 2500 trips.\n",
    "\n",
    "Loop neighborhood is leading by the number of drop-offs followed by River North and Streeterville neighborhoods. Sheffield & DePaul is closing the list of top ten neighborhoods by the number of drop-offs."
   ]
  },
  {
   "cell_type": "markdown",
   "metadata": {},
   "source": [
    "# 2. Testing hypothesis"
   ]
  },
  {
   "cell_type": "markdown",
   "metadata": {},
   "source": [
    "We will test the statistical hypothesis regarding the dependency of trip duration on weather conditions. We will test the hypothesis that the means of the two statistical populations are equally based on samples taken from them. To do this we will apply the method scipy.stats.ttest_ind. We will use a critical statistical significance level - alpha = 0.05. We will compare the p-value returned by scipy.stats.ttest_ind will be with alpha. If the p-value will be less than alpha, we will reject the hypothesis, otherwise, we will keep the hypothesis.\n",
    "\n",
    "We will formulate null hypotheses as \"The average duration of rides from the Loop to O'Hare International Airport is the same on rainy Saturdays\". The alternative hypothesis will be \"The average duration of rides from the Loop to O'Hare International Airport changes on rainy Saturdays\". Before testing the hypothesis, we will compare the variances of the samples in order to understand with which equal_var parameter to use the ttest_ind test method. For this, we will use Levene's statistic test. The Center parameter in Levene's test depends on data distribution. So, we will check the data distribution first in order to determine which value for this parameter we should use.\n",
    "\n",
    "The weather dataset was received by us in the previous stages of the project and does not require data preprocessing."
   ]
  },
  {
   "cell_type": "code",
   "execution_count": 10,
   "metadata": {},
   "outputs": [
    {
     "data": {
      "image/png": "[encoded data removed]",
      "text/plain": [
       "<Figure size 432x288 with 1 Axes>"
      ]
     },
     "metadata": {
      "needs_background": "light"
     },
     "output_type": "display_data"
    },
    {
     "data": {
      "image/png": "[encoded data removed]",
      "text/plain": [
       "<Figure size 432x288 with 1 Axes>"
      ]
     },
     "metadata": {
      "needs_background": "light"
     },
     "output_type": "display_data"
    }
   ],
   "source": [
    "#loading data\n",
    "weather=pd.read_csv('/datasets/project_sql_result_07.csv')\n",
    "\n",
    "#slicing data into good and bad weather tables\n",
    "good_weather_trips_duration=weather.query('weather_conditions==\"Good\"')['duration_seconds']\n",
    "bad_weather_trips_duration=weather.query('weather_conditions==\"Bad\"')['duration_seconds']\n",
    "#plotting histograms for sliced tables\n",
    "good_weather_trips_duration.hist()\n",
    "plt.title('Good weather')\n",
    "plt.show()\n",
    "bad_weather_trips_duration.hist()\n",
    "plt.title('Bad  weather')\n",
    "plt.show()"
   ]
  },
  {
   "cell_type": "markdown",
   "metadata": {},
   "source": [
    "Data is skewed, so we will use the median as a value for the center parameter in Levene's test."
   ]
  },
  {
   "cell_type": "code",
   "execution_count": 11,
   "metadata": {},
   "outputs": [
    {
     "data": {
      "text/plain": [
       "0.5332038671974493"
      ]
     },
     "execution_count": 11,
     "metadata": {},
     "output_type": "execute_result"
    }
   ],
   "source": [
    "#performing Levene's test\n",
    "stat, p = st.levene(good_weather_trips_duration, bad_weather_trips_duration, center='median')\n",
    "p"
   ]
  },
  {
   "cell_type": "markdown",
   "metadata": {},
   "source": [
    "The high p-value suggests that the populations have quite similar variances. Therefore, we will use equal_var=True"
   ]
  },
  {
   "cell_type": "code",
   "execution_count": 12,
   "metadata": {},
   "outputs": [
    {
     "name": "stdout",
     "output_type": "stream",
     "text": [
      "p-value:  6.517970327099473e-12\n"
     ]
    }
   ],
   "source": [
    "#Testing the hypothesis\n",
    "results = st.ttest_ind(good_weather_trips_duration, bad_weather_trips_duration, equal_var=True)\n",
    "\n",
    "#printing p-value received in the test\n",
    "print('p-value: ', results.pvalue)"
   ]
  },
  {
   "cell_type": "markdown",
   "metadata": {},
   "source": [
    "As can be seen, the p-value is much lower than the alpha. Such a small p-value tells us that there is an extremely low probability of randomly getting a trip duration difference that size or larger. In other words, the difference in trip duration on rainy and sunny days is not random. Therefore, we are rejecting the null hypothesis."
   ]
  },
  {
   "cell_type": "markdown",
   "metadata": {},
   "source": [
    "# General conclusion\n",
    "\n",
    "We analyzed how many rides each taxi company completed on November 15-16, 2017, and top neighborhoods by the number of drop-offs. Based on the analysis, Flash Cab made a significantly larger number of trips than any other company, and Loop neighborhood is leading by the number of drop-offs followed by River North and Streeterville.\n",
    "\n",
    "Also, we tested a statistical hypothesis regarding the dependency of trip duration on weather conditions. Based on the tests we rejected the hypothesis formulated as “The average duration of rides from the Loop to O'Hare International Airport is the same on rainy Saturdays\". So, it looks like the average ride duration is larger on rainy days."
   ]
  }
 ],
 "metadata": {
  "ExecuteTimeLog": [
   {
    "duration": 1565,
    "start_time": "2022-02-13T16:46:22.469Z"
   },
   {
    "duration": 21,
    "start_time": "2022-02-13T17:10:12.945Z"
   },
   {
    "duration": 4,
    "start_time": "2022-02-13T17:10:18.120Z"
   },
   {
    "duration": 20,
    "start_time": "2022-02-13T17:10:22.023Z"
   },
   {
    "duration": 12,
    "start_time": "2022-02-13T17:10:49.332Z"
   },
   {
    "duration": 19,
    "start_time": "2022-02-13T17:11:14.521Z"
   },
   {
    "duration": 9,
    "start_time": "2022-02-13T17:11:43.613Z"
   },
   {
    "duration": 10,
    "start_time": "2022-02-13T17:12:08.500Z"
   },
   {
    "duration": 1095,
    "start_time": "2022-02-15T05:27:34.802Z"
   },
   {
    "duration": 49,
    "start_time": "2022-02-15T05:27:35.899Z"
   },
   {
    "duration": 6,
    "start_time": "2022-02-15T05:27:35.951Z"
   },
   {
    "duration": 29,
    "start_time": "2022-02-15T05:27:35.960Z"
   },
   {
    "duration": 6,
    "start_time": "2022-02-15T05:27:35.992Z"
   },
   {
    "duration": 10,
    "start_time": "2022-02-15T05:27:36.000Z"
   },
   {
    "duration": 11,
    "start_time": "2022-02-15T05:27:38.833Z"
   },
   {
    "duration": 81,
    "start_time": "2022-02-15T05:28:13.630Z"
   },
   {
    "duration": 11,
    "start_time": "2022-02-15T05:28:44.563Z"
   },
   {
    "duration": 11,
    "start_time": "2022-02-15T05:28:51.156Z"
   },
   {
    "duration": 11,
    "start_time": "2022-02-15T05:29:02.978Z"
   },
   {
    "duration": 76,
    "start_time": "2022-02-15T05:31:41.800Z"
   },
   {
    "duration": 332,
    "start_time": "2022-02-15T05:32:01.157Z"
   },
   {
    "duration": 243,
    "start_time": "2022-02-15T05:32:39.267Z"
   },
   {
    "duration": 965,
    "start_time": "2022-02-15T05:33:18.918Z"
   },
   {
    "duration": 996,
    "start_time": "2022-02-15T05:33:57.526Z"
   },
   {
    "duration": 766,
    "start_time": "2022-02-15T05:35:27.021Z"
   },
   {
    "duration": 1357,
    "start_time": "2022-02-15T05:36:29.258Z"
   },
   {
    "duration": 1430,
    "start_time": "2022-02-15T05:38:10.358Z"
   },
   {
    "duration": 1408,
    "start_time": "2022-02-15T05:38:21.582Z"
   },
   {
    "duration": 1515,
    "start_time": "2022-02-15T05:38:35.676Z"
   },
   {
    "duration": 1379,
    "start_time": "2022-02-15T05:38:52.917Z"
   },
   {
    "duration": 1398,
    "start_time": "2022-02-15T05:39:11.035Z"
   },
   {
    "duration": 1590,
    "start_time": "2022-02-15T05:40:00.973Z"
   },
   {
    "duration": 274,
    "start_time": "2022-02-15T05:43:32.617Z"
   },
   {
    "duration": 24,
    "start_time": "2022-02-15T05:46:37.205Z"
   },
   {
    "duration": 7,
    "start_time": "2022-02-15T05:46:47.070Z"
   },
   {
    "duration": 9,
    "start_time": "2022-02-15T05:47:06.082Z"
   },
   {
    "duration": 6,
    "start_time": "2022-02-15T05:47:33.985Z"
   },
   {
    "duration": 233,
    "start_time": "2022-02-15T05:52:19.079Z"
   },
   {
    "duration": 1776,
    "start_time": "2022-02-15T05:52:39.773Z"
   },
   {
    "duration": 6,
    "start_time": "2022-02-15T05:54:28.872Z"
   },
   {
    "duration": 13,
    "start_time": "2022-02-15T05:54:31.426Z"
   },
   {
    "duration": 7,
    "start_time": "2022-02-15T05:54:48.026Z"
   },
   {
    "duration": 5,
    "start_time": "2022-02-15T05:58:11.944Z"
   },
   {
    "duration": 12,
    "start_time": "2022-02-15T05:58:17.042Z"
   },
   {
    "duration": 296,
    "start_time": "2022-02-15T06:01:43.219Z"
   },
   {
    "duration": 7,
    "start_time": "2022-02-15T06:02:07.117Z"
   },
   {
    "duration": 14,
    "start_time": "2022-02-15T06:02:16.916Z"
   },
   {
    "duration": 10,
    "start_time": "2022-02-15T06:02:39.853Z"
   },
   {
    "duration": 14,
    "start_time": "2022-02-15T06:02:49.738Z"
   },
   {
    "duration": 13,
    "start_time": "2022-02-15T06:02:53.622Z"
   },
   {
    "duration": 14,
    "start_time": "2022-02-15T06:03:05.026Z"
   },
   {
    "duration": 26,
    "start_time": "2022-02-15T06:06:28.063Z"
   },
   {
    "duration": 16,
    "start_time": "2022-02-15T06:06:31.153Z"
   },
   {
    "duration": 380,
    "start_time": "2022-02-15T06:11:05.933Z"
   },
   {
    "duration": 284,
    "start_time": "2022-02-15T06:13:20.831Z"
   },
   {
    "duration": 11,
    "start_time": "2022-02-15T06:14:53.339Z"
   },
   {
    "duration": 405,
    "start_time": "2022-02-15T06:15:26.804Z"
   },
   {
    "duration": 6,
    "start_time": "2022-02-15T06:15:51.839Z"
   },
   {
    "duration": 5,
    "start_time": "2022-02-15T06:19:02.853Z"
   },
   {
    "duration": 5,
    "start_time": "2022-02-15T06:19:12.169Z"
   },
   {
    "duration": 6,
    "start_time": "2022-02-15T06:19:29.828Z"
   },
   {
    "duration": 5,
    "start_time": "2022-02-15T06:19:43.548Z"
   },
   {
    "duration": 5,
    "start_time": "2022-02-15T06:21:57.695Z"
   },
   {
    "duration": 3,
    "start_time": "2022-02-15T06:38:27.230Z"
   },
   {
    "duration": 77,
    "start_time": "2022-02-15T06:46:40.845Z"
   },
   {
    "duration": 7,
    "start_time": "2022-02-15T06:47:16.045Z"
   },
   {
    "duration": 6,
    "start_time": "2022-02-15T06:47:34.589Z"
   },
   {
    "duration": 8,
    "start_time": "2022-02-15T06:48:14.538Z"
   },
   {
    "duration": 9,
    "start_time": "2022-02-15T06:51:28.367Z"
   },
   {
    "duration": 6435,
    "start_time": "2022-02-15T06:55:16.538Z"
   },
   {
    "duration": 257,
    "start_time": "2022-02-15T06:56:22.625Z"
   },
   {
    "duration": 292,
    "start_time": "2022-02-15T06:56:52.283Z"
   },
   {
    "duration": 257,
    "start_time": "2022-02-15T06:57:06.706Z"
   },
   {
    "duration": 4,
    "start_time": "2022-02-15T06:57:14.225Z"
   },
   {
    "duration": 29,
    "start_time": "2022-02-15T06:57:14.231Z"
   },
   {
    "duration": 9,
    "start_time": "2022-02-15T06:57:14.262Z"
   },
   {
    "duration": 12,
    "start_time": "2022-02-15T06:57:14.274Z"
   },
   {
    "duration": 13,
    "start_time": "2022-02-15T06:57:14.288Z"
   },
   {
    "duration": 13,
    "start_time": "2022-02-15T06:57:14.304Z"
   },
   {
    "duration": 20,
    "start_time": "2022-02-15T06:57:14.319Z"
   },
   {
    "duration": 355,
    "start_time": "2022-02-15T06:57:18.823Z"
   },
   {
    "duration": 1207,
    "start_time": "2022-02-15T06:58:13.993Z"
   },
   {
    "duration": 25,
    "start_time": "2022-02-15T06:58:15.202Z"
   },
   {
    "duration": 10,
    "start_time": "2022-02-15T06:58:15.229Z"
   },
   {
    "duration": 14,
    "start_time": "2022-02-15T06:58:15.241Z"
   },
   {
    "duration": 6,
    "start_time": "2022-02-15T06:58:15.257Z"
   },
   {
    "duration": 15,
    "start_time": "2022-02-15T06:58:15.265Z"
   },
   {
    "duration": 14,
    "start_time": "2022-02-15T06:58:15.282Z"
   },
   {
    "duration": 354,
    "start_time": "2022-02-15T06:58:17.940Z"
   },
   {
    "duration": 1377,
    "start_time": "2022-02-15T06:58:36.808Z"
   },
   {
    "duration": 265,
    "start_time": "2022-02-15T06:59:17.605Z"
   },
   {
    "duration": 1511,
    "start_time": "2022-02-15T07:07:42.502Z"
   },
   {
    "duration": 317,
    "start_time": "2022-02-15T07:27:02.821Z"
   },
   {
    "duration": 1180,
    "start_time": "2022-02-15T07:31:00.845Z"
   },
   {
    "duration": 22,
    "start_time": "2022-02-15T07:31:02.027Z"
   },
   {
    "duration": 71,
    "start_time": "2022-02-15T07:31:02.052Z"
   },
   {
    "duration": 64,
    "start_time": "2022-02-15T07:31:02.126Z"
   },
   {
    "duration": 51,
    "start_time": "2022-02-15T07:31:02.192Z"
   },
   {
    "duration": 25,
    "start_time": "2022-02-15T07:31:02.245Z"
   },
   {
    "duration": 58,
    "start_time": "2022-02-15T07:31:02.272Z"
   },
   {
    "duration": 1627,
    "start_time": "2022-02-15T07:31:02.332Z"
   },
   {
    "duration": 297,
    "start_time": "2022-02-15T07:31:03.962Z"
   },
   {
    "duration": 356,
    "start_time": "2022-02-15T07:31:04.261Z"
   },
   {
    "duration": -1793,
    "start_time": "2022-02-15T07:31:06.413Z"
   },
   {
    "duration": -2070,
    "start_time": "2022-02-15T07:31:06.691Z"
   },
   {
    "duration": 246,
    "start_time": "2022-02-15T07:33:20.665Z"
   },
   {
    "duration": 394,
    "start_time": "2022-02-15T07:33:42.630Z"
   },
   {
    "duration": 1053,
    "start_time": "2022-02-15T07:34:14.548Z"
   },
   {
    "duration": 21,
    "start_time": "2022-02-15T07:34:15.604Z"
   },
   {
    "duration": 21,
    "start_time": "2022-02-15T07:34:15.627Z"
   },
   {
    "duration": 19,
    "start_time": "2022-02-15T07:34:15.650Z"
   },
   {
    "duration": 9,
    "start_time": "2022-02-15T07:34:15.671Z"
   },
   {
    "duration": 10,
    "start_time": "2022-02-15T07:34:15.683Z"
   },
   {
    "duration": 19,
    "start_time": "2022-02-15T07:34:15.695Z"
   },
   {
    "duration": 1535,
    "start_time": "2022-02-15T07:34:15.716Z"
   },
   {
    "duration": 296,
    "start_time": "2022-02-15T07:34:17.254Z"
   },
   {
    "duration": 400,
    "start_time": "2022-02-15T07:34:17.552Z"
   },
   {
    "duration": 5,
    "start_time": "2022-02-15T07:34:17.954Z"
   },
   {
    "duration": 10,
    "start_time": "2022-02-15T07:34:17.961Z"
   }
  ],
  "kernelspec": {
   "display_name": "Python 3 (ipykernel)",
   "language": "python",
   "name": "python3"
  },
  "language_info": {
   "codemirror_mode": {
    "name": "ipython",
    "version": 3
   },
   "file_extension": ".py",
   "mimetype": "text/x-python",
   "name": "python",
   "nbconvert_exporter": "python",
   "pygments_lexer": "ipython3",
   "version": "3.9.7"
  },
  "toc": {
   "base_numbering": 1,
   "nav_menu": {},
   "number_sections": true,
   "sideBar": true,
   "skip_h1_title": true,
   "title_cell": "Table of Contents",
   "title_sidebar": "Contents",
   "toc_cell": false,
   "toc_position": {},
   "toc_section_display": true,
   "toc_window_display": false
  }
 },
 "nbformat": 4,
 "nbformat_minor": 2
}
