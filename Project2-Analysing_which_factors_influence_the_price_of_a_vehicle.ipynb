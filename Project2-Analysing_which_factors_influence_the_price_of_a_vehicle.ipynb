{
 "cells": [
  {
   "cell_type": "markdown",
   "metadata": {},
   "source": [
    "# Analysing  which factors influence the price of a vehicle"
   ]
  },
  {
   "cell_type": "markdown",
   "metadata": {},
   "source": [
    "# Contents <a id='back'></a>\n",
    "\n",
    "* [Introduction](#intro)\n",
    "* [Stage 1. Data overview](#data_review)    \n",
    "* [Stage 2. Data preprocessing](#data_preprocessing)\n",
    "* [Stage 3. Enriching data](#data_enriching)\n",
    "* [Stage 4. Exploratory data analysis](#data_analysis)\n",
    "* [General Conclusion](#conclusion)"
   ]
  },
  {
   "cell_type": "markdown",
   "metadata": {},
   "source": [
    "# Introduction <a id='intro'></a>\n",
    "In this project, we will analyze vehicles free advertisements data collected over the last few years and determine which factors influence the price of a vehicle.\n",
    "\n",
    "### Stages \n",
    "We do not have information about the quality of the data, therefore, we would need to examine and preprocess the data before conducting the research. \n",
    "\n",
    "Firstly, we will evaluate the quality of the data and identify if there are any significant issues that need to be addressed. Secondly, we will preprocess the data: fill in/remove missing values. Then, we will enrich the data by adding additional columns that will help us to work with the data. Finally, we will carry out exploratory data analysis.\n",
    " \n",
    "The project will consist of four stages:\n",
    " 1. Data overview\n",
    " 2. Data preprocessing\n",
    " 3. Data enriching\n",
    " 4. Exploratory data analysis"
   ]
  },
  {
   "cell_type": "markdown",
   "metadata": {},
   "source": [
    "# Stage 1. Data overview <a id='data_review'></a>"
   ]
  },
  {
   "cell_type": "markdown",
   "metadata": {},
   "source": [
    "First of all, we will load libraries that we will need to study the data."
   ]
  },
  {
   "cell_type": "code",
   "execution_count": 1,
   "metadata": {},
   "outputs": [],
   "source": [
    "# Loading all the libraries\n",
    "import pandas as pd\n",
    "import matplotlib.pyplot as plt"
   ]
  },
  {
   "cell_type": "markdown",
   "metadata": {},
   "source": [
    "Next, we will load the data."
   ]
  },
  {
   "cell_type": "code",
   "execution_count": 2,
   "metadata": {},
   "outputs": [],
   "source": [
    "# Loading the data file into a DataFrame\n",
    "data=pd.read_csv('/datasets/vehicles_us.csv')\n",
    "#saving original data size for the future useage\n",
    "data_len_original=len(data)"
   ]
  },
  {
   "cell_type": "markdown",
   "metadata": {},
   "source": [
    "According to the documentation the dataset contains the following fields:\n",
    "- `price`\n",
    "- `model_year`\n",
    "- `model`\n",
    "- `condition`\n",
    "- `cylinders`\n",
    "- `fuel` — gas, diesel, etc.\n",
    "- `odometer` — the vehicle's mileage when the ad was published\n",
    "- `transmission`\n",
    "- `paint_color`\n",
    "- `is_4wd` — whether the vehicle has 4-wheel drive (Boolean type)\n",
    "- `date_posted` — the date the ad was published\n",
    "- `days_listed` — from publication to removal\n",
    "\n",
    "We will display general data info and a sample of the data."
   ]
  },
  {
   "cell_type": "code",
   "execution_count": 3,
   "metadata": {},
   "outputs": [
    {
     "name": "stdout",
     "output_type": "stream",
     "text": [
      "<class 'pandas.core.frame.DataFrame'>\n",
      "RangeIndex: 51525 entries, 0 to 51524\n",
      "Data columns (total 13 columns):\n",
      "price           51525 non-null int64\n",
      "model_year      47906 non-null float64\n",
      "model           51525 non-null object\n",
      "condition       51525 non-null object\n",
      "cylinders       46265 non-null float64\n",
      "fuel            51525 non-null object\n",
      "odometer        43633 non-null float64\n",
      "transmission    51525 non-null object\n",
      "type            51525 non-null object\n",
      "paint_color     42258 non-null object\n",
      "is_4wd          25572 non-null float64\n",
      "date_posted     51525 non-null object\n",
      "days_listed     51525 non-null int64\n",
      "dtypes: float64(4), int64(2), object(7)\n",
      "memory usage: 5.1+ MB\n"
     ]
    }
   ],
   "source": [
    "# printing the general/summary information about the DataFrame\n",
    "data.info()"
   ]
  },
  {
   "cell_type": "code",
   "execution_count": 4,
   "metadata": {},
   "outputs": [
    {
     "data": {
      "text/html": [
       "<div>\n",
       "<style scoped>\n",
       "    .dataframe tbody tr th:only-of-type {\n",
       "        vertical-align: middle;\n",
       "    }\n",
       "\n",
       "    .dataframe tbody tr th {\n",
       "        vertical-align: top;\n",
       "    }\n",
       "\n",
       "    .dataframe thead th {\n",
       "        text-align: right;\n",
       "    }\n",
       "</style>\n",
       "<table border=\"1\" class=\"dataframe\">\n",
       "  <thead>\n",
       "    <tr style=\"text-align: right;\">\n",
       "      <th></th>\n",
       "      <th>price</th>\n",
       "      <th>model_year</th>\n",
       "      <th>model</th>\n",
       "      <th>condition</th>\n",
       "      <th>cylinders</th>\n",
       "      <th>fuel</th>\n",
       "      <th>odometer</th>\n",
       "      <th>transmission</th>\n",
       "      <th>type</th>\n",
       "      <th>paint_color</th>\n",
       "      <th>is_4wd</th>\n",
       "      <th>date_posted</th>\n",
       "      <th>days_listed</th>\n",
       "    </tr>\n",
       "  </thead>\n",
       "  <tbody>\n",
       "    <tr>\n",
       "      <td>0</td>\n",
       "      <td>9400</td>\n",
       "      <td>2011.0</td>\n",
       "      <td>bmw x5</td>\n",
       "      <td>good</td>\n",
       "      <td>6.0</td>\n",
       "      <td>gas</td>\n",
       "      <td>145000.0</td>\n",
       "      <td>automatic</td>\n",
       "      <td>SUV</td>\n",
       "      <td>NaN</td>\n",
       "      <td>1.0</td>\n",
       "      <td>2018-06-23</td>\n",
       "      <td>19</td>\n",
       "    </tr>\n",
       "    <tr>\n",
       "      <td>1</td>\n",
       "      <td>25500</td>\n",
       "      <td>NaN</td>\n",
       "      <td>ford f-150</td>\n",
       "      <td>good</td>\n",
       "      <td>6.0</td>\n",
       "      <td>gas</td>\n",
       "      <td>88705.0</td>\n",
       "      <td>automatic</td>\n",
       "      <td>pickup</td>\n",
       "      <td>white</td>\n",
       "      <td>1.0</td>\n",
       "      <td>2018-10-19</td>\n",
       "      <td>50</td>\n",
       "    </tr>\n",
       "    <tr>\n",
       "      <td>2</td>\n",
       "      <td>5500</td>\n",
       "      <td>2013.0</td>\n",
       "      <td>hyundai sonata</td>\n",
       "      <td>like new</td>\n",
       "      <td>4.0</td>\n",
       "      <td>gas</td>\n",
       "      <td>110000.0</td>\n",
       "      <td>automatic</td>\n",
       "      <td>sedan</td>\n",
       "      <td>red</td>\n",
       "      <td>NaN</td>\n",
       "      <td>2019-02-07</td>\n",
       "      <td>79</td>\n",
       "    </tr>\n",
       "    <tr>\n",
       "      <td>3</td>\n",
       "      <td>1500</td>\n",
       "      <td>2003.0</td>\n",
       "      <td>ford f-150</td>\n",
       "      <td>fair</td>\n",
       "      <td>8.0</td>\n",
       "      <td>gas</td>\n",
       "      <td>NaN</td>\n",
       "      <td>automatic</td>\n",
       "      <td>pickup</td>\n",
       "      <td>NaN</td>\n",
       "      <td>NaN</td>\n",
       "      <td>2019-03-22</td>\n",
       "      <td>9</td>\n",
       "    </tr>\n",
       "    <tr>\n",
       "      <td>4</td>\n",
       "      <td>14900</td>\n",
       "      <td>2017.0</td>\n",
       "      <td>chrysler 200</td>\n",
       "      <td>excellent</td>\n",
       "      <td>4.0</td>\n",
       "      <td>gas</td>\n",
       "      <td>80903.0</td>\n",
       "      <td>automatic</td>\n",
       "      <td>sedan</td>\n",
       "      <td>black</td>\n",
       "      <td>NaN</td>\n",
       "      <td>2019-04-02</td>\n",
       "      <td>28</td>\n",
       "    </tr>\n",
       "    <tr>\n",
       "      <td>5</td>\n",
       "      <td>14990</td>\n",
       "      <td>2014.0</td>\n",
       "      <td>chrysler 300</td>\n",
       "      <td>excellent</td>\n",
       "      <td>6.0</td>\n",
       "      <td>gas</td>\n",
       "      <td>57954.0</td>\n",
       "      <td>automatic</td>\n",
       "      <td>sedan</td>\n",
       "      <td>black</td>\n",
       "      <td>1.0</td>\n",
       "      <td>2018-06-20</td>\n",
       "      <td>15</td>\n",
       "    </tr>\n",
       "    <tr>\n",
       "      <td>6</td>\n",
       "      <td>12990</td>\n",
       "      <td>2015.0</td>\n",
       "      <td>toyota camry</td>\n",
       "      <td>excellent</td>\n",
       "      <td>4.0</td>\n",
       "      <td>gas</td>\n",
       "      <td>79212.0</td>\n",
       "      <td>automatic</td>\n",
       "      <td>sedan</td>\n",
       "      <td>white</td>\n",
       "      <td>NaN</td>\n",
       "      <td>2018-12-27</td>\n",
       "      <td>73</td>\n",
       "    </tr>\n",
       "    <tr>\n",
       "      <td>7</td>\n",
       "      <td>15990</td>\n",
       "      <td>2013.0</td>\n",
       "      <td>honda pilot</td>\n",
       "      <td>excellent</td>\n",
       "      <td>6.0</td>\n",
       "      <td>gas</td>\n",
       "      <td>109473.0</td>\n",
       "      <td>automatic</td>\n",
       "      <td>SUV</td>\n",
       "      <td>black</td>\n",
       "      <td>1.0</td>\n",
       "      <td>2019-01-07</td>\n",
       "      <td>68</td>\n",
       "    </tr>\n",
       "    <tr>\n",
       "      <td>8</td>\n",
       "      <td>11500</td>\n",
       "      <td>2012.0</td>\n",
       "      <td>kia sorento</td>\n",
       "      <td>excellent</td>\n",
       "      <td>4.0</td>\n",
       "      <td>gas</td>\n",
       "      <td>104174.0</td>\n",
       "      <td>automatic</td>\n",
       "      <td>SUV</td>\n",
       "      <td>NaN</td>\n",
       "      <td>1.0</td>\n",
       "      <td>2018-07-16</td>\n",
       "      <td>19</td>\n",
       "    </tr>\n",
       "    <tr>\n",
       "      <td>9</td>\n",
       "      <td>9200</td>\n",
       "      <td>2008.0</td>\n",
       "      <td>honda pilot</td>\n",
       "      <td>excellent</td>\n",
       "      <td>NaN</td>\n",
       "      <td>gas</td>\n",
       "      <td>147191.0</td>\n",
       "      <td>automatic</td>\n",
       "      <td>SUV</td>\n",
       "      <td>blue</td>\n",
       "      <td>1.0</td>\n",
       "      <td>2019-02-15</td>\n",
       "      <td>17</td>\n",
       "    </tr>\n",
       "  </tbody>\n",
       "</table>\n",
       "</div>"
      ],
      "text/plain": [
       "   price  model_year           model  condition  cylinders fuel  odometer  \\\n",
       "0   9400      2011.0          bmw x5       good        6.0  gas  145000.0   \n",
       "1  25500         NaN      ford f-150       good        6.0  gas   88705.0   \n",
       "2   5500      2013.0  hyundai sonata   like new        4.0  gas  110000.0   \n",
       "3   1500      2003.0      ford f-150       fair        8.0  gas       NaN   \n",
       "4  14900      2017.0    chrysler 200  excellent        4.0  gas   80903.0   \n",
       "5  14990      2014.0    chrysler 300  excellent        6.0  gas   57954.0   \n",
       "6  12990      2015.0    toyota camry  excellent        4.0  gas   79212.0   \n",
       "7  15990      2013.0     honda pilot  excellent        6.0  gas  109473.0   \n",
       "8  11500      2012.0     kia sorento  excellent        4.0  gas  104174.0   \n",
       "9   9200      2008.0     honda pilot  excellent        NaN  gas  147191.0   \n",
       "\n",
       "  transmission    type paint_color  is_4wd date_posted  days_listed  \n",
       "0    automatic     SUV         NaN     1.0  2018-06-23           19  \n",
       "1    automatic  pickup       white     1.0  2018-10-19           50  \n",
       "2    automatic   sedan         red     NaN  2019-02-07           79  \n",
       "3    automatic  pickup         NaN     NaN  2019-03-22            9  \n",
       "4    automatic   sedan       black     NaN  2019-04-02           28  \n",
       "5    automatic   sedan       black     1.0  2018-06-20           15  \n",
       "6    automatic   sedan       white     NaN  2018-12-27           73  \n",
       "7    automatic     SUV       black     1.0  2019-01-07           68  \n",
       "8    automatic     SUV         NaN     1.0  2018-07-16           19  \n",
       "9    automatic     SUV        blue     1.0  2019-02-15           17  "
      ]
     },
     "execution_count": 4,
     "metadata": {},
     "output_type": "execute_result"
    }
   ],
   "source": [
    "# printing a sample of data\n",
    "data.head(10)"
   ]
  },
  {
   "cell_type": "markdown",
   "metadata": {},
   "source": [
    "As can be seen, there are 51525 rows and 13 columns in the table. Each row contains information about individual vehicle sale advertisement including price, built year, model, vehicle condition, number of cylinders, fuel used, mileage, transmission type, type of the vehicle, vehicle color, and the flag that indicates if the vehicle is 4 wheel drive. In addition, each row contains information about when the advertisement was posted and for how long it was listed.\n",
    "\n",
    "Based on general info and sample of the data, `model_year`, `cylinders`, `odometer`, `paint_color` and `is_4wd` columns have missing values. In addition, `model_year`, `cylinders`, `odometer`, `is_4wd` and `date_posted` columns have incorrect data types.\n",
    "\n",
    "This issue should be addressed before we start answering the questions raised in that project."
   ]
  },
  {
   "cell_type": "markdown",
   "metadata": {},
   "source": [
    "# Stage 2. Data preprocessing <a id='data_preprocessing'></a>\n",
    "\n",
    "Before starting exploratory data analysis, we will address the issues with the data. Firstly, we will check how many values are missing."
   ]
  },
  {
   "cell_type": "code",
   "execution_count": 5,
   "metadata": {},
   "outputs": [
    {
     "data": {
      "text/plain": [
       "price            0.000000\n",
       "model_year       7.023775\n",
       "model            0.000000\n",
       "condition        0.000000\n",
       "cylinders       10.208637\n",
       "fuel             0.000000\n",
       "odometer        15.316836\n",
       "transmission     0.000000\n",
       "type             0.000000\n",
       "paint_color     17.985444\n",
       "is_4wd          50.369723\n",
       "date_posted      0.000000\n",
       "days_listed      0.000000\n",
       "dtype: float64"
      ]
     },
     "execution_count": 5,
     "metadata": {},
     "output_type": "execute_result"
    }
   ],
   "source": [
    "data.isnull().sum()*100/len(data)"
   ]
  },
  {
   "cell_type": "markdown",
   "metadata": {},
   "source": [
    "As can be seen, half of the values in the is_4wd column are missing. From the dataset description, this field is Boolean. Probably 'False' values were not filled in, so we will need to check it. Field cylinders, odometer, and paint_color have 10, 15, and 18 percent of missing values correspondingly. This is a lot, so we will need to decide what to do with missing values on these columns.\n",
    "\n",
    "Next will go through each column one by one analyzing them and correcting incorrect and missing data. "
   ]
  },
  {
   "cell_type": "markdown",
   "metadata": {},
   "source": [
    "## Model_year column"
   ]
  },
  {
   "cell_type": "markdown",
   "metadata": {},
   "source": [
    "Displaying sample of the data where values in `model_year` column are missing."
   ]
  },
  {
   "cell_type": "code",
   "execution_count": 6,
   "metadata": {},
   "outputs": [
    {
     "data": {
      "text/html": [
       "<div>\n",
       "<style scoped>\n",
       "    .dataframe tbody tr th:only-of-type {\n",
       "        vertical-align: middle;\n",
       "    }\n",
       "\n",
       "    .dataframe tbody tr th {\n",
       "        vertical-align: top;\n",
       "    }\n",
       "\n",
       "    .dataframe thead th {\n",
       "        text-align: right;\n",
       "    }\n",
       "</style>\n",
       "<table border=\"1\" class=\"dataframe\">\n",
       "  <thead>\n",
       "    <tr style=\"text-align: right;\">\n",
       "      <th></th>\n",
       "      <th>price</th>\n",
       "      <th>model_year</th>\n",
       "      <th>model</th>\n",
       "      <th>condition</th>\n",
       "      <th>cylinders</th>\n",
       "      <th>fuel</th>\n",
       "      <th>odometer</th>\n",
       "      <th>transmission</th>\n",
       "      <th>type</th>\n",
       "      <th>paint_color</th>\n",
       "      <th>is_4wd</th>\n",
       "      <th>date_posted</th>\n",
       "      <th>days_listed</th>\n",
       "    </tr>\n",
       "  </thead>\n",
       "  <tbody>\n",
       "    <tr>\n",
       "      <td>1</td>\n",
       "      <td>25500</td>\n",
       "      <td>NaN</td>\n",
       "      <td>ford f-150</td>\n",
       "      <td>good</td>\n",
       "      <td>6.0</td>\n",
       "      <td>gas</td>\n",
       "      <td>88705.0</td>\n",
       "      <td>automatic</td>\n",
       "      <td>pickup</td>\n",
       "      <td>white</td>\n",
       "      <td>1.0</td>\n",
       "      <td>2018-10-19</td>\n",
       "      <td>50</td>\n",
       "    </tr>\n",
       "    <tr>\n",
       "      <td>20</td>\n",
       "      <td>6990</td>\n",
       "      <td>NaN</td>\n",
       "      <td>chevrolet tahoe</td>\n",
       "      <td>excellent</td>\n",
       "      <td>8.0</td>\n",
       "      <td>gas</td>\n",
       "      <td>147485.0</td>\n",
       "      <td>automatic</td>\n",
       "      <td>SUV</td>\n",
       "      <td>silver</td>\n",
       "      <td>1.0</td>\n",
       "      <td>2018-08-05</td>\n",
       "      <td>28</td>\n",
       "    </tr>\n",
       "    <tr>\n",
       "      <td>65</td>\n",
       "      <td>12800</td>\n",
       "      <td>NaN</td>\n",
       "      <td>ford f-150</td>\n",
       "      <td>excellent</td>\n",
       "      <td>6.0</td>\n",
       "      <td>gas</td>\n",
       "      <td>108500.0</td>\n",
       "      <td>automatic</td>\n",
       "      <td>pickup</td>\n",
       "      <td>white</td>\n",
       "      <td>NaN</td>\n",
       "      <td>2018-09-23</td>\n",
       "      <td>15</td>\n",
       "    </tr>\n",
       "    <tr>\n",
       "      <td>69</td>\n",
       "      <td>7800</td>\n",
       "      <td>NaN</td>\n",
       "      <td>ford f-150</td>\n",
       "      <td>like new</td>\n",
       "      <td>8.0</td>\n",
       "      <td>gas</td>\n",
       "      <td>97510.0</td>\n",
       "      <td>automatic</td>\n",
       "      <td>truck</td>\n",
       "      <td>white</td>\n",
       "      <td>1.0</td>\n",
       "      <td>2019-02-20</td>\n",
       "      <td>39</td>\n",
       "    </tr>\n",
       "    <tr>\n",
       "      <td>72</td>\n",
       "      <td>3650</td>\n",
       "      <td>NaN</td>\n",
       "      <td>subaru impreza</td>\n",
       "      <td>excellent</td>\n",
       "      <td>NaN</td>\n",
       "      <td>gas</td>\n",
       "      <td>74000.0</td>\n",
       "      <td>automatic</td>\n",
       "      <td>sedan</td>\n",
       "      <td>blue</td>\n",
       "      <td>1.0</td>\n",
       "      <td>2018-08-07</td>\n",
       "      <td>60</td>\n",
       "    </tr>\n",
       "    <tr>\n",
       "      <td>...</td>\n",
       "      <td>...</td>\n",
       "      <td>...</td>\n",
       "      <td>...</td>\n",
       "      <td>...</td>\n",
       "      <td>...</td>\n",
       "      <td>...</td>\n",
       "      <td>...</td>\n",
       "      <td>...</td>\n",
       "      <td>...</td>\n",
       "      <td>...</td>\n",
       "      <td>...</td>\n",
       "      <td>...</td>\n",
       "      <td>...</td>\n",
       "    </tr>\n",
       "    <tr>\n",
       "      <td>51464</td>\n",
       "      <td>8890</td>\n",
       "      <td>NaN</td>\n",
       "      <td>ford f250 super duty</td>\n",
       "      <td>good</td>\n",
       "      <td>8.0</td>\n",
       "      <td>gas</td>\n",
       "      <td>135778.0</td>\n",
       "      <td>automatic</td>\n",
       "      <td>truck</td>\n",
       "      <td>red</td>\n",
       "      <td>1.0</td>\n",
       "      <td>2018-11-28</td>\n",
       "      <td>24</td>\n",
       "    </tr>\n",
       "    <tr>\n",
       "      <td>51465</td>\n",
       "      <td>34595</td>\n",
       "      <td>NaN</td>\n",
       "      <td>gmc yukon</td>\n",
       "      <td>excellent</td>\n",
       "      <td>8.0</td>\n",
       "      <td>gas</td>\n",
       "      <td>86456.0</td>\n",
       "      <td>automatic</td>\n",
       "      <td>SUV</td>\n",
       "      <td>silver</td>\n",
       "      <td>1.0</td>\n",
       "      <td>2019-04-18</td>\n",
       "      <td>13</td>\n",
       "    </tr>\n",
       "    <tr>\n",
       "      <td>51487</td>\n",
       "      <td>1495</td>\n",
       "      <td>NaN</td>\n",
       "      <td>ford f-150</td>\n",
       "      <td>fair</td>\n",
       "      <td>6.0</td>\n",
       "      <td>gas</td>\n",
       "      <td>15804.0</td>\n",
       "      <td>manual</td>\n",
       "      <td>truck</td>\n",
       "      <td>white</td>\n",
       "      <td>1.0</td>\n",
       "      <td>2018-09-18</td>\n",
       "      <td>56</td>\n",
       "    </tr>\n",
       "    <tr>\n",
       "      <td>51488</td>\n",
       "      <td>21900</td>\n",
       "      <td>NaN</td>\n",
       "      <td>chevrolet silverado 3500hd</td>\n",
       "      <td>excellent</td>\n",
       "      <td>8.0</td>\n",
       "      <td>diesel</td>\n",
       "      <td>203000.0</td>\n",
       "      <td>automatic</td>\n",
       "      <td>truck</td>\n",
       "      <td>white</td>\n",
       "      <td>1.0</td>\n",
       "      <td>2018-12-27</td>\n",
       "      <td>37</td>\n",
       "    </tr>\n",
       "    <tr>\n",
       "      <td>51508</td>\n",
       "      <td>4950</td>\n",
       "      <td>NaN</td>\n",
       "      <td>chrysler town &amp; country</td>\n",
       "      <td>excellent</td>\n",
       "      <td>6.0</td>\n",
       "      <td>gas</td>\n",
       "      <td>150000.0</td>\n",
       "      <td>automatic</td>\n",
       "      <td>mini-van</td>\n",
       "      <td>silver</td>\n",
       "      <td>NaN</td>\n",
       "      <td>2018-06-30</td>\n",
       "      <td>48</td>\n",
       "    </tr>\n",
       "  </tbody>\n",
       "</table>\n",
       "<p>3619 rows × 13 columns</p>\n",
       "</div>"
      ],
      "text/plain": [
       "       price  model_year                       model  condition  cylinders  \\\n",
       "1      25500         NaN                  ford f-150       good        6.0   \n",
       "20      6990         NaN             chevrolet tahoe  excellent        8.0   \n",
       "65     12800         NaN                  ford f-150  excellent        6.0   \n",
       "69      7800         NaN                  ford f-150   like new        8.0   \n",
       "72      3650         NaN              subaru impreza  excellent        NaN   \n",
       "...      ...         ...                         ...        ...        ...   \n",
       "51464   8890         NaN        ford f250 super duty       good        8.0   \n",
       "51465  34595         NaN                   gmc yukon  excellent        8.0   \n",
       "51487   1495         NaN                  ford f-150       fair        6.0   \n",
       "51488  21900         NaN  chevrolet silverado 3500hd  excellent        8.0   \n",
       "51508   4950         NaN     chrysler town & country  excellent        6.0   \n",
       "\n",
       "         fuel  odometer transmission      type paint_color  is_4wd  \\\n",
       "1         gas   88705.0    automatic    pickup       white     1.0   \n",
       "20        gas  147485.0    automatic       SUV      silver     1.0   \n",
       "65        gas  108500.0    automatic    pickup       white     NaN   \n",
       "69        gas   97510.0    automatic     truck       white     1.0   \n",
       "72        gas   74000.0    automatic     sedan        blue     1.0   \n",
       "...       ...       ...          ...       ...         ...     ...   \n",
       "51464     gas  135778.0    automatic     truck         red     1.0   \n",
       "51465     gas   86456.0    automatic       SUV      silver     1.0   \n",
       "51487     gas   15804.0       manual     truck       white     1.0   \n",
       "51488  diesel  203000.0    automatic     truck       white     1.0   \n",
       "51508     gas  150000.0    automatic  mini-van      silver     NaN   \n",
       "\n",
       "      date_posted  days_listed  \n",
       "1      2018-10-19           50  \n",
       "20     2018-08-05           28  \n",
       "65     2018-09-23           15  \n",
       "69     2019-02-20           39  \n",
       "72     2018-08-07           60  \n",
       "...           ...          ...  \n",
       "51464  2018-11-28           24  \n",
       "51465  2019-04-18           13  \n",
       "51487  2018-09-18           56  \n",
       "51488  2018-12-27           37  \n",
       "51508  2018-06-30           48  \n",
       "\n",
       "[3619 rows x 13 columns]"
      ]
     },
     "execution_count": 6,
     "metadata": {},
     "output_type": "execute_result"
    }
   ],
   "source": [
    "#getting sample of the data with missing values in model_year column\n",
    "data[(data['model_year'].isna())]"
   ]
  },
  {
   "cell_type": "markdown",
   "metadata": {},
   "source": [
    "From the sample of the data, it looks like the model years are missing at random as they are missing for different vehicle models and types. It could be that the model_year was not filled in for the new vehicle, but high values in the odometer column indicate that this is not true. Therefore, we cannot restore these values and will drop rows that contain them."
   ]
  },
  {
   "cell_type": "code",
   "execution_count": 7,
   "metadata": {},
   "outputs": [],
   "source": [
    "#dropping rows there values in model_year colunm are missing\n",
    "data=data.dropna(subset=['model_year'])"
   ]
  },
  {
   "cell_type": "markdown",
   "metadata": {},
   "source": [
    "## Cylinders column"
   ]
  },
  {
   "cell_type": "markdown",
   "metadata": {},
   "source": [
    "Displaying sample of the data where values in `cylinders` column are missing."
   ]
  },
  {
   "cell_type": "code",
   "execution_count": 8,
   "metadata": {},
   "outputs": [
    {
     "data": {
      "text/html": [
       "<div>\n",
       "<style scoped>\n",
       "    .dataframe tbody tr th:only-of-type {\n",
       "        vertical-align: middle;\n",
       "    }\n",
       "\n",
       "    .dataframe tbody tr th {\n",
       "        vertical-align: top;\n",
       "    }\n",
       "\n",
       "    .dataframe thead th {\n",
       "        text-align: right;\n",
       "    }\n",
       "</style>\n",
       "<table border=\"1\" class=\"dataframe\">\n",
       "  <thead>\n",
       "    <tr style=\"text-align: right;\">\n",
       "      <th></th>\n",
       "      <th>price</th>\n",
       "      <th>model_year</th>\n",
       "      <th>model</th>\n",
       "      <th>condition</th>\n",
       "      <th>cylinders</th>\n",
       "      <th>fuel</th>\n",
       "      <th>odometer</th>\n",
       "      <th>transmission</th>\n",
       "      <th>type</th>\n",
       "      <th>paint_color</th>\n",
       "      <th>is_4wd</th>\n",
       "      <th>date_posted</th>\n",
       "      <th>days_listed</th>\n",
       "    </tr>\n",
       "  </thead>\n",
       "  <tbody>\n",
       "    <tr>\n",
       "      <td>9</td>\n",
       "      <td>9200</td>\n",
       "      <td>2008.0</td>\n",
       "      <td>honda pilot</td>\n",
       "      <td>excellent</td>\n",
       "      <td>NaN</td>\n",
       "      <td>gas</td>\n",
       "      <td>147191.0</td>\n",
       "      <td>automatic</td>\n",
       "      <td>SUV</td>\n",
       "      <td>blue</td>\n",
       "      <td>1.0</td>\n",
       "      <td>2019-02-15</td>\n",
       "      <td>17</td>\n",
       "    </tr>\n",
       "    <tr>\n",
       "      <td>36</td>\n",
       "      <td>10499</td>\n",
       "      <td>2013.0</td>\n",
       "      <td>chrysler 300</td>\n",
       "      <td>good</td>\n",
       "      <td>NaN</td>\n",
       "      <td>gas</td>\n",
       "      <td>88042.0</td>\n",
       "      <td>automatic</td>\n",
       "      <td>sedan</td>\n",
       "      <td>NaN</td>\n",
       "      <td>NaN</td>\n",
       "      <td>2018-05-05</td>\n",
       "      <td>22</td>\n",
       "    </tr>\n",
       "    <tr>\n",
       "      <td>37</td>\n",
       "      <td>7500</td>\n",
       "      <td>2005.0</td>\n",
       "      <td>toyota tacoma</td>\n",
       "      <td>good</td>\n",
       "      <td>NaN</td>\n",
       "      <td>gas</td>\n",
       "      <td>160000.0</td>\n",
       "      <td>automatic</td>\n",
       "      <td>pickup</td>\n",
       "      <td>NaN</td>\n",
       "      <td>NaN</td>\n",
       "      <td>2018-07-22</td>\n",
       "      <td>44</td>\n",
       "    </tr>\n",
       "    <tr>\n",
       "      <td>59</td>\n",
       "      <td>5200</td>\n",
       "      <td>2006.0</td>\n",
       "      <td>toyota highlander</td>\n",
       "      <td>good</td>\n",
       "      <td>NaN</td>\n",
       "      <td>gas</td>\n",
       "      <td>186000.0</td>\n",
       "      <td>automatic</td>\n",
       "      <td>SUV</td>\n",
       "      <td>green</td>\n",
       "      <td>NaN</td>\n",
       "      <td>2018-12-20</td>\n",
       "      <td>2</td>\n",
       "    </tr>\n",
       "    <tr>\n",
       "      <td>63</td>\n",
       "      <td>30000</td>\n",
       "      <td>1966.0</td>\n",
       "      <td>ford mustang</td>\n",
       "      <td>excellent</td>\n",
       "      <td>NaN</td>\n",
       "      <td>gas</td>\n",
       "      <td>51000.0</td>\n",
       "      <td>manual</td>\n",
       "      <td>convertible</td>\n",
       "      <td>red</td>\n",
       "      <td>NaN</td>\n",
       "      <td>2019-01-23</td>\n",
       "      <td>17</td>\n",
       "    </tr>\n",
       "    <tr>\n",
       "      <td>75</td>\n",
       "      <td>6950</td>\n",
       "      <td>2005.0</td>\n",
       "      <td>chevrolet tahoe</td>\n",
       "      <td>excellent</td>\n",
       "      <td>NaN</td>\n",
       "      <td>gas</td>\n",
       "      <td>186021.0</td>\n",
       "      <td>automatic</td>\n",
       "      <td>SUV</td>\n",
       "      <td>NaN</td>\n",
       "      <td>1.0</td>\n",
       "      <td>2018-10-30</td>\n",
       "      <td>3</td>\n",
       "    </tr>\n",
       "    <tr>\n",
       "      <td>87</td>\n",
       "      <td>8499</td>\n",
       "      <td>2009.0</td>\n",
       "      <td>bmw x5</td>\n",
       "      <td>good</td>\n",
       "      <td>NaN</td>\n",
       "      <td>gas</td>\n",
       "      <td>104482.0</td>\n",
       "      <td>automatic</td>\n",
       "      <td>SUV</td>\n",
       "      <td>blue</td>\n",
       "      <td>1.0</td>\n",
       "      <td>2019-03-04</td>\n",
       "      <td>52</td>\n",
       "    </tr>\n",
       "    <tr>\n",
       "      <td>119</td>\n",
       "      <td>14800</td>\n",
       "      <td>2016.0</td>\n",
       "      <td>kia sorento</td>\n",
       "      <td>like new</td>\n",
       "      <td>NaN</td>\n",
       "      <td>gas</td>\n",
       "      <td>NaN</td>\n",
       "      <td>automatic</td>\n",
       "      <td>SUV</td>\n",
       "      <td>brown</td>\n",
       "      <td>NaN</td>\n",
       "      <td>2019-02-27</td>\n",
       "      <td>93</td>\n",
       "    </tr>\n",
       "    <tr>\n",
       "      <td>126</td>\n",
       "      <td>25900</td>\n",
       "      <td>2012.0</td>\n",
       "      <td>chevrolet silverado 1500 crew</td>\n",
       "      <td>good</td>\n",
       "      <td>NaN</td>\n",
       "      <td>other</td>\n",
       "      <td>NaN</td>\n",
       "      <td>other</td>\n",
       "      <td>pickup</td>\n",
       "      <td>NaN</td>\n",
       "      <td>1.0</td>\n",
       "      <td>2018-08-31</td>\n",
       "      <td>44</td>\n",
       "    </tr>\n",
       "    <tr>\n",
       "      <td>135</td>\n",
       "      <td>28000</td>\n",
       "      <td>2016.0</td>\n",
       "      <td>ford mustang gt coupe 2d</td>\n",
       "      <td>good</td>\n",
       "      <td>NaN</td>\n",
       "      <td>gas</td>\n",
       "      <td>NaN</td>\n",
       "      <td>other</td>\n",
       "      <td>coupe</td>\n",
       "      <td>black</td>\n",
       "      <td>NaN</td>\n",
       "      <td>2018-11-20</td>\n",
       "      <td>28</td>\n",
       "    </tr>\n",
       "  </tbody>\n",
       "</table>\n",
       "</div>"
      ],
      "text/plain": [
       "     price  model_year                          model  condition  cylinders  \\\n",
       "9     9200      2008.0                    honda pilot  excellent        NaN   \n",
       "36   10499      2013.0                   chrysler 300       good        NaN   \n",
       "37    7500      2005.0                  toyota tacoma       good        NaN   \n",
       "59    5200      2006.0              toyota highlander       good        NaN   \n",
       "63   30000      1966.0                   ford mustang  excellent        NaN   \n",
       "75    6950      2005.0                chevrolet tahoe  excellent        NaN   \n",
       "87    8499      2009.0                         bmw x5       good        NaN   \n",
       "119  14800      2016.0                    kia sorento   like new        NaN   \n",
       "126  25900      2012.0  chevrolet silverado 1500 crew       good        NaN   \n",
       "135  28000      2016.0       ford mustang gt coupe 2d       good        NaN   \n",
       "\n",
       "      fuel  odometer transmission         type paint_color  is_4wd  \\\n",
       "9      gas  147191.0    automatic          SUV        blue     1.0   \n",
       "36     gas   88042.0    automatic        sedan         NaN     NaN   \n",
       "37     gas  160000.0    automatic       pickup         NaN     NaN   \n",
       "59     gas  186000.0    automatic          SUV       green     NaN   \n",
       "63     gas   51000.0       manual  convertible         red     NaN   \n",
       "75     gas  186021.0    automatic          SUV         NaN     1.0   \n",
       "87     gas  104482.0    automatic          SUV        blue     1.0   \n",
       "119    gas       NaN    automatic          SUV       brown     NaN   \n",
       "126  other       NaN        other       pickup         NaN     1.0   \n",
       "135    gas       NaN        other        coupe       black     NaN   \n",
       "\n",
       "    date_posted  days_listed  \n",
       "9    2019-02-15           17  \n",
       "36   2018-05-05           22  \n",
       "37   2018-07-22           44  \n",
       "59   2018-12-20            2  \n",
       "63   2019-01-23           17  \n",
       "75   2018-10-30            3  \n",
       "87   2019-03-04           52  \n",
       "119  2019-02-27           93  \n",
       "126  2018-08-31           44  \n",
       "135  2018-11-20           28  "
      ]
     },
     "execution_count": 8,
     "metadata": {},
     "output_type": "execute_result"
    }
   ],
   "source": [
    "#getting sample of the data with missing values in cylinders column\n",
    "data[data['cylinders'].isna()].head(10)"
   ]
  },
  {
   "cell_type": "markdown",
   "metadata": {},
   "source": [
    "At the first glance, there is no correlation between missing values in that field and other fields. But it could be that each vehicle model has a fixed number of cylinders. If this hypothesis is true, we can reliably fill in missing data in the `cylinders` column. To test the hypothesis, we will calculate the mean for each model. If mean is a whole number, when most likely it has a fixed number of cylinders. If the mean is not a whole number when it clearly indicates that the model may have a different number of cylinders."
   ]
  },
  {
   "cell_type": "code",
   "execution_count": 9,
   "metadata": {},
   "outputs": [
    {
     "data": {
      "text/html": [
       "<div>\n",
       "<style scoped>\n",
       "    .dataframe tbody tr th:only-of-type {\n",
       "        vertical-align: middle;\n",
       "    }\n",
       "\n",
       "    .dataframe tbody tr th {\n",
       "        vertical-align: top;\n",
       "    }\n",
       "\n",
       "    .dataframe thead th {\n",
       "        text-align: right;\n",
       "    }\n",
       "</style>\n",
       "<table border=\"1\" class=\"dataframe\">\n",
       "  <thead>\n",
       "    <tr style=\"text-align: right;\">\n",
       "      <th></th>\n",
       "      <th>cylinders</th>\n",
       "    </tr>\n",
       "    <tr>\n",
       "      <th>model</th>\n",
       "      <th></th>\n",
       "    </tr>\n",
       "  </thead>\n",
       "  <tbody>\n",
       "    <tr>\n",
       "      <td>acura tl</td>\n",
       "      <td>5.970000</td>\n",
       "    </tr>\n",
       "    <tr>\n",
       "      <td>bmw x5</td>\n",
       "      <td>6.389610</td>\n",
       "    </tr>\n",
       "    <tr>\n",
       "      <td>buick enclave</td>\n",
       "      <td>6.000000</td>\n",
       "    </tr>\n",
       "    <tr>\n",
       "      <td>cadillac escalade</td>\n",
       "      <td>7.992537</td>\n",
       "    </tr>\n",
       "    <tr>\n",
       "      <td>chevrolet camaro</td>\n",
       "      <td>6.871795</td>\n",
       "    </tr>\n",
       "    <tr>\n",
       "      <td>...</td>\n",
       "      <td>...</td>\n",
       "    </tr>\n",
       "    <tr>\n",
       "      <td>toyota sienna</td>\n",
       "      <td>5.956364</td>\n",
       "    </tr>\n",
       "    <tr>\n",
       "      <td>toyota tacoma</td>\n",
       "      <td>5.344165</td>\n",
       "    </tr>\n",
       "    <tr>\n",
       "      <td>toyota tundra</td>\n",
       "      <td>7.922330</td>\n",
       "    </tr>\n",
       "    <tr>\n",
       "      <td>volkswagen jetta</td>\n",
       "      <td>4.272517</td>\n",
       "    </tr>\n",
       "    <tr>\n",
       "      <td>volkswagen passat</td>\n",
       "      <td>4.323024</td>\n",
       "    </tr>\n",
       "  </tbody>\n",
       "</table>\n",
       "<p>100 rows × 1 columns</p>\n",
       "</div>"
      ],
      "text/plain": [
       "                   cylinders\n",
       "model                       \n",
       "acura tl            5.970000\n",
       "bmw x5              6.389610\n",
       "buick enclave       6.000000\n",
       "cadillac escalade   7.992537\n",
       "chevrolet camaro    6.871795\n",
       "...                      ...\n",
       "toyota sienna       5.956364\n",
       "toyota tacoma       5.344165\n",
       "toyota tundra       7.922330\n",
       "volkswagen jetta    4.272517\n",
       "volkswagen passat   4.323024\n",
       "\n",
       "[100 rows x 1 columns]"
      ]
     },
     "execution_count": 9,
     "metadata": {},
     "output_type": "execute_result"
    }
   ],
   "source": [
    "# calculating mean cylinders number for each model for rows where cylinder valus are not missing\n",
    "data[data['cylinders'].notna()].pivot_table(index='model', values='cylinders')"
   ]
  },
  {
   "cell_type": "markdown",
   "metadata": {},
   "source": [
    "As can be seen, means for models are not whole numbers, which indicates that the same model can have a different number of cylinders. Since there is no correlation between models and the number of cylinders we cannot reliably restore missing values in the cylinders column and will drop them."
   ]
  },
  {
   "cell_type": "code",
   "execution_count": 10,
   "metadata": {},
   "outputs": [],
   "source": [
    "#dropping rows there values in cylinders colunm are missing\n",
    "data=data.dropna(subset=['cylinders'])"
   ]
  },
  {
   "cell_type": "markdown",
   "metadata": {},
   "source": [
    "## Odometer column"
   ]
  },
  {
   "cell_type": "markdown",
   "metadata": {},
   "source": [
    "Displaying sample of the data where values in `odometer` column are missing."
   ]
  },
  {
   "cell_type": "code",
   "execution_count": 11,
   "metadata": {},
   "outputs": [
    {
     "data": {
      "text/html": [
       "<div>\n",
       "<style scoped>\n",
       "    .dataframe tbody tr th:only-of-type {\n",
       "        vertical-align: middle;\n",
       "    }\n",
       "\n",
       "    .dataframe tbody tr th {\n",
       "        vertical-align: top;\n",
       "    }\n",
       "\n",
       "    .dataframe thead th {\n",
       "        text-align: right;\n",
       "    }\n",
       "</style>\n",
       "<table border=\"1\" class=\"dataframe\">\n",
       "  <thead>\n",
       "    <tr style=\"text-align: right;\">\n",
       "      <th></th>\n",
       "      <th>price</th>\n",
       "      <th>model_year</th>\n",
       "      <th>model</th>\n",
       "      <th>condition</th>\n",
       "      <th>cylinders</th>\n",
       "      <th>fuel</th>\n",
       "      <th>odometer</th>\n",
       "      <th>transmission</th>\n",
       "      <th>type</th>\n",
       "      <th>paint_color</th>\n",
       "      <th>is_4wd</th>\n",
       "      <th>date_posted</th>\n",
       "      <th>days_listed</th>\n",
       "    </tr>\n",
       "  </thead>\n",
       "  <tbody>\n",
       "    <tr>\n",
       "      <td>3</td>\n",
       "      <td>1500</td>\n",
       "      <td>2003.0</td>\n",
       "      <td>ford f-150</td>\n",
       "      <td>fair</td>\n",
       "      <td>8.0</td>\n",
       "      <td>gas</td>\n",
       "      <td>NaN</td>\n",
       "      <td>automatic</td>\n",
       "      <td>pickup</td>\n",
       "      <td>NaN</td>\n",
       "      <td>NaN</td>\n",
       "      <td>2019-03-22</td>\n",
       "      <td>9</td>\n",
       "    </tr>\n",
       "    <tr>\n",
       "      <td>15</td>\n",
       "      <td>17990</td>\n",
       "      <td>2013.0</td>\n",
       "      <td>ram 1500</td>\n",
       "      <td>excellent</td>\n",
       "      <td>8.0</td>\n",
       "      <td>gas</td>\n",
       "      <td>NaN</td>\n",
       "      <td>automatic</td>\n",
       "      <td>pickup</td>\n",
       "      <td>red</td>\n",
       "      <td>1.0</td>\n",
       "      <td>2018-05-15</td>\n",
       "      <td>111</td>\n",
       "    </tr>\n",
       "    <tr>\n",
       "      <td>23</td>\n",
       "      <td>7500</td>\n",
       "      <td>2004.0</td>\n",
       "      <td>jeep wrangler</td>\n",
       "      <td>good</td>\n",
       "      <td>6.0</td>\n",
       "      <td>gas</td>\n",
       "      <td>NaN</td>\n",
       "      <td>automatic</td>\n",
       "      <td>SUV</td>\n",
       "      <td>red</td>\n",
       "      <td>1.0</td>\n",
       "      <td>2018-05-17</td>\n",
       "      <td>39</td>\n",
       "    </tr>\n",
       "    <tr>\n",
       "      <td>24</td>\n",
       "      <td>3950</td>\n",
       "      <td>2009.0</td>\n",
       "      <td>chrysler 200</td>\n",
       "      <td>excellent</td>\n",
       "      <td>4.0</td>\n",
       "      <td>gas</td>\n",
       "      <td>NaN</td>\n",
       "      <td>automatic</td>\n",
       "      <td>sedan</td>\n",
       "      <td>red</td>\n",
       "      <td>NaN</td>\n",
       "      <td>2018-06-11</td>\n",
       "      <td>40</td>\n",
       "    </tr>\n",
       "    <tr>\n",
       "      <td>25</td>\n",
       "      <td>11499</td>\n",
       "      <td>2017.0</td>\n",
       "      <td>chevrolet malibu</td>\n",
       "      <td>like new</td>\n",
       "      <td>4.0</td>\n",
       "      <td>gas</td>\n",
       "      <td>NaN</td>\n",
       "      <td>automatic</td>\n",
       "      <td>sedan</td>\n",
       "      <td>NaN</td>\n",
       "      <td>NaN</td>\n",
       "      <td>2018-07-26</td>\n",
       "      <td>43</td>\n",
       "    </tr>\n",
       "    <tr>\n",
       "      <td>29</td>\n",
       "      <td>5495</td>\n",
       "      <td>2010.0</td>\n",
       "      <td>chevrolet impala</td>\n",
       "      <td>excellent</td>\n",
       "      <td>6.0</td>\n",
       "      <td>gas</td>\n",
       "      <td>NaN</td>\n",
       "      <td>automatic</td>\n",
       "      <td>sedan</td>\n",
       "      <td>white</td>\n",
       "      <td>NaN</td>\n",
       "      <td>2019-02-18</td>\n",
       "      <td>20</td>\n",
       "    </tr>\n",
       "    <tr>\n",
       "      <td>38</td>\n",
       "      <td>7999</td>\n",
       "      <td>2015.0</td>\n",
       "      <td>chrysler 200</td>\n",
       "      <td>good</td>\n",
       "      <td>4.0</td>\n",
       "      <td>gas</td>\n",
       "      <td>NaN</td>\n",
       "      <td>automatic</td>\n",
       "      <td>sedan</td>\n",
       "      <td>NaN</td>\n",
       "      <td>NaN</td>\n",
       "      <td>2019-03-08</td>\n",
       "      <td>29</td>\n",
       "    </tr>\n",
       "    <tr>\n",
       "      <td>41</td>\n",
       "      <td>11995</td>\n",
       "      <td>2017.0</td>\n",
       "      <td>nissan rogue</td>\n",
       "      <td>like new</td>\n",
       "      <td>4.0</td>\n",
       "      <td>gas</td>\n",
       "      <td>NaN</td>\n",
       "      <td>automatic</td>\n",
       "      <td>SUV</td>\n",
       "      <td>silver</td>\n",
       "      <td>1.0</td>\n",
       "      <td>2018-09-20</td>\n",
       "      <td>21</td>\n",
       "    </tr>\n",
       "    <tr>\n",
       "      <td>42</td>\n",
       "      <td>34900</td>\n",
       "      <td>2013.0</td>\n",
       "      <td>mercedes-benz benze sprinter 2500</td>\n",
       "      <td>excellent</td>\n",
       "      <td>6.0</td>\n",
       "      <td>diesel</td>\n",
       "      <td>NaN</td>\n",
       "      <td>automatic</td>\n",
       "      <td>van</td>\n",
       "      <td>black</td>\n",
       "      <td>NaN</td>\n",
       "      <td>2019-01-15</td>\n",
       "      <td>16</td>\n",
       "    </tr>\n",
       "    <tr>\n",
       "      <td>56</td>\n",
       "      <td>4200</td>\n",
       "      <td>2006.0</td>\n",
       "      <td>jeep grand cherokee</td>\n",
       "      <td>excellent</td>\n",
       "      <td>6.0</td>\n",
       "      <td>gas</td>\n",
       "      <td>NaN</td>\n",
       "      <td>automatic</td>\n",
       "      <td>SUV</td>\n",
       "      <td>white</td>\n",
       "      <td>1.0</td>\n",
       "      <td>2018-07-01</td>\n",
       "      <td>79</td>\n",
       "    </tr>\n",
       "  </tbody>\n",
       "</table>\n",
       "</div>"
      ],
      "text/plain": [
       "    price  model_year                              model  condition  \\\n",
       "3    1500      2003.0                         ford f-150       fair   \n",
       "15  17990      2013.0                           ram 1500  excellent   \n",
       "23   7500      2004.0                      jeep wrangler       good   \n",
       "24   3950      2009.0                       chrysler 200  excellent   \n",
       "25  11499      2017.0                   chevrolet malibu   like new   \n",
       "29   5495      2010.0                   chevrolet impala  excellent   \n",
       "38   7999      2015.0                       chrysler 200       good   \n",
       "41  11995      2017.0                       nissan rogue   like new   \n",
       "42  34900      2013.0  mercedes-benz benze sprinter 2500  excellent   \n",
       "56   4200      2006.0                jeep grand cherokee  excellent   \n",
       "\n",
       "    cylinders    fuel  odometer transmission    type paint_color  is_4wd  \\\n",
       "3         8.0     gas       NaN    automatic  pickup         NaN     NaN   \n",
       "15        8.0     gas       NaN    automatic  pickup         red     1.0   \n",
       "23        6.0     gas       NaN    automatic     SUV         red     1.0   \n",
       "24        4.0     gas       NaN    automatic   sedan         red     NaN   \n",
       "25        4.0     gas       NaN    automatic   sedan         NaN     NaN   \n",
       "29        6.0     gas       NaN    automatic   sedan       white     NaN   \n",
       "38        4.0     gas       NaN    automatic   sedan         NaN     NaN   \n",
       "41        4.0     gas       NaN    automatic     SUV      silver     1.0   \n",
       "42        6.0  diesel       NaN    automatic     van       black     NaN   \n",
       "56        6.0     gas       NaN    automatic     SUV       white     1.0   \n",
       "\n",
       "   date_posted  days_listed  \n",
       "3   2019-03-22            9  \n",
       "15  2018-05-15          111  \n",
       "23  2018-05-17           39  \n",
       "24  2018-06-11           40  \n",
       "25  2018-07-26           43  \n",
       "29  2019-02-18           20  \n",
       "38  2019-03-08           29  \n",
       "41  2018-09-20           21  \n",
       "42  2019-01-15           16  \n",
       "56  2018-07-01           79  "
      ]
     },
     "execution_count": 11,
     "metadata": {},
     "output_type": "execute_result"
    }
   ],
   "source": [
    "#getting sample of the data with missing values in odometer column\n",
    "data[data['odometer'].isna()].head(10)"
   ]
  },
  {
   "cell_type": "markdown",
   "metadata": {},
   "source": [
    "It could be that `odometer` values were not filled for new vehicles, but as can be seen from the above data sample, vehicles with missing values in that column have different model years. Therefore, since there is no correlation between `model_year` and `odometer` we cannot reliably restore missing values in the odometer column and will drop them."
   ]
  },
  {
   "cell_type": "code",
   "execution_count": 12,
   "metadata": {},
   "outputs": [],
   "source": [
    "#dropping rows there values in odometer colunm are missing\n",
    "data=data.dropna(subset=['odometer'])"
   ]
  },
  {
   "cell_type": "markdown",
   "metadata": {},
   "source": [
    "## Paint_color column\n",
    "\n",
    "As was seen from the data general info, the number of missing values in that column is too high. Taking into consideration the fact that data in this column should not affect other factors that influence the price of a vehicle, we will replace missing values in that column with 'unknown' values."
   ]
  },
  {
   "cell_type": "code",
   "execution_count": 13,
   "metadata": {},
   "outputs": [],
   "source": [
    "data['paint_color']=data['paint_color'].fillna('unknown')"
   ]
  },
  {
   "cell_type": "markdown",
   "metadata": {},
   "source": [
    "## Is_4wd column\n",
    "\n",
    "It looks like this column has Boolean values there 1 represents True and missing values represent False. To confirm this hypothesis, we will check unique values from that column."
   ]
  },
  {
   "cell_type": "code",
   "execution_count": 14,
   "metadata": {},
   "outputs": [
    {
     "data": {
      "text/plain": [
       "array([ 1., nan])"
      ]
     },
     "execution_count": 14,
     "metadata": {},
     "output_type": "execute_result"
    }
   ],
   "source": [
    "#printing all unique values in is_4wd column\n",
    "data['is_4wd'].unique()"
   ]
  },
  {
   "cell_type": "markdown",
   "metadata": {},
   "source": [
    "There are only 1. and nan values so our hypothesis looks to be correct. Therefore, we will replace missing values with 0."
   ]
  },
  {
   "cell_type": "code",
   "execution_count": 15,
   "metadata": {},
   "outputs": [],
   "source": [
    "#replacing missing values in is_4wd column with 0\n",
    "data['is_4wd']=data['is_4wd'].where(data['is_4wd'] == 1, 0)"
   ]
  },
  {
   "cell_type": "code",
   "execution_count": 16,
   "metadata": {},
   "outputs": [
    {
     "data": {
      "text/plain": [
       "0.0    18303\n",
       "1.0    18116\n",
       "Name: is_4wd, dtype: int64"
      ]
     },
     "execution_count": 16,
     "metadata": {},
     "output_type": "execute_result"
    }
   ],
   "source": [
    "data['is_4wd'].value_counts()"
   ]
  },
  {
   "cell_type": "markdown",
   "metadata": {},
   "source": [
    "We have addressed the missing values. Now we will confirm that now there are no missing values except values in the `paint_color` column."
   ]
  },
  {
   "cell_type": "code",
   "execution_count": 17,
   "metadata": {},
   "outputs": [
    {
     "name": "stdout",
     "output_type": "stream",
     "text": [
      "<class 'pandas.core.frame.DataFrame'>\n",
      "Int64Index: 36419 entries, 0 to 51523\n",
      "Data columns (total 13 columns):\n",
      "price           36419 non-null int64\n",
      "model_year      36419 non-null float64\n",
      "model           36419 non-null object\n",
      "condition       36419 non-null object\n",
      "cylinders       36419 non-null float64\n",
      "fuel            36419 non-null object\n",
      "odometer        36419 non-null float64\n",
      "transmission    36419 non-null object\n",
      "type            36419 non-null object\n",
      "paint_color     36419 non-null object\n",
      "is_4wd          36419 non-null float64\n",
      "date_posted     36419 non-null object\n",
      "days_listed     36419 non-null int64\n",
      "dtypes: float64(4), int64(2), object(7)\n",
      "memory usage: 3.9+ MB\n"
     ]
    }
   ],
   "source": [
    "#printing general data general info after missing values were addressed\n",
    "data.info()"
   ]
  },
  {
   "cell_type": "markdown",
   "metadata": {},
   "source": [
    "We also will check how the size of the data has changed after the missing values were removed."
   ]
  },
  {
   "cell_type": "code",
   "execution_count": 18,
   "metadata": {},
   "outputs": [
    {
     "data": {
      "text/plain": [
       "0.7068219311014071"
      ]
     },
     "execution_count": 18,
     "metadata": {},
     "output_type": "execute_result"
    }
   ],
   "source": [
    "#calculating the percent of the data left\n",
    "len(data)/data_len_original"
   ]
  },
  {
   "cell_type": "markdown",
   "metadata": {},
   "source": [
    "As can be seen, we deleted 30% of the rows. This is a lot, but the size of the data is still high and sufficient to continue our study. Moreover, this is an acceptable trade-off, as this is better to have a smaller but more reliable dataset."
   ]
  },
  {
   "cell_type": "markdown",
   "metadata": {},
   "source": [
    "## Fixing data types\n",
    "\n",
    "As we found at the beginning of the study, `model_year`, `cylinders`, `odometer`, `is_4wd` and `date_posted` columns have incorrect data types. Now we will correct them."
   ]
  },
  {
   "cell_type": "code",
   "execution_count": 19,
   "metadata": {},
   "outputs": [],
   "source": [
    "#changing type of model_year column to int\n",
    "data['model_year']=data['model_year'].astype('int')\n",
    "\n",
    "#changing type of cylinders column to int\n",
    "data['cylinders']=data['cylinders'].astype('int')\n",
    "\n",
    "#changing type of odometer column to int\n",
    "data['odometer']=data['odometer'].astype('int')\n",
    "\n",
    "#changing type of is_4wd column to int\n",
    "data['is_4wd']=data['is_4wd'].astype('bool')\n",
    "\n",
    "#changing type of date_posted column to datetime\n",
    "data['date_posted']=pd.to_datetime(data['date_posted'], format='%Y-%m-%d') "
   ]
  },
  {
   "cell_type": "markdown",
   "metadata": {},
   "source": [
    "Ensuring that the columns type were corrected."
   ]
  },
  {
   "cell_type": "code",
   "execution_count": 20,
   "metadata": {},
   "outputs": [
    {
     "name": "stdout",
     "output_type": "stream",
     "text": [
      "<class 'pandas.core.frame.DataFrame'>\n",
      "Int64Index: 36419 entries, 0 to 51523\n",
      "Data columns (total 13 columns):\n",
      "price           36419 non-null int64\n",
      "model_year      36419 non-null int64\n",
      "model           36419 non-null object\n",
      "condition       36419 non-null object\n",
      "cylinders       36419 non-null int64\n",
      "fuel            36419 non-null object\n",
      "odometer        36419 non-null int64\n",
      "transmission    36419 non-null object\n",
      "type            36419 non-null object\n",
      "paint_color     36419 non-null object\n",
      "is_4wd          36419 non-null bool\n",
      "date_posted     36419 non-null datetime64[ns]\n",
      "days_listed     36419 non-null int64\n",
      "dtypes: bool(1), datetime64[ns](1), int64(5), object(6)\n",
      "memory usage: 3.6+ MB\n"
     ]
    }
   ],
   "source": [
    "#printing data general info\n",
    "data.info()"
   ]
  },
  {
   "cell_type": "code",
   "execution_count": 21,
   "metadata": {},
   "outputs": [
    {
     "data": {
      "text/html": [
       "<div>\n",
       "<style scoped>\n",
       "    .dataframe tbody tr th:only-of-type {\n",
       "        vertical-align: middle;\n",
       "    }\n",
       "\n",
       "    .dataframe tbody tr th {\n",
       "        vertical-align: top;\n",
       "    }\n",
       "\n",
       "    .dataframe thead th {\n",
       "        text-align: right;\n",
       "    }\n",
       "</style>\n",
       "<table border=\"1\" class=\"dataframe\">\n",
       "  <thead>\n",
       "    <tr style=\"text-align: right;\">\n",
       "      <th></th>\n",
       "      <th>price</th>\n",
       "      <th>model_year</th>\n",
       "      <th>model</th>\n",
       "      <th>condition</th>\n",
       "      <th>cylinders</th>\n",
       "      <th>fuel</th>\n",
       "      <th>odometer</th>\n",
       "      <th>transmission</th>\n",
       "      <th>type</th>\n",
       "      <th>paint_color</th>\n",
       "      <th>is_4wd</th>\n",
       "      <th>date_posted</th>\n",
       "      <th>days_listed</th>\n",
       "    </tr>\n",
       "  </thead>\n",
       "  <tbody>\n",
       "    <tr>\n",
       "      <td>0</td>\n",
       "      <td>9400</td>\n",
       "      <td>2011</td>\n",
       "      <td>bmw x5</td>\n",
       "      <td>good</td>\n",
       "      <td>6</td>\n",
       "      <td>gas</td>\n",
       "      <td>145000</td>\n",
       "      <td>automatic</td>\n",
       "      <td>SUV</td>\n",
       "      <td>unknown</td>\n",
       "      <td>True</td>\n",
       "      <td>2018-06-23</td>\n",
       "      <td>19</td>\n",
       "    </tr>\n",
       "    <tr>\n",
       "      <td>2</td>\n",
       "      <td>5500</td>\n",
       "      <td>2013</td>\n",
       "      <td>hyundai sonata</td>\n",
       "      <td>like new</td>\n",
       "      <td>4</td>\n",
       "      <td>gas</td>\n",
       "      <td>110000</td>\n",
       "      <td>automatic</td>\n",
       "      <td>sedan</td>\n",
       "      <td>red</td>\n",
       "      <td>False</td>\n",
       "      <td>2019-02-07</td>\n",
       "      <td>79</td>\n",
       "    </tr>\n",
       "    <tr>\n",
       "      <td>4</td>\n",
       "      <td>14900</td>\n",
       "      <td>2017</td>\n",
       "      <td>chrysler 200</td>\n",
       "      <td>excellent</td>\n",
       "      <td>4</td>\n",
       "      <td>gas</td>\n",
       "      <td>80903</td>\n",
       "      <td>automatic</td>\n",
       "      <td>sedan</td>\n",
       "      <td>black</td>\n",
       "      <td>False</td>\n",
       "      <td>2019-04-02</td>\n",
       "      <td>28</td>\n",
       "    </tr>\n",
       "    <tr>\n",
       "      <td>5</td>\n",
       "      <td>14990</td>\n",
       "      <td>2014</td>\n",
       "      <td>chrysler 300</td>\n",
       "      <td>excellent</td>\n",
       "      <td>6</td>\n",
       "      <td>gas</td>\n",
       "      <td>57954</td>\n",
       "      <td>automatic</td>\n",
       "      <td>sedan</td>\n",
       "      <td>black</td>\n",
       "      <td>True</td>\n",
       "      <td>2018-06-20</td>\n",
       "      <td>15</td>\n",
       "    </tr>\n",
       "    <tr>\n",
       "      <td>6</td>\n",
       "      <td>12990</td>\n",
       "      <td>2015</td>\n",
       "      <td>toyota camry</td>\n",
       "      <td>excellent</td>\n",
       "      <td>4</td>\n",
       "      <td>gas</td>\n",
       "      <td>79212</td>\n",
       "      <td>automatic</td>\n",
       "      <td>sedan</td>\n",
       "      <td>white</td>\n",
       "      <td>False</td>\n",
       "      <td>2018-12-27</td>\n",
       "      <td>73</td>\n",
       "    </tr>\n",
       "    <tr>\n",
       "      <td>...</td>\n",
       "      <td>...</td>\n",
       "      <td>...</td>\n",
       "      <td>...</td>\n",
       "      <td>...</td>\n",
       "      <td>...</td>\n",
       "      <td>...</td>\n",
       "      <td>...</td>\n",
       "      <td>...</td>\n",
       "      <td>...</td>\n",
       "      <td>...</td>\n",
       "      <td>...</td>\n",
       "      <td>...</td>\n",
       "      <td>...</td>\n",
       "    </tr>\n",
       "    <tr>\n",
       "      <td>51518</td>\n",
       "      <td>3750</td>\n",
       "      <td>2005</td>\n",
       "      <td>ford taurus</td>\n",
       "      <td>excellent</td>\n",
       "      <td>6</td>\n",
       "      <td>gas</td>\n",
       "      <td>110200</td>\n",
       "      <td>automatic</td>\n",
       "      <td>sedan</td>\n",
       "      <td>silver</td>\n",
       "      <td>False</td>\n",
       "      <td>2018-08-10</td>\n",
       "      <td>63</td>\n",
       "    </tr>\n",
       "    <tr>\n",
       "      <td>51520</td>\n",
       "      <td>9249</td>\n",
       "      <td>2013</td>\n",
       "      <td>nissan maxima</td>\n",
       "      <td>like new</td>\n",
       "      <td>6</td>\n",
       "      <td>gas</td>\n",
       "      <td>88136</td>\n",
       "      <td>automatic</td>\n",
       "      <td>sedan</td>\n",
       "      <td>black</td>\n",
       "      <td>False</td>\n",
       "      <td>2018-10-03</td>\n",
       "      <td>37</td>\n",
       "    </tr>\n",
       "    <tr>\n",
       "      <td>51521</td>\n",
       "      <td>2700</td>\n",
       "      <td>2002</td>\n",
       "      <td>honda civic</td>\n",
       "      <td>salvage</td>\n",
       "      <td>4</td>\n",
       "      <td>gas</td>\n",
       "      <td>181500</td>\n",
       "      <td>automatic</td>\n",
       "      <td>sedan</td>\n",
       "      <td>white</td>\n",
       "      <td>False</td>\n",
       "      <td>2018-11-14</td>\n",
       "      <td>22</td>\n",
       "    </tr>\n",
       "    <tr>\n",
       "      <td>51522</td>\n",
       "      <td>3950</td>\n",
       "      <td>2009</td>\n",
       "      <td>hyundai sonata</td>\n",
       "      <td>excellent</td>\n",
       "      <td>4</td>\n",
       "      <td>gas</td>\n",
       "      <td>128000</td>\n",
       "      <td>automatic</td>\n",
       "      <td>sedan</td>\n",
       "      <td>blue</td>\n",
       "      <td>False</td>\n",
       "      <td>2018-11-15</td>\n",
       "      <td>32</td>\n",
       "    </tr>\n",
       "    <tr>\n",
       "      <td>51523</td>\n",
       "      <td>7455</td>\n",
       "      <td>2013</td>\n",
       "      <td>toyota corolla</td>\n",
       "      <td>good</td>\n",
       "      <td>4</td>\n",
       "      <td>gas</td>\n",
       "      <td>139573</td>\n",
       "      <td>automatic</td>\n",
       "      <td>sedan</td>\n",
       "      <td>black</td>\n",
       "      <td>False</td>\n",
       "      <td>2018-07-02</td>\n",
       "      <td>71</td>\n",
       "    </tr>\n",
       "  </tbody>\n",
       "</table>\n",
       "<p>36419 rows × 13 columns</p>\n",
       "</div>"
      ],
      "text/plain": [
       "       price  model_year           model  condition  cylinders fuel  odometer  \\\n",
       "0       9400        2011          bmw x5       good          6  gas    145000   \n",
       "2       5500        2013  hyundai sonata   like new          4  gas    110000   \n",
       "4      14900        2017    chrysler 200  excellent          4  gas     80903   \n",
       "5      14990        2014    chrysler 300  excellent          6  gas     57954   \n",
       "6      12990        2015    toyota camry  excellent          4  gas     79212   \n",
       "...      ...         ...             ...        ...        ...  ...       ...   \n",
       "51518   3750        2005     ford taurus  excellent          6  gas    110200   \n",
       "51520   9249        2013   nissan maxima   like new          6  gas     88136   \n",
       "51521   2700        2002     honda civic    salvage          4  gas    181500   \n",
       "51522   3950        2009  hyundai sonata  excellent          4  gas    128000   \n",
       "51523   7455        2013  toyota corolla       good          4  gas    139573   \n",
       "\n",
       "      transmission   type paint_color  is_4wd date_posted  days_listed  \n",
       "0        automatic    SUV     unknown    True  2018-06-23           19  \n",
       "2        automatic  sedan         red   False  2019-02-07           79  \n",
       "4        automatic  sedan       black   False  2019-04-02           28  \n",
       "5        automatic  sedan       black    True  2018-06-20           15  \n",
       "6        automatic  sedan       white   False  2018-12-27           73  \n",
       "...            ...    ...         ...     ...         ...          ...  \n",
       "51518    automatic  sedan      silver   False  2018-08-10           63  \n",
       "51520    automatic  sedan       black   False  2018-10-03           37  \n",
       "51521    automatic  sedan       white   False  2018-11-14           22  \n",
       "51522    automatic  sedan        blue   False  2018-11-15           32  \n",
       "51523    automatic  sedan       black   False  2018-07-02           71  \n",
       "\n",
       "[36419 rows x 13 columns]"
      ]
     },
     "execution_count": 21,
     "metadata": {},
     "output_type": "execute_result"
    }
   ],
   "source": [
    "#printing sample of data\n",
    "data"
   ]
  },
  {
   "cell_type": "markdown",
   "metadata": {},
   "source": [
    "So far, we have addressed missing values in model_year, cylinders, odometer, paint_color and is_4wd columns. Also, we have corrected the data type for model_year, cylinders, odometer, is_4wd and date_posted columns.\n",
    "\n",
    "Next, we will enrich data adding additional columns that will help us to work with the data."
   ]
  },
  {
   "cell_type": "markdown",
   "metadata": {},
   "source": [
    "# Stage 3. Enriching data <a id='data_enriching'></a>"
   ]
  },
  {
   "cell_type": "markdown",
   "metadata": {},
   "source": [
    "To make the analysis easier we will add columns that will contain information about the vehicle's age when the ad was placed and the vehicle's average mileage per year. In addition, we will replace the categorical values in the `condition` column with a numeric scale.\n",
    "\n",
    "To add the vehicle's age when the ad was placed, we will subtract `model_year` from the year when the ad was posted."
   ]
  },
  {
   "cell_type": "code",
   "execution_count": 22,
   "metadata": {},
   "outputs": [],
   "source": [
    "# Adding the vehicle's age when the ad was placed\n",
    "data['vehicle_age']=data['date_posted'].dt.year-data['model_year']"
   ]
  },
  {
   "cell_type": "markdown",
   "metadata": {},
   "source": [
    "To get the average mileage per year we will divide `odometer` by `vehicle_age`. If the vehicle model year and year of the date posted are the same, then vehicle_age is 0 and we will get division by 0 error. Therefore, for vehicles aged 0, we will use mileage as mileage per year value. For all other vehicles, we will use mileage divided by `vehicle_age` value."
   ]
  },
  {
   "cell_type": "code",
   "execution_count": 23,
   "metadata": {},
   "outputs": [],
   "source": [
    "# Adding the vehicle's average mileage per year\n",
    "data['average_mileage']=data['odometer'].where(data['vehicle_age']==0,data['odometer']/data['vehicle_age'])\n",
    "\n",
    "#changing type of average_mileage column to int\n",
    "data['average_mileage']=data['average_mileage'].astype('int')"
   ]
  },
  {
   "cell_type": "markdown",
   "metadata": {},
   "source": [
    "Before replacing the categorical values in the `condition` column with a numeric scale, we will store condition - condition_code pairs in a dictionary for future references."
   ]
  },
  {
   "cell_type": "code",
   "execution_count": 24,
   "metadata": {},
   "outputs": [],
   "source": [
    "#puting condition - condition_code pairs in a dictionary\n",
    "condition_dict=pd.DataFrame(\n",
    "    {\n",
    "        'condition': ['new', 'like new', 'excellent', 'good', 'fair', 'salvage'],\n",
    "        'condition_code': [5, 4, 3, 2, 1, 0]        \n",
    "    }\n",
    ")\n",
    "\n",
    "#adding condition_code column to the data\n",
    "data=data.merge(condition_dict, on='condition')\n",
    "\n",
    "#removing condition column from the data\n",
    "data=data.drop(columns=['condition'])\n"
   ]
  },
  {
   "cell_type": "markdown",
   "metadata": {},
   "source": [
    "Ensuring that the columns with the correct values were added."
   ]
  },
  {
   "cell_type": "code",
   "execution_count": 25,
   "metadata": {},
   "outputs": [
    {
     "name": "stdout",
     "output_type": "stream",
     "text": [
      "<class 'pandas.core.frame.DataFrame'>\n",
      "Int64Index: 36419 entries, 0 to 36418\n",
      "Data columns (total 15 columns):\n",
      "price              36419 non-null int64\n",
      "model_year         36419 non-null int64\n",
      "model              36419 non-null object\n",
      "cylinders          36419 non-null int64\n",
      "fuel               36419 non-null object\n",
      "odometer           36419 non-null int64\n",
      "transmission       36419 non-null object\n",
      "type               36419 non-null object\n",
      "paint_color        36419 non-null object\n",
      "is_4wd             36419 non-null bool\n",
      "date_posted        36419 non-null datetime64[ns]\n",
      "days_listed        36419 non-null int64\n",
      "vehicle_age        36419 non-null int64\n",
      "average_mileage    36419 non-null int64\n",
      "condition_code     36419 non-null int64\n",
      "dtypes: bool(1), datetime64[ns](1), int64(8), object(5)\n",
      "memory usage: 4.2+ MB\n"
     ]
    }
   ],
   "source": [
    "# print the general/summary information about the DataFrame\n",
    "data.info()\n"
   ]
  },
  {
   "cell_type": "code",
   "execution_count": 26,
   "metadata": {},
   "outputs": [
    {
     "data": {
      "text/html": [
       "<div>\n",
       "<style scoped>\n",
       "    .dataframe tbody tr th:only-of-type {\n",
       "        vertical-align: middle;\n",
       "    }\n",
       "\n",
       "    .dataframe tbody tr th {\n",
       "        vertical-align: top;\n",
       "    }\n",
       "\n",
       "    .dataframe thead th {\n",
       "        text-align: right;\n",
       "    }\n",
       "</style>\n",
       "<table border=\"1\" class=\"dataframe\">\n",
       "  <thead>\n",
       "    <tr style=\"text-align: right;\">\n",
       "      <th></th>\n",
       "      <th>price</th>\n",
       "      <th>model_year</th>\n",
       "      <th>model</th>\n",
       "      <th>cylinders</th>\n",
       "      <th>fuel</th>\n",
       "      <th>odometer</th>\n",
       "      <th>transmission</th>\n",
       "      <th>type</th>\n",
       "      <th>paint_color</th>\n",
       "      <th>is_4wd</th>\n",
       "      <th>date_posted</th>\n",
       "      <th>days_listed</th>\n",
       "      <th>vehicle_age</th>\n",
       "      <th>average_mileage</th>\n",
       "      <th>condition_code</th>\n",
       "    </tr>\n",
       "  </thead>\n",
       "  <tbody>\n",
       "    <tr>\n",
       "      <td>0</td>\n",
       "      <td>9400</td>\n",
       "      <td>2011</td>\n",
       "      <td>bmw x5</td>\n",
       "      <td>6</td>\n",
       "      <td>gas</td>\n",
       "      <td>145000</td>\n",
       "      <td>automatic</td>\n",
       "      <td>SUV</td>\n",
       "      <td>unknown</td>\n",
       "      <td>True</td>\n",
       "      <td>2018-06-23</td>\n",
       "      <td>19</td>\n",
       "      <td>7</td>\n",
       "      <td>20714</td>\n",
       "      <td>2</td>\n",
       "    </tr>\n",
       "    <tr>\n",
       "      <td>1</td>\n",
       "      <td>5250</td>\n",
       "      <td>2007</td>\n",
       "      <td>toyota rav4</td>\n",
       "      <td>6</td>\n",
       "      <td>gas</td>\n",
       "      <td>154000</td>\n",
       "      <td>automatic</td>\n",
       "      <td>SUV</td>\n",
       "      <td>unknown</td>\n",
       "      <td>False</td>\n",
       "      <td>2018-08-22</td>\n",
       "      <td>8</td>\n",
       "      <td>11</td>\n",
       "      <td>14000</td>\n",
       "      <td>2</td>\n",
       "    </tr>\n",
       "    <tr>\n",
       "      <td>2</td>\n",
       "      <td>5000</td>\n",
       "      <td>2009</td>\n",
       "      <td>jeep liberty</td>\n",
       "      <td>6</td>\n",
       "      <td>gas</td>\n",
       "      <td>137273</td>\n",
       "      <td>automatic</td>\n",
       "      <td>SUV</td>\n",
       "      <td>white</td>\n",
       "      <td>True</td>\n",
       "      <td>2019-02-19</td>\n",
       "      <td>14</td>\n",
       "      <td>10</td>\n",
       "      <td>13727</td>\n",
       "      <td>2</td>\n",
       "    </tr>\n",
       "    <tr>\n",
       "      <td>3</td>\n",
       "      <td>9500</td>\n",
       "      <td>2008</td>\n",
       "      <td>toyota highlander</td>\n",
       "      <td>6</td>\n",
       "      <td>gas</td>\n",
       "      <td>149799</td>\n",
       "      <td>automatic</td>\n",
       "      <td>SUV</td>\n",
       "      <td>unknown</td>\n",
       "      <td>False</td>\n",
       "      <td>2018-06-04</td>\n",
       "      <td>121</td>\n",
       "      <td>10</td>\n",
       "      <td>14979</td>\n",
       "      <td>2</td>\n",
       "    </tr>\n",
       "    <tr>\n",
       "      <td>4</td>\n",
       "      <td>14999</td>\n",
       "      <td>2015</td>\n",
       "      <td>dodge charger</td>\n",
       "      <td>6</td>\n",
       "      <td>gas</td>\n",
       "      <td>63037</td>\n",
       "      <td>automatic</td>\n",
       "      <td>sedan</td>\n",
       "      <td>unknown</td>\n",
       "      <td>False</td>\n",
       "      <td>2018-05-11</td>\n",
       "      <td>37</td>\n",
       "      <td>3</td>\n",
       "      <td>21012</td>\n",
       "      <td>2</td>\n",
       "    </tr>\n",
       "    <tr>\n",
       "      <td>5</td>\n",
       "      <td>8000</td>\n",
       "      <td>2009</td>\n",
       "      <td>ford f-150</td>\n",
       "      <td>8</td>\n",
       "      <td>gas</td>\n",
       "      <td>234000</td>\n",
       "      <td>automatic</td>\n",
       "      <td>truck</td>\n",
       "      <td>black</td>\n",
       "      <td>True</td>\n",
       "      <td>2019-03-31</td>\n",
       "      <td>1</td>\n",
       "      <td>10</td>\n",
       "      <td>23400</td>\n",
       "      <td>2</td>\n",
       "    </tr>\n",
       "    <tr>\n",
       "      <td>6</td>\n",
       "      <td>4500</td>\n",
       "      <td>2004</td>\n",
       "      <td>jeep grand cherokee</td>\n",
       "      <td>6</td>\n",
       "      <td>gas</td>\n",
       "      <td>168821</td>\n",
       "      <td>automatic</td>\n",
       "      <td>SUV</td>\n",
       "      <td>unknown</td>\n",
       "      <td>True</td>\n",
       "      <td>2019-01-31</td>\n",
       "      <td>60</td>\n",
       "      <td>15</td>\n",
       "      <td>11254</td>\n",
       "      <td>2</td>\n",
       "    </tr>\n",
       "    <tr>\n",
       "      <td>7</td>\n",
       "      <td>2400</td>\n",
       "      <td>2001</td>\n",
       "      <td>toyota camry</td>\n",
       "      <td>4</td>\n",
       "      <td>gas</td>\n",
       "      <td>277564</td>\n",
       "      <td>automatic</td>\n",
       "      <td>coupe</td>\n",
       "      <td>yellow</td>\n",
       "      <td>False</td>\n",
       "      <td>2018-05-27</td>\n",
       "      <td>51</td>\n",
       "      <td>17</td>\n",
       "      <td>16327</td>\n",
       "      <td>2</td>\n",
       "    </tr>\n",
       "    <tr>\n",
       "      <td>8</td>\n",
       "      <td>12500</td>\n",
       "      <td>2008</td>\n",
       "      <td>toyota 4runner</td>\n",
       "      <td>6</td>\n",
       "      <td>gas</td>\n",
       "      <td>141098</td>\n",
       "      <td>automatic</td>\n",
       "      <td>SUV</td>\n",
       "      <td>grey</td>\n",
       "      <td>False</td>\n",
       "      <td>2019-03-10</td>\n",
       "      <td>35</td>\n",
       "      <td>11</td>\n",
       "      <td>12827</td>\n",
       "      <td>2</td>\n",
       "    </tr>\n",
       "    <tr>\n",
       "      <td>9</td>\n",
       "      <td>3800</td>\n",
       "      <td>2012</td>\n",
       "      <td>ford focus</td>\n",
       "      <td>4</td>\n",
       "      <td>gas</td>\n",
       "      <td>130323</td>\n",
       "      <td>automatic</td>\n",
       "      <td>sedan</td>\n",
       "      <td>black</td>\n",
       "      <td>False</td>\n",
       "      <td>2018-11-29</td>\n",
       "      <td>261</td>\n",
       "      <td>6</td>\n",
       "      <td>21720</td>\n",
       "      <td>2</td>\n",
       "    </tr>\n",
       "  </tbody>\n",
       "</table>\n",
       "</div>"
      ],
      "text/plain": [
       "   price  model_year                model  cylinders fuel  odometer  \\\n",
       "0   9400        2011               bmw x5          6  gas    145000   \n",
       "1   5250        2007          toyota rav4          6  gas    154000   \n",
       "2   5000        2009         jeep liberty          6  gas    137273   \n",
       "3   9500        2008    toyota highlander          6  gas    149799   \n",
       "4  14999        2015        dodge charger          6  gas     63037   \n",
       "5   8000        2009           ford f-150          8  gas    234000   \n",
       "6   4500        2004  jeep grand cherokee          6  gas    168821   \n",
       "7   2400        2001         toyota camry          4  gas    277564   \n",
       "8  12500        2008       toyota 4runner          6  gas    141098   \n",
       "9   3800        2012           ford focus          4  gas    130323   \n",
       "\n",
       "  transmission   type paint_color  is_4wd date_posted  days_listed  \\\n",
       "0    automatic    SUV     unknown    True  2018-06-23           19   \n",
       "1    automatic    SUV     unknown   False  2018-08-22            8   \n",
       "2    automatic    SUV       white    True  2019-02-19           14   \n",
       "3    automatic    SUV     unknown   False  2018-06-04          121   \n",
       "4    automatic  sedan     unknown   False  2018-05-11           37   \n",
       "5    automatic  truck       black    True  2019-03-31            1   \n",
       "6    automatic    SUV     unknown    True  2019-01-31           60   \n",
       "7    automatic  coupe      yellow   False  2018-05-27           51   \n",
       "8    automatic    SUV        grey   False  2019-03-10           35   \n",
       "9    automatic  sedan       black   False  2018-11-29          261   \n",
       "\n",
       "   vehicle_age  average_mileage  condition_code  \n",
       "0            7            20714               2  \n",
       "1           11            14000               2  \n",
       "2           10            13727               2  \n",
       "3           10            14979               2  \n",
       "4            3            21012               2  \n",
       "5           10            23400               2  \n",
       "6           15            11254               2  \n",
       "7           17            16327               2  \n",
       "8           11            12827               2  \n",
       "9            6            21720               2  "
      ]
     },
     "execution_count": 26,
     "metadata": {},
     "output_type": "execute_result"
    }
   ],
   "source": [
    "# print a sample of data\n",
    "data.head(10)"
   ]
  },
  {
   "cell_type": "markdown",
   "metadata": {},
   "source": [
    "To make the analysis easier we added columns that contain information about the vehicle's age when the ad was placed and the vehicle's average mileage per year. In addition, we replaced the categorical values in the condition column with a numeric scale.\n",
    "\n",
    "At the next stage, we will carry out exploratory data analysis."
   ]
  },
  {
   "cell_type": "markdown",
   "metadata": {},
   "source": [
    "# Stage 4.  Exploratory data analysis <a id='data_analysis'></a>"
   ]
  },
  {
   "cell_type": "markdown",
   "metadata": {},
   "source": [
    "## Studying core parameters\n",
    "\n",
    "Firstly, we will study core parameters (Price,  vehicle's age when the ad was placed, Mileage, Number of cylinders and Condition) of the data to find out how outliers affect the form and readability of the histograms and reliability of the data.\n",
    "\n",
    "We are going to plot a histogram for each core parameter."
   ]
  },
  {
   "cell_type": "markdown",
   "metadata": {},
   "source": [
    "### Price"
   ]
  },
  {
   "cell_type": "code",
   "execution_count": 27,
   "metadata": {},
   "outputs": [
    {
     "data": {
      "image/png": "[encoded data removed]",
      "text/plain": [
       "<Figure size 720x288 with 1 Axes>"
      ]
     },
     "metadata": {
      "needs_background": "light"
     },
     "output_type": "display_data"
    }
   ],
   "source": [
    "# ploting histogram for price\n",
    "data['price'].plot(kind='hist', bins=50, figsize=(10,4),title='Price Histogram', grid=True)\n",
    "plt.show()"
   ]
  },
  {
   "cell_type": "markdown",
   "metadata": {},
   "source": [
    "The majority of prices are below 50000, but some outliers are close to 400000. Let's limit the histogram range to have a closer look at the interval to which the majority of the prices belong."
   ]
  },
  {
   "cell_type": "code",
   "execution_count": 28,
   "metadata": {},
   "outputs": [
    {
     "data": {
      "image/png": "[encoded data removed]",
      "text/plain": [
       "<Figure size 720x288 with 1 Axes>"
      ]
     },
     "metadata": {
      "needs_background": "light"
     },
     "output_type": "display_data"
    }
   ],
   "source": [
    "#ploting histogram for price in range (0,50000)\n",
    "data['price'].plot(kind='hist', bins=50, figsize=(10,4),title='Price Histogram', grid=True, range=(0,50000))\n",
    "plt.show()"
   ]
  },
  {
   "cell_type": "markdown",
   "metadata": {},
   "source": [
    "Looks like some prices are 0, which cannot be true. Let's limit the histogram range further to have a closer look at the interval close to 0."
   ]
  },
  {
   "cell_type": "code",
   "execution_count": 29,
   "metadata": {},
   "outputs": [
    {
     "data": {
      "image/png": "[encoded data removed]",
      "text/plain": [
       "<Figure size 720x288 with 1 Axes>"
      ]
     },
     "metadata": {
      "needs_background": "light"
     },
     "output_type": "display_data"
    }
   ],
   "source": [
    "#ploting histogram for price in range (0,1000)\n",
    "data['price'].plot(kind='hist', bins=10, figsize=(10,4),title='Price Histogram', grid=True, range=(0,1000))\n",
    "plt.show()"
   ]
  },
  {
   "cell_type": "markdown",
   "metadata": {},
   "source": [
    "As can be seen, the majority of prices are below 50000. Also, the largest portion of vehicles have prices in 0-10000 intervals, and outliers may have prices as high as 4000. In addition, it is confirmed that almost 600 ads have rice of 0. We would need to remove them as the price cannot be 0."
   ]
  },
  {
   "cell_type": "markdown",
   "metadata": {},
   "source": [
    "### Vehicle_age"
   ]
  },
  {
   "cell_type": "code",
   "execution_count": 30,
   "metadata": {},
   "outputs": [
    {
     "data": {
      "image/png": "[encoded data removed]",
      "text/plain": [
       "<Figure size 720x288 with 1 Axes>"
      ]
     },
     "metadata": {
      "needs_background": "light"
     },
     "output_type": "display_data"
    }
   ],
   "source": [
    "# ploting histogram for vehicle_age\n",
    "data['vehicle_age'].plot(kind='hist', bins=50, figsize=(10,4),title='Vehicle_age Histogram', grid=True)\n",
    "plt.show()"
   ]
  },
  {
   "cell_type": "markdown",
   "metadata": {},
   "source": [
    "The majority of ages are below 30, but some outliers are close to 120."
   ]
  },
  {
   "cell_type": "markdown",
   "metadata": {},
   "source": [
    "### Mileage"
   ]
  },
  {
   "cell_type": "code",
   "execution_count": 31,
   "metadata": {},
   "outputs": [
    {
     "data": {
      "image/png": "[encoded data removed]",
      "text/plain": [
       "<Figure size 720x288 with 1 Axes>"
      ]
     },
     "metadata": {
      "needs_background": "light"
     },
     "output_type": "display_data"
    }
   ],
   "source": [
    "# ploting histogram for mileage\n",
    "data['odometer'].plot(kind='hist', bins=50, figsize=(10,4),title='Odometer Histogram', grid=True)\n",
    "plt.show()"
   ]
  },
  {
   "cell_type": "markdown",
   "metadata": {},
   "source": [
    "The majority of odometer values are below 400000, but some outliers are close to a million."
   ]
  },
  {
   "cell_type": "markdown",
   "metadata": {},
   "source": [
    "### Number of cylinders"
   ]
  },
  {
   "cell_type": "code",
   "execution_count": 32,
   "metadata": {},
   "outputs": [
    {
     "data": {
      "image/png": "[encoded data removed]",
      "text/plain": [
       "<Figure size 720x288 with 1 Axes>"
      ]
     },
     "metadata": {
      "needs_background": "light"
     },
     "output_type": "display_data"
    }
   ],
   "source": [
    "# ploting histogram for number of cylinders\n",
    "data['cylinders'].plot(kind='hist', bins=12, figsize=(10,4),title='Cylinders Histogram', grid=True)\n",
    "plt.show()"
   ]
  },
  {
   "cell_type": "markdown",
   "metadata": {},
   "source": [
    "As can be seen, the majority of vehicles have 4, 6 or 8 cylinders."
   ]
  },
  {
   "cell_type": "markdown",
   "metadata": {},
   "source": [
    "### Condition"
   ]
  },
  {
   "cell_type": "code",
   "execution_count": 33,
   "metadata": {},
   "outputs": [
    {
     "data": {
      "image/png": "[encoded data removed]",
      "text/plain": [
       "<Figure size 432x288 with 1 Axes>"
      ]
     },
     "metadata": {
      "needs_background": "light"
     },
     "output_type": "display_data"
    }
   ],
   "source": [
    "# ploting histogram for condition_code\n",
    "data['condition_code'].plot(kind='hist', bins=6, figsize=(6,4),title='Condition_code Histogram', grid=True)\n",
    "plt.show()"
   ]
  },
  {
   "cell_type": "markdown",
   "metadata": {},
   "source": [
    "As can be seen, the majority of vehicles have excellent or good condition. Around 3000 vehicles have the like-new condition. And few vehicles are in new or salvage condition."
   ]
  },
  {
   "cell_type": "markdown",
   "metadata": {},
   "source": [
    "## Studying and treating outliers\n",
    "\n",
    "Next, we will define limits for outliers and create a new data frame without them. As we saw the majority of prices are below 50000, but some outliers are close to 400000. The majority of ages are below 30, but some outliers are close to 120. And the majority of odometer values are below 400000, but some outliers are close to a million. For these columns, we will define outlies as all values that are higher than 3rd quantile plus 1.5 interquartile ranges or lower than 1st quantile minus 1.5 interquartile ranges.\n",
    "\n",
    "To simplify upper and lower limits calculation we will define a function."
   ]
  },
  {
   "cell_type": "code",
   "execution_count": 34,
   "metadata": {},
   "outputs": [],
   "source": [
    "#defining a function to calculate upper and lower limits\n",
    "def limits(column):\n",
    "#calculating 1st and 3rd quantile\n",
    "    q1 = column.quantile(0.25)\n",
    "    q3 = column.quantile(0.75)\n",
    "#calculating interquartile ranges.\n",
    "    iqr=q3-q1\n",
    "#calculating and returning upper and lower limits\n",
    "    upper_lim=q3+iqr*1.5\n",
    "    lower_lim=q1-iqr*1.5\n",
    "    return upper_lim, lower_lim"
   ]
  },
  {
   "cell_type": "markdown",
   "metadata": {},
   "source": [
    "Using the function to calculate limits for the price, vehicle age, and mileage."
   ]
  },
  {
   "cell_type": "code",
   "execution_count": 35,
   "metadata": {},
   "outputs": [
    {
     "name": "stdout",
     "output_type": "stream",
     "text": [
      "Price limits 34750.0,-12850.0\n",
      "Vehicle age limits 24.0,-8.0\n",
      "Mileage limits 282719.0,-57865.0\n"
     ]
    }
   ],
   "source": [
    "# culculating the limits for outliers\n",
    "price_high,price_low=limits(data['price'])\n",
    "age_high,age_low=limits(data['vehicle_age'])\n",
    "mileage_high,mileage_low=limits(data['odometer'])\n",
    "\n",
    "#printing the limits\n",
    "print(f'Price limits {price_high},{price_low}')\n",
    "print(f'Vehicle age limits {age_high},{age_low}')\n",
    "print(f'Mileage limits {mileage_high},{mileage_low}')"
   ]
  },
  {
   "cell_type": "markdown",
   "metadata": {},
   "source": [
    "Vehicle age and mileage cannot be negative, therefore, we will not use lower limits for them. Price also cannot be negative and it cannot be 0 either. Price below 500$ also does not look realistic, therefore, we will use 500 as the lower limit for the price. \n",
    "\n",
    "Using the defined limits, we will filter the data and store it in a new data frame."
   ]
  },
  {
   "cell_type": "code",
   "execution_count": 36,
   "metadata": {},
   "outputs": [],
   "source": [
    "# Storing data without outliers in a separate DataFrame\n",
    "data_clean=data[(data['price']<price_high)&(data['price']>500)\n",
    "                &(data['vehicle_age']<age_high)&(data['odometer']<mileage_high)]\n",
    "\n"
   ]
  },
  {
   "cell_type": "markdown",
   "metadata": {},
   "source": [
    "As we saw, few ads have particular cylinder numbers. We will count cylinder values to decide if we should keep ads with those values."
   ]
  },
  {
   "cell_type": "code",
   "execution_count": 37,
   "metadata": {},
   "outputs": [
    {
     "data": {
      "text/plain": [
       "6     11626\n",
       "8     10878\n",
       "4     10483\n",
       "5       214\n",
       "10      199\n",
       "3        29\n",
       "12        1\n",
       "Name: cylinders, dtype: int64"
      ]
     },
     "execution_count": 37,
     "metadata": {},
     "output_type": "execute_result"
    }
   ],
   "source": [
    "#counting values for cylinders\n",
    "data_clean['cylinders'].value_counts()"
   ]
  },
  {
   "cell_type": "markdown",
   "metadata": {},
   "source": [
    "There are only 29 vehicles with 3 cylinders and just one with 12 cylinders. This is not sufficient to produce a valid result, so we will drop ads that have this number of cylinders."
   ]
  },
  {
   "cell_type": "code",
   "execution_count": 38,
   "metadata": {},
   "outputs": [],
   "source": [
    "#excluding rows where number of cylinders 3 or 12\n",
    "data_clean=data_clean[~data_clean['cylinders'].isin([3,12])]"
   ]
  },
  {
   "cell_type": "markdown",
   "metadata": {},
   "source": [
    "Similar to cylinders, only a few ads have a particular condition_code. We will count condition_code values to decide if we should keep ads with those values."
   ]
  },
  {
   "cell_type": "code",
   "execution_count": 39,
   "metadata": {},
   "outputs": [
    {
     "data": {
      "text/plain": [
       "3    15889\n",
       "2    13508\n",
       "4     2940\n",
       "1      939\n",
       "0       65\n",
       "5       59\n",
       "Name: condition_code, dtype: int64"
      ]
     },
     "execution_count": 39,
     "metadata": {},
     "output_type": "execute_result"
    }
   ],
   "source": [
    "#counting values for condition_code\n",
    "data_clean['condition_code'].value_counts()"
   ]
  },
  {
   "cell_type": "markdown",
   "metadata": {},
   "source": [
    "There are no value counts less than 50, therefore we will keep them all.\n",
    "\n",
    "Let us print a sample of the filtered data."
   ]
  },
  {
   "cell_type": "code",
   "execution_count": 40,
   "metadata": {},
   "outputs": [
    {
     "data": {
      "text/html": [
       "<div>\n",
       "<style scoped>\n",
       "    .dataframe tbody tr th:only-of-type {\n",
       "        vertical-align: middle;\n",
       "    }\n",
       "\n",
       "    .dataframe tbody tr th {\n",
       "        vertical-align: top;\n",
       "    }\n",
       "\n",
       "    .dataframe thead th {\n",
       "        text-align: right;\n",
       "    }\n",
       "</style>\n",
       "<table border=\"1\" class=\"dataframe\">\n",
       "  <thead>\n",
       "    <tr style=\"text-align: right;\">\n",
       "      <th></th>\n",
       "      <th>price</th>\n",
       "      <th>model_year</th>\n",
       "      <th>model</th>\n",
       "      <th>cylinders</th>\n",
       "      <th>fuel</th>\n",
       "      <th>odometer</th>\n",
       "      <th>transmission</th>\n",
       "      <th>type</th>\n",
       "      <th>paint_color</th>\n",
       "      <th>is_4wd</th>\n",
       "      <th>date_posted</th>\n",
       "      <th>days_listed</th>\n",
       "      <th>vehicle_age</th>\n",
       "      <th>average_mileage</th>\n",
       "      <th>condition_code</th>\n",
       "    </tr>\n",
       "  </thead>\n",
       "  <tbody>\n",
       "    <tr>\n",
       "      <td>0</td>\n",
       "      <td>9400</td>\n",
       "      <td>2011</td>\n",
       "      <td>bmw x5</td>\n",
       "      <td>6</td>\n",
       "      <td>gas</td>\n",
       "      <td>145000</td>\n",
       "      <td>automatic</td>\n",
       "      <td>SUV</td>\n",
       "      <td>unknown</td>\n",
       "      <td>True</td>\n",
       "      <td>2018-06-23</td>\n",
       "      <td>19</td>\n",
       "      <td>7</td>\n",
       "      <td>20714</td>\n",
       "      <td>2</td>\n",
       "    </tr>\n",
       "    <tr>\n",
       "      <td>1</td>\n",
       "      <td>5250</td>\n",
       "      <td>2007</td>\n",
       "      <td>toyota rav4</td>\n",
       "      <td>6</td>\n",
       "      <td>gas</td>\n",
       "      <td>154000</td>\n",
       "      <td>automatic</td>\n",
       "      <td>SUV</td>\n",
       "      <td>unknown</td>\n",
       "      <td>False</td>\n",
       "      <td>2018-08-22</td>\n",
       "      <td>8</td>\n",
       "      <td>11</td>\n",
       "      <td>14000</td>\n",
       "      <td>2</td>\n",
       "    </tr>\n",
       "    <tr>\n",
       "      <td>2</td>\n",
       "      <td>5000</td>\n",
       "      <td>2009</td>\n",
       "      <td>jeep liberty</td>\n",
       "      <td>6</td>\n",
       "      <td>gas</td>\n",
       "      <td>137273</td>\n",
       "      <td>automatic</td>\n",
       "      <td>SUV</td>\n",
       "      <td>white</td>\n",
       "      <td>True</td>\n",
       "      <td>2019-02-19</td>\n",
       "      <td>14</td>\n",
       "      <td>10</td>\n",
       "      <td>13727</td>\n",
       "      <td>2</td>\n",
       "    </tr>\n",
       "    <tr>\n",
       "      <td>3</td>\n",
       "      <td>9500</td>\n",
       "      <td>2008</td>\n",
       "      <td>toyota highlander</td>\n",
       "      <td>6</td>\n",
       "      <td>gas</td>\n",
       "      <td>149799</td>\n",
       "      <td>automatic</td>\n",
       "      <td>SUV</td>\n",
       "      <td>unknown</td>\n",
       "      <td>False</td>\n",
       "      <td>2018-06-04</td>\n",
       "      <td>121</td>\n",
       "      <td>10</td>\n",
       "      <td>14979</td>\n",
       "      <td>2</td>\n",
       "    </tr>\n",
       "    <tr>\n",
       "      <td>4</td>\n",
       "      <td>14999</td>\n",
       "      <td>2015</td>\n",
       "      <td>dodge charger</td>\n",
       "      <td>6</td>\n",
       "      <td>gas</td>\n",
       "      <td>63037</td>\n",
       "      <td>automatic</td>\n",
       "      <td>sedan</td>\n",
       "      <td>unknown</td>\n",
       "      <td>False</td>\n",
       "      <td>2018-05-11</td>\n",
       "      <td>37</td>\n",
       "      <td>3</td>\n",
       "      <td>21012</td>\n",
       "      <td>2</td>\n",
       "    </tr>\n",
       "    <tr>\n",
       "      <td>5</td>\n",
       "      <td>8000</td>\n",
       "      <td>2009</td>\n",
       "      <td>ford f-150</td>\n",
       "      <td>8</td>\n",
       "      <td>gas</td>\n",
       "      <td>234000</td>\n",
       "      <td>automatic</td>\n",
       "      <td>truck</td>\n",
       "      <td>black</td>\n",
       "      <td>True</td>\n",
       "      <td>2019-03-31</td>\n",
       "      <td>1</td>\n",
       "      <td>10</td>\n",
       "      <td>23400</td>\n",
       "      <td>2</td>\n",
       "    </tr>\n",
       "    <tr>\n",
       "      <td>6</td>\n",
       "      <td>4500</td>\n",
       "      <td>2004</td>\n",
       "      <td>jeep grand cherokee</td>\n",
       "      <td>6</td>\n",
       "      <td>gas</td>\n",
       "      <td>168821</td>\n",
       "      <td>automatic</td>\n",
       "      <td>SUV</td>\n",
       "      <td>unknown</td>\n",
       "      <td>True</td>\n",
       "      <td>2019-01-31</td>\n",
       "      <td>60</td>\n",
       "      <td>15</td>\n",
       "      <td>11254</td>\n",
       "      <td>2</td>\n",
       "    </tr>\n",
       "    <tr>\n",
       "      <td>7</td>\n",
       "      <td>2400</td>\n",
       "      <td>2001</td>\n",
       "      <td>toyota camry</td>\n",
       "      <td>4</td>\n",
       "      <td>gas</td>\n",
       "      <td>277564</td>\n",
       "      <td>automatic</td>\n",
       "      <td>coupe</td>\n",
       "      <td>yellow</td>\n",
       "      <td>False</td>\n",
       "      <td>2018-05-27</td>\n",
       "      <td>51</td>\n",
       "      <td>17</td>\n",
       "      <td>16327</td>\n",
       "      <td>2</td>\n",
       "    </tr>\n",
       "    <tr>\n",
       "      <td>8</td>\n",
       "      <td>12500</td>\n",
       "      <td>2008</td>\n",
       "      <td>toyota 4runner</td>\n",
       "      <td>6</td>\n",
       "      <td>gas</td>\n",
       "      <td>141098</td>\n",
       "      <td>automatic</td>\n",
       "      <td>SUV</td>\n",
       "      <td>grey</td>\n",
       "      <td>False</td>\n",
       "      <td>2019-03-10</td>\n",
       "      <td>35</td>\n",
       "      <td>11</td>\n",
       "      <td>12827</td>\n",
       "      <td>2</td>\n",
       "    </tr>\n",
       "    <tr>\n",
       "      <td>9</td>\n",
       "      <td>3800</td>\n",
       "      <td>2012</td>\n",
       "      <td>ford focus</td>\n",
       "      <td>4</td>\n",
       "      <td>gas</td>\n",
       "      <td>130323</td>\n",
       "      <td>automatic</td>\n",
       "      <td>sedan</td>\n",
       "      <td>black</td>\n",
       "      <td>False</td>\n",
       "      <td>2018-11-29</td>\n",
       "      <td>261</td>\n",
       "      <td>6</td>\n",
       "      <td>21720</td>\n",
       "      <td>2</td>\n",
       "    </tr>\n",
       "  </tbody>\n",
       "</table>\n",
       "</div>"
      ],
      "text/plain": [
       "   price  model_year                model  cylinders fuel  odometer  \\\n",
       "0   9400        2011               bmw x5          6  gas    145000   \n",
       "1   5250        2007          toyota rav4          6  gas    154000   \n",
       "2   5000        2009         jeep liberty          6  gas    137273   \n",
       "3   9500        2008    toyota highlander          6  gas    149799   \n",
       "4  14999        2015        dodge charger          6  gas     63037   \n",
       "5   8000        2009           ford f-150          8  gas    234000   \n",
       "6   4500        2004  jeep grand cherokee          6  gas    168821   \n",
       "7   2400        2001         toyota camry          4  gas    277564   \n",
       "8  12500        2008       toyota 4runner          6  gas    141098   \n",
       "9   3800        2012           ford focus          4  gas    130323   \n",
       "\n",
       "  transmission   type paint_color  is_4wd date_posted  days_listed  \\\n",
       "0    automatic    SUV     unknown    True  2018-06-23           19   \n",
       "1    automatic    SUV     unknown   False  2018-08-22            8   \n",
       "2    automatic    SUV       white    True  2019-02-19           14   \n",
       "3    automatic    SUV     unknown   False  2018-06-04          121   \n",
       "4    automatic  sedan     unknown   False  2018-05-11           37   \n",
       "5    automatic  truck       black    True  2019-03-31            1   \n",
       "6    automatic    SUV     unknown    True  2019-01-31           60   \n",
       "7    automatic  coupe      yellow   False  2018-05-27           51   \n",
       "8    automatic    SUV        grey   False  2019-03-10           35   \n",
       "9    automatic  sedan       black   False  2018-11-29          261   \n",
       "\n",
       "   vehicle_age  average_mileage  condition_code  \n",
       "0            7            20714               2  \n",
       "1           11            14000               2  \n",
       "2           10            13727               2  \n",
       "3           10            14979               2  \n",
       "4            3            21012               2  \n",
       "5           10            23400               2  \n",
       "6           15            11254               2  \n",
       "7           17            16327               2  \n",
       "8           11            12827               2  \n",
       "9            6            21720               2  "
      ]
     },
     "execution_count": 40,
     "metadata": {},
     "output_type": "execute_result"
    }
   ],
   "source": [
    "#printing a sample of clean data\n",
    "data_clean.head(10)"
   ]
  },
  {
   "cell_type": "markdown",
   "metadata": {},
   "source": [
    "We filtered the data based on defined limits for outliers for the price, vehicle age, and mileage parameters, and value count for cylinders and conditions parameters. The sample of the clean data looks good, so next, we will re-plot histograms for the core parameters."
   ]
  },
  {
   "cell_type": "markdown",
   "metadata": {},
   "source": [
    "## Studying core parameters without outliers\n",
    "\n",
    "Now when the data is cleaned of outliers we will plot and study core parameters once again. We will not re-plot histograms for cylinders and condition_type as there are not too many values and they have not changed significantly."
   ]
  },
  {
   "cell_type": "code",
   "execution_count": 41,
   "metadata": {},
   "outputs": [
    {
     "data": {
      "image/png": "[encoded data removed]",
      "text/plain": [
       "<Figure size 720x288 with 1 Axes>"
      ]
     },
     "metadata": {
      "needs_background": "light"
     },
     "output_type": "display_data"
    }
   ],
   "source": [
    "# ploting histogram for price\n",
    "data_clean['price'].plot(kind='hist', bins=35, figsize=(10,4),title='Price Histogram', grid=True)\n",
    "plt.show()"
   ]
  },
  {
   "cell_type": "code",
   "execution_count": 42,
   "metadata": {},
   "outputs": [
    {
     "data": {
      "image/png": "[encoded data removed]",
      "text/plain": [
       "<Figure size 720x288 with 1 Axes>"
      ]
     },
     "metadata": {
      "needs_background": "light"
     },
     "output_type": "display_data"
    }
   ],
   "source": [
    "# ploting histogram for vehicle_age\n",
    "data_clean['vehicle_age'].plot(kind='hist', bins=24, figsize=(10,4),title='Vehicle_age Histogram', grid=True)\n",
    "plt.show()"
   ]
  },
  {
   "cell_type": "code",
   "execution_count": 43,
   "metadata": {},
   "outputs": [
    {
     "data": {
      "image/png": "[encoded data removed]",
      "text/plain": [
       "<Figure size 720x288 with 1 Axes>"
      ]
     },
     "metadata": {
      "needs_background": "light"
     },
     "output_type": "display_data"
    }
   ],
   "source": [
    "# ploting histogram for mileage\n",
    "data_clean['odometer'].plot(kind='hist', bins=50, figsize=(10,4),title='Odometer Histogram', grid=True)\n",
    "plt.show()"
   ]
  },
  {
   "cell_type": "markdown",
   "metadata": {},
   "source": [
    "Now the distribution of values looks more reliable and we can start answering questions raised at the beginning of the study."
   ]
  },
  {
   "cell_type": "markdown",
   "metadata": {},
   "source": [
    "## Ads lifetime\n",
    "\n",
    "We will study how many days advertisements were displayed on average for that we will calculate the mean and median. Describe the typical lifetime of an ad. Determine when ads were removed quickly, and when they were listed for an abnormally long time."
   ]
  },
  {
   "cell_type": "code",
   "execution_count": 44,
   "metadata": {},
   "outputs": [
    {
     "data": {
      "image/png": "[encoded data removed]",
      "text/plain": [
       "<Figure size 720x288 with 1 Axes>"
      ]
     },
     "metadata": {
      "needs_background": "light"
     },
     "output_type": "display_data"
    }
   ],
   "source": [
    "# ploting histogram for days_listed\n",
    "data_clean['days_listed'].plot(kind='hist', bins=50, figsize=(10,4),title='Days_listed Histogram', grid=True)\n",
    "plt.show()"
   ]
  },
  {
   "cell_type": "code",
   "execution_count": 45,
   "metadata": {},
   "outputs": [
    {
     "data": {
      "text/plain": [
       "39.671437125748504"
      ]
     },
     "execution_count": 45,
     "metadata": {},
     "output_type": "execute_result"
    }
   ],
   "source": [
    "#calculating mean\n",
    "data_clean['days_listed'].mean()"
   ]
  },
  {
   "cell_type": "code",
   "execution_count": 46,
   "metadata": {},
   "outputs": [
    {
     "data": {
      "text/plain": [
       "33.0"
      ]
     },
     "execution_count": 46,
     "metadata": {},
     "output_type": "execute_result"
    }
   ],
   "source": [
    "#calculating median\n",
    "data_clean['days_listed'].median()"
   ]
  },
  {
   "cell_type": "markdown",
   "metadata": {},
   "source": [
    "To determine the typical ad lifecycle we will use boxplot and days_listed description."
   ]
  },
  {
   "cell_type": "code",
   "execution_count": 47,
   "metadata": {},
   "outputs": [
    {
     "data": {
      "image/png": "[encoded data removed]",
      "text/plain": [
       "<Figure size 360x360 with 1 Axes>"
      ]
     },
     "metadata": {
      "needs_background": "light"
     },
     "output_type": "display_data"
    },
    {
     "data": {
      "text/plain": [
       "count    33400.000000\n",
       "mean        39.671437\n",
       "std         28.147135\n",
       "min          0.000000\n",
       "25%         19.000000\n",
       "50%         33.000000\n",
       "75%         53.000000\n",
       "max        271.000000\n",
       "Name: days_listed, dtype: float64"
      ]
     },
     "execution_count": 47,
     "metadata": {},
     "output_type": "execute_result"
    }
   ],
   "source": [
    "#creating boxplot for days_listed\n",
    "data_clean.boxplot(column='days_listed', figsize=(5,5))\n",
    "plt.title('Days_listed boxplt')\n",
    "plt.ylabel('Days')\n",
    "plt.show()\n",
    "\n",
    "#printing days_listed description\n",
    "data_clean['days_listed'].describe()"
   ]
  },
  {
   "cell_type": "markdown",
   "metadata": {},
   "source": [
    "As can see, typically an ad is listed between 19 and 33 days. Listed times longer than 100 can be considered as extremely long. Listed times lower than 19 can be described as low."
   ]
  },
  {
   "cell_type": "markdown",
   "metadata": {},
   "source": [
    "## Average price per each type of vehicle"
   ]
  },
  {
   "cell_type": "markdown",
   "metadata": {},
   "source": [
    "Next, we will analyze the number of ads and the average price for each type of vehicle. Then, we will plot a graph showing the dependence of the number of ads on the vehicle type to determine the two types with the greatest number of ads."
   ]
  },
  {
   "cell_type": "code",
   "execution_count": 48,
   "metadata": {},
   "outputs": [
    {
     "data": {
      "text/html": [
       "<div>\n",
       "<style scoped>\n",
       "    .dataframe tbody tr th:only-of-type {\n",
       "        vertical-align: middle;\n",
       "    }\n",
       "\n",
       "    .dataframe tbody tr th {\n",
       "        vertical-align: top;\n",
       "    }\n",
       "\n",
       "    .dataframe thead th {\n",
       "        text-align: right;\n",
       "    }\n",
       "</style>\n",
       "<table border=\"1\" class=\"dataframe\">\n",
       "  <thead>\n",
       "    <tr style=\"text-align: right;\">\n",
       "      <th></th>\n",
       "      <th>type</th>\n",
       "      <th>count</th>\n",
       "      <th>mean</th>\n",
       "    </tr>\n",
       "  </thead>\n",
       "  <tbody>\n",
       "    <tr>\n",
       "      <td>1</td>\n",
       "      <td>bus</td>\n",
       "      <td>18</td>\n",
       "      <td>16293.666667</td>\n",
       "    </tr>\n",
       "    <tr>\n",
       "      <td>6</td>\n",
       "      <td>offroad</td>\n",
       "      <td>137</td>\n",
       "      <td>14563.956204</td>\n",
       "    </tr>\n",
       "    <tr>\n",
       "      <td>7</td>\n",
       "      <td>other</td>\n",
       "      <td>160</td>\n",
       "      <td>10652.468750</td>\n",
       "    </tr>\n",
       "    <tr>\n",
       "      <td>2</td>\n",
       "      <td>convertible</td>\n",
       "      <td>242</td>\n",
       "      <td>13497.665289</td>\n",
       "    </tr>\n",
       "    <tr>\n",
       "      <td>11</td>\n",
       "      <td>van</td>\n",
       "      <td>401</td>\n",
       "      <td>9345.583541</td>\n",
       "    </tr>\n",
       "    <tr>\n",
       "      <td>4</td>\n",
       "      <td>hatchback</td>\n",
       "      <td>686</td>\n",
       "      <td>6875.482507</td>\n",
       "    </tr>\n",
       "    <tr>\n",
       "      <td>5</td>\n",
       "      <td>mini-van</td>\n",
       "      <td>815</td>\n",
       "      <td>8196.288344</td>\n",
       "    </tr>\n",
       "    <tr>\n",
       "      <td>12</td>\n",
       "      <td>wagon</td>\n",
       "      <td>1047</td>\n",
       "      <td>8997.498567</td>\n",
       "    </tr>\n",
       "    <tr>\n",
       "      <td>3</td>\n",
       "      <td>coupe</td>\n",
       "      <td>1392</td>\n",
       "      <td>13995.973420</td>\n",
       "    </tr>\n",
       "    <tr>\n",
       "      <td>8</td>\n",
       "      <td>pickup</td>\n",
       "      <td>4428</td>\n",
       "      <td>15252.100271</td>\n",
       "    </tr>\n",
       "    <tr>\n",
       "      <td>10</td>\n",
       "      <td>truck</td>\n",
       "      <td>7671</td>\n",
       "      <td>15506.994916</td>\n",
       "    </tr>\n",
       "    <tr>\n",
       "      <td>0</td>\n",
       "      <td>SUV</td>\n",
       "      <td>8191</td>\n",
       "      <td>10814.419485</td>\n",
       "    </tr>\n",
       "    <tr>\n",
       "      <td>9</td>\n",
       "      <td>sedan</td>\n",
       "      <td>8212</td>\n",
       "      <td>7160.472723</td>\n",
       "    </tr>\n",
       "  </tbody>\n",
       "</table>\n",
       "</div>"
      ],
      "text/plain": [
       "           type  count          mean\n",
       "1           bus     18  16293.666667\n",
       "6       offroad    137  14563.956204\n",
       "7         other    160  10652.468750\n",
       "2   convertible    242  13497.665289\n",
       "11          van    401   9345.583541\n",
       "4     hatchback    686   6875.482507\n",
       "5      mini-van    815   8196.288344\n",
       "12        wagon   1047   8997.498567\n",
       "3         coupe   1392  13995.973420\n",
       "8        pickup   4428  15252.100271\n",
       "10        truck   7671  15506.994916\n",
       "0           SUV   8191  10814.419485\n",
       "9         sedan   8212   7160.472723"
      ]
     },
     "execution_count": 48,
     "metadata": {},
     "output_type": "execute_result"
    }
   ],
   "source": [
    "#creating pivot table showing number of ads and the average price for each type of vehicle\n",
    "type_data=data_clean.pivot_table(index='type',values='price', aggfunc=['count','mean']).reset_index()\n",
    "\n",
    "#renaming columns in the pivot table\n",
    "type_data.columns=['type','count','mean']\n",
    "\n",
    "#sorting values by count \n",
    "type_data=type_data.sort_values('count')\n",
    "\n",
    "#printing the pivot table\n",
    "type_data"
   ]
  },
  {
   "cell_type": "code",
   "execution_count": 49,
   "metadata": {},
   "outputs": [
    {
     "data": {
      "image/png": "[encoded data removed]",
      "text/plain": [
       "<Figure size 720x360 with 1 Axes>"
      ]
     },
     "metadata": {
      "needs_background": "light"
     },
     "output_type": "display_data"
    }
   ],
   "source": [
    "type_data.plot(x='type', y='count', kind='bar', figsize=(10,5), grid=True, title='Dependence of the number of ads on the vehicle type')\n",
    "plt.ylabel('Ads count')\n",
    "plt.show()"
   ]
  },
  {
   "cell_type": "markdown",
   "metadata": {},
   "source": [
    "Buses have the highest average price followed by trucks. SUVs and sedans are the most sellable types of vehicles."
   ]
  },
  {
   "cell_type": "markdown",
   "metadata": {},
   "source": [
    "## Price factors"
   ]
  },
  {
   "cell_type": "markdown",
   "metadata": {},
   "source": [
    "Finally, we will determine what factors impact the price most. For two most the most sellable types of vehicles we will study whether the price depends on age, mileage, condition, transmission type, and color."
   ]
  },
  {
   "cell_type": "markdown",
   "metadata": {},
   "source": [
    "### Sedans\n",
    "\n",
    "Getting data for sedans."
   ]
  },
  {
   "cell_type": "code",
   "execution_count": 50,
   "metadata": {},
   "outputs": [],
   "source": [
    "#filtering data by sedan type\n",
    "sedan_data=data_clean.query('type==\"sedan\"')[['price', 'vehicle_age', 'odometer', 'condition_code', 'transmission', 'paint_color']]"
   ]
  },
  {
   "cell_type": "markdown",
   "metadata": {},
   "source": [
    "Studying sedans data."
   ]
  },
  {
   "cell_type": "code",
   "execution_count": 51,
   "metadata": {},
   "outputs": [
    {
     "data": {
      "text/html": [
       "<div>\n",
       "<style scoped>\n",
       "    .dataframe tbody tr th:only-of-type {\n",
       "        vertical-align: middle;\n",
       "    }\n",
       "\n",
       "    .dataframe tbody tr th {\n",
       "        vertical-align: top;\n",
       "    }\n",
       "\n",
       "    .dataframe thead th {\n",
       "        text-align: right;\n",
       "    }\n",
       "</style>\n",
       "<table border=\"1\" class=\"dataframe\">\n",
       "  <thead>\n",
       "    <tr style=\"text-align: right;\">\n",
       "      <th></th>\n",
       "      <th>price</th>\n",
       "      <th>vehicle_age</th>\n",
       "      <th>odometer</th>\n",
       "      <th>condition_code</th>\n",
       "      <th>transmission</th>\n",
       "      <th>paint_color</th>\n",
       "    </tr>\n",
       "  </thead>\n",
       "  <tbody>\n",
       "    <tr>\n",
       "      <td>4</td>\n",
       "      <td>14999</td>\n",
       "      <td>3</td>\n",
       "      <td>63037</td>\n",
       "      <td>2</td>\n",
       "      <td>automatic</td>\n",
       "      <td>unknown</td>\n",
       "    </tr>\n",
       "    <tr>\n",
       "      <td>9</td>\n",
       "      <td>3800</td>\n",
       "      <td>6</td>\n",
       "      <td>130323</td>\n",
       "      <td>2</td>\n",
       "      <td>automatic</td>\n",
       "      <td>black</td>\n",
       "    </tr>\n",
       "    <tr>\n",
       "      <td>15</td>\n",
       "      <td>10499</td>\n",
       "      <td>2</td>\n",
       "      <td>53601</td>\n",
       "      <td>2</td>\n",
       "      <td>automatic</td>\n",
       "      <td>black</td>\n",
       "    </tr>\n",
       "    <tr>\n",
       "      <td>16</td>\n",
       "      <td>15999</td>\n",
       "      <td>1</td>\n",
       "      <td>17498</td>\n",
       "      <td>2</td>\n",
       "      <td>automatic</td>\n",
       "      <td>black</td>\n",
       "    </tr>\n",
       "    <tr>\n",
       "      <td>23</td>\n",
       "      <td>9950</td>\n",
       "      <td>4</td>\n",
       "      <td>102878</td>\n",
       "      <td>2</td>\n",
       "      <td>automatic</td>\n",
       "      <td>white</td>\n",
       "    </tr>\n",
       "    <tr>\n",
       "      <td>44</td>\n",
       "      <td>4600</td>\n",
       "      <td>6</td>\n",
       "      <td>146000</td>\n",
       "      <td>2</td>\n",
       "      <td>automatic</td>\n",
       "      <td>unknown</td>\n",
       "    </tr>\n",
       "    <tr>\n",
       "      <td>48</td>\n",
       "      <td>2900</td>\n",
       "      <td>18</td>\n",
       "      <td>170000</td>\n",
       "      <td>2</td>\n",
       "      <td>automatic</td>\n",
       "      <td>green</td>\n",
       "    </tr>\n",
       "    <tr>\n",
       "      <td>51</td>\n",
       "      <td>4900</td>\n",
       "      <td>7</td>\n",
       "      <td>116000</td>\n",
       "      <td>2</td>\n",
       "      <td>automatic</td>\n",
       "      <td>silver</td>\n",
       "    </tr>\n",
       "    <tr>\n",
       "      <td>62</td>\n",
       "      <td>3995</td>\n",
       "      <td>19</td>\n",
       "      <td>180000</td>\n",
       "      <td>2</td>\n",
       "      <td>automatic</td>\n",
       "      <td>black</td>\n",
       "    </tr>\n",
       "    <tr>\n",
       "      <td>65</td>\n",
       "      <td>3595</td>\n",
       "      <td>13</td>\n",
       "      <td>147667</td>\n",
       "      <td>2</td>\n",
       "      <td>automatic</td>\n",
       "      <td>red</td>\n",
       "    </tr>\n",
       "  </tbody>\n",
       "</table>\n",
       "</div>"
      ],
      "text/plain": [
       "    price  vehicle_age  odometer  condition_code transmission paint_color\n",
       "4   14999            3     63037               2    automatic     unknown\n",
       "9    3800            6    130323               2    automatic       black\n",
       "15  10499            2     53601               2    automatic       black\n",
       "16  15999            1     17498               2    automatic       black\n",
       "23   9950            4    102878               2    automatic       white\n",
       "44   4600            6    146000               2    automatic     unknown\n",
       "48   2900           18    170000               2    automatic       green\n",
       "51   4900            7    116000               2    automatic      silver\n",
       "62   3995           19    180000               2    automatic       black\n",
       "65   3595           13    147667               2    automatic         red"
      ]
     },
     "execution_count": 51,
     "metadata": {},
     "output_type": "execute_result"
    }
   ],
   "source": [
    "#printing sample of sedan data\n",
    "sedan_data.head(10)"
   ]
  },
  {
   "cell_type": "code",
   "execution_count": 52,
   "metadata": {
    "scrolled": false
   },
   "outputs": [
    {
     "data": {
      "image/png": "[encoded data removed]",
      "text/plain": [
       "<Figure size 432x288 with 1 Axes>"
      ]
     },
     "metadata": {
      "needs_background": "light"
     },
     "output_type": "display_data"
    },
    {
     "data": {
      "image/png": "[encoded data removed]",
      "text/plain": [
       "<Figure size 432x288 with 1 Axes>"
      ]
     },
     "metadata": {
      "needs_background": "light"
     },
     "output_type": "display_data"
    },
    {
     "data": {
      "image/png": "[encoded data removed]",
      "text/plain": [
       "<Figure size 432x288 with 1 Axes>"
      ]
     },
     "metadata": {
      "needs_background": "light"
     },
     "output_type": "display_data"
    },
    {
     "name": "stderr",
     "output_type": "stream",
     "text": [
      "/opt/conda/lib/python3.7/site-packages/numpy/core/_asarray.py:83: VisibleDeprecationWarning: Creating an ndarray from ragged nested sequences (which is a list-or-tuple of lists-or-tuples-or ndarrays with different lengths or shapes) is deprecated. If you meant to do this, you must specify 'dtype=object' when creating the ndarray\n",
      "  return array(a, dtype, copy=False, order=order)\n"
     ]
    },
    {
     "data": {
      "image/png": "[encoded data removed]",
      "text/plain": [
       "<Figure size 720x360 with 1 Axes>"
      ]
     },
     "metadata": {
      "needs_background": "light"
     },
     "output_type": "display_data"
    },
    {
     "name": "stderr",
     "output_type": "stream",
     "text": [
      "/opt/conda/lib/python3.7/site-packages/numpy/core/_asarray.py:83: VisibleDeprecationWarning: Creating an ndarray from ragged nested sequences (which is a list-or-tuple of lists-or-tuples-or ndarrays with different lengths or shapes) is deprecated. If you meant to do this, you must specify 'dtype=object' when creating the ndarray\n",
      "  return array(a, dtype, copy=False, order=order)\n"
     ]
    },
    {
     "data": {
      "image/png": "[encoded data removed]",
      "text/plain": [
       "<Figure size 720x360 with 1 Axes>"
      ]
     },
     "metadata": {
      "needs_background": "light"
     },
     "output_type": "display_data"
    }
   ],
   "source": [
    "#plotting boxplots for transmission and paint_color columns \n",
    "#and scatter plots for vehicle_age, odometer and condition_code columns\n",
    "for column in sedan_data.columns:\n",
    "    if column in ['transmission','paint_color']:\n",
    "        sedan_data.boxplot(column='price', by=column, figsize=(10, 5), grid=True)\n",
    "        plt.show()\n",
    "    elif column in ['vehicle_age','odometer','condition_code']:\n",
    "        sedan_data.plot(x=column, y='price', kind='scatter')\n",
    "        plt.show()"
   ]
  },
  {
   "cell_type": "code",
   "execution_count": 53,
   "metadata": {},
   "outputs": [
    {
     "data": {
      "text/html": [
       "<div>\n",
       "<style scoped>\n",
       "    .dataframe tbody tr th:only-of-type {\n",
       "        vertical-align: middle;\n",
       "    }\n",
       "\n",
       "    .dataframe tbody tr th {\n",
       "        vertical-align: top;\n",
       "    }\n",
       "\n",
       "    .dataframe thead th {\n",
       "        text-align: right;\n",
       "    }\n",
       "</style>\n",
       "<table border=\"1\" class=\"dataframe\">\n",
       "  <thead>\n",
       "    <tr style=\"text-align: right;\">\n",
       "      <th></th>\n",
       "      <th>price</th>\n",
       "      <th>vehicle_age</th>\n",
       "      <th>odometer</th>\n",
       "      <th>condition_code</th>\n",
       "    </tr>\n",
       "  </thead>\n",
       "  <tbody>\n",
       "    <tr>\n",
       "      <td>price</td>\n",
       "      <td>1.000000</td>\n",
       "      <td>-0.711460</td>\n",
       "      <td>-0.625275</td>\n",
       "      <td>0.326142</td>\n",
       "    </tr>\n",
       "    <tr>\n",
       "      <td>vehicle_age</td>\n",
       "      <td>-0.711460</td>\n",
       "      <td>1.000000</td>\n",
       "      <td>0.595594</td>\n",
       "      <td>-0.304720</td>\n",
       "    </tr>\n",
       "    <tr>\n",
       "      <td>odometer</td>\n",
       "      <td>-0.625275</td>\n",
       "      <td>0.595594</td>\n",
       "      <td>1.000000</td>\n",
       "      <td>-0.324683</td>\n",
       "    </tr>\n",
       "    <tr>\n",
       "      <td>condition_code</td>\n",
       "      <td>0.326142</td>\n",
       "      <td>-0.304720</td>\n",
       "      <td>-0.324683</td>\n",
       "      <td>1.000000</td>\n",
       "    </tr>\n",
       "  </tbody>\n",
       "</table>\n",
       "</div>"
      ],
      "text/plain": [
       "                   price  vehicle_age  odometer  condition_code\n",
       "price           1.000000    -0.711460 -0.625275        0.326142\n",
       "vehicle_age    -0.711460     1.000000  0.595594       -0.304720\n",
       "odometer       -0.625275     0.595594  1.000000       -0.324683\n",
       "condition_code  0.326142    -0.304720 -0.324683        1.000000"
      ]
     },
     "execution_count": 53,
     "metadata": {},
     "output_type": "execute_result"
    }
   ],
   "source": [
    "#printing correlation matrix for sedan data\n",
    "sedan_data.corr()"
   ]
  },
  {
   "cell_type": "markdown",
   "metadata": {},
   "source": [
    "As can be seen, there is a negative correlation between vehicle_age and price and between mileage and price. Newer vehicles with lower mileage cost more. Although both these factors highly influence the price, vehicle_age looks to impact the price higher as it has the highest absolute correlation. In addition, orange vehicles have a bit higher average price. Also, the price of the vehicle with automatic transmission outweighs the price of the vehicle with the manual one."
   ]
  },
  {
   "cell_type": "markdown",
   "metadata": {},
   "source": [
    "### SUV\n",
    "\n",
    "Getting data for SUV."
   ]
  },
  {
   "cell_type": "code",
   "execution_count": 54,
   "metadata": {},
   "outputs": [],
   "source": [
    "suv_data=data_clean.query('type==\"SUV\"')[['price', 'vehicle_age', 'odometer', 'condition_code', 'transmission', 'paint_color']]"
   ]
  },
  {
   "cell_type": "markdown",
   "metadata": {},
   "source": [
    "Studying suv data."
   ]
  },
  {
   "cell_type": "code",
   "execution_count": 55,
   "metadata": {},
   "outputs": [
    {
     "data": {
      "text/html": [
       "<div>\n",
       "<style scoped>\n",
       "    .dataframe tbody tr th:only-of-type {\n",
       "        vertical-align: middle;\n",
       "    }\n",
       "\n",
       "    .dataframe tbody tr th {\n",
       "        vertical-align: top;\n",
       "    }\n",
       "\n",
       "    .dataframe thead th {\n",
       "        text-align: right;\n",
       "    }\n",
       "</style>\n",
       "<table border=\"1\" class=\"dataframe\">\n",
       "  <thead>\n",
       "    <tr style=\"text-align: right;\">\n",
       "      <th></th>\n",
       "      <th>price</th>\n",
       "      <th>vehicle_age</th>\n",
       "      <th>odometer</th>\n",
       "      <th>condition_code</th>\n",
       "      <th>transmission</th>\n",
       "      <th>paint_color</th>\n",
       "    </tr>\n",
       "  </thead>\n",
       "  <tbody>\n",
       "    <tr>\n",
       "      <td>0</td>\n",
       "      <td>9400</td>\n",
       "      <td>7</td>\n",
       "      <td>145000</td>\n",
       "      <td>2</td>\n",
       "      <td>automatic</td>\n",
       "      <td>unknown</td>\n",
       "    </tr>\n",
       "    <tr>\n",
       "      <td>1</td>\n",
       "      <td>5250</td>\n",
       "      <td>11</td>\n",
       "      <td>154000</td>\n",
       "      <td>2</td>\n",
       "      <td>automatic</td>\n",
       "      <td>unknown</td>\n",
       "    </tr>\n",
       "    <tr>\n",
       "      <td>2</td>\n",
       "      <td>5000</td>\n",
       "      <td>10</td>\n",
       "      <td>137273</td>\n",
       "      <td>2</td>\n",
       "      <td>automatic</td>\n",
       "      <td>white</td>\n",
       "    </tr>\n",
       "    <tr>\n",
       "      <td>3</td>\n",
       "      <td>9500</td>\n",
       "      <td>10</td>\n",
       "      <td>149799</td>\n",
       "      <td>2</td>\n",
       "      <td>automatic</td>\n",
       "      <td>unknown</td>\n",
       "    </tr>\n",
       "    <tr>\n",
       "      <td>6</td>\n",
       "      <td>4500</td>\n",
       "      <td>15</td>\n",
       "      <td>168821</td>\n",
       "      <td>2</td>\n",
       "      <td>automatic</td>\n",
       "      <td>unknown</td>\n",
       "    </tr>\n",
       "    <tr>\n",
       "      <td>8</td>\n",
       "      <td>12500</td>\n",
       "      <td>11</td>\n",
       "      <td>141098</td>\n",
       "      <td>2</td>\n",
       "      <td>automatic</td>\n",
       "      <td>grey</td>\n",
       "    </tr>\n",
       "    <tr>\n",
       "      <td>10</td>\n",
       "      <td>3300</td>\n",
       "      <td>8</td>\n",
       "      <td>188963</td>\n",
       "      <td>2</td>\n",
       "      <td>manual</td>\n",
       "      <td>black</td>\n",
       "    </tr>\n",
       "    <tr>\n",
       "      <td>33</td>\n",
       "      <td>5500</td>\n",
       "      <td>14</td>\n",
       "      <td>140355</td>\n",
       "      <td>2</td>\n",
       "      <td>automatic</td>\n",
       "      <td>white</td>\n",
       "    </tr>\n",
       "    <tr>\n",
       "      <td>47</td>\n",
       "      <td>10999</td>\n",
       "      <td>8</td>\n",
       "      <td>98193</td>\n",
       "      <td>2</td>\n",
       "      <td>automatic</td>\n",
       "      <td>blue</td>\n",
       "    </tr>\n",
       "    <tr>\n",
       "      <td>49</td>\n",
       "      <td>2700</td>\n",
       "      <td>14</td>\n",
       "      <td>150352</td>\n",
       "      <td>2</td>\n",
       "      <td>automatic</td>\n",
       "      <td>silver</td>\n",
       "    </tr>\n",
       "  </tbody>\n",
       "</table>\n",
       "</div>"
      ],
      "text/plain": [
       "    price  vehicle_age  odometer  condition_code transmission paint_color\n",
       "0    9400            7    145000               2    automatic     unknown\n",
       "1    5250           11    154000               2    automatic     unknown\n",
       "2    5000           10    137273               2    automatic       white\n",
       "3    9500           10    149799               2    automatic     unknown\n",
       "6    4500           15    168821               2    automatic     unknown\n",
       "8   12500           11    141098               2    automatic        grey\n",
       "10   3300            8    188963               2       manual       black\n",
       "33   5500           14    140355               2    automatic       white\n",
       "47  10999            8     98193               2    automatic        blue\n",
       "49   2700           14    150352               2    automatic      silver"
      ]
     },
     "execution_count": 55,
     "metadata": {},
     "output_type": "execute_result"
    }
   ],
   "source": [
    "#printing sample of suv data\n",
    "suv_data.head(10)"
   ]
  },
  {
   "cell_type": "code",
   "execution_count": 56,
   "metadata": {},
   "outputs": [
    {
     "data": {
      "image/png": "[encoded data removed]",
      "text/plain": [
       "<Figure size 432x288 with 1 Axes>"
      ]
     },
     "metadata": {
      "needs_background": "light"
     },
     "output_type": "display_data"
    },
    {
     "data": {
      "image/png": "[encoded data removed]",
      "text/plain": [
       "<Figure size 432x288 with 1 Axes>"
      ]
     },
     "metadata": {
      "needs_background": "light"
     },
     "output_type": "display_data"
    },
    {
     "data": {
      "image/png": "[encoded data removed]",
      "text/plain": [
       "<Figure size 432x288 with 1 Axes>"
      ]
     },
     "metadata": {
      "needs_background": "light"
     },
     "output_type": "display_data"
    },
    {
     "name": "stderr",
     "output_type": "stream",
     "text": [
      "/opt/conda/lib/python3.7/site-packages/numpy/core/_asarray.py:83: VisibleDeprecationWarning: Creating an ndarray from ragged nested sequences (which is a list-or-tuple of lists-or-tuples-or ndarrays with different lengths or shapes) is deprecated. If you meant to do this, you must specify 'dtype=object' when creating the ndarray\n",
      "  return array(a, dtype, copy=False, order=order)\n"
     ]
    },
    {
     "data": {
      "image/png": "[encoded data removed]",
      "text/plain": [
       "<Figure size 720x360 with 1 Axes>"
      ]
     },
     "metadata": {
      "needs_background": "light"
     },
     "output_type": "display_data"
    },
    {
     "name": "stderr",
     "output_type": "stream",
     "text": [
      "/opt/conda/lib/python3.7/site-packages/numpy/core/_asarray.py:83: VisibleDeprecationWarning: Creating an ndarray from ragged nested sequences (which is a list-or-tuple of lists-or-tuples-or ndarrays with different lengths or shapes) is deprecated. If you meant to do this, you must specify 'dtype=object' when creating the ndarray\n",
      "  return array(a, dtype, copy=False, order=order)\n"
     ]
    },
    {
     "data": {
      "image/png": "[encoded data removed]",
      "text/plain": [
       "<Figure size 720x360 with 1 Axes>"
      ]
     },
     "metadata": {
      "needs_background": "light"
     },
     "output_type": "display_data"
    }
   ],
   "source": [
    "#plotting boxplots for transmission and paint_color columns \n",
    "#and scatter plots for vehicle_age, odometer and condition_code columns\n",
    "for column in suv_data.columns:\n",
    "    if column in ['transmission','paint_color']:\n",
    "        suv_data.boxplot(column='price', by=column, figsize=(10, 5))\n",
    "        plt.show()\n",
    "    elif column in ['vehicle_age','odometer','condition_code']:\n",
    "        suv_data.plot(x=column, y='price', kind='scatter')\n",
    "        plt.show()"
   ]
  },
  {
   "cell_type": "code",
   "execution_count": 57,
   "metadata": {},
   "outputs": [
    {
     "data": {
      "text/html": [
       "<div>\n",
       "<style scoped>\n",
       "    .dataframe tbody tr th:only-of-type {\n",
       "        vertical-align: middle;\n",
       "    }\n",
       "\n",
       "    .dataframe tbody tr th {\n",
       "        vertical-align: top;\n",
       "    }\n",
       "\n",
       "    .dataframe thead th {\n",
       "        text-align: right;\n",
       "    }\n",
       "</style>\n",
       "<table border=\"1\" class=\"dataframe\">\n",
       "  <thead>\n",
       "    <tr style=\"text-align: right;\">\n",
       "      <th></th>\n",
       "      <th>price</th>\n",
       "      <th>vehicle_age</th>\n",
       "      <th>odometer</th>\n",
       "      <th>condition_code</th>\n",
       "    </tr>\n",
       "  </thead>\n",
       "  <tbody>\n",
       "    <tr>\n",
       "      <td>price</td>\n",
       "      <td>1.000000</td>\n",
       "      <td>-0.681614</td>\n",
       "      <td>-0.611743</td>\n",
       "      <td>0.299345</td>\n",
       "    </tr>\n",
       "    <tr>\n",
       "      <td>vehicle_age</td>\n",
       "      <td>-0.681614</td>\n",
       "      <td>1.000000</td>\n",
       "      <td>0.606832</td>\n",
       "      <td>-0.309620</td>\n",
       "    </tr>\n",
       "    <tr>\n",
       "      <td>odometer</td>\n",
       "      <td>-0.611743</td>\n",
       "      <td>0.606832</td>\n",
       "      <td>1.000000</td>\n",
       "      <td>-0.314458</td>\n",
       "    </tr>\n",
       "    <tr>\n",
       "      <td>condition_code</td>\n",
       "      <td>0.299345</td>\n",
       "      <td>-0.309620</td>\n",
       "      <td>-0.314458</td>\n",
       "      <td>1.000000</td>\n",
       "    </tr>\n",
       "  </tbody>\n",
       "</table>\n",
       "</div>"
      ],
      "text/plain": [
       "                   price  vehicle_age  odometer  condition_code\n",
       "price           1.000000    -0.681614 -0.611743        0.299345\n",
       "vehicle_age    -0.681614     1.000000  0.606832       -0.309620\n",
       "odometer       -0.611743     0.606832  1.000000       -0.314458\n",
       "condition_code  0.299345    -0.309620 -0.314458        1.000000"
      ]
     },
     "execution_count": 57,
     "metadata": {},
     "output_type": "execute_result"
    }
   ],
   "source": [
    "#printing correlation matrix for sedan data\n",
    "suv_data.corr()"
   ]
  },
  {
   "cell_type": "markdown",
   "metadata": {},
   "source": [
    "The same as for sedans, vehicle_age and price factors highly influence the price of SUVs, but vehicle_age looks to impact the price higher as it has the highest absolute correlation. In addition, yellow vehicles have a bit higher average price. But unlike sedans, SUVs with manual transmission cost higher on average."
   ]
  },
  {
   "cell_type": "markdown",
   "metadata": {},
   "source": [
    "# General conclusion <a id='conclusion'></a>\n",
    "\n",
    "We have analyzed vehicles free advertisements data collected over the last few years and studied which factors influence the price of a vehicle.\n",
    "\n",
    "A large number of values was missing, so we had to address them. Based on the conducted research we deleted rows that had missing values in model_year, cylinders, and odometer columns. Paint_color column had too many missing values, therefore it was unsuitable to delete them and we replaced them with 'unknown' value. Missing values in the is_4wd column appeared to represent False values, so we replaced them with 0. Also, we have corrected the data type for model_year, cylinders, odometer, is_4wd and date_posted columns.\n",
    "\n",
    "To make the analysis easier we added columns that contain information about the vehicle's age when the ad was placed and the vehicle's average mileage per year. In addition, we replaced the categorical values in the condition column with a numeric scale.\n",
    "\n",
    "Then, we plotted histograms for core parameters (Price, vehicle's age when the ad was placed, Mileage, Number of cylinders, and Condition) of the data and observed that there were outliers that affected the form and readability of the histograms and reliability of the data. We filtered the data based on defined limits for outliers for the price, vehicle age, and mileage parameters, and value count for cylinders and conditions parameters.\n",
    "\n",
    "We analysed the cleaned dataset and found that:\n",
    "\n",
    "1. Typically an ad is listed between 19 and 33 days. \n",
    "2. Buses have the highest average price followed by trucks. \n",
    "3. SUVs and sedans are the most sellable types of vehicles.\n",
    "4. Vehicle age has the highest impact on the prices followed by mileage. In other words, newer vehicles with lower mileage cost more.\n",
    "5. While sedans with automatic transmissions cost more than manual ones, the trend is different for SUVs. SUVs with manual transmission cost higher on average."
   ]
  }
 ],
 "metadata": {
  "ExecuteTimeLog": [
   {
    "duration": 828,
    "start_time": "2021-11-16T09:21:11.304Z"
   },
   {
    "duration": 893,
    "start_time": "2021-11-16T09:21:17.728Z"
   },
   {
    "duration": 1150,
    "start_time": "2021-11-16T09:21:29.568Z"
   },
   {
    "duration": 3,
    "start_time": "2021-11-16T09:24:14.495Z"
   },
   {
    "duration": 120,
    "start_time": "2021-11-16T09:24:46.630Z"
   },
   {
    "duration": 3,
    "start_time": "2021-11-16T09:28:27.882Z"
   },
   {
    "duration": 4,
    "start_time": "2021-11-16T09:29:54.281Z"
   },
   {
    "duration": 3,
    "start_time": "2021-11-16T09:30:45.936Z"
   },
   {
    "duration": 4,
    "start_time": "2021-11-16T09:31:06.300Z"
   },
   {
    "duration": 113,
    "start_time": "2021-11-16T09:31:37.208Z"
   },
   {
    "duration": 143,
    "start_time": "2021-11-16T09:31:48.656Z"
   },
   {
    "duration": 98,
    "start_time": "2021-11-16T09:31:55.678Z"
   },
   {
    "duration": 3,
    "start_time": "2021-11-16T09:32:08.535Z"
   },
   {
    "duration": 111,
    "start_time": "2021-11-16T09:32:10.120Z"
   },
   {
    "duration": 3,
    "start_time": "2021-11-16T09:32:15.732Z"
   },
   {
    "duration": 4,
    "start_time": "2021-11-16T09:32:29.423Z"
   },
   {
    "duration": 3,
    "start_time": "2021-11-16T10:03:03.074Z"
   },
   {
    "duration": 3,
    "start_time": "2021-11-16T10:10:01.288Z"
   },
   {
    "duration": 3,
    "start_time": "2021-11-16T10:10:46.923Z"
   },
   {
    "duration": 121,
    "start_time": "2021-11-16T10:37:46.494Z"
   },
   {
    "duration": 125,
    "start_time": "2021-11-16T10:38:20.632Z"
   },
   {
    "duration": 112,
    "start_time": "2021-11-16T10:46:53.001Z"
   },
   {
    "duration": 110,
    "start_time": "2021-11-16T10:48:25.775Z"
   },
   {
    "duration": 3,
    "start_time": "2021-11-16T10:50:18.720Z"
   },
   {
    "duration": 4,
    "start_time": "2021-11-16T10:50:37.649Z"
   },
   {
    "duration": 2,
    "start_time": "2021-11-16T10:50:51.884Z"
   },
   {
    "duration": 3,
    "start_time": "2021-11-16T10:51:56.237Z"
   },
   {
    "duration": 101,
    "start_time": "2021-11-16T10:53:13.791Z"
   },
   {
    "duration": 3,
    "start_time": "2021-11-16T10:55:59.186Z"
   },
   {
    "duration": 3,
    "start_time": "2021-11-16T10:56:10.751Z"
   },
   {
    "duration": 3,
    "start_time": "2021-11-16T10:56:49.038Z"
   },
   {
    "duration": 3,
    "start_time": "2021-11-16T10:56:49.174Z"
   },
   {
    "duration": 4,
    "start_time": "2021-11-16T10:56:49.414Z"
   },
   {
    "duration": 3,
    "start_time": "2021-11-16T10:56:49.680Z"
   },
   {
    "duration": 3,
    "start_time": "2021-11-16T10:56:50.370Z"
   },
   {
    "duration": 114,
    "start_time": "2021-11-16T10:59:34.518Z"
   },
   {
    "duration": 3,
    "start_time": "2021-11-16T11:01:41.201Z"
   },
   {
    "duration": 116,
    "start_time": "2021-11-16T11:01:48.754Z"
   },
   {
    "duration": 3,
    "start_time": "2021-11-16T11:02:16.685Z"
   },
   {
    "duration": 3,
    "start_time": "2021-11-16T11:02:19.479Z"
   },
   {
    "duration": 3,
    "start_time": "2021-11-16T11:02:47.067Z"
   },
   {
    "duration": 3,
    "start_time": "2021-11-16T11:02:49.353Z"
   },
   {
    "duration": 3,
    "start_time": "2021-11-16T11:03:07.835Z"
   },
   {
    "duration": 3,
    "start_time": "2021-11-16T11:03:07.953Z"
   },
   {
    "duration": 112,
    "start_time": "2021-11-16T11:07:52.072Z"
   },
   {
    "duration": 187,
    "start_time": "2021-11-16T11:09:23.468Z"
   },
   {
    "duration": 4,
    "start_time": "2021-11-16T11:10:01.455Z"
   },
   {
    "duration": 3,
    "start_time": "2021-11-16T11:10:05.069Z"
   },
   {
    "duration": 4,
    "start_time": "2021-11-16T11:10:13.376Z"
   },
   {
    "duration": 3,
    "start_time": "2021-11-16T11:10:14.434Z"
   },
   {
    "duration": 3,
    "start_time": "2021-11-16T11:10:22.853Z"
   },
   {
    "duration": 4,
    "start_time": "2021-11-16T11:27:29.279Z"
   },
   {
    "duration": 4,
    "start_time": "2021-11-16T11:29:08.919Z"
   },
   {
    "duration": 118,
    "start_time": "2021-11-16T11:29:46.703Z"
   },
   {
    "duration": 437,
    "start_time": "2021-11-16T11:36:02.181Z"
   },
   {
    "duration": 157,
    "start_time": "2021-11-16T11:36:14.388Z"
   },
   {
    "duration": 207,
    "start_time": "2021-11-16T11:47:15.898Z"
   },
   {
    "duration": 3,
    "start_time": "2021-11-16T11:53:52.092Z"
   },
   {
    "duration": 3,
    "start_time": "2021-11-16T11:53:52.236Z"
   },
   {
    "duration": 3,
    "start_time": "2021-11-16T11:59:12.005Z"
   },
   {
    "duration": 112,
    "start_time": "2021-11-16T12:00:33.446Z"
   },
   {
    "duration": 3,
    "start_time": "2021-11-16T12:02:14.453Z"
   },
   {
    "duration": 3,
    "start_time": "2021-11-16T12:02:39.512Z"
   },
   {
    "duration": 106,
    "start_time": "2021-11-16T12:03:03.460Z"
   },
   {
    "duration": 555,
    "start_time": "2021-12-15T06:59:21.214Z"
   },
   {
    "duration": 87,
    "start_time": "2021-12-15T07:00:11.215Z"
   },
   {
    "duration": 20,
    "start_time": "2021-12-15T07:00:32.919Z"
   },
   {
    "duration": 22,
    "start_time": "2021-12-15T07:01:33.806Z"
   },
   {
    "duration": 9,
    "start_time": "2021-12-15T07:02:31.964Z"
   },
   {
    "duration": 9,
    "start_time": "2021-12-15T07:02:52.991Z"
   },
   {
    "duration": 9,
    "start_time": "2021-12-15T07:03:49.917Z"
   },
   {
    "duration": 9,
    "start_time": "2021-12-15T07:04:04.100Z"
   },
   {
    "duration": 36,
    "start_time": "2021-12-15T07:04:34.977Z"
   },
   {
    "duration": 636,
    "start_time": "2021-12-16T06:06:23.516Z"
   },
   {
    "duration": 88,
    "start_time": "2021-12-16T06:06:27.788Z"
   },
   {
    "duration": 21,
    "start_time": "2021-12-16T06:06:44.152Z"
   },
   {
    "duration": 20,
    "start_time": "2021-12-16T06:06:49.727Z"
   },
   {
    "duration": 24,
    "start_time": "2021-12-16T06:14:20.133Z"
   },
   {
    "duration": 25,
    "start_time": "2021-12-16T06:16:37.390Z"
   },
   {
    "duration": -635,
    "start_time": "2021-12-16T06:21:14.590Z"
   },
   {
    "duration": 110,
    "start_time": "2021-12-16T06:21:20.182Z"
   },
   {
    "duration": 120,
    "start_time": "2021-12-16T06:21:30.841Z"
   },
   {
    "duration": 108,
    "start_time": "2021-12-16T06:21:44.531Z"
   },
   {
    "duration": 116,
    "start_time": "2021-12-16T06:22:24.238Z"
   },
   {
    "duration": 25,
    "start_time": "2021-12-16T06:22:33.141Z"
   },
   {
    "duration": 438,
    "start_time": "2021-12-16T06:24:09.038Z"
   },
   {
    "duration": 27,
    "start_time": "2021-12-16T06:24:24.074Z"
   },
   {
    "duration": 524,
    "start_time": "2021-12-16T06:26:57.205Z"
   },
   {
    "duration": 882,
    "start_time": "2021-12-16T06:29:51.218Z"
   },
   {
    "duration": 1854,
    "start_time": "2021-12-16T06:30:22.408Z"
   },
   {
    "duration": 1785,
    "start_time": "2021-12-16T06:32:06.976Z"
   },
   {
    "duration": 1828,
    "start_time": "2021-12-16T06:34:00.649Z"
   },
   {
    "duration": 467,
    "start_time": "2021-12-16T06:35:39.487Z"
   },
   {
    "duration": 1911,
    "start_time": "2021-12-16T06:36:00.440Z"
   },
   {
    "duration": 1608,
    "start_time": "2021-12-16T06:36:44.986Z"
   },
   {
    "duration": 1806,
    "start_time": "2021-12-16T06:37:24.778Z"
   },
   {
    "duration": 1733,
    "start_time": "2021-12-16T06:38:15.804Z"
   },
   {
    "duration": 1839,
    "start_time": "2021-12-16T06:39:38.630Z"
   },
   {
    "duration": 1750,
    "start_time": "2021-12-16T06:40:06.409Z"
   },
   {
    "duration": 11,
    "start_time": "2021-12-16T06:40:39.432Z"
   },
   {
    "duration": 1823,
    "start_time": "2021-12-16T06:40:45.139Z"
   },
   {
    "duration": 1769,
    "start_time": "2021-12-16T06:40:55.578Z"
   },
   {
    "duration": 169,
    "start_time": "2021-12-16T06:43:37.725Z"
   },
   {
    "duration": 1547,
    "start_time": "2021-12-16T06:48:23.935Z"
   },
   {
    "duration": 378,
    "start_time": "2021-12-16T06:48:44.792Z"
   },
   {
    "duration": 1869,
    "start_time": "2021-12-16T06:49:10.203Z"
   },
   {
    "duration": 694,
    "start_time": "2021-12-16T06:50:19.595Z"
   },
   {
    "duration": 89,
    "start_time": "2021-12-16T06:50:20.291Z"
   },
   {
    "duration": 28,
    "start_time": "2021-12-16T06:50:20.382Z"
   },
   {
    "duration": 1784,
    "start_time": "2021-12-16T06:50:23.938Z"
   },
   {
    "duration": 1652,
    "start_time": "2021-12-16T06:50:48.738Z"
   },
   {
    "duration": 1760,
    "start_time": "2021-12-16T06:51:17.029Z"
   },
   {
    "duration": 16,
    "start_time": "2021-12-16T06:56:27.762Z"
   },
   {
    "duration": 996,
    "start_time": "2021-12-16T06:59:17.593Z"
   },
   {
    "duration": 32,
    "start_time": "2021-12-16T07:00:25.940Z"
   },
   {
    "duration": -465,
    "start_time": "2021-12-16T07:01:32.046Z"
   },
   {
    "duration": 6928,
    "start_time": "2021-12-16T07:01:41.403Z"
   },
   {
    "duration": 11,
    "start_time": "2021-12-16T07:03:24.825Z"
   },
   {
    "duration": 29,
    "start_time": "2021-12-16T07:03:30.099Z"
   },
   {
    "duration": 2742,
    "start_time": "2021-12-16T07:03:58.626Z"
   },
   {
    "duration": 25,
    "start_time": "2021-12-16T07:11:06.588Z"
   },
   {
    "duration": 27,
    "start_time": "2021-12-16T07:15:22.446Z"
   },
   {
    "duration": 17,
    "start_time": "2021-12-16T07:17:03.412Z"
   },
   {
    "duration": 28,
    "start_time": "2021-12-16T07:18:29.622Z"
   },
   {
    "duration": 25,
    "start_time": "2021-12-16T07:20:21.533Z"
   },
   {
    "duration": 29,
    "start_time": "2021-12-16T07:25:28.671Z"
   },
   {
    "duration": 23,
    "start_time": "2021-12-16T07:25:39.202Z"
   },
   {
    "duration": 12,
    "start_time": "2021-12-16T07:26:09.310Z"
   },
   {
    "duration": 23,
    "start_time": "2021-12-16T07:26:12.089Z"
   },
   {
    "duration": 26,
    "start_time": "2021-12-16T07:28:23.109Z"
   },
   {
    "duration": 354,
    "start_time": "2021-12-16T07:29:22.188Z"
   },
   {
    "duration": 25,
    "start_time": "2021-12-16T07:29:32.198Z"
   },
   {
    "duration": 141,
    "start_time": "2021-12-16T07:30:16.284Z"
   },
   {
    "duration": 373,
    "start_time": "2021-12-16T07:30:26.368Z"
   },
   {
    "duration": 9,
    "start_time": "2021-12-16T07:30:38.723Z"
   },
   {
    "duration": 9,
    "start_time": "2021-12-16T07:30:50.727Z"
   },
   {
    "duration": 17,
    "start_time": "2021-12-16T07:31:46.565Z"
   },
   {
    "duration": 7,
    "start_time": "2021-12-16T07:32:55.471Z"
   },
   {
    "duration": 16,
    "start_time": "2021-12-16T07:36:57.249Z"
   },
   {
    "duration": 44,
    "start_time": "2021-12-16T07:38:19.855Z"
   },
   {
    "duration": 23,
    "start_time": "2021-12-16T07:38:56.549Z"
   },
   {
    "duration": 11,
    "start_time": "2021-12-16T07:42:16.659Z"
   },
   {
    "duration": 24,
    "start_time": "2021-12-16T07:42:19.457Z"
   },
   {
    "duration": 2,
    "start_time": "2021-12-16T07:43:18.566Z"
   },
   {
    "duration": 16,
    "start_time": "2021-12-16T07:43:59.847Z"
   },
   {
    "duration": 10,
    "start_time": "2021-12-16T07:48:39.030Z"
   },
   {
    "duration": 23,
    "start_time": "2021-12-16T07:48:42.953Z"
   },
   {
    "duration": 2,
    "start_time": "2021-12-16T07:49:10.237Z"
   },
   {
    "duration": 28,
    "start_time": "2021-12-16T07:53:39.331Z"
   },
   {
    "duration": 8,
    "start_time": "2021-12-16T07:53:46.860Z"
   },
   {
    "duration": 22,
    "start_time": "2021-12-16T07:53:49.740Z"
   },
   {
    "duration": 5,
    "start_time": "2021-12-16T07:56:54.845Z"
   },
   {
    "duration": 7,
    "start_time": "2021-12-16T07:58:28.403Z"
   },
   {
    "duration": 4,
    "start_time": "2021-12-16T07:58:42.805Z"
   },
   {
    "duration": 26,
    "start_time": "2021-12-16T07:58:46.011Z"
   },
   {
    "duration": 5,
    "start_time": "2021-12-16T07:59:13.118Z"
   },
   {
    "duration": 378,
    "start_time": "2021-12-16T07:59:24.098Z"
   },
   {
    "duration": 6,
    "start_time": "2021-12-16T07:59:53.505Z"
   },
   {
    "duration": 15,
    "start_time": "2021-12-16T08:00:17.176Z"
   },
   {
    "duration": 17,
    "start_time": "2021-12-16T08:00:36.939Z"
   },
   {
    "duration": 756,
    "start_time": "2021-12-17T05:45:58.087Z"
   },
   {
    "duration": 576,
    "start_time": "2021-12-17T05:45:58.846Z"
   },
   {
    "duration": 26,
    "start_time": "2021-12-17T05:45:59.425Z"
   },
   {
    "duration": 36,
    "start_time": "2021-12-17T05:45:59.453Z"
   },
   {
    "duration": 35,
    "start_time": "2021-12-17T05:45:59.491Z"
   },
   {
    "duration": 35,
    "start_time": "2021-12-17T05:45:59.528Z"
   },
   {
    "duration": 36,
    "start_time": "2021-12-17T05:45:59.565Z"
   },
   {
    "duration": 54,
    "start_time": "2021-12-17T05:45:59.605Z"
   },
   {
    "duration": 35,
    "start_time": "2021-12-17T05:45:59.662Z"
   },
   {
    "duration": 14,
    "start_time": "2021-12-17T05:45:59.699Z"
   },
   {
    "duration": 63,
    "start_time": "2021-12-17T05:45:59.715Z"
   },
   {
    "duration": 24,
    "start_time": "2021-12-17T05:45:59.781Z"
   },
   {
    "duration": 15,
    "start_time": "2021-12-17T05:45:59.807Z"
   },
   {
    "duration": 64,
    "start_time": "2021-12-17T05:45:59.824Z"
   },
   {
    "duration": 12,
    "start_time": "2021-12-17T05:45:59.890Z"
   },
   {
    "duration": 60,
    "start_time": "2021-12-17T05:45:59.905Z"
   },
   {
    "duration": 8,
    "start_time": "2021-12-17T05:45:59.968Z"
   },
   {
    "duration": 6,
    "start_time": "2021-12-17T05:45:59.979Z"
   },
   {
    "duration": 17,
    "start_time": "2021-12-17T05:45:59.988Z"
   },
   {
    "duration": 54,
    "start_time": "2021-12-17T05:46:00.008Z"
   },
   {
    "duration": 20,
    "start_time": "2021-12-17T05:46:09.673Z"
   },
   {
    "duration": 6,
    "start_time": "2021-12-17T05:46:24.495Z"
   },
   {
    "duration": 34,
    "start_time": "2021-12-17T05:48:48.517Z"
   },
   {
    "duration": 6,
    "start_time": "2021-12-17T05:49:23.386Z"
   },
   {
    "duration": 9,
    "start_time": "2021-12-17T05:50:36.618Z"
   },
   {
    "duration": 20,
    "start_time": "2021-12-17T05:50:42.451Z"
   },
   {
    "duration": 24,
    "start_time": "2021-12-17T05:51:00.838Z"
   },
   {
    "duration": 19,
    "start_time": "2021-12-17T05:53:40.705Z"
   },
   {
    "duration": 20,
    "start_time": "2021-12-17T05:53:42.586Z"
   },
   {
    "duration": 32,
    "start_time": "2021-12-17T05:53:49.868Z"
   },
   {
    "duration": 620,
    "start_time": "2021-12-17T05:55:34.269Z"
   },
   {
    "duration": 400,
    "start_time": "2021-12-17T05:55:38.444Z"
   },
   {
    "duration": 13,
    "start_time": "2021-12-17T05:55:46.286Z"
   },
   {
    "duration": 517,
    "start_time": "2021-12-18T06:23:49.256Z"
   },
   {
    "duration": 129,
    "start_time": "2021-12-18T06:23:49.775Z"
   },
   {
    "duration": 20,
    "start_time": "2021-12-18T06:23:49.907Z"
   },
   {
    "duration": 21,
    "start_time": "2021-12-18T06:23:49.929Z"
   },
   {
    "duration": 22,
    "start_time": "2021-12-18T06:23:49.952Z"
   },
   {
    "duration": 23,
    "start_time": "2021-12-18T06:23:49.976Z"
   },
   {
    "duration": 22,
    "start_time": "2021-12-18T06:23:50.000Z"
   },
   {
    "duration": 17,
    "start_time": "2021-12-18T06:23:50.024Z"
   },
   {
    "duration": 49,
    "start_time": "2021-12-18T06:23:50.043Z"
   },
   {
    "duration": 9,
    "start_time": "2021-12-18T06:23:50.094Z"
   },
   {
    "duration": 20,
    "start_time": "2021-12-18T06:23:50.104Z"
   },
   {
    "duration": 15,
    "start_time": "2021-12-18T06:23:50.126Z"
   },
   {
    "duration": 9,
    "start_time": "2021-12-18T06:23:50.142Z"
   },
   {
    "duration": 48,
    "start_time": "2021-12-18T06:23:50.153Z"
   },
   {
    "duration": 6,
    "start_time": "2021-12-18T06:23:50.203Z"
   },
   {
    "duration": 22,
    "start_time": "2021-12-18T06:23:50.210Z"
   },
   {
    "duration": 3,
    "start_time": "2021-12-18T06:23:50.234Z"
   },
   {
    "duration": 4,
    "start_time": "2021-12-18T06:23:50.239Z"
   },
   {
    "duration": 7,
    "start_time": "2021-12-18T06:23:50.244Z"
   },
   {
    "duration": 42,
    "start_time": "2021-12-18T06:23:50.252Z"
   },
   {
    "duration": 3,
    "start_time": "2021-12-18T06:23:50.296Z"
   },
   {
    "duration": 22,
    "start_time": "2021-12-18T06:23:50.301Z"
   },
   {
    "duration": 14,
    "start_time": "2021-12-18T06:23:50.326Z"
   },
   {
    "duration": 14,
    "start_time": "2021-12-18T06:23:50.342Z"
   },
   {
    "duration": 47,
    "start_time": "2021-12-18T06:23:50.358Z"
   },
   {
    "duration": 8,
    "start_time": "2021-12-18T06:23:50.407Z"
   },
   {
    "duration": 2,
    "start_time": "2021-12-18T06:23:50.417Z"
   },
   {
    "duration": 9,
    "start_time": "2021-12-18T06:23:55.410Z"
   },
   {
    "duration": 229,
    "start_time": "2021-12-18T06:25:39.173Z"
   },
   {
    "duration": 23,
    "start_time": "2021-12-18T06:26:14.175Z"
   },
   {
    "duration": 27,
    "start_time": "2021-12-18T06:26:53.855Z"
   },
   {
    "duration": 34,
    "start_time": "2021-12-18T06:28:19.040Z"
   },
   {
    "duration": 24,
    "start_time": "2021-12-18T06:31:49.036Z"
   },
   {
    "duration": 72,
    "start_time": "2021-12-18T06:33:30.193Z"
   },
   {
    "duration": 82,
    "start_time": "2021-12-18T06:33:36.857Z"
   },
   {
    "duration": 19,
    "start_time": "2021-12-18T06:33:42.540Z"
   },
   {
    "duration": 197,
    "start_time": "2021-12-18T06:36:15.380Z"
   },
   {
    "duration": 167,
    "start_time": "2021-12-18T06:36:27.241Z"
   },
   {
    "duration": 25,
    "start_time": "2021-12-18T06:37:03.555Z"
   },
   {
    "duration": 13,
    "start_time": "2021-12-18T06:37:56.277Z"
   },
   {
    "duration": 58,
    "start_time": "2021-12-18T06:41:00.525Z"
   },
   {
    "duration": 24,
    "start_time": "2021-12-18T06:41:04.293Z"
   },
   {
    "duration": 573,
    "start_time": "2021-12-18T06:43:21.981Z"
   },
   {
    "duration": 84,
    "start_time": "2021-12-18T06:43:22.555Z"
   },
   {
    "duration": 20,
    "start_time": "2021-12-18T06:43:22.641Z"
   },
   {
    "duration": 28,
    "start_time": "2021-12-18T06:43:22.664Z"
   },
   {
    "duration": 23,
    "start_time": "2021-12-18T06:43:22.694Z"
   },
   {
    "duration": 9,
    "start_time": "2021-12-18T06:43:22.719Z"
   },
   {
    "duration": 20,
    "start_time": "2021-12-18T06:43:22.730Z"
   },
   {
    "duration": 44,
    "start_time": "2021-12-18T06:43:22.751Z"
   },
   {
    "duration": 23,
    "start_time": "2021-12-18T06:43:22.796Z"
   },
   {
    "duration": 9,
    "start_time": "2021-12-18T06:43:22.820Z"
   },
   {
    "duration": 20,
    "start_time": "2021-12-18T06:43:22.830Z"
   },
   {
    "duration": 16,
    "start_time": "2021-12-18T06:43:26.109Z"
   },
   {
    "duration": 233,
    "start_time": "2021-12-18T06:45:32.326Z"
   },
   {
    "duration": 37,
    "start_time": "2021-12-18T06:46:17.372Z"
   },
   {
    "duration": 16,
    "start_time": "2021-12-18T06:46:58.029Z"
   },
   {
    "duration": 584,
    "start_time": "2021-12-18T06:47:36.271Z"
   },
   {
    "duration": 84,
    "start_time": "2021-12-18T06:47:36.857Z"
   },
   {
    "duration": 19,
    "start_time": "2021-12-18T06:47:36.943Z"
   },
   {
    "duration": 28,
    "start_time": "2021-12-18T06:47:36.964Z"
   },
   {
    "duration": 23,
    "start_time": "2021-12-18T06:47:36.993Z"
   },
   {
    "duration": 10,
    "start_time": "2021-12-18T06:47:37.017Z"
   },
   {
    "duration": 21,
    "start_time": "2021-12-18T06:47:37.028Z"
   },
   {
    "duration": 43,
    "start_time": "2021-12-18T06:47:37.051Z"
   },
   {
    "duration": 23,
    "start_time": "2021-12-18T06:47:37.096Z"
   },
   {
    "duration": 9,
    "start_time": "2021-12-18T06:47:37.120Z"
   },
   {
    "duration": 20,
    "start_time": "2021-12-18T06:47:37.131Z"
   },
   {
    "duration": 45,
    "start_time": "2021-12-18T06:47:37.152Z"
   },
   {
    "duration": 10,
    "start_time": "2021-12-18T06:47:37.199Z"
   },
   {
    "duration": 22,
    "start_time": "2021-12-18T06:47:37.211Z"
   },
   {
    "duration": 8,
    "start_time": "2021-12-18T06:47:37.235Z"
   },
   {
    "duration": 50,
    "start_time": "2021-12-18T06:47:37.246Z"
   },
   {
    "duration": 6,
    "start_time": "2021-12-18T06:47:37.298Z"
   },
   {
    "duration": 5,
    "start_time": "2021-12-18T06:47:37.305Z"
   },
   {
    "duration": 8,
    "start_time": "2021-12-18T06:47:37.311Z"
   },
   {
    "duration": 15,
    "start_time": "2021-12-18T06:47:37.320Z"
   },
   {
    "duration": 4,
    "start_time": "2021-12-18T06:47:37.336Z"
   },
   {
    "duration": 55,
    "start_time": "2021-12-18T06:47:37.342Z"
   },
   {
    "duration": 14,
    "start_time": "2021-12-18T06:47:37.400Z"
   },
   {
    "duration": 13,
    "start_time": "2021-12-18T06:47:37.416Z"
   },
   {
    "duration": 18,
    "start_time": "2021-12-18T06:47:37.431Z"
   },
   {
    "duration": 9,
    "start_time": "2021-12-18T06:47:37.450Z"
   },
   {
    "duration": 2,
    "start_time": "2021-12-18T06:47:37.460Z"
   },
   {
    "duration": 8,
    "start_time": "2021-12-18T06:47:45.004Z"
   },
   {
    "duration": 25,
    "start_time": "2021-12-18T06:49:05.296Z"
   },
   {
    "duration": 2,
    "start_time": "2021-12-18T06:49:15.763Z"
   },
   {
    "duration": 26,
    "start_time": "2021-12-18T06:49:24.419Z"
   },
   {
    "duration": 20,
    "start_time": "2021-12-18T06:50:58.883Z"
   },
   {
    "duration": 20,
    "start_time": "2021-12-18T07:01:52.972Z"
   },
   {
    "duration": 4,
    "start_time": "2021-12-18T07:04:53.707Z"
   },
   {
    "duration": 10,
    "start_time": "2021-12-18T07:07:27.313Z"
   },
   {
    "duration": 512,
    "start_time": "2021-12-18T07:07:50.335Z"
   },
   {
    "duration": 82,
    "start_time": "2021-12-18T07:07:50.849Z"
   },
   {
    "duration": 18,
    "start_time": "2021-12-18T07:07:50.933Z"
   },
   {
    "duration": 20,
    "start_time": "2021-12-18T07:07:50.953Z"
   },
   {
    "duration": 38,
    "start_time": "2021-12-18T07:07:50.975Z"
   },
   {
    "duration": 10,
    "start_time": "2021-12-18T07:07:51.014Z"
   },
   {
    "duration": 22,
    "start_time": "2021-12-18T07:07:51.026Z"
   },
   {
    "duration": 41,
    "start_time": "2021-12-18T07:07:51.050Z"
   },
   {
    "duration": 23,
    "start_time": "2021-12-18T07:07:51.094Z"
   },
   {
    "duration": 8,
    "start_time": "2021-12-18T07:07:51.119Z"
   },
   {
    "duration": 22,
    "start_time": "2021-12-18T07:07:51.129Z"
   },
   {
    "duration": 44,
    "start_time": "2021-12-18T07:07:51.153Z"
   },
   {
    "duration": 9,
    "start_time": "2021-12-18T07:07:51.199Z"
   },
   {
    "duration": 21,
    "start_time": "2021-12-18T07:07:51.210Z"
   },
   {
    "duration": 6,
    "start_time": "2021-12-18T07:07:51.232Z"
   },
   {
    "duration": 23,
    "start_time": "2021-12-18T07:07:51.240Z"
   },
   {
    "duration": 29,
    "start_time": "2021-12-18T07:07:51.264Z"
   },
   {
    "duration": 3,
    "start_time": "2021-12-18T07:07:51.295Z"
   },
   {
    "duration": 10,
    "start_time": "2021-12-18T07:07:51.300Z"
   },
   {
    "duration": 14,
    "start_time": "2021-12-18T07:07:51.311Z"
   },
   {
    "duration": 3,
    "start_time": "2021-12-18T07:07:51.326Z"
   },
   {
    "duration": 22,
    "start_time": "2021-12-18T07:07:51.331Z"
   },
   {
    "duration": 47,
    "start_time": "2021-12-18T07:07:51.356Z"
   },
   {
    "duration": 14,
    "start_time": "2021-12-18T07:07:51.404Z"
   },
   {
    "duration": 18,
    "start_time": "2021-12-18T07:07:51.420Z"
   },
   {
    "duration": 9,
    "start_time": "2021-12-18T07:07:51.439Z"
   },
   {
    "duration": 2,
    "start_time": "2021-12-18T07:07:51.450Z"
   },
   {
    "duration": 44,
    "start_time": "2021-12-18T07:07:51.453Z"
   },
   {
    "duration": 10,
    "start_time": "2021-12-18T07:07:56.047Z"
   },
   {
    "duration": 20,
    "start_time": "2021-12-18T07:08:13.971Z"
   },
   {
    "duration": 15,
    "start_time": "2021-12-18T07:08:34.041Z"
   },
   {
    "duration": 12,
    "start_time": "2021-12-18T07:09:25.247Z"
   },
   {
    "duration": 8,
    "start_time": "2021-12-18T07:09:40.280Z"
   },
   {
    "duration": 14,
    "start_time": "2021-12-18T07:09:51.859Z"
   },
   {
    "duration": 9,
    "start_time": "2021-12-18T07:10:01.773Z"
   },
   {
    "duration": 14,
    "start_time": "2021-12-18T07:10:17.481Z"
   },
   {
    "duration": 5,
    "start_time": "2021-12-18T07:12:37.044Z"
   },
   {
    "duration": 7,
    "start_time": "2021-12-18T07:30:14.004Z"
   },
   {
    "duration": 37,
    "start_time": "2021-12-18T07:31:42.177Z"
   },
   {
    "duration": 145,
    "start_time": "2021-12-18T07:32:51.988Z"
   },
   {
    "duration": 4410,
    "start_time": "2021-12-18T07:33:19.286Z"
   },
   {
    "duration": 34,
    "start_time": "2021-12-18T07:33:43.155Z"
   },
   {
    "duration": 5,
    "start_time": "2021-12-18T07:34:27.855Z"
   },
   {
    "duration": 4,
    "start_time": "2021-12-18T07:34:57.690Z"
   },
   {
    "duration": 30,
    "start_time": "2021-12-18T07:35:38.587Z"
   },
   {
    "duration": 14,
    "start_time": "2021-12-18T07:35:50.794Z"
   },
   {
    "duration": 15,
    "start_time": "2021-12-18T07:36:18.341Z"
   },
   {
    "duration": 566,
    "start_time": "2021-12-18T07:36:44.279Z"
   },
   {
    "duration": 81,
    "start_time": "2021-12-18T07:36:44.847Z"
   },
   {
    "duration": 19,
    "start_time": "2021-12-18T07:36:44.931Z"
   },
   {
    "duration": 21,
    "start_time": "2021-12-18T07:36:44.952Z"
   },
   {
    "duration": 42,
    "start_time": "2021-12-18T07:36:44.974Z"
   },
   {
    "duration": 10,
    "start_time": "2021-12-18T07:36:45.018Z"
   },
   {
    "duration": 23,
    "start_time": "2021-12-18T07:36:45.030Z"
   },
   {
    "duration": 40,
    "start_time": "2021-12-18T07:36:45.055Z"
   },
   {
    "duration": 23,
    "start_time": "2021-12-18T07:36:45.097Z"
   },
   {
    "duration": 9,
    "start_time": "2021-12-18T07:36:45.122Z"
   },
   {
    "duration": 21,
    "start_time": "2021-12-18T07:36:45.132Z"
   },
   {
    "duration": 45,
    "start_time": "2021-12-18T07:36:45.155Z"
   },
   {
    "duration": 9,
    "start_time": "2021-12-18T07:36:45.201Z"
   },
   {
    "duration": 20,
    "start_time": "2021-12-18T07:36:45.212Z"
   },
   {
    "duration": 5,
    "start_time": "2021-12-18T07:36:45.233Z"
   },
   {
    "duration": 21,
    "start_time": "2021-12-18T07:36:45.240Z"
   },
   {
    "duration": 4,
    "start_time": "2021-12-18T07:36:45.262Z"
   },
   {
    "duration": 3,
    "start_time": "2021-12-18T07:36:45.292Z"
   },
   {
    "duration": 7,
    "start_time": "2021-12-18T07:36:45.296Z"
   },
   {
    "duration": 13,
    "start_time": "2021-12-18T07:36:45.305Z"
   },
   {
    "duration": 3,
    "start_time": "2021-12-18T07:36:45.320Z"
   },
   {
    "duration": 24,
    "start_time": "2021-12-18T07:36:45.325Z"
   },
   {
    "duration": 46,
    "start_time": "2021-12-18T07:36:45.351Z"
   },
   {
    "duration": 13,
    "start_time": "2021-12-18T07:36:45.399Z"
   },
   {
    "duration": 15,
    "start_time": "2021-12-18T07:36:45.414Z"
   },
   {
    "duration": 7,
    "start_time": "2021-12-18T07:36:45.431Z"
   },
   {
    "duration": 2,
    "start_time": "2021-12-18T07:36:45.439Z"
   },
   {
    "duration": 10,
    "start_time": "2021-12-18T07:36:45.442Z"
   },
   {
    "duration": 37,
    "start_time": "2021-12-18T07:36:45.454Z"
   },
   {
    "duration": 9,
    "start_time": "2021-12-18T07:36:45.493Z"
   },
   {
    "duration": 13,
    "start_time": "2021-12-18T07:36:45.503Z"
   },
   {
    "duration": 30,
    "start_time": "2021-12-18T07:36:45.517Z"
   },
   {
    "duration": 11,
    "start_time": "2021-12-18T07:36:45.548Z"
   },
   {
    "duration": 13,
    "start_time": "2021-12-18T07:36:51.684Z"
   },
   {
    "duration": 7,
    "start_time": "2021-12-18T07:41:14.686Z"
   },
   {
    "duration": 13,
    "start_time": "2021-12-18T07:41:27.992Z"
   },
   {
    "duration": 740,
    "start_time": "2021-12-21T01:31:05.023Z"
   },
   {
    "duration": 515,
    "start_time": "2021-12-21T01:31:05.766Z"
   },
   {
    "duration": 27,
    "start_time": "2021-12-21T01:31:06.284Z"
   },
   {
    "duration": 39,
    "start_time": "2021-12-21T01:31:06.314Z"
   },
   {
    "duration": 35,
    "start_time": "2021-12-21T01:31:06.355Z"
   },
   {
    "duration": 40,
    "start_time": "2021-12-21T01:31:06.392Z"
   },
   {
    "duration": 34,
    "start_time": "2021-12-21T01:31:06.434Z"
   },
   {
    "duration": 53,
    "start_time": "2021-12-21T01:31:06.470Z"
   },
   {
    "duration": 35,
    "start_time": "2021-12-21T01:31:06.527Z"
   },
   {
    "duration": 13,
    "start_time": "2021-12-21T01:31:06.565Z"
   },
   {
    "duration": 57,
    "start_time": "2021-12-21T01:31:06.580Z"
   },
   {
    "duration": 27,
    "start_time": "2021-12-21T01:31:06.639Z"
   },
   {
    "duration": 14,
    "start_time": "2021-12-21T01:31:06.669Z"
   },
   {
    "duration": 64,
    "start_time": "2021-12-21T01:31:06.685Z"
   },
   {
    "duration": 9,
    "start_time": "2021-12-21T01:31:06.752Z"
   },
   {
    "duration": 37,
    "start_time": "2021-12-21T01:31:06.763Z"
   },
   {
    "duration": 6,
    "start_time": "2021-12-21T01:31:06.824Z"
   },
   {
    "duration": 5,
    "start_time": "2021-12-21T01:31:06.832Z"
   },
   {
    "duration": 10,
    "start_time": "2021-12-21T01:31:06.840Z"
   },
   {
    "duration": 18,
    "start_time": "2021-12-21T01:31:06.853Z"
   },
   {
    "duration": 6,
    "start_time": "2021-12-21T01:31:06.873Z"
   },
   {
    "duration": 33,
    "start_time": "2021-12-21T01:31:06.923Z"
   },
   {
    "duration": 21,
    "start_time": "2021-12-21T01:31:06.959Z"
   },
   {
    "duration": 54,
    "start_time": "2021-12-21T01:31:06.982Z"
   },
   {
    "duration": 32,
    "start_time": "2021-12-21T01:31:07.039Z"
   },
   {
    "duration": 14,
    "start_time": "2021-12-21T01:31:07.074Z"
   },
   {
    "duration": 3,
    "start_time": "2021-12-21T01:31:07.126Z"
   },
   {
    "duration": 18,
    "start_time": "2021-12-21T01:31:07.132Z"
   },
   {
    "duration": 20,
    "start_time": "2021-12-21T01:31:07.153Z"
   },
   {
    "duration": 52,
    "start_time": "2021-12-21T01:31:07.176Z"
   },
   {
    "duration": 22,
    "start_time": "2021-12-21T01:31:07.230Z"
   },
   {
    "duration": 77,
    "start_time": "2021-12-21T01:31:07.255Z"
   },
   {
    "duration": 19,
    "start_time": "2021-12-21T01:31:07.335Z"
   },
   {
    "duration": 23,
    "start_time": "2021-12-21T01:31:07.357Z"
   },
   {
    "duration": 504,
    "start_time": "2021-12-21T01:32:39.957Z"
   },
   {
    "duration": 374,
    "start_time": "2021-12-21T01:34:14.049Z"
   },
   {
    "duration": 4,
    "start_time": "2021-12-21T01:36:25.128Z"
   },
   {
    "duration": 368,
    "start_time": "2021-12-21T01:39:04.825Z"
   },
   {
    "duration": 405,
    "start_time": "2021-12-21T01:39:19.604Z"
   },
   {
    "duration": 255,
    "start_time": "2021-12-21T01:40:09.174Z"
   },
   {
    "duration": 495,
    "start_time": "2021-12-21T01:40:59.102Z"
   },
   {
    "duration": 3,
    "start_time": "2021-12-21T01:43:20.537Z"
   },
   {
    "duration": 224,
    "start_time": "2021-12-21T01:43:52.002Z"
   },
   {
    "duration": 380,
    "start_time": "2021-12-21T01:46:25.375Z"
   },
   {
    "duration": 375,
    "start_time": "2021-12-21T01:47:05.181Z"
   },
   {
    "duration": 207,
    "start_time": "2021-12-21T01:48:23.876Z"
   },
   {
    "duration": 372,
    "start_time": "2021-12-21T01:50:14.409Z"
   },
   {
    "duration": 412,
    "start_time": "2021-12-21T01:51:00.292Z"
   },
   {
    "duration": 223,
    "start_time": "2021-12-21T01:51:42.977Z"
   },
   {
    "duration": 277,
    "start_time": "2021-12-21T01:53:49.196Z"
   },
   {
    "duration": 352,
    "start_time": "2021-12-21T01:54:28.116Z"
   },
   {
    "duration": 275,
    "start_time": "2021-12-21T01:57:44.731Z"
   },
   {
    "duration": 12,
    "start_time": "2021-12-21T02:09:00.413Z"
   },
   {
    "duration": 33,
    "start_time": "2021-12-21T02:09:07.683Z"
   },
   {
    "duration": 32,
    "start_time": "2021-12-21T02:09:25.656Z"
   },
   {
    "duration": 9,
    "start_time": "2021-12-21T02:15:22.633Z"
   },
   {
    "duration": 9,
    "start_time": "2021-12-21T02:15:40.340Z"
   },
   {
    "duration": 1174,
    "start_time": "2021-12-21T05:26:14.575Z"
   },
   {
    "duration": 113,
    "start_time": "2021-12-21T05:26:15.751Z"
   },
   {
    "duration": 27,
    "start_time": "2021-12-21T05:26:15.866Z"
   },
   {
    "duration": 43,
    "start_time": "2021-12-21T05:26:15.895Z"
   },
   {
    "duration": 41,
    "start_time": "2021-12-21T05:26:15.941Z"
   },
   {
    "duration": 42,
    "start_time": "2021-12-21T05:26:15.985Z"
   },
   {
    "duration": 35,
    "start_time": "2021-12-21T05:26:16.029Z"
   },
   {
    "duration": 41,
    "start_time": "2021-12-21T05:26:16.068Z"
   },
   {
    "duration": 44,
    "start_time": "2021-12-21T05:26:16.112Z"
   },
   {
    "duration": 14,
    "start_time": "2021-12-21T05:26:16.158Z"
   },
   {
    "duration": 55,
    "start_time": "2021-12-21T05:26:16.174Z"
   },
   {
    "duration": 23,
    "start_time": "2021-12-21T05:26:16.232Z"
   },
   {
    "duration": 13,
    "start_time": "2021-12-21T05:26:16.257Z"
   },
   {
    "duration": 62,
    "start_time": "2021-12-21T05:26:16.272Z"
   },
   {
    "duration": 23,
    "start_time": "2021-12-21T05:26:16.337Z"
   },
   {
    "duration": 41,
    "start_time": "2021-12-21T05:26:16.362Z"
   },
   {
    "duration": 10,
    "start_time": "2021-12-21T05:26:16.405Z"
   },
   {
    "duration": 9,
    "start_time": "2021-12-21T05:26:16.417Z"
   },
   {
    "duration": 13,
    "start_time": "2021-12-21T05:26:16.429Z"
   },
   {
    "duration": 24,
    "start_time": "2021-12-21T05:26:16.444Z"
   },
   {
    "duration": 11,
    "start_time": "2021-12-21T05:26:16.470Z"
   },
   {
    "duration": 54,
    "start_time": "2021-12-21T05:26:16.484Z"
   },
   {
    "duration": 18,
    "start_time": "2021-12-21T05:26:16.543Z"
   },
   {
    "duration": 20,
    "start_time": "2021-12-21T05:26:16.564Z"
   },
   {
    "duration": 55,
    "start_time": "2021-12-21T05:26:16.586Z"
   },
   {
    "duration": 30,
    "start_time": "2021-12-21T05:26:16.643Z"
   },
   {
    "duration": 10,
    "start_time": "2021-12-21T05:26:16.675Z"
   },
   {
    "duration": 25,
    "start_time": "2021-12-21T05:26:16.687Z"
   },
   {
    "duration": 21,
    "start_time": "2021-12-21T05:26:16.714Z"
   },
   {
    "duration": 36,
    "start_time": "2021-12-21T05:26:16.737Z"
   },
   {
    "duration": 22,
    "start_time": "2021-12-21T05:26:16.775Z"
   },
   {
    "duration": 69,
    "start_time": "2021-12-21T05:26:16.799Z"
   },
   {
    "duration": 15,
    "start_time": "2021-12-21T05:26:16.871Z"
   },
   {
    "duration": 46,
    "start_time": "2021-12-21T05:26:16.889Z"
   },
   {
    "duration": 481,
    "start_time": "2021-12-21T05:26:16.938Z"
   },
   {
    "duration": 415,
    "start_time": "2021-12-21T05:26:17.424Z"
   },
   {
    "duration": 236,
    "start_time": "2021-12-21T05:26:17.842Z"
   },
   {
    "duration": 436,
    "start_time": "2021-12-21T05:26:18.080Z"
   },
   {
    "duration": 400,
    "start_time": "2021-12-21T05:26:18.519Z"
   },
   {
    "duration": 229,
    "start_time": "2021-12-21T05:26:18.924Z"
   },
   {
    "duration": 394,
    "start_time": "2021-12-21T05:26:19.156Z"
   },
   {
    "duration": 448,
    "start_time": "2021-12-21T05:26:19.552Z"
   },
   {
    "duration": 237,
    "start_time": "2021-12-21T05:26:20.003Z"
   },
   {
    "duration": 293,
    "start_time": "2021-12-21T05:26:20.242Z"
   },
   {
    "duration": 292,
    "start_time": "2021-12-21T05:26:20.537Z"
   },
   {
    "duration": 3,
    "start_time": "2021-12-21T05:26:20.832Z"
   },
   {
    "duration": 16,
    "start_time": "2021-12-21T05:26:20.837Z"
   },
   {
    "duration": 10,
    "start_time": "2021-12-21T05:26:20.855Z"
   },
   {
    "duration": 9,
    "start_time": "2021-12-21T05:26:24.166Z"
   },
   {
    "duration": 10,
    "start_time": "2021-12-21T05:26:29.535Z"
   },
   {
    "duration": 10,
    "start_time": "2021-12-21T05:27:11.902Z"
   },
   {
    "duration": 405,
    "start_time": "2021-12-21T05:29:20.166Z"
   },
   {
    "duration": 400,
    "start_time": "2021-12-21T05:29:32.191Z"
   },
   {
    "duration": 471,
    "start_time": "2021-12-21T05:30:44.888Z"
   },
   {
    "duration": 367,
    "start_time": "2021-12-21T05:31:16.049Z"
   },
   {
    "duration": 11,
    "start_time": "2021-12-21T05:41:23.415Z"
   },
   {
    "duration": 5,
    "start_time": "2021-12-21T05:44:00.466Z"
   },
   {
    "duration": 104,
    "start_time": "2021-12-21T05:44:27.800Z"
   },
   {
    "duration": 15,
    "start_time": "2021-12-21T05:45:18.631Z"
   },
   {
    "duration": 13,
    "start_time": "2021-12-21T05:51:08.682Z"
   },
   {
    "duration": 14,
    "start_time": "2021-12-21T05:51:14.721Z"
   },
   {
    "duration": 4,
    "start_time": "2021-12-21T05:51:52.534Z"
   },
   {
    "duration": 360,
    "start_time": "2021-12-21T05:58:49.942Z"
   },
   {
    "duration": 15,
    "start_time": "2021-12-21T06:01:20.864Z"
   },
   {
    "duration": 15,
    "start_time": "2021-12-21T06:01:29.352Z"
   },
   {
    "duration": 30,
    "start_time": "2021-12-21T06:01:42.244Z"
   },
   {
    "duration": 13,
    "start_time": "2021-12-21T06:03:53.264Z"
   },
   {
    "duration": 31,
    "start_time": "2021-12-21T06:03:56.887Z"
   },
   {
    "duration": 8,
    "start_time": "2021-12-21T06:06:20.346Z"
   },
   {
    "duration": 390,
    "start_time": "2021-12-21T06:08:53.790Z"
   },
   {
    "duration": 14,
    "start_time": "2021-12-21T06:09:19.815Z"
   },
   {
    "duration": 33,
    "start_time": "2021-12-21T06:09:29.757Z"
   },
   {
    "duration": 10,
    "start_time": "2021-12-21T06:10:12.733Z"
   },
   {
    "duration": 9,
    "start_time": "2021-12-21T06:11:09.736Z"
   },
   {
    "duration": 385,
    "start_time": "2021-12-21T06:12:05.694Z"
   },
   {
    "duration": 372,
    "start_time": "2021-12-21T06:12:34.652Z"
   },
   {
    "duration": 525,
    "start_time": "2021-12-21T06:12:47.228Z"
   },
   {
    "duration": 380,
    "start_time": "2021-12-21T06:12:54.926Z"
   },
   {
    "duration": 359,
    "start_time": "2021-12-21T06:14:45.967Z"
   },
   {
    "duration": 370,
    "start_time": "2021-12-21T06:14:59.479Z"
   },
   {
    "duration": 589,
    "start_time": "2021-12-21T06:15:15.766Z"
   },
   {
    "duration": 291,
    "start_time": "2021-12-21T06:15:45.420Z"
   },
   {
    "duration": 383,
    "start_time": "2021-12-21T06:16:24.411Z"
   },
   {
    "duration": 35,
    "start_time": "2021-12-21T06:17:30.840Z"
   },
   {
    "duration": 34,
    "start_time": "2021-12-21T06:19:16.606Z"
   },
   {
    "duration": 35,
    "start_time": "2021-12-21T06:20:28.001Z"
   },
   {
    "duration": 23,
    "start_time": "2021-12-21T06:20:44.131Z"
   },
   {
    "duration": 23,
    "start_time": "2021-12-21T06:21:15.691Z"
   },
   {
    "duration": 35,
    "start_time": "2021-12-21T06:21:30.606Z"
   },
   {
    "duration": 12,
    "start_time": "2021-12-21T06:21:41.308Z"
   },
   {
    "duration": 260,
    "start_time": "2021-12-21T06:21:56.836Z"
   },
   {
    "duration": 11,
    "start_time": "2021-12-21T06:22:38.073Z"
   },
   {
    "duration": 33,
    "start_time": "2021-12-21T06:23:11.684Z"
   },
   {
    "duration": 15,
    "start_time": "2021-12-21T06:24:13.805Z"
   },
   {
    "duration": 12,
    "start_time": "2021-12-21T06:24:20.833Z"
   },
   {
    "duration": 31,
    "start_time": "2021-12-21T06:24:30.061Z"
   },
   {
    "duration": 454,
    "start_time": "2021-12-21T06:24:41.331Z"
   },
   {
    "duration": 41,
    "start_time": "2021-12-21T06:25:38.021Z"
   },
   {
    "duration": 32,
    "start_time": "2021-12-21T06:25:57.766Z"
   },
   {
    "duration": 11,
    "start_time": "2021-12-21T06:26:20.460Z"
   },
   {
    "duration": 9,
    "start_time": "2021-12-21T06:26:33.801Z"
   },
   {
    "duration": 11,
    "start_time": "2021-12-21T06:26:51.015Z"
   },
   {
    "duration": 14,
    "start_time": "2021-12-21T06:27:33.530Z"
   },
   {
    "duration": 12,
    "start_time": "2021-12-21T06:27:39.847Z"
   },
   {
    "duration": 32,
    "start_time": "2021-12-21T06:27:47.292Z"
   },
   {
    "duration": 421,
    "start_time": "2021-12-21T06:27:54.602Z"
   },
   {
    "duration": 424,
    "start_time": "2021-12-21T06:30:03.399Z"
   },
   {
    "duration": 5,
    "start_time": "2021-12-21T06:30:54.549Z"
   },
   {
    "duration": 7,
    "start_time": "2021-12-21T06:31:06.570Z"
   },
   {
    "duration": 7,
    "start_time": "2021-12-21T06:31:16.615Z"
   },
   {
    "duration": 514,
    "start_time": "2021-12-21T06:36:27.810Z"
   },
   {
    "duration": 636,
    "start_time": "2021-12-21T06:37:01.851Z"
   },
   {
    "duration": 587,
    "start_time": "2021-12-21T06:37:31.630Z"
   },
   {
    "duration": 3125,
    "start_time": "2021-12-21T06:52:15.405Z"
   },
   {
    "duration": 2831,
    "start_time": "2021-12-21T06:52:45.270Z"
   },
   {
    "duration": 674,
    "start_time": "2021-12-22T01:09:53.359Z"
   },
   {
    "duration": 87,
    "start_time": "2021-12-22T01:09:54.035Z"
   },
   {
    "duration": 19,
    "start_time": "2021-12-22T01:09:54.124Z"
   },
   {
    "duration": 25,
    "start_time": "2021-12-22T01:09:54.145Z"
   },
   {
    "duration": 22,
    "start_time": "2021-12-22T01:09:54.172Z"
   },
   {
    "duration": 9,
    "start_time": "2021-12-22T01:09:54.196Z"
   },
   {
    "duration": 21,
    "start_time": "2021-12-22T01:09:54.207Z"
   },
   {
    "duration": 40,
    "start_time": "2021-12-22T01:09:54.231Z"
   },
   {
    "duration": 27,
    "start_time": "2021-12-22T01:09:54.272Z"
   },
   {
    "duration": 10,
    "start_time": "2021-12-22T01:09:54.301Z"
   },
   {
    "duration": 21,
    "start_time": "2021-12-22T01:09:54.313Z"
   },
   {
    "duration": 17,
    "start_time": "2021-12-22T01:09:54.361Z"
   },
   {
    "duration": 11,
    "start_time": "2021-12-22T01:09:54.379Z"
   },
   {
    "duration": 21,
    "start_time": "2021-12-22T01:09:54.391Z"
   },
   {
    "duration": 9,
    "start_time": "2021-12-22T01:09:54.414Z"
   },
   {
    "duration": 51,
    "start_time": "2021-12-22T01:09:54.424Z"
   },
   {
    "duration": 5,
    "start_time": "2021-12-22T01:09:54.477Z"
   },
   {
    "duration": 3,
    "start_time": "2021-12-22T01:09:54.484Z"
   },
   {
    "duration": 6,
    "start_time": "2021-12-22T01:09:54.489Z"
   },
   {
    "duration": 14,
    "start_time": "2021-12-22T01:09:54.497Z"
   },
   {
    "duration": 4,
    "start_time": "2021-12-22T01:09:54.512Z"
   },
   {
    "duration": 55,
    "start_time": "2021-12-22T01:09:54.517Z"
   },
   {
    "duration": 13,
    "start_time": "2021-12-22T01:09:54.576Z"
   },
   {
    "duration": 14,
    "start_time": "2021-12-22T01:09:54.592Z"
   },
   {
    "duration": 17,
    "start_time": "2021-12-22T01:09:54.608Z"
   },
   {
    "duration": 34,
    "start_time": "2021-12-22T01:09:54.627Z"
   },
   {
    "duration": 2,
    "start_time": "2021-12-22T01:09:54.663Z"
   },
   {
    "duration": 13,
    "start_time": "2021-12-22T01:09:54.667Z"
   },
   {
    "duration": 12,
    "start_time": "2021-12-22T01:09:54.682Z"
   },
   {
    "duration": 9,
    "start_time": "2021-12-22T01:09:54.695Z"
   },
   {
    "duration": 12,
    "start_time": "2021-12-22T01:09:54.706Z"
   },
   {
    "duration": 61,
    "start_time": "2021-12-22T01:09:54.720Z"
   },
   {
    "duration": 13,
    "start_time": "2021-12-22T01:09:54.783Z"
   },
   {
    "duration": 12,
    "start_time": "2021-12-22T01:09:54.798Z"
   },
   {
    "duration": 261,
    "start_time": "2021-12-22T01:09:54.812Z"
   },
   {
    "duration": 254,
    "start_time": "2021-12-22T01:09:55.075Z"
   },
   {
    "duration": 244,
    "start_time": "2021-12-22T01:09:55.332Z"
   },
   {
    "duration": 197,
    "start_time": "2021-12-22T01:09:55.578Z"
   },
   {
    "duration": 226,
    "start_time": "2021-12-22T01:09:55.777Z"
   },
   {
    "duration": 232,
    "start_time": "2021-12-22T01:09:56.004Z"
   },
   {
    "duration": 147,
    "start_time": "2021-12-22T01:09:56.238Z"
   },
   {
    "duration": 235,
    "start_time": "2021-12-22T01:09:56.387Z"
   },
   {
    "duration": 268,
    "start_time": "2021-12-22T01:09:56.624Z"
   },
   {
    "duration": 22,
    "start_time": "2021-12-22T01:09:56.894Z"
   },
   {
    "duration": 8,
    "start_time": "2021-12-22T01:09:56.918Z"
   },
   {
    "duration": 172,
    "start_time": "2021-12-22T01:09:56.928Z"
   },
   {
    "duration": 183,
    "start_time": "2021-12-22T01:09:57.102Z"
   },
   {
    "duration": 185,
    "start_time": "2021-12-22T01:09:57.287Z"
   },
   {
    "duration": 2,
    "start_time": "2021-12-22T01:09:57.474Z"
   },
   {
    "duration": 5,
    "start_time": "2021-12-22T01:09:57.478Z"
   },
   {
    "duration": 4,
    "start_time": "2021-12-22T01:09:57.485Z"
   },
   {
    "duration": 5,
    "start_time": "2021-12-22T01:09:57.491Z"
   },
   {
    "duration": 12,
    "start_time": "2021-12-22T01:09:57.498Z"
   },
   {
    "duration": 3,
    "start_time": "2021-12-22T01:09:57.512Z"
   },
   {
    "duration": 6,
    "start_time": "2021-12-22T01:09:57.517Z"
   },
   {
    "duration": 40,
    "start_time": "2021-12-22T01:09:57.525Z"
   },
   {
    "duration": 5,
    "start_time": "2021-12-22T01:09:57.567Z"
   },
   {
    "duration": 10,
    "start_time": "2021-12-22T01:09:57.574Z"
   },
   {
    "duration": 5,
    "start_time": "2021-12-22T01:09:57.585Z"
   },
   {
    "duration": 20,
    "start_time": "2021-12-22T01:09:57.591Z"
   },
   {
    "duration": 357,
    "start_time": "2021-12-22T01:09:57.612Z"
   },
   {
    "duration": 270,
    "start_time": "2021-12-22T01:09:57.971Z"
   },
   {
    "duration": 263,
    "start_time": "2021-12-22T01:09:58.243Z"
   },
   {
    "duration": 253,
    "start_time": "2021-12-22T01:09:58.507Z"
   },
   {
    "duration": 5,
    "start_time": "2021-12-22T01:09:58.762Z"
   },
   {
    "duration": 7,
    "start_time": "2021-12-22T01:09:58.768Z"
   },
   {
    "duration": 169,
    "start_time": "2021-12-22T01:12:03.148Z"
   },
   {
    "duration": 10,
    "start_time": "2021-12-22T01:15:03.570Z"
   },
   {
    "duration": 27,
    "start_time": "2021-12-22T01:16:53.527Z"
   },
   {
    "duration": 19,
    "start_time": "2021-12-22T01:20:05.360Z"
   },
   {
    "duration": 22,
    "start_time": "2021-12-22T01:23:18.460Z"
   },
   {
    "duration": 24,
    "start_time": "2021-12-22T01:28:49.641Z"
   },
   {
    "duration": 20,
    "start_time": "2021-12-22T01:29:29.319Z"
   },
   {
    "duration": 26,
    "start_time": "2021-12-22T01:29:36.483Z"
   },
   {
    "duration": 24,
    "start_time": "2021-12-22T01:31:20.715Z"
   },
   {
    "duration": 216,
    "start_time": "2021-12-22T01:32:20.478Z"
   },
   {
    "duration": 720,
    "start_time": "2021-12-22T01:32:42.330Z"
   },
   {
    "duration": 259,
    "start_time": "2021-12-22T01:32:49.008Z"
   },
   {
    "duration": 225,
    "start_time": "2021-12-22T01:34:26.281Z"
   },
   {
    "duration": 344,
    "start_time": "2021-12-22T01:45:12.176Z"
   },
   {
    "duration": 245,
    "start_time": "2021-12-22T01:45:17.467Z"
   },
   {
    "duration": 730,
    "start_time": "2021-12-22T05:02:43.935Z"
   },
   {
    "duration": 95,
    "start_time": "2021-12-22T05:02:44.667Z"
   },
   {
    "duration": 22,
    "start_time": "2021-12-22T05:02:44.764Z"
   },
   {
    "duration": 19,
    "start_time": "2021-12-22T05:02:44.788Z"
   },
   {
    "duration": 42,
    "start_time": "2021-12-22T05:02:44.809Z"
   },
   {
    "duration": 10,
    "start_time": "2021-12-22T05:02:44.853Z"
   },
   {
    "duration": 24,
    "start_time": "2021-12-22T05:02:44.865Z"
   },
   {
    "duration": 17,
    "start_time": "2021-12-22T05:02:44.892Z"
   },
   {
    "duration": 55,
    "start_time": "2021-12-22T05:02:44.911Z"
   },
   {
    "duration": 11,
    "start_time": "2021-12-22T05:02:44.968Z"
   },
   {
    "duration": 25,
    "start_time": "2021-12-22T05:02:44.981Z"
   },
   {
    "duration": 47,
    "start_time": "2021-12-22T05:02:45.008Z"
   },
   {
    "duration": 10,
    "start_time": "2021-12-22T05:02:45.057Z"
   },
   {
    "duration": 24,
    "start_time": "2021-12-22T05:02:45.069Z"
   },
   {
    "duration": 5,
    "start_time": "2021-12-22T05:02:45.095Z"
   },
   {
    "duration": 10,
    "start_time": "2021-12-22T05:02:45.102Z"
   },
   {
    "duration": 7,
    "start_time": "2021-12-22T05:02:45.142Z"
   },
   {
    "duration": 19,
    "start_time": "2021-12-22T05:02:45.151Z"
   },
   {
    "duration": 5,
    "start_time": "2021-12-22T05:02:45.172Z"
   },
   {
    "duration": 32,
    "start_time": "2021-12-22T05:02:45.179Z"
   },
   {
    "duration": 65,
    "start_time": "2021-12-22T05:02:45.213Z"
   },
   {
    "duration": 20,
    "start_time": "2021-12-22T05:02:45.280Z"
   },
   {
    "duration": 21,
    "start_time": "2021-12-22T05:02:45.305Z"
   },
   {
    "duration": 20,
    "start_time": "2021-12-22T05:02:45.329Z"
   },
   {
    "duration": 2,
    "start_time": "2021-12-22T05:02:45.351Z"
   },
   {
    "duration": 17,
    "start_time": "2021-12-22T05:02:45.355Z"
   },
   {
    "duration": 16,
    "start_time": "2021-12-22T05:02:45.374Z"
   },
   {
    "duration": 10,
    "start_time": "2021-12-22T05:02:45.392Z"
   },
   {
    "duration": 47,
    "start_time": "2021-12-22T05:02:45.404Z"
   },
   {
    "duration": 39,
    "start_time": "2021-12-22T05:02:45.453Z"
   },
   {
    "duration": 16,
    "start_time": "2021-12-22T05:02:45.494Z"
   },
   {
    "duration": 37,
    "start_time": "2021-12-22T05:02:45.513Z"
   },
   {
    "duration": 286,
    "start_time": "2021-12-22T05:02:45.553Z"
   },
   {
    "duration": 265,
    "start_time": "2021-12-22T05:02:45.841Z"
   },
   {
    "duration": 260,
    "start_time": "2021-12-22T05:02:46.108Z"
   },
   {
    "duration": 217,
    "start_time": "2021-12-22T05:02:46.370Z"
   },
   {
    "duration": 262,
    "start_time": "2021-12-22T05:02:46.588Z"
   },
   {
    "duration": 263,
    "start_time": "2021-12-22T05:02:46.852Z"
   },
   {
    "duration": 158,
    "start_time": "2021-12-22T05:02:47.117Z"
   },
   {
    "duration": 268,
    "start_time": "2021-12-22T05:02:47.277Z"
   },
   {
    "duration": 285,
    "start_time": "2021-12-22T05:02:47.547Z"
   },
   {
    "duration": 29,
    "start_time": "2021-12-22T05:02:47.834Z"
   },
   {
    "duration": 7,
    "start_time": "2021-12-22T05:02:47.865Z"
   },
   {
    "duration": 176,
    "start_time": "2021-12-22T05:02:47.874Z"
   },
   {
    "duration": 193,
    "start_time": "2021-12-22T05:02:48.052Z"
   },
   {
    "duration": 199,
    "start_time": "2021-12-22T05:02:48.247Z"
   },
   {
    "duration": 3,
    "start_time": "2021-12-22T05:02:48.448Z"
   },
   {
    "duration": 8,
    "start_time": "2021-12-22T05:02:48.453Z"
   },
   {
    "duration": 6,
    "start_time": "2021-12-22T05:02:48.463Z"
   },
   {
    "duration": 11,
    "start_time": "2021-12-22T05:02:48.471Z"
   },
   {
    "duration": 17,
    "start_time": "2021-12-22T05:02:48.484Z"
   },
   {
    "duration": 4,
    "start_time": "2021-12-22T05:02:48.503Z"
   },
   {
    "duration": 6,
    "start_time": "2021-12-22T05:02:48.508Z"
   },
   {
    "duration": 33,
    "start_time": "2021-12-22T05:02:48.516Z"
   },
   {
    "duration": 6,
    "start_time": "2021-12-22T05:02:48.551Z"
   },
   {
    "duration": 15,
    "start_time": "2021-12-22T05:02:48.559Z"
   },
   {
    "duration": 6,
    "start_time": "2021-12-22T05:02:48.576Z"
   },
   {
    "duration": 22,
    "start_time": "2021-12-22T05:02:48.584Z"
   },
   {
    "duration": 282,
    "start_time": "2021-12-22T05:02:48.608Z"
   },
   {
    "duration": 292,
    "start_time": "2021-12-22T05:02:48.892Z"
   },
   {
    "duration": 274,
    "start_time": "2021-12-22T05:02:49.186Z"
   },
   {
    "duration": 271,
    "start_time": "2021-12-22T05:02:49.462Z"
   },
   {
    "duration": 4,
    "start_time": "2021-12-22T05:02:49.741Z"
   },
   {
    "duration": 12,
    "start_time": "2021-12-22T05:02:49.747Z"
   },
   {
    "duration": 198,
    "start_time": "2021-12-22T05:02:49.761Z"
   },
   {
    "duration": 28,
    "start_time": "2021-12-22T05:02:49.960Z"
   },
   {
    "duration": 284,
    "start_time": "2021-12-22T05:02:49.990Z"
   },
   {
    "duration": 7015,
    "start_time": "2021-12-22T05:02:56.316Z"
   },
   {
    "duration": 280,
    "start_time": "2021-12-22T05:03:41.581Z"
   },
   {
    "duration": 11,
    "start_time": "2021-12-22T05:05:10.857Z"
   },
   {
    "duration": 14,
    "start_time": "2021-12-22T05:05:13.947Z"
   },
   {
    "duration": 257,
    "start_time": "2021-12-22T05:09:26.086Z"
   },
   {
    "duration": 2278,
    "start_time": "2021-12-22T05:10:00.516Z"
   },
   {
    "duration": 2077,
    "start_time": "2021-12-22T05:11:01.965Z"
   },
   {
    "duration": 1710,
    "start_time": "2021-12-22T05:11:37.871Z"
   },
   {
    "duration": 1540,
    "start_time": "2021-12-22T05:14:04.450Z"
   },
   {
    "duration": 1390,
    "start_time": "2021-12-22T05:15:33.671Z"
   },
   {
    "duration": 13,
    "start_time": "2021-12-22T05:17:03.443Z"
   },
   {
    "duration": 10,
    "start_time": "2021-12-22T05:20:44.170Z"
   },
   {
    "duration": 11,
    "start_time": "2021-12-22T05:20:51.035Z"
   },
   {
    "duration": 1435,
    "start_time": "2021-12-22T05:21:32.547Z"
   },
   {
    "duration": 1656,
    "start_time": "2021-12-22T05:23:07.314Z"
   },
   {
    "duration": 1469,
    "start_time": "2021-12-22T05:26:04.217Z"
   },
   {
    "duration": 10,
    "start_time": "2021-12-22T05:27:00.168Z"
   },
   {
    "duration": 78,
    "start_time": "2021-12-22T05:50:30.554Z"
   },
   {
    "duration": 79,
    "start_time": "2021-12-22T05:53:17.463Z"
   },
   {
    "duration": 19,
    "start_time": "2021-12-22T05:53:28.083Z"
   },
   {
    "duration": 18,
    "start_time": "2021-12-22T05:54:34.626Z"
   },
   {
    "duration": 13,
    "start_time": "2021-12-22T05:54:44.321Z"
   },
   {
    "duration": 22,
    "start_time": "2021-12-22T06:20:33.658Z"
   },
   {
    "duration": 21,
    "start_time": "2021-12-22T06:21:04.793Z"
   },
   {
    "duration": 20,
    "start_time": "2021-12-22T06:22:09.288Z"
   },
   {
    "duration": 21,
    "start_time": "2021-12-22T06:23:02.011Z"
   },
   {
    "duration": 9,
    "start_time": "2021-12-22T06:27:49.530Z"
   },
   {
    "duration": 16,
    "start_time": "2021-12-22T06:31:16.763Z"
   },
   {
    "duration": 24,
    "start_time": "2021-12-22T06:40:27.316Z"
   },
   {
    "duration": 12,
    "start_time": "2021-12-22T06:42:17.865Z"
   },
   {
    "duration": 24,
    "start_time": "2021-12-22T06:42:23.183Z"
   },
   {
    "duration": 18,
    "start_time": "2021-12-22T06:44:08.264Z"
   },
   {
    "duration": 9,
    "start_time": "2021-12-22T06:46:30.109Z"
   },
   {
    "duration": 5,
    "start_time": "2021-12-22T06:54:42.182Z"
   },
   {
    "duration": 5,
    "start_time": "2021-12-22T06:55:13.514Z"
   },
   {
    "duration": 5175,
    "start_time": "2021-12-22T06:55:40.470Z"
   },
   {
    "duration": 26,
    "start_time": "2021-12-22T06:55:45.621Z"
   },
   {
    "duration": 5684,
    "start_time": "2021-12-22T06:56:18.742Z"
   },
   {
    "duration": 41,
    "start_time": "2021-12-22T06:56:24.387Z"
   },
   {
    "duration": 6,
    "start_time": "2021-12-22T06:58:12.577Z"
   },
   {
    "duration": 7,
    "start_time": "2021-12-22T07:00:09.499Z"
   },
   {
    "duration": 11,
    "start_time": "2021-12-22T07:04:18.400Z"
   },
   {
    "duration": 6,
    "start_time": "2021-12-22T07:04:48.304Z"
   },
   {
    "duration": 6,
    "start_time": "2021-12-22T07:05:20.656Z"
   },
   {
    "duration": 8,
    "start_time": "2021-12-22T07:05:28.089Z"
   },
   {
    "duration": 18,
    "start_time": "2021-12-22T07:06:13.004Z"
   },
   {
    "duration": 4,
    "start_time": "2021-12-22T07:07:31.292Z"
   },
   {
    "duration": 22,
    "start_time": "2021-12-22T07:15:20.634Z"
   },
   {
    "duration": 12,
    "start_time": "2021-12-22T07:15:30.480Z"
   },
   {
    "duration": 28,
    "start_time": "2021-12-22T07:16:32.385Z"
   },
   {
    "duration": 35,
    "start_time": "2021-12-22T07:16:50.927Z"
   },
   {
    "duration": 11,
    "start_time": "2021-12-22T07:30:56.717Z"
   },
   {
    "duration": 24,
    "start_time": "2021-12-22T07:31:08.558Z"
   },
   {
    "duration": 11,
    "start_time": "2021-12-22T07:33:41.786Z"
   },
   {
    "duration": 16,
    "start_time": "2021-12-22T07:33:52.083Z"
   },
   {
    "duration": 35,
    "start_time": "2021-12-22T07:38:28.652Z"
   },
   {
    "duration": 866,
    "start_time": "2021-12-22T23:10:48.612Z"
   },
   {
    "duration": 824,
    "start_time": "2021-12-22T23:10:49.481Z"
   },
   {
    "duration": 25,
    "start_time": "2021-12-22T23:10:50.308Z"
   },
   {
    "duration": 39,
    "start_time": "2021-12-22T23:10:50.336Z"
   },
   {
    "duration": 36,
    "start_time": "2021-12-22T23:10:50.377Z"
   },
   {
    "duration": 43,
    "start_time": "2021-12-22T23:10:50.416Z"
   },
   {
    "duration": 25,
    "start_time": "2021-12-22T23:10:50.462Z"
   },
   {
    "duration": 36,
    "start_time": "2021-12-22T23:10:50.492Z"
   },
   {
    "duration": 43,
    "start_time": "2021-12-22T23:10:50.531Z"
   },
   {
    "duration": 28,
    "start_time": "2021-12-22T23:10:50.577Z"
   },
   {
    "duration": 14,
    "start_time": "2021-12-22T23:10:50.607Z"
   },
   {
    "duration": 6,
    "start_time": "2021-12-22T23:10:50.624Z"
   },
   {
    "duration": 13,
    "start_time": "2021-12-22T23:10:50.660Z"
   },
   {
    "duration": 8,
    "start_time": "2021-12-22T23:10:50.676Z"
   },
   {
    "duration": 24,
    "start_time": "2021-12-22T23:10:50.686Z"
   },
   {
    "duration": 5,
    "start_time": "2021-12-22T23:10:50.712Z"
   },
   {
    "duration": 56,
    "start_time": "2021-12-22T23:10:50.719Z"
   },
   {
    "duration": 19,
    "start_time": "2021-12-22T23:10:50.777Z"
   },
   {
    "duration": 60,
    "start_time": "2021-12-22T23:10:50.799Z"
   },
   {
    "duration": 9,
    "start_time": "2021-12-22T23:10:50.862Z"
   },
   {
    "duration": 12,
    "start_time": "2021-12-22T23:10:50.873Z"
   },
   {
    "duration": 77,
    "start_time": "2021-12-22T23:10:50.888Z"
   },
   {
    "duration": 20,
    "start_time": "2021-12-22T23:11:03.439Z"
   },
   {
    "duration": 21,
    "start_time": "2021-12-22T23:11:13.549Z"
   },
   {
    "duration": 414,
    "start_time": "2021-12-22T23:20:50.294Z"
   },
   {
    "duration": 509,
    "start_time": "2021-12-22T23:21:07.153Z"
   },
   {
    "duration": 444,
    "start_time": "2021-12-22T23:21:28.096Z"
   },
   {
    "duration": 491,
    "start_time": "2021-12-22T23:21:36.387Z"
   },
   {
    "duration": 888,
    "start_time": "2021-12-22T23:22:02.193Z"
   },
   {
    "duration": 438,
    "start_time": "2021-12-22T23:24:21.705Z"
   },
   {
    "duration": 422,
    "start_time": "2021-12-22T23:24:44.511Z"
   },
   {
    "duration": 824,
    "start_time": "2021-12-22T23:24:55.242Z"
   },
   {
    "duration": 991,
    "start_time": "2021-12-22T23:25:07.758Z"
   },
   {
    "duration": 789,
    "start_time": "2021-12-22T23:26:02.062Z"
   },
   {
    "duration": 932,
    "start_time": "2021-12-22T23:27:29.913Z"
   },
   {
    "duration": 787,
    "start_time": "2021-12-22T23:29:16.417Z"
   },
   {
    "duration": 791,
    "start_time": "2021-12-22T23:29:27.290Z"
   },
   {
    "duration": 431,
    "start_time": "2021-12-22T23:29:39.485Z"
   },
   {
    "duration": 536,
    "start_time": "2021-12-22T23:30:07.992Z"
   },
   {
    "duration": 773,
    "start_time": "2021-12-22T23:30:13.904Z"
   },
   {
    "duration": 808,
    "start_time": "2021-12-22T23:30:21.206Z"
   },
   {
    "duration": 796,
    "start_time": "2021-12-22T23:30:27.166Z"
   },
   {
    "duration": 811,
    "start_time": "2021-12-22T23:30:49.685Z"
   },
   {
    "duration": 796,
    "start_time": "2021-12-22T23:30:58.885Z"
   },
   {
    "duration": 429,
    "start_time": "2021-12-22T23:32:13.945Z"
   },
   {
    "duration": 439,
    "start_time": "2021-12-22T23:35:35.849Z"
   },
   {
    "duration": 488,
    "start_time": "2021-12-22T23:35:50.097Z"
   },
   {
    "duration": 418,
    "start_time": "2021-12-22T23:38:02.100Z"
   },
   {
    "duration": 419,
    "start_time": "2021-12-22T23:38:13.172Z"
   },
   {
    "duration": 407,
    "start_time": "2021-12-22T23:40:35.673Z"
   },
   {
    "duration": 843,
    "start_time": "2021-12-23T01:14:50.922Z"
   },
   {
    "duration": 509,
    "start_time": "2021-12-23T01:14:51.768Z"
   },
   {
    "duration": 25,
    "start_time": "2021-12-23T01:14:52.280Z"
   },
   {
    "duration": 259,
    "start_time": "2021-12-23T01:14:52.308Z"
   },
   {
    "duration": 231,
    "start_time": "2021-12-23T01:14:52.569Z"
   },
   {
    "duration": 215,
    "start_time": "2021-12-23T01:14:52.802Z"
   },
   {
    "duration": 264,
    "start_time": "2021-12-23T01:14:53.019Z"
   },
   {
    "duration": 253,
    "start_time": "2021-12-23T01:14:53.287Z"
   },
   {
    "duration": 244,
    "start_time": "2021-12-23T01:14:53.544Z"
   },
   {
    "duration": 272,
    "start_time": "2021-12-23T01:14:53.791Z"
   },
   {
    "duration": 196,
    "start_time": "2021-12-23T01:14:54.066Z"
   },
   {
    "duration": 222,
    "start_time": "2021-12-23T01:14:54.264Z"
   },
   {
    "duration": 268,
    "start_time": "2021-12-23T01:14:54.488Z"
   },
   {
    "duration": 222,
    "start_time": "2021-12-23T01:14:54.758Z"
   },
   {
    "duration": 268,
    "start_time": "2021-12-23T01:14:54.982Z"
   },
   {
    "duration": 188,
    "start_time": "2021-12-23T01:14:55.253Z"
   },
   {
    "duration": 291,
    "start_time": "2021-12-23T01:14:55.443Z"
   },
   {
    "duration": 411,
    "start_time": "2021-12-23T01:14:55.736Z"
   },
   {
    "duration": 248,
    "start_time": "2021-12-23T01:14:56.150Z"
   },
   {
    "duration": 264,
    "start_time": "2021-12-23T01:14:56.401Z"
   },
   {
    "duration": 254,
    "start_time": "2021-12-23T01:14:56.667Z"
   },
   {
    "duration": 304,
    "start_time": "2021-12-23T01:14:56.924Z"
   },
   {
    "duration": 221,
    "start_time": "2021-12-23T01:14:57.232Z"
   },
   {
    "duration": 267,
    "start_time": "2021-12-23T01:14:57.456Z"
   },
   {
    "duration": 733,
    "start_time": "2021-12-23T01:14:57.726Z"
   },
   {
    "duration": 432,
    "start_time": "2021-12-23T01:14:58.461Z"
   },
   {
    "duration": 324,
    "start_time": "2021-12-23T01:15:02.510Z"
   },
   {
    "duration": 476,
    "start_time": "2021-12-23T01:17:07.710Z"
   },
   {
    "duration": 407,
    "start_time": "2021-12-23T01:19:16.697Z"
   },
   {
    "duration": 418,
    "start_time": "2021-12-23T01:19:58.734Z"
   },
   {
    "duration": 437,
    "start_time": "2021-12-23T01:24:26.744Z"
   },
   {
    "duration": 333,
    "start_time": "2021-12-23T01:30:35.227Z"
   },
   {
    "duration": 309,
    "start_time": "2021-12-23T01:36:26.233Z"
   },
   {
    "duration": 321,
    "start_time": "2021-12-23T01:36:32.249Z"
   },
   {
    "duration": 372,
    "start_time": "2021-12-23T01:36:50.896Z"
   },
   {
    "duration": 329,
    "start_time": "2021-12-23T01:37:36.587Z"
   },
   {
    "duration": 327,
    "start_time": "2021-12-23T01:38:19.023Z"
   },
   {
    "duration": 332,
    "start_time": "2021-12-23T01:38:56.468Z"
   },
   {
    "duration": 386,
    "start_time": "2021-12-23T01:39:45.402Z"
   },
   {
    "duration": 320,
    "start_time": "2021-12-23T01:40:34.212Z"
   },
   {
    "duration": 430,
    "start_time": "2021-12-23T01:41:27.308Z"
   },
   {
    "duration": 336,
    "start_time": "2021-12-23T01:45:04.058Z"
   },
   {
    "duration": 314,
    "start_time": "2021-12-23T01:45:34.455Z"
   },
   {
    "duration": 286,
    "start_time": "2021-12-23T01:45:43.926Z"
   },
   {
    "duration": 661,
    "start_time": "2021-12-23T01:47:32.345Z"
   },
   {
    "duration": 566,
    "start_time": "2021-12-23T01:54:01.144Z"
   },
   {
    "duration": 296,
    "start_time": "2021-12-23T01:55:21.941Z"
   },
   {
    "duration": 287,
    "start_time": "2021-12-23T01:58:16.499Z"
   },
   {
    "duration": 294,
    "start_time": "2021-12-23T01:58:22.088Z"
   },
   {
    "duration": 353,
    "start_time": "2021-12-23T01:58:32.945Z"
   },
   {
    "duration": 4,
    "start_time": "2021-12-23T05:44:38.259Z"
   },
   {
    "duration": 279,
    "start_time": "2021-12-23T05:46:39.168Z"
   },
   {
    "duration": 609,
    "start_time": "2021-12-23T05:46:48.276Z"
   },
   {
    "duration": 80,
    "start_time": "2021-12-23T05:46:48.886Z"
   },
   {
    "duration": 18,
    "start_time": "2021-12-23T05:46:48.968Z"
   },
   {
    "duration": 17,
    "start_time": "2021-12-23T05:46:48.987Z"
   },
   {
    "duration": 39,
    "start_time": "2021-12-23T05:46:49.005Z"
   },
   {
    "duration": 9,
    "start_time": "2021-12-23T05:46:49.046Z"
   },
   {
    "duration": 14,
    "start_time": "2021-12-23T05:46:49.056Z"
   },
   {
    "duration": 22,
    "start_time": "2021-12-23T05:46:49.072Z"
   },
   {
    "duration": 11,
    "start_time": "2021-12-23T05:46:49.095Z"
   },
   {
    "duration": 38,
    "start_time": "2021-12-23T05:46:49.107Z"
   },
   {
    "duration": 8,
    "start_time": "2021-12-23T05:46:49.147Z"
   },
   {
    "duration": 4,
    "start_time": "2021-12-23T05:46:49.157Z"
   },
   {
    "duration": 11,
    "start_time": "2021-12-23T05:46:49.162Z"
   },
   {
    "duration": 9,
    "start_time": "2021-12-23T05:46:49.174Z"
   },
   {
    "duration": 13,
    "start_time": "2021-12-23T05:46:49.185Z"
   },
   {
    "duration": 4,
    "start_time": "2021-12-23T05:46:49.200Z"
   },
   {
    "duration": 38,
    "start_time": "2021-12-23T05:46:49.206Z"
   },
   {
    "duration": 14,
    "start_time": "2021-12-23T05:46:49.246Z"
   },
   {
    "duration": 18,
    "start_time": "2021-12-23T05:46:49.261Z"
   },
   {
    "duration": 9,
    "start_time": "2021-12-23T05:46:49.280Z"
   },
   {
    "duration": 9,
    "start_time": "2021-12-23T05:46:49.291Z"
   },
   {
    "duration": 50,
    "start_time": "2021-12-23T05:46:49.301Z"
   },
   {
    "duration": 12,
    "start_time": "2021-12-23T05:46:49.354Z"
   },
   {
    "duration": 17,
    "start_time": "2021-12-23T05:46:49.368Z"
   },
   {
    "duration": 394,
    "start_time": "2021-12-23T05:46:49.387Z"
   },
   {
    "duration": 367,
    "start_time": "2021-12-23T05:46:49.782Z"
   },
   {
    "duration": 273,
    "start_time": "2021-12-23T05:46:50.151Z"
   },
   {
    "duration": 286,
    "start_time": "2021-12-23T05:46:50.426Z"
   },
   {
    "duration": 233,
    "start_time": "2021-12-23T05:46:50.713Z"
   },
   {
    "duration": 183,
    "start_time": "2021-12-23T05:46:50.948Z"
   },
   {
    "duration": 166,
    "start_time": "2021-12-23T05:46:51.133Z"
   },
   {
    "duration": 3,
    "start_time": "2021-12-23T05:46:51.301Z"
   },
   {
    "duration": 11,
    "start_time": "2021-12-23T05:46:55.534Z"
   },
   {
    "duration": 11,
    "start_time": "2021-12-23T05:47:54.400Z"
   },
   {
    "duration": 85,
    "start_time": "2021-12-23T05:48:26.856Z"
   },
   {
    "duration": 11,
    "start_time": "2021-12-23T05:48:56.729Z"
   },
   {
    "duration": 11,
    "start_time": "2021-12-23T05:49:39.334Z"
   },
   {
    "duration": 11,
    "start_time": "2021-12-23T05:55:47.017Z"
   },
   {
    "duration": 6,
    "start_time": "2021-12-23T06:00:59.398Z"
   },
   {
    "duration": 286,
    "start_time": "2021-12-23T06:05:28.139Z"
   },
   {
    "duration": 9,
    "start_time": "2021-12-23T06:09:19.758Z"
   },
   {
    "duration": 8,
    "start_time": "2021-12-23T06:09:35.838Z"
   },
   {
    "duration": 6,
    "start_time": "2021-12-23T06:10:34.964Z"
   },
   {
    "duration": 9,
    "start_time": "2021-12-23T06:11:06.590Z"
   },
   {
    "duration": 7,
    "start_time": "2021-12-23T06:11:08.559Z"
   },
   {
    "duration": 9,
    "start_time": "2021-12-23T06:11:23.949Z"
   },
   {
    "duration": 7,
    "start_time": "2021-12-23T06:11:32.246Z"
   },
   {
    "duration": 7,
    "start_time": "2021-12-23T06:12:58.453Z"
   },
   {
    "duration": 7,
    "start_time": "2021-12-23T06:15:32.840Z"
   },
   {
    "duration": 13,
    "start_time": "2021-12-23T06:17:37.765Z"
   },
   {
    "duration": 14,
    "start_time": "2021-12-23T06:17:51.642Z"
   },
   {
    "duration": 262,
    "start_time": "2021-12-23T06:23:14.428Z"
   },
   {
    "duration": 290,
    "start_time": "2021-12-23T06:23:31.404Z"
   },
   {
    "duration": 225,
    "start_time": "2021-12-23T06:23:53.566Z"
   },
   {
    "duration": 342,
    "start_time": "2021-12-23T06:24:02.374Z"
   },
   {
    "duration": 893,
    "start_time": "2021-12-23T06:24:19.035Z"
   },
   {
    "duration": 234,
    "start_time": "2021-12-23T06:24:26.138Z"
   },
   {
    "duration": 392,
    "start_time": "2021-12-23T06:26:13.258Z"
   },
   {
    "duration": 203,
    "start_time": "2021-12-23T06:26:40.093Z"
   },
   {
    "duration": 246,
    "start_time": "2021-12-23T06:27:29.561Z"
   },
   {
    "duration": 260,
    "start_time": "2021-12-23T06:34:29.116Z"
   },
   {
    "duration": 5,
    "start_time": "2021-12-23T06:34:49.640Z"
   },
   {
    "duration": 6,
    "start_time": "2021-12-23T06:35:03.523Z"
   },
   {
    "duration": 176,
    "start_time": "2021-12-23T06:35:54.119Z"
   },
   {
    "duration": 434,
    "start_time": "2021-12-23T06:39:13.157Z"
   },
   {
    "duration": 237,
    "start_time": "2021-12-23T06:39:32.045Z"
   },
   {
    "duration": 124,
    "start_time": "2021-12-23T06:39:46.576Z"
   },
   {
    "duration": 525,
    "start_time": "2021-12-23T06:40:43.161Z"
   },
   {
    "duration": 193,
    "start_time": "2021-12-23T06:41:26.525Z"
   },
   {
    "duration": 208,
    "start_time": "2021-12-23T06:41:34.945Z"
   },
   {
    "duration": 123,
    "start_time": "2021-12-23T06:41:38.605Z"
   },
   {
    "duration": 139,
    "start_time": "2021-12-23T06:42:00.886Z"
   },
   {
    "duration": 377,
    "start_time": "2021-12-23T06:43:20.276Z"
   },
   {
    "duration": 136,
    "start_time": "2021-12-23T06:43:59.151Z"
   },
   {
    "duration": 34,
    "start_time": "2021-12-23T06:50:53.340Z"
   },
   {
    "duration": 353,
    "start_time": "2021-12-23T06:52:44.948Z"
   },
   {
    "duration": 11,
    "start_time": "2021-12-23T06:59:33.267Z"
   },
   {
    "duration": 14,
    "start_time": "2021-12-23T06:59:49.160Z"
   },
   {
    "duration": 12,
    "start_time": "2021-12-23T07:00:07.118Z"
   },
   {
    "duration": 2393,
    "start_time": "2021-12-23T07:04:12.798Z"
   },
   {
    "duration": 11,
    "start_time": "2021-12-23T07:05:07.150Z"
   },
   {
    "duration": 9,
    "start_time": "2021-12-23T07:07:02.560Z"
   },
   {
    "duration": 8,
    "start_time": "2021-12-23T07:15:55.834Z"
   },
   {
    "duration": 9,
    "start_time": "2021-12-23T07:16:26.621Z"
   },
   {
    "duration": 11,
    "start_time": "2021-12-23T07:17:11.877Z"
   },
   {
    "duration": 11,
    "start_time": "2021-12-23T07:17:21.399Z"
   },
   {
    "duration": 1572,
    "start_time": "2021-12-23T07:18:03.589Z"
   },
   {
    "duration": 10,
    "start_time": "2021-12-23T07:19:05.181Z"
   },
   {
    "duration": 9,
    "start_time": "2021-12-23T07:19:16.798Z"
   },
   {
    "duration": 638,
    "start_time": "2021-12-23T20:35:44.877Z"
   },
   {
    "duration": 117,
    "start_time": "2021-12-23T20:35:45.517Z"
   },
   {
    "duration": 21,
    "start_time": "2021-12-23T20:35:45.636Z"
   },
   {
    "duration": 16,
    "start_time": "2021-12-23T20:35:45.659Z"
   },
   {
    "duration": 20,
    "start_time": "2021-12-23T20:35:45.677Z"
   },
   {
    "duration": 9,
    "start_time": "2021-12-23T20:35:45.699Z"
   },
   {
    "duration": 15,
    "start_time": "2021-12-23T20:35:45.709Z"
   },
   {
    "duration": 46,
    "start_time": "2021-12-23T20:35:45.727Z"
   },
   {
    "duration": 10,
    "start_time": "2021-12-23T20:35:45.776Z"
   },
   {
    "duration": 16,
    "start_time": "2021-12-23T20:35:45.788Z"
   },
   {
    "duration": 10,
    "start_time": "2021-12-23T20:35:45.806Z"
   },
   {
    "duration": 5,
    "start_time": "2021-12-23T20:35:45.817Z"
   },
   {
    "duration": 38,
    "start_time": "2021-12-23T20:35:45.824Z"
   },
   {
    "duration": 7,
    "start_time": "2021-12-23T20:35:45.864Z"
   },
   {
    "duration": 15,
    "start_time": "2021-12-23T20:35:45.873Z"
   },
   {
    "duration": 4,
    "start_time": "2021-12-23T20:35:45.890Z"
   },
   {
    "duration": 13,
    "start_time": "2021-12-23T20:35:45.895Z"
   },
   {
    "duration": 13,
    "start_time": "2021-12-23T20:35:45.909Z"
   },
   {
    "duration": 52,
    "start_time": "2021-12-23T20:35:45.924Z"
   },
   {
    "duration": 6,
    "start_time": "2021-12-23T20:35:45.978Z"
   },
   {
    "duration": 8,
    "start_time": "2021-12-23T20:35:45.985Z"
   },
   {
    "duration": 30,
    "start_time": "2021-12-23T20:35:45.995Z"
   },
   {
    "duration": 35,
    "start_time": "2021-12-23T20:35:46.028Z"
   },
   {
    "duration": 13,
    "start_time": "2021-12-23T20:35:46.065Z"
   },
   {
    "duration": 282,
    "start_time": "2021-12-23T20:35:46.079Z"
   },
   {
    "duration": 261,
    "start_time": "2021-12-23T20:35:46.363Z"
   },
   {
    "duration": 198,
    "start_time": "2021-12-23T20:35:46.625Z"
   },
   {
    "duration": 304,
    "start_time": "2021-12-23T20:35:46.825Z"
   },
   {
    "duration": 251,
    "start_time": "2021-12-23T20:35:47.131Z"
   },
   {
    "duration": 195,
    "start_time": "2021-12-23T20:35:47.384Z"
   },
   {
    "duration": 176,
    "start_time": "2021-12-23T20:35:47.581Z"
   },
   {
    "duration": 4,
    "start_time": "2021-12-23T20:35:47.758Z"
   },
   {
    "duration": 13,
    "start_time": "2021-12-23T20:35:47.763Z"
   },
   {
    "duration": 8,
    "start_time": "2021-12-23T20:35:47.778Z"
   },
   {
    "duration": 5,
    "start_time": "2021-12-23T20:35:47.788Z"
   },
   {
    "duration": 7,
    "start_time": "2021-12-23T20:35:47.794Z"
   },
   {
    "duration": 4,
    "start_time": "2021-12-23T20:35:47.803Z"
   },
   {
    "duration": 33,
    "start_time": "2021-12-23T20:35:47.809Z"
   },
   {
    "duration": 250,
    "start_time": "2021-12-23T20:35:47.844Z"
   },
   {
    "duration": 207,
    "start_time": "2021-12-23T20:35:48.096Z"
   },
   {
    "duration": 268,
    "start_time": "2021-12-23T20:35:48.305Z"
   },
   {
    "duration": 264,
    "start_time": "2021-12-23T20:35:48.575Z"
   },
   {
    "duration": 3,
    "start_time": "2021-12-23T20:35:48.841Z"
   },
   {
    "duration": 16,
    "start_time": "2021-12-23T20:35:48.846Z"
   },
   {
    "duration": 140,
    "start_time": "2021-12-23T20:35:48.864Z"
   },
   {
    "duration": 24,
    "start_time": "2021-12-23T20:35:49.006Z"
   },
   {
    "duration": 252,
    "start_time": "2021-12-23T20:35:49.031Z"
   },
   {
    "duration": 8,
    "start_time": "2021-12-23T20:35:49.285Z"
   },
   {
    "duration": 10,
    "start_time": "2021-12-23T20:35:49.294Z"
   },
   {
    "duration": 1682,
    "start_time": "2021-12-23T20:35:49.305Z"
   },
   {
    "duration": 8,
    "start_time": "2021-12-23T20:35:50.989Z"
   },
   {
    "duration": 8,
    "start_time": "2021-12-23T20:35:50.999Z"
   },
   {
    "duration": 8,
    "start_time": "2021-12-23T20:35:51.009Z"
   },
   {
    "duration": 1655,
    "start_time": "2021-12-23T20:35:51.019Z"
   },
   {
    "duration": 9,
    "start_time": "2021-12-23T20:35:52.676Z"
   },
   {
    "duration": 275,
    "start_time": "2021-12-23T22:23:59.217Z"
   },
   {
    "duration": 678,
    "start_time": "2021-12-23T22:24:07.723Z"
   },
   {
    "duration": 83,
    "start_time": "2021-12-23T22:24:08.403Z"
   },
   {
    "duration": 21,
    "start_time": "2021-12-23T22:24:08.487Z"
   },
   {
    "duration": 17,
    "start_time": "2021-12-23T22:24:08.510Z"
   },
   {
    "duration": 25,
    "start_time": "2021-12-23T22:24:10.800Z"
   },
   {
    "duration": 78,
    "start_time": "2021-12-23T22:36:21.514Z"
   },
   {
    "duration": 6,
    "start_time": "2021-12-23T22:36:31.570Z"
   },
   {
    "duration": 285,
    "start_time": "2021-12-23T22:38:15.702Z"
   },
   {
    "duration": 3,
    "start_time": "2021-12-23T22:38:49.849Z"
   },
   {
    "duration": 114,
    "start_time": "2021-12-23T22:38:49.854Z"
   },
   {
    "duration": 17,
    "start_time": "2021-12-23T22:38:49.970Z"
   },
   {
    "duration": 12,
    "start_time": "2021-12-23T22:38:49.989Z"
   },
   {
    "duration": 20,
    "start_time": "2021-12-23T22:38:50.003Z"
   },
   {
    "duration": 42,
    "start_time": "2021-12-23T22:38:50.025Z"
   },
   {
    "duration": 9,
    "start_time": "2021-12-23T22:38:50.069Z"
   },
   {
    "duration": 14,
    "start_time": "2021-12-23T22:38:50.080Z"
   },
   {
    "duration": 22,
    "start_time": "2021-12-23T22:38:50.096Z"
   },
   {
    "duration": 9,
    "start_time": "2021-12-23T22:38:50.119Z"
   },
   {
    "duration": 38,
    "start_time": "2021-12-23T22:38:50.130Z"
   },
   {
    "duration": 9,
    "start_time": "2021-12-23T22:38:50.170Z"
   },
   {
    "duration": 4,
    "start_time": "2021-12-23T22:38:50.180Z"
   },
   {
    "duration": 7,
    "start_time": "2021-12-23T22:38:50.185Z"
   },
   {
    "duration": 4,
    "start_time": "2021-12-23T22:38:50.193Z"
   },
   {
    "duration": 7,
    "start_time": "2021-12-23T22:38:50.198Z"
   },
   {
    "duration": 15,
    "start_time": "2021-12-23T22:38:50.207Z"
   },
   {
    "duration": 3,
    "start_time": "2021-12-23T22:38:50.223Z"
   },
   {
    "duration": 13,
    "start_time": "2021-12-23T22:39:05.707Z"
   },
   {
    "duration": 15,
    "start_time": "2021-12-23T22:39:12.332Z"
   },
   {
    "duration": 18,
    "start_time": "2021-12-23T22:39:22.542Z"
   },
   {
    "duration": 634,
    "start_time": "2021-12-23T23:08:03.522Z"
   },
   {
    "duration": 86,
    "start_time": "2021-12-23T23:08:04.158Z"
   },
   {
    "duration": 25,
    "start_time": "2021-12-23T23:08:04.245Z"
   },
   {
    "duration": 17,
    "start_time": "2021-12-23T23:08:04.271Z"
   },
   {
    "duration": 20,
    "start_time": "2021-12-23T23:08:04.289Z"
   },
   {
    "duration": 21,
    "start_time": "2021-12-23T23:08:04.311Z"
   },
   {
    "duration": 34,
    "start_time": "2021-12-23T23:08:04.334Z"
   },
   {
    "duration": 14,
    "start_time": "2021-12-23T23:08:04.371Z"
   },
   {
    "duration": 22,
    "start_time": "2021-12-23T23:08:04.387Z"
   },
   {
    "duration": 10,
    "start_time": "2021-12-23T23:08:04.411Z"
   },
   {
    "duration": 44,
    "start_time": "2021-12-23T23:08:04.423Z"
   },
   {
    "duration": 8,
    "start_time": "2021-12-23T23:08:04.469Z"
   },
   {
    "duration": 4,
    "start_time": "2021-12-23T23:08:04.479Z"
   },
   {
    "duration": 7,
    "start_time": "2021-12-23T23:08:04.485Z"
   },
   {
    "duration": 4,
    "start_time": "2021-12-23T23:08:04.493Z"
   },
   {
    "duration": 6,
    "start_time": "2021-12-23T23:08:04.499Z"
   },
   {
    "duration": 14,
    "start_time": "2021-12-23T23:08:04.506Z"
   },
   {
    "duration": 3,
    "start_time": "2021-12-23T23:08:04.521Z"
   },
   {
    "duration": 46,
    "start_time": "2021-12-23T23:08:04.525Z"
   },
   {
    "duration": 14,
    "start_time": "2021-12-23T23:08:04.572Z"
   },
   {
    "duration": 17,
    "start_time": "2021-12-23T23:08:04.588Z"
   },
   {
    "duration": 8,
    "start_time": "2021-12-23T23:08:04.607Z"
   },
   {
    "duration": 9,
    "start_time": "2021-12-23T23:08:04.618Z"
   },
   {
    "duration": 58,
    "start_time": "2021-12-23T23:08:04.628Z"
   },
   {
    "duration": 13,
    "start_time": "2021-12-23T23:08:04.688Z"
   },
   {
    "duration": 12,
    "start_time": "2021-12-23T23:08:04.703Z"
   },
   {
    "duration": 293,
    "start_time": "2021-12-23T23:08:04.717Z"
   },
   {
    "duration": 260,
    "start_time": "2021-12-23T23:08:05.012Z"
   },
   {
    "duration": 198,
    "start_time": "2021-12-23T23:08:05.273Z"
   },
   {
    "duration": 300,
    "start_time": "2021-12-23T23:08:05.473Z"
   },
   {
    "duration": 247,
    "start_time": "2021-12-23T23:08:05.775Z"
   },
   {
    "duration": 192,
    "start_time": "2021-12-23T23:08:06.023Z"
   },
   {
    "duration": 177,
    "start_time": "2021-12-23T23:08:06.216Z"
   },
   {
    "duration": 3,
    "start_time": "2021-12-23T23:08:06.395Z"
   },
   {
    "duration": 14,
    "start_time": "2021-12-23T23:08:06.399Z"
   },
   {
    "duration": 10,
    "start_time": "2021-12-23T23:08:06.415Z"
   },
   {
    "duration": 6,
    "start_time": "2021-12-23T23:08:06.427Z"
   },
   {
    "duration": 34,
    "start_time": "2021-12-23T23:08:06.434Z"
   },
   {
    "duration": 6,
    "start_time": "2021-12-23T23:08:06.470Z"
   },
   {
    "duration": 15,
    "start_time": "2021-12-23T23:08:06.477Z"
   },
   {
    "duration": 269,
    "start_time": "2021-12-23T23:08:06.493Z"
   },
   {
    "duration": 213,
    "start_time": "2021-12-23T23:08:06.764Z"
   },
   {
    "duration": 260,
    "start_time": "2021-12-23T23:08:06.979Z"
   },
   {
    "duration": 267,
    "start_time": "2021-12-23T23:08:07.240Z"
   },
   {
    "duration": 4,
    "start_time": "2021-12-23T23:08:07.509Z"
   },
   {
    "duration": 6,
    "start_time": "2021-12-23T23:08:07.515Z"
   },
   {
    "duration": 164,
    "start_time": "2021-12-23T23:08:07.522Z"
   },
   {
    "duration": 24,
    "start_time": "2021-12-23T23:08:07.688Z"
   },
   {
    "duration": 266,
    "start_time": "2021-12-23T23:08:07.714Z"
   },
   {
    "duration": 9,
    "start_time": "2021-12-23T23:08:07.981Z"
   },
   {
    "duration": 8,
    "start_time": "2021-12-23T23:08:07.991Z"
   },
   {
    "duration": 1703,
    "start_time": "2021-12-23T23:08:08.001Z"
   },
   {
    "duration": 8,
    "start_time": "2021-12-23T23:08:09.705Z"
   },
   {
    "duration": 7,
    "start_time": "2021-12-23T23:08:09.715Z"
   },
   {
    "duration": 9,
    "start_time": "2021-12-23T23:08:09.723Z"
   },
   {
    "duration": 1660,
    "start_time": "2021-12-23T23:08:09.733Z"
   },
   {
    "duration": 8,
    "start_time": "2021-12-23T23:08:11.395Z"
   },
   {
    "duration": 646,
    "start_time": "2021-12-23T23:22:19.705Z"
   },
   {
    "duration": 87,
    "start_time": "2021-12-23T23:22:20.353Z"
   },
   {
    "duration": 25,
    "start_time": "2021-12-23T23:22:20.442Z"
   },
   {
    "duration": 18,
    "start_time": "2021-12-23T23:22:20.470Z"
   },
   {
    "duration": 21,
    "start_time": "2021-12-23T23:22:20.490Z"
   },
   {
    "duration": 52,
    "start_time": "2021-12-23T23:22:20.513Z"
   },
   {
    "duration": 11,
    "start_time": "2021-12-23T23:22:20.568Z"
   },
   {
    "duration": 16,
    "start_time": "2021-12-23T23:22:20.582Z"
   },
   {
    "duration": 23,
    "start_time": "2021-12-23T23:22:20.600Z"
   },
   {
    "duration": 36,
    "start_time": "2021-12-23T23:22:20.625Z"
   },
   {
    "duration": 16,
    "start_time": "2021-12-23T23:22:20.662Z"
   },
   {
    "duration": 9,
    "start_time": "2021-12-23T23:22:20.679Z"
   },
   {
    "duration": 4,
    "start_time": "2021-12-23T23:22:20.690Z"
   },
   {
    "duration": 6,
    "start_time": "2021-12-23T23:22:20.696Z"
   },
   {
    "duration": 8,
    "start_time": "2021-12-23T23:22:20.704Z"
   },
   {
    "duration": 6,
    "start_time": "2021-12-23T23:22:20.714Z"
   },
   {
    "duration": 39,
    "start_time": "2021-12-23T23:22:20.722Z"
   },
   {
    "duration": 4,
    "start_time": "2021-12-23T23:22:20.763Z"
   },
   {
    "duration": 19,
    "start_time": "2021-12-23T23:22:20.768Z"
   },
   {
    "duration": 14,
    "start_time": "2021-12-23T23:22:20.788Z"
   },
   {
    "duration": 18,
    "start_time": "2021-12-23T23:22:20.804Z"
   },
   {
    "duration": 6,
    "start_time": "2021-12-23T23:22:20.824Z"
   },
   {
    "duration": 10,
    "start_time": "2021-12-23T23:22:20.860Z"
   },
   {
    "duration": 29,
    "start_time": "2021-12-23T23:22:20.872Z"
   },
   {
    "duration": 13,
    "start_time": "2021-12-23T23:22:20.902Z"
   },
   {
    "duration": 12,
    "start_time": "2021-12-23T23:22:20.917Z"
   },
   {
    "duration": 289,
    "start_time": "2021-12-23T23:22:20.931Z"
   },
   {
    "duration": 254,
    "start_time": "2021-12-23T23:22:21.221Z"
   },
   {
    "duration": 211,
    "start_time": "2021-12-23T23:22:21.477Z"
   },
   {
    "duration": 321,
    "start_time": "2021-12-23T23:22:21.690Z"
   },
   {
    "duration": 244,
    "start_time": "2021-12-23T23:22:22.012Z"
   },
   {
    "duration": 192,
    "start_time": "2021-12-23T23:22:22.257Z"
   },
   {
    "duration": 175,
    "start_time": "2021-12-23T23:22:22.451Z"
   },
   {
    "duration": 3,
    "start_time": "2021-12-23T23:22:22.627Z"
   },
   {
    "duration": 21,
    "start_time": "2021-12-23T23:22:22.632Z"
   },
   {
    "duration": 10,
    "start_time": "2021-12-23T23:22:22.654Z"
   },
   {
    "duration": 11,
    "start_time": "2021-12-23T23:22:22.665Z"
   },
   {
    "duration": 10,
    "start_time": "2021-12-23T23:22:22.677Z"
   },
   {
    "duration": 5,
    "start_time": "2021-12-23T23:22:22.688Z"
   },
   {
    "duration": 18,
    "start_time": "2021-12-23T23:22:22.694Z"
   },
   {
    "duration": 258,
    "start_time": "2021-12-23T23:22:22.713Z"
   },
   {
    "duration": 207,
    "start_time": "2021-12-23T23:22:22.972Z"
   },
   {
    "duration": 263,
    "start_time": "2021-12-23T23:22:23.180Z"
   },
   {
    "duration": 254,
    "start_time": "2021-12-23T23:22:23.445Z"
   },
   {
    "duration": 4,
    "start_time": "2021-12-23T23:22:23.700Z"
   },
   {
    "duration": 5,
    "start_time": "2021-12-23T23:22:23.706Z"
   },
   {
    "duration": 148,
    "start_time": "2021-12-23T23:22:23.713Z"
   },
   {
    "duration": 23,
    "start_time": "2021-12-23T23:22:23.863Z"
   },
   {
    "duration": 246,
    "start_time": "2021-12-23T23:22:23.888Z"
   },
   {
    "duration": 8,
    "start_time": "2021-12-23T23:22:24.136Z"
   },
   {
    "duration": 20,
    "start_time": "2021-12-23T23:22:24.146Z"
   },
   {
    "duration": 1693,
    "start_time": "2021-12-23T23:22:24.167Z"
   },
   {
    "duration": 10,
    "start_time": "2021-12-23T23:22:25.862Z"
   },
   {
    "duration": 9,
    "start_time": "2021-12-23T23:22:25.873Z"
   },
   {
    "duration": 9,
    "start_time": "2021-12-23T23:22:25.884Z"
   },
   {
    "duration": 1571,
    "start_time": "2021-12-23T23:22:25.895Z"
   },
   {
    "duration": 10,
    "start_time": "2021-12-23T23:22:27.468Z"
   }
  ],
  "kernelspec": {
   "display_name": "Python 3 (ipykernel)",
   "language": "python",
   "name": "python3"
  },
  "language_info": {
   "codemirror_mode": {
    "name": "ipython",
    "version": 3
   },
   "file_extension": ".py",
   "mimetype": "text/x-python",
   "name": "python",
   "nbconvert_exporter": "python",
   "pygments_lexer": "ipython3",
   "version": "3.9.7"
  },
  "toc": {
   "base_numbering": 1,
   "nav_menu": {},
   "number_sections": false,
   "sideBar": true,
   "skip_h1_title": false,
   "title_cell": "Table of Contents",
   "title_sidebar": "Contents",
   "toc_cell": false,
   "toc_position": {
    "height": "calc(100% - 180px)",
    "left": "10px",
    "top": "150px",
    "width": "289.6px"
   },
   "toc_section_display": true,
   "toc_window_display": false
  }
 },
 "nbformat": 4,
 "nbformat_minor": 2
}
