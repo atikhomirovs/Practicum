{
 "cells": [
  {
   "cell_type": "markdown",
   "id": "bb309c72",
   "metadata": {},
   "source": [
    "# Churn of clients forecast "
   ]
  },
  {
   "cell_type": "markdown",
   "id": "ba1503a1",
   "metadata": {},
   "source": [
    "### The task description\n",
    "\n",
    "The telecom operator Interconnect would like to be able to forecast their churn of clients. If it's discovered that a user is planning to leave, they will be offered promotional codes and special plan options. Interconnect's marketing team has collected some of their clientele's personal data, including information about their plans and contracts."
   ]
  },
  {
   "cell_type": "markdown",
   "id": "85a06829",
   "metadata": {},
   "source": [
    "# Work plan\n",
    "\n",
    "To acomplish the the task, we will follow the next plan:\n",
    "1. Prepare the data.\n",
    "2. Conduct EDA.\n",
    "3. Prepare the data for learning. We will use the following machine learning models: Dummy Model as a baseline, Decision Tree, Random Forest, CatBoost, and LightGBM. For Decision Tree and Random Forest, we will encode the data with One-Hot Encoding. Next, we will split the data (both encoded and the original) into train and test sets. Then we will upsample the training sets to address the class imbalance. And finally, we will scale the data.\n",
    "4. Train models. We will train the above-mentioned models with parameter tuning. And then we will select the model with the best score.\n",
    "5. Finally, we will test the best model on the test data set."
   ]
  },
  {
   "cell_type": "markdown",
   "id": "d5400a7e",
   "metadata": {},
   "source": [
    "# Contents \n",
    "* [Data overview]()\n",
    "* [Data preprocessing]()\n",
    "* [Exploratory Data Analysis]()\n",
    "* [Model Training]()\n",
    "* [Final testing]()\n",
    "* [Solution Report]()"
   ]
  },
  {
   "cell_type": "markdown",
   "id": "6c404ed7",
   "metadata": {},
   "source": [
    "# Data overview"
   ]
  },
  {
   "cell_type": "markdown",
   "id": "348b7a10",
   "metadata": {},
   "source": [
    "First of all, will load the data and the libraries that we will use in this project."
   ]
  },
  {
   "cell_type": "code",
   "execution_count": 1,
   "id": "e645b98c",
   "metadata": {},
   "outputs": [],
   "source": [
    "# Loading all required libraries\n",
    "import pandas as pd\n",
    "import matplotlib.pyplot as plt\n",
    "from sklearn.metrics import roc_auc_score, accuracy_score\n",
    "from sklearn.utils import shuffle\n",
    "from sklearn.preprocessing import StandardScaler\n",
    "from sklearn.model_selection import train_test_split, cross_val_score, GridSearchCV\n",
    "from sklearn.dummy import DummyRegressor\n",
    "from sklearn.tree import DecisionTreeClassifier\n",
    "from sklearn.ensemble import RandomForestClassifier\n",
    "from lightgbm import LGBMClassifier\n",
    "from catboost import CatBoostClassifier"
   ]
  },
  {
   "cell_type": "code",
   "execution_count": 2,
   "id": "e8a7ed1e",
   "metadata": {},
   "outputs": [],
   "source": [
    "# Loading the data files into DataFrames\n",
    "contract=pd.read_csv('C:\\jupyter_notebook\\contract.csv')\n",
    "phone=pd.read_csv('C:\\jupyter_notebook\\phone.csv')\n",
    "internet=pd.read_csv('C:\\jupyter_notebook\\internet.csv')\n",
    "personal=pd.read_csv('C:\\jupyter_notebook\\personal.csv')"
   ]
  },
  {
   "cell_type": "markdown",
   "id": "bec7c714",
   "metadata": {},
   "source": [
    "We will display general data info and a sample of the data."
   ]
  },
  {
   "cell_type": "markdown",
   "id": "c113e10e",
   "metadata": {},
   "source": [
    "### Contract"
   ]
  },
  {
   "cell_type": "code",
   "execution_count": 3,
   "id": "4ae47325",
   "metadata": {},
   "outputs": [
    {
     "name": "stdout",
     "output_type": "stream",
     "text": [
      "<class 'pandas.core.frame.DataFrame'>\n",
      "RangeIndex: 7043 entries, 0 to 7042\n",
      "Data columns (total 8 columns):\n",
      " #   Column            Non-Null Count  Dtype  \n",
      "---  ------            --------------  -----  \n",
      " 0   customerID        7043 non-null   object \n",
      " 1   BeginDate         7043 non-null   object \n",
      " 2   EndDate           7043 non-null   object \n",
      " 3   Type              7043 non-null   object \n",
      " 4   PaperlessBilling  7043 non-null   object \n",
      " 5   PaymentMethod     7043 non-null   object \n",
      " 6   MonthlyCharges    7043 non-null   float64\n",
      " 7   TotalCharges      7043 non-null   object \n",
      "dtypes: float64(1), object(7)\n",
      "memory usage: 440.3+ KB\n"
     ]
    }
   ],
   "source": [
    "# printing the general/summary information about the contract DF\n",
    "contract.info()"
   ]
  },
  {
   "cell_type": "code",
   "execution_count": 4,
   "id": "2a0011a5",
   "metadata": {},
   "outputs": [
    {
     "data": {
      "text/html": [
       "<div>\n",
       "<style scoped>\n",
       "    .dataframe tbody tr th:only-of-type {\n",
       "        vertical-align: middle;\n",
       "    }\n",
       "\n",
       "    .dataframe tbody tr th {\n",
       "        vertical-align: top;\n",
       "    }\n",
       "\n",
       "    .dataframe thead th {\n",
       "        text-align: right;\n",
       "    }\n",
       "</style>\n",
       "<table border=\"1\" class=\"dataframe\">\n",
       "  <thead>\n",
       "    <tr style=\"text-align: right;\">\n",
       "      <th></th>\n",
       "      <th>customerID</th>\n",
       "      <th>BeginDate</th>\n",
       "      <th>EndDate</th>\n",
       "      <th>Type</th>\n",
       "      <th>PaperlessBilling</th>\n",
       "      <th>PaymentMethod</th>\n",
       "      <th>MonthlyCharges</th>\n",
       "      <th>TotalCharges</th>\n",
       "    </tr>\n",
       "  </thead>\n",
       "  <tbody>\n",
       "    <tr>\n",
       "      <th>0</th>\n",
       "      <td>7590-VHVEG</td>\n",
       "      <td>2020-01-01</td>\n",
       "      <td>No</td>\n",
       "      <td>Month-to-month</td>\n",
       "      <td>Yes</td>\n",
       "      <td>Electronic check</td>\n",
       "      <td>29.85</td>\n",
       "      <td>29.85</td>\n",
       "    </tr>\n",
       "    <tr>\n",
       "      <th>1</th>\n",
       "      <td>5575-GNVDE</td>\n",
       "      <td>2017-04-01</td>\n",
       "      <td>No</td>\n",
       "      <td>One year</td>\n",
       "      <td>No</td>\n",
       "      <td>Mailed check</td>\n",
       "      <td>56.95</td>\n",
       "      <td>1889.5</td>\n",
       "    </tr>\n",
       "    <tr>\n",
       "      <th>2</th>\n",
       "      <td>3668-QPYBK</td>\n",
       "      <td>2019-10-01</td>\n",
       "      <td>2019-12-01 00:00:00</td>\n",
       "      <td>Month-to-month</td>\n",
       "      <td>Yes</td>\n",
       "      <td>Mailed check</td>\n",
       "      <td>53.85</td>\n",
       "      <td>108.15</td>\n",
       "    </tr>\n",
       "    <tr>\n",
       "      <th>3</th>\n",
       "      <td>7795-CFOCW</td>\n",
       "      <td>2016-05-01</td>\n",
       "      <td>No</td>\n",
       "      <td>One year</td>\n",
       "      <td>No</td>\n",
       "      <td>Bank transfer (automatic)</td>\n",
       "      <td>42.30</td>\n",
       "      <td>1840.75</td>\n",
       "    </tr>\n",
       "    <tr>\n",
       "      <th>4</th>\n",
       "      <td>9237-HQITU</td>\n",
       "      <td>2019-09-01</td>\n",
       "      <td>2019-11-01 00:00:00</td>\n",
       "      <td>Month-to-month</td>\n",
       "      <td>Yes</td>\n",
       "      <td>Electronic check</td>\n",
       "      <td>70.70</td>\n",
       "      <td>151.65</td>\n",
       "    </tr>\n",
       "    <tr>\n",
       "      <th>5</th>\n",
       "      <td>9305-CDSKC</td>\n",
       "      <td>2019-03-01</td>\n",
       "      <td>2019-11-01 00:00:00</td>\n",
       "      <td>Month-to-month</td>\n",
       "      <td>Yes</td>\n",
       "      <td>Electronic check</td>\n",
       "      <td>99.65</td>\n",
       "      <td>820.5</td>\n",
       "    </tr>\n",
       "    <tr>\n",
       "      <th>6</th>\n",
       "      <td>1452-KIOVK</td>\n",
       "      <td>2018-04-01</td>\n",
       "      <td>No</td>\n",
       "      <td>Month-to-month</td>\n",
       "      <td>Yes</td>\n",
       "      <td>Credit card (automatic)</td>\n",
       "      <td>89.10</td>\n",
       "      <td>1949.4</td>\n",
       "    </tr>\n",
       "    <tr>\n",
       "      <th>7</th>\n",
       "      <td>6713-OKOMC</td>\n",
       "      <td>2019-04-01</td>\n",
       "      <td>No</td>\n",
       "      <td>Month-to-month</td>\n",
       "      <td>No</td>\n",
       "      <td>Mailed check</td>\n",
       "      <td>29.75</td>\n",
       "      <td>301.9</td>\n",
       "    </tr>\n",
       "    <tr>\n",
       "      <th>8</th>\n",
       "      <td>7892-POOKP</td>\n",
       "      <td>2017-07-01</td>\n",
       "      <td>2019-11-01 00:00:00</td>\n",
       "      <td>Month-to-month</td>\n",
       "      <td>Yes</td>\n",
       "      <td>Electronic check</td>\n",
       "      <td>104.80</td>\n",
       "      <td>3046.05</td>\n",
       "    </tr>\n",
       "    <tr>\n",
       "      <th>9</th>\n",
       "      <td>6388-TABGU</td>\n",
       "      <td>2014-12-01</td>\n",
       "      <td>No</td>\n",
       "      <td>One year</td>\n",
       "      <td>No</td>\n",
       "      <td>Bank transfer (automatic)</td>\n",
       "      <td>56.15</td>\n",
       "      <td>3487.95</td>\n",
       "    </tr>\n",
       "  </tbody>\n",
       "</table>\n",
       "</div>"
      ],
      "text/plain": [
       "   customerID   BeginDate              EndDate            Type  \\\n",
       "0  7590-VHVEG  2020-01-01                   No  Month-to-month   \n",
       "1  5575-GNVDE  2017-04-01                   No        One year   \n",
       "2  3668-QPYBK  2019-10-01  2019-12-01 00:00:00  Month-to-month   \n",
       "3  7795-CFOCW  2016-05-01                   No        One year   \n",
       "4  9237-HQITU  2019-09-01  2019-11-01 00:00:00  Month-to-month   \n",
       "5  9305-CDSKC  2019-03-01  2019-11-01 00:00:00  Month-to-month   \n",
       "6  1452-KIOVK  2018-04-01                   No  Month-to-month   \n",
       "7  6713-OKOMC  2019-04-01                   No  Month-to-month   \n",
       "8  7892-POOKP  2017-07-01  2019-11-01 00:00:00  Month-to-month   \n",
       "9  6388-TABGU  2014-12-01                   No        One year   \n",
       "\n",
       "  PaperlessBilling              PaymentMethod  MonthlyCharges TotalCharges  \n",
       "0              Yes           Electronic check           29.85        29.85  \n",
       "1               No               Mailed check           56.95       1889.5  \n",
       "2              Yes               Mailed check           53.85       108.15  \n",
       "3               No  Bank transfer (automatic)           42.30      1840.75  \n",
       "4              Yes           Electronic check           70.70       151.65  \n",
       "5              Yes           Electronic check           99.65        820.5  \n",
       "6              Yes    Credit card (automatic)           89.10       1949.4  \n",
       "7               No               Mailed check           29.75        301.9  \n",
       "8              Yes           Electronic check          104.80      3046.05  \n",
       "9               No  Bank transfer (automatic)           56.15      3487.95  "
      ]
     },
     "execution_count": 4,
     "metadata": {},
     "output_type": "execute_result"
    }
   ],
   "source": [
    "#printing a sample of data\n",
    "contract.head(10)"
   ]
  },
  {
   "cell_type": "markdown",
   "id": "ae1b4204",
   "metadata": {},
   "source": [
    "There are no missing values, but some columns are in incorrect format and some data preprocessing is required. `EndDate` is a target column, there `No` shows that the customer did not leave. We will replace 'No' values with 0 and other values with 1. \n",
    "\n",
    "In terms of the prediction model, instead of `BeginDate`, it is more useful to calculate how many days the customer was with the company.\n",
    "\n",
    "Also, we will change the `Type`, `PaperlessBilling`, and `PaymentMethod` column types to category. `Total charges` has an incorrect type and need to be changed to float."
   ]
  },
  {
   "cell_type": "markdown",
   "id": "7045969b",
   "metadata": {},
   "source": [
    "### Phone"
   ]
  },
  {
   "cell_type": "code",
   "execution_count": 5,
   "id": "0f3496f9",
   "metadata": {},
   "outputs": [
    {
     "name": "stdout",
     "output_type": "stream",
     "text": [
      "<class 'pandas.core.frame.DataFrame'>\n",
      "RangeIndex: 6361 entries, 0 to 6360\n",
      "Data columns (total 2 columns):\n",
      " #   Column         Non-Null Count  Dtype \n",
      "---  ------         --------------  ----- \n",
      " 0   customerID     6361 non-null   object\n",
      " 1   MultipleLines  6361 non-null   object\n",
      "dtypes: object(2)\n",
      "memory usage: 99.5+ KB\n"
     ]
    }
   ],
   "source": [
    "# printing the general/summary information about the phone DF\n",
    "phone.info()"
   ]
  },
  {
   "cell_type": "code",
   "execution_count": 6,
   "id": "67d4e898",
   "metadata": {},
   "outputs": [
    {
     "data": {
      "text/html": [
       "<div>\n",
       "<style scoped>\n",
       "    .dataframe tbody tr th:only-of-type {\n",
       "        vertical-align: middle;\n",
       "    }\n",
       "\n",
       "    .dataframe tbody tr th {\n",
       "        vertical-align: top;\n",
       "    }\n",
       "\n",
       "    .dataframe thead th {\n",
       "        text-align: right;\n",
       "    }\n",
       "</style>\n",
       "<table border=\"1\" class=\"dataframe\">\n",
       "  <thead>\n",
       "    <tr style=\"text-align: right;\">\n",
       "      <th></th>\n",
       "      <th>customerID</th>\n",
       "      <th>MultipleLines</th>\n",
       "    </tr>\n",
       "  </thead>\n",
       "  <tbody>\n",
       "    <tr>\n",
       "      <th>0</th>\n",
       "      <td>5575-GNVDE</td>\n",
       "      <td>No</td>\n",
       "    </tr>\n",
       "    <tr>\n",
       "      <th>1</th>\n",
       "      <td>3668-QPYBK</td>\n",
       "      <td>No</td>\n",
       "    </tr>\n",
       "    <tr>\n",
       "      <th>2</th>\n",
       "      <td>9237-HQITU</td>\n",
       "      <td>No</td>\n",
       "    </tr>\n",
       "    <tr>\n",
       "      <th>3</th>\n",
       "      <td>9305-CDSKC</td>\n",
       "      <td>Yes</td>\n",
       "    </tr>\n",
       "    <tr>\n",
       "      <th>4</th>\n",
       "      <td>1452-KIOVK</td>\n",
       "      <td>Yes</td>\n",
       "    </tr>\n",
       "    <tr>\n",
       "      <th>5</th>\n",
       "      <td>7892-POOKP</td>\n",
       "      <td>Yes</td>\n",
       "    </tr>\n",
       "    <tr>\n",
       "      <th>6</th>\n",
       "      <td>6388-TABGU</td>\n",
       "      <td>No</td>\n",
       "    </tr>\n",
       "    <tr>\n",
       "      <th>7</th>\n",
       "      <td>9763-GRSKD</td>\n",
       "      <td>No</td>\n",
       "    </tr>\n",
       "    <tr>\n",
       "      <th>8</th>\n",
       "      <td>7469-LKBCI</td>\n",
       "      <td>No</td>\n",
       "    </tr>\n",
       "    <tr>\n",
       "      <th>9</th>\n",
       "      <td>8091-TTVAX</td>\n",
       "      <td>Yes</td>\n",
       "    </tr>\n",
       "  </tbody>\n",
       "</table>\n",
       "</div>"
      ],
      "text/plain": [
       "   customerID MultipleLines\n",
       "0  5575-GNVDE            No\n",
       "1  3668-QPYBK            No\n",
       "2  9237-HQITU            No\n",
       "3  9305-CDSKC           Yes\n",
       "4  1452-KIOVK           Yes\n",
       "5  7892-POOKP           Yes\n",
       "6  6388-TABGU            No\n",
       "7  9763-GRSKD            No\n",
       "8  7469-LKBCI            No\n",
       "9  8091-TTVAX           Yes"
      ]
     },
     "execution_count": 6,
     "metadata": {},
     "output_type": "execute_result"
    }
   ],
   "source": [
    "#printing a sample of data\n",
    "phone.head(10)"
   ]
  },
  {
   "cell_type": "markdown",
   "id": "5196e4bf",
   "metadata": {},
   "source": [
    "There are no missing values. Apart from `customerID`, there is only one column which type we will change to category. Let’s just confirm that there are only 2 categories."
   ]
  },
  {
   "cell_type": "code",
   "execution_count": 7,
   "id": "71e202e3",
   "metadata": {},
   "outputs": [
    {
     "data": {
      "text/plain": [
       "No     3390\n",
       "Yes    2971\n",
       "Name: MultipleLines, dtype: int64"
      ]
     },
     "execution_count": 7,
     "metadata": {},
     "output_type": "execute_result"
    }
   ],
   "source": [
    "phone['MultipleLines'].value_counts()"
   ]
  },
  {
   "cell_type": "markdown",
   "id": "d41dd800",
   "metadata": {},
   "source": [
    "There are only two categories. \n",
    "\n",
    "Also, there are fewer rows than in the contract table, which means that not all customers use phone service."
   ]
  },
  {
   "cell_type": "markdown",
   "id": "699cc45b",
   "metadata": {},
   "source": [
    "### Internet"
   ]
  },
  {
   "cell_type": "code",
   "execution_count": 8,
   "id": "c02fcdf6",
   "metadata": {},
   "outputs": [
    {
     "name": "stdout",
     "output_type": "stream",
     "text": [
      "<class 'pandas.core.frame.DataFrame'>\n",
      "RangeIndex: 5517 entries, 0 to 5516\n",
      "Data columns (total 8 columns):\n",
      " #   Column            Non-Null Count  Dtype \n",
      "---  ------            --------------  ----- \n",
      " 0   customerID        5517 non-null   object\n",
      " 1   InternetService   5517 non-null   object\n",
      " 2   OnlineSecurity    5517 non-null   object\n",
      " 3   OnlineBackup      5517 non-null   object\n",
      " 4   DeviceProtection  5517 non-null   object\n",
      " 5   TechSupport       5517 non-null   object\n",
      " 6   StreamingTV       5517 non-null   object\n",
      " 7   StreamingMovies   5517 non-null   object\n",
      "dtypes: object(8)\n",
      "memory usage: 344.9+ KB\n"
     ]
    }
   ],
   "source": [
    "# printing the general/summary information about the internet DF\n",
    "internet.info()"
   ]
  },
  {
   "cell_type": "code",
   "execution_count": 9,
   "id": "0dc7bf6d",
   "metadata": {},
   "outputs": [
    {
     "data": {
      "text/html": [
       "<div>\n",
       "<style scoped>\n",
       "    .dataframe tbody tr th:only-of-type {\n",
       "        vertical-align: middle;\n",
       "    }\n",
       "\n",
       "    .dataframe tbody tr th {\n",
       "        vertical-align: top;\n",
       "    }\n",
       "\n",
       "    .dataframe thead th {\n",
       "        text-align: right;\n",
       "    }\n",
       "</style>\n",
       "<table border=\"1\" class=\"dataframe\">\n",
       "  <thead>\n",
       "    <tr style=\"text-align: right;\">\n",
       "      <th></th>\n",
       "      <th>customerID</th>\n",
       "      <th>InternetService</th>\n",
       "      <th>OnlineSecurity</th>\n",
       "      <th>OnlineBackup</th>\n",
       "      <th>DeviceProtection</th>\n",
       "      <th>TechSupport</th>\n",
       "      <th>StreamingTV</th>\n",
       "      <th>StreamingMovies</th>\n",
       "    </tr>\n",
       "  </thead>\n",
       "  <tbody>\n",
       "    <tr>\n",
       "      <th>0</th>\n",
       "      <td>7590-VHVEG</td>\n",
       "      <td>DSL</td>\n",
       "      <td>No</td>\n",
       "      <td>Yes</td>\n",
       "      <td>No</td>\n",
       "      <td>No</td>\n",
       "      <td>No</td>\n",
       "      <td>No</td>\n",
       "    </tr>\n",
       "    <tr>\n",
       "      <th>1</th>\n",
       "      <td>5575-GNVDE</td>\n",
       "      <td>DSL</td>\n",
       "      <td>Yes</td>\n",
       "      <td>No</td>\n",
       "      <td>Yes</td>\n",
       "      <td>No</td>\n",
       "      <td>No</td>\n",
       "      <td>No</td>\n",
       "    </tr>\n",
       "    <tr>\n",
       "      <th>2</th>\n",
       "      <td>3668-QPYBK</td>\n",
       "      <td>DSL</td>\n",
       "      <td>Yes</td>\n",
       "      <td>Yes</td>\n",
       "      <td>No</td>\n",
       "      <td>No</td>\n",
       "      <td>No</td>\n",
       "      <td>No</td>\n",
       "    </tr>\n",
       "    <tr>\n",
       "      <th>3</th>\n",
       "      <td>7795-CFOCW</td>\n",
       "      <td>DSL</td>\n",
       "      <td>Yes</td>\n",
       "      <td>No</td>\n",
       "      <td>Yes</td>\n",
       "      <td>Yes</td>\n",
       "      <td>No</td>\n",
       "      <td>No</td>\n",
       "    </tr>\n",
       "    <tr>\n",
       "      <th>4</th>\n",
       "      <td>9237-HQITU</td>\n",
       "      <td>Fiber optic</td>\n",
       "      <td>No</td>\n",
       "      <td>No</td>\n",
       "      <td>No</td>\n",
       "      <td>No</td>\n",
       "      <td>No</td>\n",
       "      <td>No</td>\n",
       "    </tr>\n",
       "    <tr>\n",
       "      <th>5</th>\n",
       "      <td>9305-CDSKC</td>\n",
       "      <td>Fiber optic</td>\n",
       "      <td>No</td>\n",
       "      <td>No</td>\n",
       "      <td>Yes</td>\n",
       "      <td>No</td>\n",
       "      <td>Yes</td>\n",
       "      <td>Yes</td>\n",
       "    </tr>\n",
       "    <tr>\n",
       "      <th>6</th>\n",
       "      <td>1452-KIOVK</td>\n",
       "      <td>Fiber optic</td>\n",
       "      <td>No</td>\n",
       "      <td>Yes</td>\n",
       "      <td>No</td>\n",
       "      <td>No</td>\n",
       "      <td>Yes</td>\n",
       "      <td>No</td>\n",
       "    </tr>\n",
       "    <tr>\n",
       "      <th>7</th>\n",
       "      <td>6713-OKOMC</td>\n",
       "      <td>DSL</td>\n",
       "      <td>Yes</td>\n",
       "      <td>No</td>\n",
       "      <td>No</td>\n",
       "      <td>No</td>\n",
       "      <td>No</td>\n",
       "      <td>No</td>\n",
       "    </tr>\n",
       "    <tr>\n",
       "      <th>8</th>\n",
       "      <td>7892-POOKP</td>\n",
       "      <td>Fiber optic</td>\n",
       "      <td>No</td>\n",
       "      <td>No</td>\n",
       "      <td>Yes</td>\n",
       "      <td>Yes</td>\n",
       "      <td>Yes</td>\n",
       "      <td>Yes</td>\n",
       "    </tr>\n",
       "    <tr>\n",
       "      <th>9</th>\n",
       "      <td>6388-TABGU</td>\n",
       "      <td>DSL</td>\n",
       "      <td>Yes</td>\n",
       "      <td>Yes</td>\n",
       "      <td>No</td>\n",
       "      <td>No</td>\n",
       "      <td>No</td>\n",
       "      <td>No</td>\n",
       "    </tr>\n",
       "  </tbody>\n",
       "</table>\n",
       "</div>"
      ],
      "text/plain": [
       "   customerID InternetService OnlineSecurity OnlineBackup DeviceProtection  \\\n",
       "0  7590-VHVEG             DSL             No          Yes               No   \n",
       "1  5575-GNVDE             DSL            Yes           No              Yes   \n",
       "2  3668-QPYBK             DSL            Yes          Yes               No   \n",
       "3  7795-CFOCW             DSL            Yes           No              Yes   \n",
       "4  9237-HQITU     Fiber optic             No           No               No   \n",
       "5  9305-CDSKC     Fiber optic             No           No              Yes   \n",
       "6  1452-KIOVK     Fiber optic             No          Yes               No   \n",
       "7  6713-OKOMC             DSL            Yes           No               No   \n",
       "8  7892-POOKP     Fiber optic             No           No              Yes   \n",
       "9  6388-TABGU             DSL            Yes          Yes               No   \n",
       "\n",
       "  TechSupport StreamingTV StreamingMovies  \n",
       "0          No          No              No  \n",
       "1          No          No              No  \n",
       "2          No          No              No  \n",
       "3         Yes          No              No  \n",
       "4          No          No              No  \n",
       "5          No         Yes             Yes  \n",
       "6          No         Yes              No  \n",
       "7          No          No              No  \n",
       "8         Yes         Yes             Yes  \n",
       "9          No          No              No  "
      ]
     },
     "execution_count": 9,
     "metadata": {},
     "output_type": "execute_result"
    }
   ],
   "source": [
    "#printing a sample of data\n",
    "internet.head(10)"
   ]
  },
  {
   "cell_type": "markdown",
   "id": "f84865ce",
   "metadata": {},
   "source": [
    "There are also no missing values. Also, judging by the number of rows, not all customers use internet service. For all columns (apart from `customerID`) we will change column types to categories."
   ]
  },
  {
   "cell_type": "markdown",
   "id": "3aa687cd",
   "metadata": {},
   "source": [
    "### Personal"
   ]
  },
  {
   "cell_type": "code",
   "execution_count": 10,
   "id": "9cd5da00",
   "metadata": {},
   "outputs": [
    {
     "name": "stdout",
     "output_type": "stream",
     "text": [
      "<class 'pandas.core.frame.DataFrame'>\n",
      "RangeIndex: 7043 entries, 0 to 7042\n",
      "Data columns (total 5 columns):\n",
      " #   Column         Non-Null Count  Dtype \n",
      "---  ------         --------------  ----- \n",
      " 0   customerID     7043 non-null   object\n",
      " 1   gender         7043 non-null   object\n",
      " 2   SeniorCitizen  7043 non-null   int64 \n",
      " 3   Partner        7043 non-null   object\n",
      " 4   Dependents     7043 non-null   object\n",
      "dtypes: int64(1), object(4)\n",
      "memory usage: 275.2+ KB\n"
     ]
    }
   ],
   "source": [
    "# printing the general/summary information about the personal DF\n",
    "personal.info()"
   ]
  },
  {
   "cell_type": "code",
   "execution_count": 11,
   "id": "6f03e566",
   "metadata": {},
   "outputs": [
    {
     "data": {
      "text/html": [
       "<div>\n",
       "<style scoped>\n",
       "    .dataframe tbody tr th:only-of-type {\n",
       "        vertical-align: middle;\n",
       "    }\n",
       "\n",
       "    .dataframe tbody tr th {\n",
       "        vertical-align: top;\n",
       "    }\n",
       "\n",
       "    .dataframe thead th {\n",
       "        text-align: right;\n",
       "    }\n",
       "</style>\n",
       "<table border=\"1\" class=\"dataframe\">\n",
       "  <thead>\n",
       "    <tr style=\"text-align: right;\">\n",
       "      <th></th>\n",
       "      <th>customerID</th>\n",
       "      <th>InternetService</th>\n",
       "      <th>OnlineSecurity</th>\n",
       "      <th>OnlineBackup</th>\n",
       "      <th>DeviceProtection</th>\n",
       "      <th>TechSupport</th>\n",
       "      <th>StreamingTV</th>\n",
       "      <th>StreamingMovies</th>\n",
       "    </tr>\n",
       "  </thead>\n",
       "  <tbody>\n",
       "    <tr>\n",
       "      <th>0</th>\n",
       "      <td>7590-VHVEG</td>\n",
       "      <td>DSL</td>\n",
       "      <td>No</td>\n",
       "      <td>Yes</td>\n",
       "      <td>No</td>\n",
       "      <td>No</td>\n",
       "      <td>No</td>\n",
       "      <td>No</td>\n",
       "    </tr>\n",
       "    <tr>\n",
       "      <th>1</th>\n",
       "      <td>5575-GNVDE</td>\n",
       "      <td>DSL</td>\n",
       "      <td>Yes</td>\n",
       "      <td>No</td>\n",
       "      <td>Yes</td>\n",
       "      <td>No</td>\n",
       "      <td>No</td>\n",
       "      <td>No</td>\n",
       "    </tr>\n",
       "    <tr>\n",
       "      <th>2</th>\n",
       "      <td>3668-QPYBK</td>\n",
       "      <td>DSL</td>\n",
       "      <td>Yes</td>\n",
       "      <td>Yes</td>\n",
       "      <td>No</td>\n",
       "      <td>No</td>\n",
       "      <td>No</td>\n",
       "      <td>No</td>\n",
       "    </tr>\n",
       "    <tr>\n",
       "      <th>3</th>\n",
       "      <td>7795-CFOCW</td>\n",
       "      <td>DSL</td>\n",
       "      <td>Yes</td>\n",
       "      <td>No</td>\n",
       "      <td>Yes</td>\n",
       "      <td>Yes</td>\n",
       "      <td>No</td>\n",
       "      <td>No</td>\n",
       "    </tr>\n",
       "    <tr>\n",
       "      <th>4</th>\n",
       "      <td>9237-HQITU</td>\n",
       "      <td>Fiber optic</td>\n",
       "      <td>No</td>\n",
       "      <td>No</td>\n",
       "      <td>No</td>\n",
       "      <td>No</td>\n",
       "      <td>No</td>\n",
       "      <td>No</td>\n",
       "    </tr>\n",
       "    <tr>\n",
       "      <th>5</th>\n",
       "      <td>9305-CDSKC</td>\n",
       "      <td>Fiber optic</td>\n",
       "      <td>No</td>\n",
       "      <td>No</td>\n",
       "      <td>Yes</td>\n",
       "      <td>No</td>\n",
       "      <td>Yes</td>\n",
       "      <td>Yes</td>\n",
       "    </tr>\n",
       "    <tr>\n",
       "      <th>6</th>\n",
       "      <td>1452-KIOVK</td>\n",
       "      <td>Fiber optic</td>\n",
       "      <td>No</td>\n",
       "      <td>Yes</td>\n",
       "      <td>No</td>\n",
       "      <td>No</td>\n",
       "      <td>Yes</td>\n",
       "      <td>No</td>\n",
       "    </tr>\n",
       "    <tr>\n",
       "      <th>7</th>\n",
       "      <td>6713-OKOMC</td>\n",
       "      <td>DSL</td>\n",
       "      <td>Yes</td>\n",
       "      <td>No</td>\n",
       "      <td>No</td>\n",
       "      <td>No</td>\n",
       "      <td>No</td>\n",
       "      <td>No</td>\n",
       "    </tr>\n",
       "    <tr>\n",
       "      <th>8</th>\n",
       "      <td>7892-POOKP</td>\n",
       "      <td>Fiber optic</td>\n",
       "      <td>No</td>\n",
       "      <td>No</td>\n",
       "      <td>Yes</td>\n",
       "      <td>Yes</td>\n",
       "      <td>Yes</td>\n",
       "      <td>Yes</td>\n",
       "    </tr>\n",
       "    <tr>\n",
       "      <th>9</th>\n",
       "      <td>6388-TABGU</td>\n",
       "      <td>DSL</td>\n",
       "      <td>Yes</td>\n",
       "      <td>Yes</td>\n",
       "      <td>No</td>\n",
       "      <td>No</td>\n",
       "      <td>No</td>\n",
       "      <td>No</td>\n",
       "    </tr>\n",
       "  </tbody>\n",
       "</table>\n",
       "</div>"
      ],
      "text/plain": [
       "   customerID InternetService OnlineSecurity OnlineBackup DeviceProtection  \\\n",
       "0  7590-VHVEG             DSL             No          Yes               No   \n",
       "1  5575-GNVDE             DSL            Yes           No              Yes   \n",
       "2  3668-QPYBK             DSL            Yes          Yes               No   \n",
       "3  7795-CFOCW             DSL            Yes           No              Yes   \n",
       "4  9237-HQITU     Fiber optic             No           No               No   \n",
       "5  9305-CDSKC     Fiber optic             No           No              Yes   \n",
       "6  1452-KIOVK     Fiber optic             No          Yes               No   \n",
       "7  6713-OKOMC             DSL            Yes           No               No   \n",
       "8  7892-POOKP     Fiber optic             No           No              Yes   \n",
       "9  6388-TABGU             DSL            Yes          Yes               No   \n",
       "\n",
       "  TechSupport StreamingTV StreamingMovies  \n",
       "0          No          No              No  \n",
       "1          No          No              No  \n",
       "2          No          No              No  \n",
       "3         Yes          No              No  \n",
       "4          No          No              No  \n",
       "5          No         Yes             Yes  \n",
       "6          No         Yes              No  \n",
       "7          No          No              No  \n",
       "8         Yes         Yes             Yes  \n",
       "9          No          No              No  "
      ]
     },
     "execution_count": 11,
     "metadata": {},
     "output_type": "execute_result"
    }
   ],
   "source": [
    "#printing a sample of data\n",
    "internet.head(10)"
   ]
  },
  {
   "cell_type": "markdown",
   "id": "e4ddd96b",
   "metadata": {},
   "source": [
    "There are no missing values and the number of rows matches the number of rows in the `contract` table, which is great. For all columns (apart from customerID) we will change column types to categories."
   ]
  },
  {
   "cell_type": "markdown",
   "id": "c4120ab2",
   "metadata": {},
   "source": [
    "# Data preprocessing"
   ]
  },
  {
   "cell_type": "markdown",
   "id": "98f65637",
   "metadata": {},
   "source": [
    "At this step, we will preprocess the data as described in `Data overview section. We also will merge the data into one table."
   ]
  },
  {
   "cell_type": "markdown",
   "id": "d2af78d5",
   "metadata": {},
   "source": [
    "### Contract"
   ]
  },
  {
   "cell_type": "markdown",
   "id": "4b26a2e2",
   "metadata": {},
   "source": [
    "First of all, we will add the target `churn` column based on the `BeginDate` column."
   ]
  },
  {
   "cell_type": "code",
   "execution_count": 12,
   "id": "7107d7d6",
   "metadata": {},
   "outputs": [],
   "source": [
    "#adding churn column\n",
    "contract['churn']=contract['EndDate'].apply(lambda x: 0 if x=='No' else 1)"
   ]
  },
  {
   "cell_type": "markdown",
   "id": "5acc00e8",
   "metadata": {},
   "source": [
    "Next, we will add the `days` column that will show how many days the customer stayed with the company. We will calculate days as the difference between `EndDate` and `BeginDate`. For `EndDate` where values are equal to 'No', we will use the data to which the contract information is valid as of - February 1, 2020."
   ]
  },
  {
   "cell_type": "code",
   "execution_count": 13,
   "id": "f21bc16a",
   "metadata": {},
   "outputs": [],
   "source": [
    "#replacing No in EndDate column with February 1, 2020\n",
    "contract['EndDate']=contract['EndDate'].replace('No','2020-02-01 00:00:00')\n",
    "\n",
    "#convirting BeginDate and EndDate columns type to DateTime\n",
    "contract['BeginDate']=pd.to_datetime(contract['BeginDate'], format='%Y-%m-%d')\n",
    "contract['EndDate']=pd.to_datetime(contract['EndDate'], format='%Y-%m-%d %H:%M:%S')\n",
    "\n",
    "#adding days column \n",
    "contract['days']=(contract['EndDate'] - contract['BeginDate']).dt.days"
   ]
  },
  {
   "cell_type": "markdown",
   "id": "f94e98cd",
   "metadata": {},
   "source": [
    "Also, we will change `Type`, `PaperlessBilling`, and `PaymentMethod` column types to category and `Total charges` to float."
   ]
  },
  {
   "cell_type": "code",
   "execution_count": 14,
   "id": "42a8141a",
   "metadata": {},
   "outputs": [],
   "source": [
    "#changing Type, PaperlessBilling, and PaymentMethod column types to category\n",
    "contract['Type']=contract['Type'].astype('category')\n",
    "contract['PaperlessBilling']=contract['PaperlessBilling'].astype('category')\n",
    "contract['PaymentMethod']=contract['PaymentMethod'].astype('category')\n",
    "\n",
    "#changing column types of Total charges to float\n",
    "contract['TotalCharges']=pd.to_numeric(contract['TotalCharges'], errors='coerce')"
   ]
  },
  {
   "cell_type": "markdown",
   "id": "9e4b4e64",
   "metadata": {},
   "source": [
    "Let’s check the general table info after the changes."
   ]
  },
  {
   "cell_type": "code",
   "execution_count": 15,
   "id": "6d0856c4",
   "metadata": {},
   "outputs": [
    {
     "name": "stdout",
     "output_type": "stream",
     "text": [
      "<class 'pandas.core.frame.DataFrame'>\n",
      "RangeIndex: 7043 entries, 0 to 7042\n",
      "Data columns (total 10 columns):\n",
      " #   Column            Non-Null Count  Dtype         \n",
      "---  ------            --------------  -----         \n",
      " 0   customerID        7043 non-null   object        \n",
      " 1   BeginDate         7043 non-null   datetime64[ns]\n",
      " 2   EndDate           7043 non-null   datetime64[ns]\n",
      " 3   Type              7043 non-null   category      \n",
      " 4   PaperlessBilling  7043 non-null   category      \n",
      " 5   PaymentMethod     7043 non-null   category      \n",
      " 6   MonthlyCharges    7043 non-null   float64       \n",
      " 7   TotalCharges      7032 non-null   float64       \n",
      " 8   churn             7043 non-null   int64         \n",
      " 9   days              7043 non-null   int64         \n",
      "dtypes: category(3), datetime64[ns](2), float64(2), int64(2), object(1)\n",
      "memory usage: 406.4+ KB\n"
     ]
    }
   ],
   "source": [
    "contract.info()"
   ]
  },
  {
   "cell_type": "markdown",
   "id": "b4cab1fa",
   "metadata": {},
   "source": [
    "As can be seen values in the `TotalCharges` column for a few rows become null. Let’s check these rows."
   ]
  },
  {
   "cell_type": "code",
   "execution_count": 16,
   "id": "df845708",
   "metadata": {},
   "outputs": [
    {
     "data": {
      "text/html": [
       "<div>\n",
       "<style scoped>\n",
       "    .dataframe tbody tr th:only-of-type {\n",
       "        vertical-align: middle;\n",
       "    }\n",
       "\n",
       "    .dataframe tbody tr th {\n",
       "        vertical-align: top;\n",
       "    }\n",
       "\n",
       "    .dataframe thead th {\n",
       "        text-align: right;\n",
       "    }\n",
       "</style>\n",
       "<table border=\"1\" class=\"dataframe\">\n",
       "  <thead>\n",
       "    <tr style=\"text-align: right;\">\n",
       "      <th></th>\n",
       "      <th>customerID</th>\n",
       "      <th>BeginDate</th>\n",
       "      <th>EndDate</th>\n",
       "      <th>Type</th>\n",
       "      <th>PaperlessBilling</th>\n",
       "      <th>PaymentMethod</th>\n",
       "      <th>MonthlyCharges</th>\n",
       "      <th>TotalCharges</th>\n",
       "      <th>churn</th>\n",
       "      <th>days</th>\n",
       "    </tr>\n",
       "  </thead>\n",
       "  <tbody>\n",
       "    <tr>\n",
       "      <th>488</th>\n",
       "      <td>4472-LVYGI</td>\n",
       "      <td>2020-02-01</td>\n",
       "      <td>2020-02-01</td>\n",
       "      <td>Two year</td>\n",
       "      <td>Yes</td>\n",
       "      <td>Bank transfer (automatic)</td>\n",
       "      <td>52.55</td>\n",
       "      <td>NaN</td>\n",
       "      <td>0</td>\n",
       "      <td>0</td>\n",
       "    </tr>\n",
       "    <tr>\n",
       "      <th>753</th>\n",
       "      <td>3115-CZMZD</td>\n",
       "      <td>2020-02-01</td>\n",
       "      <td>2020-02-01</td>\n",
       "      <td>Two year</td>\n",
       "      <td>No</td>\n",
       "      <td>Mailed check</td>\n",
       "      <td>20.25</td>\n",
       "      <td>NaN</td>\n",
       "      <td>0</td>\n",
       "      <td>0</td>\n",
       "    </tr>\n",
       "    <tr>\n",
       "      <th>936</th>\n",
       "      <td>5709-LVOEQ</td>\n",
       "      <td>2020-02-01</td>\n",
       "      <td>2020-02-01</td>\n",
       "      <td>Two year</td>\n",
       "      <td>No</td>\n",
       "      <td>Mailed check</td>\n",
       "      <td>80.85</td>\n",
       "      <td>NaN</td>\n",
       "      <td>0</td>\n",
       "      <td>0</td>\n",
       "    </tr>\n",
       "    <tr>\n",
       "      <th>1082</th>\n",
       "      <td>4367-NUYAO</td>\n",
       "      <td>2020-02-01</td>\n",
       "      <td>2020-02-01</td>\n",
       "      <td>Two year</td>\n",
       "      <td>No</td>\n",
       "      <td>Mailed check</td>\n",
       "      <td>25.75</td>\n",
       "      <td>NaN</td>\n",
       "      <td>0</td>\n",
       "      <td>0</td>\n",
       "    </tr>\n",
       "    <tr>\n",
       "      <th>1340</th>\n",
       "      <td>1371-DWPAZ</td>\n",
       "      <td>2020-02-01</td>\n",
       "      <td>2020-02-01</td>\n",
       "      <td>Two year</td>\n",
       "      <td>No</td>\n",
       "      <td>Credit card (automatic)</td>\n",
       "      <td>56.05</td>\n",
       "      <td>NaN</td>\n",
       "      <td>0</td>\n",
       "      <td>0</td>\n",
       "    </tr>\n",
       "    <tr>\n",
       "      <th>3331</th>\n",
       "      <td>7644-OMVMY</td>\n",
       "      <td>2020-02-01</td>\n",
       "      <td>2020-02-01</td>\n",
       "      <td>Two year</td>\n",
       "      <td>No</td>\n",
       "      <td>Mailed check</td>\n",
       "      <td>19.85</td>\n",
       "      <td>NaN</td>\n",
       "      <td>0</td>\n",
       "      <td>0</td>\n",
       "    </tr>\n",
       "    <tr>\n",
       "      <th>3826</th>\n",
       "      <td>3213-VVOLG</td>\n",
       "      <td>2020-02-01</td>\n",
       "      <td>2020-02-01</td>\n",
       "      <td>Two year</td>\n",
       "      <td>No</td>\n",
       "      <td>Mailed check</td>\n",
       "      <td>25.35</td>\n",
       "      <td>NaN</td>\n",
       "      <td>0</td>\n",
       "      <td>0</td>\n",
       "    </tr>\n",
       "    <tr>\n",
       "      <th>4380</th>\n",
       "      <td>2520-SGTTA</td>\n",
       "      <td>2020-02-01</td>\n",
       "      <td>2020-02-01</td>\n",
       "      <td>Two year</td>\n",
       "      <td>No</td>\n",
       "      <td>Mailed check</td>\n",
       "      <td>20.00</td>\n",
       "      <td>NaN</td>\n",
       "      <td>0</td>\n",
       "      <td>0</td>\n",
       "    </tr>\n",
       "    <tr>\n",
       "      <th>5218</th>\n",
       "      <td>2923-ARZLG</td>\n",
       "      <td>2020-02-01</td>\n",
       "      <td>2020-02-01</td>\n",
       "      <td>One year</td>\n",
       "      <td>Yes</td>\n",
       "      <td>Mailed check</td>\n",
       "      <td>19.70</td>\n",
       "      <td>NaN</td>\n",
       "      <td>0</td>\n",
       "      <td>0</td>\n",
       "    </tr>\n",
       "    <tr>\n",
       "      <th>6670</th>\n",
       "      <td>4075-WKNIU</td>\n",
       "      <td>2020-02-01</td>\n",
       "      <td>2020-02-01</td>\n",
       "      <td>Two year</td>\n",
       "      <td>No</td>\n",
       "      <td>Mailed check</td>\n",
       "      <td>73.35</td>\n",
       "      <td>NaN</td>\n",
       "      <td>0</td>\n",
       "      <td>0</td>\n",
       "    </tr>\n",
       "    <tr>\n",
       "      <th>6754</th>\n",
       "      <td>2775-SEFEE</td>\n",
       "      <td>2020-02-01</td>\n",
       "      <td>2020-02-01</td>\n",
       "      <td>Two year</td>\n",
       "      <td>Yes</td>\n",
       "      <td>Bank transfer (automatic)</td>\n",
       "      <td>61.90</td>\n",
       "      <td>NaN</td>\n",
       "      <td>0</td>\n",
       "      <td>0</td>\n",
       "    </tr>\n",
       "  </tbody>\n",
       "</table>\n",
       "</div>"
      ],
      "text/plain": [
       "      customerID  BeginDate    EndDate      Type PaperlessBilling  \\\n",
       "488   4472-LVYGI 2020-02-01 2020-02-01  Two year              Yes   \n",
       "753   3115-CZMZD 2020-02-01 2020-02-01  Two year               No   \n",
       "936   5709-LVOEQ 2020-02-01 2020-02-01  Two year               No   \n",
       "1082  4367-NUYAO 2020-02-01 2020-02-01  Two year               No   \n",
       "1340  1371-DWPAZ 2020-02-01 2020-02-01  Two year               No   \n",
       "3331  7644-OMVMY 2020-02-01 2020-02-01  Two year               No   \n",
       "3826  3213-VVOLG 2020-02-01 2020-02-01  Two year               No   \n",
       "4380  2520-SGTTA 2020-02-01 2020-02-01  Two year               No   \n",
       "5218  2923-ARZLG 2020-02-01 2020-02-01  One year              Yes   \n",
       "6670  4075-WKNIU 2020-02-01 2020-02-01  Two year               No   \n",
       "6754  2775-SEFEE 2020-02-01 2020-02-01  Two year              Yes   \n",
       "\n",
       "                  PaymentMethod  MonthlyCharges  TotalCharges  churn  days  \n",
       "488   Bank transfer (automatic)           52.55           NaN      0     0  \n",
       "753                Mailed check           20.25           NaN      0     0  \n",
       "936                Mailed check           80.85           NaN      0     0  \n",
       "1082               Mailed check           25.75           NaN      0     0  \n",
       "1340    Credit card (automatic)           56.05           NaN      0     0  \n",
       "3331               Mailed check           19.85           NaN      0     0  \n",
       "3826               Mailed check           25.35           NaN      0     0  \n",
       "4380               Mailed check           20.00           NaN      0     0  \n",
       "5218               Mailed check           19.70           NaN      0     0  \n",
       "6670               Mailed check           73.35           NaN      0     0  \n",
       "6754  Bank transfer (automatic)           61.90           NaN      0     0  "
      ]
     },
     "execution_count": 16,
     "metadata": {},
     "output_type": "execute_result"
    }
   ],
   "source": [
    "contract[contract['TotalCharges'].isna()]"
   ]
  },
  {
   "cell_type": "markdown",
   "id": "3c5a798c",
   "metadata": {},
   "source": [
    "These customers are just joined, and this is why there are no TotalCharges for them. So, we will fill them with 0."
   ]
  },
  {
   "cell_type": "code",
   "execution_count": 17,
   "id": "38e5361f",
   "metadata": {},
   "outputs": [],
   "source": [
    "#filling null in TotalCharges column with 0\n",
    "contract['TotalCharges']=contract['TotalCharges'].fillna(0)"
   ]
  },
  {
   "cell_type": "markdown",
   "id": "3dcb3e60",
   "metadata": {},
   "source": [
    "Finally, for this table, we will drop the `BeginDate` and `EndDate` columns as we don’t need them anymore."
   ]
  },
  {
   "cell_type": "code",
   "execution_count": 18,
   "id": "bec064a4",
   "metadata": {},
   "outputs": [],
   "source": [
    "# dropping the BeginDate and EndDate columns\n",
    "contract=contract.drop(['BeginDate', 'EndDate'], axis=1)"
   ]
  },
  {
   "cell_type": "code",
   "execution_count": 19,
   "id": "eb6a6f2b",
   "metadata": {},
   "outputs": [
    {
     "name": "stdout",
     "output_type": "stream",
     "text": [
      "<class 'pandas.core.frame.DataFrame'>\n",
      "RangeIndex: 7043 entries, 0 to 7042\n",
      "Data columns (total 8 columns):\n",
      " #   Column            Non-Null Count  Dtype   \n",
      "---  ------            --------------  -----   \n",
      " 0   customerID        7043 non-null   object  \n",
      " 1   Type              7043 non-null   category\n",
      " 2   PaperlessBilling  7043 non-null   category\n",
      " 3   PaymentMethod     7043 non-null   category\n",
      " 4   MonthlyCharges    7043 non-null   float64 \n",
      " 5   TotalCharges      7043 non-null   float64 \n",
      " 6   churn             7043 non-null   int64   \n",
      " 7   days              7043 non-null   int64   \n",
      "dtypes: category(3), float64(2), int64(2), object(1)\n",
      "memory usage: 296.3+ KB\n"
     ]
    }
   ],
   "source": [
    "#confirming that contract DF is good now\n",
    "contract.info()"
   ]
  },
  {
   "cell_type": "markdown",
   "id": "8fe2274a",
   "metadata": {},
   "source": [
    "### Personal"
   ]
  },
  {
   "cell_type": "markdown",
   "id": "aa62f03b",
   "metadata": {},
   "source": [
    "As proposed for all columns (apart from customerID) we will change column types to categories. Then we will merge the `contract` and `personal` tables."
   ]
  },
  {
   "cell_type": "code",
   "execution_count": 20,
   "id": "7828475d",
   "metadata": {},
   "outputs": [],
   "source": [
    "#changing column types to category\n",
    "personal['gender']=personal['gender'].astype('category')\n",
    "personal['Partner'] = personal['Partner'].astype(\"category\")\n",
    "personal['Dependents'] = personal['Dependents'].astype(\"category\")\n",
    "personal['SeniorCitizen'] = personal['SeniorCitizen'].astype(\"category\")"
   ]
  },
  {
   "cell_type": "code",
   "execution_count": 21,
   "id": "4a3c0306",
   "metadata": {},
   "outputs": [],
   "source": [
    "#copying contract table to a new table\n",
    "contract_full=contract\n",
    "\n",
    "#merging personal table to contract_full table\n",
    "contract_full=pd.merge(contract_full, personal, how=\"left\", on=\"customerID\")"
   ]
  },
  {
   "cell_type": "code",
   "execution_count": 22,
   "id": "23d1e763",
   "metadata": {},
   "outputs": [
    {
     "name": "stdout",
     "output_type": "stream",
     "text": [
      "<class 'pandas.core.frame.DataFrame'>\n",
      "Int64Index: 7043 entries, 0 to 7042\n",
      "Data columns (total 12 columns):\n",
      " #   Column            Non-Null Count  Dtype   \n",
      "---  ------            --------------  -----   \n",
      " 0   customerID        7043 non-null   object  \n",
      " 1   Type              7043 non-null   category\n",
      " 2   PaperlessBilling  7043 non-null   category\n",
      " 3   PaymentMethod     7043 non-null   category\n",
      " 4   MonthlyCharges    7043 non-null   float64 \n",
      " 5   TotalCharges      7043 non-null   float64 \n",
      " 6   churn             7043 non-null   int64   \n",
      " 7   days              7043 non-null   int64   \n",
      " 8   gender            7043 non-null   category\n",
      " 9   SeniorCitizen     7043 non-null   category\n",
      " 10  Partner           7043 non-null   category\n",
      " 11  Dependents        7043 non-null   category\n",
      "dtypes: category(7), float64(2), int64(2), object(1)\n",
      "memory usage: 379.2+ KB\n",
      "None\n"
     ]
    },
    {
     "data": {
      "text/html": [
       "<div>\n",
       "<style scoped>\n",
       "    .dataframe tbody tr th:only-of-type {\n",
       "        vertical-align: middle;\n",
       "    }\n",
       "\n",
       "    .dataframe tbody tr th {\n",
       "        vertical-align: top;\n",
       "    }\n",
       "\n",
       "    .dataframe thead th {\n",
       "        text-align: right;\n",
       "    }\n",
       "</style>\n",
       "<table border=\"1\" class=\"dataframe\">\n",
       "  <thead>\n",
       "    <tr style=\"text-align: right;\">\n",
       "      <th></th>\n",
       "      <th>customerID</th>\n",
       "      <th>Type</th>\n",
       "      <th>PaperlessBilling</th>\n",
       "      <th>PaymentMethod</th>\n",
       "      <th>MonthlyCharges</th>\n",
       "      <th>TotalCharges</th>\n",
       "      <th>churn</th>\n",
       "      <th>days</th>\n",
       "      <th>gender</th>\n",
       "      <th>SeniorCitizen</th>\n",
       "      <th>Partner</th>\n",
       "      <th>Dependents</th>\n",
       "    </tr>\n",
       "  </thead>\n",
       "  <tbody>\n",
       "    <tr>\n",
       "      <th>0</th>\n",
       "      <td>7590-VHVEG</td>\n",
       "      <td>Month-to-month</td>\n",
       "      <td>Yes</td>\n",
       "      <td>Electronic check</td>\n",
       "      <td>29.85</td>\n",
       "      <td>29.85</td>\n",
       "      <td>0</td>\n",
       "      <td>31</td>\n",
       "      <td>Female</td>\n",
       "      <td>0</td>\n",
       "      <td>Yes</td>\n",
       "      <td>No</td>\n",
       "    </tr>\n",
       "    <tr>\n",
       "      <th>1</th>\n",
       "      <td>5575-GNVDE</td>\n",
       "      <td>One year</td>\n",
       "      <td>No</td>\n",
       "      <td>Mailed check</td>\n",
       "      <td>56.95</td>\n",
       "      <td>1889.50</td>\n",
       "      <td>0</td>\n",
       "      <td>1036</td>\n",
       "      <td>Male</td>\n",
       "      <td>0</td>\n",
       "      <td>No</td>\n",
       "      <td>No</td>\n",
       "    </tr>\n",
       "    <tr>\n",
       "      <th>2</th>\n",
       "      <td>3668-QPYBK</td>\n",
       "      <td>Month-to-month</td>\n",
       "      <td>Yes</td>\n",
       "      <td>Mailed check</td>\n",
       "      <td>53.85</td>\n",
       "      <td>108.15</td>\n",
       "      <td>1</td>\n",
       "      <td>61</td>\n",
       "      <td>Male</td>\n",
       "      <td>0</td>\n",
       "      <td>No</td>\n",
       "      <td>No</td>\n",
       "    </tr>\n",
       "    <tr>\n",
       "      <th>3</th>\n",
       "      <td>7795-CFOCW</td>\n",
       "      <td>One year</td>\n",
       "      <td>No</td>\n",
       "      <td>Bank transfer (automatic)</td>\n",
       "      <td>42.30</td>\n",
       "      <td>1840.75</td>\n",
       "      <td>0</td>\n",
       "      <td>1371</td>\n",
       "      <td>Male</td>\n",
       "      <td>0</td>\n",
       "      <td>No</td>\n",
       "      <td>No</td>\n",
       "    </tr>\n",
       "    <tr>\n",
       "      <th>4</th>\n",
       "      <td>9237-HQITU</td>\n",
       "      <td>Month-to-month</td>\n",
       "      <td>Yes</td>\n",
       "      <td>Electronic check</td>\n",
       "      <td>70.70</td>\n",
       "      <td>151.65</td>\n",
       "      <td>1</td>\n",
       "      <td>61</td>\n",
       "      <td>Female</td>\n",
       "      <td>0</td>\n",
       "      <td>No</td>\n",
       "      <td>No</td>\n",
       "    </tr>\n",
       "  </tbody>\n",
       "</table>\n",
       "</div>"
      ],
      "text/plain": [
       "   customerID            Type PaperlessBilling              PaymentMethod  \\\n",
       "0  7590-VHVEG  Month-to-month              Yes           Electronic check   \n",
       "1  5575-GNVDE        One year               No               Mailed check   \n",
       "2  3668-QPYBK  Month-to-month              Yes               Mailed check   \n",
       "3  7795-CFOCW        One year               No  Bank transfer (automatic)   \n",
       "4  9237-HQITU  Month-to-month              Yes           Electronic check   \n",
       "\n",
       "   MonthlyCharges  TotalCharges  churn  days  gender SeniorCitizen Partner  \\\n",
       "0           29.85         29.85      0    31  Female             0     Yes   \n",
       "1           56.95       1889.50      0  1036    Male             0      No   \n",
       "2           53.85        108.15      1    61    Male             0      No   \n",
       "3           42.30       1840.75      0  1371    Male             0      No   \n",
       "4           70.70        151.65      1    61  Female             0      No   \n",
       "\n",
       "  Dependents  \n",
       "0         No  \n",
       "1         No  \n",
       "2         No  \n",
       "3         No  \n",
       "4         No  "
      ]
     },
     "execution_count": 22,
     "metadata": {},
     "output_type": "execute_result"
    }
   ],
   "source": [
    "#confirming that the merged table look correct\n",
    "print(contract_full.info())\n",
    "contract_full.head()"
   ]
  },
  {
   "cell_type": "markdown",
   "id": "05ef7de5",
   "metadata": {},
   "source": [
    "### Phone"
   ]
  },
  {
   "cell_type": "markdown",
   "id": "a729b6b1",
   "metadata": {},
   "source": [
    "As not every customer has a phone plan, we will merge the phone table first. Then we will fill the missing values with 'NoService' values and the merged column type to the category."
   ]
  },
  {
   "cell_type": "code",
   "execution_count": 23,
   "id": "d4590717",
   "metadata": {},
   "outputs": [],
   "source": [
    "#merging phone table to contract_full table\n",
    "contract_full=pd.merge(contract_full, phone, how=\"left\", on=\"customerID\")\n",
    "\n",
    "#filling missing values with 'NoService' \n",
    "contract_full['MultipleLines']=contract_full['MultipleLines'].fillna('NoService')\n",
    "\n",
    "#changing column types to category\n",
    "contract_full['MultipleLines']=contract_full['MultipleLines'].astype(\"category\")"
   ]
  },
  {
   "cell_type": "code",
   "execution_count": 24,
   "id": "64ae9f0d",
   "metadata": {},
   "outputs": [
    {
     "name": "stdout",
     "output_type": "stream",
     "text": [
      "<class 'pandas.core.frame.DataFrame'>\n",
      "Int64Index: 7043 entries, 0 to 7042\n",
      "Data columns (total 13 columns):\n",
      " #   Column            Non-Null Count  Dtype   \n",
      "---  ------            --------------  -----   \n",
      " 0   customerID        7043 non-null   object  \n",
      " 1   Type              7043 non-null   category\n",
      " 2   PaperlessBilling  7043 non-null   category\n",
      " 3   PaymentMethod     7043 non-null   category\n",
      " 4   MonthlyCharges    7043 non-null   float64 \n",
      " 5   TotalCharges      7043 non-null   float64 \n",
      " 6   churn             7043 non-null   int64   \n",
      " 7   days              7043 non-null   int64   \n",
      " 8   gender            7043 non-null   category\n",
      " 9   SeniorCitizen     7043 non-null   category\n",
      " 10  Partner           7043 non-null   category\n",
      " 11  Dependents        7043 non-null   category\n",
      " 12  MultipleLines     7043 non-null   category\n",
      "dtypes: category(8), float64(2), int64(2), object(1)\n",
      "memory usage: 386.2+ KB\n",
      "None\n",
      "No           3390\n",
      "Yes          2971\n",
      "NoService     682\n",
      "Name: MultipleLines, dtype: int64\n"
     ]
    },
    {
     "data": {
      "text/html": [
       "<div>\n",
       "<style scoped>\n",
       "    .dataframe tbody tr th:only-of-type {\n",
       "        vertical-align: middle;\n",
       "    }\n",
       "\n",
       "    .dataframe tbody tr th {\n",
       "        vertical-align: top;\n",
       "    }\n",
       "\n",
       "    .dataframe thead th {\n",
       "        text-align: right;\n",
       "    }\n",
       "</style>\n",
       "<table border=\"1\" class=\"dataframe\">\n",
       "  <thead>\n",
       "    <tr style=\"text-align: right;\">\n",
       "      <th></th>\n",
       "      <th>customerID</th>\n",
       "      <th>Type</th>\n",
       "      <th>PaperlessBilling</th>\n",
       "      <th>PaymentMethod</th>\n",
       "      <th>MonthlyCharges</th>\n",
       "      <th>TotalCharges</th>\n",
       "      <th>churn</th>\n",
       "      <th>days</th>\n",
       "      <th>gender</th>\n",
       "      <th>SeniorCitizen</th>\n",
       "      <th>Partner</th>\n",
       "      <th>Dependents</th>\n",
       "      <th>MultipleLines</th>\n",
       "    </tr>\n",
       "  </thead>\n",
       "  <tbody>\n",
       "    <tr>\n",
       "      <th>0</th>\n",
       "      <td>7590-VHVEG</td>\n",
       "      <td>Month-to-month</td>\n",
       "      <td>Yes</td>\n",
       "      <td>Electronic check</td>\n",
       "      <td>29.85</td>\n",
       "      <td>29.85</td>\n",
       "      <td>0</td>\n",
       "      <td>31</td>\n",
       "      <td>Female</td>\n",
       "      <td>0</td>\n",
       "      <td>Yes</td>\n",
       "      <td>No</td>\n",
       "      <td>NoService</td>\n",
       "    </tr>\n",
       "    <tr>\n",
       "      <th>1</th>\n",
       "      <td>5575-GNVDE</td>\n",
       "      <td>One year</td>\n",
       "      <td>No</td>\n",
       "      <td>Mailed check</td>\n",
       "      <td>56.95</td>\n",
       "      <td>1889.50</td>\n",
       "      <td>0</td>\n",
       "      <td>1036</td>\n",
       "      <td>Male</td>\n",
       "      <td>0</td>\n",
       "      <td>No</td>\n",
       "      <td>No</td>\n",
       "      <td>No</td>\n",
       "    </tr>\n",
       "    <tr>\n",
       "      <th>2</th>\n",
       "      <td>3668-QPYBK</td>\n",
       "      <td>Month-to-month</td>\n",
       "      <td>Yes</td>\n",
       "      <td>Mailed check</td>\n",
       "      <td>53.85</td>\n",
       "      <td>108.15</td>\n",
       "      <td>1</td>\n",
       "      <td>61</td>\n",
       "      <td>Male</td>\n",
       "      <td>0</td>\n",
       "      <td>No</td>\n",
       "      <td>No</td>\n",
       "      <td>No</td>\n",
       "    </tr>\n",
       "    <tr>\n",
       "      <th>3</th>\n",
       "      <td>7795-CFOCW</td>\n",
       "      <td>One year</td>\n",
       "      <td>No</td>\n",
       "      <td>Bank transfer (automatic)</td>\n",
       "      <td>42.30</td>\n",
       "      <td>1840.75</td>\n",
       "      <td>0</td>\n",
       "      <td>1371</td>\n",
       "      <td>Male</td>\n",
       "      <td>0</td>\n",
       "      <td>No</td>\n",
       "      <td>No</td>\n",
       "      <td>NoService</td>\n",
       "    </tr>\n",
       "    <tr>\n",
       "      <th>4</th>\n",
       "      <td>9237-HQITU</td>\n",
       "      <td>Month-to-month</td>\n",
       "      <td>Yes</td>\n",
       "      <td>Electronic check</td>\n",
       "      <td>70.70</td>\n",
       "      <td>151.65</td>\n",
       "      <td>1</td>\n",
       "      <td>61</td>\n",
       "      <td>Female</td>\n",
       "      <td>0</td>\n",
       "      <td>No</td>\n",
       "      <td>No</td>\n",
       "      <td>No</td>\n",
       "    </tr>\n",
       "  </tbody>\n",
       "</table>\n",
       "</div>"
      ],
      "text/plain": [
       "   customerID            Type PaperlessBilling              PaymentMethod  \\\n",
       "0  7590-VHVEG  Month-to-month              Yes           Electronic check   \n",
       "1  5575-GNVDE        One year               No               Mailed check   \n",
       "2  3668-QPYBK  Month-to-month              Yes               Mailed check   \n",
       "3  7795-CFOCW        One year               No  Bank transfer (automatic)   \n",
       "4  9237-HQITU  Month-to-month              Yes           Electronic check   \n",
       "\n",
       "   MonthlyCharges  TotalCharges  churn  days  gender SeniorCitizen Partner  \\\n",
       "0           29.85         29.85      0    31  Female             0     Yes   \n",
       "1           56.95       1889.50      0  1036    Male             0      No   \n",
       "2           53.85        108.15      1    61    Male             0      No   \n",
       "3           42.30       1840.75      0  1371    Male             0      No   \n",
       "4           70.70        151.65      1    61  Female             0      No   \n",
       "\n",
       "  Dependents MultipleLines  \n",
       "0         No     NoService  \n",
       "1         No            No  \n",
       "2         No            No  \n",
       "3         No     NoService  \n",
       "4         No            No  "
      ]
     },
     "execution_count": 24,
     "metadata": {},
     "output_type": "execute_result"
    }
   ],
   "source": [
    "#confirming that the merged table look correct\n",
    "print(contract_full.info())\n",
    "print(contract_full['MultipleLines'].value_counts())\n",
    "contract_full.head()"
   ]
  },
  {
   "cell_type": "markdown",
   "id": "843af634",
   "metadata": {},
   "source": [
    "### Internet"
   ]
  },
  {
   "cell_type": "markdown",
   "id": "188f1737",
   "metadata": {},
   "source": [
    "The same as with the `phone` table, we will merge the `internet` table first. Then we will fill the missing values in merged columns with `No` values. Finally, we will change the merged columns type to category. As well, we will drop `customerID`, as we no longer need it."
   ]
  },
  {
   "cell_type": "code",
   "execution_count": 25,
   "id": "6f1d8932",
   "metadata": {},
   "outputs": [],
   "source": [
    "#merging internet table to contract_full table\n",
    "contract_full=pd.merge(contract_full, internet, how=\"left\", on=\"customerID\")\n",
    "\n",
    "#filling missing values\n",
    "contract_full[internet.columns]=contract_full[internet.columns].fillna('No')\n",
    "\n",
    "#changing column types to category\n",
    "contract_full['InternetService']=contract_full['InternetService'].astype(\"category\")\n",
    "contract_full['OnlineSecurity']=contract_full['OnlineSecurity'].astype(\"category\")\n",
    "contract_full['OnlineBackup']=contract_full['OnlineBackup'].astype(\"category\")\n",
    "contract_full['DeviceProtection']=contract_full['DeviceProtection'].astype(\"category\")\n",
    "contract_full['TechSupport']=contract_full['TechSupport'].astype(\"category\")\n",
    "contract_full['StreamingTV']=contract_full['StreamingTV'].astype(\"category\")\n",
    "contract_full['StreamingMovies']=contract_full['StreamingMovies'].astype(\"category\")\n",
    "\n",
    "#dropping customerID\n",
    "contract_full=contract_full.drop(['customerID'], axis=1)"
   ]
  },
  {
   "cell_type": "code",
   "execution_count": 26,
   "id": "fc6a456d",
   "metadata": {},
   "outputs": [
    {
     "name": "stdout",
     "output_type": "stream",
     "text": [
      "<class 'pandas.core.frame.DataFrame'>\n",
      "Int64Index: 7043 entries, 0 to 7042\n",
      "Data columns (total 19 columns):\n",
      " #   Column            Non-Null Count  Dtype   \n",
      "---  ------            --------------  -----   \n",
      " 0   Type              7043 non-null   category\n",
      " 1   PaperlessBilling  7043 non-null   category\n",
      " 2   PaymentMethod     7043 non-null   category\n",
      " 3   MonthlyCharges    7043 non-null   float64 \n",
      " 4   TotalCharges      7043 non-null   float64 \n",
      " 5   churn             7043 non-null   int64   \n",
      " 6   days              7043 non-null   int64   \n",
      " 7   gender            7043 non-null   category\n",
      " 8   SeniorCitizen     7043 non-null   category\n",
      " 9   Partner           7043 non-null   category\n",
      " 10  Dependents        7043 non-null   category\n",
      " 11  MultipleLines     7043 non-null   category\n",
      " 12  InternetService   7043 non-null   category\n",
      " 13  OnlineSecurity    7043 non-null   category\n",
      " 14  OnlineBackup      7043 non-null   category\n",
      " 15  DeviceProtection  7043 non-null   category\n",
      " 16  TechSupport       7043 non-null   category\n",
      " 17  StreamingTV       7043 non-null   category\n",
      " 18  StreamingMovies   7043 non-null   category\n",
      "dtypes: category(15), float64(2), int64(2)\n",
      "memory usage: 380.2 KB\n",
      "None\n"
     ]
    },
    {
     "data": {
      "text/html": [
       "<div>\n",
       "<style scoped>\n",
       "    .dataframe tbody tr th:only-of-type {\n",
       "        vertical-align: middle;\n",
       "    }\n",
       "\n",
       "    .dataframe tbody tr th {\n",
       "        vertical-align: top;\n",
       "    }\n",
       "\n",
       "    .dataframe thead th {\n",
       "        text-align: right;\n",
       "    }\n",
       "</style>\n",
       "<table border=\"1\" class=\"dataframe\">\n",
       "  <thead>\n",
       "    <tr style=\"text-align: right;\">\n",
       "      <th></th>\n",
       "      <th>Type</th>\n",
       "      <th>PaperlessBilling</th>\n",
       "      <th>PaymentMethod</th>\n",
       "      <th>MonthlyCharges</th>\n",
       "      <th>TotalCharges</th>\n",
       "      <th>churn</th>\n",
       "      <th>days</th>\n",
       "      <th>gender</th>\n",
       "      <th>SeniorCitizen</th>\n",
       "      <th>Partner</th>\n",
       "      <th>Dependents</th>\n",
       "      <th>MultipleLines</th>\n",
       "      <th>InternetService</th>\n",
       "      <th>OnlineSecurity</th>\n",
       "      <th>OnlineBackup</th>\n",
       "      <th>DeviceProtection</th>\n",
       "      <th>TechSupport</th>\n",
       "      <th>StreamingTV</th>\n",
       "      <th>StreamingMovies</th>\n",
       "    </tr>\n",
       "  </thead>\n",
       "  <tbody>\n",
       "    <tr>\n",
       "      <th>0</th>\n",
       "      <td>Month-to-month</td>\n",
       "      <td>Yes</td>\n",
       "      <td>Electronic check</td>\n",
       "      <td>29.85</td>\n",
       "      <td>29.85</td>\n",
       "      <td>0</td>\n",
       "      <td>31</td>\n",
       "      <td>Female</td>\n",
       "      <td>0</td>\n",
       "      <td>Yes</td>\n",
       "      <td>No</td>\n",
       "      <td>NoService</td>\n",
       "      <td>DSL</td>\n",
       "      <td>No</td>\n",
       "      <td>Yes</td>\n",
       "      <td>No</td>\n",
       "      <td>No</td>\n",
       "      <td>No</td>\n",
       "      <td>No</td>\n",
       "    </tr>\n",
       "    <tr>\n",
       "      <th>1</th>\n",
       "      <td>One year</td>\n",
       "      <td>No</td>\n",
       "      <td>Mailed check</td>\n",
       "      <td>56.95</td>\n",
       "      <td>1889.50</td>\n",
       "      <td>0</td>\n",
       "      <td>1036</td>\n",
       "      <td>Male</td>\n",
       "      <td>0</td>\n",
       "      <td>No</td>\n",
       "      <td>No</td>\n",
       "      <td>No</td>\n",
       "      <td>DSL</td>\n",
       "      <td>Yes</td>\n",
       "      <td>No</td>\n",
       "      <td>Yes</td>\n",
       "      <td>No</td>\n",
       "      <td>No</td>\n",
       "      <td>No</td>\n",
       "    </tr>\n",
       "    <tr>\n",
       "      <th>2</th>\n",
       "      <td>Month-to-month</td>\n",
       "      <td>Yes</td>\n",
       "      <td>Mailed check</td>\n",
       "      <td>53.85</td>\n",
       "      <td>108.15</td>\n",
       "      <td>1</td>\n",
       "      <td>61</td>\n",
       "      <td>Male</td>\n",
       "      <td>0</td>\n",
       "      <td>No</td>\n",
       "      <td>No</td>\n",
       "      <td>No</td>\n",
       "      <td>DSL</td>\n",
       "      <td>Yes</td>\n",
       "      <td>Yes</td>\n",
       "      <td>No</td>\n",
       "      <td>No</td>\n",
       "      <td>No</td>\n",
       "      <td>No</td>\n",
       "    </tr>\n",
       "    <tr>\n",
       "      <th>3</th>\n",
       "      <td>One year</td>\n",
       "      <td>No</td>\n",
       "      <td>Bank transfer (automatic)</td>\n",
       "      <td>42.30</td>\n",
       "      <td>1840.75</td>\n",
       "      <td>0</td>\n",
       "      <td>1371</td>\n",
       "      <td>Male</td>\n",
       "      <td>0</td>\n",
       "      <td>No</td>\n",
       "      <td>No</td>\n",
       "      <td>NoService</td>\n",
       "      <td>DSL</td>\n",
       "      <td>Yes</td>\n",
       "      <td>No</td>\n",
       "      <td>Yes</td>\n",
       "      <td>Yes</td>\n",
       "      <td>No</td>\n",
       "      <td>No</td>\n",
       "    </tr>\n",
       "    <tr>\n",
       "      <th>4</th>\n",
       "      <td>Month-to-month</td>\n",
       "      <td>Yes</td>\n",
       "      <td>Electronic check</td>\n",
       "      <td>70.70</td>\n",
       "      <td>151.65</td>\n",
       "      <td>1</td>\n",
       "      <td>61</td>\n",
       "      <td>Female</td>\n",
       "      <td>0</td>\n",
       "      <td>No</td>\n",
       "      <td>No</td>\n",
       "      <td>No</td>\n",
       "      <td>Fiber optic</td>\n",
       "      <td>No</td>\n",
       "      <td>No</td>\n",
       "      <td>No</td>\n",
       "      <td>No</td>\n",
       "      <td>No</td>\n",
       "      <td>No</td>\n",
       "    </tr>\n",
       "  </tbody>\n",
       "</table>\n",
       "</div>"
      ],
      "text/plain": [
       "             Type PaperlessBilling              PaymentMethod  MonthlyCharges  \\\n",
       "0  Month-to-month              Yes           Electronic check           29.85   \n",
       "1        One year               No               Mailed check           56.95   \n",
       "2  Month-to-month              Yes               Mailed check           53.85   \n",
       "3        One year               No  Bank transfer (automatic)           42.30   \n",
       "4  Month-to-month              Yes           Electronic check           70.70   \n",
       "\n",
       "   TotalCharges  churn  days  gender SeniorCitizen Partner Dependents  \\\n",
       "0         29.85      0    31  Female             0     Yes         No   \n",
       "1       1889.50      0  1036    Male             0      No         No   \n",
       "2        108.15      1    61    Male             0      No         No   \n",
       "3       1840.75      0  1371    Male             0      No         No   \n",
       "4        151.65      1    61  Female             0      No         No   \n",
       "\n",
       "  MultipleLines InternetService OnlineSecurity OnlineBackup DeviceProtection  \\\n",
       "0     NoService             DSL             No          Yes               No   \n",
       "1            No             DSL            Yes           No              Yes   \n",
       "2            No             DSL            Yes          Yes               No   \n",
       "3     NoService             DSL            Yes           No              Yes   \n",
       "4            No     Fiber optic             No           No               No   \n",
       "\n",
       "  TechSupport StreamingTV StreamingMovies  \n",
       "0          No          No              No  \n",
       "1          No          No              No  \n",
       "2          No          No              No  \n",
       "3         Yes          No              No  \n",
       "4          No          No              No  "
      ]
     },
     "execution_count": 26,
     "metadata": {},
     "output_type": "execute_result"
    }
   ],
   "source": [
    "#confirming that the merged table look correct\n",
    "print(contract_full.info())\n",
    "contract_full.head()"
   ]
  },
  {
   "cell_type": "markdown",
   "id": "60418eaf",
   "metadata": {},
   "source": [
    "# Exploratory Data Analysis"
   ]
  },
  {
   "cell_type": "markdown",
   "id": "803ff238",
   "metadata": {},
   "source": [
    "First of all, let’s check if the classes of the target are balanced."
   ]
  },
  {
   "cell_type": "code",
   "execution_count": 27,
   "id": "fac22ecf",
   "metadata": {},
   "outputs": [
    {
     "name": "stdout",
     "output_type": "stream",
     "text": [
      "Percnt of customers who left 0.2653698707936959\n",
      "Percnt of customers who stay 0.7346301292063041\n"
     ]
    }
   ],
   "source": [
    "#culculating persentage of calsses\n",
    "left=len(contract_full[contract_full['churn']==1])/len(contract_full)\n",
    "stay=len(contract_full[contract_full['churn']==0])/len(contract_full)\n",
    "print(f'Percnt of customers who left {left}')\n",
    "print(f'Percnt of customers who stay {stay}')"
   ]
  },
  {
   "cell_type": "markdown",
   "id": "920c5a10",
   "metadata": {},
   "source": [
    "As can be seen, there are almost 3 times more customers who stay with the company than those who left. So, the classes are imbalanced."
   ]
  },
  {
   "cell_type": "markdown",
   "id": "df02b94f",
   "metadata": {},
   "source": [
    "Next, we will create plots to see how the target is dependent on `feature` characteristics."
   ]
  },
  {
   "cell_type": "code",
   "execution_count": 28,
   "id": "106d466b",
   "metadata": {},
   "outputs": [
    {
     "data": {
      "image/png": "[encoded data removed]",
      "text/plain": [
       "<Figure size 1440x1800 with 20 Axes>"
      ]
     },
     "metadata": {
      "needs_background": "light"
     },
     "output_type": "display_data"
    }
   ],
   "source": [
    "#creating plots\n",
    "fig, axis = plt.subplots( 5, 4, figsize=(20,25))\n",
    "axis = axis.flatten()\n",
    "columns=list(set(contract_full.columns))\n",
    "for col, axs in zip(columns, axis):\n",
    "\n",
    "#creating boxplots for numerical features\n",
    "    if contract_full[col].dtype=='float64' or contract_full[col].dtype=='int64':\n",
    "        contract_full.boxplot(column=col, by='churn', ax=axs)  \n",
    "        \n",
    "#creating barcharts for categorical features\n",
    "    else:\n",
    "        feature = contract_full.groupby([col, 'churn'])['churn'].count().unstack()\n",
    "        feature.plot(kind='bar', stacked=False, label='#churn (neg, pos)', ax=axs)      \n",
    "plt.tight_layout()\n",
    "plt.show() \n"
   ]
  },
  {
   "cell_type": "markdown",
   "id": "4d73e350",
   "metadata": {},
   "source": [
    "The following can be seen from the plots:\n",
    "1. Percentage of the customers who left is less among those who use protection services and have technical support. Probably those customers are happier with their services.\n",
    "2. Percentage of the customers who left is higher among those who use streaming services. Probably this is due to higher charges. This assumption also can be confirmed by the observation that the monthly charges of those who left are higher.\n",
    "3. Percentage of the customers who left is higher among those who do not have partners and dependants. Probably those customers are more flexible and do not rely on others when changing the service.\n",
    "4. Percentage of the customers who left is significantly higher among senior citizens. Probably those customers have less income and may face difficulties with service payments.\n",
    "5. Percentage of the customers who left is significantly higher among those who use Fiber Optic internet service. Probably this is also due to the higher cost of this service in comparison with DSL.\n",
    "6. Percentage of the customers who left is significantly higher among those who have a month-to-month payment type. This is expected as this is more difficult to leave a yearly contract as this involves additional charges. In addition, payments on a yearly contract may be less."
   ]
  },
  {
   "cell_type": "markdown",
   "id": "ae2a8cb0",
   "metadata": {},
   "source": [
    "Many factors indicate that higher monthly charges may be one of the key reasons why customers left. Let’s explore in more detail the monthly charges for those who left and those who stay."
   ]
  },
  {
   "cell_type": "code",
   "execution_count": 29,
   "id": "69379d3d",
   "metadata": {},
   "outputs": [
    {
     "data": {
      "image/png": "[encoded data removed]",
      "text/plain": [
       "<Figure size 432x288 with 1 Axes>"
      ]
     },
     "metadata": {
      "needs_background": "light"
     },
     "output_type": "display_data"
    }
   ],
   "source": [
    "#creating boxplot for MonthlyCharges\n",
    "contract_full.boxplot(column='MonthlyCharges', by='churn')\n",
    "plt.suptitle('')\n",
    "plt.show()"
   ]
  },
  {
   "cell_type": "code",
   "execution_count": 30,
   "id": "ab2d740e",
   "metadata": {},
   "outputs": [
    {
     "data": {
      "text/plain": [
       "count    1869.000000\n",
       "mean       74.441332\n",
       "std        24.666053\n",
       "min        18.850000\n",
       "25%        56.150000\n",
       "50%        79.650000\n",
       "75%        94.200000\n",
       "max       118.350000\n",
       "Name: MonthlyCharges, dtype: float64"
      ]
     },
     "execution_count": 30,
     "metadata": {},
     "output_type": "execute_result"
    }
   ],
   "source": [
    "#describing MonthlyCharges for those who left\n",
    "contract_full[contract_full['churn']==1]['MonthlyCharges'].describe()"
   ]
  },
  {
   "cell_type": "code",
   "execution_count": 31,
   "id": "91726f45",
   "metadata": {},
   "outputs": [
    {
     "data": {
      "text/plain": [
       "count    5174.000000\n",
       "mean       61.265124\n",
       "std        31.092648\n",
       "min        18.250000\n",
       "25%        25.100000\n",
       "50%        64.425000\n",
       "75%        88.400000\n",
       "max       118.750000\n",
       "Name: MonthlyCharges, dtype: float64"
      ]
     },
     "execution_count": 31,
     "metadata": {},
     "output_type": "execute_result"
    }
   ],
   "source": [
    "#describing MonthlyCharges for those who stay\n",
    "contract_full[contract_full['churn']==0]['MonthlyCharges'].describe()"
   ]
  },
  {
   "cell_type": "markdown",
   "id": "93b97e04",
   "metadata": {},
   "source": [
    "As can be seen, indeed those who left on average pay more than those who stay."
   ]
  },
  {
   "cell_type": "markdown",
   "id": "e08a58af",
   "metadata": {},
   "source": [
    "From the EDA where can be seen a correlation between the target and features attributes, so we should be able to effectively predict with a machine learning model when a customer is about to leave."
   ]
  },
  {
   "cell_type": "markdown",
   "id": "5caeaefe",
   "metadata": {},
   "source": [
    "# Model Training"
   ]
  },
  {
   "cell_type": "markdown",
   "id": "9e04f507",
   "metadata": {},
   "source": [
    "## Data encoding"
   ]
  },
  {
   "cell_type": "markdown",
   "id": "7d3d16d0",
   "metadata": {},
   "source": [
    "For Decision Tree and Random Forest models, we need to encode the data. We will use One-Hot Encoding."
   ]
  },
  {
   "cell_type": "code",
   "execution_count": 32,
   "id": "d1c3fdeb",
   "metadata": {},
   "outputs": [],
   "source": [
    "#creating a copy of the dataset an dencoding it\n",
    "contract_full_encoded=pd.get_dummies(contract_full, drop_first=True)"
   ]
  },
  {
   "cell_type": "code",
   "execution_count": 33,
   "id": "c6cefdb1",
   "metadata": {},
   "outputs": [
    {
     "data": {
      "text/html": [
       "<div>\n",
       "<style scoped>\n",
       "    .dataframe tbody tr th:only-of-type {\n",
       "        vertical-align: middle;\n",
       "    }\n",
       "\n",
       "    .dataframe tbody tr th {\n",
       "        vertical-align: top;\n",
       "    }\n",
       "\n",
       "    .dataframe thead th {\n",
       "        text-align: right;\n",
       "    }\n",
       "</style>\n",
       "<table border=\"1\" class=\"dataframe\">\n",
       "  <thead>\n",
       "    <tr style=\"text-align: right;\">\n",
       "      <th></th>\n",
       "      <th>MonthlyCharges</th>\n",
       "      <th>TotalCharges</th>\n",
       "      <th>churn</th>\n",
       "      <th>days</th>\n",
       "      <th>Type_One year</th>\n",
       "      <th>Type_Two year</th>\n",
       "      <th>PaperlessBilling_Yes</th>\n",
       "      <th>PaymentMethod_Credit card (automatic)</th>\n",
       "      <th>PaymentMethod_Electronic check</th>\n",
       "      <th>PaymentMethod_Mailed check</th>\n",
       "      <th>...</th>\n",
       "      <th>MultipleLines_NoService</th>\n",
       "      <th>MultipleLines_Yes</th>\n",
       "      <th>InternetService_Fiber optic</th>\n",
       "      <th>InternetService_No</th>\n",
       "      <th>OnlineSecurity_Yes</th>\n",
       "      <th>OnlineBackup_Yes</th>\n",
       "      <th>DeviceProtection_Yes</th>\n",
       "      <th>TechSupport_Yes</th>\n",
       "      <th>StreamingTV_Yes</th>\n",
       "      <th>StreamingMovies_Yes</th>\n",
       "    </tr>\n",
       "  </thead>\n",
       "  <tbody>\n",
       "    <tr>\n",
       "      <th>0</th>\n",
       "      <td>29.85</td>\n",
       "      <td>29.85</td>\n",
       "      <td>0</td>\n",
       "      <td>31</td>\n",
       "      <td>0</td>\n",
       "      <td>0</td>\n",
       "      <td>1</td>\n",
       "      <td>0</td>\n",
       "      <td>1</td>\n",
       "      <td>0</td>\n",
       "      <td>...</td>\n",
       "      <td>1</td>\n",
       "      <td>0</td>\n",
       "      <td>0</td>\n",
       "      <td>0</td>\n",
       "      <td>0</td>\n",
       "      <td>1</td>\n",
       "      <td>0</td>\n",
       "      <td>0</td>\n",
       "      <td>0</td>\n",
       "      <td>0</td>\n",
       "    </tr>\n",
       "    <tr>\n",
       "      <th>1</th>\n",
       "      <td>56.95</td>\n",
       "      <td>1889.50</td>\n",
       "      <td>0</td>\n",
       "      <td>1036</td>\n",
       "      <td>1</td>\n",
       "      <td>0</td>\n",
       "      <td>0</td>\n",
       "      <td>0</td>\n",
       "      <td>0</td>\n",
       "      <td>1</td>\n",
       "      <td>...</td>\n",
       "      <td>0</td>\n",
       "      <td>0</td>\n",
       "      <td>0</td>\n",
       "      <td>0</td>\n",
       "      <td>1</td>\n",
       "      <td>0</td>\n",
       "      <td>1</td>\n",
       "      <td>0</td>\n",
       "      <td>0</td>\n",
       "      <td>0</td>\n",
       "    </tr>\n",
       "    <tr>\n",
       "      <th>2</th>\n",
       "      <td>53.85</td>\n",
       "      <td>108.15</td>\n",
       "      <td>1</td>\n",
       "      <td>61</td>\n",
       "      <td>0</td>\n",
       "      <td>0</td>\n",
       "      <td>1</td>\n",
       "      <td>0</td>\n",
       "      <td>0</td>\n",
       "      <td>1</td>\n",
       "      <td>...</td>\n",
       "      <td>0</td>\n",
       "      <td>0</td>\n",
       "      <td>0</td>\n",
       "      <td>0</td>\n",
       "      <td>1</td>\n",
       "      <td>1</td>\n",
       "      <td>0</td>\n",
       "      <td>0</td>\n",
       "      <td>0</td>\n",
       "      <td>0</td>\n",
       "    </tr>\n",
       "    <tr>\n",
       "      <th>3</th>\n",
       "      <td>42.30</td>\n",
       "      <td>1840.75</td>\n",
       "      <td>0</td>\n",
       "      <td>1371</td>\n",
       "      <td>1</td>\n",
       "      <td>0</td>\n",
       "      <td>0</td>\n",
       "      <td>0</td>\n",
       "      <td>0</td>\n",
       "      <td>0</td>\n",
       "      <td>...</td>\n",
       "      <td>1</td>\n",
       "      <td>0</td>\n",
       "      <td>0</td>\n",
       "      <td>0</td>\n",
       "      <td>1</td>\n",
       "      <td>0</td>\n",
       "      <td>1</td>\n",
       "      <td>1</td>\n",
       "      <td>0</td>\n",
       "      <td>0</td>\n",
       "    </tr>\n",
       "    <tr>\n",
       "      <th>4</th>\n",
       "      <td>70.70</td>\n",
       "      <td>151.65</td>\n",
       "      <td>1</td>\n",
       "      <td>61</td>\n",
       "      <td>0</td>\n",
       "      <td>0</td>\n",
       "      <td>1</td>\n",
       "      <td>0</td>\n",
       "      <td>1</td>\n",
       "      <td>0</td>\n",
       "      <td>...</td>\n",
       "      <td>0</td>\n",
       "      <td>0</td>\n",
       "      <td>1</td>\n",
       "      <td>0</td>\n",
       "      <td>0</td>\n",
       "      <td>0</td>\n",
       "      <td>0</td>\n",
       "      <td>0</td>\n",
       "      <td>0</td>\n",
       "      <td>0</td>\n",
       "    </tr>\n",
       "  </tbody>\n",
       "</table>\n",
       "<p>5 rows × 24 columns</p>\n",
       "</div>"
      ],
      "text/plain": [
       "   MonthlyCharges  TotalCharges  churn  days  Type_One year  Type_Two year  \\\n",
       "0           29.85         29.85      0    31              0              0   \n",
       "1           56.95       1889.50      0  1036              1              0   \n",
       "2           53.85        108.15      1    61              0              0   \n",
       "3           42.30       1840.75      0  1371              1              0   \n",
       "4           70.70        151.65      1    61              0              0   \n",
       "\n",
       "   PaperlessBilling_Yes  PaymentMethod_Credit card (automatic)  \\\n",
       "0                     1                                      0   \n",
       "1                     0                                      0   \n",
       "2                     1                                      0   \n",
       "3                     0                                      0   \n",
       "4                     1                                      0   \n",
       "\n",
       "   PaymentMethod_Electronic check  PaymentMethod_Mailed check  ...  \\\n",
       "0                               1                           0  ...   \n",
       "1                               0                           1  ...   \n",
       "2                               0                           1  ...   \n",
       "3                               0                           0  ...   \n",
       "4                               1                           0  ...   \n",
       "\n",
       "   MultipleLines_NoService  MultipleLines_Yes  InternetService_Fiber optic  \\\n",
       "0                        1                  0                            0   \n",
       "1                        0                  0                            0   \n",
       "2                        0                  0                            0   \n",
       "3                        1                  0                            0   \n",
       "4                        0                  0                            1   \n",
       "\n",
       "   InternetService_No  OnlineSecurity_Yes  OnlineBackup_Yes  \\\n",
       "0                   0                   0                 1   \n",
       "1                   0                   1                 0   \n",
       "2                   0                   1                 1   \n",
       "3                   0                   1                 0   \n",
       "4                   0                   0                 0   \n",
       "\n",
       "   DeviceProtection_Yes  TechSupport_Yes  StreamingTV_Yes  StreamingMovies_Yes  \n",
       "0                     0                0                0                    0  \n",
       "1                     1                0                0                    0  \n",
       "2                     0                0                0                    0  \n",
       "3                     1                1                0                    0  \n",
       "4                     0                0                0                    0  \n",
       "\n",
       "[5 rows x 24 columns]"
      ]
     },
     "execution_count": 33,
     "metadata": {},
     "output_type": "execute_result"
    }
   ],
   "source": [
    "#cheching a sample of encoded data\n",
    "contract_full_encoded.head()"
   ]
  },
  {
   "cell_type": "markdown",
   "id": "621dbdb8",
   "metadata": {},
   "source": [
    "## Splitting the data"
   ]
  },
  {
   "cell_type": "markdown",
   "id": "29433cc9",
   "metadata": {},
   "source": [
    "Next, we will split the data (both encoded and the original) into train and test sets."
   ]
  },
  {
   "cell_type": "code",
   "execution_count": 34,
   "id": "63f0987a",
   "metadata": {},
   "outputs": [],
   "source": [
    "#splitting not encoded dataset\n",
    "features=contract_full.drop('churn', axis=1)\n",
    "target=contract_full['churn']\n",
    "features_train, features_test, target_train, target_test=train_test_split(features, target, test_size=0.25, random_state=12345)\n",
    "\n",
    "#splitting encoded dataset\n",
    "features=contract_full_encoded.drop('churn', axis=1)\n",
    "target=contract_full_encoded['churn']\n",
    "features_train_enc, features_test_enc, target_train_enc, target_test_enc=train_test_split(features, target, test_size=0.25, random_state=12345)"
   ]
  },
  {
   "cell_type": "code",
   "execution_count": 35,
   "id": "15c6b263",
   "metadata": {},
   "outputs": [
    {
     "name": "stdout",
     "output_type": "stream",
     "text": [
      "(5282, 18)\n",
      "(1761, 18)\n",
      "(5282,)\n",
      "(1761,)\n",
      "(5282, 23)\n",
      "(1761, 23)\n",
      "(5282,)\n",
      "(1761,)\n"
     ]
    }
   ],
   "source": [
    "#checking sizes of test and train sets\n",
    "print(features_train.shape)\n",
    "print(features_test.shape)\n",
    "print(target_train.shape)\n",
    "print(target_test.shape)\n",
    "print(features_train_enc.shape)\n",
    "print(features_test_enc.shape)\n",
    "print(target_train_enc.shape)\n",
    "print(target_test_enc.shape)"
   ]
  },
  {
   "cell_type": "markdown",
   "id": "d08b3e22",
   "metadata": {},
   "source": [
    "Sizes of the data sets look correct."
   ]
  },
  {
   "cell_type": "markdown",
   "id": "fff019c0",
   "metadata": {},
   "source": [
    "## Data upsampling"
   ]
  },
  {
   "cell_type": "markdown",
   "id": "d796a322",
   "metadata": {},
   "source": [
    "At this step, we will upsample the training sets to address the class imbalance. Since we need to perform upsampling for different datasets, we will define the function for upsampling to avoid repetition."
   ]
  },
  {
   "cell_type": "code",
   "execution_count": 36,
   "id": "7ad5863a",
   "metadata": {},
   "outputs": [],
   "source": [
    "#defining the function to upsample imbalanced class.\n",
    "def upsample(features, target, repeat):\n",
    "    \n",
    "#splitting feature and target into subset with different classes\n",
    "    features_zeros = features[target == 0]\n",
    "    features_ones = features[target == 1]\n",
    "    target_zeros = target[target == 0]\n",
    "    target_ones = target[target == 1]\n",
    "\n",
    "#upsampling imbalanced class and concatinating the classes back together\n",
    "    features_upsampled = pd.concat([features_zeros] + [features_ones] * repeat)\n",
    "    target_upsampled = pd.concat([target_zeros] + [target_ones] * repeat)\n",
    "\n",
    "#shuffling the sets\n",
    "    features_upsampled, target_upsampled = shuffle(\n",
    "        features_upsampled, target_upsampled, random_state=12345\n",
    "    )\n",
    "\n",
    "#returning the new balanced target and feature sets\n",
    "    return features_upsampled, target_upsampled"
   ]
  },
  {
   "cell_type": "code",
   "execution_count": 37,
   "id": "cbc00eab",
   "metadata": {},
   "outputs": [],
   "source": [
    "#using the function to upsample the training sets\n",
    "features_train, target_train = upsample(features_train, target_train, 3)\n",
    "features_train_enc, target_train_enc = upsample(features_train_enc, target_train_enc, 3)"
   ]
  },
  {
   "cell_type": "code",
   "execution_count": 38,
   "id": "f951c356",
   "metadata": {},
   "outputs": [
    {
     "name": "stdout",
     "output_type": "stream",
     "text": [
      "(8072, 18)\n",
      "(8072,)\n",
      "(8072, 23)\n",
      "(8072,)\n"
     ]
    }
   ],
   "source": [
    "#checking sizes of train sets after upsampling\n",
    "print(features_train.shape)\n",
    "print(target_train.shape)\n",
    "print(features_train_enc.shape)\n",
    "print(target_train_enc.shape)"
   ]
  },
  {
   "cell_type": "markdown",
   "id": "fa87ff39",
   "metadata": {},
   "source": [
    "The sizes of upsampled data sets look correct."
   ]
  },
  {
   "cell_type": "markdown",
   "id": "eaaa1db1",
   "metadata": {},
   "source": [
    "## Data scaling"
   ]
  },
  {
   "cell_type": "markdown",
   "id": "4c02b0b4",
   "metadata": {},
   "source": [
    "As a final step before models training, we will scale the data."
   ]
  },
  {
   "cell_type": "code",
   "execution_count": 39,
   "id": "2a287feb",
   "metadata": {},
   "outputs": [],
   "source": [
    "#scaling numerical features\n",
    "pd.options.mode.chained_assignment = None\n",
    "numeric = ['MonthlyCharges', 'TotalCharges', 'days']\n",
    "scaler = StandardScaler()\n",
    "\n",
    "#scaling not encoded dataset\n",
    "scaler.fit(features_train[numeric])\n",
    "features_train[numeric]=scaler.transform(features_train[numeric])\n",
    "features_test[numeric]=scaler.transform(features_test[numeric])\n",
    "\n",
    "#scaling encoded dataset\n",
    "scaler.fit(features_train_enc[numeric])\n",
    "features_train_enc[numeric]=scaler.transform(features_train_enc[numeric])\n",
    "features_test_enc[numeric]=scaler.transform(features_test_enc[numeric])"
   ]
  },
  {
   "cell_type": "code",
   "execution_count": 40,
   "id": "10ec0ceb",
   "metadata": {},
   "outputs": [
    {
     "data": {
      "text/html": [
       "<div>\n",
       "<style scoped>\n",
       "    .dataframe tbody tr th:only-of-type {\n",
       "        vertical-align: middle;\n",
       "    }\n",
       "\n",
       "    .dataframe tbody tr th {\n",
       "        vertical-align: top;\n",
       "    }\n",
       "\n",
       "    .dataframe thead th {\n",
       "        text-align: right;\n",
       "    }\n",
       "</style>\n",
       "<table border=\"1\" class=\"dataframe\">\n",
       "  <thead>\n",
       "    <tr style=\"text-align: right;\">\n",
       "      <th></th>\n",
       "      <th>Type</th>\n",
       "      <th>PaperlessBilling</th>\n",
       "      <th>PaymentMethod</th>\n",
       "      <th>MonthlyCharges</th>\n",
       "      <th>TotalCharges</th>\n",
       "      <th>days</th>\n",
       "      <th>gender</th>\n",
       "      <th>SeniorCitizen</th>\n",
       "      <th>Partner</th>\n",
       "      <th>Dependents</th>\n",
       "      <th>MultipleLines</th>\n",
       "      <th>InternetService</th>\n",
       "      <th>OnlineSecurity</th>\n",
       "      <th>OnlineBackup</th>\n",
       "      <th>DeviceProtection</th>\n",
       "      <th>TechSupport</th>\n",
       "      <th>StreamingTV</th>\n",
       "      <th>StreamingMovies</th>\n",
       "    </tr>\n",
       "  </thead>\n",
       "  <tbody>\n",
       "    <tr>\n",
       "      <th>498</th>\n",
       "      <td>Month-to-month</td>\n",
       "      <td>No</td>\n",
       "      <td>Electronic check</td>\n",
       "      <td>-1.384093</td>\n",
       "      <td>-0.874994</td>\n",
       "      <td>-0.943089</td>\n",
       "      <td>Female</td>\n",
       "      <td>1</td>\n",
       "      <td>No</td>\n",
       "      <td>No</td>\n",
       "      <td>NoService</td>\n",
       "      <td>DSL</td>\n",
       "      <td>No</td>\n",
       "      <td>Yes</td>\n",
       "      <td>No</td>\n",
       "      <td>No</td>\n",
       "      <td>No</td>\n",
       "      <td>No</td>\n",
       "    </tr>\n",
       "    <tr>\n",
       "      <th>6152</th>\n",
       "      <td>Month-to-month</td>\n",
       "      <td>Yes</td>\n",
       "      <td>Credit card (automatic)</td>\n",
       "      <td>0.870217</td>\n",
       "      <td>-0.213229</td>\n",
       "      <td>-0.482848</td>\n",
       "      <td>Female</td>\n",
       "      <td>0</td>\n",
       "      <td>No</td>\n",
       "      <td>No</td>\n",
       "      <td>No</td>\n",
       "      <td>Fiber optic</td>\n",
       "      <td>No</td>\n",
       "      <td>Yes</td>\n",
       "      <td>Yes</td>\n",
       "      <td>No</td>\n",
       "      <td>No</td>\n",
       "      <td>Yes</td>\n",
       "    </tr>\n",
       "    <tr>\n",
       "      <th>2391</th>\n",
       "      <td>Month-to-month</td>\n",
       "      <td>Yes</td>\n",
       "      <td>Electronic check</td>\n",
       "      <td>-0.311773</td>\n",
       "      <td>-0.734834</td>\n",
       "      <td>-0.816694</td>\n",
       "      <td>Male</td>\n",
       "      <td>0</td>\n",
       "      <td>No</td>\n",
       "      <td>No</td>\n",
       "      <td>Yes</td>\n",
       "      <td>DSL</td>\n",
       "      <td>No</td>\n",
       "      <td>No</td>\n",
       "      <td>No</td>\n",
       "      <td>No</td>\n",
       "      <td>Yes</td>\n",
       "      <td>No</td>\n",
       "    </tr>\n",
       "    <tr>\n",
       "      <th>1863</th>\n",
       "      <td>One year</td>\n",
       "      <td>No</td>\n",
       "      <td>Mailed check</td>\n",
       "      <td>-1.500725</td>\n",
       "      <td>-0.856669</td>\n",
       "      <td>-0.900499</td>\n",
       "      <td>Male</td>\n",
       "      <td>0</td>\n",
       "      <td>Yes</td>\n",
       "      <td>No</td>\n",
       "      <td>Yes</td>\n",
       "      <td>No</td>\n",
       "      <td>No</td>\n",
       "      <td>No</td>\n",
       "      <td>No</td>\n",
       "      <td>No</td>\n",
       "      <td>No</td>\n",
       "      <td>No</td>\n",
       "    </tr>\n",
       "    <tr>\n",
       "      <th>6596</th>\n",
       "      <td>One year</td>\n",
       "      <td>No</td>\n",
       "      <td>Electronic check</td>\n",
       "      <td>0.454171</td>\n",
       "      <td>1.618811</td>\n",
       "      <td>1.524353</td>\n",
       "      <td>Male</td>\n",
       "      <td>0</td>\n",
       "      <td>No</td>\n",
       "      <td>No</td>\n",
       "      <td>Yes</td>\n",
       "      <td>DSL</td>\n",
       "      <td>Yes</td>\n",
       "      <td>Yes</td>\n",
       "      <td>Yes</td>\n",
       "      <td>Yes</td>\n",
       "      <td>Yes</td>\n",
       "      <td>No</td>\n",
       "    </tr>\n",
       "  </tbody>\n",
       "</table>\n",
       "</div>"
      ],
      "text/plain": [
       "                Type PaperlessBilling            PaymentMethod  \\\n",
       "498   Month-to-month               No         Electronic check   \n",
       "6152  Month-to-month              Yes  Credit card (automatic)   \n",
       "2391  Month-to-month              Yes         Electronic check   \n",
       "1863        One year               No             Mailed check   \n",
       "6596        One year               No         Electronic check   \n",
       "\n",
       "      MonthlyCharges  TotalCharges      days  gender SeniorCitizen Partner  \\\n",
       "498        -1.384093     -0.874994 -0.943089  Female             1      No   \n",
       "6152        0.870217     -0.213229 -0.482848  Female             0      No   \n",
       "2391       -0.311773     -0.734834 -0.816694    Male             0      No   \n",
       "1863       -1.500725     -0.856669 -0.900499    Male             0     Yes   \n",
       "6596        0.454171      1.618811  1.524353    Male             0      No   \n",
       "\n",
       "     Dependents MultipleLines InternetService OnlineSecurity OnlineBackup  \\\n",
       "498          No     NoService             DSL             No          Yes   \n",
       "6152         No            No     Fiber optic             No          Yes   \n",
       "2391         No           Yes             DSL             No           No   \n",
       "1863         No           Yes              No             No           No   \n",
       "6596         No           Yes             DSL            Yes          Yes   \n",
       "\n",
       "     DeviceProtection TechSupport StreamingTV StreamingMovies  \n",
       "498                No          No          No              No  \n",
       "6152              Yes          No          No             Yes  \n",
       "2391               No          No         Yes              No  \n",
       "1863               No          No          No              No  \n",
       "6596              Yes         Yes         Yes              No  "
      ]
     },
     "execution_count": 40,
     "metadata": {},
     "output_type": "execute_result"
    }
   ],
   "source": [
    "#printing sample of features train scaled not encoded dataset\n",
    "features_train.head()"
   ]
  },
  {
   "cell_type": "code",
   "execution_count": 41,
   "id": "28caae25",
   "metadata": {},
   "outputs": [
    {
     "data": {
      "text/html": [
       "<div>\n",
       "<style scoped>\n",
       "    .dataframe tbody tr th:only-of-type {\n",
       "        vertical-align: middle;\n",
       "    }\n",
       "\n",
       "    .dataframe tbody tr th {\n",
       "        vertical-align: top;\n",
       "    }\n",
       "\n",
       "    .dataframe thead th {\n",
       "        text-align: right;\n",
       "    }\n",
       "</style>\n",
       "<table border=\"1\" class=\"dataframe\">\n",
       "  <thead>\n",
       "    <tr style=\"text-align: right;\">\n",
       "      <th></th>\n",
       "      <th>MonthlyCharges</th>\n",
       "      <th>TotalCharges</th>\n",
       "      <th>days</th>\n",
       "      <th>Type_One year</th>\n",
       "      <th>Type_Two year</th>\n",
       "      <th>PaperlessBilling_Yes</th>\n",
       "      <th>PaymentMethod_Credit card (automatic)</th>\n",
       "      <th>PaymentMethod_Electronic check</th>\n",
       "      <th>PaymentMethod_Mailed check</th>\n",
       "      <th>gender_Male</th>\n",
       "      <th>...</th>\n",
       "      <th>MultipleLines_NoService</th>\n",
       "      <th>MultipleLines_Yes</th>\n",
       "      <th>InternetService_Fiber optic</th>\n",
       "      <th>InternetService_No</th>\n",
       "      <th>OnlineSecurity_Yes</th>\n",
       "      <th>OnlineBackup_Yes</th>\n",
       "      <th>DeviceProtection_Yes</th>\n",
       "      <th>TechSupport_Yes</th>\n",
       "      <th>StreamingTV_Yes</th>\n",
       "      <th>StreamingMovies_Yes</th>\n",
       "    </tr>\n",
       "  </thead>\n",
       "  <tbody>\n",
       "    <tr>\n",
       "      <th>498</th>\n",
       "      <td>-1.384093</td>\n",
       "      <td>-0.874994</td>\n",
       "      <td>-0.943089</td>\n",
       "      <td>0</td>\n",
       "      <td>0</td>\n",
       "      <td>0</td>\n",
       "      <td>0</td>\n",
       "      <td>1</td>\n",
       "      <td>0</td>\n",
       "      <td>0</td>\n",
       "      <td>...</td>\n",
       "      <td>1</td>\n",
       "      <td>0</td>\n",
       "      <td>0</td>\n",
       "      <td>0</td>\n",
       "      <td>0</td>\n",
       "      <td>1</td>\n",
       "      <td>0</td>\n",
       "      <td>0</td>\n",
       "      <td>0</td>\n",
       "      <td>0</td>\n",
       "    </tr>\n",
       "    <tr>\n",
       "      <th>6152</th>\n",
       "      <td>0.870217</td>\n",
       "      <td>-0.213229</td>\n",
       "      <td>-0.482848</td>\n",
       "      <td>0</td>\n",
       "      <td>0</td>\n",
       "      <td>1</td>\n",
       "      <td>1</td>\n",
       "      <td>0</td>\n",
       "      <td>0</td>\n",
       "      <td>0</td>\n",
       "      <td>...</td>\n",
       "      <td>0</td>\n",
       "      <td>0</td>\n",
       "      <td>1</td>\n",
       "      <td>0</td>\n",
       "      <td>0</td>\n",
       "      <td>1</td>\n",
       "      <td>1</td>\n",
       "      <td>0</td>\n",
       "      <td>0</td>\n",
       "      <td>1</td>\n",
       "    </tr>\n",
       "    <tr>\n",
       "      <th>2391</th>\n",
       "      <td>-0.311773</td>\n",
       "      <td>-0.734834</td>\n",
       "      <td>-0.816694</td>\n",
       "      <td>0</td>\n",
       "      <td>0</td>\n",
       "      <td>1</td>\n",
       "      <td>0</td>\n",
       "      <td>1</td>\n",
       "      <td>0</td>\n",
       "      <td>1</td>\n",
       "      <td>...</td>\n",
       "      <td>0</td>\n",
       "      <td>1</td>\n",
       "      <td>0</td>\n",
       "      <td>0</td>\n",
       "      <td>0</td>\n",
       "      <td>0</td>\n",
       "      <td>0</td>\n",
       "      <td>0</td>\n",
       "      <td>1</td>\n",
       "      <td>0</td>\n",
       "    </tr>\n",
       "    <tr>\n",
       "      <th>1863</th>\n",
       "      <td>-1.500725</td>\n",
       "      <td>-0.856669</td>\n",
       "      <td>-0.900499</td>\n",
       "      <td>1</td>\n",
       "      <td>0</td>\n",
       "      <td>0</td>\n",
       "      <td>0</td>\n",
       "      <td>0</td>\n",
       "      <td>1</td>\n",
       "      <td>1</td>\n",
       "      <td>...</td>\n",
       "      <td>0</td>\n",
       "      <td>1</td>\n",
       "      <td>0</td>\n",
       "      <td>1</td>\n",
       "      <td>0</td>\n",
       "      <td>0</td>\n",
       "      <td>0</td>\n",
       "      <td>0</td>\n",
       "      <td>0</td>\n",
       "      <td>0</td>\n",
       "    </tr>\n",
       "    <tr>\n",
       "      <th>6596</th>\n",
       "      <td>0.454171</td>\n",
       "      <td>1.618811</td>\n",
       "      <td>1.524353</td>\n",
       "      <td>1</td>\n",
       "      <td>0</td>\n",
       "      <td>0</td>\n",
       "      <td>0</td>\n",
       "      <td>1</td>\n",
       "      <td>0</td>\n",
       "      <td>1</td>\n",
       "      <td>...</td>\n",
       "      <td>0</td>\n",
       "      <td>1</td>\n",
       "      <td>0</td>\n",
       "      <td>0</td>\n",
       "      <td>1</td>\n",
       "      <td>1</td>\n",
       "      <td>1</td>\n",
       "      <td>1</td>\n",
       "      <td>1</td>\n",
       "      <td>0</td>\n",
       "    </tr>\n",
       "  </tbody>\n",
       "</table>\n",
       "<p>5 rows × 23 columns</p>\n",
       "</div>"
      ],
      "text/plain": [
       "      MonthlyCharges  TotalCharges      days  Type_One year  Type_Two year  \\\n",
       "498        -1.384093     -0.874994 -0.943089              0              0   \n",
       "6152        0.870217     -0.213229 -0.482848              0              0   \n",
       "2391       -0.311773     -0.734834 -0.816694              0              0   \n",
       "1863       -1.500725     -0.856669 -0.900499              1              0   \n",
       "6596        0.454171      1.618811  1.524353              1              0   \n",
       "\n",
       "      PaperlessBilling_Yes  PaymentMethod_Credit card (automatic)  \\\n",
       "498                      0                                      0   \n",
       "6152                     1                                      1   \n",
       "2391                     1                                      0   \n",
       "1863                     0                                      0   \n",
       "6596                     0                                      0   \n",
       "\n",
       "      PaymentMethod_Electronic check  PaymentMethod_Mailed check  gender_Male  \\\n",
       "498                                1                           0            0   \n",
       "6152                               0                           0            0   \n",
       "2391                               1                           0            1   \n",
       "1863                               0                           1            1   \n",
       "6596                               1                           0            1   \n",
       "\n",
       "      ...  MultipleLines_NoService  MultipleLines_Yes  \\\n",
       "498   ...                        1                  0   \n",
       "6152  ...                        0                  0   \n",
       "2391  ...                        0                  1   \n",
       "1863  ...                        0                  1   \n",
       "6596  ...                        0                  1   \n",
       "\n",
       "      InternetService_Fiber optic  InternetService_No  OnlineSecurity_Yes  \\\n",
       "498                             0                   0                   0   \n",
       "6152                            1                   0                   0   \n",
       "2391                            0                   0                   0   \n",
       "1863                            0                   1                   0   \n",
       "6596                            0                   0                   1   \n",
       "\n",
       "      OnlineBackup_Yes  DeviceProtection_Yes  TechSupport_Yes  \\\n",
       "498                  1                     0                0   \n",
       "6152                 1                     1                0   \n",
       "2391                 0                     0                0   \n",
       "1863                 0                     0                0   \n",
       "6596                 1                     1                1   \n",
       "\n",
       "      StreamingTV_Yes  StreamingMovies_Yes  \n",
       "498                 0                    0  \n",
       "6152                0                    1  \n",
       "2391                1                    0  \n",
       "1863                0                    0  \n",
       "6596                1                    0  \n",
       "\n",
       "[5 rows x 23 columns]"
      ]
     },
     "execution_count": 41,
     "metadata": {},
     "output_type": "execute_result"
    }
   ],
   "source": [
    "#printing sample of features train scaled encoded dataset\n",
    "features_train_enc.head()"
   ]
  },
  {
   "cell_type": "markdown",
   "id": "6372842a",
   "metadata": {},
   "source": [
    "Now, we can proceed with models training."
   ]
  },
  {
   "cell_type": "markdown",
   "id": "91561134",
   "metadata": {},
   "source": [
    "## Training models"
   ]
  },
  {
   "cell_type": "markdown",
   "id": "f178a549",
   "metadata": {},
   "source": [
    "At this stage, we will train models with parameter tuning. And then we will select the model with the best score. We will use AUC-ROC as the primary metric. We also will use Accuracy as an additional metric for the final testing."
   ]
  },
  {
   "cell_type": "markdown",
   "id": "0b657656",
   "metadata": {},
   "source": [
    "### Dummy Regressor"
   ]
  },
  {
   "cell_type": "markdown",
   "id": "1deaf380",
   "metadata": {},
   "source": [
    "As a baseline, we will start with the DummyRegressor model that always predicts that customers will stay. Since the dummy model always returns only one class, the ROC AUC score cannot be calculated, so we will calculate only accuracy."
   ]
  },
  {
   "cell_type": "code",
   "execution_count": 42,
   "id": "51b53170",
   "metadata": {},
   "outputs": [
    {
     "data": {
      "text/plain": [
       "0.7308347529812607"
      ]
     },
     "execution_count": 42,
     "metadata": {},
     "output_type": "execute_result"
    }
   ],
   "source": [
    "#training dummy model that always predicts that customer will stay\n",
    "model_dummy=DummyRegressor(strategy='constant', constant=0)\n",
    "model_dummy.fit(features_test, target_test)\n",
    "pred=model_dummy.predict(features_test)\n",
    "\n",
    "#printing score of the dummy model\n",
    "#since dummy model always return nly one class ROC AUC score cannot be culculated, so we will culculate accuracy\n",
    "accuracy_score(pred, target_test)"
   ]
  },
  {
   "cell_type": "markdown",
   "id": "195bc5f9",
   "metadata": {},
   "source": [
    "As expected, the accuracy of our dummy model is equal to the percentage of the customers who stay with the company."
   ]
  },
  {
   "cell_type": "markdown",
   "id": "bc734992",
   "metadata": {},
   "source": [
    "### Decision tree"
   ]
  },
  {
   "cell_type": "markdown",
   "id": "8d0dfb0f",
   "metadata": {},
   "source": [
    "Next with will train different Decision tree models with max_depth parameters in a range from 2 to 50."
   ]
  },
  {
   "cell_type": "code",
   "execution_count": 43,
   "id": "400b9bf5",
   "metadata": {},
   "outputs": [
    {
     "name": "stdout",
     "output_type": "stream",
     "text": [
      "Best parameters: {'max_depth': 23, 'random_state': 12345}\n",
      "Best score: 0.9097626512268413\n"
     ]
    }
   ],
   "source": [
    "#training Decision Tree models and tuning parametrs\n",
    "model_dt = DecisionTreeClassifier()\n",
    "\n",
    "#defining parameters for grid search\n",
    "param={ 'max_depth': range(2,50),\n",
    "        'random_state': [12345]}\n",
    "\n",
    "#finding the best parameters and score\n",
    "grid=GridSearchCV(estimator=model_dt, param_grid=param, scoring='roc_auc', cv=5, n_jobs=-1, verbose=0)\n",
    "grid.fit(features_train_enc, target_train_enc)\n",
    "print(f'Best parameters: {grid.best_params_}')\n",
    "print(f'Best score: {grid.best_score_}')"
   ]
  },
  {
   "cell_type": "markdown",
   "id": "871bfb8c",
   "metadata": {},
   "source": [
    "The score of the model is quite good. Let's check if we can get a better result with other models."
   ]
  },
  {
   "cell_type": "markdown",
   "id": "eb96eeb0",
   "metadata": {},
   "source": [
    "### Random forest"
   ]
  },
  {
   "cell_type": "markdown",
   "id": "8237450f",
   "metadata": {},
   "source": [
    "For Random forest, with will use max_depth equal to the max_depth of the best Decision tree model. We also will tune the n_estimators parameter in the range from 2 to 50."
   ]
  },
  {
   "cell_type": "code",
   "execution_count": 44,
   "id": "cfea7020",
   "metadata": {},
   "outputs": [
    {
     "name": "stdout",
     "output_type": "stream",
     "text": [
      "Best parameters: {'max_depth': 23, 'n_estimators': 45, 'random_state': 12345}\n",
      "Best score: 0.9818548880701631\n"
     ]
    }
   ],
   "source": [
    "#training Decision Tree models and tuning parametrs\n",
    "model_rf = RandomForestClassifier()\n",
    "\n",
    "#defining parameters for grid search\n",
    "param={ 'max_depth': [23],\n",
    "        'n_estimators' : range(2,50),\n",
    "        'random_state': [12345]}\n",
    "\n",
    "#finding the best parameters and score\n",
    "grid=GridSearchCV(estimator=model_rf, param_grid=param, scoring='roc_auc', cv=5, n_jobs=-1, verbose=0)\n",
    "grid.fit(features_train_enc, target_train_enc)\n",
    "print(f'Best parameters: {grid.best_params_}')\n",
    "print(f'Best score: {grid.best_score_}')"
   ]
  },
  {
   "cell_type": "markdown",
   "id": "6ca72bf3",
   "metadata": {},
   "source": [
    "The score of the model is even better. Let's check if we can get even a better result with gradient boosting models."
   ]
  },
  {
   "cell_type": "markdown",
   "id": "4219ee68",
   "metadata": {},
   "source": [
    "### CatBoost"
   ]
  },
  {
   "cell_type": "markdown",
   "id": "ffe202a6",
   "metadata": {},
   "source": [
    "For the CatBoost model will tune learning_rate parameter."
   ]
  },
  {
   "cell_type": "code",
   "execution_count": 45,
   "id": "b0754b7e",
   "metadata": {},
   "outputs": [
    {
     "name": "stdout",
     "output_type": "stream",
     "text": [
      "Best parameters: {'learning_rate': 0.5, 'loss_function': 'Logloss', 'random_seed': 12345}\n",
      "Best score: 0.9823569224514577\n"
     ]
    }
   ],
   "source": [
    "#training CatBoost models and tuning parametrs\n",
    "model_cb=CatBoostClassifier()\n",
    "\n",
    "#defining features that needs to be encoded\n",
    "features_to_encode=['Type', 'PaperlessBilling', 'PaymentMethod', 'gender', 'SeniorCitizen', 'Partner', \n",
    "'Dependents', 'MultipleLines', 'InternetService', 'OnlineSecurity', 'OnlineBackup', 'DeviceProtection',\n",
    "'TechSupport', 'StreamingTV', 'StreamingMovies']\n",
    "\n",
    "#defining parameters for grid search\n",
    "param={ \n",
    "        'learning_rate': [0.01, 0.05, 0.1, 0.5],    \n",
    "        'loss_function': ['Logloss'],\n",
    "        'random_seed': [12345]}\n",
    "\n",
    "#finding the best parameters\n",
    "grid=GridSearchCV(estimator=model_cb, param_grid=param, scoring='roc_auc', cv=5, n_jobs=-1, verbose=0)\n",
    "grid.fit(features_train, target_train, cat_features=features_to_encode, verbose=False)\n",
    "print(f'Best parameters: {grid.best_params_}')\n",
    "print(f'Best score: {grid.best_score_}')"
   ]
  },
  {
   "cell_type": "markdown",
   "id": "f0e5c231",
   "metadata": {},
   "source": [
    "The score of this model is just slightly better than for the Random forest model, but we should not forget that Random forest models usually tend to overfitting."
   ]
  },
  {
   "cell_type": "markdown",
   "id": "593274ad",
   "metadata": {},
   "source": [
    "### LightGBM"
   ]
  },
  {
   "cell_type": "markdown",
   "id": "5abae564",
   "metadata": {},
   "source": [
    "Finally, we will train the LightGBM model. The same as for CatBoost, we will tune the learning_rate parameter."
   ]
  },
  {
   "cell_type": "code",
   "execution_count": 46,
   "id": "49beea38",
   "metadata": {},
   "outputs": [
    {
     "name": "stdout",
     "output_type": "stream",
     "text": [
      "Best parameters: {'learning_rate': 0.5, 'objective': 'binary', 'random_seed': 12345}\n",
      "Best score: 0.981058195405709\n"
     ]
    }
   ],
   "source": [
    "#training CatBoost models and tuning parametrs\n",
    "model_gbm=LGBMClassifier()\n",
    "\n",
    "#defining parameters for grid search\n",
    "param={ \n",
    "        'learning_rate': [0.01, 0.05, 0.1, 0.5],    \n",
    "        'objective': ['binary'],\n",
    "        'random_seed': [12345]}\n",
    "\n",
    "#finding the best parameters\n",
    "grid=GridSearchCV(estimator=model_gbm, param_grid=param, scoring='roc_auc', cv=5, n_jobs=-1, verbose=0)\n",
    "grid.fit(features_train, target_train)\n",
    "print(f'Best parameters: {grid.best_params_}')\n",
    "print(f'Best score: {grid.best_score_}')"
   ]
  },
  {
   "cell_type": "markdown",
   "id": "e6d6a2bb",
   "metadata": {},
   "source": [
    "The score is still high, but it is a bit lower than for the CatBoost model. So, we will use CatBoost model for our final training."
   ]
  },
  {
   "cell_type": "markdown",
   "id": "96c679f6",
   "metadata": {},
   "source": [
    "# Final testing"
   ]
  },
  {
   "cell_type": "markdown",
   "id": "08ec22d2",
   "metadata": {},
   "source": [
    "For our final training, we will use the CatBoost model with the parameters with which was received the best score."
   ]
  },
  {
   "cell_type": "code",
   "execution_count": 47,
   "id": "493a6569",
   "metadata": {},
   "outputs": [
    {
     "name": "stdout",
     "output_type": "stream",
     "text": [
      "AUC-ROC :  0.8972113212619541\n",
      "Accuracy:  0.8489494605337876\n"
     ]
    }
   ],
   "source": [
    "#testing CatBoost model on test dataset\n",
    "model_cb=CatBoostClassifier(learning_rate=0.5, loss_function='Logloss', random_seed=12345)\n",
    "model_cb.fit(features_train, target_train, cat_features=features_to_encode, verbose=False)\n",
    "pred=model_cb.predict(features_test)\n",
    "probability=model_cb.predict_proba(features_test)\n",
    "print('AUC-ROC : ', roc_auc_score(target_test, probability[:,1]))\n",
    "print('Accuracy: ', accuracy_score(pred, target_test))"
   ]
  },
  {
   "cell_type": "markdown",
   "id": "6249a732",
   "metadata": {},
   "source": [
    "For the test set, AUC-ROC metric is significantly lower than for the training set, but it is still high and exceeds the desired result. At the same time, the accuracy metric is much higher than the accuracy of our baseline model."
   ]
  },
  {
   "cell_type": "markdown",
   "id": "df4337f8",
   "metadata": {},
   "source": [
    "# Solution Report"
   ]
  },
  {
   "cell_type": "markdown",
   "id": "0a9586f3",
   "metadata": {},
   "source": [
    "In this task, we trained the machine learning model that forecasts the churn of clients for the telecom operator. The model was trained using historical clientele's personal data, including information about their plans and contracts.\n",
    "\n",
    "During the task we were tied to the following plan:\n",
    "1. Preparing the data.\n",
    "2. Conducting EDA.\n",
    "3. Preparing the data for learning. We will use the following machine learning models: Dummy Model as a baseline, Decision Tree, Random Forest, CatBoost, and LightGBM. For Decision Tree and Random Forest, we will encode the data with One-Hot Encoding. Next, we will split the data (both encoded and the original) into train and test sets. Then we will upsample the training sets to address the class imbalance. And finally, we will scale the data.\n",
    "4. Training models. We will train the above-mentioned models with parameter tuning. And then we will select the model with the best score.\n",
    "5. Testing the best model on the test data set.\n",
    "\n",
    "No significant difficulties were encountered during the task execution and all steps of the plan were performed as intended.\n",
    "\n",
    "In the first step, we overviewed and preprocessed the data. The original data was spread between 4 tables. It had some missing values, incorrect data types, and some unnecessary data. We addressed the missing values, fixed the data type, slightly enriched the data, and combined all tables into one table that contain all the necessary data.\n",
    "\n",
    "At the next step, we performed EDA. Based on the result of the EDA we were able to see a correlation between the target and feature attributes, so we concluded that we should be able to effectively predict with a machine learning model when a customer is about to leave. Some key findings based on EDA were:\n",
    "1. Percentage of the customers who left is less among those who use protection services and have technical support. Probably those customers are happier with their services.\n",
    "2. Percentage of the customers who left is higher among those who use streaming services. Probably this is due to higher charges. This assumption also can be confirmed by the observation that the monthly charges of those who left are higher.\n",
    "3. Percentage of the customers who left is higher among those who do not have partners and dependants. Probably those customers are more flexible and do not rely on others when changing the service.\n",
    "4. Percentage of the customers who left is significantly higher among senior citizens. Probably those customers have less income and may face difficulties with service payments.\n",
    "5. Percentage of the customers who left is significantly higher among those who use Fiber Optic internet service. Probably this is also due to the higher cost of this service in comparison with DSL.\n",
    "6. Percentage of the customers who left is significantly higher among those who have a month-to-month payment type. This is expected as this is more difficult to leave a yearly contract as this involves additional charges. In addition, payments on a yearly contract may be less.\n",
    "7. Those who left on average pay more than those who stay.\n",
    "\n",
    "Next, we trained models with parameter tuning. We used Dummy Model as a baseline and also trained Decision Tree, Random Forest, CatBoost, and LightGBM models. We used AUC-ROC as the primary metric. Our best AUC-ROC score - 0.9823569224514577 - was achieved with the CatBoost model with learning_rate = 0.5. This was just a bit higher than the AUC-ROC score for the Decision tree model, but we kept in mind that gradient boosting models are less tend to overfitting. \n",
    "\n",
    "Since CatBoost model showed the best result, we used it for our final training with the parameters with which the best score was received. For the test set, the AUC-ROC metric was significantly lower than for the training set, but still, it was high and exceeded the set by the customer desired result. At the same time, the accuracy metric was much higher than the accuracy of our baseline model.\n",
    "\n",
    "Therefore, we can conclude that the built model can effectively forecast the churn of clients and the proper actions can be taken in advance to retain the customers."
   ]
  }
 ],
 "metadata": {
  "kernelspec": {
   "display_name": "Python 3 (ipykernel)",
   "language": "python",
   "name": "python3"
  },
  "language_info": {
   "codemirror_mode": {
    "name": "ipython",
    "version": 3
   },
   "file_extension": ".py",
   "mimetype": "text/x-python",
   "name": "python",
   "nbconvert_exporter": "python",
   "pygments_lexer": "ipython3",
   "version": "3.9.7"
  },
  "toc": {
   "base_numbering": 1,
   "nav_menu": {},
   "number_sections": true,
   "sideBar": true,
   "skip_h1_title": true,
   "title_cell": "Table of Contents",
   "title_sidebar": "Contents",
   "toc_cell": false,
   "toc_position": {},
   "toc_section_display": true,
   "toc_window_display": false
  }
 },
 "nbformat": 4,
 "nbformat_minor": 5
}
